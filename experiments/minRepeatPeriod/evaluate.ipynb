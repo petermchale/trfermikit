{
 "cells": [
  {
   "cell_type": "code",
   "execution_count": 5,
   "metadata": {},
   "outputs": [],
   "source": [
    "import json\n",
    "import pandas as pd \n",
    "\n",
    "def add_performance(table, truvari_data, tool, calls):\n",
    "    table.append([\n",
    "            tool,\n",
    "            calls,\n",
    "            truvari_data['TP-base'],\n",
    "            truvari_data['FN'],\n",
    "            truvari_data['FP'], \n",
    "            truvari_data['TP-base'] + truvari_data['FN']\n",
    "    ])\n",
    "    \n",
    "def create_performance_table(output):\n",
    "    table = []\n",
    "    with open('{}/truvari-pacbio-manta/summary.txt'.format(output)) as json_file:\n",
    "        add_performance(table, json.load(json_file), 'manta', 'all')    \n",
    "    with open('{}/truvari-pacbio-trfermikit/summary.txt'.format(output)) as json_file:\n",
    "        add_performance(table, json.load(json_file), 'trfermikit', 'all')\n",
    "    with open('{}/truvari-pacbio-trfermikit.unitigSupport/summary.txt'.format(output)) as json_file:\n",
    "        add_performance(table, json.load(json_file), 'trfermikit', 'unitigSupport')\n",
    "    with open('{}/truvari-pacbio-trfermikit.unitigSupport.thinned/summary.txt'.format(output)) as json_file:\n",
    "        add_performance(table, json.load(json_file), 'trfermikit', 'unitigSupport.thinned')\n",
    "    return table \n",
    "\n",
    "def extract_value(df, calls, truvari_class):\n",
    "    return df[df['calls'] == calls][truvari_class].values[0]\n",
    "\n",
    "def total_TP_count(df, calls_1, calls_2):\n",
    "    return extract_value(df, calls_1, 'TP') + extract_value(df, calls_2, 'TP')\n",
    "\n",
    "def total_FP_count(df, calls_1, calls_2):\n",
    "    return extract_value(df, calls_1, 'FP') + extract_value(df, calls_2, 'FP')\n",
    "\n",
    "def sum_counts(df, columns, calls_1, calls_2): \n",
    "    return pd.DataFrame([[\n",
    "        'trfermikit', \n",
    "        '{} + {}'.format(calls_1, calls_2), \n",
    "        total_TP_count(df, calls_1, calls_2), \n",
    "        '.', \n",
    "        total_FP_count(df, calls_1, calls_2), \n",
    "        '.'\n",
    "    ]], columns=columns)\n",
    "    \n",
    "def visualize_performance_table(output):\n",
    "    from IPython.display import HTML\n",
    "    columns = ['tool', 'calls', 'TP', 'FN', 'FP', '# real events']\n",
    "    df_ = pd.DataFrame(\n",
    "        create_performance_table(output), \n",
    "        columns=columns\n",
    "    )\n",
    "    return HTML(df_.to_html(index=False))"
   ]
  },
  {
   "cell_type": "code",
   "execution_count": 6,
   "metadata": {},
   "outputs": [
    {
     "ename": "FileNotFoundError",
     "evalue": "[Errno 2] No such file or directory: 'data/minRepeatPeriod=0/truvari-pacbio-manta/summary.txt'",
     "output_type": "error",
     "traceback": [
      "\u001b[0;31m---------------------------------------------------------------------------\u001b[0m",
      "\u001b[0;31mFileNotFoundError\u001b[0m                         Traceback (most recent call last)",
      "\u001b[0;32m<ipython-input-6-58d56d1df1c4>\u001b[0m in \u001b[0;36m<module>\u001b[0;34m\u001b[0m\n\u001b[0;32m----> 1\u001b[0;31m \u001b[0mvisualize_performance_table\u001b[0m\u001b[0;34m(\u001b[0m\u001b[0;34m'data/minRepeatPeriod=0'\u001b[0m\u001b[0;34m)\u001b[0m\u001b[0;34m\u001b[0m\u001b[0;34m\u001b[0m\u001b[0m\n\u001b[0m",
      "\u001b[0;32m<ipython-input-5-aaae0bb57865>\u001b[0m in \u001b[0;36mvisualize_performance_table\u001b[0;34m(output)\u001b[0m\n\u001b[1;32m     47\u001b[0m     \u001b[0mcolumns\u001b[0m \u001b[0;34m=\u001b[0m \u001b[0;34m[\u001b[0m\u001b[0;34m'tool'\u001b[0m\u001b[0;34m,\u001b[0m \u001b[0;34m'calls'\u001b[0m\u001b[0;34m,\u001b[0m \u001b[0;34m'TP'\u001b[0m\u001b[0;34m,\u001b[0m \u001b[0;34m'FN'\u001b[0m\u001b[0;34m,\u001b[0m \u001b[0;34m'FP'\u001b[0m\u001b[0;34m,\u001b[0m \u001b[0;34m'# real events'\u001b[0m\u001b[0;34m]\u001b[0m\u001b[0;34m\u001b[0m\u001b[0;34m\u001b[0m\u001b[0m\n\u001b[1;32m     48\u001b[0m     df_ = pd.DataFrame(\n\u001b[0;32m---> 49\u001b[0;31m         \u001b[0mcreate_performance_table\u001b[0m\u001b[0;34m(\u001b[0m\u001b[0moutput\u001b[0m\u001b[0;34m)\u001b[0m\u001b[0;34m,\u001b[0m\u001b[0;34m\u001b[0m\u001b[0;34m\u001b[0m\u001b[0m\n\u001b[0m\u001b[1;32m     50\u001b[0m         \u001b[0mcolumns\u001b[0m\u001b[0;34m=\u001b[0m\u001b[0mcolumns\u001b[0m\u001b[0;34m\u001b[0m\u001b[0;34m\u001b[0m\u001b[0m\n\u001b[1;32m     51\u001b[0m     )\n",
      "\u001b[0;32m<ipython-input-5-aaae0bb57865>\u001b[0m in \u001b[0;36mcreate_performance_table\u001b[0;34m(output)\u001b[0m\n\u001b[1;32m     14\u001b[0m \u001b[0;32mdef\u001b[0m \u001b[0mcreate_performance_table\u001b[0m\u001b[0;34m(\u001b[0m\u001b[0moutput\u001b[0m\u001b[0;34m)\u001b[0m\u001b[0;34m:\u001b[0m\u001b[0;34m\u001b[0m\u001b[0;34m\u001b[0m\u001b[0m\n\u001b[1;32m     15\u001b[0m     \u001b[0mtable\u001b[0m \u001b[0;34m=\u001b[0m \u001b[0;34m[\u001b[0m\u001b[0;34m]\u001b[0m\u001b[0;34m\u001b[0m\u001b[0;34m\u001b[0m\u001b[0m\n\u001b[0;32m---> 16\u001b[0;31m     \u001b[0;32mwith\u001b[0m \u001b[0mopen\u001b[0m\u001b[0;34m(\u001b[0m\u001b[0;34m'{}/truvari-pacbio-manta/summary.txt'\u001b[0m\u001b[0;34m.\u001b[0m\u001b[0mformat\u001b[0m\u001b[0;34m(\u001b[0m\u001b[0moutput\u001b[0m\u001b[0;34m)\u001b[0m\u001b[0;34m)\u001b[0m \u001b[0;32mas\u001b[0m \u001b[0mjson_file\u001b[0m\u001b[0;34m:\u001b[0m\u001b[0;34m\u001b[0m\u001b[0;34m\u001b[0m\u001b[0m\n\u001b[0m\u001b[1;32m     17\u001b[0m         \u001b[0madd_performance\u001b[0m\u001b[0;34m(\u001b[0m\u001b[0mtable\u001b[0m\u001b[0;34m,\u001b[0m \u001b[0mjson\u001b[0m\u001b[0;34m.\u001b[0m\u001b[0mload\u001b[0m\u001b[0;34m(\u001b[0m\u001b[0mjson_file\u001b[0m\u001b[0;34m)\u001b[0m\u001b[0;34m,\u001b[0m \u001b[0;34m'manta'\u001b[0m\u001b[0;34m,\u001b[0m \u001b[0;34m'all'\u001b[0m\u001b[0;34m)\u001b[0m\u001b[0;34m\u001b[0m\u001b[0;34m\u001b[0m\u001b[0m\n\u001b[1;32m     18\u001b[0m     \u001b[0;32mwith\u001b[0m \u001b[0mopen\u001b[0m\u001b[0;34m(\u001b[0m\u001b[0;34m'{}/truvari-pacbio-trfermikit/summary.txt'\u001b[0m\u001b[0;34m.\u001b[0m\u001b[0mformat\u001b[0m\u001b[0;34m(\u001b[0m\u001b[0moutput\u001b[0m\u001b[0;34m)\u001b[0m\u001b[0;34m)\u001b[0m \u001b[0;32mas\u001b[0m \u001b[0mjson_file\u001b[0m\u001b[0;34m:\u001b[0m\u001b[0;34m\u001b[0m\u001b[0;34m\u001b[0m\u001b[0m\n",
      "\u001b[0;31mFileNotFoundError\u001b[0m: [Errno 2] No such file or directory: 'data/minRepeatPeriod=0/truvari-pacbio-manta/summary.txt'"
     ]
    }
   ],
   "source": [
    "visualize_performance_table('data/minRepeatPeriod=0')"
   ]
  },
  {
   "cell_type": "code",
   "execution_count": null,
   "metadata": {},
   "outputs": [],
   "source": [
    "visualize_performance_table('data/minRepeatPeriod=6')"
   ]
  },
  {
   "cell_type": "markdown",
   "metadata": {},
   "source": [
    "The table above reports poor performance of `manta` in tandem-repeat regions. This has been found by others; see panels B and C at https://www.nature.com/articles/s41467-019-11146-4/figures/2 \n",
    "\n",
    "After filtering `trfermikit` calls (see table), `trfermikit` performs comparably to `manta`.\n",
    "\n",
    "[Technical Note: applying the cluster-thinning filter eliminates TPs primarily because there are clusters harboring more than one event, e.g., the pacbio contig is “fragmented”. ]"
   ]
  },
  {
   "cell_type": "markdown",
   "metadata": {},
   "source": [
    "## `trfermikit` picks up a significant number of calls missed by `manta` "
   ]
  },
  {
   "cell_type": "markdown",
   "metadata": {},
   "source": [
    "`trfermikit` picks up the majority of `manta` TPs while also discovering a significant number of pacbio events that `manta` missed:  "
   ]
  },
  {
   "cell_type": "code",
   "execution_count": null,
   "metadata": {},
   "outputs": [],
   "source": [
    "def list_to_value(list_): \n",
    "    value, = list_\n",
    "    return int(value)\n",
    "\n",
    "overlap_fraction = 0.9\n",
    "\n",
    "def tr_fermikit_TP_intersect_manta(manta_callset): \n",
    "    list_ = ! ../bin/bedtools intersect -u -wb -f $overlap_fraction -r \\\n",
    "      -a $output/truvari-pacbio-manta/$manta_callset\".vcf\" \\\n",
    "      -b $output/truvari-pacbio-trfermikit.unitigSupport.thinned/tp-base.vcf \\\n",
    "      | wc -l \n",
    "    return list_to_value(list_)\n",
    "\n",
    "def tr_fermikit_TP_less_manta(manta_callset):\n",
    "    list_ = ! ../bin/bedtools subtract -A -f $overlap_fraction -r \\\n",
    "      -a $output/truvari-pacbio-trfermikit.unitigSupport.thinned/tp-base.vcf \\\n",
    "      -b $output/truvari-pacbio-manta/$manta_callset\".vcf\" \\\n",
    "      | wc -l\n",
    "    return list_to_value(list_)\n",
    "\n",
    "def manta_less_tr_fermikit_TP(manta_callset):\n",
    "    list_ = ! ../bin/bedtools subtract -A -f $overlap_fraction -r \\\n",
    "      -a $output/truvari-pacbio-manta/$manta_callset\".vcf\" \\\n",
    "      -b $output/truvari-pacbio-trfermikit.unitigSupport.thinned/tp-base.vcf \\\n",
    "    | wc -l \n",
    "    return list_to_value(list_)\n",
    "\n",
    "def check(manta_callset): \n",
    "    if manta_callset != 'fn' and manta_callset != 'tp-base': \n",
    "        raise Exception\n",
    "    else: \n",
    "        pass\n",
    "        \n",
    "# https://towardsdatascience.com/how-to-create-and-beautify-venn-diagrams-in-python-331129bd4ed3\n",
    "from matplotlib_venn import venn2\n",
    "\n",
    "def tr_fermikit_manta_venn2(manta_callset, manta_label):\n",
    "    check(manta_callset)\n",
    "    vd = venn2(\n",
    "        subsets = {\n",
    "            '10': tr_fermikit_TP_less_manta(manta_callset),\n",
    "            '11': tr_fermikit_TP_intersect_manta(manta_callset),\n",
    "            '01': manta_less_tr_fermikit_TP(manta_callset)\n",
    "        }, \n",
    "        set_labels = ('trfermikit TP', manta_label))\n",
    "    return vd\n",
    "\n",
    "_ = tr_fermikit_manta_venn2(manta_callset='tp-base', manta_label='manta TP')"
   ]
  },
  {
   "cell_type": "code",
   "execution_count": null,
   "metadata": {},
   "outputs": [],
   "source": [
    "_ = tr_fermikit_manta_venn2(manta_callset='fn', manta_label='manta FN')"
   ]
  },
  {
   "cell_type": "code",
   "execution_count": null,
   "metadata": {},
   "outputs": [],
   "source": []
  }
 ],
 "metadata": {
  "kernelspec": {
   "display_name": "Python 3",
   "language": "python",
   "name": "python3"
  },
  "language_info": {
   "codemirror_mode": {
    "name": "ipython",
    "version": 3
   },
   "file_extension": ".py",
   "mimetype": "text/x-python",
   "name": "python",
   "nbconvert_exporter": "python",
   "pygments_lexer": "ipython3",
   "version": "3.8.6"
  },
  "toc": {
   "base_numbering": 1,
   "nav_menu": {},
   "number_sections": true,
   "sideBar": true,
   "skip_h1_title": false,
   "title_cell": "Table of Contents",
   "title_sidebar": "Contents",
   "toc_cell": false,
   "toc_position": {},
   "toc_section_display": true,
   "toc_window_display": false
  }
 },
 "nbformat": 4,
 "nbformat_minor": 4
}
