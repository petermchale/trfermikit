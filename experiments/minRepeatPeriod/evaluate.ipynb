{
 "cells": [
  {
   "cell_type": "markdown",
   "metadata": {},
   "source": [
    "# Fixed experimental parameters"
   ]
  },
  {
   "cell_type": "code",
   "execution_count": 1,
   "metadata": {},
   "outputs": [
    {
     "name": "stdout",
     "output_type": "stream",
     "text": [
      "\u001b[1;39m{\r\n",
      "  \u001b[0m\u001b[34;1m\"makeRegions\"\u001b[0m\u001b[1;39m: \u001b[0m\u001b[1;39m{\r\n",
      "    \u001b[0m\u001b[34;1m\"slop\"\u001b[0m\u001b[1;39m: \u001b[0m\u001b[0;32m\"250\"\u001b[0m\u001b[1;39m,\r\n",
      "    \u001b[0m\u001b[34;1m\"minCoverage\"\u001b[0m\u001b[1;39m: \u001b[0m\u001b[0;32m\"0\"\u001b[0m\u001b[1;39m,\r\n",
      "    \u001b[0m\u001b[34;1m\"maxCoverage\"\u001b[0m\u001b[1;39m: \u001b[0m\u001b[0;32m\"200\"\u001b[0m\u001b[1;39m,\r\n",
      "    \u001b[0m\u001b[34;1m\"maxRegionLength\"\u001b[0m\u001b[1;39m: \u001b[0m\u001b[0;32m\"100000\"\u001b[0m\u001b[1;39m,\r\n",
      "    \u001b[0m\u001b[34;1m\"minRepeatLength\"\u001b[0m\u001b[1;39m: \u001b[0m\u001b[0;32m\"100\"\u001b[0m\u001b[1;39m,\r\n",
      "    \u001b[0m\u001b[34;1m\"functionalRegions\"\u001b[0m\u001b[1;39m: \u001b[0m\u001b[0;32m\"none\"\u001b[0m\u001b[1;39m,\r\n",
      "    \u001b[0m\u001b[34;1m\"genomeBuild\"\u001b[0m\u001b[1;39m: \u001b[0m\u001b[0;32m\"hg38\"\u001b[0m\u001b[1;39m,\r\n",
      "    \u001b[0m\u001b[34;1m\"overlappedFunctionalRegions\"\u001b[0m\u001b[1;39m: \u001b[0m\u001b[0;32m\"false\"\u001b[0m\u001b[1;39m,\r\n",
      "    \u001b[0m\u001b[34;1m\"ucscTable\"\u001b[0m\u001b[1;39m: \u001b[0m\u001b[0;32m\"simpleRepeat\"\u001b[0m\u001b[1;39m\r\n",
      "  \u001b[1;39m}\u001b[0m\u001b[1;39m,\r\n",
      "  \u001b[0m\u001b[34;1m\"makeCalls\"\u001b[0m\u001b[1;39m: \u001b[0m\u001b[1;39m{\r\n",
      "    \u001b[0m\u001b[34;1m\"singleBaseMatchReward\"\u001b[0m\u001b[1;39m: \u001b[0m\u001b[0;32m\"10\"\u001b[0m\u001b[1;39m,\r\n",
      "    \u001b[0m\u001b[34;1m\"singleBaseMismatchPenalty\"\u001b[0m\u001b[1;39m: \u001b[0m\u001b[0;32m\"12\"\u001b[0m\u001b[1;39m,\r\n",
      "    \u001b[0m\u001b[34;1m\"gapOpenPenalties\"\u001b[0m\u001b[1;39m: \u001b[0m\u001b[0;32m\"6,26\"\u001b[0m\u001b[1;39m,\r\n",
      "    \u001b[0m\u001b[34;1m\"gapExtensionPenalties\"\u001b[0m\u001b[1;39m: \u001b[0m\u001b[0;32m\"1,0\"\u001b[0m\u001b[1;39m,\r\n",
      "    \u001b[0m\u001b[34;1m\"minUnitigMappingQuality\"\u001b[0m\u001b[1;39m: \u001b[0m\u001b[0;32m\"1\"\u001b[0m\u001b[1;39m\r\n",
      "  \u001b[1;39m}\u001b[0m\u001b[1;39m,\r\n",
      "  \u001b[0m\u001b[34;1m\"filterCalls\"\u001b[0m\u001b[1;39m: \u001b[0m\u001b[1;39m{\r\n",
      "    \u001b[0m\u001b[34;1m\"maxIntraClusterDistance\"\u001b[0m\u001b[1;39m: \u001b[0m\u001b[0;32m\"500\"\u001b[0m\u001b[1;39m,\r\n",
      "    \u001b[0m\u001b[34;1m\"minSVSize\"\u001b[0m\u001b[1;39m: \u001b[0m\u001b[0;32m\"50\"\u001b[0m\u001b[1;39m,\r\n",
      "    \u001b[0m\u001b[34;1m\"minUnitigMappingQuality\"\u001b[0m\u001b[1;39m: \u001b[0m\u001b[0;32m\"0\"\u001b[0m\u001b[1;39m,\r\n",
      "    \u001b[0m\u001b[34;1m\"minUnitigBlockLength\"\u001b[0m\u001b[1;39m: \u001b[0m\u001b[0;32m\"25\"\u001b[0m\u001b[1;39m,\r\n",
      "    \u001b[0m\u001b[34;1m\"svtype\"\u001b[0m\u001b[1;39m: \u001b[0m\u001b[0;32m\"DEL\"\u001b[0m\u001b[1;39m\r\n",
      "  \u001b[1;39m}\u001b[0m\u001b[1;39m,\r\n",
      "  \u001b[0m\u001b[34;1m\"general\"\u001b[0m\u001b[1;39m: \u001b[0m\u001b[1;39m{\r\n",
      "    \u001b[0m\u001b[34;1m\"reference\"\u001b[0m\u001b[1;39m: \u001b[0m\u001b[0;32m\"/scratch/ucgd/lustre-work/quinlan/u6018199/chaisson_2019/reference/GRCh38_full_analysis_set_plus_decoy_hla\"\u001b[0m\u001b[1;39m,\r\n",
      "    \u001b[0m\u001b[34;1m\"numberThreads\"\u001b[0m\u001b[1;39m: \u001b[0m\u001b[0;32m\"16\"\u001b[0m\u001b[1;39m,\r\n",
      "    \u001b[0m\u001b[34;1m\"alignments\"\u001b[0m\u001b[1;39m: \u001b[0m\u001b[0;32m\"/scratch/ucgd/lustre-work/quinlan/u6018199/chaisson_2019/illumina_crams/ftp.1000genomes.ebi.ac.uk/vol1/ftp/data_collections/hgsv_sv_discovery/data/CHS/HG00514/high_cov_alignment/HG00514.alt_bwamem_GRCh38DH.20150715.CHS.high_coverage\"\u001b[0m\u001b[1;39m\r\n",
      "  \u001b[1;39m}\u001b[0m\u001b[1;39m\r\n",
      "\u001b[1;39m}\u001b[0m\r\n"
     ]
    }
   ],
   "source": [
    "root = \"/scratch/ucgd/lustre-work/quinlan/u6018199/chaisson_2019/analysis/locally_assemble_short_reads/trfermikit\"\n",
    "\n",
    "def print_fixed_parameters(config):\n",
    "    ! $root/bin/jq 'del(.makeRegions.minRepeatPeriod)' $config\n",
    "    \n",
    "print_fixed_parameters('data/minRepeatPeriod=0/config.json')"
   ]
  },
  {
   "cell_type": "markdown",
   "metadata": {},
   "source": [
    "# Performance in VNTRs"
   ]
  },
  {
   "cell_type": "code",
   "execution_count": 2,
   "metadata": {},
   "outputs": [],
   "source": [
    "import json\n",
    "import pandas as pd \n",
    "\n",
    "def add_performance(table, truvari_data, tool, calls):\n",
    "    table.append([\n",
    "        tool,\n",
    "        calls,\n",
    "        truvari_data['TP-base'],\n",
    "        truvari_data['FN'],\n",
    "        truvari_data['FP'], \n",
    "        truvari_data['TP-base'] + truvari_data['FN']\n",
    "    ])\n",
    "    \n",
    "def create_performance_table(output):\n",
    "    table = []\n",
    "    with open('{}/truvari-pacbio-manta/summary.txt'.format(output)) as json_file:\n",
    "        add_performance(table, json.load(json_file), 'manta', 'all')    \n",
    "    with open('{}/truvari-pacbio-trfermikit/summary.txt'.format(output)) as json_file:\n",
    "        add_performance(table, json.load(json_file), 'trfermikit', 'all')\n",
    "    with open('{}/truvari-pacbio-trfermikit.unitigSupport/summary.txt'.format(output)) as json_file:\n",
    "        add_performance(table, json.load(json_file), 'trfermikit', 'unitigSupport')\n",
    "    with open('{}/truvari-pacbio-trfermikit.unitigSupport.thinned/summary.txt'.format(output)) as json_file:\n",
    "        add_performance(table, json.load(json_file), 'trfermikit', 'unitigSupport.thinned')\n",
    "    return table \n",
    "\n",
    "def visualize_performance_table(output):\n",
    "    from IPython.display import HTML\n",
    "    columns = ['tool', 'calls', 'TP', 'FN', 'FP', '# real events']\n",
    "    df_ = pd.DataFrame(\n",
    "        create_performance_table(output), \n",
    "        columns=columns\n",
    "    )\n",
    "    return HTML(df_.to_html(index=False))"
   ]
  },
  {
   "cell_type": "code",
   "execution_count": 3,
   "metadata": {},
   "outputs": [
    {
     "data": {
      "text/html": [
       "<table border=\"1\" class=\"dataframe\">\n",
       "  <thead>\n",
       "    <tr style=\"text-align: right;\">\n",
       "      <th>tool</th>\n",
       "      <th>calls</th>\n",
       "      <th>TP</th>\n",
       "      <th>FN</th>\n",
       "      <th>FP</th>\n",
       "      <th># real events</th>\n",
       "    </tr>\n",
       "  </thead>\n",
       "  <tbody>\n",
       "    <tr>\n",
       "      <td>manta</td>\n",
       "      <td>all</td>\n",
       "      <td>1218</td>\n",
       "      <td>3659</td>\n",
       "      <td>1127</td>\n",
       "      <td>4877</td>\n",
       "    </tr>\n",
       "    <tr>\n",
       "      <td>trfermikit</td>\n",
       "      <td>all</td>\n",
       "      <td>1944</td>\n",
       "      <td>2933</td>\n",
       "      <td>7653</td>\n",
       "      <td>4877</td>\n",
       "    </tr>\n",
       "    <tr>\n",
       "      <td>trfermikit</td>\n",
       "      <td>unitigSupport</td>\n",
       "      <td>1720</td>\n",
       "      <td>3157</td>\n",
       "      <td>2794</td>\n",
       "      <td>4877</td>\n",
       "    </tr>\n",
       "    <tr>\n",
       "      <td>trfermikit</td>\n",
       "      <td>unitigSupport.thinned</td>\n",
       "      <td>1607</td>\n",
       "      <td>3270</td>\n",
       "      <td>1868</td>\n",
       "      <td>4877</td>\n",
       "    </tr>\n",
       "  </tbody>\n",
       "</table>"
      ],
      "text/plain": [
       "<IPython.core.display.HTML object>"
      ]
     },
     "execution_count": 3,
     "metadata": {},
     "output_type": "execute_result"
    }
   ],
   "source": [
    "visualize_performance_table('data/minRepeatPeriod=0')"
   ]
  },
  {
   "cell_type": "code",
   "execution_count": 4,
   "metadata": {},
   "outputs": [
    {
     "data": {
      "text/html": [
       "<table border=\"1\" class=\"dataframe\">\n",
       "  <thead>\n",
       "    <tr style=\"text-align: right;\">\n",
       "      <th>tool</th>\n",
       "      <th>calls</th>\n",
       "      <th>TP</th>\n",
       "      <th>FN</th>\n",
       "      <th>FP</th>\n",
       "      <th># real events</th>\n",
       "    </tr>\n",
       "  </thead>\n",
       "  <tbody>\n",
       "    <tr>\n",
       "      <td>manta</td>\n",
       "      <td>all</td>\n",
       "      <td>1077</td>\n",
       "      <td>3501</td>\n",
       "      <td>1020</td>\n",
       "      <td>4578</td>\n",
       "    </tr>\n",
       "    <tr>\n",
       "      <td>trfermikit</td>\n",
       "      <td>all</td>\n",
       "      <td>1784</td>\n",
       "      <td>2794</td>\n",
       "      <td>6854</td>\n",
       "      <td>4578</td>\n",
       "    </tr>\n",
       "    <tr>\n",
       "      <td>trfermikit</td>\n",
       "      <td>unitigSupport</td>\n",
       "      <td>1580</td>\n",
       "      <td>2998</td>\n",
       "      <td>2583</td>\n",
       "      <td>4578</td>\n",
       "    </tr>\n",
       "    <tr>\n",
       "      <td>trfermikit</td>\n",
       "      <td>unitigSupport.thinned</td>\n",
       "      <td>1470</td>\n",
       "      <td>3108</td>\n",
       "      <td>1715</td>\n",
       "      <td>4578</td>\n",
       "    </tr>\n",
       "  </tbody>\n",
       "</table>"
      ],
      "text/plain": [
       "<IPython.core.display.HTML object>"
      ]
     },
     "execution_count": 4,
     "metadata": {},
     "output_type": "execute_result"
    }
   ],
   "source": [
    "visualize_performance_table('data/minRepeatPeriod=6')"
   ]
  },
  {
   "cell_type": "markdown",
   "metadata": {},
   "source": [
    "There are a number of observations: \n",
    "\n",
    "* The tables report poor performance of `manta` in tandem-repeat regions. This has been found by others; see panels B and C at https://www.nature.com/articles/s41467-019-11146-4/figures/2 \n",
    "\n",
    "* After filtering `trfermikit` calls (the \"calls\" column of the tables), `trfermikit` performs comparably to `manta`.\n",
    "\n",
    "* The vast majority of the events that occur in tandem repeats, occur in tandem repeats with repeat units larger than 6bp. **We will confine future analyses to VNTRs (period > 6bp)**, and leave the discovery of variants in STRs to established STR callers. "
   ]
  },
  {
   "cell_type": "markdown",
   "metadata": {},
   "source": [
    "## `trfermikit` picks up a significant number of calls missed by `manta` "
   ]
  },
  {
   "cell_type": "markdown",
   "metadata": {},
   "source": [
    "`trfermikit` picks up the majority of `manta` TPs while also discovering a significant number of pacbio events that `manta` missed:  "
   ]
  },
  {
   "cell_type": "code",
   "execution_count": 5,
   "metadata": {},
   "outputs": [
    {
     "data": {
      "image/png": "[encoded data removed]",
      "text/plain": [
       "<Figure size 432x288 with 1 Axes>"
      ]
     },
     "metadata": {},
     "output_type": "display_data"
    }
   ],
   "source": [
    "def list_to_value(list_): \n",
    "    value, = list_\n",
    "    return int(value)\n",
    "\n",
    "overlap_fraction = 0.9\n",
    "\n",
    "def tr_fermikit_TP_intersect_manta(manta_callset, output): \n",
    "    list_ = ! $root/bin/bedtools intersect -u -wb -f $overlap_fraction -r \\\n",
    "      -a $output/truvari-pacbio-manta/$manta_callset\".vcf\" \\\n",
    "      -b $output/truvari-pacbio-trfermikit.unitigSupport.thinned/tp-base.vcf \\\n",
    "      | wc -l \n",
    "    return list_to_value(list_)\n",
    "\n",
    "def tr_fermikit_TP_less_manta(manta_callset, output):\n",
    "    list_ = ! $root/bin/bedtools subtract -A -f $overlap_fraction -r \\\n",
    "      -a $output/truvari-pacbio-trfermikit.unitigSupport.thinned/tp-base.vcf \\\n",
    "      -b $output/truvari-pacbio-manta/$manta_callset\".vcf\" \\\n",
    "      | wc -l\n",
    "    return list_to_value(list_)\n",
    "\n",
    "def manta_less_tr_fermikit_TP(manta_callset, output):\n",
    "    list_ = ! $root/bin/bedtools subtract -A -f $overlap_fraction -r \\\n",
    "      -a $output/truvari-pacbio-manta/$manta_callset\".vcf\" \\\n",
    "      -b $output/truvari-pacbio-trfermikit.unitigSupport.thinned/tp-base.vcf \\\n",
    "    | wc -l \n",
    "    return list_to_value(list_)\n",
    "\n",
    "def check(manta_callset): \n",
    "    if manta_callset != 'fn' and manta_callset != 'tp-base': \n",
    "        raise Exception\n",
    "    else: \n",
    "        pass\n",
    "        \n",
    "# https://towardsdatascience.com/how-to-create-and-beautify-venn-diagrams-in-python-331129bd4ed3\n",
    "from matplotlib_venn import venn2\n",
    "\n",
    "def tr_fermikit_manta_venn2(\n",
    "        manta_callset, \n",
    "        manta_label,\n",
    "        output='data/minRepeatPeriod=6'\n",
    "    ):\n",
    "    check(manta_callset)\n",
    "    vd = venn2(\n",
    "        subsets = {\n",
    "            '10': tr_fermikit_TP_less_manta(manta_callset, output),\n",
    "            '11': tr_fermikit_TP_intersect_manta(manta_callset, output),\n",
    "            '01': manta_less_tr_fermikit_TP(manta_callset, output)\n",
    "        }, \n",
    "        set_labels = ('trfermikit TP', manta_label))\n",
    "    return vd\n",
    "\n",
    "_ = tr_fermikit_manta_venn2(manta_callset='tp-base', manta_label='manta TP')"
   ]
  },
  {
   "cell_type": "code",
   "execution_count": 6,
   "metadata": {},
   "outputs": [
    {
     "data": {
      "image/png": "[encoded data removed]",
      "text/plain": [
       "<Figure size 432x288 with 1 Axes>"
      ]
     },
     "metadata": {},
     "output_type": "display_data"
    }
   ],
   "source": [
    "_ = tr_fermikit_manta_venn2(manta_callset='fn', manta_label='manta FN')"
   ]
  },
  {
   "cell_type": "code",
   "execution_count": null,
   "metadata": {},
   "outputs": [],
   "source": []
  }
 ],
 "metadata": {
  "kernelspec": {
   "display_name": "Python 3",
   "language": "python",
   "name": "python3"
  },
  "language_info": {
   "codemirror_mode": {
    "name": "ipython",
    "version": 3
   },
   "file_extension": ".py",
   "mimetype": "text/x-python",
   "name": "python",
   "nbconvert_exporter": "python",
   "pygments_lexer": "ipython3",
   "version": "3.8.6"
  },
  "toc": {
   "base_numbering": 1,
   "nav_menu": {},
   "number_sections": true,
   "sideBar": true,
   "skip_h1_title": false,
   "title_cell": "Table of Contents",
   "title_sidebar": "Contents",
   "toc_cell": false,
   "toc_position": {},
   "toc_section_display": true,
   "toc_window_display": false
  }
 },
 "nbformat": 4,
 "nbformat_minor": 4
}
