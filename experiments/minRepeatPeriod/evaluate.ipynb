{
 "cells": [
  {
   "cell_type": "code",
   "execution_count": 8,
   "metadata": {},
   "outputs": [
    {
     "data": {
      "text/html": [
       "<table border=\"1\" class=\"dataframe\">\n",
       "  <thead>\n",
       "    <tr style=\"text-align: right;\">\n",
       "      <th>tool</th>\n",
       "      <th>calls</th>\n",
       "      <th>TP</th>\n",
       "      <th>FN</th>\n",
       "      <th>FP</th>\n",
       "      <th># real events</th>\n",
       "    </tr>\n",
       "  </thead>\n",
       "  <tbody>\n",
       "    <tr>\n",
       "      <td>manta</td>\n",
       "      <td>all</td>\n",
       "      <td>5</td>\n",
       "      <td>23</td>\n",
       "      <td>1</td>\n",
       "      <td>28</td>\n",
       "    </tr>\n",
       "    <tr>\n",
       "      <td>trfermikit</td>\n",
       "      <td>all</td>\n",
       "      <td>4</td>\n",
       "      <td>24</td>\n",
       "      <td>12</td>\n",
       "      <td>28</td>\n",
       "    </tr>\n",
       "    <tr>\n",
       "      <td>trfermikit</td>\n",
       "      <td>unitigSupport</td>\n",
       "      <td>3</td>\n",
       "      <td>25</td>\n",
       "      <td>4</td>\n",
       "      <td>28</td>\n",
       "    </tr>\n",
       "    <tr>\n",
       "      <td>trfermikit</td>\n",
       "      <td>unitigSupport.thinned</td>\n",
       "      <td>3</td>\n",
       "      <td>25</td>\n",
       "      <td>4</td>\n",
       "      <td>28</td>\n",
       "    </tr>\n",
       "  </tbody>\n",
       "</table>"
      ],
      "text/plain": [
       "<IPython.core.display.HTML object>"
      ]
     },
     "execution_count": 8,
     "metadata": {},
     "output_type": "execute_result"
    }
   ],
   "source": [
    "import json\n",
    "import pandas as pd \n",
    "\n",
    "def add_performance(table, truvari_data, tool, calls):\n",
    "    table.append([\n",
    "            tool,\n",
    "            calls,\n",
    "            truvari_data['TP-base'],\n",
    "            truvari_data['FN'],\n",
    "            truvari_data['FP'], \n",
    "            truvari_data['TP-base'] + truvari_data['FN']\n",
    "    ])\n",
    "    \n",
    "def create_performance_table(output):\n",
    "    table = []\n",
    "    with open('{}/truvari-pacbio-manta/summary.txt'.format(output)) as json_file:\n",
    "        add_performance(table, json.load(json_file), 'manta', 'all')    \n",
    "    with open('{}/truvari-pacbio-trfermikit/summary.txt'.format(output)) as json_file:\n",
    "        add_performance(table, json.load(json_file), 'trfermikit', 'all')\n",
    "    with open('{}/truvari-pacbio-trfermikit.unitigSupport/summary.txt'.format(output)) as json_file:\n",
    "        add_performance(table, json.load(json_file), 'trfermikit', 'unitigSupport')\n",
    "    with open('{}/truvari-pacbio-trfermikit.unitigSupport.thinned/summary.txt'.format(output)) as json_file:\n",
    "        add_performance(table, json.load(json_file), 'trfermikit', 'unitigSupport.thinned')\n",
    "    return table \n",
    "\n",
    "def extract_value(df, calls, truvari_class):\n",
    "    return df[df['calls'] == calls][truvari_class].values[0]\n",
    "\n",
    "def total_TP_count(df, calls_1, calls_2):\n",
    "    return extract_value(df, calls_1, 'TP') + extract_value(df, calls_2, 'TP')\n",
    "\n",
    "def total_FP_count(df, calls_1, calls_2):\n",
    "    return extract_value(df, calls_1, 'FP') + extract_value(df, calls_2, 'FP')\n",
    "\n",
    "def sum_counts(df, columns, calls_1, calls_2): \n",
    "    return pd.DataFrame([[\n",
    "        'trfermikit', \n",
    "        '{} + {}'.format(calls_1, calls_2), \n",
    "        total_TP_count(df, calls_1, calls_2), \n",
    "        '.', \n",
    "        total_FP_count(df, calls_1, calls_2), \n",
    "        '.'\n",
    "    ]], columns=columns)\n",
    "    \n",
    "def visualize_performance_table(output):\n",
    "    from IPython.display import HTML\n",
    "    columns = ['tool', 'calls', 'TP', 'FN', 'FP', '# real events']\n",
    "    df_ = pd.DataFrame(\n",
    "        create_performance_table(output), \n",
    "        columns=columns\n",
    "    )\n",
    "    return HTML(df_.to_html(index=False))\n",
    "  \n",
    "def visualize_performance_tables():\n",
    "    tables = {}\n",
    "    for minRepeatPeriod in [0]: \n",
    "        output = \"data/{}\".format(minRepeatPeriod)    \n",
    "        tables[output] = visualize_performance_table(output)\n",
    "    return tables\n",
    "        \n",
    "visualize_performance_tables()['data/0']"
   ]
  },
  {
   "cell_type": "markdown",
   "metadata": {},
   "source": [
    "The table above reports poor performance of `manta` in tandem-repeat regions. This has been found by others; see panels B and C at https://www.nature.com/articles/s41467-019-11146-4/figures/2 \n",
    "\n",
    "After filtering `trfermikit` calls (see table), `trfermikit` performs comparably to `manta`.\n",
    "\n",
    "[Technical Note: applying the cluster-thinning filter eliminates TPs primarily because there are clusters harboring more than one event, e.g., the pacbio contig is “fragmented”. ]"
   ]
  },
  {
   "cell_type": "markdown",
   "metadata": {},
   "source": [
    "## `trfermikit` picks up a significant number of calls missed by `manta` "
   ]
  },
  {
   "cell_type": "markdown",
   "metadata": {},
   "source": [
    "`trfermikit` picks up the majority of `manta` TPs while also discovering a significant number of pacbio events that `manta` missed:  "
   ]
  },
  {
   "cell_type": "code",
   "execution_count": 3,
   "metadata": {},
   "outputs": [
    {
     "data": {
      "image/png": "[encoded data removed]",
      "text/plain": [
       "<Figure size 432x288 with 1 Axes>"
      ]
     },
     "metadata": {},
     "output_type": "display_data"
    }
   ],
   "source": [
    "def list_to_value(list_): \n",
    "    value, = list_\n",
    "    return int(value)\n",
    "\n",
    "overlap_fraction = 0.9\n",
    "\n",
    "def tr_fermikit_TP_intersect_manta(manta_callset): \n",
    "    list_ = ! ../bin/bedtools intersect -u -wb -f $overlap_fraction -r \\\n",
    "      -a $output/truvari-pacbio-manta/$manta_callset\".vcf\" \\\n",
    "      -b $output/truvari-pacbio-trfermikit.unitigSupport.thinned/tp-base.vcf \\\n",
    "      | wc -l \n",
    "    return list_to_value(list_)\n",
    "\n",
    "def tr_fermikit_TP_less_manta(manta_callset):\n",
    "    list_ = ! ../bin/bedtools subtract -A -f $overlap_fraction -r \\\n",
    "      -a $output/truvari-pacbio-trfermikit.unitigSupport.thinned/tp-base.vcf \\\n",
    "      -b $output/truvari-pacbio-manta/$manta_callset\".vcf\" \\\n",
    "      | wc -l\n",
    "    return list_to_value(list_)\n",
    "\n",
    "def manta_less_tr_fermikit_TP(manta_callset):\n",
    "    list_ = ! ../bin/bedtools subtract -A -f $overlap_fraction -r \\\n",
    "      -a $output/truvari-pacbio-manta/$manta_callset\".vcf\" \\\n",
    "      -b $output/truvari-pacbio-trfermikit.unitigSupport.thinned/tp-base.vcf \\\n",
    "    | wc -l \n",
    "    return list_to_value(list_)\n",
    "\n",
    "def check(manta_callset): \n",
    "    if manta_callset != 'fn' and manta_callset != 'tp-base': \n",
    "        raise Exception\n",
    "    else: \n",
    "        pass\n",
    "        \n",
    "# https://towardsdatascience.com/how-to-create-and-beautify-venn-diagrams-in-python-331129bd4ed3\n",
    "from matplotlib_venn import venn2\n",
    "\n",
    "def tr_fermikit_manta_venn2(manta_callset, manta_label):\n",
    "    check(manta_callset)\n",
    "    vd = venn2(\n",
    "        subsets = {\n",
    "            '10': tr_fermikit_TP_less_manta(manta_callset),\n",
    "            '11': tr_fermikit_TP_intersect_manta(manta_callset),\n",
    "            '01': manta_less_tr_fermikit_TP(manta_callset)\n",
    "        }, \n",
    "        set_labels = ('trfermikit TP', manta_label))\n",
    "    return vd\n",
    "\n",
    "_ = tr_fermikit_manta_venn2(manta_callset='tp-base', manta_label='manta TP')"
   ]
  },
  {
   "cell_type": "code",
   "execution_count": 4,
   "metadata": {},
   "outputs": [
    {
     "data": {
      "image/png": "[encoded data removed]",
      "text/plain": [
       "<Figure size 432x288 with 1 Axes>"
      ]
     },
     "metadata": {},
     "output_type": "display_data"
    }
   ],
   "source": [
    "_ = tr_fermikit_manta_venn2(manta_callset='fn', manta_label='manta FN')"
   ]
  },
  {
   "cell_type": "code",
   "execution_count": null,
   "metadata": {},
   "outputs": [],
   "source": []
  }
 ],
 "metadata": {
  "kernelspec": {
   "display_name": "Python 3",
   "language": "python",
   "name": "python3"
  },
  "language_info": {
   "codemirror_mode": {
    "name": "ipython",
    "version": 3
   },
   "file_extension": ".py",
   "mimetype": "text/x-python",
   "name": "python",
   "nbconvert_exporter": "python",
   "pygments_lexer": "ipython3",
   "version": "3.8.6"
  },
  "toc": {
   "base_numbering": 1,
   "nav_menu": {},
   "number_sections": true,
   "sideBar": true,
   "skip_h1_title": false,
   "title_cell": "Table of Contents",
   "title_sidebar": "Contents",
   "toc_cell": false,
   "toc_position": {},
   "toc_section_display": true,
   "toc_window_display": false
  }
 },
 "nbformat": 4,
 "nbformat_minor": 4
}
