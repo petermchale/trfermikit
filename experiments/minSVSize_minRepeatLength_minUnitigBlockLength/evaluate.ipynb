{
 "cells": [
  {
   "cell_type": "markdown",
   "metadata": {},
   "source": [
    "## trfermikit is more sensitive than manta at discovering small SVs"
   ]
  },
  {
   "cell_type": "code",
   "execution_count": 6,
   "metadata": {},
   "outputs": [
    {
     "data": {
      "application/vnd.plotly.v1+json": {
       "config": {
        "plotlyServerURL": "https://plot.ly"
       },
       "data": [
        {
         "hovertemplate": "%{text}",
         "marker": {
          "color": [
           "green",
           "green",
           "green",
           "green",
           "green",
           "green",
           "green",
           "green",
           "green",
           "red",
           "red",
           "red",
           "red",
           "red",
           "red",
           "red",
           "red",
           "red",
           "blue",
           "blue",
           "blue",
           "blue",
           "blue",
           "blue",
           "blue",
           "blue",
           "blue"
          ],
          "line": {
           "color": "black",
           "width": 1
          },
          "size": 10,
          "symbol": "circle"
         },
         "mode": "markers",
         "name": "trfermikit",
         "showlegend": false,
         "text": [
          "filterCalls.minSVSize: 100<br><br>makeRegions: <br>  slop: 250<br>  minCoverage: 0<br>  maxCoverage: 200<br>  maxRegionLength: 100000<br>  minRepeatPeriod: 6<br>  minRepeatLength: 0<br>  functionalRegions: none<br>  genomeBuild: hg38<br>  overlappedFunctionalRegions: false<br>makeCalls: <br>  singleBaseMatchReward: 10<br>  singleBaseMismatchPenalty: 12<br>  gapOpenPenalties: 6,26<br>  gapExtensionPenalties: 1,0<br>  minUnitigMappingQuality: 1<br>filterCalls: <br>  maxIntraClusterDistance: 500<br>  minUnitigMappingQuality: 0<br>  minUnitigBlockLength: 15<br>  svtype: DEL<br>",
          "filterCalls.minSVSize: 100<br><br>makeRegions: <br>  slop: 250<br>  minCoverage: 0<br>  maxCoverage: 200<br>  maxRegionLength: 100000<br>  minRepeatPeriod: 6<br>  minRepeatLength: 0<br>  functionalRegions: none<br>  genomeBuild: hg38<br>  overlappedFunctionalRegions: false<br>makeCalls: <br>  singleBaseMatchReward: 10<br>  singleBaseMismatchPenalty: 12<br>  gapOpenPenalties: 6,26<br>  gapExtensionPenalties: 1,0<br>  minUnitigMappingQuality: 1<br>filterCalls: <br>  maxIntraClusterDistance: 500<br>  minUnitigMappingQuality: 0<br>  minUnitigBlockLength: 25<br>  svtype: DEL<br>",
          "filterCalls.minSVSize: 100<br><br>makeRegions: <br>  slop: 250<br>  minCoverage: 0<br>  maxCoverage: 200<br>  maxRegionLength: 100000<br>  minRepeatPeriod: 6<br>  minRepeatLength: 0<br>  functionalRegions: none<br>  genomeBuild: hg38<br>  overlappedFunctionalRegions: false<br>makeCalls: <br>  singleBaseMatchReward: 10<br>  singleBaseMismatchPenalty: 12<br>  gapOpenPenalties: 6,26<br>  gapExtensionPenalties: 1,0<br>  minUnitigMappingQuality: 1<br>filterCalls: <br>  maxIntraClusterDistance: 500<br>  minUnitigMappingQuality: 0<br>  minUnitigBlockLength: 40<br>  svtype: DEL<br>",
          "filterCalls.minSVSize: 100<br><br>makeRegions: <br>  slop: 250<br>  minCoverage: 0<br>  maxCoverage: 200<br>  maxRegionLength: 100000<br>  minRepeatPeriod: 6<br>  minRepeatLength: 100<br>  functionalRegions: none<br>  genomeBuild: hg38<br>  overlappedFunctionalRegions: false<br>makeCalls: <br>  singleBaseMatchReward: 10<br>  singleBaseMismatchPenalty: 12<br>  gapOpenPenalties: 6,26<br>  gapExtensionPenalties: 1,0<br>  minUnitigMappingQuality: 1<br>filterCalls: <br>  maxIntraClusterDistance: 500<br>  minUnitigMappingQuality: 0<br>  minUnitigBlockLength: 15<br>  svtype: DEL<br>",
          "filterCalls.minSVSize: 100<br><br>makeRegions: <br>  slop: 250<br>  minCoverage: 0<br>  maxCoverage: 200<br>  maxRegionLength: 100000<br>  minRepeatPeriod: 6<br>  minRepeatLength: 100<br>  functionalRegions: none<br>  genomeBuild: hg38<br>  overlappedFunctionalRegions: false<br>makeCalls: <br>  singleBaseMatchReward: 10<br>  singleBaseMismatchPenalty: 12<br>  gapOpenPenalties: 6,26<br>  gapExtensionPenalties: 1,0<br>  minUnitigMappingQuality: 1<br>filterCalls: <br>  maxIntraClusterDistance: 500<br>  minUnitigMappingQuality: 0<br>  minUnitigBlockLength: 25<br>  svtype: DEL<br>",
          "filterCalls.minSVSize: 100<br><br>makeRegions: <br>  slop: 250<br>  minCoverage: 0<br>  maxCoverage: 200<br>  maxRegionLength: 100000<br>  minRepeatPeriod: 6<br>  minRepeatLength: 100<br>  functionalRegions: none<br>  genomeBuild: hg38<br>  overlappedFunctionalRegions: false<br>makeCalls: <br>  singleBaseMatchReward: 10<br>  singleBaseMismatchPenalty: 12<br>  gapOpenPenalties: 6,26<br>  gapExtensionPenalties: 1,0<br>  minUnitigMappingQuality: 1<br>filterCalls: <br>  maxIntraClusterDistance: 500<br>  minUnitigMappingQuality: 0<br>  minUnitigBlockLength: 40<br>  svtype: DEL<br>",
          "filterCalls.minSVSize: 100<br><br>makeRegions: <br>  slop: 250<br>  minCoverage: 0<br>  maxCoverage: 200<br>  maxRegionLength: 100000<br>  minRepeatPeriod: 6<br>  minRepeatLength: 50<br>  functionalRegions: none<br>  genomeBuild: hg38<br>  overlappedFunctionalRegions: false<br>makeCalls: <br>  singleBaseMatchReward: 10<br>  singleBaseMismatchPenalty: 12<br>  gapOpenPenalties: 6,26<br>  gapExtensionPenalties: 1,0<br>  minUnitigMappingQuality: 1<br>filterCalls: <br>  maxIntraClusterDistance: 500<br>  minUnitigMappingQuality: 0<br>  minUnitigBlockLength: 15<br>  svtype: DEL<br>",
          "filterCalls.minSVSize: 100<br><br>makeRegions: <br>  slop: 250<br>  minCoverage: 0<br>  maxCoverage: 200<br>  maxRegionLength: 100000<br>  minRepeatPeriod: 6<br>  minRepeatLength: 50<br>  functionalRegions: none<br>  genomeBuild: hg38<br>  overlappedFunctionalRegions: false<br>makeCalls: <br>  singleBaseMatchReward: 10<br>  singleBaseMismatchPenalty: 12<br>  gapOpenPenalties: 6,26<br>  gapExtensionPenalties: 1,0<br>  minUnitigMappingQuality: 1<br>filterCalls: <br>  maxIntraClusterDistance: 500<br>  minUnitigMappingQuality: 0<br>  minUnitigBlockLength: 25<br>  svtype: DEL<br>",
          "filterCalls.minSVSize: 100<br><br>makeRegions: <br>  slop: 250<br>  minCoverage: 0<br>  maxCoverage: 200<br>  maxRegionLength: 100000<br>  minRepeatPeriod: 6<br>  minRepeatLength: 50<br>  functionalRegions: none<br>  genomeBuild: hg38<br>  overlappedFunctionalRegions: false<br>makeCalls: <br>  singleBaseMatchReward: 10<br>  singleBaseMismatchPenalty: 12<br>  gapOpenPenalties: 6,26<br>  gapExtensionPenalties: 1,0<br>  minUnitigMappingQuality: 1<br>filterCalls: <br>  maxIntraClusterDistance: 500<br>  minUnitigMappingQuality: 0<br>  minUnitigBlockLength: 40<br>  svtype: DEL<br>",
          "filterCalls.minSVSize: 500<br><br>makeRegions: <br>  slop: 250<br>  minCoverage: 0<br>  maxCoverage: 200<br>  maxRegionLength: 100000<br>  minRepeatPeriod: 6<br>  minRepeatLength: 0<br>  functionalRegions: none<br>  genomeBuild: hg38<br>  overlappedFunctionalRegions: false<br>makeCalls: <br>  singleBaseMatchReward: 10<br>  singleBaseMismatchPenalty: 12<br>  gapOpenPenalties: 6,26<br>  gapExtensionPenalties: 1,0<br>  minUnitigMappingQuality: 1<br>filterCalls: <br>  maxIntraClusterDistance: 500<br>  minUnitigMappingQuality: 0<br>  minUnitigBlockLength: 15<br>  svtype: DEL<br>",
          "filterCalls.minSVSize: 500<br><br>makeRegions: <br>  slop: 250<br>  minCoverage: 0<br>  maxCoverage: 200<br>  maxRegionLength: 100000<br>  minRepeatPeriod: 6<br>  minRepeatLength: 0<br>  functionalRegions: none<br>  genomeBuild: hg38<br>  overlappedFunctionalRegions: false<br>makeCalls: <br>  singleBaseMatchReward: 10<br>  singleBaseMismatchPenalty: 12<br>  gapOpenPenalties: 6,26<br>  gapExtensionPenalties: 1,0<br>  minUnitigMappingQuality: 1<br>filterCalls: <br>  maxIntraClusterDistance: 500<br>  minUnitigMappingQuality: 0<br>  minUnitigBlockLength: 25<br>  svtype: DEL<br>",
          "filterCalls.minSVSize: 500<br><br>makeRegions: <br>  slop: 250<br>  minCoverage: 0<br>  maxCoverage: 200<br>  maxRegionLength: 100000<br>  minRepeatPeriod: 6<br>  minRepeatLength: 0<br>  functionalRegions: none<br>  genomeBuild: hg38<br>  overlappedFunctionalRegions: false<br>makeCalls: <br>  singleBaseMatchReward: 10<br>  singleBaseMismatchPenalty: 12<br>  gapOpenPenalties: 6,26<br>  gapExtensionPenalties: 1,0<br>  minUnitigMappingQuality: 1<br>filterCalls: <br>  maxIntraClusterDistance: 500<br>  minUnitigMappingQuality: 0<br>  minUnitigBlockLength: 40<br>  svtype: DEL<br>",
          "filterCalls.minSVSize: 500<br><br>makeRegions: <br>  slop: 250<br>  minCoverage: 0<br>  maxCoverage: 200<br>  maxRegionLength: 100000<br>  minRepeatPeriod: 6<br>  minRepeatLength: 100<br>  functionalRegions: none<br>  genomeBuild: hg38<br>  overlappedFunctionalRegions: false<br>makeCalls: <br>  singleBaseMatchReward: 10<br>  singleBaseMismatchPenalty: 12<br>  gapOpenPenalties: 6,26<br>  gapExtensionPenalties: 1,0<br>  minUnitigMappingQuality: 1<br>filterCalls: <br>  maxIntraClusterDistance: 500<br>  minUnitigMappingQuality: 0<br>  minUnitigBlockLength: 15<br>  svtype: DEL<br>",
          "filterCalls.minSVSize: 500<br><br>makeRegions: <br>  slop: 250<br>  minCoverage: 0<br>  maxCoverage: 200<br>  maxRegionLength: 100000<br>  minRepeatPeriod: 6<br>  minRepeatLength: 100<br>  functionalRegions: none<br>  genomeBuild: hg38<br>  overlappedFunctionalRegions: false<br>makeCalls: <br>  singleBaseMatchReward: 10<br>  singleBaseMismatchPenalty: 12<br>  gapOpenPenalties: 6,26<br>  gapExtensionPenalties: 1,0<br>  minUnitigMappingQuality: 1<br>filterCalls: <br>  maxIntraClusterDistance: 500<br>  minUnitigMappingQuality: 0<br>  minUnitigBlockLength: 25<br>  svtype: DEL<br>",
          "filterCalls.minSVSize: 500<br><br>makeRegions: <br>  slop: 250<br>  minCoverage: 0<br>  maxCoverage: 200<br>  maxRegionLength: 100000<br>  minRepeatPeriod: 6<br>  minRepeatLength: 100<br>  functionalRegions: none<br>  genomeBuild: hg38<br>  overlappedFunctionalRegions: false<br>makeCalls: <br>  singleBaseMatchReward: 10<br>  singleBaseMismatchPenalty: 12<br>  gapOpenPenalties: 6,26<br>  gapExtensionPenalties: 1,0<br>  minUnitigMappingQuality: 1<br>filterCalls: <br>  maxIntraClusterDistance: 500<br>  minUnitigMappingQuality: 0<br>  minUnitigBlockLength: 40<br>  svtype: DEL<br>",
          "filterCalls.minSVSize: 500<br><br>makeRegions: <br>  slop: 250<br>  minCoverage: 0<br>  maxCoverage: 200<br>  maxRegionLength: 100000<br>  minRepeatPeriod: 6<br>  minRepeatLength: 50<br>  functionalRegions: none<br>  genomeBuild: hg38<br>  overlappedFunctionalRegions: false<br>makeCalls: <br>  singleBaseMatchReward: 10<br>  singleBaseMismatchPenalty: 12<br>  gapOpenPenalties: 6,26<br>  gapExtensionPenalties: 1,0<br>  minUnitigMappingQuality: 1<br>filterCalls: <br>  maxIntraClusterDistance: 500<br>  minUnitigMappingQuality: 0<br>  minUnitigBlockLength: 15<br>  svtype: DEL<br>",
          "filterCalls.minSVSize: 500<br><br>makeRegions: <br>  slop: 250<br>  minCoverage: 0<br>  maxCoverage: 200<br>  maxRegionLength: 100000<br>  minRepeatPeriod: 6<br>  minRepeatLength: 50<br>  functionalRegions: none<br>  genomeBuild: hg38<br>  overlappedFunctionalRegions: false<br>makeCalls: <br>  singleBaseMatchReward: 10<br>  singleBaseMismatchPenalty: 12<br>  gapOpenPenalties: 6,26<br>  gapExtensionPenalties: 1,0<br>  minUnitigMappingQuality: 1<br>filterCalls: <br>  maxIntraClusterDistance: 500<br>  minUnitigMappingQuality: 0<br>  minUnitigBlockLength: 25<br>  svtype: DEL<br>",
          "filterCalls.minSVSize: 500<br><br>makeRegions: <br>  slop: 250<br>  minCoverage: 0<br>  maxCoverage: 200<br>  maxRegionLength: 100000<br>  minRepeatPeriod: 6<br>  minRepeatLength: 50<br>  functionalRegions: none<br>  genomeBuild: hg38<br>  overlappedFunctionalRegions: false<br>makeCalls: <br>  singleBaseMatchReward: 10<br>  singleBaseMismatchPenalty: 12<br>  gapOpenPenalties: 6,26<br>  gapExtensionPenalties: 1,0<br>  minUnitigMappingQuality: 1<br>filterCalls: <br>  maxIntraClusterDistance: 500<br>  minUnitigMappingQuality: 0<br>  minUnitigBlockLength: 40<br>  svtype: DEL<br>",
          "filterCalls.minSVSize: 50<br><br>makeRegions: <br>  slop: 250<br>  minCoverage: 0<br>  maxCoverage: 200<br>  maxRegionLength: 100000<br>  minRepeatPeriod: 6<br>  minRepeatLength: 0<br>  functionalRegions: none<br>  genomeBuild: hg38<br>  overlappedFunctionalRegions: false<br>makeCalls: <br>  singleBaseMatchReward: 10<br>  singleBaseMismatchPenalty: 12<br>  gapOpenPenalties: 6,26<br>  gapExtensionPenalties: 1,0<br>  minUnitigMappingQuality: 1<br>filterCalls: <br>  maxIntraClusterDistance: 500<br>  minUnitigMappingQuality: 0<br>  minUnitigBlockLength: 15<br>  svtype: DEL<br>",
          "filterCalls.minSVSize: 50<br><br>makeRegions: <br>  slop: 250<br>  minCoverage: 0<br>  maxCoverage: 200<br>  maxRegionLength: 100000<br>  minRepeatPeriod: 6<br>  minRepeatLength: 0<br>  functionalRegions: none<br>  genomeBuild: hg38<br>  overlappedFunctionalRegions: false<br>makeCalls: <br>  singleBaseMatchReward: 10<br>  singleBaseMismatchPenalty: 12<br>  gapOpenPenalties: 6,26<br>  gapExtensionPenalties: 1,0<br>  minUnitigMappingQuality: 1<br>filterCalls: <br>  maxIntraClusterDistance: 500<br>  minUnitigMappingQuality: 0<br>  minUnitigBlockLength: 25<br>  svtype: DEL<br>",
          "filterCalls.minSVSize: 50<br><br>makeRegions: <br>  slop: 250<br>  minCoverage: 0<br>  maxCoverage: 200<br>  maxRegionLength: 100000<br>  minRepeatPeriod: 6<br>  minRepeatLength: 0<br>  functionalRegions: none<br>  genomeBuild: hg38<br>  overlappedFunctionalRegions: false<br>makeCalls: <br>  singleBaseMatchReward: 10<br>  singleBaseMismatchPenalty: 12<br>  gapOpenPenalties: 6,26<br>  gapExtensionPenalties: 1,0<br>  minUnitigMappingQuality: 1<br>filterCalls: <br>  maxIntraClusterDistance: 500<br>  minUnitigMappingQuality: 0<br>  minUnitigBlockLength: 40<br>  svtype: DEL<br>",
          "filterCalls.minSVSize: 50<br><br>makeRegions: <br>  slop: 250<br>  minCoverage: 0<br>  maxCoverage: 200<br>  maxRegionLength: 100000<br>  minRepeatPeriod: 6<br>  minRepeatLength: 100<br>  functionalRegions: none<br>  genomeBuild: hg38<br>  overlappedFunctionalRegions: false<br>makeCalls: <br>  singleBaseMatchReward: 10<br>  singleBaseMismatchPenalty: 12<br>  gapOpenPenalties: 6,26<br>  gapExtensionPenalties: 1,0<br>  minUnitigMappingQuality: 1<br>filterCalls: <br>  maxIntraClusterDistance: 500<br>  minUnitigMappingQuality: 0<br>  minUnitigBlockLength: 15<br>  svtype: DEL<br>",
          "filterCalls.minSVSize: 50<br><br>makeRegions: <br>  slop: 250<br>  minCoverage: 0<br>  maxCoverage: 200<br>  maxRegionLength: 100000<br>  minRepeatPeriod: 6<br>  minRepeatLength: 100<br>  functionalRegions: none<br>  genomeBuild: hg38<br>  overlappedFunctionalRegions: false<br>makeCalls: <br>  singleBaseMatchReward: 10<br>  singleBaseMismatchPenalty: 12<br>  gapOpenPenalties: 6,26<br>  gapExtensionPenalties: 1,0<br>  minUnitigMappingQuality: 1<br>filterCalls: <br>  maxIntraClusterDistance: 500<br>  minUnitigMappingQuality: 0<br>  minUnitigBlockLength: 25<br>  svtype: DEL<br>",
          "filterCalls.minSVSize: 50<br><br>makeRegions: <br>  slop: 250<br>  minCoverage: 0<br>  maxCoverage: 200<br>  maxRegionLength: 100000<br>  minRepeatPeriod: 6<br>  minRepeatLength: 100<br>  functionalRegions: none<br>  genomeBuild: hg38<br>  overlappedFunctionalRegions: false<br>makeCalls: <br>  singleBaseMatchReward: 10<br>  singleBaseMismatchPenalty: 12<br>  gapOpenPenalties: 6,26<br>  gapExtensionPenalties: 1,0<br>  minUnitigMappingQuality: 1<br>filterCalls: <br>  maxIntraClusterDistance: 500<br>  minUnitigMappingQuality: 0<br>  minUnitigBlockLength: 40<br>  svtype: DEL<br>",
          "filterCalls.minSVSize: 50<br><br>makeRegions: <br>  slop: 250<br>  minCoverage: 0<br>  maxCoverage: 200<br>  maxRegionLength: 100000<br>  minRepeatPeriod: 6<br>  minRepeatLength: 50<br>  functionalRegions: none<br>  genomeBuild: hg38<br>  overlappedFunctionalRegions: false<br>makeCalls: <br>  singleBaseMatchReward: 10<br>  singleBaseMismatchPenalty: 12<br>  gapOpenPenalties: 6,26<br>  gapExtensionPenalties: 1,0<br>  minUnitigMappingQuality: 1<br>filterCalls: <br>  maxIntraClusterDistance: 500<br>  minUnitigMappingQuality: 0<br>  minUnitigBlockLength: 15<br>  svtype: DEL<br>",
          "filterCalls.minSVSize: 50<br><br>makeRegions: <br>  slop: 250<br>  minCoverage: 0<br>  maxCoverage: 200<br>  maxRegionLength: 100000<br>  minRepeatPeriod: 6<br>  minRepeatLength: 50<br>  functionalRegions: none<br>  genomeBuild: hg38<br>  overlappedFunctionalRegions: false<br>makeCalls: <br>  singleBaseMatchReward: 10<br>  singleBaseMismatchPenalty: 12<br>  gapOpenPenalties: 6,26<br>  gapExtensionPenalties: 1,0<br>  minUnitigMappingQuality: 1<br>filterCalls: <br>  maxIntraClusterDistance: 500<br>  minUnitigMappingQuality: 0<br>  minUnitigBlockLength: 25<br>  svtype: DEL<br>",
          "filterCalls.minSVSize: 50<br><br>makeRegions: <br>  slop: 250<br>  minCoverage: 0<br>  maxCoverage: 200<br>  maxRegionLength: 100000<br>  minRepeatPeriod: 6<br>  minRepeatLength: 50<br>  functionalRegions: none<br>  genomeBuild: hg38<br>  overlappedFunctionalRegions: false<br>makeCalls: <br>  singleBaseMatchReward: 10<br>  singleBaseMismatchPenalty: 12<br>  gapOpenPenalties: 6,26<br>  gapExtensionPenalties: 1,0<br>  minUnitigMappingQuality: 1<br>filterCalls: <br>  maxIntraClusterDistance: 500<br>  minUnitigMappingQuality: 0<br>  minUnitigBlockLength: 40<br>  svtype: DEL<br>"
         ],
         "type": "scatter",
         "x": [
          0.24716888232397832,
          0.2343673067454456,
          0.20925652387986213,
          0.24627224627224628,
          0.2376142376142376,
          0.20346320346320346,
          0.249269717624148,
          0.23904576436222005,
          0.2098344693281402,
          0.06598984771573604,
          0.050761421319796954,
          0.05583756345177665,
          0.07317073170731707,
          0.05365853658536585,
          0.04878048780487805,
          0.06896551724137931,
          0.059113300492610835,
          0.04433497536945813,
          0.33866666666666667,
          0.3233333333333333,
          0.28644444444444445,
          0.33857579729139364,
          0.3215377894276977,
          0.28462210572302316,
          0.3400702987697715,
          0.3251318101933216,
          0.2884446397188049
         ],
         "y": [
          0.26421052631578945,
          0.34744525547445254,
          0.4579741379310345,
          0.25806451612903225,
          0.34764250527797325,
          0.44714587737843553,
          0.26528497409326424,
          0.3492176386913229,
          0.4654427645788337,
          0.15853658536585366,
          0.19607843137254902,
          0.28205128205128205,
          0.1744186046511628,
          0.22448979591836735,
          0.2564102564102564,
          0.16470588235294117,
          0.23076923076923078,
          0.23076923076923078,
          0.3876876112948359,
          0.46411483253588515,
          0.5525075010715816,
          0.3883738411425708,
          0.46274756365922665,
          0.5509513742071882,
          0.3903177004538578,
          0.46540880503144655,
          0.5565917761763459
         ]
        },
        {
         "hovertemplate": "%{text}",
         "marker": {
          "color": [
           "green",
           "green",
           "green",
           "green",
           "green",
           "green",
           "green",
           "green",
           "green",
           "red",
           "red",
           "red",
           "red",
           "red",
           "red",
           "red",
           "red",
           "red",
           "blue",
           "blue",
           "blue",
           "blue",
           "blue",
           "blue",
           "blue",
           "blue",
           "blue"
          ],
          "line": {
           "color": "black",
           "width": 1
          },
          "size": 10,
          "symbol": "square"
         },
         "mode": "markers",
         "name": "manta",
         "showlegend": false,
         "text": [
          "filterCalls.minSVSize: 100<br><br>makeRegions: <br>  slop: 250<br>  minCoverage: 0<br>  maxCoverage: 200<br>  maxRegionLength: 100000<br>  minRepeatPeriod: 6<br>  minRepeatLength: 0<br>  functionalRegions: none<br>  genomeBuild: hg38<br>  overlappedFunctionalRegions: false<br>makeCalls: <br>  singleBaseMatchReward: 10<br>  singleBaseMismatchPenalty: 12<br>  gapOpenPenalties: 6,26<br>  gapExtensionPenalties: 1,0<br>  minUnitigMappingQuality: 1<br>filterCalls: <br>  maxIntraClusterDistance: 500<br>  minUnitigMappingQuality: 0<br>  minUnitigBlockLength: 15<br>  svtype: DEL<br>",
          "filterCalls.minSVSize: 100<br><br>makeRegions: <br>  slop: 250<br>  minCoverage: 0<br>  maxCoverage: 200<br>  maxRegionLength: 100000<br>  minRepeatPeriod: 6<br>  minRepeatLength: 0<br>  functionalRegions: none<br>  genomeBuild: hg38<br>  overlappedFunctionalRegions: false<br>makeCalls: <br>  singleBaseMatchReward: 10<br>  singleBaseMismatchPenalty: 12<br>  gapOpenPenalties: 6,26<br>  gapExtensionPenalties: 1,0<br>  minUnitigMappingQuality: 1<br>filterCalls: <br>  maxIntraClusterDistance: 500<br>  minUnitigMappingQuality: 0<br>  minUnitigBlockLength: 25<br>  svtype: DEL<br>",
          "filterCalls.minSVSize: 100<br><br>makeRegions: <br>  slop: 250<br>  minCoverage: 0<br>  maxCoverage: 200<br>  maxRegionLength: 100000<br>  minRepeatPeriod: 6<br>  minRepeatLength: 0<br>  functionalRegions: none<br>  genomeBuild: hg38<br>  overlappedFunctionalRegions: false<br>makeCalls: <br>  singleBaseMatchReward: 10<br>  singleBaseMismatchPenalty: 12<br>  gapOpenPenalties: 6,26<br>  gapExtensionPenalties: 1,0<br>  minUnitigMappingQuality: 1<br>filterCalls: <br>  maxIntraClusterDistance: 500<br>  minUnitigMappingQuality: 0<br>  minUnitigBlockLength: 40<br>  svtype: DEL<br>",
          "filterCalls.minSVSize: 100<br><br>makeRegions: <br>  slop: 250<br>  minCoverage: 0<br>  maxCoverage: 200<br>  maxRegionLength: 100000<br>  minRepeatPeriod: 6<br>  minRepeatLength: 100<br>  functionalRegions: none<br>  genomeBuild: hg38<br>  overlappedFunctionalRegions: false<br>makeCalls: <br>  singleBaseMatchReward: 10<br>  singleBaseMismatchPenalty: 12<br>  gapOpenPenalties: 6,26<br>  gapExtensionPenalties: 1,0<br>  minUnitigMappingQuality: 1<br>filterCalls: <br>  maxIntraClusterDistance: 500<br>  minUnitigMappingQuality: 0<br>  minUnitigBlockLength: 15<br>  svtype: DEL<br>",
          "filterCalls.minSVSize: 100<br><br>makeRegions: <br>  slop: 250<br>  minCoverage: 0<br>  maxCoverage: 200<br>  maxRegionLength: 100000<br>  minRepeatPeriod: 6<br>  minRepeatLength: 100<br>  functionalRegions: none<br>  genomeBuild: hg38<br>  overlappedFunctionalRegions: false<br>makeCalls: <br>  singleBaseMatchReward: 10<br>  singleBaseMismatchPenalty: 12<br>  gapOpenPenalties: 6,26<br>  gapExtensionPenalties: 1,0<br>  minUnitigMappingQuality: 1<br>filterCalls: <br>  maxIntraClusterDistance: 500<br>  minUnitigMappingQuality: 0<br>  minUnitigBlockLength: 25<br>  svtype: DEL<br>",
          "filterCalls.minSVSize: 100<br><br>makeRegions: <br>  slop: 250<br>  minCoverage: 0<br>  maxCoverage: 200<br>  maxRegionLength: 100000<br>  minRepeatPeriod: 6<br>  minRepeatLength: 100<br>  functionalRegions: none<br>  genomeBuild: hg38<br>  overlappedFunctionalRegions: false<br>makeCalls: <br>  singleBaseMatchReward: 10<br>  singleBaseMismatchPenalty: 12<br>  gapOpenPenalties: 6,26<br>  gapExtensionPenalties: 1,0<br>  minUnitigMappingQuality: 1<br>filterCalls: <br>  maxIntraClusterDistance: 500<br>  minUnitigMappingQuality: 0<br>  minUnitigBlockLength: 40<br>  svtype: DEL<br>",
          "filterCalls.minSVSize: 100<br><br>makeRegions: <br>  slop: 250<br>  minCoverage: 0<br>  maxCoverage: 200<br>  maxRegionLength: 100000<br>  minRepeatPeriod: 6<br>  minRepeatLength: 50<br>  functionalRegions: none<br>  genomeBuild: hg38<br>  overlappedFunctionalRegions: false<br>makeCalls: <br>  singleBaseMatchReward: 10<br>  singleBaseMismatchPenalty: 12<br>  gapOpenPenalties: 6,26<br>  gapExtensionPenalties: 1,0<br>  minUnitigMappingQuality: 1<br>filterCalls: <br>  maxIntraClusterDistance: 500<br>  minUnitigMappingQuality: 0<br>  minUnitigBlockLength: 15<br>  svtype: DEL<br>",
          "filterCalls.minSVSize: 100<br><br>makeRegions: <br>  slop: 250<br>  minCoverage: 0<br>  maxCoverage: 200<br>  maxRegionLength: 100000<br>  minRepeatPeriod: 6<br>  minRepeatLength: 50<br>  functionalRegions: none<br>  genomeBuild: hg38<br>  overlappedFunctionalRegions: false<br>makeCalls: <br>  singleBaseMatchReward: 10<br>  singleBaseMismatchPenalty: 12<br>  gapOpenPenalties: 6,26<br>  gapExtensionPenalties: 1,0<br>  minUnitigMappingQuality: 1<br>filterCalls: <br>  maxIntraClusterDistance: 500<br>  minUnitigMappingQuality: 0<br>  minUnitigBlockLength: 25<br>  svtype: DEL<br>",
          "filterCalls.minSVSize: 100<br><br>makeRegions: <br>  slop: 250<br>  minCoverage: 0<br>  maxCoverage: 200<br>  maxRegionLength: 100000<br>  minRepeatPeriod: 6<br>  minRepeatLength: 50<br>  functionalRegions: none<br>  genomeBuild: hg38<br>  overlappedFunctionalRegions: false<br>makeCalls: <br>  singleBaseMatchReward: 10<br>  singleBaseMismatchPenalty: 12<br>  gapOpenPenalties: 6,26<br>  gapExtensionPenalties: 1,0<br>  minUnitigMappingQuality: 1<br>filterCalls: <br>  maxIntraClusterDistance: 500<br>  minUnitigMappingQuality: 0<br>  minUnitigBlockLength: 40<br>  svtype: DEL<br>",
          "filterCalls.minSVSize: 500<br><br>makeRegions: <br>  slop: 250<br>  minCoverage: 0<br>  maxCoverage: 200<br>  maxRegionLength: 100000<br>  minRepeatPeriod: 6<br>  minRepeatLength: 0<br>  functionalRegions: none<br>  genomeBuild: hg38<br>  overlappedFunctionalRegions: false<br>makeCalls: <br>  singleBaseMatchReward: 10<br>  singleBaseMismatchPenalty: 12<br>  gapOpenPenalties: 6,26<br>  gapExtensionPenalties: 1,0<br>  minUnitigMappingQuality: 1<br>filterCalls: <br>  maxIntraClusterDistance: 500<br>  minUnitigMappingQuality: 0<br>  minUnitigBlockLength: 15<br>  svtype: DEL<br>",
          "filterCalls.minSVSize: 500<br><br>makeRegions: <br>  slop: 250<br>  minCoverage: 0<br>  maxCoverage: 200<br>  maxRegionLength: 100000<br>  minRepeatPeriod: 6<br>  minRepeatLength: 0<br>  functionalRegions: none<br>  genomeBuild: hg38<br>  overlappedFunctionalRegions: false<br>makeCalls: <br>  singleBaseMatchReward: 10<br>  singleBaseMismatchPenalty: 12<br>  gapOpenPenalties: 6,26<br>  gapExtensionPenalties: 1,0<br>  minUnitigMappingQuality: 1<br>filterCalls: <br>  maxIntraClusterDistance: 500<br>  minUnitigMappingQuality: 0<br>  minUnitigBlockLength: 25<br>  svtype: DEL<br>",
          "filterCalls.minSVSize: 500<br><br>makeRegions: <br>  slop: 250<br>  minCoverage: 0<br>  maxCoverage: 200<br>  maxRegionLength: 100000<br>  minRepeatPeriod: 6<br>  minRepeatLength: 0<br>  functionalRegions: none<br>  genomeBuild: hg38<br>  overlappedFunctionalRegions: false<br>makeCalls: <br>  singleBaseMatchReward: 10<br>  singleBaseMismatchPenalty: 12<br>  gapOpenPenalties: 6,26<br>  gapExtensionPenalties: 1,0<br>  minUnitigMappingQuality: 1<br>filterCalls: <br>  maxIntraClusterDistance: 500<br>  minUnitigMappingQuality: 0<br>  minUnitigBlockLength: 40<br>  svtype: DEL<br>",
          "filterCalls.minSVSize: 500<br><br>makeRegions: <br>  slop: 250<br>  minCoverage: 0<br>  maxCoverage: 200<br>  maxRegionLength: 100000<br>  minRepeatPeriod: 6<br>  minRepeatLength: 100<br>  functionalRegions: none<br>  genomeBuild: hg38<br>  overlappedFunctionalRegions: false<br>makeCalls: <br>  singleBaseMatchReward: 10<br>  singleBaseMismatchPenalty: 12<br>  gapOpenPenalties: 6,26<br>  gapExtensionPenalties: 1,0<br>  minUnitigMappingQuality: 1<br>filterCalls: <br>  maxIntraClusterDistance: 500<br>  minUnitigMappingQuality: 0<br>  minUnitigBlockLength: 15<br>  svtype: DEL<br>",
          "filterCalls.minSVSize: 500<br><br>makeRegions: <br>  slop: 250<br>  minCoverage: 0<br>  maxCoverage: 200<br>  maxRegionLength: 100000<br>  minRepeatPeriod: 6<br>  minRepeatLength: 100<br>  functionalRegions: none<br>  genomeBuild: hg38<br>  overlappedFunctionalRegions: false<br>makeCalls: <br>  singleBaseMatchReward: 10<br>  singleBaseMismatchPenalty: 12<br>  gapOpenPenalties: 6,26<br>  gapExtensionPenalties: 1,0<br>  minUnitigMappingQuality: 1<br>filterCalls: <br>  maxIntraClusterDistance: 500<br>  minUnitigMappingQuality: 0<br>  minUnitigBlockLength: 25<br>  svtype: DEL<br>",
          "filterCalls.minSVSize: 500<br><br>makeRegions: <br>  slop: 250<br>  minCoverage: 0<br>  maxCoverage: 200<br>  maxRegionLength: 100000<br>  minRepeatPeriod: 6<br>  minRepeatLength: 100<br>  functionalRegions: none<br>  genomeBuild: hg38<br>  overlappedFunctionalRegions: false<br>makeCalls: <br>  singleBaseMatchReward: 10<br>  singleBaseMismatchPenalty: 12<br>  gapOpenPenalties: 6,26<br>  gapExtensionPenalties: 1,0<br>  minUnitigMappingQuality: 1<br>filterCalls: <br>  maxIntraClusterDistance: 500<br>  minUnitigMappingQuality: 0<br>  minUnitigBlockLength: 40<br>  svtype: DEL<br>",
          "filterCalls.minSVSize: 500<br><br>makeRegions: <br>  slop: 250<br>  minCoverage: 0<br>  maxCoverage: 200<br>  maxRegionLength: 100000<br>  minRepeatPeriod: 6<br>  minRepeatLength: 50<br>  functionalRegions: none<br>  genomeBuild: hg38<br>  overlappedFunctionalRegions: false<br>makeCalls: <br>  singleBaseMatchReward: 10<br>  singleBaseMismatchPenalty: 12<br>  gapOpenPenalties: 6,26<br>  gapExtensionPenalties: 1,0<br>  minUnitigMappingQuality: 1<br>filterCalls: <br>  maxIntraClusterDistance: 500<br>  minUnitigMappingQuality: 0<br>  minUnitigBlockLength: 15<br>  svtype: DEL<br>",
          "filterCalls.minSVSize: 500<br><br>makeRegions: <br>  slop: 250<br>  minCoverage: 0<br>  maxCoverage: 200<br>  maxRegionLength: 100000<br>  minRepeatPeriod: 6<br>  minRepeatLength: 50<br>  functionalRegions: none<br>  genomeBuild: hg38<br>  overlappedFunctionalRegions: false<br>makeCalls: <br>  singleBaseMatchReward: 10<br>  singleBaseMismatchPenalty: 12<br>  gapOpenPenalties: 6,26<br>  gapExtensionPenalties: 1,0<br>  minUnitigMappingQuality: 1<br>filterCalls: <br>  maxIntraClusterDistance: 500<br>  minUnitigMappingQuality: 0<br>  minUnitigBlockLength: 25<br>  svtype: DEL<br>",
          "filterCalls.minSVSize: 500<br><br>makeRegions: <br>  slop: 250<br>  minCoverage: 0<br>  maxCoverage: 200<br>  maxRegionLength: 100000<br>  minRepeatPeriod: 6<br>  minRepeatLength: 50<br>  functionalRegions: none<br>  genomeBuild: hg38<br>  overlappedFunctionalRegions: false<br>makeCalls: <br>  singleBaseMatchReward: 10<br>  singleBaseMismatchPenalty: 12<br>  gapOpenPenalties: 6,26<br>  gapExtensionPenalties: 1,0<br>  minUnitigMappingQuality: 1<br>filterCalls: <br>  maxIntraClusterDistance: 500<br>  minUnitigMappingQuality: 0<br>  minUnitigBlockLength: 40<br>  svtype: DEL<br>",
          "filterCalls.minSVSize: 50<br><br>makeRegions: <br>  slop: 250<br>  minCoverage: 0<br>  maxCoverage: 200<br>  maxRegionLength: 100000<br>  minRepeatPeriod: 6<br>  minRepeatLength: 0<br>  functionalRegions: none<br>  genomeBuild: hg38<br>  overlappedFunctionalRegions: false<br>makeCalls: <br>  singleBaseMatchReward: 10<br>  singleBaseMismatchPenalty: 12<br>  gapOpenPenalties: 6,26<br>  gapExtensionPenalties: 1,0<br>  minUnitigMappingQuality: 1<br>filterCalls: <br>  maxIntraClusterDistance: 500<br>  minUnitigMappingQuality: 0<br>  minUnitigBlockLength: 15<br>  svtype: DEL<br>",
          "filterCalls.minSVSize: 50<br><br>makeRegions: <br>  slop: 250<br>  minCoverage: 0<br>  maxCoverage: 200<br>  maxRegionLength: 100000<br>  minRepeatPeriod: 6<br>  minRepeatLength: 0<br>  functionalRegions: none<br>  genomeBuild: hg38<br>  overlappedFunctionalRegions: false<br>makeCalls: <br>  singleBaseMatchReward: 10<br>  singleBaseMismatchPenalty: 12<br>  gapOpenPenalties: 6,26<br>  gapExtensionPenalties: 1,0<br>  minUnitigMappingQuality: 1<br>filterCalls: <br>  maxIntraClusterDistance: 500<br>  minUnitigMappingQuality: 0<br>  minUnitigBlockLength: 25<br>  svtype: DEL<br>",
          "filterCalls.minSVSize: 50<br><br>makeRegions: <br>  slop: 250<br>  minCoverage: 0<br>  maxCoverage: 200<br>  maxRegionLength: 100000<br>  minRepeatPeriod: 6<br>  minRepeatLength: 0<br>  functionalRegions: none<br>  genomeBuild: hg38<br>  overlappedFunctionalRegions: false<br>makeCalls: <br>  singleBaseMatchReward: 10<br>  singleBaseMismatchPenalty: 12<br>  gapOpenPenalties: 6,26<br>  gapExtensionPenalties: 1,0<br>  minUnitigMappingQuality: 1<br>filterCalls: <br>  maxIntraClusterDistance: 500<br>  minUnitigMappingQuality: 0<br>  minUnitigBlockLength: 40<br>  svtype: DEL<br>",
          "filterCalls.minSVSize: 50<br><br>makeRegions: <br>  slop: 250<br>  minCoverage: 0<br>  maxCoverage: 200<br>  maxRegionLength: 100000<br>  minRepeatPeriod: 6<br>  minRepeatLength: 100<br>  functionalRegions: none<br>  genomeBuild: hg38<br>  overlappedFunctionalRegions: false<br>makeCalls: <br>  singleBaseMatchReward: 10<br>  singleBaseMismatchPenalty: 12<br>  gapOpenPenalties: 6,26<br>  gapExtensionPenalties: 1,0<br>  minUnitigMappingQuality: 1<br>filterCalls: <br>  maxIntraClusterDistance: 500<br>  minUnitigMappingQuality: 0<br>  minUnitigBlockLength: 15<br>  svtype: DEL<br>",
          "filterCalls.minSVSize: 50<br><br>makeRegions: <br>  slop: 250<br>  minCoverage: 0<br>  maxCoverage: 200<br>  maxRegionLength: 100000<br>  minRepeatPeriod: 6<br>  minRepeatLength: 100<br>  functionalRegions: none<br>  genomeBuild: hg38<br>  overlappedFunctionalRegions: false<br>makeCalls: <br>  singleBaseMatchReward: 10<br>  singleBaseMismatchPenalty: 12<br>  gapOpenPenalties: 6,26<br>  gapExtensionPenalties: 1,0<br>  minUnitigMappingQuality: 1<br>filterCalls: <br>  maxIntraClusterDistance: 500<br>  minUnitigMappingQuality: 0<br>  minUnitigBlockLength: 25<br>  svtype: DEL<br>",
          "filterCalls.minSVSize: 50<br><br>makeRegions: <br>  slop: 250<br>  minCoverage: 0<br>  maxCoverage: 200<br>  maxRegionLength: 100000<br>  minRepeatPeriod: 6<br>  minRepeatLength: 100<br>  functionalRegions: none<br>  genomeBuild: hg38<br>  overlappedFunctionalRegions: false<br>makeCalls: <br>  singleBaseMatchReward: 10<br>  singleBaseMismatchPenalty: 12<br>  gapOpenPenalties: 6,26<br>  gapExtensionPenalties: 1,0<br>  minUnitigMappingQuality: 1<br>filterCalls: <br>  maxIntraClusterDistance: 500<br>  minUnitigMappingQuality: 0<br>  minUnitigBlockLength: 40<br>  svtype: DEL<br>",
          "filterCalls.minSVSize: 50<br><br>makeRegions: <br>  slop: 250<br>  minCoverage: 0<br>  maxCoverage: 200<br>  maxRegionLength: 100000<br>  minRepeatPeriod: 6<br>  minRepeatLength: 50<br>  functionalRegions: none<br>  genomeBuild: hg38<br>  overlappedFunctionalRegions: false<br>makeCalls: <br>  singleBaseMatchReward: 10<br>  singleBaseMismatchPenalty: 12<br>  gapOpenPenalties: 6,26<br>  gapExtensionPenalties: 1,0<br>  minUnitigMappingQuality: 1<br>filterCalls: <br>  maxIntraClusterDistance: 500<br>  minUnitigMappingQuality: 0<br>  minUnitigBlockLength: 15<br>  svtype: DEL<br>",
          "filterCalls.minSVSize: 50<br><br>makeRegions: <br>  slop: 250<br>  minCoverage: 0<br>  maxCoverage: 200<br>  maxRegionLength: 100000<br>  minRepeatPeriod: 6<br>  minRepeatLength: 50<br>  functionalRegions: none<br>  genomeBuild: hg38<br>  overlappedFunctionalRegions: false<br>makeCalls: <br>  singleBaseMatchReward: 10<br>  singleBaseMismatchPenalty: 12<br>  gapOpenPenalties: 6,26<br>  gapExtensionPenalties: 1,0<br>  minUnitigMappingQuality: 1<br>filterCalls: <br>  maxIntraClusterDistance: 500<br>  minUnitigMappingQuality: 0<br>  minUnitigBlockLength: 25<br>  svtype: DEL<br>",
          "filterCalls.minSVSize: 50<br><br>makeRegions: <br>  slop: 250<br>  minCoverage: 0<br>  maxCoverage: 200<br>  maxRegionLength: 100000<br>  minRepeatPeriod: 6<br>  minRepeatLength: 50<br>  functionalRegions: none<br>  genomeBuild: hg38<br>  overlappedFunctionalRegions: false<br>makeCalls: <br>  singleBaseMatchReward: 10<br>  singleBaseMismatchPenalty: 12<br>  gapOpenPenalties: 6,26<br>  gapExtensionPenalties: 1,0<br>  minUnitigMappingQuality: 1<br>filterCalls: <br>  maxIntraClusterDistance: 500<br>  minUnitigMappingQuality: 0<br>  minUnitigBlockLength: 40<br>  svtype: DEL<br>"
         ],
         "type": "scatter",
         "x": [
          0.17183653372722796,
          0.17183653372722796,
          0.17183653372722796,
          0.1693121693121693,
          0.1693121693121693,
          0.1693121693121693,
          0.17088607594936708,
          0.17088607594936708,
          0.17088607594936708,
          0.16243654822335024,
          0.16243654822335024,
          0.16243654822335024,
          0.17560975609756097,
          0.17560975609756097,
          0.17560975609756097,
          0.1724137931034483,
          0.1724137931034483,
          0.1724137931034483,
          0.24133333333333334,
          0.24133333333333334,
          0.24133333333333334,
          0.23525557011795545,
          0.23525557011795545,
          0.23525557011795545,
          0.23967486818980668,
          0.23967486818980668,
          0.23967486818980668
         ],
         "y": [
          0.4101057579318449,
          0.4101057579318449,
          0.4101057579318449,
          0.4041331802525832,
          0.4041331802525832,
          0.4041331802525832,
          0.4100467289719626,
          0.4100467289719626,
          0.4100467289719626,
          0.3595505617977528,
          0.3595505617977528,
          0.3595505617977528,
          0.3829787234042553,
          0.3829787234042553,
          0.3829787234042553,
          0.3763440860215054,
          0.3763440860215054,
          0.3763440860215054,
          0.5161596958174905,
          0.5161596958174905,
          0.5161596958174905,
          0.5135908440629471,
          0.5135908440629471,
          0.5135908440629471,
          0.5165719696969697,
          0.5165719696969697,
          0.5165719696969697
         ]
        },
        {
         "marker": {
          "color": "white",
          "line": {
           "color": "black",
           "width": 1
          },
          "size": 10,
          "symbol": "circle"
         },
         "mode": "markers",
         "name": "trfermikit",
         "type": "scatter",
         "y": [
          null
         ]
        },
        {
         "marker": {
          "color": "white",
          "line": {
           "color": "black",
           "width": 1
          },
          "size": 10,
          "symbol": "square"
         },
         "mode": "markers",
         "name": "manta",
         "type": "scatter",
         "y": [
          null
         ]
        },
        {
         "marker": {
          "color": "blue",
          "size": 10,
          "symbol": "circle"
         },
         "mode": "markers",
         "name": "minSVSize=50",
         "type": "scatter",
         "y": [
          null
         ]
        },
        {
         "marker": {
          "color": "green",
          "size": 10,
          "symbol": "circle"
         },
         "mode": "markers",
         "name": "minSVSize=100",
         "type": "scatter",
         "y": [
          null
         ]
        },
        {
         "marker": {
          "color": "red",
          "size": 10,
          "symbol": "circle"
         },
         "mode": "markers",
         "name": "minSVSize=500",
         "type": "scatter",
         "y": [
          null
         ]
        }
       ],
       "layout": {
        "template": {
         "data": {
          "bar": [
           {
            "error_x": {
             "color": "#2a3f5f"
            },
            "error_y": {
             "color": "#2a3f5f"
            },
            "marker": {
             "line": {
              "color": "#E5ECF6",
              "width": 0.5
             }
            },
            "type": "bar"
           }
          ],
          "barpolar": [
           {
            "marker": {
             "line": {
              "color": "#E5ECF6",
              "width": 0.5
             }
            },
            "type": "barpolar"
           }
          ],
          "carpet": [
           {
            "aaxis": {
             "endlinecolor": "#2a3f5f",
             "gridcolor": "white",
             "linecolor": "white",
             "minorgridcolor": "white",
             "startlinecolor": "#2a3f5f"
            },
            "baxis": {
             "endlinecolor": "#2a3f5f",
             "gridcolor": "white",
             "linecolor": "white",
             "minorgridcolor": "white",
             "startlinecolor": "#2a3f5f"
            },
            "type": "carpet"
           }
          ],
          "choropleth": [
           {
            "colorbar": {
             "outlinewidth": 0,
             "ticks": ""
            },
            "type": "choropleth"
           }
          ],
          "contour": [
           {
            "colorbar": {
             "outlinewidth": 0,
             "ticks": ""
            },
            "colorscale": [
             [
              0,
              "#0d0887"
             ],
             [
              0.1111111111111111,
              "#46039f"
             ],
             [
              0.2222222222222222,
              "#7201a8"
             ],
             [
              0.3333333333333333,
              "#9c179e"
             ],
             [
              0.4444444444444444,
              "#bd3786"
             ],
             [
              0.5555555555555556,
              "#d8576b"
             ],
             [
              0.6666666666666666,
              "#ed7953"
             ],
             [
              0.7777777777777778,
              "#fb9f3a"
             ],
             [
              0.8888888888888888,
              "#fdca26"
             ],
             [
              1,
              "#f0f921"
             ]
            ],
            "type": "contour"
           }
          ],
          "contourcarpet": [
           {
            "colorbar": {
             "outlinewidth": 0,
             "ticks": ""
            },
            "type": "contourcarpet"
           }
          ],
          "heatmap": [
           {
            "colorbar": {
             "outlinewidth": 0,
             "ticks": ""
            },
            "colorscale": [
             [
              0,
              "#0d0887"
             ],
             [
              0.1111111111111111,
              "#46039f"
             ],
             [
              0.2222222222222222,
              "#7201a8"
             ],
             [
              0.3333333333333333,
              "#9c179e"
             ],
             [
              0.4444444444444444,
              "#bd3786"
             ],
             [
              0.5555555555555556,
              "#d8576b"
             ],
             [
              0.6666666666666666,
              "#ed7953"
             ],
             [
              0.7777777777777778,
              "#fb9f3a"
             ],
             [
              0.8888888888888888,
              "#fdca26"
             ],
             [
              1,
              "#f0f921"
             ]
            ],
            "type": "heatmap"
           }
          ],
          "heatmapgl": [
           {
            "colorbar": {
             "outlinewidth": 0,
             "ticks": ""
            },
            "colorscale": [
             [
              0,
              "#0d0887"
             ],
             [
              0.1111111111111111,
              "#46039f"
             ],
             [
              0.2222222222222222,
              "#7201a8"
             ],
             [
              0.3333333333333333,
              "#9c179e"
             ],
             [
              0.4444444444444444,
              "#bd3786"
             ],
             [
              0.5555555555555556,
              "#d8576b"
             ],
             [
              0.6666666666666666,
              "#ed7953"
             ],
             [
              0.7777777777777778,
              "#fb9f3a"
             ],
             [
              0.8888888888888888,
              "#fdca26"
             ],
             [
              1,
              "#f0f921"
             ]
            ],
            "type": "heatmapgl"
           }
          ],
          "histogram": [
           {
            "marker": {
             "colorbar": {
              "outlinewidth": 0,
              "ticks": ""
             }
            },
            "type": "histogram"
           }
          ],
          "histogram2d": [
           {
            "colorbar": {
             "outlinewidth": 0,
             "ticks": ""
            },
            "colorscale": [
             [
              0,
              "#0d0887"
             ],
             [
              0.1111111111111111,
              "#46039f"
             ],
             [
              0.2222222222222222,
              "#7201a8"
             ],
             [
              0.3333333333333333,
              "#9c179e"
             ],
             [
              0.4444444444444444,
              "#bd3786"
             ],
             [
              0.5555555555555556,
              "#d8576b"
             ],
             [
              0.6666666666666666,
              "#ed7953"
             ],
             [
              0.7777777777777778,
              "#fb9f3a"
             ],
             [
              0.8888888888888888,
              "#fdca26"
             ],
             [
              1,
              "#f0f921"
             ]
            ],
            "type": "histogram2d"
           }
          ],
          "histogram2dcontour": [
           {
            "colorbar": {
             "outlinewidth": 0,
             "ticks": ""
            },
            "colorscale": [
             [
              0,
              "#0d0887"
             ],
             [
              0.1111111111111111,
              "#46039f"
             ],
             [
              0.2222222222222222,
              "#7201a8"
             ],
             [
              0.3333333333333333,
              "#9c179e"
             ],
             [
              0.4444444444444444,
              "#bd3786"
             ],
             [
              0.5555555555555556,
              "#d8576b"
             ],
             [
              0.6666666666666666,
              "#ed7953"
             ],
             [
              0.7777777777777778,
              "#fb9f3a"
             ],
             [
              0.8888888888888888,
              "#fdca26"
             ],
             [
              1,
              "#f0f921"
             ]
            ],
            "type": "histogram2dcontour"
           }
          ],
          "mesh3d": [
           {
            "colorbar": {
             "outlinewidth": 0,
             "ticks": ""
            },
            "type": "mesh3d"
           }
          ],
          "parcoords": [
           {
            "line": {
             "colorbar": {
              "outlinewidth": 0,
              "ticks": ""
             }
            },
            "type": "parcoords"
           }
          ],
          "pie": [
           {
            "automargin": true,
            "type": "pie"
           }
          ],
          "scatter": [
           {
            "marker": {
             "colorbar": {
              "outlinewidth": 0,
              "ticks": ""
             }
            },
            "type": "scatter"
           }
          ],
          "scatter3d": [
           {
            "line": {
             "colorbar": {
              "outlinewidth": 0,
              "ticks": ""
             }
            },
            "marker": {
             "colorbar": {
              "outlinewidth": 0,
              "ticks": ""
             }
            },
            "type": "scatter3d"
           }
          ],
          "scattercarpet": [
           {
            "marker": {
             "colorbar": {
              "outlinewidth": 0,
              "ticks": ""
             }
            },
            "type": "scattercarpet"
           }
          ],
          "scattergeo": [
           {
            "marker": {
             "colorbar": {
              "outlinewidth": 0,
              "ticks": ""
             }
            },
            "type": "scattergeo"
           }
          ],
          "scattergl": [
           {
            "marker": {
             "colorbar": {
              "outlinewidth": 0,
              "ticks": ""
             }
            },
            "type": "scattergl"
           }
          ],
          "scattermapbox": [
           {
            "marker": {
             "colorbar": {
              "outlinewidth": 0,
              "ticks": ""
             }
            },
            "type": "scattermapbox"
           }
          ],
          "scatterpolar": [
           {
            "marker": {
             "colorbar": {
              "outlinewidth": 0,
              "ticks": ""
             }
            },
            "type": "scatterpolar"
           }
          ],
          "scatterpolargl": [
           {
            "marker": {
             "colorbar": {
              "outlinewidth": 0,
              "ticks": ""
             }
            },
            "type": "scatterpolargl"
           }
          ],
          "scatterternary": [
           {
            "marker": {
             "colorbar": {
              "outlinewidth": 0,
              "ticks": ""
             }
            },
            "type": "scatterternary"
           }
          ],
          "surface": [
           {
            "colorbar": {
             "outlinewidth": 0,
             "ticks": ""
            },
            "colorscale": [
             [
              0,
              "#0d0887"
             ],
             [
              0.1111111111111111,
              "#46039f"
             ],
             [
              0.2222222222222222,
              "#7201a8"
             ],
             [
              0.3333333333333333,
              "#9c179e"
             ],
             [
              0.4444444444444444,
              "#bd3786"
             ],
             [
              0.5555555555555556,
              "#d8576b"
             ],
             [
              0.6666666666666666,
              "#ed7953"
             ],
             [
              0.7777777777777778,
              "#fb9f3a"
             ],
             [
              0.8888888888888888,
              "#fdca26"
             ],
             [
              1,
              "#f0f921"
             ]
            ],
            "type": "surface"
           }
          ],
          "table": [
           {
            "cells": {
             "fill": {
              "color": "#EBF0F8"
             },
             "line": {
              "color": "white"
             }
            },
            "header": {
             "fill": {
              "color": "#C8D4E3"
             },
             "line": {
              "color": "white"
             }
            },
            "type": "table"
           }
          ]
         },
         "layout": {
          "annotationdefaults": {
           "arrowcolor": "#2a3f5f",
           "arrowhead": 0,
           "arrowwidth": 1
          },
          "autotypenumbers": "strict",
          "coloraxis": {
           "colorbar": {
            "outlinewidth": 0,
            "ticks": ""
           }
          },
          "colorscale": {
           "diverging": [
            [
             0,
             "#8e0152"
            ],
            [
             0.1,
             "#c51b7d"
            ],
            [
             0.2,
             "#de77ae"
            ],
            [
             0.3,
             "#f1b6da"
            ],
            [
             0.4,
             "#fde0ef"
            ],
            [
             0.5,
             "#f7f7f7"
            ],
            [
             0.6,
             "#e6f5d0"
            ],
            [
             0.7,
             "#b8e186"
            ],
            [
             0.8,
             "#7fbc41"
            ],
            [
             0.9,
             "#4d9221"
            ],
            [
             1,
             "#276419"
            ]
           ],
           "sequential": [
            [
             0,
             "#0d0887"
            ],
            [
             0.1111111111111111,
             "#46039f"
            ],
            [
             0.2222222222222222,
             "#7201a8"
            ],
            [
             0.3333333333333333,
             "#9c179e"
            ],
            [
             0.4444444444444444,
             "#bd3786"
            ],
            [
             0.5555555555555556,
             "#d8576b"
            ],
            [
             0.6666666666666666,
             "#ed7953"
            ],
            [
             0.7777777777777778,
             "#fb9f3a"
            ],
            [
             0.8888888888888888,
             "#fdca26"
            ],
            [
             1,
             "#f0f921"
            ]
           ],
           "sequentialminus": [
            [
             0,
             "#0d0887"
            ],
            [
             0.1111111111111111,
             "#46039f"
            ],
            [
             0.2222222222222222,
             "#7201a8"
            ],
            [
             0.3333333333333333,
             "#9c179e"
            ],
            [
             0.4444444444444444,
             "#bd3786"
            ],
            [
             0.5555555555555556,
             "#d8576b"
            ],
            [
             0.6666666666666666,
             "#ed7953"
            ],
            [
             0.7777777777777778,
             "#fb9f3a"
            ],
            [
             0.8888888888888888,
             "#fdca26"
            ],
            [
             1,
             "#f0f921"
            ]
           ]
          },
          "colorway": [
           "#636efa",
           "#EF553B",
           "#00cc96",
           "#ab63fa",
           "#FFA15A",
           "#19d3f3",
           "#FF6692",
           "#B6E880",
           "#FF97FF",
           "#FECB52"
          ],
          "font": {
           "color": "#2a3f5f"
          },
          "geo": {
           "bgcolor": "white",
           "lakecolor": "white",
           "landcolor": "#E5ECF6",
           "showlakes": true,
           "showland": true,
           "subunitcolor": "white"
          },
          "hoverlabel": {
           "align": "left"
          },
          "hovermode": "closest",
          "mapbox": {
           "style": "light"
          },
          "paper_bgcolor": "white",
          "plot_bgcolor": "#E5ECF6",
          "polar": {
           "angularaxis": {
            "gridcolor": "white",
            "linecolor": "white",
            "ticks": ""
           },
           "bgcolor": "#E5ECF6",
           "radialaxis": {
            "gridcolor": "white",
            "linecolor": "white",
            "ticks": ""
           }
          },
          "scene": {
           "xaxis": {
            "backgroundcolor": "#E5ECF6",
            "gridcolor": "white",
            "gridwidth": 2,
            "linecolor": "white",
            "showbackground": true,
            "ticks": "",
            "zerolinecolor": "white"
           },
           "yaxis": {
            "backgroundcolor": "#E5ECF6",
            "gridcolor": "white",
            "gridwidth": 2,
            "linecolor": "white",
            "showbackground": true,
            "ticks": "",
            "zerolinecolor": "white"
           },
           "zaxis": {
            "backgroundcolor": "#E5ECF6",
            "gridcolor": "white",
            "gridwidth": 2,
            "linecolor": "white",
            "showbackground": true,
            "ticks": "",
            "zerolinecolor": "white"
           }
          },
          "shapedefaults": {
           "line": {
            "color": "#2a3f5f"
           }
          },
          "ternary": {
           "aaxis": {
            "gridcolor": "white",
            "linecolor": "white",
            "ticks": ""
           },
           "baxis": {
            "gridcolor": "white",
            "linecolor": "white",
            "ticks": ""
           },
           "bgcolor": "#E5ECF6",
           "caxis": {
            "gridcolor": "white",
            "linecolor": "white",
            "ticks": ""
           }
          },
          "title": {
           "x": 0.05
          },
          "xaxis": {
           "automargin": true,
           "gridcolor": "white",
           "linecolor": "white",
           "ticks": "",
           "title": {
            "standoff": 15
           },
           "zerolinecolor": "white",
           "zerolinewidth": 2
          },
          "yaxis": {
           "automargin": true,
           "gridcolor": "white",
           "linecolor": "white",
           "ticks": "",
           "title": {
            "standoff": 15
           },
           "zerolinecolor": "white",
           "zerolinewidth": 2
          }
         }
        },
        "title": {
         "text": "minSVSize moves precision and recall in same direction;<br>trfermikit dominates manta only when small SVs are included:"
        },
        "xaxis": {
         "title": {
          "text": "recall"
         }
        },
        "yaxis": {
         "title": {
          "text": "precision"
         }
        }
       }
      },
      "text/html": [
       "<div>                            <div id=\"c71a4e2d-e4a5-431e-a7cd-3ddb23f985fe\" class=\"plotly-graph-div\" style=\"height:525px; width:100%;\"></div>            <script type=\"text/javascript\">                require([\"plotly\"], function(Plotly) {                    window.PLOTLYENV=window.PLOTLYENV || {};                                    if (document.getElementById(\"c71a4e2d-e4a5-431e-a7cd-3ddb23f985fe\")) {                    Plotly.newPlot(                        \"c71a4e2d-e4a5-431e-a7cd-3ddb23f985fe\",                        [{\"hovertemplate\": \"%{text}\", \"marker\": {\"color\": [\"green\", \"green\", \"green\", \"green\", \"green\", \"green\", \"green\", \"green\", \"green\", \"red\", \"red\", \"red\", \"red\", \"red\", \"red\", \"red\", \"red\", \"red\", \"blue\", \"blue\", \"blue\", \"blue\", \"blue\", \"blue\", \"blue\", \"blue\", \"blue\"], \"line\": {\"color\": \"black\", \"width\": 1}, \"size\": 10, \"symbol\": \"circle\"}, \"mode\": \"markers\", \"name\": \"trfermikit\", \"showlegend\": false, \"text\": [\"filterCalls.minSVSize: 100<br><br>makeRegions: <br>  slop: 250<br>  minCoverage: 0<br>  maxCoverage: 200<br>  maxRegionLength: 100000<br>  minRepeatPeriod: 6<br>  minRepeatLength: 0<br>  functionalRegions: none<br>  genomeBuild: hg38<br>  overlappedFunctionalRegions: false<br>makeCalls: <br>  singleBaseMatchReward: 10<br>  singleBaseMismatchPenalty: 12<br>  gapOpenPenalties: 6,26<br>  gapExtensionPenalties: 1,0<br>  minUnitigMappingQuality: 1<br>filterCalls: <br>  maxIntraClusterDistance: 500<br>  minUnitigMappingQuality: 0<br>  minUnitigBlockLength: 15<br>  svtype: DEL<br>\", \"filterCalls.minSVSize: 100<br><br>makeRegions: <br>  slop: 250<br>  minCoverage: 0<br>  maxCoverage: 200<br>  maxRegionLength: 100000<br>  minRepeatPeriod: 6<br>  minRepeatLength: 0<br>  functionalRegions: none<br>  genomeBuild: hg38<br>  overlappedFunctionalRegions: false<br>makeCalls: <br>  singleBaseMatchReward: 10<br>  singleBaseMismatchPenalty: 12<br>  gapOpenPenalties: 6,26<br>  gapExtensionPenalties: 1,0<br>  minUnitigMappingQuality: 1<br>filterCalls: <br>  maxIntraClusterDistance: 500<br>  minUnitigMappingQuality: 0<br>  minUnitigBlockLength: 25<br>  svtype: DEL<br>\", \"filterCalls.minSVSize: 100<br><br>makeRegions: <br>  slop: 250<br>  minCoverage: 0<br>  maxCoverage: 200<br>  maxRegionLength: 100000<br>  minRepeatPeriod: 6<br>  minRepeatLength: 0<br>  functionalRegions: none<br>  genomeBuild: hg38<br>  overlappedFunctionalRegions: false<br>makeCalls: <br>  singleBaseMatchReward: 10<br>  singleBaseMismatchPenalty: 12<br>  gapOpenPenalties: 6,26<br>  gapExtensionPenalties: 1,0<br>  minUnitigMappingQuality: 1<br>filterCalls: <br>  maxIntraClusterDistance: 500<br>  minUnitigMappingQuality: 0<br>  minUnitigBlockLength: 40<br>  svtype: DEL<br>\", \"filterCalls.minSVSize: 100<br><br>makeRegions: <br>  slop: 250<br>  minCoverage: 0<br>  maxCoverage: 200<br>  maxRegionLength: 100000<br>  minRepeatPeriod: 6<br>  minRepeatLength: 100<br>  functionalRegions: none<br>  genomeBuild: hg38<br>  overlappedFunctionalRegions: false<br>makeCalls: <br>  singleBaseMatchReward: 10<br>  singleBaseMismatchPenalty: 12<br>  gapOpenPenalties: 6,26<br>  gapExtensionPenalties: 1,0<br>  minUnitigMappingQuality: 1<br>filterCalls: <br>  maxIntraClusterDistance: 500<br>  minUnitigMappingQuality: 0<br>  minUnitigBlockLength: 15<br>  svtype: DEL<br>\", \"filterCalls.minSVSize: 100<br><br>makeRegions: <br>  slop: 250<br>  minCoverage: 0<br>  maxCoverage: 200<br>  maxRegionLength: 100000<br>  minRepeatPeriod: 6<br>  minRepeatLength: 100<br>  functionalRegions: none<br>  genomeBuild: hg38<br>  overlappedFunctionalRegions: false<br>makeCalls: <br>  singleBaseMatchReward: 10<br>  singleBaseMismatchPenalty: 12<br>  gapOpenPenalties: 6,26<br>  gapExtensionPenalties: 1,0<br>  minUnitigMappingQuality: 1<br>filterCalls: <br>  maxIntraClusterDistance: 500<br>  minUnitigMappingQuality: 0<br>  minUnitigBlockLength: 25<br>  svtype: DEL<br>\", \"filterCalls.minSVSize: 100<br><br>makeRegions: <br>  slop: 250<br>  minCoverage: 0<br>  maxCoverage: 200<br>  maxRegionLength: 100000<br>  minRepeatPeriod: 6<br>  minRepeatLength: 100<br>  functionalRegions: none<br>  genomeBuild: hg38<br>  overlappedFunctionalRegions: false<br>makeCalls: <br>  singleBaseMatchReward: 10<br>  singleBaseMismatchPenalty: 12<br>  gapOpenPenalties: 6,26<br>  gapExtensionPenalties: 1,0<br>  minUnitigMappingQuality: 1<br>filterCalls: <br>  maxIntraClusterDistance: 500<br>  minUnitigMappingQuality: 0<br>  minUnitigBlockLength: 40<br>  svtype: DEL<br>\", \"filterCalls.minSVSize: 100<br><br>makeRegions: <br>  slop: 250<br>  minCoverage: 0<br>  maxCoverage: 200<br>  maxRegionLength: 100000<br>  minRepeatPeriod: 6<br>  minRepeatLength: 50<br>  functionalRegions: none<br>  genomeBuild: hg38<br>  overlappedFunctionalRegions: false<br>makeCalls: <br>  singleBaseMatchReward: 10<br>  singleBaseMismatchPenalty: 12<br>  gapOpenPenalties: 6,26<br>  gapExtensionPenalties: 1,0<br>  minUnitigMappingQuality: 1<br>filterCalls: <br>  maxIntraClusterDistance: 500<br>  minUnitigMappingQuality: 0<br>  minUnitigBlockLength: 15<br>  svtype: DEL<br>\", \"filterCalls.minSVSize: 100<br><br>makeRegions: <br>  slop: 250<br>  minCoverage: 0<br>  maxCoverage: 200<br>  maxRegionLength: 100000<br>  minRepeatPeriod: 6<br>  minRepeatLength: 50<br>  functionalRegions: none<br>  genomeBuild: hg38<br>  overlappedFunctionalRegions: false<br>makeCalls: <br>  singleBaseMatchReward: 10<br>  singleBaseMismatchPenalty: 12<br>  gapOpenPenalties: 6,26<br>  gapExtensionPenalties: 1,0<br>  minUnitigMappingQuality: 1<br>filterCalls: <br>  maxIntraClusterDistance: 500<br>  minUnitigMappingQuality: 0<br>  minUnitigBlockLength: 25<br>  svtype: DEL<br>\", \"filterCalls.minSVSize: 100<br><br>makeRegions: <br>  slop: 250<br>  minCoverage: 0<br>  maxCoverage: 200<br>  maxRegionLength: 100000<br>  minRepeatPeriod: 6<br>  minRepeatLength: 50<br>  functionalRegions: none<br>  genomeBuild: hg38<br>  overlappedFunctionalRegions: false<br>makeCalls: <br>  singleBaseMatchReward: 10<br>  singleBaseMismatchPenalty: 12<br>  gapOpenPenalties: 6,26<br>  gapExtensionPenalties: 1,0<br>  minUnitigMappingQuality: 1<br>filterCalls: <br>  maxIntraClusterDistance: 500<br>  minUnitigMappingQuality: 0<br>  minUnitigBlockLength: 40<br>  svtype: DEL<br>\", \"filterCalls.minSVSize: 500<br><br>makeRegions: <br>  slop: 250<br>  minCoverage: 0<br>  maxCoverage: 200<br>  maxRegionLength: 100000<br>  minRepeatPeriod: 6<br>  minRepeatLength: 0<br>  functionalRegions: none<br>  genomeBuild: hg38<br>  overlappedFunctionalRegions: false<br>makeCalls: <br>  singleBaseMatchReward: 10<br>  singleBaseMismatchPenalty: 12<br>  gapOpenPenalties: 6,26<br>  gapExtensionPenalties: 1,0<br>  minUnitigMappingQuality: 1<br>filterCalls: <br>  maxIntraClusterDistance: 500<br>  minUnitigMappingQuality: 0<br>  minUnitigBlockLength: 15<br>  svtype: DEL<br>\", \"filterCalls.minSVSize: 500<br><br>makeRegions: <br>  slop: 250<br>  minCoverage: 0<br>  maxCoverage: 200<br>  maxRegionLength: 100000<br>  minRepeatPeriod: 6<br>  minRepeatLength: 0<br>  functionalRegions: none<br>  genomeBuild: hg38<br>  overlappedFunctionalRegions: false<br>makeCalls: <br>  singleBaseMatchReward: 10<br>  singleBaseMismatchPenalty: 12<br>  gapOpenPenalties: 6,26<br>  gapExtensionPenalties: 1,0<br>  minUnitigMappingQuality: 1<br>filterCalls: <br>  maxIntraClusterDistance: 500<br>  minUnitigMappingQuality: 0<br>  minUnitigBlockLength: 25<br>  svtype: DEL<br>\", \"filterCalls.minSVSize: 500<br><br>makeRegions: <br>  slop: 250<br>  minCoverage: 0<br>  maxCoverage: 200<br>  maxRegionLength: 100000<br>  minRepeatPeriod: 6<br>  minRepeatLength: 0<br>  functionalRegions: none<br>  genomeBuild: hg38<br>  overlappedFunctionalRegions: false<br>makeCalls: <br>  singleBaseMatchReward: 10<br>  singleBaseMismatchPenalty: 12<br>  gapOpenPenalties: 6,26<br>  gapExtensionPenalties: 1,0<br>  minUnitigMappingQuality: 1<br>filterCalls: <br>  maxIntraClusterDistance: 500<br>  minUnitigMappingQuality: 0<br>  minUnitigBlockLength: 40<br>  svtype: DEL<br>\", \"filterCalls.minSVSize: 500<br><br>makeRegions: <br>  slop: 250<br>  minCoverage: 0<br>  maxCoverage: 200<br>  maxRegionLength: 100000<br>  minRepeatPeriod: 6<br>  minRepeatLength: 100<br>  functionalRegions: none<br>  genomeBuild: hg38<br>  overlappedFunctionalRegions: false<br>makeCalls: <br>  singleBaseMatchReward: 10<br>  singleBaseMismatchPenalty: 12<br>  gapOpenPenalties: 6,26<br>  gapExtensionPenalties: 1,0<br>  minUnitigMappingQuality: 1<br>filterCalls: <br>  maxIntraClusterDistance: 500<br>  minUnitigMappingQuality: 0<br>  minUnitigBlockLength: 15<br>  svtype: DEL<br>\", \"filterCalls.minSVSize: 500<br><br>makeRegions: <br>  slop: 250<br>  minCoverage: 0<br>  maxCoverage: 200<br>  maxRegionLength: 100000<br>  minRepeatPeriod: 6<br>  minRepeatLength: 100<br>  functionalRegions: none<br>  genomeBuild: hg38<br>  overlappedFunctionalRegions: false<br>makeCalls: <br>  singleBaseMatchReward: 10<br>  singleBaseMismatchPenalty: 12<br>  gapOpenPenalties: 6,26<br>  gapExtensionPenalties: 1,0<br>  minUnitigMappingQuality: 1<br>filterCalls: <br>  maxIntraClusterDistance: 500<br>  minUnitigMappingQuality: 0<br>  minUnitigBlockLength: 25<br>  svtype: DEL<br>\", \"filterCalls.minSVSize: 500<br><br>makeRegions: <br>  slop: 250<br>  minCoverage: 0<br>  maxCoverage: 200<br>  maxRegionLength: 100000<br>  minRepeatPeriod: 6<br>  minRepeatLength: 100<br>  functionalRegions: none<br>  genomeBuild: hg38<br>  overlappedFunctionalRegions: false<br>makeCalls: <br>  singleBaseMatchReward: 10<br>  singleBaseMismatchPenalty: 12<br>  gapOpenPenalties: 6,26<br>  gapExtensionPenalties: 1,0<br>  minUnitigMappingQuality: 1<br>filterCalls: <br>  maxIntraClusterDistance: 500<br>  minUnitigMappingQuality: 0<br>  minUnitigBlockLength: 40<br>  svtype: DEL<br>\", \"filterCalls.minSVSize: 500<br><br>makeRegions: <br>  slop: 250<br>  minCoverage: 0<br>  maxCoverage: 200<br>  maxRegionLength: 100000<br>  minRepeatPeriod: 6<br>  minRepeatLength: 50<br>  functionalRegions: none<br>  genomeBuild: hg38<br>  overlappedFunctionalRegions: false<br>makeCalls: <br>  singleBaseMatchReward: 10<br>  singleBaseMismatchPenalty: 12<br>  gapOpenPenalties: 6,26<br>  gapExtensionPenalties: 1,0<br>  minUnitigMappingQuality: 1<br>filterCalls: <br>  maxIntraClusterDistance: 500<br>  minUnitigMappingQuality: 0<br>  minUnitigBlockLength: 15<br>  svtype: DEL<br>\", \"filterCalls.minSVSize: 500<br><br>makeRegions: <br>  slop: 250<br>  minCoverage: 0<br>  maxCoverage: 200<br>  maxRegionLength: 100000<br>  minRepeatPeriod: 6<br>  minRepeatLength: 50<br>  functionalRegions: none<br>  genomeBuild: hg38<br>  overlappedFunctionalRegions: false<br>makeCalls: <br>  singleBaseMatchReward: 10<br>  singleBaseMismatchPenalty: 12<br>  gapOpenPenalties: 6,26<br>  gapExtensionPenalties: 1,0<br>  minUnitigMappingQuality: 1<br>filterCalls: <br>  maxIntraClusterDistance: 500<br>  minUnitigMappingQuality: 0<br>  minUnitigBlockLength: 25<br>  svtype: DEL<br>\", \"filterCalls.minSVSize: 500<br><br>makeRegions: <br>  slop: 250<br>  minCoverage: 0<br>  maxCoverage: 200<br>  maxRegionLength: 100000<br>  minRepeatPeriod: 6<br>  minRepeatLength: 50<br>  functionalRegions: none<br>  genomeBuild: hg38<br>  overlappedFunctionalRegions: false<br>makeCalls: <br>  singleBaseMatchReward: 10<br>  singleBaseMismatchPenalty: 12<br>  gapOpenPenalties: 6,26<br>  gapExtensionPenalties: 1,0<br>  minUnitigMappingQuality: 1<br>filterCalls: <br>  maxIntraClusterDistance: 500<br>  minUnitigMappingQuality: 0<br>  minUnitigBlockLength: 40<br>  svtype: DEL<br>\", \"filterCalls.minSVSize: 50<br><br>makeRegions: <br>  slop: 250<br>  minCoverage: 0<br>  maxCoverage: 200<br>  maxRegionLength: 100000<br>  minRepeatPeriod: 6<br>  minRepeatLength: 0<br>  functionalRegions: none<br>  genomeBuild: hg38<br>  overlappedFunctionalRegions: false<br>makeCalls: <br>  singleBaseMatchReward: 10<br>  singleBaseMismatchPenalty: 12<br>  gapOpenPenalties: 6,26<br>  gapExtensionPenalties: 1,0<br>  minUnitigMappingQuality: 1<br>filterCalls: <br>  maxIntraClusterDistance: 500<br>  minUnitigMappingQuality: 0<br>  minUnitigBlockLength: 15<br>  svtype: DEL<br>\", \"filterCalls.minSVSize: 50<br><br>makeRegions: <br>  slop: 250<br>  minCoverage: 0<br>  maxCoverage: 200<br>  maxRegionLength: 100000<br>  minRepeatPeriod: 6<br>  minRepeatLength: 0<br>  functionalRegions: none<br>  genomeBuild: hg38<br>  overlappedFunctionalRegions: false<br>makeCalls: <br>  singleBaseMatchReward: 10<br>  singleBaseMismatchPenalty: 12<br>  gapOpenPenalties: 6,26<br>  gapExtensionPenalties: 1,0<br>  minUnitigMappingQuality: 1<br>filterCalls: <br>  maxIntraClusterDistance: 500<br>  minUnitigMappingQuality: 0<br>  minUnitigBlockLength: 25<br>  svtype: DEL<br>\", \"filterCalls.minSVSize: 50<br><br>makeRegions: <br>  slop: 250<br>  minCoverage: 0<br>  maxCoverage: 200<br>  maxRegionLength: 100000<br>  minRepeatPeriod: 6<br>  minRepeatLength: 0<br>  functionalRegions: none<br>  genomeBuild: hg38<br>  overlappedFunctionalRegions: false<br>makeCalls: <br>  singleBaseMatchReward: 10<br>  singleBaseMismatchPenalty: 12<br>  gapOpenPenalties: 6,26<br>  gapExtensionPenalties: 1,0<br>  minUnitigMappingQuality: 1<br>filterCalls: <br>  maxIntraClusterDistance: 500<br>  minUnitigMappingQuality: 0<br>  minUnitigBlockLength: 40<br>  svtype: DEL<br>\", \"filterCalls.minSVSize: 50<br><br>makeRegions: <br>  slop: 250<br>  minCoverage: 0<br>  maxCoverage: 200<br>  maxRegionLength: 100000<br>  minRepeatPeriod: 6<br>  minRepeatLength: 100<br>  functionalRegions: none<br>  genomeBuild: hg38<br>  overlappedFunctionalRegions: false<br>makeCalls: <br>  singleBaseMatchReward: 10<br>  singleBaseMismatchPenalty: 12<br>  gapOpenPenalties: 6,26<br>  gapExtensionPenalties: 1,0<br>  minUnitigMappingQuality: 1<br>filterCalls: <br>  maxIntraClusterDistance: 500<br>  minUnitigMappingQuality: 0<br>  minUnitigBlockLength: 15<br>  svtype: DEL<br>\", \"filterCalls.minSVSize: 50<br><br>makeRegions: <br>  slop: 250<br>  minCoverage: 0<br>  maxCoverage: 200<br>  maxRegionLength: 100000<br>  minRepeatPeriod: 6<br>  minRepeatLength: 100<br>  functionalRegions: none<br>  genomeBuild: hg38<br>  overlappedFunctionalRegions: false<br>makeCalls: <br>  singleBaseMatchReward: 10<br>  singleBaseMismatchPenalty: 12<br>  gapOpenPenalties: 6,26<br>  gapExtensionPenalties: 1,0<br>  minUnitigMappingQuality: 1<br>filterCalls: <br>  maxIntraClusterDistance: 500<br>  minUnitigMappingQuality: 0<br>  minUnitigBlockLength: 25<br>  svtype: DEL<br>\", \"filterCalls.minSVSize: 50<br><br>makeRegions: <br>  slop: 250<br>  minCoverage: 0<br>  maxCoverage: 200<br>  maxRegionLength: 100000<br>  minRepeatPeriod: 6<br>  minRepeatLength: 100<br>  functionalRegions: none<br>  genomeBuild: hg38<br>  overlappedFunctionalRegions: false<br>makeCalls: <br>  singleBaseMatchReward: 10<br>  singleBaseMismatchPenalty: 12<br>  gapOpenPenalties: 6,26<br>  gapExtensionPenalties: 1,0<br>  minUnitigMappingQuality: 1<br>filterCalls: <br>  maxIntraClusterDistance: 500<br>  minUnitigMappingQuality: 0<br>  minUnitigBlockLength: 40<br>  svtype: DEL<br>\", \"filterCalls.minSVSize: 50<br><br>makeRegions: <br>  slop: 250<br>  minCoverage: 0<br>  maxCoverage: 200<br>  maxRegionLength: 100000<br>  minRepeatPeriod: 6<br>  minRepeatLength: 50<br>  functionalRegions: none<br>  genomeBuild: hg38<br>  overlappedFunctionalRegions: false<br>makeCalls: <br>  singleBaseMatchReward: 10<br>  singleBaseMismatchPenalty: 12<br>  gapOpenPenalties: 6,26<br>  gapExtensionPenalties: 1,0<br>  minUnitigMappingQuality: 1<br>filterCalls: <br>  maxIntraClusterDistance: 500<br>  minUnitigMappingQuality: 0<br>  minUnitigBlockLength: 15<br>  svtype: DEL<br>\", \"filterCalls.minSVSize: 50<br><br>makeRegions: <br>  slop: 250<br>  minCoverage: 0<br>  maxCoverage: 200<br>  maxRegionLength: 100000<br>  minRepeatPeriod: 6<br>  minRepeatLength: 50<br>  functionalRegions: none<br>  genomeBuild: hg38<br>  overlappedFunctionalRegions: false<br>makeCalls: <br>  singleBaseMatchReward: 10<br>  singleBaseMismatchPenalty: 12<br>  gapOpenPenalties: 6,26<br>  gapExtensionPenalties: 1,0<br>  minUnitigMappingQuality: 1<br>filterCalls: <br>  maxIntraClusterDistance: 500<br>  minUnitigMappingQuality: 0<br>  minUnitigBlockLength: 25<br>  svtype: DEL<br>\", \"filterCalls.minSVSize: 50<br><br>makeRegions: <br>  slop: 250<br>  minCoverage: 0<br>  maxCoverage: 200<br>  maxRegionLength: 100000<br>  minRepeatPeriod: 6<br>  minRepeatLength: 50<br>  functionalRegions: none<br>  genomeBuild: hg38<br>  overlappedFunctionalRegions: false<br>makeCalls: <br>  singleBaseMatchReward: 10<br>  singleBaseMismatchPenalty: 12<br>  gapOpenPenalties: 6,26<br>  gapExtensionPenalties: 1,0<br>  minUnitigMappingQuality: 1<br>filterCalls: <br>  maxIntraClusterDistance: 500<br>  minUnitigMappingQuality: 0<br>  minUnitigBlockLength: 40<br>  svtype: DEL<br>\"], \"type\": \"scatter\", \"x\": [0.24716888232397832, 0.2343673067454456, 0.20925652387986213, 0.24627224627224628, 0.2376142376142376, 0.20346320346320346, 0.249269717624148, 0.23904576436222005, 0.2098344693281402, 0.06598984771573604, 0.050761421319796954, 0.05583756345177665, 0.07317073170731707, 0.05365853658536585, 0.04878048780487805, 0.06896551724137931, 0.059113300492610835, 0.04433497536945813, 0.33866666666666667, 0.3233333333333333, 0.28644444444444445, 0.33857579729139364, 0.3215377894276977, 0.28462210572302316, 0.3400702987697715, 0.3251318101933216, 0.2884446397188049], \"y\": [0.26421052631578945, 0.34744525547445254, 0.4579741379310345, 0.25806451612903225, 0.34764250527797325, 0.44714587737843553, 0.26528497409326424, 0.3492176386913229, 0.4654427645788337, 0.15853658536585366, 0.19607843137254902, 0.28205128205128205, 0.1744186046511628, 0.22448979591836735, 0.2564102564102564, 0.16470588235294117, 0.23076923076923078, 0.23076923076923078, 0.3876876112948359, 0.46411483253588515, 0.5525075010715816, 0.3883738411425708, 0.46274756365922665, 0.5509513742071882, 0.3903177004538578, 0.46540880503144655, 0.5565917761763459]}, {\"hovertemplate\": \"%{text}\", \"marker\": {\"color\": [\"green\", \"green\", \"green\", \"green\", \"green\", \"green\", \"green\", \"green\", \"green\", \"red\", \"red\", \"red\", \"red\", \"red\", \"red\", \"red\", \"red\", \"red\", \"blue\", \"blue\", \"blue\", \"blue\", \"blue\", \"blue\", \"blue\", \"blue\", \"blue\"], \"line\": {\"color\": \"black\", \"width\": 1}, \"size\": 10, \"symbol\": \"square\"}, \"mode\": \"markers\", \"name\": \"manta\", \"showlegend\": false, \"text\": [\"filterCalls.minSVSize: 100<br><br>makeRegions: <br>  slop: 250<br>  minCoverage: 0<br>  maxCoverage: 200<br>  maxRegionLength: 100000<br>  minRepeatPeriod: 6<br>  minRepeatLength: 0<br>  functionalRegions: none<br>  genomeBuild: hg38<br>  overlappedFunctionalRegions: false<br>makeCalls: <br>  singleBaseMatchReward: 10<br>  singleBaseMismatchPenalty: 12<br>  gapOpenPenalties: 6,26<br>  gapExtensionPenalties: 1,0<br>  minUnitigMappingQuality: 1<br>filterCalls: <br>  maxIntraClusterDistance: 500<br>  minUnitigMappingQuality: 0<br>  minUnitigBlockLength: 15<br>  svtype: DEL<br>\", \"filterCalls.minSVSize: 100<br><br>makeRegions: <br>  slop: 250<br>  minCoverage: 0<br>  maxCoverage: 200<br>  maxRegionLength: 100000<br>  minRepeatPeriod: 6<br>  minRepeatLength: 0<br>  functionalRegions: none<br>  genomeBuild: hg38<br>  overlappedFunctionalRegions: false<br>makeCalls: <br>  singleBaseMatchReward: 10<br>  singleBaseMismatchPenalty: 12<br>  gapOpenPenalties: 6,26<br>  gapExtensionPenalties: 1,0<br>  minUnitigMappingQuality: 1<br>filterCalls: <br>  maxIntraClusterDistance: 500<br>  minUnitigMappingQuality: 0<br>  minUnitigBlockLength: 25<br>  svtype: DEL<br>\", \"filterCalls.minSVSize: 100<br><br>makeRegions: <br>  slop: 250<br>  minCoverage: 0<br>  maxCoverage: 200<br>  maxRegionLength: 100000<br>  minRepeatPeriod: 6<br>  minRepeatLength: 0<br>  functionalRegions: none<br>  genomeBuild: hg38<br>  overlappedFunctionalRegions: false<br>makeCalls: <br>  singleBaseMatchReward: 10<br>  singleBaseMismatchPenalty: 12<br>  gapOpenPenalties: 6,26<br>  gapExtensionPenalties: 1,0<br>  minUnitigMappingQuality: 1<br>filterCalls: <br>  maxIntraClusterDistance: 500<br>  minUnitigMappingQuality: 0<br>  minUnitigBlockLength: 40<br>  svtype: DEL<br>\", \"filterCalls.minSVSize: 100<br><br>makeRegions: <br>  slop: 250<br>  minCoverage: 0<br>  maxCoverage: 200<br>  maxRegionLength: 100000<br>  minRepeatPeriod: 6<br>  minRepeatLength: 100<br>  functionalRegions: none<br>  genomeBuild: hg38<br>  overlappedFunctionalRegions: false<br>makeCalls: <br>  singleBaseMatchReward: 10<br>  singleBaseMismatchPenalty: 12<br>  gapOpenPenalties: 6,26<br>  gapExtensionPenalties: 1,0<br>  minUnitigMappingQuality: 1<br>filterCalls: <br>  maxIntraClusterDistance: 500<br>  minUnitigMappingQuality: 0<br>  minUnitigBlockLength: 15<br>  svtype: DEL<br>\", \"filterCalls.minSVSize: 100<br><br>makeRegions: <br>  slop: 250<br>  minCoverage: 0<br>  maxCoverage: 200<br>  maxRegionLength: 100000<br>  minRepeatPeriod: 6<br>  minRepeatLength: 100<br>  functionalRegions: none<br>  genomeBuild: hg38<br>  overlappedFunctionalRegions: false<br>makeCalls: <br>  singleBaseMatchReward: 10<br>  singleBaseMismatchPenalty: 12<br>  gapOpenPenalties: 6,26<br>  gapExtensionPenalties: 1,0<br>  minUnitigMappingQuality: 1<br>filterCalls: <br>  maxIntraClusterDistance: 500<br>  minUnitigMappingQuality: 0<br>  minUnitigBlockLength: 25<br>  svtype: DEL<br>\", \"filterCalls.minSVSize: 100<br><br>makeRegions: <br>  slop: 250<br>  minCoverage: 0<br>  maxCoverage: 200<br>  maxRegionLength: 100000<br>  minRepeatPeriod: 6<br>  minRepeatLength: 100<br>  functionalRegions: none<br>  genomeBuild: hg38<br>  overlappedFunctionalRegions: false<br>makeCalls: <br>  singleBaseMatchReward: 10<br>  singleBaseMismatchPenalty: 12<br>  gapOpenPenalties: 6,26<br>  gapExtensionPenalties: 1,0<br>  minUnitigMappingQuality: 1<br>filterCalls: <br>  maxIntraClusterDistance: 500<br>  minUnitigMappingQuality: 0<br>  minUnitigBlockLength: 40<br>  svtype: DEL<br>\", \"filterCalls.minSVSize: 100<br><br>makeRegions: <br>  slop: 250<br>  minCoverage: 0<br>  maxCoverage: 200<br>  maxRegionLength: 100000<br>  minRepeatPeriod: 6<br>  minRepeatLength: 50<br>  functionalRegions: none<br>  genomeBuild: hg38<br>  overlappedFunctionalRegions: false<br>makeCalls: <br>  singleBaseMatchReward: 10<br>  singleBaseMismatchPenalty: 12<br>  gapOpenPenalties: 6,26<br>  gapExtensionPenalties: 1,0<br>  minUnitigMappingQuality: 1<br>filterCalls: <br>  maxIntraClusterDistance: 500<br>  minUnitigMappingQuality: 0<br>  minUnitigBlockLength: 15<br>  svtype: DEL<br>\", \"filterCalls.minSVSize: 100<br><br>makeRegions: <br>  slop: 250<br>  minCoverage: 0<br>  maxCoverage: 200<br>  maxRegionLength: 100000<br>  minRepeatPeriod: 6<br>  minRepeatLength: 50<br>  functionalRegions: none<br>  genomeBuild: hg38<br>  overlappedFunctionalRegions: false<br>makeCalls: <br>  singleBaseMatchReward: 10<br>  singleBaseMismatchPenalty: 12<br>  gapOpenPenalties: 6,26<br>  gapExtensionPenalties: 1,0<br>  minUnitigMappingQuality: 1<br>filterCalls: <br>  maxIntraClusterDistance: 500<br>  minUnitigMappingQuality: 0<br>  minUnitigBlockLength: 25<br>  svtype: DEL<br>\", \"filterCalls.minSVSize: 100<br><br>makeRegions: <br>  slop: 250<br>  minCoverage: 0<br>  maxCoverage: 200<br>  maxRegionLength: 100000<br>  minRepeatPeriod: 6<br>  minRepeatLength: 50<br>  functionalRegions: none<br>  genomeBuild: hg38<br>  overlappedFunctionalRegions: false<br>makeCalls: <br>  singleBaseMatchReward: 10<br>  singleBaseMismatchPenalty: 12<br>  gapOpenPenalties: 6,26<br>  gapExtensionPenalties: 1,0<br>  minUnitigMappingQuality: 1<br>filterCalls: <br>  maxIntraClusterDistance: 500<br>  minUnitigMappingQuality: 0<br>  minUnitigBlockLength: 40<br>  svtype: DEL<br>\", \"filterCalls.minSVSize: 500<br><br>makeRegions: <br>  slop: 250<br>  minCoverage: 0<br>  maxCoverage: 200<br>  maxRegionLength: 100000<br>  minRepeatPeriod: 6<br>  minRepeatLength: 0<br>  functionalRegions: none<br>  genomeBuild: hg38<br>  overlappedFunctionalRegions: false<br>makeCalls: <br>  singleBaseMatchReward: 10<br>  singleBaseMismatchPenalty: 12<br>  gapOpenPenalties: 6,26<br>  gapExtensionPenalties: 1,0<br>  minUnitigMappingQuality: 1<br>filterCalls: <br>  maxIntraClusterDistance: 500<br>  minUnitigMappingQuality: 0<br>  minUnitigBlockLength: 15<br>  svtype: DEL<br>\", \"filterCalls.minSVSize: 500<br><br>makeRegions: <br>  slop: 250<br>  minCoverage: 0<br>  maxCoverage: 200<br>  maxRegionLength: 100000<br>  minRepeatPeriod: 6<br>  minRepeatLength: 0<br>  functionalRegions: none<br>  genomeBuild: hg38<br>  overlappedFunctionalRegions: false<br>makeCalls: <br>  singleBaseMatchReward: 10<br>  singleBaseMismatchPenalty: 12<br>  gapOpenPenalties: 6,26<br>  gapExtensionPenalties: 1,0<br>  minUnitigMappingQuality: 1<br>filterCalls: <br>  maxIntraClusterDistance: 500<br>  minUnitigMappingQuality: 0<br>  minUnitigBlockLength: 25<br>  svtype: DEL<br>\", \"filterCalls.minSVSize: 500<br><br>makeRegions: <br>  slop: 250<br>  minCoverage: 0<br>  maxCoverage: 200<br>  maxRegionLength: 100000<br>  minRepeatPeriod: 6<br>  minRepeatLength: 0<br>  functionalRegions: none<br>  genomeBuild: hg38<br>  overlappedFunctionalRegions: false<br>makeCalls: <br>  singleBaseMatchReward: 10<br>  singleBaseMismatchPenalty: 12<br>  gapOpenPenalties: 6,26<br>  gapExtensionPenalties: 1,0<br>  minUnitigMappingQuality: 1<br>filterCalls: <br>  maxIntraClusterDistance: 500<br>  minUnitigMappingQuality: 0<br>  minUnitigBlockLength: 40<br>  svtype: DEL<br>\", \"filterCalls.minSVSize: 500<br><br>makeRegions: <br>  slop: 250<br>  minCoverage: 0<br>  maxCoverage: 200<br>  maxRegionLength: 100000<br>  minRepeatPeriod: 6<br>  minRepeatLength: 100<br>  functionalRegions: none<br>  genomeBuild: hg38<br>  overlappedFunctionalRegions: false<br>makeCalls: <br>  singleBaseMatchReward: 10<br>  singleBaseMismatchPenalty: 12<br>  gapOpenPenalties: 6,26<br>  gapExtensionPenalties: 1,0<br>  minUnitigMappingQuality: 1<br>filterCalls: <br>  maxIntraClusterDistance: 500<br>  minUnitigMappingQuality: 0<br>  minUnitigBlockLength: 15<br>  svtype: DEL<br>\", \"filterCalls.minSVSize: 500<br><br>makeRegions: <br>  slop: 250<br>  minCoverage: 0<br>  maxCoverage: 200<br>  maxRegionLength: 100000<br>  minRepeatPeriod: 6<br>  minRepeatLength: 100<br>  functionalRegions: none<br>  genomeBuild: hg38<br>  overlappedFunctionalRegions: false<br>makeCalls: <br>  singleBaseMatchReward: 10<br>  singleBaseMismatchPenalty: 12<br>  gapOpenPenalties: 6,26<br>  gapExtensionPenalties: 1,0<br>  minUnitigMappingQuality: 1<br>filterCalls: <br>  maxIntraClusterDistance: 500<br>  minUnitigMappingQuality: 0<br>  minUnitigBlockLength: 25<br>  svtype: DEL<br>\", \"filterCalls.minSVSize: 500<br><br>makeRegions: <br>  slop: 250<br>  minCoverage: 0<br>  maxCoverage: 200<br>  maxRegionLength: 100000<br>  minRepeatPeriod: 6<br>  minRepeatLength: 100<br>  functionalRegions: none<br>  genomeBuild: hg38<br>  overlappedFunctionalRegions: false<br>makeCalls: <br>  singleBaseMatchReward: 10<br>  singleBaseMismatchPenalty: 12<br>  gapOpenPenalties: 6,26<br>  gapExtensionPenalties: 1,0<br>  minUnitigMappingQuality: 1<br>filterCalls: <br>  maxIntraClusterDistance: 500<br>  minUnitigMappingQuality: 0<br>  minUnitigBlockLength: 40<br>  svtype: DEL<br>\", \"filterCalls.minSVSize: 500<br><br>makeRegions: <br>  slop: 250<br>  minCoverage: 0<br>  maxCoverage: 200<br>  maxRegionLength: 100000<br>  minRepeatPeriod: 6<br>  minRepeatLength: 50<br>  functionalRegions: none<br>  genomeBuild: hg38<br>  overlappedFunctionalRegions: false<br>makeCalls: <br>  singleBaseMatchReward: 10<br>  singleBaseMismatchPenalty: 12<br>  gapOpenPenalties: 6,26<br>  gapExtensionPenalties: 1,0<br>  minUnitigMappingQuality: 1<br>filterCalls: <br>  maxIntraClusterDistance: 500<br>  minUnitigMappingQuality: 0<br>  minUnitigBlockLength: 15<br>  svtype: DEL<br>\", \"filterCalls.minSVSize: 500<br><br>makeRegions: <br>  slop: 250<br>  minCoverage: 0<br>  maxCoverage: 200<br>  maxRegionLength: 100000<br>  minRepeatPeriod: 6<br>  minRepeatLength: 50<br>  functionalRegions: none<br>  genomeBuild: hg38<br>  overlappedFunctionalRegions: false<br>makeCalls: <br>  singleBaseMatchReward: 10<br>  singleBaseMismatchPenalty: 12<br>  gapOpenPenalties: 6,26<br>  gapExtensionPenalties: 1,0<br>  minUnitigMappingQuality: 1<br>filterCalls: <br>  maxIntraClusterDistance: 500<br>  minUnitigMappingQuality: 0<br>  minUnitigBlockLength: 25<br>  svtype: DEL<br>\", \"filterCalls.minSVSize: 500<br><br>makeRegions: <br>  slop: 250<br>  minCoverage: 0<br>  maxCoverage: 200<br>  maxRegionLength: 100000<br>  minRepeatPeriod: 6<br>  minRepeatLength: 50<br>  functionalRegions: none<br>  genomeBuild: hg38<br>  overlappedFunctionalRegions: false<br>makeCalls: <br>  singleBaseMatchReward: 10<br>  singleBaseMismatchPenalty: 12<br>  gapOpenPenalties: 6,26<br>  gapExtensionPenalties: 1,0<br>  minUnitigMappingQuality: 1<br>filterCalls: <br>  maxIntraClusterDistance: 500<br>  minUnitigMappingQuality: 0<br>  minUnitigBlockLength: 40<br>  svtype: DEL<br>\", \"filterCalls.minSVSize: 50<br><br>makeRegions: <br>  slop: 250<br>  minCoverage: 0<br>  maxCoverage: 200<br>  maxRegionLength: 100000<br>  minRepeatPeriod: 6<br>  minRepeatLength: 0<br>  functionalRegions: none<br>  genomeBuild: hg38<br>  overlappedFunctionalRegions: false<br>makeCalls: <br>  singleBaseMatchReward: 10<br>  singleBaseMismatchPenalty: 12<br>  gapOpenPenalties: 6,26<br>  gapExtensionPenalties: 1,0<br>  minUnitigMappingQuality: 1<br>filterCalls: <br>  maxIntraClusterDistance: 500<br>  minUnitigMappingQuality: 0<br>  minUnitigBlockLength: 15<br>  svtype: DEL<br>\", \"filterCalls.minSVSize: 50<br><br>makeRegions: <br>  slop: 250<br>  minCoverage: 0<br>  maxCoverage: 200<br>  maxRegionLength: 100000<br>  minRepeatPeriod: 6<br>  minRepeatLength: 0<br>  functionalRegions: none<br>  genomeBuild: hg38<br>  overlappedFunctionalRegions: false<br>makeCalls: <br>  singleBaseMatchReward: 10<br>  singleBaseMismatchPenalty: 12<br>  gapOpenPenalties: 6,26<br>  gapExtensionPenalties: 1,0<br>  minUnitigMappingQuality: 1<br>filterCalls: <br>  maxIntraClusterDistance: 500<br>  minUnitigMappingQuality: 0<br>  minUnitigBlockLength: 25<br>  svtype: DEL<br>\", \"filterCalls.minSVSize: 50<br><br>makeRegions: <br>  slop: 250<br>  minCoverage: 0<br>  maxCoverage: 200<br>  maxRegionLength: 100000<br>  minRepeatPeriod: 6<br>  minRepeatLength: 0<br>  functionalRegions: none<br>  genomeBuild: hg38<br>  overlappedFunctionalRegions: false<br>makeCalls: <br>  singleBaseMatchReward: 10<br>  singleBaseMismatchPenalty: 12<br>  gapOpenPenalties: 6,26<br>  gapExtensionPenalties: 1,0<br>  minUnitigMappingQuality: 1<br>filterCalls: <br>  maxIntraClusterDistance: 500<br>  minUnitigMappingQuality: 0<br>  minUnitigBlockLength: 40<br>  svtype: DEL<br>\", \"filterCalls.minSVSize: 50<br><br>makeRegions: <br>  slop: 250<br>  minCoverage: 0<br>  maxCoverage: 200<br>  maxRegionLength: 100000<br>  minRepeatPeriod: 6<br>  minRepeatLength: 100<br>  functionalRegions: none<br>  genomeBuild: hg38<br>  overlappedFunctionalRegions: false<br>makeCalls: <br>  singleBaseMatchReward: 10<br>  singleBaseMismatchPenalty: 12<br>  gapOpenPenalties: 6,26<br>  gapExtensionPenalties: 1,0<br>  minUnitigMappingQuality: 1<br>filterCalls: <br>  maxIntraClusterDistance: 500<br>  minUnitigMappingQuality: 0<br>  minUnitigBlockLength: 15<br>  svtype: DEL<br>\", \"filterCalls.minSVSize: 50<br><br>makeRegions: <br>  slop: 250<br>  minCoverage: 0<br>  maxCoverage: 200<br>  maxRegionLength: 100000<br>  minRepeatPeriod: 6<br>  minRepeatLength: 100<br>  functionalRegions: none<br>  genomeBuild: hg38<br>  overlappedFunctionalRegions: false<br>makeCalls: <br>  singleBaseMatchReward: 10<br>  singleBaseMismatchPenalty: 12<br>  gapOpenPenalties: 6,26<br>  gapExtensionPenalties: 1,0<br>  minUnitigMappingQuality: 1<br>filterCalls: <br>  maxIntraClusterDistance: 500<br>  minUnitigMappingQuality: 0<br>  minUnitigBlockLength: 25<br>  svtype: DEL<br>\", \"filterCalls.minSVSize: 50<br><br>makeRegions: <br>  slop: 250<br>  minCoverage: 0<br>  maxCoverage: 200<br>  maxRegionLength: 100000<br>  minRepeatPeriod: 6<br>  minRepeatLength: 100<br>  functionalRegions: none<br>  genomeBuild: hg38<br>  overlappedFunctionalRegions: false<br>makeCalls: <br>  singleBaseMatchReward: 10<br>  singleBaseMismatchPenalty: 12<br>  gapOpenPenalties: 6,26<br>  gapExtensionPenalties: 1,0<br>  minUnitigMappingQuality: 1<br>filterCalls: <br>  maxIntraClusterDistance: 500<br>  minUnitigMappingQuality: 0<br>  minUnitigBlockLength: 40<br>  svtype: DEL<br>\", \"filterCalls.minSVSize: 50<br><br>makeRegions: <br>  slop: 250<br>  minCoverage: 0<br>  maxCoverage: 200<br>  maxRegionLength: 100000<br>  minRepeatPeriod: 6<br>  minRepeatLength: 50<br>  functionalRegions: none<br>  genomeBuild: hg38<br>  overlappedFunctionalRegions: false<br>makeCalls: <br>  singleBaseMatchReward: 10<br>  singleBaseMismatchPenalty: 12<br>  gapOpenPenalties: 6,26<br>  gapExtensionPenalties: 1,0<br>  minUnitigMappingQuality: 1<br>filterCalls: <br>  maxIntraClusterDistance: 500<br>  minUnitigMappingQuality: 0<br>  minUnitigBlockLength: 15<br>  svtype: DEL<br>\", \"filterCalls.minSVSize: 50<br><br>makeRegions: <br>  slop: 250<br>  minCoverage: 0<br>  maxCoverage: 200<br>  maxRegionLength: 100000<br>  minRepeatPeriod: 6<br>  minRepeatLength: 50<br>  functionalRegions: none<br>  genomeBuild: hg38<br>  overlappedFunctionalRegions: false<br>makeCalls: <br>  singleBaseMatchReward: 10<br>  singleBaseMismatchPenalty: 12<br>  gapOpenPenalties: 6,26<br>  gapExtensionPenalties: 1,0<br>  minUnitigMappingQuality: 1<br>filterCalls: <br>  maxIntraClusterDistance: 500<br>  minUnitigMappingQuality: 0<br>  minUnitigBlockLength: 25<br>  svtype: DEL<br>\", \"filterCalls.minSVSize: 50<br><br>makeRegions: <br>  slop: 250<br>  minCoverage: 0<br>  maxCoverage: 200<br>  maxRegionLength: 100000<br>  minRepeatPeriod: 6<br>  minRepeatLength: 50<br>  functionalRegions: none<br>  genomeBuild: hg38<br>  overlappedFunctionalRegions: false<br>makeCalls: <br>  singleBaseMatchReward: 10<br>  singleBaseMismatchPenalty: 12<br>  gapOpenPenalties: 6,26<br>  gapExtensionPenalties: 1,0<br>  minUnitigMappingQuality: 1<br>filterCalls: <br>  maxIntraClusterDistance: 500<br>  minUnitigMappingQuality: 0<br>  minUnitigBlockLength: 40<br>  svtype: DEL<br>\"], \"type\": \"scatter\", \"x\": [0.17183653372722796, 0.17183653372722796, 0.17183653372722796, 0.1693121693121693, 0.1693121693121693, 0.1693121693121693, 0.17088607594936708, 0.17088607594936708, 0.17088607594936708, 0.16243654822335024, 0.16243654822335024, 0.16243654822335024, 0.17560975609756097, 0.17560975609756097, 0.17560975609756097, 0.1724137931034483, 0.1724137931034483, 0.1724137931034483, 0.24133333333333334, 0.24133333333333334, 0.24133333333333334, 0.23525557011795545, 0.23525557011795545, 0.23525557011795545, 0.23967486818980668, 0.23967486818980668, 0.23967486818980668], \"y\": [0.4101057579318449, 0.4101057579318449, 0.4101057579318449, 0.4041331802525832, 0.4041331802525832, 0.4041331802525832, 0.4100467289719626, 0.4100467289719626, 0.4100467289719626, 0.3595505617977528, 0.3595505617977528, 0.3595505617977528, 0.3829787234042553, 0.3829787234042553, 0.3829787234042553, 0.3763440860215054, 0.3763440860215054, 0.3763440860215054, 0.5161596958174905, 0.5161596958174905, 0.5161596958174905, 0.5135908440629471, 0.5135908440629471, 0.5135908440629471, 0.5165719696969697, 0.5165719696969697, 0.5165719696969697]}, {\"marker\": {\"color\": \"white\", \"line\": {\"color\": \"black\", \"width\": 1}, \"size\": 10, \"symbol\": \"circle\"}, \"mode\": \"markers\", \"name\": \"trfermikit\", \"type\": \"scatter\", \"y\": [null]}, {\"marker\": {\"color\": \"white\", \"line\": {\"color\": \"black\", \"width\": 1}, \"size\": 10, \"symbol\": \"square\"}, \"mode\": \"markers\", \"name\": \"manta\", \"type\": \"scatter\", \"y\": [null]}, {\"marker\": {\"color\": \"blue\", \"size\": 10, \"symbol\": \"circle\"}, \"mode\": \"markers\", \"name\": \"minSVSize=50\", \"type\": \"scatter\", \"y\": [null]}, {\"marker\": {\"color\": \"green\", \"size\": 10, \"symbol\": \"circle\"}, \"mode\": \"markers\", \"name\": \"minSVSize=100\", \"type\": \"scatter\", \"y\": [null]}, {\"marker\": {\"color\": \"red\", \"size\": 10, \"symbol\": \"circle\"}, \"mode\": \"markers\", \"name\": \"minSVSize=500\", \"type\": \"scatter\", \"y\": [null]}],                        {\"template\": {\"data\": {\"bar\": [{\"error_x\": {\"color\": \"#2a3f5f\"}, \"error_y\": {\"color\": \"#2a3f5f\"}, \"marker\": {\"line\": {\"color\": \"#E5ECF6\", \"width\": 0.5}}, \"type\": \"bar\"}], \"barpolar\": [{\"marker\": {\"line\": {\"color\": \"#E5ECF6\", \"width\": 0.5}}, \"type\": \"barpolar\"}], \"carpet\": [{\"aaxis\": {\"endlinecolor\": \"#2a3f5f\", \"gridcolor\": \"white\", \"linecolor\": \"white\", \"minorgridcolor\": \"white\", \"startlinecolor\": \"#2a3f5f\"}, \"baxis\": {\"endlinecolor\": \"#2a3f5f\", \"gridcolor\": \"white\", \"linecolor\": \"white\", \"minorgridcolor\": \"white\", \"startlinecolor\": \"#2a3f5f\"}, \"type\": \"carpet\"}], \"choropleth\": [{\"colorbar\": {\"outlinewidth\": 0, \"ticks\": \"\"}, \"type\": \"choropleth\"}], \"contour\": [{\"colorbar\": {\"outlinewidth\": 0, \"ticks\": \"\"}, \"colorscale\": [[0.0, \"#0d0887\"], [0.1111111111111111, \"#46039f\"], [0.2222222222222222, \"#7201a8\"], [0.3333333333333333, \"#9c179e\"], [0.4444444444444444, \"#bd3786\"], [0.5555555555555556, \"#d8576b\"], [0.6666666666666666, \"#ed7953\"], [0.7777777777777778, \"#fb9f3a\"], [0.8888888888888888, \"#fdca26\"], [1.0, \"#f0f921\"]], \"type\": \"contour\"}], \"contourcarpet\": [{\"colorbar\": {\"outlinewidth\": 0, \"ticks\": \"\"}, \"type\": \"contourcarpet\"}], \"heatmap\": [{\"colorbar\": {\"outlinewidth\": 0, \"ticks\": \"\"}, \"colorscale\": [[0.0, \"#0d0887\"], [0.1111111111111111, \"#46039f\"], [0.2222222222222222, \"#7201a8\"], [0.3333333333333333, \"#9c179e\"], [0.4444444444444444, \"#bd3786\"], [0.5555555555555556, \"#d8576b\"], [0.6666666666666666, \"#ed7953\"], [0.7777777777777778, \"#fb9f3a\"], [0.8888888888888888, \"#fdca26\"], [1.0, \"#f0f921\"]], \"type\": \"heatmap\"}], \"heatmapgl\": [{\"colorbar\": {\"outlinewidth\": 0, \"ticks\": \"\"}, \"colorscale\": [[0.0, \"#0d0887\"], [0.1111111111111111, \"#46039f\"], [0.2222222222222222, \"#7201a8\"], [0.3333333333333333, \"#9c179e\"], [0.4444444444444444, \"#bd3786\"], [0.5555555555555556, \"#d8576b\"], [0.6666666666666666, \"#ed7953\"], [0.7777777777777778, \"#fb9f3a\"], [0.8888888888888888, \"#fdca26\"], [1.0, \"#f0f921\"]], \"type\": \"heatmapgl\"}], \"histogram\": [{\"marker\": {\"colorbar\": {\"outlinewidth\": 0, \"ticks\": \"\"}}, \"type\": \"histogram\"}], \"histogram2d\": [{\"colorbar\": {\"outlinewidth\": 0, \"ticks\": \"\"}, \"colorscale\": [[0.0, \"#0d0887\"], [0.1111111111111111, \"#46039f\"], [0.2222222222222222, \"#7201a8\"], [0.3333333333333333, \"#9c179e\"], [0.4444444444444444, \"#bd3786\"], [0.5555555555555556, \"#d8576b\"], [0.6666666666666666, \"#ed7953\"], [0.7777777777777778, \"#fb9f3a\"], [0.8888888888888888, \"#fdca26\"], [1.0, \"#f0f921\"]], \"type\": \"histogram2d\"}], \"histogram2dcontour\": [{\"colorbar\": {\"outlinewidth\": 0, \"ticks\": \"\"}, \"colorscale\": [[0.0, \"#0d0887\"], [0.1111111111111111, \"#46039f\"], [0.2222222222222222, \"#7201a8\"], [0.3333333333333333, \"#9c179e\"], [0.4444444444444444, \"#bd3786\"], [0.5555555555555556, \"#d8576b\"], [0.6666666666666666, \"#ed7953\"], [0.7777777777777778, \"#fb9f3a\"], [0.8888888888888888, \"#fdca26\"], [1.0, \"#f0f921\"]], \"type\": \"histogram2dcontour\"}], \"mesh3d\": [{\"colorbar\": {\"outlinewidth\": 0, \"ticks\": \"\"}, \"type\": \"mesh3d\"}], \"parcoords\": [{\"line\": {\"colorbar\": {\"outlinewidth\": 0, \"ticks\": \"\"}}, \"type\": \"parcoords\"}], \"pie\": [{\"automargin\": true, \"type\": \"pie\"}], \"scatter\": [{\"marker\": {\"colorbar\": {\"outlinewidth\": 0, \"ticks\": \"\"}}, \"type\": \"scatter\"}], \"scatter3d\": [{\"line\": {\"colorbar\": {\"outlinewidth\": 0, \"ticks\": \"\"}}, \"marker\": {\"colorbar\": {\"outlinewidth\": 0, \"ticks\": \"\"}}, \"type\": \"scatter3d\"}], \"scattercarpet\": [{\"marker\": {\"colorbar\": {\"outlinewidth\": 0, \"ticks\": \"\"}}, \"type\": \"scattercarpet\"}], \"scattergeo\": [{\"marker\": {\"colorbar\": {\"outlinewidth\": 0, \"ticks\": \"\"}}, \"type\": \"scattergeo\"}], \"scattergl\": [{\"marker\": {\"colorbar\": {\"outlinewidth\": 0, \"ticks\": \"\"}}, \"type\": \"scattergl\"}], \"scattermapbox\": [{\"marker\": {\"colorbar\": {\"outlinewidth\": 0, \"ticks\": \"\"}}, \"type\": \"scattermapbox\"}], \"scatterpolar\": [{\"marker\": {\"colorbar\": {\"outlinewidth\": 0, \"ticks\": \"\"}}, \"type\": \"scatterpolar\"}], \"scatterpolargl\": [{\"marker\": {\"colorbar\": {\"outlinewidth\": 0, \"ticks\": \"\"}}, \"type\": \"scatterpolargl\"}], \"scatterternary\": [{\"marker\": {\"colorbar\": {\"outlinewidth\": 0, \"ticks\": \"\"}}, \"type\": \"scatterternary\"}], \"surface\": [{\"colorbar\": {\"outlinewidth\": 0, \"ticks\": \"\"}, \"colorscale\": [[0.0, \"#0d0887\"], [0.1111111111111111, \"#46039f\"], [0.2222222222222222, \"#7201a8\"], [0.3333333333333333, \"#9c179e\"], [0.4444444444444444, \"#bd3786\"], [0.5555555555555556, \"#d8576b\"], [0.6666666666666666, \"#ed7953\"], [0.7777777777777778, \"#fb9f3a\"], [0.8888888888888888, \"#fdca26\"], [1.0, \"#f0f921\"]], \"type\": \"surface\"}], \"table\": [{\"cells\": {\"fill\": {\"color\": \"#EBF0F8\"}, \"line\": {\"color\": \"white\"}}, \"header\": {\"fill\": {\"color\": \"#C8D4E3\"}, \"line\": {\"color\": \"white\"}}, \"type\": \"table\"}]}, \"layout\": {\"annotationdefaults\": {\"arrowcolor\": \"#2a3f5f\", \"arrowhead\": 0, \"arrowwidth\": 1}, \"autotypenumbers\": \"strict\", \"coloraxis\": {\"colorbar\": {\"outlinewidth\": 0, \"ticks\": \"\"}}, \"colorscale\": {\"diverging\": [[0, \"#8e0152\"], [0.1, \"#c51b7d\"], [0.2, \"#de77ae\"], [0.3, \"#f1b6da\"], [0.4, \"#fde0ef\"], [0.5, \"#f7f7f7\"], [0.6, \"#e6f5d0\"], [0.7, \"#b8e186\"], [0.8, \"#7fbc41\"], [0.9, \"#4d9221\"], [1, \"#276419\"]], \"sequential\": [[0.0, \"#0d0887\"], [0.1111111111111111, \"#46039f\"], [0.2222222222222222, \"#7201a8\"], [0.3333333333333333, \"#9c179e\"], [0.4444444444444444, \"#bd3786\"], [0.5555555555555556, \"#d8576b\"], [0.6666666666666666, \"#ed7953\"], [0.7777777777777778, \"#fb9f3a\"], [0.8888888888888888, \"#fdca26\"], [1.0, \"#f0f921\"]], \"sequentialminus\": [[0.0, \"#0d0887\"], [0.1111111111111111, \"#46039f\"], [0.2222222222222222, \"#7201a8\"], [0.3333333333333333, \"#9c179e\"], [0.4444444444444444, \"#bd3786\"], [0.5555555555555556, \"#d8576b\"], [0.6666666666666666, \"#ed7953\"], [0.7777777777777778, \"#fb9f3a\"], [0.8888888888888888, \"#fdca26\"], [1.0, \"#f0f921\"]]}, \"colorway\": [\"#636efa\", \"#EF553B\", \"#00cc96\", \"#ab63fa\", \"#FFA15A\", \"#19d3f3\", \"#FF6692\", \"#B6E880\", \"#FF97FF\", \"#FECB52\"], \"font\": {\"color\": \"#2a3f5f\"}, \"geo\": {\"bgcolor\": \"white\", \"lakecolor\": \"white\", \"landcolor\": \"#E5ECF6\", \"showlakes\": true, \"showland\": true, \"subunitcolor\": \"white\"}, \"hoverlabel\": {\"align\": \"left\"}, \"hovermode\": \"closest\", \"mapbox\": {\"style\": \"light\"}, \"paper_bgcolor\": \"white\", \"plot_bgcolor\": \"#E5ECF6\", \"polar\": {\"angularaxis\": {\"gridcolor\": \"white\", \"linecolor\": \"white\", \"ticks\": \"\"}, \"bgcolor\": \"#E5ECF6\", \"radialaxis\": {\"gridcolor\": \"white\", \"linecolor\": \"white\", \"ticks\": \"\"}}, \"scene\": {\"xaxis\": {\"backgroundcolor\": \"#E5ECF6\", \"gridcolor\": \"white\", \"gridwidth\": 2, \"linecolor\": \"white\", \"showbackground\": true, \"ticks\": \"\", \"zerolinecolor\": \"white\"}, \"yaxis\": {\"backgroundcolor\": \"#E5ECF6\", \"gridcolor\": \"white\", \"gridwidth\": 2, \"linecolor\": \"white\", \"showbackground\": true, \"ticks\": \"\", \"zerolinecolor\": \"white\"}, \"zaxis\": {\"backgroundcolor\": \"#E5ECF6\", \"gridcolor\": \"white\", \"gridwidth\": 2, \"linecolor\": \"white\", \"showbackground\": true, \"ticks\": \"\", \"zerolinecolor\": \"white\"}}, \"shapedefaults\": {\"line\": {\"color\": \"#2a3f5f\"}}, \"ternary\": {\"aaxis\": {\"gridcolor\": \"white\", \"linecolor\": \"white\", \"ticks\": \"\"}, \"baxis\": {\"gridcolor\": \"white\", \"linecolor\": \"white\", \"ticks\": \"\"}, \"bgcolor\": \"#E5ECF6\", \"caxis\": {\"gridcolor\": \"white\", \"linecolor\": \"white\", \"ticks\": \"\"}}, \"title\": {\"x\": 0.05}, \"xaxis\": {\"automargin\": true, \"gridcolor\": \"white\", \"linecolor\": \"white\", \"ticks\": \"\", \"title\": {\"standoff\": 15}, \"zerolinecolor\": \"white\", \"zerolinewidth\": 2}, \"yaxis\": {\"automargin\": true, \"gridcolor\": \"white\", \"linecolor\": \"white\", \"ticks\": \"\", \"title\": {\"standoff\": 15}, \"zerolinecolor\": \"white\", \"zerolinewidth\": 2}}}, \"title\": {\"text\": \"minSVSize moves precision and recall in same direction;<br>trfermikit dominates manta only when small SVs are included:\"}, \"xaxis\": {\"title\": {\"text\": \"recall\"}}, \"yaxis\": {\"title\": {\"text\": \"precision\"}}},                        {\"responsive\": true}                    ).then(function(){\n",
       "                            \n",
       "var gd = document.getElementById('c71a4e2d-e4a5-431e-a7cd-3ddb23f985fe');\n",
       "var x = new MutationObserver(function (mutations, observer) {{\n",
       "        var display = window.getComputedStyle(gd).display;\n",
       "        if (!display || display === 'none') {{\n",
       "            console.log([gd, 'removed!']);\n",
       "            Plotly.purge(gd);\n",
       "            observer.disconnect();\n",
       "        }}\n",
       "}});\n",
       "\n",
       "// Listen for the removal of the full notebook cells\n",
       "var notebookContainer = gd.closest('#notebook-container');\n",
       "if (notebookContainer) {{\n",
       "    x.observe(notebookContainer, {childList: true});\n",
       "}}\n",
       "\n",
       "// Listen for the clearing of the current output cell\n",
       "var outputEl = gd.closest('.output');\n",
       "if (outputEl) {{\n",
       "    x.observe(outputEl, {childList: true});\n",
       "}}\n",
       "\n",
       "                        })                };                });            </script>        </div>"
      ]
     },
     "metadata": {},
     "output_type": "display_data"
    },
    {
     "data": {
      "application/vnd.plotly.v1+json": {
       "config": {
        "plotlyServerURL": "https://plot.ly"
       },
       "data": [
        {
         "hovertemplate": "%{text}",
         "marker": {
          "color": [
           "green",
           "red",
           "blue",
           "green",
           "red",
           "blue",
           "green",
           "red",
           "blue",
           "green",
           "red",
           "blue",
           "green",
           "red",
           "blue",
           "green",
           "red",
           "blue",
           "green",
           "red",
           "blue",
           "green",
           "red",
           "blue",
           "green",
           "red",
           "blue"
          ],
          "line": {
           "color": "black",
           "width": 1
          },
          "size": 10,
          "symbol": "circle"
         },
         "mode": "markers",
         "name": "trfermikit",
         "showlegend": false,
         "text": [
          "filterCalls.minUnitigBlockLength: 15<br><br>makeRegions: <br>  slop: 250<br>  minCoverage: 0<br>  maxCoverage: 200<br>  maxRegionLength: 100000<br>  minRepeatPeriod: 6<br>  minRepeatLength: 0<br>  functionalRegions: none<br>  genomeBuild: hg38<br>  overlappedFunctionalRegions: false<br>makeCalls: <br>  singleBaseMatchReward: 10<br>  singleBaseMismatchPenalty: 12<br>  gapOpenPenalties: 6,26<br>  gapExtensionPenalties: 1,0<br>  minUnitigMappingQuality: 1<br>filterCalls: <br>  maxIntraClusterDistance: 500<br>  minSVSize: 100<br>  minUnitigMappingQuality: 0<br>  svtype: DEL<br>",
          "filterCalls.minUnitigBlockLength: 25<br><br>makeRegions: <br>  slop: 250<br>  minCoverage: 0<br>  maxCoverage: 200<br>  maxRegionLength: 100000<br>  minRepeatPeriod: 6<br>  minRepeatLength: 0<br>  functionalRegions: none<br>  genomeBuild: hg38<br>  overlappedFunctionalRegions: false<br>makeCalls: <br>  singleBaseMatchReward: 10<br>  singleBaseMismatchPenalty: 12<br>  gapOpenPenalties: 6,26<br>  gapExtensionPenalties: 1,0<br>  minUnitigMappingQuality: 1<br>filterCalls: <br>  maxIntraClusterDistance: 500<br>  minSVSize: 100<br>  minUnitigMappingQuality: 0<br>  svtype: DEL<br>",
          "filterCalls.minUnitigBlockLength: 40<br><br>makeRegions: <br>  slop: 250<br>  minCoverage: 0<br>  maxCoverage: 200<br>  maxRegionLength: 100000<br>  minRepeatPeriod: 6<br>  minRepeatLength: 0<br>  functionalRegions: none<br>  genomeBuild: hg38<br>  overlappedFunctionalRegions: false<br>makeCalls: <br>  singleBaseMatchReward: 10<br>  singleBaseMismatchPenalty: 12<br>  gapOpenPenalties: 6,26<br>  gapExtensionPenalties: 1,0<br>  minUnitigMappingQuality: 1<br>filterCalls: <br>  maxIntraClusterDistance: 500<br>  minSVSize: 100<br>  minUnitigMappingQuality: 0<br>  svtype: DEL<br>",
          "filterCalls.minUnitigBlockLength: 15<br><br>makeRegions: <br>  slop: 250<br>  minCoverage: 0<br>  maxCoverage: 200<br>  maxRegionLength: 100000<br>  minRepeatPeriod: 6<br>  minRepeatLength: 100<br>  functionalRegions: none<br>  genomeBuild: hg38<br>  overlappedFunctionalRegions: false<br>makeCalls: <br>  singleBaseMatchReward: 10<br>  singleBaseMismatchPenalty: 12<br>  gapOpenPenalties: 6,26<br>  gapExtensionPenalties: 1,0<br>  minUnitigMappingQuality: 1<br>filterCalls: <br>  maxIntraClusterDistance: 500<br>  minSVSize: 100<br>  minUnitigMappingQuality: 0<br>  svtype: DEL<br>",
          "filterCalls.minUnitigBlockLength: 25<br><br>makeRegions: <br>  slop: 250<br>  minCoverage: 0<br>  maxCoverage: 200<br>  maxRegionLength: 100000<br>  minRepeatPeriod: 6<br>  minRepeatLength: 100<br>  functionalRegions: none<br>  genomeBuild: hg38<br>  overlappedFunctionalRegions: false<br>makeCalls: <br>  singleBaseMatchReward: 10<br>  singleBaseMismatchPenalty: 12<br>  gapOpenPenalties: 6,26<br>  gapExtensionPenalties: 1,0<br>  minUnitigMappingQuality: 1<br>filterCalls: <br>  maxIntraClusterDistance: 500<br>  minSVSize: 100<br>  minUnitigMappingQuality: 0<br>  svtype: DEL<br>",
          "filterCalls.minUnitigBlockLength: 40<br><br>makeRegions: <br>  slop: 250<br>  minCoverage: 0<br>  maxCoverage: 200<br>  maxRegionLength: 100000<br>  minRepeatPeriod: 6<br>  minRepeatLength: 100<br>  functionalRegions: none<br>  genomeBuild: hg38<br>  overlappedFunctionalRegions: false<br>makeCalls: <br>  singleBaseMatchReward: 10<br>  singleBaseMismatchPenalty: 12<br>  gapOpenPenalties: 6,26<br>  gapExtensionPenalties: 1,0<br>  minUnitigMappingQuality: 1<br>filterCalls: <br>  maxIntraClusterDistance: 500<br>  minSVSize: 100<br>  minUnitigMappingQuality: 0<br>  svtype: DEL<br>",
          "filterCalls.minUnitigBlockLength: 15<br><br>makeRegions: <br>  slop: 250<br>  minCoverage: 0<br>  maxCoverage: 200<br>  maxRegionLength: 100000<br>  minRepeatPeriod: 6<br>  minRepeatLength: 50<br>  functionalRegions: none<br>  genomeBuild: hg38<br>  overlappedFunctionalRegions: false<br>makeCalls: <br>  singleBaseMatchReward: 10<br>  singleBaseMismatchPenalty: 12<br>  gapOpenPenalties: 6,26<br>  gapExtensionPenalties: 1,0<br>  minUnitigMappingQuality: 1<br>filterCalls: <br>  maxIntraClusterDistance: 500<br>  minSVSize: 100<br>  minUnitigMappingQuality: 0<br>  svtype: DEL<br>",
          "filterCalls.minUnitigBlockLength: 25<br><br>makeRegions: <br>  slop: 250<br>  minCoverage: 0<br>  maxCoverage: 200<br>  maxRegionLength: 100000<br>  minRepeatPeriod: 6<br>  minRepeatLength: 50<br>  functionalRegions: none<br>  genomeBuild: hg38<br>  overlappedFunctionalRegions: false<br>makeCalls: <br>  singleBaseMatchReward: 10<br>  singleBaseMismatchPenalty: 12<br>  gapOpenPenalties: 6,26<br>  gapExtensionPenalties: 1,0<br>  minUnitigMappingQuality: 1<br>filterCalls: <br>  maxIntraClusterDistance: 500<br>  minSVSize: 100<br>  minUnitigMappingQuality: 0<br>  svtype: DEL<br>",
          "filterCalls.minUnitigBlockLength: 40<br><br>makeRegions: <br>  slop: 250<br>  minCoverage: 0<br>  maxCoverage: 200<br>  maxRegionLength: 100000<br>  minRepeatPeriod: 6<br>  minRepeatLength: 50<br>  functionalRegions: none<br>  genomeBuild: hg38<br>  overlappedFunctionalRegions: false<br>makeCalls: <br>  singleBaseMatchReward: 10<br>  singleBaseMismatchPenalty: 12<br>  gapOpenPenalties: 6,26<br>  gapExtensionPenalties: 1,0<br>  minUnitigMappingQuality: 1<br>filterCalls: <br>  maxIntraClusterDistance: 500<br>  minSVSize: 100<br>  minUnitigMappingQuality: 0<br>  svtype: DEL<br>",
          "filterCalls.minUnitigBlockLength: 15<br><br>makeRegions: <br>  slop: 250<br>  minCoverage: 0<br>  maxCoverage: 200<br>  maxRegionLength: 100000<br>  minRepeatPeriod: 6<br>  minRepeatLength: 0<br>  functionalRegions: none<br>  genomeBuild: hg38<br>  overlappedFunctionalRegions: false<br>makeCalls: <br>  singleBaseMatchReward: 10<br>  singleBaseMismatchPenalty: 12<br>  gapOpenPenalties: 6,26<br>  gapExtensionPenalties: 1,0<br>  minUnitigMappingQuality: 1<br>filterCalls: <br>  maxIntraClusterDistance: 500<br>  minSVSize: 500<br>  minUnitigMappingQuality: 0<br>  svtype: DEL<br>",
          "filterCalls.minUnitigBlockLength: 25<br><br>makeRegions: <br>  slop: 250<br>  minCoverage: 0<br>  maxCoverage: 200<br>  maxRegionLength: 100000<br>  minRepeatPeriod: 6<br>  minRepeatLength: 0<br>  functionalRegions: none<br>  genomeBuild: hg38<br>  overlappedFunctionalRegions: false<br>makeCalls: <br>  singleBaseMatchReward: 10<br>  singleBaseMismatchPenalty: 12<br>  gapOpenPenalties: 6,26<br>  gapExtensionPenalties: 1,0<br>  minUnitigMappingQuality: 1<br>filterCalls: <br>  maxIntraClusterDistance: 500<br>  minSVSize: 500<br>  minUnitigMappingQuality: 0<br>  svtype: DEL<br>",
          "filterCalls.minUnitigBlockLength: 40<br><br>makeRegions: <br>  slop: 250<br>  minCoverage: 0<br>  maxCoverage: 200<br>  maxRegionLength: 100000<br>  minRepeatPeriod: 6<br>  minRepeatLength: 0<br>  functionalRegions: none<br>  genomeBuild: hg38<br>  overlappedFunctionalRegions: false<br>makeCalls: <br>  singleBaseMatchReward: 10<br>  singleBaseMismatchPenalty: 12<br>  gapOpenPenalties: 6,26<br>  gapExtensionPenalties: 1,0<br>  minUnitigMappingQuality: 1<br>filterCalls: <br>  maxIntraClusterDistance: 500<br>  minSVSize: 500<br>  minUnitigMappingQuality: 0<br>  svtype: DEL<br>",
          "filterCalls.minUnitigBlockLength: 15<br><br>makeRegions: <br>  slop: 250<br>  minCoverage: 0<br>  maxCoverage: 200<br>  maxRegionLength: 100000<br>  minRepeatPeriod: 6<br>  minRepeatLength: 100<br>  functionalRegions: none<br>  genomeBuild: hg38<br>  overlappedFunctionalRegions: false<br>makeCalls: <br>  singleBaseMatchReward: 10<br>  singleBaseMismatchPenalty: 12<br>  gapOpenPenalties: 6,26<br>  gapExtensionPenalties: 1,0<br>  minUnitigMappingQuality: 1<br>filterCalls: <br>  maxIntraClusterDistance: 500<br>  minSVSize: 500<br>  minUnitigMappingQuality: 0<br>  svtype: DEL<br>",
          "filterCalls.minUnitigBlockLength: 25<br><br>makeRegions: <br>  slop: 250<br>  minCoverage: 0<br>  maxCoverage: 200<br>  maxRegionLength: 100000<br>  minRepeatPeriod: 6<br>  minRepeatLength: 100<br>  functionalRegions: none<br>  genomeBuild: hg38<br>  overlappedFunctionalRegions: false<br>makeCalls: <br>  singleBaseMatchReward: 10<br>  singleBaseMismatchPenalty: 12<br>  gapOpenPenalties: 6,26<br>  gapExtensionPenalties: 1,0<br>  minUnitigMappingQuality: 1<br>filterCalls: <br>  maxIntraClusterDistance: 500<br>  minSVSize: 500<br>  minUnitigMappingQuality: 0<br>  svtype: DEL<br>",
          "filterCalls.minUnitigBlockLength: 40<br><br>makeRegions: <br>  slop: 250<br>  minCoverage: 0<br>  maxCoverage: 200<br>  maxRegionLength: 100000<br>  minRepeatPeriod: 6<br>  minRepeatLength: 100<br>  functionalRegions: none<br>  genomeBuild: hg38<br>  overlappedFunctionalRegions: false<br>makeCalls: <br>  singleBaseMatchReward: 10<br>  singleBaseMismatchPenalty: 12<br>  gapOpenPenalties: 6,26<br>  gapExtensionPenalties: 1,0<br>  minUnitigMappingQuality: 1<br>filterCalls: <br>  maxIntraClusterDistance: 500<br>  minSVSize: 500<br>  minUnitigMappingQuality: 0<br>  svtype: DEL<br>",
          "filterCalls.minUnitigBlockLength: 15<br><br>makeRegions: <br>  slop: 250<br>  minCoverage: 0<br>  maxCoverage: 200<br>  maxRegionLength: 100000<br>  minRepeatPeriod: 6<br>  minRepeatLength: 50<br>  functionalRegions: none<br>  genomeBuild: hg38<br>  overlappedFunctionalRegions: false<br>makeCalls: <br>  singleBaseMatchReward: 10<br>  singleBaseMismatchPenalty: 12<br>  gapOpenPenalties: 6,26<br>  gapExtensionPenalties: 1,0<br>  minUnitigMappingQuality: 1<br>filterCalls: <br>  maxIntraClusterDistance: 500<br>  minSVSize: 500<br>  minUnitigMappingQuality: 0<br>  svtype: DEL<br>",
          "filterCalls.minUnitigBlockLength: 25<br><br>makeRegions: <br>  slop: 250<br>  minCoverage: 0<br>  maxCoverage: 200<br>  maxRegionLength: 100000<br>  minRepeatPeriod: 6<br>  minRepeatLength: 50<br>  functionalRegions: none<br>  genomeBuild: hg38<br>  overlappedFunctionalRegions: false<br>makeCalls: <br>  singleBaseMatchReward: 10<br>  singleBaseMismatchPenalty: 12<br>  gapOpenPenalties: 6,26<br>  gapExtensionPenalties: 1,0<br>  minUnitigMappingQuality: 1<br>filterCalls: <br>  maxIntraClusterDistance: 500<br>  minSVSize: 500<br>  minUnitigMappingQuality: 0<br>  svtype: DEL<br>",
          "filterCalls.minUnitigBlockLength: 40<br><br>makeRegions: <br>  slop: 250<br>  minCoverage: 0<br>  maxCoverage: 200<br>  maxRegionLength: 100000<br>  minRepeatPeriod: 6<br>  minRepeatLength: 50<br>  functionalRegions: none<br>  genomeBuild: hg38<br>  overlappedFunctionalRegions: false<br>makeCalls: <br>  singleBaseMatchReward: 10<br>  singleBaseMismatchPenalty: 12<br>  gapOpenPenalties: 6,26<br>  gapExtensionPenalties: 1,0<br>  minUnitigMappingQuality: 1<br>filterCalls: <br>  maxIntraClusterDistance: 500<br>  minSVSize: 500<br>  minUnitigMappingQuality: 0<br>  svtype: DEL<br>",
          "filterCalls.minUnitigBlockLength: 15<br><br>makeRegions: <br>  slop: 250<br>  minCoverage: 0<br>  maxCoverage: 200<br>  maxRegionLength: 100000<br>  minRepeatPeriod: 6<br>  minRepeatLength: 0<br>  functionalRegions: none<br>  genomeBuild: hg38<br>  overlappedFunctionalRegions: false<br>makeCalls: <br>  singleBaseMatchReward: 10<br>  singleBaseMismatchPenalty: 12<br>  gapOpenPenalties: 6,26<br>  gapExtensionPenalties: 1,0<br>  minUnitigMappingQuality: 1<br>filterCalls: <br>  maxIntraClusterDistance: 500<br>  minSVSize: 50<br>  minUnitigMappingQuality: 0<br>  svtype: DEL<br>",
          "filterCalls.minUnitigBlockLength: 25<br><br>makeRegions: <br>  slop: 250<br>  minCoverage: 0<br>  maxCoverage: 200<br>  maxRegionLength: 100000<br>  minRepeatPeriod: 6<br>  minRepeatLength: 0<br>  functionalRegions: none<br>  genomeBuild: hg38<br>  overlappedFunctionalRegions: false<br>makeCalls: <br>  singleBaseMatchReward: 10<br>  singleBaseMismatchPenalty: 12<br>  gapOpenPenalties: 6,26<br>  gapExtensionPenalties: 1,0<br>  minUnitigMappingQuality: 1<br>filterCalls: <br>  maxIntraClusterDistance: 500<br>  minSVSize: 50<br>  minUnitigMappingQuality: 0<br>  svtype: DEL<br>",
          "filterCalls.minUnitigBlockLength: 40<br><br>makeRegions: <br>  slop: 250<br>  minCoverage: 0<br>  maxCoverage: 200<br>  maxRegionLength: 100000<br>  minRepeatPeriod: 6<br>  minRepeatLength: 0<br>  functionalRegions: none<br>  genomeBuild: hg38<br>  overlappedFunctionalRegions: false<br>makeCalls: <br>  singleBaseMatchReward: 10<br>  singleBaseMismatchPenalty: 12<br>  gapOpenPenalties: 6,26<br>  gapExtensionPenalties: 1,0<br>  minUnitigMappingQuality: 1<br>filterCalls: <br>  maxIntraClusterDistance: 500<br>  minSVSize: 50<br>  minUnitigMappingQuality: 0<br>  svtype: DEL<br>",
          "filterCalls.minUnitigBlockLength: 15<br><br>makeRegions: <br>  slop: 250<br>  minCoverage: 0<br>  maxCoverage: 200<br>  maxRegionLength: 100000<br>  minRepeatPeriod: 6<br>  minRepeatLength: 100<br>  functionalRegions: none<br>  genomeBuild: hg38<br>  overlappedFunctionalRegions: false<br>makeCalls: <br>  singleBaseMatchReward: 10<br>  singleBaseMismatchPenalty: 12<br>  gapOpenPenalties: 6,26<br>  gapExtensionPenalties: 1,0<br>  minUnitigMappingQuality: 1<br>filterCalls: <br>  maxIntraClusterDistance: 500<br>  minSVSize: 50<br>  minUnitigMappingQuality: 0<br>  svtype: DEL<br>",
          "filterCalls.minUnitigBlockLength: 25<br><br>makeRegions: <br>  slop: 250<br>  minCoverage: 0<br>  maxCoverage: 200<br>  maxRegionLength: 100000<br>  minRepeatPeriod: 6<br>  minRepeatLength: 100<br>  functionalRegions: none<br>  genomeBuild: hg38<br>  overlappedFunctionalRegions: false<br>makeCalls: <br>  singleBaseMatchReward: 10<br>  singleBaseMismatchPenalty: 12<br>  gapOpenPenalties: 6,26<br>  gapExtensionPenalties: 1,0<br>  minUnitigMappingQuality: 1<br>filterCalls: <br>  maxIntraClusterDistance: 500<br>  minSVSize: 50<br>  minUnitigMappingQuality: 0<br>  svtype: DEL<br>",
          "filterCalls.minUnitigBlockLength: 40<br><br>makeRegions: <br>  slop: 250<br>  minCoverage: 0<br>  maxCoverage: 200<br>  maxRegionLength: 100000<br>  minRepeatPeriod: 6<br>  minRepeatLength: 100<br>  functionalRegions: none<br>  genomeBuild: hg38<br>  overlappedFunctionalRegions: false<br>makeCalls: <br>  singleBaseMatchReward: 10<br>  singleBaseMismatchPenalty: 12<br>  gapOpenPenalties: 6,26<br>  gapExtensionPenalties: 1,0<br>  minUnitigMappingQuality: 1<br>filterCalls: <br>  maxIntraClusterDistance: 500<br>  minSVSize: 50<br>  minUnitigMappingQuality: 0<br>  svtype: DEL<br>",
          "filterCalls.minUnitigBlockLength: 15<br><br>makeRegions: <br>  slop: 250<br>  minCoverage: 0<br>  maxCoverage: 200<br>  maxRegionLength: 100000<br>  minRepeatPeriod: 6<br>  minRepeatLength: 50<br>  functionalRegions: none<br>  genomeBuild: hg38<br>  overlappedFunctionalRegions: false<br>makeCalls: <br>  singleBaseMatchReward: 10<br>  singleBaseMismatchPenalty: 12<br>  gapOpenPenalties: 6,26<br>  gapExtensionPenalties: 1,0<br>  minUnitigMappingQuality: 1<br>filterCalls: <br>  maxIntraClusterDistance: 500<br>  minSVSize: 50<br>  minUnitigMappingQuality: 0<br>  svtype: DEL<br>",
          "filterCalls.minUnitigBlockLength: 25<br><br>makeRegions: <br>  slop: 250<br>  minCoverage: 0<br>  maxCoverage: 200<br>  maxRegionLength: 100000<br>  minRepeatPeriod: 6<br>  minRepeatLength: 50<br>  functionalRegions: none<br>  genomeBuild: hg38<br>  overlappedFunctionalRegions: false<br>makeCalls: <br>  singleBaseMatchReward: 10<br>  singleBaseMismatchPenalty: 12<br>  gapOpenPenalties: 6,26<br>  gapExtensionPenalties: 1,0<br>  minUnitigMappingQuality: 1<br>filterCalls: <br>  maxIntraClusterDistance: 500<br>  minSVSize: 50<br>  minUnitigMappingQuality: 0<br>  svtype: DEL<br>",
          "filterCalls.minUnitigBlockLength: 40<br><br>makeRegions: <br>  slop: 250<br>  minCoverage: 0<br>  maxCoverage: 200<br>  maxRegionLength: 100000<br>  minRepeatPeriod: 6<br>  minRepeatLength: 50<br>  functionalRegions: none<br>  genomeBuild: hg38<br>  overlappedFunctionalRegions: false<br>makeCalls: <br>  singleBaseMatchReward: 10<br>  singleBaseMismatchPenalty: 12<br>  gapOpenPenalties: 6,26<br>  gapExtensionPenalties: 1,0<br>  minUnitigMappingQuality: 1<br>filterCalls: <br>  maxIntraClusterDistance: 500<br>  minSVSize: 50<br>  minUnitigMappingQuality: 0<br>  svtype: DEL<br>"
         ],
         "type": "scatter",
         "x": [
          0.24716888232397832,
          0.2343673067454456,
          0.20925652387986213,
          0.24627224627224628,
          0.2376142376142376,
          0.20346320346320346,
          0.249269717624148,
          0.23904576436222005,
          0.2098344693281402,
          0.06598984771573604,
          0.050761421319796954,
          0.05583756345177665,
          0.07317073170731707,
          0.05365853658536585,
          0.04878048780487805,
          0.06896551724137931,
          0.059113300492610835,
          0.04433497536945813,
          0.33866666666666667,
          0.3233333333333333,
          0.28644444444444445,
          0.33857579729139364,
          0.3215377894276977,
          0.28462210572302316,
          0.3400702987697715,
          0.3251318101933216,
          0.2884446397188049
         ],
         "y": [
          0.26421052631578945,
          0.34744525547445254,
          0.4579741379310345,
          0.25806451612903225,
          0.34764250527797325,
          0.44714587737843553,
          0.26528497409326424,
          0.3492176386913229,
          0.4654427645788337,
          0.15853658536585366,
          0.19607843137254902,
          0.28205128205128205,
          0.1744186046511628,
          0.22448979591836735,
          0.2564102564102564,
          0.16470588235294117,
          0.23076923076923078,
          0.23076923076923078,
          0.3876876112948359,
          0.46411483253588515,
          0.5525075010715816,
          0.3883738411425708,
          0.46274756365922665,
          0.5509513742071882,
          0.3903177004538578,
          0.46540880503144655,
          0.5565917761763459
         ]
        },
        {
         "hovertemplate": "%{text}",
         "marker": {
          "color": [
           "green",
           "red",
           "blue",
           "green",
           "red",
           "blue",
           "green",
           "red",
           "blue",
           "green",
           "red",
           "blue",
           "green",
           "red",
           "blue",
           "green",
           "red",
           "blue",
           "green",
           "red",
           "blue",
           "green",
           "red",
           "blue",
           "green",
           "red",
           "blue"
          ],
          "line": {
           "color": "black",
           "width": 1
          },
          "size": 10,
          "symbol": "square"
         },
         "mode": "markers",
         "name": "manta",
         "showlegend": false,
         "text": [
          "filterCalls.minUnitigBlockLength: 15<br><br>makeRegions: <br>  slop: 250<br>  minCoverage: 0<br>  maxCoverage: 200<br>  maxRegionLength: 100000<br>  minRepeatPeriod: 6<br>  minRepeatLength: 0<br>  functionalRegions: none<br>  genomeBuild: hg38<br>  overlappedFunctionalRegions: false<br>makeCalls: <br>  singleBaseMatchReward: 10<br>  singleBaseMismatchPenalty: 12<br>  gapOpenPenalties: 6,26<br>  gapExtensionPenalties: 1,0<br>  minUnitigMappingQuality: 1<br>filterCalls: <br>  maxIntraClusterDistance: 500<br>  minSVSize: 100<br>  minUnitigMappingQuality: 0<br>  svtype: DEL<br>",
          "filterCalls.minUnitigBlockLength: 25<br><br>makeRegions: <br>  slop: 250<br>  minCoverage: 0<br>  maxCoverage: 200<br>  maxRegionLength: 100000<br>  minRepeatPeriod: 6<br>  minRepeatLength: 0<br>  functionalRegions: none<br>  genomeBuild: hg38<br>  overlappedFunctionalRegions: false<br>makeCalls: <br>  singleBaseMatchReward: 10<br>  singleBaseMismatchPenalty: 12<br>  gapOpenPenalties: 6,26<br>  gapExtensionPenalties: 1,0<br>  minUnitigMappingQuality: 1<br>filterCalls: <br>  maxIntraClusterDistance: 500<br>  minSVSize: 100<br>  minUnitigMappingQuality: 0<br>  svtype: DEL<br>",
          "filterCalls.minUnitigBlockLength: 40<br><br>makeRegions: <br>  slop: 250<br>  minCoverage: 0<br>  maxCoverage: 200<br>  maxRegionLength: 100000<br>  minRepeatPeriod: 6<br>  minRepeatLength: 0<br>  functionalRegions: none<br>  genomeBuild: hg38<br>  overlappedFunctionalRegions: false<br>makeCalls: <br>  singleBaseMatchReward: 10<br>  singleBaseMismatchPenalty: 12<br>  gapOpenPenalties: 6,26<br>  gapExtensionPenalties: 1,0<br>  minUnitigMappingQuality: 1<br>filterCalls: <br>  maxIntraClusterDistance: 500<br>  minSVSize: 100<br>  minUnitigMappingQuality: 0<br>  svtype: DEL<br>",
          "filterCalls.minUnitigBlockLength: 15<br><br>makeRegions: <br>  slop: 250<br>  minCoverage: 0<br>  maxCoverage: 200<br>  maxRegionLength: 100000<br>  minRepeatPeriod: 6<br>  minRepeatLength: 100<br>  functionalRegions: none<br>  genomeBuild: hg38<br>  overlappedFunctionalRegions: false<br>makeCalls: <br>  singleBaseMatchReward: 10<br>  singleBaseMismatchPenalty: 12<br>  gapOpenPenalties: 6,26<br>  gapExtensionPenalties: 1,0<br>  minUnitigMappingQuality: 1<br>filterCalls: <br>  maxIntraClusterDistance: 500<br>  minSVSize: 100<br>  minUnitigMappingQuality: 0<br>  svtype: DEL<br>",
          "filterCalls.minUnitigBlockLength: 25<br><br>makeRegions: <br>  slop: 250<br>  minCoverage: 0<br>  maxCoverage: 200<br>  maxRegionLength: 100000<br>  minRepeatPeriod: 6<br>  minRepeatLength: 100<br>  functionalRegions: none<br>  genomeBuild: hg38<br>  overlappedFunctionalRegions: false<br>makeCalls: <br>  singleBaseMatchReward: 10<br>  singleBaseMismatchPenalty: 12<br>  gapOpenPenalties: 6,26<br>  gapExtensionPenalties: 1,0<br>  minUnitigMappingQuality: 1<br>filterCalls: <br>  maxIntraClusterDistance: 500<br>  minSVSize: 100<br>  minUnitigMappingQuality: 0<br>  svtype: DEL<br>",
          "filterCalls.minUnitigBlockLength: 40<br><br>makeRegions: <br>  slop: 250<br>  minCoverage: 0<br>  maxCoverage: 200<br>  maxRegionLength: 100000<br>  minRepeatPeriod: 6<br>  minRepeatLength: 100<br>  functionalRegions: none<br>  genomeBuild: hg38<br>  overlappedFunctionalRegions: false<br>makeCalls: <br>  singleBaseMatchReward: 10<br>  singleBaseMismatchPenalty: 12<br>  gapOpenPenalties: 6,26<br>  gapExtensionPenalties: 1,0<br>  minUnitigMappingQuality: 1<br>filterCalls: <br>  maxIntraClusterDistance: 500<br>  minSVSize: 100<br>  minUnitigMappingQuality: 0<br>  svtype: DEL<br>",
          "filterCalls.minUnitigBlockLength: 15<br><br>makeRegions: <br>  slop: 250<br>  minCoverage: 0<br>  maxCoverage: 200<br>  maxRegionLength: 100000<br>  minRepeatPeriod: 6<br>  minRepeatLength: 50<br>  functionalRegions: none<br>  genomeBuild: hg38<br>  overlappedFunctionalRegions: false<br>makeCalls: <br>  singleBaseMatchReward: 10<br>  singleBaseMismatchPenalty: 12<br>  gapOpenPenalties: 6,26<br>  gapExtensionPenalties: 1,0<br>  minUnitigMappingQuality: 1<br>filterCalls: <br>  maxIntraClusterDistance: 500<br>  minSVSize: 100<br>  minUnitigMappingQuality: 0<br>  svtype: DEL<br>",
          "filterCalls.minUnitigBlockLength: 25<br><br>makeRegions: <br>  slop: 250<br>  minCoverage: 0<br>  maxCoverage: 200<br>  maxRegionLength: 100000<br>  minRepeatPeriod: 6<br>  minRepeatLength: 50<br>  functionalRegions: none<br>  genomeBuild: hg38<br>  overlappedFunctionalRegions: false<br>makeCalls: <br>  singleBaseMatchReward: 10<br>  singleBaseMismatchPenalty: 12<br>  gapOpenPenalties: 6,26<br>  gapExtensionPenalties: 1,0<br>  minUnitigMappingQuality: 1<br>filterCalls: <br>  maxIntraClusterDistance: 500<br>  minSVSize: 100<br>  minUnitigMappingQuality: 0<br>  svtype: DEL<br>",
          "filterCalls.minUnitigBlockLength: 40<br><br>makeRegions: <br>  slop: 250<br>  minCoverage: 0<br>  maxCoverage: 200<br>  maxRegionLength: 100000<br>  minRepeatPeriod: 6<br>  minRepeatLength: 50<br>  functionalRegions: none<br>  genomeBuild: hg38<br>  overlappedFunctionalRegions: false<br>makeCalls: <br>  singleBaseMatchReward: 10<br>  singleBaseMismatchPenalty: 12<br>  gapOpenPenalties: 6,26<br>  gapExtensionPenalties: 1,0<br>  minUnitigMappingQuality: 1<br>filterCalls: <br>  maxIntraClusterDistance: 500<br>  minSVSize: 100<br>  minUnitigMappingQuality: 0<br>  svtype: DEL<br>",
          "filterCalls.minUnitigBlockLength: 15<br><br>makeRegions: <br>  slop: 250<br>  minCoverage: 0<br>  maxCoverage: 200<br>  maxRegionLength: 100000<br>  minRepeatPeriod: 6<br>  minRepeatLength: 0<br>  functionalRegions: none<br>  genomeBuild: hg38<br>  overlappedFunctionalRegions: false<br>makeCalls: <br>  singleBaseMatchReward: 10<br>  singleBaseMismatchPenalty: 12<br>  gapOpenPenalties: 6,26<br>  gapExtensionPenalties: 1,0<br>  minUnitigMappingQuality: 1<br>filterCalls: <br>  maxIntraClusterDistance: 500<br>  minSVSize: 500<br>  minUnitigMappingQuality: 0<br>  svtype: DEL<br>",
          "filterCalls.minUnitigBlockLength: 25<br><br>makeRegions: <br>  slop: 250<br>  minCoverage: 0<br>  maxCoverage: 200<br>  maxRegionLength: 100000<br>  minRepeatPeriod: 6<br>  minRepeatLength: 0<br>  functionalRegions: none<br>  genomeBuild: hg38<br>  overlappedFunctionalRegions: false<br>makeCalls: <br>  singleBaseMatchReward: 10<br>  singleBaseMismatchPenalty: 12<br>  gapOpenPenalties: 6,26<br>  gapExtensionPenalties: 1,0<br>  minUnitigMappingQuality: 1<br>filterCalls: <br>  maxIntraClusterDistance: 500<br>  minSVSize: 500<br>  minUnitigMappingQuality: 0<br>  svtype: DEL<br>",
          "filterCalls.minUnitigBlockLength: 40<br><br>makeRegions: <br>  slop: 250<br>  minCoverage: 0<br>  maxCoverage: 200<br>  maxRegionLength: 100000<br>  minRepeatPeriod: 6<br>  minRepeatLength: 0<br>  functionalRegions: none<br>  genomeBuild: hg38<br>  overlappedFunctionalRegions: false<br>makeCalls: <br>  singleBaseMatchReward: 10<br>  singleBaseMismatchPenalty: 12<br>  gapOpenPenalties: 6,26<br>  gapExtensionPenalties: 1,0<br>  minUnitigMappingQuality: 1<br>filterCalls: <br>  maxIntraClusterDistance: 500<br>  minSVSize: 500<br>  minUnitigMappingQuality: 0<br>  svtype: DEL<br>",
          "filterCalls.minUnitigBlockLength: 15<br><br>makeRegions: <br>  slop: 250<br>  minCoverage: 0<br>  maxCoverage: 200<br>  maxRegionLength: 100000<br>  minRepeatPeriod: 6<br>  minRepeatLength: 100<br>  functionalRegions: none<br>  genomeBuild: hg38<br>  overlappedFunctionalRegions: false<br>makeCalls: <br>  singleBaseMatchReward: 10<br>  singleBaseMismatchPenalty: 12<br>  gapOpenPenalties: 6,26<br>  gapExtensionPenalties: 1,0<br>  minUnitigMappingQuality: 1<br>filterCalls: <br>  maxIntraClusterDistance: 500<br>  minSVSize: 500<br>  minUnitigMappingQuality: 0<br>  svtype: DEL<br>",
          "filterCalls.minUnitigBlockLength: 25<br><br>makeRegions: <br>  slop: 250<br>  minCoverage: 0<br>  maxCoverage: 200<br>  maxRegionLength: 100000<br>  minRepeatPeriod: 6<br>  minRepeatLength: 100<br>  functionalRegions: none<br>  genomeBuild: hg38<br>  overlappedFunctionalRegions: false<br>makeCalls: <br>  singleBaseMatchReward: 10<br>  singleBaseMismatchPenalty: 12<br>  gapOpenPenalties: 6,26<br>  gapExtensionPenalties: 1,0<br>  minUnitigMappingQuality: 1<br>filterCalls: <br>  maxIntraClusterDistance: 500<br>  minSVSize: 500<br>  minUnitigMappingQuality: 0<br>  svtype: DEL<br>",
          "filterCalls.minUnitigBlockLength: 40<br><br>makeRegions: <br>  slop: 250<br>  minCoverage: 0<br>  maxCoverage: 200<br>  maxRegionLength: 100000<br>  minRepeatPeriod: 6<br>  minRepeatLength: 100<br>  functionalRegions: none<br>  genomeBuild: hg38<br>  overlappedFunctionalRegions: false<br>makeCalls: <br>  singleBaseMatchReward: 10<br>  singleBaseMismatchPenalty: 12<br>  gapOpenPenalties: 6,26<br>  gapExtensionPenalties: 1,0<br>  minUnitigMappingQuality: 1<br>filterCalls: <br>  maxIntraClusterDistance: 500<br>  minSVSize: 500<br>  minUnitigMappingQuality: 0<br>  svtype: DEL<br>",
          "filterCalls.minUnitigBlockLength: 15<br><br>makeRegions: <br>  slop: 250<br>  minCoverage: 0<br>  maxCoverage: 200<br>  maxRegionLength: 100000<br>  minRepeatPeriod: 6<br>  minRepeatLength: 50<br>  functionalRegions: none<br>  genomeBuild: hg38<br>  overlappedFunctionalRegions: false<br>makeCalls: <br>  singleBaseMatchReward: 10<br>  singleBaseMismatchPenalty: 12<br>  gapOpenPenalties: 6,26<br>  gapExtensionPenalties: 1,0<br>  minUnitigMappingQuality: 1<br>filterCalls: <br>  maxIntraClusterDistance: 500<br>  minSVSize: 500<br>  minUnitigMappingQuality: 0<br>  svtype: DEL<br>",
          "filterCalls.minUnitigBlockLength: 25<br><br>makeRegions: <br>  slop: 250<br>  minCoverage: 0<br>  maxCoverage: 200<br>  maxRegionLength: 100000<br>  minRepeatPeriod: 6<br>  minRepeatLength: 50<br>  functionalRegions: none<br>  genomeBuild: hg38<br>  overlappedFunctionalRegions: false<br>makeCalls: <br>  singleBaseMatchReward: 10<br>  singleBaseMismatchPenalty: 12<br>  gapOpenPenalties: 6,26<br>  gapExtensionPenalties: 1,0<br>  minUnitigMappingQuality: 1<br>filterCalls: <br>  maxIntraClusterDistance: 500<br>  minSVSize: 500<br>  minUnitigMappingQuality: 0<br>  svtype: DEL<br>",
          "filterCalls.minUnitigBlockLength: 40<br><br>makeRegions: <br>  slop: 250<br>  minCoverage: 0<br>  maxCoverage: 200<br>  maxRegionLength: 100000<br>  minRepeatPeriod: 6<br>  minRepeatLength: 50<br>  functionalRegions: none<br>  genomeBuild: hg38<br>  overlappedFunctionalRegions: false<br>makeCalls: <br>  singleBaseMatchReward: 10<br>  singleBaseMismatchPenalty: 12<br>  gapOpenPenalties: 6,26<br>  gapExtensionPenalties: 1,0<br>  minUnitigMappingQuality: 1<br>filterCalls: <br>  maxIntraClusterDistance: 500<br>  minSVSize: 500<br>  minUnitigMappingQuality: 0<br>  svtype: DEL<br>",
          "filterCalls.minUnitigBlockLength: 15<br><br>makeRegions: <br>  slop: 250<br>  minCoverage: 0<br>  maxCoverage: 200<br>  maxRegionLength: 100000<br>  minRepeatPeriod: 6<br>  minRepeatLength: 0<br>  functionalRegions: none<br>  genomeBuild: hg38<br>  overlappedFunctionalRegions: false<br>makeCalls: <br>  singleBaseMatchReward: 10<br>  singleBaseMismatchPenalty: 12<br>  gapOpenPenalties: 6,26<br>  gapExtensionPenalties: 1,0<br>  minUnitigMappingQuality: 1<br>filterCalls: <br>  maxIntraClusterDistance: 500<br>  minSVSize: 50<br>  minUnitigMappingQuality: 0<br>  svtype: DEL<br>",
          "filterCalls.minUnitigBlockLength: 25<br><br>makeRegions: <br>  slop: 250<br>  minCoverage: 0<br>  maxCoverage: 200<br>  maxRegionLength: 100000<br>  minRepeatPeriod: 6<br>  minRepeatLength: 0<br>  functionalRegions: none<br>  genomeBuild: hg38<br>  overlappedFunctionalRegions: false<br>makeCalls: <br>  singleBaseMatchReward: 10<br>  singleBaseMismatchPenalty: 12<br>  gapOpenPenalties: 6,26<br>  gapExtensionPenalties: 1,0<br>  minUnitigMappingQuality: 1<br>filterCalls: <br>  maxIntraClusterDistance: 500<br>  minSVSize: 50<br>  minUnitigMappingQuality: 0<br>  svtype: DEL<br>",
          "filterCalls.minUnitigBlockLength: 40<br><br>makeRegions: <br>  slop: 250<br>  minCoverage: 0<br>  maxCoverage: 200<br>  maxRegionLength: 100000<br>  minRepeatPeriod: 6<br>  minRepeatLength: 0<br>  functionalRegions: none<br>  genomeBuild: hg38<br>  overlappedFunctionalRegions: false<br>makeCalls: <br>  singleBaseMatchReward: 10<br>  singleBaseMismatchPenalty: 12<br>  gapOpenPenalties: 6,26<br>  gapExtensionPenalties: 1,0<br>  minUnitigMappingQuality: 1<br>filterCalls: <br>  maxIntraClusterDistance: 500<br>  minSVSize: 50<br>  minUnitigMappingQuality: 0<br>  svtype: DEL<br>",
          "filterCalls.minUnitigBlockLength: 15<br><br>makeRegions: <br>  slop: 250<br>  minCoverage: 0<br>  maxCoverage: 200<br>  maxRegionLength: 100000<br>  minRepeatPeriod: 6<br>  minRepeatLength: 100<br>  functionalRegions: none<br>  genomeBuild: hg38<br>  overlappedFunctionalRegions: false<br>makeCalls: <br>  singleBaseMatchReward: 10<br>  singleBaseMismatchPenalty: 12<br>  gapOpenPenalties: 6,26<br>  gapExtensionPenalties: 1,0<br>  minUnitigMappingQuality: 1<br>filterCalls: <br>  maxIntraClusterDistance: 500<br>  minSVSize: 50<br>  minUnitigMappingQuality: 0<br>  svtype: DEL<br>",
          "filterCalls.minUnitigBlockLength: 25<br><br>makeRegions: <br>  slop: 250<br>  minCoverage: 0<br>  maxCoverage: 200<br>  maxRegionLength: 100000<br>  minRepeatPeriod: 6<br>  minRepeatLength: 100<br>  functionalRegions: none<br>  genomeBuild: hg38<br>  overlappedFunctionalRegions: false<br>makeCalls: <br>  singleBaseMatchReward: 10<br>  singleBaseMismatchPenalty: 12<br>  gapOpenPenalties: 6,26<br>  gapExtensionPenalties: 1,0<br>  minUnitigMappingQuality: 1<br>filterCalls: <br>  maxIntraClusterDistance: 500<br>  minSVSize: 50<br>  minUnitigMappingQuality: 0<br>  svtype: DEL<br>",
          "filterCalls.minUnitigBlockLength: 40<br><br>makeRegions: <br>  slop: 250<br>  minCoverage: 0<br>  maxCoverage: 200<br>  maxRegionLength: 100000<br>  minRepeatPeriod: 6<br>  minRepeatLength: 100<br>  functionalRegions: none<br>  genomeBuild: hg38<br>  overlappedFunctionalRegions: false<br>makeCalls: <br>  singleBaseMatchReward: 10<br>  singleBaseMismatchPenalty: 12<br>  gapOpenPenalties: 6,26<br>  gapExtensionPenalties: 1,0<br>  minUnitigMappingQuality: 1<br>filterCalls: <br>  maxIntraClusterDistance: 500<br>  minSVSize: 50<br>  minUnitigMappingQuality: 0<br>  svtype: DEL<br>",
          "filterCalls.minUnitigBlockLength: 15<br><br>makeRegions: <br>  slop: 250<br>  minCoverage: 0<br>  maxCoverage: 200<br>  maxRegionLength: 100000<br>  minRepeatPeriod: 6<br>  minRepeatLength: 50<br>  functionalRegions: none<br>  genomeBuild: hg38<br>  overlappedFunctionalRegions: false<br>makeCalls: <br>  singleBaseMatchReward: 10<br>  singleBaseMismatchPenalty: 12<br>  gapOpenPenalties: 6,26<br>  gapExtensionPenalties: 1,0<br>  minUnitigMappingQuality: 1<br>filterCalls: <br>  maxIntraClusterDistance: 500<br>  minSVSize: 50<br>  minUnitigMappingQuality: 0<br>  svtype: DEL<br>",
          "filterCalls.minUnitigBlockLength: 25<br><br>makeRegions: <br>  slop: 250<br>  minCoverage: 0<br>  maxCoverage: 200<br>  maxRegionLength: 100000<br>  minRepeatPeriod: 6<br>  minRepeatLength: 50<br>  functionalRegions: none<br>  genomeBuild: hg38<br>  overlappedFunctionalRegions: false<br>makeCalls: <br>  singleBaseMatchReward: 10<br>  singleBaseMismatchPenalty: 12<br>  gapOpenPenalties: 6,26<br>  gapExtensionPenalties: 1,0<br>  minUnitigMappingQuality: 1<br>filterCalls: <br>  maxIntraClusterDistance: 500<br>  minSVSize: 50<br>  minUnitigMappingQuality: 0<br>  svtype: DEL<br>",
          "filterCalls.minUnitigBlockLength: 40<br><br>makeRegions: <br>  slop: 250<br>  minCoverage: 0<br>  maxCoverage: 200<br>  maxRegionLength: 100000<br>  minRepeatPeriod: 6<br>  minRepeatLength: 50<br>  functionalRegions: none<br>  genomeBuild: hg38<br>  overlappedFunctionalRegions: false<br>makeCalls: <br>  singleBaseMatchReward: 10<br>  singleBaseMismatchPenalty: 12<br>  gapOpenPenalties: 6,26<br>  gapExtensionPenalties: 1,0<br>  minUnitigMappingQuality: 1<br>filterCalls: <br>  maxIntraClusterDistance: 500<br>  minSVSize: 50<br>  minUnitigMappingQuality: 0<br>  svtype: DEL<br>"
         ],
         "type": "scatter",
         "x": [
          0.17183653372722796,
          0.17183653372722796,
          0.17183653372722796,
          0.1693121693121693,
          0.1693121693121693,
          0.1693121693121693,
          0.17088607594936708,
          0.17088607594936708,
          0.17088607594936708,
          0.16243654822335024,
          0.16243654822335024,
          0.16243654822335024,
          0.17560975609756097,
          0.17560975609756097,
          0.17560975609756097,
          0.1724137931034483,
          0.1724137931034483,
          0.1724137931034483,
          0.24133333333333334,
          0.24133333333333334,
          0.24133333333333334,
          0.23525557011795545,
          0.23525557011795545,
          0.23525557011795545,
          0.23967486818980668,
          0.23967486818980668,
          0.23967486818980668
         ],
         "y": [
          0.4101057579318449,
          0.4101057579318449,
          0.4101057579318449,
          0.4041331802525832,
          0.4041331802525832,
          0.4041331802525832,
          0.4100467289719626,
          0.4100467289719626,
          0.4100467289719626,
          0.3595505617977528,
          0.3595505617977528,
          0.3595505617977528,
          0.3829787234042553,
          0.3829787234042553,
          0.3829787234042553,
          0.3763440860215054,
          0.3763440860215054,
          0.3763440860215054,
          0.5161596958174905,
          0.5161596958174905,
          0.5161596958174905,
          0.5135908440629471,
          0.5135908440629471,
          0.5135908440629471,
          0.5165719696969697,
          0.5165719696969697,
          0.5165719696969697
         ]
        },
        {
         "marker": {
          "color": "white",
          "line": {
           "color": "black",
           "width": 1
          },
          "size": 10,
          "symbol": "circle"
         },
         "mode": "markers",
         "name": "trfermikit",
         "type": "scatter",
         "y": [
          null
         ]
        },
        {
         "marker": {
          "color": "white",
          "line": {
           "color": "black",
           "width": 1
          },
          "size": 10,
          "symbol": "square"
         },
         "mode": "markers",
         "name": "manta",
         "type": "scatter",
         "y": [
          null
         ]
        },
        {
         "marker": {
          "color": "green",
          "size": 10,
          "symbol": "circle"
         },
         "mode": "markers",
         "name": "minUnitigBlockLength=15",
         "type": "scatter",
         "y": [
          null
         ]
        },
        {
         "marker": {
          "color": "red",
          "size": 10,
          "symbol": "circle"
         },
         "mode": "markers",
         "name": "minUnitigBlockLength=25",
         "type": "scatter",
         "y": [
          null
         ]
        },
        {
         "marker": {
          "color": "blue",
          "size": 10,
          "symbol": "circle"
         },
         "mode": "markers",
         "name": "minUnitigBlockLength=40",
         "type": "scatter",
         "y": [
          null
         ]
        }
       ],
       "layout": {
        "template": {
         "data": {
          "bar": [
           {
            "error_x": {
             "color": "#2a3f5f"
            },
            "error_y": {
             "color": "#2a3f5f"
            },
            "marker": {
             "line": {
              "color": "#E5ECF6",
              "width": 0.5
             }
            },
            "type": "bar"
           }
          ],
          "barpolar": [
           {
            "marker": {
             "line": {
              "color": "#E5ECF6",
              "width": 0.5
             }
            },
            "type": "barpolar"
           }
          ],
          "carpet": [
           {
            "aaxis": {
             "endlinecolor": "#2a3f5f",
             "gridcolor": "white",
             "linecolor": "white",
             "minorgridcolor": "white",
             "startlinecolor": "#2a3f5f"
            },
            "baxis": {
             "endlinecolor": "#2a3f5f",
             "gridcolor": "white",
             "linecolor": "white",
             "minorgridcolor": "white",
             "startlinecolor": "#2a3f5f"
            },
            "type": "carpet"
           }
          ],
          "choropleth": [
           {
            "colorbar": {
             "outlinewidth": 0,
             "ticks": ""
            },
            "type": "choropleth"
           }
          ],
          "contour": [
           {
            "colorbar": {
             "outlinewidth": 0,
             "ticks": ""
            },
            "colorscale": [
             [
              0,
              "#0d0887"
             ],
             [
              0.1111111111111111,
              "#46039f"
             ],
             [
              0.2222222222222222,
              "#7201a8"
             ],
             [
              0.3333333333333333,
              "#9c179e"
             ],
             [
              0.4444444444444444,
              "#bd3786"
             ],
             [
              0.5555555555555556,
              "#d8576b"
             ],
             [
              0.6666666666666666,
              "#ed7953"
             ],
             [
              0.7777777777777778,
              "#fb9f3a"
             ],
             [
              0.8888888888888888,
              "#fdca26"
             ],
             [
              1,
              "#f0f921"
             ]
            ],
            "type": "contour"
           }
          ],
          "contourcarpet": [
           {
            "colorbar": {
             "outlinewidth": 0,
             "ticks": ""
            },
            "type": "contourcarpet"
           }
          ],
          "heatmap": [
           {
            "colorbar": {
             "outlinewidth": 0,
             "ticks": ""
            },
            "colorscale": [
             [
              0,
              "#0d0887"
             ],
             [
              0.1111111111111111,
              "#46039f"
             ],
             [
              0.2222222222222222,
              "#7201a8"
             ],
             [
              0.3333333333333333,
              "#9c179e"
             ],
             [
              0.4444444444444444,
              "#bd3786"
             ],
             [
              0.5555555555555556,
              "#d8576b"
             ],
             [
              0.6666666666666666,
              "#ed7953"
             ],
             [
              0.7777777777777778,
              "#fb9f3a"
             ],
             [
              0.8888888888888888,
              "#fdca26"
             ],
             [
              1,
              "#f0f921"
             ]
            ],
            "type": "heatmap"
           }
          ],
          "heatmapgl": [
           {
            "colorbar": {
             "outlinewidth": 0,
             "ticks": ""
            },
            "colorscale": [
             [
              0,
              "#0d0887"
             ],
             [
              0.1111111111111111,
              "#46039f"
             ],
             [
              0.2222222222222222,
              "#7201a8"
             ],
             [
              0.3333333333333333,
              "#9c179e"
             ],
             [
              0.4444444444444444,
              "#bd3786"
             ],
             [
              0.5555555555555556,
              "#d8576b"
             ],
             [
              0.6666666666666666,
              "#ed7953"
             ],
             [
              0.7777777777777778,
              "#fb9f3a"
             ],
             [
              0.8888888888888888,
              "#fdca26"
             ],
             [
              1,
              "#f0f921"
             ]
            ],
            "type": "heatmapgl"
           }
          ],
          "histogram": [
           {
            "marker": {
             "colorbar": {
              "outlinewidth": 0,
              "ticks": ""
             }
            },
            "type": "histogram"
           }
          ],
          "histogram2d": [
           {
            "colorbar": {
             "outlinewidth": 0,
             "ticks": ""
            },
            "colorscale": [
             [
              0,
              "#0d0887"
             ],
             [
              0.1111111111111111,
              "#46039f"
             ],
             [
              0.2222222222222222,
              "#7201a8"
             ],
             [
              0.3333333333333333,
              "#9c179e"
             ],
             [
              0.4444444444444444,
              "#bd3786"
             ],
             [
              0.5555555555555556,
              "#d8576b"
             ],
             [
              0.6666666666666666,
              "#ed7953"
             ],
             [
              0.7777777777777778,
              "#fb9f3a"
             ],
             [
              0.8888888888888888,
              "#fdca26"
             ],
             [
              1,
              "#f0f921"
             ]
            ],
            "type": "histogram2d"
           }
          ],
          "histogram2dcontour": [
           {
            "colorbar": {
             "outlinewidth": 0,
             "ticks": ""
            },
            "colorscale": [
             [
              0,
              "#0d0887"
             ],
             [
              0.1111111111111111,
              "#46039f"
             ],
             [
              0.2222222222222222,
              "#7201a8"
             ],
             [
              0.3333333333333333,
              "#9c179e"
             ],
             [
              0.4444444444444444,
              "#bd3786"
             ],
             [
              0.5555555555555556,
              "#d8576b"
             ],
             [
              0.6666666666666666,
              "#ed7953"
             ],
             [
              0.7777777777777778,
              "#fb9f3a"
             ],
             [
              0.8888888888888888,
              "#fdca26"
             ],
             [
              1,
              "#f0f921"
             ]
            ],
            "type": "histogram2dcontour"
           }
          ],
          "mesh3d": [
           {
            "colorbar": {
             "outlinewidth": 0,
             "ticks": ""
            },
            "type": "mesh3d"
           }
          ],
          "parcoords": [
           {
            "line": {
             "colorbar": {
              "outlinewidth": 0,
              "ticks": ""
             }
            },
            "type": "parcoords"
           }
          ],
          "pie": [
           {
            "automargin": true,
            "type": "pie"
           }
          ],
          "scatter": [
           {
            "marker": {
             "colorbar": {
              "outlinewidth": 0,
              "ticks": ""
             }
            },
            "type": "scatter"
           }
          ],
          "scatter3d": [
           {
            "line": {
             "colorbar": {
              "outlinewidth": 0,
              "ticks": ""
             }
            },
            "marker": {
             "colorbar": {
              "outlinewidth": 0,
              "ticks": ""
             }
            },
            "type": "scatter3d"
           }
          ],
          "scattercarpet": [
           {
            "marker": {
             "colorbar": {
              "outlinewidth": 0,
              "ticks": ""
             }
            },
            "type": "scattercarpet"
           }
          ],
          "scattergeo": [
           {
            "marker": {
             "colorbar": {
              "outlinewidth": 0,
              "ticks": ""
             }
            },
            "type": "scattergeo"
           }
          ],
          "scattergl": [
           {
            "marker": {
             "colorbar": {
              "outlinewidth": 0,
              "ticks": ""
             }
            },
            "type": "scattergl"
           }
          ],
          "scattermapbox": [
           {
            "marker": {
             "colorbar": {
              "outlinewidth": 0,
              "ticks": ""
             }
            },
            "type": "scattermapbox"
           }
          ],
          "scatterpolar": [
           {
            "marker": {
             "colorbar": {
              "outlinewidth": 0,
              "ticks": ""
             }
            },
            "type": "scatterpolar"
           }
          ],
          "scatterpolargl": [
           {
            "marker": {
             "colorbar": {
              "outlinewidth": 0,
              "ticks": ""
             }
            },
            "type": "scatterpolargl"
           }
          ],
          "scatterternary": [
           {
            "marker": {
             "colorbar": {
              "outlinewidth": 0,
              "ticks": ""
             }
            },
            "type": "scatterternary"
           }
          ],
          "surface": [
           {
            "colorbar": {
             "outlinewidth": 0,
             "ticks": ""
            },
            "colorscale": [
             [
              0,
              "#0d0887"
             ],
             [
              0.1111111111111111,
              "#46039f"
             ],
             [
              0.2222222222222222,
              "#7201a8"
             ],
             [
              0.3333333333333333,
              "#9c179e"
             ],
             [
              0.4444444444444444,
              "#bd3786"
             ],
             [
              0.5555555555555556,
              "#d8576b"
             ],
             [
              0.6666666666666666,
              "#ed7953"
             ],
             [
              0.7777777777777778,
              "#fb9f3a"
             ],
             [
              0.8888888888888888,
              "#fdca26"
             ],
             [
              1,
              "#f0f921"
             ]
            ],
            "type": "surface"
           }
          ],
          "table": [
           {
            "cells": {
             "fill": {
              "color": "#EBF0F8"
             },
             "line": {
              "color": "white"
             }
            },
            "header": {
             "fill": {
              "color": "#C8D4E3"
             },
             "line": {
              "color": "white"
             }
            },
            "type": "table"
           }
          ]
         },
         "layout": {
          "annotationdefaults": {
           "arrowcolor": "#2a3f5f",
           "arrowhead": 0,
           "arrowwidth": 1
          },
          "autotypenumbers": "strict",
          "coloraxis": {
           "colorbar": {
            "outlinewidth": 0,
            "ticks": ""
           }
          },
          "colorscale": {
           "diverging": [
            [
             0,
             "#8e0152"
            ],
            [
             0.1,
             "#c51b7d"
            ],
            [
             0.2,
             "#de77ae"
            ],
            [
             0.3,
             "#f1b6da"
            ],
            [
             0.4,
             "#fde0ef"
            ],
            [
             0.5,
             "#f7f7f7"
            ],
            [
             0.6,
             "#e6f5d0"
            ],
            [
             0.7,
             "#b8e186"
            ],
            [
             0.8,
             "#7fbc41"
            ],
            [
             0.9,
             "#4d9221"
            ],
            [
             1,
             "#276419"
            ]
           ],
           "sequential": [
            [
             0,
             "#0d0887"
            ],
            [
             0.1111111111111111,
             "#46039f"
            ],
            [
             0.2222222222222222,
             "#7201a8"
            ],
            [
             0.3333333333333333,
             "#9c179e"
            ],
            [
             0.4444444444444444,
             "#bd3786"
            ],
            [
             0.5555555555555556,
             "#d8576b"
            ],
            [
             0.6666666666666666,
             "#ed7953"
            ],
            [
             0.7777777777777778,
             "#fb9f3a"
            ],
            [
             0.8888888888888888,
             "#fdca26"
            ],
            [
             1,
             "#f0f921"
            ]
           ],
           "sequentialminus": [
            [
             0,
             "#0d0887"
            ],
            [
             0.1111111111111111,
             "#46039f"
            ],
            [
             0.2222222222222222,
             "#7201a8"
            ],
            [
             0.3333333333333333,
             "#9c179e"
            ],
            [
             0.4444444444444444,
             "#bd3786"
            ],
            [
             0.5555555555555556,
             "#d8576b"
            ],
            [
             0.6666666666666666,
             "#ed7953"
            ],
            [
             0.7777777777777778,
             "#fb9f3a"
            ],
            [
             0.8888888888888888,
             "#fdca26"
            ],
            [
             1,
             "#f0f921"
            ]
           ]
          },
          "colorway": [
           "#636efa",
           "#EF553B",
           "#00cc96",
           "#ab63fa",
           "#FFA15A",
           "#19d3f3",
           "#FF6692",
           "#B6E880",
           "#FF97FF",
           "#FECB52"
          ],
          "font": {
           "color": "#2a3f5f"
          },
          "geo": {
           "bgcolor": "white",
           "lakecolor": "white",
           "landcolor": "#E5ECF6",
           "showlakes": true,
           "showland": true,
           "subunitcolor": "white"
          },
          "hoverlabel": {
           "align": "left"
          },
          "hovermode": "closest",
          "mapbox": {
           "style": "light"
          },
          "paper_bgcolor": "white",
          "plot_bgcolor": "#E5ECF6",
          "polar": {
           "angularaxis": {
            "gridcolor": "white",
            "linecolor": "white",
            "ticks": ""
           },
           "bgcolor": "#E5ECF6",
           "radialaxis": {
            "gridcolor": "white",
            "linecolor": "white",
            "ticks": ""
           }
          },
          "scene": {
           "xaxis": {
            "backgroundcolor": "#E5ECF6",
            "gridcolor": "white",
            "gridwidth": 2,
            "linecolor": "white",
            "showbackground": true,
            "ticks": "",
            "zerolinecolor": "white"
           },
           "yaxis": {
            "backgroundcolor": "#E5ECF6",
            "gridcolor": "white",
            "gridwidth": 2,
            "linecolor": "white",
            "showbackground": true,
            "ticks": "",
            "zerolinecolor": "white"
           },
           "zaxis": {
            "backgroundcolor": "#E5ECF6",
            "gridcolor": "white",
            "gridwidth": 2,
            "linecolor": "white",
            "showbackground": true,
            "ticks": "",
            "zerolinecolor": "white"
           }
          },
          "shapedefaults": {
           "line": {
            "color": "#2a3f5f"
           }
          },
          "ternary": {
           "aaxis": {
            "gridcolor": "white",
            "linecolor": "white",
            "ticks": ""
           },
           "baxis": {
            "gridcolor": "white",
            "linecolor": "white",
            "ticks": ""
           },
           "bgcolor": "#E5ECF6",
           "caxis": {
            "gridcolor": "white",
            "linecolor": "white",
            "ticks": ""
           }
          },
          "title": {
           "x": 0.05
          },
          "xaxis": {
           "automargin": true,
           "gridcolor": "white",
           "linecolor": "white",
           "ticks": "",
           "title": {
            "standoff": 15
           },
           "zerolinecolor": "white",
           "zerolinewidth": 2
          },
          "yaxis": {
           "automargin": true,
           "gridcolor": "white",
           "linecolor": "white",
           "ticks": "",
           "title": {
            "standoff": 15
           },
           "zerolinecolor": "white",
           "zerolinewidth": 2
          }
         }
        },
        "title": {
         "text": "minUnitigBlockLength moves precision and recall in opposite directions:"
        },
        "xaxis": {
         "title": {
          "text": "recall"
         }
        },
        "yaxis": {
         "title": {
          "text": "precision"
         }
        }
       }
      },
      "text/html": [
       "<div>                            <div id=\"60a935fd-1d26-43d0-80bd-4ebde998147b\" class=\"plotly-graph-div\" style=\"height:525px; width:100%;\"></div>            <script type=\"text/javascript\">                require([\"plotly\"], function(Plotly) {                    window.PLOTLYENV=window.PLOTLYENV || {};                                    if (document.getElementById(\"60a935fd-1d26-43d0-80bd-4ebde998147b\")) {                    Plotly.newPlot(                        \"60a935fd-1d26-43d0-80bd-4ebde998147b\",                        [{\"hovertemplate\": \"%{text}\", \"marker\": {\"color\": [\"green\", \"red\", \"blue\", \"green\", \"red\", \"blue\", \"green\", \"red\", \"blue\", \"green\", \"red\", \"blue\", \"green\", \"red\", \"blue\", \"green\", \"red\", \"blue\", \"green\", \"red\", \"blue\", \"green\", \"red\", \"blue\", \"green\", \"red\", \"blue\"], \"line\": {\"color\": \"black\", \"width\": 1}, \"size\": 10, \"symbol\": \"circle\"}, \"mode\": \"markers\", \"name\": \"trfermikit\", \"showlegend\": false, \"text\": [\"filterCalls.minUnitigBlockLength: 15<br><br>makeRegions: <br>  slop: 250<br>  minCoverage: 0<br>  maxCoverage: 200<br>  maxRegionLength: 100000<br>  minRepeatPeriod: 6<br>  minRepeatLength: 0<br>  functionalRegions: none<br>  genomeBuild: hg38<br>  overlappedFunctionalRegions: false<br>makeCalls: <br>  singleBaseMatchReward: 10<br>  singleBaseMismatchPenalty: 12<br>  gapOpenPenalties: 6,26<br>  gapExtensionPenalties: 1,0<br>  minUnitigMappingQuality: 1<br>filterCalls: <br>  maxIntraClusterDistance: 500<br>  minSVSize: 100<br>  minUnitigMappingQuality: 0<br>  svtype: DEL<br>\", \"filterCalls.minUnitigBlockLength: 25<br><br>makeRegions: <br>  slop: 250<br>  minCoverage: 0<br>  maxCoverage: 200<br>  maxRegionLength: 100000<br>  minRepeatPeriod: 6<br>  minRepeatLength: 0<br>  functionalRegions: none<br>  genomeBuild: hg38<br>  overlappedFunctionalRegions: false<br>makeCalls: <br>  singleBaseMatchReward: 10<br>  singleBaseMismatchPenalty: 12<br>  gapOpenPenalties: 6,26<br>  gapExtensionPenalties: 1,0<br>  minUnitigMappingQuality: 1<br>filterCalls: <br>  maxIntraClusterDistance: 500<br>  minSVSize: 100<br>  minUnitigMappingQuality: 0<br>  svtype: DEL<br>\", \"filterCalls.minUnitigBlockLength: 40<br><br>makeRegions: <br>  slop: 250<br>  minCoverage: 0<br>  maxCoverage: 200<br>  maxRegionLength: 100000<br>  minRepeatPeriod: 6<br>  minRepeatLength: 0<br>  functionalRegions: none<br>  genomeBuild: hg38<br>  overlappedFunctionalRegions: false<br>makeCalls: <br>  singleBaseMatchReward: 10<br>  singleBaseMismatchPenalty: 12<br>  gapOpenPenalties: 6,26<br>  gapExtensionPenalties: 1,0<br>  minUnitigMappingQuality: 1<br>filterCalls: <br>  maxIntraClusterDistance: 500<br>  minSVSize: 100<br>  minUnitigMappingQuality: 0<br>  svtype: DEL<br>\", \"filterCalls.minUnitigBlockLength: 15<br><br>makeRegions: <br>  slop: 250<br>  minCoverage: 0<br>  maxCoverage: 200<br>  maxRegionLength: 100000<br>  minRepeatPeriod: 6<br>  minRepeatLength: 100<br>  functionalRegions: none<br>  genomeBuild: hg38<br>  overlappedFunctionalRegions: false<br>makeCalls: <br>  singleBaseMatchReward: 10<br>  singleBaseMismatchPenalty: 12<br>  gapOpenPenalties: 6,26<br>  gapExtensionPenalties: 1,0<br>  minUnitigMappingQuality: 1<br>filterCalls: <br>  maxIntraClusterDistance: 500<br>  minSVSize: 100<br>  minUnitigMappingQuality: 0<br>  svtype: DEL<br>\", \"filterCalls.minUnitigBlockLength: 25<br><br>makeRegions: <br>  slop: 250<br>  minCoverage: 0<br>  maxCoverage: 200<br>  maxRegionLength: 100000<br>  minRepeatPeriod: 6<br>  minRepeatLength: 100<br>  functionalRegions: none<br>  genomeBuild: hg38<br>  overlappedFunctionalRegions: false<br>makeCalls: <br>  singleBaseMatchReward: 10<br>  singleBaseMismatchPenalty: 12<br>  gapOpenPenalties: 6,26<br>  gapExtensionPenalties: 1,0<br>  minUnitigMappingQuality: 1<br>filterCalls: <br>  maxIntraClusterDistance: 500<br>  minSVSize: 100<br>  minUnitigMappingQuality: 0<br>  svtype: DEL<br>\", \"filterCalls.minUnitigBlockLength: 40<br><br>makeRegions: <br>  slop: 250<br>  minCoverage: 0<br>  maxCoverage: 200<br>  maxRegionLength: 100000<br>  minRepeatPeriod: 6<br>  minRepeatLength: 100<br>  functionalRegions: none<br>  genomeBuild: hg38<br>  overlappedFunctionalRegions: false<br>makeCalls: <br>  singleBaseMatchReward: 10<br>  singleBaseMismatchPenalty: 12<br>  gapOpenPenalties: 6,26<br>  gapExtensionPenalties: 1,0<br>  minUnitigMappingQuality: 1<br>filterCalls: <br>  maxIntraClusterDistance: 500<br>  minSVSize: 100<br>  minUnitigMappingQuality: 0<br>  svtype: DEL<br>\", \"filterCalls.minUnitigBlockLength: 15<br><br>makeRegions: <br>  slop: 250<br>  minCoverage: 0<br>  maxCoverage: 200<br>  maxRegionLength: 100000<br>  minRepeatPeriod: 6<br>  minRepeatLength: 50<br>  functionalRegions: none<br>  genomeBuild: hg38<br>  overlappedFunctionalRegions: false<br>makeCalls: <br>  singleBaseMatchReward: 10<br>  singleBaseMismatchPenalty: 12<br>  gapOpenPenalties: 6,26<br>  gapExtensionPenalties: 1,0<br>  minUnitigMappingQuality: 1<br>filterCalls: <br>  maxIntraClusterDistance: 500<br>  minSVSize: 100<br>  minUnitigMappingQuality: 0<br>  svtype: DEL<br>\", \"filterCalls.minUnitigBlockLength: 25<br><br>makeRegions: <br>  slop: 250<br>  minCoverage: 0<br>  maxCoverage: 200<br>  maxRegionLength: 100000<br>  minRepeatPeriod: 6<br>  minRepeatLength: 50<br>  functionalRegions: none<br>  genomeBuild: hg38<br>  overlappedFunctionalRegions: false<br>makeCalls: <br>  singleBaseMatchReward: 10<br>  singleBaseMismatchPenalty: 12<br>  gapOpenPenalties: 6,26<br>  gapExtensionPenalties: 1,0<br>  minUnitigMappingQuality: 1<br>filterCalls: <br>  maxIntraClusterDistance: 500<br>  minSVSize: 100<br>  minUnitigMappingQuality: 0<br>  svtype: DEL<br>\", \"filterCalls.minUnitigBlockLength: 40<br><br>makeRegions: <br>  slop: 250<br>  minCoverage: 0<br>  maxCoverage: 200<br>  maxRegionLength: 100000<br>  minRepeatPeriod: 6<br>  minRepeatLength: 50<br>  functionalRegions: none<br>  genomeBuild: hg38<br>  overlappedFunctionalRegions: false<br>makeCalls: <br>  singleBaseMatchReward: 10<br>  singleBaseMismatchPenalty: 12<br>  gapOpenPenalties: 6,26<br>  gapExtensionPenalties: 1,0<br>  minUnitigMappingQuality: 1<br>filterCalls: <br>  maxIntraClusterDistance: 500<br>  minSVSize: 100<br>  minUnitigMappingQuality: 0<br>  svtype: DEL<br>\", \"filterCalls.minUnitigBlockLength: 15<br><br>makeRegions: <br>  slop: 250<br>  minCoverage: 0<br>  maxCoverage: 200<br>  maxRegionLength: 100000<br>  minRepeatPeriod: 6<br>  minRepeatLength: 0<br>  functionalRegions: none<br>  genomeBuild: hg38<br>  overlappedFunctionalRegions: false<br>makeCalls: <br>  singleBaseMatchReward: 10<br>  singleBaseMismatchPenalty: 12<br>  gapOpenPenalties: 6,26<br>  gapExtensionPenalties: 1,0<br>  minUnitigMappingQuality: 1<br>filterCalls: <br>  maxIntraClusterDistance: 500<br>  minSVSize: 500<br>  minUnitigMappingQuality: 0<br>  svtype: DEL<br>\", \"filterCalls.minUnitigBlockLength: 25<br><br>makeRegions: <br>  slop: 250<br>  minCoverage: 0<br>  maxCoverage: 200<br>  maxRegionLength: 100000<br>  minRepeatPeriod: 6<br>  minRepeatLength: 0<br>  functionalRegions: none<br>  genomeBuild: hg38<br>  overlappedFunctionalRegions: false<br>makeCalls: <br>  singleBaseMatchReward: 10<br>  singleBaseMismatchPenalty: 12<br>  gapOpenPenalties: 6,26<br>  gapExtensionPenalties: 1,0<br>  minUnitigMappingQuality: 1<br>filterCalls: <br>  maxIntraClusterDistance: 500<br>  minSVSize: 500<br>  minUnitigMappingQuality: 0<br>  svtype: DEL<br>\", \"filterCalls.minUnitigBlockLength: 40<br><br>makeRegions: <br>  slop: 250<br>  minCoverage: 0<br>  maxCoverage: 200<br>  maxRegionLength: 100000<br>  minRepeatPeriod: 6<br>  minRepeatLength: 0<br>  functionalRegions: none<br>  genomeBuild: hg38<br>  overlappedFunctionalRegions: false<br>makeCalls: <br>  singleBaseMatchReward: 10<br>  singleBaseMismatchPenalty: 12<br>  gapOpenPenalties: 6,26<br>  gapExtensionPenalties: 1,0<br>  minUnitigMappingQuality: 1<br>filterCalls: <br>  maxIntraClusterDistance: 500<br>  minSVSize: 500<br>  minUnitigMappingQuality: 0<br>  svtype: DEL<br>\", \"filterCalls.minUnitigBlockLength: 15<br><br>makeRegions: <br>  slop: 250<br>  minCoverage: 0<br>  maxCoverage: 200<br>  maxRegionLength: 100000<br>  minRepeatPeriod: 6<br>  minRepeatLength: 100<br>  functionalRegions: none<br>  genomeBuild: hg38<br>  overlappedFunctionalRegions: false<br>makeCalls: <br>  singleBaseMatchReward: 10<br>  singleBaseMismatchPenalty: 12<br>  gapOpenPenalties: 6,26<br>  gapExtensionPenalties: 1,0<br>  minUnitigMappingQuality: 1<br>filterCalls: <br>  maxIntraClusterDistance: 500<br>  minSVSize: 500<br>  minUnitigMappingQuality: 0<br>  svtype: DEL<br>\", \"filterCalls.minUnitigBlockLength: 25<br><br>makeRegions: <br>  slop: 250<br>  minCoverage: 0<br>  maxCoverage: 200<br>  maxRegionLength: 100000<br>  minRepeatPeriod: 6<br>  minRepeatLength: 100<br>  functionalRegions: none<br>  genomeBuild: hg38<br>  overlappedFunctionalRegions: false<br>makeCalls: <br>  singleBaseMatchReward: 10<br>  singleBaseMismatchPenalty: 12<br>  gapOpenPenalties: 6,26<br>  gapExtensionPenalties: 1,0<br>  minUnitigMappingQuality: 1<br>filterCalls: <br>  maxIntraClusterDistance: 500<br>  minSVSize: 500<br>  minUnitigMappingQuality: 0<br>  svtype: DEL<br>\", \"filterCalls.minUnitigBlockLength: 40<br><br>makeRegions: <br>  slop: 250<br>  minCoverage: 0<br>  maxCoverage: 200<br>  maxRegionLength: 100000<br>  minRepeatPeriod: 6<br>  minRepeatLength: 100<br>  functionalRegions: none<br>  genomeBuild: hg38<br>  overlappedFunctionalRegions: false<br>makeCalls: <br>  singleBaseMatchReward: 10<br>  singleBaseMismatchPenalty: 12<br>  gapOpenPenalties: 6,26<br>  gapExtensionPenalties: 1,0<br>  minUnitigMappingQuality: 1<br>filterCalls: <br>  maxIntraClusterDistance: 500<br>  minSVSize: 500<br>  minUnitigMappingQuality: 0<br>  svtype: DEL<br>\", \"filterCalls.minUnitigBlockLength: 15<br><br>makeRegions: <br>  slop: 250<br>  minCoverage: 0<br>  maxCoverage: 200<br>  maxRegionLength: 100000<br>  minRepeatPeriod: 6<br>  minRepeatLength: 50<br>  functionalRegions: none<br>  genomeBuild: hg38<br>  overlappedFunctionalRegions: false<br>makeCalls: <br>  singleBaseMatchReward: 10<br>  singleBaseMismatchPenalty: 12<br>  gapOpenPenalties: 6,26<br>  gapExtensionPenalties: 1,0<br>  minUnitigMappingQuality: 1<br>filterCalls: <br>  maxIntraClusterDistance: 500<br>  minSVSize: 500<br>  minUnitigMappingQuality: 0<br>  svtype: DEL<br>\", \"filterCalls.minUnitigBlockLength: 25<br><br>makeRegions: <br>  slop: 250<br>  minCoverage: 0<br>  maxCoverage: 200<br>  maxRegionLength: 100000<br>  minRepeatPeriod: 6<br>  minRepeatLength: 50<br>  functionalRegions: none<br>  genomeBuild: hg38<br>  overlappedFunctionalRegions: false<br>makeCalls: <br>  singleBaseMatchReward: 10<br>  singleBaseMismatchPenalty: 12<br>  gapOpenPenalties: 6,26<br>  gapExtensionPenalties: 1,0<br>  minUnitigMappingQuality: 1<br>filterCalls: <br>  maxIntraClusterDistance: 500<br>  minSVSize: 500<br>  minUnitigMappingQuality: 0<br>  svtype: DEL<br>\", \"filterCalls.minUnitigBlockLength: 40<br><br>makeRegions: <br>  slop: 250<br>  minCoverage: 0<br>  maxCoverage: 200<br>  maxRegionLength: 100000<br>  minRepeatPeriod: 6<br>  minRepeatLength: 50<br>  functionalRegions: none<br>  genomeBuild: hg38<br>  overlappedFunctionalRegions: false<br>makeCalls: <br>  singleBaseMatchReward: 10<br>  singleBaseMismatchPenalty: 12<br>  gapOpenPenalties: 6,26<br>  gapExtensionPenalties: 1,0<br>  minUnitigMappingQuality: 1<br>filterCalls: <br>  maxIntraClusterDistance: 500<br>  minSVSize: 500<br>  minUnitigMappingQuality: 0<br>  svtype: DEL<br>\", \"filterCalls.minUnitigBlockLength: 15<br><br>makeRegions: <br>  slop: 250<br>  minCoverage: 0<br>  maxCoverage: 200<br>  maxRegionLength: 100000<br>  minRepeatPeriod: 6<br>  minRepeatLength: 0<br>  functionalRegions: none<br>  genomeBuild: hg38<br>  overlappedFunctionalRegions: false<br>makeCalls: <br>  singleBaseMatchReward: 10<br>  singleBaseMismatchPenalty: 12<br>  gapOpenPenalties: 6,26<br>  gapExtensionPenalties: 1,0<br>  minUnitigMappingQuality: 1<br>filterCalls: <br>  maxIntraClusterDistance: 500<br>  minSVSize: 50<br>  minUnitigMappingQuality: 0<br>  svtype: DEL<br>\", \"filterCalls.minUnitigBlockLength: 25<br><br>makeRegions: <br>  slop: 250<br>  minCoverage: 0<br>  maxCoverage: 200<br>  maxRegionLength: 100000<br>  minRepeatPeriod: 6<br>  minRepeatLength: 0<br>  functionalRegions: none<br>  genomeBuild: hg38<br>  overlappedFunctionalRegions: false<br>makeCalls: <br>  singleBaseMatchReward: 10<br>  singleBaseMismatchPenalty: 12<br>  gapOpenPenalties: 6,26<br>  gapExtensionPenalties: 1,0<br>  minUnitigMappingQuality: 1<br>filterCalls: <br>  maxIntraClusterDistance: 500<br>  minSVSize: 50<br>  minUnitigMappingQuality: 0<br>  svtype: DEL<br>\", \"filterCalls.minUnitigBlockLength: 40<br><br>makeRegions: <br>  slop: 250<br>  minCoverage: 0<br>  maxCoverage: 200<br>  maxRegionLength: 100000<br>  minRepeatPeriod: 6<br>  minRepeatLength: 0<br>  functionalRegions: none<br>  genomeBuild: hg38<br>  overlappedFunctionalRegions: false<br>makeCalls: <br>  singleBaseMatchReward: 10<br>  singleBaseMismatchPenalty: 12<br>  gapOpenPenalties: 6,26<br>  gapExtensionPenalties: 1,0<br>  minUnitigMappingQuality: 1<br>filterCalls: <br>  maxIntraClusterDistance: 500<br>  minSVSize: 50<br>  minUnitigMappingQuality: 0<br>  svtype: DEL<br>\", \"filterCalls.minUnitigBlockLength: 15<br><br>makeRegions: <br>  slop: 250<br>  minCoverage: 0<br>  maxCoverage: 200<br>  maxRegionLength: 100000<br>  minRepeatPeriod: 6<br>  minRepeatLength: 100<br>  functionalRegions: none<br>  genomeBuild: hg38<br>  overlappedFunctionalRegions: false<br>makeCalls: <br>  singleBaseMatchReward: 10<br>  singleBaseMismatchPenalty: 12<br>  gapOpenPenalties: 6,26<br>  gapExtensionPenalties: 1,0<br>  minUnitigMappingQuality: 1<br>filterCalls: <br>  maxIntraClusterDistance: 500<br>  minSVSize: 50<br>  minUnitigMappingQuality: 0<br>  svtype: DEL<br>\", \"filterCalls.minUnitigBlockLength: 25<br><br>makeRegions: <br>  slop: 250<br>  minCoverage: 0<br>  maxCoverage: 200<br>  maxRegionLength: 100000<br>  minRepeatPeriod: 6<br>  minRepeatLength: 100<br>  functionalRegions: none<br>  genomeBuild: hg38<br>  overlappedFunctionalRegions: false<br>makeCalls: <br>  singleBaseMatchReward: 10<br>  singleBaseMismatchPenalty: 12<br>  gapOpenPenalties: 6,26<br>  gapExtensionPenalties: 1,0<br>  minUnitigMappingQuality: 1<br>filterCalls: <br>  maxIntraClusterDistance: 500<br>  minSVSize: 50<br>  minUnitigMappingQuality: 0<br>  svtype: DEL<br>\", \"filterCalls.minUnitigBlockLength: 40<br><br>makeRegions: <br>  slop: 250<br>  minCoverage: 0<br>  maxCoverage: 200<br>  maxRegionLength: 100000<br>  minRepeatPeriod: 6<br>  minRepeatLength: 100<br>  functionalRegions: none<br>  genomeBuild: hg38<br>  overlappedFunctionalRegions: false<br>makeCalls: <br>  singleBaseMatchReward: 10<br>  singleBaseMismatchPenalty: 12<br>  gapOpenPenalties: 6,26<br>  gapExtensionPenalties: 1,0<br>  minUnitigMappingQuality: 1<br>filterCalls: <br>  maxIntraClusterDistance: 500<br>  minSVSize: 50<br>  minUnitigMappingQuality: 0<br>  svtype: DEL<br>\", \"filterCalls.minUnitigBlockLength: 15<br><br>makeRegions: <br>  slop: 250<br>  minCoverage: 0<br>  maxCoverage: 200<br>  maxRegionLength: 100000<br>  minRepeatPeriod: 6<br>  minRepeatLength: 50<br>  functionalRegions: none<br>  genomeBuild: hg38<br>  overlappedFunctionalRegions: false<br>makeCalls: <br>  singleBaseMatchReward: 10<br>  singleBaseMismatchPenalty: 12<br>  gapOpenPenalties: 6,26<br>  gapExtensionPenalties: 1,0<br>  minUnitigMappingQuality: 1<br>filterCalls: <br>  maxIntraClusterDistance: 500<br>  minSVSize: 50<br>  minUnitigMappingQuality: 0<br>  svtype: DEL<br>\", \"filterCalls.minUnitigBlockLength: 25<br><br>makeRegions: <br>  slop: 250<br>  minCoverage: 0<br>  maxCoverage: 200<br>  maxRegionLength: 100000<br>  minRepeatPeriod: 6<br>  minRepeatLength: 50<br>  functionalRegions: none<br>  genomeBuild: hg38<br>  overlappedFunctionalRegions: false<br>makeCalls: <br>  singleBaseMatchReward: 10<br>  singleBaseMismatchPenalty: 12<br>  gapOpenPenalties: 6,26<br>  gapExtensionPenalties: 1,0<br>  minUnitigMappingQuality: 1<br>filterCalls: <br>  maxIntraClusterDistance: 500<br>  minSVSize: 50<br>  minUnitigMappingQuality: 0<br>  svtype: DEL<br>\", \"filterCalls.minUnitigBlockLength: 40<br><br>makeRegions: <br>  slop: 250<br>  minCoverage: 0<br>  maxCoverage: 200<br>  maxRegionLength: 100000<br>  minRepeatPeriod: 6<br>  minRepeatLength: 50<br>  functionalRegions: none<br>  genomeBuild: hg38<br>  overlappedFunctionalRegions: false<br>makeCalls: <br>  singleBaseMatchReward: 10<br>  singleBaseMismatchPenalty: 12<br>  gapOpenPenalties: 6,26<br>  gapExtensionPenalties: 1,0<br>  minUnitigMappingQuality: 1<br>filterCalls: <br>  maxIntraClusterDistance: 500<br>  minSVSize: 50<br>  minUnitigMappingQuality: 0<br>  svtype: DEL<br>\"], \"type\": \"scatter\", \"x\": [0.24716888232397832, 0.2343673067454456, 0.20925652387986213, 0.24627224627224628, 0.2376142376142376, 0.20346320346320346, 0.249269717624148, 0.23904576436222005, 0.2098344693281402, 0.06598984771573604, 0.050761421319796954, 0.05583756345177665, 0.07317073170731707, 0.05365853658536585, 0.04878048780487805, 0.06896551724137931, 0.059113300492610835, 0.04433497536945813, 0.33866666666666667, 0.3233333333333333, 0.28644444444444445, 0.33857579729139364, 0.3215377894276977, 0.28462210572302316, 0.3400702987697715, 0.3251318101933216, 0.2884446397188049], \"y\": [0.26421052631578945, 0.34744525547445254, 0.4579741379310345, 0.25806451612903225, 0.34764250527797325, 0.44714587737843553, 0.26528497409326424, 0.3492176386913229, 0.4654427645788337, 0.15853658536585366, 0.19607843137254902, 0.28205128205128205, 0.1744186046511628, 0.22448979591836735, 0.2564102564102564, 0.16470588235294117, 0.23076923076923078, 0.23076923076923078, 0.3876876112948359, 0.46411483253588515, 0.5525075010715816, 0.3883738411425708, 0.46274756365922665, 0.5509513742071882, 0.3903177004538578, 0.46540880503144655, 0.5565917761763459]}, {\"hovertemplate\": \"%{text}\", \"marker\": {\"color\": [\"green\", \"red\", \"blue\", \"green\", \"red\", \"blue\", \"green\", \"red\", \"blue\", \"green\", \"red\", \"blue\", \"green\", \"red\", \"blue\", \"green\", \"red\", \"blue\", \"green\", \"red\", \"blue\", \"green\", \"red\", \"blue\", \"green\", \"red\", \"blue\"], \"line\": {\"color\": \"black\", \"width\": 1}, \"size\": 10, \"symbol\": \"square\"}, \"mode\": \"markers\", \"name\": \"manta\", \"showlegend\": false, \"text\": [\"filterCalls.minUnitigBlockLength: 15<br><br>makeRegions: <br>  slop: 250<br>  minCoverage: 0<br>  maxCoverage: 200<br>  maxRegionLength: 100000<br>  minRepeatPeriod: 6<br>  minRepeatLength: 0<br>  functionalRegions: none<br>  genomeBuild: hg38<br>  overlappedFunctionalRegions: false<br>makeCalls: <br>  singleBaseMatchReward: 10<br>  singleBaseMismatchPenalty: 12<br>  gapOpenPenalties: 6,26<br>  gapExtensionPenalties: 1,0<br>  minUnitigMappingQuality: 1<br>filterCalls: <br>  maxIntraClusterDistance: 500<br>  minSVSize: 100<br>  minUnitigMappingQuality: 0<br>  svtype: DEL<br>\", \"filterCalls.minUnitigBlockLength: 25<br><br>makeRegions: <br>  slop: 250<br>  minCoverage: 0<br>  maxCoverage: 200<br>  maxRegionLength: 100000<br>  minRepeatPeriod: 6<br>  minRepeatLength: 0<br>  functionalRegions: none<br>  genomeBuild: hg38<br>  overlappedFunctionalRegions: false<br>makeCalls: <br>  singleBaseMatchReward: 10<br>  singleBaseMismatchPenalty: 12<br>  gapOpenPenalties: 6,26<br>  gapExtensionPenalties: 1,0<br>  minUnitigMappingQuality: 1<br>filterCalls: <br>  maxIntraClusterDistance: 500<br>  minSVSize: 100<br>  minUnitigMappingQuality: 0<br>  svtype: DEL<br>\", \"filterCalls.minUnitigBlockLength: 40<br><br>makeRegions: <br>  slop: 250<br>  minCoverage: 0<br>  maxCoverage: 200<br>  maxRegionLength: 100000<br>  minRepeatPeriod: 6<br>  minRepeatLength: 0<br>  functionalRegions: none<br>  genomeBuild: hg38<br>  overlappedFunctionalRegions: false<br>makeCalls: <br>  singleBaseMatchReward: 10<br>  singleBaseMismatchPenalty: 12<br>  gapOpenPenalties: 6,26<br>  gapExtensionPenalties: 1,0<br>  minUnitigMappingQuality: 1<br>filterCalls: <br>  maxIntraClusterDistance: 500<br>  minSVSize: 100<br>  minUnitigMappingQuality: 0<br>  svtype: DEL<br>\", \"filterCalls.minUnitigBlockLength: 15<br><br>makeRegions: <br>  slop: 250<br>  minCoverage: 0<br>  maxCoverage: 200<br>  maxRegionLength: 100000<br>  minRepeatPeriod: 6<br>  minRepeatLength: 100<br>  functionalRegions: none<br>  genomeBuild: hg38<br>  overlappedFunctionalRegions: false<br>makeCalls: <br>  singleBaseMatchReward: 10<br>  singleBaseMismatchPenalty: 12<br>  gapOpenPenalties: 6,26<br>  gapExtensionPenalties: 1,0<br>  minUnitigMappingQuality: 1<br>filterCalls: <br>  maxIntraClusterDistance: 500<br>  minSVSize: 100<br>  minUnitigMappingQuality: 0<br>  svtype: DEL<br>\", \"filterCalls.minUnitigBlockLength: 25<br><br>makeRegions: <br>  slop: 250<br>  minCoverage: 0<br>  maxCoverage: 200<br>  maxRegionLength: 100000<br>  minRepeatPeriod: 6<br>  minRepeatLength: 100<br>  functionalRegions: none<br>  genomeBuild: hg38<br>  overlappedFunctionalRegions: false<br>makeCalls: <br>  singleBaseMatchReward: 10<br>  singleBaseMismatchPenalty: 12<br>  gapOpenPenalties: 6,26<br>  gapExtensionPenalties: 1,0<br>  minUnitigMappingQuality: 1<br>filterCalls: <br>  maxIntraClusterDistance: 500<br>  minSVSize: 100<br>  minUnitigMappingQuality: 0<br>  svtype: DEL<br>\", \"filterCalls.minUnitigBlockLength: 40<br><br>makeRegions: <br>  slop: 250<br>  minCoverage: 0<br>  maxCoverage: 200<br>  maxRegionLength: 100000<br>  minRepeatPeriod: 6<br>  minRepeatLength: 100<br>  functionalRegions: none<br>  genomeBuild: hg38<br>  overlappedFunctionalRegions: false<br>makeCalls: <br>  singleBaseMatchReward: 10<br>  singleBaseMismatchPenalty: 12<br>  gapOpenPenalties: 6,26<br>  gapExtensionPenalties: 1,0<br>  minUnitigMappingQuality: 1<br>filterCalls: <br>  maxIntraClusterDistance: 500<br>  minSVSize: 100<br>  minUnitigMappingQuality: 0<br>  svtype: DEL<br>\", \"filterCalls.minUnitigBlockLength: 15<br><br>makeRegions: <br>  slop: 250<br>  minCoverage: 0<br>  maxCoverage: 200<br>  maxRegionLength: 100000<br>  minRepeatPeriod: 6<br>  minRepeatLength: 50<br>  functionalRegions: none<br>  genomeBuild: hg38<br>  overlappedFunctionalRegions: false<br>makeCalls: <br>  singleBaseMatchReward: 10<br>  singleBaseMismatchPenalty: 12<br>  gapOpenPenalties: 6,26<br>  gapExtensionPenalties: 1,0<br>  minUnitigMappingQuality: 1<br>filterCalls: <br>  maxIntraClusterDistance: 500<br>  minSVSize: 100<br>  minUnitigMappingQuality: 0<br>  svtype: DEL<br>\", \"filterCalls.minUnitigBlockLength: 25<br><br>makeRegions: <br>  slop: 250<br>  minCoverage: 0<br>  maxCoverage: 200<br>  maxRegionLength: 100000<br>  minRepeatPeriod: 6<br>  minRepeatLength: 50<br>  functionalRegions: none<br>  genomeBuild: hg38<br>  overlappedFunctionalRegions: false<br>makeCalls: <br>  singleBaseMatchReward: 10<br>  singleBaseMismatchPenalty: 12<br>  gapOpenPenalties: 6,26<br>  gapExtensionPenalties: 1,0<br>  minUnitigMappingQuality: 1<br>filterCalls: <br>  maxIntraClusterDistance: 500<br>  minSVSize: 100<br>  minUnitigMappingQuality: 0<br>  svtype: DEL<br>\", \"filterCalls.minUnitigBlockLength: 40<br><br>makeRegions: <br>  slop: 250<br>  minCoverage: 0<br>  maxCoverage: 200<br>  maxRegionLength: 100000<br>  minRepeatPeriod: 6<br>  minRepeatLength: 50<br>  functionalRegions: none<br>  genomeBuild: hg38<br>  overlappedFunctionalRegions: false<br>makeCalls: <br>  singleBaseMatchReward: 10<br>  singleBaseMismatchPenalty: 12<br>  gapOpenPenalties: 6,26<br>  gapExtensionPenalties: 1,0<br>  minUnitigMappingQuality: 1<br>filterCalls: <br>  maxIntraClusterDistance: 500<br>  minSVSize: 100<br>  minUnitigMappingQuality: 0<br>  svtype: DEL<br>\", \"filterCalls.minUnitigBlockLength: 15<br><br>makeRegions: <br>  slop: 250<br>  minCoverage: 0<br>  maxCoverage: 200<br>  maxRegionLength: 100000<br>  minRepeatPeriod: 6<br>  minRepeatLength: 0<br>  functionalRegions: none<br>  genomeBuild: hg38<br>  overlappedFunctionalRegions: false<br>makeCalls: <br>  singleBaseMatchReward: 10<br>  singleBaseMismatchPenalty: 12<br>  gapOpenPenalties: 6,26<br>  gapExtensionPenalties: 1,0<br>  minUnitigMappingQuality: 1<br>filterCalls: <br>  maxIntraClusterDistance: 500<br>  minSVSize: 500<br>  minUnitigMappingQuality: 0<br>  svtype: DEL<br>\", \"filterCalls.minUnitigBlockLength: 25<br><br>makeRegions: <br>  slop: 250<br>  minCoverage: 0<br>  maxCoverage: 200<br>  maxRegionLength: 100000<br>  minRepeatPeriod: 6<br>  minRepeatLength: 0<br>  functionalRegions: none<br>  genomeBuild: hg38<br>  overlappedFunctionalRegions: false<br>makeCalls: <br>  singleBaseMatchReward: 10<br>  singleBaseMismatchPenalty: 12<br>  gapOpenPenalties: 6,26<br>  gapExtensionPenalties: 1,0<br>  minUnitigMappingQuality: 1<br>filterCalls: <br>  maxIntraClusterDistance: 500<br>  minSVSize: 500<br>  minUnitigMappingQuality: 0<br>  svtype: DEL<br>\", \"filterCalls.minUnitigBlockLength: 40<br><br>makeRegions: <br>  slop: 250<br>  minCoverage: 0<br>  maxCoverage: 200<br>  maxRegionLength: 100000<br>  minRepeatPeriod: 6<br>  minRepeatLength: 0<br>  functionalRegions: none<br>  genomeBuild: hg38<br>  overlappedFunctionalRegions: false<br>makeCalls: <br>  singleBaseMatchReward: 10<br>  singleBaseMismatchPenalty: 12<br>  gapOpenPenalties: 6,26<br>  gapExtensionPenalties: 1,0<br>  minUnitigMappingQuality: 1<br>filterCalls: <br>  maxIntraClusterDistance: 500<br>  minSVSize: 500<br>  minUnitigMappingQuality: 0<br>  svtype: DEL<br>\", \"filterCalls.minUnitigBlockLength: 15<br><br>makeRegions: <br>  slop: 250<br>  minCoverage: 0<br>  maxCoverage: 200<br>  maxRegionLength: 100000<br>  minRepeatPeriod: 6<br>  minRepeatLength: 100<br>  functionalRegions: none<br>  genomeBuild: hg38<br>  overlappedFunctionalRegions: false<br>makeCalls: <br>  singleBaseMatchReward: 10<br>  singleBaseMismatchPenalty: 12<br>  gapOpenPenalties: 6,26<br>  gapExtensionPenalties: 1,0<br>  minUnitigMappingQuality: 1<br>filterCalls: <br>  maxIntraClusterDistance: 500<br>  minSVSize: 500<br>  minUnitigMappingQuality: 0<br>  svtype: DEL<br>\", \"filterCalls.minUnitigBlockLength: 25<br><br>makeRegions: <br>  slop: 250<br>  minCoverage: 0<br>  maxCoverage: 200<br>  maxRegionLength: 100000<br>  minRepeatPeriod: 6<br>  minRepeatLength: 100<br>  functionalRegions: none<br>  genomeBuild: hg38<br>  overlappedFunctionalRegions: false<br>makeCalls: <br>  singleBaseMatchReward: 10<br>  singleBaseMismatchPenalty: 12<br>  gapOpenPenalties: 6,26<br>  gapExtensionPenalties: 1,0<br>  minUnitigMappingQuality: 1<br>filterCalls: <br>  maxIntraClusterDistance: 500<br>  minSVSize: 500<br>  minUnitigMappingQuality: 0<br>  svtype: DEL<br>\", \"filterCalls.minUnitigBlockLength: 40<br><br>makeRegions: <br>  slop: 250<br>  minCoverage: 0<br>  maxCoverage: 200<br>  maxRegionLength: 100000<br>  minRepeatPeriod: 6<br>  minRepeatLength: 100<br>  functionalRegions: none<br>  genomeBuild: hg38<br>  overlappedFunctionalRegions: false<br>makeCalls: <br>  singleBaseMatchReward: 10<br>  singleBaseMismatchPenalty: 12<br>  gapOpenPenalties: 6,26<br>  gapExtensionPenalties: 1,0<br>  minUnitigMappingQuality: 1<br>filterCalls: <br>  maxIntraClusterDistance: 500<br>  minSVSize: 500<br>  minUnitigMappingQuality: 0<br>  svtype: DEL<br>\", \"filterCalls.minUnitigBlockLength: 15<br><br>makeRegions: <br>  slop: 250<br>  minCoverage: 0<br>  maxCoverage: 200<br>  maxRegionLength: 100000<br>  minRepeatPeriod: 6<br>  minRepeatLength: 50<br>  functionalRegions: none<br>  genomeBuild: hg38<br>  overlappedFunctionalRegions: false<br>makeCalls: <br>  singleBaseMatchReward: 10<br>  singleBaseMismatchPenalty: 12<br>  gapOpenPenalties: 6,26<br>  gapExtensionPenalties: 1,0<br>  minUnitigMappingQuality: 1<br>filterCalls: <br>  maxIntraClusterDistance: 500<br>  minSVSize: 500<br>  minUnitigMappingQuality: 0<br>  svtype: DEL<br>\", \"filterCalls.minUnitigBlockLength: 25<br><br>makeRegions: <br>  slop: 250<br>  minCoverage: 0<br>  maxCoverage: 200<br>  maxRegionLength: 100000<br>  minRepeatPeriod: 6<br>  minRepeatLength: 50<br>  functionalRegions: none<br>  genomeBuild: hg38<br>  overlappedFunctionalRegions: false<br>makeCalls: <br>  singleBaseMatchReward: 10<br>  singleBaseMismatchPenalty: 12<br>  gapOpenPenalties: 6,26<br>  gapExtensionPenalties: 1,0<br>  minUnitigMappingQuality: 1<br>filterCalls: <br>  maxIntraClusterDistance: 500<br>  minSVSize: 500<br>  minUnitigMappingQuality: 0<br>  svtype: DEL<br>\", \"filterCalls.minUnitigBlockLength: 40<br><br>makeRegions: <br>  slop: 250<br>  minCoverage: 0<br>  maxCoverage: 200<br>  maxRegionLength: 100000<br>  minRepeatPeriod: 6<br>  minRepeatLength: 50<br>  functionalRegions: none<br>  genomeBuild: hg38<br>  overlappedFunctionalRegions: false<br>makeCalls: <br>  singleBaseMatchReward: 10<br>  singleBaseMismatchPenalty: 12<br>  gapOpenPenalties: 6,26<br>  gapExtensionPenalties: 1,0<br>  minUnitigMappingQuality: 1<br>filterCalls: <br>  maxIntraClusterDistance: 500<br>  minSVSize: 500<br>  minUnitigMappingQuality: 0<br>  svtype: DEL<br>\", \"filterCalls.minUnitigBlockLength: 15<br><br>makeRegions: <br>  slop: 250<br>  minCoverage: 0<br>  maxCoverage: 200<br>  maxRegionLength: 100000<br>  minRepeatPeriod: 6<br>  minRepeatLength: 0<br>  functionalRegions: none<br>  genomeBuild: hg38<br>  overlappedFunctionalRegions: false<br>makeCalls: <br>  singleBaseMatchReward: 10<br>  singleBaseMismatchPenalty: 12<br>  gapOpenPenalties: 6,26<br>  gapExtensionPenalties: 1,0<br>  minUnitigMappingQuality: 1<br>filterCalls: <br>  maxIntraClusterDistance: 500<br>  minSVSize: 50<br>  minUnitigMappingQuality: 0<br>  svtype: DEL<br>\", \"filterCalls.minUnitigBlockLength: 25<br><br>makeRegions: <br>  slop: 250<br>  minCoverage: 0<br>  maxCoverage: 200<br>  maxRegionLength: 100000<br>  minRepeatPeriod: 6<br>  minRepeatLength: 0<br>  functionalRegions: none<br>  genomeBuild: hg38<br>  overlappedFunctionalRegions: false<br>makeCalls: <br>  singleBaseMatchReward: 10<br>  singleBaseMismatchPenalty: 12<br>  gapOpenPenalties: 6,26<br>  gapExtensionPenalties: 1,0<br>  minUnitigMappingQuality: 1<br>filterCalls: <br>  maxIntraClusterDistance: 500<br>  minSVSize: 50<br>  minUnitigMappingQuality: 0<br>  svtype: DEL<br>\", \"filterCalls.minUnitigBlockLength: 40<br><br>makeRegions: <br>  slop: 250<br>  minCoverage: 0<br>  maxCoverage: 200<br>  maxRegionLength: 100000<br>  minRepeatPeriod: 6<br>  minRepeatLength: 0<br>  functionalRegions: none<br>  genomeBuild: hg38<br>  overlappedFunctionalRegions: false<br>makeCalls: <br>  singleBaseMatchReward: 10<br>  singleBaseMismatchPenalty: 12<br>  gapOpenPenalties: 6,26<br>  gapExtensionPenalties: 1,0<br>  minUnitigMappingQuality: 1<br>filterCalls: <br>  maxIntraClusterDistance: 500<br>  minSVSize: 50<br>  minUnitigMappingQuality: 0<br>  svtype: DEL<br>\", \"filterCalls.minUnitigBlockLength: 15<br><br>makeRegions: <br>  slop: 250<br>  minCoverage: 0<br>  maxCoverage: 200<br>  maxRegionLength: 100000<br>  minRepeatPeriod: 6<br>  minRepeatLength: 100<br>  functionalRegions: none<br>  genomeBuild: hg38<br>  overlappedFunctionalRegions: false<br>makeCalls: <br>  singleBaseMatchReward: 10<br>  singleBaseMismatchPenalty: 12<br>  gapOpenPenalties: 6,26<br>  gapExtensionPenalties: 1,0<br>  minUnitigMappingQuality: 1<br>filterCalls: <br>  maxIntraClusterDistance: 500<br>  minSVSize: 50<br>  minUnitigMappingQuality: 0<br>  svtype: DEL<br>\", \"filterCalls.minUnitigBlockLength: 25<br><br>makeRegions: <br>  slop: 250<br>  minCoverage: 0<br>  maxCoverage: 200<br>  maxRegionLength: 100000<br>  minRepeatPeriod: 6<br>  minRepeatLength: 100<br>  functionalRegions: none<br>  genomeBuild: hg38<br>  overlappedFunctionalRegions: false<br>makeCalls: <br>  singleBaseMatchReward: 10<br>  singleBaseMismatchPenalty: 12<br>  gapOpenPenalties: 6,26<br>  gapExtensionPenalties: 1,0<br>  minUnitigMappingQuality: 1<br>filterCalls: <br>  maxIntraClusterDistance: 500<br>  minSVSize: 50<br>  minUnitigMappingQuality: 0<br>  svtype: DEL<br>\", \"filterCalls.minUnitigBlockLength: 40<br><br>makeRegions: <br>  slop: 250<br>  minCoverage: 0<br>  maxCoverage: 200<br>  maxRegionLength: 100000<br>  minRepeatPeriod: 6<br>  minRepeatLength: 100<br>  functionalRegions: none<br>  genomeBuild: hg38<br>  overlappedFunctionalRegions: false<br>makeCalls: <br>  singleBaseMatchReward: 10<br>  singleBaseMismatchPenalty: 12<br>  gapOpenPenalties: 6,26<br>  gapExtensionPenalties: 1,0<br>  minUnitigMappingQuality: 1<br>filterCalls: <br>  maxIntraClusterDistance: 500<br>  minSVSize: 50<br>  minUnitigMappingQuality: 0<br>  svtype: DEL<br>\", \"filterCalls.minUnitigBlockLength: 15<br><br>makeRegions: <br>  slop: 250<br>  minCoverage: 0<br>  maxCoverage: 200<br>  maxRegionLength: 100000<br>  minRepeatPeriod: 6<br>  minRepeatLength: 50<br>  functionalRegions: none<br>  genomeBuild: hg38<br>  overlappedFunctionalRegions: false<br>makeCalls: <br>  singleBaseMatchReward: 10<br>  singleBaseMismatchPenalty: 12<br>  gapOpenPenalties: 6,26<br>  gapExtensionPenalties: 1,0<br>  minUnitigMappingQuality: 1<br>filterCalls: <br>  maxIntraClusterDistance: 500<br>  minSVSize: 50<br>  minUnitigMappingQuality: 0<br>  svtype: DEL<br>\", \"filterCalls.minUnitigBlockLength: 25<br><br>makeRegions: <br>  slop: 250<br>  minCoverage: 0<br>  maxCoverage: 200<br>  maxRegionLength: 100000<br>  minRepeatPeriod: 6<br>  minRepeatLength: 50<br>  functionalRegions: none<br>  genomeBuild: hg38<br>  overlappedFunctionalRegions: false<br>makeCalls: <br>  singleBaseMatchReward: 10<br>  singleBaseMismatchPenalty: 12<br>  gapOpenPenalties: 6,26<br>  gapExtensionPenalties: 1,0<br>  minUnitigMappingQuality: 1<br>filterCalls: <br>  maxIntraClusterDistance: 500<br>  minSVSize: 50<br>  minUnitigMappingQuality: 0<br>  svtype: DEL<br>\", \"filterCalls.minUnitigBlockLength: 40<br><br>makeRegions: <br>  slop: 250<br>  minCoverage: 0<br>  maxCoverage: 200<br>  maxRegionLength: 100000<br>  minRepeatPeriod: 6<br>  minRepeatLength: 50<br>  functionalRegions: none<br>  genomeBuild: hg38<br>  overlappedFunctionalRegions: false<br>makeCalls: <br>  singleBaseMatchReward: 10<br>  singleBaseMismatchPenalty: 12<br>  gapOpenPenalties: 6,26<br>  gapExtensionPenalties: 1,0<br>  minUnitigMappingQuality: 1<br>filterCalls: <br>  maxIntraClusterDistance: 500<br>  minSVSize: 50<br>  minUnitigMappingQuality: 0<br>  svtype: DEL<br>\"], \"type\": \"scatter\", \"x\": [0.17183653372722796, 0.17183653372722796, 0.17183653372722796, 0.1693121693121693, 0.1693121693121693, 0.1693121693121693, 0.17088607594936708, 0.17088607594936708, 0.17088607594936708, 0.16243654822335024, 0.16243654822335024, 0.16243654822335024, 0.17560975609756097, 0.17560975609756097, 0.17560975609756097, 0.1724137931034483, 0.1724137931034483, 0.1724137931034483, 0.24133333333333334, 0.24133333333333334, 0.24133333333333334, 0.23525557011795545, 0.23525557011795545, 0.23525557011795545, 0.23967486818980668, 0.23967486818980668, 0.23967486818980668], \"y\": [0.4101057579318449, 0.4101057579318449, 0.4101057579318449, 0.4041331802525832, 0.4041331802525832, 0.4041331802525832, 0.4100467289719626, 0.4100467289719626, 0.4100467289719626, 0.3595505617977528, 0.3595505617977528, 0.3595505617977528, 0.3829787234042553, 0.3829787234042553, 0.3829787234042553, 0.3763440860215054, 0.3763440860215054, 0.3763440860215054, 0.5161596958174905, 0.5161596958174905, 0.5161596958174905, 0.5135908440629471, 0.5135908440629471, 0.5135908440629471, 0.5165719696969697, 0.5165719696969697, 0.5165719696969697]}, {\"marker\": {\"color\": \"white\", \"line\": {\"color\": \"black\", \"width\": 1}, \"size\": 10, \"symbol\": \"circle\"}, \"mode\": \"markers\", \"name\": \"trfermikit\", \"type\": \"scatter\", \"y\": [null]}, {\"marker\": {\"color\": \"white\", \"line\": {\"color\": \"black\", \"width\": 1}, \"size\": 10, \"symbol\": \"square\"}, \"mode\": \"markers\", \"name\": \"manta\", \"type\": \"scatter\", \"y\": [null]}, {\"marker\": {\"color\": \"green\", \"size\": 10, \"symbol\": \"circle\"}, \"mode\": \"markers\", \"name\": \"minUnitigBlockLength=15\", \"type\": \"scatter\", \"y\": [null]}, {\"marker\": {\"color\": \"red\", \"size\": 10, \"symbol\": \"circle\"}, \"mode\": \"markers\", \"name\": \"minUnitigBlockLength=25\", \"type\": \"scatter\", \"y\": [null]}, {\"marker\": {\"color\": \"blue\", \"size\": 10, \"symbol\": \"circle\"}, \"mode\": \"markers\", \"name\": \"minUnitigBlockLength=40\", \"type\": \"scatter\", \"y\": [null]}],                        {\"template\": {\"data\": {\"bar\": [{\"error_x\": {\"color\": \"#2a3f5f\"}, \"error_y\": {\"color\": \"#2a3f5f\"}, \"marker\": {\"line\": {\"color\": \"#E5ECF6\", \"width\": 0.5}}, \"type\": \"bar\"}], \"barpolar\": [{\"marker\": {\"line\": {\"color\": \"#E5ECF6\", \"width\": 0.5}}, \"type\": \"barpolar\"}], \"carpet\": [{\"aaxis\": {\"endlinecolor\": \"#2a3f5f\", \"gridcolor\": \"white\", \"linecolor\": \"white\", \"minorgridcolor\": \"white\", \"startlinecolor\": \"#2a3f5f\"}, \"baxis\": {\"endlinecolor\": \"#2a3f5f\", \"gridcolor\": \"white\", \"linecolor\": \"white\", \"minorgridcolor\": \"white\", \"startlinecolor\": \"#2a3f5f\"}, \"type\": \"carpet\"}], \"choropleth\": [{\"colorbar\": {\"outlinewidth\": 0, \"ticks\": \"\"}, \"type\": \"choropleth\"}], \"contour\": [{\"colorbar\": {\"outlinewidth\": 0, \"ticks\": \"\"}, \"colorscale\": [[0.0, \"#0d0887\"], [0.1111111111111111, \"#46039f\"], [0.2222222222222222, \"#7201a8\"], [0.3333333333333333, \"#9c179e\"], [0.4444444444444444, \"#bd3786\"], [0.5555555555555556, \"#d8576b\"], [0.6666666666666666, \"#ed7953\"], [0.7777777777777778, \"#fb9f3a\"], [0.8888888888888888, \"#fdca26\"], [1.0, \"#f0f921\"]], \"type\": \"contour\"}], \"contourcarpet\": [{\"colorbar\": {\"outlinewidth\": 0, \"ticks\": \"\"}, \"type\": \"contourcarpet\"}], \"heatmap\": [{\"colorbar\": {\"outlinewidth\": 0, \"ticks\": \"\"}, \"colorscale\": [[0.0, \"#0d0887\"], [0.1111111111111111, \"#46039f\"], [0.2222222222222222, \"#7201a8\"], [0.3333333333333333, \"#9c179e\"], [0.4444444444444444, \"#bd3786\"], [0.5555555555555556, \"#d8576b\"], [0.6666666666666666, \"#ed7953\"], [0.7777777777777778, \"#fb9f3a\"], [0.8888888888888888, \"#fdca26\"], [1.0, \"#f0f921\"]], \"type\": \"heatmap\"}], \"heatmapgl\": [{\"colorbar\": {\"outlinewidth\": 0, \"ticks\": \"\"}, \"colorscale\": [[0.0, \"#0d0887\"], [0.1111111111111111, \"#46039f\"], [0.2222222222222222, \"#7201a8\"], [0.3333333333333333, \"#9c179e\"], [0.4444444444444444, \"#bd3786\"], [0.5555555555555556, \"#d8576b\"], [0.6666666666666666, \"#ed7953\"], [0.7777777777777778, \"#fb9f3a\"], [0.8888888888888888, \"#fdca26\"], [1.0, \"#f0f921\"]], \"type\": \"heatmapgl\"}], \"histogram\": [{\"marker\": {\"colorbar\": {\"outlinewidth\": 0, \"ticks\": \"\"}}, \"type\": \"histogram\"}], \"histogram2d\": [{\"colorbar\": {\"outlinewidth\": 0, \"ticks\": \"\"}, \"colorscale\": [[0.0, \"#0d0887\"], [0.1111111111111111, \"#46039f\"], [0.2222222222222222, \"#7201a8\"], [0.3333333333333333, \"#9c179e\"], [0.4444444444444444, \"#bd3786\"], [0.5555555555555556, \"#d8576b\"], [0.6666666666666666, \"#ed7953\"], [0.7777777777777778, \"#fb9f3a\"], [0.8888888888888888, \"#fdca26\"], [1.0, \"#f0f921\"]], \"type\": \"histogram2d\"}], \"histogram2dcontour\": [{\"colorbar\": {\"outlinewidth\": 0, \"ticks\": \"\"}, \"colorscale\": [[0.0, \"#0d0887\"], [0.1111111111111111, \"#46039f\"], [0.2222222222222222, \"#7201a8\"], [0.3333333333333333, \"#9c179e\"], [0.4444444444444444, \"#bd3786\"], [0.5555555555555556, \"#d8576b\"], [0.6666666666666666, \"#ed7953\"], [0.7777777777777778, \"#fb9f3a\"], [0.8888888888888888, \"#fdca26\"], [1.0, \"#f0f921\"]], \"type\": \"histogram2dcontour\"}], \"mesh3d\": [{\"colorbar\": {\"outlinewidth\": 0, \"ticks\": \"\"}, \"type\": \"mesh3d\"}], \"parcoords\": [{\"line\": {\"colorbar\": {\"outlinewidth\": 0, \"ticks\": \"\"}}, \"type\": \"parcoords\"}], \"pie\": [{\"automargin\": true, \"type\": \"pie\"}], \"scatter\": [{\"marker\": {\"colorbar\": {\"outlinewidth\": 0, \"ticks\": \"\"}}, \"type\": \"scatter\"}], \"scatter3d\": [{\"line\": {\"colorbar\": {\"outlinewidth\": 0, \"ticks\": \"\"}}, \"marker\": {\"colorbar\": {\"outlinewidth\": 0, \"ticks\": \"\"}}, \"type\": \"scatter3d\"}], \"scattercarpet\": [{\"marker\": {\"colorbar\": {\"outlinewidth\": 0, \"ticks\": \"\"}}, \"type\": \"scattercarpet\"}], \"scattergeo\": [{\"marker\": {\"colorbar\": {\"outlinewidth\": 0, \"ticks\": \"\"}}, \"type\": \"scattergeo\"}], \"scattergl\": [{\"marker\": {\"colorbar\": {\"outlinewidth\": 0, \"ticks\": \"\"}}, \"type\": \"scattergl\"}], \"scattermapbox\": [{\"marker\": {\"colorbar\": {\"outlinewidth\": 0, \"ticks\": \"\"}}, \"type\": \"scattermapbox\"}], \"scatterpolar\": [{\"marker\": {\"colorbar\": {\"outlinewidth\": 0, \"ticks\": \"\"}}, \"type\": \"scatterpolar\"}], \"scatterpolargl\": [{\"marker\": {\"colorbar\": {\"outlinewidth\": 0, \"ticks\": \"\"}}, \"type\": \"scatterpolargl\"}], \"scatterternary\": [{\"marker\": {\"colorbar\": {\"outlinewidth\": 0, \"ticks\": \"\"}}, \"type\": \"scatterternary\"}], \"surface\": [{\"colorbar\": {\"outlinewidth\": 0, \"ticks\": \"\"}, \"colorscale\": [[0.0, \"#0d0887\"], [0.1111111111111111, \"#46039f\"], [0.2222222222222222, \"#7201a8\"], [0.3333333333333333, \"#9c179e\"], [0.4444444444444444, \"#bd3786\"], [0.5555555555555556, \"#d8576b\"], [0.6666666666666666, \"#ed7953\"], [0.7777777777777778, \"#fb9f3a\"], [0.8888888888888888, \"#fdca26\"], [1.0, \"#f0f921\"]], \"type\": \"surface\"}], \"table\": [{\"cells\": {\"fill\": {\"color\": \"#EBF0F8\"}, \"line\": {\"color\": \"white\"}}, \"header\": {\"fill\": {\"color\": \"#C8D4E3\"}, \"line\": {\"color\": \"white\"}}, \"type\": \"table\"}]}, \"layout\": {\"annotationdefaults\": {\"arrowcolor\": \"#2a3f5f\", \"arrowhead\": 0, \"arrowwidth\": 1}, \"autotypenumbers\": \"strict\", \"coloraxis\": {\"colorbar\": {\"outlinewidth\": 0, \"ticks\": \"\"}}, \"colorscale\": {\"diverging\": [[0, \"#8e0152\"], [0.1, \"#c51b7d\"], [0.2, \"#de77ae\"], [0.3, \"#f1b6da\"], [0.4, \"#fde0ef\"], [0.5, \"#f7f7f7\"], [0.6, \"#e6f5d0\"], [0.7, \"#b8e186\"], [0.8, \"#7fbc41\"], [0.9, \"#4d9221\"], [1, \"#276419\"]], \"sequential\": [[0.0, \"#0d0887\"], [0.1111111111111111, \"#46039f\"], [0.2222222222222222, \"#7201a8\"], [0.3333333333333333, \"#9c179e\"], [0.4444444444444444, \"#bd3786\"], [0.5555555555555556, \"#d8576b\"], [0.6666666666666666, \"#ed7953\"], [0.7777777777777778, \"#fb9f3a\"], [0.8888888888888888, \"#fdca26\"], [1.0, \"#f0f921\"]], \"sequentialminus\": [[0.0, \"#0d0887\"], [0.1111111111111111, \"#46039f\"], [0.2222222222222222, \"#7201a8\"], [0.3333333333333333, \"#9c179e\"], [0.4444444444444444, \"#bd3786\"], [0.5555555555555556, \"#d8576b\"], [0.6666666666666666, \"#ed7953\"], [0.7777777777777778, \"#fb9f3a\"], [0.8888888888888888, \"#fdca26\"], [1.0, \"#f0f921\"]]}, \"colorway\": [\"#636efa\", \"#EF553B\", \"#00cc96\", \"#ab63fa\", \"#FFA15A\", \"#19d3f3\", \"#FF6692\", \"#B6E880\", \"#FF97FF\", \"#FECB52\"], \"font\": {\"color\": \"#2a3f5f\"}, \"geo\": {\"bgcolor\": \"white\", \"lakecolor\": \"white\", \"landcolor\": \"#E5ECF6\", \"showlakes\": true, \"showland\": true, \"subunitcolor\": \"white\"}, \"hoverlabel\": {\"align\": \"left\"}, \"hovermode\": \"closest\", \"mapbox\": {\"style\": \"light\"}, \"paper_bgcolor\": \"white\", \"plot_bgcolor\": \"#E5ECF6\", \"polar\": {\"angularaxis\": {\"gridcolor\": \"white\", \"linecolor\": \"white\", \"ticks\": \"\"}, \"bgcolor\": \"#E5ECF6\", \"radialaxis\": {\"gridcolor\": \"white\", \"linecolor\": \"white\", \"ticks\": \"\"}}, \"scene\": {\"xaxis\": {\"backgroundcolor\": \"#E5ECF6\", \"gridcolor\": \"white\", \"gridwidth\": 2, \"linecolor\": \"white\", \"showbackground\": true, \"ticks\": \"\", \"zerolinecolor\": \"white\"}, \"yaxis\": {\"backgroundcolor\": \"#E5ECF6\", \"gridcolor\": \"white\", \"gridwidth\": 2, \"linecolor\": \"white\", \"showbackground\": true, \"ticks\": \"\", \"zerolinecolor\": \"white\"}, \"zaxis\": {\"backgroundcolor\": \"#E5ECF6\", \"gridcolor\": \"white\", \"gridwidth\": 2, \"linecolor\": \"white\", \"showbackground\": true, \"ticks\": \"\", \"zerolinecolor\": \"white\"}}, \"shapedefaults\": {\"line\": {\"color\": \"#2a3f5f\"}}, \"ternary\": {\"aaxis\": {\"gridcolor\": \"white\", \"linecolor\": \"white\", \"ticks\": \"\"}, \"baxis\": {\"gridcolor\": \"white\", \"linecolor\": \"white\", \"ticks\": \"\"}, \"bgcolor\": \"#E5ECF6\", \"caxis\": {\"gridcolor\": \"white\", \"linecolor\": \"white\", \"ticks\": \"\"}}, \"title\": {\"x\": 0.05}, \"xaxis\": {\"automargin\": true, \"gridcolor\": \"white\", \"linecolor\": \"white\", \"ticks\": \"\", \"title\": {\"standoff\": 15}, \"zerolinecolor\": \"white\", \"zerolinewidth\": 2}, \"yaxis\": {\"automargin\": true, \"gridcolor\": \"white\", \"linecolor\": \"white\", \"ticks\": \"\", \"title\": {\"standoff\": 15}, \"zerolinecolor\": \"white\", \"zerolinewidth\": 2}}}, \"title\": {\"text\": \"minUnitigBlockLength moves precision and recall in opposite directions:\"}, \"xaxis\": {\"title\": {\"text\": \"recall\"}}, \"yaxis\": {\"title\": {\"text\": \"precision\"}}},                        {\"responsive\": true}                    ).then(function(){\n",
       "                            \n",
       "var gd = document.getElementById('60a935fd-1d26-43d0-80bd-4ebde998147b');\n",
       "var x = new MutationObserver(function (mutations, observer) {{\n",
       "        var display = window.getComputedStyle(gd).display;\n",
       "        if (!display || display === 'none') {{\n",
       "            console.log([gd, 'removed!']);\n",
       "            Plotly.purge(gd);\n",
       "            observer.disconnect();\n",
       "        }}\n",
       "}});\n",
       "\n",
       "// Listen for the removal of the full notebook cells\n",
       "var notebookContainer = gd.closest('#notebook-container');\n",
       "if (notebookContainer) {{\n",
       "    x.observe(notebookContainer, {childList: true});\n",
       "}}\n",
       "\n",
       "// Listen for the clearing of the current output cell\n",
       "var outputEl = gd.closest('.output');\n",
       "if (outputEl) {{\n",
       "    x.observe(outputEl, {childList: true});\n",
       "}}\n",
       "\n",
       "                        })                };                });            </script>        </div>"
      ]
     },
     "metadata": {},
     "output_type": "display_data"
    }
   ],
   "source": [
    "import plotly.graph_objects as go\n",
    "import json\n",
    "\n",
    "def get_precision_recall(experiment, caller):\n",
    "    try: \n",
    "        with open('data/{}/truvari-pacbio-{}/summary.txt'.format(experiment, caller)) as json_file:\n",
    "            d = json.load(json_file)\n",
    "            precision = d['TP-base']/float(d['TP-base'] + d['FP'])\n",
    "            recall = d['TP-base']/float(d['TP-base'] + d['FN'])\n",
    "            return precision, recall\n",
    "    except FileNotFoundError: \n",
    "        return None, None\n",
    "\n",
    "def get_config(experiment): \n",
    "    with open('data/{}/config.json'.format(experiment)) as json_file:\n",
    "        return json.load(json_file)\n",
    "\n",
    "def get_precisions_recalls_configs(caller):   \n",
    "    experiments = ! ls data\n",
    "\n",
    "    precisions = []\n",
    "    recalls = []\n",
    "    configs = []\n",
    "\n",
    "    for experiment in experiments: \n",
    "        precision, recall = get_precision_recall(experiment, caller)\n",
    "        precisions.append(precision)\n",
    "        recalls.append(recall)\n",
    "        config = get_config(experiment)\n",
    "        configs.append(config)\n",
    "        \n",
    "    return precisions, recalls, configs\n",
    "\n",
    "def format_config(config, outer_key_top=None, inner_key_top=None): \n",
    "    if outer_key_top and inner_key_top: \n",
    "        s = '{}.{}: {}<br><br>'.format(\n",
    "            outer_key_top, \n",
    "            inner_key_top, \n",
    "            config[outer_key_top][inner_key_top]\n",
    "        )\n",
    "    else: \n",
    "        s = ''\n",
    "        \n",
    "    for outer_key, outer_value in config.items(): \n",
    "        if outer_key == 'general': continue \n",
    "        s += '{}: <br>'.format(outer_key)\n",
    "        for inner_key, inner_value in outer_value.items(): \n",
    "            if outer_key == outer_key_top and inner_key == inner_key_top: continue \n",
    "            s += '  {}: {}<br>'.format(inner_key, inner_value)\n",
    "    return s\n",
    "\n",
    "def initialize_colors(configs, outer_key, inner_key): \n",
    "    string_list = [config[outer_key][inner_key] for config in configs]\n",
    "    string_list = list(set(string_list)) # get unique strings\n",
    "    color_list = ['red', 'green', 'blue', 'yellow', 'magenta', 'cyan']        \n",
    "    color_dict = {}\n",
    "    for index, string in enumerate(string_list): \n",
    "        color_dict[string] = color_list[index]\n",
    "    return color_dict\n",
    "\n",
    "def sort_colors(colors):\n",
    "    return sorted({int(k): v for k, v in colors.items()}.items())    \n",
    "\n",
    "def precision_recall_graph(outer_key, inner_key, title, marker_size=10, line_width=1): \n",
    "    trfermikit_precisions, trfermikit_recalls, trfermikit_configs = get_precisions_recalls_configs('trfermikit.unitigSupport.thinned') \n",
    "    manta_precisions, manta_recalls, manta_configs = get_precisions_recalls_configs('manta') \n",
    "    \n",
    "    colors = initialize_colors(trfermikit_configs, outer_key, inner_key) \n",
    "    \n",
    "    fig = go.Figure(data=go.Scatter(\n",
    "        x=trfermikit_recalls,\n",
    "        y=trfermikit_precisions,\n",
    "        mode='markers',\n",
    "        name='trfermikit',\n",
    "        showlegend=False,\n",
    "        marker=dict(\n",
    "            symbol='circle',\n",
    "            size=marker_size,\n",
    "            line=dict(width=line_width, color='black'),\n",
    "            color=[colors[config[outer_key][inner_key]] for config in trfermikit_configs]\n",
    "        ),\n",
    "        hovertemplate ='%{text}',\n",
    "        text=[format_config(config, outer_key, inner_key) for config in trfermikit_configs]))\n",
    "    fig.update_xaxes(title_text='recall')\n",
    "    fig.update_yaxes(title_text='precision')\n",
    "    \n",
    "    fig.add_trace(go.Scatter(\n",
    "        x=manta_recalls, \n",
    "        y=manta_precisions,\n",
    "        mode='markers',\n",
    "        name='manta',\n",
    "        showlegend=False,\n",
    "        marker=dict(\n",
    "            symbol='square',\n",
    "            size=marker_size,\n",
    "            line=dict(width=line_width, color='black'),\n",
    "            color=[colors[config[outer_key][inner_key]] for config in manta_configs]\n",
    "        ),\n",
    "        hovertemplate ='%{text}',\n",
    "        text=[format_config(config, outer_key, inner_key) for config in manta_configs]\n",
    "    ))  \n",
    "\n",
    "    caller_to_symbol = { \n",
    "        'trfermikit': 'circle',\n",
    "        'manta': 'square'        \n",
    "    }\n",
    "    \n",
    "    for caller, symbol in caller_to_symbol.items():         \n",
    "        fig.add_trace(go.Scatter(\n",
    "            y=[None], \n",
    "            mode='markers',\n",
    "            marker=dict(\n",
    "                symbol=symbol,\n",
    "                size=marker_size,\n",
    "                line=dict(width=line_width, color='black'),\n",
    "                color='white'\n",
    "            ),\n",
    "            name=caller\n",
    "        ))\n",
    "\n",
    "    for value, color in sort_colors(colors):                 \n",
    "        fig.add_trace(go.Scatter(\n",
    "            y=[None], \n",
    "            mode='markers',\n",
    "            marker=dict(\n",
    "                symbol='circle',\n",
    "                size=marker_size,\n",
    "                line=None,\n",
    "                color=color\n",
    "            ),\n",
    "            name='{}={}'.format(inner_key, value)\n",
    "        ))\n",
    "    \n",
    "    fig.update_layout(title=title) \n",
    "    \n",
    "    fig.show()\n",
    "    \n",
    "def precision_recall_graphs(): \n",
    "    for outer_key, inner_key, commentary in [\n",
    "        (\n",
    "            'filterCalls', \n",
    "            'minSVSize', \n",
    "            'minSVSize moves precision and recall in same direction;<br>' + \n",
    "            'trfermikit dominates manta only when small SVs are included:'\n",
    "        ), \n",
    "        (\n",
    "            'filterCalls', \n",
    "            'minUnitigBlockLength', \n",
    "            'minUnitigBlockLength moves precision and recall in opposite directions:'\n",
    "        )\n",
    "\n",
    "    ]: precision_recall_graph(outer_key, inner_key, title=commentary) \n",
    "\n",
    "precision_recall_graphs()"
   ]
  },
  {
   "cell_type": "markdown",
   "metadata": {},
   "source": [
    "## trfermikit is complementary to manta"
   ]
  },
  {
   "cell_type": "code",
   "execution_count": 11,
   "metadata": {
    "scrolled": false
   },
   "outputs": [
    {
     "data": {
      "application/vnd.plotly.v1+json": {
       "config": {
        "plotlyServerURL": "https://plot.ly"
       },
       "data": [
        {
         "hovertemplate": "%{text}",
         "marker": {
          "color": [
           "green",
           "green",
           "green",
           "green",
           "green",
           "green",
           "green",
           "green",
           "green",
           "red",
           "red",
           "red",
           "red",
           "red",
           "red",
           "red",
           "red",
           "red",
           "blue",
           "blue",
           "blue",
           "blue",
           "blue",
           "blue",
           "blue",
           "blue",
           "blue"
          ],
          "line": {
           "color": "black",
           "width": 1
          },
          "size": 10,
          "symbol": "circle"
         },
         "mode": "markers",
         "showlegend": false,
         "text": [
          "filterCalls.minSVSize: 100<br><br>makeRegions: <br>  slop: 250<br>  minCoverage: 0<br>  maxCoverage: 200<br>  maxRegionLength: 100000<br>  minRepeatPeriod: 6<br>  minRepeatLength: 0<br>  functionalRegions: none<br>  genomeBuild: hg38<br>  overlappedFunctionalRegions: false<br>makeCalls: <br>  singleBaseMatchReward: 10<br>  singleBaseMismatchPenalty: 12<br>  gapOpenPenalties: 6,26<br>  gapExtensionPenalties: 1,0<br>  minUnitigMappingQuality: 1<br>filterCalls: <br>  maxIntraClusterDistance: 500<br>  minUnitigMappingQuality: 0<br>  minUnitigBlockLength: 15<br>  svtype: DEL<br>",
          "filterCalls.minSVSize: 100<br><br>makeRegions: <br>  slop: 250<br>  minCoverage: 0<br>  maxCoverage: 200<br>  maxRegionLength: 100000<br>  minRepeatPeriod: 6<br>  minRepeatLength: 0<br>  functionalRegions: none<br>  genomeBuild: hg38<br>  overlappedFunctionalRegions: false<br>makeCalls: <br>  singleBaseMatchReward: 10<br>  singleBaseMismatchPenalty: 12<br>  gapOpenPenalties: 6,26<br>  gapExtensionPenalties: 1,0<br>  minUnitigMappingQuality: 1<br>filterCalls: <br>  maxIntraClusterDistance: 500<br>  minUnitigMappingQuality: 0<br>  minUnitigBlockLength: 25<br>  svtype: DEL<br>",
          "filterCalls.minSVSize: 100<br><br>makeRegions: <br>  slop: 250<br>  minCoverage: 0<br>  maxCoverage: 200<br>  maxRegionLength: 100000<br>  minRepeatPeriod: 6<br>  minRepeatLength: 0<br>  functionalRegions: none<br>  genomeBuild: hg38<br>  overlappedFunctionalRegions: false<br>makeCalls: <br>  singleBaseMatchReward: 10<br>  singleBaseMismatchPenalty: 12<br>  gapOpenPenalties: 6,26<br>  gapExtensionPenalties: 1,0<br>  minUnitigMappingQuality: 1<br>filterCalls: <br>  maxIntraClusterDistance: 500<br>  minUnitigMappingQuality: 0<br>  minUnitigBlockLength: 40<br>  svtype: DEL<br>",
          "filterCalls.minSVSize: 100<br><br>makeRegions: <br>  slop: 250<br>  minCoverage: 0<br>  maxCoverage: 200<br>  maxRegionLength: 100000<br>  minRepeatPeriod: 6<br>  minRepeatLength: 100<br>  functionalRegions: none<br>  genomeBuild: hg38<br>  overlappedFunctionalRegions: false<br>makeCalls: <br>  singleBaseMatchReward: 10<br>  singleBaseMismatchPenalty: 12<br>  gapOpenPenalties: 6,26<br>  gapExtensionPenalties: 1,0<br>  minUnitigMappingQuality: 1<br>filterCalls: <br>  maxIntraClusterDistance: 500<br>  minUnitigMappingQuality: 0<br>  minUnitigBlockLength: 15<br>  svtype: DEL<br>",
          "filterCalls.minSVSize: 100<br><br>makeRegions: <br>  slop: 250<br>  minCoverage: 0<br>  maxCoverage: 200<br>  maxRegionLength: 100000<br>  minRepeatPeriod: 6<br>  minRepeatLength: 100<br>  functionalRegions: none<br>  genomeBuild: hg38<br>  overlappedFunctionalRegions: false<br>makeCalls: <br>  singleBaseMatchReward: 10<br>  singleBaseMismatchPenalty: 12<br>  gapOpenPenalties: 6,26<br>  gapExtensionPenalties: 1,0<br>  minUnitigMappingQuality: 1<br>filterCalls: <br>  maxIntraClusterDistance: 500<br>  minUnitigMappingQuality: 0<br>  minUnitigBlockLength: 25<br>  svtype: DEL<br>",
          "filterCalls.minSVSize: 100<br><br>makeRegions: <br>  slop: 250<br>  minCoverage: 0<br>  maxCoverage: 200<br>  maxRegionLength: 100000<br>  minRepeatPeriod: 6<br>  minRepeatLength: 100<br>  functionalRegions: none<br>  genomeBuild: hg38<br>  overlappedFunctionalRegions: false<br>makeCalls: <br>  singleBaseMatchReward: 10<br>  singleBaseMismatchPenalty: 12<br>  gapOpenPenalties: 6,26<br>  gapExtensionPenalties: 1,0<br>  minUnitigMappingQuality: 1<br>filterCalls: <br>  maxIntraClusterDistance: 500<br>  minUnitigMappingQuality: 0<br>  minUnitigBlockLength: 40<br>  svtype: DEL<br>",
          "filterCalls.minSVSize: 100<br><br>makeRegions: <br>  slop: 250<br>  minCoverage: 0<br>  maxCoverage: 200<br>  maxRegionLength: 100000<br>  minRepeatPeriod: 6<br>  minRepeatLength: 50<br>  functionalRegions: none<br>  genomeBuild: hg38<br>  overlappedFunctionalRegions: false<br>makeCalls: <br>  singleBaseMatchReward: 10<br>  singleBaseMismatchPenalty: 12<br>  gapOpenPenalties: 6,26<br>  gapExtensionPenalties: 1,0<br>  minUnitigMappingQuality: 1<br>filterCalls: <br>  maxIntraClusterDistance: 500<br>  minUnitigMappingQuality: 0<br>  minUnitigBlockLength: 15<br>  svtype: DEL<br>",
          "filterCalls.minSVSize: 100<br><br>makeRegions: <br>  slop: 250<br>  minCoverage: 0<br>  maxCoverage: 200<br>  maxRegionLength: 100000<br>  minRepeatPeriod: 6<br>  minRepeatLength: 50<br>  functionalRegions: none<br>  genomeBuild: hg38<br>  overlappedFunctionalRegions: false<br>makeCalls: <br>  singleBaseMatchReward: 10<br>  singleBaseMismatchPenalty: 12<br>  gapOpenPenalties: 6,26<br>  gapExtensionPenalties: 1,0<br>  minUnitigMappingQuality: 1<br>filterCalls: <br>  maxIntraClusterDistance: 500<br>  minUnitigMappingQuality: 0<br>  minUnitigBlockLength: 25<br>  svtype: DEL<br>",
          "filterCalls.minSVSize: 100<br><br>makeRegions: <br>  slop: 250<br>  minCoverage: 0<br>  maxCoverage: 200<br>  maxRegionLength: 100000<br>  minRepeatPeriod: 6<br>  minRepeatLength: 50<br>  functionalRegions: none<br>  genomeBuild: hg38<br>  overlappedFunctionalRegions: false<br>makeCalls: <br>  singleBaseMatchReward: 10<br>  singleBaseMismatchPenalty: 12<br>  gapOpenPenalties: 6,26<br>  gapExtensionPenalties: 1,0<br>  minUnitigMappingQuality: 1<br>filterCalls: <br>  maxIntraClusterDistance: 500<br>  minUnitigMappingQuality: 0<br>  minUnitigBlockLength: 40<br>  svtype: DEL<br>",
          "filterCalls.minSVSize: 500<br><br>makeRegions: <br>  slop: 250<br>  minCoverage: 0<br>  maxCoverage: 200<br>  maxRegionLength: 100000<br>  minRepeatPeriod: 6<br>  minRepeatLength: 0<br>  functionalRegions: none<br>  genomeBuild: hg38<br>  overlappedFunctionalRegions: false<br>makeCalls: <br>  singleBaseMatchReward: 10<br>  singleBaseMismatchPenalty: 12<br>  gapOpenPenalties: 6,26<br>  gapExtensionPenalties: 1,0<br>  minUnitigMappingQuality: 1<br>filterCalls: <br>  maxIntraClusterDistance: 500<br>  minUnitigMappingQuality: 0<br>  minUnitigBlockLength: 15<br>  svtype: DEL<br>",
          "filterCalls.minSVSize: 500<br><br>makeRegions: <br>  slop: 250<br>  minCoverage: 0<br>  maxCoverage: 200<br>  maxRegionLength: 100000<br>  minRepeatPeriod: 6<br>  minRepeatLength: 0<br>  functionalRegions: none<br>  genomeBuild: hg38<br>  overlappedFunctionalRegions: false<br>makeCalls: <br>  singleBaseMatchReward: 10<br>  singleBaseMismatchPenalty: 12<br>  gapOpenPenalties: 6,26<br>  gapExtensionPenalties: 1,0<br>  minUnitigMappingQuality: 1<br>filterCalls: <br>  maxIntraClusterDistance: 500<br>  minUnitigMappingQuality: 0<br>  minUnitigBlockLength: 25<br>  svtype: DEL<br>",
          "filterCalls.minSVSize: 500<br><br>makeRegions: <br>  slop: 250<br>  minCoverage: 0<br>  maxCoverage: 200<br>  maxRegionLength: 100000<br>  minRepeatPeriod: 6<br>  minRepeatLength: 0<br>  functionalRegions: none<br>  genomeBuild: hg38<br>  overlappedFunctionalRegions: false<br>makeCalls: <br>  singleBaseMatchReward: 10<br>  singleBaseMismatchPenalty: 12<br>  gapOpenPenalties: 6,26<br>  gapExtensionPenalties: 1,0<br>  minUnitigMappingQuality: 1<br>filterCalls: <br>  maxIntraClusterDistance: 500<br>  minUnitigMappingQuality: 0<br>  minUnitigBlockLength: 40<br>  svtype: DEL<br>",
          "filterCalls.minSVSize: 500<br><br>makeRegions: <br>  slop: 250<br>  minCoverage: 0<br>  maxCoverage: 200<br>  maxRegionLength: 100000<br>  minRepeatPeriod: 6<br>  minRepeatLength: 100<br>  functionalRegions: none<br>  genomeBuild: hg38<br>  overlappedFunctionalRegions: false<br>makeCalls: <br>  singleBaseMatchReward: 10<br>  singleBaseMismatchPenalty: 12<br>  gapOpenPenalties: 6,26<br>  gapExtensionPenalties: 1,0<br>  minUnitigMappingQuality: 1<br>filterCalls: <br>  maxIntraClusterDistance: 500<br>  minUnitigMappingQuality: 0<br>  minUnitigBlockLength: 15<br>  svtype: DEL<br>",
          "filterCalls.minSVSize: 500<br><br>makeRegions: <br>  slop: 250<br>  minCoverage: 0<br>  maxCoverage: 200<br>  maxRegionLength: 100000<br>  minRepeatPeriod: 6<br>  minRepeatLength: 100<br>  functionalRegions: none<br>  genomeBuild: hg38<br>  overlappedFunctionalRegions: false<br>makeCalls: <br>  singleBaseMatchReward: 10<br>  singleBaseMismatchPenalty: 12<br>  gapOpenPenalties: 6,26<br>  gapExtensionPenalties: 1,0<br>  minUnitigMappingQuality: 1<br>filterCalls: <br>  maxIntraClusterDistance: 500<br>  minUnitigMappingQuality: 0<br>  minUnitigBlockLength: 25<br>  svtype: DEL<br>",
          "filterCalls.minSVSize: 500<br><br>makeRegions: <br>  slop: 250<br>  minCoverage: 0<br>  maxCoverage: 200<br>  maxRegionLength: 100000<br>  minRepeatPeriod: 6<br>  minRepeatLength: 100<br>  functionalRegions: none<br>  genomeBuild: hg38<br>  overlappedFunctionalRegions: false<br>makeCalls: <br>  singleBaseMatchReward: 10<br>  singleBaseMismatchPenalty: 12<br>  gapOpenPenalties: 6,26<br>  gapExtensionPenalties: 1,0<br>  minUnitigMappingQuality: 1<br>filterCalls: <br>  maxIntraClusterDistance: 500<br>  minUnitigMappingQuality: 0<br>  minUnitigBlockLength: 40<br>  svtype: DEL<br>",
          "filterCalls.minSVSize: 500<br><br>makeRegions: <br>  slop: 250<br>  minCoverage: 0<br>  maxCoverage: 200<br>  maxRegionLength: 100000<br>  minRepeatPeriod: 6<br>  minRepeatLength: 50<br>  functionalRegions: none<br>  genomeBuild: hg38<br>  overlappedFunctionalRegions: false<br>makeCalls: <br>  singleBaseMatchReward: 10<br>  singleBaseMismatchPenalty: 12<br>  gapOpenPenalties: 6,26<br>  gapExtensionPenalties: 1,0<br>  minUnitigMappingQuality: 1<br>filterCalls: <br>  maxIntraClusterDistance: 500<br>  minUnitigMappingQuality: 0<br>  minUnitigBlockLength: 15<br>  svtype: DEL<br>",
          "filterCalls.minSVSize: 500<br><br>makeRegions: <br>  slop: 250<br>  minCoverage: 0<br>  maxCoverage: 200<br>  maxRegionLength: 100000<br>  minRepeatPeriod: 6<br>  minRepeatLength: 50<br>  functionalRegions: none<br>  genomeBuild: hg38<br>  overlappedFunctionalRegions: false<br>makeCalls: <br>  singleBaseMatchReward: 10<br>  singleBaseMismatchPenalty: 12<br>  gapOpenPenalties: 6,26<br>  gapExtensionPenalties: 1,0<br>  minUnitigMappingQuality: 1<br>filterCalls: <br>  maxIntraClusterDistance: 500<br>  minUnitigMappingQuality: 0<br>  minUnitigBlockLength: 25<br>  svtype: DEL<br>",
          "filterCalls.minSVSize: 500<br><br>makeRegions: <br>  slop: 250<br>  minCoverage: 0<br>  maxCoverage: 200<br>  maxRegionLength: 100000<br>  minRepeatPeriod: 6<br>  minRepeatLength: 50<br>  functionalRegions: none<br>  genomeBuild: hg38<br>  overlappedFunctionalRegions: false<br>makeCalls: <br>  singleBaseMatchReward: 10<br>  singleBaseMismatchPenalty: 12<br>  gapOpenPenalties: 6,26<br>  gapExtensionPenalties: 1,0<br>  minUnitigMappingQuality: 1<br>filterCalls: <br>  maxIntraClusterDistance: 500<br>  minUnitigMappingQuality: 0<br>  minUnitigBlockLength: 40<br>  svtype: DEL<br>",
          "filterCalls.minSVSize: 50<br><br>makeRegions: <br>  slop: 250<br>  minCoverage: 0<br>  maxCoverage: 200<br>  maxRegionLength: 100000<br>  minRepeatPeriod: 6<br>  minRepeatLength: 0<br>  functionalRegions: none<br>  genomeBuild: hg38<br>  overlappedFunctionalRegions: false<br>makeCalls: <br>  singleBaseMatchReward: 10<br>  singleBaseMismatchPenalty: 12<br>  gapOpenPenalties: 6,26<br>  gapExtensionPenalties: 1,0<br>  minUnitigMappingQuality: 1<br>filterCalls: <br>  maxIntraClusterDistance: 500<br>  minUnitigMappingQuality: 0<br>  minUnitigBlockLength: 15<br>  svtype: DEL<br>",
          "filterCalls.minSVSize: 50<br><br>makeRegions: <br>  slop: 250<br>  minCoverage: 0<br>  maxCoverage: 200<br>  maxRegionLength: 100000<br>  minRepeatPeriod: 6<br>  minRepeatLength: 0<br>  functionalRegions: none<br>  genomeBuild: hg38<br>  overlappedFunctionalRegions: false<br>makeCalls: <br>  singleBaseMatchReward: 10<br>  singleBaseMismatchPenalty: 12<br>  gapOpenPenalties: 6,26<br>  gapExtensionPenalties: 1,0<br>  minUnitigMappingQuality: 1<br>filterCalls: <br>  maxIntraClusterDistance: 500<br>  minUnitigMappingQuality: 0<br>  minUnitigBlockLength: 25<br>  svtype: DEL<br>",
          "filterCalls.minSVSize: 50<br><br>makeRegions: <br>  slop: 250<br>  minCoverage: 0<br>  maxCoverage: 200<br>  maxRegionLength: 100000<br>  minRepeatPeriod: 6<br>  minRepeatLength: 0<br>  functionalRegions: none<br>  genomeBuild: hg38<br>  overlappedFunctionalRegions: false<br>makeCalls: <br>  singleBaseMatchReward: 10<br>  singleBaseMismatchPenalty: 12<br>  gapOpenPenalties: 6,26<br>  gapExtensionPenalties: 1,0<br>  minUnitigMappingQuality: 1<br>filterCalls: <br>  maxIntraClusterDistance: 500<br>  minUnitigMappingQuality: 0<br>  minUnitigBlockLength: 40<br>  svtype: DEL<br>",
          "filterCalls.minSVSize: 50<br><br>makeRegions: <br>  slop: 250<br>  minCoverage: 0<br>  maxCoverage: 200<br>  maxRegionLength: 100000<br>  minRepeatPeriod: 6<br>  minRepeatLength: 100<br>  functionalRegions: none<br>  genomeBuild: hg38<br>  overlappedFunctionalRegions: false<br>makeCalls: <br>  singleBaseMatchReward: 10<br>  singleBaseMismatchPenalty: 12<br>  gapOpenPenalties: 6,26<br>  gapExtensionPenalties: 1,0<br>  minUnitigMappingQuality: 1<br>filterCalls: <br>  maxIntraClusterDistance: 500<br>  minUnitigMappingQuality: 0<br>  minUnitigBlockLength: 15<br>  svtype: DEL<br>",
          "filterCalls.minSVSize: 50<br><br>makeRegions: <br>  slop: 250<br>  minCoverage: 0<br>  maxCoverage: 200<br>  maxRegionLength: 100000<br>  minRepeatPeriod: 6<br>  minRepeatLength: 100<br>  functionalRegions: none<br>  genomeBuild: hg38<br>  overlappedFunctionalRegions: false<br>makeCalls: <br>  singleBaseMatchReward: 10<br>  singleBaseMismatchPenalty: 12<br>  gapOpenPenalties: 6,26<br>  gapExtensionPenalties: 1,0<br>  minUnitigMappingQuality: 1<br>filterCalls: <br>  maxIntraClusterDistance: 500<br>  minUnitigMappingQuality: 0<br>  minUnitigBlockLength: 25<br>  svtype: DEL<br>",
          "filterCalls.minSVSize: 50<br><br>makeRegions: <br>  slop: 250<br>  minCoverage: 0<br>  maxCoverage: 200<br>  maxRegionLength: 100000<br>  minRepeatPeriod: 6<br>  minRepeatLength: 100<br>  functionalRegions: none<br>  genomeBuild: hg38<br>  overlappedFunctionalRegions: false<br>makeCalls: <br>  singleBaseMatchReward: 10<br>  singleBaseMismatchPenalty: 12<br>  gapOpenPenalties: 6,26<br>  gapExtensionPenalties: 1,0<br>  minUnitigMappingQuality: 1<br>filterCalls: <br>  maxIntraClusterDistance: 500<br>  minUnitigMappingQuality: 0<br>  minUnitigBlockLength: 40<br>  svtype: DEL<br>",
          "filterCalls.minSVSize: 50<br><br>makeRegions: <br>  slop: 250<br>  minCoverage: 0<br>  maxCoverage: 200<br>  maxRegionLength: 100000<br>  minRepeatPeriod: 6<br>  minRepeatLength: 50<br>  functionalRegions: none<br>  genomeBuild: hg38<br>  overlappedFunctionalRegions: false<br>makeCalls: <br>  singleBaseMatchReward: 10<br>  singleBaseMismatchPenalty: 12<br>  gapOpenPenalties: 6,26<br>  gapExtensionPenalties: 1,0<br>  minUnitigMappingQuality: 1<br>filterCalls: <br>  maxIntraClusterDistance: 500<br>  minUnitigMappingQuality: 0<br>  minUnitigBlockLength: 15<br>  svtype: DEL<br>",
          "filterCalls.minSVSize: 50<br><br>makeRegions: <br>  slop: 250<br>  minCoverage: 0<br>  maxCoverage: 200<br>  maxRegionLength: 100000<br>  minRepeatPeriod: 6<br>  minRepeatLength: 50<br>  functionalRegions: none<br>  genomeBuild: hg38<br>  overlappedFunctionalRegions: false<br>makeCalls: <br>  singleBaseMatchReward: 10<br>  singleBaseMismatchPenalty: 12<br>  gapOpenPenalties: 6,26<br>  gapExtensionPenalties: 1,0<br>  minUnitigMappingQuality: 1<br>filterCalls: <br>  maxIntraClusterDistance: 500<br>  minUnitigMappingQuality: 0<br>  minUnitigBlockLength: 25<br>  svtype: DEL<br>",
          "filterCalls.minSVSize: 50<br><br>makeRegions: <br>  slop: 250<br>  minCoverage: 0<br>  maxCoverage: 200<br>  maxRegionLength: 100000<br>  minRepeatPeriod: 6<br>  minRepeatLength: 50<br>  functionalRegions: none<br>  genomeBuild: hg38<br>  overlappedFunctionalRegions: false<br>makeCalls: <br>  singleBaseMatchReward: 10<br>  singleBaseMismatchPenalty: 12<br>  gapOpenPenalties: 6,26<br>  gapExtensionPenalties: 1,0<br>  minUnitigMappingQuality: 1<br>filterCalls: <br>  maxIntraClusterDistance: 500<br>  minUnitigMappingQuality: 0<br>  minUnitigBlockLength: 40<br>  svtype: DEL<br>"
         ],
         "type": "scatter",
         "x": [
          0.6532951289398281,
          0.6446991404011462,
          0.5959885386819485,
          0.6477272727272727,
          0.6448863636363636,
          0.5823863636363636,
          0.6552706552706553,
          0.6524216524216524,
          0.5897435897435898,
          0.1875,
          0.15625,
          0.125,
          0.16666666666666666,
          0.16666666666666666,
          0.1388888888888889,
          0.17142857142857143,
          0.17142857142857143,
          0.11428571428571428,
          0.7587476979742173,
          0.7449355432780848,
          0.6887661141804788,
          0.7539461467038069,
          0.7335190343546889,
          0.680594243268338,
          0.7616865261228231,
          0.7461044912923923,
          0.6856095325389551
         ],
         "y": [
          0.1629013079667063,
          0.1492271105826397,
          0.12901307966706302,
          0.16444701795020267,
          0.15460335842501446,
          0.12623045744064854,
          0.1655901350557839,
          0.15384615384615385,
          0.1315325895478567,
          0.04242424242424243,
          0.030303030303030304,
          0.04242424242424243,
          0.05325443786982249,
          0.029585798816568046,
          0.029585798816568046,
          0.047619047619047616,
          0.03571428571428571,
          0.02976190476190476,
          0.2050380785002929,
          0.18922085530169888,
          0.15846514352665494,
          0.21079691516709512,
          0.19480148528991717,
          0.16281062553556128,
          0.2071655590869691,
          0.19242993354521815,
          0.16324761629586826
         ]
        },
        {
         "marker": {
          "color": "blue",
          "size": 10,
          "symbol": "circle"
         },
         "mode": "markers",
         "name": "minSVSize=50",
         "type": "scatter",
         "y": [
          null
         ]
        },
        {
         "marker": {
          "color": "green",
          "size": 10,
          "symbol": "circle"
         },
         "mode": "markers",
         "name": "minSVSize=100",
         "type": "scatter",
         "y": [
          null
         ]
        },
        {
         "marker": {
          "color": "red",
          "size": 10,
          "symbol": "circle"
         },
         "mode": "markers",
         "name": "minSVSize=500",
         "type": "scatter",
         "y": [
          null
         ]
        }
       ],
       "layout": {
        "template": {
         "data": {
          "bar": [
           {
            "error_x": {
             "color": "#2a3f5f"
            },
            "error_y": {
             "color": "#2a3f5f"
            },
            "marker": {
             "line": {
              "color": "#E5ECF6",
              "width": 0.5
             }
            },
            "type": "bar"
           }
          ],
          "barpolar": [
           {
            "marker": {
             "line": {
              "color": "#E5ECF6",
              "width": 0.5
             }
            },
            "type": "barpolar"
           }
          ],
          "carpet": [
           {
            "aaxis": {
             "endlinecolor": "#2a3f5f",
             "gridcolor": "white",
             "linecolor": "white",
             "minorgridcolor": "white",
             "startlinecolor": "#2a3f5f"
            },
            "baxis": {
             "endlinecolor": "#2a3f5f",
             "gridcolor": "white",
             "linecolor": "white",
             "minorgridcolor": "white",
             "startlinecolor": "#2a3f5f"
            },
            "type": "carpet"
           }
          ],
          "choropleth": [
           {
            "colorbar": {
             "outlinewidth": 0,
             "ticks": ""
            },
            "type": "choropleth"
           }
          ],
          "contour": [
           {
            "colorbar": {
             "outlinewidth": 0,
             "ticks": ""
            },
            "colorscale": [
             [
              0,
              "#0d0887"
             ],
             [
              0.1111111111111111,
              "#46039f"
             ],
             [
              0.2222222222222222,
              "#7201a8"
             ],
             [
              0.3333333333333333,
              "#9c179e"
             ],
             [
              0.4444444444444444,
              "#bd3786"
             ],
             [
              0.5555555555555556,
              "#d8576b"
             ],
             [
              0.6666666666666666,
              "#ed7953"
             ],
             [
              0.7777777777777778,
              "#fb9f3a"
             ],
             [
              0.8888888888888888,
              "#fdca26"
             ],
             [
              1,
              "#f0f921"
             ]
            ],
            "type": "contour"
           }
          ],
          "contourcarpet": [
           {
            "colorbar": {
             "outlinewidth": 0,
             "ticks": ""
            },
            "type": "contourcarpet"
           }
          ],
          "heatmap": [
           {
            "colorbar": {
             "outlinewidth": 0,
             "ticks": ""
            },
            "colorscale": [
             [
              0,
              "#0d0887"
             ],
             [
              0.1111111111111111,
              "#46039f"
             ],
             [
              0.2222222222222222,
              "#7201a8"
             ],
             [
              0.3333333333333333,
              "#9c179e"
             ],
             [
              0.4444444444444444,
              "#bd3786"
             ],
             [
              0.5555555555555556,
              "#d8576b"
             ],
             [
              0.6666666666666666,
              "#ed7953"
             ],
             [
              0.7777777777777778,
              "#fb9f3a"
             ],
             [
              0.8888888888888888,
              "#fdca26"
             ],
             [
              1,
              "#f0f921"
             ]
            ],
            "type": "heatmap"
           }
          ],
          "heatmapgl": [
           {
            "colorbar": {
             "outlinewidth": 0,
             "ticks": ""
            },
            "colorscale": [
             [
              0,
              "#0d0887"
             ],
             [
              0.1111111111111111,
              "#46039f"
             ],
             [
              0.2222222222222222,
              "#7201a8"
             ],
             [
              0.3333333333333333,
              "#9c179e"
             ],
             [
              0.4444444444444444,
              "#bd3786"
             ],
             [
              0.5555555555555556,
              "#d8576b"
             ],
             [
              0.6666666666666666,
              "#ed7953"
             ],
             [
              0.7777777777777778,
              "#fb9f3a"
             ],
             [
              0.8888888888888888,
              "#fdca26"
             ],
             [
              1,
              "#f0f921"
             ]
            ],
            "type": "heatmapgl"
           }
          ],
          "histogram": [
           {
            "marker": {
             "colorbar": {
              "outlinewidth": 0,
              "ticks": ""
             }
            },
            "type": "histogram"
           }
          ],
          "histogram2d": [
           {
            "colorbar": {
             "outlinewidth": 0,
             "ticks": ""
            },
            "colorscale": [
             [
              0,
              "#0d0887"
             ],
             [
              0.1111111111111111,
              "#46039f"
             ],
             [
              0.2222222222222222,
              "#7201a8"
             ],
             [
              0.3333333333333333,
              "#9c179e"
             ],
             [
              0.4444444444444444,
              "#bd3786"
             ],
             [
              0.5555555555555556,
              "#d8576b"
             ],
             [
              0.6666666666666666,
              "#ed7953"
             ],
             [
              0.7777777777777778,
              "#fb9f3a"
             ],
             [
              0.8888888888888888,
              "#fdca26"
             ],
             [
              1,
              "#f0f921"
             ]
            ],
            "type": "histogram2d"
           }
          ],
          "histogram2dcontour": [
           {
            "colorbar": {
             "outlinewidth": 0,
             "ticks": ""
            },
            "colorscale": [
             [
              0,
              "#0d0887"
             ],
             [
              0.1111111111111111,
              "#46039f"
             ],
             [
              0.2222222222222222,
              "#7201a8"
             ],
             [
              0.3333333333333333,
              "#9c179e"
             ],
             [
              0.4444444444444444,
              "#bd3786"
             ],
             [
              0.5555555555555556,
              "#d8576b"
             ],
             [
              0.6666666666666666,
              "#ed7953"
             ],
             [
              0.7777777777777778,
              "#fb9f3a"
             ],
             [
              0.8888888888888888,
              "#fdca26"
             ],
             [
              1,
              "#f0f921"
             ]
            ],
            "type": "histogram2dcontour"
           }
          ],
          "mesh3d": [
           {
            "colorbar": {
             "outlinewidth": 0,
             "ticks": ""
            },
            "type": "mesh3d"
           }
          ],
          "parcoords": [
           {
            "line": {
             "colorbar": {
              "outlinewidth": 0,
              "ticks": ""
             }
            },
            "type": "parcoords"
           }
          ],
          "pie": [
           {
            "automargin": true,
            "type": "pie"
           }
          ],
          "scatter": [
           {
            "marker": {
             "colorbar": {
              "outlinewidth": 0,
              "ticks": ""
             }
            },
            "type": "scatter"
           }
          ],
          "scatter3d": [
           {
            "line": {
             "colorbar": {
              "outlinewidth": 0,
              "ticks": ""
             }
            },
            "marker": {
             "colorbar": {
              "outlinewidth": 0,
              "ticks": ""
             }
            },
            "type": "scatter3d"
           }
          ],
          "scattercarpet": [
           {
            "marker": {
             "colorbar": {
              "outlinewidth": 0,
              "ticks": ""
             }
            },
            "type": "scattercarpet"
           }
          ],
          "scattergeo": [
           {
            "marker": {
             "colorbar": {
              "outlinewidth": 0,
              "ticks": ""
             }
            },
            "type": "scattergeo"
           }
          ],
          "scattergl": [
           {
            "marker": {
             "colorbar": {
              "outlinewidth": 0,
              "ticks": ""
             }
            },
            "type": "scattergl"
           }
          ],
          "scattermapbox": [
           {
            "marker": {
             "colorbar": {
              "outlinewidth": 0,
              "ticks": ""
             }
            },
            "type": "scattermapbox"
           }
          ],
          "scatterpolar": [
           {
            "marker": {
             "colorbar": {
              "outlinewidth": 0,
              "ticks": ""
             }
            },
            "type": "scatterpolar"
           }
          ],
          "scatterpolargl": [
           {
            "marker": {
             "colorbar": {
              "outlinewidth": 0,
              "ticks": ""
             }
            },
            "type": "scatterpolargl"
           }
          ],
          "scatterternary": [
           {
            "marker": {
             "colorbar": {
              "outlinewidth": 0,
              "ticks": ""
             }
            },
            "type": "scatterternary"
           }
          ],
          "surface": [
           {
            "colorbar": {
             "outlinewidth": 0,
             "ticks": ""
            },
            "colorscale": [
             [
              0,
              "#0d0887"
             ],
             [
              0.1111111111111111,
              "#46039f"
             ],
             [
              0.2222222222222222,
              "#7201a8"
             ],
             [
              0.3333333333333333,
              "#9c179e"
             ],
             [
              0.4444444444444444,
              "#bd3786"
             ],
             [
              0.5555555555555556,
              "#d8576b"
             ],
             [
              0.6666666666666666,
              "#ed7953"
             ],
             [
              0.7777777777777778,
              "#fb9f3a"
             ],
             [
              0.8888888888888888,
              "#fdca26"
             ],
             [
              1,
              "#f0f921"
             ]
            ],
            "type": "surface"
           }
          ],
          "table": [
           {
            "cells": {
             "fill": {
              "color": "#EBF0F8"
             },
             "line": {
              "color": "white"
             }
            },
            "header": {
             "fill": {
              "color": "#C8D4E3"
             },
             "line": {
              "color": "white"
             }
            },
            "type": "table"
           }
          ]
         },
         "layout": {
          "annotationdefaults": {
           "arrowcolor": "#2a3f5f",
           "arrowhead": 0,
           "arrowwidth": 1
          },
          "autotypenumbers": "strict",
          "coloraxis": {
           "colorbar": {
            "outlinewidth": 0,
            "ticks": ""
           }
          },
          "colorscale": {
           "diverging": [
            [
             0,
             "#8e0152"
            ],
            [
             0.1,
             "#c51b7d"
            ],
            [
             0.2,
             "#de77ae"
            ],
            [
             0.3,
             "#f1b6da"
            ],
            [
             0.4,
             "#fde0ef"
            ],
            [
             0.5,
             "#f7f7f7"
            ],
            [
             0.6,
             "#e6f5d0"
            ],
            [
             0.7,
             "#b8e186"
            ],
            [
             0.8,
             "#7fbc41"
            ],
            [
             0.9,
             "#4d9221"
            ],
            [
             1,
             "#276419"
            ]
           ],
           "sequential": [
            [
             0,
             "#0d0887"
            ],
            [
             0.1111111111111111,
             "#46039f"
            ],
            [
             0.2222222222222222,
             "#7201a8"
            ],
            [
             0.3333333333333333,
             "#9c179e"
            ],
            [
             0.4444444444444444,
             "#bd3786"
            ],
            [
             0.5555555555555556,
             "#d8576b"
            ],
            [
             0.6666666666666666,
             "#ed7953"
            ],
            [
             0.7777777777777778,
             "#fb9f3a"
            ],
            [
             0.8888888888888888,
             "#fdca26"
            ],
            [
             1,
             "#f0f921"
            ]
           ],
           "sequentialminus": [
            [
             0,
             "#0d0887"
            ],
            [
             0.1111111111111111,
             "#46039f"
            ],
            [
             0.2222222222222222,
             "#7201a8"
            ],
            [
             0.3333333333333333,
             "#9c179e"
            ],
            [
             0.4444444444444444,
             "#bd3786"
            ],
            [
             0.5555555555555556,
             "#d8576b"
            ],
            [
             0.6666666666666666,
             "#ed7953"
            ],
            [
             0.7777777777777778,
             "#fb9f3a"
            ],
            [
             0.8888888888888888,
             "#fdca26"
            ],
            [
             1,
             "#f0f921"
            ]
           ]
          },
          "colorway": [
           "#636efa",
           "#EF553B",
           "#00cc96",
           "#ab63fa",
           "#FFA15A",
           "#19d3f3",
           "#FF6692",
           "#B6E880",
           "#FF97FF",
           "#FECB52"
          ],
          "font": {
           "color": "#2a3f5f"
          },
          "geo": {
           "bgcolor": "white",
           "lakecolor": "white",
           "landcolor": "#E5ECF6",
           "showlakes": true,
           "showland": true,
           "subunitcolor": "white"
          },
          "hoverlabel": {
           "align": "left"
          },
          "hovermode": "closest",
          "mapbox": {
           "style": "light"
          },
          "paper_bgcolor": "white",
          "plot_bgcolor": "#E5ECF6",
          "polar": {
           "angularaxis": {
            "gridcolor": "white",
            "linecolor": "white",
            "ticks": ""
           },
           "bgcolor": "#E5ECF6",
           "radialaxis": {
            "gridcolor": "white",
            "linecolor": "white",
            "ticks": ""
           }
          },
          "scene": {
           "xaxis": {
            "backgroundcolor": "#E5ECF6",
            "gridcolor": "white",
            "gridwidth": 2,
            "linecolor": "white",
            "showbackground": true,
            "ticks": "",
            "zerolinecolor": "white"
           },
           "yaxis": {
            "backgroundcolor": "#E5ECF6",
            "gridcolor": "white",
            "gridwidth": 2,
            "linecolor": "white",
            "showbackground": true,
            "ticks": "",
            "zerolinecolor": "white"
           },
           "zaxis": {
            "backgroundcolor": "#E5ECF6",
            "gridcolor": "white",
            "gridwidth": 2,
            "linecolor": "white",
            "showbackground": true,
            "ticks": "",
            "zerolinecolor": "white"
           }
          },
          "shapedefaults": {
           "line": {
            "color": "#2a3f5f"
           }
          },
          "ternary": {
           "aaxis": {
            "gridcolor": "white",
            "linecolor": "white",
            "ticks": ""
           },
           "baxis": {
            "gridcolor": "white",
            "linecolor": "white",
            "ticks": ""
           },
           "bgcolor": "#E5ECF6",
           "caxis": {
            "gridcolor": "white",
            "linecolor": "white",
            "ticks": ""
           }
          },
          "title": {
           "x": 0.05
          },
          "xaxis": {
           "automargin": true,
           "gridcolor": "white",
           "linecolor": "white",
           "ticks": "",
           "title": {
            "standoff": 15
           },
           "zerolinecolor": "white",
           "zerolinewidth": 2
          },
          "yaxis": {
           "automargin": true,
           "gridcolor": "white",
           "linecolor": "white",
           "ticks": "",
           "title": {
            "standoff": 15
           },
           "zerolinecolor": "white",
           "zerolinewidth": 2
          }
         }
        },
        "title": {
         "text": "trfermikit is most complementary to manta when small SVs are included"
        },
        "xaxis": {
         "title": {
          "text": "fraction of manta TPs recovered by trfermikit"
         }
        },
        "yaxis": {
         "title": {
          "text": "fraction of manta FNs recovered by trfermikit"
         }
        }
       }
      },
      "text/html": [
       "<div>                            <div id=\"284cdc06-8685-4691-be7b-2ec42ed87830\" class=\"plotly-graph-div\" style=\"height:525px; width:100%;\"></div>            <script type=\"text/javascript\">                require([\"plotly\"], function(Plotly) {                    window.PLOTLYENV=window.PLOTLYENV || {};                                    if (document.getElementById(\"284cdc06-8685-4691-be7b-2ec42ed87830\")) {                    Plotly.newPlot(                        \"284cdc06-8685-4691-be7b-2ec42ed87830\",                        [{\"hovertemplate\": \"%{text}\", \"marker\": {\"color\": [\"green\", \"green\", \"green\", \"green\", \"green\", \"green\", \"green\", \"green\", \"green\", \"red\", \"red\", \"red\", \"red\", \"red\", \"red\", \"red\", \"red\", \"red\", \"blue\", \"blue\", \"blue\", \"blue\", \"blue\", \"blue\", \"blue\", \"blue\", \"blue\"], \"line\": {\"color\": \"black\", \"width\": 1}, \"size\": 10, \"symbol\": \"circle\"}, \"mode\": \"markers\", \"showlegend\": false, \"text\": [\"filterCalls.minSVSize: 100<br><br>makeRegions: <br>  slop: 250<br>  minCoverage: 0<br>  maxCoverage: 200<br>  maxRegionLength: 100000<br>  minRepeatPeriod: 6<br>  minRepeatLength: 0<br>  functionalRegions: none<br>  genomeBuild: hg38<br>  overlappedFunctionalRegions: false<br>makeCalls: <br>  singleBaseMatchReward: 10<br>  singleBaseMismatchPenalty: 12<br>  gapOpenPenalties: 6,26<br>  gapExtensionPenalties: 1,0<br>  minUnitigMappingQuality: 1<br>filterCalls: <br>  maxIntraClusterDistance: 500<br>  minUnitigMappingQuality: 0<br>  minUnitigBlockLength: 15<br>  svtype: DEL<br>\", \"filterCalls.minSVSize: 100<br><br>makeRegions: <br>  slop: 250<br>  minCoverage: 0<br>  maxCoverage: 200<br>  maxRegionLength: 100000<br>  minRepeatPeriod: 6<br>  minRepeatLength: 0<br>  functionalRegions: none<br>  genomeBuild: hg38<br>  overlappedFunctionalRegions: false<br>makeCalls: <br>  singleBaseMatchReward: 10<br>  singleBaseMismatchPenalty: 12<br>  gapOpenPenalties: 6,26<br>  gapExtensionPenalties: 1,0<br>  minUnitigMappingQuality: 1<br>filterCalls: <br>  maxIntraClusterDistance: 500<br>  minUnitigMappingQuality: 0<br>  minUnitigBlockLength: 25<br>  svtype: DEL<br>\", \"filterCalls.minSVSize: 100<br><br>makeRegions: <br>  slop: 250<br>  minCoverage: 0<br>  maxCoverage: 200<br>  maxRegionLength: 100000<br>  minRepeatPeriod: 6<br>  minRepeatLength: 0<br>  functionalRegions: none<br>  genomeBuild: hg38<br>  overlappedFunctionalRegions: false<br>makeCalls: <br>  singleBaseMatchReward: 10<br>  singleBaseMismatchPenalty: 12<br>  gapOpenPenalties: 6,26<br>  gapExtensionPenalties: 1,0<br>  minUnitigMappingQuality: 1<br>filterCalls: <br>  maxIntraClusterDistance: 500<br>  minUnitigMappingQuality: 0<br>  minUnitigBlockLength: 40<br>  svtype: DEL<br>\", \"filterCalls.minSVSize: 100<br><br>makeRegions: <br>  slop: 250<br>  minCoverage: 0<br>  maxCoverage: 200<br>  maxRegionLength: 100000<br>  minRepeatPeriod: 6<br>  minRepeatLength: 100<br>  functionalRegions: none<br>  genomeBuild: hg38<br>  overlappedFunctionalRegions: false<br>makeCalls: <br>  singleBaseMatchReward: 10<br>  singleBaseMismatchPenalty: 12<br>  gapOpenPenalties: 6,26<br>  gapExtensionPenalties: 1,0<br>  minUnitigMappingQuality: 1<br>filterCalls: <br>  maxIntraClusterDistance: 500<br>  minUnitigMappingQuality: 0<br>  minUnitigBlockLength: 15<br>  svtype: DEL<br>\", \"filterCalls.minSVSize: 100<br><br>makeRegions: <br>  slop: 250<br>  minCoverage: 0<br>  maxCoverage: 200<br>  maxRegionLength: 100000<br>  minRepeatPeriod: 6<br>  minRepeatLength: 100<br>  functionalRegions: none<br>  genomeBuild: hg38<br>  overlappedFunctionalRegions: false<br>makeCalls: <br>  singleBaseMatchReward: 10<br>  singleBaseMismatchPenalty: 12<br>  gapOpenPenalties: 6,26<br>  gapExtensionPenalties: 1,0<br>  minUnitigMappingQuality: 1<br>filterCalls: <br>  maxIntraClusterDistance: 500<br>  minUnitigMappingQuality: 0<br>  minUnitigBlockLength: 25<br>  svtype: DEL<br>\", \"filterCalls.minSVSize: 100<br><br>makeRegions: <br>  slop: 250<br>  minCoverage: 0<br>  maxCoverage: 200<br>  maxRegionLength: 100000<br>  minRepeatPeriod: 6<br>  minRepeatLength: 100<br>  functionalRegions: none<br>  genomeBuild: hg38<br>  overlappedFunctionalRegions: false<br>makeCalls: <br>  singleBaseMatchReward: 10<br>  singleBaseMismatchPenalty: 12<br>  gapOpenPenalties: 6,26<br>  gapExtensionPenalties: 1,0<br>  minUnitigMappingQuality: 1<br>filterCalls: <br>  maxIntraClusterDistance: 500<br>  minUnitigMappingQuality: 0<br>  minUnitigBlockLength: 40<br>  svtype: DEL<br>\", \"filterCalls.minSVSize: 100<br><br>makeRegions: <br>  slop: 250<br>  minCoverage: 0<br>  maxCoverage: 200<br>  maxRegionLength: 100000<br>  minRepeatPeriod: 6<br>  minRepeatLength: 50<br>  functionalRegions: none<br>  genomeBuild: hg38<br>  overlappedFunctionalRegions: false<br>makeCalls: <br>  singleBaseMatchReward: 10<br>  singleBaseMismatchPenalty: 12<br>  gapOpenPenalties: 6,26<br>  gapExtensionPenalties: 1,0<br>  minUnitigMappingQuality: 1<br>filterCalls: <br>  maxIntraClusterDistance: 500<br>  minUnitigMappingQuality: 0<br>  minUnitigBlockLength: 15<br>  svtype: DEL<br>\", \"filterCalls.minSVSize: 100<br><br>makeRegions: <br>  slop: 250<br>  minCoverage: 0<br>  maxCoverage: 200<br>  maxRegionLength: 100000<br>  minRepeatPeriod: 6<br>  minRepeatLength: 50<br>  functionalRegions: none<br>  genomeBuild: hg38<br>  overlappedFunctionalRegions: false<br>makeCalls: <br>  singleBaseMatchReward: 10<br>  singleBaseMismatchPenalty: 12<br>  gapOpenPenalties: 6,26<br>  gapExtensionPenalties: 1,0<br>  minUnitigMappingQuality: 1<br>filterCalls: <br>  maxIntraClusterDistance: 500<br>  minUnitigMappingQuality: 0<br>  minUnitigBlockLength: 25<br>  svtype: DEL<br>\", \"filterCalls.minSVSize: 100<br><br>makeRegions: <br>  slop: 250<br>  minCoverage: 0<br>  maxCoverage: 200<br>  maxRegionLength: 100000<br>  minRepeatPeriod: 6<br>  minRepeatLength: 50<br>  functionalRegions: none<br>  genomeBuild: hg38<br>  overlappedFunctionalRegions: false<br>makeCalls: <br>  singleBaseMatchReward: 10<br>  singleBaseMismatchPenalty: 12<br>  gapOpenPenalties: 6,26<br>  gapExtensionPenalties: 1,0<br>  minUnitigMappingQuality: 1<br>filterCalls: <br>  maxIntraClusterDistance: 500<br>  minUnitigMappingQuality: 0<br>  minUnitigBlockLength: 40<br>  svtype: DEL<br>\", \"filterCalls.minSVSize: 500<br><br>makeRegions: <br>  slop: 250<br>  minCoverage: 0<br>  maxCoverage: 200<br>  maxRegionLength: 100000<br>  minRepeatPeriod: 6<br>  minRepeatLength: 0<br>  functionalRegions: none<br>  genomeBuild: hg38<br>  overlappedFunctionalRegions: false<br>makeCalls: <br>  singleBaseMatchReward: 10<br>  singleBaseMismatchPenalty: 12<br>  gapOpenPenalties: 6,26<br>  gapExtensionPenalties: 1,0<br>  minUnitigMappingQuality: 1<br>filterCalls: <br>  maxIntraClusterDistance: 500<br>  minUnitigMappingQuality: 0<br>  minUnitigBlockLength: 15<br>  svtype: DEL<br>\", \"filterCalls.minSVSize: 500<br><br>makeRegions: <br>  slop: 250<br>  minCoverage: 0<br>  maxCoverage: 200<br>  maxRegionLength: 100000<br>  minRepeatPeriod: 6<br>  minRepeatLength: 0<br>  functionalRegions: none<br>  genomeBuild: hg38<br>  overlappedFunctionalRegions: false<br>makeCalls: <br>  singleBaseMatchReward: 10<br>  singleBaseMismatchPenalty: 12<br>  gapOpenPenalties: 6,26<br>  gapExtensionPenalties: 1,0<br>  minUnitigMappingQuality: 1<br>filterCalls: <br>  maxIntraClusterDistance: 500<br>  minUnitigMappingQuality: 0<br>  minUnitigBlockLength: 25<br>  svtype: DEL<br>\", \"filterCalls.minSVSize: 500<br><br>makeRegions: <br>  slop: 250<br>  minCoverage: 0<br>  maxCoverage: 200<br>  maxRegionLength: 100000<br>  minRepeatPeriod: 6<br>  minRepeatLength: 0<br>  functionalRegions: none<br>  genomeBuild: hg38<br>  overlappedFunctionalRegions: false<br>makeCalls: <br>  singleBaseMatchReward: 10<br>  singleBaseMismatchPenalty: 12<br>  gapOpenPenalties: 6,26<br>  gapExtensionPenalties: 1,0<br>  minUnitigMappingQuality: 1<br>filterCalls: <br>  maxIntraClusterDistance: 500<br>  minUnitigMappingQuality: 0<br>  minUnitigBlockLength: 40<br>  svtype: DEL<br>\", \"filterCalls.minSVSize: 500<br><br>makeRegions: <br>  slop: 250<br>  minCoverage: 0<br>  maxCoverage: 200<br>  maxRegionLength: 100000<br>  minRepeatPeriod: 6<br>  minRepeatLength: 100<br>  functionalRegions: none<br>  genomeBuild: hg38<br>  overlappedFunctionalRegions: false<br>makeCalls: <br>  singleBaseMatchReward: 10<br>  singleBaseMismatchPenalty: 12<br>  gapOpenPenalties: 6,26<br>  gapExtensionPenalties: 1,0<br>  minUnitigMappingQuality: 1<br>filterCalls: <br>  maxIntraClusterDistance: 500<br>  minUnitigMappingQuality: 0<br>  minUnitigBlockLength: 15<br>  svtype: DEL<br>\", \"filterCalls.minSVSize: 500<br><br>makeRegions: <br>  slop: 250<br>  minCoverage: 0<br>  maxCoverage: 200<br>  maxRegionLength: 100000<br>  minRepeatPeriod: 6<br>  minRepeatLength: 100<br>  functionalRegions: none<br>  genomeBuild: hg38<br>  overlappedFunctionalRegions: false<br>makeCalls: <br>  singleBaseMatchReward: 10<br>  singleBaseMismatchPenalty: 12<br>  gapOpenPenalties: 6,26<br>  gapExtensionPenalties: 1,0<br>  minUnitigMappingQuality: 1<br>filterCalls: <br>  maxIntraClusterDistance: 500<br>  minUnitigMappingQuality: 0<br>  minUnitigBlockLength: 25<br>  svtype: DEL<br>\", \"filterCalls.minSVSize: 500<br><br>makeRegions: <br>  slop: 250<br>  minCoverage: 0<br>  maxCoverage: 200<br>  maxRegionLength: 100000<br>  minRepeatPeriod: 6<br>  minRepeatLength: 100<br>  functionalRegions: none<br>  genomeBuild: hg38<br>  overlappedFunctionalRegions: false<br>makeCalls: <br>  singleBaseMatchReward: 10<br>  singleBaseMismatchPenalty: 12<br>  gapOpenPenalties: 6,26<br>  gapExtensionPenalties: 1,0<br>  minUnitigMappingQuality: 1<br>filterCalls: <br>  maxIntraClusterDistance: 500<br>  minUnitigMappingQuality: 0<br>  minUnitigBlockLength: 40<br>  svtype: DEL<br>\", \"filterCalls.minSVSize: 500<br><br>makeRegions: <br>  slop: 250<br>  minCoverage: 0<br>  maxCoverage: 200<br>  maxRegionLength: 100000<br>  minRepeatPeriod: 6<br>  minRepeatLength: 50<br>  functionalRegions: none<br>  genomeBuild: hg38<br>  overlappedFunctionalRegions: false<br>makeCalls: <br>  singleBaseMatchReward: 10<br>  singleBaseMismatchPenalty: 12<br>  gapOpenPenalties: 6,26<br>  gapExtensionPenalties: 1,0<br>  minUnitigMappingQuality: 1<br>filterCalls: <br>  maxIntraClusterDistance: 500<br>  minUnitigMappingQuality: 0<br>  minUnitigBlockLength: 15<br>  svtype: DEL<br>\", \"filterCalls.minSVSize: 500<br><br>makeRegions: <br>  slop: 250<br>  minCoverage: 0<br>  maxCoverage: 200<br>  maxRegionLength: 100000<br>  minRepeatPeriod: 6<br>  minRepeatLength: 50<br>  functionalRegions: none<br>  genomeBuild: hg38<br>  overlappedFunctionalRegions: false<br>makeCalls: <br>  singleBaseMatchReward: 10<br>  singleBaseMismatchPenalty: 12<br>  gapOpenPenalties: 6,26<br>  gapExtensionPenalties: 1,0<br>  minUnitigMappingQuality: 1<br>filterCalls: <br>  maxIntraClusterDistance: 500<br>  minUnitigMappingQuality: 0<br>  minUnitigBlockLength: 25<br>  svtype: DEL<br>\", \"filterCalls.minSVSize: 500<br><br>makeRegions: <br>  slop: 250<br>  minCoverage: 0<br>  maxCoverage: 200<br>  maxRegionLength: 100000<br>  minRepeatPeriod: 6<br>  minRepeatLength: 50<br>  functionalRegions: none<br>  genomeBuild: hg38<br>  overlappedFunctionalRegions: false<br>makeCalls: <br>  singleBaseMatchReward: 10<br>  singleBaseMismatchPenalty: 12<br>  gapOpenPenalties: 6,26<br>  gapExtensionPenalties: 1,0<br>  minUnitigMappingQuality: 1<br>filterCalls: <br>  maxIntraClusterDistance: 500<br>  minUnitigMappingQuality: 0<br>  minUnitigBlockLength: 40<br>  svtype: DEL<br>\", \"filterCalls.minSVSize: 50<br><br>makeRegions: <br>  slop: 250<br>  minCoverage: 0<br>  maxCoverage: 200<br>  maxRegionLength: 100000<br>  minRepeatPeriod: 6<br>  minRepeatLength: 0<br>  functionalRegions: none<br>  genomeBuild: hg38<br>  overlappedFunctionalRegions: false<br>makeCalls: <br>  singleBaseMatchReward: 10<br>  singleBaseMismatchPenalty: 12<br>  gapOpenPenalties: 6,26<br>  gapExtensionPenalties: 1,0<br>  minUnitigMappingQuality: 1<br>filterCalls: <br>  maxIntraClusterDistance: 500<br>  minUnitigMappingQuality: 0<br>  minUnitigBlockLength: 15<br>  svtype: DEL<br>\", \"filterCalls.minSVSize: 50<br><br>makeRegions: <br>  slop: 250<br>  minCoverage: 0<br>  maxCoverage: 200<br>  maxRegionLength: 100000<br>  minRepeatPeriod: 6<br>  minRepeatLength: 0<br>  functionalRegions: none<br>  genomeBuild: hg38<br>  overlappedFunctionalRegions: false<br>makeCalls: <br>  singleBaseMatchReward: 10<br>  singleBaseMismatchPenalty: 12<br>  gapOpenPenalties: 6,26<br>  gapExtensionPenalties: 1,0<br>  minUnitigMappingQuality: 1<br>filterCalls: <br>  maxIntraClusterDistance: 500<br>  minUnitigMappingQuality: 0<br>  minUnitigBlockLength: 25<br>  svtype: DEL<br>\", \"filterCalls.minSVSize: 50<br><br>makeRegions: <br>  slop: 250<br>  minCoverage: 0<br>  maxCoverage: 200<br>  maxRegionLength: 100000<br>  minRepeatPeriod: 6<br>  minRepeatLength: 0<br>  functionalRegions: none<br>  genomeBuild: hg38<br>  overlappedFunctionalRegions: false<br>makeCalls: <br>  singleBaseMatchReward: 10<br>  singleBaseMismatchPenalty: 12<br>  gapOpenPenalties: 6,26<br>  gapExtensionPenalties: 1,0<br>  minUnitigMappingQuality: 1<br>filterCalls: <br>  maxIntraClusterDistance: 500<br>  minUnitigMappingQuality: 0<br>  minUnitigBlockLength: 40<br>  svtype: DEL<br>\", \"filterCalls.minSVSize: 50<br><br>makeRegions: <br>  slop: 250<br>  minCoverage: 0<br>  maxCoverage: 200<br>  maxRegionLength: 100000<br>  minRepeatPeriod: 6<br>  minRepeatLength: 100<br>  functionalRegions: none<br>  genomeBuild: hg38<br>  overlappedFunctionalRegions: false<br>makeCalls: <br>  singleBaseMatchReward: 10<br>  singleBaseMismatchPenalty: 12<br>  gapOpenPenalties: 6,26<br>  gapExtensionPenalties: 1,0<br>  minUnitigMappingQuality: 1<br>filterCalls: <br>  maxIntraClusterDistance: 500<br>  minUnitigMappingQuality: 0<br>  minUnitigBlockLength: 15<br>  svtype: DEL<br>\", \"filterCalls.minSVSize: 50<br><br>makeRegions: <br>  slop: 250<br>  minCoverage: 0<br>  maxCoverage: 200<br>  maxRegionLength: 100000<br>  minRepeatPeriod: 6<br>  minRepeatLength: 100<br>  functionalRegions: none<br>  genomeBuild: hg38<br>  overlappedFunctionalRegions: false<br>makeCalls: <br>  singleBaseMatchReward: 10<br>  singleBaseMismatchPenalty: 12<br>  gapOpenPenalties: 6,26<br>  gapExtensionPenalties: 1,0<br>  minUnitigMappingQuality: 1<br>filterCalls: <br>  maxIntraClusterDistance: 500<br>  minUnitigMappingQuality: 0<br>  minUnitigBlockLength: 25<br>  svtype: DEL<br>\", \"filterCalls.minSVSize: 50<br><br>makeRegions: <br>  slop: 250<br>  minCoverage: 0<br>  maxCoverage: 200<br>  maxRegionLength: 100000<br>  minRepeatPeriod: 6<br>  minRepeatLength: 100<br>  functionalRegions: none<br>  genomeBuild: hg38<br>  overlappedFunctionalRegions: false<br>makeCalls: <br>  singleBaseMatchReward: 10<br>  singleBaseMismatchPenalty: 12<br>  gapOpenPenalties: 6,26<br>  gapExtensionPenalties: 1,0<br>  minUnitigMappingQuality: 1<br>filterCalls: <br>  maxIntraClusterDistance: 500<br>  minUnitigMappingQuality: 0<br>  minUnitigBlockLength: 40<br>  svtype: DEL<br>\", \"filterCalls.minSVSize: 50<br><br>makeRegions: <br>  slop: 250<br>  minCoverage: 0<br>  maxCoverage: 200<br>  maxRegionLength: 100000<br>  minRepeatPeriod: 6<br>  minRepeatLength: 50<br>  functionalRegions: none<br>  genomeBuild: hg38<br>  overlappedFunctionalRegions: false<br>makeCalls: <br>  singleBaseMatchReward: 10<br>  singleBaseMismatchPenalty: 12<br>  gapOpenPenalties: 6,26<br>  gapExtensionPenalties: 1,0<br>  minUnitigMappingQuality: 1<br>filterCalls: <br>  maxIntraClusterDistance: 500<br>  minUnitigMappingQuality: 0<br>  minUnitigBlockLength: 15<br>  svtype: DEL<br>\", \"filterCalls.minSVSize: 50<br><br>makeRegions: <br>  slop: 250<br>  minCoverage: 0<br>  maxCoverage: 200<br>  maxRegionLength: 100000<br>  minRepeatPeriod: 6<br>  minRepeatLength: 50<br>  functionalRegions: none<br>  genomeBuild: hg38<br>  overlappedFunctionalRegions: false<br>makeCalls: <br>  singleBaseMatchReward: 10<br>  singleBaseMismatchPenalty: 12<br>  gapOpenPenalties: 6,26<br>  gapExtensionPenalties: 1,0<br>  minUnitigMappingQuality: 1<br>filterCalls: <br>  maxIntraClusterDistance: 500<br>  minUnitigMappingQuality: 0<br>  minUnitigBlockLength: 25<br>  svtype: DEL<br>\", \"filterCalls.minSVSize: 50<br><br>makeRegions: <br>  slop: 250<br>  minCoverage: 0<br>  maxCoverage: 200<br>  maxRegionLength: 100000<br>  minRepeatPeriod: 6<br>  minRepeatLength: 50<br>  functionalRegions: none<br>  genomeBuild: hg38<br>  overlappedFunctionalRegions: false<br>makeCalls: <br>  singleBaseMatchReward: 10<br>  singleBaseMismatchPenalty: 12<br>  gapOpenPenalties: 6,26<br>  gapExtensionPenalties: 1,0<br>  minUnitigMappingQuality: 1<br>filterCalls: <br>  maxIntraClusterDistance: 500<br>  minUnitigMappingQuality: 0<br>  minUnitigBlockLength: 40<br>  svtype: DEL<br>\"], \"type\": \"scatter\", \"x\": [0.6532951289398281, 0.6446991404011462, 0.5959885386819485, 0.6477272727272727, 0.6448863636363636, 0.5823863636363636, 0.6552706552706553, 0.6524216524216524, 0.5897435897435898, 0.1875, 0.15625, 0.125, 0.16666666666666666, 0.16666666666666666, 0.1388888888888889, 0.17142857142857143, 0.17142857142857143, 0.11428571428571428, 0.7587476979742173, 0.7449355432780848, 0.6887661141804788, 0.7539461467038069, 0.7335190343546889, 0.680594243268338, 0.7616865261228231, 0.7461044912923923, 0.6856095325389551], \"y\": [0.1629013079667063, 0.1492271105826397, 0.12901307966706302, 0.16444701795020267, 0.15460335842501446, 0.12623045744064854, 0.1655901350557839, 0.15384615384615385, 0.1315325895478567, 0.04242424242424243, 0.030303030303030304, 0.04242424242424243, 0.05325443786982249, 0.029585798816568046, 0.029585798816568046, 0.047619047619047616, 0.03571428571428571, 0.02976190476190476, 0.2050380785002929, 0.18922085530169888, 0.15846514352665494, 0.21079691516709512, 0.19480148528991717, 0.16281062553556128, 0.2071655590869691, 0.19242993354521815, 0.16324761629586826]}, {\"marker\": {\"color\": \"blue\", \"size\": 10, \"symbol\": \"circle\"}, \"mode\": \"markers\", \"name\": \"minSVSize=50\", \"type\": \"scatter\", \"y\": [null]}, {\"marker\": {\"color\": \"green\", \"size\": 10, \"symbol\": \"circle\"}, \"mode\": \"markers\", \"name\": \"minSVSize=100\", \"type\": \"scatter\", \"y\": [null]}, {\"marker\": {\"color\": \"red\", \"size\": 10, \"symbol\": \"circle\"}, \"mode\": \"markers\", \"name\": \"minSVSize=500\", \"type\": \"scatter\", \"y\": [null]}],                        {\"template\": {\"data\": {\"bar\": [{\"error_x\": {\"color\": \"#2a3f5f\"}, \"error_y\": {\"color\": \"#2a3f5f\"}, \"marker\": {\"line\": {\"color\": \"#E5ECF6\", \"width\": 0.5}}, \"type\": \"bar\"}], \"barpolar\": [{\"marker\": {\"line\": {\"color\": \"#E5ECF6\", \"width\": 0.5}}, \"type\": \"barpolar\"}], \"carpet\": [{\"aaxis\": {\"endlinecolor\": \"#2a3f5f\", \"gridcolor\": \"white\", \"linecolor\": \"white\", \"minorgridcolor\": \"white\", \"startlinecolor\": \"#2a3f5f\"}, \"baxis\": {\"endlinecolor\": \"#2a3f5f\", \"gridcolor\": \"white\", \"linecolor\": \"white\", \"minorgridcolor\": \"white\", \"startlinecolor\": \"#2a3f5f\"}, \"type\": \"carpet\"}], \"choropleth\": [{\"colorbar\": {\"outlinewidth\": 0, \"ticks\": \"\"}, \"type\": \"choropleth\"}], \"contour\": [{\"colorbar\": {\"outlinewidth\": 0, \"ticks\": \"\"}, \"colorscale\": [[0.0, \"#0d0887\"], [0.1111111111111111, \"#46039f\"], [0.2222222222222222, \"#7201a8\"], [0.3333333333333333, \"#9c179e\"], [0.4444444444444444, \"#bd3786\"], [0.5555555555555556, \"#d8576b\"], [0.6666666666666666, \"#ed7953\"], [0.7777777777777778, \"#fb9f3a\"], [0.8888888888888888, \"#fdca26\"], [1.0, \"#f0f921\"]], \"type\": \"contour\"}], \"contourcarpet\": [{\"colorbar\": {\"outlinewidth\": 0, \"ticks\": \"\"}, \"type\": \"contourcarpet\"}], \"heatmap\": [{\"colorbar\": {\"outlinewidth\": 0, \"ticks\": \"\"}, \"colorscale\": [[0.0, \"#0d0887\"], [0.1111111111111111, \"#46039f\"], [0.2222222222222222, \"#7201a8\"], [0.3333333333333333, \"#9c179e\"], [0.4444444444444444, \"#bd3786\"], [0.5555555555555556, \"#d8576b\"], [0.6666666666666666, \"#ed7953\"], [0.7777777777777778, \"#fb9f3a\"], [0.8888888888888888, \"#fdca26\"], [1.0, \"#f0f921\"]], \"type\": \"heatmap\"}], \"heatmapgl\": [{\"colorbar\": {\"outlinewidth\": 0, \"ticks\": \"\"}, \"colorscale\": [[0.0, \"#0d0887\"], [0.1111111111111111, \"#46039f\"], [0.2222222222222222, \"#7201a8\"], [0.3333333333333333, \"#9c179e\"], [0.4444444444444444, \"#bd3786\"], [0.5555555555555556, \"#d8576b\"], [0.6666666666666666, \"#ed7953\"], [0.7777777777777778, \"#fb9f3a\"], [0.8888888888888888, \"#fdca26\"], [1.0, \"#f0f921\"]], \"type\": \"heatmapgl\"}], \"histogram\": [{\"marker\": {\"colorbar\": {\"outlinewidth\": 0, \"ticks\": \"\"}}, \"type\": \"histogram\"}], \"histogram2d\": [{\"colorbar\": {\"outlinewidth\": 0, \"ticks\": \"\"}, \"colorscale\": [[0.0, \"#0d0887\"], [0.1111111111111111, \"#46039f\"], [0.2222222222222222, \"#7201a8\"], [0.3333333333333333, \"#9c179e\"], [0.4444444444444444, \"#bd3786\"], [0.5555555555555556, \"#d8576b\"], [0.6666666666666666, \"#ed7953\"], [0.7777777777777778, \"#fb9f3a\"], [0.8888888888888888, \"#fdca26\"], [1.0, \"#f0f921\"]], \"type\": \"histogram2d\"}], \"histogram2dcontour\": [{\"colorbar\": {\"outlinewidth\": 0, \"ticks\": \"\"}, \"colorscale\": [[0.0, \"#0d0887\"], [0.1111111111111111, \"#46039f\"], [0.2222222222222222, \"#7201a8\"], [0.3333333333333333, \"#9c179e\"], [0.4444444444444444, \"#bd3786\"], [0.5555555555555556, \"#d8576b\"], [0.6666666666666666, \"#ed7953\"], [0.7777777777777778, \"#fb9f3a\"], [0.8888888888888888, \"#fdca26\"], [1.0, \"#f0f921\"]], \"type\": \"histogram2dcontour\"}], \"mesh3d\": [{\"colorbar\": {\"outlinewidth\": 0, \"ticks\": \"\"}, \"type\": \"mesh3d\"}], \"parcoords\": [{\"line\": {\"colorbar\": {\"outlinewidth\": 0, \"ticks\": \"\"}}, \"type\": \"parcoords\"}], \"pie\": [{\"automargin\": true, \"type\": \"pie\"}], \"scatter\": [{\"marker\": {\"colorbar\": {\"outlinewidth\": 0, \"ticks\": \"\"}}, \"type\": \"scatter\"}], \"scatter3d\": [{\"line\": {\"colorbar\": {\"outlinewidth\": 0, \"ticks\": \"\"}}, \"marker\": {\"colorbar\": {\"outlinewidth\": 0, \"ticks\": \"\"}}, \"type\": \"scatter3d\"}], \"scattercarpet\": [{\"marker\": {\"colorbar\": {\"outlinewidth\": 0, \"ticks\": \"\"}}, \"type\": \"scattercarpet\"}], \"scattergeo\": [{\"marker\": {\"colorbar\": {\"outlinewidth\": 0, \"ticks\": \"\"}}, \"type\": \"scattergeo\"}], \"scattergl\": [{\"marker\": {\"colorbar\": {\"outlinewidth\": 0, \"ticks\": \"\"}}, \"type\": \"scattergl\"}], \"scattermapbox\": [{\"marker\": {\"colorbar\": {\"outlinewidth\": 0, \"ticks\": \"\"}}, \"type\": \"scattermapbox\"}], \"scatterpolar\": [{\"marker\": {\"colorbar\": {\"outlinewidth\": 0, \"ticks\": \"\"}}, \"type\": \"scatterpolar\"}], \"scatterpolargl\": [{\"marker\": {\"colorbar\": {\"outlinewidth\": 0, \"ticks\": \"\"}}, \"type\": \"scatterpolargl\"}], \"scatterternary\": [{\"marker\": {\"colorbar\": {\"outlinewidth\": 0, \"ticks\": \"\"}}, \"type\": \"scatterternary\"}], \"surface\": [{\"colorbar\": {\"outlinewidth\": 0, \"ticks\": \"\"}, \"colorscale\": [[0.0, \"#0d0887\"], [0.1111111111111111, \"#46039f\"], [0.2222222222222222, \"#7201a8\"], [0.3333333333333333, \"#9c179e\"], [0.4444444444444444, \"#bd3786\"], [0.5555555555555556, \"#d8576b\"], [0.6666666666666666, \"#ed7953\"], [0.7777777777777778, \"#fb9f3a\"], [0.8888888888888888, \"#fdca26\"], [1.0, \"#f0f921\"]], \"type\": \"surface\"}], \"table\": [{\"cells\": {\"fill\": {\"color\": \"#EBF0F8\"}, \"line\": {\"color\": \"white\"}}, \"header\": {\"fill\": {\"color\": \"#C8D4E3\"}, \"line\": {\"color\": \"white\"}}, \"type\": \"table\"}]}, \"layout\": {\"annotationdefaults\": {\"arrowcolor\": \"#2a3f5f\", \"arrowhead\": 0, \"arrowwidth\": 1}, \"autotypenumbers\": \"strict\", \"coloraxis\": {\"colorbar\": {\"outlinewidth\": 0, \"ticks\": \"\"}}, \"colorscale\": {\"diverging\": [[0, \"#8e0152\"], [0.1, \"#c51b7d\"], [0.2, \"#de77ae\"], [0.3, \"#f1b6da\"], [0.4, \"#fde0ef\"], [0.5, \"#f7f7f7\"], [0.6, \"#e6f5d0\"], [0.7, \"#b8e186\"], [0.8, \"#7fbc41\"], [0.9, \"#4d9221\"], [1, \"#276419\"]], \"sequential\": [[0.0, \"#0d0887\"], [0.1111111111111111, \"#46039f\"], [0.2222222222222222, \"#7201a8\"], [0.3333333333333333, \"#9c179e\"], [0.4444444444444444, \"#bd3786\"], [0.5555555555555556, \"#d8576b\"], [0.6666666666666666, \"#ed7953\"], [0.7777777777777778, \"#fb9f3a\"], [0.8888888888888888, \"#fdca26\"], [1.0, \"#f0f921\"]], \"sequentialminus\": [[0.0, \"#0d0887\"], [0.1111111111111111, \"#46039f\"], [0.2222222222222222, \"#7201a8\"], [0.3333333333333333, \"#9c179e\"], [0.4444444444444444, \"#bd3786\"], [0.5555555555555556, \"#d8576b\"], [0.6666666666666666, \"#ed7953\"], [0.7777777777777778, \"#fb9f3a\"], [0.8888888888888888, \"#fdca26\"], [1.0, \"#f0f921\"]]}, \"colorway\": [\"#636efa\", \"#EF553B\", \"#00cc96\", \"#ab63fa\", \"#FFA15A\", \"#19d3f3\", \"#FF6692\", \"#B6E880\", \"#FF97FF\", \"#FECB52\"], \"font\": {\"color\": \"#2a3f5f\"}, \"geo\": {\"bgcolor\": \"white\", \"lakecolor\": \"white\", \"landcolor\": \"#E5ECF6\", \"showlakes\": true, \"showland\": true, \"subunitcolor\": \"white\"}, \"hoverlabel\": {\"align\": \"left\"}, \"hovermode\": \"closest\", \"mapbox\": {\"style\": \"light\"}, \"paper_bgcolor\": \"white\", \"plot_bgcolor\": \"#E5ECF6\", \"polar\": {\"angularaxis\": {\"gridcolor\": \"white\", \"linecolor\": \"white\", \"ticks\": \"\"}, \"bgcolor\": \"#E5ECF6\", \"radialaxis\": {\"gridcolor\": \"white\", \"linecolor\": \"white\", \"ticks\": \"\"}}, \"scene\": {\"xaxis\": {\"backgroundcolor\": \"#E5ECF6\", \"gridcolor\": \"white\", \"gridwidth\": 2, \"linecolor\": \"white\", \"showbackground\": true, \"ticks\": \"\", \"zerolinecolor\": \"white\"}, \"yaxis\": {\"backgroundcolor\": \"#E5ECF6\", \"gridcolor\": \"white\", \"gridwidth\": 2, \"linecolor\": \"white\", \"showbackground\": true, \"ticks\": \"\", \"zerolinecolor\": \"white\"}, \"zaxis\": {\"backgroundcolor\": \"#E5ECF6\", \"gridcolor\": \"white\", \"gridwidth\": 2, \"linecolor\": \"white\", \"showbackground\": true, \"ticks\": \"\", \"zerolinecolor\": \"white\"}}, \"shapedefaults\": {\"line\": {\"color\": \"#2a3f5f\"}}, \"ternary\": {\"aaxis\": {\"gridcolor\": \"white\", \"linecolor\": \"white\", \"ticks\": \"\"}, \"baxis\": {\"gridcolor\": \"white\", \"linecolor\": \"white\", \"ticks\": \"\"}, \"bgcolor\": \"#E5ECF6\", \"caxis\": {\"gridcolor\": \"white\", \"linecolor\": \"white\", \"ticks\": \"\"}}, \"title\": {\"x\": 0.05}, \"xaxis\": {\"automargin\": true, \"gridcolor\": \"white\", \"linecolor\": \"white\", \"ticks\": \"\", \"title\": {\"standoff\": 15}, \"zerolinecolor\": \"white\", \"zerolinewidth\": 2}, \"yaxis\": {\"automargin\": true, \"gridcolor\": \"white\", \"linecolor\": \"white\", \"ticks\": \"\", \"title\": {\"standoff\": 15}, \"zerolinecolor\": \"white\", \"zerolinewidth\": 2}}}, \"title\": {\"text\": \"trfermikit is most complementary to manta when small SVs are included\"}, \"xaxis\": {\"title\": {\"text\": \"fraction of manta TPs recovered by trfermikit\"}}, \"yaxis\": {\"title\": {\"text\": \"fraction of manta FNs recovered by trfermikit\"}}},                        {\"responsive\": true}                    ).then(function(){\n",
       "                            \n",
       "var gd = document.getElementById('284cdc06-8685-4691-be7b-2ec42ed87830');\n",
       "var x = new MutationObserver(function (mutations, observer) {{\n",
       "        var display = window.getComputedStyle(gd).display;\n",
       "        if (!display || display === 'none') {{\n",
       "            console.log([gd, 'removed!']);\n",
       "            Plotly.purge(gd);\n",
       "            observer.disconnect();\n",
       "        }}\n",
       "}});\n",
       "\n",
       "// Listen for the removal of the full notebook cells\n",
       "var notebookContainer = gd.closest('#notebook-container');\n",
       "if (notebookContainer) {{\n",
       "    x.observe(notebookContainer, {childList: true});\n",
       "}}\n",
       "\n",
       "// Listen for the clearing of the current output cell\n",
       "var outputEl = gd.closest('.output');\n",
       "if (outputEl) {{\n",
       "    x.observe(outputEl, {childList: true});\n",
       "}}\n",
       "\n",
       "                        })                };                });            </script>        </div>"
      ]
     },
     "metadata": {},
     "output_type": "display_data"
    }
   ],
   "source": [
    "def list_to_value(list_): \n",
    "    value, = list_\n",
    "    return int(value)\n",
    "\n",
    "overlap_fraction = 0.9\n",
    "root = \"/scratch/ucgd/lustre-work/quinlan/u6018199/chaisson_2019/analysis/locally_assemble_short_reads/trfermikit\"\n",
    "\n",
    "def tr_fermikit_TP_intersect_manta(manta_callset, output): \n",
    "    list_ = ! $root/bin/bedtools intersect -u -wb -f $overlap_fraction -r \\\n",
    "      -a $output/truvari-pacbio-manta/$manta_callset\".vcf\" \\\n",
    "      -b $output/truvari-pacbio-trfermikit.unitigSupport.thinned/tp-base.vcf \\\n",
    "      | wc -l \n",
    "    return list_to_value(list_)\n",
    "\n",
    "def tr_fermikit_TP_less_manta(manta_callset, output):\n",
    "    list_ = ! $root/bin/bedtools subtract -A -f $overlap_fraction -r \\\n",
    "      -a $output/truvari-pacbio-trfermikit.unitigSupport.thinned/tp-base.vcf \\\n",
    "      -b $output/truvari-pacbio-manta/$manta_callset\".vcf\" \\\n",
    "      | wc -l\n",
    "    return list_to_value(list_)\n",
    "\n",
    "def manta_less_tr_fermikit_TP(manta_callset, output):\n",
    "    list_ = ! $root/bin/bedtools subtract -A -f $overlap_fraction -r \\\n",
    "      -a $output/truvari-pacbio-manta/$manta_callset\".vcf\" \\\n",
    "      -b $output/truvari-pacbio-trfermikit.unitigSupport.thinned/tp-base.vcf \\\n",
    "    | wc -l \n",
    "    return list_to_value(list_)\n",
    "\n",
    "def check(manta_callset): \n",
    "    if manta_callset != 'fn' and manta_callset != 'tp-base': \n",
    "        raise Exception\n",
    "    else: \n",
    "        pass\n",
    "        \n",
    "def get_manta_fraction(manta_callset, experiment):\n",
    "    check(manta_callset)\n",
    "    output = 'data/{}'.format(experiment)\n",
    "    overlap_count = tr_fermikit_TP_intersect_manta(manta_callset, output)\n",
    "    manta_exclusive_count = manta_less_tr_fermikit_TP(manta_callset, output)\n",
    "    return overlap_count/float(overlap_count + manta_exclusive_count)\n",
    "\n",
    "def get_manta_fractions_configs():   \n",
    "    experiments = ! ls data\n",
    "\n",
    "    fractions_of_manta_TP = []\n",
    "    fractions_of_manta_FN = []\n",
    "    configs = []\n",
    "\n",
    "    for experiment in experiments: \n",
    "        fractions_of_manta_TP.append(get_manta_fraction(manta_callset='tp-base', experiment=experiment))\n",
    "        fractions_of_manta_FN.append(get_manta_fraction(manta_callset='fn', experiment=experiment))\n",
    "        config = get_config(experiment)\n",
    "        configs.append(config)\n",
    "        \n",
    "    return fractions_of_manta_TP, fractions_of_manta_FN, configs\n",
    "\n",
    "def fractions_of_manta_graph(outer_key, inner_key, title=None, marker_size=10, line_width=1): \n",
    "    fractions_of_manta_TP, fractions_of_manta_FN, configs = get_manta_fractions_configs() \n",
    "    \n",
    "    colors = initialize_colors(configs, outer_key, inner_key) \n",
    "                \n",
    "    fig = go.Figure(data=go.Scatter(\n",
    "        x=fractions_of_manta_TP,\n",
    "        y=fractions_of_manta_FN,\n",
    "        mode='markers',\n",
    "        showlegend=False,        \n",
    "        marker=dict(\n",
    "            symbol='circle',\n",
    "            size=marker_size,\n",
    "            line=dict(width=line_width, color='black'),\n",
    "            color=[colors[config[outer_key][inner_key]] for config in configs]\n",
    "        ),\n",
    "        hovertemplate='%{text}',\n",
    "        text=[format_config(config, outer_key, inner_key) for config in configs]))\n",
    "    fig.update_xaxes(title_text='fraction of manta TPs recovered by trfermikit')\n",
    "    fig.update_yaxes(title_text='fraction of manta FNs recovered by trfermikit')\n",
    "    \n",
    "    fig.update_layout(title=title) \n",
    "    \n",
    "    for value, color in sort_colors(colors):                 \n",
    "        fig.add_trace(go.Scatter(\n",
    "            y=[None], \n",
    "            mode='markers',\n",
    "            marker=dict(\n",
    "                symbol='circle',\n",
    "                size=marker_size,\n",
    "                color=color\n",
    "            ),\n",
    "            name='{}={}'.format(inner_key, value)\n",
    "        ))\n",
    "        \n",
    "    fig.show()\n",
    "\n",
    "def fractions_of_manta_graphs(): \n",
    "    for outer_key, inner_key, commentary in [\n",
    "        (\n",
    "            'filterCalls', \n",
    "            'minSVSize',\n",
    "            'trfermikit is most complementary to manta when small SVs are included'\n",
    "        ), \n",
    "#         ( \n",
    "#             'makeRegions',\n",
    "#             'minRepeatLength',\n",
    "#             None\n",
    "#         )\n",
    "#         (\n",
    "#             'filterCalls', \n",
    "#             'minUnitigBlockLength', \n",
    "#             None\n",
    "#         ),\n",
    "    ]: fractions_of_manta_graph(outer_key, inner_key, title=commentary) \n",
    "\n",
    "fractions_of_manta_graphs()"
   ]
  },
  {
   "cell_type": "markdown",
   "metadata": {},
   "source": [
    "## The trade-off between trfermikit precision and its sensitivity to events missed by manta"
   ]
  },
  {
   "cell_type": "code",
   "execution_count": 18,
   "metadata": {},
   "outputs": [
    {
     "data": {
      "application/vnd.plotly.v1+json": {
       "config": {
        "plotlyServerURL": "https://plot.ly"
       },
       "data": [
        {
         "hovertemplate": "%{text}",
         "marker": {
          "color": [
           "green",
           "green",
           "green",
           "green",
           "green",
           "green",
           "green",
           "green",
           "green",
           "red",
           "red",
           "red",
           "red",
           "red",
           "red",
           "red",
           "red",
           "red",
           "blue",
           "blue",
           "blue",
           "blue",
           "blue",
           "blue",
           "blue",
           "blue",
           "blue"
          ],
          "line": {
           "color": "black",
           "width": 1
          },
          "size": 10,
          "symbol": "circle"
         },
         "mode": "markers",
         "showlegend": false,
         "text": [
          "filterCalls.minSVSize: 100<br><br>makeRegions: <br>  slop: 250<br>  minCoverage: 0<br>  maxCoverage: 200<br>  maxRegionLength: 100000<br>  minRepeatPeriod: 6<br>  minRepeatLength: 0<br>  functionalRegions: none<br>  genomeBuild: hg38<br>  overlappedFunctionalRegions: false<br>makeCalls: <br>  singleBaseMatchReward: 10<br>  singleBaseMismatchPenalty: 12<br>  gapOpenPenalties: 6,26<br>  gapExtensionPenalties: 1,0<br>  minUnitigMappingQuality: 1<br>filterCalls: <br>  maxIntraClusterDistance: 500<br>  minUnitigMappingQuality: 0<br>  minUnitigBlockLength: 15<br>  svtype: DEL<br>",
          "filterCalls.minSVSize: 100<br><br>makeRegions: <br>  slop: 250<br>  minCoverage: 0<br>  maxCoverage: 200<br>  maxRegionLength: 100000<br>  minRepeatPeriod: 6<br>  minRepeatLength: 0<br>  functionalRegions: none<br>  genomeBuild: hg38<br>  overlappedFunctionalRegions: false<br>makeCalls: <br>  singleBaseMatchReward: 10<br>  singleBaseMismatchPenalty: 12<br>  gapOpenPenalties: 6,26<br>  gapExtensionPenalties: 1,0<br>  minUnitigMappingQuality: 1<br>filterCalls: <br>  maxIntraClusterDistance: 500<br>  minUnitigMappingQuality: 0<br>  minUnitigBlockLength: 25<br>  svtype: DEL<br>",
          "filterCalls.minSVSize: 100<br><br>makeRegions: <br>  slop: 250<br>  minCoverage: 0<br>  maxCoverage: 200<br>  maxRegionLength: 100000<br>  minRepeatPeriod: 6<br>  minRepeatLength: 0<br>  functionalRegions: none<br>  genomeBuild: hg38<br>  overlappedFunctionalRegions: false<br>makeCalls: <br>  singleBaseMatchReward: 10<br>  singleBaseMismatchPenalty: 12<br>  gapOpenPenalties: 6,26<br>  gapExtensionPenalties: 1,0<br>  minUnitigMappingQuality: 1<br>filterCalls: <br>  maxIntraClusterDistance: 500<br>  minUnitigMappingQuality: 0<br>  minUnitigBlockLength: 40<br>  svtype: DEL<br>",
          "filterCalls.minSVSize: 100<br><br>makeRegions: <br>  slop: 250<br>  minCoverage: 0<br>  maxCoverage: 200<br>  maxRegionLength: 100000<br>  minRepeatPeriod: 6<br>  minRepeatLength: 100<br>  functionalRegions: none<br>  genomeBuild: hg38<br>  overlappedFunctionalRegions: false<br>makeCalls: <br>  singleBaseMatchReward: 10<br>  singleBaseMismatchPenalty: 12<br>  gapOpenPenalties: 6,26<br>  gapExtensionPenalties: 1,0<br>  minUnitigMappingQuality: 1<br>filterCalls: <br>  maxIntraClusterDistance: 500<br>  minUnitigMappingQuality: 0<br>  minUnitigBlockLength: 15<br>  svtype: DEL<br>",
          "filterCalls.minSVSize: 100<br><br>makeRegions: <br>  slop: 250<br>  minCoverage: 0<br>  maxCoverage: 200<br>  maxRegionLength: 100000<br>  minRepeatPeriod: 6<br>  minRepeatLength: 100<br>  functionalRegions: none<br>  genomeBuild: hg38<br>  overlappedFunctionalRegions: false<br>makeCalls: <br>  singleBaseMatchReward: 10<br>  singleBaseMismatchPenalty: 12<br>  gapOpenPenalties: 6,26<br>  gapExtensionPenalties: 1,0<br>  minUnitigMappingQuality: 1<br>filterCalls: <br>  maxIntraClusterDistance: 500<br>  minUnitigMappingQuality: 0<br>  minUnitigBlockLength: 25<br>  svtype: DEL<br>",
          "filterCalls.minSVSize: 100<br><br>makeRegions: <br>  slop: 250<br>  minCoverage: 0<br>  maxCoverage: 200<br>  maxRegionLength: 100000<br>  minRepeatPeriod: 6<br>  minRepeatLength: 100<br>  functionalRegions: none<br>  genomeBuild: hg38<br>  overlappedFunctionalRegions: false<br>makeCalls: <br>  singleBaseMatchReward: 10<br>  singleBaseMismatchPenalty: 12<br>  gapOpenPenalties: 6,26<br>  gapExtensionPenalties: 1,0<br>  minUnitigMappingQuality: 1<br>filterCalls: <br>  maxIntraClusterDistance: 500<br>  minUnitigMappingQuality: 0<br>  minUnitigBlockLength: 40<br>  svtype: DEL<br>",
          "filterCalls.minSVSize: 100<br><br>makeRegions: <br>  slop: 250<br>  minCoverage: 0<br>  maxCoverage: 200<br>  maxRegionLength: 100000<br>  minRepeatPeriod: 6<br>  minRepeatLength: 50<br>  functionalRegions: none<br>  genomeBuild: hg38<br>  overlappedFunctionalRegions: false<br>makeCalls: <br>  singleBaseMatchReward: 10<br>  singleBaseMismatchPenalty: 12<br>  gapOpenPenalties: 6,26<br>  gapExtensionPenalties: 1,0<br>  minUnitigMappingQuality: 1<br>filterCalls: <br>  maxIntraClusterDistance: 500<br>  minUnitigMappingQuality: 0<br>  minUnitigBlockLength: 15<br>  svtype: DEL<br>",
          "filterCalls.minSVSize: 100<br><br>makeRegions: <br>  slop: 250<br>  minCoverage: 0<br>  maxCoverage: 200<br>  maxRegionLength: 100000<br>  minRepeatPeriod: 6<br>  minRepeatLength: 50<br>  functionalRegions: none<br>  genomeBuild: hg38<br>  overlappedFunctionalRegions: false<br>makeCalls: <br>  singleBaseMatchReward: 10<br>  singleBaseMismatchPenalty: 12<br>  gapOpenPenalties: 6,26<br>  gapExtensionPenalties: 1,0<br>  minUnitigMappingQuality: 1<br>filterCalls: <br>  maxIntraClusterDistance: 500<br>  minUnitigMappingQuality: 0<br>  minUnitigBlockLength: 25<br>  svtype: DEL<br>",
          "filterCalls.minSVSize: 100<br><br>makeRegions: <br>  slop: 250<br>  minCoverage: 0<br>  maxCoverage: 200<br>  maxRegionLength: 100000<br>  minRepeatPeriod: 6<br>  minRepeatLength: 50<br>  functionalRegions: none<br>  genomeBuild: hg38<br>  overlappedFunctionalRegions: false<br>makeCalls: <br>  singleBaseMatchReward: 10<br>  singleBaseMismatchPenalty: 12<br>  gapOpenPenalties: 6,26<br>  gapExtensionPenalties: 1,0<br>  minUnitigMappingQuality: 1<br>filterCalls: <br>  maxIntraClusterDistance: 500<br>  minUnitigMappingQuality: 0<br>  minUnitigBlockLength: 40<br>  svtype: DEL<br>",
          "filterCalls.minSVSize: 500<br><br>makeRegions: <br>  slop: 250<br>  minCoverage: 0<br>  maxCoverage: 200<br>  maxRegionLength: 100000<br>  minRepeatPeriod: 6<br>  minRepeatLength: 0<br>  functionalRegions: none<br>  genomeBuild: hg38<br>  overlappedFunctionalRegions: false<br>makeCalls: <br>  singleBaseMatchReward: 10<br>  singleBaseMismatchPenalty: 12<br>  gapOpenPenalties: 6,26<br>  gapExtensionPenalties: 1,0<br>  minUnitigMappingQuality: 1<br>filterCalls: <br>  maxIntraClusterDistance: 500<br>  minUnitigMappingQuality: 0<br>  minUnitigBlockLength: 15<br>  svtype: DEL<br>",
          "filterCalls.minSVSize: 500<br><br>makeRegions: <br>  slop: 250<br>  minCoverage: 0<br>  maxCoverage: 200<br>  maxRegionLength: 100000<br>  minRepeatPeriod: 6<br>  minRepeatLength: 0<br>  functionalRegions: none<br>  genomeBuild: hg38<br>  overlappedFunctionalRegions: false<br>makeCalls: <br>  singleBaseMatchReward: 10<br>  singleBaseMismatchPenalty: 12<br>  gapOpenPenalties: 6,26<br>  gapExtensionPenalties: 1,0<br>  minUnitigMappingQuality: 1<br>filterCalls: <br>  maxIntraClusterDistance: 500<br>  minUnitigMappingQuality: 0<br>  minUnitigBlockLength: 25<br>  svtype: DEL<br>",
          "filterCalls.minSVSize: 500<br><br>makeRegions: <br>  slop: 250<br>  minCoverage: 0<br>  maxCoverage: 200<br>  maxRegionLength: 100000<br>  minRepeatPeriod: 6<br>  minRepeatLength: 0<br>  functionalRegions: none<br>  genomeBuild: hg38<br>  overlappedFunctionalRegions: false<br>makeCalls: <br>  singleBaseMatchReward: 10<br>  singleBaseMismatchPenalty: 12<br>  gapOpenPenalties: 6,26<br>  gapExtensionPenalties: 1,0<br>  minUnitigMappingQuality: 1<br>filterCalls: <br>  maxIntraClusterDistance: 500<br>  minUnitigMappingQuality: 0<br>  minUnitigBlockLength: 40<br>  svtype: DEL<br>",
          "filterCalls.minSVSize: 500<br><br>makeRegions: <br>  slop: 250<br>  minCoverage: 0<br>  maxCoverage: 200<br>  maxRegionLength: 100000<br>  minRepeatPeriod: 6<br>  minRepeatLength: 100<br>  functionalRegions: none<br>  genomeBuild: hg38<br>  overlappedFunctionalRegions: false<br>makeCalls: <br>  singleBaseMatchReward: 10<br>  singleBaseMismatchPenalty: 12<br>  gapOpenPenalties: 6,26<br>  gapExtensionPenalties: 1,0<br>  minUnitigMappingQuality: 1<br>filterCalls: <br>  maxIntraClusterDistance: 500<br>  minUnitigMappingQuality: 0<br>  minUnitigBlockLength: 15<br>  svtype: DEL<br>",
          "filterCalls.minSVSize: 500<br><br>makeRegions: <br>  slop: 250<br>  minCoverage: 0<br>  maxCoverage: 200<br>  maxRegionLength: 100000<br>  minRepeatPeriod: 6<br>  minRepeatLength: 100<br>  functionalRegions: none<br>  genomeBuild: hg38<br>  overlappedFunctionalRegions: false<br>makeCalls: <br>  singleBaseMatchReward: 10<br>  singleBaseMismatchPenalty: 12<br>  gapOpenPenalties: 6,26<br>  gapExtensionPenalties: 1,0<br>  minUnitigMappingQuality: 1<br>filterCalls: <br>  maxIntraClusterDistance: 500<br>  minUnitigMappingQuality: 0<br>  minUnitigBlockLength: 25<br>  svtype: DEL<br>",
          "filterCalls.minSVSize: 500<br><br>makeRegions: <br>  slop: 250<br>  minCoverage: 0<br>  maxCoverage: 200<br>  maxRegionLength: 100000<br>  minRepeatPeriod: 6<br>  minRepeatLength: 100<br>  functionalRegions: none<br>  genomeBuild: hg38<br>  overlappedFunctionalRegions: false<br>makeCalls: <br>  singleBaseMatchReward: 10<br>  singleBaseMismatchPenalty: 12<br>  gapOpenPenalties: 6,26<br>  gapExtensionPenalties: 1,0<br>  minUnitigMappingQuality: 1<br>filterCalls: <br>  maxIntraClusterDistance: 500<br>  minUnitigMappingQuality: 0<br>  minUnitigBlockLength: 40<br>  svtype: DEL<br>",
          "filterCalls.minSVSize: 500<br><br>makeRegions: <br>  slop: 250<br>  minCoverage: 0<br>  maxCoverage: 200<br>  maxRegionLength: 100000<br>  minRepeatPeriod: 6<br>  minRepeatLength: 50<br>  functionalRegions: none<br>  genomeBuild: hg38<br>  overlappedFunctionalRegions: false<br>makeCalls: <br>  singleBaseMatchReward: 10<br>  singleBaseMismatchPenalty: 12<br>  gapOpenPenalties: 6,26<br>  gapExtensionPenalties: 1,0<br>  minUnitigMappingQuality: 1<br>filterCalls: <br>  maxIntraClusterDistance: 500<br>  minUnitigMappingQuality: 0<br>  minUnitigBlockLength: 15<br>  svtype: DEL<br>",
          "filterCalls.minSVSize: 500<br><br>makeRegions: <br>  slop: 250<br>  minCoverage: 0<br>  maxCoverage: 200<br>  maxRegionLength: 100000<br>  minRepeatPeriod: 6<br>  minRepeatLength: 50<br>  functionalRegions: none<br>  genomeBuild: hg38<br>  overlappedFunctionalRegions: false<br>makeCalls: <br>  singleBaseMatchReward: 10<br>  singleBaseMismatchPenalty: 12<br>  gapOpenPenalties: 6,26<br>  gapExtensionPenalties: 1,0<br>  minUnitigMappingQuality: 1<br>filterCalls: <br>  maxIntraClusterDistance: 500<br>  minUnitigMappingQuality: 0<br>  minUnitigBlockLength: 25<br>  svtype: DEL<br>",
          "filterCalls.minSVSize: 500<br><br>makeRegions: <br>  slop: 250<br>  minCoverage: 0<br>  maxCoverage: 200<br>  maxRegionLength: 100000<br>  minRepeatPeriod: 6<br>  minRepeatLength: 50<br>  functionalRegions: none<br>  genomeBuild: hg38<br>  overlappedFunctionalRegions: false<br>makeCalls: <br>  singleBaseMatchReward: 10<br>  singleBaseMismatchPenalty: 12<br>  gapOpenPenalties: 6,26<br>  gapExtensionPenalties: 1,0<br>  minUnitigMappingQuality: 1<br>filterCalls: <br>  maxIntraClusterDistance: 500<br>  minUnitigMappingQuality: 0<br>  minUnitigBlockLength: 40<br>  svtype: DEL<br>",
          "filterCalls.minSVSize: 50<br><br>makeRegions: <br>  slop: 250<br>  minCoverage: 0<br>  maxCoverage: 200<br>  maxRegionLength: 100000<br>  minRepeatPeriod: 6<br>  minRepeatLength: 0<br>  functionalRegions: none<br>  genomeBuild: hg38<br>  overlappedFunctionalRegions: false<br>makeCalls: <br>  singleBaseMatchReward: 10<br>  singleBaseMismatchPenalty: 12<br>  gapOpenPenalties: 6,26<br>  gapExtensionPenalties: 1,0<br>  minUnitigMappingQuality: 1<br>filterCalls: <br>  maxIntraClusterDistance: 500<br>  minUnitigMappingQuality: 0<br>  minUnitigBlockLength: 15<br>  svtype: DEL<br>",
          "filterCalls.minSVSize: 50<br><br>makeRegions: <br>  slop: 250<br>  minCoverage: 0<br>  maxCoverage: 200<br>  maxRegionLength: 100000<br>  minRepeatPeriod: 6<br>  minRepeatLength: 0<br>  functionalRegions: none<br>  genomeBuild: hg38<br>  overlappedFunctionalRegions: false<br>makeCalls: <br>  singleBaseMatchReward: 10<br>  singleBaseMismatchPenalty: 12<br>  gapOpenPenalties: 6,26<br>  gapExtensionPenalties: 1,0<br>  minUnitigMappingQuality: 1<br>filterCalls: <br>  maxIntraClusterDistance: 500<br>  minUnitigMappingQuality: 0<br>  minUnitigBlockLength: 25<br>  svtype: DEL<br>",
          "filterCalls.minSVSize: 50<br><br>makeRegions: <br>  slop: 250<br>  minCoverage: 0<br>  maxCoverage: 200<br>  maxRegionLength: 100000<br>  minRepeatPeriod: 6<br>  minRepeatLength: 0<br>  functionalRegions: none<br>  genomeBuild: hg38<br>  overlappedFunctionalRegions: false<br>makeCalls: <br>  singleBaseMatchReward: 10<br>  singleBaseMismatchPenalty: 12<br>  gapOpenPenalties: 6,26<br>  gapExtensionPenalties: 1,0<br>  minUnitigMappingQuality: 1<br>filterCalls: <br>  maxIntraClusterDistance: 500<br>  minUnitigMappingQuality: 0<br>  minUnitigBlockLength: 40<br>  svtype: DEL<br>",
          "filterCalls.minSVSize: 50<br><br>makeRegions: <br>  slop: 250<br>  minCoverage: 0<br>  maxCoverage: 200<br>  maxRegionLength: 100000<br>  minRepeatPeriod: 6<br>  minRepeatLength: 100<br>  functionalRegions: none<br>  genomeBuild: hg38<br>  overlappedFunctionalRegions: false<br>makeCalls: <br>  singleBaseMatchReward: 10<br>  singleBaseMismatchPenalty: 12<br>  gapOpenPenalties: 6,26<br>  gapExtensionPenalties: 1,0<br>  minUnitigMappingQuality: 1<br>filterCalls: <br>  maxIntraClusterDistance: 500<br>  minUnitigMappingQuality: 0<br>  minUnitigBlockLength: 15<br>  svtype: DEL<br>",
          "filterCalls.minSVSize: 50<br><br>makeRegions: <br>  slop: 250<br>  minCoverage: 0<br>  maxCoverage: 200<br>  maxRegionLength: 100000<br>  minRepeatPeriod: 6<br>  minRepeatLength: 100<br>  functionalRegions: none<br>  genomeBuild: hg38<br>  overlappedFunctionalRegions: false<br>makeCalls: <br>  singleBaseMatchReward: 10<br>  singleBaseMismatchPenalty: 12<br>  gapOpenPenalties: 6,26<br>  gapExtensionPenalties: 1,0<br>  minUnitigMappingQuality: 1<br>filterCalls: <br>  maxIntraClusterDistance: 500<br>  minUnitigMappingQuality: 0<br>  minUnitigBlockLength: 25<br>  svtype: DEL<br>",
          "filterCalls.minSVSize: 50<br><br>makeRegions: <br>  slop: 250<br>  minCoverage: 0<br>  maxCoverage: 200<br>  maxRegionLength: 100000<br>  minRepeatPeriod: 6<br>  minRepeatLength: 100<br>  functionalRegions: none<br>  genomeBuild: hg38<br>  overlappedFunctionalRegions: false<br>makeCalls: <br>  singleBaseMatchReward: 10<br>  singleBaseMismatchPenalty: 12<br>  gapOpenPenalties: 6,26<br>  gapExtensionPenalties: 1,0<br>  minUnitigMappingQuality: 1<br>filterCalls: <br>  maxIntraClusterDistance: 500<br>  minUnitigMappingQuality: 0<br>  minUnitigBlockLength: 40<br>  svtype: DEL<br>",
          "filterCalls.minSVSize: 50<br><br>makeRegions: <br>  slop: 250<br>  minCoverage: 0<br>  maxCoverage: 200<br>  maxRegionLength: 100000<br>  minRepeatPeriod: 6<br>  minRepeatLength: 50<br>  functionalRegions: none<br>  genomeBuild: hg38<br>  overlappedFunctionalRegions: false<br>makeCalls: <br>  singleBaseMatchReward: 10<br>  singleBaseMismatchPenalty: 12<br>  gapOpenPenalties: 6,26<br>  gapExtensionPenalties: 1,0<br>  minUnitigMappingQuality: 1<br>filterCalls: <br>  maxIntraClusterDistance: 500<br>  minUnitigMappingQuality: 0<br>  minUnitigBlockLength: 15<br>  svtype: DEL<br>",
          "filterCalls.minSVSize: 50<br><br>makeRegions: <br>  slop: 250<br>  minCoverage: 0<br>  maxCoverage: 200<br>  maxRegionLength: 100000<br>  minRepeatPeriod: 6<br>  minRepeatLength: 50<br>  functionalRegions: none<br>  genomeBuild: hg38<br>  overlappedFunctionalRegions: false<br>makeCalls: <br>  singleBaseMatchReward: 10<br>  singleBaseMismatchPenalty: 12<br>  gapOpenPenalties: 6,26<br>  gapExtensionPenalties: 1,0<br>  minUnitigMappingQuality: 1<br>filterCalls: <br>  maxIntraClusterDistance: 500<br>  minUnitigMappingQuality: 0<br>  minUnitigBlockLength: 25<br>  svtype: DEL<br>",
          "filterCalls.minSVSize: 50<br><br>makeRegions: <br>  slop: 250<br>  minCoverage: 0<br>  maxCoverage: 200<br>  maxRegionLength: 100000<br>  minRepeatPeriod: 6<br>  minRepeatLength: 50<br>  functionalRegions: none<br>  genomeBuild: hg38<br>  overlappedFunctionalRegions: false<br>makeCalls: <br>  singleBaseMatchReward: 10<br>  singleBaseMismatchPenalty: 12<br>  gapOpenPenalties: 6,26<br>  gapExtensionPenalties: 1,0<br>  minUnitigMappingQuality: 1<br>filterCalls: <br>  maxIntraClusterDistance: 500<br>  minUnitigMappingQuality: 0<br>  minUnitigBlockLength: 40<br>  svtype: DEL<br>"
         ],
         "type": "scatter",
         "x": [
          0.1629013079667063,
          0.1492271105826397,
          0.12901307966706302,
          0.16444701795020267,
          0.15460335842501446,
          0.12623045744064854,
          0.1655901350557839,
          0.15384615384615385,
          0.1315325895478567,
          0.04242424242424243,
          0.030303030303030304,
          0.04242424242424243,
          0.05325443786982249,
          0.029585798816568046,
          0.029585798816568046,
          0.047619047619047616,
          0.03571428571428571,
          0.02976190476190476,
          0.2050380785002929,
          0.18922085530169888,
          0.15846514352665494,
          0.21079691516709512,
          0.19480148528991717,
          0.16281062553556128,
          0.2071655590869691,
          0.19242993354521815,
          0.16324761629586826
         ],
         "y": [
          0.26421052631578945,
          0.34744525547445254,
          0.4579741379310345,
          0.25806451612903225,
          0.34764250527797325,
          0.44714587737843553,
          0.26528497409326424,
          0.3492176386913229,
          0.4654427645788337,
          0.15853658536585366,
          0.19607843137254902,
          0.28205128205128205,
          0.1744186046511628,
          0.22448979591836735,
          0.2564102564102564,
          0.16470588235294117,
          0.23076923076923078,
          0.23076923076923078,
          0.3876876112948359,
          0.46411483253588515,
          0.5525075010715816,
          0.3883738411425708,
          0.46274756365922665,
          0.5509513742071882,
          0.3903177004538578,
          0.46540880503144655,
          0.5565917761763459
         ]
        },
        {
         "marker": {
          "color": "blue",
          "size": 10,
          "symbol": "circle"
         },
         "mode": "markers",
         "name": "minSVSize=50",
         "type": "scatter",
         "y": [
          null
         ]
        },
        {
         "marker": {
          "color": "green",
          "size": 10,
          "symbol": "circle"
         },
         "mode": "markers",
         "name": "minSVSize=100",
         "type": "scatter",
         "y": [
          null
         ]
        },
        {
         "marker": {
          "color": "red",
          "size": 10,
          "symbol": "circle"
         },
         "mode": "markers",
         "name": "minSVSize=500",
         "type": "scatter",
         "y": [
          null
         ]
        }
       ],
       "layout": {
        "template": {
         "data": {
          "bar": [
           {
            "error_x": {
             "color": "#2a3f5f"
            },
            "error_y": {
             "color": "#2a3f5f"
            },
            "marker": {
             "line": {
              "color": "#E5ECF6",
              "width": 0.5
             }
            },
            "type": "bar"
           }
          ],
          "barpolar": [
           {
            "marker": {
             "line": {
              "color": "#E5ECF6",
              "width": 0.5
             }
            },
            "type": "barpolar"
           }
          ],
          "carpet": [
           {
            "aaxis": {
             "endlinecolor": "#2a3f5f",
             "gridcolor": "white",
             "linecolor": "white",
             "minorgridcolor": "white",
             "startlinecolor": "#2a3f5f"
            },
            "baxis": {
             "endlinecolor": "#2a3f5f",
             "gridcolor": "white",
             "linecolor": "white",
             "minorgridcolor": "white",
             "startlinecolor": "#2a3f5f"
            },
            "type": "carpet"
           }
          ],
          "choropleth": [
           {
            "colorbar": {
             "outlinewidth": 0,
             "ticks": ""
            },
            "type": "choropleth"
           }
          ],
          "contour": [
           {
            "colorbar": {
             "outlinewidth": 0,
             "ticks": ""
            },
            "colorscale": [
             [
              0,
              "#0d0887"
             ],
             [
              0.1111111111111111,
              "#46039f"
             ],
             [
              0.2222222222222222,
              "#7201a8"
             ],
             [
              0.3333333333333333,
              "#9c179e"
             ],
             [
              0.4444444444444444,
              "#bd3786"
             ],
             [
              0.5555555555555556,
              "#d8576b"
             ],
             [
              0.6666666666666666,
              "#ed7953"
             ],
             [
              0.7777777777777778,
              "#fb9f3a"
             ],
             [
              0.8888888888888888,
              "#fdca26"
             ],
             [
              1,
              "#f0f921"
             ]
            ],
            "type": "contour"
           }
          ],
          "contourcarpet": [
           {
            "colorbar": {
             "outlinewidth": 0,
             "ticks": ""
            },
            "type": "contourcarpet"
           }
          ],
          "heatmap": [
           {
            "colorbar": {
             "outlinewidth": 0,
             "ticks": ""
            },
            "colorscale": [
             [
              0,
              "#0d0887"
             ],
             [
              0.1111111111111111,
              "#46039f"
             ],
             [
              0.2222222222222222,
              "#7201a8"
             ],
             [
              0.3333333333333333,
              "#9c179e"
             ],
             [
              0.4444444444444444,
              "#bd3786"
             ],
             [
              0.5555555555555556,
              "#d8576b"
             ],
             [
              0.6666666666666666,
              "#ed7953"
             ],
             [
              0.7777777777777778,
              "#fb9f3a"
             ],
             [
              0.8888888888888888,
              "#fdca26"
             ],
             [
              1,
              "#f0f921"
             ]
            ],
            "type": "heatmap"
           }
          ],
          "heatmapgl": [
           {
            "colorbar": {
             "outlinewidth": 0,
             "ticks": ""
            },
            "colorscale": [
             [
              0,
              "#0d0887"
             ],
             [
              0.1111111111111111,
              "#46039f"
             ],
             [
              0.2222222222222222,
              "#7201a8"
             ],
             [
              0.3333333333333333,
              "#9c179e"
             ],
             [
              0.4444444444444444,
              "#bd3786"
             ],
             [
              0.5555555555555556,
              "#d8576b"
             ],
             [
              0.6666666666666666,
              "#ed7953"
             ],
             [
              0.7777777777777778,
              "#fb9f3a"
             ],
             [
              0.8888888888888888,
              "#fdca26"
             ],
             [
              1,
              "#f0f921"
             ]
            ],
            "type": "heatmapgl"
           }
          ],
          "histogram": [
           {
            "marker": {
             "colorbar": {
              "outlinewidth": 0,
              "ticks": ""
             }
            },
            "type": "histogram"
           }
          ],
          "histogram2d": [
           {
            "colorbar": {
             "outlinewidth": 0,
             "ticks": ""
            },
            "colorscale": [
             [
              0,
              "#0d0887"
             ],
             [
              0.1111111111111111,
              "#46039f"
             ],
             [
              0.2222222222222222,
              "#7201a8"
             ],
             [
              0.3333333333333333,
              "#9c179e"
             ],
             [
              0.4444444444444444,
              "#bd3786"
             ],
             [
              0.5555555555555556,
              "#d8576b"
             ],
             [
              0.6666666666666666,
              "#ed7953"
             ],
             [
              0.7777777777777778,
              "#fb9f3a"
             ],
             [
              0.8888888888888888,
              "#fdca26"
             ],
             [
              1,
              "#f0f921"
             ]
            ],
            "type": "histogram2d"
           }
          ],
          "histogram2dcontour": [
           {
            "colorbar": {
             "outlinewidth": 0,
             "ticks": ""
            },
            "colorscale": [
             [
              0,
              "#0d0887"
             ],
             [
              0.1111111111111111,
              "#46039f"
             ],
             [
              0.2222222222222222,
              "#7201a8"
             ],
             [
              0.3333333333333333,
              "#9c179e"
             ],
             [
              0.4444444444444444,
              "#bd3786"
             ],
             [
              0.5555555555555556,
              "#d8576b"
             ],
             [
              0.6666666666666666,
              "#ed7953"
             ],
             [
              0.7777777777777778,
              "#fb9f3a"
             ],
             [
              0.8888888888888888,
              "#fdca26"
             ],
             [
              1,
              "#f0f921"
             ]
            ],
            "type": "histogram2dcontour"
           }
          ],
          "mesh3d": [
           {
            "colorbar": {
             "outlinewidth": 0,
             "ticks": ""
            },
            "type": "mesh3d"
           }
          ],
          "parcoords": [
           {
            "line": {
             "colorbar": {
              "outlinewidth": 0,
              "ticks": ""
             }
            },
            "type": "parcoords"
           }
          ],
          "pie": [
           {
            "automargin": true,
            "type": "pie"
           }
          ],
          "scatter": [
           {
            "marker": {
             "colorbar": {
              "outlinewidth": 0,
              "ticks": ""
             }
            },
            "type": "scatter"
           }
          ],
          "scatter3d": [
           {
            "line": {
             "colorbar": {
              "outlinewidth": 0,
              "ticks": ""
             }
            },
            "marker": {
             "colorbar": {
              "outlinewidth": 0,
              "ticks": ""
             }
            },
            "type": "scatter3d"
           }
          ],
          "scattercarpet": [
           {
            "marker": {
             "colorbar": {
              "outlinewidth": 0,
              "ticks": ""
             }
            },
            "type": "scattercarpet"
           }
          ],
          "scattergeo": [
           {
            "marker": {
             "colorbar": {
              "outlinewidth": 0,
              "ticks": ""
             }
            },
            "type": "scattergeo"
           }
          ],
          "scattergl": [
           {
            "marker": {
             "colorbar": {
              "outlinewidth": 0,
              "ticks": ""
             }
            },
            "type": "scattergl"
           }
          ],
          "scattermapbox": [
           {
            "marker": {
             "colorbar": {
              "outlinewidth": 0,
              "ticks": ""
             }
            },
            "type": "scattermapbox"
           }
          ],
          "scatterpolar": [
           {
            "marker": {
             "colorbar": {
              "outlinewidth": 0,
              "ticks": ""
             }
            },
            "type": "scatterpolar"
           }
          ],
          "scatterpolargl": [
           {
            "marker": {
             "colorbar": {
              "outlinewidth": 0,
              "ticks": ""
             }
            },
            "type": "scatterpolargl"
           }
          ],
          "scatterternary": [
           {
            "marker": {
             "colorbar": {
              "outlinewidth": 0,
              "ticks": ""
             }
            },
            "type": "scatterternary"
           }
          ],
          "surface": [
           {
            "colorbar": {
             "outlinewidth": 0,
             "ticks": ""
            },
            "colorscale": [
             [
              0,
              "#0d0887"
             ],
             [
              0.1111111111111111,
              "#46039f"
             ],
             [
              0.2222222222222222,
              "#7201a8"
             ],
             [
              0.3333333333333333,
              "#9c179e"
             ],
             [
              0.4444444444444444,
              "#bd3786"
             ],
             [
              0.5555555555555556,
              "#d8576b"
             ],
             [
              0.6666666666666666,
              "#ed7953"
             ],
             [
              0.7777777777777778,
              "#fb9f3a"
             ],
             [
              0.8888888888888888,
              "#fdca26"
             ],
             [
              1,
              "#f0f921"
             ]
            ],
            "type": "surface"
           }
          ],
          "table": [
           {
            "cells": {
             "fill": {
              "color": "#EBF0F8"
             },
             "line": {
              "color": "white"
             }
            },
            "header": {
             "fill": {
              "color": "#C8D4E3"
             },
             "line": {
              "color": "white"
             }
            },
            "type": "table"
           }
          ]
         },
         "layout": {
          "annotationdefaults": {
           "arrowcolor": "#2a3f5f",
           "arrowhead": 0,
           "arrowwidth": 1
          },
          "autotypenumbers": "strict",
          "coloraxis": {
           "colorbar": {
            "outlinewidth": 0,
            "ticks": ""
           }
          },
          "colorscale": {
           "diverging": [
            [
             0,
             "#8e0152"
            ],
            [
             0.1,
             "#c51b7d"
            ],
            [
             0.2,
             "#de77ae"
            ],
            [
             0.3,
             "#f1b6da"
            ],
            [
             0.4,
             "#fde0ef"
            ],
            [
             0.5,
             "#f7f7f7"
            ],
            [
             0.6,
             "#e6f5d0"
            ],
            [
             0.7,
             "#b8e186"
            ],
            [
             0.8,
             "#7fbc41"
            ],
            [
             0.9,
             "#4d9221"
            ],
            [
             1,
             "#276419"
            ]
           ],
           "sequential": [
            [
             0,
             "#0d0887"
            ],
            [
             0.1111111111111111,
             "#46039f"
            ],
            [
             0.2222222222222222,
             "#7201a8"
            ],
            [
             0.3333333333333333,
             "#9c179e"
            ],
            [
             0.4444444444444444,
             "#bd3786"
            ],
            [
             0.5555555555555556,
             "#d8576b"
            ],
            [
             0.6666666666666666,
             "#ed7953"
            ],
            [
             0.7777777777777778,
             "#fb9f3a"
            ],
            [
             0.8888888888888888,
             "#fdca26"
            ],
            [
             1,
             "#f0f921"
            ]
           ],
           "sequentialminus": [
            [
             0,
             "#0d0887"
            ],
            [
             0.1111111111111111,
             "#46039f"
            ],
            [
             0.2222222222222222,
             "#7201a8"
            ],
            [
             0.3333333333333333,
             "#9c179e"
            ],
            [
             0.4444444444444444,
             "#bd3786"
            ],
            [
             0.5555555555555556,
             "#d8576b"
            ],
            [
             0.6666666666666666,
             "#ed7953"
            ],
            [
             0.7777777777777778,
             "#fb9f3a"
            ],
            [
             0.8888888888888888,
             "#fdca26"
            ],
            [
             1,
             "#f0f921"
            ]
           ]
          },
          "colorway": [
           "#636efa",
           "#EF553B",
           "#00cc96",
           "#ab63fa",
           "#FFA15A",
           "#19d3f3",
           "#FF6692",
           "#B6E880",
           "#FF97FF",
           "#FECB52"
          ],
          "font": {
           "color": "#2a3f5f"
          },
          "geo": {
           "bgcolor": "white",
           "lakecolor": "white",
           "landcolor": "#E5ECF6",
           "showlakes": true,
           "showland": true,
           "subunitcolor": "white"
          },
          "hoverlabel": {
           "align": "left"
          },
          "hovermode": "closest",
          "mapbox": {
           "style": "light"
          },
          "paper_bgcolor": "white",
          "plot_bgcolor": "#E5ECF6",
          "polar": {
           "angularaxis": {
            "gridcolor": "white",
            "linecolor": "white",
            "ticks": ""
           },
           "bgcolor": "#E5ECF6",
           "radialaxis": {
            "gridcolor": "white",
            "linecolor": "white",
            "ticks": ""
           }
          },
          "scene": {
           "xaxis": {
            "backgroundcolor": "#E5ECF6",
            "gridcolor": "white",
            "gridwidth": 2,
            "linecolor": "white",
            "showbackground": true,
            "ticks": "",
            "zerolinecolor": "white"
           },
           "yaxis": {
            "backgroundcolor": "#E5ECF6",
            "gridcolor": "white",
            "gridwidth": 2,
            "linecolor": "white",
            "showbackground": true,
            "ticks": "",
            "zerolinecolor": "white"
           },
           "zaxis": {
            "backgroundcolor": "#E5ECF6",
            "gridcolor": "white",
            "gridwidth": 2,
            "linecolor": "white",
            "showbackground": true,
            "ticks": "",
            "zerolinecolor": "white"
           }
          },
          "shapedefaults": {
           "line": {
            "color": "#2a3f5f"
           }
          },
          "ternary": {
           "aaxis": {
            "gridcolor": "white",
            "linecolor": "white",
            "ticks": ""
           },
           "baxis": {
            "gridcolor": "white",
            "linecolor": "white",
            "ticks": ""
           },
           "bgcolor": "#E5ECF6",
           "caxis": {
            "gridcolor": "white",
            "linecolor": "white",
            "ticks": ""
           }
          },
          "title": {
           "x": 0.05
          },
          "xaxis": {
           "automargin": true,
           "gridcolor": "white",
           "linecolor": "white",
           "ticks": "",
           "title": {
            "standoff": 15
           },
           "zerolinecolor": "white",
           "zerolinewidth": 2
          },
          "yaxis": {
           "automargin": true,
           "gridcolor": "white",
           "linecolor": "white",
           "ticks": "",
           "title": {
            "standoff": 15
           },
           "zerolinecolor": "white",
           "zerolinewidth": 2
          }
         }
        },
        "title": {
         "text": "minSVSize similarly influences trfermikit precision and<br>sensitivity to events missed by manta"
        },
        "xaxis": {
         "title": {
          "text": "fraction of manta FNs recovered by trfermikit"
         }
        },
        "yaxis": {
         "title": {
          "text": "trfermikit precision"
         }
        }
       }
      },
      "text/html": [
       "<div>                            <div id=\"ff6b6886-7441-42d7-adf4-5d86a0ca47e1\" class=\"plotly-graph-div\" style=\"height:525px; width:100%;\"></div>            <script type=\"text/javascript\">                require([\"plotly\"], function(Plotly) {                    window.PLOTLYENV=window.PLOTLYENV || {};                                    if (document.getElementById(\"ff6b6886-7441-42d7-adf4-5d86a0ca47e1\")) {                    Plotly.newPlot(                        \"ff6b6886-7441-42d7-adf4-5d86a0ca47e1\",                        [{\"hovertemplate\": \"%{text}\", \"marker\": {\"color\": [\"green\", \"green\", \"green\", \"green\", \"green\", \"green\", \"green\", \"green\", \"green\", \"red\", \"red\", \"red\", \"red\", \"red\", \"red\", \"red\", \"red\", \"red\", \"blue\", \"blue\", \"blue\", \"blue\", \"blue\", \"blue\", \"blue\", \"blue\", \"blue\"], \"line\": {\"color\": \"black\", \"width\": 1}, \"size\": 10, \"symbol\": \"circle\"}, \"mode\": \"markers\", \"showlegend\": false, \"text\": [\"filterCalls.minSVSize: 100<br><br>makeRegions: <br>  slop: 250<br>  minCoverage: 0<br>  maxCoverage: 200<br>  maxRegionLength: 100000<br>  minRepeatPeriod: 6<br>  minRepeatLength: 0<br>  functionalRegions: none<br>  genomeBuild: hg38<br>  overlappedFunctionalRegions: false<br>makeCalls: <br>  singleBaseMatchReward: 10<br>  singleBaseMismatchPenalty: 12<br>  gapOpenPenalties: 6,26<br>  gapExtensionPenalties: 1,0<br>  minUnitigMappingQuality: 1<br>filterCalls: <br>  maxIntraClusterDistance: 500<br>  minUnitigMappingQuality: 0<br>  minUnitigBlockLength: 15<br>  svtype: DEL<br>\", \"filterCalls.minSVSize: 100<br><br>makeRegions: <br>  slop: 250<br>  minCoverage: 0<br>  maxCoverage: 200<br>  maxRegionLength: 100000<br>  minRepeatPeriod: 6<br>  minRepeatLength: 0<br>  functionalRegions: none<br>  genomeBuild: hg38<br>  overlappedFunctionalRegions: false<br>makeCalls: <br>  singleBaseMatchReward: 10<br>  singleBaseMismatchPenalty: 12<br>  gapOpenPenalties: 6,26<br>  gapExtensionPenalties: 1,0<br>  minUnitigMappingQuality: 1<br>filterCalls: <br>  maxIntraClusterDistance: 500<br>  minUnitigMappingQuality: 0<br>  minUnitigBlockLength: 25<br>  svtype: DEL<br>\", \"filterCalls.minSVSize: 100<br><br>makeRegions: <br>  slop: 250<br>  minCoverage: 0<br>  maxCoverage: 200<br>  maxRegionLength: 100000<br>  minRepeatPeriod: 6<br>  minRepeatLength: 0<br>  functionalRegions: none<br>  genomeBuild: hg38<br>  overlappedFunctionalRegions: false<br>makeCalls: <br>  singleBaseMatchReward: 10<br>  singleBaseMismatchPenalty: 12<br>  gapOpenPenalties: 6,26<br>  gapExtensionPenalties: 1,0<br>  minUnitigMappingQuality: 1<br>filterCalls: <br>  maxIntraClusterDistance: 500<br>  minUnitigMappingQuality: 0<br>  minUnitigBlockLength: 40<br>  svtype: DEL<br>\", \"filterCalls.minSVSize: 100<br><br>makeRegions: <br>  slop: 250<br>  minCoverage: 0<br>  maxCoverage: 200<br>  maxRegionLength: 100000<br>  minRepeatPeriod: 6<br>  minRepeatLength: 100<br>  functionalRegions: none<br>  genomeBuild: hg38<br>  overlappedFunctionalRegions: false<br>makeCalls: <br>  singleBaseMatchReward: 10<br>  singleBaseMismatchPenalty: 12<br>  gapOpenPenalties: 6,26<br>  gapExtensionPenalties: 1,0<br>  minUnitigMappingQuality: 1<br>filterCalls: <br>  maxIntraClusterDistance: 500<br>  minUnitigMappingQuality: 0<br>  minUnitigBlockLength: 15<br>  svtype: DEL<br>\", \"filterCalls.minSVSize: 100<br><br>makeRegions: <br>  slop: 250<br>  minCoverage: 0<br>  maxCoverage: 200<br>  maxRegionLength: 100000<br>  minRepeatPeriod: 6<br>  minRepeatLength: 100<br>  functionalRegions: none<br>  genomeBuild: hg38<br>  overlappedFunctionalRegions: false<br>makeCalls: <br>  singleBaseMatchReward: 10<br>  singleBaseMismatchPenalty: 12<br>  gapOpenPenalties: 6,26<br>  gapExtensionPenalties: 1,0<br>  minUnitigMappingQuality: 1<br>filterCalls: <br>  maxIntraClusterDistance: 500<br>  minUnitigMappingQuality: 0<br>  minUnitigBlockLength: 25<br>  svtype: DEL<br>\", \"filterCalls.minSVSize: 100<br><br>makeRegions: <br>  slop: 250<br>  minCoverage: 0<br>  maxCoverage: 200<br>  maxRegionLength: 100000<br>  minRepeatPeriod: 6<br>  minRepeatLength: 100<br>  functionalRegions: none<br>  genomeBuild: hg38<br>  overlappedFunctionalRegions: false<br>makeCalls: <br>  singleBaseMatchReward: 10<br>  singleBaseMismatchPenalty: 12<br>  gapOpenPenalties: 6,26<br>  gapExtensionPenalties: 1,0<br>  minUnitigMappingQuality: 1<br>filterCalls: <br>  maxIntraClusterDistance: 500<br>  minUnitigMappingQuality: 0<br>  minUnitigBlockLength: 40<br>  svtype: DEL<br>\", \"filterCalls.minSVSize: 100<br><br>makeRegions: <br>  slop: 250<br>  minCoverage: 0<br>  maxCoverage: 200<br>  maxRegionLength: 100000<br>  minRepeatPeriod: 6<br>  minRepeatLength: 50<br>  functionalRegions: none<br>  genomeBuild: hg38<br>  overlappedFunctionalRegions: false<br>makeCalls: <br>  singleBaseMatchReward: 10<br>  singleBaseMismatchPenalty: 12<br>  gapOpenPenalties: 6,26<br>  gapExtensionPenalties: 1,0<br>  minUnitigMappingQuality: 1<br>filterCalls: <br>  maxIntraClusterDistance: 500<br>  minUnitigMappingQuality: 0<br>  minUnitigBlockLength: 15<br>  svtype: DEL<br>\", \"filterCalls.minSVSize: 100<br><br>makeRegions: <br>  slop: 250<br>  minCoverage: 0<br>  maxCoverage: 200<br>  maxRegionLength: 100000<br>  minRepeatPeriod: 6<br>  minRepeatLength: 50<br>  functionalRegions: none<br>  genomeBuild: hg38<br>  overlappedFunctionalRegions: false<br>makeCalls: <br>  singleBaseMatchReward: 10<br>  singleBaseMismatchPenalty: 12<br>  gapOpenPenalties: 6,26<br>  gapExtensionPenalties: 1,0<br>  minUnitigMappingQuality: 1<br>filterCalls: <br>  maxIntraClusterDistance: 500<br>  minUnitigMappingQuality: 0<br>  minUnitigBlockLength: 25<br>  svtype: DEL<br>\", \"filterCalls.minSVSize: 100<br><br>makeRegions: <br>  slop: 250<br>  minCoverage: 0<br>  maxCoverage: 200<br>  maxRegionLength: 100000<br>  minRepeatPeriod: 6<br>  minRepeatLength: 50<br>  functionalRegions: none<br>  genomeBuild: hg38<br>  overlappedFunctionalRegions: false<br>makeCalls: <br>  singleBaseMatchReward: 10<br>  singleBaseMismatchPenalty: 12<br>  gapOpenPenalties: 6,26<br>  gapExtensionPenalties: 1,0<br>  minUnitigMappingQuality: 1<br>filterCalls: <br>  maxIntraClusterDistance: 500<br>  minUnitigMappingQuality: 0<br>  minUnitigBlockLength: 40<br>  svtype: DEL<br>\", \"filterCalls.minSVSize: 500<br><br>makeRegions: <br>  slop: 250<br>  minCoverage: 0<br>  maxCoverage: 200<br>  maxRegionLength: 100000<br>  minRepeatPeriod: 6<br>  minRepeatLength: 0<br>  functionalRegions: none<br>  genomeBuild: hg38<br>  overlappedFunctionalRegions: false<br>makeCalls: <br>  singleBaseMatchReward: 10<br>  singleBaseMismatchPenalty: 12<br>  gapOpenPenalties: 6,26<br>  gapExtensionPenalties: 1,0<br>  minUnitigMappingQuality: 1<br>filterCalls: <br>  maxIntraClusterDistance: 500<br>  minUnitigMappingQuality: 0<br>  minUnitigBlockLength: 15<br>  svtype: DEL<br>\", \"filterCalls.minSVSize: 500<br><br>makeRegions: <br>  slop: 250<br>  minCoverage: 0<br>  maxCoverage: 200<br>  maxRegionLength: 100000<br>  minRepeatPeriod: 6<br>  minRepeatLength: 0<br>  functionalRegions: none<br>  genomeBuild: hg38<br>  overlappedFunctionalRegions: false<br>makeCalls: <br>  singleBaseMatchReward: 10<br>  singleBaseMismatchPenalty: 12<br>  gapOpenPenalties: 6,26<br>  gapExtensionPenalties: 1,0<br>  minUnitigMappingQuality: 1<br>filterCalls: <br>  maxIntraClusterDistance: 500<br>  minUnitigMappingQuality: 0<br>  minUnitigBlockLength: 25<br>  svtype: DEL<br>\", \"filterCalls.minSVSize: 500<br><br>makeRegions: <br>  slop: 250<br>  minCoverage: 0<br>  maxCoverage: 200<br>  maxRegionLength: 100000<br>  minRepeatPeriod: 6<br>  minRepeatLength: 0<br>  functionalRegions: none<br>  genomeBuild: hg38<br>  overlappedFunctionalRegions: false<br>makeCalls: <br>  singleBaseMatchReward: 10<br>  singleBaseMismatchPenalty: 12<br>  gapOpenPenalties: 6,26<br>  gapExtensionPenalties: 1,0<br>  minUnitigMappingQuality: 1<br>filterCalls: <br>  maxIntraClusterDistance: 500<br>  minUnitigMappingQuality: 0<br>  minUnitigBlockLength: 40<br>  svtype: DEL<br>\", \"filterCalls.minSVSize: 500<br><br>makeRegions: <br>  slop: 250<br>  minCoverage: 0<br>  maxCoverage: 200<br>  maxRegionLength: 100000<br>  minRepeatPeriod: 6<br>  minRepeatLength: 100<br>  functionalRegions: none<br>  genomeBuild: hg38<br>  overlappedFunctionalRegions: false<br>makeCalls: <br>  singleBaseMatchReward: 10<br>  singleBaseMismatchPenalty: 12<br>  gapOpenPenalties: 6,26<br>  gapExtensionPenalties: 1,0<br>  minUnitigMappingQuality: 1<br>filterCalls: <br>  maxIntraClusterDistance: 500<br>  minUnitigMappingQuality: 0<br>  minUnitigBlockLength: 15<br>  svtype: DEL<br>\", \"filterCalls.minSVSize: 500<br><br>makeRegions: <br>  slop: 250<br>  minCoverage: 0<br>  maxCoverage: 200<br>  maxRegionLength: 100000<br>  minRepeatPeriod: 6<br>  minRepeatLength: 100<br>  functionalRegions: none<br>  genomeBuild: hg38<br>  overlappedFunctionalRegions: false<br>makeCalls: <br>  singleBaseMatchReward: 10<br>  singleBaseMismatchPenalty: 12<br>  gapOpenPenalties: 6,26<br>  gapExtensionPenalties: 1,0<br>  minUnitigMappingQuality: 1<br>filterCalls: <br>  maxIntraClusterDistance: 500<br>  minUnitigMappingQuality: 0<br>  minUnitigBlockLength: 25<br>  svtype: DEL<br>\", \"filterCalls.minSVSize: 500<br><br>makeRegions: <br>  slop: 250<br>  minCoverage: 0<br>  maxCoverage: 200<br>  maxRegionLength: 100000<br>  minRepeatPeriod: 6<br>  minRepeatLength: 100<br>  functionalRegions: none<br>  genomeBuild: hg38<br>  overlappedFunctionalRegions: false<br>makeCalls: <br>  singleBaseMatchReward: 10<br>  singleBaseMismatchPenalty: 12<br>  gapOpenPenalties: 6,26<br>  gapExtensionPenalties: 1,0<br>  minUnitigMappingQuality: 1<br>filterCalls: <br>  maxIntraClusterDistance: 500<br>  minUnitigMappingQuality: 0<br>  minUnitigBlockLength: 40<br>  svtype: DEL<br>\", \"filterCalls.minSVSize: 500<br><br>makeRegions: <br>  slop: 250<br>  minCoverage: 0<br>  maxCoverage: 200<br>  maxRegionLength: 100000<br>  minRepeatPeriod: 6<br>  minRepeatLength: 50<br>  functionalRegions: none<br>  genomeBuild: hg38<br>  overlappedFunctionalRegions: false<br>makeCalls: <br>  singleBaseMatchReward: 10<br>  singleBaseMismatchPenalty: 12<br>  gapOpenPenalties: 6,26<br>  gapExtensionPenalties: 1,0<br>  minUnitigMappingQuality: 1<br>filterCalls: <br>  maxIntraClusterDistance: 500<br>  minUnitigMappingQuality: 0<br>  minUnitigBlockLength: 15<br>  svtype: DEL<br>\", \"filterCalls.minSVSize: 500<br><br>makeRegions: <br>  slop: 250<br>  minCoverage: 0<br>  maxCoverage: 200<br>  maxRegionLength: 100000<br>  minRepeatPeriod: 6<br>  minRepeatLength: 50<br>  functionalRegions: none<br>  genomeBuild: hg38<br>  overlappedFunctionalRegions: false<br>makeCalls: <br>  singleBaseMatchReward: 10<br>  singleBaseMismatchPenalty: 12<br>  gapOpenPenalties: 6,26<br>  gapExtensionPenalties: 1,0<br>  minUnitigMappingQuality: 1<br>filterCalls: <br>  maxIntraClusterDistance: 500<br>  minUnitigMappingQuality: 0<br>  minUnitigBlockLength: 25<br>  svtype: DEL<br>\", \"filterCalls.minSVSize: 500<br><br>makeRegions: <br>  slop: 250<br>  minCoverage: 0<br>  maxCoverage: 200<br>  maxRegionLength: 100000<br>  minRepeatPeriod: 6<br>  minRepeatLength: 50<br>  functionalRegions: none<br>  genomeBuild: hg38<br>  overlappedFunctionalRegions: false<br>makeCalls: <br>  singleBaseMatchReward: 10<br>  singleBaseMismatchPenalty: 12<br>  gapOpenPenalties: 6,26<br>  gapExtensionPenalties: 1,0<br>  minUnitigMappingQuality: 1<br>filterCalls: <br>  maxIntraClusterDistance: 500<br>  minUnitigMappingQuality: 0<br>  minUnitigBlockLength: 40<br>  svtype: DEL<br>\", \"filterCalls.minSVSize: 50<br><br>makeRegions: <br>  slop: 250<br>  minCoverage: 0<br>  maxCoverage: 200<br>  maxRegionLength: 100000<br>  minRepeatPeriod: 6<br>  minRepeatLength: 0<br>  functionalRegions: none<br>  genomeBuild: hg38<br>  overlappedFunctionalRegions: false<br>makeCalls: <br>  singleBaseMatchReward: 10<br>  singleBaseMismatchPenalty: 12<br>  gapOpenPenalties: 6,26<br>  gapExtensionPenalties: 1,0<br>  minUnitigMappingQuality: 1<br>filterCalls: <br>  maxIntraClusterDistance: 500<br>  minUnitigMappingQuality: 0<br>  minUnitigBlockLength: 15<br>  svtype: DEL<br>\", \"filterCalls.minSVSize: 50<br><br>makeRegions: <br>  slop: 250<br>  minCoverage: 0<br>  maxCoverage: 200<br>  maxRegionLength: 100000<br>  minRepeatPeriod: 6<br>  minRepeatLength: 0<br>  functionalRegions: none<br>  genomeBuild: hg38<br>  overlappedFunctionalRegions: false<br>makeCalls: <br>  singleBaseMatchReward: 10<br>  singleBaseMismatchPenalty: 12<br>  gapOpenPenalties: 6,26<br>  gapExtensionPenalties: 1,0<br>  minUnitigMappingQuality: 1<br>filterCalls: <br>  maxIntraClusterDistance: 500<br>  minUnitigMappingQuality: 0<br>  minUnitigBlockLength: 25<br>  svtype: DEL<br>\", \"filterCalls.minSVSize: 50<br><br>makeRegions: <br>  slop: 250<br>  minCoverage: 0<br>  maxCoverage: 200<br>  maxRegionLength: 100000<br>  minRepeatPeriod: 6<br>  minRepeatLength: 0<br>  functionalRegions: none<br>  genomeBuild: hg38<br>  overlappedFunctionalRegions: false<br>makeCalls: <br>  singleBaseMatchReward: 10<br>  singleBaseMismatchPenalty: 12<br>  gapOpenPenalties: 6,26<br>  gapExtensionPenalties: 1,0<br>  minUnitigMappingQuality: 1<br>filterCalls: <br>  maxIntraClusterDistance: 500<br>  minUnitigMappingQuality: 0<br>  minUnitigBlockLength: 40<br>  svtype: DEL<br>\", \"filterCalls.minSVSize: 50<br><br>makeRegions: <br>  slop: 250<br>  minCoverage: 0<br>  maxCoverage: 200<br>  maxRegionLength: 100000<br>  minRepeatPeriod: 6<br>  minRepeatLength: 100<br>  functionalRegions: none<br>  genomeBuild: hg38<br>  overlappedFunctionalRegions: false<br>makeCalls: <br>  singleBaseMatchReward: 10<br>  singleBaseMismatchPenalty: 12<br>  gapOpenPenalties: 6,26<br>  gapExtensionPenalties: 1,0<br>  minUnitigMappingQuality: 1<br>filterCalls: <br>  maxIntraClusterDistance: 500<br>  minUnitigMappingQuality: 0<br>  minUnitigBlockLength: 15<br>  svtype: DEL<br>\", \"filterCalls.minSVSize: 50<br><br>makeRegions: <br>  slop: 250<br>  minCoverage: 0<br>  maxCoverage: 200<br>  maxRegionLength: 100000<br>  minRepeatPeriod: 6<br>  minRepeatLength: 100<br>  functionalRegions: none<br>  genomeBuild: hg38<br>  overlappedFunctionalRegions: false<br>makeCalls: <br>  singleBaseMatchReward: 10<br>  singleBaseMismatchPenalty: 12<br>  gapOpenPenalties: 6,26<br>  gapExtensionPenalties: 1,0<br>  minUnitigMappingQuality: 1<br>filterCalls: <br>  maxIntraClusterDistance: 500<br>  minUnitigMappingQuality: 0<br>  minUnitigBlockLength: 25<br>  svtype: DEL<br>\", \"filterCalls.minSVSize: 50<br><br>makeRegions: <br>  slop: 250<br>  minCoverage: 0<br>  maxCoverage: 200<br>  maxRegionLength: 100000<br>  minRepeatPeriod: 6<br>  minRepeatLength: 100<br>  functionalRegions: none<br>  genomeBuild: hg38<br>  overlappedFunctionalRegions: false<br>makeCalls: <br>  singleBaseMatchReward: 10<br>  singleBaseMismatchPenalty: 12<br>  gapOpenPenalties: 6,26<br>  gapExtensionPenalties: 1,0<br>  minUnitigMappingQuality: 1<br>filterCalls: <br>  maxIntraClusterDistance: 500<br>  minUnitigMappingQuality: 0<br>  minUnitigBlockLength: 40<br>  svtype: DEL<br>\", \"filterCalls.minSVSize: 50<br><br>makeRegions: <br>  slop: 250<br>  minCoverage: 0<br>  maxCoverage: 200<br>  maxRegionLength: 100000<br>  minRepeatPeriod: 6<br>  minRepeatLength: 50<br>  functionalRegions: none<br>  genomeBuild: hg38<br>  overlappedFunctionalRegions: false<br>makeCalls: <br>  singleBaseMatchReward: 10<br>  singleBaseMismatchPenalty: 12<br>  gapOpenPenalties: 6,26<br>  gapExtensionPenalties: 1,0<br>  minUnitigMappingQuality: 1<br>filterCalls: <br>  maxIntraClusterDistance: 500<br>  minUnitigMappingQuality: 0<br>  minUnitigBlockLength: 15<br>  svtype: DEL<br>\", \"filterCalls.minSVSize: 50<br><br>makeRegions: <br>  slop: 250<br>  minCoverage: 0<br>  maxCoverage: 200<br>  maxRegionLength: 100000<br>  minRepeatPeriod: 6<br>  minRepeatLength: 50<br>  functionalRegions: none<br>  genomeBuild: hg38<br>  overlappedFunctionalRegions: false<br>makeCalls: <br>  singleBaseMatchReward: 10<br>  singleBaseMismatchPenalty: 12<br>  gapOpenPenalties: 6,26<br>  gapExtensionPenalties: 1,0<br>  minUnitigMappingQuality: 1<br>filterCalls: <br>  maxIntraClusterDistance: 500<br>  minUnitigMappingQuality: 0<br>  minUnitigBlockLength: 25<br>  svtype: DEL<br>\", \"filterCalls.minSVSize: 50<br><br>makeRegions: <br>  slop: 250<br>  minCoverage: 0<br>  maxCoverage: 200<br>  maxRegionLength: 100000<br>  minRepeatPeriod: 6<br>  minRepeatLength: 50<br>  functionalRegions: none<br>  genomeBuild: hg38<br>  overlappedFunctionalRegions: false<br>makeCalls: <br>  singleBaseMatchReward: 10<br>  singleBaseMismatchPenalty: 12<br>  gapOpenPenalties: 6,26<br>  gapExtensionPenalties: 1,0<br>  minUnitigMappingQuality: 1<br>filterCalls: <br>  maxIntraClusterDistance: 500<br>  minUnitigMappingQuality: 0<br>  minUnitigBlockLength: 40<br>  svtype: DEL<br>\"], \"type\": \"scatter\", \"x\": [0.1629013079667063, 0.1492271105826397, 0.12901307966706302, 0.16444701795020267, 0.15460335842501446, 0.12623045744064854, 0.1655901350557839, 0.15384615384615385, 0.1315325895478567, 0.04242424242424243, 0.030303030303030304, 0.04242424242424243, 0.05325443786982249, 0.029585798816568046, 0.029585798816568046, 0.047619047619047616, 0.03571428571428571, 0.02976190476190476, 0.2050380785002929, 0.18922085530169888, 0.15846514352665494, 0.21079691516709512, 0.19480148528991717, 0.16281062553556128, 0.2071655590869691, 0.19242993354521815, 0.16324761629586826], \"y\": [0.26421052631578945, 0.34744525547445254, 0.4579741379310345, 0.25806451612903225, 0.34764250527797325, 0.44714587737843553, 0.26528497409326424, 0.3492176386913229, 0.4654427645788337, 0.15853658536585366, 0.19607843137254902, 0.28205128205128205, 0.1744186046511628, 0.22448979591836735, 0.2564102564102564, 0.16470588235294117, 0.23076923076923078, 0.23076923076923078, 0.3876876112948359, 0.46411483253588515, 0.5525075010715816, 0.3883738411425708, 0.46274756365922665, 0.5509513742071882, 0.3903177004538578, 0.46540880503144655, 0.5565917761763459]}, {\"marker\": {\"color\": \"blue\", \"size\": 10, \"symbol\": \"circle\"}, \"mode\": \"markers\", \"name\": \"minSVSize=50\", \"type\": \"scatter\", \"y\": [null]}, {\"marker\": {\"color\": \"green\", \"size\": 10, \"symbol\": \"circle\"}, \"mode\": \"markers\", \"name\": \"minSVSize=100\", \"type\": \"scatter\", \"y\": [null]}, {\"marker\": {\"color\": \"red\", \"size\": 10, \"symbol\": \"circle\"}, \"mode\": \"markers\", \"name\": \"minSVSize=500\", \"type\": \"scatter\", \"y\": [null]}],                        {\"template\": {\"data\": {\"bar\": [{\"error_x\": {\"color\": \"#2a3f5f\"}, \"error_y\": {\"color\": \"#2a3f5f\"}, \"marker\": {\"line\": {\"color\": \"#E5ECF6\", \"width\": 0.5}}, \"type\": \"bar\"}], \"barpolar\": [{\"marker\": {\"line\": {\"color\": \"#E5ECF6\", \"width\": 0.5}}, \"type\": \"barpolar\"}], \"carpet\": [{\"aaxis\": {\"endlinecolor\": \"#2a3f5f\", \"gridcolor\": \"white\", \"linecolor\": \"white\", \"minorgridcolor\": \"white\", \"startlinecolor\": \"#2a3f5f\"}, \"baxis\": {\"endlinecolor\": \"#2a3f5f\", \"gridcolor\": \"white\", \"linecolor\": \"white\", \"minorgridcolor\": \"white\", \"startlinecolor\": \"#2a3f5f\"}, \"type\": \"carpet\"}], \"choropleth\": [{\"colorbar\": {\"outlinewidth\": 0, \"ticks\": \"\"}, \"type\": \"choropleth\"}], \"contour\": [{\"colorbar\": {\"outlinewidth\": 0, \"ticks\": \"\"}, \"colorscale\": [[0.0, \"#0d0887\"], [0.1111111111111111, \"#46039f\"], [0.2222222222222222, \"#7201a8\"], [0.3333333333333333, \"#9c179e\"], [0.4444444444444444, \"#bd3786\"], [0.5555555555555556, \"#d8576b\"], [0.6666666666666666, \"#ed7953\"], [0.7777777777777778, \"#fb9f3a\"], [0.8888888888888888, \"#fdca26\"], [1.0, \"#f0f921\"]], \"type\": \"contour\"}], \"contourcarpet\": [{\"colorbar\": {\"outlinewidth\": 0, \"ticks\": \"\"}, \"type\": \"contourcarpet\"}], \"heatmap\": [{\"colorbar\": {\"outlinewidth\": 0, \"ticks\": \"\"}, \"colorscale\": [[0.0, \"#0d0887\"], [0.1111111111111111, \"#46039f\"], [0.2222222222222222, \"#7201a8\"], [0.3333333333333333, \"#9c179e\"], [0.4444444444444444, \"#bd3786\"], [0.5555555555555556, \"#d8576b\"], [0.6666666666666666, \"#ed7953\"], [0.7777777777777778, \"#fb9f3a\"], [0.8888888888888888, \"#fdca26\"], [1.0, \"#f0f921\"]], \"type\": \"heatmap\"}], \"heatmapgl\": [{\"colorbar\": {\"outlinewidth\": 0, \"ticks\": \"\"}, \"colorscale\": [[0.0, \"#0d0887\"], [0.1111111111111111, \"#46039f\"], [0.2222222222222222, \"#7201a8\"], [0.3333333333333333, \"#9c179e\"], [0.4444444444444444, \"#bd3786\"], [0.5555555555555556, \"#d8576b\"], [0.6666666666666666, \"#ed7953\"], [0.7777777777777778, \"#fb9f3a\"], [0.8888888888888888, \"#fdca26\"], [1.0, \"#f0f921\"]], \"type\": \"heatmapgl\"}], \"histogram\": [{\"marker\": {\"colorbar\": {\"outlinewidth\": 0, \"ticks\": \"\"}}, \"type\": \"histogram\"}], \"histogram2d\": [{\"colorbar\": {\"outlinewidth\": 0, \"ticks\": \"\"}, \"colorscale\": [[0.0, \"#0d0887\"], [0.1111111111111111, \"#46039f\"], [0.2222222222222222, \"#7201a8\"], [0.3333333333333333, \"#9c179e\"], [0.4444444444444444, \"#bd3786\"], [0.5555555555555556, \"#d8576b\"], [0.6666666666666666, \"#ed7953\"], [0.7777777777777778, \"#fb9f3a\"], [0.8888888888888888, \"#fdca26\"], [1.0, \"#f0f921\"]], \"type\": \"histogram2d\"}], \"histogram2dcontour\": [{\"colorbar\": {\"outlinewidth\": 0, \"ticks\": \"\"}, \"colorscale\": [[0.0, \"#0d0887\"], [0.1111111111111111, \"#46039f\"], [0.2222222222222222, \"#7201a8\"], [0.3333333333333333, \"#9c179e\"], [0.4444444444444444, \"#bd3786\"], [0.5555555555555556, \"#d8576b\"], [0.6666666666666666, \"#ed7953\"], [0.7777777777777778, \"#fb9f3a\"], [0.8888888888888888, \"#fdca26\"], [1.0, \"#f0f921\"]], \"type\": \"histogram2dcontour\"}], \"mesh3d\": [{\"colorbar\": {\"outlinewidth\": 0, \"ticks\": \"\"}, \"type\": \"mesh3d\"}], \"parcoords\": [{\"line\": {\"colorbar\": {\"outlinewidth\": 0, \"ticks\": \"\"}}, \"type\": \"parcoords\"}], \"pie\": [{\"automargin\": true, \"type\": \"pie\"}], \"scatter\": [{\"marker\": {\"colorbar\": {\"outlinewidth\": 0, \"ticks\": \"\"}}, \"type\": \"scatter\"}], \"scatter3d\": [{\"line\": {\"colorbar\": {\"outlinewidth\": 0, \"ticks\": \"\"}}, \"marker\": {\"colorbar\": {\"outlinewidth\": 0, \"ticks\": \"\"}}, \"type\": \"scatter3d\"}], \"scattercarpet\": [{\"marker\": {\"colorbar\": {\"outlinewidth\": 0, \"ticks\": \"\"}}, \"type\": \"scattercarpet\"}], \"scattergeo\": [{\"marker\": {\"colorbar\": {\"outlinewidth\": 0, \"ticks\": \"\"}}, \"type\": \"scattergeo\"}], \"scattergl\": [{\"marker\": {\"colorbar\": {\"outlinewidth\": 0, \"ticks\": \"\"}}, \"type\": \"scattergl\"}], \"scattermapbox\": [{\"marker\": {\"colorbar\": {\"outlinewidth\": 0, \"ticks\": \"\"}}, \"type\": \"scattermapbox\"}], \"scatterpolar\": [{\"marker\": {\"colorbar\": {\"outlinewidth\": 0, \"ticks\": \"\"}}, \"type\": \"scatterpolar\"}], \"scatterpolargl\": [{\"marker\": {\"colorbar\": {\"outlinewidth\": 0, \"ticks\": \"\"}}, \"type\": \"scatterpolargl\"}], \"scatterternary\": [{\"marker\": {\"colorbar\": {\"outlinewidth\": 0, \"ticks\": \"\"}}, \"type\": \"scatterternary\"}], \"surface\": [{\"colorbar\": {\"outlinewidth\": 0, \"ticks\": \"\"}, \"colorscale\": [[0.0, \"#0d0887\"], [0.1111111111111111, \"#46039f\"], [0.2222222222222222, \"#7201a8\"], [0.3333333333333333, \"#9c179e\"], [0.4444444444444444, \"#bd3786\"], [0.5555555555555556, \"#d8576b\"], [0.6666666666666666, \"#ed7953\"], [0.7777777777777778, \"#fb9f3a\"], [0.8888888888888888, \"#fdca26\"], [1.0, \"#f0f921\"]], \"type\": \"surface\"}], \"table\": [{\"cells\": {\"fill\": {\"color\": \"#EBF0F8\"}, \"line\": {\"color\": \"white\"}}, \"header\": {\"fill\": {\"color\": \"#C8D4E3\"}, \"line\": {\"color\": \"white\"}}, \"type\": \"table\"}]}, \"layout\": {\"annotationdefaults\": {\"arrowcolor\": \"#2a3f5f\", \"arrowhead\": 0, \"arrowwidth\": 1}, \"autotypenumbers\": \"strict\", \"coloraxis\": {\"colorbar\": {\"outlinewidth\": 0, \"ticks\": \"\"}}, \"colorscale\": {\"diverging\": [[0, \"#8e0152\"], [0.1, \"#c51b7d\"], [0.2, \"#de77ae\"], [0.3, \"#f1b6da\"], [0.4, \"#fde0ef\"], [0.5, \"#f7f7f7\"], [0.6, \"#e6f5d0\"], [0.7, \"#b8e186\"], [0.8, \"#7fbc41\"], [0.9, \"#4d9221\"], [1, \"#276419\"]], \"sequential\": [[0.0, \"#0d0887\"], [0.1111111111111111, \"#46039f\"], [0.2222222222222222, \"#7201a8\"], [0.3333333333333333, \"#9c179e\"], [0.4444444444444444, \"#bd3786\"], [0.5555555555555556, \"#d8576b\"], [0.6666666666666666, \"#ed7953\"], [0.7777777777777778, \"#fb9f3a\"], [0.8888888888888888, \"#fdca26\"], [1.0, \"#f0f921\"]], \"sequentialminus\": [[0.0, \"#0d0887\"], [0.1111111111111111, \"#46039f\"], [0.2222222222222222, \"#7201a8\"], [0.3333333333333333, \"#9c179e\"], [0.4444444444444444, \"#bd3786\"], [0.5555555555555556, \"#d8576b\"], [0.6666666666666666, \"#ed7953\"], [0.7777777777777778, \"#fb9f3a\"], [0.8888888888888888, \"#fdca26\"], [1.0, \"#f0f921\"]]}, \"colorway\": [\"#636efa\", \"#EF553B\", \"#00cc96\", \"#ab63fa\", \"#FFA15A\", \"#19d3f3\", \"#FF6692\", \"#B6E880\", \"#FF97FF\", \"#FECB52\"], \"font\": {\"color\": \"#2a3f5f\"}, \"geo\": {\"bgcolor\": \"white\", \"lakecolor\": \"white\", \"landcolor\": \"#E5ECF6\", \"showlakes\": true, \"showland\": true, \"subunitcolor\": \"white\"}, \"hoverlabel\": {\"align\": \"left\"}, \"hovermode\": \"closest\", \"mapbox\": {\"style\": \"light\"}, \"paper_bgcolor\": \"white\", \"plot_bgcolor\": \"#E5ECF6\", \"polar\": {\"angularaxis\": {\"gridcolor\": \"white\", \"linecolor\": \"white\", \"ticks\": \"\"}, \"bgcolor\": \"#E5ECF6\", \"radialaxis\": {\"gridcolor\": \"white\", \"linecolor\": \"white\", \"ticks\": \"\"}}, \"scene\": {\"xaxis\": {\"backgroundcolor\": \"#E5ECF6\", \"gridcolor\": \"white\", \"gridwidth\": 2, \"linecolor\": \"white\", \"showbackground\": true, \"ticks\": \"\", \"zerolinecolor\": \"white\"}, \"yaxis\": {\"backgroundcolor\": \"#E5ECF6\", \"gridcolor\": \"white\", \"gridwidth\": 2, \"linecolor\": \"white\", \"showbackground\": true, \"ticks\": \"\", \"zerolinecolor\": \"white\"}, \"zaxis\": {\"backgroundcolor\": \"#E5ECF6\", \"gridcolor\": \"white\", \"gridwidth\": 2, \"linecolor\": \"white\", \"showbackground\": true, \"ticks\": \"\", \"zerolinecolor\": \"white\"}}, \"shapedefaults\": {\"line\": {\"color\": \"#2a3f5f\"}}, \"ternary\": {\"aaxis\": {\"gridcolor\": \"white\", \"linecolor\": \"white\", \"ticks\": \"\"}, \"baxis\": {\"gridcolor\": \"white\", \"linecolor\": \"white\", \"ticks\": \"\"}, \"bgcolor\": \"#E5ECF6\", \"caxis\": {\"gridcolor\": \"white\", \"linecolor\": \"white\", \"ticks\": \"\"}}, \"title\": {\"x\": 0.05}, \"xaxis\": {\"automargin\": true, \"gridcolor\": \"white\", \"linecolor\": \"white\", \"ticks\": \"\", \"title\": {\"standoff\": 15}, \"zerolinecolor\": \"white\", \"zerolinewidth\": 2}, \"yaxis\": {\"automargin\": true, \"gridcolor\": \"white\", \"linecolor\": \"white\", \"ticks\": \"\", \"title\": {\"standoff\": 15}, \"zerolinecolor\": \"white\", \"zerolinewidth\": 2}}}, \"title\": {\"text\": \"minSVSize similarly influences trfermikit precision and<br>sensitivity to events missed by manta\"}, \"xaxis\": {\"title\": {\"text\": \"fraction of manta FNs recovered by trfermikit\"}}, \"yaxis\": {\"title\": {\"text\": \"trfermikit precision\"}}},                        {\"responsive\": true}                    ).then(function(){\n",
       "                            \n",
       "var gd = document.getElementById('ff6b6886-7441-42d7-adf4-5d86a0ca47e1');\n",
       "var x = new MutationObserver(function (mutations, observer) {{\n",
       "        var display = window.getComputedStyle(gd).display;\n",
       "        if (!display || display === 'none') {{\n",
       "            console.log([gd, 'removed!']);\n",
       "            Plotly.purge(gd);\n",
       "            observer.disconnect();\n",
       "        }}\n",
       "}});\n",
       "\n",
       "// Listen for the removal of the full notebook cells\n",
       "var notebookContainer = gd.closest('#notebook-container');\n",
       "if (notebookContainer) {{\n",
       "    x.observe(notebookContainer, {childList: true});\n",
       "}}\n",
       "\n",
       "// Listen for the clearing of the current output cell\n",
       "var outputEl = gd.closest('.output');\n",
       "if (outputEl) {{\n",
       "    x.observe(outputEl, {childList: true});\n",
       "}}\n",
       "\n",
       "                        })                };                });            </script>        </div>"
      ]
     },
     "metadata": {},
     "output_type": "display_data"
    },
    {
     "data": {
      "application/vnd.plotly.v1+json": {
       "config": {
        "plotlyServerURL": "https://plot.ly"
       },
       "data": [
        {
         "hovertemplate": "%{text}",
         "marker": {
          "color": [
           "green",
           "red",
           "blue",
           "green",
           "red",
           "blue",
           "green",
           "red",
           "blue",
           "green",
           "red",
           "blue",
           "green",
           "red",
           "blue",
           "green",
           "red",
           "blue",
           "green",
           "red",
           "blue",
           "green",
           "red",
           "blue",
           "green",
           "red",
           "blue"
          ],
          "line": {
           "color": "black",
           "width": 1
          },
          "size": 10,
          "symbol": "circle"
         },
         "mode": "markers",
         "showlegend": false,
         "text": [
          "filterCalls.minUnitigBlockLength: 15<br><br>makeRegions: <br>  slop: 250<br>  minCoverage: 0<br>  maxCoverage: 200<br>  maxRegionLength: 100000<br>  minRepeatPeriod: 6<br>  minRepeatLength: 0<br>  functionalRegions: none<br>  genomeBuild: hg38<br>  overlappedFunctionalRegions: false<br>makeCalls: <br>  singleBaseMatchReward: 10<br>  singleBaseMismatchPenalty: 12<br>  gapOpenPenalties: 6,26<br>  gapExtensionPenalties: 1,0<br>  minUnitigMappingQuality: 1<br>filterCalls: <br>  maxIntraClusterDistance: 500<br>  minSVSize: 100<br>  minUnitigMappingQuality: 0<br>  svtype: DEL<br>",
          "filterCalls.minUnitigBlockLength: 25<br><br>makeRegions: <br>  slop: 250<br>  minCoverage: 0<br>  maxCoverage: 200<br>  maxRegionLength: 100000<br>  minRepeatPeriod: 6<br>  minRepeatLength: 0<br>  functionalRegions: none<br>  genomeBuild: hg38<br>  overlappedFunctionalRegions: false<br>makeCalls: <br>  singleBaseMatchReward: 10<br>  singleBaseMismatchPenalty: 12<br>  gapOpenPenalties: 6,26<br>  gapExtensionPenalties: 1,0<br>  minUnitigMappingQuality: 1<br>filterCalls: <br>  maxIntraClusterDistance: 500<br>  minSVSize: 100<br>  minUnitigMappingQuality: 0<br>  svtype: DEL<br>",
          "filterCalls.minUnitigBlockLength: 40<br><br>makeRegions: <br>  slop: 250<br>  minCoverage: 0<br>  maxCoverage: 200<br>  maxRegionLength: 100000<br>  minRepeatPeriod: 6<br>  minRepeatLength: 0<br>  functionalRegions: none<br>  genomeBuild: hg38<br>  overlappedFunctionalRegions: false<br>makeCalls: <br>  singleBaseMatchReward: 10<br>  singleBaseMismatchPenalty: 12<br>  gapOpenPenalties: 6,26<br>  gapExtensionPenalties: 1,0<br>  minUnitigMappingQuality: 1<br>filterCalls: <br>  maxIntraClusterDistance: 500<br>  minSVSize: 100<br>  minUnitigMappingQuality: 0<br>  svtype: DEL<br>",
          "filterCalls.minUnitigBlockLength: 15<br><br>makeRegions: <br>  slop: 250<br>  minCoverage: 0<br>  maxCoverage: 200<br>  maxRegionLength: 100000<br>  minRepeatPeriod: 6<br>  minRepeatLength: 100<br>  functionalRegions: none<br>  genomeBuild: hg38<br>  overlappedFunctionalRegions: false<br>makeCalls: <br>  singleBaseMatchReward: 10<br>  singleBaseMismatchPenalty: 12<br>  gapOpenPenalties: 6,26<br>  gapExtensionPenalties: 1,0<br>  minUnitigMappingQuality: 1<br>filterCalls: <br>  maxIntraClusterDistance: 500<br>  minSVSize: 100<br>  minUnitigMappingQuality: 0<br>  svtype: DEL<br>",
          "filterCalls.minUnitigBlockLength: 25<br><br>makeRegions: <br>  slop: 250<br>  minCoverage: 0<br>  maxCoverage: 200<br>  maxRegionLength: 100000<br>  minRepeatPeriod: 6<br>  minRepeatLength: 100<br>  functionalRegions: none<br>  genomeBuild: hg38<br>  overlappedFunctionalRegions: false<br>makeCalls: <br>  singleBaseMatchReward: 10<br>  singleBaseMismatchPenalty: 12<br>  gapOpenPenalties: 6,26<br>  gapExtensionPenalties: 1,0<br>  minUnitigMappingQuality: 1<br>filterCalls: <br>  maxIntraClusterDistance: 500<br>  minSVSize: 100<br>  minUnitigMappingQuality: 0<br>  svtype: DEL<br>",
          "filterCalls.minUnitigBlockLength: 40<br><br>makeRegions: <br>  slop: 250<br>  minCoverage: 0<br>  maxCoverage: 200<br>  maxRegionLength: 100000<br>  minRepeatPeriod: 6<br>  minRepeatLength: 100<br>  functionalRegions: none<br>  genomeBuild: hg38<br>  overlappedFunctionalRegions: false<br>makeCalls: <br>  singleBaseMatchReward: 10<br>  singleBaseMismatchPenalty: 12<br>  gapOpenPenalties: 6,26<br>  gapExtensionPenalties: 1,0<br>  minUnitigMappingQuality: 1<br>filterCalls: <br>  maxIntraClusterDistance: 500<br>  minSVSize: 100<br>  minUnitigMappingQuality: 0<br>  svtype: DEL<br>",
          "filterCalls.minUnitigBlockLength: 15<br><br>makeRegions: <br>  slop: 250<br>  minCoverage: 0<br>  maxCoverage: 200<br>  maxRegionLength: 100000<br>  minRepeatPeriod: 6<br>  minRepeatLength: 50<br>  functionalRegions: none<br>  genomeBuild: hg38<br>  overlappedFunctionalRegions: false<br>makeCalls: <br>  singleBaseMatchReward: 10<br>  singleBaseMismatchPenalty: 12<br>  gapOpenPenalties: 6,26<br>  gapExtensionPenalties: 1,0<br>  minUnitigMappingQuality: 1<br>filterCalls: <br>  maxIntraClusterDistance: 500<br>  minSVSize: 100<br>  minUnitigMappingQuality: 0<br>  svtype: DEL<br>",
          "filterCalls.minUnitigBlockLength: 25<br><br>makeRegions: <br>  slop: 250<br>  minCoverage: 0<br>  maxCoverage: 200<br>  maxRegionLength: 100000<br>  minRepeatPeriod: 6<br>  minRepeatLength: 50<br>  functionalRegions: none<br>  genomeBuild: hg38<br>  overlappedFunctionalRegions: false<br>makeCalls: <br>  singleBaseMatchReward: 10<br>  singleBaseMismatchPenalty: 12<br>  gapOpenPenalties: 6,26<br>  gapExtensionPenalties: 1,0<br>  minUnitigMappingQuality: 1<br>filterCalls: <br>  maxIntraClusterDistance: 500<br>  minSVSize: 100<br>  minUnitigMappingQuality: 0<br>  svtype: DEL<br>",
          "filterCalls.minUnitigBlockLength: 40<br><br>makeRegions: <br>  slop: 250<br>  minCoverage: 0<br>  maxCoverage: 200<br>  maxRegionLength: 100000<br>  minRepeatPeriod: 6<br>  minRepeatLength: 50<br>  functionalRegions: none<br>  genomeBuild: hg38<br>  overlappedFunctionalRegions: false<br>makeCalls: <br>  singleBaseMatchReward: 10<br>  singleBaseMismatchPenalty: 12<br>  gapOpenPenalties: 6,26<br>  gapExtensionPenalties: 1,0<br>  minUnitigMappingQuality: 1<br>filterCalls: <br>  maxIntraClusterDistance: 500<br>  minSVSize: 100<br>  minUnitigMappingQuality: 0<br>  svtype: DEL<br>",
          "filterCalls.minUnitigBlockLength: 15<br><br>makeRegions: <br>  slop: 250<br>  minCoverage: 0<br>  maxCoverage: 200<br>  maxRegionLength: 100000<br>  minRepeatPeriod: 6<br>  minRepeatLength: 0<br>  functionalRegions: none<br>  genomeBuild: hg38<br>  overlappedFunctionalRegions: false<br>makeCalls: <br>  singleBaseMatchReward: 10<br>  singleBaseMismatchPenalty: 12<br>  gapOpenPenalties: 6,26<br>  gapExtensionPenalties: 1,0<br>  minUnitigMappingQuality: 1<br>filterCalls: <br>  maxIntraClusterDistance: 500<br>  minSVSize: 500<br>  minUnitigMappingQuality: 0<br>  svtype: DEL<br>",
          "filterCalls.minUnitigBlockLength: 25<br><br>makeRegions: <br>  slop: 250<br>  minCoverage: 0<br>  maxCoverage: 200<br>  maxRegionLength: 100000<br>  minRepeatPeriod: 6<br>  minRepeatLength: 0<br>  functionalRegions: none<br>  genomeBuild: hg38<br>  overlappedFunctionalRegions: false<br>makeCalls: <br>  singleBaseMatchReward: 10<br>  singleBaseMismatchPenalty: 12<br>  gapOpenPenalties: 6,26<br>  gapExtensionPenalties: 1,0<br>  minUnitigMappingQuality: 1<br>filterCalls: <br>  maxIntraClusterDistance: 500<br>  minSVSize: 500<br>  minUnitigMappingQuality: 0<br>  svtype: DEL<br>",
          "filterCalls.minUnitigBlockLength: 40<br><br>makeRegions: <br>  slop: 250<br>  minCoverage: 0<br>  maxCoverage: 200<br>  maxRegionLength: 100000<br>  minRepeatPeriod: 6<br>  minRepeatLength: 0<br>  functionalRegions: none<br>  genomeBuild: hg38<br>  overlappedFunctionalRegions: false<br>makeCalls: <br>  singleBaseMatchReward: 10<br>  singleBaseMismatchPenalty: 12<br>  gapOpenPenalties: 6,26<br>  gapExtensionPenalties: 1,0<br>  minUnitigMappingQuality: 1<br>filterCalls: <br>  maxIntraClusterDistance: 500<br>  minSVSize: 500<br>  minUnitigMappingQuality: 0<br>  svtype: DEL<br>",
          "filterCalls.minUnitigBlockLength: 15<br><br>makeRegions: <br>  slop: 250<br>  minCoverage: 0<br>  maxCoverage: 200<br>  maxRegionLength: 100000<br>  minRepeatPeriod: 6<br>  minRepeatLength: 100<br>  functionalRegions: none<br>  genomeBuild: hg38<br>  overlappedFunctionalRegions: false<br>makeCalls: <br>  singleBaseMatchReward: 10<br>  singleBaseMismatchPenalty: 12<br>  gapOpenPenalties: 6,26<br>  gapExtensionPenalties: 1,0<br>  minUnitigMappingQuality: 1<br>filterCalls: <br>  maxIntraClusterDistance: 500<br>  minSVSize: 500<br>  minUnitigMappingQuality: 0<br>  svtype: DEL<br>",
          "filterCalls.minUnitigBlockLength: 25<br><br>makeRegions: <br>  slop: 250<br>  minCoverage: 0<br>  maxCoverage: 200<br>  maxRegionLength: 100000<br>  minRepeatPeriod: 6<br>  minRepeatLength: 100<br>  functionalRegions: none<br>  genomeBuild: hg38<br>  overlappedFunctionalRegions: false<br>makeCalls: <br>  singleBaseMatchReward: 10<br>  singleBaseMismatchPenalty: 12<br>  gapOpenPenalties: 6,26<br>  gapExtensionPenalties: 1,0<br>  minUnitigMappingQuality: 1<br>filterCalls: <br>  maxIntraClusterDistance: 500<br>  minSVSize: 500<br>  minUnitigMappingQuality: 0<br>  svtype: DEL<br>",
          "filterCalls.minUnitigBlockLength: 40<br><br>makeRegions: <br>  slop: 250<br>  minCoverage: 0<br>  maxCoverage: 200<br>  maxRegionLength: 100000<br>  minRepeatPeriod: 6<br>  minRepeatLength: 100<br>  functionalRegions: none<br>  genomeBuild: hg38<br>  overlappedFunctionalRegions: false<br>makeCalls: <br>  singleBaseMatchReward: 10<br>  singleBaseMismatchPenalty: 12<br>  gapOpenPenalties: 6,26<br>  gapExtensionPenalties: 1,0<br>  minUnitigMappingQuality: 1<br>filterCalls: <br>  maxIntraClusterDistance: 500<br>  minSVSize: 500<br>  minUnitigMappingQuality: 0<br>  svtype: DEL<br>",
          "filterCalls.minUnitigBlockLength: 15<br><br>makeRegions: <br>  slop: 250<br>  minCoverage: 0<br>  maxCoverage: 200<br>  maxRegionLength: 100000<br>  minRepeatPeriod: 6<br>  minRepeatLength: 50<br>  functionalRegions: none<br>  genomeBuild: hg38<br>  overlappedFunctionalRegions: false<br>makeCalls: <br>  singleBaseMatchReward: 10<br>  singleBaseMismatchPenalty: 12<br>  gapOpenPenalties: 6,26<br>  gapExtensionPenalties: 1,0<br>  minUnitigMappingQuality: 1<br>filterCalls: <br>  maxIntraClusterDistance: 500<br>  minSVSize: 500<br>  minUnitigMappingQuality: 0<br>  svtype: DEL<br>",
          "filterCalls.minUnitigBlockLength: 25<br><br>makeRegions: <br>  slop: 250<br>  minCoverage: 0<br>  maxCoverage: 200<br>  maxRegionLength: 100000<br>  minRepeatPeriod: 6<br>  minRepeatLength: 50<br>  functionalRegions: none<br>  genomeBuild: hg38<br>  overlappedFunctionalRegions: false<br>makeCalls: <br>  singleBaseMatchReward: 10<br>  singleBaseMismatchPenalty: 12<br>  gapOpenPenalties: 6,26<br>  gapExtensionPenalties: 1,0<br>  minUnitigMappingQuality: 1<br>filterCalls: <br>  maxIntraClusterDistance: 500<br>  minSVSize: 500<br>  minUnitigMappingQuality: 0<br>  svtype: DEL<br>",
          "filterCalls.minUnitigBlockLength: 40<br><br>makeRegions: <br>  slop: 250<br>  minCoverage: 0<br>  maxCoverage: 200<br>  maxRegionLength: 100000<br>  minRepeatPeriod: 6<br>  minRepeatLength: 50<br>  functionalRegions: none<br>  genomeBuild: hg38<br>  overlappedFunctionalRegions: false<br>makeCalls: <br>  singleBaseMatchReward: 10<br>  singleBaseMismatchPenalty: 12<br>  gapOpenPenalties: 6,26<br>  gapExtensionPenalties: 1,0<br>  minUnitigMappingQuality: 1<br>filterCalls: <br>  maxIntraClusterDistance: 500<br>  minSVSize: 500<br>  minUnitigMappingQuality: 0<br>  svtype: DEL<br>",
          "filterCalls.minUnitigBlockLength: 15<br><br>makeRegions: <br>  slop: 250<br>  minCoverage: 0<br>  maxCoverage: 200<br>  maxRegionLength: 100000<br>  minRepeatPeriod: 6<br>  minRepeatLength: 0<br>  functionalRegions: none<br>  genomeBuild: hg38<br>  overlappedFunctionalRegions: false<br>makeCalls: <br>  singleBaseMatchReward: 10<br>  singleBaseMismatchPenalty: 12<br>  gapOpenPenalties: 6,26<br>  gapExtensionPenalties: 1,0<br>  minUnitigMappingQuality: 1<br>filterCalls: <br>  maxIntraClusterDistance: 500<br>  minSVSize: 50<br>  minUnitigMappingQuality: 0<br>  svtype: DEL<br>",
          "filterCalls.minUnitigBlockLength: 25<br><br>makeRegions: <br>  slop: 250<br>  minCoverage: 0<br>  maxCoverage: 200<br>  maxRegionLength: 100000<br>  minRepeatPeriod: 6<br>  minRepeatLength: 0<br>  functionalRegions: none<br>  genomeBuild: hg38<br>  overlappedFunctionalRegions: false<br>makeCalls: <br>  singleBaseMatchReward: 10<br>  singleBaseMismatchPenalty: 12<br>  gapOpenPenalties: 6,26<br>  gapExtensionPenalties: 1,0<br>  minUnitigMappingQuality: 1<br>filterCalls: <br>  maxIntraClusterDistance: 500<br>  minSVSize: 50<br>  minUnitigMappingQuality: 0<br>  svtype: DEL<br>",
          "filterCalls.minUnitigBlockLength: 40<br><br>makeRegions: <br>  slop: 250<br>  minCoverage: 0<br>  maxCoverage: 200<br>  maxRegionLength: 100000<br>  minRepeatPeriod: 6<br>  minRepeatLength: 0<br>  functionalRegions: none<br>  genomeBuild: hg38<br>  overlappedFunctionalRegions: false<br>makeCalls: <br>  singleBaseMatchReward: 10<br>  singleBaseMismatchPenalty: 12<br>  gapOpenPenalties: 6,26<br>  gapExtensionPenalties: 1,0<br>  minUnitigMappingQuality: 1<br>filterCalls: <br>  maxIntraClusterDistance: 500<br>  minSVSize: 50<br>  minUnitigMappingQuality: 0<br>  svtype: DEL<br>",
          "filterCalls.minUnitigBlockLength: 15<br><br>makeRegions: <br>  slop: 250<br>  minCoverage: 0<br>  maxCoverage: 200<br>  maxRegionLength: 100000<br>  minRepeatPeriod: 6<br>  minRepeatLength: 100<br>  functionalRegions: none<br>  genomeBuild: hg38<br>  overlappedFunctionalRegions: false<br>makeCalls: <br>  singleBaseMatchReward: 10<br>  singleBaseMismatchPenalty: 12<br>  gapOpenPenalties: 6,26<br>  gapExtensionPenalties: 1,0<br>  minUnitigMappingQuality: 1<br>filterCalls: <br>  maxIntraClusterDistance: 500<br>  minSVSize: 50<br>  minUnitigMappingQuality: 0<br>  svtype: DEL<br>",
          "filterCalls.minUnitigBlockLength: 25<br><br>makeRegions: <br>  slop: 250<br>  minCoverage: 0<br>  maxCoverage: 200<br>  maxRegionLength: 100000<br>  minRepeatPeriod: 6<br>  minRepeatLength: 100<br>  functionalRegions: none<br>  genomeBuild: hg38<br>  overlappedFunctionalRegions: false<br>makeCalls: <br>  singleBaseMatchReward: 10<br>  singleBaseMismatchPenalty: 12<br>  gapOpenPenalties: 6,26<br>  gapExtensionPenalties: 1,0<br>  minUnitigMappingQuality: 1<br>filterCalls: <br>  maxIntraClusterDistance: 500<br>  minSVSize: 50<br>  minUnitigMappingQuality: 0<br>  svtype: DEL<br>",
          "filterCalls.minUnitigBlockLength: 40<br><br>makeRegions: <br>  slop: 250<br>  minCoverage: 0<br>  maxCoverage: 200<br>  maxRegionLength: 100000<br>  minRepeatPeriod: 6<br>  minRepeatLength: 100<br>  functionalRegions: none<br>  genomeBuild: hg38<br>  overlappedFunctionalRegions: false<br>makeCalls: <br>  singleBaseMatchReward: 10<br>  singleBaseMismatchPenalty: 12<br>  gapOpenPenalties: 6,26<br>  gapExtensionPenalties: 1,0<br>  minUnitigMappingQuality: 1<br>filterCalls: <br>  maxIntraClusterDistance: 500<br>  minSVSize: 50<br>  minUnitigMappingQuality: 0<br>  svtype: DEL<br>",
          "filterCalls.minUnitigBlockLength: 15<br><br>makeRegions: <br>  slop: 250<br>  minCoverage: 0<br>  maxCoverage: 200<br>  maxRegionLength: 100000<br>  minRepeatPeriod: 6<br>  minRepeatLength: 50<br>  functionalRegions: none<br>  genomeBuild: hg38<br>  overlappedFunctionalRegions: false<br>makeCalls: <br>  singleBaseMatchReward: 10<br>  singleBaseMismatchPenalty: 12<br>  gapOpenPenalties: 6,26<br>  gapExtensionPenalties: 1,0<br>  minUnitigMappingQuality: 1<br>filterCalls: <br>  maxIntraClusterDistance: 500<br>  minSVSize: 50<br>  minUnitigMappingQuality: 0<br>  svtype: DEL<br>",
          "filterCalls.minUnitigBlockLength: 25<br><br>makeRegions: <br>  slop: 250<br>  minCoverage: 0<br>  maxCoverage: 200<br>  maxRegionLength: 100000<br>  minRepeatPeriod: 6<br>  minRepeatLength: 50<br>  functionalRegions: none<br>  genomeBuild: hg38<br>  overlappedFunctionalRegions: false<br>makeCalls: <br>  singleBaseMatchReward: 10<br>  singleBaseMismatchPenalty: 12<br>  gapOpenPenalties: 6,26<br>  gapExtensionPenalties: 1,0<br>  minUnitigMappingQuality: 1<br>filterCalls: <br>  maxIntraClusterDistance: 500<br>  minSVSize: 50<br>  minUnitigMappingQuality: 0<br>  svtype: DEL<br>",
          "filterCalls.minUnitigBlockLength: 40<br><br>makeRegions: <br>  slop: 250<br>  minCoverage: 0<br>  maxCoverage: 200<br>  maxRegionLength: 100000<br>  minRepeatPeriod: 6<br>  minRepeatLength: 50<br>  functionalRegions: none<br>  genomeBuild: hg38<br>  overlappedFunctionalRegions: false<br>makeCalls: <br>  singleBaseMatchReward: 10<br>  singleBaseMismatchPenalty: 12<br>  gapOpenPenalties: 6,26<br>  gapExtensionPenalties: 1,0<br>  minUnitigMappingQuality: 1<br>filterCalls: <br>  maxIntraClusterDistance: 500<br>  minSVSize: 50<br>  minUnitigMappingQuality: 0<br>  svtype: DEL<br>"
         ],
         "type": "scatter",
         "x": [
          0.1629013079667063,
          0.1492271105826397,
          0.12901307966706302,
          0.16444701795020267,
          0.15460335842501446,
          0.12623045744064854,
          0.1655901350557839,
          0.15384615384615385,
          0.1315325895478567,
          0.04242424242424243,
          0.030303030303030304,
          0.04242424242424243,
          0.05325443786982249,
          0.029585798816568046,
          0.029585798816568046,
          0.047619047619047616,
          0.03571428571428571,
          0.02976190476190476,
          0.2050380785002929,
          0.18922085530169888,
          0.15846514352665494,
          0.21079691516709512,
          0.19480148528991717,
          0.16281062553556128,
          0.2071655590869691,
          0.19242993354521815,
          0.16324761629586826
         ],
         "y": [
          0.26421052631578945,
          0.34744525547445254,
          0.4579741379310345,
          0.25806451612903225,
          0.34764250527797325,
          0.44714587737843553,
          0.26528497409326424,
          0.3492176386913229,
          0.4654427645788337,
          0.15853658536585366,
          0.19607843137254902,
          0.28205128205128205,
          0.1744186046511628,
          0.22448979591836735,
          0.2564102564102564,
          0.16470588235294117,
          0.23076923076923078,
          0.23076923076923078,
          0.3876876112948359,
          0.46411483253588515,
          0.5525075010715816,
          0.3883738411425708,
          0.46274756365922665,
          0.5509513742071882,
          0.3903177004538578,
          0.46540880503144655,
          0.5565917761763459
         ]
        },
        {
         "marker": {
          "color": "green",
          "size": 10,
          "symbol": "circle"
         },
         "mode": "markers",
         "name": "minUnitigBlockLength=15",
         "type": "scatter",
         "y": [
          null
         ]
        },
        {
         "marker": {
          "color": "red",
          "size": 10,
          "symbol": "circle"
         },
         "mode": "markers",
         "name": "minUnitigBlockLength=25",
         "type": "scatter",
         "y": [
          null
         ]
        },
        {
         "marker": {
          "color": "blue",
          "size": 10,
          "symbol": "circle"
         },
         "mode": "markers",
         "name": "minUnitigBlockLength=40",
         "type": "scatter",
         "y": [
          null
         ]
        }
       ],
       "layout": {
        "template": {
         "data": {
          "bar": [
           {
            "error_x": {
             "color": "#2a3f5f"
            },
            "error_y": {
             "color": "#2a3f5f"
            },
            "marker": {
             "line": {
              "color": "#E5ECF6",
              "width": 0.5
             }
            },
            "type": "bar"
           }
          ],
          "barpolar": [
           {
            "marker": {
             "line": {
              "color": "#E5ECF6",
              "width": 0.5
             }
            },
            "type": "barpolar"
           }
          ],
          "carpet": [
           {
            "aaxis": {
             "endlinecolor": "#2a3f5f",
             "gridcolor": "white",
             "linecolor": "white",
             "minorgridcolor": "white",
             "startlinecolor": "#2a3f5f"
            },
            "baxis": {
             "endlinecolor": "#2a3f5f",
             "gridcolor": "white",
             "linecolor": "white",
             "minorgridcolor": "white",
             "startlinecolor": "#2a3f5f"
            },
            "type": "carpet"
           }
          ],
          "choropleth": [
           {
            "colorbar": {
             "outlinewidth": 0,
             "ticks": ""
            },
            "type": "choropleth"
           }
          ],
          "contour": [
           {
            "colorbar": {
             "outlinewidth": 0,
             "ticks": ""
            },
            "colorscale": [
             [
              0,
              "#0d0887"
             ],
             [
              0.1111111111111111,
              "#46039f"
             ],
             [
              0.2222222222222222,
              "#7201a8"
             ],
             [
              0.3333333333333333,
              "#9c179e"
             ],
             [
              0.4444444444444444,
              "#bd3786"
             ],
             [
              0.5555555555555556,
              "#d8576b"
             ],
             [
              0.6666666666666666,
              "#ed7953"
             ],
             [
              0.7777777777777778,
              "#fb9f3a"
             ],
             [
              0.8888888888888888,
              "#fdca26"
             ],
             [
              1,
              "#f0f921"
             ]
            ],
            "type": "contour"
           }
          ],
          "contourcarpet": [
           {
            "colorbar": {
             "outlinewidth": 0,
             "ticks": ""
            },
            "type": "contourcarpet"
           }
          ],
          "heatmap": [
           {
            "colorbar": {
             "outlinewidth": 0,
             "ticks": ""
            },
            "colorscale": [
             [
              0,
              "#0d0887"
             ],
             [
              0.1111111111111111,
              "#46039f"
             ],
             [
              0.2222222222222222,
              "#7201a8"
             ],
             [
              0.3333333333333333,
              "#9c179e"
             ],
             [
              0.4444444444444444,
              "#bd3786"
             ],
             [
              0.5555555555555556,
              "#d8576b"
             ],
             [
              0.6666666666666666,
              "#ed7953"
             ],
             [
              0.7777777777777778,
              "#fb9f3a"
             ],
             [
              0.8888888888888888,
              "#fdca26"
             ],
             [
              1,
              "#f0f921"
             ]
            ],
            "type": "heatmap"
           }
          ],
          "heatmapgl": [
           {
            "colorbar": {
             "outlinewidth": 0,
             "ticks": ""
            },
            "colorscale": [
             [
              0,
              "#0d0887"
             ],
             [
              0.1111111111111111,
              "#46039f"
             ],
             [
              0.2222222222222222,
              "#7201a8"
             ],
             [
              0.3333333333333333,
              "#9c179e"
             ],
             [
              0.4444444444444444,
              "#bd3786"
             ],
             [
              0.5555555555555556,
              "#d8576b"
             ],
             [
              0.6666666666666666,
              "#ed7953"
             ],
             [
              0.7777777777777778,
              "#fb9f3a"
             ],
             [
              0.8888888888888888,
              "#fdca26"
             ],
             [
              1,
              "#f0f921"
             ]
            ],
            "type": "heatmapgl"
           }
          ],
          "histogram": [
           {
            "marker": {
             "colorbar": {
              "outlinewidth": 0,
              "ticks": ""
             }
            },
            "type": "histogram"
           }
          ],
          "histogram2d": [
           {
            "colorbar": {
             "outlinewidth": 0,
             "ticks": ""
            },
            "colorscale": [
             [
              0,
              "#0d0887"
             ],
             [
              0.1111111111111111,
              "#46039f"
             ],
             [
              0.2222222222222222,
              "#7201a8"
             ],
             [
              0.3333333333333333,
              "#9c179e"
             ],
             [
              0.4444444444444444,
              "#bd3786"
             ],
             [
              0.5555555555555556,
              "#d8576b"
             ],
             [
              0.6666666666666666,
              "#ed7953"
             ],
             [
              0.7777777777777778,
              "#fb9f3a"
             ],
             [
              0.8888888888888888,
              "#fdca26"
             ],
             [
              1,
              "#f0f921"
             ]
            ],
            "type": "histogram2d"
           }
          ],
          "histogram2dcontour": [
           {
            "colorbar": {
             "outlinewidth": 0,
             "ticks": ""
            },
            "colorscale": [
             [
              0,
              "#0d0887"
             ],
             [
              0.1111111111111111,
              "#46039f"
             ],
             [
              0.2222222222222222,
              "#7201a8"
             ],
             [
              0.3333333333333333,
              "#9c179e"
             ],
             [
              0.4444444444444444,
              "#bd3786"
             ],
             [
              0.5555555555555556,
              "#d8576b"
             ],
             [
              0.6666666666666666,
              "#ed7953"
             ],
             [
              0.7777777777777778,
              "#fb9f3a"
             ],
             [
              0.8888888888888888,
              "#fdca26"
             ],
             [
              1,
              "#f0f921"
             ]
            ],
            "type": "histogram2dcontour"
           }
          ],
          "mesh3d": [
           {
            "colorbar": {
             "outlinewidth": 0,
             "ticks": ""
            },
            "type": "mesh3d"
           }
          ],
          "parcoords": [
           {
            "line": {
             "colorbar": {
              "outlinewidth": 0,
              "ticks": ""
             }
            },
            "type": "parcoords"
           }
          ],
          "pie": [
           {
            "automargin": true,
            "type": "pie"
           }
          ],
          "scatter": [
           {
            "marker": {
             "colorbar": {
              "outlinewidth": 0,
              "ticks": ""
             }
            },
            "type": "scatter"
           }
          ],
          "scatter3d": [
           {
            "line": {
             "colorbar": {
              "outlinewidth": 0,
              "ticks": ""
             }
            },
            "marker": {
             "colorbar": {
              "outlinewidth": 0,
              "ticks": ""
             }
            },
            "type": "scatter3d"
           }
          ],
          "scattercarpet": [
           {
            "marker": {
             "colorbar": {
              "outlinewidth": 0,
              "ticks": ""
             }
            },
            "type": "scattercarpet"
           }
          ],
          "scattergeo": [
           {
            "marker": {
             "colorbar": {
              "outlinewidth": 0,
              "ticks": ""
             }
            },
            "type": "scattergeo"
           }
          ],
          "scattergl": [
           {
            "marker": {
             "colorbar": {
              "outlinewidth": 0,
              "ticks": ""
             }
            },
            "type": "scattergl"
           }
          ],
          "scattermapbox": [
           {
            "marker": {
             "colorbar": {
              "outlinewidth": 0,
              "ticks": ""
             }
            },
            "type": "scattermapbox"
           }
          ],
          "scatterpolar": [
           {
            "marker": {
             "colorbar": {
              "outlinewidth": 0,
              "ticks": ""
             }
            },
            "type": "scatterpolar"
           }
          ],
          "scatterpolargl": [
           {
            "marker": {
             "colorbar": {
              "outlinewidth": 0,
              "ticks": ""
             }
            },
            "type": "scatterpolargl"
           }
          ],
          "scatterternary": [
           {
            "marker": {
             "colorbar": {
              "outlinewidth": 0,
              "ticks": ""
             }
            },
            "type": "scatterternary"
           }
          ],
          "surface": [
           {
            "colorbar": {
             "outlinewidth": 0,
             "ticks": ""
            },
            "colorscale": [
             [
              0,
              "#0d0887"
             ],
             [
              0.1111111111111111,
              "#46039f"
             ],
             [
              0.2222222222222222,
              "#7201a8"
             ],
             [
              0.3333333333333333,
              "#9c179e"
             ],
             [
              0.4444444444444444,
              "#bd3786"
             ],
             [
              0.5555555555555556,
              "#d8576b"
             ],
             [
              0.6666666666666666,
              "#ed7953"
             ],
             [
              0.7777777777777778,
              "#fb9f3a"
             ],
             [
              0.8888888888888888,
              "#fdca26"
             ],
             [
              1,
              "#f0f921"
             ]
            ],
            "type": "surface"
           }
          ],
          "table": [
           {
            "cells": {
             "fill": {
              "color": "#EBF0F8"
             },
             "line": {
              "color": "white"
             }
            },
            "header": {
             "fill": {
              "color": "#C8D4E3"
             },
             "line": {
              "color": "white"
             }
            },
            "type": "table"
           }
          ]
         },
         "layout": {
          "annotationdefaults": {
           "arrowcolor": "#2a3f5f",
           "arrowhead": 0,
           "arrowwidth": 1
          },
          "autotypenumbers": "strict",
          "coloraxis": {
           "colorbar": {
            "outlinewidth": 0,
            "ticks": ""
           }
          },
          "colorscale": {
           "diverging": [
            [
             0,
             "#8e0152"
            ],
            [
             0.1,
             "#c51b7d"
            ],
            [
             0.2,
             "#de77ae"
            ],
            [
             0.3,
             "#f1b6da"
            ],
            [
             0.4,
             "#fde0ef"
            ],
            [
             0.5,
             "#f7f7f7"
            ],
            [
             0.6,
             "#e6f5d0"
            ],
            [
             0.7,
             "#b8e186"
            ],
            [
             0.8,
             "#7fbc41"
            ],
            [
             0.9,
             "#4d9221"
            ],
            [
             1,
             "#276419"
            ]
           ],
           "sequential": [
            [
             0,
             "#0d0887"
            ],
            [
             0.1111111111111111,
             "#46039f"
            ],
            [
             0.2222222222222222,
             "#7201a8"
            ],
            [
             0.3333333333333333,
             "#9c179e"
            ],
            [
             0.4444444444444444,
             "#bd3786"
            ],
            [
             0.5555555555555556,
             "#d8576b"
            ],
            [
             0.6666666666666666,
             "#ed7953"
            ],
            [
             0.7777777777777778,
             "#fb9f3a"
            ],
            [
             0.8888888888888888,
             "#fdca26"
            ],
            [
             1,
             "#f0f921"
            ]
           ],
           "sequentialminus": [
            [
             0,
             "#0d0887"
            ],
            [
             0.1111111111111111,
             "#46039f"
            ],
            [
             0.2222222222222222,
             "#7201a8"
            ],
            [
             0.3333333333333333,
             "#9c179e"
            ],
            [
             0.4444444444444444,
             "#bd3786"
            ],
            [
             0.5555555555555556,
             "#d8576b"
            ],
            [
             0.6666666666666666,
             "#ed7953"
            ],
            [
             0.7777777777777778,
             "#fb9f3a"
            ],
            [
             0.8888888888888888,
             "#fdca26"
            ],
            [
             1,
             "#f0f921"
            ]
           ]
          },
          "colorway": [
           "#636efa",
           "#EF553B",
           "#00cc96",
           "#ab63fa",
           "#FFA15A",
           "#19d3f3",
           "#FF6692",
           "#B6E880",
           "#FF97FF",
           "#FECB52"
          ],
          "font": {
           "color": "#2a3f5f"
          },
          "geo": {
           "bgcolor": "white",
           "lakecolor": "white",
           "landcolor": "#E5ECF6",
           "showlakes": true,
           "showland": true,
           "subunitcolor": "white"
          },
          "hoverlabel": {
           "align": "left"
          },
          "hovermode": "closest",
          "mapbox": {
           "style": "light"
          },
          "paper_bgcolor": "white",
          "plot_bgcolor": "#E5ECF6",
          "polar": {
           "angularaxis": {
            "gridcolor": "white",
            "linecolor": "white",
            "ticks": ""
           },
           "bgcolor": "#E5ECF6",
           "radialaxis": {
            "gridcolor": "white",
            "linecolor": "white",
            "ticks": ""
           }
          },
          "scene": {
           "xaxis": {
            "backgroundcolor": "#E5ECF6",
            "gridcolor": "white",
            "gridwidth": 2,
            "linecolor": "white",
            "showbackground": true,
            "ticks": "",
            "zerolinecolor": "white"
           },
           "yaxis": {
            "backgroundcolor": "#E5ECF6",
            "gridcolor": "white",
            "gridwidth": 2,
            "linecolor": "white",
            "showbackground": true,
            "ticks": "",
            "zerolinecolor": "white"
           },
           "zaxis": {
            "backgroundcolor": "#E5ECF6",
            "gridcolor": "white",
            "gridwidth": 2,
            "linecolor": "white",
            "showbackground": true,
            "ticks": "",
            "zerolinecolor": "white"
           }
          },
          "shapedefaults": {
           "line": {
            "color": "#2a3f5f"
           }
          },
          "ternary": {
           "aaxis": {
            "gridcolor": "white",
            "linecolor": "white",
            "ticks": ""
           },
           "baxis": {
            "gridcolor": "white",
            "linecolor": "white",
            "ticks": ""
           },
           "bgcolor": "#E5ECF6",
           "caxis": {
            "gridcolor": "white",
            "linecolor": "white",
            "ticks": ""
           }
          },
          "title": {
           "x": 0.05
          },
          "xaxis": {
           "automargin": true,
           "gridcolor": "white",
           "linecolor": "white",
           "ticks": "",
           "title": {
            "standoff": 15
           },
           "zerolinecolor": "white",
           "zerolinewidth": 2
          },
          "yaxis": {
           "automargin": true,
           "gridcolor": "white",
           "linecolor": "white",
           "ticks": "",
           "title": {
            "standoff": 15
           },
           "zerolinecolor": "white",
           "zerolinewidth": 2
          }
         }
        },
        "title": {
         "text": "minUnitigBlockLength controls the trade-off between trfermikit precision<br>and its sensitivity to events missed by manta"
        },
        "xaxis": {
         "title": {
          "text": "fraction of manta FNs recovered by trfermikit"
         }
        },
        "yaxis": {
         "title": {
          "text": "trfermikit precision"
         }
        }
       }
      },
      "text/html": [
       "<div>                            <div id=\"bb9cf13e-5aa7-45fd-b1b4-cf5f51395f66\" class=\"plotly-graph-div\" style=\"height:525px; width:100%;\"></div>            <script type=\"text/javascript\">                require([\"plotly\"], function(Plotly) {                    window.PLOTLYENV=window.PLOTLYENV || {};                                    if (document.getElementById(\"bb9cf13e-5aa7-45fd-b1b4-cf5f51395f66\")) {                    Plotly.newPlot(                        \"bb9cf13e-5aa7-45fd-b1b4-cf5f51395f66\",                        [{\"hovertemplate\": \"%{text}\", \"marker\": {\"color\": [\"green\", \"red\", \"blue\", \"green\", \"red\", \"blue\", \"green\", \"red\", \"blue\", \"green\", \"red\", \"blue\", \"green\", \"red\", \"blue\", \"green\", \"red\", \"blue\", \"green\", \"red\", \"blue\", \"green\", \"red\", \"blue\", \"green\", \"red\", \"blue\"], \"line\": {\"color\": \"black\", \"width\": 1}, \"size\": 10, \"symbol\": \"circle\"}, \"mode\": \"markers\", \"showlegend\": false, \"text\": [\"filterCalls.minUnitigBlockLength: 15<br><br>makeRegions: <br>  slop: 250<br>  minCoverage: 0<br>  maxCoverage: 200<br>  maxRegionLength: 100000<br>  minRepeatPeriod: 6<br>  minRepeatLength: 0<br>  functionalRegions: none<br>  genomeBuild: hg38<br>  overlappedFunctionalRegions: false<br>makeCalls: <br>  singleBaseMatchReward: 10<br>  singleBaseMismatchPenalty: 12<br>  gapOpenPenalties: 6,26<br>  gapExtensionPenalties: 1,0<br>  minUnitigMappingQuality: 1<br>filterCalls: <br>  maxIntraClusterDistance: 500<br>  minSVSize: 100<br>  minUnitigMappingQuality: 0<br>  svtype: DEL<br>\", \"filterCalls.minUnitigBlockLength: 25<br><br>makeRegions: <br>  slop: 250<br>  minCoverage: 0<br>  maxCoverage: 200<br>  maxRegionLength: 100000<br>  minRepeatPeriod: 6<br>  minRepeatLength: 0<br>  functionalRegions: none<br>  genomeBuild: hg38<br>  overlappedFunctionalRegions: false<br>makeCalls: <br>  singleBaseMatchReward: 10<br>  singleBaseMismatchPenalty: 12<br>  gapOpenPenalties: 6,26<br>  gapExtensionPenalties: 1,0<br>  minUnitigMappingQuality: 1<br>filterCalls: <br>  maxIntraClusterDistance: 500<br>  minSVSize: 100<br>  minUnitigMappingQuality: 0<br>  svtype: DEL<br>\", \"filterCalls.minUnitigBlockLength: 40<br><br>makeRegions: <br>  slop: 250<br>  minCoverage: 0<br>  maxCoverage: 200<br>  maxRegionLength: 100000<br>  minRepeatPeriod: 6<br>  minRepeatLength: 0<br>  functionalRegions: none<br>  genomeBuild: hg38<br>  overlappedFunctionalRegions: false<br>makeCalls: <br>  singleBaseMatchReward: 10<br>  singleBaseMismatchPenalty: 12<br>  gapOpenPenalties: 6,26<br>  gapExtensionPenalties: 1,0<br>  minUnitigMappingQuality: 1<br>filterCalls: <br>  maxIntraClusterDistance: 500<br>  minSVSize: 100<br>  minUnitigMappingQuality: 0<br>  svtype: DEL<br>\", \"filterCalls.minUnitigBlockLength: 15<br><br>makeRegions: <br>  slop: 250<br>  minCoverage: 0<br>  maxCoverage: 200<br>  maxRegionLength: 100000<br>  minRepeatPeriod: 6<br>  minRepeatLength: 100<br>  functionalRegions: none<br>  genomeBuild: hg38<br>  overlappedFunctionalRegions: false<br>makeCalls: <br>  singleBaseMatchReward: 10<br>  singleBaseMismatchPenalty: 12<br>  gapOpenPenalties: 6,26<br>  gapExtensionPenalties: 1,0<br>  minUnitigMappingQuality: 1<br>filterCalls: <br>  maxIntraClusterDistance: 500<br>  minSVSize: 100<br>  minUnitigMappingQuality: 0<br>  svtype: DEL<br>\", \"filterCalls.minUnitigBlockLength: 25<br><br>makeRegions: <br>  slop: 250<br>  minCoverage: 0<br>  maxCoverage: 200<br>  maxRegionLength: 100000<br>  minRepeatPeriod: 6<br>  minRepeatLength: 100<br>  functionalRegions: none<br>  genomeBuild: hg38<br>  overlappedFunctionalRegions: false<br>makeCalls: <br>  singleBaseMatchReward: 10<br>  singleBaseMismatchPenalty: 12<br>  gapOpenPenalties: 6,26<br>  gapExtensionPenalties: 1,0<br>  minUnitigMappingQuality: 1<br>filterCalls: <br>  maxIntraClusterDistance: 500<br>  minSVSize: 100<br>  minUnitigMappingQuality: 0<br>  svtype: DEL<br>\", \"filterCalls.minUnitigBlockLength: 40<br><br>makeRegions: <br>  slop: 250<br>  minCoverage: 0<br>  maxCoverage: 200<br>  maxRegionLength: 100000<br>  minRepeatPeriod: 6<br>  minRepeatLength: 100<br>  functionalRegions: none<br>  genomeBuild: hg38<br>  overlappedFunctionalRegions: false<br>makeCalls: <br>  singleBaseMatchReward: 10<br>  singleBaseMismatchPenalty: 12<br>  gapOpenPenalties: 6,26<br>  gapExtensionPenalties: 1,0<br>  minUnitigMappingQuality: 1<br>filterCalls: <br>  maxIntraClusterDistance: 500<br>  minSVSize: 100<br>  minUnitigMappingQuality: 0<br>  svtype: DEL<br>\", \"filterCalls.minUnitigBlockLength: 15<br><br>makeRegions: <br>  slop: 250<br>  minCoverage: 0<br>  maxCoverage: 200<br>  maxRegionLength: 100000<br>  minRepeatPeriod: 6<br>  minRepeatLength: 50<br>  functionalRegions: none<br>  genomeBuild: hg38<br>  overlappedFunctionalRegions: false<br>makeCalls: <br>  singleBaseMatchReward: 10<br>  singleBaseMismatchPenalty: 12<br>  gapOpenPenalties: 6,26<br>  gapExtensionPenalties: 1,0<br>  minUnitigMappingQuality: 1<br>filterCalls: <br>  maxIntraClusterDistance: 500<br>  minSVSize: 100<br>  minUnitigMappingQuality: 0<br>  svtype: DEL<br>\", \"filterCalls.minUnitigBlockLength: 25<br><br>makeRegions: <br>  slop: 250<br>  minCoverage: 0<br>  maxCoverage: 200<br>  maxRegionLength: 100000<br>  minRepeatPeriod: 6<br>  minRepeatLength: 50<br>  functionalRegions: none<br>  genomeBuild: hg38<br>  overlappedFunctionalRegions: false<br>makeCalls: <br>  singleBaseMatchReward: 10<br>  singleBaseMismatchPenalty: 12<br>  gapOpenPenalties: 6,26<br>  gapExtensionPenalties: 1,0<br>  minUnitigMappingQuality: 1<br>filterCalls: <br>  maxIntraClusterDistance: 500<br>  minSVSize: 100<br>  minUnitigMappingQuality: 0<br>  svtype: DEL<br>\", \"filterCalls.minUnitigBlockLength: 40<br><br>makeRegions: <br>  slop: 250<br>  minCoverage: 0<br>  maxCoverage: 200<br>  maxRegionLength: 100000<br>  minRepeatPeriod: 6<br>  minRepeatLength: 50<br>  functionalRegions: none<br>  genomeBuild: hg38<br>  overlappedFunctionalRegions: false<br>makeCalls: <br>  singleBaseMatchReward: 10<br>  singleBaseMismatchPenalty: 12<br>  gapOpenPenalties: 6,26<br>  gapExtensionPenalties: 1,0<br>  minUnitigMappingQuality: 1<br>filterCalls: <br>  maxIntraClusterDistance: 500<br>  minSVSize: 100<br>  minUnitigMappingQuality: 0<br>  svtype: DEL<br>\", \"filterCalls.minUnitigBlockLength: 15<br><br>makeRegions: <br>  slop: 250<br>  minCoverage: 0<br>  maxCoverage: 200<br>  maxRegionLength: 100000<br>  minRepeatPeriod: 6<br>  minRepeatLength: 0<br>  functionalRegions: none<br>  genomeBuild: hg38<br>  overlappedFunctionalRegions: false<br>makeCalls: <br>  singleBaseMatchReward: 10<br>  singleBaseMismatchPenalty: 12<br>  gapOpenPenalties: 6,26<br>  gapExtensionPenalties: 1,0<br>  minUnitigMappingQuality: 1<br>filterCalls: <br>  maxIntraClusterDistance: 500<br>  minSVSize: 500<br>  minUnitigMappingQuality: 0<br>  svtype: DEL<br>\", \"filterCalls.minUnitigBlockLength: 25<br><br>makeRegions: <br>  slop: 250<br>  minCoverage: 0<br>  maxCoverage: 200<br>  maxRegionLength: 100000<br>  minRepeatPeriod: 6<br>  minRepeatLength: 0<br>  functionalRegions: none<br>  genomeBuild: hg38<br>  overlappedFunctionalRegions: false<br>makeCalls: <br>  singleBaseMatchReward: 10<br>  singleBaseMismatchPenalty: 12<br>  gapOpenPenalties: 6,26<br>  gapExtensionPenalties: 1,0<br>  minUnitigMappingQuality: 1<br>filterCalls: <br>  maxIntraClusterDistance: 500<br>  minSVSize: 500<br>  minUnitigMappingQuality: 0<br>  svtype: DEL<br>\", \"filterCalls.minUnitigBlockLength: 40<br><br>makeRegions: <br>  slop: 250<br>  minCoverage: 0<br>  maxCoverage: 200<br>  maxRegionLength: 100000<br>  minRepeatPeriod: 6<br>  minRepeatLength: 0<br>  functionalRegions: none<br>  genomeBuild: hg38<br>  overlappedFunctionalRegions: false<br>makeCalls: <br>  singleBaseMatchReward: 10<br>  singleBaseMismatchPenalty: 12<br>  gapOpenPenalties: 6,26<br>  gapExtensionPenalties: 1,0<br>  minUnitigMappingQuality: 1<br>filterCalls: <br>  maxIntraClusterDistance: 500<br>  minSVSize: 500<br>  minUnitigMappingQuality: 0<br>  svtype: DEL<br>\", \"filterCalls.minUnitigBlockLength: 15<br><br>makeRegions: <br>  slop: 250<br>  minCoverage: 0<br>  maxCoverage: 200<br>  maxRegionLength: 100000<br>  minRepeatPeriod: 6<br>  minRepeatLength: 100<br>  functionalRegions: none<br>  genomeBuild: hg38<br>  overlappedFunctionalRegions: false<br>makeCalls: <br>  singleBaseMatchReward: 10<br>  singleBaseMismatchPenalty: 12<br>  gapOpenPenalties: 6,26<br>  gapExtensionPenalties: 1,0<br>  minUnitigMappingQuality: 1<br>filterCalls: <br>  maxIntraClusterDistance: 500<br>  minSVSize: 500<br>  minUnitigMappingQuality: 0<br>  svtype: DEL<br>\", \"filterCalls.minUnitigBlockLength: 25<br><br>makeRegions: <br>  slop: 250<br>  minCoverage: 0<br>  maxCoverage: 200<br>  maxRegionLength: 100000<br>  minRepeatPeriod: 6<br>  minRepeatLength: 100<br>  functionalRegions: none<br>  genomeBuild: hg38<br>  overlappedFunctionalRegions: false<br>makeCalls: <br>  singleBaseMatchReward: 10<br>  singleBaseMismatchPenalty: 12<br>  gapOpenPenalties: 6,26<br>  gapExtensionPenalties: 1,0<br>  minUnitigMappingQuality: 1<br>filterCalls: <br>  maxIntraClusterDistance: 500<br>  minSVSize: 500<br>  minUnitigMappingQuality: 0<br>  svtype: DEL<br>\", \"filterCalls.minUnitigBlockLength: 40<br><br>makeRegions: <br>  slop: 250<br>  minCoverage: 0<br>  maxCoverage: 200<br>  maxRegionLength: 100000<br>  minRepeatPeriod: 6<br>  minRepeatLength: 100<br>  functionalRegions: none<br>  genomeBuild: hg38<br>  overlappedFunctionalRegions: false<br>makeCalls: <br>  singleBaseMatchReward: 10<br>  singleBaseMismatchPenalty: 12<br>  gapOpenPenalties: 6,26<br>  gapExtensionPenalties: 1,0<br>  minUnitigMappingQuality: 1<br>filterCalls: <br>  maxIntraClusterDistance: 500<br>  minSVSize: 500<br>  minUnitigMappingQuality: 0<br>  svtype: DEL<br>\", \"filterCalls.minUnitigBlockLength: 15<br><br>makeRegions: <br>  slop: 250<br>  minCoverage: 0<br>  maxCoverage: 200<br>  maxRegionLength: 100000<br>  minRepeatPeriod: 6<br>  minRepeatLength: 50<br>  functionalRegions: none<br>  genomeBuild: hg38<br>  overlappedFunctionalRegions: false<br>makeCalls: <br>  singleBaseMatchReward: 10<br>  singleBaseMismatchPenalty: 12<br>  gapOpenPenalties: 6,26<br>  gapExtensionPenalties: 1,0<br>  minUnitigMappingQuality: 1<br>filterCalls: <br>  maxIntraClusterDistance: 500<br>  minSVSize: 500<br>  minUnitigMappingQuality: 0<br>  svtype: DEL<br>\", \"filterCalls.minUnitigBlockLength: 25<br><br>makeRegions: <br>  slop: 250<br>  minCoverage: 0<br>  maxCoverage: 200<br>  maxRegionLength: 100000<br>  minRepeatPeriod: 6<br>  minRepeatLength: 50<br>  functionalRegions: none<br>  genomeBuild: hg38<br>  overlappedFunctionalRegions: false<br>makeCalls: <br>  singleBaseMatchReward: 10<br>  singleBaseMismatchPenalty: 12<br>  gapOpenPenalties: 6,26<br>  gapExtensionPenalties: 1,0<br>  minUnitigMappingQuality: 1<br>filterCalls: <br>  maxIntraClusterDistance: 500<br>  minSVSize: 500<br>  minUnitigMappingQuality: 0<br>  svtype: DEL<br>\", \"filterCalls.minUnitigBlockLength: 40<br><br>makeRegions: <br>  slop: 250<br>  minCoverage: 0<br>  maxCoverage: 200<br>  maxRegionLength: 100000<br>  minRepeatPeriod: 6<br>  minRepeatLength: 50<br>  functionalRegions: none<br>  genomeBuild: hg38<br>  overlappedFunctionalRegions: false<br>makeCalls: <br>  singleBaseMatchReward: 10<br>  singleBaseMismatchPenalty: 12<br>  gapOpenPenalties: 6,26<br>  gapExtensionPenalties: 1,0<br>  minUnitigMappingQuality: 1<br>filterCalls: <br>  maxIntraClusterDistance: 500<br>  minSVSize: 500<br>  minUnitigMappingQuality: 0<br>  svtype: DEL<br>\", \"filterCalls.minUnitigBlockLength: 15<br><br>makeRegions: <br>  slop: 250<br>  minCoverage: 0<br>  maxCoverage: 200<br>  maxRegionLength: 100000<br>  minRepeatPeriod: 6<br>  minRepeatLength: 0<br>  functionalRegions: none<br>  genomeBuild: hg38<br>  overlappedFunctionalRegions: false<br>makeCalls: <br>  singleBaseMatchReward: 10<br>  singleBaseMismatchPenalty: 12<br>  gapOpenPenalties: 6,26<br>  gapExtensionPenalties: 1,0<br>  minUnitigMappingQuality: 1<br>filterCalls: <br>  maxIntraClusterDistance: 500<br>  minSVSize: 50<br>  minUnitigMappingQuality: 0<br>  svtype: DEL<br>\", \"filterCalls.minUnitigBlockLength: 25<br><br>makeRegions: <br>  slop: 250<br>  minCoverage: 0<br>  maxCoverage: 200<br>  maxRegionLength: 100000<br>  minRepeatPeriod: 6<br>  minRepeatLength: 0<br>  functionalRegions: none<br>  genomeBuild: hg38<br>  overlappedFunctionalRegions: false<br>makeCalls: <br>  singleBaseMatchReward: 10<br>  singleBaseMismatchPenalty: 12<br>  gapOpenPenalties: 6,26<br>  gapExtensionPenalties: 1,0<br>  minUnitigMappingQuality: 1<br>filterCalls: <br>  maxIntraClusterDistance: 500<br>  minSVSize: 50<br>  minUnitigMappingQuality: 0<br>  svtype: DEL<br>\", \"filterCalls.minUnitigBlockLength: 40<br><br>makeRegions: <br>  slop: 250<br>  minCoverage: 0<br>  maxCoverage: 200<br>  maxRegionLength: 100000<br>  minRepeatPeriod: 6<br>  minRepeatLength: 0<br>  functionalRegions: none<br>  genomeBuild: hg38<br>  overlappedFunctionalRegions: false<br>makeCalls: <br>  singleBaseMatchReward: 10<br>  singleBaseMismatchPenalty: 12<br>  gapOpenPenalties: 6,26<br>  gapExtensionPenalties: 1,0<br>  minUnitigMappingQuality: 1<br>filterCalls: <br>  maxIntraClusterDistance: 500<br>  minSVSize: 50<br>  minUnitigMappingQuality: 0<br>  svtype: DEL<br>\", \"filterCalls.minUnitigBlockLength: 15<br><br>makeRegions: <br>  slop: 250<br>  minCoverage: 0<br>  maxCoverage: 200<br>  maxRegionLength: 100000<br>  minRepeatPeriod: 6<br>  minRepeatLength: 100<br>  functionalRegions: none<br>  genomeBuild: hg38<br>  overlappedFunctionalRegions: false<br>makeCalls: <br>  singleBaseMatchReward: 10<br>  singleBaseMismatchPenalty: 12<br>  gapOpenPenalties: 6,26<br>  gapExtensionPenalties: 1,0<br>  minUnitigMappingQuality: 1<br>filterCalls: <br>  maxIntraClusterDistance: 500<br>  minSVSize: 50<br>  minUnitigMappingQuality: 0<br>  svtype: DEL<br>\", \"filterCalls.minUnitigBlockLength: 25<br><br>makeRegions: <br>  slop: 250<br>  minCoverage: 0<br>  maxCoverage: 200<br>  maxRegionLength: 100000<br>  minRepeatPeriod: 6<br>  minRepeatLength: 100<br>  functionalRegions: none<br>  genomeBuild: hg38<br>  overlappedFunctionalRegions: false<br>makeCalls: <br>  singleBaseMatchReward: 10<br>  singleBaseMismatchPenalty: 12<br>  gapOpenPenalties: 6,26<br>  gapExtensionPenalties: 1,0<br>  minUnitigMappingQuality: 1<br>filterCalls: <br>  maxIntraClusterDistance: 500<br>  minSVSize: 50<br>  minUnitigMappingQuality: 0<br>  svtype: DEL<br>\", \"filterCalls.minUnitigBlockLength: 40<br><br>makeRegions: <br>  slop: 250<br>  minCoverage: 0<br>  maxCoverage: 200<br>  maxRegionLength: 100000<br>  minRepeatPeriod: 6<br>  minRepeatLength: 100<br>  functionalRegions: none<br>  genomeBuild: hg38<br>  overlappedFunctionalRegions: false<br>makeCalls: <br>  singleBaseMatchReward: 10<br>  singleBaseMismatchPenalty: 12<br>  gapOpenPenalties: 6,26<br>  gapExtensionPenalties: 1,0<br>  minUnitigMappingQuality: 1<br>filterCalls: <br>  maxIntraClusterDistance: 500<br>  minSVSize: 50<br>  minUnitigMappingQuality: 0<br>  svtype: DEL<br>\", \"filterCalls.minUnitigBlockLength: 15<br><br>makeRegions: <br>  slop: 250<br>  minCoverage: 0<br>  maxCoverage: 200<br>  maxRegionLength: 100000<br>  minRepeatPeriod: 6<br>  minRepeatLength: 50<br>  functionalRegions: none<br>  genomeBuild: hg38<br>  overlappedFunctionalRegions: false<br>makeCalls: <br>  singleBaseMatchReward: 10<br>  singleBaseMismatchPenalty: 12<br>  gapOpenPenalties: 6,26<br>  gapExtensionPenalties: 1,0<br>  minUnitigMappingQuality: 1<br>filterCalls: <br>  maxIntraClusterDistance: 500<br>  minSVSize: 50<br>  minUnitigMappingQuality: 0<br>  svtype: DEL<br>\", \"filterCalls.minUnitigBlockLength: 25<br><br>makeRegions: <br>  slop: 250<br>  minCoverage: 0<br>  maxCoverage: 200<br>  maxRegionLength: 100000<br>  minRepeatPeriod: 6<br>  minRepeatLength: 50<br>  functionalRegions: none<br>  genomeBuild: hg38<br>  overlappedFunctionalRegions: false<br>makeCalls: <br>  singleBaseMatchReward: 10<br>  singleBaseMismatchPenalty: 12<br>  gapOpenPenalties: 6,26<br>  gapExtensionPenalties: 1,0<br>  minUnitigMappingQuality: 1<br>filterCalls: <br>  maxIntraClusterDistance: 500<br>  minSVSize: 50<br>  minUnitigMappingQuality: 0<br>  svtype: DEL<br>\", \"filterCalls.minUnitigBlockLength: 40<br><br>makeRegions: <br>  slop: 250<br>  minCoverage: 0<br>  maxCoverage: 200<br>  maxRegionLength: 100000<br>  minRepeatPeriod: 6<br>  minRepeatLength: 50<br>  functionalRegions: none<br>  genomeBuild: hg38<br>  overlappedFunctionalRegions: false<br>makeCalls: <br>  singleBaseMatchReward: 10<br>  singleBaseMismatchPenalty: 12<br>  gapOpenPenalties: 6,26<br>  gapExtensionPenalties: 1,0<br>  minUnitigMappingQuality: 1<br>filterCalls: <br>  maxIntraClusterDistance: 500<br>  minSVSize: 50<br>  minUnitigMappingQuality: 0<br>  svtype: DEL<br>\"], \"type\": \"scatter\", \"x\": [0.1629013079667063, 0.1492271105826397, 0.12901307966706302, 0.16444701795020267, 0.15460335842501446, 0.12623045744064854, 0.1655901350557839, 0.15384615384615385, 0.1315325895478567, 0.04242424242424243, 0.030303030303030304, 0.04242424242424243, 0.05325443786982249, 0.029585798816568046, 0.029585798816568046, 0.047619047619047616, 0.03571428571428571, 0.02976190476190476, 0.2050380785002929, 0.18922085530169888, 0.15846514352665494, 0.21079691516709512, 0.19480148528991717, 0.16281062553556128, 0.2071655590869691, 0.19242993354521815, 0.16324761629586826], \"y\": [0.26421052631578945, 0.34744525547445254, 0.4579741379310345, 0.25806451612903225, 0.34764250527797325, 0.44714587737843553, 0.26528497409326424, 0.3492176386913229, 0.4654427645788337, 0.15853658536585366, 0.19607843137254902, 0.28205128205128205, 0.1744186046511628, 0.22448979591836735, 0.2564102564102564, 0.16470588235294117, 0.23076923076923078, 0.23076923076923078, 0.3876876112948359, 0.46411483253588515, 0.5525075010715816, 0.3883738411425708, 0.46274756365922665, 0.5509513742071882, 0.3903177004538578, 0.46540880503144655, 0.5565917761763459]}, {\"marker\": {\"color\": \"green\", \"size\": 10, \"symbol\": \"circle\"}, \"mode\": \"markers\", \"name\": \"minUnitigBlockLength=15\", \"type\": \"scatter\", \"y\": [null]}, {\"marker\": {\"color\": \"red\", \"size\": 10, \"symbol\": \"circle\"}, \"mode\": \"markers\", \"name\": \"minUnitigBlockLength=25\", \"type\": \"scatter\", \"y\": [null]}, {\"marker\": {\"color\": \"blue\", \"size\": 10, \"symbol\": \"circle\"}, \"mode\": \"markers\", \"name\": \"minUnitigBlockLength=40\", \"type\": \"scatter\", \"y\": [null]}],                        {\"template\": {\"data\": {\"bar\": [{\"error_x\": {\"color\": \"#2a3f5f\"}, \"error_y\": {\"color\": \"#2a3f5f\"}, \"marker\": {\"line\": {\"color\": \"#E5ECF6\", \"width\": 0.5}}, \"type\": \"bar\"}], \"barpolar\": [{\"marker\": {\"line\": {\"color\": \"#E5ECF6\", \"width\": 0.5}}, \"type\": \"barpolar\"}], \"carpet\": [{\"aaxis\": {\"endlinecolor\": \"#2a3f5f\", \"gridcolor\": \"white\", \"linecolor\": \"white\", \"minorgridcolor\": \"white\", \"startlinecolor\": \"#2a3f5f\"}, \"baxis\": {\"endlinecolor\": \"#2a3f5f\", \"gridcolor\": \"white\", \"linecolor\": \"white\", \"minorgridcolor\": \"white\", \"startlinecolor\": \"#2a3f5f\"}, \"type\": \"carpet\"}], \"choropleth\": [{\"colorbar\": {\"outlinewidth\": 0, \"ticks\": \"\"}, \"type\": \"choropleth\"}], \"contour\": [{\"colorbar\": {\"outlinewidth\": 0, \"ticks\": \"\"}, \"colorscale\": [[0.0, \"#0d0887\"], [0.1111111111111111, \"#46039f\"], [0.2222222222222222, \"#7201a8\"], [0.3333333333333333, \"#9c179e\"], [0.4444444444444444, \"#bd3786\"], [0.5555555555555556, \"#d8576b\"], [0.6666666666666666, \"#ed7953\"], [0.7777777777777778, \"#fb9f3a\"], [0.8888888888888888, \"#fdca26\"], [1.0, \"#f0f921\"]], \"type\": \"contour\"}], \"contourcarpet\": [{\"colorbar\": {\"outlinewidth\": 0, \"ticks\": \"\"}, \"type\": \"contourcarpet\"}], \"heatmap\": [{\"colorbar\": {\"outlinewidth\": 0, \"ticks\": \"\"}, \"colorscale\": [[0.0, \"#0d0887\"], [0.1111111111111111, \"#46039f\"], [0.2222222222222222, \"#7201a8\"], [0.3333333333333333, \"#9c179e\"], [0.4444444444444444, \"#bd3786\"], [0.5555555555555556, \"#d8576b\"], [0.6666666666666666, \"#ed7953\"], [0.7777777777777778, \"#fb9f3a\"], [0.8888888888888888, \"#fdca26\"], [1.0, \"#f0f921\"]], \"type\": \"heatmap\"}], \"heatmapgl\": [{\"colorbar\": {\"outlinewidth\": 0, \"ticks\": \"\"}, \"colorscale\": [[0.0, \"#0d0887\"], [0.1111111111111111, \"#46039f\"], [0.2222222222222222, \"#7201a8\"], [0.3333333333333333, \"#9c179e\"], [0.4444444444444444, \"#bd3786\"], [0.5555555555555556, \"#d8576b\"], [0.6666666666666666, \"#ed7953\"], [0.7777777777777778, \"#fb9f3a\"], [0.8888888888888888, \"#fdca26\"], [1.0, \"#f0f921\"]], \"type\": \"heatmapgl\"}], \"histogram\": [{\"marker\": {\"colorbar\": {\"outlinewidth\": 0, \"ticks\": \"\"}}, \"type\": \"histogram\"}], \"histogram2d\": [{\"colorbar\": {\"outlinewidth\": 0, \"ticks\": \"\"}, \"colorscale\": [[0.0, \"#0d0887\"], [0.1111111111111111, \"#46039f\"], [0.2222222222222222, \"#7201a8\"], [0.3333333333333333, \"#9c179e\"], [0.4444444444444444, \"#bd3786\"], [0.5555555555555556, \"#d8576b\"], [0.6666666666666666, \"#ed7953\"], [0.7777777777777778, \"#fb9f3a\"], [0.8888888888888888, \"#fdca26\"], [1.0, \"#f0f921\"]], \"type\": \"histogram2d\"}], \"histogram2dcontour\": [{\"colorbar\": {\"outlinewidth\": 0, \"ticks\": \"\"}, \"colorscale\": [[0.0, \"#0d0887\"], [0.1111111111111111, \"#46039f\"], [0.2222222222222222, \"#7201a8\"], [0.3333333333333333, \"#9c179e\"], [0.4444444444444444, \"#bd3786\"], [0.5555555555555556, \"#d8576b\"], [0.6666666666666666, \"#ed7953\"], [0.7777777777777778, \"#fb9f3a\"], [0.8888888888888888, \"#fdca26\"], [1.0, \"#f0f921\"]], \"type\": \"histogram2dcontour\"}], \"mesh3d\": [{\"colorbar\": {\"outlinewidth\": 0, \"ticks\": \"\"}, \"type\": \"mesh3d\"}], \"parcoords\": [{\"line\": {\"colorbar\": {\"outlinewidth\": 0, \"ticks\": \"\"}}, \"type\": \"parcoords\"}], \"pie\": [{\"automargin\": true, \"type\": \"pie\"}], \"scatter\": [{\"marker\": {\"colorbar\": {\"outlinewidth\": 0, \"ticks\": \"\"}}, \"type\": \"scatter\"}], \"scatter3d\": [{\"line\": {\"colorbar\": {\"outlinewidth\": 0, \"ticks\": \"\"}}, \"marker\": {\"colorbar\": {\"outlinewidth\": 0, \"ticks\": \"\"}}, \"type\": \"scatter3d\"}], \"scattercarpet\": [{\"marker\": {\"colorbar\": {\"outlinewidth\": 0, \"ticks\": \"\"}}, \"type\": \"scattercarpet\"}], \"scattergeo\": [{\"marker\": {\"colorbar\": {\"outlinewidth\": 0, \"ticks\": \"\"}}, \"type\": \"scattergeo\"}], \"scattergl\": [{\"marker\": {\"colorbar\": {\"outlinewidth\": 0, \"ticks\": \"\"}}, \"type\": \"scattergl\"}], \"scattermapbox\": [{\"marker\": {\"colorbar\": {\"outlinewidth\": 0, \"ticks\": \"\"}}, \"type\": \"scattermapbox\"}], \"scatterpolar\": [{\"marker\": {\"colorbar\": {\"outlinewidth\": 0, \"ticks\": \"\"}}, \"type\": \"scatterpolar\"}], \"scatterpolargl\": [{\"marker\": {\"colorbar\": {\"outlinewidth\": 0, \"ticks\": \"\"}}, \"type\": \"scatterpolargl\"}], \"scatterternary\": [{\"marker\": {\"colorbar\": {\"outlinewidth\": 0, \"ticks\": \"\"}}, \"type\": \"scatterternary\"}], \"surface\": [{\"colorbar\": {\"outlinewidth\": 0, \"ticks\": \"\"}, \"colorscale\": [[0.0, \"#0d0887\"], [0.1111111111111111, \"#46039f\"], [0.2222222222222222, \"#7201a8\"], [0.3333333333333333, \"#9c179e\"], [0.4444444444444444, \"#bd3786\"], [0.5555555555555556, \"#d8576b\"], [0.6666666666666666, \"#ed7953\"], [0.7777777777777778, \"#fb9f3a\"], [0.8888888888888888, \"#fdca26\"], [1.0, \"#f0f921\"]], \"type\": \"surface\"}], \"table\": [{\"cells\": {\"fill\": {\"color\": \"#EBF0F8\"}, \"line\": {\"color\": \"white\"}}, \"header\": {\"fill\": {\"color\": \"#C8D4E3\"}, \"line\": {\"color\": \"white\"}}, \"type\": \"table\"}]}, \"layout\": {\"annotationdefaults\": {\"arrowcolor\": \"#2a3f5f\", \"arrowhead\": 0, \"arrowwidth\": 1}, \"autotypenumbers\": \"strict\", \"coloraxis\": {\"colorbar\": {\"outlinewidth\": 0, \"ticks\": \"\"}}, \"colorscale\": {\"diverging\": [[0, \"#8e0152\"], [0.1, \"#c51b7d\"], [0.2, \"#de77ae\"], [0.3, \"#f1b6da\"], [0.4, \"#fde0ef\"], [0.5, \"#f7f7f7\"], [0.6, \"#e6f5d0\"], [0.7, \"#b8e186\"], [0.8, \"#7fbc41\"], [0.9, \"#4d9221\"], [1, \"#276419\"]], \"sequential\": [[0.0, \"#0d0887\"], [0.1111111111111111, \"#46039f\"], [0.2222222222222222, \"#7201a8\"], [0.3333333333333333, \"#9c179e\"], [0.4444444444444444, \"#bd3786\"], [0.5555555555555556, \"#d8576b\"], [0.6666666666666666, \"#ed7953\"], [0.7777777777777778, \"#fb9f3a\"], [0.8888888888888888, \"#fdca26\"], [1.0, \"#f0f921\"]], \"sequentialminus\": [[0.0, \"#0d0887\"], [0.1111111111111111, \"#46039f\"], [0.2222222222222222, \"#7201a8\"], [0.3333333333333333, \"#9c179e\"], [0.4444444444444444, \"#bd3786\"], [0.5555555555555556, \"#d8576b\"], [0.6666666666666666, \"#ed7953\"], [0.7777777777777778, \"#fb9f3a\"], [0.8888888888888888, \"#fdca26\"], [1.0, \"#f0f921\"]]}, \"colorway\": [\"#636efa\", \"#EF553B\", \"#00cc96\", \"#ab63fa\", \"#FFA15A\", \"#19d3f3\", \"#FF6692\", \"#B6E880\", \"#FF97FF\", \"#FECB52\"], \"font\": {\"color\": \"#2a3f5f\"}, \"geo\": {\"bgcolor\": \"white\", \"lakecolor\": \"white\", \"landcolor\": \"#E5ECF6\", \"showlakes\": true, \"showland\": true, \"subunitcolor\": \"white\"}, \"hoverlabel\": {\"align\": \"left\"}, \"hovermode\": \"closest\", \"mapbox\": {\"style\": \"light\"}, \"paper_bgcolor\": \"white\", \"plot_bgcolor\": \"#E5ECF6\", \"polar\": {\"angularaxis\": {\"gridcolor\": \"white\", \"linecolor\": \"white\", \"ticks\": \"\"}, \"bgcolor\": \"#E5ECF6\", \"radialaxis\": {\"gridcolor\": \"white\", \"linecolor\": \"white\", \"ticks\": \"\"}}, \"scene\": {\"xaxis\": {\"backgroundcolor\": \"#E5ECF6\", \"gridcolor\": \"white\", \"gridwidth\": 2, \"linecolor\": \"white\", \"showbackground\": true, \"ticks\": \"\", \"zerolinecolor\": \"white\"}, \"yaxis\": {\"backgroundcolor\": \"#E5ECF6\", \"gridcolor\": \"white\", \"gridwidth\": 2, \"linecolor\": \"white\", \"showbackground\": true, \"ticks\": \"\", \"zerolinecolor\": \"white\"}, \"zaxis\": {\"backgroundcolor\": \"#E5ECF6\", \"gridcolor\": \"white\", \"gridwidth\": 2, \"linecolor\": \"white\", \"showbackground\": true, \"ticks\": \"\", \"zerolinecolor\": \"white\"}}, \"shapedefaults\": {\"line\": {\"color\": \"#2a3f5f\"}}, \"ternary\": {\"aaxis\": {\"gridcolor\": \"white\", \"linecolor\": \"white\", \"ticks\": \"\"}, \"baxis\": {\"gridcolor\": \"white\", \"linecolor\": \"white\", \"ticks\": \"\"}, \"bgcolor\": \"#E5ECF6\", \"caxis\": {\"gridcolor\": \"white\", \"linecolor\": \"white\", \"ticks\": \"\"}}, \"title\": {\"x\": 0.05}, \"xaxis\": {\"automargin\": true, \"gridcolor\": \"white\", \"linecolor\": \"white\", \"ticks\": \"\", \"title\": {\"standoff\": 15}, \"zerolinecolor\": \"white\", \"zerolinewidth\": 2}, \"yaxis\": {\"automargin\": true, \"gridcolor\": \"white\", \"linecolor\": \"white\", \"ticks\": \"\", \"title\": {\"standoff\": 15}, \"zerolinecolor\": \"white\", \"zerolinewidth\": 2}}}, \"title\": {\"text\": \"minUnitigBlockLength controls the trade-off between trfermikit precision<br>and its sensitivity to events missed by manta\"}, \"xaxis\": {\"title\": {\"text\": \"fraction of manta FNs recovered by trfermikit\"}}, \"yaxis\": {\"title\": {\"text\": \"trfermikit precision\"}}},                        {\"responsive\": true}                    ).then(function(){\n",
       "                            \n",
       "var gd = document.getElementById('bb9cf13e-5aa7-45fd-b1b4-cf5f51395f66');\n",
       "var x = new MutationObserver(function (mutations, observer) {{\n",
       "        var display = window.getComputedStyle(gd).display;\n",
       "        if (!display || display === 'none') {{\n",
       "            console.log([gd, 'removed!']);\n",
       "            Plotly.purge(gd);\n",
       "            observer.disconnect();\n",
       "        }}\n",
       "}});\n",
       "\n",
       "// Listen for the removal of the full notebook cells\n",
       "var notebookContainer = gd.closest('#notebook-container');\n",
       "if (notebookContainer) {{\n",
       "    x.observe(notebookContainer, {childList: true});\n",
       "}}\n",
       "\n",
       "// Listen for the clearing of the current output cell\n",
       "var outputEl = gd.closest('.output');\n",
       "if (outputEl) {{\n",
       "    x.observe(outputEl, {childList: true});\n",
       "}}\n",
       "\n",
       "                        })                };                });            </script>        </div>"
      ]
     },
     "metadata": {},
     "output_type": "display_data"
    }
   ],
   "source": [
    "def get_fractionsOfMantaFN_trfermikitPrecisions_configs():   \n",
    "    experiments = ! ls data\n",
    "\n",
    "    fractionsOfMantaFN = []\n",
    "    trfermikitPrecisions = []\n",
    "    configs = []\n",
    "\n",
    "    for experiment in experiments: \n",
    "        fractionsOfMantaFN.append(get_manta_fraction(\n",
    "            manta_callset='fn', \n",
    "            experiment=experiment\n",
    "        ))\n",
    "        \n",
    "        precision, recall = get_precision_recall(\n",
    "            experiment=experiment, \n",
    "            caller='trfermikit.unitigSupport.thinned'\n",
    "        )\n",
    "        trfermikitPrecisions.append(precision)\n",
    "        \n",
    "        config = get_config(experiment)\n",
    "        configs.append(config)        \n",
    "        \n",
    "    return fractionsOfMantaFN, trfermikitPrecisions, configs\n",
    "\n",
    "def fractionsOfMantaFN_trfermikitPrecisions_graph(\n",
    "    outer_key, \n",
    "    inner_key, \n",
    "    title=None, \n",
    "    marker_size=10, \n",
    "    line_width=1\n",
    "): \n",
    "    fractionsOfMantaFN, trfermikitPrecisions, configs = get_fractionsOfMantaFN_trfermikitPrecisions_configs()\n",
    "    \n",
    "    colors = initialize_colors(configs, outer_key, inner_key) \n",
    "                \n",
    "    fig = go.Figure(data=go.Scatter(\n",
    "        x=fractionsOfMantaFN,\n",
    "        y=trfermikitPrecisions,\n",
    "        mode='markers',\n",
    "        showlegend=False,        \n",
    "        marker=dict(\n",
    "            symbol='circle',\n",
    "            size=marker_size,\n",
    "            line=dict(width=line_width, color='black'),\n",
    "            color=[colors[config[outer_key][inner_key]] for config in configs]\n",
    "        ),\n",
    "        hovertemplate='%{text}',\n",
    "        text=[format_config(config, outer_key, inner_key) for config in configs]))\n",
    "    fig.update_xaxes(title_text='fraction of manta FNs recovered by trfermikit')\n",
    "    fig.update_yaxes(title_text='trfermikit precision')\n",
    "    \n",
    "    fig.update_layout(title=title) \n",
    "    \n",
    "    for value, color in sort_colors(colors):                 \n",
    "        fig.add_trace(go.Scatter(\n",
    "            y=[None], \n",
    "            mode='markers',\n",
    "            marker=dict(\n",
    "                symbol='circle',\n",
    "                size=marker_size,\n",
    "                color=color\n",
    "            ),\n",
    "            name='{}={}'.format(inner_key, value)\n",
    "        ))\n",
    "        \n",
    "    fig.show()\n",
    "\n",
    "def fractionsOfMantaFN_trfermikitPrecisions_graphs(): \n",
    "    for outer_key, inner_key, commentary in [\n",
    "        (\n",
    "            'filterCalls', \n",
    "            'minSVSize',\n",
    "            'minSVSize similarly influences trfermikit precision and<br>' + \n",
    "            'sensitivity to events missed by manta'\n",
    "        ), \n",
    "#         ( \n",
    "#             'makeRegions',\n",
    "#             'minRepeatLength',\n",
    "#             None\n",
    "#         ),\n",
    "        (\n",
    "            'filterCalls', \n",
    "            'minUnitigBlockLength', \n",
    "            'minUnitigBlockLength controls the trade-off between trfermikit precision<br>' +\n",
    "            'and its sensitivity to events missed by manta'\n",
    "        ),\n",
    "    ]: fractionsOfMantaFN_trfermikitPrecisions_graph(outer_key, inner_key, title=commentary) \n",
    "\n",
    "fractionsOfMantaFN_trfermikitPrecisions_graphs()"
   ]
  },
  {
   "cell_type": "code",
   "execution_count": null,
   "metadata": {},
   "outputs": [],
   "source": []
  }
 ],
 "metadata": {
  "kernelspec": {
   "display_name": "Python 3",
   "language": "python",
   "name": "python3"
  },
  "language_info": {
   "codemirror_mode": {
    "name": "ipython",
    "version": 3
   },
   "file_extension": ".py",
   "mimetype": "text/x-python",
   "name": "python",
   "nbconvert_exporter": "python",
   "pygments_lexer": "ipython3",
   "version": "3.8.6"
  },
  "toc": {
   "base_numbering": 1,
   "nav_menu": {},
   "number_sections": true,
   "sideBar": true,
   "skip_h1_title": false,
   "title_cell": "Table of Contents",
   "title_sidebar": "Contents",
   "toc_cell": false,
   "toc_position": {},
   "toc_section_display": true,
   "toc_window_display": false
  }
 },
 "nbformat": 4,
 "nbformat_minor": 4
}
