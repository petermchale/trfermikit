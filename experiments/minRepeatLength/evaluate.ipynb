{
 "cells": [
  {
   "cell_type": "markdown",
   "metadata": {},
   "source": [
    "# Fixed experimental parameters"
   ]
  },
  {
   "cell_type": "markdown",
   "metadata": {},
   "source": [
    "Results of varying `minRepeatPeriod` showed that we may confine our analysis to: "
   ]
  },
  {
   "cell_type": "code",
   "execution_count": 2,
   "metadata": {},
   "outputs": [
    {
     "name": "stdout",
     "output_type": "stream",
     "text": [
      "minRepeatPeriod = 6\r\n"
     ]
    }
   ],
   "source": [
    "! echo \"minRepeatPeriod = $($root/bin/jq --raw-output '.makeRegions.minRepeatPeriod' data/minRepeatLength=0/config.json)\""
   ]
  },
  {
   "cell_type": "code",
   "execution_count": 3,
   "metadata": {},
   "outputs": [
    {
     "name": "stdout",
     "output_type": "stream",
     "text": [
      "\u001b[1;39m{\r\n",
      "  \u001b[0m\u001b[34;1m\"makeRegions\"\u001b[0m\u001b[1;39m: \u001b[0m\u001b[1;39m{\r\n",
      "    \u001b[0m\u001b[34;1m\"slop\"\u001b[0m\u001b[1;39m: \u001b[0m\u001b[0;32m\"250\"\u001b[0m\u001b[1;39m,\r\n",
      "    \u001b[0m\u001b[34;1m\"minCoverage\"\u001b[0m\u001b[1;39m: \u001b[0m\u001b[0;32m\"0\"\u001b[0m\u001b[1;39m,\r\n",
      "    \u001b[0m\u001b[34;1m\"maxCoverage\"\u001b[0m\u001b[1;39m: \u001b[0m\u001b[0;32m\"200\"\u001b[0m\u001b[1;39m,\r\n",
      "    \u001b[0m\u001b[34;1m\"maxRegionLength\"\u001b[0m\u001b[1;39m: \u001b[0m\u001b[0;32m\"100000\"\u001b[0m\u001b[1;39m,\r\n",
      "    \u001b[0m\u001b[34;1m\"functionalRegions\"\u001b[0m\u001b[1;39m: \u001b[0m\u001b[0;32m\"none\"\u001b[0m\u001b[1;39m,\r\n",
      "    \u001b[0m\u001b[34;1m\"genomeBuild\"\u001b[0m\u001b[1;39m: \u001b[0m\u001b[0;32m\"hg38\"\u001b[0m\u001b[1;39m,\r\n",
      "    \u001b[0m\u001b[34;1m\"overlappedFunctionalRegions\"\u001b[0m\u001b[1;39m: \u001b[0m\u001b[0;32m\"false\"\u001b[0m\u001b[1;39m,\r\n",
      "    \u001b[0m\u001b[34;1m\"ucscTable\"\u001b[0m\u001b[1;39m: \u001b[0m\u001b[0;32m\"simpleRepeat\"\u001b[0m\u001b[1;39m\r\n",
      "  \u001b[1;39m}\u001b[0m\u001b[1;39m,\r\n",
      "  \u001b[0m\u001b[34;1m\"makeCalls\"\u001b[0m\u001b[1;39m: \u001b[0m\u001b[1;39m{\r\n",
      "    \u001b[0m\u001b[34;1m\"singleBaseMatchReward\"\u001b[0m\u001b[1;39m: \u001b[0m\u001b[0;32m\"10\"\u001b[0m\u001b[1;39m,\r\n",
      "    \u001b[0m\u001b[34;1m\"singleBaseMismatchPenalty\"\u001b[0m\u001b[1;39m: \u001b[0m\u001b[0;32m\"12\"\u001b[0m\u001b[1;39m,\r\n",
      "    \u001b[0m\u001b[34;1m\"gapOpenPenalties\"\u001b[0m\u001b[1;39m: \u001b[0m\u001b[0;32m\"6,26\"\u001b[0m\u001b[1;39m,\r\n",
      "    \u001b[0m\u001b[34;1m\"gapExtensionPenalties\"\u001b[0m\u001b[1;39m: \u001b[0m\u001b[0;32m\"1,0\"\u001b[0m\u001b[1;39m,\r\n",
      "    \u001b[0m\u001b[34;1m\"minUnitigMappingQuality\"\u001b[0m\u001b[1;39m: \u001b[0m\u001b[0;32m\"1\"\u001b[0m\u001b[1;39m\r\n",
      "  \u001b[1;39m}\u001b[0m\u001b[1;39m,\r\n",
      "  \u001b[0m\u001b[34;1m\"filterCalls\"\u001b[0m\u001b[1;39m: \u001b[0m\u001b[1;39m{\r\n",
      "    \u001b[0m\u001b[34;1m\"maxIntraClusterDistance\"\u001b[0m\u001b[1;39m: \u001b[0m\u001b[0;32m\"500\"\u001b[0m\u001b[1;39m,\r\n",
      "    \u001b[0m\u001b[34;1m\"minSVSize\"\u001b[0m\u001b[1;39m: \u001b[0m\u001b[0;32m\"50\"\u001b[0m\u001b[1;39m,\r\n",
      "    \u001b[0m\u001b[34;1m\"minUnitigMappingQuality\"\u001b[0m\u001b[1;39m: \u001b[0m\u001b[0;32m\"0\"\u001b[0m\u001b[1;39m,\r\n",
      "    \u001b[0m\u001b[34;1m\"minUnitigBlockLength\"\u001b[0m\u001b[1;39m: \u001b[0m\u001b[0;32m\"25\"\u001b[0m\u001b[1;39m,\r\n",
      "    \u001b[0m\u001b[34;1m\"svtype\"\u001b[0m\u001b[1;39m: \u001b[0m\u001b[0;32m\"DEL\"\u001b[0m\u001b[1;39m\r\n",
      "  \u001b[1;39m}\u001b[0m\u001b[1;39m,\r\n",
      "  \u001b[0m\u001b[34;1m\"general\"\u001b[0m\u001b[1;39m: \u001b[0m\u001b[1;39m{\r\n",
      "    \u001b[0m\u001b[34;1m\"reference\"\u001b[0m\u001b[1;39m: \u001b[0m\u001b[0;32m\"/scratch/ucgd/lustre-work/quinlan/u6018199/chaisson_2019/reference/GRCh38_full_analysis_set_plus_decoy_hla\"\u001b[0m\u001b[1;39m,\r\n",
      "    \u001b[0m\u001b[34;1m\"numberThreads\"\u001b[0m\u001b[1;39m: \u001b[0m\u001b[0;32m\"16\"\u001b[0m\u001b[1;39m,\r\n",
      "    \u001b[0m\u001b[34;1m\"alignments\"\u001b[0m\u001b[1;39m: \u001b[0m\u001b[0;32m\"/scratch/ucgd/lustre-work/quinlan/u6018199/chaisson_2019/illumina_crams/ftp.1000genomes.ebi.ac.uk/vol1/ftp/data_collections/hgsv_sv_discovery/data/CHS/HG00514/high_cov_alignment/HG00514.alt_bwamem_GRCh38DH.20150715.CHS.high_coverage\"\u001b[0m\u001b[1;39m\r\n",
      "  \u001b[1;39m}\u001b[0m\u001b[1;39m\r\n",
      "\u001b[1;39m}\u001b[0m\r\n"
     ]
    }
   ],
   "source": [
    "root = \"/scratch/ucgd/lustre-work/quinlan/u6018199/chaisson_2019/analysis/locally_assemble_short_reads/trfermikit\"\n",
    "\n",
    "def print_fixed_parameters(config):\n",
    "    ! $root/bin/jq 'del(.makeRegions.minRepeatLength) | del(.makeRegions.minRepeatPeriod)' $config\n",
    "    \n",
    "print_fixed_parameters('data/minRepeatLength=0/config.json')"
   ]
  },
  {
   "cell_type": "markdown",
   "metadata": {},
   "source": [
    "# The effect of tandem-repeat length on performance"
   ]
  },
  {
   "cell_type": "code",
   "execution_count": 2,
   "metadata": {},
   "outputs": [],
   "source": [
    "import json\n",
    "import pandas as pd \n",
    "\n",
    "def add_performance(table, truvari_data, tool, calls):\n",
    "    table.append([\n",
    "            tool,\n",
    "            calls,\n",
    "            truvari_data['TP-base'],\n",
    "            truvari_data['FN'],\n",
    "            truvari_data['FP'], \n",
    "            truvari_data['TP-base'] + truvari_data['FN'],\n",
    "            truvari_data['TP-base'] + truvari_data['FP']\n",
    "    ])\n",
    "    \n",
    "def create_performance_table(output):\n",
    "    table = []\n",
    "    with open('{}/truvari-pacbio-manta/summary.txt'.format(output)) as json_file:\n",
    "        add_performance(table, json.load(json_file), 'manta', 'all')    \n",
    "    with open('{}/truvari-pacbio-trfermikit/summary.txt'.format(output)) as json_file:\n",
    "        add_performance(table, json.load(json_file), 'trfermikit', 'all')\n",
    "    with open('{}/truvari-pacbio-trfermikit.unitigSupport/summary.txt'.format(output)) as json_file:\n",
    "        add_performance(table, json.load(json_file), 'trfermikit', 'unitigSupport')\n",
    "    with open('{}/truvari-pacbio-trfermikit.unitigSupport.thinned/summary.txt'.format(output)) as json_file:\n",
    "        add_performance(table, json.load(json_file), 'trfermikit', 'unitigSupport.thinned')\n",
    "    return table \n",
    "\n",
    "\n",
    "def visualize_performance_table(output):\n",
    "    from IPython.display import HTML\n",
    "    columns = ['tool', 'calls', 'TP', 'FN', 'FP', '# real events', '# calls']\n",
    "    df_ = pd.DataFrame(\n",
    "        create_performance_table(output),\n",
    "        columns=columns\n",
    "    )\n",
    "    return HTML(df_.to_html(index=False))"
   ]
  },
  {
   "cell_type": "code",
   "execution_count": 3,
   "metadata": {},
   "outputs": [
    {
     "data": {
      "text/html": [
       "<table border=\"1\" class=\"dataframe\">\n",
       "  <thead>\n",
       "    <tr style=\"text-align: right;\">\n",
       "      <th>tool</th>\n",
       "      <th>calls</th>\n",
       "      <th>TP</th>\n",
       "      <th>FN</th>\n",
       "      <th>FP</th>\n",
       "      <th># real events</th>\n",
       "      <th># calls</th>\n",
       "    </tr>\n",
       "  </thead>\n",
       "  <tbody>\n",
       "    <tr>\n",
       "      <td>manta</td>\n",
       "      <td>all</td>\n",
       "      <td>1086</td>\n",
       "      <td>3414</td>\n",
       "      <td>1018</td>\n",
       "      <td>4500</td>\n",
       "      <td>2104</td>\n",
       "    </tr>\n",
       "    <tr>\n",
       "      <td>trfermikit</td>\n",
       "      <td>all</td>\n",
       "      <td>1746</td>\n",
       "      <td>2754</td>\n",
       "      <td>8052</td>\n",
       "      <td>4500</td>\n",
       "      <td>9798</td>\n",
       "    </tr>\n",
       "    <tr>\n",
       "      <td>trfermikit</td>\n",
       "      <td>unitigSupport</td>\n",
       "      <td>1565</td>\n",
       "      <td>2935</td>\n",
       "      <td>2542</td>\n",
       "      <td>4500</td>\n",
       "      <td>4107</td>\n",
       "    </tr>\n",
       "    <tr>\n",
       "      <td>trfermikit</td>\n",
       "      <td>unitigSupport.thinned</td>\n",
       "      <td>1458</td>\n",
       "      <td>3042</td>\n",
       "      <td>1688</td>\n",
       "      <td>4500</td>\n",
       "      <td>3146</td>\n",
       "    </tr>\n",
       "  </tbody>\n",
       "</table>"
      ],
      "text/plain": [
       "<IPython.core.display.HTML object>"
      ]
     },
     "execution_count": 3,
     "metadata": {},
     "output_type": "execute_result"
    }
   ],
   "source": [
    "visualize_performance_table('data/minRepeatLength=0')"
   ]
  },
  {
   "cell_type": "code",
   "execution_count": 4,
   "metadata": {},
   "outputs": [
    {
     "data": {
      "text/html": [
       "<table border=\"1\" class=\"dataframe\">\n",
       "  <thead>\n",
       "    <tr style=\"text-align: right;\">\n",
       "      <th>tool</th>\n",
       "      <th>calls</th>\n",
       "      <th>TP</th>\n",
       "      <th>FN</th>\n",
       "      <th>FP</th>\n",
       "      <th># real events</th>\n",
       "      <th># calls</th>\n",
       "    </tr>\n",
       "  </thead>\n",
       "  <tbody>\n",
       "    <tr>\n",
       "      <td>manta</td>\n",
       "      <td>all</td>\n",
       "      <td>1091</td>\n",
       "      <td>3461</td>\n",
       "      <td>1021</td>\n",
       "      <td>4552</td>\n",
       "      <td>2112</td>\n",
       "    </tr>\n",
       "    <tr>\n",
       "      <td>trfermikit</td>\n",
       "      <td>all</td>\n",
       "      <td>1774</td>\n",
       "      <td>2778</td>\n",
       "      <td>7571</td>\n",
       "      <td>4552</td>\n",
       "      <td>9345</td>\n",
       "    </tr>\n",
       "    <tr>\n",
       "      <td>trfermikit</td>\n",
       "      <td>unitigSupport</td>\n",
       "      <td>1589</td>\n",
       "      <td>2963</td>\n",
       "      <td>2576</td>\n",
       "      <td>4552</td>\n",
       "      <td>4165</td>\n",
       "    </tr>\n",
       "    <tr>\n",
       "      <td>trfermikit</td>\n",
       "      <td>unitigSupport.thinned</td>\n",
       "      <td>1477</td>\n",
       "      <td>3075</td>\n",
       "      <td>1694</td>\n",
       "      <td>4552</td>\n",
       "      <td>3171</td>\n",
       "    </tr>\n",
       "  </tbody>\n",
       "</table>"
      ],
      "text/plain": [
       "<IPython.core.display.HTML object>"
      ]
     },
     "execution_count": 4,
     "metadata": {},
     "output_type": "execute_result"
    }
   ],
   "source": [
    "visualize_performance_table('data/minRepeatLength=50')"
   ]
  },
  {
   "cell_type": "code",
   "execution_count": 5,
   "metadata": {},
   "outputs": [
    {
     "data": {
      "text/html": [
       "<table border=\"1\" class=\"dataframe\">\n",
       "  <thead>\n",
       "    <tr style=\"text-align: right;\">\n",
       "      <th>tool</th>\n",
       "      <th>calls</th>\n",
       "      <th>TP</th>\n",
       "      <th>FN</th>\n",
       "      <th>FP</th>\n",
       "      <th># real events</th>\n",
       "      <th># calls</th>\n",
       "    </tr>\n",
       "  </thead>\n",
       "  <tbody>\n",
       "    <tr>\n",
       "      <td>manta</td>\n",
       "      <td>all</td>\n",
       "      <td>1077</td>\n",
       "      <td>3501</td>\n",
       "      <td>1020</td>\n",
       "      <td>4578</td>\n",
       "      <td>2097</td>\n",
       "    </tr>\n",
       "    <tr>\n",
       "      <td>trfermikit</td>\n",
       "      <td>all</td>\n",
       "      <td>1786</td>\n",
       "      <td>2792</td>\n",
       "      <td>6884</td>\n",
       "      <td>4578</td>\n",
       "      <td>8670</td>\n",
       "    </tr>\n",
       "    <tr>\n",
       "      <td>trfermikit</td>\n",
       "      <td>unitigSupport</td>\n",
       "      <td>1590</td>\n",
       "      <td>2988</td>\n",
       "      <td>2613</td>\n",
       "      <td>4578</td>\n",
       "      <td>4203</td>\n",
       "    </tr>\n",
       "    <tr>\n",
       "      <td>trfermikit</td>\n",
       "      <td>unitigSupport.thinned</td>\n",
       "      <td>1478</td>\n",
       "      <td>3100</td>\n",
       "      <td>1722</td>\n",
       "      <td>4578</td>\n",
       "      <td>3200</td>\n",
       "    </tr>\n",
       "  </tbody>\n",
       "</table>"
      ],
      "text/plain": [
       "<IPython.core.display.HTML object>"
      ]
     },
     "execution_count": 5,
     "metadata": {},
     "output_type": "execute_result"
    }
   ],
   "source": [
    "visualize_performance_table('data/minRepeatLength=100')"
   ]
  },
  {
   "cell_type": "markdown",
   "metadata": {},
   "source": [
    "Notice that the number of real events and the number of calls, both reported by truvari, do not always increase as the constraint on the interrogated regions is relaxed. This appears to be a `truvari` artifact as the number of real events and the numbers of calls in the vcfs supplied to `truvari` *do* increase as the constraint is relaxed, as expected: "
   ]
  },
  {
   "cell_type": "code",
   "execution_count": 6,
   "metadata": {},
   "outputs": [
    {
     "name": "stdout",
     "output_type": "stream",
     "text": [
      "\n",
      "minRepeatLength=0\n",
      "--------------------------------\n",
      "# manta calls: 2349\n",
      "# trfermikit calls: 3462\n",
      "# pacbio calls: 4881\n",
      "# regions: 402343\n",
      "\n",
      "minRepeatLength=50\n",
      "--------------------------------\n",
      "# manta calls: 2282\n",
      "# trfermikit calls: 3385\n",
      "# pacbio calls: 4806\n",
      "# regions: 183852\n",
      "\n",
      "minRepeatLength=100\n",
      "--------------------------------\n",
      "# manta calls: 2178\n",
      "# trfermikit calls: 3308\n",
      "# pacbio calls: 4711\n",
      "# regions: 89031\n"
     ]
    }
   ],
   "source": [
    "! bash line_counts.2.sh"
   ]
  },
  {
   "cell_type": "markdown",
   "metadata": {},
   "source": [
    "These data show that most of the pacbio DELs (>50bp) that lie in tandem repeats, lie in ones larger than 100bp. However tandem repeat regions larger than 100bp are significantly less numerous, making the runtime of `trfermikit` significantly shorter. Our experiments show that most of the benefit of `trfermikit` can be obtained in about 2 hours (the average time to run the software for tandem repeats larger than 100bp on a 70X sample). "
   ]
  },
  {
   "cell_type": "code",
   "execution_count": null,
   "metadata": {},
   "outputs": [],
   "source": []
  }
 ],
 "metadata": {
  "kernelspec": {
   "display_name": "Python 3",
   "language": "python",
   "name": "python3"
  },
  "language_info": {
   "codemirror_mode": {
    "name": "ipython",
    "version": 3
   },
   "file_extension": ".py",
   "mimetype": "text/x-python",
   "name": "python",
   "nbconvert_exporter": "python",
   "pygments_lexer": "ipython3",
   "version": "3.8.6"
  },
  "toc": {
   "base_numbering": 1,
   "nav_menu": {},
   "number_sections": true,
   "sideBar": true,
   "skip_h1_title": false,
   "title_cell": "Table of Contents",
   "title_sidebar": "Contents",
   "toc_cell": false,
   "toc_position": {},
   "toc_section_display": true,
   "toc_window_display": false
  }
 },
 "nbformat": 4,
 "nbformat_minor": 4
}
