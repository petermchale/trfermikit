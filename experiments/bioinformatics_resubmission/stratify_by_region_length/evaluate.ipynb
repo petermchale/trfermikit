{
 "cells": [
  {
   "cell_type": "code",
   "execution_count": 4,
   "source": [
    "import json \n",
    "import numpy as np\n",
    "\n",
    "def get_number_regions(experiment): \n",
    "  number_regions = ! less $experiment/regions.bed.gz | wc -l\n",
    "  number_regions, = number_regions\n",
    "  return int(number_regions)\n",
    "\n",
    "def get_confusion_counts(experiment): \n",
    "  with open('{}/summary.txt'.format(experiment)) as json_file:\n",
    "    return json.load(json_file)\n",
    "\n",
    "def get_eventCount_callCount(experiment): \n",
    "  try: \n",
    "    counts = get_confusion_counts(experiment)\n",
    "    event_count = counts['TP-base'] + counts['FN']\n",
    "    call_count = counts['TP-base'] + counts['FP']\n",
    "    return event_count, call_count\n",
    "  except FileNotFoundError: \n",
    "    return None, None\n",
    "\n",
    "def get_TPR_FDR(experiment):\n",
    "  try: \n",
    "    counts = get_confusion_counts(experiment)\n",
    "    event_count, call_count = get_eventCount_callCount(experiment)\n",
    "    TPR = counts['TP-base']/float(event_count)\n",
    "    FDR = counts['FP']/float(call_count) \n",
    "    return TPR, FDR\n",
    "  except (FileNotFoundError, ZeroDivisionError): \n",
    "    return None, None\n",
    "\n",
    "def get_TP_eventCount(experiment):\n",
    "  try: \n",
    "    counts = get_confusion_counts(experiment)\n",
    "    event_count, _ = get_eventCount_callCount(experiment)\n",
    "    return counts['TP-base'], event_count\n",
    "  except FileNotFoundError: \n",
    "    return None, None\n",
    "\n",
    "def get_FP_callCount(experiment):\n",
    "  try: \n",
    "    counts = get_confusion_counts(experiment)\n",
    "    _, call_count = get_eventCount_callCount(experiment)\n",
    "    return counts['FP'], call_count\n",
    "  except FileNotFoundError: \n",
    "    return None, None\n",
    "\n",
    "def get_TPRs_FDRs(experiments): \n",
    "  TPRs, FDRs = zip(*[get_TPR_FDR(experiment) for experiment in experiments])  \n",
    "  return TPRs, FDRs\n",
    "\n",
    "def get_numbers_regions(experiments): \n",
    "  return [get_number_regions(experiment) for experiment in experiments]\n",
    "\n",
    "def get_eventCounts_callCounts(experiments): \n",
    "  event_counts, call_counts = zip(*[get_eventCount_callCount(experiment) for experiment in experiments])\n",
    "  return event_counts, call_counts\n",
    "\n",
    "def get_overall_TPR_FDR(experiments): \n",
    "  TPs, event_counts = zip(*[get_TP_eventCount(experiment) for experiment in experiments])  \n",
    "  TPR = np.sum(TPs)/np.sum(event_counts)\n",
    "\n",
    "  FPs, call_counts = zip(*[get_FP_callCount(experiment) for experiment in experiments])  \n",
    "  FDR = np.sum(FPs)/np.sum(call_counts)\n",
    "\n",
    "  return TPR, FDR\n",
    "  \n",
    "def get_experiments_and_size_ranges(consortium, population, sample, svtype, caller):\n",
    "  experiments = ! ls -d $consortium/data/$population,$sample/truvari-$svtype-*,*-pacbio-$caller\n",
    "  region_size_ranges_str = [experiment.split('-')[2] for experiment in experiments]\n",
    "  region_size_ranges = [region_size_range_str.split(',') for region_size_range_str in region_size_ranges_str]\n",
    "  region_size_ranges = [(int(start), int(end)) for start, end in region_size_ranges]\n",
    "  return experiments, region_size_ranges_str, region_size_ranges\n",
    "\n",
    "def zip_and_sort(experiments_and_size_ranges):\n",
    "  l = list(zip(*experiments_and_size_ranges))    \n",
    "  l.sort(key=lambda x: x[2])\n",
    "  return tuple(zip(*l))[:2]\n",
    "\n",
    "zip_and_sort(get_experiments_and_size_ranges('chaisson_2019', 'PUR', 'HG00733', 'DEL', 'manta'))"
   ],
   "outputs": [
    {
     "output_type": "execute_result",
     "data": {
      "text/plain": [
       "(('chaisson_2019/data/PUR,HG00733/truvari-DEL-600,625-pacbio-manta',\n",
       "  'chaisson_2019/data/PUR,HG00733/truvari-DEL-625,650-pacbio-manta',\n",
       "  'chaisson_2019/data/PUR,HG00733/truvari-DEL-650,700-pacbio-manta',\n",
       "  'chaisson_2019/data/PUR,HG00733/truvari-DEL-700,800-pacbio-manta',\n",
       "  'chaisson_2019/data/PUR,HG00733/truvari-DEL-800,1000-pacbio-manta',\n",
       "  'chaisson_2019/data/PUR,HG00733/truvari-DEL-1000,2000-pacbio-manta',\n",
       "  'chaisson_2019/data/PUR,HG00733/truvari-DEL-2000,100000-pacbio-manta'),\n",
       " ('600,625',\n",
       "  '625,650',\n",
       "  '650,700',\n",
       "  '700,800',\n",
       "  '800,1000',\n",
       "  '1000,2000',\n",
       "  '2000,100000'))"
      ]
     },
     "metadata": {},
     "execution_count": 4
    }
   ],
   "metadata": {}
  },
  {
   "cell_type": "code",
   "execution_count": 5,
   "source": [
    "import plotly.graph_objects as go\n",
    "from plotly.subplots import make_subplots\n",
    "\n",
    "def get_font(size=20, family='Arial'): \n",
    "  return dict(family=family, color='black', size=size)\n",
    "\n",
    "def get_marker(color=None, linewidth=1, linecolor='black'): \n",
    "  return dict(\n",
    "    line=dict(width=linewidth, color=linecolor),\n",
    "    color=color\n",
    "  )\n",
    "\n",
    "def update_axes(fig, axis, text=None, showline=True, ticks='outside', linewidth=1.5, range_=None, row=1, col=1): \n",
    "  update = {\n",
    "    'x': fig.update_xaxes,\n",
    "    'y': fig.update_yaxes\n",
    "  }\n",
    "  \n",
    "  update[axis]( \n",
    "    title=dict(text=text),\n",
    "    showgrid=False,\n",
    "    showline=showline, \n",
    "    linewidth=linewidth, \n",
    "    linecolor='black',\n",
    "    ticks=ticks, \n",
    "    tickwidth=linewidth, \n",
    "    tickcolor='black', \n",
    "    ticklen=10,\n",
    "    range=range_,\n",
    "    row=row,\n",
    "    col=col\n",
    "  )\n",
    "\n",
    "def get_slop(consortium, population, sample): \n",
    "  with open(f'{consortium}/data/{population},{sample}/config.json') as json_file:\n",
    "    return int(json.load(json_file)['makeRegions']['slop'])\n",
    "\n",
    "def region_to_VNTR(consortium, population, sample, region_size_ranges_str): \n",
    "  region_size_ranges = [region_size_range_str.split(',') for region_size_range_str in region_size_ranges_str]\n",
    "  return [f'{int(start)-2*get_slop(consortium, population, sample)}-{int(end)-2*get_slop(consortium, population, sample)}' \n",
    "          for start, end in region_size_ranges]\n",
    "\n",
    "def get_VNTR_size_ranges__TPRs__FDRs(consortium, population, sample, svtype, caller): \n",
    "  experiments, region_size_ranges_str = zip_and_sort(get_experiments_and_size_ranges(consortium, population, sample, svtype, caller))\n",
    "  TPRs, FDRs = get_TPRs_FDRs(experiments)\n",
    "  TPR, FDR = get_overall_TPR_FDR(experiments)\n",
    "  print(f'{population}:{sample}:{svtype}:{caller}:')\n",
    "  print(f'overall TPR = {TPR}')\n",
    "  print(f'overall FDR = {FDR}')\n",
    "  VNTR_size_ranges = region_to_VNTR(consortium, population, sample, region_size_ranges_str)\n",
    "  return VNTR_size_ranges, TPRs, FDRs\n",
    "\n",
    "def get_VNTR_size_ranges__numbers_regions__event_counts__call_counts(consortium, population, sample, svtype, caller): \n",
    "  experiments, region_size_ranges_str = zip_and_sort(get_experiments_and_size_ranges(consortium, population, sample, svtype, caller))\n",
    "  numbers_regions = get_numbers_regions(experiments)\n",
    "  event_counts, call_counts = get_eventCounts_callCounts(experiments)\n",
    "  VNTR_size_ranges = region_to_VNTR(consortium, population, sample, region_size_ranges_str)\n",
    "  return VNTR_size_ranges, numbers_regions, event_counts, call_counts\n",
    "\n",
    "def create_bar_chart_AB(consortium, population, sample, svtype, caller, chart_type, color): \n",
    "  VNTR_size_ranges, TPRs, FDRs = get_VNTR_size_ranges__TPRs__FDRs(consortium, population, sample, svtype, caller)\n",
    "  y = { \n",
    "    'TPR': TPRs, \n",
    "    'FDR': FDRs,\n",
    "  }\n",
    "  name = { \n",
    "    'manta': 'manta',\n",
    "    'trfermikit.unitigSupport.thinned': 'trfermikit'\n",
    "  }\n",
    "  def get_showlegend(): \n",
    "    if chart_type == 'TPR': return True\n",
    "    elif chart_type == 'FDR': return False \n",
    "    else: raise ValueError\n",
    "    \n",
    "  return go.Bar(\n",
    "    x=VNTR_size_ranges, \n",
    "    y=y[chart_type], \n",
    "    name=name[caller],\n",
    "    marker=get_marker(color=color),\n",
    "    showlegend=get_showlegend()\n",
    "  )"
   ],
   "outputs": [],
   "metadata": {}
  },
  {
   "cell_type": "code",
   "execution_count": 6,
   "source": [
    "def plot_performance_AB(consortium, population, sample, svtype, chart_type, fig, row, col): \n",
    "  fig.add_trace(\n",
    "    create_bar_chart_AB(consortium, population, sample, svtype, 'trfermikit.unitigSupport.thinned', chart_type, color='red'),\n",
    "    row=row, \n",
    "    col=col\n",
    "  ) \n",
    "  fig.add_trace(\n",
    "    create_bar_chart_AB(consortium, population, sample, svtype, 'manta', chart_type, color='green'),\n",
    "    row=row,\n",
    "    col=col\n",
    "  ) \n",
    "  update_axes(fig, 'x', 'VNTR length (bps)', showline=False, ticks=None, row=row, col=col) \n",
    "  y_text = { \n",
    "    'TPR': 'Recall, TP/(TP + FN)',\n",
    "    'FDR': 'False Discovery Rate, FP/(TP + FP)'    \n",
    "  }  \n",
    "  update_axes(fig, 'y' , y_text[chart_type], range_=[0, 1], row=row, col=col) \n",
    "\n",
    "def plot_performance_C(consortium, population, sample, svtype, fig, row, col): \n",
    "  VNTR_size_ranges, numbers_regions, event_counts, _ = \\\n",
    "    get_VNTR_size_ranges__numbers_regions__event_counts__call_counts(consortium, population, sample, svtype, caller='manta')\n",
    "  fig.add_trace(\n",
    "    go.Bar(\n",
    "      x=VNTR_size_ranges, \n",
    "      y=numbers_regions, \n",
    "      name='VNTRs',\n",
    "      marker=get_marker(),\n",
    "      showlegend=True\n",
    "    ),\n",
    "    row=row, \n",
    "    col=col\n",
    "  ) \n",
    "  fig.add_trace(\n",
    "    go.Bar(\n",
    "      x=VNTR_size_ranges, \n",
    "      y=event_counts, \n",
    "      name=svtype,\n",
    "      marker=get_marker(),\n",
    "      showlegend=True\n",
    "    ), \n",
    "    row=row,\n",
    "    col=col\n",
    "  ) \n",
    "  update_axes(fig, 'x', 'VNTR length (bps)', showline=False, ticks=None, row=row, col=col)\n",
    "  update_axes(fig, 'y' , 'count', range_=[0, None], row=row, col=col)\n",
    "  fig.update_yaxes(type='log', row=row, col=col)\n",
    "\n",
    "def plot_performance(consortium, population, sample, svtype): \n",
    "  fig = make_subplots(\n",
    "    rows=1, \n",
    "    cols=3,\n",
    "    column_widths=[1, 1, 1],\n",
    "    row_heights=[1],\n",
    "    specs=[[{\"type\": \"bar\"}, {\"type\": \"bar\"}, {\"type\": \"bar\"}]],\n",
    "    horizontal_spacing=0.1\n",
    "  ) \n",
    "  \n",
    "  plot_performance_AB(consortium, population, sample, svtype, chart_type='TPR', fig=fig, row=1, col=1)\n",
    "  plot_performance_AB(consortium, population, sample, svtype, chart_type='FDR', fig=fig, row=1, col=2)\n",
    "  plot_performance_C(consortium, population, sample, svtype, fig=fig, row=1, col=3)\n",
    "\n",
    "  fig.update_layout(dict(\n",
    "      xaxis=dict(type='category'),\n",
    "      plot_bgcolor='white',\n",
    "      font=get_font(),\n",
    "      width=1500,\n",
    "      height=600,\n",
    "      margin=dict(\n",
    "        l=50,\n",
    "        r=50,\n",
    "        b=50,\n",
    "        t=50,\n",
    "        pad=0\n",
    "      )\n",
    "  ))\n",
    "\n",
    "  fig.update_xaxes(tickangle=45)\n",
    "\n",
    "  fig.show()\n",
    "\n",
    "plot_performance('HGSVC2', 'CEU', 'NA12878', 'DEL')"
   ],
   "outputs": [
    {
     "output_type": "stream",
     "name": "stdout",
     "text": [
      "CEU:NA12878:DEL:trfermikit.unitigSupport.thinned:\n",
      "overall TPR = 0.3719399300555441\n",
      "overall FDR = 0.399734395750332\n",
      "CEU:NA12878:DEL:manta:\n",
      "overall TPR = 0.2606459576218885\n",
      "overall FDR = 0.40207645115620577\n",
      "CEU:NA12878:DEL:trfermikit.unitigSupport.thinned:\n",
      "overall TPR = 0.3719399300555441\n",
      "overall FDR = 0.399734395750332\n",
      "CEU:NA12878:DEL:manta:\n",
      "overall TPR = 0.2606459576218885\n",
      "overall FDR = 0.40207645115620577\n"
     ]
    },
    {
     "output_type": "display_data",
     "data": {
      "application/vnd.plotly.v1+json": {
       "config": {
        "plotlyServerURL": "https://plot.ly"
       },
       "data": [
        {
         "marker": {
          "color": "red",
          "line": {
           "color": "black",
           "width": 1
          }
         },
         "name": "trfermikit",
         "showlegend": true,
         "type": "bar",
         "x": [
          "100-125",
          "125-150",
          "150-200",
          "200-300",
          "300-500",
          "500-1500",
          "1500-99500"
         ],
         "xaxis": "x",
         "y": [
          0.8109756097560976,
          0.7921348314606742,
          0.6730769230769231,
          0.5257731958762887,
          0.44730941704035876,
          0.26174496644295303,
          0.12989921612541994
         ],
         "yaxis": "y"
        },
        {
         "marker": {
          "color": "green",
          "line": {
           "color": "black",
           "width": 1
          }
         },
         "name": "manta",
         "showlegend": true,
         "type": "bar",
         "x": [
          "100-125",
          "125-150",
          "150-200",
          "200-300",
          "300-500",
          "500-1500",
          "1500-99500"
         ],
         "xaxis": "x",
         "y": [
          0.8109756097560976,
          0.7584269662921348,
          0.554945054945055,
          0.31958762886597936,
          0.24551569506726456,
          0.17170022371364654,
          0.09518477043673013
         ],
         "yaxis": "y"
        },
        {
         "marker": {
          "color": "red",
          "line": {
           "color": "black",
           "width": 1
          }
         },
         "name": "trfermikit",
         "showlegend": false,
         "type": "bar",
         "x": [
          "100-125",
          "125-150",
          "150-200",
          "200-300",
          "300-500",
          "500-1500",
          "1500-99500"
         ],
         "xaxis": "x2",
         "y": [
          0.08275862068965517,
          0.06,
          0.14335664335664336,
          0.25,
          0.3646496815286624,
          0.5521531100478468,
          0.6685714285714286
         ],
         "yaxis": "y2"
        },
        {
         "marker": {
          "color": "green",
          "line": {
           "color": "black",
           "width": 1
          }
         },
         "name": "manta",
         "showlegend": false,
         "type": "bar",
         "x": [
          "100-125",
          "125-150",
          "150-200",
          "200-300",
          "300-500",
          "500-1500",
          "1500-99500"
         ],
         "xaxis": "x2",
         "y": [
          0.08275862068965517,
          0.09395973154362416,
          0.22900763358778625,
          0.211864406779661,
          0.39502762430939226,
          0.5771349862258953,
          0.6443514644351465
         ],
         "yaxis": "y2"
        },
        {
         "marker": {
          "line": {
           "color": "black",
           "width": 1
          }
         },
         "name": "VNTRs",
         "showlegend": true,
         "type": "bar",
         "x": [
          "100-125",
          "125-150",
          "150-200",
          "200-300",
          "300-500",
          "500-1500",
          "1500-99500"
         ],
         "xaxis": "x3",
         "y": [
          11052,
          8843,
          12974,
          18196,
          15464,
          20910,
          1689
         ],
         "yaxis": "y3"
        },
        {
         "marker": {
          "line": {
           "color": "black",
           "width": 1
          }
         },
         "name": "DEL",
         "showlegend": true,
         "type": "bar",
         "x": [
          "100-125",
          "125-150",
          "150-200",
          "200-300",
          "300-500",
          "500-1500",
          "1500-99500"
         ],
         "xaxis": "x3",
         "y": [
          164,
          178,
          364,
          582,
          892,
          1788,
          893
         ],
         "yaxis": "y3"
        }
       ],
       "layout": {
        "font": {
         "color": "black",
         "family": "Arial",
         "size": 20
        },
        "height": 600,
        "margin": {
         "b": 50,
         "l": 50,
         "pad": 0,
         "r": 50,
         "t": 50
        },
        "plot_bgcolor": "white",
        "template": {
         "data": {
          "bar": [
           {
            "error_x": {
             "color": "#2a3f5f"
            },
            "error_y": {
             "color": "#2a3f5f"
            },
            "marker": {
             "line": {
              "color": "#E5ECF6",
              "width": 0.5
             }
            },
            "type": "bar"
           }
          ],
          "barpolar": [
           {
            "marker": {
             "line": {
              "color": "#E5ECF6",
              "width": 0.5
             }
            },
            "type": "barpolar"
           }
          ],
          "carpet": [
           {
            "aaxis": {
             "endlinecolor": "#2a3f5f",
             "gridcolor": "white",
             "linecolor": "white",
             "minorgridcolor": "white",
             "startlinecolor": "#2a3f5f"
            },
            "baxis": {
             "endlinecolor": "#2a3f5f",
             "gridcolor": "white",
             "linecolor": "white",
             "minorgridcolor": "white",
             "startlinecolor": "#2a3f5f"
            },
            "type": "carpet"
           }
          ],
          "choropleth": [
           {
            "colorbar": {
             "outlinewidth": 0,
             "ticks": ""
            },
            "type": "choropleth"
           }
          ],
          "contour": [
           {
            "colorbar": {
             "outlinewidth": 0,
             "ticks": ""
            },
            "colorscale": [
             [
              0,
              "#0d0887"
             ],
             [
              0.1111111111111111,
              "#46039f"
             ],
             [
              0.2222222222222222,
              "#7201a8"
             ],
             [
              0.3333333333333333,
              "#9c179e"
             ],
             [
              0.4444444444444444,
              "#bd3786"
             ],
             [
              0.5555555555555556,
              "#d8576b"
             ],
             [
              0.6666666666666666,
              "#ed7953"
             ],
             [
              0.7777777777777778,
              "#fb9f3a"
             ],
             [
              0.8888888888888888,
              "#fdca26"
             ],
             [
              1,
              "#f0f921"
             ]
            ],
            "type": "contour"
           }
          ],
          "contourcarpet": [
           {
            "colorbar": {
             "outlinewidth": 0,
             "ticks": ""
            },
            "type": "contourcarpet"
           }
          ],
          "heatmap": [
           {
            "colorbar": {
             "outlinewidth": 0,
             "ticks": ""
            },
            "colorscale": [
             [
              0,
              "#0d0887"
             ],
             [
              0.1111111111111111,
              "#46039f"
             ],
             [
              0.2222222222222222,
              "#7201a8"
             ],
             [
              0.3333333333333333,
              "#9c179e"
             ],
             [
              0.4444444444444444,
              "#bd3786"
             ],
             [
              0.5555555555555556,
              "#d8576b"
             ],
             [
              0.6666666666666666,
              "#ed7953"
             ],
             [
              0.7777777777777778,
              "#fb9f3a"
             ],
             [
              0.8888888888888888,
              "#fdca26"
             ],
             [
              1,
              "#f0f921"
             ]
            ],
            "type": "heatmap"
           }
          ],
          "heatmapgl": [
           {
            "colorbar": {
             "outlinewidth": 0,
             "ticks": ""
            },
            "colorscale": [
             [
              0,
              "#0d0887"
             ],
             [
              0.1111111111111111,
              "#46039f"
             ],
             [
              0.2222222222222222,
              "#7201a8"
             ],
             [
              0.3333333333333333,
              "#9c179e"
             ],
             [
              0.4444444444444444,
              "#bd3786"
             ],
             [
              0.5555555555555556,
              "#d8576b"
             ],
             [
              0.6666666666666666,
              "#ed7953"
             ],
             [
              0.7777777777777778,
              "#fb9f3a"
             ],
             [
              0.8888888888888888,
              "#fdca26"
             ],
             [
              1,
              "#f0f921"
             ]
            ],
            "type": "heatmapgl"
           }
          ],
          "histogram": [
           {
            "marker": {
             "colorbar": {
              "outlinewidth": 0,
              "ticks": ""
             }
            },
            "type": "histogram"
           }
          ],
          "histogram2d": [
           {
            "colorbar": {
             "outlinewidth": 0,
             "ticks": ""
            },
            "colorscale": [
             [
              0,
              "#0d0887"
             ],
             [
              0.1111111111111111,
              "#46039f"
             ],
             [
              0.2222222222222222,
              "#7201a8"
             ],
             [
              0.3333333333333333,
              "#9c179e"
             ],
             [
              0.4444444444444444,
              "#bd3786"
             ],
             [
              0.5555555555555556,
              "#d8576b"
             ],
             [
              0.6666666666666666,
              "#ed7953"
             ],
             [
              0.7777777777777778,
              "#fb9f3a"
             ],
             [
              0.8888888888888888,
              "#fdca26"
             ],
             [
              1,
              "#f0f921"
             ]
            ],
            "type": "histogram2d"
           }
          ],
          "histogram2dcontour": [
           {
            "colorbar": {
             "outlinewidth": 0,
             "ticks": ""
            },
            "colorscale": [
             [
              0,
              "#0d0887"
             ],
             [
              0.1111111111111111,
              "#46039f"
             ],
             [
              0.2222222222222222,
              "#7201a8"
             ],
             [
              0.3333333333333333,
              "#9c179e"
             ],
             [
              0.4444444444444444,
              "#bd3786"
             ],
             [
              0.5555555555555556,
              "#d8576b"
             ],
             [
              0.6666666666666666,
              "#ed7953"
             ],
             [
              0.7777777777777778,
              "#fb9f3a"
             ],
             [
              0.8888888888888888,
              "#fdca26"
             ],
             [
              1,
              "#f0f921"
             ]
            ],
            "type": "histogram2dcontour"
           }
          ],
          "mesh3d": [
           {
            "colorbar": {
             "outlinewidth": 0,
             "ticks": ""
            },
            "type": "mesh3d"
           }
          ],
          "parcoords": [
           {
            "line": {
             "colorbar": {
              "outlinewidth": 0,
              "ticks": ""
             }
            },
            "type": "parcoords"
           }
          ],
          "pie": [
           {
            "automargin": true,
            "type": "pie"
           }
          ],
          "scatter": [
           {
            "marker": {
             "colorbar": {
              "outlinewidth": 0,
              "ticks": ""
             }
            },
            "type": "scatter"
           }
          ],
          "scatter3d": [
           {
            "line": {
             "colorbar": {
              "outlinewidth": 0,
              "ticks": ""
             }
            },
            "marker": {
             "colorbar": {
              "outlinewidth": 0,
              "ticks": ""
             }
            },
            "type": "scatter3d"
           }
          ],
          "scattercarpet": [
           {
            "marker": {
             "colorbar": {
              "outlinewidth": 0,
              "ticks": ""
             }
            },
            "type": "scattercarpet"
           }
          ],
          "scattergeo": [
           {
            "marker": {
             "colorbar": {
              "outlinewidth": 0,
              "ticks": ""
             }
            },
            "type": "scattergeo"
           }
          ],
          "scattergl": [
           {
            "marker": {
             "colorbar": {
              "outlinewidth": 0,
              "ticks": ""
             }
            },
            "type": "scattergl"
           }
          ],
          "scattermapbox": [
           {
            "marker": {
             "colorbar": {
              "outlinewidth": 0,
              "ticks": ""
             }
            },
            "type": "scattermapbox"
           }
          ],
          "scatterpolar": [
           {
            "marker": {
             "colorbar": {
              "outlinewidth": 0,
              "ticks": ""
             }
            },
            "type": "scatterpolar"
           }
          ],
          "scatterpolargl": [
           {
            "marker": {
             "colorbar": {
              "outlinewidth": 0,
              "ticks": ""
             }
            },
            "type": "scatterpolargl"
           }
          ],
          "scatterternary": [
           {
            "marker": {
             "colorbar": {
              "outlinewidth": 0,
              "ticks": ""
             }
            },
            "type": "scatterternary"
           }
          ],
          "surface": [
           {
            "colorbar": {
             "outlinewidth": 0,
             "ticks": ""
            },
            "colorscale": [
             [
              0,
              "#0d0887"
             ],
             [
              0.1111111111111111,
              "#46039f"
             ],
             [
              0.2222222222222222,
              "#7201a8"
             ],
             [
              0.3333333333333333,
              "#9c179e"
             ],
             [
              0.4444444444444444,
              "#bd3786"
             ],
             [
              0.5555555555555556,
              "#d8576b"
             ],
             [
              0.6666666666666666,
              "#ed7953"
             ],
             [
              0.7777777777777778,
              "#fb9f3a"
             ],
             [
              0.8888888888888888,
              "#fdca26"
             ],
             [
              1,
              "#f0f921"
             ]
            ],
            "type": "surface"
           }
          ],
          "table": [
           {
            "cells": {
             "fill": {
              "color": "#EBF0F8"
             },
             "line": {
              "color": "white"
             }
            },
            "header": {
             "fill": {
              "color": "#C8D4E3"
             },
             "line": {
              "color": "white"
             }
            },
            "type": "table"
           }
          ]
         },
         "layout": {
          "annotationdefaults": {
           "arrowcolor": "#2a3f5f",
           "arrowhead": 0,
           "arrowwidth": 1
          },
          "autotypenumbers": "strict",
          "coloraxis": {
           "colorbar": {
            "outlinewidth": 0,
            "ticks": ""
           }
          },
          "colorscale": {
           "diverging": [
            [
             0,
             "#8e0152"
            ],
            [
             0.1,
             "#c51b7d"
            ],
            [
             0.2,
             "#de77ae"
            ],
            [
             0.3,
             "#f1b6da"
            ],
            [
             0.4,
             "#fde0ef"
            ],
            [
             0.5,
             "#f7f7f7"
            ],
            [
             0.6,
             "#e6f5d0"
            ],
            [
             0.7,
             "#b8e186"
            ],
            [
             0.8,
             "#7fbc41"
            ],
            [
             0.9,
             "#4d9221"
            ],
            [
             1,
             "#276419"
            ]
           ],
           "sequential": [
            [
             0,
             "#0d0887"
            ],
            [
             0.1111111111111111,
             "#46039f"
            ],
            [
             0.2222222222222222,
             "#7201a8"
            ],
            [
             0.3333333333333333,
             "#9c179e"
            ],
            [
             0.4444444444444444,
             "#bd3786"
            ],
            [
             0.5555555555555556,
             "#d8576b"
            ],
            [
             0.6666666666666666,
             "#ed7953"
            ],
            [
             0.7777777777777778,
             "#fb9f3a"
            ],
            [
             0.8888888888888888,
             "#fdca26"
            ],
            [
             1,
             "#f0f921"
            ]
           ],
           "sequentialminus": [
            [
             0,
             "#0d0887"
            ],
            [
             0.1111111111111111,
             "#46039f"
            ],
            [
             0.2222222222222222,
             "#7201a8"
            ],
            [
             0.3333333333333333,
             "#9c179e"
            ],
            [
             0.4444444444444444,
             "#bd3786"
            ],
            [
             0.5555555555555556,
             "#d8576b"
            ],
            [
             0.6666666666666666,
             "#ed7953"
            ],
            [
             0.7777777777777778,
             "#fb9f3a"
            ],
            [
             0.8888888888888888,
             "#fdca26"
            ],
            [
             1,
             "#f0f921"
            ]
           ]
          },
          "colorway": [
           "#636efa",
           "#EF553B",
           "#00cc96",
           "#ab63fa",
           "#FFA15A",
           "#19d3f3",
           "#FF6692",
           "#B6E880",
           "#FF97FF",
           "#FECB52"
          ],
          "font": {
           "color": "#2a3f5f"
          },
          "geo": {
           "bgcolor": "white",
           "lakecolor": "white",
           "landcolor": "#E5ECF6",
           "showlakes": true,
           "showland": true,
           "subunitcolor": "white"
          },
          "hoverlabel": {
           "align": "left"
          },
          "hovermode": "closest",
          "mapbox": {
           "style": "light"
          },
          "paper_bgcolor": "white",
          "plot_bgcolor": "#E5ECF6",
          "polar": {
           "angularaxis": {
            "gridcolor": "white",
            "linecolor": "white",
            "ticks": ""
           },
           "bgcolor": "#E5ECF6",
           "radialaxis": {
            "gridcolor": "white",
            "linecolor": "white",
            "ticks": ""
           }
          },
          "scene": {
           "xaxis": {
            "backgroundcolor": "#E5ECF6",
            "gridcolor": "white",
            "gridwidth": 2,
            "linecolor": "white",
            "showbackground": true,
            "ticks": "",
            "zerolinecolor": "white"
           },
           "yaxis": {
            "backgroundcolor": "#E5ECF6",
            "gridcolor": "white",
            "gridwidth": 2,
            "linecolor": "white",
            "showbackground": true,
            "ticks": "",
            "zerolinecolor": "white"
           },
           "zaxis": {
            "backgroundcolor": "#E5ECF6",
            "gridcolor": "white",
            "gridwidth": 2,
            "linecolor": "white",
            "showbackground": true,
            "ticks": "",
            "zerolinecolor": "white"
           }
          },
          "shapedefaults": {
           "line": {
            "color": "#2a3f5f"
           }
          },
          "ternary": {
           "aaxis": {
            "gridcolor": "white",
            "linecolor": "white",
            "ticks": ""
           },
           "baxis": {
            "gridcolor": "white",
            "linecolor": "white",
            "ticks": ""
           },
           "bgcolor": "#E5ECF6",
           "caxis": {
            "gridcolor": "white",
            "linecolor": "white",
            "ticks": ""
           }
          },
          "title": {
           "x": 0.05
          },
          "xaxis": {
           "automargin": true,
           "gridcolor": "white",
           "linecolor": "white",
           "ticks": "",
           "title": {
            "standoff": 15
           },
           "zerolinecolor": "white",
           "zerolinewidth": 2
          },
          "yaxis": {
           "automargin": true,
           "gridcolor": "white",
           "linecolor": "white",
           "ticks": "",
           "title": {
            "standoff": 15
           },
           "zerolinecolor": "white",
           "zerolinewidth": 2
          }
         }
        },
        "width": 1500,
        "xaxis": {
         "anchor": "y",
         "domain": [
          0,
          0.26666666666666666
         ],
         "linecolor": "black",
         "linewidth": 1.5,
         "showgrid": false,
         "showline": false,
         "tickangle": 45,
         "tickcolor": "black",
         "ticklen": 10,
         "tickwidth": 1.5,
         "title": {
          "text": "VNTR length (bps)"
         },
         "type": "category"
        },
        "xaxis2": {
         "anchor": "y2",
         "domain": [
          0.3666666666666667,
          0.6333333333333333
         ],
         "linecolor": "black",
         "linewidth": 1.5,
         "showgrid": false,
         "showline": false,
         "tickangle": 45,
         "tickcolor": "black",
         "ticklen": 10,
         "tickwidth": 1.5,
         "title": {
          "text": "VNTR length (bps)"
         }
        },
        "xaxis3": {
         "anchor": "y3",
         "domain": [
          0.7333333333333334,
          1
         ],
         "linecolor": "black",
         "linewidth": 1.5,
         "showgrid": false,
         "showline": false,
         "tickangle": 45,
         "tickcolor": "black",
         "ticklen": 10,
         "tickwidth": 1.5,
         "title": {
          "text": "VNTR length (bps)"
         }
        },
        "yaxis": {
         "anchor": "x",
         "domain": [
          0,
          1
         ],
         "linecolor": "black",
         "linewidth": 1.5,
         "range": [
          0,
          1
         ],
         "showgrid": false,
         "showline": true,
         "tickcolor": "black",
         "ticklen": 10,
         "ticks": "outside",
         "tickwidth": 1.5,
         "title": {
          "text": "Recall, TP/(TP + FN)"
         }
        },
        "yaxis2": {
         "anchor": "x2",
         "domain": [
          0,
          1
         ],
         "linecolor": "black",
         "linewidth": 1.5,
         "range": [
          0,
          1
         ],
         "showgrid": false,
         "showline": true,
         "tickcolor": "black",
         "ticklen": 10,
         "ticks": "outside",
         "tickwidth": 1.5,
         "title": {
          "text": "False Discovery Rate, FP/(TP + FP)"
         }
        },
        "yaxis3": {
         "anchor": "x3",
         "domain": [
          0,
          1
         ],
         "linecolor": "black",
         "linewidth": 1.5,
         "range": [
          0,
          null
         ],
         "showgrid": false,
         "showline": true,
         "tickcolor": "black",
         "ticklen": 10,
         "ticks": "outside",
         "tickwidth": 1.5,
         "title": {
          "text": "count"
         },
         "type": "log"
        }
       }
      },
      "text/html": [
       "<div>                            <div id=\"a8e76151-9ccf-4c2d-9ae7-2239192ae598\" class=\"plotly-graph-div\" style=\"height:600px; width:1500px;\"></div>            <script type=\"text/javascript\">                require([\"plotly\"], function(Plotly) {                    window.PLOTLYENV=window.PLOTLYENV || {};                                    if (document.getElementById(\"a8e76151-9ccf-4c2d-9ae7-2239192ae598\")) {                    Plotly.newPlot(                        \"a8e76151-9ccf-4c2d-9ae7-2239192ae598\",                        [{\"marker\": {\"color\": \"red\", \"line\": {\"color\": \"black\", \"width\": 1}}, \"name\": \"trfermikit\", \"showlegend\": true, \"type\": \"bar\", \"x\": [\"100-125\", \"125-150\", \"150-200\", \"200-300\", \"300-500\", \"500-1500\", \"1500-99500\"], \"xaxis\": \"x\", \"y\": [0.8109756097560976, 0.7921348314606742, 0.6730769230769231, 0.5257731958762887, 0.44730941704035876, 0.26174496644295303, 0.12989921612541994], \"yaxis\": \"y\"}, {\"marker\": {\"color\": \"green\", \"line\": {\"color\": \"black\", \"width\": 1}}, \"name\": \"manta\", \"showlegend\": true, \"type\": \"bar\", \"x\": [\"100-125\", \"125-150\", \"150-200\", \"200-300\", \"300-500\", \"500-1500\", \"1500-99500\"], \"xaxis\": \"x\", \"y\": [0.8109756097560976, 0.7584269662921348, 0.554945054945055, 0.31958762886597936, 0.24551569506726456, 0.17170022371364654, 0.09518477043673013], \"yaxis\": \"y\"}, {\"marker\": {\"color\": \"red\", \"line\": {\"color\": \"black\", \"width\": 1}}, \"name\": \"trfermikit\", \"showlegend\": false, \"type\": \"bar\", \"x\": [\"100-125\", \"125-150\", \"150-200\", \"200-300\", \"300-500\", \"500-1500\", \"1500-99500\"], \"xaxis\": \"x2\", \"y\": [0.08275862068965517, 0.06, 0.14335664335664336, 0.25, 0.3646496815286624, 0.5521531100478468, 0.6685714285714286], \"yaxis\": \"y2\"}, {\"marker\": {\"color\": \"green\", \"line\": {\"color\": \"black\", \"width\": 1}}, \"name\": \"manta\", \"showlegend\": false, \"type\": \"bar\", \"x\": [\"100-125\", \"125-150\", \"150-200\", \"200-300\", \"300-500\", \"500-1500\", \"1500-99500\"], \"xaxis\": \"x2\", \"y\": [0.08275862068965517, 0.09395973154362416, 0.22900763358778625, 0.211864406779661, 0.39502762430939226, 0.5771349862258953, 0.6443514644351465], \"yaxis\": \"y2\"}, {\"marker\": {\"line\": {\"color\": \"black\", \"width\": 1}}, \"name\": \"VNTRs\", \"showlegend\": true, \"type\": \"bar\", \"x\": [\"100-125\", \"125-150\", \"150-200\", \"200-300\", \"300-500\", \"500-1500\", \"1500-99500\"], \"xaxis\": \"x3\", \"y\": [11052, 8843, 12974, 18196, 15464, 20910, 1689], \"yaxis\": \"y3\"}, {\"marker\": {\"line\": {\"color\": \"black\", \"width\": 1}}, \"name\": \"DEL\", \"showlegend\": true, \"type\": \"bar\", \"x\": [\"100-125\", \"125-150\", \"150-200\", \"200-300\", \"300-500\", \"500-1500\", \"1500-99500\"], \"xaxis\": \"x3\", \"y\": [164, 178, 364, 582, 892, 1788, 893], \"yaxis\": \"y3\"}],                        {\"font\": {\"color\": \"black\", \"family\": \"Arial\", \"size\": 20}, \"height\": 600, \"margin\": {\"b\": 50, \"l\": 50, \"pad\": 0, \"r\": 50, \"t\": 50}, \"plot_bgcolor\": \"white\", \"template\": {\"data\": {\"bar\": [{\"error_x\": {\"color\": \"#2a3f5f\"}, \"error_y\": {\"color\": \"#2a3f5f\"}, \"marker\": {\"line\": {\"color\": \"#E5ECF6\", \"width\": 0.5}}, \"type\": \"bar\"}], \"barpolar\": [{\"marker\": {\"line\": {\"color\": \"#E5ECF6\", \"width\": 0.5}}, \"type\": \"barpolar\"}], \"carpet\": [{\"aaxis\": {\"endlinecolor\": \"#2a3f5f\", \"gridcolor\": \"white\", \"linecolor\": \"white\", \"minorgridcolor\": \"white\", \"startlinecolor\": \"#2a3f5f\"}, \"baxis\": {\"endlinecolor\": \"#2a3f5f\", \"gridcolor\": \"white\", \"linecolor\": \"white\", \"minorgridcolor\": \"white\", \"startlinecolor\": \"#2a3f5f\"}, \"type\": \"carpet\"}], \"choropleth\": [{\"colorbar\": {\"outlinewidth\": 0, \"ticks\": \"\"}, \"type\": \"choropleth\"}], \"contour\": [{\"colorbar\": {\"outlinewidth\": 0, \"ticks\": \"\"}, \"colorscale\": [[0.0, \"#0d0887\"], [0.1111111111111111, \"#46039f\"], [0.2222222222222222, \"#7201a8\"], [0.3333333333333333, \"#9c179e\"], [0.4444444444444444, \"#bd3786\"], [0.5555555555555556, \"#d8576b\"], [0.6666666666666666, \"#ed7953\"], [0.7777777777777778, \"#fb9f3a\"], [0.8888888888888888, \"#fdca26\"], [1.0, \"#f0f921\"]], \"type\": \"contour\"}], \"contourcarpet\": [{\"colorbar\": {\"outlinewidth\": 0, \"ticks\": \"\"}, \"type\": \"contourcarpet\"}], \"heatmap\": [{\"colorbar\": {\"outlinewidth\": 0, \"ticks\": \"\"}, \"colorscale\": [[0.0, \"#0d0887\"], [0.1111111111111111, \"#46039f\"], [0.2222222222222222, \"#7201a8\"], [0.3333333333333333, \"#9c179e\"], [0.4444444444444444, \"#bd3786\"], [0.5555555555555556, \"#d8576b\"], [0.6666666666666666, \"#ed7953\"], [0.7777777777777778, \"#fb9f3a\"], [0.8888888888888888, \"#fdca26\"], [1.0, \"#f0f921\"]], \"type\": \"heatmap\"}], \"heatmapgl\": [{\"colorbar\": {\"outlinewidth\": 0, \"ticks\": \"\"}, \"colorscale\": [[0.0, \"#0d0887\"], [0.1111111111111111, \"#46039f\"], [0.2222222222222222, \"#7201a8\"], [0.3333333333333333, \"#9c179e\"], [0.4444444444444444, \"#bd3786\"], [0.5555555555555556, \"#d8576b\"], [0.6666666666666666, \"#ed7953\"], [0.7777777777777778, \"#fb9f3a\"], [0.8888888888888888, \"#fdca26\"], [1.0, \"#f0f921\"]], \"type\": \"heatmapgl\"}], \"histogram\": [{\"marker\": {\"colorbar\": {\"outlinewidth\": 0, \"ticks\": \"\"}}, \"type\": \"histogram\"}], \"histogram2d\": [{\"colorbar\": {\"outlinewidth\": 0, \"ticks\": \"\"}, \"colorscale\": [[0.0, \"#0d0887\"], [0.1111111111111111, \"#46039f\"], [0.2222222222222222, \"#7201a8\"], [0.3333333333333333, \"#9c179e\"], [0.4444444444444444, \"#bd3786\"], [0.5555555555555556, \"#d8576b\"], [0.6666666666666666, \"#ed7953\"], [0.7777777777777778, \"#fb9f3a\"], [0.8888888888888888, \"#fdca26\"], [1.0, \"#f0f921\"]], \"type\": \"histogram2d\"}], \"histogram2dcontour\": [{\"colorbar\": {\"outlinewidth\": 0, \"ticks\": \"\"}, \"colorscale\": [[0.0, \"#0d0887\"], [0.1111111111111111, \"#46039f\"], [0.2222222222222222, \"#7201a8\"], [0.3333333333333333, \"#9c179e\"], [0.4444444444444444, \"#bd3786\"], [0.5555555555555556, \"#d8576b\"], [0.6666666666666666, \"#ed7953\"], [0.7777777777777778, \"#fb9f3a\"], [0.8888888888888888, \"#fdca26\"], [1.0, \"#f0f921\"]], \"type\": \"histogram2dcontour\"}], \"mesh3d\": [{\"colorbar\": {\"outlinewidth\": 0, \"ticks\": \"\"}, \"type\": \"mesh3d\"}], \"parcoords\": [{\"line\": {\"colorbar\": {\"outlinewidth\": 0, \"ticks\": \"\"}}, \"type\": \"parcoords\"}], \"pie\": [{\"automargin\": true, \"type\": \"pie\"}], \"scatter\": [{\"marker\": {\"colorbar\": {\"outlinewidth\": 0, \"ticks\": \"\"}}, \"type\": \"scatter\"}], \"scatter3d\": [{\"line\": {\"colorbar\": {\"outlinewidth\": 0, \"ticks\": \"\"}}, \"marker\": {\"colorbar\": {\"outlinewidth\": 0, \"ticks\": \"\"}}, \"type\": \"scatter3d\"}], \"scattercarpet\": [{\"marker\": {\"colorbar\": {\"outlinewidth\": 0, \"ticks\": \"\"}}, \"type\": \"scattercarpet\"}], \"scattergeo\": [{\"marker\": {\"colorbar\": {\"outlinewidth\": 0, \"ticks\": \"\"}}, \"type\": \"scattergeo\"}], \"scattergl\": [{\"marker\": {\"colorbar\": {\"outlinewidth\": 0, \"ticks\": \"\"}}, \"type\": \"scattergl\"}], \"scattermapbox\": [{\"marker\": {\"colorbar\": {\"outlinewidth\": 0, \"ticks\": \"\"}}, \"type\": \"scattermapbox\"}], \"scatterpolar\": [{\"marker\": {\"colorbar\": {\"outlinewidth\": 0, \"ticks\": \"\"}}, \"type\": \"scatterpolar\"}], \"scatterpolargl\": [{\"marker\": {\"colorbar\": {\"outlinewidth\": 0, \"ticks\": \"\"}}, \"type\": \"scatterpolargl\"}], \"scatterternary\": [{\"marker\": {\"colorbar\": {\"outlinewidth\": 0, \"ticks\": \"\"}}, \"type\": \"scatterternary\"}], \"surface\": [{\"colorbar\": {\"outlinewidth\": 0, \"ticks\": \"\"}, \"colorscale\": [[0.0, \"#0d0887\"], [0.1111111111111111, \"#46039f\"], [0.2222222222222222, \"#7201a8\"], [0.3333333333333333, \"#9c179e\"], [0.4444444444444444, \"#bd3786\"], [0.5555555555555556, \"#d8576b\"], [0.6666666666666666, \"#ed7953\"], [0.7777777777777778, \"#fb9f3a\"], [0.8888888888888888, \"#fdca26\"], [1.0, \"#f0f921\"]], \"type\": \"surface\"}], \"table\": [{\"cells\": {\"fill\": {\"color\": \"#EBF0F8\"}, \"line\": {\"color\": \"white\"}}, \"header\": {\"fill\": {\"color\": \"#C8D4E3\"}, \"line\": {\"color\": \"white\"}}, \"type\": \"table\"}]}, \"layout\": {\"annotationdefaults\": {\"arrowcolor\": \"#2a3f5f\", \"arrowhead\": 0, \"arrowwidth\": 1}, \"autotypenumbers\": \"strict\", \"coloraxis\": {\"colorbar\": {\"outlinewidth\": 0, \"ticks\": \"\"}}, \"colorscale\": {\"diverging\": [[0, \"#8e0152\"], [0.1, \"#c51b7d\"], [0.2, \"#de77ae\"], [0.3, \"#f1b6da\"], [0.4, \"#fde0ef\"], [0.5, \"#f7f7f7\"], [0.6, \"#e6f5d0\"], [0.7, \"#b8e186\"], [0.8, \"#7fbc41\"], [0.9, \"#4d9221\"], [1, \"#276419\"]], \"sequential\": [[0.0, \"#0d0887\"], [0.1111111111111111, \"#46039f\"], [0.2222222222222222, \"#7201a8\"], [0.3333333333333333, \"#9c179e\"], [0.4444444444444444, \"#bd3786\"], [0.5555555555555556, \"#d8576b\"], [0.6666666666666666, \"#ed7953\"], [0.7777777777777778, \"#fb9f3a\"], [0.8888888888888888, \"#fdca26\"], [1.0, \"#f0f921\"]], \"sequentialminus\": [[0.0, \"#0d0887\"], [0.1111111111111111, \"#46039f\"], [0.2222222222222222, \"#7201a8\"], [0.3333333333333333, \"#9c179e\"], [0.4444444444444444, \"#bd3786\"], [0.5555555555555556, \"#d8576b\"], [0.6666666666666666, \"#ed7953\"], [0.7777777777777778, \"#fb9f3a\"], [0.8888888888888888, \"#fdca26\"], [1.0, \"#f0f921\"]]}, \"colorway\": [\"#636efa\", \"#EF553B\", \"#00cc96\", \"#ab63fa\", \"#FFA15A\", \"#19d3f3\", \"#FF6692\", \"#B6E880\", \"#FF97FF\", \"#FECB52\"], \"font\": {\"color\": \"#2a3f5f\"}, \"geo\": {\"bgcolor\": \"white\", \"lakecolor\": \"white\", \"landcolor\": \"#E5ECF6\", \"showlakes\": true, \"showland\": true, \"subunitcolor\": \"white\"}, \"hoverlabel\": {\"align\": \"left\"}, \"hovermode\": \"closest\", \"mapbox\": {\"style\": \"light\"}, \"paper_bgcolor\": \"white\", \"plot_bgcolor\": \"#E5ECF6\", \"polar\": {\"angularaxis\": {\"gridcolor\": \"white\", \"linecolor\": \"white\", \"ticks\": \"\"}, \"bgcolor\": \"#E5ECF6\", \"radialaxis\": {\"gridcolor\": \"white\", \"linecolor\": \"white\", \"ticks\": \"\"}}, \"scene\": {\"xaxis\": {\"backgroundcolor\": \"#E5ECF6\", \"gridcolor\": \"white\", \"gridwidth\": 2, \"linecolor\": \"white\", \"showbackground\": true, \"ticks\": \"\", \"zerolinecolor\": \"white\"}, \"yaxis\": {\"backgroundcolor\": \"#E5ECF6\", \"gridcolor\": \"white\", \"gridwidth\": 2, \"linecolor\": \"white\", \"showbackground\": true, \"ticks\": \"\", \"zerolinecolor\": \"white\"}, \"zaxis\": {\"backgroundcolor\": \"#E5ECF6\", \"gridcolor\": \"white\", \"gridwidth\": 2, \"linecolor\": \"white\", \"showbackground\": true, \"ticks\": \"\", \"zerolinecolor\": \"white\"}}, \"shapedefaults\": {\"line\": {\"color\": \"#2a3f5f\"}}, \"ternary\": {\"aaxis\": {\"gridcolor\": \"white\", \"linecolor\": \"white\", \"ticks\": \"\"}, \"baxis\": {\"gridcolor\": \"white\", \"linecolor\": \"white\", \"ticks\": \"\"}, \"bgcolor\": \"#E5ECF6\", \"caxis\": {\"gridcolor\": \"white\", \"linecolor\": \"white\", \"ticks\": \"\"}}, \"title\": {\"x\": 0.05}, \"xaxis\": {\"automargin\": true, \"gridcolor\": \"white\", \"linecolor\": \"white\", \"ticks\": \"\", \"title\": {\"standoff\": 15}, \"zerolinecolor\": \"white\", \"zerolinewidth\": 2}, \"yaxis\": {\"automargin\": true, \"gridcolor\": \"white\", \"linecolor\": \"white\", \"ticks\": \"\", \"title\": {\"standoff\": 15}, \"zerolinecolor\": \"white\", \"zerolinewidth\": 2}}}, \"width\": 1500, \"xaxis\": {\"anchor\": \"y\", \"domain\": [0.0, 0.26666666666666666], \"linecolor\": \"black\", \"linewidth\": 1.5, \"showgrid\": false, \"showline\": false, \"tickangle\": 45, \"tickcolor\": \"black\", \"ticklen\": 10, \"tickwidth\": 1.5, \"title\": {\"text\": \"VNTR length (bps)\"}, \"type\": \"category\"}, \"xaxis2\": {\"anchor\": \"y2\", \"domain\": [0.3666666666666667, 0.6333333333333333], \"linecolor\": \"black\", \"linewidth\": 1.5, \"showgrid\": false, \"showline\": false, \"tickangle\": 45, \"tickcolor\": \"black\", \"ticklen\": 10, \"tickwidth\": 1.5, \"title\": {\"text\": \"VNTR length (bps)\"}}, \"xaxis3\": {\"anchor\": \"y3\", \"domain\": [0.7333333333333334, 1.0], \"linecolor\": \"black\", \"linewidth\": 1.5, \"showgrid\": false, \"showline\": false, \"tickangle\": 45, \"tickcolor\": \"black\", \"ticklen\": 10, \"tickwidth\": 1.5, \"title\": {\"text\": \"VNTR length (bps)\"}}, \"yaxis\": {\"anchor\": \"x\", \"domain\": [0.0, 1.0], \"linecolor\": \"black\", \"linewidth\": 1.5, \"range\": [0, 1], \"showgrid\": false, \"showline\": true, \"tickcolor\": \"black\", \"ticklen\": 10, \"ticks\": \"outside\", \"tickwidth\": 1.5, \"title\": {\"text\": \"Recall, TP/(TP + FN)\"}}, \"yaxis2\": {\"anchor\": \"x2\", \"domain\": [0.0, 1.0], \"linecolor\": \"black\", \"linewidth\": 1.5, \"range\": [0, 1], \"showgrid\": false, \"showline\": true, \"tickcolor\": \"black\", \"ticklen\": 10, \"ticks\": \"outside\", \"tickwidth\": 1.5, \"title\": {\"text\": \"False Discovery Rate, FP/(TP + FP)\"}}, \"yaxis3\": {\"anchor\": \"x3\", \"domain\": [0.0, 1.0], \"linecolor\": \"black\", \"linewidth\": 1.5, \"range\": [0, null], \"showgrid\": false, \"showline\": true, \"tickcolor\": \"black\", \"ticklen\": 10, \"ticks\": \"outside\", \"tickwidth\": 1.5, \"title\": {\"text\": \"count\"}, \"type\": \"log\"}},                        {\"responsive\": true}                    ).then(function(){\n",
       "                            \n",
       "var gd = document.getElementById('a8e76151-9ccf-4c2d-9ae7-2239192ae598');\n",
       "var x = new MutationObserver(function (mutations, observer) {{\n",
       "        var display = window.getComputedStyle(gd).display;\n",
       "        if (!display || display === 'none') {{\n",
       "            console.log([gd, 'removed!']);\n",
       "            Plotly.purge(gd);\n",
       "            observer.disconnect();\n",
       "        }}\n",
       "}});\n",
       "\n",
       "// Listen for the removal of the full notebook cells\n",
       "var notebookContainer = gd.closest('#notebook-container');\n",
       "if (notebookContainer) {{\n",
       "    x.observe(notebookContainer, {childList: true});\n",
       "}}\n",
       "\n",
       "// Listen for the clearing of the current output cell\n",
       "var outputEl = gd.closest('.output');\n",
       "if (outputEl) {{\n",
       "    x.observe(outputEl, {childList: true});\n",
       "}}\n",
       "\n",
       "                        })                };                });            </script>        </div>"
      ]
     },
     "metadata": {}
    }
   ],
   "metadata": {}
  },
  {
   "cell_type": "code",
   "execution_count": null,
   "source": [],
   "outputs": [],
   "metadata": {}
  }
 ],
 "metadata": {
  "orig_nbformat": 4,
  "language_info": {
   "name": "python",
   "version": "3.8.6",
   "mimetype": "text/x-python",
   "codemirror_mode": {
    "name": "ipython",
    "version": 3
   },
   "pygments_lexer": "ipython3",
   "nbconvert_exporter": "python",
   "file_extension": ".py"
  },
  "kernelspec": {
   "name": "python3",
   "display_name": "Python 3.8.6 64-bit ('trfermikit': conda)"
  },
  "interpreter": {
   "hash": "27bf691ab5b434b14f9cd44a2ab81504eff89535e2f9d81f6c82827a7b77a35f"
  }
 },
 "nbformat": 4,
 "nbformat_minor": 2
}