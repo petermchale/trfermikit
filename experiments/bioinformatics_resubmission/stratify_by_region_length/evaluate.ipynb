{
 "cells": [
  {
   "cell_type": "code",
   "execution_count": 10,
   "source": [
    "import json \n",
    "import numpy as np\n",
    "\n",
    "def get_number_regions(experiment): \n",
    "  number_regions = ! less $experiment/regions.bed.gz | wc -l\n",
    "  number_regions, = number_regions\n",
    "  return int(number_regions)\n",
    "\n",
    "def get_confusion_counts_core(experiment, json_filename): \n",
    "  with open('{}/{}'.format(experiment, json_filename)) as json_file:\n",
    "    return json.load(json_file)\n",
    "\n",
    "def get_confusion_counts(experiment): \n",
    "  try: \n",
    "    return get_confusion_counts_core(experiment, 'summary.txt')\n",
    "  except FileNotFoundError: \n",
    "    pass \n",
    "\n",
    "  return get_confusion_counts_core(experiment, 'counts.json')\n",
    "\n",
    "def get_eventCount_callCount(experiment): \n",
    "  try: \n",
    "    counts = get_confusion_counts(experiment)\n",
    "    try: \n",
    "      assert counts['TP-base'] == counts['TP-call']    \n",
    "    except KeyError: \n",
    "      pass \n",
    "    event_count = counts['TP-base'] + counts['FN']\n",
    "    call_count = counts['TP-base'] + counts['FP']\n",
    "    return event_count, call_count\n",
    "  except FileNotFoundError: \n",
    "    return None, None\n",
    "\n",
    "def get_TPR_FDR(experiment):\n",
    "  try: \n",
    "    counts = get_confusion_counts(experiment)\n",
    "    event_count, call_count = get_eventCount_callCount(experiment)\n",
    "    TPR = counts['TP-base']/float(event_count)\n",
    "    FDR = counts['FP']/float(call_count) \n",
    "    return TPR, FDR\n",
    "  except (FileNotFoundError, ZeroDivisionError): \n",
    "    return None, None\n",
    "\n",
    "def get_TP_eventCount(experiment):\n",
    "  try: \n",
    "    counts = get_confusion_counts(experiment)\n",
    "    event_count, _ = get_eventCount_callCount(experiment)\n",
    "    return counts['TP-base'], event_count\n",
    "  except FileNotFoundError: \n",
    "    return None, None\n",
    "\n",
    "def get_FP_callCount(experiment):\n",
    "  try: \n",
    "    counts = get_confusion_counts(experiment)\n",
    "    _, call_count = get_eventCount_callCount(experiment)\n",
    "    return counts['FP'], call_count\n",
    "  except FileNotFoundError: \n",
    "    return None, None\n",
    "\n",
    "def get_TPRs_FDRs(experiments): \n",
    "  TPRs, FDRs = zip(*[get_TPR_FDR(experiment) for experiment in experiments])  \n",
    "  return TPRs, FDRs\n",
    "\n",
    "def get_numbers_regions(experiments): \n",
    "  return [get_number_regions(experiment) for experiment in experiments]\n",
    "\n",
    "def get_eventCounts_callCounts(experiments): \n",
    "  event_counts, call_counts = zip(*[get_eventCount_callCount(experiment) for experiment in experiments])\n",
    "  return event_counts, call_counts\n",
    "\n",
    "def get_experiments(consortium, population, sample, svtype, caller): \n",
    "  experiments = ! ls -d $consortium/data/$population,$sample/truvari-$svtype-*,*-pacbio-$caller\n",
    "  return experiments\n",
    "\n",
    "def get_experiments_and_size_ranges(consortium, population, sample, svtype, caller):\n",
    "  experiments = get_experiments(consortium, population, sample, svtype, caller)\n",
    "  region_size_ranges_str = [experiment.split('-')[2] for experiment in experiments]\n",
    "  region_size_ranges = [region_size_range_str.split(',') for region_size_range_str in region_size_ranges_str]\n",
    "  region_size_ranges = [(int(start), int(end)) for start, end in region_size_ranges]\n",
    "  return experiments, region_size_ranges_str, region_size_ranges\n",
    "\n",
    "def zip_and_sort(experiments_and_size_ranges):\n",
    "  l = list(zip(*experiments_and_size_ranges))    \n",
    "  l.sort(key=lambda x: x[2])\n",
    "  return tuple(zip(*l))[:2]\n",
    "\n",
    "zip_and_sort(get_experiments_and_size_ranges('chaisson_2019', 'PUR', 'HG00733', 'DEL', 'manta'))"
   ],
   "outputs": [
    {
     "output_type": "execute_result",
     "data": {
      "text/plain": [
       "(('chaisson_2019/data/PUR,HG00733/truvari-DEL-600,625-pacbio-manta',\n",
       "  'chaisson_2019/data/PUR,HG00733/truvari-DEL-625,650-pacbio-manta',\n",
       "  'chaisson_2019/data/PUR,HG00733/truvari-DEL-650,700-pacbio-manta',\n",
       "  'chaisson_2019/data/PUR,HG00733/truvari-DEL-700,800-pacbio-manta',\n",
       "  'chaisson_2019/data/PUR,HG00733/truvari-DEL-800,1000-pacbio-manta',\n",
       "  'chaisson_2019/data/PUR,HG00733/truvari-DEL-1000,2000-pacbio-manta',\n",
       "  'chaisson_2019/data/PUR,HG00733/truvari-DEL-2000,100000-pacbio-manta'),\n",
       " ('600,625',\n",
       "  '625,650',\n",
       "  '650,700',\n",
       "  '700,800',\n",
       "  '800,1000',\n",
       "  '1000,2000',\n",
       "  '2000,100000'))"
      ]
     },
     "metadata": {},
     "execution_count": 10
    }
   ],
   "metadata": {}
  },
  {
   "cell_type": "code",
   "execution_count": 11,
   "source": [
    "import plotly.graph_objects as go\n",
    "from plotly.subplots import make_subplots\n",
    "\n",
    "def get_font(size=20, family='Arial'): \n",
    "  return dict(family=family, color='black', size=size)\n",
    "\n",
    "def get_marker(color=None, linewidth=1, linecolor='black'): \n",
    "  return dict(\n",
    "    line=dict(width=linewidth, color=linecolor),\n",
    "    color=color\n",
    "  )\n",
    "\n",
    "def update_axes(fig, axis, text=None, showline=True, ticks='outside', linewidth=1.5, range_=None, row=1, col=1): \n",
    "  update = {\n",
    "    'x': fig.update_xaxes,\n",
    "    'y': fig.update_yaxes\n",
    "  }\n",
    "  \n",
    "  update[axis]( \n",
    "    title=dict(text=text),\n",
    "    showgrid=False,\n",
    "    showline=showline, \n",
    "    linewidth=linewidth, \n",
    "    linecolor='black',\n",
    "    ticks=ticks, \n",
    "    tickwidth=linewidth, \n",
    "    tickcolor='black', \n",
    "    ticklen=10,\n",
    "    range=range_,\n",
    "    row=row,\n",
    "    col=col\n",
    "  )\n",
    "\n",
    "def get_slop(consortium, population, sample): \n",
    "  with open(f'{consortium}/data/{population},{sample}/config.json') as json_file:\n",
    "    return int(json.load(json_file)['makeRegions']['slop'])\n",
    "\n",
    "def region_to_VNTR(consortium, population, sample, region_size_ranges_str): \n",
    "  region_size_ranges = [region_size_range_str.split(',') for region_size_range_str in region_size_ranges_str]\n",
    "  return [f'{int(start)-2*get_slop(consortium, population, sample)}-{int(end)-2*get_slop(consortium, population, sample)}' \n",
    "          for start, end in region_size_ranges]\n",
    "\n",
    "def get_VNTR_size_ranges__TPRs__FDRs(consortium, population, sample, svtype, caller): \n",
    "  experiments, region_size_ranges_str = zip_and_sort(get_experiments_and_size_ranges(consortium, population, sample, svtype, caller))\n",
    "  TPRs, FDRs = get_TPRs_FDRs(experiments)\n",
    "  VNTR_size_ranges = region_to_VNTR(consortium, population, sample, region_size_ranges_str)\n",
    "  return VNTR_size_ranges, TPRs, FDRs\n",
    "\n",
    "def get_VNTR_size_ranges__numbers_regions__event_counts__call_counts(consortium, population, sample, svtype, caller): \n",
    "  experiments, region_size_ranges_str = zip_and_sort(get_experiments_and_size_ranges(consortium, population, sample, svtype, caller))\n",
    "  numbers_regions = get_numbers_regions(experiments)\n",
    "  event_counts, call_counts = get_eventCounts_callCounts(experiments)\n",
    "  VNTR_size_ranges = region_to_VNTR(consortium, population, sample, region_size_ranges_str)\n",
    "  return VNTR_size_ranges, numbers_regions, event_counts, call_counts\n",
    "\n",
    "def create_bar_chart_AB(consortium, population, sample, svtype, caller, chart_type, color, row, col): \n",
    "  VNTR_size_ranges, TPRs, FDRs = get_VNTR_size_ranges__TPRs__FDRs(consortium, population, sample, svtype, caller)\n",
    "  y = { \n",
    "    'TPR': TPRs, \n",
    "    'FDR': FDRs,\n",
    "  }\n",
    "  name = { \n",
    "    'manta': 'manta',\n",
    "    'trfermikit.unitigSupport.thinned': 'trfermikit',\n",
    "    'combined': 'trfermikit + manta'\n",
    "  }\n",
    "      \n",
    "  def get_showlegend():\n",
    "    if row == 1 and col == 1: return True \n",
    "    else: return False  \n",
    "\n",
    "  return go.Bar(\n",
    "    x=VNTR_size_ranges, \n",
    "    y=y[chart_type], \n",
    "    name=name[caller],\n",
    "    marker=get_marker(color=color),\n",
    "    showlegend=get_showlegend()\n",
    "  )"
   ],
   "outputs": [],
   "metadata": {}
  },
  {
   "cell_type": "code",
   "execution_count": 12,
   "source": [
    "def plot_performance_AB(consortium, population, sample, svtype, chart_type, fig, row, col): \n",
    "  fig.add_trace(\n",
    "    create_bar_chart_AB(consortium, population, sample, svtype, 'trfermikit.unitigSupport.thinned', chart_type, color='red', row=row, col=col),\n",
    "    row=row, \n",
    "    col=col\n",
    "  ) \n",
    "  fig.add_trace(\n",
    "    create_bar_chart_AB(consortium, population, sample, svtype, 'manta', chart_type, color='blue', row=row, col=col),\n",
    "    row=row,\n",
    "    col=col\n",
    "  ) \n",
    "  fig.add_trace(\n",
    "    create_bar_chart_AB(consortium, population, sample, svtype, 'combined', chart_type, color='yellow', row=row, col=col),\n",
    "    row=row,\n",
    "    col=col\n",
    "  ) \n",
    "  update_axes(fig, 'x', 'VNTR length (bps)', showline=False, ticks=None, row=row, col=col) \n",
    "  y_text = { \n",
    "    'TPR': 'Recall, TP / #events',\n",
    "    'FDR': 'False Discovery Rate, <br>FP / #calls'    \n",
    "  }  \n",
    "  update_axes(fig, 'y' , y_text[chart_type], range_=[0, 1], row=row, col=col) \n",
    "\n",
    "def plot_counts(consortium, population, sample, svtype, fig, row, col, range_=None): \n",
    "  caller = 'trfermikit.unitigSupport.thinned'\n",
    "\n",
    "  caller_legend = 'trfermikit' if caller == 'trfermikit.unitigSupport.thinned' else 'manta'\n",
    "\n",
    "  VNTR_size_ranges, numbers_regions, event_counts, call_counts = \\\n",
    "    get_VNTR_size_ranges__numbers_regions__event_counts__call_counts(consortium, population, sample, svtype, caller=caller)\n",
    "\n",
    "  def get_showlegend():\n",
    "    if row == 1 and col == 3: return True \n",
    "    elif row == 2 and col == 1: return True \n",
    "    else: return False  \n",
    "\n",
    "  fig.add_trace(\n",
    "    go.Bar(\n",
    "      x=VNTR_size_ranges,\n",
    "      y=numbers_regions,\n",
    "      name='VNTRs',\n",
    "      marker=get_marker(color='grey'),\n",
    "      showlegend=get_showlegend()\n",
    "    ),\n",
    "    row=row, \n",
    "    col=col\n",
    "  ) \n",
    "  fig.add_trace(\n",
    "    go.Bar(\n",
    "      x=VNTR_size_ranges,\n",
    "      y=event_counts,\n",
    "      name='real events',\n",
    "      marker=get_marker(color='cyan'),\n",
    "      showlegend=get_showlegend()\n",
    "    ), \n",
    "    row=row,\n",
    "    col=col\n",
    "  ) \n",
    "  fig.add_trace(\n",
    "    go.Bar(\n",
    "      x=VNTR_size_ranges, \n",
    "      y=call_counts, \n",
    "      name=f'{caller_legend} calls',\n",
    "      marker=get_marker(color='magenta'),\n",
    "      showlegend=get_showlegend()\n",
    "    ), \n",
    "    row=row,\n",
    "    col=col\n",
    "  )\n",
    "  update_axes(fig, 'x', 'VNTR length (bps)', showline=False, ticks=None, row=row, col=col)\n",
    "  update_axes(fig, 'y' , 'count', range_=range_, row=row, col=col)\n",
    "  fig.update_yaxes(type='log', row=row, col=col)\n"
   ],
   "outputs": [],
   "metadata": {}
  },
  {
   "cell_type": "code",
   "execution_count": 13,
   "source": [
    "def check(manta_callset): \n",
    "  if manta_callset != 'fn' and manta_callset != 'tp-base': \n",
    "    raise Exception\n",
    "  else: \n",
    "    pass\n",
    "\n",
    "def list_to_value(list_):\n",
    "  try: \n",
    "    value, = list_\n",
    "    return int(value)\n",
    "  except ValueError: \n",
    "    return None\n",
    "      \n",
    "def tr_fermikit_TP_intersect_manta(manta_callset, manta_experiment, trfermikit_experiment, overlap_fraction, root): \n",
    "  list_ = ! $root/bin/bedtools intersect -u -wb -f $overlap_fraction -r \\\n",
    "    -a $manta_experiment/$manta_callset\".vcf\" \\\n",
    "    -b $trfermikit_experiment/tp-base.vcf \\\n",
    "    | wc -l \n",
    "  return list_to_value(list_)\n",
    "\n",
    "def manta_less_tr_fermikit_TP(manta_callset, manta_experiment, trfermikit_experiment, overlap_fraction, root):\n",
    "  list_ = ! $root/bin/bedtools subtract -A -f $overlap_fraction -r \\\n",
    "    -a $manta_experiment/$manta_callset\".vcf\" \\\n",
    "    -b $trfermikit_experiment/tp-base.vcf \\\n",
    "  | wc -l \n",
    "  return list_to_value(list_)\n",
    "\n",
    "def get_manta_counts(manta_callset, manta_experiment, trfermikit_experiment): \n",
    "  overlap_fraction = 0.9\n",
    "  root = \"/scratch/ucgd/lustre-work/quinlan/u6018199/chaisson_2019/analysis/locally_assemble_short_reads/trfermikit\"\n",
    "  overlap_count = tr_fermikit_TP_intersect_manta(manta_callset, manta_experiment, trfermikit_experiment, overlap_fraction, root)\n",
    "  manta_exclusive_count = manta_less_tr_fermikit_TP(manta_callset, manta_experiment, trfermikit_experiment, overlap_fraction, root)\n",
    "  return overlap_count, manta_exclusive_count\n",
    "  \n",
    "def get_manta_fraction(manta_callset, manta_experiment, trfermikit_experiment):\n",
    "  check(manta_callset)\n",
    "  overlap_count, manta_exclusive_count = get_manta_counts(manta_callset, manta_experiment, trfermikit_experiment)    \n",
    "  try: \n",
    "    return overlap_count/float(overlap_count + manta_exclusive_count)\n",
    "  except TypeError: \n",
    "    return None\n",
    "\n",
    "def plot_fraction_of_manta_FNs_recovered_by_trfermikit(consortium, population, sample, svtype, fig, row, col, range_=[0, None]): \n",
    "  manta_experiments, region_size_ranges_str = zip_and_sort(get_experiments_and_size_ranges(consortium, population, sample, svtype, caller='manta'))\n",
    "  trfermikit_experiments, region_size_ranges_str = zip_and_sort(get_experiments_and_size_ranges(consortium, population, sample, svtype, caller='trfermikit.unitigSupport.thinned'))\n",
    "\n",
    "  fractions_of_manta_FN = [\n",
    "    get_manta_fraction(\n",
    "      manta_callset='fn', \n",
    "      manta_experiment=manta_experiment, \n",
    "      trfermikit_experiment=trfermikit_experiment\n",
    "    ) \n",
    "    for manta_experiment, trfermikit_experiment in zip(manta_experiments, trfermikit_experiments)\n",
    "  ]\n",
    "\n",
    "  VNTR_size_ranges = region_to_VNTR(consortium, population, sample, region_size_ranges_str)\n",
    "\n",
    "  fig.add_trace(\n",
    "    go.Bar(\n",
    "      x=VNTR_size_ranges,\n",
    "      y=fractions_of_manta_FN,\n",
    "      marker=get_marker(color='black'),\n",
    "      showlegend=False\n",
    "    ),\n",
    "    row=row, \n",
    "    col=col\n",
    "  ) \n",
    "  update_axes(fig, 'x', 'VNTR length (bps)', showline=False, ticks=None, row=row, col=col)\n",
    "  update_axes(fig, 'y' , 'fraction of manta FNs <br>recovered by trfermikit', range_=range_, row=row, col=col)\n",
    "\n",
    "def plot_Fig2(consortium, population, sample, svtype): \n",
    "  x_title = 'VNTR length (bps)'\n",
    "\n",
    "  fig = make_subplots(\n",
    "    rows=2,\n",
    "    cols=2,\n",
    "    column_widths=[1, 1],\n",
    "    row_heights=[1, 1],\n",
    "    specs=2*[2*[{\"type\": \"bar\"}]],\n",
    "    horizontal_spacing=0.2,\n",
    "    vertical_spacing=0.01,\n",
    "    shared_xaxes=True,\n",
    "    x_title=x_title\n",
    "  ) \n",
    "  \n",
    "  plot_performance_AB(consortium, population, sample, svtype, chart_type='TPR', fig=fig, row=1, col=1)\n",
    "  plot_performance_AB(consortium, population, sample, svtype, chart_type='FDR', fig=fig, row=1, col=2)\n",
    "  plot_counts(consortium, population, sample, svtype, fig=fig, row=2, col=1)\n",
    "  plot_fraction_of_manta_FNs_recovered_by_trfermikit(consortium, population, sample, svtype, fig=fig, row=2, col=2)\n",
    "\n",
    "  fig.update_layout(dict(\n",
    "      xaxis=dict(type='category'),\n",
    "      plot_bgcolor='white',\n",
    "      font=get_font(),\n",
    "      width=1000,\n",
    "      height=800,\n",
    "      margin=dict(\n",
    "        l=50,\n",
    "        r=50,\n",
    "        b=175,\n",
    "        t=50,\n",
    "        pad=0\n",
    "      )\n",
    "  ))\n",
    "\n",
    "  fig.update_xaxes(\n",
    "    title=dict(text=None),\n",
    "    tickangle=45\n",
    "  )\n",
    "\n",
    "  fig.update_annotations(font=get_font(size=26))\n",
    "\n",
    "  annotations = fig.layout.annotations\n",
    "  annotation_texts = [annotation['text'] for annotation in annotations]\n",
    "  annotations[annotation_texts.index(x_title)].update(y=-0.15)\n",
    "\n",
    "  fig.write_image('Fig2.pdf')\n",
    "\n",
    "  fig.show()\n",
    "\n",
    "plot_Fig2('chaisson_2019', 'CHS', 'HG00514', 'DEL')"
   ],
   "outputs": [
    {
     "output_type": "display_data",
     "data": {
      "application/vnd.plotly.v1+json": {
       "config": {
        "plotlyServerURL": "https://plot.ly"
       },
       "data": [
        {
         "marker": {
          "color": "red",
          "line": {
           "color": "black",
           "width": 1
          }
         },
         "name": "trfermikit",
         "showlegend": true,
         "type": "bar",
         "x": [
          "100-125",
          "125-150",
          "150-200",
          "200-300",
          "300-500",
          "500-1500",
          "1500-99500"
         ],
         "xaxis": "x",
         "y": [
          0.7876712328767124,
          0.759493670886076,
          0.5727002967359051,
          0.3907407407407407,
          0.32922318125770655,
          0.19763058696822833,
          0.13247863247863248
         ],
         "yaxis": "y"
        },
        {
         "marker": {
          "color": "blue",
          "line": {
           "color": "black",
           "width": 1
          }
         },
         "name": "manta",
         "showlegend": true,
         "type": "bar",
         "x": [
          "100-125",
          "125-150",
          "150-200",
          "200-300",
          "300-500",
          "500-1500",
          "1500-99500"
         ],
         "xaxis": "x",
         "y": [
          0.8493150684931506,
          0.8291139240506329,
          0.5341246290801187,
          0.29074074074074074,
          0.2120838471023428,
          0.1470113085621971,
          0.10398860398860399
         ],
         "yaxis": "y"
        },
        {
         "marker": {
          "color": "yellow",
          "line": {
           "color": "black",
           "width": 1
          }
         },
         "name": "trfermikit + manta",
         "showlegend": true,
         "type": "bar",
         "x": [
          "100-125",
          "125-150",
          "150-200",
          "200-300",
          "300-500",
          "500-1500",
          "1500-99500"
         ],
         "xaxis": "x",
         "y": [
          0.9315068493150684,
          0.9556962025316456,
          0.7329376854599406,
          0.5055555555555555,
          0.42909987669543775,
          0.2832525578890684,
          0.2094017094017094
         ],
         "yaxis": "y"
        },
        {
         "marker": {
          "color": "red",
          "line": {
           "color": "black",
           "width": 1
          }
         },
         "name": "trfermikit",
         "showlegend": false,
         "type": "bar",
         "x": [
          "100-125",
          "125-150",
          "150-200",
          "200-300",
          "300-500",
          "500-1500",
          "1500-99500"
         ],
         "xaxis": "x2",
         "y": [
          0.12878787878787878,
          0.1836734693877551,
          0.1991701244813278,
          0.340625,
          0.45841784989858014,
          0.5949227373068433,
          0.6782006920415224
         ],
         "yaxis": "y2"
        },
        {
         "marker": {
          "color": "blue",
          "line": {
           "color": "black",
           "width": 1
          }
         },
         "name": "manta",
         "showlegend": false,
         "type": "bar",
         "x": [
          "100-125",
          "125-150",
          "150-200",
          "200-300",
          "300-500",
          "500-1500",
          "1500-99500"
         ],
         "xaxis": "x2",
         "y": [
          0.14482758620689656,
          0.19135802469135801,
          0.2,
          0.3458333333333333,
          0.5071633237822349,
          0.636968085106383,
          0.7420494699646644
         ],
         "yaxis": "y2"
        },
        {
         "marker": {
          "color": "yellow",
          "line": {
           "color": "black",
           "width": 1
          }
         },
         "name": "trfermikit + manta",
         "showlegend": false,
         "type": "bar",
         "x": [
          "100-125",
          "125-150",
          "150-200",
          "200-300",
          "300-500",
          "500-1500",
          "1500-99500"
         ],
         "xaxis": "x2",
         "y": [
          0.1656441717791411,
          0.20526315789473684,
          0.24,
          0.3795454545454545,
          0.5153203342618384,
          0.6472166331321261,
          0.724202626641651
         ],
         "yaxis": "y2"
        },
        {
         "marker": {
          "color": "grey",
          "line": {
           "color": "black",
           "width": 1
          }
         },
         "name": "VNTRs",
         "showlegend": true,
         "type": "bar",
         "x": [
          "100-125",
          "125-150",
          "150-200",
          "200-300",
          "300-500",
          "500-1500",
          "1500-99500"
         ],
         "xaxis": "x3",
         "y": [
          10892,
          8687,
          12600,
          17682,
          14923,
          20211,
          1912
         ],
         "yaxis": "y3"
        },
        {
         "marker": {
          "color": "cyan",
          "line": {
           "color": "black",
           "width": 1
          }
         },
         "name": "real events",
         "showlegend": true,
         "type": "bar",
         "x": [
          "100-125",
          "125-150",
          "150-200",
          "200-300",
          "300-500",
          "500-1500",
          "1500-99500"
         ],
         "xaxis": "x3",
         "y": [
          146,
          158,
          337,
          540,
          811,
          1857,
          702
         ],
         "yaxis": "y3"
        },
        {
         "marker": {
          "color": "magenta",
          "line": {
           "color": "black",
           "width": 1
          }
         },
         "name": "trfermikit calls",
         "showlegend": true,
         "type": "bar",
         "x": [
          "100-125",
          "125-150",
          "150-200",
          "200-300",
          "300-500",
          "500-1500",
          "1500-99500"
         ],
         "xaxis": "x3",
         "y": [
          132,
          147,
          241,
          320,
          493,
          906,
          289
         ],
         "yaxis": "y3"
        },
        {
         "marker": {
          "color": "black",
          "line": {
           "color": "black",
           "width": 1
          }
         },
         "showlegend": false,
         "type": "bar",
         "x": [
          "100-125",
          "125-150",
          "150-200",
          "200-300",
          "300-500",
          "500-1500",
          "1500-99500"
         ],
         "xaxis": "x4",
         "y": [
          0.18181818181818182,
          0.4074074074074074,
          0.3503184713375796,
          0.24804177545691905,
          0.2535211267605634,
          0.1294191919191919,
          0.10492845786963434
         ],
         "yaxis": "y4"
        }
       ],
       "layout": {
        "annotations": [
         {
          "font": {
           "color": "black",
           "family": "Arial",
           "size": 26
          },
          "showarrow": false,
          "text": "VNTR length (bps)",
          "x": 0.5,
          "xanchor": "center",
          "xref": "paper",
          "y": -0.15,
          "yanchor": "top",
          "yref": "paper",
          "yshift": -30
         }
        ],
        "font": {
         "color": "black",
         "family": "Arial",
         "size": 20
        },
        "height": 800,
        "margin": {
         "b": 175,
         "l": 50,
         "pad": 0,
         "r": 50,
         "t": 50
        },
        "plot_bgcolor": "white",
        "template": {
         "data": {
          "bar": [
           {
            "error_x": {
             "color": "#2a3f5f"
            },
            "error_y": {
             "color": "#2a3f5f"
            },
            "marker": {
             "line": {
              "color": "#E5ECF6",
              "width": 0.5
             }
            },
            "type": "bar"
           }
          ],
          "barpolar": [
           {
            "marker": {
             "line": {
              "color": "#E5ECF6",
              "width": 0.5
             }
            },
            "type": "barpolar"
           }
          ],
          "carpet": [
           {
            "aaxis": {
             "endlinecolor": "#2a3f5f",
             "gridcolor": "white",
             "linecolor": "white",
             "minorgridcolor": "white",
             "startlinecolor": "#2a3f5f"
            },
            "baxis": {
             "endlinecolor": "#2a3f5f",
             "gridcolor": "white",
             "linecolor": "white",
             "minorgridcolor": "white",
             "startlinecolor": "#2a3f5f"
            },
            "type": "carpet"
           }
          ],
          "choropleth": [
           {
            "colorbar": {
             "outlinewidth": 0,
             "ticks": ""
            },
            "type": "choropleth"
           }
          ],
          "contour": [
           {
            "colorbar": {
             "outlinewidth": 0,
             "ticks": ""
            },
            "colorscale": [
             [
              0,
              "#0d0887"
             ],
             [
              0.1111111111111111,
              "#46039f"
             ],
             [
              0.2222222222222222,
              "#7201a8"
             ],
             [
              0.3333333333333333,
              "#9c179e"
             ],
             [
              0.4444444444444444,
              "#bd3786"
             ],
             [
              0.5555555555555556,
              "#d8576b"
             ],
             [
              0.6666666666666666,
              "#ed7953"
             ],
             [
              0.7777777777777778,
              "#fb9f3a"
             ],
             [
              0.8888888888888888,
              "#fdca26"
             ],
             [
              1,
              "#f0f921"
             ]
            ],
            "type": "contour"
           }
          ],
          "contourcarpet": [
           {
            "colorbar": {
             "outlinewidth": 0,
             "ticks": ""
            },
            "type": "contourcarpet"
           }
          ],
          "heatmap": [
           {
            "colorbar": {
             "outlinewidth": 0,
             "ticks": ""
            },
            "colorscale": [
             [
              0,
              "#0d0887"
             ],
             [
              0.1111111111111111,
              "#46039f"
             ],
             [
              0.2222222222222222,
              "#7201a8"
             ],
             [
              0.3333333333333333,
              "#9c179e"
             ],
             [
              0.4444444444444444,
              "#bd3786"
             ],
             [
              0.5555555555555556,
              "#d8576b"
             ],
             [
              0.6666666666666666,
              "#ed7953"
             ],
             [
              0.7777777777777778,
              "#fb9f3a"
             ],
             [
              0.8888888888888888,
              "#fdca26"
             ],
             [
              1,
              "#f0f921"
             ]
            ],
            "type": "heatmap"
           }
          ],
          "heatmapgl": [
           {
            "colorbar": {
             "outlinewidth": 0,
             "ticks": ""
            },
            "colorscale": [
             [
              0,
              "#0d0887"
             ],
             [
              0.1111111111111111,
              "#46039f"
             ],
             [
              0.2222222222222222,
              "#7201a8"
             ],
             [
              0.3333333333333333,
              "#9c179e"
             ],
             [
              0.4444444444444444,
              "#bd3786"
             ],
             [
              0.5555555555555556,
              "#d8576b"
             ],
             [
              0.6666666666666666,
              "#ed7953"
             ],
             [
              0.7777777777777778,
              "#fb9f3a"
             ],
             [
              0.8888888888888888,
              "#fdca26"
             ],
             [
              1,
              "#f0f921"
             ]
            ],
            "type": "heatmapgl"
           }
          ],
          "histogram": [
           {
            "marker": {
             "colorbar": {
              "outlinewidth": 0,
              "ticks": ""
             }
            },
            "type": "histogram"
           }
          ],
          "histogram2d": [
           {
            "colorbar": {
             "outlinewidth": 0,
             "ticks": ""
            },
            "colorscale": [
             [
              0,
              "#0d0887"
             ],
             [
              0.1111111111111111,
              "#46039f"
             ],
             [
              0.2222222222222222,
              "#7201a8"
             ],
             [
              0.3333333333333333,
              "#9c179e"
             ],
             [
              0.4444444444444444,
              "#bd3786"
             ],
             [
              0.5555555555555556,
              "#d8576b"
             ],
             [
              0.6666666666666666,
              "#ed7953"
             ],
             [
              0.7777777777777778,
              "#fb9f3a"
             ],
             [
              0.8888888888888888,
              "#fdca26"
             ],
             [
              1,
              "#f0f921"
             ]
            ],
            "type": "histogram2d"
           }
          ],
          "histogram2dcontour": [
           {
            "colorbar": {
             "outlinewidth": 0,
             "ticks": ""
            },
            "colorscale": [
             [
              0,
              "#0d0887"
             ],
             [
              0.1111111111111111,
              "#46039f"
             ],
             [
              0.2222222222222222,
              "#7201a8"
             ],
             [
              0.3333333333333333,
              "#9c179e"
             ],
             [
              0.4444444444444444,
              "#bd3786"
             ],
             [
              0.5555555555555556,
              "#d8576b"
             ],
             [
              0.6666666666666666,
              "#ed7953"
             ],
             [
              0.7777777777777778,
              "#fb9f3a"
             ],
             [
              0.8888888888888888,
              "#fdca26"
             ],
             [
              1,
              "#f0f921"
             ]
            ],
            "type": "histogram2dcontour"
           }
          ],
          "mesh3d": [
           {
            "colorbar": {
             "outlinewidth": 0,
             "ticks": ""
            },
            "type": "mesh3d"
           }
          ],
          "parcoords": [
           {
            "line": {
             "colorbar": {
              "outlinewidth": 0,
              "ticks": ""
             }
            },
            "type": "parcoords"
           }
          ],
          "pie": [
           {
            "automargin": true,
            "type": "pie"
           }
          ],
          "scatter": [
           {
            "marker": {
             "colorbar": {
              "outlinewidth": 0,
              "ticks": ""
             }
            },
            "type": "scatter"
           }
          ],
          "scatter3d": [
           {
            "line": {
             "colorbar": {
              "outlinewidth": 0,
              "ticks": ""
             }
            },
            "marker": {
             "colorbar": {
              "outlinewidth": 0,
              "ticks": ""
             }
            },
            "type": "scatter3d"
           }
          ],
          "scattercarpet": [
           {
            "marker": {
             "colorbar": {
              "outlinewidth": 0,
              "ticks": ""
             }
            },
            "type": "scattercarpet"
           }
          ],
          "scattergeo": [
           {
            "marker": {
             "colorbar": {
              "outlinewidth": 0,
              "ticks": ""
             }
            },
            "type": "scattergeo"
           }
          ],
          "scattergl": [
           {
            "marker": {
             "colorbar": {
              "outlinewidth": 0,
              "ticks": ""
             }
            },
            "type": "scattergl"
           }
          ],
          "scattermapbox": [
           {
            "marker": {
             "colorbar": {
              "outlinewidth": 0,
              "ticks": ""
             }
            },
            "type": "scattermapbox"
           }
          ],
          "scatterpolar": [
           {
            "marker": {
             "colorbar": {
              "outlinewidth": 0,
              "ticks": ""
             }
            },
            "type": "scatterpolar"
           }
          ],
          "scatterpolargl": [
           {
            "marker": {
             "colorbar": {
              "outlinewidth": 0,
              "ticks": ""
             }
            },
            "type": "scatterpolargl"
           }
          ],
          "scatterternary": [
           {
            "marker": {
             "colorbar": {
              "outlinewidth": 0,
              "ticks": ""
             }
            },
            "type": "scatterternary"
           }
          ],
          "surface": [
           {
            "colorbar": {
             "outlinewidth": 0,
             "ticks": ""
            },
            "colorscale": [
             [
              0,
              "#0d0887"
             ],
             [
              0.1111111111111111,
              "#46039f"
             ],
             [
              0.2222222222222222,
              "#7201a8"
             ],
             [
              0.3333333333333333,
              "#9c179e"
             ],
             [
              0.4444444444444444,
              "#bd3786"
             ],
             [
              0.5555555555555556,
              "#d8576b"
             ],
             [
              0.6666666666666666,
              "#ed7953"
             ],
             [
              0.7777777777777778,
              "#fb9f3a"
             ],
             [
              0.8888888888888888,
              "#fdca26"
             ],
             [
              1,
              "#f0f921"
             ]
            ],
            "type": "surface"
           }
          ],
          "table": [
           {
            "cells": {
             "fill": {
              "color": "#EBF0F8"
             },
             "line": {
              "color": "white"
             }
            },
            "header": {
             "fill": {
              "color": "#C8D4E3"
             },
             "line": {
              "color": "white"
             }
            },
            "type": "table"
           }
          ]
         },
         "layout": {
          "annotationdefaults": {
           "arrowcolor": "#2a3f5f",
           "arrowhead": 0,
           "arrowwidth": 1
          },
          "autotypenumbers": "strict",
          "coloraxis": {
           "colorbar": {
            "outlinewidth": 0,
            "ticks": ""
           }
          },
          "colorscale": {
           "diverging": [
            [
             0,
             "#8e0152"
            ],
            [
             0.1,
             "#c51b7d"
            ],
            [
             0.2,
             "#de77ae"
            ],
            [
             0.3,
             "#f1b6da"
            ],
            [
             0.4,
             "#fde0ef"
            ],
            [
             0.5,
             "#f7f7f7"
            ],
            [
             0.6,
             "#e6f5d0"
            ],
            [
             0.7,
             "#b8e186"
            ],
            [
             0.8,
             "#7fbc41"
            ],
            [
             0.9,
             "#4d9221"
            ],
            [
             1,
             "#276419"
            ]
           ],
           "sequential": [
            [
             0,
             "#0d0887"
            ],
            [
             0.1111111111111111,
             "#46039f"
            ],
            [
             0.2222222222222222,
             "#7201a8"
            ],
            [
             0.3333333333333333,
             "#9c179e"
            ],
            [
             0.4444444444444444,
             "#bd3786"
            ],
            [
             0.5555555555555556,
             "#d8576b"
            ],
            [
             0.6666666666666666,
             "#ed7953"
            ],
            [
             0.7777777777777778,
             "#fb9f3a"
            ],
            [
             0.8888888888888888,
             "#fdca26"
            ],
            [
             1,
             "#f0f921"
            ]
           ],
           "sequentialminus": [
            [
             0,
             "#0d0887"
            ],
            [
             0.1111111111111111,
             "#46039f"
            ],
            [
             0.2222222222222222,
             "#7201a8"
            ],
            [
             0.3333333333333333,
             "#9c179e"
            ],
            [
             0.4444444444444444,
             "#bd3786"
            ],
            [
             0.5555555555555556,
             "#d8576b"
            ],
            [
             0.6666666666666666,
             "#ed7953"
            ],
            [
             0.7777777777777778,
             "#fb9f3a"
            ],
            [
             0.8888888888888888,
             "#fdca26"
            ],
            [
             1,
             "#f0f921"
            ]
           ]
          },
          "colorway": [
           "#636efa",
           "#EF553B",
           "#00cc96",
           "#ab63fa",
           "#FFA15A",
           "#19d3f3",
           "#FF6692",
           "#B6E880",
           "#FF97FF",
           "#FECB52"
          ],
          "font": {
           "color": "#2a3f5f"
          },
          "geo": {
           "bgcolor": "white",
           "lakecolor": "white",
           "landcolor": "#E5ECF6",
           "showlakes": true,
           "showland": true,
           "subunitcolor": "white"
          },
          "hoverlabel": {
           "align": "left"
          },
          "hovermode": "closest",
          "mapbox": {
           "style": "light"
          },
          "paper_bgcolor": "white",
          "plot_bgcolor": "#E5ECF6",
          "polar": {
           "angularaxis": {
            "gridcolor": "white",
            "linecolor": "white",
            "ticks": ""
           },
           "bgcolor": "#E5ECF6",
           "radialaxis": {
            "gridcolor": "white",
            "linecolor": "white",
            "ticks": ""
           }
          },
          "scene": {
           "xaxis": {
            "backgroundcolor": "#E5ECF6",
            "gridcolor": "white",
            "gridwidth": 2,
            "linecolor": "white",
            "showbackground": true,
            "ticks": "",
            "zerolinecolor": "white"
           },
           "yaxis": {
            "backgroundcolor": "#E5ECF6",
            "gridcolor": "white",
            "gridwidth": 2,
            "linecolor": "white",
            "showbackground": true,
            "ticks": "",
            "zerolinecolor": "white"
           },
           "zaxis": {
            "backgroundcolor": "#E5ECF6",
            "gridcolor": "white",
            "gridwidth": 2,
            "linecolor": "white",
            "showbackground": true,
            "ticks": "",
            "zerolinecolor": "white"
           }
          },
          "shapedefaults": {
           "line": {
            "color": "#2a3f5f"
           }
          },
          "ternary": {
           "aaxis": {
            "gridcolor": "white",
            "linecolor": "white",
            "ticks": ""
           },
           "baxis": {
            "gridcolor": "white",
            "linecolor": "white",
            "ticks": ""
           },
           "bgcolor": "#E5ECF6",
           "caxis": {
            "gridcolor": "white",
            "linecolor": "white",
            "ticks": ""
           }
          },
          "title": {
           "x": 0.05
          },
          "xaxis": {
           "automargin": true,
           "gridcolor": "white",
           "linecolor": "white",
           "ticks": "",
           "title": {
            "standoff": 15
           },
           "zerolinecolor": "white",
           "zerolinewidth": 2
          },
          "yaxis": {
           "automargin": true,
           "gridcolor": "white",
           "linecolor": "white",
           "ticks": "",
           "title": {
            "standoff": 15
           },
           "zerolinecolor": "white",
           "zerolinewidth": 2
          }
         }
        },
        "width": 1000,
        "xaxis": {
         "anchor": "y",
         "domain": [
          0,
          0.4
         ],
         "linecolor": "black",
         "linewidth": 1.5,
         "matches": "x3",
         "showgrid": false,
         "showline": false,
         "showticklabels": false,
         "tickangle": 45,
         "tickcolor": "black",
         "ticklen": 10,
         "tickwidth": 1.5,
         "title": {},
         "type": "category"
        },
        "xaxis2": {
         "anchor": "y2",
         "domain": [
          0.6000000000000001,
          1
         ],
         "linecolor": "black",
         "linewidth": 1.5,
         "matches": "x4",
         "showgrid": false,
         "showline": false,
         "showticklabels": false,
         "tickangle": 45,
         "tickcolor": "black",
         "ticklen": 10,
         "tickwidth": 1.5,
         "title": {}
        },
        "xaxis3": {
         "anchor": "y3",
         "domain": [
          0,
          0.4
         ],
         "linecolor": "black",
         "linewidth": 1.5,
         "showgrid": false,
         "showline": false,
         "tickangle": 45,
         "tickcolor": "black",
         "ticklen": 10,
         "tickwidth": 1.5,
         "title": {}
        },
        "xaxis4": {
         "anchor": "y4",
         "domain": [
          0.6000000000000001,
          1
         ],
         "linecolor": "black",
         "linewidth": 1.5,
         "showgrid": false,
         "showline": false,
         "tickangle": 45,
         "tickcolor": "black",
         "ticklen": 10,
         "tickwidth": 1.5,
         "title": {}
        },
        "yaxis": {
         "anchor": "x",
         "domain": [
          0.505,
          1
         ],
         "linecolor": "black",
         "linewidth": 1.5,
         "range": [
          0,
          1
         ],
         "showgrid": false,
         "showline": true,
         "tickcolor": "black",
         "ticklen": 10,
         "ticks": "outside",
         "tickwidth": 1.5,
         "title": {
          "text": "Recall, TP / #events"
         }
        },
        "yaxis2": {
         "anchor": "x2",
         "domain": [
          0.505,
          1
         ],
         "linecolor": "black",
         "linewidth": 1.5,
         "range": [
          0,
          1
         ],
         "showgrid": false,
         "showline": true,
         "tickcolor": "black",
         "ticklen": 10,
         "ticks": "outside",
         "tickwidth": 1.5,
         "title": {
          "text": "False Discovery Rate, <br>FP / #calls"
         }
        },
        "yaxis3": {
         "anchor": "x3",
         "domain": [
          0,
          0.495
         ],
         "linecolor": "black",
         "linewidth": 1.5,
         "showgrid": false,
         "showline": true,
         "tickcolor": "black",
         "ticklen": 10,
         "ticks": "outside",
         "tickwidth": 1.5,
         "title": {
          "text": "count"
         },
         "type": "log"
        },
        "yaxis4": {
         "anchor": "x4",
         "domain": [
          0,
          0.495
         ],
         "linecolor": "black",
         "linewidth": 1.5,
         "range": [
          0,
          null
         ],
         "showgrid": false,
         "showline": true,
         "tickcolor": "black",
         "ticklen": 10,
         "ticks": "outside",
         "tickwidth": 1.5,
         "title": {
          "text": "fraction of manta FNs <br>recovered by trfermikit"
         }
        }
       }
      },
      "text/html": [
       "<div>                            <div id=\"cd9ad553-59e9-4258-8158-65284686d4b3\" class=\"plotly-graph-div\" style=\"height:800px; width:1000px;\"></div>            <script type=\"text/javascript\">                require([\"plotly\"], function(Plotly) {                    window.PLOTLYENV=window.PLOTLYENV || {};                                    if (document.getElementById(\"cd9ad553-59e9-4258-8158-65284686d4b3\")) {                    Plotly.newPlot(                        \"cd9ad553-59e9-4258-8158-65284686d4b3\",                        [{\"marker\": {\"color\": \"red\", \"line\": {\"color\": \"black\", \"width\": 1}}, \"name\": \"trfermikit\", \"showlegend\": true, \"type\": \"bar\", \"x\": [\"100-125\", \"125-150\", \"150-200\", \"200-300\", \"300-500\", \"500-1500\", \"1500-99500\"], \"xaxis\": \"x\", \"y\": [0.7876712328767124, 0.759493670886076, 0.5727002967359051, 0.3907407407407407, 0.32922318125770655, 0.19763058696822833, 0.13247863247863248], \"yaxis\": \"y\"}, {\"marker\": {\"color\": \"blue\", \"line\": {\"color\": \"black\", \"width\": 1}}, \"name\": \"manta\", \"showlegend\": true, \"type\": \"bar\", \"x\": [\"100-125\", \"125-150\", \"150-200\", \"200-300\", \"300-500\", \"500-1500\", \"1500-99500\"], \"xaxis\": \"x\", \"y\": [0.8493150684931506, 0.8291139240506329, 0.5341246290801187, 0.29074074074074074, 0.2120838471023428, 0.1470113085621971, 0.10398860398860399], \"yaxis\": \"y\"}, {\"marker\": {\"color\": \"yellow\", \"line\": {\"color\": \"black\", \"width\": 1}}, \"name\": \"trfermikit + manta\", \"showlegend\": true, \"type\": \"bar\", \"x\": [\"100-125\", \"125-150\", \"150-200\", \"200-300\", \"300-500\", \"500-1500\", \"1500-99500\"], \"xaxis\": \"x\", \"y\": [0.9315068493150684, 0.9556962025316456, 0.7329376854599406, 0.5055555555555555, 0.42909987669543775, 0.2832525578890684, 0.2094017094017094], \"yaxis\": \"y\"}, {\"marker\": {\"color\": \"red\", \"line\": {\"color\": \"black\", \"width\": 1}}, \"name\": \"trfermikit\", \"showlegend\": false, \"type\": \"bar\", \"x\": [\"100-125\", \"125-150\", \"150-200\", \"200-300\", \"300-500\", \"500-1500\", \"1500-99500\"], \"xaxis\": \"x2\", \"y\": [0.12878787878787878, 0.1836734693877551, 0.1991701244813278, 0.340625, 0.45841784989858014, 0.5949227373068433, 0.6782006920415224], \"yaxis\": \"y2\"}, {\"marker\": {\"color\": \"blue\", \"line\": {\"color\": \"black\", \"width\": 1}}, \"name\": \"manta\", \"showlegend\": false, \"type\": \"bar\", \"x\": [\"100-125\", \"125-150\", \"150-200\", \"200-300\", \"300-500\", \"500-1500\", \"1500-99500\"], \"xaxis\": \"x2\", \"y\": [0.14482758620689656, 0.19135802469135801, 0.2, 0.3458333333333333, 0.5071633237822349, 0.636968085106383, 0.7420494699646644], \"yaxis\": \"y2\"}, {\"marker\": {\"color\": \"yellow\", \"line\": {\"color\": \"black\", \"width\": 1}}, \"name\": \"trfermikit + manta\", \"showlegend\": false, \"type\": \"bar\", \"x\": [\"100-125\", \"125-150\", \"150-200\", \"200-300\", \"300-500\", \"500-1500\", \"1500-99500\"], \"xaxis\": \"x2\", \"y\": [0.1656441717791411, 0.20526315789473684, 0.24, 0.3795454545454545, 0.5153203342618384, 0.6472166331321261, 0.724202626641651], \"yaxis\": \"y2\"}, {\"marker\": {\"color\": \"grey\", \"line\": {\"color\": \"black\", \"width\": 1}}, \"name\": \"VNTRs\", \"showlegend\": true, \"type\": \"bar\", \"x\": [\"100-125\", \"125-150\", \"150-200\", \"200-300\", \"300-500\", \"500-1500\", \"1500-99500\"], \"xaxis\": \"x3\", \"y\": [10892, 8687, 12600, 17682, 14923, 20211, 1912], \"yaxis\": \"y3\"}, {\"marker\": {\"color\": \"cyan\", \"line\": {\"color\": \"black\", \"width\": 1}}, \"name\": \"real events\", \"showlegend\": true, \"type\": \"bar\", \"x\": [\"100-125\", \"125-150\", \"150-200\", \"200-300\", \"300-500\", \"500-1500\", \"1500-99500\"], \"xaxis\": \"x3\", \"y\": [146, 158, 337, 540, 811, 1857, 702], \"yaxis\": \"y3\"}, {\"marker\": {\"color\": \"magenta\", \"line\": {\"color\": \"black\", \"width\": 1}}, \"name\": \"trfermikit calls\", \"showlegend\": true, \"type\": \"bar\", \"x\": [\"100-125\", \"125-150\", \"150-200\", \"200-300\", \"300-500\", \"500-1500\", \"1500-99500\"], \"xaxis\": \"x3\", \"y\": [132, 147, 241, 320, 493, 906, 289], \"yaxis\": \"y3\"}, {\"marker\": {\"color\": \"black\", \"line\": {\"color\": \"black\", \"width\": 1}}, \"showlegend\": false, \"type\": \"bar\", \"x\": [\"100-125\", \"125-150\", \"150-200\", \"200-300\", \"300-500\", \"500-1500\", \"1500-99500\"], \"xaxis\": \"x4\", \"y\": [0.18181818181818182, 0.4074074074074074, 0.3503184713375796, 0.24804177545691905, 0.2535211267605634, 0.1294191919191919, 0.10492845786963434], \"yaxis\": \"y4\"}],                        {\"annotations\": [{\"font\": {\"color\": \"black\", \"family\": \"Arial\", \"size\": 26}, \"showarrow\": false, \"text\": \"VNTR length (bps)\", \"x\": 0.5, \"xanchor\": \"center\", \"xref\": \"paper\", \"y\": -0.15, \"yanchor\": \"top\", \"yref\": \"paper\", \"yshift\": -30}], \"font\": {\"color\": \"black\", \"family\": \"Arial\", \"size\": 20}, \"height\": 800, \"margin\": {\"b\": 175, \"l\": 50, \"pad\": 0, \"r\": 50, \"t\": 50}, \"plot_bgcolor\": \"white\", \"template\": {\"data\": {\"bar\": [{\"error_x\": {\"color\": \"#2a3f5f\"}, \"error_y\": {\"color\": \"#2a3f5f\"}, \"marker\": {\"line\": {\"color\": \"#E5ECF6\", \"width\": 0.5}}, \"type\": \"bar\"}], \"barpolar\": [{\"marker\": {\"line\": {\"color\": \"#E5ECF6\", \"width\": 0.5}}, \"type\": \"barpolar\"}], \"carpet\": [{\"aaxis\": {\"endlinecolor\": \"#2a3f5f\", \"gridcolor\": \"white\", \"linecolor\": \"white\", \"minorgridcolor\": \"white\", \"startlinecolor\": \"#2a3f5f\"}, \"baxis\": {\"endlinecolor\": \"#2a3f5f\", \"gridcolor\": \"white\", \"linecolor\": \"white\", \"minorgridcolor\": \"white\", \"startlinecolor\": \"#2a3f5f\"}, \"type\": \"carpet\"}], \"choropleth\": [{\"colorbar\": {\"outlinewidth\": 0, \"ticks\": \"\"}, \"type\": \"choropleth\"}], \"contour\": [{\"colorbar\": {\"outlinewidth\": 0, \"ticks\": \"\"}, \"colorscale\": [[0.0, \"#0d0887\"], [0.1111111111111111, \"#46039f\"], [0.2222222222222222, \"#7201a8\"], [0.3333333333333333, \"#9c179e\"], [0.4444444444444444, \"#bd3786\"], [0.5555555555555556, \"#d8576b\"], [0.6666666666666666, \"#ed7953\"], [0.7777777777777778, \"#fb9f3a\"], [0.8888888888888888, \"#fdca26\"], [1.0, \"#f0f921\"]], \"type\": \"contour\"}], \"contourcarpet\": [{\"colorbar\": {\"outlinewidth\": 0, \"ticks\": \"\"}, \"type\": \"contourcarpet\"}], \"heatmap\": [{\"colorbar\": {\"outlinewidth\": 0, \"ticks\": \"\"}, \"colorscale\": [[0.0, \"#0d0887\"], [0.1111111111111111, \"#46039f\"], [0.2222222222222222, \"#7201a8\"], [0.3333333333333333, \"#9c179e\"], [0.4444444444444444, \"#bd3786\"], [0.5555555555555556, \"#d8576b\"], [0.6666666666666666, \"#ed7953\"], [0.7777777777777778, \"#fb9f3a\"], [0.8888888888888888, \"#fdca26\"], [1.0, \"#f0f921\"]], \"type\": \"heatmap\"}], \"heatmapgl\": [{\"colorbar\": {\"outlinewidth\": 0, \"ticks\": \"\"}, \"colorscale\": [[0.0, \"#0d0887\"], [0.1111111111111111, \"#46039f\"], [0.2222222222222222, \"#7201a8\"], [0.3333333333333333, \"#9c179e\"], [0.4444444444444444, \"#bd3786\"], [0.5555555555555556, \"#d8576b\"], [0.6666666666666666, \"#ed7953\"], [0.7777777777777778, \"#fb9f3a\"], [0.8888888888888888, \"#fdca26\"], [1.0, \"#f0f921\"]], \"type\": \"heatmapgl\"}], \"histogram\": [{\"marker\": {\"colorbar\": {\"outlinewidth\": 0, \"ticks\": \"\"}}, \"type\": \"histogram\"}], \"histogram2d\": [{\"colorbar\": {\"outlinewidth\": 0, \"ticks\": \"\"}, \"colorscale\": [[0.0, \"#0d0887\"], [0.1111111111111111, \"#46039f\"], [0.2222222222222222, \"#7201a8\"], [0.3333333333333333, \"#9c179e\"], [0.4444444444444444, \"#bd3786\"], [0.5555555555555556, \"#d8576b\"], [0.6666666666666666, \"#ed7953\"], [0.7777777777777778, \"#fb9f3a\"], [0.8888888888888888, \"#fdca26\"], [1.0, \"#f0f921\"]], \"type\": \"histogram2d\"}], \"histogram2dcontour\": [{\"colorbar\": {\"outlinewidth\": 0, \"ticks\": \"\"}, \"colorscale\": [[0.0, \"#0d0887\"], [0.1111111111111111, \"#46039f\"], [0.2222222222222222, \"#7201a8\"], [0.3333333333333333, \"#9c179e\"], [0.4444444444444444, \"#bd3786\"], [0.5555555555555556, \"#d8576b\"], [0.6666666666666666, \"#ed7953\"], [0.7777777777777778, \"#fb9f3a\"], [0.8888888888888888, \"#fdca26\"], [1.0, \"#f0f921\"]], \"type\": \"histogram2dcontour\"}], \"mesh3d\": [{\"colorbar\": {\"outlinewidth\": 0, \"ticks\": \"\"}, \"type\": \"mesh3d\"}], \"parcoords\": [{\"line\": {\"colorbar\": {\"outlinewidth\": 0, \"ticks\": \"\"}}, \"type\": \"parcoords\"}], \"pie\": [{\"automargin\": true, \"type\": \"pie\"}], \"scatter\": [{\"marker\": {\"colorbar\": {\"outlinewidth\": 0, \"ticks\": \"\"}}, \"type\": \"scatter\"}], \"scatter3d\": [{\"line\": {\"colorbar\": {\"outlinewidth\": 0, \"ticks\": \"\"}}, \"marker\": {\"colorbar\": {\"outlinewidth\": 0, \"ticks\": \"\"}}, \"type\": \"scatter3d\"}], \"scattercarpet\": [{\"marker\": {\"colorbar\": {\"outlinewidth\": 0, \"ticks\": \"\"}}, \"type\": \"scattercarpet\"}], \"scattergeo\": [{\"marker\": {\"colorbar\": {\"outlinewidth\": 0, \"ticks\": \"\"}}, \"type\": \"scattergeo\"}], \"scattergl\": [{\"marker\": {\"colorbar\": {\"outlinewidth\": 0, \"ticks\": \"\"}}, \"type\": \"scattergl\"}], \"scattermapbox\": [{\"marker\": {\"colorbar\": {\"outlinewidth\": 0, \"ticks\": \"\"}}, \"type\": \"scattermapbox\"}], \"scatterpolar\": [{\"marker\": {\"colorbar\": {\"outlinewidth\": 0, \"ticks\": \"\"}}, \"type\": \"scatterpolar\"}], \"scatterpolargl\": [{\"marker\": {\"colorbar\": {\"outlinewidth\": 0, \"ticks\": \"\"}}, \"type\": \"scatterpolargl\"}], \"scatterternary\": [{\"marker\": {\"colorbar\": {\"outlinewidth\": 0, \"ticks\": \"\"}}, \"type\": \"scatterternary\"}], \"surface\": [{\"colorbar\": {\"outlinewidth\": 0, \"ticks\": \"\"}, \"colorscale\": [[0.0, \"#0d0887\"], [0.1111111111111111, \"#46039f\"], [0.2222222222222222, \"#7201a8\"], [0.3333333333333333, \"#9c179e\"], [0.4444444444444444, \"#bd3786\"], [0.5555555555555556, \"#d8576b\"], [0.6666666666666666, \"#ed7953\"], [0.7777777777777778, \"#fb9f3a\"], [0.8888888888888888, \"#fdca26\"], [1.0, \"#f0f921\"]], \"type\": \"surface\"}], \"table\": [{\"cells\": {\"fill\": {\"color\": \"#EBF0F8\"}, \"line\": {\"color\": \"white\"}}, \"header\": {\"fill\": {\"color\": \"#C8D4E3\"}, \"line\": {\"color\": \"white\"}}, \"type\": \"table\"}]}, \"layout\": {\"annotationdefaults\": {\"arrowcolor\": \"#2a3f5f\", \"arrowhead\": 0, \"arrowwidth\": 1}, \"autotypenumbers\": \"strict\", \"coloraxis\": {\"colorbar\": {\"outlinewidth\": 0, \"ticks\": \"\"}}, \"colorscale\": {\"diverging\": [[0, \"#8e0152\"], [0.1, \"#c51b7d\"], [0.2, \"#de77ae\"], [0.3, \"#f1b6da\"], [0.4, \"#fde0ef\"], [0.5, \"#f7f7f7\"], [0.6, \"#e6f5d0\"], [0.7, \"#b8e186\"], [0.8, \"#7fbc41\"], [0.9, \"#4d9221\"], [1, \"#276419\"]], \"sequential\": [[0.0, \"#0d0887\"], [0.1111111111111111, \"#46039f\"], [0.2222222222222222, \"#7201a8\"], [0.3333333333333333, \"#9c179e\"], [0.4444444444444444, \"#bd3786\"], [0.5555555555555556, \"#d8576b\"], [0.6666666666666666, \"#ed7953\"], [0.7777777777777778, \"#fb9f3a\"], [0.8888888888888888, \"#fdca26\"], [1.0, \"#f0f921\"]], \"sequentialminus\": [[0.0, \"#0d0887\"], [0.1111111111111111, \"#46039f\"], [0.2222222222222222, \"#7201a8\"], [0.3333333333333333, \"#9c179e\"], [0.4444444444444444, \"#bd3786\"], [0.5555555555555556, \"#d8576b\"], [0.6666666666666666, \"#ed7953\"], [0.7777777777777778, \"#fb9f3a\"], [0.8888888888888888, \"#fdca26\"], [1.0, \"#f0f921\"]]}, \"colorway\": [\"#636efa\", \"#EF553B\", \"#00cc96\", \"#ab63fa\", \"#FFA15A\", \"#19d3f3\", \"#FF6692\", \"#B6E880\", \"#FF97FF\", \"#FECB52\"], \"font\": {\"color\": \"#2a3f5f\"}, \"geo\": {\"bgcolor\": \"white\", \"lakecolor\": \"white\", \"landcolor\": \"#E5ECF6\", \"showlakes\": true, \"showland\": true, \"subunitcolor\": \"white\"}, \"hoverlabel\": {\"align\": \"left\"}, \"hovermode\": \"closest\", \"mapbox\": {\"style\": \"light\"}, \"paper_bgcolor\": \"white\", \"plot_bgcolor\": \"#E5ECF6\", \"polar\": {\"angularaxis\": {\"gridcolor\": \"white\", \"linecolor\": \"white\", \"ticks\": \"\"}, \"bgcolor\": \"#E5ECF6\", \"radialaxis\": {\"gridcolor\": \"white\", \"linecolor\": \"white\", \"ticks\": \"\"}}, \"scene\": {\"xaxis\": {\"backgroundcolor\": \"#E5ECF6\", \"gridcolor\": \"white\", \"gridwidth\": 2, \"linecolor\": \"white\", \"showbackground\": true, \"ticks\": \"\", \"zerolinecolor\": \"white\"}, \"yaxis\": {\"backgroundcolor\": \"#E5ECF6\", \"gridcolor\": \"white\", \"gridwidth\": 2, \"linecolor\": \"white\", \"showbackground\": true, \"ticks\": \"\", \"zerolinecolor\": \"white\"}, \"zaxis\": {\"backgroundcolor\": \"#E5ECF6\", \"gridcolor\": \"white\", \"gridwidth\": 2, \"linecolor\": \"white\", \"showbackground\": true, \"ticks\": \"\", \"zerolinecolor\": \"white\"}}, \"shapedefaults\": {\"line\": {\"color\": \"#2a3f5f\"}}, \"ternary\": {\"aaxis\": {\"gridcolor\": \"white\", \"linecolor\": \"white\", \"ticks\": \"\"}, \"baxis\": {\"gridcolor\": \"white\", \"linecolor\": \"white\", \"ticks\": \"\"}, \"bgcolor\": \"#E5ECF6\", \"caxis\": {\"gridcolor\": \"white\", \"linecolor\": \"white\", \"ticks\": \"\"}}, \"title\": {\"x\": 0.05}, \"xaxis\": {\"automargin\": true, \"gridcolor\": \"white\", \"linecolor\": \"white\", \"ticks\": \"\", \"title\": {\"standoff\": 15}, \"zerolinecolor\": \"white\", \"zerolinewidth\": 2}, \"yaxis\": {\"automargin\": true, \"gridcolor\": \"white\", \"linecolor\": \"white\", \"ticks\": \"\", \"title\": {\"standoff\": 15}, \"zerolinecolor\": \"white\", \"zerolinewidth\": 2}}}, \"width\": 1000, \"xaxis\": {\"anchor\": \"y\", \"domain\": [0.0, 0.4], \"linecolor\": \"black\", \"linewidth\": 1.5, \"matches\": \"x3\", \"showgrid\": false, \"showline\": false, \"showticklabels\": false, \"tickangle\": 45, \"tickcolor\": \"black\", \"ticklen\": 10, \"tickwidth\": 1.5, \"title\": {}, \"type\": \"category\"}, \"xaxis2\": {\"anchor\": \"y2\", \"domain\": [0.6000000000000001, 1.0], \"linecolor\": \"black\", \"linewidth\": 1.5, \"matches\": \"x4\", \"showgrid\": false, \"showline\": false, \"showticklabels\": false, \"tickangle\": 45, \"tickcolor\": \"black\", \"ticklen\": 10, \"tickwidth\": 1.5, \"title\": {}}, \"xaxis3\": {\"anchor\": \"y3\", \"domain\": [0.0, 0.4], \"linecolor\": \"black\", \"linewidth\": 1.5, \"showgrid\": false, \"showline\": false, \"tickangle\": 45, \"tickcolor\": \"black\", \"ticklen\": 10, \"tickwidth\": 1.5, \"title\": {}}, \"xaxis4\": {\"anchor\": \"y4\", \"domain\": [0.6000000000000001, 1.0], \"linecolor\": \"black\", \"linewidth\": 1.5, \"showgrid\": false, \"showline\": false, \"tickangle\": 45, \"tickcolor\": \"black\", \"ticklen\": 10, \"tickwidth\": 1.5, \"title\": {}}, \"yaxis\": {\"anchor\": \"x\", \"domain\": [0.505, 1.0], \"linecolor\": \"black\", \"linewidth\": 1.5, \"range\": [0, 1], \"showgrid\": false, \"showline\": true, \"tickcolor\": \"black\", \"ticklen\": 10, \"ticks\": \"outside\", \"tickwidth\": 1.5, \"title\": {\"text\": \"Recall, TP / #events\"}}, \"yaxis2\": {\"anchor\": \"x2\", \"domain\": [0.505, 1.0], \"linecolor\": \"black\", \"linewidth\": 1.5, \"range\": [0, 1], \"showgrid\": false, \"showline\": true, \"tickcolor\": \"black\", \"ticklen\": 10, \"ticks\": \"outside\", \"tickwidth\": 1.5, \"title\": {\"text\": \"False Discovery Rate, <br>FP / #calls\"}}, \"yaxis3\": {\"anchor\": \"x3\", \"domain\": [0.0, 0.495], \"linecolor\": \"black\", \"linewidth\": 1.5, \"showgrid\": false, \"showline\": true, \"tickcolor\": \"black\", \"ticklen\": 10, \"ticks\": \"outside\", \"tickwidth\": 1.5, \"title\": {\"text\": \"count\"}, \"type\": \"log\"}, \"yaxis4\": {\"anchor\": \"x4\", \"domain\": [0.0, 0.495], \"linecolor\": \"black\", \"linewidth\": 1.5, \"range\": [0, null], \"showgrid\": false, \"showline\": true, \"tickcolor\": \"black\", \"ticklen\": 10, \"ticks\": \"outside\", \"tickwidth\": 1.5, \"title\": {\"text\": \"fraction of manta FNs <br>recovered by trfermikit\"}}},                        {\"responsive\": true}                    ).then(function(){\n",
       "                            \n",
       "var gd = document.getElementById('cd9ad553-59e9-4258-8158-65284686d4b3');\n",
       "var x = new MutationObserver(function (mutations, observer) {{\n",
       "        var display = window.getComputedStyle(gd).display;\n",
       "        if (!display || display === 'none') {{\n",
       "            console.log([gd, 'removed!']);\n",
       "            Plotly.purge(gd);\n",
       "            observer.disconnect();\n",
       "        }}\n",
       "}});\n",
       "\n",
       "// Listen for the removal of the full notebook cells\n",
       "var notebookContainer = gd.closest('#notebook-container');\n",
       "if (notebookContainer) {{\n",
       "    x.observe(notebookContainer, {childList: true});\n",
       "}}\n",
       "\n",
       "// Listen for the clearing of the current output cell\n",
       "var outputEl = gd.closest('.output');\n",
       "if (outputEl) {{\n",
       "    x.observe(outputEl, {childList: true});\n",
       "}}\n",
       "\n",
       "                        })                };                });            </script>        </div>"
      ]
     },
     "metadata": {}
    }
   ],
   "metadata": {}
  },
  {
   "cell_type": "code",
   "execution_count": 14,
   "source": [
    "def get_overall_TPR_FDR_core(experiments): \n",
    "  TPs, event_counts = zip(*[get_TP_eventCount(experiment) for experiment in experiments])  \n",
    "  try: \n",
    "    TPR = np.sum(TPs)/np.sum(event_counts)\n",
    "  except TypeError: \n",
    "    TPR = None \n",
    "  FPs, call_counts = zip(*[get_FP_callCount(experiment) for experiment in experiments])  \n",
    "  try: \n",
    "    FDR = np.sum(FPs)/np.sum(call_counts)\n",
    "  except TypeError: \n",
    "    FDR = None\n",
    "  return TPR, FDR\n",
    "  \n",
    "def get_overall_TPR_FDR(consortium, population, sample, svtype, caller): \n",
    "  experiments = get_experiments(consortium, population, sample, svtype, caller)\n",
    "  TPR, FDR = get_overall_TPR_FDR_core(experiments)\n",
    "  return TPR, FDR \n",
    "\n",
    "get_overall_TPR_FDR('HGSVC2', 'ESN', 'HG03125', 'DEL', 'trfermikit.unitigSupport.thinned')"
   ],
   "outputs": [
    {
     "output_type": "execute_result",
     "data": {
      "text/plain": [
       "(0.3884422110552764, 0.40400925212027755)"
      ]
     },
     "metadata": {},
     "execution_count": 14
    }
   ],
   "metadata": {}
  },
  {
   "cell_type": "code",
   "execution_count": 15,
   "source": [
    "def get_manta_counts_wrapper(manta_callset, manta_experiment, trfermikit_experiment):\n",
    "  check(manta_callset)\n",
    "  overlap_count, manta_exclusive_count = get_manta_counts(manta_callset, manta_experiment, trfermikit_experiment)    \n",
    "  return overlap_count, manta_exclusive_count\n",
    "\n",
    "def get_overall_manta_fraction(consortium, population, sample, svtype): \n",
    "  manta_experiments, _ = zip_and_sort(get_experiments_and_size_ranges(consortium, population, sample, svtype, caller='manta'))\n",
    "  trfermikit_experiments, _ = zip_and_sort(get_experiments_and_size_ranges(consortium, population, sample, svtype, caller='trfermikit.unitigSupport.thinned'))\n",
    "\n",
    "  manta_counts = [\n",
    "    get_manta_counts_wrapper(\n",
    "      manta_callset='fn', \n",
    "      manta_experiment=manta_experiment, \n",
    "      trfermikit_experiment=trfermikit_experiment\n",
    "    ) \n",
    "    for manta_experiment, trfermikit_experiment in zip(manta_experiments, trfermikit_experiments)\n",
    "  ]\n",
    "\n",
    "  overlap_counts, manta_exclusive_counts = zip(*manta_counts)\n",
    "  return np.sum(overlap_counts)/(np.sum(overlap_counts) + np.sum(manta_exclusive_counts))\n",
    "\n",
    "get_overall_manta_fraction('chaisson_2019', 'CHS', 'HG00514', 'DEL')"
   ],
   "outputs": [
    {
     "output_type": "execute_result",
     "data": {
      "text/plain": [
       "0.1737866899157222"
      ]
     },
     "metadata": {},
     "execution_count": 15
    }
   ],
   "metadata": {}
  },
  {
   "cell_type": "code",
   "execution_count": 16,
   "source": [
    "import os \n",
    "\n",
    "def get_consortia_populations_samples_core(consortium): \n",
    "  populations_samples = ! ls -d $consortium/data/*\n",
    "  return [[consortium] + os.path.basename(os.path.normpath(population_sample)).split(',') for population_sample in populations_samples]\n",
    "\n",
    "def get_consortia_populations_samples(): \n",
    "  return get_consortia_populations_samples_core('chaisson_2019') + get_consortia_populations_samples_core('HGSVC2')\n",
    "\n",
    "get_consortia_populations_samples() "
   ],
   "outputs": [
    {
     "output_type": "execute_result",
     "data": {
      "text/plain": [
       "[['chaisson_2019', 'CHS', 'HG00514'],\n",
       " ['chaisson_2019', 'PUR', 'HG00733'],\n",
       " ['chaisson_2019', 'YRI', 'NA19240'],\n",
       " ['HGSVC2', 'CEU', 'NA12878'],\n",
       " ['HGSVC2', 'ESN', 'HG03125'],\n",
       " ['HGSVC2', 'GWD', 'HG02818'],\n",
       " ['HGSVC2', 'MSL', 'HG03486']]"
      ]
     },
     "metadata": {},
     "execution_count": 16
    }
   ],
   "metadata": {}
  },
  {
   "cell_type": "code",
   "execution_count": 17,
   "source": [
    "def create_bar_chart_AB_all_samples(svtype, caller, chart_type, color):  \n",
    "  consortia_populations_samples = get_consortia_populations_samples()\n",
    "  consortia, populations, samples = zip(*consortia_populations_samples) \n",
    "  \n",
    "  populations_samples = [f'{population},{sample}' for population, sample in zip(populations, samples)]\n",
    "\n",
    "  overall_TPRs, overall_FDRs = zip(*[\n",
    "    get_overall_TPR_FDR(consortium, population, sample, svtype, caller) \n",
    "    for consortium, population, sample in consortia_populations_samples\n",
    "  ])\n",
    "\n",
    "  y = { \n",
    "    'TPR': overall_TPRs, \n",
    "    'FDR': overall_FDRs,\n",
    "  }\n",
    "  name = { \n",
    "    'manta': 'manta',\n",
    "    'trfermikit.unitigSupport.thinned': 'trfermikit',\n",
    "    'combined': 'trfermikit + manta'\n",
    "  }\n",
    "  def get_showlegend(): \n",
    "    if chart_type == 'TPR': return True\n",
    "    elif chart_type == 'FDR': return False \n",
    "    else: raise ValueError\n",
    "    \n",
    "  return go.Bar(\n",
    "    x=populations_samples, \n",
    "    y=y[chart_type], \n",
    "    name=name[caller],\n",
    "    marker=get_marker(color=color),\n",
    "    showlegend=get_showlegend()\n",
    "  )\n",
    "  \n",
    "def plot_performance_AB_all_samples(svtype, chart_type, fig, row, col): \n",
    "  fig.add_trace(\n",
    "    create_bar_chart_AB_all_samples(svtype, 'trfermikit.unitigSupport.thinned', chart_type, color='red'),\n",
    "    row=row, \n",
    "    col=col\n",
    "  ) \n",
    "  fig.add_trace(\n",
    "    create_bar_chart_AB_all_samples(svtype, 'manta', chart_type, color='blue'),\n",
    "    row=row,\n",
    "    col=col\n",
    "  ) \n",
    "  fig.add_trace(\n",
    "    create_bar_chart_AB_all_samples(svtype, 'combined', chart_type, color='yellow'),\n",
    "    row=row,\n",
    "    col=col\n",
    "  ) \n",
    "  update_axes(fig, 'x', None, showline=False, ticks=None, row=row, col=col) \n",
    "  y_text = { \n",
    "    'TPR': 'Recall, TP / #events',\n",
    "    'FDR': 'False Discovery Rate, FP / #calls'    \n",
    "  }  \n",
    "  update_axes(fig, 'y' , y_text[chart_type], range_=[0, 1], row=row, col=col) \n",
    "\n",
    "def create_bar_chart_overall_manta_fraction_all_samples(svtype):  \n",
    "  consortia_populations_samples = get_consortia_populations_samples()\n",
    "  consortia, populations, samples = zip(*consortia_populations_samples) \n",
    "  \n",
    "  populations_samples = [f'{population},{sample}' for population, sample in zip(populations, samples)]\n",
    "\n",
    "  overall_manta_fractions = [\n",
    "    get_overall_manta_fraction(consortium, population, sample, svtype)\n",
    "    for consortium, population, sample in consortia_populations_samples\n",
    "  ]\n",
    "\n",
    "  return go.Bar(\n",
    "    x=populations_samples, \n",
    "    y=overall_manta_fractions, \n",
    "    marker=get_marker(color='black'),\n",
    "    showlegend=False\n",
    "  )\n",
    " \n",
    "def plot_overall_manta_fraction_all_samples(svtype, fig, row, col): \n",
    "  fig.add_trace(\n",
    "    create_bar_chart_overall_manta_fraction_all_samples(svtype),\n",
    "    row=row, \n",
    "    col=col\n",
    "  ) \n",
    "  update_axes(fig, 'x', None, showline=False, ticks=None, row=row, col=col) \n",
    "  update_axes(fig, 'y' , 'fraction of manta FNs <br>recovered by trfermikit', range_=[0, 1], row=row, col=col) \n",
    "\n",
    "def plot_Fig3(svtype): \n",
    "  x_title = 'sample'\n",
    "\n",
    "  fig = make_subplots(\n",
    "    rows=1, \n",
    "    cols=3,\n",
    "    column_widths=[1, 1, 1],\n",
    "    row_heights=[1],\n",
    "    specs=[[{\"type\": \"bar\"}, {\"type\": \"bar\"}, {\"type\": \"bar\"}]],\n",
    "    horizontal_spacing=0.125,\n",
    "    x_title=x_title\n",
    "  ) \n",
    "  \n",
    "  plot_performance_AB_all_samples(svtype, chart_type='TPR', fig=fig, row=1, col=1)\n",
    "  plot_performance_AB_all_samples(svtype, chart_type='FDR', fig=fig, row=1, col=2)\n",
    "  plot_overall_manta_fraction_all_samples(svtype, fig=fig, row=1, col=3)\n",
    "\n",
    "  fig.update_layout(dict(\n",
    "      xaxis=dict(type='category'),\n",
    "      plot_bgcolor='white',\n",
    "      font=get_font(),\n",
    "      width=1500,\n",
    "      height=600,\n",
    "      margin=dict(\n",
    "        l=50,\n",
    "        r=50,\n",
    "        b=200,\n",
    "        t=50,\n",
    "        pad=0\n",
    "      )\n",
    "  ))\n",
    "\n",
    "  fig.update_xaxes(tickangle=45)\n",
    "\n",
    "  fig.update_annotations(font=get_font(size=26))\n",
    "\n",
    "  annotations = fig.layout.annotations\n",
    "  annotation_texts = [annotation['text'] for annotation in annotations]\n",
    "  annotations[annotation_texts.index(x_title)].update(y=-0.3)\n",
    "\n",
    "  fig.write_image('Fig3.pdf')\n",
    "\n",
    "  fig.show()\n",
    "\n",
    "plot_Fig3('DEL') "
   ],
   "outputs": [
    {
     "output_type": "display_data",
     "data": {
      "application/vnd.plotly.v1+json": {
       "config": {
        "plotlyServerURL": "https://plot.ly"
       },
       "data": [
        {
         "marker": {
          "color": "red",
          "line": {
           "color": "black",
           "width": 1
          }
         },
         "name": "trfermikit",
         "showlegend": true,
         "type": "bar",
         "x": [
          "CHS,HG00514",
          "PUR,HG00733",
          "YRI,NA19240",
          "CEU,NA12878",
          "ESN,HG03125",
          "GWD,HG02818",
          "MSL,HG03486"
         ],
         "xaxis": "x",
         "y": [
          0.3001538123489343,
          0.2796965462168097,
          0.2883584154990486,
          0.3719399300555441,
          0.3884422110552764,
          0.37292724196277494,
          0.37045003309066843
         ],
         "yaxis": "y"
        },
        {
         "marker": {
          "color": "blue",
          "line": {
           "color": "black",
           "width": 1
          }
         },
         "name": "manta",
         "showlegend": true,
         "type": "bar",
         "x": [
          "CHS,HG00514",
          "PUR,HG00733",
          "YRI,NA19240",
          "CEU,NA12878",
          "ESN,HG03125",
          "GWD,HG02818",
          "MSL,HG03486"
         ],
         "xaxis": "x",
         "y": [
          0.24390243902439024,
          0.22220003992812937,
          0.247362048088566,
          0.2606459576218885,
          0.2809045226130653,
          0.2785109983079526,
          0.27316346790205165
         ],
         "yaxis": "y"
        },
        {
         "marker": {
          "color": "yellow",
          "line": {
           "color": "black",
           "width": 1
          }
         },
         "name": "trfermikit + manta",
         "showlegend": true,
         "type": "bar",
         "x": [
          "CHS,HG00514",
          "PUR,HG00733",
          "YRI,NA19240",
          "CEU,NA12878",
          "ESN,HG03125",
          "GWD,HG02818",
          "MSL,HG03486"
         ],
         "xaxis": "x",
         "y": [
          0.4016699626455724,
          0.3757236973447794,
          0.40027676872513407,
          0.4706850442295824,
          0.4996649916247906,
          0.48510998307952624,
          0.4750165453342158
         ],
         "yaxis": "y"
        },
        {
         "marker": {
          "color": "red",
          "line": {
           "color": "black",
           "width": 1
          }
         },
         "name": "trfermikit",
         "showlegend": false,
         "type": "bar",
         "x": [
          "CHS,HG00514",
          "PUR,HG00733",
          "YRI,NA19240",
          "CEU,NA12878",
          "ESN,HG03125",
          "GWD,HG02818",
          "MSL,HG03486"
         ],
         "xaxis": "x2",
         "y": [
          0.4596518987341772,
          0.48435774751564226,
          0.46690118324272467,
          0.399734395750332,
          0.40400925212027755,
          0.4119530416221985,
          0.3943738166080606
         ],
         "yaxis": "y2"
        },
        {
         "marker": {
          "color": "blue",
          "line": {
           "color": "black",
           "width": 1
          }
         },
         "name": "manta",
         "showlegend": false,
         "type": "bar",
         "x": [
          "CHS,HG00514",
          "PUR,HG00733",
          "YRI,NA19240",
          "CEU,NA12878",
          "ESN,HG03125",
          "GWD,HG02818",
          "MSL,HG03486"
         ],
         "xaxis": "x2",
         "y": [
          0.48515769944341375,
          0.5096916299559472,
          0.49074074074074076,
          0.40207645115620577,
          0.43781428092524305,
          0.4171388101983003,
          0.4126645321949484
         ],
         "yaxis": "y2"
        },
        {
         "marker": {
          "color": "yellow",
          "line": {
           "color": "black",
           "width": 1
          }
         },
         "name": "trfermikit + manta",
         "showlegend": false,
         "type": "bar",
         "x": [
          "CHS,HG00514",
          "PUR,HG00733",
          "YRI,NA19240",
          "CEU,NA12878",
          "ESN,HG03125",
          "GWD,HG02818",
          "MSL,HG03486"
         ],
         "xaxis": "x2",
         "y": [
          0.5264248704663212,
          0.548139255702281,
          0.5311993517017828,
          0.45666112562336736,
          0.4722222222222222,
          0.46868050407709416,
          0.4588124410933082
         ],
         "yaxis": "y2"
        },
        {
         "marker": {
          "color": "black",
          "line": {
           "color": "black",
           "width": 1
          }
         },
         "showlegend": false,
         "type": "bar",
         "x": [
          "CHS,HG00514",
          "PUR,HG00733",
          "YRI,NA19240",
          "CEU,NA12878",
          "ESN,HG03125",
          "GWD,HG02818",
          "MSL,HG03486"
         ],
         "xaxis": "x3",
         "y": [
          0.1737866899157222,
          0.1645277207392197,
          0.1650195357389106,
          0.2417918753478019,
          0.25902632191940367,
          0.24202626641651032,
          0.22991122239927156
         ],
         "yaxis": "y3"
        }
       ],
       "layout": {
        "annotations": [
         {
          "font": {
           "color": "black",
           "family": "Arial",
           "size": 26
          },
          "showarrow": false,
          "text": "sample",
          "x": 0.5,
          "xanchor": "center",
          "xref": "paper",
          "y": -0.3,
          "yanchor": "top",
          "yref": "paper",
          "yshift": -30
         }
        ],
        "font": {
         "color": "black",
         "family": "Arial",
         "size": 20
        },
        "height": 600,
        "margin": {
         "b": 200,
         "l": 50,
         "pad": 0,
         "r": 50,
         "t": 50
        },
        "plot_bgcolor": "white",
        "template": {
         "data": {
          "bar": [
           {
            "error_x": {
             "color": "#2a3f5f"
            },
            "error_y": {
             "color": "#2a3f5f"
            },
            "marker": {
             "line": {
              "color": "#E5ECF6",
              "width": 0.5
             }
            },
            "type": "bar"
           }
          ],
          "barpolar": [
           {
            "marker": {
             "line": {
              "color": "#E5ECF6",
              "width": 0.5
             }
            },
            "type": "barpolar"
           }
          ],
          "carpet": [
           {
            "aaxis": {
             "endlinecolor": "#2a3f5f",
             "gridcolor": "white",
             "linecolor": "white",
             "minorgridcolor": "white",
             "startlinecolor": "#2a3f5f"
            },
            "baxis": {
             "endlinecolor": "#2a3f5f",
             "gridcolor": "white",
             "linecolor": "white",
             "minorgridcolor": "white",
             "startlinecolor": "#2a3f5f"
            },
            "type": "carpet"
           }
          ],
          "choropleth": [
           {
            "colorbar": {
             "outlinewidth": 0,
             "ticks": ""
            },
            "type": "choropleth"
           }
          ],
          "contour": [
           {
            "colorbar": {
             "outlinewidth": 0,
             "ticks": ""
            },
            "colorscale": [
             [
              0,
              "#0d0887"
             ],
             [
              0.1111111111111111,
              "#46039f"
             ],
             [
              0.2222222222222222,
              "#7201a8"
             ],
             [
              0.3333333333333333,
              "#9c179e"
             ],
             [
              0.4444444444444444,
              "#bd3786"
             ],
             [
              0.5555555555555556,
              "#d8576b"
             ],
             [
              0.6666666666666666,
              "#ed7953"
             ],
             [
              0.7777777777777778,
              "#fb9f3a"
             ],
             [
              0.8888888888888888,
              "#fdca26"
             ],
             [
              1,
              "#f0f921"
             ]
            ],
            "type": "contour"
           }
          ],
          "contourcarpet": [
           {
            "colorbar": {
             "outlinewidth": 0,
             "ticks": ""
            },
            "type": "contourcarpet"
           }
          ],
          "heatmap": [
           {
            "colorbar": {
             "outlinewidth": 0,
             "ticks": ""
            },
            "colorscale": [
             [
              0,
              "#0d0887"
             ],
             [
              0.1111111111111111,
              "#46039f"
             ],
             [
              0.2222222222222222,
              "#7201a8"
             ],
             [
              0.3333333333333333,
              "#9c179e"
             ],
             [
              0.4444444444444444,
              "#bd3786"
             ],
             [
              0.5555555555555556,
              "#d8576b"
             ],
             [
              0.6666666666666666,
              "#ed7953"
             ],
             [
              0.7777777777777778,
              "#fb9f3a"
             ],
             [
              0.8888888888888888,
              "#fdca26"
             ],
             [
              1,
              "#f0f921"
             ]
            ],
            "type": "heatmap"
           }
          ],
          "heatmapgl": [
           {
            "colorbar": {
             "outlinewidth": 0,
             "ticks": ""
            },
            "colorscale": [
             [
              0,
              "#0d0887"
             ],
             [
              0.1111111111111111,
              "#46039f"
             ],
             [
              0.2222222222222222,
              "#7201a8"
             ],
             [
              0.3333333333333333,
              "#9c179e"
             ],
             [
              0.4444444444444444,
              "#bd3786"
             ],
             [
              0.5555555555555556,
              "#d8576b"
             ],
             [
              0.6666666666666666,
              "#ed7953"
             ],
             [
              0.7777777777777778,
              "#fb9f3a"
             ],
             [
              0.8888888888888888,
              "#fdca26"
             ],
             [
              1,
              "#f0f921"
             ]
            ],
            "type": "heatmapgl"
           }
          ],
          "histogram": [
           {
            "marker": {
             "colorbar": {
              "outlinewidth": 0,
              "ticks": ""
             }
            },
            "type": "histogram"
           }
          ],
          "histogram2d": [
           {
            "colorbar": {
             "outlinewidth": 0,
             "ticks": ""
            },
            "colorscale": [
             [
              0,
              "#0d0887"
             ],
             [
              0.1111111111111111,
              "#46039f"
             ],
             [
              0.2222222222222222,
              "#7201a8"
             ],
             [
              0.3333333333333333,
              "#9c179e"
             ],
             [
              0.4444444444444444,
              "#bd3786"
             ],
             [
              0.5555555555555556,
              "#d8576b"
             ],
             [
              0.6666666666666666,
              "#ed7953"
             ],
             [
              0.7777777777777778,
              "#fb9f3a"
             ],
             [
              0.8888888888888888,
              "#fdca26"
             ],
             [
              1,
              "#f0f921"
             ]
            ],
            "type": "histogram2d"
           }
          ],
          "histogram2dcontour": [
           {
            "colorbar": {
             "outlinewidth": 0,
             "ticks": ""
            },
            "colorscale": [
             [
              0,
              "#0d0887"
             ],
             [
              0.1111111111111111,
              "#46039f"
             ],
             [
              0.2222222222222222,
              "#7201a8"
             ],
             [
              0.3333333333333333,
              "#9c179e"
             ],
             [
              0.4444444444444444,
              "#bd3786"
             ],
             [
              0.5555555555555556,
              "#d8576b"
             ],
             [
              0.6666666666666666,
              "#ed7953"
             ],
             [
              0.7777777777777778,
              "#fb9f3a"
             ],
             [
              0.8888888888888888,
              "#fdca26"
             ],
             [
              1,
              "#f0f921"
             ]
            ],
            "type": "histogram2dcontour"
           }
          ],
          "mesh3d": [
           {
            "colorbar": {
             "outlinewidth": 0,
             "ticks": ""
            },
            "type": "mesh3d"
           }
          ],
          "parcoords": [
           {
            "line": {
             "colorbar": {
              "outlinewidth": 0,
              "ticks": ""
             }
            },
            "type": "parcoords"
           }
          ],
          "pie": [
           {
            "automargin": true,
            "type": "pie"
           }
          ],
          "scatter": [
           {
            "marker": {
             "colorbar": {
              "outlinewidth": 0,
              "ticks": ""
             }
            },
            "type": "scatter"
           }
          ],
          "scatter3d": [
           {
            "line": {
             "colorbar": {
              "outlinewidth": 0,
              "ticks": ""
             }
            },
            "marker": {
             "colorbar": {
              "outlinewidth": 0,
              "ticks": ""
             }
            },
            "type": "scatter3d"
           }
          ],
          "scattercarpet": [
           {
            "marker": {
             "colorbar": {
              "outlinewidth": 0,
              "ticks": ""
             }
            },
            "type": "scattercarpet"
           }
          ],
          "scattergeo": [
           {
            "marker": {
             "colorbar": {
              "outlinewidth": 0,
              "ticks": ""
             }
            },
            "type": "scattergeo"
           }
          ],
          "scattergl": [
           {
            "marker": {
             "colorbar": {
              "outlinewidth": 0,
              "ticks": ""
             }
            },
            "type": "scattergl"
           }
          ],
          "scattermapbox": [
           {
            "marker": {
             "colorbar": {
              "outlinewidth": 0,
              "ticks": ""
             }
            },
            "type": "scattermapbox"
           }
          ],
          "scatterpolar": [
           {
            "marker": {
             "colorbar": {
              "outlinewidth": 0,
              "ticks": ""
             }
            },
            "type": "scatterpolar"
           }
          ],
          "scatterpolargl": [
           {
            "marker": {
             "colorbar": {
              "outlinewidth": 0,
              "ticks": ""
             }
            },
            "type": "scatterpolargl"
           }
          ],
          "scatterternary": [
           {
            "marker": {
             "colorbar": {
              "outlinewidth": 0,
              "ticks": ""
             }
            },
            "type": "scatterternary"
           }
          ],
          "surface": [
           {
            "colorbar": {
             "outlinewidth": 0,
             "ticks": ""
            },
            "colorscale": [
             [
              0,
              "#0d0887"
             ],
             [
              0.1111111111111111,
              "#46039f"
             ],
             [
              0.2222222222222222,
              "#7201a8"
             ],
             [
              0.3333333333333333,
              "#9c179e"
             ],
             [
              0.4444444444444444,
              "#bd3786"
             ],
             [
              0.5555555555555556,
              "#d8576b"
             ],
             [
              0.6666666666666666,
              "#ed7953"
             ],
             [
              0.7777777777777778,
              "#fb9f3a"
             ],
             [
              0.8888888888888888,
              "#fdca26"
             ],
             [
              1,
              "#f0f921"
             ]
            ],
            "type": "surface"
           }
          ],
          "table": [
           {
            "cells": {
             "fill": {
              "color": "#EBF0F8"
             },
             "line": {
              "color": "white"
             }
            },
            "header": {
             "fill": {
              "color": "#C8D4E3"
             },
             "line": {
              "color": "white"
             }
            },
            "type": "table"
           }
          ]
         },
         "layout": {
          "annotationdefaults": {
           "arrowcolor": "#2a3f5f",
           "arrowhead": 0,
           "arrowwidth": 1
          },
          "autotypenumbers": "strict",
          "coloraxis": {
           "colorbar": {
            "outlinewidth": 0,
            "ticks": ""
           }
          },
          "colorscale": {
           "diverging": [
            [
             0,
             "#8e0152"
            ],
            [
             0.1,
             "#c51b7d"
            ],
            [
             0.2,
             "#de77ae"
            ],
            [
             0.3,
             "#f1b6da"
            ],
            [
             0.4,
             "#fde0ef"
            ],
            [
             0.5,
             "#f7f7f7"
            ],
            [
             0.6,
             "#e6f5d0"
            ],
            [
             0.7,
             "#b8e186"
            ],
            [
             0.8,
             "#7fbc41"
            ],
            [
             0.9,
             "#4d9221"
            ],
            [
             1,
             "#276419"
            ]
           ],
           "sequential": [
            [
             0,
             "#0d0887"
            ],
            [
             0.1111111111111111,
             "#46039f"
            ],
            [
             0.2222222222222222,
             "#7201a8"
            ],
            [
             0.3333333333333333,
             "#9c179e"
            ],
            [
             0.4444444444444444,
             "#bd3786"
            ],
            [
             0.5555555555555556,
             "#d8576b"
            ],
            [
             0.6666666666666666,
             "#ed7953"
            ],
            [
             0.7777777777777778,
             "#fb9f3a"
            ],
            [
             0.8888888888888888,
             "#fdca26"
            ],
            [
             1,
             "#f0f921"
            ]
           ],
           "sequentialminus": [
            [
             0,
             "#0d0887"
            ],
            [
             0.1111111111111111,
             "#46039f"
            ],
            [
             0.2222222222222222,
             "#7201a8"
            ],
            [
             0.3333333333333333,
             "#9c179e"
            ],
            [
             0.4444444444444444,
             "#bd3786"
            ],
            [
             0.5555555555555556,
             "#d8576b"
            ],
            [
             0.6666666666666666,
             "#ed7953"
            ],
            [
             0.7777777777777778,
             "#fb9f3a"
            ],
            [
             0.8888888888888888,
             "#fdca26"
            ],
            [
             1,
             "#f0f921"
            ]
           ]
          },
          "colorway": [
           "#636efa",
           "#EF553B",
           "#00cc96",
           "#ab63fa",
           "#FFA15A",
           "#19d3f3",
           "#FF6692",
           "#B6E880",
           "#FF97FF",
           "#FECB52"
          ],
          "font": {
           "color": "#2a3f5f"
          },
          "geo": {
           "bgcolor": "white",
           "lakecolor": "white",
           "landcolor": "#E5ECF6",
           "showlakes": true,
           "showland": true,
           "subunitcolor": "white"
          },
          "hoverlabel": {
           "align": "left"
          },
          "hovermode": "closest",
          "mapbox": {
           "style": "light"
          },
          "paper_bgcolor": "white",
          "plot_bgcolor": "#E5ECF6",
          "polar": {
           "angularaxis": {
            "gridcolor": "white",
            "linecolor": "white",
            "ticks": ""
           },
           "bgcolor": "#E5ECF6",
           "radialaxis": {
            "gridcolor": "white",
            "linecolor": "white",
            "ticks": ""
           }
          },
          "scene": {
           "xaxis": {
            "backgroundcolor": "#E5ECF6",
            "gridcolor": "white",
            "gridwidth": 2,
            "linecolor": "white",
            "showbackground": true,
            "ticks": "",
            "zerolinecolor": "white"
           },
           "yaxis": {
            "backgroundcolor": "#E5ECF6",
            "gridcolor": "white",
            "gridwidth": 2,
            "linecolor": "white",
            "showbackground": true,
            "ticks": "",
            "zerolinecolor": "white"
           },
           "zaxis": {
            "backgroundcolor": "#E5ECF6",
            "gridcolor": "white",
            "gridwidth": 2,
            "linecolor": "white",
            "showbackground": true,
            "ticks": "",
            "zerolinecolor": "white"
           }
          },
          "shapedefaults": {
           "line": {
            "color": "#2a3f5f"
           }
          },
          "ternary": {
           "aaxis": {
            "gridcolor": "white",
            "linecolor": "white",
            "ticks": ""
           },
           "baxis": {
            "gridcolor": "white",
            "linecolor": "white",
            "ticks": ""
           },
           "bgcolor": "#E5ECF6",
           "caxis": {
            "gridcolor": "white",
            "linecolor": "white",
            "ticks": ""
           }
          },
          "title": {
           "x": 0.05
          },
          "xaxis": {
           "automargin": true,
           "gridcolor": "white",
           "linecolor": "white",
           "ticks": "",
           "title": {
            "standoff": 15
           },
           "zerolinecolor": "white",
           "zerolinewidth": 2
          },
          "yaxis": {
           "automargin": true,
           "gridcolor": "white",
           "linecolor": "white",
           "ticks": "",
           "title": {
            "standoff": 15
           },
           "zerolinecolor": "white",
           "zerolinewidth": 2
          }
         }
        },
        "width": 1500,
        "xaxis": {
         "anchor": "y",
         "domain": [
          0,
          0.25
         ],
         "linecolor": "black",
         "linewidth": 1.5,
         "showgrid": false,
         "showline": false,
         "tickangle": 45,
         "tickcolor": "black",
         "ticklen": 10,
         "tickwidth": 1.5,
         "type": "category"
        },
        "xaxis2": {
         "anchor": "y2",
         "domain": [
          0.375,
          0.625
         ],
         "linecolor": "black",
         "linewidth": 1.5,
         "showgrid": false,
         "showline": false,
         "tickangle": 45,
         "tickcolor": "black",
         "ticklen": 10,
         "tickwidth": 1.5
        },
        "xaxis3": {
         "anchor": "y3",
         "domain": [
          0.75,
          1
         ],
         "linecolor": "black",
         "linewidth": 1.5,
         "showgrid": false,
         "showline": false,
         "tickangle": 45,
         "tickcolor": "black",
         "ticklen": 10,
         "tickwidth": 1.5
        },
        "yaxis": {
         "anchor": "x",
         "domain": [
          0,
          1
         ],
         "linecolor": "black",
         "linewidth": 1.5,
         "range": [
          0,
          1
         ],
         "showgrid": false,
         "showline": true,
         "tickcolor": "black",
         "ticklen": 10,
         "ticks": "outside",
         "tickwidth": 1.5,
         "title": {
          "text": "Recall, TP / #events"
         }
        },
        "yaxis2": {
         "anchor": "x2",
         "domain": [
          0,
          1
         ],
         "linecolor": "black",
         "linewidth": 1.5,
         "range": [
          0,
          1
         ],
         "showgrid": false,
         "showline": true,
         "tickcolor": "black",
         "ticklen": 10,
         "ticks": "outside",
         "tickwidth": 1.5,
         "title": {
          "text": "False Discovery Rate, FP / #calls"
         }
        },
        "yaxis3": {
         "anchor": "x3",
         "domain": [
          0,
          1
         ],
         "linecolor": "black",
         "linewidth": 1.5,
         "range": [
          0,
          1
         ],
         "showgrid": false,
         "showline": true,
         "tickcolor": "black",
         "ticklen": 10,
         "ticks": "outside",
         "tickwidth": 1.5,
         "title": {
          "text": "fraction of manta FNs <br>recovered by trfermikit"
         }
        }
       }
      },
      "text/html": [
       "<div>                            <div id=\"42e5ed26-98fc-4a7e-84c3-581e2c81d074\" class=\"plotly-graph-div\" style=\"height:600px; width:1500px;\"></div>            <script type=\"text/javascript\">                require([\"plotly\"], function(Plotly) {                    window.PLOTLYENV=window.PLOTLYENV || {};                                    if (document.getElementById(\"42e5ed26-98fc-4a7e-84c3-581e2c81d074\")) {                    Plotly.newPlot(                        \"42e5ed26-98fc-4a7e-84c3-581e2c81d074\",                        [{\"marker\": {\"color\": \"red\", \"line\": {\"color\": \"black\", \"width\": 1}}, \"name\": \"trfermikit\", \"showlegend\": true, \"type\": \"bar\", \"x\": [\"CHS,HG00514\", \"PUR,HG00733\", \"YRI,NA19240\", \"CEU,NA12878\", \"ESN,HG03125\", \"GWD,HG02818\", \"MSL,HG03486\"], \"xaxis\": \"x\", \"y\": [0.3001538123489343, 0.2796965462168097, 0.2883584154990486, 0.3719399300555441, 0.3884422110552764, 0.37292724196277494, 0.37045003309066843], \"yaxis\": \"y\"}, {\"marker\": {\"color\": \"blue\", \"line\": {\"color\": \"black\", \"width\": 1}}, \"name\": \"manta\", \"showlegend\": true, \"type\": \"bar\", \"x\": [\"CHS,HG00514\", \"PUR,HG00733\", \"YRI,NA19240\", \"CEU,NA12878\", \"ESN,HG03125\", \"GWD,HG02818\", \"MSL,HG03486\"], \"xaxis\": \"x\", \"y\": [0.24390243902439024, 0.22220003992812937, 0.247362048088566, 0.2606459576218885, 0.2809045226130653, 0.2785109983079526, 0.27316346790205165], \"yaxis\": \"y\"}, {\"marker\": {\"color\": \"yellow\", \"line\": {\"color\": \"black\", \"width\": 1}}, \"name\": \"trfermikit + manta\", \"showlegend\": true, \"type\": \"bar\", \"x\": [\"CHS,HG00514\", \"PUR,HG00733\", \"YRI,NA19240\", \"CEU,NA12878\", \"ESN,HG03125\", \"GWD,HG02818\", \"MSL,HG03486\"], \"xaxis\": \"x\", \"y\": [0.4016699626455724, 0.3757236973447794, 0.40027676872513407, 0.4706850442295824, 0.4996649916247906, 0.48510998307952624, 0.4750165453342158], \"yaxis\": \"y\"}, {\"marker\": {\"color\": \"red\", \"line\": {\"color\": \"black\", \"width\": 1}}, \"name\": \"trfermikit\", \"showlegend\": false, \"type\": \"bar\", \"x\": [\"CHS,HG00514\", \"PUR,HG00733\", \"YRI,NA19240\", \"CEU,NA12878\", \"ESN,HG03125\", \"GWD,HG02818\", \"MSL,HG03486\"], \"xaxis\": \"x2\", \"y\": [0.4596518987341772, 0.48435774751564226, 0.46690118324272467, 0.399734395750332, 0.40400925212027755, 0.4119530416221985, 0.3943738166080606], \"yaxis\": \"y2\"}, {\"marker\": {\"color\": \"blue\", \"line\": {\"color\": \"black\", \"width\": 1}}, \"name\": \"manta\", \"showlegend\": false, \"type\": \"bar\", \"x\": [\"CHS,HG00514\", \"PUR,HG00733\", \"YRI,NA19240\", \"CEU,NA12878\", \"ESN,HG03125\", \"GWD,HG02818\", \"MSL,HG03486\"], \"xaxis\": \"x2\", \"y\": [0.48515769944341375, 0.5096916299559472, 0.49074074074074076, 0.40207645115620577, 0.43781428092524305, 0.4171388101983003, 0.4126645321949484], \"yaxis\": \"y2\"}, {\"marker\": {\"color\": \"yellow\", \"line\": {\"color\": \"black\", \"width\": 1}}, \"name\": \"trfermikit + manta\", \"showlegend\": false, \"type\": \"bar\", \"x\": [\"CHS,HG00514\", \"PUR,HG00733\", \"YRI,NA19240\", \"CEU,NA12878\", \"ESN,HG03125\", \"GWD,HG02818\", \"MSL,HG03486\"], \"xaxis\": \"x2\", \"y\": [0.5264248704663212, 0.548139255702281, 0.5311993517017828, 0.45666112562336736, 0.4722222222222222, 0.46868050407709416, 0.4588124410933082], \"yaxis\": \"y2\"}, {\"marker\": {\"color\": \"black\", \"line\": {\"color\": \"black\", \"width\": 1}}, \"showlegend\": false, \"type\": \"bar\", \"x\": [\"CHS,HG00514\", \"PUR,HG00733\", \"YRI,NA19240\", \"CEU,NA12878\", \"ESN,HG03125\", \"GWD,HG02818\", \"MSL,HG03486\"], \"xaxis\": \"x3\", \"y\": [0.1737866899157222, 0.1645277207392197, 0.1650195357389106, 0.2417918753478019, 0.25902632191940367, 0.24202626641651032, 0.22991122239927156], \"yaxis\": \"y3\"}],                        {\"annotations\": [{\"font\": {\"color\": \"black\", \"family\": \"Arial\", \"size\": 26}, \"showarrow\": false, \"text\": \"sample\", \"x\": 0.5, \"xanchor\": \"center\", \"xref\": \"paper\", \"y\": -0.3, \"yanchor\": \"top\", \"yref\": \"paper\", \"yshift\": -30}], \"font\": {\"color\": \"black\", \"family\": \"Arial\", \"size\": 20}, \"height\": 600, \"margin\": {\"b\": 200, \"l\": 50, \"pad\": 0, \"r\": 50, \"t\": 50}, \"plot_bgcolor\": \"white\", \"template\": {\"data\": {\"bar\": [{\"error_x\": {\"color\": \"#2a3f5f\"}, \"error_y\": {\"color\": \"#2a3f5f\"}, \"marker\": {\"line\": {\"color\": \"#E5ECF6\", \"width\": 0.5}}, \"type\": \"bar\"}], \"barpolar\": [{\"marker\": {\"line\": {\"color\": \"#E5ECF6\", \"width\": 0.5}}, \"type\": \"barpolar\"}], \"carpet\": [{\"aaxis\": {\"endlinecolor\": \"#2a3f5f\", \"gridcolor\": \"white\", \"linecolor\": \"white\", \"minorgridcolor\": \"white\", \"startlinecolor\": \"#2a3f5f\"}, \"baxis\": {\"endlinecolor\": \"#2a3f5f\", \"gridcolor\": \"white\", \"linecolor\": \"white\", \"minorgridcolor\": \"white\", \"startlinecolor\": \"#2a3f5f\"}, \"type\": \"carpet\"}], \"choropleth\": [{\"colorbar\": {\"outlinewidth\": 0, \"ticks\": \"\"}, \"type\": \"choropleth\"}], \"contour\": [{\"colorbar\": {\"outlinewidth\": 0, \"ticks\": \"\"}, \"colorscale\": [[0.0, \"#0d0887\"], [0.1111111111111111, \"#46039f\"], [0.2222222222222222, \"#7201a8\"], [0.3333333333333333, \"#9c179e\"], [0.4444444444444444, \"#bd3786\"], [0.5555555555555556, \"#d8576b\"], [0.6666666666666666, \"#ed7953\"], [0.7777777777777778, \"#fb9f3a\"], [0.8888888888888888, \"#fdca26\"], [1.0, \"#f0f921\"]], \"type\": \"contour\"}], \"contourcarpet\": [{\"colorbar\": {\"outlinewidth\": 0, \"ticks\": \"\"}, \"type\": \"contourcarpet\"}], \"heatmap\": [{\"colorbar\": {\"outlinewidth\": 0, \"ticks\": \"\"}, \"colorscale\": [[0.0, \"#0d0887\"], [0.1111111111111111, \"#46039f\"], [0.2222222222222222, \"#7201a8\"], [0.3333333333333333, \"#9c179e\"], [0.4444444444444444, \"#bd3786\"], [0.5555555555555556, \"#d8576b\"], [0.6666666666666666, \"#ed7953\"], [0.7777777777777778, \"#fb9f3a\"], [0.8888888888888888, \"#fdca26\"], [1.0, \"#f0f921\"]], \"type\": \"heatmap\"}], \"heatmapgl\": [{\"colorbar\": {\"outlinewidth\": 0, \"ticks\": \"\"}, \"colorscale\": [[0.0, \"#0d0887\"], [0.1111111111111111, \"#46039f\"], [0.2222222222222222, \"#7201a8\"], [0.3333333333333333, \"#9c179e\"], [0.4444444444444444, \"#bd3786\"], [0.5555555555555556, \"#d8576b\"], [0.6666666666666666, \"#ed7953\"], [0.7777777777777778, \"#fb9f3a\"], [0.8888888888888888, \"#fdca26\"], [1.0, \"#f0f921\"]], \"type\": \"heatmapgl\"}], \"histogram\": [{\"marker\": {\"colorbar\": {\"outlinewidth\": 0, \"ticks\": \"\"}}, \"type\": \"histogram\"}], \"histogram2d\": [{\"colorbar\": {\"outlinewidth\": 0, \"ticks\": \"\"}, \"colorscale\": [[0.0, \"#0d0887\"], [0.1111111111111111, \"#46039f\"], [0.2222222222222222, \"#7201a8\"], [0.3333333333333333, \"#9c179e\"], [0.4444444444444444, \"#bd3786\"], [0.5555555555555556, \"#d8576b\"], [0.6666666666666666, \"#ed7953\"], [0.7777777777777778, \"#fb9f3a\"], [0.8888888888888888, \"#fdca26\"], [1.0, \"#f0f921\"]], \"type\": \"histogram2d\"}], \"histogram2dcontour\": [{\"colorbar\": {\"outlinewidth\": 0, \"ticks\": \"\"}, \"colorscale\": [[0.0, \"#0d0887\"], [0.1111111111111111, \"#46039f\"], [0.2222222222222222, \"#7201a8\"], [0.3333333333333333, \"#9c179e\"], [0.4444444444444444, \"#bd3786\"], [0.5555555555555556, \"#d8576b\"], [0.6666666666666666, \"#ed7953\"], [0.7777777777777778, \"#fb9f3a\"], [0.8888888888888888, \"#fdca26\"], [1.0, \"#f0f921\"]], \"type\": \"histogram2dcontour\"}], \"mesh3d\": [{\"colorbar\": {\"outlinewidth\": 0, \"ticks\": \"\"}, \"type\": \"mesh3d\"}], \"parcoords\": [{\"line\": {\"colorbar\": {\"outlinewidth\": 0, \"ticks\": \"\"}}, \"type\": \"parcoords\"}], \"pie\": [{\"automargin\": true, \"type\": \"pie\"}], \"scatter\": [{\"marker\": {\"colorbar\": {\"outlinewidth\": 0, \"ticks\": \"\"}}, \"type\": \"scatter\"}], \"scatter3d\": [{\"line\": {\"colorbar\": {\"outlinewidth\": 0, \"ticks\": \"\"}}, \"marker\": {\"colorbar\": {\"outlinewidth\": 0, \"ticks\": \"\"}}, \"type\": \"scatter3d\"}], \"scattercarpet\": [{\"marker\": {\"colorbar\": {\"outlinewidth\": 0, \"ticks\": \"\"}}, \"type\": \"scattercarpet\"}], \"scattergeo\": [{\"marker\": {\"colorbar\": {\"outlinewidth\": 0, \"ticks\": \"\"}}, \"type\": \"scattergeo\"}], \"scattergl\": [{\"marker\": {\"colorbar\": {\"outlinewidth\": 0, \"ticks\": \"\"}}, \"type\": \"scattergl\"}], \"scattermapbox\": [{\"marker\": {\"colorbar\": {\"outlinewidth\": 0, \"ticks\": \"\"}}, \"type\": \"scattermapbox\"}], \"scatterpolar\": [{\"marker\": {\"colorbar\": {\"outlinewidth\": 0, \"ticks\": \"\"}}, \"type\": \"scatterpolar\"}], \"scatterpolargl\": [{\"marker\": {\"colorbar\": {\"outlinewidth\": 0, \"ticks\": \"\"}}, \"type\": \"scatterpolargl\"}], \"scatterternary\": [{\"marker\": {\"colorbar\": {\"outlinewidth\": 0, \"ticks\": \"\"}}, \"type\": \"scatterternary\"}], \"surface\": [{\"colorbar\": {\"outlinewidth\": 0, \"ticks\": \"\"}, \"colorscale\": [[0.0, \"#0d0887\"], [0.1111111111111111, \"#46039f\"], [0.2222222222222222, \"#7201a8\"], [0.3333333333333333, \"#9c179e\"], [0.4444444444444444, \"#bd3786\"], [0.5555555555555556, \"#d8576b\"], [0.6666666666666666, \"#ed7953\"], [0.7777777777777778, \"#fb9f3a\"], [0.8888888888888888, \"#fdca26\"], [1.0, \"#f0f921\"]], \"type\": \"surface\"}], \"table\": [{\"cells\": {\"fill\": {\"color\": \"#EBF0F8\"}, \"line\": {\"color\": \"white\"}}, \"header\": {\"fill\": {\"color\": \"#C8D4E3\"}, \"line\": {\"color\": \"white\"}}, \"type\": \"table\"}]}, \"layout\": {\"annotationdefaults\": {\"arrowcolor\": \"#2a3f5f\", \"arrowhead\": 0, \"arrowwidth\": 1}, \"autotypenumbers\": \"strict\", \"coloraxis\": {\"colorbar\": {\"outlinewidth\": 0, \"ticks\": \"\"}}, \"colorscale\": {\"diverging\": [[0, \"#8e0152\"], [0.1, \"#c51b7d\"], [0.2, \"#de77ae\"], [0.3, \"#f1b6da\"], [0.4, \"#fde0ef\"], [0.5, \"#f7f7f7\"], [0.6, \"#e6f5d0\"], [0.7, \"#b8e186\"], [0.8, \"#7fbc41\"], [0.9, \"#4d9221\"], [1, \"#276419\"]], \"sequential\": [[0.0, \"#0d0887\"], [0.1111111111111111, \"#46039f\"], [0.2222222222222222, \"#7201a8\"], [0.3333333333333333, \"#9c179e\"], [0.4444444444444444, \"#bd3786\"], [0.5555555555555556, \"#d8576b\"], [0.6666666666666666, \"#ed7953\"], [0.7777777777777778, \"#fb9f3a\"], [0.8888888888888888, \"#fdca26\"], [1.0, \"#f0f921\"]], \"sequentialminus\": [[0.0, \"#0d0887\"], [0.1111111111111111, \"#46039f\"], [0.2222222222222222, \"#7201a8\"], [0.3333333333333333, \"#9c179e\"], [0.4444444444444444, \"#bd3786\"], [0.5555555555555556, \"#d8576b\"], [0.6666666666666666, \"#ed7953\"], [0.7777777777777778, \"#fb9f3a\"], [0.8888888888888888, \"#fdca26\"], [1.0, \"#f0f921\"]]}, \"colorway\": [\"#636efa\", \"#EF553B\", \"#00cc96\", \"#ab63fa\", \"#FFA15A\", \"#19d3f3\", \"#FF6692\", \"#B6E880\", \"#FF97FF\", \"#FECB52\"], \"font\": {\"color\": \"#2a3f5f\"}, \"geo\": {\"bgcolor\": \"white\", \"lakecolor\": \"white\", \"landcolor\": \"#E5ECF6\", \"showlakes\": true, \"showland\": true, \"subunitcolor\": \"white\"}, \"hoverlabel\": {\"align\": \"left\"}, \"hovermode\": \"closest\", \"mapbox\": {\"style\": \"light\"}, \"paper_bgcolor\": \"white\", \"plot_bgcolor\": \"#E5ECF6\", \"polar\": {\"angularaxis\": {\"gridcolor\": \"white\", \"linecolor\": \"white\", \"ticks\": \"\"}, \"bgcolor\": \"#E5ECF6\", \"radialaxis\": {\"gridcolor\": \"white\", \"linecolor\": \"white\", \"ticks\": \"\"}}, \"scene\": {\"xaxis\": {\"backgroundcolor\": \"#E5ECF6\", \"gridcolor\": \"white\", \"gridwidth\": 2, \"linecolor\": \"white\", \"showbackground\": true, \"ticks\": \"\", \"zerolinecolor\": \"white\"}, \"yaxis\": {\"backgroundcolor\": \"#E5ECF6\", \"gridcolor\": \"white\", \"gridwidth\": 2, \"linecolor\": \"white\", \"showbackground\": true, \"ticks\": \"\", \"zerolinecolor\": \"white\"}, \"zaxis\": {\"backgroundcolor\": \"#E5ECF6\", \"gridcolor\": \"white\", \"gridwidth\": 2, \"linecolor\": \"white\", \"showbackground\": true, \"ticks\": \"\", \"zerolinecolor\": \"white\"}}, \"shapedefaults\": {\"line\": {\"color\": \"#2a3f5f\"}}, \"ternary\": {\"aaxis\": {\"gridcolor\": \"white\", \"linecolor\": \"white\", \"ticks\": \"\"}, \"baxis\": {\"gridcolor\": \"white\", \"linecolor\": \"white\", \"ticks\": \"\"}, \"bgcolor\": \"#E5ECF6\", \"caxis\": {\"gridcolor\": \"white\", \"linecolor\": \"white\", \"ticks\": \"\"}}, \"title\": {\"x\": 0.05}, \"xaxis\": {\"automargin\": true, \"gridcolor\": \"white\", \"linecolor\": \"white\", \"ticks\": \"\", \"title\": {\"standoff\": 15}, \"zerolinecolor\": \"white\", \"zerolinewidth\": 2}, \"yaxis\": {\"automargin\": true, \"gridcolor\": \"white\", \"linecolor\": \"white\", \"ticks\": \"\", \"title\": {\"standoff\": 15}, \"zerolinecolor\": \"white\", \"zerolinewidth\": 2}}}, \"width\": 1500, \"xaxis\": {\"anchor\": \"y\", \"domain\": [0.0, 0.25], \"linecolor\": \"black\", \"linewidth\": 1.5, \"showgrid\": false, \"showline\": false, \"tickangle\": 45, \"tickcolor\": \"black\", \"ticklen\": 10, \"tickwidth\": 1.5, \"type\": \"category\"}, \"xaxis2\": {\"anchor\": \"y2\", \"domain\": [0.375, 0.625], \"linecolor\": \"black\", \"linewidth\": 1.5, \"showgrid\": false, \"showline\": false, \"tickangle\": 45, \"tickcolor\": \"black\", \"ticklen\": 10, \"tickwidth\": 1.5}, \"xaxis3\": {\"anchor\": \"y3\", \"domain\": [0.75, 1.0], \"linecolor\": \"black\", \"linewidth\": 1.5, \"showgrid\": false, \"showline\": false, \"tickangle\": 45, \"tickcolor\": \"black\", \"ticklen\": 10, \"tickwidth\": 1.5}, \"yaxis\": {\"anchor\": \"x\", \"domain\": [0.0, 1.0], \"linecolor\": \"black\", \"linewidth\": 1.5, \"range\": [0, 1], \"showgrid\": false, \"showline\": true, \"tickcolor\": \"black\", \"ticklen\": 10, \"ticks\": \"outside\", \"tickwidth\": 1.5, \"title\": {\"text\": \"Recall, TP / #events\"}}, \"yaxis2\": {\"anchor\": \"x2\", \"domain\": [0.0, 1.0], \"linecolor\": \"black\", \"linewidth\": 1.5, \"range\": [0, 1], \"showgrid\": false, \"showline\": true, \"tickcolor\": \"black\", \"ticklen\": 10, \"ticks\": \"outside\", \"tickwidth\": 1.5, \"title\": {\"text\": \"False Discovery Rate, FP / #calls\"}}, \"yaxis3\": {\"anchor\": \"x3\", \"domain\": [0.0, 1.0], \"linecolor\": \"black\", \"linewidth\": 1.5, \"range\": [0, 1], \"showgrid\": false, \"showline\": true, \"tickcolor\": \"black\", \"ticklen\": 10, \"ticks\": \"outside\", \"tickwidth\": 1.5, \"title\": {\"text\": \"fraction of manta FNs <br>recovered by trfermikit\"}}},                        {\"responsive\": true}                    ).then(function(){\n",
       "                            \n",
       "var gd = document.getElementById('42e5ed26-98fc-4a7e-84c3-581e2c81d074');\n",
       "var x = new MutationObserver(function (mutations, observer) {{\n",
       "        var display = window.getComputedStyle(gd).display;\n",
       "        if (!display || display === 'none') {{\n",
       "            console.log([gd, 'removed!']);\n",
       "            Plotly.purge(gd);\n",
       "            observer.disconnect();\n",
       "        }}\n",
       "}});\n",
       "\n",
       "// Listen for the removal of the full notebook cells\n",
       "var notebookContainer = gd.closest('#notebook-container');\n",
       "if (notebookContainer) {{\n",
       "    x.observe(notebookContainer, {childList: true});\n",
       "}}\n",
       "\n",
       "// Listen for the clearing of the current output cell\n",
       "var outputEl = gd.closest('.output');\n",
       "if (outputEl) {{\n",
       "    x.observe(outputEl, {childList: true});\n",
       "}}\n",
       "\n",
       "                        })                };                });            </script>        </div>"
      ]
     },
     "metadata": {}
    }
   ],
   "metadata": {}
  },
  {
   "cell_type": "code",
   "execution_count": 18,
   "source": [
    "def plot_FigS3(svtype): \n",
    "  consortia_populations_samples = get_consortia_populations_samples()\n",
    "\n",
    "  number_samples = len(consortia_populations_samples)\n",
    "\n",
    "  consortia, populations, samples = zip(*consortia_populations_samples)   \n",
    "  populations_samples = [f'{population},{sample}' for population, sample in zip(populations, samples)]\n",
    "\n",
    "  x_title = 'VNTR length (bps)'\n",
    "\n",
    "  fig = make_subplots(\n",
    "    rows=number_samples,\n",
    "    cols=4,\n",
    "    row_heights=number_samples*[1],\n",
    "    column_widths=4*[1],\n",
    "    specs=number_samples*[4*[{\"type\": \"bar\"}]],\n",
    "    # horizontal_spacing=0.1,\n",
    "    vertical_spacing=0.01,\n",
    "    row_titles=populations_samples,\n",
    "    column_titles=['Recall, TP / #events', 'FDR, FP / #calls', 'Count', 'fraction of manta FNs <br>recovered by trfermikit'],\n",
    "    shared_xaxes=True,\n",
    "    x_title=x_title\n",
    "  ) \n",
    "  \n",
    "  for index, (consortium, population, sample) in enumerate(consortia_populations_samples): \n",
    "    row = index + 1\n",
    "    plot_performance_AB(consortium, population, sample, svtype, chart_type='TPR', fig=fig, row=row, col=1)\n",
    "    plot_performance_AB(consortium, population, sample, svtype, chart_type='FDR', fig=fig, row=row, col=2)\n",
    "    plot_counts(consortium, population, sample, svtype, fig=fig, row=row, col=3, range_=[np.log10(100), np.log10(100000)])\n",
    "    plot_fraction_of_manta_FNs_recovered_by_trfermikit(consortium, population, sample, svtype, fig=fig, row=row, col=4, range_=[0, 1])\n",
    "\n",
    "  fig.update_layout(dict(\n",
    "      xaxis=dict(type='category'),\n",
    "      plot_bgcolor='white',\n",
    "      font=get_font(),\n",
    "      width=1800,\n",
    "      height=2000,\n",
    "      margin=dict(\n",
    "        l=50,\n",
    "        r=50,\n",
    "        b=150,\n",
    "        t=100,\n",
    "        pad=0\n",
    "      )\n",
    "  ))\n",
    "\n",
    "  fig.update_xaxes(\n",
    "    title=dict(text=None),\n",
    "    tickangle=45\n",
    "  )\n",
    "\n",
    "  fig.update_yaxes(\n",
    "    title=dict(text=None)\n",
    "  )\n",
    "\n",
    "  fig.update_annotations(font=get_font(size=26))\n",
    "\n",
    "  annotations = fig.layout.annotations\n",
    "  annotation_texts = [annotation['text'] for annotation in annotations]\n",
    "  annotations[annotation_texts.index(x_title)].update(y=-0.04)\n",
    "\n",
    "  fig.write_image('FigS3.pdf')\n",
    "\n",
    "  fig.show()\n",
    "\n",
    "plot_FigS3('DEL')"
   ],
   "outputs": [
    {
     "output_type": "display_data",
     "data": {
      "application/vnd.plotly.v1+json": {
       "config": {
        "plotlyServerURL": "https://plot.ly"
       },
       "data": [
        {
         "marker": {
          "color": "red",
          "line": {
           "color": "black",
           "width": 1
          }
         },
         "name": "trfermikit",
         "showlegend": true,
         "type": "bar",
         "x": [
          "100-125",
          "125-150",
          "150-200",
          "200-300",
          "300-500",
          "500-1500",
          "1500-99500"
         ],
         "xaxis": "x",
         "y": [
          0.7876712328767124,
          0.759493670886076,
          0.5727002967359051,
          0.3907407407407407,
          0.32922318125770655,
          0.19763058696822833,
          0.13247863247863248
         ],
         "yaxis": "y"
        },
        {
         "marker": {
          "color": "blue",
          "line": {
           "color": "black",
           "width": 1
          }
         },
         "name": "manta",
         "showlegend": true,
         "type": "bar",
         "x": [
          "100-125",
          "125-150",
          "150-200",
          "200-300",
          "300-500",
          "500-1500",
          "1500-99500"
         ],
         "xaxis": "x",
         "y": [
          0.8493150684931506,
          0.8291139240506329,
          0.5341246290801187,
          0.29074074074074074,
          0.2120838471023428,
          0.1470113085621971,
          0.10398860398860399
         ],
         "yaxis": "y"
        },
        {
         "marker": {
          "color": "yellow",
          "line": {
           "color": "black",
           "width": 1
          }
         },
         "name": "trfermikit + manta",
         "showlegend": true,
         "type": "bar",
         "x": [
          "100-125",
          "125-150",
          "150-200",
          "200-300",
          "300-500",
          "500-1500",
          "1500-99500"
         ],
         "xaxis": "x",
         "y": [
          0.9315068493150684,
          0.9556962025316456,
          0.7329376854599406,
          0.5055555555555555,
          0.42909987669543775,
          0.2832525578890684,
          0.2094017094017094
         ],
         "yaxis": "y"
        },
        {
         "marker": {
          "color": "red",
          "line": {
           "color": "black",
           "width": 1
          }
         },
         "name": "trfermikit",
         "showlegend": false,
         "type": "bar",
         "x": [
          "100-125",
          "125-150",
          "150-200",
          "200-300",
          "300-500",
          "500-1500",
          "1500-99500"
         ],
         "xaxis": "x2",
         "y": [
          0.12878787878787878,
          0.1836734693877551,
          0.1991701244813278,
          0.340625,
          0.45841784989858014,
          0.5949227373068433,
          0.6782006920415224
         ],
         "yaxis": "y2"
        },
        {
         "marker": {
          "color": "blue",
          "line": {
           "color": "black",
           "width": 1
          }
         },
         "name": "manta",
         "showlegend": false,
         "type": "bar",
         "x": [
          "100-125",
          "125-150",
          "150-200",
          "200-300",
          "300-500",
          "500-1500",
          "1500-99500"
         ],
         "xaxis": "x2",
         "y": [
          0.14482758620689656,
          0.19135802469135801,
          0.2,
          0.3458333333333333,
          0.5071633237822349,
          0.636968085106383,
          0.7420494699646644
         ],
         "yaxis": "y2"
        },
        {
         "marker": {
          "color": "yellow",
          "line": {
           "color": "black",
           "width": 1
          }
         },
         "name": "trfermikit + manta",
         "showlegend": false,
         "type": "bar",
         "x": [
          "100-125",
          "125-150",
          "150-200",
          "200-300",
          "300-500",
          "500-1500",
          "1500-99500"
         ],
         "xaxis": "x2",
         "y": [
          0.1656441717791411,
          0.20526315789473684,
          0.24,
          0.3795454545454545,
          0.5153203342618384,
          0.6472166331321261,
          0.724202626641651
         ],
         "yaxis": "y2"
        },
        {
         "marker": {
          "color": "grey",
          "line": {
           "color": "black",
           "width": 1
          }
         },
         "name": "VNTRs",
         "showlegend": true,
         "type": "bar",
         "x": [
          "100-125",
          "125-150",
          "150-200",
          "200-300",
          "300-500",
          "500-1500",
          "1500-99500"
         ],
         "xaxis": "x3",
         "y": [
          10892,
          8687,
          12600,
          17682,
          14923,
          20211,
          1912
         ],
         "yaxis": "y3"
        },
        {
         "marker": {
          "color": "cyan",
          "line": {
           "color": "black",
           "width": 1
          }
         },
         "name": "real events",
         "showlegend": true,
         "type": "bar",
         "x": [
          "100-125",
          "125-150",
          "150-200",
          "200-300",
          "300-500",
          "500-1500",
          "1500-99500"
         ],
         "xaxis": "x3",
         "y": [
          146,
          158,
          337,
          540,
          811,
          1857,
          702
         ],
         "yaxis": "y3"
        },
        {
         "marker": {
          "color": "magenta",
          "line": {
           "color": "black",
           "width": 1
          }
         },
         "name": "trfermikit calls",
         "showlegend": true,
         "type": "bar",
         "x": [
          "100-125",
          "125-150",
          "150-200",
          "200-300",
          "300-500",
          "500-1500",
          "1500-99500"
         ],
         "xaxis": "x3",
         "y": [
          132,
          147,
          241,
          320,
          493,
          906,
          289
         ],
         "yaxis": "y3"
        },
        {
         "marker": {
          "color": "black",
          "line": {
           "color": "black",
           "width": 1
          }
         },
         "showlegend": false,
         "type": "bar",
         "x": [
          "100-125",
          "125-150",
          "150-200",
          "200-300",
          "300-500",
          "500-1500",
          "1500-99500"
         ],
         "xaxis": "x4",
         "y": [
          0.18181818181818182,
          0.4074074074074074,
          0.3503184713375796,
          0.24804177545691905,
          0.2535211267605634,
          0.1294191919191919,
          0.10492845786963434
         ],
         "yaxis": "y4"
        },
        {
         "marker": {
          "color": "red",
          "line": {
           "color": "black",
           "width": 1
          }
         },
         "name": "trfermikit",
         "showlegend": false,
         "type": "bar",
         "x": [
          "100-125",
          "125-150",
          "150-200",
          "200-300",
          "300-500",
          "500-1500",
          "1500-99500"
         ],
         "xaxis": "x5",
         "y": [
          0.7123287671232876,
          0.7086092715231788,
          0.5767195767195767,
          0.4177215189873418,
          0.29850746268656714,
          0.18272425249169436,
          0.11955168119551682
         ],
         "yaxis": "y5"
        },
        {
         "marker": {
          "color": "blue",
          "line": {
           "color": "black",
           "width": 1
          }
         },
         "name": "manta",
         "showlegend": false,
         "type": "bar",
         "x": [
          "100-125",
          "125-150",
          "150-200",
          "200-300",
          "300-500",
          "500-1500",
          "1500-99500"
         ],
         "xaxis": "x5",
         "y": [
          0.8013698630136986,
          0.7152317880794702,
          0.4708994708994709,
          0.27124773960216997,
          0.20436280137772675,
          0.13763644992880875,
          0.11457036114570361
         ],
         "yaxis": "y5"
        },
        {
         "marker": {
          "color": "yellow",
          "line": {
           "color": "black",
           "width": 1
          }
         },
         "name": "trfermikit + manta",
         "showlegend": false,
         "type": "bar",
         "x": [
          "100-125",
          "125-150",
          "150-200",
          "200-300",
          "300-500",
          "500-1500",
          "1500-99500"
         ],
         "xaxis": "x5",
         "y": [
          0.8767123287671232,
          0.8278145695364238,
          0.7301587301587301,
          0.5334538878842676,
          0.3983926521239954,
          0.2653061224489796,
          0.18929016189290163
         ],
         "yaxis": "y5"
        },
        {
         "marker": {
          "color": "red",
          "line": {
           "color": "black",
           "width": 1
          }
         },
         "name": "trfermikit",
         "showlegend": false,
         "type": "bar",
         "x": [
          "100-125",
          "125-150",
          "150-200",
          "200-300",
          "300-500",
          "500-1500",
          "1500-99500"
         ],
         "xaxis": "x6",
         "y": [
          0.11864406779661017,
          0.24647887323943662,
          0.1865671641791045,
          0.36363636363636365,
          0.49416342412451364,
          0.5921610169491526,
          0.7391304347826086
         ],
         "yaxis": "y6"
        },
        {
         "marker": {
          "color": "blue",
          "line": {
           "color": "black",
           "width": 1
          }
         },
         "name": "manta",
         "showlegend": false,
         "type": "bar",
         "x": [
          "100-125",
          "125-150",
          "150-200",
          "200-300",
          "300-500",
          "500-1500",
          "1500-99500"
         ],
         "xaxis": "x6",
         "y": [
          0.13970588235294118,
          0.22857142857142856,
          0.23931623931623933,
          0.358974358974359,
          0.48405797101449277,
          0.6551724137931034,
          0.7294117647058823
         ],
         "yaxis": "y6"
        },
        {
         "marker": {
          "color": "yellow",
          "line": {
           "color": "black",
           "width": 1
          }
         },
         "name": "trfermikit + manta",
         "showlegend": false,
         "type": "bar",
         "x": [
          "100-125",
          "125-150",
          "150-200",
          "200-300",
          "300-500",
          "500-1500",
          "1500-99500"
         ],
         "xaxis": "x6",
         "y": [
          0.16339869281045752,
          0.2897727272727273,
          0.24175824175824176,
          0.39300411522633744,
          0.530446549391069,
          0.6514962593516209,
          0.7636080870917574
         ],
         "yaxis": "y6"
        },
        {
         "marker": {
          "color": "grey",
          "line": {
           "color": "black",
           "width": 1
          }
         },
         "name": "VNTRs",
         "showlegend": false,
         "type": "bar",
         "x": [
          "100-125",
          "125-150",
          "150-200",
          "200-300",
          "300-500",
          "500-1500",
          "1500-99500"
         ],
         "xaxis": "x7",
         "y": [
          11100,
          8871,
          12957,
          18181,
          15418,
          21066,
          2031
         ],
         "yaxis": "y7"
        },
        {
         "marker": {
          "color": "cyan",
          "line": {
           "color": "black",
           "width": 1
          }
         },
         "name": "real events",
         "showlegend": false,
         "type": "bar",
         "x": [
          "100-125",
          "125-150",
          "150-200",
          "200-300",
          "300-500",
          "500-1500",
          "1500-99500"
         ],
         "xaxis": "x7",
         "y": [
          146,
          151,
          378,
          553,
          871,
          2107,
          803
         ],
         "yaxis": "y7"
        },
        {
         "marker": {
          "color": "magenta",
          "line": {
           "color": "black",
           "width": 1
          }
         },
         "name": "trfermikit calls",
         "showlegend": false,
         "type": "bar",
         "x": [
          "100-125",
          "125-150",
          "150-200",
          "200-300",
          "300-500",
          "500-1500",
          "1500-99500"
         ],
         "xaxis": "x7",
         "y": [
          118,
          142,
          268,
          363,
          514,
          944,
          368
         ],
         "yaxis": "y7"
        },
        {
         "marker": {
          "color": "black",
          "line": {
           "color": "black",
           "width": 1
          }
         },
         "showlegend": false,
         "type": "bar",
         "x": [
          "100-125",
          "125-150",
          "150-200",
          "200-300",
          "300-500",
          "500-1500",
          "1500-99500"
         ],
         "xaxis": "x8",
         "y": [
          0.2413793103448276,
          0.27906976744186046,
          0.38,
          0.3027295285359802,
          0.21212121212121213,
          0.12383048981838195,
          0.07313642756680731
         ],
         "yaxis": "y8"
        },
        {
         "marker": {
          "color": "red",
          "line": {
           "color": "black",
           "width": 1
          }
         },
         "name": "trfermikit",
         "showlegend": false,
         "type": "bar",
         "x": [
          "100-125",
          "125-150",
          "150-200",
          "200-300",
          "300-500",
          "500-1500",
          "1500-99500"
         ],
         "xaxis": "x9",
         "y": [
          0.7979274611398963,
          0.6927083333333334,
          0.5743707093821511,
          0.40242057488653554,
          0.2755598831548199,
          0.19041666666666668,
          0.14121699196326062
         ],
         "yaxis": "y9"
        },
        {
         "marker": {
          "color": "blue",
          "line": {
           "color": "black",
           "width": 1
          }
         },
         "name": "manta",
         "showlegend": false,
         "type": "bar",
         "x": [
          "100-125",
          "125-150",
          "150-200",
          "200-300",
          "300-500",
          "500-1500",
          "1500-99500"
         ],
         "xaxis": "x9",
         "y": [
          0.8393782383419689,
          0.734375,
          0.5537757437070938,
          0.27382753403933435,
          0.21518987341772153,
          0.15791666666666668,
          0.11940298507462686
         ],
         "yaxis": "y9"
        },
        {
         "marker": {
          "color": "yellow",
          "line": {
           "color": "black",
           "width": 1
          }
         },
         "name": "trfermikit + manta",
         "showlegend": false,
         "type": "bar",
         "x": [
          "100-125",
          "125-150",
          "150-200",
          "200-300",
          "300-500",
          "500-1500",
          "1500-99500"
         ],
         "xaxis": "x9",
         "y": [
          0.9430051813471503,
          0.859375,
          0.7574370709382151,
          0.5264750378214826,
          0.38266796494644595,
          0.29375,
          0.21814006888633755
         ],
         "yaxis": "y9"
        },
        {
         "marker": {
          "color": "red",
          "line": {
           "color": "black",
           "width": 1
          }
         },
         "name": "trfermikit",
         "showlegend": false,
         "type": "bar",
         "x": [
          "100-125",
          "125-150",
          "150-200",
          "200-300",
          "300-500",
          "500-1500",
          "1500-99500"
         ],
         "xaxis": "x10",
         "y": [
          0.17647058823529413,
          0.17391304347826086,
          0.18770226537216828,
          0.3696682464454976,
          0.5043782837127846,
          0.5822669104204753,
          0.6788511749347258
         ],
         "yaxis": "y10"
        },
        {
         "marker": {
          "color": "blue",
          "line": {
           "color": "black",
           "width": 1
          }
         },
         "name": "manta",
         "showlegend": false,
         "type": "bar",
         "x": [
          "100-125",
          "125-150",
          "150-200",
          "200-300",
          "300-500",
          "500-1500",
          "1500-99500"
         ],
         "xaxis": "x10",
         "y": [
          0.13829787234042554,
          0.19886363636363635,
          0.19601328903654486,
          0.39666666666666667,
          0.49772727272727274,
          0.6464552238805971,
          0.6858006042296072
         ],
         "yaxis": "y10"
        },
        {
         "marker": {
          "color": "yellow",
          "line": {
           "color": "black",
           "width": 1
          }
         },
         "name": "trfermikit + manta",
         "showlegend": false,
         "type": "bar",
         "x": [
          "100-125",
          "125-150",
          "150-200",
          "200-300",
          "300-500",
          "500-1500",
          "1500-99500"
         ],
         "xaxis": "x10",
         "y": [
          0.1875,
          0.22535211267605634,
          0.22843822843822845,
          0.4101694915254237,
          0.5424912689173458,
          0.6403061224489796,
          0.7125567322239031
         ],
         "yaxis": "y10"
        },
        {
         "marker": {
          "color": "grey",
          "line": {
           "color": "black",
           "width": 1
          }
         },
         "name": "VNTRs",
         "showlegend": false,
         "type": "bar",
         "x": [
          "100-125",
          "125-150",
          "150-200",
          "200-300",
          "300-500",
          "500-1500",
          "1500-99500"
         ],
         "xaxis": "x11",
         "y": [
          11137,
          8905,
          12970,
          18215,
          15438,
          21084,
          1981
         ],
         "yaxis": "y11"
        },
        {
         "marker": {
          "color": "cyan",
          "line": {
           "color": "black",
           "width": 1
          }
         },
         "name": "real events",
         "showlegend": false,
         "type": "bar",
         "x": [
          "100-125",
          "125-150",
          "150-200",
          "200-300",
          "300-500",
          "500-1500",
          "1500-99500"
         ],
         "xaxis": "x11",
         "y": [
          193,
          192,
          437,
          661,
          1027,
          2400,
          871
         ],
         "yaxis": "y11"
        },
        {
         "marker": {
          "color": "magenta",
          "line": {
           "color": "black",
           "width": 1
          }
         },
         "name": "trfermikit calls",
         "showlegend": false,
         "type": "bar",
         "x": [
          "100-125",
          "125-150",
          "150-200",
          "200-300",
          "300-500",
          "500-1500",
          "1500-99500"
         ],
         "xaxis": "x11",
         "y": [
          187,
          161,
          309,
          422,
          571,
          1094,
          383
         ],
         "yaxis": "y11"
        },
        {
         "marker": {
          "color": "black",
          "line": {
           "color": "black",
           "width": 1
          }
         },
         "showlegend": false,
         "type": "bar",
         "x": [
          "100-125",
          "125-150",
          "150-200",
          "200-300",
          "300-500",
          "500-1500",
          "1500-99500"
         ],
         "xaxis": "x12",
         "y": [
          0.3225806451612903,
          0.2549019607843137,
          0.31794871794871793,
          0.28958333333333336,
          0.18858560794044665,
          0.13310242454230578,
          0.09517601043024772
         ],
         "yaxis": "y12"
        },
        {
         "marker": {
          "color": "red",
          "line": {
           "color": "black",
           "width": 1
          }
         },
         "name": "trfermikit",
         "showlegend": false,
         "type": "bar",
         "x": [
          "100-125",
          "125-150",
          "150-200",
          "200-300",
          "300-500",
          "500-1500",
          "1500-99500"
         ],
         "xaxis": "x13",
         "y": [
          0.8109756097560976,
          0.7921348314606742,
          0.6730769230769231,
          0.5257731958762887,
          0.44730941704035876,
          0.26174496644295303,
          0.12989921612541994
         ],
         "yaxis": "y13"
        },
        {
         "marker": {
          "color": "blue",
          "line": {
           "color": "black",
           "width": 1
          }
         },
         "name": "manta",
         "showlegend": false,
         "type": "bar",
         "x": [
          "100-125",
          "125-150",
          "150-200",
          "200-300",
          "300-500",
          "500-1500",
          "1500-99500"
         ],
         "xaxis": "x13",
         "y": [
          0.8109756097560976,
          0.7584269662921348,
          0.554945054945055,
          0.31958762886597936,
          0.24551569506726456,
          0.17170022371364654,
          0.09518477043673013
         ],
         "yaxis": "y13"
        },
        {
         "marker": {
          "color": "yellow",
          "line": {
           "color": "black",
           "width": 1
          }
         },
         "name": "trfermikit + manta",
         "showlegend": false,
         "type": "bar",
         "x": [
          "100-125",
          "125-150",
          "150-200",
          "200-300",
          "300-500",
          "500-1500",
          "1500-99500"
         ],
         "xaxis": "x13",
         "y": [
          0.9146341463414634,
          0.898876404494382,
          0.7857142857142857,
          0.6408934707903781,
          0.5560538116591929,
          0.3640939597315436,
          0.19260918253079506
         ],
         "yaxis": "y13"
        },
        {
         "marker": {
          "color": "red",
          "line": {
           "color": "black",
           "width": 1
          }
         },
         "name": "trfermikit",
         "showlegend": false,
         "type": "bar",
         "x": [
          "100-125",
          "125-150",
          "150-200",
          "200-300",
          "300-500",
          "500-1500",
          "1500-99500"
         ],
         "xaxis": "x14",
         "y": [
          0.08275862068965517,
          0.06,
          0.14335664335664336,
          0.25,
          0.3646496815286624,
          0.5521531100478468,
          0.6685714285714286
         ],
         "yaxis": "y14"
        },
        {
         "marker": {
          "color": "blue",
          "line": {
           "color": "black",
           "width": 1
          }
         },
         "name": "manta",
         "showlegend": false,
         "type": "bar",
         "x": [
          "100-125",
          "125-150",
          "150-200",
          "200-300",
          "300-500",
          "500-1500",
          "1500-99500"
         ],
         "xaxis": "x14",
         "y": [
          0.08275862068965517,
          0.09395973154362416,
          0.22900763358778625,
          0.211864406779661,
          0.39502762430939226,
          0.5771349862258953,
          0.6443514644351465
         ],
         "yaxis": "y14"
        },
        {
         "marker": {
          "color": "yellow",
          "line": {
           "color": "black",
           "width": 1
          }
         },
         "name": "trfermikit + manta",
         "showlegend": false,
         "type": "bar",
         "x": [
          "100-125",
          "125-150",
          "150-200",
          "200-300",
          "300-500",
          "500-1500",
          "1500-99500"
         ],
         "xaxis": "x14",
         "y": [
          0.10714285714285714,
          0.096045197740113,
          0.22282608695652173,
          0.2628458498023715,
          0.4088200238379023,
          0.5951492537313433,
          0.6844036697247706
         ],
         "yaxis": "y14"
        },
        {
         "marker": {
          "color": "grey",
          "line": {
           "color": "black",
           "width": 1
          }
         },
         "name": "VNTRs",
         "showlegend": false,
         "type": "bar",
         "x": [
          "100-125",
          "125-150",
          "150-200",
          "200-300",
          "300-500",
          "500-1500",
          "1500-99500"
         ],
         "xaxis": "x15",
         "y": [
          11052,
          8843,
          12974,
          18196,
          15464,
          20910,
          1689
         ],
         "yaxis": "y15"
        },
        {
         "marker": {
          "color": "cyan",
          "line": {
           "color": "black",
           "width": 1
          }
         },
         "name": "real events",
         "showlegend": false,
         "type": "bar",
         "x": [
          "100-125",
          "125-150",
          "150-200",
          "200-300",
          "300-500",
          "500-1500",
          "1500-99500"
         ],
         "xaxis": "x15",
         "y": [
          164,
          178,
          364,
          582,
          892,
          1788,
          893
         ],
         "yaxis": "y15"
        },
        {
         "marker": {
          "color": "magenta",
          "line": {
           "color": "black",
           "width": 1
          }
         },
         "name": "trfermikit calls",
         "showlegend": false,
         "type": "bar",
         "x": [
          "100-125",
          "125-150",
          "150-200",
          "200-300",
          "300-500",
          "500-1500",
          "1500-99500"
         ],
         "xaxis": "x15",
         "y": [
          145,
          150,
          286,
          408,
          628,
          1045,
          350
         ],
         "yaxis": "y15"
        },
        {
         "marker": {
          "color": "black",
          "line": {
           "color": "black",
           "width": 1
          }
         },
         "showlegend": false,
         "type": "bar",
         "x": [
          "100-125",
          "125-150",
          "150-200",
          "200-300",
          "300-500",
          "500-1500",
          "1500-99500"
         ],
         "xaxis": "x16",
         "y": [
          0.2903225806451613,
          0.32558139534883723,
          0.43209876543209874,
          0.38636363636363635,
          0.35066864784546803,
          0.20459149223497636,
          0.10396039603960396
         ],
         "yaxis": "y16"
        },
        {
         "marker": {
          "color": "red",
          "line": {
           "color": "black",
           "width": 1
          }
         },
         "name": "trfermikit",
         "showlegend": false,
         "type": "bar",
         "x": [
          "100-125",
          "125-150",
          "150-200",
          "200-300",
          "300-500",
          "500-1500",
          "1500-99500"
         ],
         "xaxis": "x17",
         "y": [
          0.8325123152709359,
          0.7562189054726368,
          0.6709677419354839,
          0.5730027548209367,
          0.4158043273753528,
          0.28627280625543006,
          0.16732673267326734
         ],
         "yaxis": "y17"
        },
        {
         "marker": {
          "color": "blue",
          "line": {
           "color": "black",
           "width": 1
          }
         },
         "name": "manta",
         "showlegend": false,
         "type": "bar",
         "x": [
          "100-125",
          "125-150",
          "150-200",
          "200-300",
          "300-500",
          "500-1500",
          "1500-99500"
         ],
         "xaxis": "x17",
         "y": [
          0.8226600985221675,
          0.8059701492537313,
          0.610752688172043,
          0.33608815426997246,
          0.25117591721542804,
          0.182884448305821,
          0.1306930693069307
         ],
         "yaxis": "y17"
        },
        {
         "marker": {
          "color": "yellow",
          "line": {
           "color": "black",
           "width": 1
          }
         },
         "name": "trfermikit + manta",
         "showlegend": false,
         "type": "bar",
         "x": [
          "100-125",
          "125-150",
          "150-200",
          "200-300",
          "300-500",
          "500-1500",
          "1500-99500"
         ],
         "xaxis": "x17",
         "y": [
          0.9310344827586207,
          0.9353233830845771,
          0.8279569892473119,
          0.6955922865013774,
          0.5258701787394168,
          0.3896611642050391,
          0.25742574257425743
         ],
         "yaxis": "y17"
        },
        {
         "marker": {
          "color": "red",
          "line": {
           "color": "black",
           "width": 1
          }
         },
         "name": "trfermikit",
         "showlegend": false,
         "type": "bar",
         "x": [
          "100-125",
          "125-150",
          "150-200",
          "200-300",
          "300-500",
          "500-1500",
          "1500-99500"
         ],
         "xaxis": "x18",
         "y": [
          0.0962566844919786,
          0.08433734939759036,
          0.15217391304347827,
          0.24773960216998192,
          0.40350877192982454,
          0.5352609308885754,
          0.631004366812227
         ],
         "yaxis": "y18"
        },
        {
         "marker": {
          "color": "blue",
          "line": {
           "color": "black",
           "width": 1
          }
         },
         "name": "manta",
         "showlegend": false,
         "type": "bar",
         "x": [
          "100-125",
          "125-150",
          "150-200",
          "200-300",
          "300-500",
          "500-1500",
          "1500-99500"
         ],
         "xaxis": "x18",
         "y": [
          0.05649717514124294,
          0.10989010989010989,
          0.20224719101123595,
          0.29069767441860467,
          0.46060606060606063,
          0.6065420560747663,
          0.6323119777158774
         ],
         "yaxis": "y18"
        },
        {
         "marker": {
          "color": "yellow",
          "line": {
           "color": "black",
           "width": 1
          }
         },
         "name": "trfermikit + manta",
         "showlegend": false,
         "type": "bar",
         "x": [
          "100-125",
          "125-150",
          "150-200",
          "200-300",
          "300-500",
          "500-1500",
          "1500-99500"
         ],
         "xaxis": "x18",
         "y": [
          0.10426540284360189,
          0.12962962962962962,
          0.20454545454545456,
          0.2927170868347339,
          0.46609360076408785,
          0.5957638575935106,
          0.6583442838370565
         ],
         "yaxis": "y18"
        },
        {
         "marker": {
          "color": "grey",
          "line": {
           "color": "black",
           "width": 1
          }
         },
         "name": "VNTRs",
         "showlegend": false,
         "type": "bar",
         "x": [
          "100-125",
          "125-150",
          "150-200",
          "200-300",
          "300-500",
          "500-1500",
          "1500-99500"
         ],
         "xaxis": "x19",
         "y": [
          11120,
          8884,
          13022,
          18322,
          15540,
          21073,
          1742
         ],
         "yaxis": "y19"
        },
        {
         "marker": {
          "color": "cyan",
          "line": {
           "color": "black",
           "width": 1
          }
         },
         "name": "real events",
         "showlegend": false,
         "type": "bar",
         "x": [
          "100-125",
          "125-150",
          "150-200",
          "200-300",
          "300-500",
          "500-1500",
          "1500-99500"
         ],
         "xaxis": "x19",
         "y": [
          203,
          201,
          465,
          726,
          1063,
          2302,
          1010
         ],
         "yaxis": "y19"
        },
        {
         "marker": {
          "color": "magenta",
          "line": {
           "color": "black",
           "width": 1
          }
         },
         "name": "trfermikit calls",
         "showlegend": false,
         "type": "bar",
         "x": [
          "100-125",
          "125-150",
          "150-200",
          "200-300",
          "300-500",
          "500-1500",
          "1500-99500"
         ],
         "xaxis": "x19",
         "y": [
          187,
          166,
          368,
          553,
          741,
          1418,
          458
         ],
         "yaxis": "y19"
        },
        {
         "marker": {
          "color": "black",
          "line": {
           "color": "black",
           "width": 1
          }
         },
         "showlegend": false,
         "type": "bar",
         "x": [
          "100-125",
          "125-150",
          "150-200",
          "200-300",
          "300-500",
          "500-1500",
          "1500-99500"
         ],
         "xaxis": "x20",
         "y": [
          0.3888888888888889,
          0.3333333333333333,
          0.4143646408839779,
          0.470954356846473,
          0.3228643216080402,
          0.21850079744816586,
          0.13097949886104784
         ],
         "yaxis": "y20"
        },
        {
         "marker": {
          "color": "red",
          "line": {
           "color": "black",
           "width": 1
          }
         },
         "name": "trfermikit",
         "showlegend": false,
         "type": "bar",
         "x": [
          "100-125",
          "125-150",
          "150-200",
          "200-300",
          "300-500",
          "500-1500",
          "1500-99500"
         ],
         "xaxis": "x21",
         "y": [
          0.7939698492462312,
          0.7723214285714286,
          0.623059866962306,
          0.5425383542538355,
          0.4059590316573557,
          0.2868778280542986,
          0.1285024154589372
         ],
         "yaxis": "y21"
        },
        {
         "marker": {
          "color": "blue",
          "line": {
           "color": "black",
           "width": 1
          }
         },
         "name": "manta",
         "showlegend": false,
         "type": "bar",
         "x": [
          "100-125",
          "125-150",
          "150-200",
          "200-300",
          "300-500",
          "500-1500",
          "1500-99500"
         ],
         "xaxis": "x21",
         "y": [
          0.8241206030150754,
          0.7857142857142857,
          0.5631929046563193,
          0.36541143654114366,
          0.26256983240223464,
          0.18144796380090497,
          0.10338164251207729
         ],
         "yaxis": "y21"
        },
        {
         "marker": {
          "color": "yellow",
          "line": {
           "color": "black",
           "width": 1
          }
         },
         "name": "trfermikit + manta",
         "showlegend": false,
         "type": "bar",
         "x": [
          "100-125",
          "125-150",
          "150-200",
          "200-300",
          "300-500",
          "500-1500",
          "1500-99500"
         ],
         "xaxis": "x21",
         "y": [
          0.8894472361809045,
          0.9151785714285714,
          0.7782705099778271,
          0.6806136680613668,
          0.5260707635009311,
          0.39547511312217193,
          0.2
         ],
         "yaxis": "y21"
        },
        {
         "marker": {
          "color": "red",
          "line": {
           "color": "black",
           "width": 1
          }
         },
         "name": "trfermikit",
         "showlegend": false,
         "type": "bar",
         "x": [
          "100-125",
          "125-150",
          "150-200",
          "200-300",
          "300-500",
          "500-1500",
          "1500-99500"
         ],
         "xaxis": "x22",
         "y": [
          0.07602339181286549,
          0.08465608465608465,
          0.17352941176470588,
          0.2782931354359926,
          0.4051841746248295,
          0.5351906158357771,
          0.6771844660194175
         ],
         "yaxis": "y22"
        },
        {
         "marker": {
          "color": "blue",
          "line": {
           "color": "black",
           "width": 1
          }
         },
         "name": "manta",
         "showlegend": false,
         "type": "bar",
         "x": [
          "100-125",
          "125-150",
          "150-200",
          "200-300",
          "300-500",
          "500-1500",
          "1500-99500"
         ],
         "xaxis": "x22",
         "y": [
          0.08379888268156424,
          0.08808290155440414,
          0.18849840255591055,
          0.2640449438202247,
          0.44047619047619047,
          0.5973895582329317,
          0.6219081272084805
         ],
         "yaxis": "y22"
        },
        {
         "marker": {
          "color": "yellow",
          "line": {
           "color": "black",
           "width": 1
          }
         },
         "name": "trfermikit + manta",
         "showlegend": false,
         "type": "bar",
         "x": [
          "100-125",
          "125-150",
          "150-200",
          "200-300",
          "300-500",
          "500-1500",
          "1500-99500"
         ],
         "xaxis": "x22",
         "y": [
          0.10606060606060606,
          0.12017167381974249,
          0.2076749435665914,
          0.2998565279770445,
          0.46241674595623217,
          0.5906323185011709,
          0.676056338028169
         ],
         "yaxis": "y22"
        },
        {
         "marker": {
          "color": "grey",
          "line": {
           "color": "black",
           "width": 1
          }
         },
         "name": "VNTRs",
         "showlegend": false,
         "type": "bar",
         "x": [
          "100-125",
          "125-150",
          "150-200",
          "200-300",
          "300-500",
          "500-1500",
          "1500-99500"
         ],
         "xaxis": "x23",
         "y": [
          11096,
          8894,
          13006,
          18293,
          15501,
          20923,
          1688
         ],
         "yaxis": "y23"
        },
        {
         "marker": {
          "color": "cyan",
          "line": {
           "color": "black",
           "width": 1
          }
         },
         "name": "real events",
         "showlegend": false,
         "type": "bar",
         "x": [
          "100-125",
          "125-150",
          "150-200",
          "200-300",
          "300-500",
          "500-1500",
          "1500-99500"
         ],
         "xaxis": "x23",
         "y": [
          199,
          224,
          451,
          717,
          1074,
          2210,
          1035
         ],
         "yaxis": "y23"
        },
        {
         "marker": {
          "color": "magenta",
          "line": {
           "color": "black",
           "width": 1
          }
         },
         "name": "trfermikit calls",
         "showlegend": false,
         "type": "bar",
         "x": [
          "100-125",
          "125-150",
          "150-200",
          "200-300",
          "300-500",
          "500-1500",
          "1500-99500"
         ],
         "xaxis": "x23",
         "y": [
          171,
          189,
          340,
          539,
          733,
          1364,
          412
         ],
         "yaxis": "y23"
        },
        {
         "marker": {
          "color": "black",
          "line": {
           "color": "black",
           "width": 1
          }
         },
         "showlegend": false,
         "type": "bar",
         "x": [
          "100-125",
          "125-150",
          "150-200",
          "200-300",
          "300-500",
          "500-1500",
          "1500-99500"
         ],
         "xaxis": "x24",
         "y": [
          0.22857142857142856,
          0.3333333333333333,
          0.39086294416243655,
          0.42637362637362636,
          0.30808080808080807,
          0.22388059701492538,
          0.09482758620689655
         ],
         "yaxis": "y24"
        },
        {
         "marker": {
          "color": "red",
          "line": {
           "color": "black",
           "width": 1
          }
         },
         "name": "trfermikit",
         "showlegend": false,
         "type": "bar",
         "x": [
          "100-125",
          "125-150",
          "150-200",
          "200-300",
          "300-500",
          "500-1500",
          "1500-99500"
         ],
         "xaxis": "x25",
         "y": [
          0.8078817733990148,
          0.7571428571428571,
          0.6724890829694323,
          0.5780821917808219,
          0.40841121495327104,
          0.26304347826086955,
          0.1342031686859273
         ],
         "yaxis": "y25"
        },
        {
         "marker": {
          "color": "blue",
          "line": {
           "color": "black",
           "width": 1
          }
         },
         "name": "manta",
         "showlegend": false,
         "type": "bar",
         "x": [
          "100-125",
          "125-150",
          "150-200",
          "200-300",
          "300-500",
          "500-1500",
          "1500-99500"
         ],
         "xaxis": "x25",
         "y": [
          0.8522167487684729,
          0.7714285714285715,
          0.5873362445414847,
          0.3821917808219178,
          0.2411214953271028,
          0.1691304347826087,
          0.11276794035414725
         ],
         "yaxis": "y25"
        },
        {
         "marker": {
          "color": "yellow",
          "line": {
           "color": "black",
           "width": 1
          }
         },
         "name": "trfermikit + manta",
         "showlegend": false,
         "type": "bar",
         "x": [
          "100-125",
          "125-150",
          "150-200",
          "200-300",
          "300-500",
          "500-1500",
          "1500-99500"
         ],
         "xaxis": "x25",
         "y": [
          0.9507389162561576,
          0.9047619047619048,
          0.8122270742358079,
          0.7191780821917808,
          0.5177570093457944,
          0.3526086956521739,
          0.21062441752096925
         ],
         "yaxis": "y25"
        },
        {
         "marker": {
          "color": "red",
          "line": {
           "color": "black",
           "width": 1
          }
         },
         "name": "trfermikit",
         "showlegend": false,
         "type": "bar",
         "x": [
          "100-125",
          "125-150",
          "150-200",
          "200-300",
          "300-500",
          "500-1500",
          "1500-99500"
         ],
         "xaxis": "x26",
         "y": [
          0.06818181818181818,
          0.0755813953488372,
          0.1323943661971831,
          0.25044404973357015,
          0.41263440860215056,
          0.5277127244340359,
          0.645320197044335
         ],
         "yaxis": "y26"
        },
        {
         "marker": {
          "color": "blue",
          "line": {
           "color": "black",
           "width": 1
          }
         },
         "name": "manta",
         "showlegend": false,
         "type": "bar",
         "x": [
          "100-125",
          "125-150",
          "150-200",
          "200-300",
          "300-500",
          "500-1500",
          "1500-99500"
         ],
         "xaxis": "x26",
         "y": [
          0.0797872340425532,
          0.10497237569060773,
          0.1897590361445783,
          0.2418478260869565,
          0.4266666666666667,
          0.5993820803295572,
          0.6230529595015576
         ],
         "yaxis": "y26"
        },
        {
         "marker": {
          "color": "yellow",
          "line": {
           "color": "black",
           "width": 1
          }
         },
         "name": "trfermikit + manta",
         "showlegend": false,
         "type": "bar",
         "x": [
          "100-125",
          "125-150",
          "150-200",
          "200-300",
          "300-500",
          "500-1500",
          "1500-99500"
         ],
         "xaxis": "x26",
         "y": [
          0.09389671361502347,
          0.12037037037037036,
          0.18599562363238512,
          0.27385892116182575,
          0.45579567779960706,
          0.5965174129353233,
          0.6616766467065869
         ],
         "yaxis": "y26"
        },
        {
         "marker": {
          "color": "grey",
          "line": {
           "color": "black",
           "width": 1
          }
         },
         "name": "VNTRs",
         "showlegend": false,
         "type": "bar",
         "x": [
          "100-125",
          "125-150",
          "150-200",
          "200-300",
          "300-500",
          "500-1500",
          "1500-99500"
         ],
         "xaxis": "x27",
         "y": [
          11109,
          8898,
          13033,
          18383,
          15597,
          21141,
          1757
         ],
         "yaxis": "y27"
        },
        {
         "marker": {
          "color": "cyan",
          "line": {
           "color": "black",
           "width": 1
          }
         },
         "name": "real events",
         "showlegend": false,
         "type": "bar",
         "x": [
          "100-125",
          "125-150",
          "150-200",
          "200-300",
          "300-500",
          "500-1500",
          "1500-99500"
         ],
         "xaxis": "x27",
         "y": [
          203,
          210,
          458,
          730,
          1070,
          2300,
          1073
         ],
         "yaxis": "y27"
        },
        {
         "marker": {
          "color": "magenta",
          "line": {
           "color": "black",
           "width": 1
          }
         },
         "name": "trfermikit calls",
         "showlegend": false,
         "type": "bar",
         "x": [
          "100-125",
          "125-150",
          "150-200",
          "200-300",
          "300-500",
          "500-1500",
          "1500-99500"
         ],
         "xaxis": "x27",
         "y": [
          176,
          172,
          355,
          563,
          744,
          1281,
          406
         ],
         "yaxis": "y27"
        },
        {
         "marker": {
          "color": "black",
          "line": {
           "color": "black",
           "width": 1
          }
         },
         "showlegend": false,
         "type": "bar",
         "x": [
          "100-125",
          "125-150",
          "150-200",
          "200-300",
          "300-500",
          "500-1500",
          "1500-99500"
         ],
         "xaxis": "x28",
         "y": [
          0.3333333333333333,
          0.2916666666666667,
          0.3915343915343915,
          0.44789356984478934,
          0.31403940886699505,
          0.19047619047619047,
          0.09558823529411764
         ],
         "yaxis": "y28"
        }
       ],
       "layout": {
        "annotations": [
         {
          "font": {
           "color": "black",
           "family": "Arial",
           "size": 26
          },
          "showarrow": false,
          "text": "Recall, TP / #events",
          "x": 0.10375,
          "xanchor": "center",
          "xref": "paper",
          "y": 0.9999999999999997,
          "yanchor": "bottom",
          "yref": "paper"
         },
         {
          "font": {
           "color": "black",
           "family": "Arial",
           "size": 26
          },
          "showarrow": false,
          "text": "FDR, FP / #calls",
          "x": 0.36124999999999996,
          "xanchor": "center",
          "xref": "paper",
          "y": 0.9999999999999997,
          "yanchor": "bottom",
          "yref": "paper"
         },
         {
          "font": {
           "color": "black",
           "family": "Arial",
           "size": 26
          },
          "showarrow": false,
          "text": "Count",
          "x": 0.61875,
          "xanchor": "center",
          "xref": "paper",
          "y": 0.9999999999999997,
          "yanchor": "bottom",
          "yref": "paper"
         },
         {
          "font": {
           "color": "black",
           "family": "Arial",
           "size": 26
          },
          "showarrow": false,
          "text": "fraction of manta FNs <br>recovered by trfermikit",
          "x": 0.87625,
          "xanchor": "center",
          "xref": "paper",
          "y": 0.9999999999999997,
          "yanchor": "bottom",
          "yref": "paper"
         },
         {
          "font": {
           "color": "black",
           "family": "Arial",
           "size": 26
          },
          "showarrow": false,
          "text": "CHS,HG00514",
          "textangle": 90,
          "x": 0.98,
          "xanchor": "left",
          "xref": "paper",
          "y": 0.9328571428571426,
          "yanchor": "middle",
          "yref": "paper"
         },
         {
          "font": {
           "color": "black",
           "family": "Arial",
           "size": 26
          },
          "showarrow": false,
          "text": "PUR,HG00733",
          "textangle": 90,
          "x": 0.98,
          "xanchor": "left",
          "xref": "paper",
          "y": 0.7885714285714285,
          "yanchor": "middle",
          "yref": "paper"
         },
         {
          "font": {
           "color": "black",
           "family": "Arial",
           "size": 26
          },
          "showarrow": false,
          "text": "YRI,NA19240",
          "textangle": 90,
          "x": 0.98,
          "xanchor": "left",
          "xref": "paper",
          "y": 0.6442857142857141,
          "yanchor": "middle",
          "yref": "paper"
         },
         {
          "font": {
           "color": "black",
           "family": "Arial",
           "size": 26
          },
          "showarrow": false,
          "text": "CEU,NA12878",
          "textangle": 90,
          "x": 0.98,
          "xanchor": "left",
          "xref": "paper",
          "y": 0.49999999999999994,
          "yanchor": "middle",
          "yref": "paper"
         },
         {
          "font": {
           "color": "black",
           "family": "Arial",
           "size": 26
          },
          "showarrow": false,
          "text": "ESN,HG03125",
          "textangle": 90,
          "x": 0.98,
          "xanchor": "left",
          "xref": "paper",
          "y": 0.35571428571428565,
          "yanchor": "middle",
          "yref": "paper"
         },
         {
          "font": {
           "color": "black",
           "family": "Arial",
           "size": 26
          },
          "showarrow": false,
          "text": "GWD,HG02818",
          "textangle": 90,
          "x": 0.98,
          "xanchor": "left",
          "xref": "paper",
          "y": 0.2114285714285714,
          "yanchor": "middle",
          "yref": "paper"
         },
         {
          "font": {
           "color": "black",
           "family": "Arial",
           "size": 26
          },
          "showarrow": false,
          "text": "MSL,HG03486",
          "textangle": 90,
          "x": 0.98,
          "xanchor": "left",
          "xref": "paper",
          "y": 0.06714285714285713,
          "yanchor": "middle",
          "yref": "paper"
         },
         {
          "font": {
           "color": "black",
           "family": "Arial",
           "size": 26
          },
          "showarrow": false,
          "text": "VNTR length (bps)",
          "x": 0.49,
          "xanchor": "center",
          "xref": "paper",
          "y": -0.04,
          "yanchor": "top",
          "yref": "paper",
          "yshift": -30
         }
        ],
        "font": {
         "color": "black",
         "family": "Arial",
         "size": 20
        },
        "height": 2000,
        "margin": {
         "b": 150,
         "l": 50,
         "pad": 0,
         "r": 50,
         "t": 100
        },
        "plot_bgcolor": "white",
        "template": {
         "data": {
          "bar": [
           {
            "error_x": {
             "color": "#2a3f5f"
            },
            "error_y": {
             "color": "#2a3f5f"
            },
            "marker": {
             "line": {
              "color": "#E5ECF6",
              "width": 0.5
             }
            },
            "type": "bar"
           }
          ],
          "barpolar": [
           {
            "marker": {
             "line": {
              "color": "#E5ECF6",
              "width": 0.5
             }
            },
            "type": "barpolar"
           }
          ],
          "carpet": [
           {
            "aaxis": {
             "endlinecolor": "#2a3f5f",
             "gridcolor": "white",
             "linecolor": "white",
             "minorgridcolor": "white",
             "startlinecolor": "#2a3f5f"
            },
            "baxis": {
             "endlinecolor": "#2a3f5f",
             "gridcolor": "white",
             "linecolor": "white",
             "minorgridcolor": "white",
             "startlinecolor": "#2a3f5f"
            },
            "type": "carpet"
           }
          ],
          "choropleth": [
           {
            "colorbar": {
             "outlinewidth": 0,
             "ticks": ""
            },
            "type": "choropleth"
           }
          ],
          "contour": [
           {
            "colorbar": {
             "outlinewidth": 0,
             "ticks": ""
            },
            "colorscale": [
             [
              0,
              "#0d0887"
             ],
             [
              0.1111111111111111,
              "#46039f"
             ],
             [
              0.2222222222222222,
              "#7201a8"
             ],
             [
              0.3333333333333333,
              "#9c179e"
             ],
             [
              0.4444444444444444,
              "#bd3786"
             ],
             [
              0.5555555555555556,
              "#d8576b"
             ],
             [
              0.6666666666666666,
              "#ed7953"
             ],
             [
              0.7777777777777778,
              "#fb9f3a"
             ],
             [
              0.8888888888888888,
              "#fdca26"
             ],
             [
              1,
              "#f0f921"
             ]
            ],
            "type": "contour"
           }
          ],
          "contourcarpet": [
           {
            "colorbar": {
             "outlinewidth": 0,
             "ticks": ""
            },
            "type": "contourcarpet"
           }
          ],
          "heatmap": [
           {
            "colorbar": {
             "outlinewidth": 0,
             "ticks": ""
            },
            "colorscale": [
             [
              0,
              "#0d0887"
             ],
             [
              0.1111111111111111,
              "#46039f"
             ],
             [
              0.2222222222222222,
              "#7201a8"
             ],
             [
              0.3333333333333333,
              "#9c179e"
             ],
             [
              0.4444444444444444,
              "#bd3786"
             ],
             [
              0.5555555555555556,
              "#d8576b"
             ],
             [
              0.6666666666666666,
              "#ed7953"
             ],
             [
              0.7777777777777778,
              "#fb9f3a"
             ],
             [
              0.8888888888888888,
              "#fdca26"
             ],
             [
              1,
              "#f0f921"
             ]
            ],
            "type": "heatmap"
           }
          ],
          "heatmapgl": [
           {
            "colorbar": {
             "outlinewidth": 0,
             "ticks": ""
            },
            "colorscale": [
             [
              0,
              "#0d0887"
             ],
             [
              0.1111111111111111,
              "#46039f"
             ],
             [
              0.2222222222222222,
              "#7201a8"
             ],
             [
              0.3333333333333333,
              "#9c179e"
             ],
             [
              0.4444444444444444,
              "#bd3786"
             ],
             [
              0.5555555555555556,
              "#d8576b"
             ],
             [
              0.6666666666666666,
              "#ed7953"
             ],
             [
              0.7777777777777778,
              "#fb9f3a"
             ],
             [
              0.8888888888888888,
              "#fdca26"
             ],
             [
              1,
              "#f0f921"
             ]
            ],
            "type": "heatmapgl"
           }
          ],
          "histogram": [
           {
            "marker": {
             "colorbar": {
              "outlinewidth": 0,
              "ticks": ""
             }
            },
            "type": "histogram"
           }
          ],
          "histogram2d": [
           {
            "colorbar": {
             "outlinewidth": 0,
             "ticks": ""
            },
            "colorscale": [
             [
              0,
              "#0d0887"
             ],
             [
              0.1111111111111111,
              "#46039f"
             ],
             [
              0.2222222222222222,
              "#7201a8"
             ],
             [
              0.3333333333333333,
              "#9c179e"
             ],
             [
              0.4444444444444444,
              "#bd3786"
             ],
             [
              0.5555555555555556,
              "#d8576b"
             ],
             [
              0.6666666666666666,
              "#ed7953"
             ],
             [
              0.7777777777777778,
              "#fb9f3a"
             ],
             [
              0.8888888888888888,
              "#fdca26"
             ],
             [
              1,
              "#f0f921"
             ]
            ],
            "type": "histogram2d"
           }
          ],
          "histogram2dcontour": [
           {
            "colorbar": {
             "outlinewidth": 0,
             "ticks": ""
            },
            "colorscale": [
             [
              0,
              "#0d0887"
             ],
             [
              0.1111111111111111,
              "#46039f"
             ],
             [
              0.2222222222222222,
              "#7201a8"
             ],
             [
              0.3333333333333333,
              "#9c179e"
             ],
             [
              0.4444444444444444,
              "#bd3786"
             ],
             [
              0.5555555555555556,
              "#d8576b"
             ],
             [
              0.6666666666666666,
              "#ed7953"
             ],
             [
              0.7777777777777778,
              "#fb9f3a"
             ],
             [
              0.8888888888888888,
              "#fdca26"
             ],
             [
              1,
              "#f0f921"
             ]
            ],
            "type": "histogram2dcontour"
           }
          ],
          "mesh3d": [
           {
            "colorbar": {
             "outlinewidth": 0,
             "ticks": ""
            },
            "type": "mesh3d"
           }
          ],
          "parcoords": [
           {
            "line": {
             "colorbar": {
              "outlinewidth": 0,
              "ticks": ""
             }
            },
            "type": "parcoords"
           }
          ],
          "pie": [
           {
            "automargin": true,
            "type": "pie"
           }
          ],
          "scatter": [
           {
            "marker": {
             "colorbar": {
              "outlinewidth": 0,
              "ticks": ""
             }
            },
            "type": "scatter"
           }
          ],
          "scatter3d": [
           {
            "line": {
             "colorbar": {
              "outlinewidth": 0,
              "ticks": ""
             }
            },
            "marker": {
             "colorbar": {
              "outlinewidth": 0,
              "ticks": ""
             }
            },
            "type": "scatter3d"
           }
          ],
          "scattercarpet": [
           {
            "marker": {
             "colorbar": {
              "outlinewidth": 0,
              "ticks": ""
             }
            },
            "type": "scattercarpet"
           }
          ],
          "scattergeo": [
           {
            "marker": {
             "colorbar": {
              "outlinewidth": 0,
              "ticks": ""
             }
            },
            "type": "scattergeo"
           }
          ],
          "scattergl": [
           {
            "marker": {
             "colorbar": {
              "outlinewidth": 0,
              "ticks": ""
             }
            },
            "type": "scattergl"
           }
          ],
          "scattermapbox": [
           {
            "marker": {
             "colorbar": {
              "outlinewidth": 0,
              "ticks": ""
             }
            },
            "type": "scattermapbox"
           }
          ],
          "scatterpolar": [
           {
            "marker": {
             "colorbar": {
              "outlinewidth": 0,
              "ticks": ""
             }
            },
            "type": "scatterpolar"
           }
          ],
          "scatterpolargl": [
           {
            "marker": {
             "colorbar": {
              "outlinewidth": 0,
              "ticks": ""
             }
            },
            "type": "scatterpolargl"
           }
          ],
          "scatterternary": [
           {
            "marker": {
             "colorbar": {
              "outlinewidth": 0,
              "ticks": ""
             }
            },
            "type": "scatterternary"
           }
          ],
          "surface": [
           {
            "colorbar": {
             "outlinewidth": 0,
             "ticks": ""
            },
            "colorscale": [
             [
              0,
              "#0d0887"
             ],
             [
              0.1111111111111111,
              "#46039f"
             ],
             [
              0.2222222222222222,
              "#7201a8"
             ],
             [
              0.3333333333333333,
              "#9c179e"
             ],
             [
              0.4444444444444444,
              "#bd3786"
             ],
             [
              0.5555555555555556,
              "#d8576b"
             ],
             [
              0.6666666666666666,
              "#ed7953"
             ],
             [
              0.7777777777777778,
              "#fb9f3a"
             ],
             [
              0.8888888888888888,
              "#fdca26"
             ],
             [
              1,
              "#f0f921"
             ]
            ],
            "type": "surface"
           }
          ],
          "table": [
           {
            "cells": {
             "fill": {
              "color": "#EBF0F8"
             },
             "line": {
              "color": "white"
             }
            },
            "header": {
             "fill": {
              "color": "#C8D4E3"
             },
             "line": {
              "color": "white"
             }
            },
            "type": "table"
           }
          ]
         },
         "layout": {
          "annotationdefaults": {
           "arrowcolor": "#2a3f5f",
           "arrowhead": 0,
           "arrowwidth": 1
          },
          "autotypenumbers": "strict",
          "coloraxis": {
           "colorbar": {
            "outlinewidth": 0,
            "ticks": ""
           }
          },
          "colorscale": {
           "diverging": [
            [
             0,
             "#8e0152"
            ],
            [
             0.1,
             "#c51b7d"
            ],
            [
             0.2,
             "#de77ae"
            ],
            [
             0.3,
             "#f1b6da"
            ],
            [
             0.4,
             "#fde0ef"
            ],
            [
             0.5,
             "#f7f7f7"
            ],
            [
             0.6,
             "#e6f5d0"
            ],
            [
             0.7,
             "#b8e186"
            ],
            [
             0.8,
             "#7fbc41"
            ],
            [
             0.9,
             "#4d9221"
            ],
            [
             1,
             "#276419"
            ]
           ],
           "sequential": [
            [
             0,
             "#0d0887"
            ],
            [
             0.1111111111111111,
             "#46039f"
            ],
            [
             0.2222222222222222,
             "#7201a8"
            ],
            [
             0.3333333333333333,
             "#9c179e"
            ],
            [
             0.4444444444444444,
             "#bd3786"
            ],
            [
             0.5555555555555556,
             "#d8576b"
            ],
            [
             0.6666666666666666,
             "#ed7953"
            ],
            [
             0.7777777777777778,
             "#fb9f3a"
            ],
            [
             0.8888888888888888,
             "#fdca26"
            ],
            [
             1,
             "#f0f921"
            ]
           ],
           "sequentialminus": [
            [
             0,
             "#0d0887"
            ],
            [
             0.1111111111111111,
             "#46039f"
            ],
            [
             0.2222222222222222,
             "#7201a8"
            ],
            [
             0.3333333333333333,
             "#9c179e"
            ],
            [
             0.4444444444444444,
             "#bd3786"
            ],
            [
             0.5555555555555556,
             "#d8576b"
            ],
            [
             0.6666666666666666,
             "#ed7953"
            ],
            [
             0.7777777777777778,
             "#fb9f3a"
            ],
            [
             0.8888888888888888,
             "#fdca26"
            ],
            [
             1,
             "#f0f921"
            ]
           ]
          },
          "colorway": [
           "#636efa",
           "#EF553B",
           "#00cc96",
           "#ab63fa",
           "#FFA15A",
           "#19d3f3",
           "#FF6692",
           "#B6E880",
           "#FF97FF",
           "#FECB52"
          ],
          "font": {
           "color": "#2a3f5f"
          },
          "geo": {
           "bgcolor": "white",
           "lakecolor": "white",
           "landcolor": "#E5ECF6",
           "showlakes": true,
           "showland": true,
           "subunitcolor": "white"
          },
          "hoverlabel": {
           "align": "left"
          },
          "hovermode": "closest",
          "mapbox": {
           "style": "light"
          },
          "paper_bgcolor": "white",
          "plot_bgcolor": "#E5ECF6",
          "polar": {
           "angularaxis": {
            "gridcolor": "white",
            "linecolor": "white",
            "ticks": ""
           },
           "bgcolor": "#E5ECF6",
           "radialaxis": {
            "gridcolor": "white",
            "linecolor": "white",
            "ticks": ""
           }
          },
          "scene": {
           "xaxis": {
            "backgroundcolor": "#E5ECF6",
            "gridcolor": "white",
            "gridwidth": 2,
            "linecolor": "white",
            "showbackground": true,
            "ticks": "",
            "zerolinecolor": "white"
           },
           "yaxis": {
            "backgroundcolor": "#E5ECF6",
            "gridcolor": "white",
            "gridwidth": 2,
            "linecolor": "white",
            "showbackground": true,
            "ticks": "",
            "zerolinecolor": "white"
           },
           "zaxis": {
            "backgroundcolor": "#E5ECF6",
            "gridcolor": "white",
            "gridwidth": 2,
            "linecolor": "white",
            "showbackground": true,
            "ticks": "",
            "zerolinecolor": "white"
           }
          },
          "shapedefaults": {
           "line": {
            "color": "#2a3f5f"
           }
          },
          "ternary": {
           "aaxis": {
            "gridcolor": "white",
            "linecolor": "white",
            "ticks": ""
           },
           "baxis": {
            "gridcolor": "white",
            "linecolor": "white",
            "ticks": ""
           },
           "bgcolor": "#E5ECF6",
           "caxis": {
            "gridcolor": "white",
            "linecolor": "white",
            "ticks": ""
           }
          },
          "title": {
           "x": 0.05
          },
          "xaxis": {
           "automargin": true,
           "gridcolor": "white",
           "linecolor": "white",
           "ticks": "",
           "title": {
            "standoff": 15
           },
           "zerolinecolor": "white",
           "zerolinewidth": 2
          },
          "yaxis": {
           "automargin": true,
           "gridcolor": "white",
           "linecolor": "white",
           "ticks": "",
           "title": {
            "standoff": 15
           },
           "zerolinecolor": "white",
           "zerolinewidth": 2
          }
         }
        },
        "width": 1800,
        "xaxis": {
         "anchor": "y",
         "domain": [
          0,
          0.2075
         ],
         "linecolor": "black",
         "linewidth": 1.5,
         "matches": "x25",
         "showgrid": false,
         "showline": false,
         "showticklabels": false,
         "tickangle": 45,
         "tickcolor": "black",
         "ticklen": 10,
         "tickwidth": 1.5,
         "title": {},
         "type": "category"
        },
        "xaxis10": {
         "anchor": "y10",
         "domain": [
          0.2575,
          0.46499999999999997
         ],
         "linecolor": "black",
         "linewidth": 1.5,
         "matches": "x26",
         "showgrid": false,
         "showline": false,
         "showticklabels": false,
         "tickangle": 45,
         "tickcolor": "black",
         "ticklen": 10,
         "tickwidth": 1.5,
         "title": {}
        },
        "xaxis11": {
         "anchor": "y11",
         "domain": [
          0.515,
          0.7225
         ],
         "linecolor": "black",
         "linewidth": 1.5,
         "matches": "x27",
         "showgrid": false,
         "showline": false,
         "showticklabels": false,
         "tickangle": 45,
         "tickcolor": "black",
         "ticklen": 10,
         "tickwidth": 1.5,
         "title": {}
        },
        "xaxis12": {
         "anchor": "y12",
         "domain": [
          0.7725,
          0.98
         ],
         "linecolor": "black",
         "linewidth": 1.5,
         "matches": "x28",
         "showgrid": false,
         "showline": false,
         "showticklabels": false,
         "tickangle": 45,
         "tickcolor": "black",
         "ticklen": 10,
         "tickwidth": 1.5,
         "title": {}
        },
        "xaxis13": {
         "anchor": "y13",
         "domain": [
          0,
          0.2075
         ],
         "linecolor": "black",
         "linewidth": 1.5,
         "matches": "x25",
         "showgrid": false,
         "showline": false,
         "showticklabels": false,
         "tickangle": 45,
         "tickcolor": "black",
         "ticklen": 10,
         "tickwidth": 1.5,
         "title": {}
        },
        "xaxis14": {
         "anchor": "y14",
         "domain": [
          0.2575,
          0.46499999999999997
         ],
         "linecolor": "black",
         "linewidth": 1.5,
         "matches": "x26",
         "showgrid": false,
         "showline": false,
         "showticklabels": false,
         "tickangle": 45,
         "tickcolor": "black",
         "ticklen": 10,
         "tickwidth": 1.5,
         "title": {}
        },
        "xaxis15": {
         "anchor": "y15",
         "domain": [
          0.515,
          0.7225
         ],
         "linecolor": "black",
         "linewidth": 1.5,
         "matches": "x27",
         "showgrid": false,
         "showline": false,
         "showticklabels": false,
         "tickangle": 45,
         "tickcolor": "black",
         "ticklen": 10,
         "tickwidth": 1.5,
         "title": {}
        },
        "xaxis16": {
         "anchor": "y16",
         "domain": [
          0.7725,
          0.98
         ],
         "linecolor": "black",
         "linewidth": 1.5,
         "matches": "x28",
         "showgrid": false,
         "showline": false,
         "showticklabels": false,
         "tickangle": 45,
         "tickcolor": "black",
         "ticklen": 10,
         "tickwidth": 1.5,
         "title": {}
        },
        "xaxis17": {
         "anchor": "y17",
         "domain": [
          0,
          0.2075
         ],
         "linecolor": "black",
         "linewidth": 1.5,
         "matches": "x25",
         "showgrid": false,
         "showline": false,
         "showticklabels": false,
         "tickangle": 45,
         "tickcolor": "black",
         "ticklen": 10,
         "tickwidth": 1.5,
         "title": {}
        },
        "xaxis18": {
         "anchor": "y18",
         "domain": [
          0.2575,
          0.46499999999999997
         ],
         "linecolor": "black",
         "linewidth": 1.5,
         "matches": "x26",
         "showgrid": false,
         "showline": false,
         "showticklabels": false,
         "tickangle": 45,
         "tickcolor": "black",
         "ticklen": 10,
         "tickwidth": 1.5,
         "title": {}
        },
        "xaxis19": {
         "anchor": "y19",
         "domain": [
          0.515,
          0.7225
         ],
         "linecolor": "black",
         "linewidth": 1.5,
         "matches": "x27",
         "showgrid": false,
         "showline": false,
         "showticklabels": false,
         "tickangle": 45,
         "tickcolor": "black",
         "ticklen": 10,
         "tickwidth": 1.5,
         "title": {}
        },
        "xaxis2": {
         "anchor": "y2",
         "domain": [
          0.2575,
          0.46499999999999997
         ],
         "linecolor": "black",
         "linewidth": 1.5,
         "matches": "x26",
         "showgrid": false,
         "showline": false,
         "showticklabels": false,
         "tickangle": 45,
         "tickcolor": "black",
         "ticklen": 10,
         "tickwidth": 1.5,
         "title": {}
        },
        "xaxis20": {
         "anchor": "y20",
         "domain": [
          0.7725,
          0.98
         ],
         "linecolor": "black",
         "linewidth": 1.5,
         "matches": "x28",
         "showgrid": false,
         "showline": false,
         "showticklabels": false,
         "tickangle": 45,
         "tickcolor": "black",
         "ticklen": 10,
         "tickwidth": 1.5,
         "title": {}
        },
        "xaxis21": {
         "anchor": "y21",
         "domain": [
          0,
          0.2075
         ],
         "linecolor": "black",
         "linewidth": 1.5,
         "matches": "x25",
         "showgrid": false,
         "showline": false,
         "showticklabels": false,
         "tickangle": 45,
         "tickcolor": "black",
         "ticklen": 10,
         "tickwidth": 1.5,
         "title": {}
        },
        "xaxis22": {
         "anchor": "y22",
         "domain": [
          0.2575,
          0.46499999999999997
         ],
         "linecolor": "black",
         "linewidth": 1.5,
         "matches": "x26",
         "showgrid": false,
         "showline": false,
         "showticklabels": false,
         "tickangle": 45,
         "tickcolor": "black",
         "ticklen": 10,
         "tickwidth": 1.5,
         "title": {}
        },
        "xaxis23": {
         "anchor": "y23",
         "domain": [
          0.515,
          0.7225
         ],
         "linecolor": "black",
         "linewidth": 1.5,
         "matches": "x27",
         "showgrid": false,
         "showline": false,
         "showticklabels": false,
         "tickangle": 45,
         "tickcolor": "black",
         "ticklen": 10,
         "tickwidth": 1.5,
         "title": {}
        },
        "xaxis24": {
         "anchor": "y24",
         "domain": [
          0.7725,
          0.98
         ],
         "linecolor": "black",
         "linewidth": 1.5,
         "matches": "x28",
         "showgrid": false,
         "showline": false,
         "showticklabels": false,
         "tickangle": 45,
         "tickcolor": "black",
         "ticklen": 10,
         "tickwidth": 1.5,
         "title": {}
        },
        "xaxis25": {
         "anchor": "y25",
         "domain": [
          0,
          0.2075
         ],
         "linecolor": "black",
         "linewidth": 1.5,
         "showgrid": false,
         "showline": false,
         "tickangle": 45,
         "tickcolor": "black",
         "ticklen": 10,
         "tickwidth": 1.5,
         "title": {}
        },
        "xaxis26": {
         "anchor": "y26",
         "domain": [
          0.2575,
          0.46499999999999997
         ],
         "linecolor": "black",
         "linewidth": 1.5,
         "showgrid": false,
         "showline": false,
         "tickangle": 45,
         "tickcolor": "black",
         "ticklen": 10,
         "tickwidth": 1.5,
         "title": {}
        },
        "xaxis27": {
         "anchor": "y27",
         "domain": [
          0.515,
          0.7225
         ],
         "linecolor": "black",
         "linewidth": 1.5,
         "showgrid": false,
         "showline": false,
         "tickangle": 45,
         "tickcolor": "black",
         "ticklen": 10,
         "tickwidth": 1.5,
         "title": {}
        },
        "xaxis28": {
         "anchor": "y28",
         "domain": [
          0.7725,
          0.98
         ],
         "linecolor": "black",
         "linewidth": 1.5,
         "showgrid": false,
         "showline": false,
         "tickangle": 45,
         "tickcolor": "black",
         "ticklen": 10,
         "tickwidth": 1.5,
         "title": {}
        },
        "xaxis3": {
         "anchor": "y3",
         "domain": [
          0.515,
          0.7225
         ],
         "linecolor": "black",
         "linewidth": 1.5,
         "matches": "x27",
         "showgrid": false,
         "showline": false,
         "showticklabels": false,
         "tickangle": 45,
         "tickcolor": "black",
         "ticklen": 10,
         "tickwidth": 1.5,
         "title": {}
        },
        "xaxis4": {
         "anchor": "y4",
         "domain": [
          0.7725,
          0.98
         ],
         "linecolor": "black",
         "linewidth": 1.5,
         "matches": "x28",
         "showgrid": false,
         "showline": false,
         "showticklabels": false,
         "tickangle": 45,
         "tickcolor": "black",
         "ticklen": 10,
         "tickwidth": 1.5,
         "title": {}
        },
        "xaxis5": {
         "anchor": "y5",
         "domain": [
          0,
          0.2075
         ],
         "linecolor": "black",
         "linewidth": 1.5,
         "matches": "x25",
         "showgrid": false,
         "showline": false,
         "showticklabels": false,
         "tickangle": 45,
         "tickcolor": "black",
         "ticklen": 10,
         "tickwidth": 1.5,
         "title": {}
        },
        "xaxis6": {
         "anchor": "y6",
         "domain": [
          0.2575,
          0.46499999999999997
         ],
         "linecolor": "black",
         "linewidth": 1.5,
         "matches": "x26",
         "showgrid": false,
         "showline": false,
         "showticklabels": false,
         "tickangle": 45,
         "tickcolor": "black",
         "ticklen": 10,
         "tickwidth": 1.5,
         "title": {}
        },
        "xaxis7": {
         "anchor": "y7",
         "domain": [
          0.515,
          0.7225
         ],
         "linecolor": "black",
         "linewidth": 1.5,
         "matches": "x27",
         "showgrid": false,
         "showline": false,
         "showticklabels": false,
         "tickangle": 45,
         "tickcolor": "black",
         "ticklen": 10,
         "tickwidth": 1.5,
         "title": {}
        },
        "xaxis8": {
         "anchor": "y8",
         "domain": [
          0.7725,
          0.98
         ],
         "linecolor": "black",
         "linewidth": 1.5,
         "matches": "x28",
         "showgrid": false,
         "showline": false,
         "showticklabels": false,
         "tickangle": 45,
         "tickcolor": "black",
         "ticklen": 10,
         "tickwidth": 1.5,
         "title": {}
        },
        "xaxis9": {
         "anchor": "y9",
         "domain": [
          0,
          0.2075
         ],
         "linecolor": "black",
         "linewidth": 1.5,
         "matches": "x25",
         "showgrid": false,
         "showline": false,
         "showticklabels": false,
         "tickangle": 45,
         "tickcolor": "black",
         "ticklen": 10,
         "tickwidth": 1.5,
         "title": {}
        },
        "yaxis": {
         "anchor": "x",
         "domain": [
          0.8657142857142854,
          0.9999999999999997
         ],
         "linecolor": "black",
         "linewidth": 1.5,
         "range": [
          0,
          1
         ],
         "showgrid": false,
         "showline": true,
         "tickcolor": "black",
         "ticklen": 10,
         "ticks": "outside",
         "tickwidth": 1.5,
         "title": {}
        },
        "yaxis10": {
         "anchor": "x10",
         "domain": [
          0.5771428571428571,
          0.7114285714285713
         ],
         "linecolor": "black",
         "linewidth": 1.5,
         "range": [
          0,
          1
         ],
         "showgrid": false,
         "showline": true,
         "tickcolor": "black",
         "ticklen": 10,
         "ticks": "outside",
         "tickwidth": 1.5,
         "title": {}
        },
        "yaxis11": {
         "anchor": "x11",
         "domain": [
          0.5771428571428571,
          0.7114285714285713
         ],
         "linecolor": "black",
         "linewidth": 1.5,
         "range": [
          2,
          5
         ],
         "showgrid": false,
         "showline": true,
         "tickcolor": "black",
         "ticklen": 10,
         "ticks": "outside",
         "tickwidth": 1.5,
         "title": {},
         "type": "log"
        },
        "yaxis12": {
         "anchor": "x12",
         "domain": [
          0.5771428571428571,
          0.7114285714285713
         ],
         "linecolor": "black",
         "linewidth": 1.5,
         "range": [
          0,
          1
         ],
         "showgrid": false,
         "showline": true,
         "tickcolor": "black",
         "ticklen": 10,
         "ticks": "outside",
         "tickwidth": 1.5,
         "title": {}
        },
        "yaxis13": {
         "anchor": "x13",
         "domain": [
          0.43285714285714283,
          0.5671428571428571
         ],
         "linecolor": "black",
         "linewidth": 1.5,
         "range": [
          0,
          1
         ],
         "showgrid": false,
         "showline": true,
         "tickcolor": "black",
         "ticklen": 10,
         "ticks": "outside",
         "tickwidth": 1.5,
         "title": {}
        },
        "yaxis14": {
         "anchor": "x14",
         "domain": [
          0.43285714285714283,
          0.5671428571428571
         ],
         "linecolor": "black",
         "linewidth": 1.5,
         "range": [
          0,
          1
         ],
         "showgrid": false,
         "showline": true,
         "tickcolor": "black",
         "ticklen": 10,
         "ticks": "outside",
         "tickwidth": 1.5,
         "title": {}
        },
        "yaxis15": {
         "anchor": "x15",
         "domain": [
          0.43285714285714283,
          0.5671428571428571
         ],
         "linecolor": "black",
         "linewidth": 1.5,
         "range": [
          2,
          5
         ],
         "showgrid": false,
         "showline": true,
         "tickcolor": "black",
         "ticklen": 10,
         "ticks": "outside",
         "tickwidth": 1.5,
         "title": {},
         "type": "log"
        },
        "yaxis16": {
         "anchor": "x16",
         "domain": [
          0.43285714285714283,
          0.5671428571428571
         ],
         "linecolor": "black",
         "linewidth": 1.5,
         "range": [
          0,
          1
         ],
         "showgrid": false,
         "showline": true,
         "tickcolor": "black",
         "ticklen": 10,
         "ticks": "outside",
         "tickwidth": 1.5,
         "title": {}
        },
        "yaxis17": {
         "anchor": "x17",
         "domain": [
          0.28857142857142853,
          0.4228571428571428
         ],
         "linecolor": "black",
         "linewidth": 1.5,
         "range": [
          0,
          1
         ],
         "showgrid": false,
         "showline": true,
         "tickcolor": "black",
         "ticklen": 10,
         "ticks": "outside",
         "tickwidth": 1.5,
         "title": {}
        },
        "yaxis18": {
         "anchor": "x18",
         "domain": [
          0.28857142857142853,
          0.4228571428571428
         ],
         "linecolor": "black",
         "linewidth": 1.5,
         "range": [
          0,
          1
         ],
         "showgrid": false,
         "showline": true,
         "tickcolor": "black",
         "ticklen": 10,
         "ticks": "outside",
         "tickwidth": 1.5,
         "title": {}
        },
        "yaxis19": {
         "anchor": "x19",
         "domain": [
          0.28857142857142853,
          0.4228571428571428
         ],
         "linecolor": "black",
         "linewidth": 1.5,
         "range": [
          2,
          5
         ],
         "showgrid": false,
         "showline": true,
         "tickcolor": "black",
         "ticklen": 10,
         "ticks": "outside",
         "tickwidth": 1.5,
         "title": {},
         "type": "log"
        },
        "yaxis2": {
         "anchor": "x2",
         "domain": [
          0.8657142857142854,
          0.9999999999999997
         ],
         "linecolor": "black",
         "linewidth": 1.5,
         "range": [
          0,
          1
         ],
         "showgrid": false,
         "showline": true,
         "tickcolor": "black",
         "ticklen": 10,
         "ticks": "outside",
         "tickwidth": 1.5,
         "title": {}
        },
        "yaxis20": {
         "anchor": "x20",
         "domain": [
          0.28857142857142853,
          0.4228571428571428
         ],
         "linecolor": "black",
         "linewidth": 1.5,
         "range": [
          0,
          1
         ],
         "showgrid": false,
         "showline": true,
         "tickcolor": "black",
         "ticklen": 10,
         "ticks": "outside",
         "tickwidth": 1.5,
         "title": {}
        },
        "yaxis21": {
         "anchor": "x21",
         "domain": [
          0.14428571428571427,
          0.2785714285714285
         ],
         "linecolor": "black",
         "linewidth": 1.5,
         "range": [
          0,
          1
         ],
         "showgrid": false,
         "showline": true,
         "tickcolor": "black",
         "ticklen": 10,
         "ticks": "outside",
         "tickwidth": 1.5,
         "title": {}
        },
        "yaxis22": {
         "anchor": "x22",
         "domain": [
          0.14428571428571427,
          0.2785714285714285
         ],
         "linecolor": "black",
         "linewidth": 1.5,
         "range": [
          0,
          1
         ],
         "showgrid": false,
         "showline": true,
         "tickcolor": "black",
         "ticklen": 10,
         "ticks": "outside",
         "tickwidth": 1.5,
         "title": {}
        },
        "yaxis23": {
         "anchor": "x23",
         "domain": [
          0.14428571428571427,
          0.2785714285714285
         ],
         "linecolor": "black",
         "linewidth": 1.5,
         "range": [
          2,
          5
         ],
         "showgrid": false,
         "showline": true,
         "tickcolor": "black",
         "ticklen": 10,
         "ticks": "outside",
         "tickwidth": 1.5,
         "title": {},
         "type": "log"
        },
        "yaxis24": {
         "anchor": "x24",
         "domain": [
          0.14428571428571427,
          0.2785714285714285
         ],
         "linecolor": "black",
         "linewidth": 1.5,
         "range": [
          0,
          1
         ],
         "showgrid": false,
         "showline": true,
         "tickcolor": "black",
         "ticklen": 10,
         "ticks": "outside",
         "tickwidth": 1.5,
         "title": {}
        },
        "yaxis25": {
         "anchor": "x25",
         "domain": [
          0,
          0.13428571428571426
         ],
         "linecolor": "black",
         "linewidth": 1.5,
         "range": [
          0,
          1
         ],
         "showgrid": false,
         "showline": true,
         "tickcolor": "black",
         "ticklen": 10,
         "ticks": "outside",
         "tickwidth": 1.5,
         "title": {}
        },
        "yaxis26": {
         "anchor": "x26",
         "domain": [
          0,
          0.13428571428571426
         ],
         "linecolor": "black",
         "linewidth": 1.5,
         "range": [
          0,
          1
         ],
         "showgrid": false,
         "showline": true,
         "tickcolor": "black",
         "ticklen": 10,
         "ticks": "outside",
         "tickwidth": 1.5,
         "title": {}
        },
        "yaxis27": {
         "anchor": "x27",
         "domain": [
          0,
          0.13428571428571426
         ],
         "linecolor": "black",
         "linewidth": 1.5,
         "range": [
          2,
          5
         ],
         "showgrid": false,
         "showline": true,
         "tickcolor": "black",
         "ticklen": 10,
         "ticks": "outside",
         "tickwidth": 1.5,
         "title": {},
         "type": "log"
        },
        "yaxis28": {
         "anchor": "x28",
         "domain": [
          0,
          0.13428571428571426
         ],
         "linecolor": "black",
         "linewidth": 1.5,
         "range": [
          0,
          1
         ],
         "showgrid": false,
         "showline": true,
         "tickcolor": "black",
         "ticklen": 10,
         "ticks": "outside",
         "tickwidth": 1.5,
         "title": {}
        },
        "yaxis3": {
         "anchor": "x3",
         "domain": [
          0.8657142857142854,
          0.9999999999999997
         ],
         "linecolor": "black",
         "linewidth": 1.5,
         "range": [
          2,
          5
         ],
         "showgrid": false,
         "showline": true,
         "tickcolor": "black",
         "ticklen": 10,
         "ticks": "outside",
         "tickwidth": 1.5,
         "title": {},
         "type": "log"
        },
        "yaxis4": {
         "anchor": "x4",
         "domain": [
          0.8657142857142854,
          0.9999999999999997
         ],
         "linecolor": "black",
         "linewidth": 1.5,
         "range": [
          0,
          1
         ],
         "showgrid": false,
         "showline": true,
         "tickcolor": "black",
         "ticklen": 10,
         "ticks": "outside",
         "tickwidth": 1.5,
         "title": {}
        },
        "yaxis5": {
         "anchor": "x5",
         "domain": [
          0.7214285714285713,
          0.8557142857142855
         ],
         "linecolor": "black",
         "linewidth": 1.5,
         "range": [
          0,
          1
         ],
         "showgrid": false,
         "showline": true,
         "tickcolor": "black",
         "ticklen": 10,
         "ticks": "outside",
         "tickwidth": 1.5,
         "title": {}
        },
        "yaxis6": {
         "anchor": "x6",
         "domain": [
          0.7214285714285713,
          0.8557142857142855
         ],
         "linecolor": "black",
         "linewidth": 1.5,
         "range": [
          0,
          1
         ],
         "showgrid": false,
         "showline": true,
         "tickcolor": "black",
         "ticklen": 10,
         "ticks": "outside",
         "tickwidth": 1.5,
         "title": {}
        },
        "yaxis7": {
         "anchor": "x7",
         "domain": [
          0.7214285714285713,
          0.8557142857142855
         ],
         "linecolor": "black",
         "linewidth": 1.5,
         "range": [
          2,
          5
         ],
         "showgrid": false,
         "showline": true,
         "tickcolor": "black",
         "ticklen": 10,
         "ticks": "outside",
         "tickwidth": 1.5,
         "title": {},
         "type": "log"
        },
        "yaxis8": {
         "anchor": "x8",
         "domain": [
          0.7214285714285713,
          0.8557142857142855
         ],
         "linecolor": "black",
         "linewidth": 1.5,
         "range": [
          0,
          1
         ],
         "showgrid": false,
         "showline": true,
         "tickcolor": "black",
         "ticklen": 10,
         "ticks": "outside",
         "tickwidth": 1.5,
         "title": {}
        },
        "yaxis9": {
         "anchor": "x9",
         "domain": [
          0.5771428571428571,
          0.7114285714285713
         ],
         "linecolor": "black",
         "linewidth": 1.5,
         "range": [
          0,
          1
         ],
         "showgrid": false,
         "showline": true,
         "tickcolor": "black",
         "ticklen": 10,
         "ticks": "outside",
         "tickwidth": 1.5,
         "title": {}
        }
       }
      },
      "text/html": [
       "<div>                            <div id=\"9261e576-e5dd-4f43-8aee-96fd68df91c2\" class=\"plotly-graph-div\" style=\"height:2000px; width:1800px;\"></div>            <script type=\"text/javascript\">                require([\"plotly\"], function(Plotly) {                    window.PLOTLYENV=window.PLOTLYENV || {};                                    if (document.getElementById(\"9261e576-e5dd-4f43-8aee-96fd68df91c2\")) {                    Plotly.newPlot(                        \"9261e576-e5dd-4f43-8aee-96fd68df91c2\",                        [{\"marker\": {\"color\": \"red\", \"line\": {\"color\": \"black\", \"width\": 1}}, \"name\": \"trfermikit\", \"showlegend\": true, \"type\": \"bar\", \"x\": [\"100-125\", \"125-150\", \"150-200\", \"200-300\", \"300-500\", \"500-1500\", \"1500-99500\"], \"xaxis\": \"x\", \"y\": [0.7876712328767124, 0.759493670886076, 0.5727002967359051, 0.3907407407407407, 0.32922318125770655, 0.19763058696822833, 0.13247863247863248], \"yaxis\": \"y\"}, {\"marker\": {\"color\": \"blue\", \"line\": {\"color\": \"black\", \"width\": 1}}, \"name\": \"manta\", \"showlegend\": true, \"type\": \"bar\", \"x\": [\"100-125\", \"125-150\", \"150-200\", \"200-300\", \"300-500\", \"500-1500\", \"1500-99500\"], \"xaxis\": \"x\", \"y\": [0.8493150684931506, 0.8291139240506329, 0.5341246290801187, 0.29074074074074074, 0.2120838471023428, 0.1470113085621971, 0.10398860398860399], \"yaxis\": \"y\"}, {\"marker\": {\"color\": \"yellow\", \"line\": {\"color\": \"black\", \"width\": 1}}, \"name\": \"trfermikit + manta\", \"showlegend\": true, \"type\": \"bar\", \"x\": [\"100-125\", \"125-150\", \"150-200\", \"200-300\", \"300-500\", \"500-1500\", \"1500-99500\"], \"xaxis\": \"x\", \"y\": [0.9315068493150684, 0.9556962025316456, 0.7329376854599406, 0.5055555555555555, 0.42909987669543775, 0.2832525578890684, 0.2094017094017094], \"yaxis\": \"y\"}, {\"marker\": {\"color\": \"red\", \"line\": {\"color\": \"black\", \"width\": 1}}, \"name\": \"trfermikit\", \"showlegend\": false, \"type\": \"bar\", \"x\": [\"100-125\", \"125-150\", \"150-200\", \"200-300\", \"300-500\", \"500-1500\", \"1500-99500\"], \"xaxis\": \"x2\", \"y\": [0.12878787878787878, 0.1836734693877551, 0.1991701244813278, 0.340625, 0.45841784989858014, 0.5949227373068433, 0.6782006920415224], \"yaxis\": \"y2\"}, {\"marker\": {\"color\": \"blue\", \"line\": {\"color\": \"black\", \"width\": 1}}, \"name\": \"manta\", \"showlegend\": false, \"type\": \"bar\", \"x\": [\"100-125\", \"125-150\", \"150-200\", \"200-300\", \"300-500\", \"500-1500\", \"1500-99500\"], \"xaxis\": \"x2\", \"y\": [0.14482758620689656, 0.19135802469135801, 0.2, 0.3458333333333333, 0.5071633237822349, 0.636968085106383, 0.7420494699646644], \"yaxis\": \"y2\"}, {\"marker\": {\"color\": \"yellow\", \"line\": {\"color\": \"black\", \"width\": 1}}, \"name\": \"trfermikit + manta\", \"showlegend\": false, \"type\": \"bar\", \"x\": [\"100-125\", \"125-150\", \"150-200\", \"200-300\", \"300-500\", \"500-1500\", \"1500-99500\"], \"xaxis\": \"x2\", \"y\": [0.1656441717791411, 0.20526315789473684, 0.24, 0.3795454545454545, 0.5153203342618384, 0.6472166331321261, 0.724202626641651], \"yaxis\": \"y2\"}, {\"marker\": {\"color\": \"grey\", \"line\": {\"color\": \"black\", \"width\": 1}}, \"name\": \"VNTRs\", \"showlegend\": true, \"type\": \"bar\", \"x\": [\"100-125\", \"125-150\", \"150-200\", \"200-300\", \"300-500\", \"500-1500\", \"1500-99500\"], \"xaxis\": \"x3\", \"y\": [10892, 8687, 12600, 17682, 14923, 20211, 1912], \"yaxis\": \"y3\"}, {\"marker\": {\"color\": \"cyan\", \"line\": {\"color\": \"black\", \"width\": 1}}, \"name\": \"real events\", \"showlegend\": true, \"type\": \"bar\", \"x\": [\"100-125\", \"125-150\", \"150-200\", \"200-300\", \"300-500\", \"500-1500\", \"1500-99500\"], \"xaxis\": \"x3\", \"y\": [146, 158, 337, 540, 811, 1857, 702], \"yaxis\": \"y3\"}, {\"marker\": {\"color\": \"magenta\", \"line\": {\"color\": \"black\", \"width\": 1}}, \"name\": \"trfermikit calls\", \"showlegend\": true, \"type\": \"bar\", \"x\": [\"100-125\", \"125-150\", \"150-200\", \"200-300\", \"300-500\", \"500-1500\", \"1500-99500\"], \"xaxis\": \"x3\", \"y\": [132, 147, 241, 320, 493, 906, 289], \"yaxis\": \"y3\"}, {\"marker\": {\"color\": \"black\", \"line\": {\"color\": \"black\", \"width\": 1}}, \"showlegend\": false, \"type\": \"bar\", \"x\": [\"100-125\", \"125-150\", \"150-200\", \"200-300\", \"300-500\", \"500-1500\", \"1500-99500\"], \"xaxis\": \"x4\", \"y\": [0.18181818181818182, 0.4074074074074074, 0.3503184713375796, 0.24804177545691905, 0.2535211267605634, 0.1294191919191919, 0.10492845786963434], \"yaxis\": \"y4\"}, {\"marker\": {\"color\": \"red\", \"line\": {\"color\": \"black\", \"width\": 1}}, \"name\": \"trfermikit\", \"showlegend\": false, \"type\": \"bar\", \"x\": [\"100-125\", \"125-150\", \"150-200\", \"200-300\", \"300-500\", \"500-1500\", \"1500-99500\"], \"xaxis\": \"x5\", \"y\": [0.7123287671232876, 0.7086092715231788, 0.5767195767195767, 0.4177215189873418, 0.29850746268656714, 0.18272425249169436, 0.11955168119551682], \"yaxis\": \"y5\"}, {\"marker\": {\"color\": \"blue\", \"line\": {\"color\": \"black\", \"width\": 1}}, \"name\": \"manta\", \"showlegend\": false, \"type\": \"bar\", \"x\": [\"100-125\", \"125-150\", \"150-200\", \"200-300\", \"300-500\", \"500-1500\", \"1500-99500\"], \"xaxis\": \"x5\", \"y\": [0.8013698630136986, 0.7152317880794702, 0.4708994708994709, 0.27124773960216997, 0.20436280137772675, 0.13763644992880875, 0.11457036114570361], \"yaxis\": \"y5\"}, {\"marker\": {\"color\": \"yellow\", \"line\": {\"color\": \"black\", \"width\": 1}}, \"name\": \"trfermikit + manta\", \"showlegend\": false, \"type\": \"bar\", \"x\": [\"100-125\", \"125-150\", \"150-200\", \"200-300\", \"300-500\", \"500-1500\", \"1500-99500\"], \"xaxis\": \"x5\", \"y\": [0.8767123287671232, 0.8278145695364238, 0.7301587301587301, 0.5334538878842676, 0.3983926521239954, 0.2653061224489796, 0.18929016189290163], \"yaxis\": \"y5\"}, {\"marker\": {\"color\": \"red\", \"line\": {\"color\": \"black\", \"width\": 1}}, \"name\": \"trfermikit\", \"showlegend\": false, \"type\": \"bar\", \"x\": [\"100-125\", \"125-150\", \"150-200\", \"200-300\", \"300-500\", \"500-1500\", \"1500-99500\"], \"xaxis\": \"x6\", \"y\": [0.11864406779661017, 0.24647887323943662, 0.1865671641791045, 0.36363636363636365, 0.49416342412451364, 0.5921610169491526, 0.7391304347826086], \"yaxis\": \"y6\"}, {\"marker\": {\"color\": \"blue\", \"line\": {\"color\": \"black\", \"width\": 1}}, \"name\": \"manta\", \"showlegend\": false, \"type\": \"bar\", \"x\": [\"100-125\", \"125-150\", \"150-200\", \"200-300\", \"300-500\", \"500-1500\", \"1500-99500\"], \"xaxis\": \"x6\", \"y\": [0.13970588235294118, 0.22857142857142856, 0.23931623931623933, 0.358974358974359, 0.48405797101449277, 0.6551724137931034, 0.7294117647058823], \"yaxis\": \"y6\"}, {\"marker\": {\"color\": \"yellow\", \"line\": {\"color\": \"black\", \"width\": 1}}, \"name\": \"trfermikit + manta\", \"showlegend\": false, \"type\": \"bar\", \"x\": [\"100-125\", \"125-150\", \"150-200\", \"200-300\", \"300-500\", \"500-1500\", \"1500-99500\"], \"xaxis\": \"x6\", \"y\": [0.16339869281045752, 0.2897727272727273, 0.24175824175824176, 0.39300411522633744, 0.530446549391069, 0.6514962593516209, 0.7636080870917574], \"yaxis\": \"y6\"}, {\"marker\": {\"color\": \"grey\", \"line\": {\"color\": \"black\", \"width\": 1}}, \"name\": \"VNTRs\", \"showlegend\": false, \"type\": \"bar\", \"x\": [\"100-125\", \"125-150\", \"150-200\", \"200-300\", \"300-500\", \"500-1500\", \"1500-99500\"], \"xaxis\": \"x7\", \"y\": [11100, 8871, 12957, 18181, 15418, 21066, 2031], \"yaxis\": \"y7\"}, {\"marker\": {\"color\": \"cyan\", \"line\": {\"color\": \"black\", \"width\": 1}}, \"name\": \"real events\", \"showlegend\": false, \"type\": \"bar\", \"x\": [\"100-125\", \"125-150\", \"150-200\", \"200-300\", \"300-500\", \"500-1500\", \"1500-99500\"], \"xaxis\": \"x7\", \"y\": [146, 151, 378, 553, 871, 2107, 803], \"yaxis\": \"y7\"}, {\"marker\": {\"color\": \"magenta\", \"line\": {\"color\": \"black\", \"width\": 1}}, \"name\": \"trfermikit calls\", \"showlegend\": false, \"type\": \"bar\", \"x\": [\"100-125\", \"125-150\", \"150-200\", \"200-300\", \"300-500\", \"500-1500\", \"1500-99500\"], \"xaxis\": \"x7\", \"y\": [118, 142, 268, 363, 514, 944, 368], \"yaxis\": \"y7\"}, {\"marker\": {\"color\": \"black\", \"line\": {\"color\": \"black\", \"width\": 1}}, \"showlegend\": false, \"type\": \"bar\", \"x\": [\"100-125\", \"125-150\", \"150-200\", \"200-300\", \"300-500\", \"500-1500\", \"1500-99500\"], \"xaxis\": \"x8\", \"y\": [0.2413793103448276, 0.27906976744186046, 0.38, 0.3027295285359802, 0.21212121212121213, 0.12383048981838195, 0.07313642756680731], \"yaxis\": \"y8\"}, {\"marker\": {\"color\": \"red\", \"line\": {\"color\": \"black\", \"width\": 1}}, \"name\": \"trfermikit\", \"showlegend\": false, \"type\": \"bar\", \"x\": [\"100-125\", \"125-150\", \"150-200\", \"200-300\", \"300-500\", \"500-1500\", \"1500-99500\"], \"xaxis\": \"x9\", \"y\": [0.7979274611398963, 0.6927083333333334, 0.5743707093821511, 0.40242057488653554, 0.2755598831548199, 0.19041666666666668, 0.14121699196326062], \"yaxis\": \"y9\"}, {\"marker\": {\"color\": \"blue\", \"line\": {\"color\": \"black\", \"width\": 1}}, \"name\": \"manta\", \"showlegend\": false, \"type\": \"bar\", \"x\": [\"100-125\", \"125-150\", \"150-200\", \"200-300\", \"300-500\", \"500-1500\", \"1500-99500\"], \"xaxis\": \"x9\", \"y\": [0.8393782383419689, 0.734375, 0.5537757437070938, 0.27382753403933435, 0.21518987341772153, 0.15791666666666668, 0.11940298507462686], \"yaxis\": \"y9\"}, {\"marker\": {\"color\": \"yellow\", \"line\": {\"color\": \"black\", \"width\": 1}}, \"name\": \"trfermikit + manta\", \"showlegend\": false, \"type\": \"bar\", \"x\": [\"100-125\", \"125-150\", \"150-200\", \"200-300\", \"300-500\", \"500-1500\", \"1500-99500\"], \"xaxis\": \"x9\", \"y\": [0.9430051813471503, 0.859375, 0.7574370709382151, 0.5264750378214826, 0.38266796494644595, 0.29375, 0.21814006888633755], \"yaxis\": \"y9\"}, {\"marker\": {\"color\": \"red\", \"line\": {\"color\": \"black\", \"width\": 1}}, \"name\": \"trfermikit\", \"showlegend\": false, \"type\": \"bar\", \"x\": [\"100-125\", \"125-150\", \"150-200\", \"200-300\", \"300-500\", \"500-1500\", \"1500-99500\"], \"xaxis\": \"x10\", \"y\": [0.17647058823529413, 0.17391304347826086, 0.18770226537216828, 0.3696682464454976, 0.5043782837127846, 0.5822669104204753, 0.6788511749347258], \"yaxis\": \"y10\"}, {\"marker\": {\"color\": \"blue\", \"line\": {\"color\": \"black\", \"width\": 1}}, \"name\": \"manta\", \"showlegend\": false, \"type\": \"bar\", \"x\": [\"100-125\", \"125-150\", \"150-200\", \"200-300\", \"300-500\", \"500-1500\", \"1500-99500\"], \"xaxis\": \"x10\", \"y\": [0.13829787234042554, 0.19886363636363635, 0.19601328903654486, 0.39666666666666667, 0.49772727272727274, 0.6464552238805971, 0.6858006042296072], \"yaxis\": \"y10\"}, {\"marker\": {\"color\": \"yellow\", \"line\": {\"color\": \"black\", \"width\": 1}}, \"name\": \"trfermikit + manta\", \"showlegend\": false, \"type\": \"bar\", \"x\": [\"100-125\", \"125-150\", \"150-200\", \"200-300\", \"300-500\", \"500-1500\", \"1500-99500\"], \"xaxis\": \"x10\", \"y\": [0.1875, 0.22535211267605634, 0.22843822843822845, 0.4101694915254237, 0.5424912689173458, 0.6403061224489796, 0.7125567322239031], \"yaxis\": \"y10\"}, {\"marker\": {\"color\": \"grey\", \"line\": {\"color\": \"black\", \"width\": 1}}, \"name\": \"VNTRs\", \"showlegend\": false, \"type\": \"bar\", \"x\": [\"100-125\", \"125-150\", \"150-200\", \"200-300\", \"300-500\", \"500-1500\", \"1500-99500\"], \"xaxis\": \"x11\", \"y\": [11137, 8905, 12970, 18215, 15438, 21084, 1981], \"yaxis\": \"y11\"}, {\"marker\": {\"color\": \"cyan\", \"line\": {\"color\": \"black\", \"width\": 1}}, \"name\": \"real events\", \"showlegend\": false, \"type\": \"bar\", \"x\": [\"100-125\", \"125-150\", \"150-200\", \"200-300\", \"300-500\", \"500-1500\", \"1500-99500\"], \"xaxis\": \"x11\", \"y\": [193, 192, 437, 661, 1027, 2400, 871], \"yaxis\": \"y11\"}, {\"marker\": {\"color\": \"magenta\", \"line\": {\"color\": \"black\", \"width\": 1}}, \"name\": \"trfermikit calls\", \"showlegend\": false, \"type\": \"bar\", \"x\": [\"100-125\", \"125-150\", \"150-200\", \"200-300\", \"300-500\", \"500-1500\", \"1500-99500\"], \"xaxis\": \"x11\", \"y\": [187, 161, 309, 422, 571, 1094, 383], \"yaxis\": \"y11\"}, {\"marker\": {\"color\": \"black\", \"line\": {\"color\": \"black\", \"width\": 1}}, \"showlegend\": false, \"type\": \"bar\", \"x\": [\"100-125\", \"125-150\", \"150-200\", \"200-300\", \"300-500\", \"500-1500\", \"1500-99500\"], \"xaxis\": \"x12\", \"y\": [0.3225806451612903, 0.2549019607843137, 0.31794871794871793, 0.28958333333333336, 0.18858560794044665, 0.13310242454230578, 0.09517601043024772], \"yaxis\": \"y12\"}, {\"marker\": {\"color\": \"red\", \"line\": {\"color\": \"black\", \"width\": 1}}, \"name\": \"trfermikit\", \"showlegend\": false, \"type\": \"bar\", \"x\": [\"100-125\", \"125-150\", \"150-200\", \"200-300\", \"300-500\", \"500-1500\", \"1500-99500\"], \"xaxis\": \"x13\", \"y\": [0.8109756097560976, 0.7921348314606742, 0.6730769230769231, 0.5257731958762887, 0.44730941704035876, 0.26174496644295303, 0.12989921612541994], \"yaxis\": \"y13\"}, {\"marker\": {\"color\": \"blue\", \"line\": {\"color\": \"black\", \"width\": 1}}, \"name\": \"manta\", \"showlegend\": false, \"type\": \"bar\", \"x\": [\"100-125\", \"125-150\", \"150-200\", \"200-300\", \"300-500\", \"500-1500\", \"1500-99500\"], \"xaxis\": \"x13\", \"y\": [0.8109756097560976, 0.7584269662921348, 0.554945054945055, 0.31958762886597936, 0.24551569506726456, 0.17170022371364654, 0.09518477043673013], \"yaxis\": \"y13\"}, {\"marker\": {\"color\": \"yellow\", \"line\": {\"color\": \"black\", \"width\": 1}}, \"name\": \"trfermikit + manta\", \"showlegend\": false, \"type\": \"bar\", \"x\": [\"100-125\", \"125-150\", \"150-200\", \"200-300\", \"300-500\", \"500-1500\", \"1500-99500\"], \"xaxis\": \"x13\", \"y\": [0.9146341463414634, 0.898876404494382, 0.7857142857142857, 0.6408934707903781, 0.5560538116591929, 0.3640939597315436, 0.19260918253079506], \"yaxis\": \"y13\"}, {\"marker\": {\"color\": \"red\", \"line\": {\"color\": \"black\", \"width\": 1}}, \"name\": \"trfermikit\", \"showlegend\": false, \"type\": \"bar\", \"x\": [\"100-125\", \"125-150\", \"150-200\", \"200-300\", \"300-500\", \"500-1500\", \"1500-99500\"], \"xaxis\": \"x14\", \"y\": [0.08275862068965517, 0.06, 0.14335664335664336, 0.25, 0.3646496815286624, 0.5521531100478468, 0.6685714285714286], \"yaxis\": \"y14\"}, {\"marker\": {\"color\": \"blue\", \"line\": {\"color\": \"black\", \"width\": 1}}, \"name\": \"manta\", \"showlegend\": false, \"type\": \"bar\", \"x\": [\"100-125\", \"125-150\", \"150-200\", \"200-300\", \"300-500\", \"500-1500\", \"1500-99500\"], \"xaxis\": \"x14\", \"y\": [0.08275862068965517, 0.09395973154362416, 0.22900763358778625, 0.211864406779661, 0.39502762430939226, 0.5771349862258953, 0.6443514644351465], \"yaxis\": \"y14\"}, {\"marker\": {\"color\": \"yellow\", \"line\": {\"color\": \"black\", \"width\": 1}}, \"name\": \"trfermikit + manta\", \"showlegend\": false, \"type\": \"bar\", \"x\": [\"100-125\", \"125-150\", \"150-200\", \"200-300\", \"300-500\", \"500-1500\", \"1500-99500\"], \"xaxis\": \"x14\", \"y\": [0.10714285714285714, 0.096045197740113, 0.22282608695652173, 0.2628458498023715, 0.4088200238379023, 0.5951492537313433, 0.6844036697247706], \"yaxis\": \"y14\"}, {\"marker\": {\"color\": \"grey\", \"line\": {\"color\": \"black\", \"width\": 1}}, \"name\": \"VNTRs\", \"showlegend\": false, \"type\": \"bar\", \"x\": [\"100-125\", \"125-150\", \"150-200\", \"200-300\", \"300-500\", \"500-1500\", \"1500-99500\"], \"xaxis\": \"x15\", \"y\": [11052, 8843, 12974, 18196, 15464, 20910, 1689], \"yaxis\": \"y15\"}, {\"marker\": {\"color\": \"cyan\", \"line\": {\"color\": \"black\", \"width\": 1}}, \"name\": \"real events\", \"showlegend\": false, \"type\": \"bar\", \"x\": [\"100-125\", \"125-150\", \"150-200\", \"200-300\", \"300-500\", \"500-1500\", \"1500-99500\"], \"xaxis\": \"x15\", \"y\": [164, 178, 364, 582, 892, 1788, 893], \"yaxis\": \"y15\"}, {\"marker\": {\"color\": \"magenta\", \"line\": {\"color\": \"black\", \"width\": 1}}, \"name\": \"trfermikit calls\", \"showlegend\": false, \"type\": \"bar\", \"x\": [\"100-125\", \"125-150\", \"150-200\", \"200-300\", \"300-500\", \"500-1500\", \"1500-99500\"], \"xaxis\": \"x15\", \"y\": [145, 150, 286, 408, 628, 1045, 350], \"yaxis\": \"y15\"}, {\"marker\": {\"color\": \"black\", \"line\": {\"color\": \"black\", \"width\": 1}}, \"showlegend\": false, \"type\": \"bar\", \"x\": [\"100-125\", \"125-150\", \"150-200\", \"200-300\", \"300-500\", \"500-1500\", \"1500-99500\"], \"xaxis\": \"x16\", \"y\": [0.2903225806451613, 0.32558139534883723, 0.43209876543209874, 0.38636363636363635, 0.35066864784546803, 0.20459149223497636, 0.10396039603960396], \"yaxis\": \"y16\"}, {\"marker\": {\"color\": \"red\", \"line\": {\"color\": \"black\", \"width\": 1}}, \"name\": \"trfermikit\", \"showlegend\": false, \"type\": \"bar\", \"x\": [\"100-125\", \"125-150\", \"150-200\", \"200-300\", \"300-500\", \"500-1500\", \"1500-99500\"], \"xaxis\": \"x17\", \"y\": [0.8325123152709359, 0.7562189054726368, 0.6709677419354839, 0.5730027548209367, 0.4158043273753528, 0.28627280625543006, 0.16732673267326734], \"yaxis\": \"y17\"}, {\"marker\": {\"color\": \"blue\", \"line\": {\"color\": \"black\", \"width\": 1}}, \"name\": \"manta\", \"showlegend\": false, \"type\": \"bar\", \"x\": [\"100-125\", \"125-150\", \"150-200\", \"200-300\", \"300-500\", \"500-1500\", \"1500-99500\"], \"xaxis\": \"x17\", \"y\": [0.8226600985221675, 0.8059701492537313, 0.610752688172043, 0.33608815426997246, 0.25117591721542804, 0.182884448305821, 0.1306930693069307], \"yaxis\": \"y17\"}, {\"marker\": {\"color\": \"yellow\", \"line\": {\"color\": \"black\", \"width\": 1}}, \"name\": \"trfermikit + manta\", \"showlegend\": false, \"type\": \"bar\", \"x\": [\"100-125\", \"125-150\", \"150-200\", \"200-300\", \"300-500\", \"500-1500\", \"1500-99500\"], \"xaxis\": \"x17\", \"y\": [0.9310344827586207, 0.9353233830845771, 0.8279569892473119, 0.6955922865013774, 0.5258701787394168, 0.3896611642050391, 0.25742574257425743], \"yaxis\": \"y17\"}, {\"marker\": {\"color\": \"red\", \"line\": {\"color\": \"black\", \"width\": 1}}, \"name\": \"trfermikit\", \"showlegend\": false, \"type\": \"bar\", \"x\": [\"100-125\", \"125-150\", \"150-200\", \"200-300\", \"300-500\", \"500-1500\", \"1500-99500\"], \"xaxis\": \"x18\", \"y\": [0.0962566844919786, 0.08433734939759036, 0.15217391304347827, 0.24773960216998192, 0.40350877192982454, 0.5352609308885754, 0.631004366812227], \"yaxis\": \"y18\"}, {\"marker\": {\"color\": \"blue\", \"line\": {\"color\": \"black\", \"width\": 1}}, \"name\": \"manta\", \"showlegend\": false, \"type\": \"bar\", \"x\": [\"100-125\", \"125-150\", \"150-200\", \"200-300\", \"300-500\", \"500-1500\", \"1500-99500\"], \"xaxis\": \"x18\", \"y\": [0.05649717514124294, 0.10989010989010989, 0.20224719101123595, 0.29069767441860467, 0.46060606060606063, 0.6065420560747663, 0.6323119777158774], \"yaxis\": \"y18\"}, {\"marker\": {\"color\": \"yellow\", \"line\": {\"color\": \"black\", \"width\": 1}}, \"name\": \"trfermikit + manta\", \"showlegend\": false, \"type\": \"bar\", \"x\": [\"100-125\", \"125-150\", \"150-200\", \"200-300\", \"300-500\", \"500-1500\", \"1500-99500\"], \"xaxis\": \"x18\", \"y\": [0.10426540284360189, 0.12962962962962962, 0.20454545454545456, 0.2927170868347339, 0.46609360076408785, 0.5957638575935106, 0.6583442838370565], \"yaxis\": \"y18\"}, {\"marker\": {\"color\": \"grey\", \"line\": {\"color\": \"black\", \"width\": 1}}, \"name\": \"VNTRs\", \"showlegend\": false, \"type\": \"bar\", \"x\": [\"100-125\", \"125-150\", \"150-200\", \"200-300\", \"300-500\", \"500-1500\", \"1500-99500\"], \"xaxis\": \"x19\", \"y\": [11120, 8884, 13022, 18322, 15540, 21073, 1742], \"yaxis\": \"y19\"}, {\"marker\": {\"color\": \"cyan\", \"line\": {\"color\": \"black\", \"width\": 1}}, \"name\": \"real events\", \"showlegend\": false, \"type\": \"bar\", \"x\": [\"100-125\", \"125-150\", \"150-200\", \"200-300\", \"300-500\", \"500-1500\", \"1500-99500\"], \"xaxis\": \"x19\", \"y\": [203, 201, 465, 726, 1063, 2302, 1010], \"yaxis\": \"y19\"}, {\"marker\": {\"color\": \"magenta\", \"line\": {\"color\": \"black\", \"width\": 1}}, \"name\": \"trfermikit calls\", \"showlegend\": false, \"type\": \"bar\", \"x\": [\"100-125\", \"125-150\", \"150-200\", \"200-300\", \"300-500\", \"500-1500\", \"1500-99500\"], \"xaxis\": \"x19\", \"y\": [187, 166, 368, 553, 741, 1418, 458], \"yaxis\": \"y19\"}, {\"marker\": {\"color\": \"black\", \"line\": {\"color\": \"black\", \"width\": 1}}, \"showlegend\": false, \"type\": \"bar\", \"x\": [\"100-125\", \"125-150\", \"150-200\", \"200-300\", \"300-500\", \"500-1500\", \"1500-99500\"], \"xaxis\": \"x20\", \"y\": [0.3888888888888889, 0.3333333333333333, 0.4143646408839779, 0.470954356846473, 0.3228643216080402, 0.21850079744816586, 0.13097949886104784], \"yaxis\": \"y20\"}, {\"marker\": {\"color\": \"red\", \"line\": {\"color\": \"black\", \"width\": 1}}, \"name\": \"trfermikit\", \"showlegend\": false, \"type\": \"bar\", \"x\": [\"100-125\", \"125-150\", \"150-200\", \"200-300\", \"300-500\", \"500-1500\", \"1500-99500\"], \"xaxis\": \"x21\", \"y\": [0.7939698492462312, 0.7723214285714286, 0.623059866962306, 0.5425383542538355, 0.4059590316573557, 0.2868778280542986, 0.1285024154589372], \"yaxis\": \"y21\"}, {\"marker\": {\"color\": \"blue\", \"line\": {\"color\": \"black\", \"width\": 1}}, \"name\": \"manta\", \"showlegend\": false, \"type\": \"bar\", \"x\": [\"100-125\", \"125-150\", \"150-200\", \"200-300\", \"300-500\", \"500-1500\", \"1500-99500\"], \"xaxis\": \"x21\", \"y\": [0.8241206030150754, 0.7857142857142857, 0.5631929046563193, 0.36541143654114366, 0.26256983240223464, 0.18144796380090497, 0.10338164251207729], \"yaxis\": \"y21\"}, {\"marker\": {\"color\": \"yellow\", \"line\": {\"color\": \"black\", \"width\": 1}}, \"name\": \"trfermikit + manta\", \"showlegend\": false, \"type\": \"bar\", \"x\": [\"100-125\", \"125-150\", \"150-200\", \"200-300\", \"300-500\", \"500-1500\", \"1500-99500\"], \"xaxis\": \"x21\", \"y\": [0.8894472361809045, 0.9151785714285714, 0.7782705099778271, 0.6806136680613668, 0.5260707635009311, 0.39547511312217193, 0.2], \"yaxis\": \"y21\"}, {\"marker\": {\"color\": \"red\", \"line\": {\"color\": \"black\", \"width\": 1}}, \"name\": \"trfermikit\", \"showlegend\": false, \"type\": \"bar\", \"x\": [\"100-125\", \"125-150\", \"150-200\", \"200-300\", \"300-500\", \"500-1500\", \"1500-99500\"], \"xaxis\": \"x22\", \"y\": [0.07602339181286549, 0.08465608465608465, 0.17352941176470588, 0.2782931354359926, 0.4051841746248295, 0.5351906158357771, 0.6771844660194175], \"yaxis\": \"y22\"}, {\"marker\": {\"color\": \"blue\", \"line\": {\"color\": \"black\", \"width\": 1}}, \"name\": \"manta\", \"showlegend\": false, \"type\": \"bar\", \"x\": [\"100-125\", \"125-150\", \"150-200\", \"200-300\", \"300-500\", \"500-1500\", \"1500-99500\"], \"xaxis\": \"x22\", \"y\": [0.08379888268156424, 0.08808290155440414, 0.18849840255591055, 0.2640449438202247, 0.44047619047619047, 0.5973895582329317, 0.6219081272084805], \"yaxis\": \"y22\"}, {\"marker\": {\"color\": \"yellow\", \"line\": {\"color\": \"black\", \"width\": 1}}, \"name\": \"trfermikit + manta\", \"showlegend\": false, \"type\": \"bar\", \"x\": [\"100-125\", \"125-150\", \"150-200\", \"200-300\", \"300-500\", \"500-1500\", \"1500-99500\"], \"xaxis\": \"x22\", \"y\": [0.10606060606060606, 0.12017167381974249, 0.2076749435665914, 0.2998565279770445, 0.46241674595623217, 0.5906323185011709, 0.676056338028169], \"yaxis\": \"y22\"}, {\"marker\": {\"color\": \"grey\", \"line\": {\"color\": \"black\", \"width\": 1}}, \"name\": \"VNTRs\", \"showlegend\": false, \"type\": \"bar\", \"x\": [\"100-125\", \"125-150\", \"150-200\", \"200-300\", \"300-500\", \"500-1500\", \"1500-99500\"], \"xaxis\": \"x23\", \"y\": [11096, 8894, 13006, 18293, 15501, 20923, 1688], \"yaxis\": \"y23\"}, {\"marker\": {\"color\": \"cyan\", \"line\": {\"color\": \"black\", \"width\": 1}}, \"name\": \"real events\", \"showlegend\": false, \"type\": \"bar\", \"x\": [\"100-125\", \"125-150\", \"150-200\", \"200-300\", \"300-500\", \"500-1500\", \"1500-99500\"], \"xaxis\": \"x23\", \"y\": [199, 224, 451, 717, 1074, 2210, 1035], \"yaxis\": \"y23\"}, {\"marker\": {\"color\": \"magenta\", \"line\": {\"color\": \"black\", \"width\": 1}}, \"name\": \"trfermikit calls\", \"showlegend\": false, \"type\": \"bar\", \"x\": [\"100-125\", \"125-150\", \"150-200\", \"200-300\", \"300-500\", \"500-1500\", \"1500-99500\"], \"xaxis\": \"x23\", \"y\": [171, 189, 340, 539, 733, 1364, 412], \"yaxis\": \"y23\"}, {\"marker\": {\"color\": \"black\", \"line\": {\"color\": \"black\", \"width\": 1}}, \"showlegend\": false, \"type\": \"bar\", \"x\": [\"100-125\", \"125-150\", \"150-200\", \"200-300\", \"300-500\", \"500-1500\", \"1500-99500\"], \"xaxis\": \"x24\", \"y\": [0.22857142857142856, 0.3333333333333333, 0.39086294416243655, 0.42637362637362636, 0.30808080808080807, 0.22388059701492538, 0.09482758620689655], \"yaxis\": \"y24\"}, {\"marker\": {\"color\": \"red\", \"line\": {\"color\": \"black\", \"width\": 1}}, \"name\": \"trfermikit\", \"showlegend\": false, \"type\": \"bar\", \"x\": [\"100-125\", \"125-150\", \"150-200\", \"200-300\", \"300-500\", \"500-1500\", \"1500-99500\"], \"xaxis\": \"x25\", \"y\": [0.8078817733990148, 0.7571428571428571, 0.6724890829694323, 0.5780821917808219, 0.40841121495327104, 0.26304347826086955, 0.1342031686859273], \"yaxis\": \"y25\"}, {\"marker\": {\"color\": \"blue\", \"line\": {\"color\": \"black\", \"width\": 1}}, \"name\": \"manta\", \"showlegend\": false, \"type\": \"bar\", \"x\": [\"100-125\", \"125-150\", \"150-200\", \"200-300\", \"300-500\", \"500-1500\", \"1500-99500\"], \"xaxis\": \"x25\", \"y\": [0.8522167487684729, 0.7714285714285715, 0.5873362445414847, 0.3821917808219178, 0.2411214953271028, 0.1691304347826087, 0.11276794035414725], \"yaxis\": \"y25\"}, {\"marker\": {\"color\": \"yellow\", \"line\": {\"color\": \"black\", \"width\": 1}}, \"name\": \"trfermikit + manta\", \"showlegend\": false, \"type\": \"bar\", \"x\": [\"100-125\", \"125-150\", \"150-200\", \"200-300\", \"300-500\", \"500-1500\", \"1500-99500\"], \"xaxis\": \"x25\", \"y\": [0.9507389162561576, 0.9047619047619048, 0.8122270742358079, 0.7191780821917808, 0.5177570093457944, 0.3526086956521739, 0.21062441752096925], \"yaxis\": \"y25\"}, {\"marker\": {\"color\": \"red\", \"line\": {\"color\": \"black\", \"width\": 1}}, \"name\": \"trfermikit\", \"showlegend\": false, \"type\": \"bar\", \"x\": [\"100-125\", \"125-150\", \"150-200\", \"200-300\", \"300-500\", \"500-1500\", \"1500-99500\"], \"xaxis\": \"x26\", \"y\": [0.06818181818181818, 0.0755813953488372, 0.1323943661971831, 0.25044404973357015, 0.41263440860215056, 0.5277127244340359, 0.645320197044335], \"yaxis\": \"y26\"}, {\"marker\": {\"color\": \"blue\", \"line\": {\"color\": \"black\", \"width\": 1}}, \"name\": \"manta\", \"showlegend\": false, \"type\": \"bar\", \"x\": [\"100-125\", \"125-150\", \"150-200\", \"200-300\", \"300-500\", \"500-1500\", \"1500-99500\"], \"xaxis\": \"x26\", \"y\": [0.0797872340425532, 0.10497237569060773, 0.1897590361445783, 0.2418478260869565, 0.4266666666666667, 0.5993820803295572, 0.6230529595015576], \"yaxis\": \"y26\"}, {\"marker\": {\"color\": \"yellow\", \"line\": {\"color\": \"black\", \"width\": 1}}, \"name\": \"trfermikit + manta\", \"showlegend\": false, \"type\": \"bar\", \"x\": [\"100-125\", \"125-150\", \"150-200\", \"200-300\", \"300-500\", \"500-1500\", \"1500-99500\"], \"xaxis\": \"x26\", \"y\": [0.09389671361502347, 0.12037037037037036, 0.18599562363238512, 0.27385892116182575, 0.45579567779960706, 0.5965174129353233, 0.6616766467065869], \"yaxis\": \"y26\"}, {\"marker\": {\"color\": \"grey\", \"line\": {\"color\": \"black\", \"width\": 1}}, \"name\": \"VNTRs\", \"showlegend\": false, \"type\": \"bar\", \"x\": [\"100-125\", \"125-150\", \"150-200\", \"200-300\", \"300-500\", \"500-1500\", \"1500-99500\"], \"xaxis\": \"x27\", \"y\": [11109, 8898, 13033, 18383, 15597, 21141, 1757], \"yaxis\": \"y27\"}, {\"marker\": {\"color\": \"cyan\", \"line\": {\"color\": \"black\", \"width\": 1}}, \"name\": \"real events\", \"showlegend\": false, \"type\": \"bar\", \"x\": [\"100-125\", \"125-150\", \"150-200\", \"200-300\", \"300-500\", \"500-1500\", \"1500-99500\"], \"xaxis\": \"x27\", \"y\": [203, 210, 458, 730, 1070, 2300, 1073], \"yaxis\": \"y27\"}, {\"marker\": {\"color\": \"magenta\", \"line\": {\"color\": \"black\", \"width\": 1}}, \"name\": \"trfermikit calls\", \"showlegend\": false, \"type\": \"bar\", \"x\": [\"100-125\", \"125-150\", \"150-200\", \"200-300\", \"300-500\", \"500-1500\", \"1500-99500\"], \"xaxis\": \"x27\", \"y\": [176, 172, 355, 563, 744, 1281, 406], \"yaxis\": \"y27\"}, {\"marker\": {\"color\": \"black\", \"line\": {\"color\": \"black\", \"width\": 1}}, \"showlegend\": false, \"type\": \"bar\", \"x\": [\"100-125\", \"125-150\", \"150-200\", \"200-300\", \"300-500\", \"500-1500\", \"1500-99500\"], \"xaxis\": \"x28\", \"y\": [0.3333333333333333, 0.2916666666666667, 0.3915343915343915, 0.44789356984478934, 0.31403940886699505, 0.19047619047619047, 0.09558823529411764], \"yaxis\": \"y28\"}],                        {\"annotations\": [{\"font\": {\"color\": \"black\", \"family\": \"Arial\", \"size\": 26}, \"showarrow\": false, \"text\": \"Recall, TP / #events\", \"x\": 0.10375, \"xanchor\": \"center\", \"xref\": \"paper\", \"y\": 0.9999999999999997, \"yanchor\": \"bottom\", \"yref\": \"paper\"}, {\"font\": {\"color\": \"black\", \"family\": \"Arial\", \"size\": 26}, \"showarrow\": false, \"text\": \"FDR, FP / #calls\", \"x\": 0.36124999999999996, \"xanchor\": \"center\", \"xref\": \"paper\", \"y\": 0.9999999999999997, \"yanchor\": \"bottom\", \"yref\": \"paper\"}, {\"font\": {\"color\": \"black\", \"family\": \"Arial\", \"size\": 26}, \"showarrow\": false, \"text\": \"Count\", \"x\": 0.61875, \"xanchor\": \"center\", \"xref\": \"paper\", \"y\": 0.9999999999999997, \"yanchor\": \"bottom\", \"yref\": \"paper\"}, {\"font\": {\"color\": \"black\", \"family\": \"Arial\", \"size\": 26}, \"showarrow\": false, \"text\": \"fraction of manta FNs <br>recovered by trfermikit\", \"x\": 0.87625, \"xanchor\": \"center\", \"xref\": \"paper\", \"y\": 0.9999999999999997, \"yanchor\": \"bottom\", \"yref\": \"paper\"}, {\"font\": {\"color\": \"black\", \"family\": \"Arial\", \"size\": 26}, \"showarrow\": false, \"text\": \"CHS,HG00514\", \"textangle\": 90, \"x\": 0.98, \"xanchor\": \"left\", \"xref\": \"paper\", \"y\": 0.9328571428571426, \"yanchor\": \"middle\", \"yref\": \"paper\"}, {\"font\": {\"color\": \"black\", \"family\": \"Arial\", \"size\": 26}, \"showarrow\": false, \"text\": \"PUR,HG00733\", \"textangle\": 90, \"x\": 0.98, \"xanchor\": \"left\", \"xref\": \"paper\", \"y\": 0.7885714285714285, \"yanchor\": \"middle\", \"yref\": \"paper\"}, {\"font\": {\"color\": \"black\", \"family\": \"Arial\", \"size\": 26}, \"showarrow\": false, \"text\": \"YRI,NA19240\", \"textangle\": 90, \"x\": 0.98, \"xanchor\": \"left\", \"xref\": \"paper\", \"y\": 0.6442857142857141, \"yanchor\": \"middle\", \"yref\": \"paper\"}, {\"font\": {\"color\": \"black\", \"family\": \"Arial\", \"size\": 26}, \"showarrow\": false, \"text\": \"CEU,NA12878\", \"textangle\": 90, \"x\": 0.98, \"xanchor\": \"left\", \"xref\": \"paper\", \"y\": 0.49999999999999994, \"yanchor\": \"middle\", \"yref\": \"paper\"}, {\"font\": {\"color\": \"black\", \"family\": \"Arial\", \"size\": 26}, \"showarrow\": false, \"text\": \"ESN,HG03125\", \"textangle\": 90, \"x\": 0.98, \"xanchor\": \"left\", \"xref\": \"paper\", \"y\": 0.35571428571428565, \"yanchor\": \"middle\", \"yref\": \"paper\"}, {\"font\": {\"color\": \"black\", \"family\": \"Arial\", \"size\": 26}, \"showarrow\": false, \"text\": \"GWD,HG02818\", \"textangle\": 90, \"x\": 0.98, \"xanchor\": \"left\", \"xref\": \"paper\", \"y\": 0.2114285714285714, \"yanchor\": \"middle\", \"yref\": \"paper\"}, {\"font\": {\"color\": \"black\", \"family\": \"Arial\", \"size\": 26}, \"showarrow\": false, \"text\": \"MSL,HG03486\", \"textangle\": 90, \"x\": 0.98, \"xanchor\": \"left\", \"xref\": \"paper\", \"y\": 0.06714285714285713, \"yanchor\": \"middle\", \"yref\": \"paper\"}, {\"font\": {\"color\": \"black\", \"family\": \"Arial\", \"size\": 26}, \"showarrow\": false, \"text\": \"VNTR length (bps)\", \"x\": 0.49, \"xanchor\": \"center\", \"xref\": \"paper\", \"y\": -0.04, \"yanchor\": \"top\", \"yref\": \"paper\", \"yshift\": -30}], \"font\": {\"color\": \"black\", \"family\": \"Arial\", \"size\": 20}, \"height\": 2000, \"margin\": {\"b\": 150, \"l\": 50, \"pad\": 0, \"r\": 50, \"t\": 100}, \"plot_bgcolor\": \"white\", \"template\": {\"data\": {\"bar\": [{\"error_x\": {\"color\": \"#2a3f5f\"}, \"error_y\": {\"color\": \"#2a3f5f\"}, \"marker\": {\"line\": {\"color\": \"#E5ECF6\", \"width\": 0.5}}, \"type\": \"bar\"}], \"barpolar\": [{\"marker\": {\"line\": {\"color\": \"#E5ECF6\", \"width\": 0.5}}, \"type\": \"barpolar\"}], \"carpet\": [{\"aaxis\": {\"endlinecolor\": \"#2a3f5f\", \"gridcolor\": \"white\", \"linecolor\": \"white\", \"minorgridcolor\": \"white\", \"startlinecolor\": \"#2a3f5f\"}, \"baxis\": {\"endlinecolor\": \"#2a3f5f\", \"gridcolor\": \"white\", \"linecolor\": \"white\", \"minorgridcolor\": \"white\", \"startlinecolor\": \"#2a3f5f\"}, \"type\": \"carpet\"}], \"choropleth\": [{\"colorbar\": {\"outlinewidth\": 0, \"ticks\": \"\"}, \"type\": \"choropleth\"}], \"contour\": [{\"colorbar\": {\"outlinewidth\": 0, \"ticks\": \"\"}, \"colorscale\": [[0.0, \"#0d0887\"], [0.1111111111111111, \"#46039f\"], [0.2222222222222222, \"#7201a8\"], [0.3333333333333333, \"#9c179e\"], [0.4444444444444444, \"#bd3786\"], [0.5555555555555556, \"#d8576b\"], [0.6666666666666666, \"#ed7953\"], [0.7777777777777778, \"#fb9f3a\"], [0.8888888888888888, \"#fdca26\"], [1.0, \"#f0f921\"]], \"type\": \"contour\"}], \"contourcarpet\": [{\"colorbar\": {\"outlinewidth\": 0, \"ticks\": \"\"}, \"type\": \"contourcarpet\"}], \"heatmap\": [{\"colorbar\": {\"outlinewidth\": 0, \"ticks\": \"\"}, \"colorscale\": [[0.0, \"#0d0887\"], [0.1111111111111111, \"#46039f\"], [0.2222222222222222, \"#7201a8\"], [0.3333333333333333, \"#9c179e\"], [0.4444444444444444, \"#bd3786\"], [0.5555555555555556, \"#d8576b\"], [0.6666666666666666, \"#ed7953\"], [0.7777777777777778, \"#fb9f3a\"], [0.8888888888888888, \"#fdca26\"], [1.0, \"#f0f921\"]], \"type\": \"heatmap\"}], \"heatmapgl\": [{\"colorbar\": {\"outlinewidth\": 0, \"ticks\": \"\"}, \"colorscale\": [[0.0, \"#0d0887\"], [0.1111111111111111, \"#46039f\"], [0.2222222222222222, \"#7201a8\"], [0.3333333333333333, \"#9c179e\"], [0.4444444444444444, \"#bd3786\"], [0.5555555555555556, \"#d8576b\"], [0.6666666666666666, \"#ed7953\"], [0.7777777777777778, \"#fb9f3a\"], [0.8888888888888888, \"#fdca26\"], [1.0, \"#f0f921\"]], \"type\": \"heatmapgl\"}], \"histogram\": [{\"marker\": {\"colorbar\": {\"outlinewidth\": 0, \"ticks\": \"\"}}, \"type\": \"histogram\"}], \"histogram2d\": [{\"colorbar\": {\"outlinewidth\": 0, \"ticks\": \"\"}, \"colorscale\": [[0.0, \"#0d0887\"], [0.1111111111111111, \"#46039f\"], [0.2222222222222222, \"#7201a8\"], [0.3333333333333333, \"#9c179e\"], [0.4444444444444444, \"#bd3786\"], [0.5555555555555556, \"#d8576b\"], [0.6666666666666666, \"#ed7953\"], [0.7777777777777778, \"#fb9f3a\"], [0.8888888888888888, \"#fdca26\"], [1.0, \"#f0f921\"]], \"type\": \"histogram2d\"}], \"histogram2dcontour\": [{\"colorbar\": {\"outlinewidth\": 0, \"ticks\": \"\"}, \"colorscale\": [[0.0, \"#0d0887\"], [0.1111111111111111, \"#46039f\"], [0.2222222222222222, \"#7201a8\"], [0.3333333333333333, \"#9c179e\"], [0.4444444444444444, \"#bd3786\"], [0.5555555555555556, \"#d8576b\"], [0.6666666666666666, \"#ed7953\"], [0.7777777777777778, \"#fb9f3a\"], [0.8888888888888888, \"#fdca26\"], [1.0, \"#f0f921\"]], \"type\": \"histogram2dcontour\"}], \"mesh3d\": [{\"colorbar\": {\"outlinewidth\": 0, \"ticks\": \"\"}, \"type\": \"mesh3d\"}], \"parcoords\": [{\"line\": {\"colorbar\": {\"outlinewidth\": 0, \"ticks\": \"\"}}, \"type\": \"parcoords\"}], \"pie\": [{\"automargin\": true, \"type\": \"pie\"}], \"scatter\": [{\"marker\": {\"colorbar\": {\"outlinewidth\": 0, \"ticks\": \"\"}}, \"type\": \"scatter\"}], \"scatter3d\": [{\"line\": {\"colorbar\": {\"outlinewidth\": 0, \"ticks\": \"\"}}, \"marker\": {\"colorbar\": {\"outlinewidth\": 0, \"ticks\": \"\"}}, \"type\": \"scatter3d\"}], \"scattercarpet\": [{\"marker\": {\"colorbar\": {\"outlinewidth\": 0, \"ticks\": \"\"}}, \"type\": \"scattercarpet\"}], \"scattergeo\": [{\"marker\": {\"colorbar\": {\"outlinewidth\": 0, \"ticks\": \"\"}}, \"type\": \"scattergeo\"}], \"scattergl\": [{\"marker\": {\"colorbar\": {\"outlinewidth\": 0, \"ticks\": \"\"}}, \"type\": \"scattergl\"}], \"scattermapbox\": [{\"marker\": {\"colorbar\": {\"outlinewidth\": 0, \"ticks\": \"\"}}, \"type\": \"scattermapbox\"}], \"scatterpolar\": [{\"marker\": {\"colorbar\": {\"outlinewidth\": 0, \"ticks\": \"\"}}, \"type\": \"scatterpolar\"}], \"scatterpolargl\": [{\"marker\": {\"colorbar\": {\"outlinewidth\": 0, \"ticks\": \"\"}}, \"type\": \"scatterpolargl\"}], \"scatterternary\": [{\"marker\": {\"colorbar\": {\"outlinewidth\": 0, \"ticks\": \"\"}}, \"type\": \"scatterternary\"}], \"surface\": [{\"colorbar\": {\"outlinewidth\": 0, \"ticks\": \"\"}, \"colorscale\": [[0.0, \"#0d0887\"], [0.1111111111111111, \"#46039f\"], [0.2222222222222222, \"#7201a8\"], [0.3333333333333333, \"#9c179e\"], [0.4444444444444444, \"#bd3786\"], [0.5555555555555556, \"#d8576b\"], [0.6666666666666666, \"#ed7953\"], [0.7777777777777778, \"#fb9f3a\"], [0.8888888888888888, \"#fdca26\"], [1.0, \"#f0f921\"]], \"type\": \"surface\"}], \"table\": [{\"cells\": {\"fill\": {\"color\": \"#EBF0F8\"}, \"line\": {\"color\": \"white\"}}, \"header\": {\"fill\": {\"color\": \"#C8D4E3\"}, \"line\": {\"color\": \"white\"}}, \"type\": \"table\"}]}, \"layout\": {\"annotationdefaults\": {\"arrowcolor\": \"#2a3f5f\", \"arrowhead\": 0, \"arrowwidth\": 1}, \"autotypenumbers\": \"strict\", \"coloraxis\": {\"colorbar\": {\"outlinewidth\": 0, \"ticks\": \"\"}}, \"colorscale\": {\"diverging\": [[0, \"#8e0152\"], [0.1, \"#c51b7d\"], [0.2, \"#de77ae\"], [0.3, \"#f1b6da\"], [0.4, \"#fde0ef\"], [0.5, \"#f7f7f7\"], [0.6, \"#e6f5d0\"], [0.7, \"#b8e186\"], [0.8, \"#7fbc41\"], [0.9, \"#4d9221\"], [1, \"#276419\"]], \"sequential\": [[0.0, \"#0d0887\"], [0.1111111111111111, \"#46039f\"], [0.2222222222222222, \"#7201a8\"], [0.3333333333333333, \"#9c179e\"], [0.4444444444444444, \"#bd3786\"], [0.5555555555555556, \"#d8576b\"], [0.6666666666666666, \"#ed7953\"], [0.7777777777777778, \"#fb9f3a\"], [0.8888888888888888, \"#fdca26\"], [1.0, \"#f0f921\"]], \"sequentialminus\": [[0.0, \"#0d0887\"], [0.1111111111111111, \"#46039f\"], [0.2222222222222222, \"#7201a8\"], [0.3333333333333333, \"#9c179e\"], [0.4444444444444444, \"#bd3786\"], [0.5555555555555556, \"#d8576b\"], [0.6666666666666666, \"#ed7953\"], [0.7777777777777778, \"#fb9f3a\"], [0.8888888888888888, \"#fdca26\"], [1.0, \"#f0f921\"]]}, \"colorway\": [\"#636efa\", \"#EF553B\", \"#00cc96\", \"#ab63fa\", \"#FFA15A\", \"#19d3f3\", \"#FF6692\", \"#B6E880\", \"#FF97FF\", \"#FECB52\"], \"font\": {\"color\": \"#2a3f5f\"}, \"geo\": {\"bgcolor\": \"white\", \"lakecolor\": \"white\", \"landcolor\": \"#E5ECF6\", \"showlakes\": true, \"showland\": true, \"subunitcolor\": \"white\"}, \"hoverlabel\": {\"align\": \"left\"}, \"hovermode\": \"closest\", \"mapbox\": {\"style\": \"light\"}, \"paper_bgcolor\": \"white\", \"plot_bgcolor\": \"#E5ECF6\", \"polar\": {\"angularaxis\": {\"gridcolor\": \"white\", \"linecolor\": \"white\", \"ticks\": \"\"}, \"bgcolor\": \"#E5ECF6\", \"radialaxis\": {\"gridcolor\": \"white\", \"linecolor\": \"white\", \"ticks\": \"\"}}, \"scene\": {\"xaxis\": {\"backgroundcolor\": \"#E5ECF6\", \"gridcolor\": \"white\", \"gridwidth\": 2, \"linecolor\": \"white\", \"showbackground\": true, \"ticks\": \"\", \"zerolinecolor\": \"white\"}, \"yaxis\": {\"backgroundcolor\": \"#E5ECF6\", \"gridcolor\": \"white\", \"gridwidth\": 2, \"linecolor\": \"white\", \"showbackground\": true, \"ticks\": \"\", \"zerolinecolor\": \"white\"}, \"zaxis\": {\"backgroundcolor\": \"#E5ECF6\", \"gridcolor\": \"white\", \"gridwidth\": 2, \"linecolor\": \"white\", \"showbackground\": true, \"ticks\": \"\", \"zerolinecolor\": \"white\"}}, \"shapedefaults\": {\"line\": {\"color\": \"#2a3f5f\"}}, \"ternary\": {\"aaxis\": {\"gridcolor\": \"white\", \"linecolor\": \"white\", \"ticks\": \"\"}, \"baxis\": {\"gridcolor\": \"white\", \"linecolor\": \"white\", \"ticks\": \"\"}, \"bgcolor\": \"#E5ECF6\", \"caxis\": {\"gridcolor\": \"white\", \"linecolor\": \"white\", \"ticks\": \"\"}}, \"title\": {\"x\": 0.05}, \"xaxis\": {\"automargin\": true, \"gridcolor\": \"white\", \"linecolor\": \"white\", \"ticks\": \"\", \"title\": {\"standoff\": 15}, \"zerolinecolor\": \"white\", \"zerolinewidth\": 2}, \"yaxis\": {\"automargin\": true, \"gridcolor\": \"white\", \"linecolor\": \"white\", \"ticks\": \"\", \"title\": {\"standoff\": 15}, \"zerolinecolor\": \"white\", \"zerolinewidth\": 2}}}, \"width\": 1800, \"xaxis\": {\"anchor\": \"y\", \"domain\": [0.0, 0.2075], \"linecolor\": \"black\", \"linewidth\": 1.5, \"matches\": \"x25\", \"showgrid\": false, \"showline\": false, \"showticklabels\": false, \"tickangle\": 45, \"tickcolor\": \"black\", \"ticklen\": 10, \"tickwidth\": 1.5, \"title\": {}, \"type\": \"category\"}, \"xaxis10\": {\"anchor\": \"y10\", \"domain\": [0.2575, 0.46499999999999997], \"linecolor\": \"black\", \"linewidth\": 1.5, \"matches\": \"x26\", \"showgrid\": false, \"showline\": false, \"showticklabels\": false, \"tickangle\": 45, \"tickcolor\": \"black\", \"ticklen\": 10, \"tickwidth\": 1.5, \"title\": {}}, \"xaxis11\": {\"anchor\": \"y11\", \"domain\": [0.515, 0.7225], \"linecolor\": \"black\", \"linewidth\": 1.5, \"matches\": \"x27\", \"showgrid\": false, \"showline\": false, \"showticklabels\": false, \"tickangle\": 45, \"tickcolor\": \"black\", \"ticklen\": 10, \"tickwidth\": 1.5, \"title\": {}}, \"xaxis12\": {\"anchor\": \"y12\", \"domain\": [0.7725, 0.98], \"linecolor\": \"black\", \"linewidth\": 1.5, \"matches\": \"x28\", \"showgrid\": false, \"showline\": false, \"showticklabels\": false, \"tickangle\": 45, \"tickcolor\": \"black\", \"ticklen\": 10, \"tickwidth\": 1.5, \"title\": {}}, \"xaxis13\": {\"anchor\": \"y13\", \"domain\": [0.0, 0.2075], \"linecolor\": \"black\", \"linewidth\": 1.5, \"matches\": \"x25\", \"showgrid\": false, \"showline\": false, \"showticklabels\": false, \"tickangle\": 45, \"tickcolor\": \"black\", \"ticklen\": 10, \"tickwidth\": 1.5, \"title\": {}}, \"xaxis14\": {\"anchor\": \"y14\", \"domain\": [0.2575, 0.46499999999999997], \"linecolor\": \"black\", \"linewidth\": 1.5, \"matches\": \"x26\", \"showgrid\": false, \"showline\": false, \"showticklabels\": false, \"tickangle\": 45, \"tickcolor\": \"black\", \"ticklen\": 10, \"tickwidth\": 1.5, \"title\": {}}, \"xaxis15\": {\"anchor\": \"y15\", \"domain\": [0.515, 0.7225], \"linecolor\": \"black\", \"linewidth\": 1.5, \"matches\": \"x27\", \"showgrid\": false, \"showline\": false, \"showticklabels\": false, \"tickangle\": 45, \"tickcolor\": \"black\", \"ticklen\": 10, \"tickwidth\": 1.5, \"title\": {}}, \"xaxis16\": {\"anchor\": \"y16\", \"domain\": [0.7725, 0.98], \"linecolor\": \"black\", \"linewidth\": 1.5, \"matches\": \"x28\", \"showgrid\": false, \"showline\": false, \"showticklabels\": false, \"tickangle\": 45, \"tickcolor\": \"black\", \"ticklen\": 10, \"tickwidth\": 1.5, \"title\": {}}, \"xaxis17\": {\"anchor\": \"y17\", \"domain\": [0.0, 0.2075], \"linecolor\": \"black\", \"linewidth\": 1.5, \"matches\": \"x25\", \"showgrid\": false, \"showline\": false, \"showticklabels\": false, \"tickangle\": 45, \"tickcolor\": \"black\", \"ticklen\": 10, \"tickwidth\": 1.5, \"title\": {}}, \"xaxis18\": {\"anchor\": \"y18\", \"domain\": [0.2575, 0.46499999999999997], \"linecolor\": \"black\", \"linewidth\": 1.5, \"matches\": \"x26\", \"showgrid\": false, \"showline\": false, \"showticklabels\": false, \"tickangle\": 45, \"tickcolor\": \"black\", \"ticklen\": 10, \"tickwidth\": 1.5, \"title\": {}}, \"xaxis19\": {\"anchor\": \"y19\", \"domain\": [0.515, 0.7225], \"linecolor\": \"black\", \"linewidth\": 1.5, \"matches\": \"x27\", \"showgrid\": false, \"showline\": false, \"showticklabels\": false, \"tickangle\": 45, \"tickcolor\": \"black\", \"ticklen\": 10, \"tickwidth\": 1.5, \"title\": {}}, \"xaxis2\": {\"anchor\": \"y2\", \"domain\": [0.2575, 0.46499999999999997], \"linecolor\": \"black\", \"linewidth\": 1.5, \"matches\": \"x26\", \"showgrid\": false, \"showline\": false, \"showticklabels\": false, \"tickangle\": 45, \"tickcolor\": \"black\", \"ticklen\": 10, \"tickwidth\": 1.5, \"title\": {}}, \"xaxis20\": {\"anchor\": \"y20\", \"domain\": [0.7725, 0.98], \"linecolor\": \"black\", \"linewidth\": 1.5, \"matches\": \"x28\", \"showgrid\": false, \"showline\": false, \"showticklabels\": false, \"tickangle\": 45, \"tickcolor\": \"black\", \"ticklen\": 10, \"tickwidth\": 1.5, \"title\": {}}, \"xaxis21\": {\"anchor\": \"y21\", \"domain\": [0.0, 0.2075], \"linecolor\": \"black\", \"linewidth\": 1.5, \"matches\": \"x25\", \"showgrid\": false, \"showline\": false, \"showticklabels\": false, \"tickangle\": 45, \"tickcolor\": \"black\", \"ticklen\": 10, \"tickwidth\": 1.5, \"title\": {}}, \"xaxis22\": {\"anchor\": \"y22\", \"domain\": [0.2575, 0.46499999999999997], \"linecolor\": \"black\", \"linewidth\": 1.5, \"matches\": \"x26\", \"showgrid\": false, \"showline\": false, \"showticklabels\": false, \"tickangle\": 45, \"tickcolor\": \"black\", \"ticklen\": 10, \"tickwidth\": 1.5, \"title\": {}}, \"xaxis23\": {\"anchor\": \"y23\", \"domain\": [0.515, 0.7225], \"linecolor\": \"black\", \"linewidth\": 1.5, \"matches\": \"x27\", \"showgrid\": false, \"showline\": false, \"showticklabels\": false, \"tickangle\": 45, \"tickcolor\": \"black\", \"ticklen\": 10, \"tickwidth\": 1.5, \"title\": {}}, \"xaxis24\": {\"anchor\": \"y24\", \"domain\": [0.7725, 0.98], \"linecolor\": \"black\", \"linewidth\": 1.5, \"matches\": \"x28\", \"showgrid\": false, \"showline\": false, \"showticklabels\": false, \"tickangle\": 45, \"tickcolor\": \"black\", \"ticklen\": 10, \"tickwidth\": 1.5, \"title\": {}}, \"xaxis25\": {\"anchor\": \"y25\", \"domain\": [0.0, 0.2075], \"linecolor\": \"black\", \"linewidth\": 1.5, \"showgrid\": false, \"showline\": false, \"tickangle\": 45, \"tickcolor\": \"black\", \"ticklen\": 10, \"tickwidth\": 1.5, \"title\": {}}, \"xaxis26\": {\"anchor\": \"y26\", \"domain\": [0.2575, 0.46499999999999997], \"linecolor\": \"black\", \"linewidth\": 1.5, \"showgrid\": false, \"showline\": false, \"tickangle\": 45, \"tickcolor\": \"black\", \"ticklen\": 10, \"tickwidth\": 1.5, \"title\": {}}, \"xaxis27\": {\"anchor\": \"y27\", \"domain\": [0.515, 0.7225], \"linecolor\": \"black\", \"linewidth\": 1.5, \"showgrid\": false, \"showline\": false, \"tickangle\": 45, \"tickcolor\": \"black\", \"ticklen\": 10, \"tickwidth\": 1.5, \"title\": {}}, \"xaxis28\": {\"anchor\": \"y28\", \"domain\": [0.7725, 0.98], \"linecolor\": \"black\", \"linewidth\": 1.5, \"showgrid\": false, \"showline\": false, \"tickangle\": 45, \"tickcolor\": \"black\", \"ticklen\": 10, \"tickwidth\": 1.5, \"title\": {}}, \"xaxis3\": {\"anchor\": \"y3\", \"domain\": [0.515, 0.7225], \"linecolor\": \"black\", \"linewidth\": 1.5, \"matches\": \"x27\", \"showgrid\": false, \"showline\": false, \"showticklabels\": false, \"tickangle\": 45, \"tickcolor\": \"black\", \"ticklen\": 10, \"tickwidth\": 1.5, \"title\": {}}, \"xaxis4\": {\"anchor\": \"y4\", \"domain\": [0.7725, 0.98], \"linecolor\": \"black\", \"linewidth\": 1.5, \"matches\": \"x28\", \"showgrid\": false, \"showline\": false, \"showticklabels\": false, \"tickangle\": 45, \"tickcolor\": \"black\", \"ticklen\": 10, \"tickwidth\": 1.5, \"title\": {}}, \"xaxis5\": {\"anchor\": \"y5\", \"domain\": [0.0, 0.2075], \"linecolor\": \"black\", \"linewidth\": 1.5, \"matches\": \"x25\", \"showgrid\": false, \"showline\": false, \"showticklabels\": false, \"tickangle\": 45, \"tickcolor\": \"black\", \"ticklen\": 10, \"tickwidth\": 1.5, \"title\": {}}, \"xaxis6\": {\"anchor\": \"y6\", \"domain\": [0.2575, 0.46499999999999997], \"linecolor\": \"black\", \"linewidth\": 1.5, \"matches\": \"x26\", \"showgrid\": false, \"showline\": false, \"showticklabels\": false, \"tickangle\": 45, \"tickcolor\": \"black\", \"ticklen\": 10, \"tickwidth\": 1.5, \"title\": {}}, \"xaxis7\": {\"anchor\": \"y7\", \"domain\": [0.515, 0.7225], \"linecolor\": \"black\", \"linewidth\": 1.5, \"matches\": \"x27\", \"showgrid\": false, \"showline\": false, \"showticklabels\": false, \"tickangle\": 45, \"tickcolor\": \"black\", \"ticklen\": 10, \"tickwidth\": 1.5, \"title\": {}}, \"xaxis8\": {\"anchor\": \"y8\", \"domain\": [0.7725, 0.98], \"linecolor\": \"black\", \"linewidth\": 1.5, \"matches\": \"x28\", \"showgrid\": false, \"showline\": false, \"showticklabels\": false, \"tickangle\": 45, \"tickcolor\": \"black\", \"ticklen\": 10, \"tickwidth\": 1.5, \"title\": {}}, \"xaxis9\": {\"anchor\": \"y9\", \"domain\": [0.0, 0.2075], \"linecolor\": \"black\", \"linewidth\": 1.5, \"matches\": \"x25\", \"showgrid\": false, \"showline\": false, \"showticklabels\": false, \"tickangle\": 45, \"tickcolor\": \"black\", \"ticklen\": 10, \"tickwidth\": 1.5, \"title\": {}}, \"yaxis\": {\"anchor\": \"x\", \"domain\": [0.8657142857142854, 0.9999999999999997], \"linecolor\": \"black\", \"linewidth\": 1.5, \"range\": [0, 1], \"showgrid\": false, \"showline\": true, \"tickcolor\": \"black\", \"ticklen\": 10, \"ticks\": \"outside\", \"tickwidth\": 1.5, \"title\": {}}, \"yaxis10\": {\"anchor\": \"x10\", \"domain\": [0.5771428571428571, 0.7114285714285713], \"linecolor\": \"black\", \"linewidth\": 1.5, \"range\": [0, 1], \"showgrid\": false, \"showline\": true, \"tickcolor\": \"black\", \"ticklen\": 10, \"ticks\": \"outside\", \"tickwidth\": 1.5, \"title\": {}}, \"yaxis11\": {\"anchor\": \"x11\", \"domain\": [0.5771428571428571, 0.7114285714285713], \"linecolor\": \"black\", \"linewidth\": 1.5, \"range\": [2.0, 5.0], \"showgrid\": false, \"showline\": true, \"tickcolor\": \"black\", \"ticklen\": 10, \"ticks\": \"outside\", \"tickwidth\": 1.5, \"title\": {}, \"type\": \"log\"}, \"yaxis12\": {\"anchor\": \"x12\", \"domain\": [0.5771428571428571, 0.7114285714285713], \"linecolor\": \"black\", \"linewidth\": 1.5, \"range\": [0, 1], \"showgrid\": false, \"showline\": true, \"tickcolor\": \"black\", \"ticklen\": 10, \"ticks\": \"outside\", \"tickwidth\": 1.5, \"title\": {}}, \"yaxis13\": {\"anchor\": \"x13\", \"domain\": [0.43285714285714283, 0.5671428571428571], \"linecolor\": \"black\", \"linewidth\": 1.5, \"range\": [0, 1], \"showgrid\": false, \"showline\": true, \"tickcolor\": \"black\", \"ticklen\": 10, \"ticks\": \"outside\", \"tickwidth\": 1.5, \"title\": {}}, \"yaxis14\": {\"anchor\": \"x14\", \"domain\": [0.43285714285714283, 0.5671428571428571], \"linecolor\": \"black\", \"linewidth\": 1.5, \"range\": [0, 1], \"showgrid\": false, \"showline\": true, \"tickcolor\": \"black\", \"ticklen\": 10, \"ticks\": \"outside\", \"tickwidth\": 1.5, \"title\": {}}, \"yaxis15\": {\"anchor\": \"x15\", \"domain\": [0.43285714285714283, 0.5671428571428571], \"linecolor\": \"black\", \"linewidth\": 1.5, \"range\": [2.0, 5.0], \"showgrid\": false, \"showline\": true, \"tickcolor\": \"black\", \"ticklen\": 10, \"ticks\": \"outside\", \"tickwidth\": 1.5, \"title\": {}, \"type\": \"log\"}, \"yaxis16\": {\"anchor\": \"x16\", \"domain\": [0.43285714285714283, 0.5671428571428571], \"linecolor\": \"black\", \"linewidth\": 1.5, \"range\": [0, 1], \"showgrid\": false, \"showline\": true, \"tickcolor\": \"black\", \"ticklen\": 10, \"ticks\": \"outside\", \"tickwidth\": 1.5, \"title\": {}}, \"yaxis17\": {\"anchor\": \"x17\", \"domain\": [0.28857142857142853, 0.4228571428571428], \"linecolor\": \"black\", \"linewidth\": 1.5, \"range\": [0, 1], \"showgrid\": false, \"showline\": true, \"tickcolor\": \"black\", \"ticklen\": 10, \"ticks\": \"outside\", \"tickwidth\": 1.5, \"title\": {}}, \"yaxis18\": {\"anchor\": \"x18\", \"domain\": [0.28857142857142853, 0.4228571428571428], \"linecolor\": \"black\", \"linewidth\": 1.5, \"range\": [0, 1], \"showgrid\": false, \"showline\": true, \"tickcolor\": \"black\", \"ticklen\": 10, \"ticks\": \"outside\", \"tickwidth\": 1.5, \"title\": {}}, \"yaxis19\": {\"anchor\": \"x19\", \"domain\": [0.28857142857142853, 0.4228571428571428], \"linecolor\": \"black\", \"linewidth\": 1.5, \"range\": [2.0, 5.0], \"showgrid\": false, \"showline\": true, \"tickcolor\": \"black\", \"ticklen\": 10, \"ticks\": \"outside\", \"tickwidth\": 1.5, \"title\": {}, \"type\": \"log\"}, \"yaxis2\": {\"anchor\": \"x2\", \"domain\": [0.8657142857142854, 0.9999999999999997], \"linecolor\": \"black\", \"linewidth\": 1.5, \"range\": [0, 1], \"showgrid\": false, \"showline\": true, \"tickcolor\": \"black\", \"ticklen\": 10, \"ticks\": \"outside\", \"tickwidth\": 1.5, \"title\": {}}, \"yaxis20\": {\"anchor\": \"x20\", \"domain\": [0.28857142857142853, 0.4228571428571428], \"linecolor\": \"black\", \"linewidth\": 1.5, \"range\": [0, 1], \"showgrid\": false, \"showline\": true, \"tickcolor\": \"black\", \"ticklen\": 10, \"ticks\": \"outside\", \"tickwidth\": 1.5, \"title\": {}}, \"yaxis21\": {\"anchor\": \"x21\", \"domain\": [0.14428571428571427, 0.2785714285714285], \"linecolor\": \"black\", \"linewidth\": 1.5, \"range\": [0, 1], \"showgrid\": false, \"showline\": true, \"tickcolor\": \"black\", \"ticklen\": 10, \"ticks\": \"outside\", \"tickwidth\": 1.5, \"title\": {}}, \"yaxis22\": {\"anchor\": \"x22\", \"domain\": [0.14428571428571427, 0.2785714285714285], \"linecolor\": \"black\", \"linewidth\": 1.5, \"range\": [0, 1], \"showgrid\": false, \"showline\": true, \"tickcolor\": \"black\", \"ticklen\": 10, \"ticks\": \"outside\", \"tickwidth\": 1.5, \"title\": {}}, \"yaxis23\": {\"anchor\": \"x23\", \"domain\": [0.14428571428571427, 0.2785714285714285], \"linecolor\": \"black\", \"linewidth\": 1.5, \"range\": [2.0, 5.0], \"showgrid\": false, \"showline\": true, \"tickcolor\": \"black\", \"ticklen\": 10, \"ticks\": \"outside\", \"tickwidth\": 1.5, \"title\": {}, \"type\": \"log\"}, \"yaxis24\": {\"anchor\": \"x24\", \"domain\": [0.14428571428571427, 0.2785714285714285], \"linecolor\": \"black\", \"linewidth\": 1.5, \"range\": [0, 1], \"showgrid\": false, \"showline\": true, \"tickcolor\": \"black\", \"ticklen\": 10, \"ticks\": \"outside\", \"tickwidth\": 1.5, \"title\": {}}, \"yaxis25\": {\"anchor\": \"x25\", \"domain\": [0.0, 0.13428571428571426], \"linecolor\": \"black\", \"linewidth\": 1.5, \"range\": [0, 1], \"showgrid\": false, \"showline\": true, \"tickcolor\": \"black\", \"ticklen\": 10, \"ticks\": \"outside\", \"tickwidth\": 1.5, \"title\": {}}, \"yaxis26\": {\"anchor\": \"x26\", \"domain\": [0.0, 0.13428571428571426], \"linecolor\": \"black\", \"linewidth\": 1.5, \"range\": [0, 1], \"showgrid\": false, \"showline\": true, \"tickcolor\": \"black\", \"ticklen\": 10, \"ticks\": \"outside\", \"tickwidth\": 1.5, \"title\": {}}, \"yaxis27\": {\"anchor\": \"x27\", \"domain\": [0.0, 0.13428571428571426], \"linecolor\": \"black\", \"linewidth\": 1.5, \"range\": [2.0, 5.0], \"showgrid\": false, \"showline\": true, \"tickcolor\": \"black\", \"ticklen\": 10, \"ticks\": \"outside\", \"tickwidth\": 1.5, \"title\": {}, \"type\": \"log\"}, \"yaxis28\": {\"anchor\": \"x28\", \"domain\": [0.0, 0.13428571428571426], \"linecolor\": \"black\", \"linewidth\": 1.5, \"range\": [0, 1], \"showgrid\": false, \"showline\": true, \"tickcolor\": \"black\", \"ticklen\": 10, \"ticks\": \"outside\", \"tickwidth\": 1.5, \"title\": {}}, \"yaxis3\": {\"anchor\": \"x3\", \"domain\": [0.8657142857142854, 0.9999999999999997], \"linecolor\": \"black\", \"linewidth\": 1.5, \"range\": [2.0, 5.0], \"showgrid\": false, \"showline\": true, \"tickcolor\": \"black\", \"ticklen\": 10, \"ticks\": \"outside\", \"tickwidth\": 1.5, \"title\": {}, \"type\": \"log\"}, \"yaxis4\": {\"anchor\": \"x4\", \"domain\": [0.8657142857142854, 0.9999999999999997], \"linecolor\": \"black\", \"linewidth\": 1.5, \"range\": [0, 1], \"showgrid\": false, \"showline\": true, \"tickcolor\": \"black\", \"ticklen\": 10, \"ticks\": \"outside\", \"tickwidth\": 1.5, \"title\": {}}, \"yaxis5\": {\"anchor\": \"x5\", \"domain\": [0.7214285714285713, 0.8557142857142855], \"linecolor\": \"black\", \"linewidth\": 1.5, \"range\": [0, 1], \"showgrid\": false, \"showline\": true, \"tickcolor\": \"black\", \"ticklen\": 10, \"ticks\": \"outside\", \"tickwidth\": 1.5, \"title\": {}}, \"yaxis6\": {\"anchor\": \"x6\", \"domain\": [0.7214285714285713, 0.8557142857142855], \"linecolor\": \"black\", \"linewidth\": 1.5, \"range\": [0, 1], \"showgrid\": false, \"showline\": true, \"tickcolor\": \"black\", \"ticklen\": 10, \"ticks\": \"outside\", \"tickwidth\": 1.5, \"title\": {}}, \"yaxis7\": {\"anchor\": \"x7\", \"domain\": [0.7214285714285713, 0.8557142857142855], \"linecolor\": \"black\", \"linewidth\": 1.5, \"range\": [2.0, 5.0], \"showgrid\": false, \"showline\": true, \"tickcolor\": \"black\", \"ticklen\": 10, \"ticks\": \"outside\", \"tickwidth\": 1.5, \"title\": {}, \"type\": \"log\"}, \"yaxis8\": {\"anchor\": \"x8\", \"domain\": [0.7214285714285713, 0.8557142857142855], \"linecolor\": \"black\", \"linewidth\": 1.5, \"range\": [0, 1], \"showgrid\": false, \"showline\": true, \"tickcolor\": \"black\", \"ticklen\": 10, \"ticks\": \"outside\", \"tickwidth\": 1.5, \"title\": {}}, \"yaxis9\": {\"anchor\": \"x9\", \"domain\": [0.5771428571428571, 0.7114285714285713], \"linecolor\": \"black\", \"linewidth\": 1.5, \"range\": [0, 1], \"showgrid\": false, \"showline\": true, \"tickcolor\": \"black\", \"ticklen\": 10, \"ticks\": \"outside\", \"tickwidth\": 1.5, \"title\": {}}},                        {\"responsive\": true}                    ).then(function(){\n",
       "                            \n",
       "var gd = document.getElementById('9261e576-e5dd-4f43-8aee-96fd68df91c2');\n",
       "var x = new MutationObserver(function (mutations, observer) {{\n",
       "        var display = window.getComputedStyle(gd).display;\n",
       "        if (!display || display === 'none') {{\n",
       "            console.log([gd, 'removed!']);\n",
       "            Plotly.purge(gd);\n",
       "            observer.disconnect();\n",
       "        }}\n",
       "}});\n",
       "\n",
       "// Listen for the removal of the full notebook cells\n",
       "var notebookContainer = gd.closest('#notebook-container');\n",
       "if (notebookContainer) {{\n",
       "    x.observe(notebookContainer, {childList: true});\n",
       "}}\n",
       "\n",
       "// Listen for the clearing of the current output cell\n",
       "var outputEl = gd.closest('.output');\n",
       "if (outputEl) {{\n",
       "    x.observe(outputEl, {childList: true});\n",
       "}}\n",
       "\n",
       "                        })                };                });            </script>        </div>"
      ]
     },
     "metadata": {}
    }
   ],
   "metadata": {}
  },
  {
   "cell_type": "code",
   "execution_count": null,
   "source": [],
   "outputs": [],
   "metadata": {}
  }
 ],
 "metadata": {
  "orig_nbformat": 4,
  "language_info": {
   "name": "python",
   "version": "3.8.6",
   "mimetype": "text/x-python",
   "codemirror_mode": {
    "name": "ipython",
    "version": 3
   },
   "pygments_lexer": "ipython3",
   "nbconvert_exporter": "python",
   "file_extension": ".py"
  },
  "kernelspec": {
   "name": "python3",
   "display_name": "Python 3.8.6 64-bit ('trfermikit': conda)"
  },
  "interpreter": {
   "hash": "27bf691ab5b434b14f9cd44a2ab81504eff89535e2f9d81f6c82827a7b77a35f"
  }
 },
 "nbformat": 4,
 "nbformat_minor": 2
}