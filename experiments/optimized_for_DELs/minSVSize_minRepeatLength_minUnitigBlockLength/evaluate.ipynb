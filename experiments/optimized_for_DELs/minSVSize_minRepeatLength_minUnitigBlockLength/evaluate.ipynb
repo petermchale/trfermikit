{
 "cells": [
  {
   "cell_type": "markdown",
   "metadata": {},
   "source": [
    "## trfermikit is more sensitive than manta at discovering small DELs"
   ]
  },
  {
   "cell_type": "code",
   "execution_count": 17,
   "metadata": {
    "scrolled": false
   },
   "outputs": [
    {
     "data": {
      "application/vnd.plotly.v1+json": {
       "config": {
        "plotlyServerURL": "https://plot.ly"
       },
       "data": [
        {
         "hovertemplate": "%{text}",
         "marker": {
          "color": [
           "red",
           "red",
           "red",
           "red",
           "red",
           "red",
           "red",
           "red",
           "red",
           "blue",
           "blue",
           "blue",
           "blue",
           "blue",
           "blue",
           "blue",
           "blue",
           "blue",
           "green",
           "green",
           "green",
           "green",
           "green",
           "green",
           "green",
           "green",
           "green"
          ],
          "line": {
           "color": "black",
           "width": 1
          },
          "size": 10,
          "symbol": "circle"
         },
         "mode": "markers",
         "name": "trfermikit",
         "showlegend": false,
         "text": [
          "filterCalls.minSVSize: 100<br><br>makeRegions: <br>  slop: 250<br>  minCoverage: 0<br>  maxCoverage: 200<br>  maxRegionLength: 100000<br>  minRepeatPeriod: 6<br>  minRepeatLength: 0<br>  functionalRegions: none<br>  genomeBuild: hg38<br>  overlappedFunctionalRegions: false<br>makeCalls: <br>  singleBaseMatchReward: 10<br>  singleBaseMismatchPenalty: 12<br>  gapOpenPenalties: 6,26<br>  gapExtensionPenalties: 1,0<br>  minUnitigMappingQuality: 1<br>filterCalls: <br>  maxIntraClusterDistance: 500<br>  minUnitigMappingQuality: 0<br>  minUnitigBlockLength: 15<br>",
          "filterCalls.minSVSize: 100<br><br>makeRegions: <br>  slop: 250<br>  minCoverage: 0<br>  maxCoverage: 200<br>  maxRegionLength: 100000<br>  minRepeatPeriod: 6<br>  minRepeatLength: 0<br>  functionalRegions: none<br>  genomeBuild: hg38<br>  overlappedFunctionalRegions: false<br>makeCalls: <br>  singleBaseMatchReward: 10<br>  singleBaseMismatchPenalty: 12<br>  gapOpenPenalties: 6,26<br>  gapExtensionPenalties: 1,0<br>  minUnitigMappingQuality: 1<br>filterCalls: <br>  maxIntraClusterDistance: 500<br>  minUnitigMappingQuality: 0<br>  minUnitigBlockLength: 25<br>",
          "filterCalls.minSVSize: 100<br><br>makeRegions: <br>  slop: 250<br>  minCoverage: 0<br>  maxCoverage: 200<br>  maxRegionLength: 100000<br>  minRepeatPeriod: 6<br>  minRepeatLength: 0<br>  functionalRegions: none<br>  genomeBuild: hg38<br>  overlappedFunctionalRegions: false<br>makeCalls: <br>  singleBaseMatchReward: 10<br>  singleBaseMismatchPenalty: 12<br>  gapOpenPenalties: 6,26<br>  gapExtensionPenalties: 1,0<br>  minUnitigMappingQuality: 1<br>filterCalls: <br>  maxIntraClusterDistance: 500<br>  minUnitigMappingQuality: 0<br>  minUnitigBlockLength: 40<br>",
          "filterCalls.minSVSize: 100<br><br>makeRegions: <br>  slop: 250<br>  minCoverage: 0<br>  maxCoverage: 200<br>  maxRegionLength: 100000<br>  minRepeatPeriod: 6<br>  minRepeatLength: 100<br>  functionalRegions: none<br>  genomeBuild: hg38<br>  overlappedFunctionalRegions: false<br>makeCalls: <br>  singleBaseMatchReward: 10<br>  singleBaseMismatchPenalty: 12<br>  gapOpenPenalties: 6,26<br>  gapExtensionPenalties: 1,0<br>  minUnitigMappingQuality: 1<br>filterCalls: <br>  maxIntraClusterDistance: 500<br>  minUnitigMappingQuality: 0<br>  minUnitigBlockLength: 15<br>",
          "filterCalls.minSVSize: 100<br><br>makeRegions: <br>  slop: 250<br>  minCoverage: 0<br>  maxCoverage: 200<br>  maxRegionLength: 100000<br>  minRepeatPeriod: 6<br>  minRepeatLength: 100<br>  functionalRegions: none<br>  genomeBuild: hg38<br>  overlappedFunctionalRegions: false<br>makeCalls: <br>  singleBaseMatchReward: 10<br>  singleBaseMismatchPenalty: 12<br>  gapOpenPenalties: 6,26<br>  gapExtensionPenalties: 1,0<br>  minUnitigMappingQuality: 1<br>filterCalls: <br>  maxIntraClusterDistance: 500<br>  minUnitigMappingQuality: 0<br>  minUnitigBlockLength: 25<br>",
          "filterCalls.minSVSize: 100<br><br>makeRegions: <br>  slop: 250<br>  minCoverage: 0<br>  maxCoverage: 200<br>  maxRegionLength: 100000<br>  minRepeatPeriod: 6<br>  minRepeatLength: 100<br>  functionalRegions: none<br>  genomeBuild: hg38<br>  overlappedFunctionalRegions: false<br>makeCalls: <br>  singleBaseMatchReward: 10<br>  singleBaseMismatchPenalty: 12<br>  gapOpenPenalties: 6,26<br>  gapExtensionPenalties: 1,0<br>  minUnitigMappingQuality: 1<br>filterCalls: <br>  maxIntraClusterDistance: 500<br>  minUnitigMappingQuality: 0<br>  minUnitigBlockLength: 40<br>",
          "filterCalls.minSVSize: 100<br><br>makeRegions: <br>  slop: 250<br>  minCoverage: 0<br>  maxCoverage: 200<br>  maxRegionLength: 100000<br>  minRepeatPeriod: 6<br>  minRepeatLength: 50<br>  functionalRegions: none<br>  genomeBuild: hg38<br>  overlappedFunctionalRegions: false<br>makeCalls: <br>  singleBaseMatchReward: 10<br>  singleBaseMismatchPenalty: 12<br>  gapOpenPenalties: 6,26<br>  gapExtensionPenalties: 1,0<br>  minUnitigMappingQuality: 1<br>filterCalls: <br>  maxIntraClusterDistance: 500<br>  minUnitigMappingQuality: 0<br>  minUnitigBlockLength: 15<br>",
          "filterCalls.minSVSize: 100<br><br>makeRegions: <br>  slop: 250<br>  minCoverage: 0<br>  maxCoverage: 200<br>  maxRegionLength: 100000<br>  minRepeatPeriod: 6<br>  minRepeatLength: 50<br>  functionalRegions: none<br>  genomeBuild: hg38<br>  overlappedFunctionalRegions: false<br>makeCalls: <br>  singleBaseMatchReward: 10<br>  singleBaseMismatchPenalty: 12<br>  gapOpenPenalties: 6,26<br>  gapExtensionPenalties: 1,0<br>  minUnitigMappingQuality: 1<br>filterCalls: <br>  maxIntraClusterDistance: 500<br>  minUnitigMappingQuality: 0<br>  minUnitigBlockLength: 25<br>",
          "filterCalls.minSVSize: 100<br><br>makeRegions: <br>  slop: 250<br>  minCoverage: 0<br>  maxCoverage: 200<br>  maxRegionLength: 100000<br>  minRepeatPeriod: 6<br>  minRepeatLength: 50<br>  functionalRegions: none<br>  genomeBuild: hg38<br>  overlappedFunctionalRegions: false<br>makeCalls: <br>  singleBaseMatchReward: 10<br>  singleBaseMismatchPenalty: 12<br>  gapOpenPenalties: 6,26<br>  gapExtensionPenalties: 1,0<br>  minUnitigMappingQuality: 1<br>filterCalls: <br>  maxIntraClusterDistance: 500<br>  minUnitigMappingQuality: 0<br>  minUnitigBlockLength: 40<br>",
          "filterCalls.minSVSize: 500<br><br>makeRegions: <br>  slop: 250<br>  minCoverage: 0<br>  maxCoverage: 200<br>  maxRegionLength: 100000<br>  minRepeatPeriod: 6<br>  minRepeatLength: 0<br>  functionalRegions: none<br>  genomeBuild: hg38<br>  overlappedFunctionalRegions: false<br>makeCalls: <br>  singleBaseMatchReward: 10<br>  singleBaseMismatchPenalty: 12<br>  gapOpenPenalties: 6,26<br>  gapExtensionPenalties: 1,0<br>  minUnitigMappingQuality: 1<br>filterCalls: <br>  maxIntraClusterDistance: 500<br>  minUnitigMappingQuality: 0<br>  minUnitigBlockLength: 15<br>",
          "filterCalls.minSVSize: 500<br><br>makeRegions: <br>  slop: 250<br>  minCoverage: 0<br>  maxCoverage: 200<br>  maxRegionLength: 100000<br>  minRepeatPeriod: 6<br>  minRepeatLength: 0<br>  functionalRegions: none<br>  genomeBuild: hg38<br>  overlappedFunctionalRegions: false<br>makeCalls: <br>  singleBaseMatchReward: 10<br>  singleBaseMismatchPenalty: 12<br>  gapOpenPenalties: 6,26<br>  gapExtensionPenalties: 1,0<br>  minUnitigMappingQuality: 1<br>filterCalls: <br>  maxIntraClusterDistance: 500<br>  minUnitigMappingQuality: 0<br>  minUnitigBlockLength: 25<br>",
          "filterCalls.minSVSize: 500<br><br>makeRegions: <br>  slop: 250<br>  minCoverage: 0<br>  maxCoverage: 200<br>  maxRegionLength: 100000<br>  minRepeatPeriod: 6<br>  minRepeatLength: 0<br>  functionalRegions: none<br>  genomeBuild: hg38<br>  overlappedFunctionalRegions: false<br>makeCalls: <br>  singleBaseMatchReward: 10<br>  singleBaseMismatchPenalty: 12<br>  gapOpenPenalties: 6,26<br>  gapExtensionPenalties: 1,0<br>  minUnitigMappingQuality: 1<br>filterCalls: <br>  maxIntraClusterDistance: 500<br>  minUnitigMappingQuality: 0<br>  minUnitigBlockLength: 40<br>",
          "filterCalls.minSVSize: 500<br><br>makeRegions: <br>  slop: 250<br>  minCoverage: 0<br>  maxCoverage: 200<br>  maxRegionLength: 100000<br>  minRepeatPeriod: 6<br>  minRepeatLength: 100<br>  functionalRegions: none<br>  genomeBuild: hg38<br>  overlappedFunctionalRegions: false<br>makeCalls: <br>  singleBaseMatchReward: 10<br>  singleBaseMismatchPenalty: 12<br>  gapOpenPenalties: 6,26<br>  gapExtensionPenalties: 1,0<br>  minUnitigMappingQuality: 1<br>filterCalls: <br>  maxIntraClusterDistance: 500<br>  minUnitigMappingQuality: 0<br>  minUnitigBlockLength: 15<br>",
          "filterCalls.minSVSize: 500<br><br>makeRegions: <br>  slop: 250<br>  minCoverage: 0<br>  maxCoverage: 200<br>  maxRegionLength: 100000<br>  minRepeatPeriod: 6<br>  minRepeatLength: 100<br>  functionalRegions: none<br>  genomeBuild: hg38<br>  overlappedFunctionalRegions: false<br>makeCalls: <br>  singleBaseMatchReward: 10<br>  singleBaseMismatchPenalty: 12<br>  gapOpenPenalties: 6,26<br>  gapExtensionPenalties: 1,0<br>  minUnitigMappingQuality: 1<br>filterCalls: <br>  maxIntraClusterDistance: 500<br>  minUnitigMappingQuality: 0<br>  minUnitigBlockLength: 25<br>",
          "filterCalls.minSVSize: 500<br><br>makeRegions: <br>  slop: 250<br>  minCoverage: 0<br>  maxCoverage: 200<br>  maxRegionLength: 100000<br>  minRepeatPeriod: 6<br>  minRepeatLength: 100<br>  functionalRegions: none<br>  genomeBuild: hg38<br>  overlappedFunctionalRegions: false<br>makeCalls: <br>  singleBaseMatchReward: 10<br>  singleBaseMismatchPenalty: 12<br>  gapOpenPenalties: 6,26<br>  gapExtensionPenalties: 1,0<br>  minUnitigMappingQuality: 1<br>filterCalls: <br>  maxIntraClusterDistance: 500<br>  minUnitigMappingQuality: 0<br>  minUnitigBlockLength: 40<br>",
          "filterCalls.minSVSize: 500<br><br>makeRegions: <br>  slop: 250<br>  minCoverage: 0<br>  maxCoverage: 200<br>  maxRegionLength: 100000<br>  minRepeatPeriod: 6<br>  minRepeatLength: 50<br>  functionalRegions: none<br>  genomeBuild: hg38<br>  overlappedFunctionalRegions: false<br>makeCalls: <br>  singleBaseMatchReward: 10<br>  singleBaseMismatchPenalty: 12<br>  gapOpenPenalties: 6,26<br>  gapExtensionPenalties: 1,0<br>  minUnitigMappingQuality: 1<br>filterCalls: <br>  maxIntraClusterDistance: 500<br>  minUnitigMappingQuality: 0<br>  minUnitigBlockLength: 15<br>",
          "filterCalls.minSVSize: 500<br><br>makeRegions: <br>  slop: 250<br>  minCoverage: 0<br>  maxCoverage: 200<br>  maxRegionLength: 100000<br>  minRepeatPeriod: 6<br>  minRepeatLength: 50<br>  functionalRegions: none<br>  genomeBuild: hg38<br>  overlappedFunctionalRegions: false<br>makeCalls: <br>  singleBaseMatchReward: 10<br>  singleBaseMismatchPenalty: 12<br>  gapOpenPenalties: 6,26<br>  gapExtensionPenalties: 1,0<br>  minUnitigMappingQuality: 1<br>filterCalls: <br>  maxIntraClusterDistance: 500<br>  minUnitigMappingQuality: 0<br>  minUnitigBlockLength: 25<br>",
          "filterCalls.minSVSize: 500<br><br>makeRegions: <br>  slop: 250<br>  minCoverage: 0<br>  maxCoverage: 200<br>  maxRegionLength: 100000<br>  minRepeatPeriod: 6<br>  minRepeatLength: 50<br>  functionalRegions: none<br>  genomeBuild: hg38<br>  overlappedFunctionalRegions: false<br>makeCalls: <br>  singleBaseMatchReward: 10<br>  singleBaseMismatchPenalty: 12<br>  gapOpenPenalties: 6,26<br>  gapExtensionPenalties: 1,0<br>  minUnitigMappingQuality: 1<br>filterCalls: <br>  maxIntraClusterDistance: 500<br>  minUnitigMappingQuality: 0<br>  minUnitigBlockLength: 40<br>",
          "filterCalls.minSVSize: 50<br><br>makeRegions: <br>  slop: 250<br>  minCoverage: 0<br>  maxCoverage: 200<br>  maxRegionLength: 100000<br>  minRepeatPeriod: 6<br>  minRepeatLength: 0<br>  functionalRegions: none<br>  genomeBuild: hg38<br>  overlappedFunctionalRegions: false<br>makeCalls: <br>  singleBaseMatchReward: 10<br>  singleBaseMismatchPenalty: 12<br>  gapOpenPenalties: 6,26<br>  gapExtensionPenalties: 1,0<br>  minUnitigMappingQuality: 1<br>filterCalls: <br>  maxIntraClusterDistance: 500<br>  minUnitigMappingQuality: 0<br>  minUnitigBlockLength: 15<br>",
          "filterCalls.minSVSize: 50<br><br>makeRegions: <br>  slop: 250<br>  minCoverage: 0<br>  maxCoverage: 200<br>  maxRegionLength: 100000<br>  minRepeatPeriod: 6<br>  minRepeatLength: 0<br>  functionalRegions: none<br>  genomeBuild: hg38<br>  overlappedFunctionalRegions: false<br>makeCalls: <br>  singleBaseMatchReward: 10<br>  singleBaseMismatchPenalty: 12<br>  gapOpenPenalties: 6,26<br>  gapExtensionPenalties: 1,0<br>  minUnitigMappingQuality: 1<br>filterCalls: <br>  maxIntraClusterDistance: 500<br>  minUnitigMappingQuality: 0<br>  minUnitigBlockLength: 25<br>",
          "filterCalls.minSVSize: 50<br><br>makeRegions: <br>  slop: 250<br>  minCoverage: 0<br>  maxCoverage: 200<br>  maxRegionLength: 100000<br>  minRepeatPeriod: 6<br>  minRepeatLength: 0<br>  functionalRegions: none<br>  genomeBuild: hg38<br>  overlappedFunctionalRegions: false<br>makeCalls: <br>  singleBaseMatchReward: 10<br>  singleBaseMismatchPenalty: 12<br>  gapOpenPenalties: 6,26<br>  gapExtensionPenalties: 1,0<br>  minUnitigMappingQuality: 1<br>filterCalls: <br>  maxIntraClusterDistance: 500<br>  minUnitigMappingQuality: 0<br>  minUnitigBlockLength: 40<br>",
          "filterCalls.minSVSize: 50<br><br>makeRegions: <br>  slop: 250<br>  minCoverage: 0<br>  maxCoverage: 200<br>  maxRegionLength: 100000<br>  minRepeatPeriod: 6<br>  minRepeatLength: 100<br>  functionalRegions: none<br>  genomeBuild: hg38<br>  overlappedFunctionalRegions: false<br>makeCalls: <br>  singleBaseMatchReward: 10<br>  singleBaseMismatchPenalty: 12<br>  gapOpenPenalties: 6,26<br>  gapExtensionPenalties: 1,0<br>  minUnitigMappingQuality: 1<br>filterCalls: <br>  maxIntraClusterDistance: 500<br>  minUnitigMappingQuality: 0<br>  minUnitigBlockLength: 15<br>",
          "filterCalls.minSVSize: 50<br><br>makeRegions: <br>  slop: 250<br>  minCoverage: 0<br>  maxCoverage: 200<br>  maxRegionLength: 100000<br>  minRepeatPeriod: 6<br>  minRepeatLength: 100<br>  functionalRegions: none<br>  genomeBuild: hg38<br>  overlappedFunctionalRegions: false<br>makeCalls: <br>  singleBaseMatchReward: 10<br>  singleBaseMismatchPenalty: 12<br>  gapOpenPenalties: 6,26<br>  gapExtensionPenalties: 1,0<br>  minUnitigMappingQuality: 1<br>filterCalls: <br>  maxIntraClusterDistance: 500<br>  minUnitigMappingQuality: 0<br>  minUnitigBlockLength: 25<br>",
          "filterCalls.minSVSize: 50<br><br>makeRegions: <br>  slop: 250<br>  minCoverage: 0<br>  maxCoverage: 200<br>  maxRegionLength: 100000<br>  minRepeatPeriod: 6<br>  minRepeatLength: 100<br>  functionalRegions: none<br>  genomeBuild: hg38<br>  overlappedFunctionalRegions: false<br>makeCalls: <br>  singleBaseMatchReward: 10<br>  singleBaseMismatchPenalty: 12<br>  gapOpenPenalties: 6,26<br>  gapExtensionPenalties: 1,0<br>  minUnitigMappingQuality: 1<br>filterCalls: <br>  maxIntraClusterDistance: 500<br>  minUnitigMappingQuality: 0<br>  minUnitigBlockLength: 40<br>",
          "filterCalls.minSVSize: 50<br><br>makeRegions: <br>  slop: 250<br>  minCoverage: 0<br>  maxCoverage: 200<br>  maxRegionLength: 100000<br>  minRepeatPeriod: 6<br>  minRepeatLength: 50<br>  functionalRegions: none<br>  genomeBuild: hg38<br>  overlappedFunctionalRegions: false<br>makeCalls: <br>  singleBaseMatchReward: 10<br>  singleBaseMismatchPenalty: 12<br>  gapOpenPenalties: 6,26<br>  gapExtensionPenalties: 1,0<br>  minUnitigMappingQuality: 1<br>filterCalls: <br>  maxIntraClusterDistance: 500<br>  minUnitigMappingQuality: 0<br>  minUnitigBlockLength: 15<br>",
          "filterCalls.minSVSize: 50<br><br>makeRegions: <br>  slop: 250<br>  minCoverage: 0<br>  maxCoverage: 200<br>  maxRegionLength: 100000<br>  minRepeatPeriod: 6<br>  minRepeatLength: 50<br>  functionalRegions: none<br>  genomeBuild: hg38<br>  overlappedFunctionalRegions: false<br>makeCalls: <br>  singleBaseMatchReward: 10<br>  singleBaseMismatchPenalty: 12<br>  gapOpenPenalties: 6,26<br>  gapExtensionPenalties: 1,0<br>  minUnitigMappingQuality: 1<br>filterCalls: <br>  maxIntraClusterDistance: 500<br>  minUnitigMappingQuality: 0<br>  minUnitigBlockLength: 25<br>",
          "filterCalls.minSVSize: 50<br><br>makeRegions: <br>  slop: 250<br>  minCoverage: 0<br>  maxCoverage: 200<br>  maxRegionLength: 100000<br>  minRepeatPeriod: 6<br>  minRepeatLength: 50<br>  functionalRegions: none<br>  genomeBuild: hg38<br>  overlappedFunctionalRegions: false<br>makeCalls: <br>  singleBaseMatchReward: 10<br>  singleBaseMismatchPenalty: 12<br>  gapOpenPenalties: 6,26<br>  gapExtensionPenalties: 1,0<br>  minUnitigMappingQuality: 1<br>filterCalls: <br>  maxIntraClusterDistance: 500<br>  minUnitigMappingQuality: 0<br>  minUnitigBlockLength: 40<br>"
         ],
         "type": "scatter",
         "x": [
          0.25209256523879864,
          0.23879862136878385,
          0.20974889217134415,
          0.25156325156325154,
          0.23953823953823955,
          0.20634920634920634,
          0.25024342745861733,
          0.24050632911392406,
          0.2098344693281402,
          0.06598984771573604,
          0.05583756345177665,
          0.04568527918781726,
          0.07317073170731707,
          0.05365853658536585,
          0.05365853658536585,
          0.06896551724137931,
          0.06403940886699508,
          0.04926108374384237,
          0.3362222222222222,
          0.3208888888888889,
          0.28644444444444445,
          0.3411970292704238,
          0.3241590214067278,
          0.28658802970729574,
          0.3398506151142355,
          0.3229349736379613,
          0.2871265377855888
         ],
         "y": [
          0.26848453067645517,
          0.3509406657018813,
          0.46304347826086956,
          0.26494427558257344,
          0.35045742434905,
          0.45686900958466453,
          0.26535880227155395,
          0.35135135135135137,
          0.46796959826275786,
          0.1625,
          0.2037037037037037,
          0.24324324324324326,
          0.16666666666666666,
          0.22916666666666666,
          0.275,
          0.17073170731707318,
          0.23636363636363636,
          0.2631578947368421,
          0.38616641143440533,
          0.4616368286445013,
          0.5529815529815529,
          0.39030484757621187,
          0.46769618657421996,
          0.556639796351294,
          0.3884007029876977,
          0.46226415094339623,
          0.5545184556639796
         ]
        },
        {
         "hovertemplate": "%{text}",
         "marker": {
          "color": [
           "red",
           "red",
           "red",
           "red",
           "red",
           "red",
           "red",
           "red",
           "red",
           "blue",
           "blue",
           "blue",
           "blue",
           "blue",
           "blue",
           "blue",
           "blue",
           "blue",
           "green",
           "green",
           "green",
           "green",
           "green",
           "green",
           "green",
           "green",
           "green"
          ],
          "line": {
           "color": "black",
           "width": 1
          },
          "size": 10,
          "symbol": "square"
         },
         "mode": "markers",
         "name": "manta",
         "showlegend": false,
         "text": [
          "filterCalls.minSVSize: 100<br><br>makeRegions: <br>  slop: 250<br>  minCoverage: 0<br>  maxCoverage: 200<br>  maxRegionLength: 100000<br>  minRepeatPeriod: 6<br>  minRepeatLength: 0<br>  functionalRegions: none<br>  genomeBuild: hg38<br>  overlappedFunctionalRegions: false<br>makeCalls: <br>  singleBaseMatchReward: 10<br>  singleBaseMismatchPenalty: 12<br>  gapOpenPenalties: 6,26<br>  gapExtensionPenalties: 1,0<br>  minUnitigMappingQuality: 1<br>filterCalls: <br>  maxIntraClusterDistance: 500<br>  minUnitigMappingQuality: 0<br>  minUnitigBlockLength: 15<br>",
          "filterCalls.minSVSize: 100<br><br>makeRegions: <br>  slop: 250<br>  minCoverage: 0<br>  maxCoverage: 200<br>  maxRegionLength: 100000<br>  minRepeatPeriod: 6<br>  minRepeatLength: 0<br>  functionalRegions: none<br>  genomeBuild: hg38<br>  overlappedFunctionalRegions: false<br>makeCalls: <br>  singleBaseMatchReward: 10<br>  singleBaseMismatchPenalty: 12<br>  gapOpenPenalties: 6,26<br>  gapExtensionPenalties: 1,0<br>  minUnitigMappingQuality: 1<br>filterCalls: <br>  maxIntraClusterDistance: 500<br>  minUnitigMappingQuality: 0<br>  minUnitigBlockLength: 25<br>",
          "filterCalls.minSVSize: 100<br><br>makeRegions: <br>  slop: 250<br>  minCoverage: 0<br>  maxCoverage: 200<br>  maxRegionLength: 100000<br>  minRepeatPeriod: 6<br>  minRepeatLength: 0<br>  functionalRegions: none<br>  genomeBuild: hg38<br>  overlappedFunctionalRegions: false<br>makeCalls: <br>  singleBaseMatchReward: 10<br>  singleBaseMismatchPenalty: 12<br>  gapOpenPenalties: 6,26<br>  gapExtensionPenalties: 1,0<br>  minUnitigMappingQuality: 1<br>filterCalls: <br>  maxIntraClusterDistance: 500<br>  minUnitigMappingQuality: 0<br>  minUnitigBlockLength: 40<br>",
          "filterCalls.minSVSize: 100<br><br>makeRegions: <br>  slop: 250<br>  minCoverage: 0<br>  maxCoverage: 200<br>  maxRegionLength: 100000<br>  minRepeatPeriod: 6<br>  minRepeatLength: 100<br>  functionalRegions: none<br>  genomeBuild: hg38<br>  overlappedFunctionalRegions: false<br>makeCalls: <br>  singleBaseMatchReward: 10<br>  singleBaseMismatchPenalty: 12<br>  gapOpenPenalties: 6,26<br>  gapExtensionPenalties: 1,0<br>  minUnitigMappingQuality: 1<br>filterCalls: <br>  maxIntraClusterDistance: 500<br>  minUnitigMappingQuality: 0<br>  minUnitigBlockLength: 15<br>",
          "filterCalls.minSVSize: 100<br><br>makeRegions: <br>  slop: 250<br>  minCoverage: 0<br>  maxCoverage: 200<br>  maxRegionLength: 100000<br>  minRepeatPeriod: 6<br>  minRepeatLength: 100<br>  functionalRegions: none<br>  genomeBuild: hg38<br>  overlappedFunctionalRegions: false<br>makeCalls: <br>  singleBaseMatchReward: 10<br>  singleBaseMismatchPenalty: 12<br>  gapOpenPenalties: 6,26<br>  gapExtensionPenalties: 1,0<br>  minUnitigMappingQuality: 1<br>filterCalls: <br>  maxIntraClusterDistance: 500<br>  minUnitigMappingQuality: 0<br>  minUnitigBlockLength: 25<br>",
          "filterCalls.minSVSize: 100<br><br>makeRegions: <br>  slop: 250<br>  minCoverage: 0<br>  maxCoverage: 200<br>  maxRegionLength: 100000<br>  minRepeatPeriod: 6<br>  minRepeatLength: 100<br>  functionalRegions: none<br>  genomeBuild: hg38<br>  overlappedFunctionalRegions: false<br>makeCalls: <br>  singleBaseMatchReward: 10<br>  singleBaseMismatchPenalty: 12<br>  gapOpenPenalties: 6,26<br>  gapExtensionPenalties: 1,0<br>  minUnitigMappingQuality: 1<br>filterCalls: <br>  maxIntraClusterDistance: 500<br>  minUnitigMappingQuality: 0<br>  minUnitigBlockLength: 40<br>",
          "filterCalls.minSVSize: 100<br><br>makeRegions: <br>  slop: 250<br>  minCoverage: 0<br>  maxCoverage: 200<br>  maxRegionLength: 100000<br>  minRepeatPeriod: 6<br>  minRepeatLength: 50<br>  functionalRegions: none<br>  genomeBuild: hg38<br>  overlappedFunctionalRegions: false<br>makeCalls: <br>  singleBaseMatchReward: 10<br>  singleBaseMismatchPenalty: 12<br>  gapOpenPenalties: 6,26<br>  gapExtensionPenalties: 1,0<br>  minUnitigMappingQuality: 1<br>filterCalls: <br>  maxIntraClusterDistance: 500<br>  minUnitigMappingQuality: 0<br>  minUnitigBlockLength: 15<br>",
          "filterCalls.minSVSize: 100<br><br>makeRegions: <br>  slop: 250<br>  minCoverage: 0<br>  maxCoverage: 200<br>  maxRegionLength: 100000<br>  minRepeatPeriod: 6<br>  minRepeatLength: 50<br>  functionalRegions: none<br>  genomeBuild: hg38<br>  overlappedFunctionalRegions: false<br>makeCalls: <br>  singleBaseMatchReward: 10<br>  singleBaseMismatchPenalty: 12<br>  gapOpenPenalties: 6,26<br>  gapExtensionPenalties: 1,0<br>  minUnitigMappingQuality: 1<br>filterCalls: <br>  maxIntraClusterDistance: 500<br>  minUnitigMappingQuality: 0<br>  minUnitigBlockLength: 25<br>",
          "filterCalls.minSVSize: 100<br><br>makeRegions: <br>  slop: 250<br>  minCoverage: 0<br>  maxCoverage: 200<br>  maxRegionLength: 100000<br>  minRepeatPeriod: 6<br>  minRepeatLength: 50<br>  functionalRegions: none<br>  genomeBuild: hg38<br>  overlappedFunctionalRegions: false<br>makeCalls: <br>  singleBaseMatchReward: 10<br>  singleBaseMismatchPenalty: 12<br>  gapOpenPenalties: 6,26<br>  gapExtensionPenalties: 1,0<br>  minUnitigMappingQuality: 1<br>filterCalls: <br>  maxIntraClusterDistance: 500<br>  minUnitigMappingQuality: 0<br>  minUnitigBlockLength: 40<br>",
          "filterCalls.minSVSize: 500<br><br>makeRegions: <br>  slop: 250<br>  minCoverage: 0<br>  maxCoverage: 200<br>  maxRegionLength: 100000<br>  minRepeatPeriod: 6<br>  minRepeatLength: 0<br>  functionalRegions: none<br>  genomeBuild: hg38<br>  overlappedFunctionalRegions: false<br>makeCalls: <br>  singleBaseMatchReward: 10<br>  singleBaseMismatchPenalty: 12<br>  gapOpenPenalties: 6,26<br>  gapExtensionPenalties: 1,0<br>  minUnitigMappingQuality: 1<br>filterCalls: <br>  maxIntraClusterDistance: 500<br>  minUnitigMappingQuality: 0<br>  minUnitigBlockLength: 15<br>",
          "filterCalls.minSVSize: 500<br><br>makeRegions: <br>  slop: 250<br>  minCoverage: 0<br>  maxCoverage: 200<br>  maxRegionLength: 100000<br>  minRepeatPeriod: 6<br>  minRepeatLength: 0<br>  functionalRegions: none<br>  genomeBuild: hg38<br>  overlappedFunctionalRegions: false<br>makeCalls: <br>  singleBaseMatchReward: 10<br>  singleBaseMismatchPenalty: 12<br>  gapOpenPenalties: 6,26<br>  gapExtensionPenalties: 1,0<br>  minUnitigMappingQuality: 1<br>filterCalls: <br>  maxIntraClusterDistance: 500<br>  minUnitigMappingQuality: 0<br>  minUnitigBlockLength: 25<br>",
          "filterCalls.minSVSize: 500<br><br>makeRegions: <br>  slop: 250<br>  minCoverage: 0<br>  maxCoverage: 200<br>  maxRegionLength: 100000<br>  minRepeatPeriod: 6<br>  minRepeatLength: 0<br>  functionalRegions: none<br>  genomeBuild: hg38<br>  overlappedFunctionalRegions: false<br>makeCalls: <br>  singleBaseMatchReward: 10<br>  singleBaseMismatchPenalty: 12<br>  gapOpenPenalties: 6,26<br>  gapExtensionPenalties: 1,0<br>  minUnitigMappingQuality: 1<br>filterCalls: <br>  maxIntraClusterDistance: 500<br>  minUnitigMappingQuality: 0<br>  minUnitigBlockLength: 40<br>",
          "filterCalls.minSVSize: 500<br><br>makeRegions: <br>  slop: 250<br>  minCoverage: 0<br>  maxCoverage: 200<br>  maxRegionLength: 100000<br>  minRepeatPeriod: 6<br>  minRepeatLength: 100<br>  functionalRegions: none<br>  genomeBuild: hg38<br>  overlappedFunctionalRegions: false<br>makeCalls: <br>  singleBaseMatchReward: 10<br>  singleBaseMismatchPenalty: 12<br>  gapOpenPenalties: 6,26<br>  gapExtensionPenalties: 1,0<br>  minUnitigMappingQuality: 1<br>filterCalls: <br>  maxIntraClusterDistance: 500<br>  minUnitigMappingQuality: 0<br>  minUnitigBlockLength: 15<br>",
          "filterCalls.minSVSize: 500<br><br>makeRegions: <br>  slop: 250<br>  minCoverage: 0<br>  maxCoverage: 200<br>  maxRegionLength: 100000<br>  minRepeatPeriod: 6<br>  minRepeatLength: 100<br>  functionalRegions: none<br>  genomeBuild: hg38<br>  overlappedFunctionalRegions: false<br>makeCalls: <br>  singleBaseMatchReward: 10<br>  singleBaseMismatchPenalty: 12<br>  gapOpenPenalties: 6,26<br>  gapExtensionPenalties: 1,0<br>  minUnitigMappingQuality: 1<br>filterCalls: <br>  maxIntraClusterDistance: 500<br>  minUnitigMappingQuality: 0<br>  minUnitigBlockLength: 25<br>",
          "filterCalls.minSVSize: 500<br><br>makeRegions: <br>  slop: 250<br>  minCoverage: 0<br>  maxCoverage: 200<br>  maxRegionLength: 100000<br>  minRepeatPeriod: 6<br>  minRepeatLength: 100<br>  functionalRegions: none<br>  genomeBuild: hg38<br>  overlappedFunctionalRegions: false<br>makeCalls: <br>  singleBaseMatchReward: 10<br>  singleBaseMismatchPenalty: 12<br>  gapOpenPenalties: 6,26<br>  gapExtensionPenalties: 1,0<br>  minUnitigMappingQuality: 1<br>filterCalls: <br>  maxIntraClusterDistance: 500<br>  minUnitigMappingQuality: 0<br>  minUnitigBlockLength: 40<br>",
          "filterCalls.minSVSize: 500<br><br>makeRegions: <br>  slop: 250<br>  minCoverage: 0<br>  maxCoverage: 200<br>  maxRegionLength: 100000<br>  minRepeatPeriod: 6<br>  minRepeatLength: 50<br>  functionalRegions: none<br>  genomeBuild: hg38<br>  overlappedFunctionalRegions: false<br>makeCalls: <br>  singleBaseMatchReward: 10<br>  singleBaseMismatchPenalty: 12<br>  gapOpenPenalties: 6,26<br>  gapExtensionPenalties: 1,0<br>  minUnitigMappingQuality: 1<br>filterCalls: <br>  maxIntraClusterDistance: 500<br>  minUnitigMappingQuality: 0<br>  minUnitigBlockLength: 15<br>",
          "filterCalls.minSVSize: 500<br><br>makeRegions: <br>  slop: 250<br>  minCoverage: 0<br>  maxCoverage: 200<br>  maxRegionLength: 100000<br>  minRepeatPeriod: 6<br>  minRepeatLength: 50<br>  functionalRegions: none<br>  genomeBuild: hg38<br>  overlappedFunctionalRegions: false<br>makeCalls: <br>  singleBaseMatchReward: 10<br>  singleBaseMismatchPenalty: 12<br>  gapOpenPenalties: 6,26<br>  gapExtensionPenalties: 1,0<br>  minUnitigMappingQuality: 1<br>filterCalls: <br>  maxIntraClusterDistance: 500<br>  minUnitigMappingQuality: 0<br>  minUnitigBlockLength: 25<br>",
          "filterCalls.minSVSize: 500<br><br>makeRegions: <br>  slop: 250<br>  minCoverage: 0<br>  maxCoverage: 200<br>  maxRegionLength: 100000<br>  minRepeatPeriod: 6<br>  minRepeatLength: 50<br>  functionalRegions: none<br>  genomeBuild: hg38<br>  overlappedFunctionalRegions: false<br>makeCalls: <br>  singleBaseMatchReward: 10<br>  singleBaseMismatchPenalty: 12<br>  gapOpenPenalties: 6,26<br>  gapExtensionPenalties: 1,0<br>  minUnitigMappingQuality: 1<br>filterCalls: <br>  maxIntraClusterDistance: 500<br>  minUnitigMappingQuality: 0<br>  minUnitigBlockLength: 40<br>",
          "filterCalls.minSVSize: 50<br><br>makeRegions: <br>  slop: 250<br>  minCoverage: 0<br>  maxCoverage: 200<br>  maxRegionLength: 100000<br>  minRepeatPeriod: 6<br>  minRepeatLength: 0<br>  functionalRegions: none<br>  genomeBuild: hg38<br>  overlappedFunctionalRegions: false<br>makeCalls: <br>  singleBaseMatchReward: 10<br>  singleBaseMismatchPenalty: 12<br>  gapOpenPenalties: 6,26<br>  gapExtensionPenalties: 1,0<br>  minUnitigMappingQuality: 1<br>filterCalls: <br>  maxIntraClusterDistance: 500<br>  minUnitigMappingQuality: 0<br>  minUnitigBlockLength: 15<br>",
          "filterCalls.minSVSize: 50<br><br>makeRegions: <br>  slop: 250<br>  minCoverage: 0<br>  maxCoverage: 200<br>  maxRegionLength: 100000<br>  minRepeatPeriod: 6<br>  minRepeatLength: 0<br>  functionalRegions: none<br>  genomeBuild: hg38<br>  overlappedFunctionalRegions: false<br>makeCalls: <br>  singleBaseMatchReward: 10<br>  singleBaseMismatchPenalty: 12<br>  gapOpenPenalties: 6,26<br>  gapExtensionPenalties: 1,0<br>  minUnitigMappingQuality: 1<br>filterCalls: <br>  maxIntraClusterDistance: 500<br>  minUnitigMappingQuality: 0<br>  minUnitigBlockLength: 25<br>",
          "filterCalls.minSVSize: 50<br><br>makeRegions: <br>  slop: 250<br>  minCoverage: 0<br>  maxCoverage: 200<br>  maxRegionLength: 100000<br>  minRepeatPeriod: 6<br>  minRepeatLength: 0<br>  functionalRegions: none<br>  genomeBuild: hg38<br>  overlappedFunctionalRegions: false<br>makeCalls: <br>  singleBaseMatchReward: 10<br>  singleBaseMismatchPenalty: 12<br>  gapOpenPenalties: 6,26<br>  gapExtensionPenalties: 1,0<br>  minUnitigMappingQuality: 1<br>filterCalls: <br>  maxIntraClusterDistance: 500<br>  minUnitigMappingQuality: 0<br>  minUnitigBlockLength: 40<br>",
          "filterCalls.minSVSize: 50<br><br>makeRegions: <br>  slop: 250<br>  minCoverage: 0<br>  maxCoverage: 200<br>  maxRegionLength: 100000<br>  minRepeatPeriod: 6<br>  minRepeatLength: 100<br>  functionalRegions: none<br>  genomeBuild: hg38<br>  overlappedFunctionalRegions: false<br>makeCalls: <br>  singleBaseMatchReward: 10<br>  singleBaseMismatchPenalty: 12<br>  gapOpenPenalties: 6,26<br>  gapExtensionPenalties: 1,0<br>  minUnitigMappingQuality: 1<br>filterCalls: <br>  maxIntraClusterDistance: 500<br>  minUnitigMappingQuality: 0<br>  minUnitigBlockLength: 15<br>",
          "filterCalls.minSVSize: 50<br><br>makeRegions: <br>  slop: 250<br>  minCoverage: 0<br>  maxCoverage: 200<br>  maxRegionLength: 100000<br>  minRepeatPeriod: 6<br>  minRepeatLength: 100<br>  functionalRegions: none<br>  genomeBuild: hg38<br>  overlappedFunctionalRegions: false<br>makeCalls: <br>  singleBaseMatchReward: 10<br>  singleBaseMismatchPenalty: 12<br>  gapOpenPenalties: 6,26<br>  gapExtensionPenalties: 1,0<br>  minUnitigMappingQuality: 1<br>filterCalls: <br>  maxIntraClusterDistance: 500<br>  minUnitigMappingQuality: 0<br>  minUnitigBlockLength: 25<br>",
          "filterCalls.minSVSize: 50<br><br>makeRegions: <br>  slop: 250<br>  minCoverage: 0<br>  maxCoverage: 200<br>  maxRegionLength: 100000<br>  minRepeatPeriod: 6<br>  minRepeatLength: 100<br>  functionalRegions: none<br>  genomeBuild: hg38<br>  overlappedFunctionalRegions: false<br>makeCalls: <br>  singleBaseMatchReward: 10<br>  singleBaseMismatchPenalty: 12<br>  gapOpenPenalties: 6,26<br>  gapExtensionPenalties: 1,0<br>  minUnitigMappingQuality: 1<br>filterCalls: <br>  maxIntraClusterDistance: 500<br>  minUnitigMappingQuality: 0<br>  minUnitigBlockLength: 40<br>",
          "filterCalls.minSVSize: 50<br><br>makeRegions: <br>  slop: 250<br>  minCoverage: 0<br>  maxCoverage: 200<br>  maxRegionLength: 100000<br>  minRepeatPeriod: 6<br>  minRepeatLength: 50<br>  functionalRegions: none<br>  genomeBuild: hg38<br>  overlappedFunctionalRegions: false<br>makeCalls: <br>  singleBaseMatchReward: 10<br>  singleBaseMismatchPenalty: 12<br>  gapOpenPenalties: 6,26<br>  gapExtensionPenalties: 1,0<br>  minUnitigMappingQuality: 1<br>filterCalls: <br>  maxIntraClusterDistance: 500<br>  minUnitigMappingQuality: 0<br>  minUnitigBlockLength: 15<br>",
          "filterCalls.minSVSize: 50<br><br>makeRegions: <br>  slop: 250<br>  minCoverage: 0<br>  maxCoverage: 200<br>  maxRegionLength: 100000<br>  minRepeatPeriod: 6<br>  minRepeatLength: 50<br>  functionalRegions: none<br>  genomeBuild: hg38<br>  overlappedFunctionalRegions: false<br>makeCalls: <br>  singleBaseMatchReward: 10<br>  singleBaseMismatchPenalty: 12<br>  gapOpenPenalties: 6,26<br>  gapExtensionPenalties: 1,0<br>  minUnitigMappingQuality: 1<br>filterCalls: <br>  maxIntraClusterDistance: 500<br>  minUnitigMappingQuality: 0<br>  minUnitigBlockLength: 25<br>",
          "filterCalls.minSVSize: 50<br><br>makeRegions: <br>  slop: 250<br>  minCoverage: 0<br>  maxCoverage: 200<br>  maxRegionLength: 100000<br>  minRepeatPeriod: 6<br>  minRepeatLength: 50<br>  functionalRegions: none<br>  genomeBuild: hg38<br>  overlappedFunctionalRegions: false<br>makeCalls: <br>  singleBaseMatchReward: 10<br>  singleBaseMismatchPenalty: 12<br>  gapOpenPenalties: 6,26<br>  gapExtensionPenalties: 1,0<br>  minUnitigMappingQuality: 1<br>filterCalls: <br>  maxIntraClusterDistance: 500<br>  minUnitigMappingQuality: 0<br>  minUnitigBlockLength: 40<br>"
         ],
         "type": "scatter",
         "x": [
          0.17183653372722796,
          0.17183653372722796,
          0.17183653372722796,
          0.1693121693121693,
          0.1693121693121693,
          0.1693121693121693,
          0.17088607594936708,
          0.17088607594936708,
          0.17088607594936708,
          0.16243654822335024,
          0.16243654822335024,
          0.16243654822335024,
          0.17560975609756097,
          0.17560975609756097,
          0.17560975609756097,
          0.1724137931034483,
          0.1724137931034483,
          0.1724137931034483,
          0.24133333333333334,
          0.24133333333333334,
          0.24133333333333334,
          0.23525557011795545,
          0.23525557011795545,
          0.23525557011795545,
          0.23967486818980668,
          0.23967486818980668,
          0.23967486818980668
         ],
         "y": [
          0.4101057579318449,
          0.4101057579318449,
          0.4101057579318449,
          0.4041331802525832,
          0.4041331802525832,
          0.4041331802525832,
          0.4100467289719626,
          0.4100467289719626,
          0.4100467289719626,
          0.3595505617977528,
          0.3595505617977528,
          0.3595505617977528,
          0.3829787234042553,
          0.3829787234042553,
          0.3829787234042553,
          0.3763440860215054,
          0.3763440860215054,
          0.3763440860215054,
          0.5161596958174905,
          0.5161596958174905,
          0.5161596958174905,
          0.5135908440629471,
          0.5135908440629471,
          0.5135908440629471,
          0.5165719696969697,
          0.5165719696969697,
          0.5165719696969697
         ]
        },
        {
         "marker": {
          "color": "white",
          "line": {
           "color": "black",
           "width": 1
          },
          "size": 10,
          "symbol": "circle"
         },
         "mode": "markers",
         "name": "trfermikit",
         "type": "scatter",
         "y": [
          null
         ]
        },
        {
         "marker": {
          "color": "white",
          "line": {
           "color": "black",
           "width": 1
          },
          "size": 10,
          "symbol": "square"
         },
         "mode": "markers",
         "name": "manta",
         "type": "scatter",
         "y": [
          null
         ]
        },
        {
         "marker": {
          "color": "green",
          "size": 10,
          "symbol": "circle"
         },
         "mode": "markers",
         "name": "minSVSize=50",
         "type": "scatter",
         "y": [
          null
         ]
        },
        {
         "marker": {
          "color": "red",
          "size": 10,
          "symbol": "circle"
         },
         "mode": "markers",
         "name": "minSVSize=100",
         "type": "scatter",
         "y": [
          null
         ]
        },
        {
         "marker": {
          "color": "blue",
          "size": 10,
          "symbol": "circle"
         },
         "mode": "markers",
         "name": "minSVSize=500",
         "type": "scatter",
         "y": [
          null
         ]
        }
       ],
       "layout": {
        "template": {
         "data": {
          "bar": [
           {
            "error_x": {
             "color": "#2a3f5f"
            },
            "error_y": {
             "color": "#2a3f5f"
            },
            "marker": {
             "line": {
              "color": "#E5ECF6",
              "width": 0.5
             }
            },
            "type": "bar"
           }
          ],
          "barpolar": [
           {
            "marker": {
             "line": {
              "color": "#E5ECF6",
              "width": 0.5
             }
            },
            "type": "barpolar"
           }
          ],
          "carpet": [
           {
            "aaxis": {
             "endlinecolor": "#2a3f5f",
             "gridcolor": "white",
             "linecolor": "white",
             "minorgridcolor": "white",
             "startlinecolor": "#2a3f5f"
            },
            "baxis": {
             "endlinecolor": "#2a3f5f",
             "gridcolor": "white",
             "linecolor": "white",
             "minorgridcolor": "white",
             "startlinecolor": "#2a3f5f"
            },
            "type": "carpet"
           }
          ],
          "choropleth": [
           {
            "colorbar": {
             "outlinewidth": 0,
             "ticks": ""
            },
            "type": "choropleth"
           }
          ],
          "contour": [
           {
            "colorbar": {
             "outlinewidth": 0,
             "ticks": ""
            },
            "colorscale": [
             [
              0,
              "#0d0887"
             ],
             [
              0.1111111111111111,
              "#46039f"
             ],
             [
              0.2222222222222222,
              "#7201a8"
             ],
             [
              0.3333333333333333,
              "#9c179e"
             ],
             [
              0.4444444444444444,
              "#bd3786"
             ],
             [
              0.5555555555555556,
              "#d8576b"
             ],
             [
              0.6666666666666666,
              "#ed7953"
             ],
             [
              0.7777777777777778,
              "#fb9f3a"
             ],
             [
              0.8888888888888888,
              "#fdca26"
             ],
             [
              1,
              "#f0f921"
             ]
            ],
            "type": "contour"
           }
          ],
          "contourcarpet": [
           {
            "colorbar": {
             "outlinewidth": 0,
             "ticks": ""
            },
            "type": "contourcarpet"
           }
          ],
          "heatmap": [
           {
            "colorbar": {
             "outlinewidth": 0,
             "ticks": ""
            },
            "colorscale": [
             [
              0,
              "#0d0887"
             ],
             [
              0.1111111111111111,
              "#46039f"
             ],
             [
              0.2222222222222222,
              "#7201a8"
             ],
             [
              0.3333333333333333,
              "#9c179e"
             ],
             [
              0.4444444444444444,
              "#bd3786"
             ],
             [
              0.5555555555555556,
              "#d8576b"
             ],
             [
              0.6666666666666666,
              "#ed7953"
             ],
             [
              0.7777777777777778,
              "#fb9f3a"
             ],
             [
              0.8888888888888888,
              "#fdca26"
             ],
             [
              1,
              "#f0f921"
             ]
            ],
            "type": "heatmap"
           }
          ],
          "heatmapgl": [
           {
            "colorbar": {
             "outlinewidth": 0,
             "ticks": ""
            },
            "colorscale": [
             [
              0,
              "#0d0887"
             ],
             [
              0.1111111111111111,
              "#46039f"
             ],
             [
              0.2222222222222222,
              "#7201a8"
             ],
             [
              0.3333333333333333,
              "#9c179e"
             ],
             [
              0.4444444444444444,
              "#bd3786"
             ],
             [
              0.5555555555555556,
              "#d8576b"
             ],
             [
              0.6666666666666666,
              "#ed7953"
             ],
             [
              0.7777777777777778,
              "#fb9f3a"
             ],
             [
              0.8888888888888888,
              "#fdca26"
             ],
             [
              1,
              "#f0f921"
             ]
            ],
            "type": "heatmapgl"
           }
          ],
          "histogram": [
           {
            "marker": {
             "colorbar": {
              "outlinewidth": 0,
              "ticks": ""
             }
            },
            "type": "histogram"
           }
          ],
          "histogram2d": [
           {
            "colorbar": {
             "outlinewidth": 0,
             "ticks": ""
            },
            "colorscale": [
             [
              0,
              "#0d0887"
             ],
             [
              0.1111111111111111,
              "#46039f"
             ],
             [
              0.2222222222222222,
              "#7201a8"
             ],
             [
              0.3333333333333333,
              "#9c179e"
             ],
             [
              0.4444444444444444,
              "#bd3786"
             ],
             [
              0.5555555555555556,
              "#d8576b"
             ],
             [
              0.6666666666666666,
              "#ed7953"
             ],
             [
              0.7777777777777778,
              "#fb9f3a"
             ],
             [
              0.8888888888888888,
              "#fdca26"
             ],
             [
              1,
              "#f0f921"
             ]
            ],
            "type": "histogram2d"
           }
          ],
          "histogram2dcontour": [
           {
            "colorbar": {
             "outlinewidth": 0,
             "ticks": ""
            },
            "colorscale": [
             [
              0,
              "#0d0887"
             ],
             [
              0.1111111111111111,
              "#46039f"
             ],
             [
              0.2222222222222222,
              "#7201a8"
             ],
             [
              0.3333333333333333,
              "#9c179e"
             ],
             [
              0.4444444444444444,
              "#bd3786"
             ],
             [
              0.5555555555555556,
              "#d8576b"
             ],
             [
              0.6666666666666666,
              "#ed7953"
             ],
             [
              0.7777777777777778,
              "#fb9f3a"
             ],
             [
              0.8888888888888888,
              "#fdca26"
             ],
             [
              1,
              "#f0f921"
             ]
            ],
            "type": "histogram2dcontour"
           }
          ],
          "mesh3d": [
           {
            "colorbar": {
             "outlinewidth": 0,
             "ticks": ""
            },
            "type": "mesh3d"
           }
          ],
          "parcoords": [
           {
            "line": {
             "colorbar": {
              "outlinewidth": 0,
              "ticks": ""
             }
            },
            "type": "parcoords"
           }
          ],
          "pie": [
           {
            "automargin": true,
            "type": "pie"
           }
          ],
          "scatter": [
           {
            "marker": {
             "colorbar": {
              "outlinewidth": 0,
              "ticks": ""
             }
            },
            "type": "scatter"
           }
          ],
          "scatter3d": [
           {
            "line": {
             "colorbar": {
              "outlinewidth": 0,
              "ticks": ""
             }
            },
            "marker": {
             "colorbar": {
              "outlinewidth": 0,
              "ticks": ""
             }
            },
            "type": "scatter3d"
           }
          ],
          "scattercarpet": [
           {
            "marker": {
             "colorbar": {
              "outlinewidth": 0,
              "ticks": ""
             }
            },
            "type": "scattercarpet"
           }
          ],
          "scattergeo": [
           {
            "marker": {
             "colorbar": {
              "outlinewidth": 0,
              "ticks": ""
             }
            },
            "type": "scattergeo"
           }
          ],
          "scattergl": [
           {
            "marker": {
             "colorbar": {
              "outlinewidth": 0,
              "ticks": ""
             }
            },
            "type": "scattergl"
           }
          ],
          "scattermapbox": [
           {
            "marker": {
             "colorbar": {
              "outlinewidth": 0,
              "ticks": ""
             }
            },
            "type": "scattermapbox"
           }
          ],
          "scatterpolar": [
           {
            "marker": {
             "colorbar": {
              "outlinewidth": 0,
              "ticks": ""
             }
            },
            "type": "scatterpolar"
           }
          ],
          "scatterpolargl": [
           {
            "marker": {
             "colorbar": {
              "outlinewidth": 0,
              "ticks": ""
             }
            },
            "type": "scatterpolargl"
           }
          ],
          "scatterternary": [
           {
            "marker": {
             "colorbar": {
              "outlinewidth": 0,
              "ticks": ""
             }
            },
            "type": "scatterternary"
           }
          ],
          "surface": [
           {
            "colorbar": {
             "outlinewidth": 0,
             "ticks": ""
            },
            "colorscale": [
             [
              0,
              "#0d0887"
             ],
             [
              0.1111111111111111,
              "#46039f"
             ],
             [
              0.2222222222222222,
              "#7201a8"
             ],
             [
              0.3333333333333333,
              "#9c179e"
             ],
             [
              0.4444444444444444,
              "#bd3786"
             ],
             [
              0.5555555555555556,
              "#d8576b"
             ],
             [
              0.6666666666666666,
              "#ed7953"
             ],
             [
              0.7777777777777778,
              "#fb9f3a"
             ],
             [
              0.8888888888888888,
              "#fdca26"
             ],
             [
              1,
              "#f0f921"
             ]
            ],
            "type": "surface"
           }
          ],
          "table": [
           {
            "cells": {
             "fill": {
              "color": "#EBF0F8"
             },
             "line": {
              "color": "white"
             }
            },
            "header": {
             "fill": {
              "color": "#C8D4E3"
             },
             "line": {
              "color": "white"
             }
            },
            "type": "table"
           }
          ]
         },
         "layout": {
          "annotationdefaults": {
           "arrowcolor": "#2a3f5f",
           "arrowhead": 0,
           "arrowwidth": 1
          },
          "autotypenumbers": "strict",
          "coloraxis": {
           "colorbar": {
            "outlinewidth": 0,
            "ticks": ""
           }
          },
          "colorscale": {
           "diverging": [
            [
             0,
             "#8e0152"
            ],
            [
             0.1,
             "#c51b7d"
            ],
            [
             0.2,
             "#de77ae"
            ],
            [
             0.3,
             "#f1b6da"
            ],
            [
             0.4,
             "#fde0ef"
            ],
            [
             0.5,
             "#f7f7f7"
            ],
            [
             0.6,
             "#e6f5d0"
            ],
            [
             0.7,
             "#b8e186"
            ],
            [
             0.8,
             "#7fbc41"
            ],
            [
             0.9,
             "#4d9221"
            ],
            [
             1,
             "#276419"
            ]
           ],
           "sequential": [
            [
             0,
             "#0d0887"
            ],
            [
             0.1111111111111111,
             "#46039f"
            ],
            [
             0.2222222222222222,
             "#7201a8"
            ],
            [
             0.3333333333333333,
             "#9c179e"
            ],
            [
             0.4444444444444444,
             "#bd3786"
            ],
            [
             0.5555555555555556,
             "#d8576b"
            ],
            [
             0.6666666666666666,
             "#ed7953"
            ],
            [
             0.7777777777777778,
             "#fb9f3a"
            ],
            [
             0.8888888888888888,
             "#fdca26"
            ],
            [
             1,
             "#f0f921"
            ]
           ],
           "sequentialminus": [
            [
             0,
             "#0d0887"
            ],
            [
             0.1111111111111111,
             "#46039f"
            ],
            [
             0.2222222222222222,
             "#7201a8"
            ],
            [
             0.3333333333333333,
             "#9c179e"
            ],
            [
             0.4444444444444444,
             "#bd3786"
            ],
            [
             0.5555555555555556,
             "#d8576b"
            ],
            [
             0.6666666666666666,
             "#ed7953"
            ],
            [
             0.7777777777777778,
             "#fb9f3a"
            ],
            [
             0.8888888888888888,
             "#fdca26"
            ],
            [
             1,
             "#f0f921"
            ]
           ]
          },
          "colorway": [
           "#636efa",
           "#EF553B",
           "#00cc96",
           "#ab63fa",
           "#FFA15A",
           "#19d3f3",
           "#FF6692",
           "#B6E880",
           "#FF97FF",
           "#FECB52"
          ],
          "font": {
           "color": "#2a3f5f"
          },
          "geo": {
           "bgcolor": "white",
           "lakecolor": "white",
           "landcolor": "#E5ECF6",
           "showlakes": true,
           "showland": true,
           "subunitcolor": "white"
          },
          "hoverlabel": {
           "align": "left"
          },
          "hovermode": "closest",
          "mapbox": {
           "style": "light"
          },
          "paper_bgcolor": "white",
          "plot_bgcolor": "#E5ECF6",
          "polar": {
           "angularaxis": {
            "gridcolor": "white",
            "linecolor": "white",
            "ticks": ""
           },
           "bgcolor": "#E5ECF6",
           "radialaxis": {
            "gridcolor": "white",
            "linecolor": "white",
            "ticks": ""
           }
          },
          "scene": {
           "xaxis": {
            "backgroundcolor": "#E5ECF6",
            "gridcolor": "white",
            "gridwidth": 2,
            "linecolor": "white",
            "showbackground": true,
            "ticks": "",
            "zerolinecolor": "white"
           },
           "yaxis": {
            "backgroundcolor": "#E5ECF6",
            "gridcolor": "white",
            "gridwidth": 2,
            "linecolor": "white",
            "showbackground": true,
            "ticks": "",
            "zerolinecolor": "white"
           },
           "zaxis": {
            "backgroundcolor": "#E5ECF6",
            "gridcolor": "white",
            "gridwidth": 2,
            "linecolor": "white",
            "showbackground": true,
            "ticks": "",
            "zerolinecolor": "white"
           }
          },
          "shapedefaults": {
           "line": {
            "color": "#2a3f5f"
           }
          },
          "ternary": {
           "aaxis": {
            "gridcolor": "white",
            "linecolor": "white",
            "ticks": ""
           },
           "baxis": {
            "gridcolor": "white",
            "linecolor": "white",
            "ticks": ""
           },
           "bgcolor": "#E5ECF6",
           "caxis": {
            "gridcolor": "white",
            "linecolor": "white",
            "ticks": ""
           }
          },
          "title": {
           "x": 0.05
          },
          "xaxis": {
           "automargin": true,
           "gridcolor": "white",
           "linecolor": "white",
           "ticks": "",
           "title": {
            "standoff": 15
           },
           "zerolinecolor": "white",
           "zerolinewidth": 2
          },
          "yaxis": {
           "automargin": true,
           "gridcolor": "white",
           "linecolor": "white",
           "ticks": "",
           "title": {
            "standoff": 15
           },
           "zerolinecolor": "white",
           "zerolinewidth": 2
          }
         }
        },
        "title": {
         "text": "DEL<br>minSVSize moves precision and recall in same direction;<br>trfermikit dominates manta only when small SVs are included:",
         "x": 0.5,
         "y": 0.9
        },
        "xaxis": {
         "title": {
          "text": "recall"
         }
        },
        "yaxis": {
         "title": {
          "text": "precision"
         }
        }
       }
      },
      "text/html": [
       "<div>                            <div id=\"43d80ee2-0392-4eed-af46-ee06936348c1\" class=\"plotly-graph-div\" style=\"height:525px; width:100%;\"></div>            <script type=\"text/javascript\">                require([\"plotly\"], function(Plotly) {                    window.PLOTLYENV=window.PLOTLYENV || {};                                    if (document.getElementById(\"43d80ee2-0392-4eed-af46-ee06936348c1\")) {                    Plotly.newPlot(                        \"43d80ee2-0392-4eed-af46-ee06936348c1\",                        [{\"hovertemplate\": \"%{text}\", \"marker\": {\"color\": [\"red\", \"red\", \"red\", \"red\", \"red\", \"red\", \"red\", \"red\", \"red\", \"blue\", \"blue\", \"blue\", \"blue\", \"blue\", \"blue\", \"blue\", \"blue\", \"blue\", \"green\", \"green\", \"green\", \"green\", \"green\", \"green\", \"green\", \"green\", \"green\"], \"line\": {\"color\": \"black\", \"width\": 1}, \"size\": 10, \"symbol\": \"circle\"}, \"mode\": \"markers\", \"name\": \"trfermikit\", \"showlegend\": false, \"text\": [\"filterCalls.minSVSize: 100<br><br>makeRegions: <br>  slop: 250<br>  minCoverage: 0<br>  maxCoverage: 200<br>  maxRegionLength: 100000<br>  minRepeatPeriod: 6<br>  minRepeatLength: 0<br>  functionalRegions: none<br>  genomeBuild: hg38<br>  overlappedFunctionalRegions: false<br>makeCalls: <br>  singleBaseMatchReward: 10<br>  singleBaseMismatchPenalty: 12<br>  gapOpenPenalties: 6,26<br>  gapExtensionPenalties: 1,0<br>  minUnitigMappingQuality: 1<br>filterCalls: <br>  maxIntraClusterDistance: 500<br>  minUnitigMappingQuality: 0<br>  minUnitigBlockLength: 15<br>\", \"filterCalls.minSVSize: 100<br><br>makeRegions: <br>  slop: 250<br>  minCoverage: 0<br>  maxCoverage: 200<br>  maxRegionLength: 100000<br>  minRepeatPeriod: 6<br>  minRepeatLength: 0<br>  functionalRegions: none<br>  genomeBuild: hg38<br>  overlappedFunctionalRegions: false<br>makeCalls: <br>  singleBaseMatchReward: 10<br>  singleBaseMismatchPenalty: 12<br>  gapOpenPenalties: 6,26<br>  gapExtensionPenalties: 1,0<br>  minUnitigMappingQuality: 1<br>filterCalls: <br>  maxIntraClusterDistance: 500<br>  minUnitigMappingQuality: 0<br>  minUnitigBlockLength: 25<br>\", \"filterCalls.minSVSize: 100<br><br>makeRegions: <br>  slop: 250<br>  minCoverage: 0<br>  maxCoverage: 200<br>  maxRegionLength: 100000<br>  minRepeatPeriod: 6<br>  minRepeatLength: 0<br>  functionalRegions: none<br>  genomeBuild: hg38<br>  overlappedFunctionalRegions: false<br>makeCalls: <br>  singleBaseMatchReward: 10<br>  singleBaseMismatchPenalty: 12<br>  gapOpenPenalties: 6,26<br>  gapExtensionPenalties: 1,0<br>  minUnitigMappingQuality: 1<br>filterCalls: <br>  maxIntraClusterDistance: 500<br>  minUnitigMappingQuality: 0<br>  minUnitigBlockLength: 40<br>\", \"filterCalls.minSVSize: 100<br><br>makeRegions: <br>  slop: 250<br>  minCoverage: 0<br>  maxCoverage: 200<br>  maxRegionLength: 100000<br>  minRepeatPeriod: 6<br>  minRepeatLength: 100<br>  functionalRegions: none<br>  genomeBuild: hg38<br>  overlappedFunctionalRegions: false<br>makeCalls: <br>  singleBaseMatchReward: 10<br>  singleBaseMismatchPenalty: 12<br>  gapOpenPenalties: 6,26<br>  gapExtensionPenalties: 1,0<br>  minUnitigMappingQuality: 1<br>filterCalls: <br>  maxIntraClusterDistance: 500<br>  minUnitigMappingQuality: 0<br>  minUnitigBlockLength: 15<br>\", \"filterCalls.minSVSize: 100<br><br>makeRegions: <br>  slop: 250<br>  minCoverage: 0<br>  maxCoverage: 200<br>  maxRegionLength: 100000<br>  minRepeatPeriod: 6<br>  minRepeatLength: 100<br>  functionalRegions: none<br>  genomeBuild: hg38<br>  overlappedFunctionalRegions: false<br>makeCalls: <br>  singleBaseMatchReward: 10<br>  singleBaseMismatchPenalty: 12<br>  gapOpenPenalties: 6,26<br>  gapExtensionPenalties: 1,0<br>  minUnitigMappingQuality: 1<br>filterCalls: <br>  maxIntraClusterDistance: 500<br>  minUnitigMappingQuality: 0<br>  minUnitigBlockLength: 25<br>\", \"filterCalls.minSVSize: 100<br><br>makeRegions: <br>  slop: 250<br>  minCoverage: 0<br>  maxCoverage: 200<br>  maxRegionLength: 100000<br>  minRepeatPeriod: 6<br>  minRepeatLength: 100<br>  functionalRegions: none<br>  genomeBuild: hg38<br>  overlappedFunctionalRegions: false<br>makeCalls: <br>  singleBaseMatchReward: 10<br>  singleBaseMismatchPenalty: 12<br>  gapOpenPenalties: 6,26<br>  gapExtensionPenalties: 1,0<br>  minUnitigMappingQuality: 1<br>filterCalls: <br>  maxIntraClusterDistance: 500<br>  minUnitigMappingQuality: 0<br>  minUnitigBlockLength: 40<br>\", \"filterCalls.minSVSize: 100<br><br>makeRegions: <br>  slop: 250<br>  minCoverage: 0<br>  maxCoverage: 200<br>  maxRegionLength: 100000<br>  minRepeatPeriod: 6<br>  minRepeatLength: 50<br>  functionalRegions: none<br>  genomeBuild: hg38<br>  overlappedFunctionalRegions: false<br>makeCalls: <br>  singleBaseMatchReward: 10<br>  singleBaseMismatchPenalty: 12<br>  gapOpenPenalties: 6,26<br>  gapExtensionPenalties: 1,0<br>  minUnitigMappingQuality: 1<br>filterCalls: <br>  maxIntraClusterDistance: 500<br>  minUnitigMappingQuality: 0<br>  minUnitigBlockLength: 15<br>\", \"filterCalls.minSVSize: 100<br><br>makeRegions: <br>  slop: 250<br>  minCoverage: 0<br>  maxCoverage: 200<br>  maxRegionLength: 100000<br>  minRepeatPeriod: 6<br>  minRepeatLength: 50<br>  functionalRegions: none<br>  genomeBuild: hg38<br>  overlappedFunctionalRegions: false<br>makeCalls: <br>  singleBaseMatchReward: 10<br>  singleBaseMismatchPenalty: 12<br>  gapOpenPenalties: 6,26<br>  gapExtensionPenalties: 1,0<br>  minUnitigMappingQuality: 1<br>filterCalls: <br>  maxIntraClusterDistance: 500<br>  minUnitigMappingQuality: 0<br>  minUnitigBlockLength: 25<br>\", \"filterCalls.minSVSize: 100<br><br>makeRegions: <br>  slop: 250<br>  minCoverage: 0<br>  maxCoverage: 200<br>  maxRegionLength: 100000<br>  minRepeatPeriod: 6<br>  minRepeatLength: 50<br>  functionalRegions: none<br>  genomeBuild: hg38<br>  overlappedFunctionalRegions: false<br>makeCalls: <br>  singleBaseMatchReward: 10<br>  singleBaseMismatchPenalty: 12<br>  gapOpenPenalties: 6,26<br>  gapExtensionPenalties: 1,0<br>  minUnitigMappingQuality: 1<br>filterCalls: <br>  maxIntraClusterDistance: 500<br>  minUnitigMappingQuality: 0<br>  minUnitigBlockLength: 40<br>\", \"filterCalls.minSVSize: 500<br><br>makeRegions: <br>  slop: 250<br>  minCoverage: 0<br>  maxCoverage: 200<br>  maxRegionLength: 100000<br>  minRepeatPeriod: 6<br>  minRepeatLength: 0<br>  functionalRegions: none<br>  genomeBuild: hg38<br>  overlappedFunctionalRegions: false<br>makeCalls: <br>  singleBaseMatchReward: 10<br>  singleBaseMismatchPenalty: 12<br>  gapOpenPenalties: 6,26<br>  gapExtensionPenalties: 1,0<br>  minUnitigMappingQuality: 1<br>filterCalls: <br>  maxIntraClusterDistance: 500<br>  minUnitigMappingQuality: 0<br>  minUnitigBlockLength: 15<br>\", \"filterCalls.minSVSize: 500<br><br>makeRegions: <br>  slop: 250<br>  minCoverage: 0<br>  maxCoverage: 200<br>  maxRegionLength: 100000<br>  minRepeatPeriod: 6<br>  minRepeatLength: 0<br>  functionalRegions: none<br>  genomeBuild: hg38<br>  overlappedFunctionalRegions: false<br>makeCalls: <br>  singleBaseMatchReward: 10<br>  singleBaseMismatchPenalty: 12<br>  gapOpenPenalties: 6,26<br>  gapExtensionPenalties: 1,0<br>  minUnitigMappingQuality: 1<br>filterCalls: <br>  maxIntraClusterDistance: 500<br>  minUnitigMappingQuality: 0<br>  minUnitigBlockLength: 25<br>\", \"filterCalls.minSVSize: 500<br><br>makeRegions: <br>  slop: 250<br>  minCoverage: 0<br>  maxCoverage: 200<br>  maxRegionLength: 100000<br>  minRepeatPeriod: 6<br>  minRepeatLength: 0<br>  functionalRegions: none<br>  genomeBuild: hg38<br>  overlappedFunctionalRegions: false<br>makeCalls: <br>  singleBaseMatchReward: 10<br>  singleBaseMismatchPenalty: 12<br>  gapOpenPenalties: 6,26<br>  gapExtensionPenalties: 1,0<br>  minUnitigMappingQuality: 1<br>filterCalls: <br>  maxIntraClusterDistance: 500<br>  minUnitigMappingQuality: 0<br>  minUnitigBlockLength: 40<br>\", \"filterCalls.minSVSize: 500<br><br>makeRegions: <br>  slop: 250<br>  minCoverage: 0<br>  maxCoverage: 200<br>  maxRegionLength: 100000<br>  minRepeatPeriod: 6<br>  minRepeatLength: 100<br>  functionalRegions: none<br>  genomeBuild: hg38<br>  overlappedFunctionalRegions: false<br>makeCalls: <br>  singleBaseMatchReward: 10<br>  singleBaseMismatchPenalty: 12<br>  gapOpenPenalties: 6,26<br>  gapExtensionPenalties: 1,0<br>  minUnitigMappingQuality: 1<br>filterCalls: <br>  maxIntraClusterDistance: 500<br>  minUnitigMappingQuality: 0<br>  minUnitigBlockLength: 15<br>\", \"filterCalls.minSVSize: 500<br><br>makeRegions: <br>  slop: 250<br>  minCoverage: 0<br>  maxCoverage: 200<br>  maxRegionLength: 100000<br>  minRepeatPeriod: 6<br>  minRepeatLength: 100<br>  functionalRegions: none<br>  genomeBuild: hg38<br>  overlappedFunctionalRegions: false<br>makeCalls: <br>  singleBaseMatchReward: 10<br>  singleBaseMismatchPenalty: 12<br>  gapOpenPenalties: 6,26<br>  gapExtensionPenalties: 1,0<br>  minUnitigMappingQuality: 1<br>filterCalls: <br>  maxIntraClusterDistance: 500<br>  minUnitigMappingQuality: 0<br>  minUnitigBlockLength: 25<br>\", \"filterCalls.minSVSize: 500<br><br>makeRegions: <br>  slop: 250<br>  minCoverage: 0<br>  maxCoverage: 200<br>  maxRegionLength: 100000<br>  minRepeatPeriod: 6<br>  minRepeatLength: 100<br>  functionalRegions: none<br>  genomeBuild: hg38<br>  overlappedFunctionalRegions: false<br>makeCalls: <br>  singleBaseMatchReward: 10<br>  singleBaseMismatchPenalty: 12<br>  gapOpenPenalties: 6,26<br>  gapExtensionPenalties: 1,0<br>  minUnitigMappingQuality: 1<br>filterCalls: <br>  maxIntraClusterDistance: 500<br>  minUnitigMappingQuality: 0<br>  minUnitigBlockLength: 40<br>\", \"filterCalls.minSVSize: 500<br><br>makeRegions: <br>  slop: 250<br>  minCoverage: 0<br>  maxCoverage: 200<br>  maxRegionLength: 100000<br>  minRepeatPeriod: 6<br>  minRepeatLength: 50<br>  functionalRegions: none<br>  genomeBuild: hg38<br>  overlappedFunctionalRegions: false<br>makeCalls: <br>  singleBaseMatchReward: 10<br>  singleBaseMismatchPenalty: 12<br>  gapOpenPenalties: 6,26<br>  gapExtensionPenalties: 1,0<br>  minUnitigMappingQuality: 1<br>filterCalls: <br>  maxIntraClusterDistance: 500<br>  minUnitigMappingQuality: 0<br>  minUnitigBlockLength: 15<br>\", \"filterCalls.minSVSize: 500<br><br>makeRegions: <br>  slop: 250<br>  minCoverage: 0<br>  maxCoverage: 200<br>  maxRegionLength: 100000<br>  minRepeatPeriod: 6<br>  minRepeatLength: 50<br>  functionalRegions: none<br>  genomeBuild: hg38<br>  overlappedFunctionalRegions: false<br>makeCalls: <br>  singleBaseMatchReward: 10<br>  singleBaseMismatchPenalty: 12<br>  gapOpenPenalties: 6,26<br>  gapExtensionPenalties: 1,0<br>  minUnitigMappingQuality: 1<br>filterCalls: <br>  maxIntraClusterDistance: 500<br>  minUnitigMappingQuality: 0<br>  minUnitigBlockLength: 25<br>\", \"filterCalls.minSVSize: 500<br><br>makeRegions: <br>  slop: 250<br>  minCoverage: 0<br>  maxCoverage: 200<br>  maxRegionLength: 100000<br>  minRepeatPeriod: 6<br>  minRepeatLength: 50<br>  functionalRegions: none<br>  genomeBuild: hg38<br>  overlappedFunctionalRegions: false<br>makeCalls: <br>  singleBaseMatchReward: 10<br>  singleBaseMismatchPenalty: 12<br>  gapOpenPenalties: 6,26<br>  gapExtensionPenalties: 1,0<br>  minUnitigMappingQuality: 1<br>filterCalls: <br>  maxIntraClusterDistance: 500<br>  minUnitigMappingQuality: 0<br>  minUnitigBlockLength: 40<br>\", \"filterCalls.minSVSize: 50<br><br>makeRegions: <br>  slop: 250<br>  minCoverage: 0<br>  maxCoverage: 200<br>  maxRegionLength: 100000<br>  minRepeatPeriod: 6<br>  minRepeatLength: 0<br>  functionalRegions: none<br>  genomeBuild: hg38<br>  overlappedFunctionalRegions: false<br>makeCalls: <br>  singleBaseMatchReward: 10<br>  singleBaseMismatchPenalty: 12<br>  gapOpenPenalties: 6,26<br>  gapExtensionPenalties: 1,0<br>  minUnitigMappingQuality: 1<br>filterCalls: <br>  maxIntraClusterDistance: 500<br>  minUnitigMappingQuality: 0<br>  minUnitigBlockLength: 15<br>\", \"filterCalls.minSVSize: 50<br><br>makeRegions: <br>  slop: 250<br>  minCoverage: 0<br>  maxCoverage: 200<br>  maxRegionLength: 100000<br>  minRepeatPeriod: 6<br>  minRepeatLength: 0<br>  functionalRegions: none<br>  genomeBuild: hg38<br>  overlappedFunctionalRegions: false<br>makeCalls: <br>  singleBaseMatchReward: 10<br>  singleBaseMismatchPenalty: 12<br>  gapOpenPenalties: 6,26<br>  gapExtensionPenalties: 1,0<br>  minUnitigMappingQuality: 1<br>filterCalls: <br>  maxIntraClusterDistance: 500<br>  minUnitigMappingQuality: 0<br>  minUnitigBlockLength: 25<br>\", \"filterCalls.minSVSize: 50<br><br>makeRegions: <br>  slop: 250<br>  minCoverage: 0<br>  maxCoverage: 200<br>  maxRegionLength: 100000<br>  minRepeatPeriod: 6<br>  minRepeatLength: 0<br>  functionalRegions: none<br>  genomeBuild: hg38<br>  overlappedFunctionalRegions: false<br>makeCalls: <br>  singleBaseMatchReward: 10<br>  singleBaseMismatchPenalty: 12<br>  gapOpenPenalties: 6,26<br>  gapExtensionPenalties: 1,0<br>  minUnitigMappingQuality: 1<br>filterCalls: <br>  maxIntraClusterDistance: 500<br>  minUnitigMappingQuality: 0<br>  minUnitigBlockLength: 40<br>\", \"filterCalls.minSVSize: 50<br><br>makeRegions: <br>  slop: 250<br>  minCoverage: 0<br>  maxCoverage: 200<br>  maxRegionLength: 100000<br>  minRepeatPeriod: 6<br>  minRepeatLength: 100<br>  functionalRegions: none<br>  genomeBuild: hg38<br>  overlappedFunctionalRegions: false<br>makeCalls: <br>  singleBaseMatchReward: 10<br>  singleBaseMismatchPenalty: 12<br>  gapOpenPenalties: 6,26<br>  gapExtensionPenalties: 1,0<br>  minUnitigMappingQuality: 1<br>filterCalls: <br>  maxIntraClusterDistance: 500<br>  minUnitigMappingQuality: 0<br>  minUnitigBlockLength: 15<br>\", \"filterCalls.minSVSize: 50<br><br>makeRegions: <br>  slop: 250<br>  minCoverage: 0<br>  maxCoverage: 200<br>  maxRegionLength: 100000<br>  minRepeatPeriod: 6<br>  minRepeatLength: 100<br>  functionalRegions: none<br>  genomeBuild: hg38<br>  overlappedFunctionalRegions: false<br>makeCalls: <br>  singleBaseMatchReward: 10<br>  singleBaseMismatchPenalty: 12<br>  gapOpenPenalties: 6,26<br>  gapExtensionPenalties: 1,0<br>  minUnitigMappingQuality: 1<br>filterCalls: <br>  maxIntraClusterDistance: 500<br>  minUnitigMappingQuality: 0<br>  minUnitigBlockLength: 25<br>\", \"filterCalls.minSVSize: 50<br><br>makeRegions: <br>  slop: 250<br>  minCoverage: 0<br>  maxCoverage: 200<br>  maxRegionLength: 100000<br>  minRepeatPeriod: 6<br>  minRepeatLength: 100<br>  functionalRegions: none<br>  genomeBuild: hg38<br>  overlappedFunctionalRegions: false<br>makeCalls: <br>  singleBaseMatchReward: 10<br>  singleBaseMismatchPenalty: 12<br>  gapOpenPenalties: 6,26<br>  gapExtensionPenalties: 1,0<br>  minUnitigMappingQuality: 1<br>filterCalls: <br>  maxIntraClusterDistance: 500<br>  minUnitigMappingQuality: 0<br>  minUnitigBlockLength: 40<br>\", \"filterCalls.minSVSize: 50<br><br>makeRegions: <br>  slop: 250<br>  minCoverage: 0<br>  maxCoverage: 200<br>  maxRegionLength: 100000<br>  minRepeatPeriod: 6<br>  minRepeatLength: 50<br>  functionalRegions: none<br>  genomeBuild: hg38<br>  overlappedFunctionalRegions: false<br>makeCalls: <br>  singleBaseMatchReward: 10<br>  singleBaseMismatchPenalty: 12<br>  gapOpenPenalties: 6,26<br>  gapExtensionPenalties: 1,0<br>  minUnitigMappingQuality: 1<br>filterCalls: <br>  maxIntraClusterDistance: 500<br>  minUnitigMappingQuality: 0<br>  minUnitigBlockLength: 15<br>\", \"filterCalls.minSVSize: 50<br><br>makeRegions: <br>  slop: 250<br>  minCoverage: 0<br>  maxCoverage: 200<br>  maxRegionLength: 100000<br>  minRepeatPeriod: 6<br>  minRepeatLength: 50<br>  functionalRegions: none<br>  genomeBuild: hg38<br>  overlappedFunctionalRegions: false<br>makeCalls: <br>  singleBaseMatchReward: 10<br>  singleBaseMismatchPenalty: 12<br>  gapOpenPenalties: 6,26<br>  gapExtensionPenalties: 1,0<br>  minUnitigMappingQuality: 1<br>filterCalls: <br>  maxIntraClusterDistance: 500<br>  minUnitigMappingQuality: 0<br>  minUnitigBlockLength: 25<br>\", \"filterCalls.minSVSize: 50<br><br>makeRegions: <br>  slop: 250<br>  minCoverage: 0<br>  maxCoverage: 200<br>  maxRegionLength: 100000<br>  minRepeatPeriod: 6<br>  minRepeatLength: 50<br>  functionalRegions: none<br>  genomeBuild: hg38<br>  overlappedFunctionalRegions: false<br>makeCalls: <br>  singleBaseMatchReward: 10<br>  singleBaseMismatchPenalty: 12<br>  gapOpenPenalties: 6,26<br>  gapExtensionPenalties: 1,0<br>  minUnitigMappingQuality: 1<br>filterCalls: <br>  maxIntraClusterDistance: 500<br>  minUnitigMappingQuality: 0<br>  minUnitigBlockLength: 40<br>\"], \"type\": \"scatter\", \"x\": [0.25209256523879864, 0.23879862136878385, 0.20974889217134415, 0.25156325156325154, 0.23953823953823955, 0.20634920634920634, 0.25024342745861733, 0.24050632911392406, 0.2098344693281402, 0.06598984771573604, 0.05583756345177665, 0.04568527918781726, 0.07317073170731707, 0.05365853658536585, 0.05365853658536585, 0.06896551724137931, 0.06403940886699508, 0.04926108374384237, 0.3362222222222222, 0.3208888888888889, 0.28644444444444445, 0.3411970292704238, 0.3241590214067278, 0.28658802970729574, 0.3398506151142355, 0.3229349736379613, 0.2871265377855888], \"y\": [0.26848453067645517, 0.3509406657018813, 0.46304347826086956, 0.26494427558257344, 0.35045742434905, 0.45686900958466453, 0.26535880227155395, 0.35135135135135137, 0.46796959826275786, 0.1625, 0.2037037037037037, 0.24324324324324326, 0.16666666666666666, 0.22916666666666666, 0.275, 0.17073170731707318, 0.23636363636363636, 0.2631578947368421, 0.38616641143440533, 0.4616368286445013, 0.5529815529815529, 0.39030484757621187, 0.46769618657421996, 0.556639796351294, 0.3884007029876977, 0.46226415094339623, 0.5545184556639796]}, {\"hovertemplate\": \"%{text}\", \"marker\": {\"color\": [\"red\", \"red\", \"red\", \"red\", \"red\", \"red\", \"red\", \"red\", \"red\", \"blue\", \"blue\", \"blue\", \"blue\", \"blue\", \"blue\", \"blue\", \"blue\", \"blue\", \"green\", \"green\", \"green\", \"green\", \"green\", \"green\", \"green\", \"green\", \"green\"], \"line\": {\"color\": \"black\", \"width\": 1}, \"size\": 10, \"symbol\": \"square\"}, \"mode\": \"markers\", \"name\": \"manta\", \"showlegend\": false, \"text\": [\"filterCalls.minSVSize: 100<br><br>makeRegions: <br>  slop: 250<br>  minCoverage: 0<br>  maxCoverage: 200<br>  maxRegionLength: 100000<br>  minRepeatPeriod: 6<br>  minRepeatLength: 0<br>  functionalRegions: none<br>  genomeBuild: hg38<br>  overlappedFunctionalRegions: false<br>makeCalls: <br>  singleBaseMatchReward: 10<br>  singleBaseMismatchPenalty: 12<br>  gapOpenPenalties: 6,26<br>  gapExtensionPenalties: 1,0<br>  minUnitigMappingQuality: 1<br>filterCalls: <br>  maxIntraClusterDistance: 500<br>  minUnitigMappingQuality: 0<br>  minUnitigBlockLength: 15<br>\", \"filterCalls.minSVSize: 100<br><br>makeRegions: <br>  slop: 250<br>  minCoverage: 0<br>  maxCoverage: 200<br>  maxRegionLength: 100000<br>  minRepeatPeriod: 6<br>  minRepeatLength: 0<br>  functionalRegions: none<br>  genomeBuild: hg38<br>  overlappedFunctionalRegions: false<br>makeCalls: <br>  singleBaseMatchReward: 10<br>  singleBaseMismatchPenalty: 12<br>  gapOpenPenalties: 6,26<br>  gapExtensionPenalties: 1,0<br>  minUnitigMappingQuality: 1<br>filterCalls: <br>  maxIntraClusterDistance: 500<br>  minUnitigMappingQuality: 0<br>  minUnitigBlockLength: 25<br>\", \"filterCalls.minSVSize: 100<br><br>makeRegions: <br>  slop: 250<br>  minCoverage: 0<br>  maxCoverage: 200<br>  maxRegionLength: 100000<br>  minRepeatPeriod: 6<br>  minRepeatLength: 0<br>  functionalRegions: none<br>  genomeBuild: hg38<br>  overlappedFunctionalRegions: false<br>makeCalls: <br>  singleBaseMatchReward: 10<br>  singleBaseMismatchPenalty: 12<br>  gapOpenPenalties: 6,26<br>  gapExtensionPenalties: 1,0<br>  minUnitigMappingQuality: 1<br>filterCalls: <br>  maxIntraClusterDistance: 500<br>  minUnitigMappingQuality: 0<br>  minUnitigBlockLength: 40<br>\", \"filterCalls.minSVSize: 100<br><br>makeRegions: <br>  slop: 250<br>  minCoverage: 0<br>  maxCoverage: 200<br>  maxRegionLength: 100000<br>  minRepeatPeriod: 6<br>  minRepeatLength: 100<br>  functionalRegions: none<br>  genomeBuild: hg38<br>  overlappedFunctionalRegions: false<br>makeCalls: <br>  singleBaseMatchReward: 10<br>  singleBaseMismatchPenalty: 12<br>  gapOpenPenalties: 6,26<br>  gapExtensionPenalties: 1,0<br>  minUnitigMappingQuality: 1<br>filterCalls: <br>  maxIntraClusterDistance: 500<br>  minUnitigMappingQuality: 0<br>  minUnitigBlockLength: 15<br>\", \"filterCalls.minSVSize: 100<br><br>makeRegions: <br>  slop: 250<br>  minCoverage: 0<br>  maxCoverage: 200<br>  maxRegionLength: 100000<br>  minRepeatPeriod: 6<br>  minRepeatLength: 100<br>  functionalRegions: none<br>  genomeBuild: hg38<br>  overlappedFunctionalRegions: false<br>makeCalls: <br>  singleBaseMatchReward: 10<br>  singleBaseMismatchPenalty: 12<br>  gapOpenPenalties: 6,26<br>  gapExtensionPenalties: 1,0<br>  minUnitigMappingQuality: 1<br>filterCalls: <br>  maxIntraClusterDistance: 500<br>  minUnitigMappingQuality: 0<br>  minUnitigBlockLength: 25<br>\", \"filterCalls.minSVSize: 100<br><br>makeRegions: <br>  slop: 250<br>  minCoverage: 0<br>  maxCoverage: 200<br>  maxRegionLength: 100000<br>  minRepeatPeriod: 6<br>  minRepeatLength: 100<br>  functionalRegions: none<br>  genomeBuild: hg38<br>  overlappedFunctionalRegions: false<br>makeCalls: <br>  singleBaseMatchReward: 10<br>  singleBaseMismatchPenalty: 12<br>  gapOpenPenalties: 6,26<br>  gapExtensionPenalties: 1,0<br>  minUnitigMappingQuality: 1<br>filterCalls: <br>  maxIntraClusterDistance: 500<br>  minUnitigMappingQuality: 0<br>  minUnitigBlockLength: 40<br>\", \"filterCalls.minSVSize: 100<br><br>makeRegions: <br>  slop: 250<br>  minCoverage: 0<br>  maxCoverage: 200<br>  maxRegionLength: 100000<br>  minRepeatPeriod: 6<br>  minRepeatLength: 50<br>  functionalRegions: none<br>  genomeBuild: hg38<br>  overlappedFunctionalRegions: false<br>makeCalls: <br>  singleBaseMatchReward: 10<br>  singleBaseMismatchPenalty: 12<br>  gapOpenPenalties: 6,26<br>  gapExtensionPenalties: 1,0<br>  minUnitigMappingQuality: 1<br>filterCalls: <br>  maxIntraClusterDistance: 500<br>  minUnitigMappingQuality: 0<br>  minUnitigBlockLength: 15<br>\", \"filterCalls.minSVSize: 100<br><br>makeRegions: <br>  slop: 250<br>  minCoverage: 0<br>  maxCoverage: 200<br>  maxRegionLength: 100000<br>  minRepeatPeriod: 6<br>  minRepeatLength: 50<br>  functionalRegions: none<br>  genomeBuild: hg38<br>  overlappedFunctionalRegions: false<br>makeCalls: <br>  singleBaseMatchReward: 10<br>  singleBaseMismatchPenalty: 12<br>  gapOpenPenalties: 6,26<br>  gapExtensionPenalties: 1,0<br>  minUnitigMappingQuality: 1<br>filterCalls: <br>  maxIntraClusterDistance: 500<br>  minUnitigMappingQuality: 0<br>  minUnitigBlockLength: 25<br>\", \"filterCalls.minSVSize: 100<br><br>makeRegions: <br>  slop: 250<br>  minCoverage: 0<br>  maxCoverage: 200<br>  maxRegionLength: 100000<br>  minRepeatPeriod: 6<br>  minRepeatLength: 50<br>  functionalRegions: none<br>  genomeBuild: hg38<br>  overlappedFunctionalRegions: false<br>makeCalls: <br>  singleBaseMatchReward: 10<br>  singleBaseMismatchPenalty: 12<br>  gapOpenPenalties: 6,26<br>  gapExtensionPenalties: 1,0<br>  minUnitigMappingQuality: 1<br>filterCalls: <br>  maxIntraClusterDistance: 500<br>  minUnitigMappingQuality: 0<br>  minUnitigBlockLength: 40<br>\", \"filterCalls.minSVSize: 500<br><br>makeRegions: <br>  slop: 250<br>  minCoverage: 0<br>  maxCoverage: 200<br>  maxRegionLength: 100000<br>  minRepeatPeriod: 6<br>  minRepeatLength: 0<br>  functionalRegions: none<br>  genomeBuild: hg38<br>  overlappedFunctionalRegions: false<br>makeCalls: <br>  singleBaseMatchReward: 10<br>  singleBaseMismatchPenalty: 12<br>  gapOpenPenalties: 6,26<br>  gapExtensionPenalties: 1,0<br>  minUnitigMappingQuality: 1<br>filterCalls: <br>  maxIntraClusterDistance: 500<br>  minUnitigMappingQuality: 0<br>  minUnitigBlockLength: 15<br>\", \"filterCalls.minSVSize: 500<br><br>makeRegions: <br>  slop: 250<br>  minCoverage: 0<br>  maxCoverage: 200<br>  maxRegionLength: 100000<br>  minRepeatPeriod: 6<br>  minRepeatLength: 0<br>  functionalRegions: none<br>  genomeBuild: hg38<br>  overlappedFunctionalRegions: false<br>makeCalls: <br>  singleBaseMatchReward: 10<br>  singleBaseMismatchPenalty: 12<br>  gapOpenPenalties: 6,26<br>  gapExtensionPenalties: 1,0<br>  minUnitigMappingQuality: 1<br>filterCalls: <br>  maxIntraClusterDistance: 500<br>  minUnitigMappingQuality: 0<br>  minUnitigBlockLength: 25<br>\", \"filterCalls.minSVSize: 500<br><br>makeRegions: <br>  slop: 250<br>  minCoverage: 0<br>  maxCoverage: 200<br>  maxRegionLength: 100000<br>  minRepeatPeriod: 6<br>  minRepeatLength: 0<br>  functionalRegions: none<br>  genomeBuild: hg38<br>  overlappedFunctionalRegions: false<br>makeCalls: <br>  singleBaseMatchReward: 10<br>  singleBaseMismatchPenalty: 12<br>  gapOpenPenalties: 6,26<br>  gapExtensionPenalties: 1,0<br>  minUnitigMappingQuality: 1<br>filterCalls: <br>  maxIntraClusterDistance: 500<br>  minUnitigMappingQuality: 0<br>  minUnitigBlockLength: 40<br>\", \"filterCalls.minSVSize: 500<br><br>makeRegions: <br>  slop: 250<br>  minCoverage: 0<br>  maxCoverage: 200<br>  maxRegionLength: 100000<br>  minRepeatPeriod: 6<br>  minRepeatLength: 100<br>  functionalRegions: none<br>  genomeBuild: hg38<br>  overlappedFunctionalRegions: false<br>makeCalls: <br>  singleBaseMatchReward: 10<br>  singleBaseMismatchPenalty: 12<br>  gapOpenPenalties: 6,26<br>  gapExtensionPenalties: 1,0<br>  minUnitigMappingQuality: 1<br>filterCalls: <br>  maxIntraClusterDistance: 500<br>  minUnitigMappingQuality: 0<br>  minUnitigBlockLength: 15<br>\", \"filterCalls.minSVSize: 500<br><br>makeRegions: <br>  slop: 250<br>  minCoverage: 0<br>  maxCoverage: 200<br>  maxRegionLength: 100000<br>  minRepeatPeriod: 6<br>  minRepeatLength: 100<br>  functionalRegions: none<br>  genomeBuild: hg38<br>  overlappedFunctionalRegions: false<br>makeCalls: <br>  singleBaseMatchReward: 10<br>  singleBaseMismatchPenalty: 12<br>  gapOpenPenalties: 6,26<br>  gapExtensionPenalties: 1,0<br>  minUnitigMappingQuality: 1<br>filterCalls: <br>  maxIntraClusterDistance: 500<br>  minUnitigMappingQuality: 0<br>  minUnitigBlockLength: 25<br>\", \"filterCalls.minSVSize: 500<br><br>makeRegions: <br>  slop: 250<br>  minCoverage: 0<br>  maxCoverage: 200<br>  maxRegionLength: 100000<br>  minRepeatPeriod: 6<br>  minRepeatLength: 100<br>  functionalRegions: none<br>  genomeBuild: hg38<br>  overlappedFunctionalRegions: false<br>makeCalls: <br>  singleBaseMatchReward: 10<br>  singleBaseMismatchPenalty: 12<br>  gapOpenPenalties: 6,26<br>  gapExtensionPenalties: 1,0<br>  minUnitigMappingQuality: 1<br>filterCalls: <br>  maxIntraClusterDistance: 500<br>  minUnitigMappingQuality: 0<br>  minUnitigBlockLength: 40<br>\", \"filterCalls.minSVSize: 500<br><br>makeRegions: <br>  slop: 250<br>  minCoverage: 0<br>  maxCoverage: 200<br>  maxRegionLength: 100000<br>  minRepeatPeriod: 6<br>  minRepeatLength: 50<br>  functionalRegions: none<br>  genomeBuild: hg38<br>  overlappedFunctionalRegions: false<br>makeCalls: <br>  singleBaseMatchReward: 10<br>  singleBaseMismatchPenalty: 12<br>  gapOpenPenalties: 6,26<br>  gapExtensionPenalties: 1,0<br>  minUnitigMappingQuality: 1<br>filterCalls: <br>  maxIntraClusterDistance: 500<br>  minUnitigMappingQuality: 0<br>  minUnitigBlockLength: 15<br>\", \"filterCalls.minSVSize: 500<br><br>makeRegions: <br>  slop: 250<br>  minCoverage: 0<br>  maxCoverage: 200<br>  maxRegionLength: 100000<br>  minRepeatPeriod: 6<br>  minRepeatLength: 50<br>  functionalRegions: none<br>  genomeBuild: hg38<br>  overlappedFunctionalRegions: false<br>makeCalls: <br>  singleBaseMatchReward: 10<br>  singleBaseMismatchPenalty: 12<br>  gapOpenPenalties: 6,26<br>  gapExtensionPenalties: 1,0<br>  minUnitigMappingQuality: 1<br>filterCalls: <br>  maxIntraClusterDistance: 500<br>  minUnitigMappingQuality: 0<br>  minUnitigBlockLength: 25<br>\", \"filterCalls.minSVSize: 500<br><br>makeRegions: <br>  slop: 250<br>  minCoverage: 0<br>  maxCoverage: 200<br>  maxRegionLength: 100000<br>  minRepeatPeriod: 6<br>  minRepeatLength: 50<br>  functionalRegions: none<br>  genomeBuild: hg38<br>  overlappedFunctionalRegions: false<br>makeCalls: <br>  singleBaseMatchReward: 10<br>  singleBaseMismatchPenalty: 12<br>  gapOpenPenalties: 6,26<br>  gapExtensionPenalties: 1,0<br>  minUnitigMappingQuality: 1<br>filterCalls: <br>  maxIntraClusterDistance: 500<br>  minUnitigMappingQuality: 0<br>  minUnitigBlockLength: 40<br>\", \"filterCalls.minSVSize: 50<br><br>makeRegions: <br>  slop: 250<br>  minCoverage: 0<br>  maxCoverage: 200<br>  maxRegionLength: 100000<br>  minRepeatPeriod: 6<br>  minRepeatLength: 0<br>  functionalRegions: none<br>  genomeBuild: hg38<br>  overlappedFunctionalRegions: false<br>makeCalls: <br>  singleBaseMatchReward: 10<br>  singleBaseMismatchPenalty: 12<br>  gapOpenPenalties: 6,26<br>  gapExtensionPenalties: 1,0<br>  minUnitigMappingQuality: 1<br>filterCalls: <br>  maxIntraClusterDistance: 500<br>  minUnitigMappingQuality: 0<br>  minUnitigBlockLength: 15<br>\", \"filterCalls.minSVSize: 50<br><br>makeRegions: <br>  slop: 250<br>  minCoverage: 0<br>  maxCoverage: 200<br>  maxRegionLength: 100000<br>  minRepeatPeriod: 6<br>  minRepeatLength: 0<br>  functionalRegions: none<br>  genomeBuild: hg38<br>  overlappedFunctionalRegions: false<br>makeCalls: <br>  singleBaseMatchReward: 10<br>  singleBaseMismatchPenalty: 12<br>  gapOpenPenalties: 6,26<br>  gapExtensionPenalties: 1,0<br>  minUnitigMappingQuality: 1<br>filterCalls: <br>  maxIntraClusterDistance: 500<br>  minUnitigMappingQuality: 0<br>  minUnitigBlockLength: 25<br>\", \"filterCalls.minSVSize: 50<br><br>makeRegions: <br>  slop: 250<br>  minCoverage: 0<br>  maxCoverage: 200<br>  maxRegionLength: 100000<br>  minRepeatPeriod: 6<br>  minRepeatLength: 0<br>  functionalRegions: none<br>  genomeBuild: hg38<br>  overlappedFunctionalRegions: false<br>makeCalls: <br>  singleBaseMatchReward: 10<br>  singleBaseMismatchPenalty: 12<br>  gapOpenPenalties: 6,26<br>  gapExtensionPenalties: 1,0<br>  minUnitigMappingQuality: 1<br>filterCalls: <br>  maxIntraClusterDistance: 500<br>  minUnitigMappingQuality: 0<br>  minUnitigBlockLength: 40<br>\", \"filterCalls.minSVSize: 50<br><br>makeRegions: <br>  slop: 250<br>  minCoverage: 0<br>  maxCoverage: 200<br>  maxRegionLength: 100000<br>  minRepeatPeriod: 6<br>  minRepeatLength: 100<br>  functionalRegions: none<br>  genomeBuild: hg38<br>  overlappedFunctionalRegions: false<br>makeCalls: <br>  singleBaseMatchReward: 10<br>  singleBaseMismatchPenalty: 12<br>  gapOpenPenalties: 6,26<br>  gapExtensionPenalties: 1,0<br>  minUnitigMappingQuality: 1<br>filterCalls: <br>  maxIntraClusterDistance: 500<br>  minUnitigMappingQuality: 0<br>  minUnitigBlockLength: 15<br>\", \"filterCalls.minSVSize: 50<br><br>makeRegions: <br>  slop: 250<br>  minCoverage: 0<br>  maxCoverage: 200<br>  maxRegionLength: 100000<br>  minRepeatPeriod: 6<br>  minRepeatLength: 100<br>  functionalRegions: none<br>  genomeBuild: hg38<br>  overlappedFunctionalRegions: false<br>makeCalls: <br>  singleBaseMatchReward: 10<br>  singleBaseMismatchPenalty: 12<br>  gapOpenPenalties: 6,26<br>  gapExtensionPenalties: 1,0<br>  minUnitigMappingQuality: 1<br>filterCalls: <br>  maxIntraClusterDistance: 500<br>  minUnitigMappingQuality: 0<br>  minUnitigBlockLength: 25<br>\", \"filterCalls.minSVSize: 50<br><br>makeRegions: <br>  slop: 250<br>  minCoverage: 0<br>  maxCoverage: 200<br>  maxRegionLength: 100000<br>  minRepeatPeriod: 6<br>  minRepeatLength: 100<br>  functionalRegions: none<br>  genomeBuild: hg38<br>  overlappedFunctionalRegions: false<br>makeCalls: <br>  singleBaseMatchReward: 10<br>  singleBaseMismatchPenalty: 12<br>  gapOpenPenalties: 6,26<br>  gapExtensionPenalties: 1,0<br>  minUnitigMappingQuality: 1<br>filterCalls: <br>  maxIntraClusterDistance: 500<br>  minUnitigMappingQuality: 0<br>  minUnitigBlockLength: 40<br>\", \"filterCalls.minSVSize: 50<br><br>makeRegions: <br>  slop: 250<br>  minCoverage: 0<br>  maxCoverage: 200<br>  maxRegionLength: 100000<br>  minRepeatPeriod: 6<br>  minRepeatLength: 50<br>  functionalRegions: none<br>  genomeBuild: hg38<br>  overlappedFunctionalRegions: false<br>makeCalls: <br>  singleBaseMatchReward: 10<br>  singleBaseMismatchPenalty: 12<br>  gapOpenPenalties: 6,26<br>  gapExtensionPenalties: 1,0<br>  minUnitigMappingQuality: 1<br>filterCalls: <br>  maxIntraClusterDistance: 500<br>  minUnitigMappingQuality: 0<br>  minUnitigBlockLength: 15<br>\", \"filterCalls.minSVSize: 50<br><br>makeRegions: <br>  slop: 250<br>  minCoverage: 0<br>  maxCoverage: 200<br>  maxRegionLength: 100000<br>  minRepeatPeriod: 6<br>  minRepeatLength: 50<br>  functionalRegions: none<br>  genomeBuild: hg38<br>  overlappedFunctionalRegions: false<br>makeCalls: <br>  singleBaseMatchReward: 10<br>  singleBaseMismatchPenalty: 12<br>  gapOpenPenalties: 6,26<br>  gapExtensionPenalties: 1,0<br>  minUnitigMappingQuality: 1<br>filterCalls: <br>  maxIntraClusterDistance: 500<br>  minUnitigMappingQuality: 0<br>  minUnitigBlockLength: 25<br>\", \"filterCalls.minSVSize: 50<br><br>makeRegions: <br>  slop: 250<br>  minCoverage: 0<br>  maxCoverage: 200<br>  maxRegionLength: 100000<br>  minRepeatPeriod: 6<br>  minRepeatLength: 50<br>  functionalRegions: none<br>  genomeBuild: hg38<br>  overlappedFunctionalRegions: false<br>makeCalls: <br>  singleBaseMatchReward: 10<br>  singleBaseMismatchPenalty: 12<br>  gapOpenPenalties: 6,26<br>  gapExtensionPenalties: 1,0<br>  minUnitigMappingQuality: 1<br>filterCalls: <br>  maxIntraClusterDistance: 500<br>  minUnitigMappingQuality: 0<br>  minUnitigBlockLength: 40<br>\"], \"type\": \"scatter\", \"x\": [0.17183653372722796, 0.17183653372722796, 0.17183653372722796, 0.1693121693121693, 0.1693121693121693, 0.1693121693121693, 0.17088607594936708, 0.17088607594936708, 0.17088607594936708, 0.16243654822335024, 0.16243654822335024, 0.16243654822335024, 0.17560975609756097, 0.17560975609756097, 0.17560975609756097, 0.1724137931034483, 0.1724137931034483, 0.1724137931034483, 0.24133333333333334, 0.24133333333333334, 0.24133333333333334, 0.23525557011795545, 0.23525557011795545, 0.23525557011795545, 0.23967486818980668, 0.23967486818980668, 0.23967486818980668], \"y\": [0.4101057579318449, 0.4101057579318449, 0.4101057579318449, 0.4041331802525832, 0.4041331802525832, 0.4041331802525832, 0.4100467289719626, 0.4100467289719626, 0.4100467289719626, 0.3595505617977528, 0.3595505617977528, 0.3595505617977528, 0.3829787234042553, 0.3829787234042553, 0.3829787234042553, 0.3763440860215054, 0.3763440860215054, 0.3763440860215054, 0.5161596958174905, 0.5161596958174905, 0.5161596958174905, 0.5135908440629471, 0.5135908440629471, 0.5135908440629471, 0.5165719696969697, 0.5165719696969697, 0.5165719696969697]}, {\"marker\": {\"color\": \"white\", \"line\": {\"color\": \"black\", \"width\": 1}, \"size\": 10, \"symbol\": \"circle\"}, \"mode\": \"markers\", \"name\": \"trfermikit\", \"type\": \"scatter\", \"y\": [null]}, {\"marker\": {\"color\": \"white\", \"line\": {\"color\": \"black\", \"width\": 1}, \"size\": 10, \"symbol\": \"square\"}, \"mode\": \"markers\", \"name\": \"manta\", \"type\": \"scatter\", \"y\": [null]}, {\"marker\": {\"color\": \"green\", \"size\": 10, \"symbol\": \"circle\"}, \"mode\": \"markers\", \"name\": \"minSVSize=50\", \"type\": \"scatter\", \"y\": [null]}, {\"marker\": {\"color\": \"red\", \"size\": 10, \"symbol\": \"circle\"}, \"mode\": \"markers\", \"name\": \"minSVSize=100\", \"type\": \"scatter\", \"y\": [null]}, {\"marker\": {\"color\": \"blue\", \"size\": 10, \"symbol\": \"circle\"}, \"mode\": \"markers\", \"name\": \"minSVSize=500\", \"type\": \"scatter\", \"y\": [null]}],                        {\"template\": {\"data\": {\"bar\": [{\"error_x\": {\"color\": \"#2a3f5f\"}, \"error_y\": {\"color\": \"#2a3f5f\"}, \"marker\": {\"line\": {\"color\": \"#E5ECF6\", \"width\": 0.5}}, \"type\": \"bar\"}], \"barpolar\": [{\"marker\": {\"line\": {\"color\": \"#E5ECF6\", \"width\": 0.5}}, \"type\": \"barpolar\"}], \"carpet\": [{\"aaxis\": {\"endlinecolor\": \"#2a3f5f\", \"gridcolor\": \"white\", \"linecolor\": \"white\", \"minorgridcolor\": \"white\", \"startlinecolor\": \"#2a3f5f\"}, \"baxis\": {\"endlinecolor\": \"#2a3f5f\", \"gridcolor\": \"white\", \"linecolor\": \"white\", \"minorgridcolor\": \"white\", \"startlinecolor\": \"#2a3f5f\"}, \"type\": \"carpet\"}], \"choropleth\": [{\"colorbar\": {\"outlinewidth\": 0, \"ticks\": \"\"}, \"type\": \"choropleth\"}], \"contour\": [{\"colorbar\": {\"outlinewidth\": 0, \"ticks\": \"\"}, \"colorscale\": [[0.0, \"#0d0887\"], [0.1111111111111111, \"#46039f\"], [0.2222222222222222, \"#7201a8\"], [0.3333333333333333, \"#9c179e\"], [0.4444444444444444, \"#bd3786\"], [0.5555555555555556, \"#d8576b\"], [0.6666666666666666, \"#ed7953\"], [0.7777777777777778, \"#fb9f3a\"], [0.8888888888888888, \"#fdca26\"], [1.0, \"#f0f921\"]], \"type\": \"contour\"}], \"contourcarpet\": [{\"colorbar\": {\"outlinewidth\": 0, \"ticks\": \"\"}, \"type\": \"contourcarpet\"}], \"heatmap\": [{\"colorbar\": {\"outlinewidth\": 0, \"ticks\": \"\"}, \"colorscale\": [[0.0, \"#0d0887\"], [0.1111111111111111, \"#46039f\"], [0.2222222222222222, \"#7201a8\"], [0.3333333333333333, \"#9c179e\"], [0.4444444444444444, \"#bd3786\"], [0.5555555555555556, \"#d8576b\"], [0.6666666666666666, \"#ed7953\"], [0.7777777777777778, \"#fb9f3a\"], [0.8888888888888888, \"#fdca26\"], [1.0, \"#f0f921\"]], \"type\": \"heatmap\"}], \"heatmapgl\": [{\"colorbar\": {\"outlinewidth\": 0, \"ticks\": \"\"}, \"colorscale\": [[0.0, \"#0d0887\"], [0.1111111111111111, \"#46039f\"], [0.2222222222222222, \"#7201a8\"], [0.3333333333333333, \"#9c179e\"], [0.4444444444444444, \"#bd3786\"], [0.5555555555555556, \"#d8576b\"], [0.6666666666666666, \"#ed7953\"], [0.7777777777777778, \"#fb9f3a\"], [0.8888888888888888, \"#fdca26\"], [1.0, \"#f0f921\"]], \"type\": \"heatmapgl\"}], \"histogram\": [{\"marker\": {\"colorbar\": {\"outlinewidth\": 0, \"ticks\": \"\"}}, \"type\": \"histogram\"}], \"histogram2d\": [{\"colorbar\": {\"outlinewidth\": 0, \"ticks\": \"\"}, \"colorscale\": [[0.0, \"#0d0887\"], [0.1111111111111111, \"#46039f\"], [0.2222222222222222, \"#7201a8\"], [0.3333333333333333, \"#9c179e\"], [0.4444444444444444, \"#bd3786\"], [0.5555555555555556, \"#d8576b\"], [0.6666666666666666, \"#ed7953\"], [0.7777777777777778, \"#fb9f3a\"], [0.8888888888888888, \"#fdca26\"], [1.0, \"#f0f921\"]], \"type\": \"histogram2d\"}], \"histogram2dcontour\": [{\"colorbar\": {\"outlinewidth\": 0, \"ticks\": \"\"}, \"colorscale\": [[0.0, \"#0d0887\"], [0.1111111111111111, \"#46039f\"], [0.2222222222222222, \"#7201a8\"], [0.3333333333333333, \"#9c179e\"], [0.4444444444444444, \"#bd3786\"], [0.5555555555555556, \"#d8576b\"], [0.6666666666666666, \"#ed7953\"], [0.7777777777777778, \"#fb9f3a\"], [0.8888888888888888, \"#fdca26\"], [1.0, \"#f0f921\"]], \"type\": \"histogram2dcontour\"}], \"mesh3d\": [{\"colorbar\": {\"outlinewidth\": 0, \"ticks\": \"\"}, \"type\": \"mesh3d\"}], \"parcoords\": [{\"line\": {\"colorbar\": {\"outlinewidth\": 0, \"ticks\": \"\"}}, \"type\": \"parcoords\"}], \"pie\": [{\"automargin\": true, \"type\": \"pie\"}], \"scatter\": [{\"marker\": {\"colorbar\": {\"outlinewidth\": 0, \"ticks\": \"\"}}, \"type\": \"scatter\"}], \"scatter3d\": [{\"line\": {\"colorbar\": {\"outlinewidth\": 0, \"ticks\": \"\"}}, \"marker\": {\"colorbar\": {\"outlinewidth\": 0, \"ticks\": \"\"}}, \"type\": \"scatter3d\"}], \"scattercarpet\": [{\"marker\": {\"colorbar\": {\"outlinewidth\": 0, \"ticks\": \"\"}}, \"type\": \"scattercarpet\"}], \"scattergeo\": [{\"marker\": {\"colorbar\": {\"outlinewidth\": 0, \"ticks\": \"\"}}, \"type\": \"scattergeo\"}], \"scattergl\": [{\"marker\": {\"colorbar\": {\"outlinewidth\": 0, \"ticks\": \"\"}}, \"type\": \"scattergl\"}], \"scattermapbox\": [{\"marker\": {\"colorbar\": {\"outlinewidth\": 0, \"ticks\": \"\"}}, \"type\": \"scattermapbox\"}], \"scatterpolar\": [{\"marker\": {\"colorbar\": {\"outlinewidth\": 0, \"ticks\": \"\"}}, \"type\": \"scatterpolar\"}], \"scatterpolargl\": [{\"marker\": {\"colorbar\": {\"outlinewidth\": 0, \"ticks\": \"\"}}, \"type\": \"scatterpolargl\"}], \"scatterternary\": [{\"marker\": {\"colorbar\": {\"outlinewidth\": 0, \"ticks\": \"\"}}, \"type\": \"scatterternary\"}], \"surface\": [{\"colorbar\": {\"outlinewidth\": 0, \"ticks\": \"\"}, \"colorscale\": [[0.0, \"#0d0887\"], [0.1111111111111111, \"#46039f\"], [0.2222222222222222, \"#7201a8\"], [0.3333333333333333, \"#9c179e\"], [0.4444444444444444, \"#bd3786\"], [0.5555555555555556, \"#d8576b\"], [0.6666666666666666, \"#ed7953\"], [0.7777777777777778, \"#fb9f3a\"], [0.8888888888888888, \"#fdca26\"], [1.0, \"#f0f921\"]], \"type\": \"surface\"}], \"table\": [{\"cells\": {\"fill\": {\"color\": \"#EBF0F8\"}, \"line\": {\"color\": \"white\"}}, \"header\": {\"fill\": {\"color\": \"#C8D4E3\"}, \"line\": {\"color\": \"white\"}}, \"type\": \"table\"}]}, \"layout\": {\"annotationdefaults\": {\"arrowcolor\": \"#2a3f5f\", \"arrowhead\": 0, \"arrowwidth\": 1}, \"autotypenumbers\": \"strict\", \"coloraxis\": {\"colorbar\": {\"outlinewidth\": 0, \"ticks\": \"\"}}, \"colorscale\": {\"diverging\": [[0, \"#8e0152\"], [0.1, \"#c51b7d\"], [0.2, \"#de77ae\"], [0.3, \"#f1b6da\"], [0.4, \"#fde0ef\"], [0.5, \"#f7f7f7\"], [0.6, \"#e6f5d0\"], [0.7, \"#b8e186\"], [0.8, \"#7fbc41\"], [0.9, \"#4d9221\"], [1, \"#276419\"]], \"sequential\": [[0.0, \"#0d0887\"], [0.1111111111111111, \"#46039f\"], [0.2222222222222222, \"#7201a8\"], [0.3333333333333333, \"#9c179e\"], [0.4444444444444444, \"#bd3786\"], [0.5555555555555556, \"#d8576b\"], [0.6666666666666666, \"#ed7953\"], [0.7777777777777778, \"#fb9f3a\"], [0.8888888888888888, \"#fdca26\"], [1.0, \"#f0f921\"]], \"sequentialminus\": [[0.0, \"#0d0887\"], [0.1111111111111111, \"#46039f\"], [0.2222222222222222, \"#7201a8\"], [0.3333333333333333, \"#9c179e\"], [0.4444444444444444, \"#bd3786\"], [0.5555555555555556, \"#d8576b\"], [0.6666666666666666, \"#ed7953\"], [0.7777777777777778, \"#fb9f3a\"], [0.8888888888888888, \"#fdca26\"], [1.0, \"#f0f921\"]]}, \"colorway\": [\"#636efa\", \"#EF553B\", \"#00cc96\", \"#ab63fa\", \"#FFA15A\", \"#19d3f3\", \"#FF6692\", \"#B6E880\", \"#FF97FF\", \"#FECB52\"], \"font\": {\"color\": \"#2a3f5f\"}, \"geo\": {\"bgcolor\": \"white\", \"lakecolor\": \"white\", \"landcolor\": \"#E5ECF6\", \"showlakes\": true, \"showland\": true, \"subunitcolor\": \"white\"}, \"hoverlabel\": {\"align\": \"left\"}, \"hovermode\": \"closest\", \"mapbox\": {\"style\": \"light\"}, \"paper_bgcolor\": \"white\", \"plot_bgcolor\": \"#E5ECF6\", \"polar\": {\"angularaxis\": {\"gridcolor\": \"white\", \"linecolor\": \"white\", \"ticks\": \"\"}, \"bgcolor\": \"#E5ECF6\", \"radialaxis\": {\"gridcolor\": \"white\", \"linecolor\": \"white\", \"ticks\": \"\"}}, \"scene\": {\"xaxis\": {\"backgroundcolor\": \"#E5ECF6\", \"gridcolor\": \"white\", \"gridwidth\": 2, \"linecolor\": \"white\", \"showbackground\": true, \"ticks\": \"\", \"zerolinecolor\": \"white\"}, \"yaxis\": {\"backgroundcolor\": \"#E5ECF6\", \"gridcolor\": \"white\", \"gridwidth\": 2, \"linecolor\": \"white\", \"showbackground\": true, \"ticks\": \"\", \"zerolinecolor\": \"white\"}, \"zaxis\": {\"backgroundcolor\": \"#E5ECF6\", \"gridcolor\": \"white\", \"gridwidth\": 2, \"linecolor\": \"white\", \"showbackground\": true, \"ticks\": \"\", \"zerolinecolor\": \"white\"}}, \"shapedefaults\": {\"line\": {\"color\": \"#2a3f5f\"}}, \"ternary\": {\"aaxis\": {\"gridcolor\": \"white\", \"linecolor\": \"white\", \"ticks\": \"\"}, \"baxis\": {\"gridcolor\": \"white\", \"linecolor\": \"white\", \"ticks\": \"\"}, \"bgcolor\": \"#E5ECF6\", \"caxis\": {\"gridcolor\": \"white\", \"linecolor\": \"white\", \"ticks\": \"\"}}, \"title\": {\"x\": 0.05}, \"xaxis\": {\"automargin\": true, \"gridcolor\": \"white\", \"linecolor\": \"white\", \"ticks\": \"\", \"title\": {\"standoff\": 15}, \"zerolinecolor\": \"white\", \"zerolinewidth\": 2}, \"yaxis\": {\"automargin\": true, \"gridcolor\": \"white\", \"linecolor\": \"white\", \"ticks\": \"\", \"title\": {\"standoff\": 15}, \"zerolinecolor\": \"white\", \"zerolinewidth\": 2}}}, \"title\": {\"text\": \"DEL<br>minSVSize moves precision and recall in same direction;<br>trfermikit dominates manta only when small SVs are included:\", \"x\": 0.5, \"y\": 0.9}, \"xaxis\": {\"title\": {\"text\": \"recall\"}}, \"yaxis\": {\"title\": {\"text\": \"precision\"}}},                        {\"responsive\": true}                    ).then(function(){\n",
       "                            \n",
       "var gd = document.getElementById('43d80ee2-0392-4eed-af46-ee06936348c1');\n",
       "var x = new MutationObserver(function (mutations, observer) {{\n",
       "        var display = window.getComputedStyle(gd).display;\n",
       "        if (!display || display === 'none') {{\n",
       "            console.log([gd, 'removed!']);\n",
       "            Plotly.purge(gd);\n",
       "            observer.disconnect();\n",
       "        }}\n",
       "}});\n",
       "\n",
       "// Listen for the removal of the full notebook cells\n",
       "var notebookContainer = gd.closest('#notebook-container');\n",
       "if (notebookContainer) {{\n",
       "    x.observe(notebookContainer, {childList: true});\n",
       "}}\n",
       "\n",
       "// Listen for the clearing of the current output cell\n",
       "var outputEl = gd.closest('.output');\n",
       "if (outputEl) {{\n",
       "    x.observe(outputEl, {childList: true});\n",
       "}}\n",
       "\n",
       "                        })                };                });            </script>        </div>"
      ]
     },
     "metadata": {},
     "output_type": "display_data"
    },
    {
     "data": {
      "application/vnd.plotly.v1+json": {
       "config": {
        "plotlyServerURL": "https://plot.ly"
       },
       "data": [
        {
         "hovertemplate": "%{text}",
         "marker": {
          "color": [
           "red",
           "green",
           "blue",
           "red",
           "green",
           "blue",
           "red",
           "green",
           "blue",
           "red",
           "green",
           "blue",
           "red",
           "green",
           "blue",
           "red",
           "green",
           "blue",
           "red",
           "green",
           "blue",
           "red",
           "green",
           "blue",
           "red",
           "green",
           "blue"
          ],
          "line": {
           "color": "black",
           "width": 1
          },
          "size": 10,
          "symbol": "circle"
         },
         "mode": "markers",
         "name": "trfermikit",
         "showlegend": false,
         "text": [
          "filterCalls.minUnitigBlockLength: 15<br><br>makeRegions: <br>  slop: 250<br>  minCoverage: 0<br>  maxCoverage: 200<br>  maxRegionLength: 100000<br>  minRepeatPeriod: 6<br>  minRepeatLength: 0<br>  functionalRegions: none<br>  genomeBuild: hg38<br>  overlappedFunctionalRegions: false<br>makeCalls: <br>  singleBaseMatchReward: 10<br>  singleBaseMismatchPenalty: 12<br>  gapOpenPenalties: 6,26<br>  gapExtensionPenalties: 1,0<br>  minUnitigMappingQuality: 1<br>filterCalls: <br>  maxIntraClusterDistance: 500<br>  minSVSize: 100<br>  minUnitigMappingQuality: 0<br>",
          "filterCalls.minUnitigBlockLength: 25<br><br>makeRegions: <br>  slop: 250<br>  minCoverage: 0<br>  maxCoverage: 200<br>  maxRegionLength: 100000<br>  minRepeatPeriod: 6<br>  minRepeatLength: 0<br>  functionalRegions: none<br>  genomeBuild: hg38<br>  overlappedFunctionalRegions: false<br>makeCalls: <br>  singleBaseMatchReward: 10<br>  singleBaseMismatchPenalty: 12<br>  gapOpenPenalties: 6,26<br>  gapExtensionPenalties: 1,0<br>  minUnitigMappingQuality: 1<br>filterCalls: <br>  maxIntraClusterDistance: 500<br>  minSVSize: 100<br>  minUnitigMappingQuality: 0<br>",
          "filterCalls.minUnitigBlockLength: 40<br><br>makeRegions: <br>  slop: 250<br>  minCoverage: 0<br>  maxCoverage: 200<br>  maxRegionLength: 100000<br>  minRepeatPeriod: 6<br>  minRepeatLength: 0<br>  functionalRegions: none<br>  genomeBuild: hg38<br>  overlappedFunctionalRegions: false<br>makeCalls: <br>  singleBaseMatchReward: 10<br>  singleBaseMismatchPenalty: 12<br>  gapOpenPenalties: 6,26<br>  gapExtensionPenalties: 1,0<br>  minUnitigMappingQuality: 1<br>filterCalls: <br>  maxIntraClusterDistance: 500<br>  minSVSize: 100<br>  minUnitigMappingQuality: 0<br>",
          "filterCalls.minUnitigBlockLength: 15<br><br>makeRegions: <br>  slop: 250<br>  minCoverage: 0<br>  maxCoverage: 200<br>  maxRegionLength: 100000<br>  minRepeatPeriod: 6<br>  minRepeatLength: 100<br>  functionalRegions: none<br>  genomeBuild: hg38<br>  overlappedFunctionalRegions: false<br>makeCalls: <br>  singleBaseMatchReward: 10<br>  singleBaseMismatchPenalty: 12<br>  gapOpenPenalties: 6,26<br>  gapExtensionPenalties: 1,0<br>  minUnitigMappingQuality: 1<br>filterCalls: <br>  maxIntraClusterDistance: 500<br>  minSVSize: 100<br>  minUnitigMappingQuality: 0<br>",
          "filterCalls.minUnitigBlockLength: 25<br><br>makeRegions: <br>  slop: 250<br>  minCoverage: 0<br>  maxCoverage: 200<br>  maxRegionLength: 100000<br>  minRepeatPeriod: 6<br>  minRepeatLength: 100<br>  functionalRegions: none<br>  genomeBuild: hg38<br>  overlappedFunctionalRegions: false<br>makeCalls: <br>  singleBaseMatchReward: 10<br>  singleBaseMismatchPenalty: 12<br>  gapOpenPenalties: 6,26<br>  gapExtensionPenalties: 1,0<br>  minUnitigMappingQuality: 1<br>filterCalls: <br>  maxIntraClusterDistance: 500<br>  minSVSize: 100<br>  minUnitigMappingQuality: 0<br>",
          "filterCalls.minUnitigBlockLength: 40<br><br>makeRegions: <br>  slop: 250<br>  minCoverage: 0<br>  maxCoverage: 200<br>  maxRegionLength: 100000<br>  minRepeatPeriod: 6<br>  minRepeatLength: 100<br>  functionalRegions: none<br>  genomeBuild: hg38<br>  overlappedFunctionalRegions: false<br>makeCalls: <br>  singleBaseMatchReward: 10<br>  singleBaseMismatchPenalty: 12<br>  gapOpenPenalties: 6,26<br>  gapExtensionPenalties: 1,0<br>  minUnitigMappingQuality: 1<br>filterCalls: <br>  maxIntraClusterDistance: 500<br>  minSVSize: 100<br>  minUnitigMappingQuality: 0<br>",
          "filterCalls.minUnitigBlockLength: 15<br><br>makeRegions: <br>  slop: 250<br>  minCoverage: 0<br>  maxCoverage: 200<br>  maxRegionLength: 100000<br>  minRepeatPeriod: 6<br>  minRepeatLength: 50<br>  functionalRegions: none<br>  genomeBuild: hg38<br>  overlappedFunctionalRegions: false<br>makeCalls: <br>  singleBaseMatchReward: 10<br>  singleBaseMismatchPenalty: 12<br>  gapOpenPenalties: 6,26<br>  gapExtensionPenalties: 1,0<br>  minUnitigMappingQuality: 1<br>filterCalls: <br>  maxIntraClusterDistance: 500<br>  minSVSize: 100<br>  minUnitigMappingQuality: 0<br>",
          "filterCalls.minUnitigBlockLength: 25<br><br>makeRegions: <br>  slop: 250<br>  minCoverage: 0<br>  maxCoverage: 200<br>  maxRegionLength: 100000<br>  minRepeatPeriod: 6<br>  minRepeatLength: 50<br>  functionalRegions: none<br>  genomeBuild: hg38<br>  overlappedFunctionalRegions: false<br>makeCalls: <br>  singleBaseMatchReward: 10<br>  singleBaseMismatchPenalty: 12<br>  gapOpenPenalties: 6,26<br>  gapExtensionPenalties: 1,0<br>  minUnitigMappingQuality: 1<br>filterCalls: <br>  maxIntraClusterDistance: 500<br>  minSVSize: 100<br>  minUnitigMappingQuality: 0<br>",
          "filterCalls.minUnitigBlockLength: 40<br><br>makeRegions: <br>  slop: 250<br>  minCoverage: 0<br>  maxCoverage: 200<br>  maxRegionLength: 100000<br>  minRepeatPeriod: 6<br>  minRepeatLength: 50<br>  functionalRegions: none<br>  genomeBuild: hg38<br>  overlappedFunctionalRegions: false<br>makeCalls: <br>  singleBaseMatchReward: 10<br>  singleBaseMismatchPenalty: 12<br>  gapOpenPenalties: 6,26<br>  gapExtensionPenalties: 1,0<br>  minUnitigMappingQuality: 1<br>filterCalls: <br>  maxIntraClusterDistance: 500<br>  minSVSize: 100<br>  minUnitigMappingQuality: 0<br>",
          "filterCalls.minUnitigBlockLength: 15<br><br>makeRegions: <br>  slop: 250<br>  minCoverage: 0<br>  maxCoverage: 200<br>  maxRegionLength: 100000<br>  minRepeatPeriod: 6<br>  minRepeatLength: 0<br>  functionalRegions: none<br>  genomeBuild: hg38<br>  overlappedFunctionalRegions: false<br>makeCalls: <br>  singleBaseMatchReward: 10<br>  singleBaseMismatchPenalty: 12<br>  gapOpenPenalties: 6,26<br>  gapExtensionPenalties: 1,0<br>  minUnitigMappingQuality: 1<br>filterCalls: <br>  maxIntraClusterDistance: 500<br>  minSVSize: 500<br>  minUnitigMappingQuality: 0<br>",
          "filterCalls.minUnitigBlockLength: 25<br><br>makeRegions: <br>  slop: 250<br>  minCoverage: 0<br>  maxCoverage: 200<br>  maxRegionLength: 100000<br>  minRepeatPeriod: 6<br>  minRepeatLength: 0<br>  functionalRegions: none<br>  genomeBuild: hg38<br>  overlappedFunctionalRegions: false<br>makeCalls: <br>  singleBaseMatchReward: 10<br>  singleBaseMismatchPenalty: 12<br>  gapOpenPenalties: 6,26<br>  gapExtensionPenalties: 1,0<br>  minUnitigMappingQuality: 1<br>filterCalls: <br>  maxIntraClusterDistance: 500<br>  minSVSize: 500<br>  minUnitigMappingQuality: 0<br>",
          "filterCalls.minUnitigBlockLength: 40<br><br>makeRegions: <br>  slop: 250<br>  minCoverage: 0<br>  maxCoverage: 200<br>  maxRegionLength: 100000<br>  minRepeatPeriod: 6<br>  minRepeatLength: 0<br>  functionalRegions: none<br>  genomeBuild: hg38<br>  overlappedFunctionalRegions: false<br>makeCalls: <br>  singleBaseMatchReward: 10<br>  singleBaseMismatchPenalty: 12<br>  gapOpenPenalties: 6,26<br>  gapExtensionPenalties: 1,0<br>  minUnitigMappingQuality: 1<br>filterCalls: <br>  maxIntraClusterDistance: 500<br>  minSVSize: 500<br>  minUnitigMappingQuality: 0<br>",
          "filterCalls.minUnitigBlockLength: 15<br><br>makeRegions: <br>  slop: 250<br>  minCoverage: 0<br>  maxCoverage: 200<br>  maxRegionLength: 100000<br>  minRepeatPeriod: 6<br>  minRepeatLength: 100<br>  functionalRegions: none<br>  genomeBuild: hg38<br>  overlappedFunctionalRegions: false<br>makeCalls: <br>  singleBaseMatchReward: 10<br>  singleBaseMismatchPenalty: 12<br>  gapOpenPenalties: 6,26<br>  gapExtensionPenalties: 1,0<br>  minUnitigMappingQuality: 1<br>filterCalls: <br>  maxIntraClusterDistance: 500<br>  minSVSize: 500<br>  minUnitigMappingQuality: 0<br>",
          "filterCalls.minUnitigBlockLength: 25<br><br>makeRegions: <br>  slop: 250<br>  minCoverage: 0<br>  maxCoverage: 200<br>  maxRegionLength: 100000<br>  minRepeatPeriod: 6<br>  minRepeatLength: 100<br>  functionalRegions: none<br>  genomeBuild: hg38<br>  overlappedFunctionalRegions: false<br>makeCalls: <br>  singleBaseMatchReward: 10<br>  singleBaseMismatchPenalty: 12<br>  gapOpenPenalties: 6,26<br>  gapExtensionPenalties: 1,0<br>  minUnitigMappingQuality: 1<br>filterCalls: <br>  maxIntraClusterDistance: 500<br>  minSVSize: 500<br>  minUnitigMappingQuality: 0<br>",
          "filterCalls.minUnitigBlockLength: 40<br><br>makeRegions: <br>  slop: 250<br>  minCoverage: 0<br>  maxCoverage: 200<br>  maxRegionLength: 100000<br>  minRepeatPeriod: 6<br>  minRepeatLength: 100<br>  functionalRegions: none<br>  genomeBuild: hg38<br>  overlappedFunctionalRegions: false<br>makeCalls: <br>  singleBaseMatchReward: 10<br>  singleBaseMismatchPenalty: 12<br>  gapOpenPenalties: 6,26<br>  gapExtensionPenalties: 1,0<br>  minUnitigMappingQuality: 1<br>filterCalls: <br>  maxIntraClusterDistance: 500<br>  minSVSize: 500<br>  minUnitigMappingQuality: 0<br>",
          "filterCalls.minUnitigBlockLength: 15<br><br>makeRegions: <br>  slop: 250<br>  minCoverage: 0<br>  maxCoverage: 200<br>  maxRegionLength: 100000<br>  minRepeatPeriod: 6<br>  minRepeatLength: 50<br>  functionalRegions: none<br>  genomeBuild: hg38<br>  overlappedFunctionalRegions: false<br>makeCalls: <br>  singleBaseMatchReward: 10<br>  singleBaseMismatchPenalty: 12<br>  gapOpenPenalties: 6,26<br>  gapExtensionPenalties: 1,0<br>  minUnitigMappingQuality: 1<br>filterCalls: <br>  maxIntraClusterDistance: 500<br>  minSVSize: 500<br>  minUnitigMappingQuality: 0<br>",
          "filterCalls.minUnitigBlockLength: 25<br><br>makeRegions: <br>  slop: 250<br>  minCoverage: 0<br>  maxCoverage: 200<br>  maxRegionLength: 100000<br>  minRepeatPeriod: 6<br>  minRepeatLength: 50<br>  functionalRegions: none<br>  genomeBuild: hg38<br>  overlappedFunctionalRegions: false<br>makeCalls: <br>  singleBaseMatchReward: 10<br>  singleBaseMismatchPenalty: 12<br>  gapOpenPenalties: 6,26<br>  gapExtensionPenalties: 1,0<br>  minUnitigMappingQuality: 1<br>filterCalls: <br>  maxIntraClusterDistance: 500<br>  minSVSize: 500<br>  minUnitigMappingQuality: 0<br>",
          "filterCalls.minUnitigBlockLength: 40<br><br>makeRegions: <br>  slop: 250<br>  minCoverage: 0<br>  maxCoverage: 200<br>  maxRegionLength: 100000<br>  minRepeatPeriod: 6<br>  minRepeatLength: 50<br>  functionalRegions: none<br>  genomeBuild: hg38<br>  overlappedFunctionalRegions: false<br>makeCalls: <br>  singleBaseMatchReward: 10<br>  singleBaseMismatchPenalty: 12<br>  gapOpenPenalties: 6,26<br>  gapExtensionPenalties: 1,0<br>  minUnitigMappingQuality: 1<br>filterCalls: <br>  maxIntraClusterDistance: 500<br>  minSVSize: 500<br>  minUnitigMappingQuality: 0<br>",
          "filterCalls.minUnitigBlockLength: 15<br><br>makeRegions: <br>  slop: 250<br>  minCoverage: 0<br>  maxCoverage: 200<br>  maxRegionLength: 100000<br>  minRepeatPeriod: 6<br>  minRepeatLength: 0<br>  functionalRegions: none<br>  genomeBuild: hg38<br>  overlappedFunctionalRegions: false<br>makeCalls: <br>  singleBaseMatchReward: 10<br>  singleBaseMismatchPenalty: 12<br>  gapOpenPenalties: 6,26<br>  gapExtensionPenalties: 1,0<br>  minUnitigMappingQuality: 1<br>filterCalls: <br>  maxIntraClusterDistance: 500<br>  minSVSize: 50<br>  minUnitigMappingQuality: 0<br>",
          "filterCalls.minUnitigBlockLength: 25<br><br>makeRegions: <br>  slop: 250<br>  minCoverage: 0<br>  maxCoverage: 200<br>  maxRegionLength: 100000<br>  minRepeatPeriod: 6<br>  minRepeatLength: 0<br>  functionalRegions: none<br>  genomeBuild: hg38<br>  overlappedFunctionalRegions: false<br>makeCalls: <br>  singleBaseMatchReward: 10<br>  singleBaseMismatchPenalty: 12<br>  gapOpenPenalties: 6,26<br>  gapExtensionPenalties: 1,0<br>  minUnitigMappingQuality: 1<br>filterCalls: <br>  maxIntraClusterDistance: 500<br>  minSVSize: 50<br>  minUnitigMappingQuality: 0<br>",
          "filterCalls.minUnitigBlockLength: 40<br><br>makeRegions: <br>  slop: 250<br>  minCoverage: 0<br>  maxCoverage: 200<br>  maxRegionLength: 100000<br>  minRepeatPeriod: 6<br>  minRepeatLength: 0<br>  functionalRegions: none<br>  genomeBuild: hg38<br>  overlappedFunctionalRegions: false<br>makeCalls: <br>  singleBaseMatchReward: 10<br>  singleBaseMismatchPenalty: 12<br>  gapOpenPenalties: 6,26<br>  gapExtensionPenalties: 1,0<br>  minUnitigMappingQuality: 1<br>filterCalls: <br>  maxIntraClusterDistance: 500<br>  minSVSize: 50<br>  minUnitigMappingQuality: 0<br>",
          "filterCalls.minUnitigBlockLength: 15<br><br>makeRegions: <br>  slop: 250<br>  minCoverage: 0<br>  maxCoverage: 200<br>  maxRegionLength: 100000<br>  minRepeatPeriod: 6<br>  minRepeatLength: 100<br>  functionalRegions: none<br>  genomeBuild: hg38<br>  overlappedFunctionalRegions: false<br>makeCalls: <br>  singleBaseMatchReward: 10<br>  singleBaseMismatchPenalty: 12<br>  gapOpenPenalties: 6,26<br>  gapExtensionPenalties: 1,0<br>  minUnitigMappingQuality: 1<br>filterCalls: <br>  maxIntraClusterDistance: 500<br>  minSVSize: 50<br>  minUnitigMappingQuality: 0<br>",
          "filterCalls.minUnitigBlockLength: 25<br><br>makeRegions: <br>  slop: 250<br>  minCoverage: 0<br>  maxCoverage: 200<br>  maxRegionLength: 100000<br>  minRepeatPeriod: 6<br>  minRepeatLength: 100<br>  functionalRegions: none<br>  genomeBuild: hg38<br>  overlappedFunctionalRegions: false<br>makeCalls: <br>  singleBaseMatchReward: 10<br>  singleBaseMismatchPenalty: 12<br>  gapOpenPenalties: 6,26<br>  gapExtensionPenalties: 1,0<br>  minUnitigMappingQuality: 1<br>filterCalls: <br>  maxIntraClusterDistance: 500<br>  minSVSize: 50<br>  minUnitigMappingQuality: 0<br>",
          "filterCalls.minUnitigBlockLength: 40<br><br>makeRegions: <br>  slop: 250<br>  minCoverage: 0<br>  maxCoverage: 200<br>  maxRegionLength: 100000<br>  minRepeatPeriod: 6<br>  minRepeatLength: 100<br>  functionalRegions: none<br>  genomeBuild: hg38<br>  overlappedFunctionalRegions: false<br>makeCalls: <br>  singleBaseMatchReward: 10<br>  singleBaseMismatchPenalty: 12<br>  gapOpenPenalties: 6,26<br>  gapExtensionPenalties: 1,0<br>  minUnitigMappingQuality: 1<br>filterCalls: <br>  maxIntraClusterDistance: 500<br>  minSVSize: 50<br>  minUnitigMappingQuality: 0<br>",
          "filterCalls.minUnitigBlockLength: 15<br><br>makeRegions: <br>  slop: 250<br>  minCoverage: 0<br>  maxCoverage: 200<br>  maxRegionLength: 100000<br>  minRepeatPeriod: 6<br>  minRepeatLength: 50<br>  functionalRegions: none<br>  genomeBuild: hg38<br>  overlappedFunctionalRegions: false<br>makeCalls: <br>  singleBaseMatchReward: 10<br>  singleBaseMismatchPenalty: 12<br>  gapOpenPenalties: 6,26<br>  gapExtensionPenalties: 1,0<br>  minUnitigMappingQuality: 1<br>filterCalls: <br>  maxIntraClusterDistance: 500<br>  minSVSize: 50<br>  minUnitigMappingQuality: 0<br>",
          "filterCalls.minUnitigBlockLength: 25<br><br>makeRegions: <br>  slop: 250<br>  minCoverage: 0<br>  maxCoverage: 200<br>  maxRegionLength: 100000<br>  minRepeatPeriod: 6<br>  minRepeatLength: 50<br>  functionalRegions: none<br>  genomeBuild: hg38<br>  overlappedFunctionalRegions: false<br>makeCalls: <br>  singleBaseMatchReward: 10<br>  singleBaseMismatchPenalty: 12<br>  gapOpenPenalties: 6,26<br>  gapExtensionPenalties: 1,0<br>  minUnitigMappingQuality: 1<br>filterCalls: <br>  maxIntraClusterDistance: 500<br>  minSVSize: 50<br>  minUnitigMappingQuality: 0<br>",
          "filterCalls.minUnitigBlockLength: 40<br><br>makeRegions: <br>  slop: 250<br>  minCoverage: 0<br>  maxCoverage: 200<br>  maxRegionLength: 100000<br>  minRepeatPeriod: 6<br>  minRepeatLength: 50<br>  functionalRegions: none<br>  genomeBuild: hg38<br>  overlappedFunctionalRegions: false<br>makeCalls: <br>  singleBaseMatchReward: 10<br>  singleBaseMismatchPenalty: 12<br>  gapOpenPenalties: 6,26<br>  gapExtensionPenalties: 1,0<br>  minUnitigMappingQuality: 1<br>filterCalls: <br>  maxIntraClusterDistance: 500<br>  minSVSize: 50<br>  minUnitigMappingQuality: 0<br>"
         ],
         "type": "scatter",
         "x": [
          0.25209256523879864,
          0.23879862136878385,
          0.20974889217134415,
          0.25156325156325154,
          0.23953823953823955,
          0.20634920634920634,
          0.25024342745861733,
          0.24050632911392406,
          0.2098344693281402,
          0.06598984771573604,
          0.05583756345177665,
          0.04568527918781726,
          0.07317073170731707,
          0.05365853658536585,
          0.05365853658536585,
          0.06896551724137931,
          0.06403940886699508,
          0.04926108374384237,
          0.3362222222222222,
          0.3208888888888889,
          0.28644444444444445,
          0.3411970292704238,
          0.3241590214067278,
          0.28658802970729574,
          0.3398506151142355,
          0.3229349736379613,
          0.2871265377855888
         ],
         "y": [
          0.26848453067645517,
          0.3509406657018813,
          0.46304347826086956,
          0.26494427558257344,
          0.35045742434905,
          0.45686900958466453,
          0.26535880227155395,
          0.35135135135135137,
          0.46796959826275786,
          0.1625,
          0.2037037037037037,
          0.24324324324324326,
          0.16666666666666666,
          0.22916666666666666,
          0.275,
          0.17073170731707318,
          0.23636363636363636,
          0.2631578947368421,
          0.38616641143440533,
          0.4616368286445013,
          0.5529815529815529,
          0.39030484757621187,
          0.46769618657421996,
          0.556639796351294,
          0.3884007029876977,
          0.46226415094339623,
          0.5545184556639796
         ]
        },
        {
         "hovertemplate": "%{text}",
         "marker": {
          "color": [
           "red",
           "green",
           "blue",
           "red",
           "green",
           "blue",
           "red",
           "green",
           "blue",
           "red",
           "green",
           "blue",
           "red",
           "green",
           "blue",
           "red",
           "green",
           "blue",
           "red",
           "green",
           "blue",
           "red",
           "green",
           "blue",
           "red",
           "green",
           "blue"
          ],
          "line": {
           "color": "black",
           "width": 1
          },
          "size": 10,
          "symbol": "square"
         },
         "mode": "markers",
         "name": "manta",
         "showlegend": false,
         "text": [
          "filterCalls.minUnitigBlockLength: 15<br><br>makeRegions: <br>  slop: 250<br>  minCoverage: 0<br>  maxCoverage: 200<br>  maxRegionLength: 100000<br>  minRepeatPeriod: 6<br>  minRepeatLength: 0<br>  functionalRegions: none<br>  genomeBuild: hg38<br>  overlappedFunctionalRegions: false<br>makeCalls: <br>  singleBaseMatchReward: 10<br>  singleBaseMismatchPenalty: 12<br>  gapOpenPenalties: 6,26<br>  gapExtensionPenalties: 1,0<br>  minUnitigMappingQuality: 1<br>filterCalls: <br>  maxIntraClusterDistance: 500<br>  minSVSize: 100<br>  minUnitigMappingQuality: 0<br>",
          "filterCalls.minUnitigBlockLength: 25<br><br>makeRegions: <br>  slop: 250<br>  minCoverage: 0<br>  maxCoverage: 200<br>  maxRegionLength: 100000<br>  minRepeatPeriod: 6<br>  minRepeatLength: 0<br>  functionalRegions: none<br>  genomeBuild: hg38<br>  overlappedFunctionalRegions: false<br>makeCalls: <br>  singleBaseMatchReward: 10<br>  singleBaseMismatchPenalty: 12<br>  gapOpenPenalties: 6,26<br>  gapExtensionPenalties: 1,0<br>  minUnitigMappingQuality: 1<br>filterCalls: <br>  maxIntraClusterDistance: 500<br>  minSVSize: 100<br>  minUnitigMappingQuality: 0<br>",
          "filterCalls.minUnitigBlockLength: 40<br><br>makeRegions: <br>  slop: 250<br>  minCoverage: 0<br>  maxCoverage: 200<br>  maxRegionLength: 100000<br>  minRepeatPeriod: 6<br>  minRepeatLength: 0<br>  functionalRegions: none<br>  genomeBuild: hg38<br>  overlappedFunctionalRegions: false<br>makeCalls: <br>  singleBaseMatchReward: 10<br>  singleBaseMismatchPenalty: 12<br>  gapOpenPenalties: 6,26<br>  gapExtensionPenalties: 1,0<br>  minUnitigMappingQuality: 1<br>filterCalls: <br>  maxIntraClusterDistance: 500<br>  minSVSize: 100<br>  minUnitigMappingQuality: 0<br>",
          "filterCalls.minUnitigBlockLength: 15<br><br>makeRegions: <br>  slop: 250<br>  minCoverage: 0<br>  maxCoverage: 200<br>  maxRegionLength: 100000<br>  minRepeatPeriod: 6<br>  minRepeatLength: 100<br>  functionalRegions: none<br>  genomeBuild: hg38<br>  overlappedFunctionalRegions: false<br>makeCalls: <br>  singleBaseMatchReward: 10<br>  singleBaseMismatchPenalty: 12<br>  gapOpenPenalties: 6,26<br>  gapExtensionPenalties: 1,0<br>  minUnitigMappingQuality: 1<br>filterCalls: <br>  maxIntraClusterDistance: 500<br>  minSVSize: 100<br>  minUnitigMappingQuality: 0<br>",
          "filterCalls.minUnitigBlockLength: 25<br><br>makeRegions: <br>  slop: 250<br>  minCoverage: 0<br>  maxCoverage: 200<br>  maxRegionLength: 100000<br>  minRepeatPeriod: 6<br>  minRepeatLength: 100<br>  functionalRegions: none<br>  genomeBuild: hg38<br>  overlappedFunctionalRegions: false<br>makeCalls: <br>  singleBaseMatchReward: 10<br>  singleBaseMismatchPenalty: 12<br>  gapOpenPenalties: 6,26<br>  gapExtensionPenalties: 1,0<br>  minUnitigMappingQuality: 1<br>filterCalls: <br>  maxIntraClusterDistance: 500<br>  minSVSize: 100<br>  minUnitigMappingQuality: 0<br>",
          "filterCalls.minUnitigBlockLength: 40<br><br>makeRegions: <br>  slop: 250<br>  minCoverage: 0<br>  maxCoverage: 200<br>  maxRegionLength: 100000<br>  minRepeatPeriod: 6<br>  minRepeatLength: 100<br>  functionalRegions: none<br>  genomeBuild: hg38<br>  overlappedFunctionalRegions: false<br>makeCalls: <br>  singleBaseMatchReward: 10<br>  singleBaseMismatchPenalty: 12<br>  gapOpenPenalties: 6,26<br>  gapExtensionPenalties: 1,0<br>  minUnitigMappingQuality: 1<br>filterCalls: <br>  maxIntraClusterDistance: 500<br>  minSVSize: 100<br>  minUnitigMappingQuality: 0<br>",
          "filterCalls.minUnitigBlockLength: 15<br><br>makeRegions: <br>  slop: 250<br>  minCoverage: 0<br>  maxCoverage: 200<br>  maxRegionLength: 100000<br>  minRepeatPeriod: 6<br>  minRepeatLength: 50<br>  functionalRegions: none<br>  genomeBuild: hg38<br>  overlappedFunctionalRegions: false<br>makeCalls: <br>  singleBaseMatchReward: 10<br>  singleBaseMismatchPenalty: 12<br>  gapOpenPenalties: 6,26<br>  gapExtensionPenalties: 1,0<br>  minUnitigMappingQuality: 1<br>filterCalls: <br>  maxIntraClusterDistance: 500<br>  minSVSize: 100<br>  minUnitigMappingQuality: 0<br>",
          "filterCalls.minUnitigBlockLength: 25<br><br>makeRegions: <br>  slop: 250<br>  minCoverage: 0<br>  maxCoverage: 200<br>  maxRegionLength: 100000<br>  minRepeatPeriod: 6<br>  minRepeatLength: 50<br>  functionalRegions: none<br>  genomeBuild: hg38<br>  overlappedFunctionalRegions: false<br>makeCalls: <br>  singleBaseMatchReward: 10<br>  singleBaseMismatchPenalty: 12<br>  gapOpenPenalties: 6,26<br>  gapExtensionPenalties: 1,0<br>  minUnitigMappingQuality: 1<br>filterCalls: <br>  maxIntraClusterDistance: 500<br>  minSVSize: 100<br>  minUnitigMappingQuality: 0<br>",
          "filterCalls.minUnitigBlockLength: 40<br><br>makeRegions: <br>  slop: 250<br>  minCoverage: 0<br>  maxCoverage: 200<br>  maxRegionLength: 100000<br>  minRepeatPeriod: 6<br>  minRepeatLength: 50<br>  functionalRegions: none<br>  genomeBuild: hg38<br>  overlappedFunctionalRegions: false<br>makeCalls: <br>  singleBaseMatchReward: 10<br>  singleBaseMismatchPenalty: 12<br>  gapOpenPenalties: 6,26<br>  gapExtensionPenalties: 1,0<br>  minUnitigMappingQuality: 1<br>filterCalls: <br>  maxIntraClusterDistance: 500<br>  minSVSize: 100<br>  minUnitigMappingQuality: 0<br>",
          "filterCalls.minUnitigBlockLength: 15<br><br>makeRegions: <br>  slop: 250<br>  minCoverage: 0<br>  maxCoverage: 200<br>  maxRegionLength: 100000<br>  minRepeatPeriod: 6<br>  minRepeatLength: 0<br>  functionalRegions: none<br>  genomeBuild: hg38<br>  overlappedFunctionalRegions: false<br>makeCalls: <br>  singleBaseMatchReward: 10<br>  singleBaseMismatchPenalty: 12<br>  gapOpenPenalties: 6,26<br>  gapExtensionPenalties: 1,0<br>  minUnitigMappingQuality: 1<br>filterCalls: <br>  maxIntraClusterDistance: 500<br>  minSVSize: 500<br>  minUnitigMappingQuality: 0<br>",
          "filterCalls.minUnitigBlockLength: 25<br><br>makeRegions: <br>  slop: 250<br>  minCoverage: 0<br>  maxCoverage: 200<br>  maxRegionLength: 100000<br>  minRepeatPeriod: 6<br>  minRepeatLength: 0<br>  functionalRegions: none<br>  genomeBuild: hg38<br>  overlappedFunctionalRegions: false<br>makeCalls: <br>  singleBaseMatchReward: 10<br>  singleBaseMismatchPenalty: 12<br>  gapOpenPenalties: 6,26<br>  gapExtensionPenalties: 1,0<br>  minUnitigMappingQuality: 1<br>filterCalls: <br>  maxIntraClusterDistance: 500<br>  minSVSize: 500<br>  minUnitigMappingQuality: 0<br>",
          "filterCalls.minUnitigBlockLength: 40<br><br>makeRegions: <br>  slop: 250<br>  minCoverage: 0<br>  maxCoverage: 200<br>  maxRegionLength: 100000<br>  minRepeatPeriod: 6<br>  minRepeatLength: 0<br>  functionalRegions: none<br>  genomeBuild: hg38<br>  overlappedFunctionalRegions: false<br>makeCalls: <br>  singleBaseMatchReward: 10<br>  singleBaseMismatchPenalty: 12<br>  gapOpenPenalties: 6,26<br>  gapExtensionPenalties: 1,0<br>  minUnitigMappingQuality: 1<br>filterCalls: <br>  maxIntraClusterDistance: 500<br>  minSVSize: 500<br>  minUnitigMappingQuality: 0<br>",
          "filterCalls.minUnitigBlockLength: 15<br><br>makeRegions: <br>  slop: 250<br>  minCoverage: 0<br>  maxCoverage: 200<br>  maxRegionLength: 100000<br>  minRepeatPeriod: 6<br>  minRepeatLength: 100<br>  functionalRegions: none<br>  genomeBuild: hg38<br>  overlappedFunctionalRegions: false<br>makeCalls: <br>  singleBaseMatchReward: 10<br>  singleBaseMismatchPenalty: 12<br>  gapOpenPenalties: 6,26<br>  gapExtensionPenalties: 1,0<br>  minUnitigMappingQuality: 1<br>filterCalls: <br>  maxIntraClusterDistance: 500<br>  minSVSize: 500<br>  minUnitigMappingQuality: 0<br>",
          "filterCalls.minUnitigBlockLength: 25<br><br>makeRegions: <br>  slop: 250<br>  minCoverage: 0<br>  maxCoverage: 200<br>  maxRegionLength: 100000<br>  minRepeatPeriod: 6<br>  minRepeatLength: 100<br>  functionalRegions: none<br>  genomeBuild: hg38<br>  overlappedFunctionalRegions: false<br>makeCalls: <br>  singleBaseMatchReward: 10<br>  singleBaseMismatchPenalty: 12<br>  gapOpenPenalties: 6,26<br>  gapExtensionPenalties: 1,0<br>  minUnitigMappingQuality: 1<br>filterCalls: <br>  maxIntraClusterDistance: 500<br>  minSVSize: 500<br>  minUnitigMappingQuality: 0<br>",
          "filterCalls.minUnitigBlockLength: 40<br><br>makeRegions: <br>  slop: 250<br>  minCoverage: 0<br>  maxCoverage: 200<br>  maxRegionLength: 100000<br>  minRepeatPeriod: 6<br>  minRepeatLength: 100<br>  functionalRegions: none<br>  genomeBuild: hg38<br>  overlappedFunctionalRegions: false<br>makeCalls: <br>  singleBaseMatchReward: 10<br>  singleBaseMismatchPenalty: 12<br>  gapOpenPenalties: 6,26<br>  gapExtensionPenalties: 1,0<br>  minUnitigMappingQuality: 1<br>filterCalls: <br>  maxIntraClusterDistance: 500<br>  minSVSize: 500<br>  minUnitigMappingQuality: 0<br>",
          "filterCalls.minUnitigBlockLength: 15<br><br>makeRegions: <br>  slop: 250<br>  minCoverage: 0<br>  maxCoverage: 200<br>  maxRegionLength: 100000<br>  minRepeatPeriod: 6<br>  minRepeatLength: 50<br>  functionalRegions: none<br>  genomeBuild: hg38<br>  overlappedFunctionalRegions: false<br>makeCalls: <br>  singleBaseMatchReward: 10<br>  singleBaseMismatchPenalty: 12<br>  gapOpenPenalties: 6,26<br>  gapExtensionPenalties: 1,0<br>  minUnitigMappingQuality: 1<br>filterCalls: <br>  maxIntraClusterDistance: 500<br>  minSVSize: 500<br>  minUnitigMappingQuality: 0<br>",
          "filterCalls.minUnitigBlockLength: 25<br><br>makeRegions: <br>  slop: 250<br>  minCoverage: 0<br>  maxCoverage: 200<br>  maxRegionLength: 100000<br>  minRepeatPeriod: 6<br>  minRepeatLength: 50<br>  functionalRegions: none<br>  genomeBuild: hg38<br>  overlappedFunctionalRegions: false<br>makeCalls: <br>  singleBaseMatchReward: 10<br>  singleBaseMismatchPenalty: 12<br>  gapOpenPenalties: 6,26<br>  gapExtensionPenalties: 1,0<br>  minUnitigMappingQuality: 1<br>filterCalls: <br>  maxIntraClusterDistance: 500<br>  minSVSize: 500<br>  minUnitigMappingQuality: 0<br>",
          "filterCalls.minUnitigBlockLength: 40<br><br>makeRegions: <br>  slop: 250<br>  minCoverage: 0<br>  maxCoverage: 200<br>  maxRegionLength: 100000<br>  minRepeatPeriod: 6<br>  minRepeatLength: 50<br>  functionalRegions: none<br>  genomeBuild: hg38<br>  overlappedFunctionalRegions: false<br>makeCalls: <br>  singleBaseMatchReward: 10<br>  singleBaseMismatchPenalty: 12<br>  gapOpenPenalties: 6,26<br>  gapExtensionPenalties: 1,0<br>  minUnitigMappingQuality: 1<br>filterCalls: <br>  maxIntraClusterDistance: 500<br>  minSVSize: 500<br>  minUnitigMappingQuality: 0<br>",
          "filterCalls.minUnitigBlockLength: 15<br><br>makeRegions: <br>  slop: 250<br>  minCoverage: 0<br>  maxCoverage: 200<br>  maxRegionLength: 100000<br>  minRepeatPeriod: 6<br>  minRepeatLength: 0<br>  functionalRegions: none<br>  genomeBuild: hg38<br>  overlappedFunctionalRegions: false<br>makeCalls: <br>  singleBaseMatchReward: 10<br>  singleBaseMismatchPenalty: 12<br>  gapOpenPenalties: 6,26<br>  gapExtensionPenalties: 1,0<br>  minUnitigMappingQuality: 1<br>filterCalls: <br>  maxIntraClusterDistance: 500<br>  minSVSize: 50<br>  minUnitigMappingQuality: 0<br>",
          "filterCalls.minUnitigBlockLength: 25<br><br>makeRegions: <br>  slop: 250<br>  minCoverage: 0<br>  maxCoverage: 200<br>  maxRegionLength: 100000<br>  minRepeatPeriod: 6<br>  minRepeatLength: 0<br>  functionalRegions: none<br>  genomeBuild: hg38<br>  overlappedFunctionalRegions: false<br>makeCalls: <br>  singleBaseMatchReward: 10<br>  singleBaseMismatchPenalty: 12<br>  gapOpenPenalties: 6,26<br>  gapExtensionPenalties: 1,0<br>  minUnitigMappingQuality: 1<br>filterCalls: <br>  maxIntraClusterDistance: 500<br>  minSVSize: 50<br>  minUnitigMappingQuality: 0<br>",
          "filterCalls.minUnitigBlockLength: 40<br><br>makeRegions: <br>  slop: 250<br>  minCoverage: 0<br>  maxCoverage: 200<br>  maxRegionLength: 100000<br>  minRepeatPeriod: 6<br>  minRepeatLength: 0<br>  functionalRegions: none<br>  genomeBuild: hg38<br>  overlappedFunctionalRegions: false<br>makeCalls: <br>  singleBaseMatchReward: 10<br>  singleBaseMismatchPenalty: 12<br>  gapOpenPenalties: 6,26<br>  gapExtensionPenalties: 1,0<br>  minUnitigMappingQuality: 1<br>filterCalls: <br>  maxIntraClusterDistance: 500<br>  minSVSize: 50<br>  minUnitigMappingQuality: 0<br>",
          "filterCalls.minUnitigBlockLength: 15<br><br>makeRegions: <br>  slop: 250<br>  minCoverage: 0<br>  maxCoverage: 200<br>  maxRegionLength: 100000<br>  minRepeatPeriod: 6<br>  minRepeatLength: 100<br>  functionalRegions: none<br>  genomeBuild: hg38<br>  overlappedFunctionalRegions: false<br>makeCalls: <br>  singleBaseMatchReward: 10<br>  singleBaseMismatchPenalty: 12<br>  gapOpenPenalties: 6,26<br>  gapExtensionPenalties: 1,0<br>  minUnitigMappingQuality: 1<br>filterCalls: <br>  maxIntraClusterDistance: 500<br>  minSVSize: 50<br>  minUnitigMappingQuality: 0<br>",
          "filterCalls.minUnitigBlockLength: 25<br><br>makeRegions: <br>  slop: 250<br>  minCoverage: 0<br>  maxCoverage: 200<br>  maxRegionLength: 100000<br>  minRepeatPeriod: 6<br>  minRepeatLength: 100<br>  functionalRegions: none<br>  genomeBuild: hg38<br>  overlappedFunctionalRegions: false<br>makeCalls: <br>  singleBaseMatchReward: 10<br>  singleBaseMismatchPenalty: 12<br>  gapOpenPenalties: 6,26<br>  gapExtensionPenalties: 1,0<br>  minUnitigMappingQuality: 1<br>filterCalls: <br>  maxIntraClusterDistance: 500<br>  minSVSize: 50<br>  minUnitigMappingQuality: 0<br>",
          "filterCalls.minUnitigBlockLength: 40<br><br>makeRegions: <br>  slop: 250<br>  minCoverage: 0<br>  maxCoverage: 200<br>  maxRegionLength: 100000<br>  minRepeatPeriod: 6<br>  minRepeatLength: 100<br>  functionalRegions: none<br>  genomeBuild: hg38<br>  overlappedFunctionalRegions: false<br>makeCalls: <br>  singleBaseMatchReward: 10<br>  singleBaseMismatchPenalty: 12<br>  gapOpenPenalties: 6,26<br>  gapExtensionPenalties: 1,0<br>  minUnitigMappingQuality: 1<br>filterCalls: <br>  maxIntraClusterDistance: 500<br>  minSVSize: 50<br>  minUnitigMappingQuality: 0<br>",
          "filterCalls.minUnitigBlockLength: 15<br><br>makeRegions: <br>  slop: 250<br>  minCoverage: 0<br>  maxCoverage: 200<br>  maxRegionLength: 100000<br>  minRepeatPeriod: 6<br>  minRepeatLength: 50<br>  functionalRegions: none<br>  genomeBuild: hg38<br>  overlappedFunctionalRegions: false<br>makeCalls: <br>  singleBaseMatchReward: 10<br>  singleBaseMismatchPenalty: 12<br>  gapOpenPenalties: 6,26<br>  gapExtensionPenalties: 1,0<br>  minUnitigMappingQuality: 1<br>filterCalls: <br>  maxIntraClusterDistance: 500<br>  minSVSize: 50<br>  minUnitigMappingQuality: 0<br>",
          "filterCalls.minUnitigBlockLength: 25<br><br>makeRegions: <br>  slop: 250<br>  minCoverage: 0<br>  maxCoverage: 200<br>  maxRegionLength: 100000<br>  minRepeatPeriod: 6<br>  minRepeatLength: 50<br>  functionalRegions: none<br>  genomeBuild: hg38<br>  overlappedFunctionalRegions: false<br>makeCalls: <br>  singleBaseMatchReward: 10<br>  singleBaseMismatchPenalty: 12<br>  gapOpenPenalties: 6,26<br>  gapExtensionPenalties: 1,0<br>  minUnitigMappingQuality: 1<br>filterCalls: <br>  maxIntraClusterDistance: 500<br>  minSVSize: 50<br>  minUnitigMappingQuality: 0<br>",
          "filterCalls.minUnitigBlockLength: 40<br><br>makeRegions: <br>  slop: 250<br>  minCoverage: 0<br>  maxCoverage: 200<br>  maxRegionLength: 100000<br>  minRepeatPeriod: 6<br>  minRepeatLength: 50<br>  functionalRegions: none<br>  genomeBuild: hg38<br>  overlappedFunctionalRegions: false<br>makeCalls: <br>  singleBaseMatchReward: 10<br>  singleBaseMismatchPenalty: 12<br>  gapOpenPenalties: 6,26<br>  gapExtensionPenalties: 1,0<br>  minUnitigMappingQuality: 1<br>filterCalls: <br>  maxIntraClusterDistance: 500<br>  minSVSize: 50<br>  minUnitigMappingQuality: 0<br>"
         ],
         "type": "scatter",
         "x": [
          0.17183653372722796,
          0.17183653372722796,
          0.17183653372722796,
          0.1693121693121693,
          0.1693121693121693,
          0.1693121693121693,
          0.17088607594936708,
          0.17088607594936708,
          0.17088607594936708,
          0.16243654822335024,
          0.16243654822335024,
          0.16243654822335024,
          0.17560975609756097,
          0.17560975609756097,
          0.17560975609756097,
          0.1724137931034483,
          0.1724137931034483,
          0.1724137931034483,
          0.24133333333333334,
          0.24133333333333334,
          0.24133333333333334,
          0.23525557011795545,
          0.23525557011795545,
          0.23525557011795545,
          0.23967486818980668,
          0.23967486818980668,
          0.23967486818980668
         ],
         "y": [
          0.4101057579318449,
          0.4101057579318449,
          0.4101057579318449,
          0.4041331802525832,
          0.4041331802525832,
          0.4041331802525832,
          0.4100467289719626,
          0.4100467289719626,
          0.4100467289719626,
          0.3595505617977528,
          0.3595505617977528,
          0.3595505617977528,
          0.3829787234042553,
          0.3829787234042553,
          0.3829787234042553,
          0.3763440860215054,
          0.3763440860215054,
          0.3763440860215054,
          0.5161596958174905,
          0.5161596958174905,
          0.5161596958174905,
          0.5135908440629471,
          0.5135908440629471,
          0.5135908440629471,
          0.5165719696969697,
          0.5165719696969697,
          0.5165719696969697
         ]
        },
        {
         "marker": {
          "color": "white",
          "line": {
           "color": "black",
           "width": 1
          },
          "size": 10,
          "symbol": "circle"
         },
         "mode": "markers",
         "name": "trfermikit",
         "type": "scatter",
         "y": [
          null
         ]
        },
        {
         "marker": {
          "color": "white",
          "line": {
           "color": "black",
           "width": 1
          },
          "size": 10,
          "symbol": "square"
         },
         "mode": "markers",
         "name": "manta",
         "type": "scatter",
         "y": [
          null
         ]
        },
        {
         "marker": {
          "color": "red",
          "size": 10,
          "symbol": "circle"
         },
         "mode": "markers",
         "name": "minUnitigBlockLength=15",
         "type": "scatter",
         "y": [
          null
         ]
        },
        {
         "marker": {
          "color": "green",
          "size": 10,
          "symbol": "circle"
         },
         "mode": "markers",
         "name": "minUnitigBlockLength=25",
         "type": "scatter",
         "y": [
          null
         ]
        },
        {
         "marker": {
          "color": "blue",
          "size": 10,
          "symbol": "circle"
         },
         "mode": "markers",
         "name": "minUnitigBlockLength=40",
         "type": "scatter",
         "y": [
          null
         ]
        }
       ],
       "layout": {
        "template": {
         "data": {
          "bar": [
           {
            "error_x": {
             "color": "#2a3f5f"
            },
            "error_y": {
             "color": "#2a3f5f"
            },
            "marker": {
             "line": {
              "color": "#E5ECF6",
              "width": 0.5
             }
            },
            "type": "bar"
           }
          ],
          "barpolar": [
           {
            "marker": {
             "line": {
              "color": "#E5ECF6",
              "width": 0.5
             }
            },
            "type": "barpolar"
           }
          ],
          "carpet": [
           {
            "aaxis": {
             "endlinecolor": "#2a3f5f",
             "gridcolor": "white",
             "linecolor": "white",
             "minorgridcolor": "white",
             "startlinecolor": "#2a3f5f"
            },
            "baxis": {
             "endlinecolor": "#2a3f5f",
             "gridcolor": "white",
             "linecolor": "white",
             "minorgridcolor": "white",
             "startlinecolor": "#2a3f5f"
            },
            "type": "carpet"
           }
          ],
          "choropleth": [
           {
            "colorbar": {
             "outlinewidth": 0,
             "ticks": ""
            },
            "type": "choropleth"
           }
          ],
          "contour": [
           {
            "colorbar": {
             "outlinewidth": 0,
             "ticks": ""
            },
            "colorscale": [
             [
              0,
              "#0d0887"
             ],
             [
              0.1111111111111111,
              "#46039f"
             ],
             [
              0.2222222222222222,
              "#7201a8"
             ],
             [
              0.3333333333333333,
              "#9c179e"
             ],
             [
              0.4444444444444444,
              "#bd3786"
             ],
             [
              0.5555555555555556,
              "#d8576b"
             ],
             [
              0.6666666666666666,
              "#ed7953"
             ],
             [
              0.7777777777777778,
              "#fb9f3a"
             ],
             [
              0.8888888888888888,
              "#fdca26"
             ],
             [
              1,
              "#f0f921"
             ]
            ],
            "type": "contour"
           }
          ],
          "contourcarpet": [
           {
            "colorbar": {
             "outlinewidth": 0,
             "ticks": ""
            },
            "type": "contourcarpet"
           }
          ],
          "heatmap": [
           {
            "colorbar": {
             "outlinewidth": 0,
             "ticks": ""
            },
            "colorscale": [
             [
              0,
              "#0d0887"
             ],
             [
              0.1111111111111111,
              "#46039f"
             ],
             [
              0.2222222222222222,
              "#7201a8"
             ],
             [
              0.3333333333333333,
              "#9c179e"
             ],
             [
              0.4444444444444444,
              "#bd3786"
             ],
             [
              0.5555555555555556,
              "#d8576b"
             ],
             [
              0.6666666666666666,
              "#ed7953"
             ],
             [
              0.7777777777777778,
              "#fb9f3a"
             ],
             [
              0.8888888888888888,
              "#fdca26"
             ],
             [
              1,
              "#f0f921"
             ]
            ],
            "type": "heatmap"
           }
          ],
          "heatmapgl": [
           {
            "colorbar": {
             "outlinewidth": 0,
             "ticks": ""
            },
            "colorscale": [
             [
              0,
              "#0d0887"
             ],
             [
              0.1111111111111111,
              "#46039f"
             ],
             [
              0.2222222222222222,
              "#7201a8"
             ],
             [
              0.3333333333333333,
              "#9c179e"
             ],
             [
              0.4444444444444444,
              "#bd3786"
             ],
             [
              0.5555555555555556,
              "#d8576b"
             ],
             [
              0.6666666666666666,
              "#ed7953"
             ],
             [
              0.7777777777777778,
              "#fb9f3a"
             ],
             [
              0.8888888888888888,
              "#fdca26"
             ],
             [
              1,
              "#f0f921"
             ]
            ],
            "type": "heatmapgl"
           }
          ],
          "histogram": [
           {
            "marker": {
             "colorbar": {
              "outlinewidth": 0,
              "ticks": ""
             }
            },
            "type": "histogram"
           }
          ],
          "histogram2d": [
           {
            "colorbar": {
             "outlinewidth": 0,
             "ticks": ""
            },
            "colorscale": [
             [
              0,
              "#0d0887"
             ],
             [
              0.1111111111111111,
              "#46039f"
             ],
             [
              0.2222222222222222,
              "#7201a8"
             ],
             [
              0.3333333333333333,
              "#9c179e"
             ],
             [
              0.4444444444444444,
              "#bd3786"
             ],
             [
              0.5555555555555556,
              "#d8576b"
             ],
             [
              0.6666666666666666,
              "#ed7953"
             ],
             [
              0.7777777777777778,
              "#fb9f3a"
             ],
             [
              0.8888888888888888,
              "#fdca26"
             ],
             [
              1,
              "#f0f921"
             ]
            ],
            "type": "histogram2d"
           }
          ],
          "histogram2dcontour": [
           {
            "colorbar": {
             "outlinewidth": 0,
             "ticks": ""
            },
            "colorscale": [
             [
              0,
              "#0d0887"
             ],
             [
              0.1111111111111111,
              "#46039f"
             ],
             [
              0.2222222222222222,
              "#7201a8"
             ],
             [
              0.3333333333333333,
              "#9c179e"
             ],
             [
              0.4444444444444444,
              "#bd3786"
             ],
             [
              0.5555555555555556,
              "#d8576b"
             ],
             [
              0.6666666666666666,
              "#ed7953"
             ],
             [
              0.7777777777777778,
              "#fb9f3a"
             ],
             [
              0.8888888888888888,
              "#fdca26"
             ],
             [
              1,
              "#f0f921"
             ]
            ],
            "type": "histogram2dcontour"
           }
          ],
          "mesh3d": [
           {
            "colorbar": {
             "outlinewidth": 0,
             "ticks": ""
            },
            "type": "mesh3d"
           }
          ],
          "parcoords": [
           {
            "line": {
             "colorbar": {
              "outlinewidth": 0,
              "ticks": ""
             }
            },
            "type": "parcoords"
           }
          ],
          "pie": [
           {
            "automargin": true,
            "type": "pie"
           }
          ],
          "scatter": [
           {
            "marker": {
             "colorbar": {
              "outlinewidth": 0,
              "ticks": ""
             }
            },
            "type": "scatter"
           }
          ],
          "scatter3d": [
           {
            "line": {
             "colorbar": {
              "outlinewidth": 0,
              "ticks": ""
             }
            },
            "marker": {
             "colorbar": {
              "outlinewidth": 0,
              "ticks": ""
             }
            },
            "type": "scatter3d"
           }
          ],
          "scattercarpet": [
           {
            "marker": {
             "colorbar": {
              "outlinewidth": 0,
              "ticks": ""
             }
            },
            "type": "scattercarpet"
           }
          ],
          "scattergeo": [
           {
            "marker": {
             "colorbar": {
              "outlinewidth": 0,
              "ticks": ""
             }
            },
            "type": "scattergeo"
           }
          ],
          "scattergl": [
           {
            "marker": {
             "colorbar": {
              "outlinewidth": 0,
              "ticks": ""
             }
            },
            "type": "scattergl"
           }
          ],
          "scattermapbox": [
           {
            "marker": {
             "colorbar": {
              "outlinewidth": 0,
              "ticks": ""
             }
            },
            "type": "scattermapbox"
           }
          ],
          "scatterpolar": [
           {
            "marker": {
             "colorbar": {
              "outlinewidth": 0,
              "ticks": ""
             }
            },
            "type": "scatterpolar"
           }
          ],
          "scatterpolargl": [
           {
            "marker": {
             "colorbar": {
              "outlinewidth": 0,
              "ticks": ""
             }
            },
            "type": "scatterpolargl"
           }
          ],
          "scatterternary": [
           {
            "marker": {
             "colorbar": {
              "outlinewidth": 0,
              "ticks": ""
             }
            },
            "type": "scatterternary"
           }
          ],
          "surface": [
           {
            "colorbar": {
             "outlinewidth": 0,
             "ticks": ""
            },
            "colorscale": [
             [
              0,
              "#0d0887"
             ],
             [
              0.1111111111111111,
              "#46039f"
             ],
             [
              0.2222222222222222,
              "#7201a8"
             ],
             [
              0.3333333333333333,
              "#9c179e"
             ],
             [
              0.4444444444444444,
              "#bd3786"
             ],
             [
              0.5555555555555556,
              "#d8576b"
             ],
             [
              0.6666666666666666,
              "#ed7953"
             ],
             [
              0.7777777777777778,
              "#fb9f3a"
             ],
             [
              0.8888888888888888,
              "#fdca26"
             ],
             [
              1,
              "#f0f921"
             ]
            ],
            "type": "surface"
           }
          ],
          "table": [
           {
            "cells": {
             "fill": {
              "color": "#EBF0F8"
             },
             "line": {
              "color": "white"
             }
            },
            "header": {
             "fill": {
              "color": "#C8D4E3"
             },
             "line": {
              "color": "white"
             }
            },
            "type": "table"
           }
          ]
         },
         "layout": {
          "annotationdefaults": {
           "arrowcolor": "#2a3f5f",
           "arrowhead": 0,
           "arrowwidth": 1
          },
          "autotypenumbers": "strict",
          "coloraxis": {
           "colorbar": {
            "outlinewidth": 0,
            "ticks": ""
           }
          },
          "colorscale": {
           "diverging": [
            [
             0,
             "#8e0152"
            ],
            [
             0.1,
             "#c51b7d"
            ],
            [
             0.2,
             "#de77ae"
            ],
            [
             0.3,
             "#f1b6da"
            ],
            [
             0.4,
             "#fde0ef"
            ],
            [
             0.5,
             "#f7f7f7"
            ],
            [
             0.6,
             "#e6f5d0"
            ],
            [
             0.7,
             "#b8e186"
            ],
            [
             0.8,
             "#7fbc41"
            ],
            [
             0.9,
             "#4d9221"
            ],
            [
             1,
             "#276419"
            ]
           ],
           "sequential": [
            [
             0,
             "#0d0887"
            ],
            [
             0.1111111111111111,
             "#46039f"
            ],
            [
             0.2222222222222222,
             "#7201a8"
            ],
            [
             0.3333333333333333,
             "#9c179e"
            ],
            [
             0.4444444444444444,
             "#bd3786"
            ],
            [
             0.5555555555555556,
             "#d8576b"
            ],
            [
             0.6666666666666666,
             "#ed7953"
            ],
            [
             0.7777777777777778,
             "#fb9f3a"
            ],
            [
             0.8888888888888888,
             "#fdca26"
            ],
            [
             1,
             "#f0f921"
            ]
           ],
           "sequentialminus": [
            [
             0,
             "#0d0887"
            ],
            [
             0.1111111111111111,
             "#46039f"
            ],
            [
             0.2222222222222222,
             "#7201a8"
            ],
            [
             0.3333333333333333,
             "#9c179e"
            ],
            [
             0.4444444444444444,
             "#bd3786"
            ],
            [
             0.5555555555555556,
             "#d8576b"
            ],
            [
             0.6666666666666666,
             "#ed7953"
            ],
            [
             0.7777777777777778,
             "#fb9f3a"
            ],
            [
             0.8888888888888888,
             "#fdca26"
            ],
            [
             1,
             "#f0f921"
            ]
           ]
          },
          "colorway": [
           "#636efa",
           "#EF553B",
           "#00cc96",
           "#ab63fa",
           "#FFA15A",
           "#19d3f3",
           "#FF6692",
           "#B6E880",
           "#FF97FF",
           "#FECB52"
          ],
          "font": {
           "color": "#2a3f5f"
          },
          "geo": {
           "bgcolor": "white",
           "lakecolor": "white",
           "landcolor": "#E5ECF6",
           "showlakes": true,
           "showland": true,
           "subunitcolor": "white"
          },
          "hoverlabel": {
           "align": "left"
          },
          "hovermode": "closest",
          "mapbox": {
           "style": "light"
          },
          "paper_bgcolor": "white",
          "plot_bgcolor": "#E5ECF6",
          "polar": {
           "angularaxis": {
            "gridcolor": "white",
            "linecolor": "white",
            "ticks": ""
           },
           "bgcolor": "#E5ECF6",
           "radialaxis": {
            "gridcolor": "white",
            "linecolor": "white",
            "ticks": ""
           }
          },
          "scene": {
           "xaxis": {
            "backgroundcolor": "#E5ECF6",
            "gridcolor": "white",
            "gridwidth": 2,
            "linecolor": "white",
            "showbackground": true,
            "ticks": "",
            "zerolinecolor": "white"
           },
           "yaxis": {
            "backgroundcolor": "#E5ECF6",
            "gridcolor": "white",
            "gridwidth": 2,
            "linecolor": "white",
            "showbackground": true,
            "ticks": "",
            "zerolinecolor": "white"
           },
           "zaxis": {
            "backgroundcolor": "#E5ECF6",
            "gridcolor": "white",
            "gridwidth": 2,
            "linecolor": "white",
            "showbackground": true,
            "ticks": "",
            "zerolinecolor": "white"
           }
          },
          "shapedefaults": {
           "line": {
            "color": "#2a3f5f"
           }
          },
          "ternary": {
           "aaxis": {
            "gridcolor": "white",
            "linecolor": "white",
            "ticks": ""
           },
           "baxis": {
            "gridcolor": "white",
            "linecolor": "white",
            "ticks": ""
           },
           "bgcolor": "#E5ECF6",
           "caxis": {
            "gridcolor": "white",
            "linecolor": "white",
            "ticks": ""
           }
          },
          "title": {
           "x": 0.05
          },
          "xaxis": {
           "automargin": true,
           "gridcolor": "white",
           "linecolor": "white",
           "ticks": "",
           "title": {
            "standoff": 15
           },
           "zerolinecolor": "white",
           "zerolinewidth": 2
          },
          "yaxis": {
           "automargin": true,
           "gridcolor": "white",
           "linecolor": "white",
           "ticks": "",
           "title": {
            "standoff": 15
           },
           "zerolinecolor": "white",
           "zerolinewidth": 2
          }
         }
        },
        "title": {
         "text": "DEL<br>minUnitigBlockLength moves precision and recall in opposite directions:",
         "x": 0.5,
         "y": 0.9
        },
        "xaxis": {
         "title": {
          "text": "recall"
         }
        },
        "yaxis": {
         "title": {
          "text": "precision"
         }
        }
       }
      },
      "text/html": [
       "<div>                            <div id=\"f0fabf3f-3d3a-4d59-890e-f58003889b17\" class=\"plotly-graph-div\" style=\"height:525px; width:100%;\"></div>            <script type=\"text/javascript\">                require([\"plotly\"], function(Plotly) {                    window.PLOTLYENV=window.PLOTLYENV || {};                                    if (document.getElementById(\"f0fabf3f-3d3a-4d59-890e-f58003889b17\")) {                    Plotly.newPlot(                        \"f0fabf3f-3d3a-4d59-890e-f58003889b17\",                        [{\"hovertemplate\": \"%{text}\", \"marker\": {\"color\": [\"red\", \"green\", \"blue\", \"red\", \"green\", \"blue\", \"red\", \"green\", \"blue\", \"red\", \"green\", \"blue\", \"red\", \"green\", \"blue\", \"red\", \"green\", \"blue\", \"red\", \"green\", \"blue\", \"red\", \"green\", \"blue\", \"red\", \"green\", \"blue\"], \"line\": {\"color\": \"black\", \"width\": 1}, \"size\": 10, \"symbol\": \"circle\"}, \"mode\": \"markers\", \"name\": \"trfermikit\", \"showlegend\": false, \"text\": [\"filterCalls.minUnitigBlockLength: 15<br><br>makeRegions: <br>  slop: 250<br>  minCoverage: 0<br>  maxCoverage: 200<br>  maxRegionLength: 100000<br>  minRepeatPeriod: 6<br>  minRepeatLength: 0<br>  functionalRegions: none<br>  genomeBuild: hg38<br>  overlappedFunctionalRegions: false<br>makeCalls: <br>  singleBaseMatchReward: 10<br>  singleBaseMismatchPenalty: 12<br>  gapOpenPenalties: 6,26<br>  gapExtensionPenalties: 1,0<br>  minUnitigMappingQuality: 1<br>filterCalls: <br>  maxIntraClusterDistance: 500<br>  minSVSize: 100<br>  minUnitigMappingQuality: 0<br>\", \"filterCalls.minUnitigBlockLength: 25<br><br>makeRegions: <br>  slop: 250<br>  minCoverage: 0<br>  maxCoverage: 200<br>  maxRegionLength: 100000<br>  minRepeatPeriod: 6<br>  minRepeatLength: 0<br>  functionalRegions: none<br>  genomeBuild: hg38<br>  overlappedFunctionalRegions: false<br>makeCalls: <br>  singleBaseMatchReward: 10<br>  singleBaseMismatchPenalty: 12<br>  gapOpenPenalties: 6,26<br>  gapExtensionPenalties: 1,0<br>  minUnitigMappingQuality: 1<br>filterCalls: <br>  maxIntraClusterDistance: 500<br>  minSVSize: 100<br>  minUnitigMappingQuality: 0<br>\", \"filterCalls.minUnitigBlockLength: 40<br><br>makeRegions: <br>  slop: 250<br>  minCoverage: 0<br>  maxCoverage: 200<br>  maxRegionLength: 100000<br>  minRepeatPeriod: 6<br>  minRepeatLength: 0<br>  functionalRegions: none<br>  genomeBuild: hg38<br>  overlappedFunctionalRegions: false<br>makeCalls: <br>  singleBaseMatchReward: 10<br>  singleBaseMismatchPenalty: 12<br>  gapOpenPenalties: 6,26<br>  gapExtensionPenalties: 1,0<br>  minUnitigMappingQuality: 1<br>filterCalls: <br>  maxIntraClusterDistance: 500<br>  minSVSize: 100<br>  minUnitigMappingQuality: 0<br>\", \"filterCalls.minUnitigBlockLength: 15<br><br>makeRegions: <br>  slop: 250<br>  minCoverage: 0<br>  maxCoverage: 200<br>  maxRegionLength: 100000<br>  minRepeatPeriod: 6<br>  minRepeatLength: 100<br>  functionalRegions: none<br>  genomeBuild: hg38<br>  overlappedFunctionalRegions: false<br>makeCalls: <br>  singleBaseMatchReward: 10<br>  singleBaseMismatchPenalty: 12<br>  gapOpenPenalties: 6,26<br>  gapExtensionPenalties: 1,0<br>  minUnitigMappingQuality: 1<br>filterCalls: <br>  maxIntraClusterDistance: 500<br>  minSVSize: 100<br>  minUnitigMappingQuality: 0<br>\", \"filterCalls.minUnitigBlockLength: 25<br><br>makeRegions: <br>  slop: 250<br>  minCoverage: 0<br>  maxCoverage: 200<br>  maxRegionLength: 100000<br>  minRepeatPeriod: 6<br>  minRepeatLength: 100<br>  functionalRegions: none<br>  genomeBuild: hg38<br>  overlappedFunctionalRegions: false<br>makeCalls: <br>  singleBaseMatchReward: 10<br>  singleBaseMismatchPenalty: 12<br>  gapOpenPenalties: 6,26<br>  gapExtensionPenalties: 1,0<br>  minUnitigMappingQuality: 1<br>filterCalls: <br>  maxIntraClusterDistance: 500<br>  minSVSize: 100<br>  minUnitigMappingQuality: 0<br>\", \"filterCalls.minUnitigBlockLength: 40<br><br>makeRegions: <br>  slop: 250<br>  minCoverage: 0<br>  maxCoverage: 200<br>  maxRegionLength: 100000<br>  minRepeatPeriod: 6<br>  minRepeatLength: 100<br>  functionalRegions: none<br>  genomeBuild: hg38<br>  overlappedFunctionalRegions: false<br>makeCalls: <br>  singleBaseMatchReward: 10<br>  singleBaseMismatchPenalty: 12<br>  gapOpenPenalties: 6,26<br>  gapExtensionPenalties: 1,0<br>  minUnitigMappingQuality: 1<br>filterCalls: <br>  maxIntraClusterDistance: 500<br>  minSVSize: 100<br>  minUnitigMappingQuality: 0<br>\", \"filterCalls.minUnitigBlockLength: 15<br><br>makeRegions: <br>  slop: 250<br>  minCoverage: 0<br>  maxCoverage: 200<br>  maxRegionLength: 100000<br>  minRepeatPeriod: 6<br>  minRepeatLength: 50<br>  functionalRegions: none<br>  genomeBuild: hg38<br>  overlappedFunctionalRegions: false<br>makeCalls: <br>  singleBaseMatchReward: 10<br>  singleBaseMismatchPenalty: 12<br>  gapOpenPenalties: 6,26<br>  gapExtensionPenalties: 1,0<br>  minUnitigMappingQuality: 1<br>filterCalls: <br>  maxIntraClusterDistance: 500<br>  minSVSize: 100<br>  minUnitigMappingQuality: 0<br>\", \"filterCalls.minUnitigBlockLength: 25<br><br>makeRegions: <br>  slop: 250<br>  minCoverage: 0<br>  maxCoverage: 200<br>  maxRegionLength: 100000<br>  minRepeatPeriod: 6<br>  minRepeatLength: 50<br>  functionalRegions: none<br>  genomeBuild: hg38<br>  overlappedFunctionalRegions: false<br>makeCalls: <br>  singleBaseMatchReward: 10<br>  singleBaseMismatchPenalty: 12<br>  gapOpenPenalties: 6,26<br>  gapExtensionPenalties: 1,0<br>  minUnitigMappingQuality: 1<br>filterCalls: <br>  maxIntraClusterDistance: 500<br>  minSVSize: 100<br>  minUnitigMappingQuality: 0<br>\", \"filterCalls.minUnitigBlockLength: 40<br><br>makeRegions: <br>  slop: 250<br>  minCoverage: 0<br>  maxCoverage: 200<br>  maxRegionLength: 100000<br>  minRepeatPeriod: 6<br>  minRepeatLength: 50<br>  functionalRegions: none<br>  genomeBuild: hg38<br>  overlappedFunctionalRegions: false<br>makeCalls: <br>  singleBaseMatchReward: 10<br>  singleBaseMismatchPenalty: 12<br>  gapOpenPenalties: 6,26<br>  gapExtensionPenalties: 1,0<br>  minUnitigMappingQuality: 1<br>filterCalls: <br>  maxIntraClusterDistance: 500<br>  minSVSize: 100<br>  minUnitigMappingQuality: 0<br>\", \"filterCalls.minUnitigBlockLength: 15<br><br>makeRegions: <br>  slop: 250<br>  minCoverage: 0<br>  maxCoverage: 200<br>  maxRegionLength: 100000<br>  minRepeatPeriod: 6<br>  minRepeatLength: 0<br>  functionalRegions: none<br>  genomeBuild: hg38<br>  overlappedFunctionalRegions: false<br>makeCalls: <br>  singleBaseMatchReward: 10<br>  singleBaseMismatchPenalty: 12<br>  gapOpenPenalties: 6,26<br>  gapExtensionPenalties: 1,0<br>  minUnitigMappingQuality: 1<br>filterCalls: <br>  maxIntraClusterDistance: 500<br>  minSVSize: 500<br>  minUnitigMappingQuality: 0<br>\", \"filterCalls.minUnitigBlockLength: 25<br><br>makeRegions: <br>  slop: 250<br>  minCoverage: 0<br>  maxCoverage: 200<br>  maxRegionLength: 100000<br>  minRepeatPeriod: 6<br>  minRepeatLength: 0<br>  functionalRegions: none<br>  genomeBuild: hg38<br>  overlappedFunctionalRegions: false<br>makeCalls: <br>  singleBaseMatchReward: 10<br>  singleBaseMismatchPenalty: 12<br>  gapOpenPenalties: 6,26<br>  gapExtensionPenalties: 1,0<br>  minUnitigMappingQuality: 1<br>filterCalls: <br>  maxIntraClusterDistance: 500<br>  minSVSize: 500<br>  minUnitigMappingQuality: 0<br>\", \"filterCalls.minUnitigBlockLength: 40<br><br>makeRegions: <br>  slop: 250<br>  minCoverage: 0<br>  maxCoverage: 200<br>  maxRegionLength: 100000<br>  minRepeatPeriod: 6<br>  minRepeatLength: 0<br>  functionalRegions: none<br>  genomeBuild: hg38<br>  overlappedFunctionalRegions: false<br>makeCalls: <br>  singleBaseMatchReward: 10<br>  singleBaseMismatchPenalty: 12<br>  gapOpenPenalties: 6,26<br>  gapExtensionPenalties: 1,0<br>  minUnitigMappingQuality: 1<br>filterCalls: <br>  maxIntraClusterDistance: 500<br>  minSVSize: 500<br>  minUnitigMappingQuality: 0<br>\", \"filterCalls.minUnitigBlockLength: 15<br><br>makeRegions: <br>  slop: 250<br>  minCoverage: 0<br>  maxCoverage: 200<br>  maxRegionLength: 100000<br>  minRepeatPeriod: 6<br>  minRepeatLength: 100<br>  functionalRegions: none<br>  genomeBuild: hg38<br>  overlappedFunctionalRegions: false<br>makeCalls: <br>  singleBaseMatchReward: 10<br>  singleBaseMismatchPenalty: 12<br>  gapOpenPenalties: 6,26<br>  gapExtensionPenalties: 1,0<br>  minUnitigMappingQuality: 1<br>filterCalls: <br>  maxIntraClusterDistance: 500<br>  minSVSize: 500<br>  minUnitigMappingQuality: 0<br>\", \"filterCalls.minUnitigBlockLength: 25<br><br>makeRegions: <br>  slop: 250<br>  minCoverage: 0<br>  maxCoverage: 200<br>  maxRegionLength: 100000<br>  minRepeatPeriod: 6<br>  minRepeatLength: 100<br>  functionalRegions: none<br>  genomeBuild: hg38<br>  overlappedFunctionalRegions: false<br>makeCalls: <br>  singleBaseMatchReward: 10<br>  singleBaseMismatchPenalty: 12<br>  gapOpenPenalties: 6,26<br>  gapExtensionPenalties: 1,0<br>  minUnitigMappingQuality: 1<br>filterCalls: <br>  maxIntraClusterDistance: 500<br>  minSVSize: 500<br>  minUnitigMappingQuality: 0<br>\", \"filterCalls.minUnitigBlockLength: 40<br><br>makeRegions: <br>  slop: 250<br>  minCoverage: 0<br>  maxCoverage: 200<br>  maxRegionLength: 100000<br>  minRepeatPeriod: 6<br>  minRepeatLength: 100<br>  functionalRegions: none<br>  genomeBuild: hg38<br>  overlappedFunctionalRegions: false<br>makeCalls: <br>  singleBaseMatchReward: 10<br>  singleBaseMismatchPenalty: 12<br>  gapOpenPenalties: 6,26<br>  gapExtensionPenalties: 1,0<br>  minUnitigMappingQuality: 1<br>filterCalls: <br>  maxIntraClusterDistance: 500<br>  minSVSize: 500<br>  minUnitigMappingQuality: 0<br>\", \"filterCalls.minUnitigBlockLength: 15<br><br>makeRegions: <br>  slop: 250<br>  minCoverage: 0<br>  maxCoverage: 200<br>  maxRegionLength: 100000<br>  minRepeatPeriod: 6<br>  minRepeatLength: 50<br>  functionalRegions: none<br>  genomeBuild: hg38<br>  overlappedFunctionalRegions: false<br>makeCalls: <br>  singleBaseMatchReward: 10<br>  singleBaseMismatchPenalty: 12<br>  gapOpenPenalties: 6,26<br>  gapExtensionPenalties: 1,0<br>  minUnitigMappingQuality: 1<br>filterCalls: <br>  maxIntraClusterDistance: 500<br>  minSVSize: 500<br>  minUnitigMappingQuality: 0<br>\", \"filterCalls.minUnitigBlockLength: 25<br><br>makeRegions: <br>  slop: 250<br>  minCoverage: 0<br>  maxCoverage: 200<br>  maxRegionLength: 100000<br>  minRepeatPeriod: 6<br>  minRepeatLength: 50<br>  functionalRegions: none<br>  genomeBuild: hg38<br>  overlappedFunctionalRegions: false<br>makeCalls: <br>  singleBaseMatchReward: 10<br>  singleBaseMismatchPenalty: 12<br>  gapOpenPenalties: 6,26<br>  gapExtensionPenalties: 1,0<br>  minUnitigMappingQuality: 1<br>filterCalls: <br>  maxIntraClusterDistance: 500<br>  minSVSize: 500<br>  minUnitigMappingQuality: 0<br>\", \"filterCalls.minUnitigBlockLength: 40<br><br>makeRegions: <br>  slop: 250<br>  minCoverage: 0<br>  maxCoverage: 200<br>  maxRegionLength: 100000<br>  minRepeatPeriod: 6<br>  minRepeatLength: 50<br>  functionalRegions: none<br>  genomeBuild: hg38<br>  overlappedFunctionalRegions: false<br>makeCalls: <br>  singleBaseMatchReward: 10<br>  singleBaseMismatchPenalty: 12<br>  gapOpenPenalties: 6,26<br>  gapExtensionPenalties: 1,0<br>  minUnitigMappingQuality: 1<br>filterCalls: <br>  maxIntraClusterDistance: 500<br>  minSVSize: 500<br>  minUnitigMappingQuality: 0<br>\", \"filterCalls.minUnitigBlockLength: 15<br><br>makeRegions: <br>  slop: 250<br>  minCoverage: 0<br>  maxCoverage: 200<br>  maxRegionLength: 100000<br>  minRepeatPeriod: 6<br>  minRepeatLength: 0<br>  functionalRegions: none<br>  genomeBuild: hg38<br>  overlappedFunctionalRegions: false<br>makeCalls: <br>  singleBaseMatchReward: 10<br>  singleBaseMismatchPenalty: 12<br>  gapOpenPenalties: 6,26<br>  gapExtensionPenalties: 1,0<br>  minUnitigMappingQuality: 1<br>filterCalls: <br>  maxIntraClusterDistance: 500<br>  minSVSize: 50<br>  minUnitigMappingQuality: 0<br>\", \"filterCalls.minUnitigBlockLength: 25<br><br>makeRegions: <br>  slop: 250<br>  minCoverage: 0<br>  maxCoverage: 200<br>  maxRegionLength: 100000<br>  minRepeatPeriod: 6<br>  minRepeatLength: 0<br>  functionalRegions: none<br>  genomeBuild: hg38<br>  overlappedFunctionalRegions: false<br>makeCalls: <br>  singleBaseMatchReward: 10<br>  singleBaseMismatchPenalty: 12<br>  gapOpenPenalties: 6,26<br>  gapExtensionPenalties: 1,0<br>  minUnitigMappingQuality: 1<br>filterCalls: <br>  maxIntraClusterDistance: 500<br>  minSVSize: 50<br>  minUnitigMappingQuality: 0<br>\", \"filterCalls.minUnitigBlockLength: 40<br><br>makeRegions: <br>  slop: 250<br>  minCoverage: 0<br>  maxCoverage: 200<br>  maxRegionLength: 100000<br>  minRepeatPeriod: 6<br>  minRepeatLength: 0<br>  functionalRegions: none<br>  genomeBuild: hg38<br>  overlappedFunctionalRegions: false<br>makeCalls: <br>  singleBaseMatchReward: 10<br>  singleBaseMismatchPenalty: 12<br>  gapOpenPenalties: 6,26<br>  gapExtensionPenalties: 1,0<br>  minUnitigMappingQuality: 1<br>filterCalls: <br>  maxIntraClusterDistance: 500<br>  minSVSize: 50<br>  minUnitigMappingQuality: 0<br>\", \"filterCalls.minUnitigBlockLength: 15<br><br>makeRegions: <br>  slop: 250<br>  minCoverage: 0<br>  maxCoverage: 200<br>  maxRegionLength: 100000<br>  minRepeatPeriod: 6<br>  minRepeatLength: 100<br>  functionalRegions: none<br>  genomeBuild: hg38<br>  overlappedFunctionalRegions: false<br>makeCalls: <br>  singleBaseMatchReward: 10<br>  singleBaseMismatchPenalty: 12<br>  gapOpenPenalties: 6,26<br>  gapExtensionPenalties: 1,0<br>  minUnitigMappingQuality: 1<br>filterCalls: <br>  maxIntraClusterDistance: 500<br>  minSVSize: 50<br>  minUnitigMappingQuality: 0<br>\", \"filterCalls.minUnitigBlockLength: 25<br><br>makeRegions: <br>  slop: 250<br>  minCoverage: 0<br>  maxCoverage: 200<br>  maxRegionLength: 100000<br>  minRepeatPeriod: 6<br>  minRepeatLength: 100<br>  functionalRegions: none<br>  genomeBuild: hg38<br>  overlappedFunctionalRegions: false<br>makeCalls: <br>  singleBaseMatchReward: 10<br>  singleBaseMismatchPenalty: 12<br>  gapOpenPenalties: 6,26<br>  gapExtensionPenalties: 1,0<br>  minUnitigMappingQuality: 1<br>filterCalls: <br>  maxIntraClusterDistance: 500<br>  minSVSize: 50<br>  minUnitigMappingQuality: 0<br>\", \"filterCalls.minUnitigBlockLength: 40<br><br>makeRegions: <br>  slop: 250<br>  minCoverage: 0<br>  maxCoverage: 200<br>  maxRegionLength: 100000<br>  minRepeatPeriod: 6<br>  minRepeatLength: 100<br>  functionalRegions: none<br>  genomeBuild: hg38<br>  overlappedFunctionalRegions: false<br>makeCalls: <br>  singleBaseMatchReward: 10<br>  singleBaseMismatchPenalty: 12<br>  gapOpenPenalties: 6,26<br>  gapExtensionPenalties: 1,0<br>  minUnitigMappingQuality: 1<br>filterCalls: <br>  maxIntraClusterDistance: 500<br>  minSVSize: 50<br>  minUnitigMappingQuality: 0<br>\", \"filterCalls.minUnitigBlockLength: 15<br><br>makeRegions: <br>  slop: 250<br>  minCoverage: 0<br>  maxCoverage: 200<br>  maxRegionLength: 100000<br>  minRepeatPeriod: 6<br>  minRepeatLength: 50<br>  functionalRegions: none<br>  genomeBuild: hg38<br>  overlappedFunctionalRegions: false<br>makeCalls: <br>  singleBaseMatchReward: 10<br>  singleBaseMismatchPenalty: 12<br>  gapOpenPenalties: 6,26<br>  gapExtensionPenalties: 1,0<br>  minUnitigMappingQuality: 1<br>filterCalls: <br>  maxIntraClusterDistance: 500<br>  minSVSize: 50<br>  minUnitigMappingQuality: 0<br>\", \"filterCalls.minUnitigBlockLength: 25<br><br>makeRegions: <br>  slop: 250<br>  minCoverage: 0<br>  maxCoverage: 200<br>  maxRegionLength: 100000<br>  minRepeatPeriod: 6<br>  minRepeatLength: 50<br>  functionalRegions: none<br>  genomeBuild: hg38<br>  overlappedFunctionalRegions: false<br>makeCalls: <br>  singleBaseMatchReward: 10<br>  singleBaseMismatchPenalty: 12<br>  gapOpenPenalties: 6,26<br>  gapExtensionPenalties: 1,0<br>  minUnitigMappingQuality: 1<br>filterCalls: <br>  maxIntraClusterDistance: 500<br>  minSVSize: 50<br>  minUnitigMappingQuality: 0<br>\", \"filterCalls.minUnitigBlockLength: 40<br><br>makeRegions: <br>  slop: 250<br>  minCoverage: 0<br>  maxCoverage: 200<br>  maxRegionLength: 100000<br>  minRepeatPeriod: 6<br>  minRepeatLength: 50<br>  functionalRegions: none<br>  genomeBuild: hg38<br>  overlappedFunctionalRegions: false<br>makeCalls: <br>  singleBaseMatchReward: 10<br>  singleBaseMismatchPenalty: 12<br>  gapOpenPenalties: 6,26<br>  gapExtensionPenalties: 1,0<br>  minUnitigMappingQuality: 1<br>filterCalls: <br>  maxIntraClusterDistance: 500<br>  minSVSize: 50<br>  minUnitigMappingQuality: 0<br>\"], \"type\": \"scatter\", \"x\": [0.25209256523879864, 0.23879862136878385, 0.20974889217134415, 0.25156325156325154, 0.23953823953823955, 0.20634920634920634, 0.25024342745861733, 0.24050632911392406, 0.2098344693281402, 0.06598984771573604, 0.05583756345177665, 0.04568527918781726, 0.07317073170731707, 0.05365853658536585, 0.05365853658536585, 0.06896551724137931, 0.06403940886699508, 0.04926108374384237, 0.3362222222222222, 0.3208888888888889, 0.28644444444444445, 0.3411970292704238, 0.3241590214067278, 0.28658802970729574, 0.3398506151142355, 0.3229349736379613, 0.2871265377855888], \"y\": [0.26848453067645517, 0.3509406657018813, 0.46304347826086956, 0.26494427558257344, 0.35045742434905, 0.45686900958466453, 0.26535880227155395, 0.35135135135135137, 0.46796959826275786, 0.1625, 0.2037037037037037, 0.24324324324324326, 0.16666666666666666, 0.22916666666666666, 0.275, 0.17073170731707318, 0.23636363636363636, 0.2631578947368421, 0.38616641143440533, 0.4616368286445013, 0.5529815529815529, 0.39030484757621187, 0.46769618657421996, 0.556639796351294, 0.3884007029876977, 0.46226415094339623, 0.5545184556639796]}, {\"hovertemplate\": \"%{text}\", \"marker\": {\"color\": [\"red\", \"green\", \"blue\", \"red\", \"green\", \"blue\", \"red\", \"green\", \"blue\", \"red\", \"green\", \"blue\", \"red\", \"green\", \"blue\", \"red\", \"green\", \"blue\", \"red\", \"green\", \"blue\", \"red\", \"green\", \"blue\", \"red\", \"green\", \"blue\"], \"line\": {\"color\": \"black\", \"width\": 1}, \"size\": 10, \"symbol\": \"square\"}, \"mode\": \"markers\", \"name\": \"manta\", \"showlegend\": false, \"text\": [\"filterCalls.minUnitigBlockLength: 15<br><br>makeRegions: <br>  slop: 250<br>  minCoverage: 0<br>  maxCoverage: 200<br>  maxRegionLength: 100000<br>  minRepeatPeriod: 6<br>  minRepeatLength: 0<br>  functionalRegions: none<br>  genomeBuild: hg38<br>  overlappedFunctionalRegions: false<br>makeCalls: <br>  singleBaseMatchReward: 10<br>  singleBaseMismatchPenalty: 12<br>  gapOpenPenalties: 6,26<br>  gapExtensionPenalties: 1,0<br>  minUnitigMappingQuality: 1<br>filterCalls: <br>  maxIntraClusterDistance: 500<br>  minSVSize: 100<br>  minUnitigMappingQuality: 0<br>\", \"filterCalls.minUnitigBlockLength: 25<br><br>makeRegions: <br>  slop: 250<br>  minCoverage: 0<br>  maxCoverage: 200<br>  maxRegionLength: 100000<br>  minRepeatPeriod: 6<br>  minRepeatLength: 0<br>  functionalRegions: none<br>  genomeBuild: hg38<br>  overlappedFunctionalRegions: false<br>makeCalls: <br>  singleBaseMatchReward: 10<br>  singleBaseMismatchPenalty: 12<br>  gapOpenPenalties: 6,26<br>  gapExtensionPenalties: 1,0<br>  minUnitigMappingQuality: 1<br>filterCalls: <br>  maxIntraClusterDistance: 500<br>  minSVSize: 100<br>  minUnitigMappingQuality: 0<br>\", \"filterCalls.minUnitigBlockLength: 40<br><br>makeRegions: <br>  slop: 250<br>  minCoverage: 0<br>  maxCoverage: 200<br>  maxRegionLength: 100000<br>  minRepeatPeriod: 6<br>  minRepeatLength: 0<br>  functionalRegions: none<br>  genomeBuild: hg38<br>  overlappedFunctionalRegions: false<br>makeCalls: <br>  singleBaseMatchReward: 10<br>  singleBaseMismatchPenalty: 12<br>  gapOpenPenalties: 6,26<br>  gapExtensionPenalties: 1,0<br>  minUnitigMappingQuality: 1<br>filterCalls: <br>  maxIntraClusterDistance: 500<br>  minSVSize: 100<br>  minUnitigMappingQuality: 0<br>\", \"filterCalls.minUnitigBlockLength: 15<br><br>makeRegions: <br>  slop: 250<br>  minCoverage: 0<br>  maxCoverage: 200<br>  maxRegionLength: 100000<br>  minRepeatPeriod: 6<br>  minRepeatLength: 100<br>  functionalRegions: none<br>  genomeBuild: hg38<br>  overlappedFunctionalRegions: false<br>makeCalls: <br>  singleBaseMatchReward: 10<br>  singleBaseMismatchPenalty: 12<br>  gapOpenPenalties: 6,26<br>  gapExtensionPenalties: 1,0<br>  minUnitigMappingQuality: 1<br>filterCalls: <br>  maxIntraClusterDistance: 500<br>  minSVSize: 100<br>  minUnitigMappingQuality: 0<br>\", \"filterCalls.minUnitigBlockLength: 25<br><br>makeRegions: <br>  slop: 250<br>  minCoverage: 0<br>  maxCoverage: 200<br>  maxRegionLength: 100000<br>  minRepeatPeriod: 6<br>  minRepeatLength: 100<br>  functionalRegions: none<br>  genomeBuild: hg38<br>  overlappedFunctionalRegions: false<br>makeCalls: <br>  singleBaseMatchReward: 10<br>  singleBaseMismatchPenalty: 12<br>  gapOpenPenalties: 6,26<br>  gapExtensionPenalties: 1,0<br>  minUnitigMappingQuality: 1<br>filterCalls: <br>  maxIntraClusterDistance: 500<br>  minSVSize: 100<br>  minUnitigMappingQuality: 0<br>\", \"filterCalls.minUnitigBlockLength: 40<br><br>makeRegions: <br>  slop: 250<br>  minCoverage: 0<br>  maxCoverage: 200<br>  maxRegionLength: 100000<br>  minRepeatPeriod: 6<br>  minRepeatLength: 100<br>  functionalRegions: none<br>  genomeBuild: hg38<br>  overlappedFunctionalRegions: false<br>makeCalls: <br>  singleBaseMatchReward: 10<br>  singleBaseMismatchPenalty: 12<br>  gapOpenPenalties: 6,26<br>  gapExtensionPenalties: 1,0<br>  minUnitigMappingQuality: 1<br>filterCalls: <br>  maxIntraClusterDistance: 500<br>  minSVSize: 100<br>  minUnitigMappingQuality: 0<br>\", \"filterCalls.minUnitigBlockLength: 15<br><br>makeRegions: <br>  slop: 250<br>  minCoverage: 0<br>  maxCoverage: 200<br>  maxRegionLength: 100000<br>  minRepeatPeriod: 6<br>  minRepeatLength: 50<br>  functionalRegions: none<br>  genomeBuild: hg38<br>  overlappedFunctionalRegions: false<br>makeCalls: <br>  singleBaseMatchReward: 10<br>  singleBaseMismatchPenalty: 12<br>  gapOpenPenalties: 6,26<br>  gapExtensionPenalties: 1,0<br>  minUnitigMappingQuality: 1<br>filterCalls: <br>  maxIntraClusterDistance: 500<br>  minSVSize: 100<br>  minUnitigMappingQuality: 0<br>\", \"filterCalls.minUnitigBlockLength: 25<br><br>makeRegions: <br>  slop: 250<br>  minCoverage: 0<br>  maxCoverage: 200<br>  maxRegionLength: 100000<br>  minRepeatPeriod: 6<br>  minRepeatLength: 50<br>  functionalRegions: none<br>  genomeBuild: hg38<br>  overlappedFunctionalRegions: false<br>makeCalls: <br>  singleBaseMatchReward: 10<br>  singleBaseMismatchPenalty: 12<br>  gapOpenPenalties: 6,26<br>  gapExtensionPenalties: 1,0<br>  minUnitigMappingQuality: 1<br>filterCalls: <br>  maxIntraClusterDistance: 500<br>  minSVSize: 100<br>  minUnitigMappingQuality: 0<br>\", \"filterCalls.minUnitigBlockLength: 40<br><br>makeRegions: <br>  slop: 250<br>  minCoverage: 0<br>  maxCoverage: 200<br>  maxRegionLength: 100000<br>  minRepeatPeriod: 6<br>  minRepeatLength: 50<br>  functionalRegions: none<br>  genomeBuild: hg38<br>  overlappedFunctionalRegions: false<br>makeCalls: <br>  singleBaseMatchReward: 10<br>  singleBaseMismatchPenalty: 12<br>  gapOpenPenalties: 6,26<br>  gapExtensionPenalties: 1,0<br>  minUnitigMappingQuality: 1<br>filterCalls: <br>  maxIntraClusterDistance: 500<br>  minSVSize: 100<br>  minUnitigMappingQuality: 0<br>\", \"filterCalls.minUnitigBlockLength: 15<br><br>makeRegions: <br>  slop: 250<br>  minCoverage: 0<br>  maxCoverage: 200<br>  maxRegionLength: 100000<br>  minRepeatPeriod: 6<br>  minRepeatLength: 0<br>  functionalRegions: none<br>  genomeBuild: hg38<br>  overlappedFunctionalRegions: false<br>makeCalls: <br>  singleBaseMatchReward: 10<br>  singleBaseMismatchPenalty: 12<br>  gapOpenPenalties: 6,26<br>  gapExtensionPenalties: 1,0<br>  minUnitigMappingQuality: 1<br>filterCalls: <br>  maxIntraClusterDistance: 500<br>  minSVSize: 500<br>  minUnitigMappingQuality: 0<br>\", \"filterCalls.minUnitigBlockLength: 25<br><br>makeRegions: <br>  slop: 250<br>  minCoverage: 0<br>  maxCoverage: 200<br>  maxRegionLength: 100000<br>  minRepeatPeriod: 6<br>  minRepeatLength: 0<br>  functionalRegions: none<br>  genomeBuild: hg38<br>  overlappedFunctionalRegions: false<br>makeCalls: <br>  singleBaseMatchReward: 10<br>  singleBaseMismatchPenalty: 12<br>  gapOpenPenalties: 6,26<br>  gapExtensionPenalties: 1,0<br>  minUnitigMappingQuality: 1<br>filterCalls: <br>  maxIntraClusterDistance: 500<br>  minSVSize: 500<br>  minUnitigMappingQuality: 0<br>\", \"filterCalls.minUnitigBlockLength: 40<br><br>makeRegions: <br>  slop: 250<br>  minCoverage: 0<br>  maxCoverage: 200<br>  maxRegionLength: 100000<br>  minRepeatPeriod: 6<br>  minRepeatLength: 0<br>  functionalRegions: none<br>  genomeBuild: hg38<br>  overlappedFunctionalRegions: false<br>makeCalls: <br>  singleBaseMatchReward: 10<br>  singleBaseMismatchPenalty: 12<br>  gapOpenPenalties: 6,26<br>  gapExtensionPenalties: 1,0<br>  minUnitigMappingQuality: 1<br>filterCalls: <br>  maxIntraClusterDistance: 500<br>  minSVSize: 500<br>  minUnitigMappingQuality: 0<br>\", \"filterCalls.minUnitigBlockLength: 15<br><br>makeRegions: <br>  slop: 250<br>  minCoverage: 0<br>  maxCoverage: 200<br>  maxRegionLength: 100000<br>  minRepeatPeriod: 6<br>  minRepeatLength: 100<br>  functionalRegions: none<br>  genomeBuild: hg38<br>  overlappedFunctionalRegions: false<br>makeCalls: <br>  singleBaseMatchReward: 10<br>  singleBaseMismatchPenalty: 12<br>  gapOpenPenalties: 6,26<br>  gapExtensionPenalties: 1,0<br>  minUnitigMappingQuality: 1<br>filterCalls: <br>  maxIntraClusterDistance: 500<br>  minSVSize: 500<br>  minUnitigMappingQuality: 0<br>\", \"filterCalls.minUnitigBlockLength: 25<br><br>makeRegions: <br>  slop: 250<br>  minCoverage: 0<br>  maxCoverage: 200<br>  maxRegionLength: 100000<br>  minRepeatPeriod: 6<br>  minRepeatLength: 100<br>  functionalRegions: none<br>  genomeBuild: hg38<br>  overlappedFunctionalRegions: false<br>makeCalls: <br>  singleBaseMatchReward: 10<br>  singleBaseMismatchPenalty: 12<br>  gapOpenPenalties: 6,26<br>  gapExtensionPenalties: 1,0<br>  minUnitigMappingQuality: 1<br>filterCalls: <br>  maxIntraClusterDistance: 500<br>  minSVSize: 500<br>  minUnitigMappingQuality: 0<br>\", \"filterCalls.minUnitigBlockLength: 40<br><br>makeRegions: <br>  slop: 250<br>  minCoverage: 0<br>  maxCoverage: 200<br>  maxRegionLength: 100000<br>  minRepeatPeriod: 6<br>  minRepeatLength: 100<br>  functionalRegions: none<br>  genomeBuild: hg38<br>  overlappedFunctionalRegions: false<br>makeCalls: <br>  singleBaseMatchReward: 10<br>  singleBaseMismatchPenalty: 12<br>  gapOpenPenalties: 6,26<br>  gapExtensionPenalties: 1,0<br>  minUnitigMappingQuality: 1<br>filterCalls: <br>  maxIntraClusterDistance: 500<br>  minSVSize: 500<br>  minUnitigMappingQuality: 0<br>\", \"filterCalls.minUnitigBlockLength: 15<br><br>makeRegions: <br>  slop: 250<br>  minCoverage: 0<br>  maxCoverage: 200<br>  maxRegionLength: 100000<br>  minRepeatPeriod: 6<br>  minRepeatLength: 50<br>  functionalRegions: none<br>  genomeBuild: hg38<br>  overlappedFunctionalRegions: false<br>makeCalls: <br>  singleBaseMatchReward: 10<br>  singleBaseMismatchPenalty: 12<br>  gapOpenPenalties: 6,26<br>  gapExtensionPenalties: 1,0<br>  minUnitigMappingQuality: 1<br>filterCalls: <br>  maxIntraClusterDistance: 500<br>  minSVSize: 500<br>  minUnitigMappingQuality: 0<br>\", \"filterCalls.minUnitigBlockLength: 25<br><br>makeRegions: <br>  slop: 250<br>  minCoverage: 0<br>  maxCoverage: 200<br>  maxRegionLength: 100000<br>  minRepeatPeriod: 6<br>  minRepeatLength: 50<br>  functionalRegions: none<br>  genomeBuild: hg38<br>  overlappedFunctionalRegions: false<br>makeCalls: <br>  singleBaseMatchReward: 10<br>  singleBaseMismatchPenalty: 12<br>  gapOpenPenalties: 6,26<br>  gapExtensionPenalties: 1,0<br>  minUnitigMappingQuality: 1<br>filterCalls: <br>  maxIntraClusterDistance: 500<br>  minSVSize: 500<br>  minUnitigMappingQuality: 0<br>\", \"filterCalls.minUnitigBlockLength: 40<br><br>makeRegions: <br>  slop: 250<br>  minCoverage: 0<br>  maxCoverage: 200<br>  maxRegionLength: 100000<br>  minRepeatPeriod: 6<br>  minRepeatLength: 50<br>  functionalRegions: none<br>  genomeBuild: hg38<br>  overlappedFunctionalRegions: false<br>makeCalls: <br>  singleBaseMatchReward: 10<br>  singleBaseMismatchPenalty: 12<br>  gapOpenPenalties: 6,26<br>  gapExtensionPenalties: 1,0<br>  minUnitigMappingQuality: 1<br>filterCalls: <br>  maxIntraClusterDistance: 500<br>  minSVSize: 500<br>  minUnitigMappingQuality: 0<br>\", \"filterCalls.minUnitigBlockLength: 15<br><br>makeRegions: <br>  slop: 250<br>  minCoverage: 0<br>  maxCoverage: 200<br>  maxRegionLength: 100000<br>  minRepeatPeriod: 6<br>  minRepeatLength: 0<br>  functionalRegions: none<br>  genomeBuild: hg38<br>  overlappedFunctionalRegions: false<br>makeCalls: <br>  singleBaseMatchReward: 10<br>  singleBaseMismatchPenalty: 12<br>  gapOpenPenalties: 6,26<br>  gapExtensionPenalties: 1,0<br>  minUnitigMappingQuality: 1<br>filterCalls: <br>  maxIntraClusterDistance: 500<br>  minSVSize: 50<br>  minUnitigMappingQuality: 0<br>\", \"filterCalls.minUnitigBlockLength: 25<br><br>makeRegions: <br>  slop: 250<br>  minCoverage: 0<br>  maxCoverage: 200<br>  maxRegionLength: 100000<br>  minRepeatPeriod: 6<br>  minRepeatLength: 0<br>  functionalRegions: none<br>  genomeBuild: hg38<br>  overlappedFunctionalRegions: false<br>makeCalls: <br>  singleBaseMatchReward: 10<br>  singleBaseMismatchPenalty: 12<br>  gapOpenPenalties: 6,26<br>  gapExtensionPenalties: 1,0<br>  minUnitigMappingQuality: 1<br>filterCalls: <br>  maxIntraClusterDistance: 500<br>  minSVSize: 50<br>  minUnitigMappingQuality: 0<br>\", \"filterCalls.minUnitigBlockLength: 40<br><br>makeRegions: <br>  slop: 250<br>  minCoverage: 0<br>  maxCoverage: 200<br>  maxRegionLength: 100000<br>  minRepeatPeriod: 6<br>  minRepeatLength: 0<br>  functionalRegions: none<br>  genomeBuild: hg38<br>  overlappedFunctionalRegions: false<br>makeCalls: <br>  singleBaseMatchReward: 10<br>  singleBaseMismatchPenalty: 12<br>  gapOpenPenalties: 6,26<br>  gapExtensionPenalties: 1,0<br>  minUnitigMappingQuality: 1<br>filterCalls: <br>  maxIntraClusterDistance: 500<br>  minSVSize: 50<br>  minUnitigMappingQuality: 0<br>\", \"filterCalls.minUnitigBlockLength: 15<br><br>makeRegions: <br>  slop: 250<br>  minCoverage: 0<br>  maxCoverage: 200<br>  maxRegionLength: 100000<br>  minRepeatPeriod: 6<br>  minRepeatLength: 100<br>  functionalRegions: none<br>  genomeBuild: hg38<br>  overlappedFunctionalRegions: false<br>makeCalls: <br>  singleBaseMatchReward: 10<br>  singleBaseMismatchPenalty: 12<br>  gapOpenPenalties: 6,26<br>  gapExtensionPenalties: 1,0<br>  minUnitigMappingQuality: 1<br>filterCalls: <br>  maxIntraClusterDistance: 500<br>  minSVSize: 50<br>  minUnitigMappingQuality: 0<br>\", \"filterCalls.minUnitigBlockLength: 25<br><br>makeRegions: <br>  slop: 250<br>  minCoverage: 0<br>  maxCoverage: 200<br>  maxRegionLength: 100000<br>  minRepeatPeriod: 6<br>  minRepeatLength: 100<br>  functionalRegions: none<br>  genomeBuild: hg38<br>  overlappedFunctionalRegions: false<br>makeCalls: <br>  singleBaseMatchReward: 10<br>  singleBaseMismatchPenalty: 12<br>  gapOpenPenalties: 6,26<br>  gapExtensionPenalties: 1,0<br>  minUnitigMappingQuality: 1<br>filterCalls: <br>  maxIntraClusterDistance: 500<br>  minSVSize: 50<br>  minUnitigMappingQuality: 0<br>\", \"filterCalls.minUnitigBlockLength: 40<br><br>makeRegions: <br>  slop: 250<br>  minCoverage: 0<br>  maxCoverage: 200<br>  maxRegionLength: 100000<br>  minRepeatPeriod: 6<br>  minRepeatLength: 100<br>  functionalRegions: none<br>  genomeBuild: hg38<br>  overlappedFunctionalRegions: false<br>makeCalls: <br>  singleBaseMatchReward: 10<br>  singleBaseMismatchPenalty: 12<br>  gapOpenPenalties: 6,26<br>  gapExtensionPenalties: 1,0<br>  minUnitigMappingQuality: 1<br>filterCalls: <br>  maxIntraClusterDistance: 500<br>  minSVSize: 50<br>  minUnitigMappingQuality: 0<br>\", \"filterCalls.minUnitigBlockLength: 15<br><br>makeRegions: <br>  slop: 250<br>  minCoverage: 0<br>  maxCoverage: 200<br>  maxRegionLength: 100000<br>  minRepeatPeriod: 6<br>  minRepeatLength: 50<br>  functionalRegions: none<br>  genomeBuild: hg38<br>  overlappedFunctionalRegions: false<br>makeCalls: <br>  singleBaseMatchReward: 10<br>  singleBaseMismatchPenalty: 12<br>  gapOpenPenalties: 6,26<br>  gapExtensionPenalties: 1,0<br>  minUnitigMappingQuality: 1<br>filterCalls: <br>  maxIntraClusterDistance: 500<br>  minSVSize: 50<br>  minUnitigMappingQuality: 0<br>\", \"filterCalls.minUnitigBlockLength: 25<br><br>makeRegions: <br>  slop: 250<br>  minCoverage: 0<br>  maxCoverage: 200<br>  maxRegionLength: 100000<br>  minRepeatPeriod: 6<br>  minRepeatLength: 50<br>  functionalRegions: none<br>  genomeBuild: hg38<br>  overlappedFunctionalRegions: false<br>makeCalls: <br>  singleBaseMatchReward: 10<br>  singleBaseMismatchPenalty: 12<br>  gapOpenPenalties: 6,26<br>  gapExtensionPenalties: 1,0<br>  minUnitigMappingQuality: 1<br>filterCalls: <br>  maxIntraClusterDistance: 500<br>  minSVSize: 50<br>  minUnitigMappingQuality: 0<br>\", \"filterCalls.minUnitigBlockLength: 40<br><br>makeRegions: <br>  slop: 250<br>  minCoverage: 0<br>  maxCoverage: 200<br>  maxRegionLength: 100000<br>  minRepeatPeriod: 6<br>  minRepeatLength: 50<br>  functionalRegions: none<br>  genomeBuild: hg38<br>  overlappedFunctionalRegions: false<br>makeCalls: <br>  singleBaseMatchReward: 10<br>  singleBaseMismatchPenalty: 12<br>  gapOpenPenalties: 6,26<br>  gapExtensionPenalties: 1,0<br>  minUnitigMappingQuality: 1<br>filterCalls: <br>  maxIntraClusterDistance: 500<br>  minSVSize: 50<br>  minUnitigMappingQuality: 0<br>\"], \"type\": \"scatter\", \"x\": [0.17183653372722796, 0.17183653372722796, 0.17183653372722796, 0.1693121693121693, 0.1693121693121693, 0.1693121693121693, 0.17088607594936708, 0.17088607594936708, 0.17088607594936708, 0.16243654822335024, 0.16243654822335024, 0.16243654822335024, 0.17560975609756097, 0.17560975609756097, 0.17560975609756097, 0.1724137931034483, 0.1724137931034483, 0.1724137931034483, 0.24133333333333334, 0.24133333333333334, 0.24133333333333334, 0.23525557011795545, 0.23525557011795545, 0.23525557011795545, 0.23967486818980668, 0.23967486818980668, 0.23967486818980668], \"y\": [0.4101057579318449, 0.4101057579318449, 0.4101057579318449, 0.4041331802525832, 0.4041331802525832, 0.4041331802525832, 0.4100467289719626, 0.4100467289719626, 0.4100467289719626, 0.3595505617977528, 0.3595505617977528, 0.3595505617977528, 0.3829787234042553, 0.3829787234042553, 0.3829787234042553, 0.3763440860215054, 0.3763440860215054, 0.3763440860215054, 0.5161596958174905, 0.5161596958174905, 0.5161596958174905, 0.5135908440629471, 0.5135908440629471, 0.5135908440629471, 0.5165719696969697, 0.5165719696969697, 0.5165719696969697]}, {\"marker\": {\"color\": \"white\", \"line\": {\"color\": \"black\", \"width\": 1}, \"size\": 10, \"symbol\": \"circle\"}, \"mode\": \"markers\", \"name\": \"trfermikit\", \"type\": \"scatter\", \"y\": [null]}, {\"marker\": {\"color\": \"white\", \"line\": {\"color\": \"black\", \"width\": 1}, \"size\": 10, \"symbol\": \"square\"}, \"mode\": \"markers\", \"name\": \"manta\", \"type\": \"scatter\", \"y\": [null]}, {\"marker\": {\"color\": \"red\", \"size\": 10, \"symbol\": \"circle\"}, \"mode\": \"markers\", \"name\": \"minUnitigBlockLength=15\", \"type\": \"scatter\", \"y\": [null]}, {\"marker\": {\"color\": \"green\", \"size\": 10, \"symbol\": \"circle\"}, \"mode\": \"markers\", \"name\": \"minUnitigBlockLength=25\", \"type\": \"scatter\", \"y\": [null]}, {\"marker\": {\"color\": \"blue\", \"size\": 10, \"symbol\": \"circle\"}, \"mode\": \"markers\", \"name\": \"minUnitigBlockLength=40\", \"type\": \"scatter\", \"y\": [null]}],                        {\"template\": {\"data\": {\"bar\": [{\"error_x\": {\"color\": \"#2a3f5f\"}, \"error_y\": {\"color\": \"#2a3f5f\"}, \"marker\": {\"line\": {\"color\": \"#E5ECF6\", \"width\": 0.5}}, \"type\": \"bar\"}], \"barpolar\": [{\"marker\": {\"line\": {\"color\": \"#E5ECF6\", \"width\": 0.5}}, \"type\": \"barpolar\"}], \"carpet\": [{\"aaxis\": {\"endlinecolor\": \"#2a3f5f\", \"gridcolor\": \"white\", \"linecolor\": \"white\", \"minorgridcolor\": \"white\", \"startlinecolor\": \"#2a3f5f\"}, \"baxis\": {\"endlinecolor\": \"#2a3f5f\", \"gridcolor\": \"white\", \"linecolor\": \"white\", \"minorgridcolor\": \"white\", \"startlinecolor\": \"#2a3f5f\"}, \"type\": \"carpet\"}], \"choropleth\": [{\"colorbar\": {\"outlinewidth\": 0, \"ticks\": \"\"}, \"type\": \"choropleth\"}], \"contour\": [{\"colorbar\": {\"outlinewidth\": 0, \"ticks\": \"\"}, \"colorscale\": [[0.0, \"#0d0887\"], [0.1111111111111111, \"#46039f\"], [0.2222222222222222, \"#7201a8\"], [0.3333333333333333, \"#9c179e\"], [0.4444444444444444, \"#bd3786\"], [0.5555555555555556, \"#d8576b\"], [0.6666666666666666, \"#ed7953\"], [0.7777777777777778, \"#fb9f3a\"], [0.8888888888888888, \"#fdca26\"], [1.0, \"#f0f921\"]], \"type\": \"contour\"}], \"contourcarpet\": [{\"colorbar\": {\"outlinewidth\": 0, \"ticks\": \"\"}, \"type\": \"contourcarpet\"}], \"heatmap\": [{\"colorbar\": {\"outlinewidth\": 0, \"ticks\": \"\"}, \"colorscale\": [[0.0, \"#0d0887\"], [0.1111111111111111, \"#46039f\"], [0.2222222222222222, \"#7201a8\"], [0.3333333333333333, \"#9c179e\"], [0.4444444444444444, \"#bd3786\"], [0.5555555555555556, \"#d8576b\"], [0.6666666666666666, \"#ed7953\"], [0.7777777777777778, \"#fb9f3a\"], [0.8888888888888888, \"#fdca26\"], [1.0, \"#f0f921\"]], \"type\": \"heatmap\"}], \"heatmapgl\": [{\"colorbar\": {\"outlinewidth\": 0, \"ticks\": \"\"}, \"colorscale\": [[0.0, \"#0d0887\"], [0.1111111111111111, \"#46039f\"], [0.2222222222222222, \"#7201a8\"], [0.3333333333333333, \"#9c179e\"], [0.4444444444444444, \"#bd3786\"], [0.5555555555555556, \"#d8576b\"], [0.6666666666666666, \"#ed7953\"], [0.7777777777777778, \"#fb9f3a\"], [0.8888888888888888, \"#fdca26\"], [1.0, \"#f0f921\"]], \"type\": \"heatmapgl\"}], \"histogram\": [{\"marker\": {\"colorbar\": {\"outlinewidth\": 0, \"ticks\": \"\"}}, \"type\": \"histogram\"}], \"histogram2d\": [{\"colorbar\": {\"outlinewidth\": 0, \"ticks\": \"\"}, \"colorscale\": [[0.0, \"#0d0887\"], [0.1111111111111111, \"#46039f\"], [0.2222222222222222, \"#7201a8\"], [0.3333333333333333, \"#9c179e\"], [0.4444444444444444, \"#bd3786\"], [0.5555555555555556, \"#d8576b\"], [0.6666666666666666, \"#ed7953\"], [0.7777777777777778, \"#fb9f3a\"], [0.8888888888888888, \"#fdca26\"], [1.0, \"#f0f921\"]], \"type\": \"histogram2d\"}], \"histogram2dcontour\": [{\"colorbar\": {\"outlinewidth\": 0, \"ticks\": \"\"}, \"colorscale\": [[0.0, \"#0d0887\"], [0.1111111111111111, \"#46039f\"], [0.2222222222222222, \"#7201a8\"], [0.3333333333333333, \"#9c179e\"], [0.4444444444444444, \"#bd3786\"], [0.5555555555555556, \"#d8576b\"], [0.6666666666666666, \"#ed7953\"], [0.7777777777777778, \"#fb9f3a\"], [0.8888888888888888, \"#fdca26\"], [1.0, \"#f0f921\"]], \"type\": \"histogram2dcontour\"}], \"mesh3d\": [{\"colorbar\": {\"outlinewidth\": 0, \"ticks\": \"\"}, \"type\": \"mesh3d\"}], \"parcoords\": [{\"line\": {\"colorbar\": {\"outlinewidth\": 0, \"ticks\": \"\"}}, \"type\": \"parcoords\"}], \"pie\": [{\"automargin\": true, \"type\": \"pie\"}], \"scatter\": [{\"marker\": {\"colorbar\": {\"outlinewidth\": 0, \"ticks\": \"\"}}, \"type\": \"scatter\"}], \"scatter3d\": [{\"line\": {\"colorbar\": {\"outlinewidth\": 0, \"ticks\": \"\"}}, \"marker\": {\"colorbar\": {\"outlinewidth\": 0, \"ticks\": \"\"}}, \"type\": \"scatter3d\"}], \"scattercarpet\": [{\"marker\": {\"colorbar\": {\"outlinewidth\": 0, \"ticks\": \"\"}}, \"type\": \"scattercarpet\"}], \"scattergeo\": [{\"marker\": {\"colorbar\": {\"outlinewidth\": 0, \"ticks\": \"\"}}, \"type\": \"scattergeo\"}], \"scattergl\": [{\"marker\": {\"colorbar\": {\"outlinewidth\": 0, \"ticks\": \"\"}}, \"type\": \"scattergl\"}], \"scattermapbox\": [{\"marker\": {\"colorbar\": {\"outlinewidth\": 0, \"ticks\": \"\"}}, \"type\": \"scattermapbox\"}], \"scatterpolar\": [{\"marker\": {\"colorbar\": {\"outlinewidth\": 0, \"ticks\": \"\"}}, \"type\": \"scatterpolar\"}], \"scatterpolargl\": [{\"marker\": {\"colorbar\": {\"outlinewidth\": 0, \"ticks\": \"\"}}, \"type\": \"scatterpolargl\"}], \"scatterternary\": [{\"marker\": {\"colorbar\": {\"outlinewidth\": 0, \"ticks\": \"\"}}, \"type\": \"scatterternary\"}], \"surface\": [{\"colorbar\": {\"outlinewidth\": 0, \"ticks\": \"\"}, \"colorscale\": [[0.0, \"#0d0887\"], [0.1111111111111111, \"#46039f\"], [0.2222222222222222, \"#7201a8\"], [0.3333333333333333, \"#9c179e\"], [0.4444444444444444, \"#bd3786\"], [0.5555555555555556, \"#d8576b\"], [0.6666666666666666, \"#ed7953\"], [0.7777777777777778, \"#fb9f3a\"], [0.8888888888888888, \"#fdca26\"], [1.0, \"#f0f921\"]], \"type\": \"surface\"}], \"table\": [{\"cells\": {\"fill\": {\"color\": \"#EBF0F8\"}, \"line\": {\"color\": \"white\"}}, \"header\": {\"fill\": {\"color\": \"#C8D4E3\"}, \"line\": {\"color\": \"white\"}}, \"type\": \"table\"}]}, \"layout\": {\"annotationdefaults\": {\"arrowcolor\": \"#2a3f5f\", \"arrowhead\": 0, \"arrowwidth\": 1}, \"autotypenumbers\": \"strict\", \"coloraxis\": {\"colorbar\": {\"outlinewidth\": 0, \"ticks\": \"\"}}, \"colorscale\": {\"diverging\": [[0, \"#8e0152\"], [0.1, \"#c51b7d\"], [0.2, \"#de77ae\"], [0.3, \"#f1b6da\"], [0.4, \"#fde0ef\"], [0.5, \"#f7f7f7\"], [0.6, \"#e6f5d0\"], [0.7, \"#b8e186\"], [0.8, \"#7fbc41\"], [0.9, \"#4d9221\"], [1, \"#276419\"]], \"sequential\": [[0.0, \"#0d0887\"], [0.1111111111111111, \"#46039f\"], [0.2222222222222222, \"#7201a8\"], [0.3333333333333333, \"#9c179e\"], [0.4444444444444444, \"#bd3786\"], [0.5555555555555556, \"#d8576b\"], [0.6666666666666666, \"#ed7953\"], [0.7777777777777778, \"#fb9f3a\"], [0.8888888888888888, \"#fdca26\"], [1.0, \"#f0f921\"]], \"sequentialminus\": [[0.0, \"#0d0887\"], [0.1111111111111111, \"#46039f\"], [0.2222222222222222, \"#7201a8\"], [0.3333333333333333, \"#9c179e\"], [0.4444444444444444, \"#bd3786\"], [0.5555555555555556, \"#d8576b\"], [0.6666666666666666, \"#ed7953\"], [0.7777777777777778, \"#fb9f3a\"], [0.8888888888888888, \"#fdca26\"], [1.0, \"#f0f921\"]]}, \"colorway\": [\"#636efa\", \"#EF553B\", \"#00cc96\", \"#ab63fa\", \"#FFA15A\", \"#19d3f3\", \"#FF6692\", \"#B6E880\", \"#FF97FF\", \"#FECB52\"], \"font\": {\"color\": \"#2a3f5f\"}, \"geo\": {\"bgcolor\": \"white\", \"lakecolor\": \"white\", \"landcolor\": \"#E5ECF6\", \"showlakes\": true, \"showland\": true, \"subunitcolor\": \"white\"}, \"hoverlabel\": {\"align\": \"left\"}, \"hovermode\": \"closest\", \"mapbox\": {\"style\": \"light\"}, \"paper_bgcolor\": \"white\", \"plot_bgcolor\": \"#E5ECF6\", \"polar\": {\"angularaxis\": {\"gridcolor\": \"white\", \"linecolor\": \"white\", \"ticks\": \"\"}, \"bgcolor\": \"#E5ECF6\", \"radialaxis\": {\"gridcolor\": \"white\", \"linecolor\": \"white\", \"ticks\": \"\"}}, \"scene\": {\"xaxis\": {\"backgroundcolor\": \"#E5ECF6\", \"gridcolor\": \"white\", \"gridwidth\": 2, \"linecolor\": \"white\", \"showbackground\": true, \"ticks\": \"\", \"zerolinecolor\": \"white\"}, \"yaxis\": {\"backgroundcolor\": \"#E5ECF6\", \"gridcolor\": \"white\", \"gridwidth\": 2, \"linecolor\": \"white\", \"showbackground\": true, \"ticks\": \"\", \"zerolinecolor\": \"white\"}, \"zaxis\": {\"backgroundcolor\": \"#E5ECF6\", \"gridcolor\": \"white\", \"gridwidth\": 2, \"linecolor\": \"white\", \"showbackground\": true, \"ticks\": \"\", \"zerolinecolor\": \"white\"}}, \"shapedefaults\": {\"line\": {\"color\": \"#2a3f5f\"}}, \"ternary\": {\"aaxis\": {\"gridcolor\": \"white\", \"linecolor\": \"white\", \"ticks\": \"\"}, \"baxis\": {\"gridcolor\": \"white\", \"linecolor\": \"white\", \"ticks\": \"\"}, \"bgcolor\": \"#E5ECF6\", \"caxis\": {\"gridcolor\": \"white\", \"linecolor\": \"white\", \"ticks\": \"\"}}, \"title\": {\"x\": 0.05}, \"xaxis\": {\"automargin\": true, \"gridcolor\": \"white\", \"linecolor\": \"white\", \"ticks\": \"\", \"title\": {\"standoff\": 15}, \"zerolinecolor\": \"white\", \"zerolinewidth\": 2}, \"yaxis\": {\"automargin\": true, \"gridcolor\": \"white\", \"linecolor\": \"white\", \"ticks\": \"\", \"title\": {\"standoff\": 15}, \"zerolinecolor\": \"white\", \"zerolinewidth\": 2}}}, \"title\": {\"text\": \"DEL<br>minUnitigBlockLength moves precision and recall in opposite directions:\", \"x\": 0.5, \"y\": 0.9}, \"xaxis\": {\"title\": {\"text\": \"recall\"}}, \"yaxis\": {\"title\": {\"text\": \"precision\"}}},                        {\"responsive\": true}                    ).then(function(){\n",
       "                            \n",
       "var gd = document.getElementById('f0fabf3f-3d3a-4d59-890e-f58003889b17');\n",
       "var x = new MutationObserver(function (mutations, observer) {{\n",
       "        var display = window.getComputedStyle(gd).display;\n",
       "        if (!display || display === 'none') {{\n",
       "            console.log([gd, 'removed!']);\n",
       "            Plotly.purge(gd);\n",
       "            observer.disconnect();\n",
       "        }}\n",
       "}});\n",
       "\n",
       "// Listen for the removal of the full notebook cells\n",
       "var notebookContainer = gd.closest('#notebook-container');\n",
       "if (notebookContainer) {{\n",
       "    x.observe(notebookContainer, {childList: true});\n",
       "}}\n",
       "\n",
       "// Listen for the clearing of the current output cell\n",
       "var outputEl = gd.closest('.output');\n",
       "if (outputEl) {{\n",
       "    x.observe(outputEl, {childList: true});\n",
       "}}\n",
       "\n",
       "                        })                };                });            </script>        </div>"
      ]
     },
     "metadata": {},
     "output_type": "display_data"
    },
    {
     "data": {
      "application/vnd.plotly.v1+json": {
       "config": {
        "plotlyServerURL": "https://plot.ly"
       },
       "data": [
        {
         "hovertemplate": "%{text}",
         "marker": {
          "color": [
           "red",
           "red",
           "red",
           "red",
           "red",
           "red",
           "red",
           "red",
           "red",
           "blue",
           "blue",
           "blue",
           "blue",
           "blue",
           "blue",
           "blue",
           "blue",
           "blue",
           "green",
           "green",
           "green",
           "green",
           "green",
           "green",
           "green",
           "green",
           "green"
          ],
          "line": {
           "color": "black",
           "width": 1
          },
          "size": 10,
          "symbol": "circle"
         },
         "mode": "markers",
         "name": "trfermikit",
         "showlegend": false,
         "text": [
          "filterCalls.minSVSize: 100<br><br>makeRegions: <br>  slop: 250<br>  minCoverage: 0<br>  maxCoverage: 200<br>  maxRegionLength: 100000<br>  minRepeatPeriod: 6<br>  minRepeatLength: 0<br>  functionalRegions: none<br>  genomeBuild: hg38<br>  overlappedFunctionalRegions: false<br>makeCalls: <br>  singleBaseMatchReward: 10<br>  singleBaseMismatchPenalty: 12<br>  gapOpenPenalties: 6,26<br>  gapExtensionPenalties: 1,0<br>  minUnitigMappingQuality: 1<br>filterCalls: <br>  maxIntraClusterDistance: 500<br>  minUnitigMappingQuality: 0<br>  minUnitigBlockLength: 15<br>",
          "filterCalls.minSVSize: 100<br><br>makeRegions: <br>  slop: 250<br>  minCoverage: 0<br>  maxCoverage: 200<br>  maxRegionLength: 100000<br>  minRepeatPeriod: 6<br>  minRepeatLength: 0<br>  functionalRegions: none<br>  genomeBuild: hg38<br>  overlappedFunctionalRegions: false<br>makeCalls: <br>  singleBaseMatchReward: 10<br>  singleBaseMismatchPenalty: 12<br>  gapOpenPenalties: 6,26<br>  gapExtensionPenalties: 1,0<br>  minUnitigMappingQuality: 1<br>filterCalls: <br>  maxIntraClusterDistance: 500<br>  minUnitigMappingQuality: 0<br>  minUnitigBlockLength: 25<br>",
          "filterCalls.minSVSize: 100<br><br>makeRegions: <br>  slop: 250<br>  minCoverage: 0<br>  maxCoverage: 200<br>  maxRegionLength: 100000<br>  minRepeatPeriod: 6<br>  minRepeatLength: 0<br>  functionalRegions: none<br>  genomeBuild: hg38<br>  overlappedFunctionalRegions: false<br>makeCalls: <br>  singleBaseMatchReward: 10<br>  singleBaseMismatchPenalty: 12<br>  gapOpenPenalties: 6,26<br>  gapExtensionPenalties: 1,0<br>  minUnitigMappingQuality: 1<br>filterCalls: <br>  maxIntraClusterDistance: 500<br>  minUnitigMappingQuality: 0<br>  minUnitigBlockLength: 40<br>",
          "filterCalls.minSVSize: 100<br><br>makeRegions: <br>  slop: 250<br>  minCoverage: 0<br>  maxCoverage: 200<br>  maxRegionLength: 100000<br>  minRepeatPeriod: 6<br>  minRepeatLength: 100<br>  functionalRegions: none<br>  genomeBuild: hg38<br>  overlappedFunctionalRegions: false<br>makeCalls: <br>  singleBaseMatchReward: 10<br>  singleBaseMismatchPenalty: 12<br>  gapOpenPenalties: 6,26<br>  gapExtensionPenalties: 1,0<br>  minUnitigMappingQuality: 1<br>filterCalls: <br>  maxIntraClusterDistance: 500<br>  minUnitigMappingQuality: 0<br>  minUnitigBlockLength: 15<br>",
          "filterCalls.minSVSize: 100<br><br>makeRegions: <br>  slop: 250<br>  minCoverage: 0<br>  maxCoverage: 200<br>  maxRegionLength: 100000<br>  minRepeatPeriod: 6<br>  minRepeatLength: 100<br>  functionalRegions: none<br>  genomeBuild: hg38<br>  overlappedFunctionalRegions: false<br>makeCalls: <br>  singleBaseMatchReward: 10<br>  singleBaseMismatchPenalty: 12<br>  gapOpenPenalties: 6,26<br>  gapExtensionPenalties: 1,0<br>  minUnitigMappingQuality: 1<br>filterCalls: <br>  maxIntraClusterDistance: 500<br>  minUnitigMappingQuality: 0<br>  minUnitigBlockLength: 25<br>",
          "filterCalls.minSVSize: 100<br><br>makeRegions: <br>  slop: 250<br>  minCoverage: 0<br>  maxCoverage: 200<br>  maxRegionLength: 100000<br>  minRepeatPeriod: 6<br>  minRepeatLength: 100<br>  functionalRegions: none<br>  genomeBuild: hg38<br>  overlappedFunctionalRegions: false<br>makeCalls: <br>  singleBaseMatchReward: 10<br>  singleBaseMismatchPenalty: 12<br>  gapOpenPenalties: 6,26<br>  gapExtensionPenalties: 1,0<br>  minUnitigMappingQuality: 1<br>filterCalls: <br>  maxIntraClusterDistance: 500<br>  minUnitigMappingQuality: 0<br>  minUnitigBlockLength: 40<br>",
          "filterCalls.minSVSize: 100<br><br>makeRegions: <br>  slop: 250<br>  minCoverage: 0<br>  maxCoverage: 200<br>  maxRegionLength: 100000<br>  minRepeatPeriod: 6<br>  minRepeatLength: 50<br>  functionalRegions: none<br>  genomeBuild: hg38<br>  overlappedFunctionalRegions: false<br>makeCalls: <br>  singleBaseMatchReward: 10<br>  singleBaseMismatchPenalty: 12<br>  gapOpenPenalties: 6,26<br>  gapExtensionPenalties: 1,0<br>  minUnitigMappingQuality: 1<br>filterCalls: <br>  maxIntraClusterDistance: 500<br>  minUnitigMappingQuality: 0<br>  minUnitigBlockLength: 15<br>",
          "filterCalls.minSVSize: 100<br><br>makeRegions: <br>  slop: 250<br>  minCoverage: 0<br>  maxCoverage: 200<br>  maxRegionLength: 100000<br>  minRepeatPeriod: 6<br>  minRepeatLength: 50<br>  functionalRegions: none<br>  genomeBuild: hg38<br>  overlappedFunctionalRegions: false<br>makeCalls: <br>  singleBaseMatchReward: 10<br>  singleBaseMismatchPenalty: 12<br>  gapOpenPenalties: 6,26<br>  gapExtensionPenalties: 1,0<br>  minUnitigMappingQuality: 1<br>filterCalls: <br>  maxIntraClusterDistance: 500<br>  minUnitigMappingQuality: 0<br>  minUnitigBlockLength: 25<br>",
          "filterCalls.minSVSize: 100<br><br>makeRegions: <br>  slop: 250<br>  minCoverage: 0<br>  maxCoverage: 200<br>  maxRegionLength: 100000<br>  minRepeatPeriod: 6<br>  minRepeatLength: 50<br>  functionalRegions: none<br>  genomeBuild: hg38<br>  overlappedFunctionalRegions: false<br>makeCalls: <br>  singleBaseMatchReward: 10<br>  singleBaseMismatchPenalty: 12<br>  gapOpenPenalties: 6,26<br>  gapExtensionPenalties: 1,0<br>  minUnitigMappingQuality: 1<br>filterCalls: <br>  maxIntraClusterDistance: 500<br>  minUnitigMappingQuality: 0<br>  minUnitigBlockLength: 40<br>",
          "filterCalls.minSVSize: 500<br><br>makeRegions: <br>  slop: 250<br>  minCoverage: 0<br>  maxCoverage: 200<br>  maxRegionLength: 100000<br>  minRepeatPeriod: 6<br>  minRepeatLength: 0<br>  functionalRegions: none<br>  genomeBuild: hg38<br>  overlappedFunctionalRegions: false<br>makeCalls: <br>  singleBaseMatchReward: 10<br>  singleBaseMismatchPenalty: 12<br>  gapOpenPenalties: 6,26<br>  gapExtensionPenalties: 1,0<br>  minUnitigMappingQuality: 1<br>filterCalls: <br>  maxIntraClusterDistance: 500<br>  minUnitigMappingQuality: 0<br>  minUnitigBlockLength: 15<br>",
          "filterCalls.minSVSize: 500<br><br>makeRegions: <br>  slop: 250<br>  minCoverage: 0<br>  maxCoverage: 200<br>  maxRegionLength: 100000<br>  minRepeatPeriod: 6<br>  minRepeatLength: 0<br>  functionalRegions: none<br>  genomeBuild: hg38<br>  overlappedFunctionalRegions: false<br>makeCalls: <br>  singleBaseMatchReward: 10<br>  singleBaseMismatchPenalty: 12<br>  gapOpenPenalties: 6,26<br>  gapExtensionPenalties: 1,0<br>  minUnitigMappingQuality: 1<br>filterCalls: <br>  maxIntraClusterDistance: 500<br>  minUnitigMappingQuality: 0<br>  minUnitigBlockLength: 25<br>",
          "filterCalls.minSVSize: 500<br><br>makeRegions: <br>  slop: 250<br>  minCoverage: 0<br>  maxCoverage: 200<br>  maxRegionLength: 100000<br>  minRepeatPeriod: 6<br>  minRepeatLength: 0<br>  functionalRegions: none<br>  genomeBuild: hg38<br>  overlappedFunctionalRegions: false<br>makeCalls: <br>  singleBaseMatchReward: 10<br>  singleBaseMismatchPenalty: 12<br>  gapOpenPenalties: 6,26<br>  gapExtensionPenalties: 1,0<br>  minUnitigMappingQuality: 1<br>filterCalls: <br>  maxIntraClusterDistance: 500<br>  minUnitigMappingQuality: 0<br>  minUnitigBlockLength: 40<br>",
          "filterCalls.minSVSize: 500<br><br>makeRegions: <br>  slop: 250<br>  minCoverage: 0<br>  maxCoverage: 200<br>  maxRegionLength: 100000<br>  minRepeatPeriod: 6<br>  minRepeatLength: 100<br>  functionalRegions: none<br>  genomeBuild: hg38<br>  overlappedFunctionalRegions: false<br>makeCalls: <br>  singleBaseMatchReward: 10<br>  singleBaseMismatchPenalty: 12<br>  gapOpenPenalties: 6,26<br>  gapExtensionPenalties: 1,0<br>  minUnitigMappingQuality: 1<br>filterCalls: <br>  maxIntraClusterDistance: 500<br>  minUnitigMappingQuality: 0<br>  minUnitigBlockLength: 15<br>",
          "filterCalls.minSVSize: 500<br><br>makeRegions: <br>  slop: 250<br>  minCoverage: 0<br>  maxCoverage: 200<br>  maxRegionLength: 100000<br>  minRepeatPeriod: 6<br>  minRepeatLength: 100<br>  functionalRegions: none<br>  genomeBuild: hg38<br>  overlappedFunctionalRegions: false<br>makeCalls: <br>  singleBaseMatchReward: 10<br>  singleBaseMismatchPenalty: 12<br>  gapOpenPenalties: 6,26<br>  gapExtensionPenalties: 1,0<br>  minUnitigMappingQuality: 1<br>filterCalls: <br>  maxIntraClusterDistance: 500<br>  minUnitigMappingQuality: 0<br>  minUnitigBlockLength: 25<br>",
          "filterCalls.minSVSize: 500<br><br>makeRegions: <br>  slop: 250<br>  minCoverage: 0<br>  maxCoverage: 200<br>  maxRegionLength: 100000<br>  minRepeatPeriod: 6<br>  minRepeatLength: 100<br>  functionalRegions: none<br>  genomeBuild: hg38<br>  overlappedFunctionalRegions: false<br>makeCalls: <br>  singleBaseMatchReward: 10<br>  singleBaseMismatchPenalty: 12<br>  gapOpenPenalties: 6,26<br>  gapExtensionPenalties: 1,0<br>  minUnitigMappingQuality: 1<br>filterCalls: <br>  maxIntraClusterDistance: 500<br>  minUnitigMappingQuality: 0<br>  minUnitigBlockLength: 40<br>",
          "filterCalls.minSVSize: 500<br><br>makeRegions: <br>  slop: 250<br>  minCoverage: 0<br>  maxCoverage: 200<br>  maxRegionLength: 100000<br>  minRepeatPeriod: 6<br>  minRepeatLength: 50<br>  functionalRegions: none<br>  genomeBuild: hg38<br>  overlappedFunctionalRegions: false<br>makeCalls: <br>  singleBaseMatchReward: 10<br>  singleBaseMismatchPenalty: 12<br>  gapOpenPenalties: 6,26<br>  gapExtensionPenalties: 1,0<br>  minUnitigMappingQuality: 1<br>filterCalls: <br>  maxIntraClusterDistance: 500<br>  minUnitigMappingQuality: 0<br>  minUnitigBlockLength: 15<br>",
          "filterCalls.minSVSize: 500<br><br>makeRegions: <br>  slop: 250<br>  minCoverage: 0<br>  maxCoverage: 200<br>  maxRegionLength: 100000<br>  minRepeatPeriod: 6<br>  minRepeatLength: 50<br>  functionalRegions: none<br>  genomeBuild: hg38<br>  overlappedFunctionalRegions: false<br>makeCalls: <br>  singleBaseMatchReward: 10<br>  singleBaseMismatchPenalty: 12<br>  gapOpenPenalties: 6,26<br>  gapExtensionPenalties: 1,0<br>  minUnitigMappingQuality: 1<br>filterCalls: <br>  maxIntraClusterDistance: 500<br>  minUnitigMappingQuality: 0<br>  minUnitigBlockLength: 25<br>",
          "filterCalls.minSVSize: 500<br><br>makeRegions: <br>  slop: 250<br>  minCoverage: 0<br>  maxCoverage: 200<br>  maxRegionLength: 100000<br>  minRepeatPeriod: 6<br>  minRepeatLength: 50<br>  functionalRegions: none<br>  genomeBuild: hg38<br>  overlappedFunctionalRegions: false<br>makeCalls: <br>  singleBaseMatchReward: 10<br>  singleBaseMismatchPenalty: 12<br>  gapOpenPenalties: 6,26<br>  gapExtensionPenalties: 1,0<br>  minUnitigMappingQuality: 1<br>filterCalls: <br>  maxIntraClusterDistance: 500<br>  minUnitigMappingQuality: 0<br>  minUnitigBlockLength: 40<br>",
          "filterCalls.minSVSize: 50<br><br>makeRegions: <br>  slop: 250<br>  minCoverage: 0<br>  maxCoverage: 200<br>  maxRegionLength: 100000<br>  minRepeatPeriod: 6<br>  minRepeatLength: 0<br>  functionalRegions: none<br>  genomeBuild: hg38<br>  overlappedFunctionalRegions: false<br>makeCalls: <br>  singleBaseMatchReward: 10<br>  singleBaseMismatchPenalty: 12<br>  gapOpenPenalties: 6,26<br>  gapExtensionPenalties: 1,0<br>  minUnitigMappingQuality: 1<br>filterCalls: <br>  maxIntraClusterDistance: 500<br>  minUnitigMappingQuality: 0<br>  minUnitigBlockLength: 15<br>",
          "filterCalls.minSVSize: 50<br><br>makeRegions: <br>  slop: 250<br>  minCoverage: 0<br>  maxCoverage: 200<br>  maxRegionLength: 100000<br>  minRepeatPeriod: 6<br>  minRepeatLength: 0<br>  functionalRegions: none<br>  genomeBuild: hg38<br>  overlappedFunctionalRegions: false<br>makeCalls: <br>  singleBaseMatchReward: 10<br>  singleBaseMismatchPenalty: 12<br>  gapOpenPenalties: 6,26<br>  gapExtensionPenalties: 1,0<br>  minUnitigMappingQuality: 1<br>filterCalls: <br>  maxIntraClusterDistance: 500<br>  minUnitigMappingQuality: 0<br>  minUnitigBlockLength: 25<br>",
          "filterCalls.minSVSize: 50<br><br>makeRegions: <br>  slop: 250<br>  minCoverage: 0<br>  maxCoverage: 200<br>  maxRegionLength: 100000<br>  minRepeatPeriod: 6<br>  minRepeatLength: 0<br>  functionalRegions: none<br>  genomeBuild: hg38<br>  overlappedFunctionalRegions: false<br>makeCalls: <br>  singleBaseMatchReward: 10<br>  singleBaseMismatchPenalty: 12<br>  gapOpenPenalties: 6,26<br>  gapExtensionPenalties: 1,0<br>  minUnitigMappingQuality: 1<br>filterCalls: <br>  maxIntraClusterDistance: 500<br>  minUnitigMappingQuality: 0<br>  minUnitigBlockLength: 40<br>",
          "filterCalls.minSVSize: 50<br><br>makeRegions: <br>  slop: 250<br>  minCoverage: 0<br>  maxCoverage: 200<br>  maxRegionLength: 100000<br>  minRepeatPeriod: 6<br>  minRepeatLength: 100<br>  functionalRegions: none<br>  genomeBuild: hg38<br>  overlappedFunctionalRegions: false<br>makeCalls: <br>  singleBaseMatchReward: 10<br>  singleBaseMismatchPenalty: 12<br>  gapOpenPenalties: 6,26<br>  gapExtensionPenalties: 1,0<br>  minUnitigMappingQuality: 1<br>filterCalls: <br>  maxIntraClusterDistance: 500<br>  minUnitigMappingQuality: 0<br>  minUnitigBlockLength: 15<br>",
          "filterCalls.minSVSize: 50<br><br>makeRegions: <br>  slop: 250<br>  minCoverage: 0<br>  maxCoverage: 200<br>  maxRegionLength: 100000<br>  minRepeatPeriod: 6<br>  minRepeatLength: 100<br>  functionalRegions: none<br>  genomeBuild: hg38<br>  overlappedFunctionalRegions: false<br>makeCalls: <br>  singleBaseMatchReward: 10<br>  singleBaseMismatchPenalty: 12<br>  gapOpenPenalties: 6,26<br>  gapExtensionPenalties: 1,0<br>  minUnitigMappingQuality: 1<br>filterCalls: <br>  maxIntraClusterDistance: 500<br>  minUnitigMappingQuality: 0<br>  minUnitigBlockLength: 25<br>",
          "filterCalls.minSVSize: 50<br><br>makeRegions: <br>  slop: 250<br>  minCoverage: 0<br>  maxCoverage: 200<br>  maxRegionLength: 100000<br>  minRepeatPeriod: 6<br>  minRepeatLength: 100<br>  functionalRegions: none<br>  genomeBuild: hg38<br>  overlappedFunctionalRegions: false<br>makeCalls: <br>  singleBaseMatchReward: 10<br>  singleBaseMismatchPenalty: 12<br>  gapOpenPenalties: 6,26<br>  gapExtensionPenalties: 1,0<br>  minUnitigMappingQuality: 1<br>filterCalls: <br>  maxIntraClusterDistance: 500<br>  minUnitigMappingQuality: 0<br>  minUnitigBlockLength: 40<br>",
          "filterCalls.minSVSize: 50<br><br>makeRegions: <br>  slop: 250<br>  minCoverage: 0<br>  maxCoverage: 200<br>  maxRegionLength: 100000<br>  minRepeatPeriod: 6<br>  minRepeatLength: 50<br>  functionalRegions: none<br>  genomeBuild: hg38<br>  overlappedFunctionalRegions: false<br>makeCalls: <br>  singleBaseMatchReward: 10<br>  singleBaseMismatchPenalty: 12<br>  gapOpenPenalties: 6,26<br>  gapExtensionPenalties: 1,0<br>  minUnitigMappingQuality: 1<br>filterCalls: <br>  maxIntraClusterDistance: 500<br>  minUnitigMappingQuality: 0<br>  minUnitigBlockLength: 15<br>",
          "filterCalls.minSVSize: 50<br><br>makeRegions: <br>  slop: 250<br>  minCoverage: 0<br>  maxCoverage: 200<br>  maxRegionLength: 100000<br>  minRepeatPeriod: 6<br>  minRepeatLength: 50<br>  functionalRegions: none<br>  genomeBuild: hg38<br>  overlappedFunctionalRegions: false<br>makeCalls: <br>  singleBaseMatchReward: 10<br>  singleBaseMismatchPenalty: 12<br>  gapOpenPenalties: 6,26<br>  gapExtensionPenalties: 1,0<br>  minUnitigMappingQuality: 1<br>filterCalls: <br>  maxIntraClusterDistance: 500<br>  minUnitigMappingQuality: 0<br>  minUnitigBlockLength: 25<br>",
          "filterCalls.minSVSize: 50<br><br>makeRegions: <br>  slop: 250<br>  minCoverage: 0<br>  maxCoverage: 200<br>  maxRegionLength: 100000<br>  minRepeatPeriod: 6<br>  minRepeatLength: 50<br>  functionalRegions: none<br>  genomeBuild: hg38<br>  overlappedFunctionalRegions: false<br>makeCalls: <br>  singleBaseMatchReward: 10<br>  singleBaseMismatchPenalty: 12<br>  gapOpenPenalties: 6,26<br>  gapExtensionPenalties: 1,0<br>  minUnitigMappingQuality: 1<br>filterCalls: <br>  maxIntraClusterDistance: 500<br>  minUnitigMappingQuality: 0<br>  minUnitigBlockLength: 40<br>"
         ],
         "type": "scatter",
         "x": [
          0.0028634361233480176,
          0.0026431718061674008,
          0.0028634361233480176,
          0.0024021138601969735,
          0.002161902474177276,
          0.002161902474177276,
          0.0027347310847766638,
          0.0027347310847766638,
          0.0025068368277119417,
          0,
          0,
          0,
          0,
          0,
          0,
          0,
          0,
          0,
          0.012904050083045867,
          0.013287338699373962,
          0.012392998594608406,
          0.013004980630879912,
          0.012728278915329275,
          0.012728278915329275,
          0.012976799056232795,
          0.01284572027788701,
          0.012976799056232795
         ],
         "y": [
          0.35135135135135137,
          0.35294117647058826,
          0.3611111111111111,
          0.3225806451612903,
          0.3103448275862069,
          0.32142857142857145,
          0.375,
          0.4,
          0.3548387096774194,
          0,
          0,
          0,
          0,
          0,
          0,
          0,
          0,
          0,
          0.5153061224489796,
          0.52,
          0.5271739130434783,
          0.5662650602409639,
          0.5542168674698795,
          0.5542168674698795,
          0.5210526315789473,
          0.5130890052356021,
          0.5294117647058824
         ]
        },
        {
         "hovertemplate": "%{text}",
         "marker": {
          "color": [
           "red",
           "red",
           "red",
           "red",
           "red",
           "red",
           "red",
           "red",
           "red",
           "blue",
           "blue",
           "blue",
           "blue",
           "blue",
           "blue",
           "blue",
           "blue",
           "blue",
           "green",
           "green",
           "green",
           "green",
           "green",
           "green",
           "green",
           "green",
           "green"
          ],
          "line": {
           "color": "black",
           "width": 1
          },
          "size": 10,
          "symbol": "square"
         },
         "mode": "markers",
         "name": "manta",
         "showlegend": false,
         "text": [
          "filterCalls.minSVSize: 100<br><br>makeRegions: <br>  slop: 250<br>  minCoverage: 0<br>  maxCoverage: 200<br>  maxRegionLength: 100000<br>  minRepeatPeriod: 6<br>  minRepeatLength: 0<br>  functionalRegions: none<br>  genomeBuild: hg38<br>  overlappedFunctionalRegions: false<br>makeCalls: <br>  singleBaseMatchReward: 10<br>  singleBaseMismatchPenalty: 12<br>  gapOpenPenalties: 6,26<br>  gapExtensionPenalties: 1,0<br>  minUnitigMappingQuality: 1<br>filterCalls: <br>  maxIntraClusterDistance: 500<br>  minUnitigMappingQuality: 0<br>  minUnitigBlockLength: 15<br>",
          "filterCalls.minSVSize: 100<br><br>makeRegions: <br>  slop: 250<br>  minCoverage: 0<br>  maxCoverage: 200<br>  maxRegionLength: 100000<br>  minRepeatPeriod: 6<br>  minRepeatLength: 0<br>  functionalRegions: none<br>  genomeBuild: hg38<br>  overlappedFunctionalRegions: false<br>makeCalls: <br>  singleBaseMatchReward: 10<br>  singleBaseMismatchPenalty: 12<br>  gapOpenPenalties: 6,26<br>  gapExtensionPenalties: 1,0<br>  minUnitigMappingQuality: 1<br>filterCalls: <br>  maxIntraClusterDistance: 500<br>  minUnitigMappingQuality: 0<br>  minUnitigBlockLength: 25<br>",
          "filterCalls.minSVSize: 100<br><br>makeRegions: <br>  slop: 250<br>  minCoverage: 0<br>  maxCoverage: 200<br>  maxRegionLength: 100000<br>  minRepeatPeriod: 6<br>  minRepeatLength: 0<br>  functionalRegions: none<br>  genomeBuild: hg38<br>  overlappedFunctionalRegions: false<br>makeCalls: <br>  singleBaseMatchReward: 10<br>  singleBaseMismatchPenalty: 12<br>  gapOpenPenalties: 6,26<br>  gapExtensionPenalties: 1,0<br>  minUnitigMappingQuality: 1<br>filterCalls: <br>  maxIntraClusterDistance: 500<br>  minUnitigMappingQuality: 0<br>  minUnitigBlockLength: 40<br>",
          "filterCalls.minSVSize: 100<br><br>makeRegions: <br>  slop: 250<br>  minCoverage: 0<br>  maxCoverage: 200<br>  maxRegionLength: 100000<br>  minRepeatPeriod: 6<br>  minRepeatLength: 100<br>  functionalRegions: none<br>  genomeBuild: hg38<br>  overlappedFunctionalRegions: false<br>makeCalls: <br>  singleBaseMatchReward: 10<br>  singleBaseMismatchPenalty: 12<br>  gapOpenPenalties: 6,26<br>  gapExtensionPenalties: 1,0<br>  minUnitigMappingQuality: 1<br>filterCalls: <br>  maxIntraClusterDistance: 500<br>  minUnitigMappingQuality: 0<br>  minUnitigBlockLength: 15<br>",
          "filterCalls.minSVSize: 100<br><br>makeRegions: <br>  slop: 250<br>  minCoverage: 0<br>  maxCoverage: 200<br>  maxRegionLength: 100000<br>  minRepeatPeriod: 6<br>  minRepeatLength: 100<br>  functionalRegions: none<br>  genomeBuild: hg38<br>  overlappedFunctionalRegions: false<br>makeCalls: <br>  singleBaseMatchReward: 10<br>  singleBaseMismatchPenalty: 12<br>  gapOpenPenalties: 6,26<br>  gapExtensionPenalties: 1,0<br>  minUnitigMappingQuality: 1<br>filterCalls: <br>  maxIntraClusterDistance: 500<br>  minUnitigMappingQuality: 0<br>  minUnitigBlockLength: 25<br>",
          "filterCalls.minSVSize: 100<br><br>makeRegions: <br>  slop: 250<br>  minCoverage: 0<br>  maxCoverage: 200<br>  maxRegionLength: 100000<br>  minRepeatPeriod: 6<br>  minRepeatLength: 100<br>  functionalRegions: none<br>  genomeBuild: hg38<br>  overlappedFunctionalRegions: false<br>makeCalls: <br>  singleBaseMatchReward: 10<br>  singleBaseMismatchPenalty: 12<br>  gapOpenPenalties: 6,26<br>  gapExtensionPenalties: 1,0<br>  minUnitigMappingQuality: 1<br>filterCalls: <br>  maxIntraClusterDistance: 500<br>  minUnitigMappingQuality: 0<br>  minUnitigBlockLength: 40<br>",
          "filterCalls.minSVSize: 100<br><br>makeRegions: <br>  slop: 250<br>  minCoverage: 0<br>  maxCoverage: 200<br>  maxRegionLength: 100000<br>  minRepeatPeriod: 6<br>  minRepeatLength: 50<br>  functionalRegions: none<br>  genomeBuild: hg38<br>  overlappedFunctionalRegions: false<br>makeCalls: <br>  singleBaseMatchReward: 10<br>  singleBaseMismatchPenalty: 12<br>  gapOpenPenalties: 6,26<br>  gapExtensionPenalties: 1,0<br>  minUnitigMappingQuality: 1<br>filterCalls: <br>  maxIntraClusterDistance: 500<br>  minUnitigMappingQuality: 0<br>  minUnitigBlockLength: 15<br>",
          "filterCalls.minSVSize: 100<br><br>makeRegions: <br>  slop: 250<br>  minCoverage: 0<br>  maxCoverage: 200<br>  maxRegionLength: 100000<br>  minRepeatPeriod: 6<br>  minRepeatLength: 50<br>  functionalRegions: none<br>  genomeBuild: hg38<br>  overlappedFunctionalRegions: false<br>makeCalls: <br>  singleBaseMatchReward: 10<br>  singleBaseMismatchPenalty: 12<br>  gapOpenPenalties: 6,26<br>  gapExtensionPenalties: 1,0<br>  minUnitigMappingQuality: 1<br>filterCalls: <br>  maxIntraClusterDistance: 500<br>  minUnitigMappingQuality: 0<br>  minUnitigBlockLength: 25<br>",
          "filterCalls.minSVSize: 100<br><br>makeRegions: <br>  slop: 250<br>  minCoverage: 0<br>  maxCoverage: 200<br>  maxRegionLength: 100000<br>  minRepeatPeriod: 6<br>  minRepeatLength: 50<br>  functionalRegions: none<br>  genomeBuild: hg38<br>  overlappedFunctionalRegions: false<br>makeCalls: <br>  singleBaseMatchReward: 10<br>  singleBaseMismatchPenalty: 12<br>  gapOpenPenalties: 6,26<br>  gapExtensionPenalties: 1,0<br>  minUnitigMappingQuality: 1<br>filterCalls: <br>  maxIntraClusterDistance: 500<br>  minUnitigMappingQuality: 0<br>  minUnitigBlockLength: 40<br>",
          "filterCalls.minSVSize: 500<br><br>makeRegions: <br>  slop: 250<br>  minCoverage: 0<br>  maxCoverage: 200<br>  maxRegionLength: 100000<br>  minRepeatPeriod: 6<br>  minRepeatLength: 0<br>  functionalRegions: none<br>  genomeBuild: hg38<br>  overlappedFunctionalRegions: false<br>makeCalls: <br>  singleBaseMatchReward: 10<br>  singleBaseMismatchPenalty: 12<br>  gapOpenPenalties: 6,26<br>  gapExtensionPenalties: 1,0<br>  minUnitigMappingQuality: 1<br>filterCalls: <br>  maxIntraClusterDistance: 500<br>  minUnitigMappingQuality: 0<br>  minUnitigBlockLength: 15<br>",
          "filterCalls.minSVSize: 500<br><br>makeRegions: <br>  slop: 250<br>  minCoverage: 0<br>  maxCoverage: 200<br>  maxRegionLength: 100000<br>  minRepeatPeriod: 6<br>  minRepeatLength: 0<br>  functionalRegions: none<br>  genomeBuild: hg38<br>  overlappedFunctionalRegions: false<br>makeCalls: <br>  singleBaseMatchReward: 10<br>  singleBaseMismatchPenalty: 12<br>  gapOpenPenalties: 6,26<br>  gapExtensionPenalties: 1,0<br>  minUnitigMappingQuality: 1<br>filterCalls: <br>  maxIntraClusterDistance: 500<br>  minUnitigMappingQuality: 0<br>  minUnitigBlockLength: 25<br>",
          "filterCalls.minSVSize: 500<br><br>makeRegions: <br>  slop: 250<br>  minCoverage: 0<br>  maxCoverage: 200<br>  maxRegionLength: 100000<br>  minRepeatPeriod: 6<br>  minRepeatLength: 0<br>  functionalRegions: none<br>  genomeBuild: hg38<br>  overlappedFunctionalRegions: false<br>makeCalls: <br>  singleBaseMatchReward: 10<br>  singleBaseMismatchPenalty: 12<br>  gapOpenPenalties: 6,26<br>  gapExtensionPenalties: 1,0<br>  minUnitigMappingQuality: 1<br>filterCalls: <br>  maxIntraClusterDistance: 500<br>  minUnitigMappingQuality: 0<br>  minUnitigBlockLength: 40<br>",
          "filterCalls.minSVSize: 500<br><br>makeRegions: <br>  slop: 250<br>  minCoverage: 0<br>  maxCoverage: 200<br>  maxRegionLength: 100000<br>  minRepeatPeriod: 6<br>  minRepeatLength: 100<br>  functionalRegions: none<br>  genomeBuild: hg38<br>  overlappedFunctionalRegions: false<br>makeCalls: <br>  singleBaseMatchReward: 10<br>  singleBaseMismatchPenalty: 12<br>  gapOpenPenalties: 6,26<br>  gapExtensionPenalties: 1,0<br>  minUnitigMappingQuality: 1<br>filterCalls: <br>  maxIntraClusterDistance: 500<br>  minUnitigMappingQuality: 0<br>  minUnitigBlockLength: 15<br>",
          "filterCalls.minSVSize: 500<br><br>makeRegions: <br>  slop: 250<br>  minCoverage: 0<br>  maxCoverage: 200<br>  maxRegionLength: 100000<br>  minRepeatPeriod: 6<br>  minRepeatLength: 100<br>  functionalRegions: none<br>  genomeBuild: hg38<br>  overlappedFunctionalRegions: false<br>makeCalls: <br>  singleBaseMatchReward: 10<br>  singleBaseMismatchPenalty: 12<br>  gapOpenPenalties: 6,26<br>  gapExtensionPenalties: 1,0<br>  minUnitigMappingQuality: 1<br>filterCalls: <br>  maxIntraClusterDistance: 500<br>  minUnitigMappingQuality: 0<br>  minUnitigBlockLength: 25<br>",
          "filterCalls.minSVSize: 500<br><br>makeRegions: <br>  slop: 250<br>  minCoverage: 0<br>  maxCoverage: 200<br>  maxRegionLength: 100000<br>  minRepeatPeriod: 6<br>  minRepeatLength: 100<br>  functionalRegions: none<br>  genomeBuild: hg38<br>  overlappedFunctionalRegions: false<br>makeCalls: <br>  singleBaseMatchReward: 10<br>  singleBaseMismatchPenalty: 12<br>  gapOpenPenalties: 6,26<br>  gapExtensionPenalties: 1,0<br>  minUnitigMappingQuality: 1<br>filterCalls: <br>  maxIntraClusterDistance: 500<br>  minUnitigMappingQuality: 0<br>  minUnitigBlockLength: 40<br>",
          "filterCalls.minSVSize: 500<br><br>makeRegions: <br>  slop: 250<br>  minCoverage: 0<br>  maxCoverage: 200<br>  maxRegionLength: 100000<br>  minRepeatPeriod: 6<br>  minRepeatLength: 50<br>  functionalRegions: none<br>  genomeBuild: hg38<br>  overlappedFunctionalRegions: false<br>makeCalls: <br>  singleBaseMatchReward: 10<br>  singleBaseMismatchPenalty: 12<br>  gapOpenPenalties: 6,26<br>  gapExtensionPenalties: 1,0<br>  minUnitigMappingQuality: 1<br>filterCalls: <br>  maxIntraClusterDistance: 500<br>  minUnitigMappingQuality: 0<br>  minUnitigBlockLength: 15<br>",
          "filterCalls.minSVSize: 500<br><br>makeRegions: <br>  slop: 250<br>  minCoverage: 0<br>  maxCoverage: 200<br>  maxRegionLength: 100000<br>  minRepeatPeriod: 6<br>  minRepeatLength: 50<br>  functionalRegions: none<br>  genomeBuild: hg38<br>  overlappedFunctionalRegions: false<br>makeCalls: <br>  singleBaseMatchReward: 10<br>  singleBaseMismatchPenalty: 12<br>  gapOpenPenalties: 6,26<br>  gapExtensionPenalties: 1,0<br>  minUnitigMappingQuality: 1<br>filterCalls: <br>  maxIntraClusterDistance: 500<br>  minUnitigMappingQuality: 0<br>  minUnitigBlockLength: 25<br>",
          "filterCalls.minSVSize: 500<br><br>makeRegions: <br>  slop: 250<br>  minCoverage: 0<br>  maxCoverage: 200<br>  maxRegionLength: 100000<br>  minRepeatPeriod: 6<br>  minRepeatLength: 50<br>  functionalRegions: none<br>  genomeBuild: hg38<br>  overlappedFunctionalRegions: false<br>makeCalls: <br>  singleBaseMatchReward: 10<br>  singleBaseMismatchPenalty: 12<br>  gapOpenPenalties: 6,26<br>  gapExtensionPenalties: 1,0<br>  minUnitigMappingQuality: 1<br>filterCalls: <br>  maxIntraClusterDistance: 500<br>  minUnitigMappingQuality: 0<br>  minUnitigBlockLength: 40<br>",
          "filterCalls.minSVSize: 50<br><br>makeRegions: <br>  slop: 250<br>  minCoverage: 0<br>  maxCoverage: 200<br>  maxRegionLength: 100000<br>  minRepeatPeriod: 6<br>  minRepeatLength: 0<br>  functionalRegions: none<br>  genomeBuild: hg38<br>  overlappedFunctionalRegions: false<br>makeCalls: <br>  singleBaseMatchReward: 10<br>  singleBaseMismatchPenalty: 12<br>  gapOpenPenalties: 6,26<br>  gapExtensionPenalties: 1,0<br>  minUnitigMappingQuality: 1<br>filterCalls: <br>  maxIntraClusterDistance: 500<br>  minUnitigMappingQuality: 0<br>  minUnitigBlockLength: 15<br>",
          "filterCalls.minSVSize: 50<br><br>makeRegions: <br>  slop: 250<br>  minCoverage: 0<br>  maxCoverage: 200<br>  maxRegionLength: 100000<br>  minRepeatPeriod: 6<br>  minRepeatLength: 0<br>  functionalRegions: none<br>  genomeBuild: hg38<br>  overlappedFunctionalRegions: false<br>makeCalls: <br>  singleBaseMatchReward: 10<br>  singleBaseMismatchPenalty: 12<br>  gapOpenPenalties: 6,26<br>  gapExtensionPenalties: 1,0<br>  minUnitigMappingQuality: 1<br>filterCalls: <br>  maxIntraClusterDistance: 500<br>  minUnitigMappingQuality: 0<br>  minUnitigBlockLength: 25<br>",
          "filterCalls.minSVSize: 50<br><br>makeRegions: <br>  slop: 250<br>  minCoverage: 0<br>  maxCoverage: 200<br>  maxRegionLength: 100000<br>  minRepeatPeriod: 6<br>  minRepeatLength: 0<br>  functionalRegions: none<br>  genomeBuild: hg38<br>  overlappedFunctionalRegions: false<br>makeCalls: <br>  singleBaseMatchReward: 10<br>  singleBaseMismatchPenalty: 12<br>  gapOpenPenalties: 6,26<br>  gapExtensionPenalties: 1,0<br>  minUnitigMappingQuality: 1<br>filterCalls: <br>  maxIntraClusterDistance: 500<br>  minUnitigMappingQuality: 0<br>  minUnitigBlockLength: 40<br>",
          "filterCalls.minSVSize: 50<br><br>makeRegions: <br>  slop: 250<br>  minCoverage: 0<br>  maxCoverage: 200<br>  maxRegionLength: 100000<br>  minRepeatPeriod: 6<br>  minRepeatLength: 100<br>  functionalRegions: none<br>  genomeBuild: hg38<br>  overlappedFunctionalRegions: false<br>makeCalls: <br>  singleBaseMatchReward: 10<br>  singleBaseMismatchPenalty: 12<br>  gapOpenPenalties: 6,26<br>  gapExtensionPenalties: 1,0<br>  minUnitigMappingQuality: 1<br>filterCalls: <br>  maxIntraClusterDistance: 500<br>  minUnitigMappingQuality: 0<br>  minUnitigBlockLength: 15<br>",
          "filterCalls.minSVSize: 50<br><br>makeRegions: <br>  slop: 250<br>  minCoverage: 0<br>  maxCoverage: 200<br>  maxRegionLength: 100000<br>  minRepeatPeriod: 6<br>  minRepeatLength: 100<br>  functionalRegions: none<br>  genomeBuild: hg38<br>  overlappedFunctionalRegions: false<br>makeCalls: <br>  singleBaseMatchReward: 10<br>  singleBaseMismatchPenalty: 12<br>  gapOpenPenalties: 6,26<br>  gapExtensionPenalties: 1,0<br>  minUnitigMappingQuality: 1<br>filterCalls: <br>  maxIntraClusterDistance: 500<br>  minUnitigMappingQuality: 0<br>  minUnitigBlockLength: 25<br>",
          "filterCalls.minSVSize: 50<br><br>makeRegions: <br>  slop: 250<br>  minCoverage: 0<br>  maxCoverage: 200<br>  maxRegionLength: 100000<br>  minRepeatPeriod: 6<br>  minRepeatLength: 100<br>  functionalRegions: none<br>  genomeBuild: hg38<br>  overlappedFunctionalRegions: false<br>makeCalls: <br>  singleBaseMatchReward: 10<br>  singleBaseMismatchPenalty: 12<br>  gapOpenPenalties: 6,26<br>  gapExtensionPenalties: 1,0<br>  minUnitigMappingQuality: 1<br>filterCalls: <br>  maxIntraClusterDistance: 500<br>  minUnitigMappingQuality: 0<br>  minUnitigBlockLength: 40<br>",
          "filterCalls.minSVSize: 50<br><br>makeRegions: <br>  slop: 250<br>  minCoverage: 0<br>  maxCoverage: 200<br>  maxRegionLength: 100000<br>  minRepeatPeriod: 6<br>  minRepeatLength: 50<br>  functionalRegions: none<br>  genomeBuild: hg38<br>  overlappedFunctionalRegions: false<br>makeCalls: <br>  singleBaseMatchReward: 10<br>  singleBaseMismatchPenalty: 12<br>  gapOpenPenalties: 6,26<br>  gapExtensionPenalties: 1,0<br>  minUnitigMappingQuality: 1<br>filterCalls: <br>  maxIntraClusterDistance: 500<br>  minUnitigMappingQuality: 0<br>  minUnitigBlockLength: 15<br>",
          "filterCalls.minSVSize: 50<br><br>makeRegions: <br>  slop: 250<br>  minCoverage: 0<br>  maxCoverage: 200<br>  maxRegionLength: 100000<br>  minRepeatPeriod: 6<br>  minRepeatLength: 50<br>  functionalRegions: none<br>  genomeBuild: hg38<br>  overlappedFunctionalRegions: false<br>makeCalls: <br>  singleBaseMatchReward: 10<br>  singleBaseMismatchPenalty: 12<br>  gapOpenPenalties: 6,26<br>  gapExtensionPenalties: 1,0<br>  minUnitigMappingQuality: 1<br>filterCalls: <br>  maxIntraClusterDistance: 500<br>  minUnitigMappingQuality: 0<br>  minUnitigBlockLength: 25<br>",
          "filterCalls.minSVSize: 50<br><br>makeRegions: <br>  slop: 250<br>  minCoverage: 0<br>  maxCoverage: 200<br>  maxRegionLength: 100000<br>  minRepeatPeriod: 6<br>  minRepeatLength: 50<br>  functionalRegions: none<br>  genomeBuild: hg38<br>  overlappedFunctionalRegions: false<br>makeCalls: <br>  singleBaseMatchReward: 10<br>  singleBaseMismatchPenalty: 12<br>  gapOpenPenalties: 6,26<br>  gapExtensionPenalties: 1,0<br>  minUnitigMappingQuality: 1<br>filterCalls: <br>  maxIntraClusterDistance: 500<br>  minUnitigMappingQuality: 0<br>  minUnitigBlockLength: 40<br>"
         ],
         "type": "scatter",
         "x": [
          0.02488986784140969,
          0.02488986784140969,
          0.02488986784140969,
          0.025942829690127314,
          0.025942829690127314,
          0.025942829690127314,
          0.025979945305378303,
          0.025979945305378303,
          0.025979945305378303,
          0.0035294117647058825,
          0.0035294117647058825,
          0.0035294117647058825,
          0.004010695187165776,
          0.004010695187165776,
          0.004010695187165776,
          0.0037174721189591076,
          0.0037174721189591076,
          0.0037174721189591076,
          0.04663344831991823,
          0.04663344831991823,
          0.04663344831991823,
          0.04247371333702269,
          0.04247371333702269,
          0.04247371333702269,
          0.046139729977716606,
          0.046139729977716606,
          0.046139729977716606
         ],
         "y": [
          0.3095890410958904,
          0.3095890410958904,
          0.3095890410958904,
          0.3176470588235294,
          0.3176470588235294,
          0.3176470588235294,
          0.3149171270718232,
          0.3149171270718232,
          0.3149171270718232,
          0.3333333333333333,
          0.3333333333333333,
          0.3333333333333333,
          0.2727272727272727,
          0.2727272727272727,
          0.2727272727272727,
          0.3333333333333333,
          0.3333333333333333,
          0.3333333333333333,
          0.3916309012875536,
          0.3916309012875536,
          0.3916309012875536,
          0.40878828229027964,
          0.40878828229027964,
          0.40878828229027964,
          0.39461883408071746,
          0.39461883408071746,
          0.39461883408071746
         ]
        },
        {
         "marker": {
          "color": "white",
          "line": {
           "color": "black",
           "width": 1
          },
          "size": 10,
          "symbol": "circle"
         },
         "mode": "markers",
         "name": "trfermikit",
         "type": "scatter",
         "y": [
          null
         ]
        },
        {
         "marker": {
          "color": "white",
          "line": {
           "color": "black",
           "width": 1
          },
          "size": 10,
          "symbol": "square"
         },
         "mode": "markers",
         "name": "manta",
         "type": "scatter",
         "y": [
          null
         ]
        },
        {
         "marker": {
          "color": "green",
          "size": 10,
          "symbol": "circle"
         },
         "mode": "markers",
         "name": "minSVSize=50",
         "type": "scatter",
         "y": [
          null
         ]
        },
        {
         "marker": {
          "color": "red",
          "size": 10,
          "symbol": "circle"
         },
         "mode": "markers",
         "name": "minSVSize=100",
         "type": "scatter",
         "y": [
          null
         ]
        },
        {
         "marker": {
          "color": "blue",
          "size": 10,
          "symbol": "circle"
         },
         "mode": "markers",
         "name": "minSVSize=500",
         "type": "scatter",
         "y": [
          null
         ]
        }
       ],
       "layout": {
        "template": {
         "data": {
          "bar": [
           {
            "error_x": {
             "color": "#2a3f5f"
            },
            "error_y": {
             "color": "#2a3f5f"
            },
            "marker": {
             "line": {
              "color": "#E5ECF6",
              "width": 0.5
             }
            },
            "type": "bar"
           }
          ],
          "barpolar": [
           {
            "marker": {
             "line": {
              "color": "#E5ECF6",
              "width": 0.5
             }
            },
            "type": "barpolar"
           }
          ],
          "carpet": [
           {
            "aaxis": {
             "endlinecolor": "#2a3f5f",
             "gridcolor": "white",
             "linecolor": "white",
             "minorgridcolor": "white",
             "startlinecolor": "#2a3f5f"
            },
            "baxis": {
             "endlinecolor": "#2a3f5f",
             "gridcolor": "white",
             "linecolor": "white",
             "minorgridcolor": "white",
             "startlinecolor": "#2a3f5f"
            },
            "type": "carpet"
           }
          ],
          "choropleth": [
           {
            "colorbar": {
             "outlinewidth": 0,
             "ticks": ""
            },
            "type": "choropleth"
           }
          ],
          "contour": [
           {
            "colorbar": {
             "outlinewidth": 0,
             "ticks": ""
            },
            "colorscale": [
             [
              0,
              "#0d0887"
             ],
             [
              0.1111111111111111,
              "#46039f"
             ],
             [
              0.2222222222222222,
              "#7201a8"
             ],
             [
              0.3333333333333333,
              "#9c179e"
             ],
             [
              0.4444444444444444,
              "#bd3786"
             ],
             [
              0.5555555555555556,
              "#d8576b"
             ],
             [
              0.6666666666666666,
              "#ed7953"
             ],
             [
              0.7777777777777778,
              "#fb9f3a"
             ],
             [
              0.8888888888888888,
              "#fdca26"
             ],
             [
              1,
              "#f0f921"
             ]
            ],
            "type": "contour"
           }
          ],
          "contourcarpet": [
           {
            "colorbar": {
             "outlinewidth": 0,
             "ticks": ""
            },
            "type": "contourcarpet"
           }
          ],
          "heatmap": [
           {
            "colorbar": {
             "outlinewidth": 0,
             "ticks": ""
            },
            "colorscale": [
             [
              0,
              "#0d0887"
             ],
             [
              0.1111111111111111,
              "#46039f"
             ],
             [
              0.2222222222222222,
              "#7201a8"
             ],
             [
              0.3333333333333333,
              "#9c179e"
             ],
             [
              0.4444444444444444,
              "#bd3786"
             ],
             [
              0.5555555555555556,
              "#d8576b"
             ],
             [
              0.6666666666666666,
              "#ed7953"
             ],
             [
              0.7777777777777778,
              "#fb9f3a"
             ],
             [
              0.8888888888888888,
              "#fdca26"
             ],
             [
              1,
              "#f0f921"
             ]
            ],
            "type": "heatmap"
           }
          ],
          "heatmapgl": [
           {
            "colorbar": {
             "outlinewidth": 0,
             "ticks": ""
            },
            "colorscale": [
             [
              0,
              "#0d0887"
             ],
             [
              0.1111111111111111,
              "#46039f"
             ],
             [
              0.2222222222222222,
              "#7201a8"
             ],
             [
              0.3333333333333333,
              "#9c179e"
             ],
             [
              0.4444444444444444,
              "#bd3786"
             ],
             [
              0.5555555555555556,
              "#d8576b"
             ],
             [
              0.6666666666666666,
              "#ed7953"
             ],
             [
              0.7777777777777778,
              "#fb9f3a"
             ],
             [
              0.8888888888888888,
              "#fdca26"
             ],
             [
              1,
              "#f0f921"
             ]
            ],
            "type": "heatmapgl"
           }
          ],
          "histogram": [
           {
            "marker": {
             "colorbar": {
              "outlinewidth": 0,
              "ticks": ""
             }
            },
            "type": "histogram"
           }
          ],
          "histogram2d": [
           {
            "colorbar": {
             "outlinewidth": 0,
             "ticks": ""
            },
            "colorscale": [
             [
              0,
              "#0d0887"
             ],
             [
              0.1111111111111111,
              "#46039f"
             ],
             [
              0.2222222222222222,
              "#7201a8"
             ],
             [
              0.3333333333333333,
              "#9c179e"
             ],
             [
              0.4444444444444444,
              "#bd3786"
             ],
             [
              0.5555555555555556,
              "#d8576b"
             ],
             [
              0.6666666666666666,
              "#ed7953"
             ],
             [
              0.7777777777777778,
              "#fb9f3a"
             ],
             [
              0.8888888888888888,
              "#fdca26"
             ],
             [
              1,
              "#f0f921"
             ]
            ],
            "type": "histogram2d"
           }
          ],
          "histogram2dcontour": [
           {
            "colorbar": {
             "outlinewidth": 0,
             "ticks": ""
            },
            "colorscale": [
             [
              0,
              "#0d0887"
             ],
             [
              0.1111111111111111,
              "#46039f"
             ],
             [
              0.2222222222222222,
              "#7201a8"
             ],
             [
              0.3333333333333333,
              "#9c179e"
             ],
             [
              0.4444444444444444,
              "#bd3786"
             ],
             [
              0.5555555555555556,
              "#d8576b"
             ],
             [
              0.6666666666666666,
              "#ed7953"
             ],
             [
              0.7777777777777778,
              "#fb9f3a"
             ],
             [
              0.8888888888888888,
              "#fdca26"
             ],
             [
              1,
              "#f0f921"
             ]
            ],
            "type": "histogram2dcontour"
           }
          ],
          "mesh3d": [
           {
            "colorbar": {
             "outlinewidth": 0,
             "ticks": ""
            },
            "type": "mesh3d"
           }
          ],
          "parcoords": [
           {
            "line": {
             "colorbar": {
              "outlinewidth": 0,
              "ticks": ""
             }
            },
            "type": "parcoords"
           }
          ],
          "pie": [
           {
            "automargin": true,
            "type": "pie"
           }
          ],
          "scatter": [
           {
            "marker": {
             "colorbar": {
              "outlinewidth": 0,
              "ticks": ""
             }
            },
            "type": "scatter"
           }
          ],
          "scatter3d": [
           {
            "line": {
             "colorbar": {
              "outlinewidth": 0,
              "ticks": ""
             }
            },
            "marker": {
             "colorbar": {
              "outlinewidth": 0,
              "ticks": ""
             }
            },
            "type": "scatter3d"
           }
          ],
          "scattercarpet": [
           {
            "marker": {
             "colorbar": {
              "outlinewidth": 0,
              "ticks": ""
             }
            },
            "type": "scattercarpet"
           }
          ],
          "scattergeo": [
           {
            "marker": {
             "colorbar": {
              "outlinewidth": 0,
              "ticks": ""
             }
            },
            "type": "scattergeo"
           }
          ],
          "scattergl": [
           {
            "marker": {
             "colorbar": {
              "outlinewidth": 0,
              "ticks": ""
             }
            },
            "type": "scattergl"
           }
          ],
          "scattermapbox": [
           {
            "marker": {
             "colorbar": {
              "outlinewidth": 0,
              "ticks": ""
             }
            },
            "type": "scattermapbox"
           }
          ],
          "scatterpolar": [
           {
            "marker": {
             "colorbar": {
              "outlinewidth": 0,
              "ticks": ""
             }
            },
            "type": "scatterpolar"
           }
          ],
          "scatterpolargl": [
           {
            "marker": {
             "colorbar": {
              "outlinewidth": 0,
              "ticks": ""
             }
            },
            "type": "scatterpolargl"
           }
          ],
          "scatterternary": [
           {
            "marker": {
             "colorbar": {
              "outlinewidth": 0,
              "ticks": ""
             }
            },
            "type": "scatterternary"
           }
          ],
          "surface": [
           {
            "colorbar": {
             "outlinewidth": 0,
             "ticks": ""
            },
            "colorscale": [
             [
              0,
              "#0d0887"
             ],
             [
              0.1111111111111111,
              "#46039f"
             ],
             [
              0.2222222222222222,
              "#7201a8"
             ],
             [
              0.3333333333333333,
              "#9c179e"
             ],
             [
              0.4444444444444444,
              "#bd3786"
             ],
             [
              0.5555555555555556,
              "#d8576b"
             ],
             [
              0.6666666666666666,
              "#ed7953"
             ],
             [
              0.7777777777777778,
              "#fb9f3a"
             ],
             [
              0.8888888888888888,
              "#fdca26"
             ],
             [
              1,
              "#f0f921"
             ]
            ],
            "type": "surface"
           }
          ],
          "table": [
           {
            "cells": {
             "fill": {
              "color": "#EBF0F8"
             },
             "line": {
              "color": "white"
             }
            },
            "header": {
             "fill": {
              "color": "#C8D4E3"
             },
             "line": {
              "color": "white"
             }
            },
            "type": "table"
           }
          ]
         },
         "layout": {
          "annotationdefaults": {
           "arrowcolor": "#2a3f5f",
           "arrowhead": 0,
           "arrowwidth": 1
          },
          "autotypenumbers": "strict",
          "coloraxis": {
           "colorbar": {
            "outlinewidth": 0,
            "ticks": ""
           }
          },
          "colorscale": {
           "diverging": [
            [
             0,
             "#8e0152"
            ],
            [
             0.1,
             "#c51b7d"
            ],
            [
             0.2,
             "#de77ae"
            ],
            [
             0.3,
             "#f1b6da"
            ],
            [
             0.4,
             "#fde0ef"
            ],
            [
             0.5,
             "#f7f7f7"
            ],
            [
             0.6,
             "#e6f5d0"
            ],
            [
             0.7,
             "#b8e186"
            ],
            [
             0.8,
             "#7fbc41"
            ],
            [
             0.9,
             "#4d9221"
            ],
            [
             1,
             "#276419"
            ]
           ],
           "sequential": [
            [
             0,
             "#0d0887"
            ],
            [
             0.1111111111111111,
             "#46039f"
            ],
            [
             0.2222222222222222,
             "#7201a8"
            ],
            [
             0.3333333333333333,
             "#9c179e"
            ],
            [
             0.4444444444444444,
             "#bd3786"
            ],
            [
             0.5555555555555556,
             "#d8576b"
            ],
            [
             0.6666666666666666,
             "#ed7953"
            ],
            [
             0.7777777777777778,
             "#fb9f3a"
            ],
            [
             0.8888888888888888,
             "#fdca26"
            ],
            [
             1,
             "#f0f921"
            ]
           ],
           "sequentialminus": [
            [
             0,
             "#0d0887"
            ],
            [
             0.1111111111111111,
             "#46039f"
            ],
            [
             0.2222222222222222,
             "#7201a8"
            ],
            [
             0.3333333333333333,
             "#9c179e"
            ],
            [
             0.4444444444444444,
             "#bd3786"
            ],
            [
             0.5555555555555556,
             "#d8576b"
            ],
            [
             0.6666666666666666,
             "#ed7953"
            ],
            [
             0.7777777777777778,
             "#fb9f3a"
            ],
            [
             0.8888888888888888,
             "#fdca26"
            ],
            [
             1,
             "#f0f921"
            ]
           ]
          },
          "colorway": [
           "#636efa",
           "#EF553B",
           "#00cc96",
           "#ab63fa",
           "#FFA15A",
           "#19d3f3",
           "#FF6692",
           "#B6E880",
           "#FF97FF",
           "#FECB52"
          ],
          "font": {
           "color": "#2a3f5f"
          },
          "geo": {
           "bgcolor": "white",
           "lakecolor": "white",
           "landcolor": "#E5ECF6",
           "showlakes": true,
           "showland": true,
           "subunitcolor": "white"
          },
          "hoverlabel": {
           "align": "left"
          },
          "hovermode": "closest",
          "mapbox": {
           "style": "light"
          },
          "paper_bgcolor": "white",
          "plot_bgcolor": "#E5ECF6",
          "polar": {
           "angularaxis": {
            "gridcolor": "white",
            "linecolor": "white",
            "ticks": ""
           },
           "bgcolor": "#E5ECF6",
           "radialaxis": {
            "gridcolor": "white",
            "linecolor": "white",
            "ticks": ""
           }
          },
          "scene": {
           "xaxis": {
            "backgroundcolor": "#E5ECF6",
            "gridcolor": "white",
            "gridwidth": 2,
            "linecolor": "white",
            "showbackground": true,
            "ticks": "",
            "zerolinecolor": "white"
           },
           "yaxis": {
            "backgroundcolor": "#E5ECF6",
            "gridcolor": "white",
            "gridwidth": 2,
            "linecolor": "white",
            "showbackground": true,
            "ticks": "",
            "zerolinecolor": "white"
           },
           "zaxis": {
            "backgroundcolor": "#E5ECF6",
            "gridcolor": "white",
            "gridwidth": 2,
            "linecolor": "white",
            "showbackground": true,
            "ticks": "",
            "zerolinecolor": "white"
           }
          },
          "shapedefaults": {
           "line": {
            "color": "#2a3f5f"
           }
          },
          "ternary": {
           "aaxis": {
            "gridcolor": "white",
            "linecolor": "white",
            "ticks": ""
           },
           "baxis": {
            "gridcolor": "white",
            "linecolor": "white",
            "ticks": ""
           },
           "bgcolor": "#E5ECF6",
           "caxis": {
            "gridcolor": "white",
            "linecolor": "white",
            "ticks": ""
           }
          },
          "title": {
           "x": 0.05
          },
          "xaxis": {
           "automargin": true,
           "gridcolor": "white",
           "linecolor": "white",
           "ticks": "",
           "title": {
            "standoff": 15
           },
           "zerolinecolor": "white",
           "zerolinewidth": 2
          },
          "yaxis": {
           "automargin": true,
           "gridcolor": "white",
           "linecolor": "white",
           "ticks": "",
           "title": {
            "standoff": 15
           },
           "zerolinecolor": "white",
           "zerolinewidth": 2
          }
         }
        },
        "title": {
         "text": "INS<br>",
         "x": 0.5,
         "y": 0.9
        },
        "xaxis": {
         "title": {
          "text": "recall"
         }
        },
        "yaxis": {
         "title": {
          "text": "precision"
         }
        }
       }
      },
      "text/html": [
       "<div>                            <div id=\"75df0795-ebc2-43ea-83a6-01044b6f6c6e\" class=\"plotly-graph-div\" style=\"height:525px; width:100%;\"></div>            <script type=\"text/javascript\">                require([\"plotly\"], function(Plotly) {                    window.PLOTLYENV=window.PLOTLYENV || {};                                    if (document.getElementById(\"75df0795-ebc2-43ea-83a6-01044b6f6c6e\")) {                    Plotly.newPlot(                        \"75df0795-ebc2-43ea-83a6-01044b6f6c6e\",                        [{\"hovertemplate\": \"%{text}\", \"marker\": {\"color\": [\"red\", \"red\", \"red\", \"red\", \"red\", \"red\", \"red\", \"red\", \"red\", \"blue\", \"blue\", \"blue\", \"blue\", \"blue\", \"blue\", \"blue\", \"blue\", \"blue\", \"green\", \"green\", \"green\", \"green\", \"green\", \"green\", \"green\", \"green\", \"green\"], \"line\": {\"color\": \"black\", \"width\": 1}, \"size\": 10, \"symbol\": \"circle\"}, \"mode\": \"markers\", \"name\": \"trfermikit\", \"showlegend\": false, \"text\": [\"filterCalls.minSVSize: 100<br><br>makeRegions: <br>  slop: 250<br>  minCoverage: 0<br>  maxCoverage: 200<br>  maxRegionLength: 100000<br>  minRepeatPeriod: 6<br>  minRepeatLength: 0<br>  functionalRegions: none<br>  genomeBuild: hg38<br>  overlappedFunctionalRegions: false<br>makeCalls: <br>  singleBaseMatchReward: 10<br>  singleBaseMismatchPenalty: 12<br>  gapOpenPenalties: 6,26<br>  gapExtensionPenalties: 1,0<br>  minUnitigMappingQuality: 1<br>filterCalls: <br>  maxIntraClusterDistance: 500<br>  minUnitigMappingQuality: 0<br>  minUnitigBlockLength: 15<br>\", \"filterCalls.minSVSize: 100<br><br>makeRegions: <br>  slop: 250<br>  minCoverage: 0<br>  maxCoverage: 200<br>  maxRegionLength: 100000<br>  minRepeatPeriod: 6<br>  minRepeatLength: 0<br>  functionalRegions: none<br>  genomeBuild: hg38<br>  overlappedFunctionalRegions: false<br>makeCalls: <br>  singleBaseMatchReward: 10<br>  singleBaseMismatchPenalty: 12<br>  gapOpenPenalties: 6,26<br>  gapExtensionPenalties: 1,0<br>  minUnitigMappingQuality: 1<br>filterCalls: <br>  maxIntraClusterDistance: 500<br>  minUnitigMappingQuality: 0<br>  minUnitigBlockLength: 25<br>\", \"filterCalls.minSVSize: 100<br><br>makeRegions: <br>  slop: 250<br>  minCoverage: 0<br>  maxCoverage: 200<br>  maxRegionLength: 100000<br>  minRepeatPeriod: 6<br>  minRepeatLength: 0<br>  functionalRegions: none<br>  genomeBuild: hg38<br>  overlappedFunctionalRegions: false<br>makeCalls: <br>  singleBaseMatchReward: 10<br>  singleBaseMismatchPenalty: 12<br>  gapOpenPenalties: 6,26<br>  gapExtensionPenalties: 1,0<br>  minUnitigMappingQuality: 1<br>filterCalls: <br>  maxIntraClusterDistance: 500<br>  minUnitigMappingQuality: 0<br>  minUnitigBlockLength: 40<br>\", \"filterCalls.minSVSize: 100<br><br>makeRegions: <br>  slop: 250<br>  minCoverage: 0<br>  maxCoverage: 200<br>  maxRegionLength: 100000<br>  minRepeatPeriod: 6<br>  minRepeatLength: 100<br>  functionalRegions: none<br>  genomeBuild: hg38<br>  overlappedFunctionalRegions: false<br>makeCalls: <br>  singleBaseMatchReward: 10<br>  singleBaseMismatchPenalty: 12<br>  gapOpenPenalties: 6,26<br>  gapExtensionPenalties: 1,0<br>  minUnitigMappingQuality: 1<br>filterCalls: <br>  maxIntraClusterDistance: 500<br>  minUnitigMappingQuality: 0<br>  minUnitigBlockLength: 15<br>\", \"filterCalls.minSVSize: 100<br><br>makeRegions: <br>  slop: 250<br>  minCoverage: 0<br>  maxCoverage: 200<br>  maxRegionLength: 100000<br>  minRepeatPeriod: 6<br>  minRepeatLength: 100<br>  functionalRegions: none<br>  genomeBuild: hg38<br>  overlappedFunctionalRegions: false<br>makeCalls: <br>  singleBaseMatchReward: 10<br>  singleBaseMismatchPenalty: 12<br>  gapOpenPenalties: 6,26<br>  gapExtensionPenalties: 1,0<br>  minUnitigMappingQuality: 1<br>filterCalls: <br>  maxIntraClusterDistance: 500<br>  minUnitigMappingQuality: 0<br>  minUnitigBlockLength: 25<br>\", \"filterCalls.minSVSize: 100<br><br>makeRegions: <br>  slop: 250<br>  minCoverage: 0<br>  maxCoverage: 200<br>  maxRegionLength: 100000<br>  minRepeatPeriod: 6<br>  minRepeatLength: 100<br>  functionalRegions: none<br>  genomeBuild: hg38<br>  overlappedFunctionalRegions: false<br>makeCalls: <br>  singleBaseMatchReward: 10<br>  singleBaseMismatchPenalty: 12<br>  gapOpenPenalties: 6,26<br>  gapExtensionPenalties: 1,0<br>  minUnitigMappingQuality: 1<br>filterCalls: <br>  maxIntraClusterDistance: 500<br>  minUnitigMappingQuality: 0<br>  minUnitigBlockLength: 40<br>\", \"filterCalls.minSVSize: 100<br><br>makeRegions: <br>  slop: 250<br>  minCoverage: 0<br>  maxCoverage: 200<br>  maxRegionLength: 100000<br>  minRepeatPeriod: 6<br>  minRepeatLength: 50<br>  functionalRegions: none<br>  genomeBuild: hg38<br>  overlappedFunctionalRegions: false<br>makeCalls: <br>  singleBaseMatchReward: 10<br>  singleBaseMismatchPenalty: 12<br>  gapOpenPenalties: 6,26<br>  gapExtensionPenalties: 1,0<br>  minUnitigMappingQuality: 1<br>filterCalls: <br>  maxIntraClusterDistance: 500<br>  minUnitigMappingQuality: 0<br>  minUnitigBlockLength: 15<br>\", \"filterCalls.minSVSize: 100<br><br>makeRegions: <br>  slop: 250<br>  minCoverage: 0<br>  maxCoverage: 200<br>  maxRegionLength: 100000<br>  minRepeatPeriod: 6<br>  minRepeatLength: 50<br>  functionalRegions: none<br>  genomeBuild: hg38<br>  overlappedFunctionalRegions: false<br>makeCalls: <br>  singleBaseMatchReward: 10<br>  singleBaseMismatchPenalty: 12<br>  gapOpenPenalties: 6,26<br>  gapExtensionPenalties: 1,0<br>  minUnitigMappingQuality: 1<br>filterCalls: <br>  maxIntraClusterDistance: 500<br>  minUnitigMappingQuality: 0<br>  minUnitigBlockLength: 25<br>\", \"filterCalls.minSVSize: 100<br><br>makeRegions: <br>  slop: 250<br>  minCoverage: 0<br>  maxCoverage: 200<br>  maxRegionLength: 100000<br>  minRepeatPeriod: 6<br>  minRepeatLength: 50<br>  functionalRegions: none<br>  genomeBuild: hg38<br>  overlappedFunctionalRegions: false<br>makeCalls: <br>  singleBaseMatchReward: 10<br>  singleBaseMismatchPenalty: 12<br>  gapOpenPenalties: 6,26<br>  gapExtensionPenalties: 1,0<br>  minUnitigMappingQuality: 1<br>filterCalls: <br>  maxIntraClusterDistance: 500<br>  minUnitigMappingQuality: 0<br>  minUnitigBlockLength: 40<br>\", \"filterCalls.minSVSize: 500<br><br>makeRegions: <br>  slop: 250<br>  minCoverage: 0<br>  maxCoverage: 200<br>  maxRegionLength: 100000<br>  minRepeatPeriod: 6<br>  minRepeatLength: 0<br>  functionalRegions: none<br>  genomeBuild: hg38<br>  overlappedFunctionalRegions: false<br>makeCalls: <br>  singleBaseMatchReward: 10<br>  singleBaseMismatchPenalty: 12<br>  gapOpenPenalties: 6,26<br>  gapExtensionPenalties: 1,0<br>  minUnitigMappingQuality: 1<br>filterCalls: <br>  maxIntraClusterDistance: 500<br>  minUnitigMappingQuality: 0<br>  minUnitigBlockLength: 15<br>\", \"filterCalls.minSVSize: 500<br><br>makeRegions: <br>  slop: 250<br>  minCoverage: 0<br>  maxCoverage: 200<br>  maxRegionLength: 100000<br>  minRepeatPeriod: 6<br>  minRepeatLength: 0<br>  functionalRegions: none<br>  genomeBuild: hg38<br>  overlappedFunctionalRegions: false<br>makeCalls: <br>  singleBaseMatchReward: 10<br>  singleBaseMismatchPenalty: 12<br>  gapOpenPenalties: 6,26<br>  gapExtensionPenalties: 1,0<br>  minUnitigMappingQuality: 1<br>filterCalls: <br>  maxIntraClusterDistance: 500<br>  minUnitigMappingQuality: 0<br>  minUnitigBlockLength: 25<br>\", \"filterCalls.minSVSize: 500<br><br>makeRegions: <br>  slop: 250<br>  minCoverage: 0<br>  maxCoverage: 200<br>  maxRegionLength: 100000<br>  minRepeatPeriod: 6<br>  minRepeatLength: 0<br>  functionalRegions: none<br>  genomeBuild: hg38<br>  overlappedFunctionalRegions: false<br>makeCalls: <br>  singleBaseMatchReward: 10<br>  singleBaseMismatchPenalty: 12<br>  gapOpenPenalties: 6,26<br>  gapExtensionPenalties: 1,0<br>  minUnitigMappingQuality: 1<br>filterCalls: <br>  maxIntraClusterDistance: 500<br>  minUnitigMappingQuality: 0<br>  minUnitigBlockLength: 40<br>\", \"filterCalls.minSVSize: 500<br><br>makeRegions: <br>  slop: 250<br>  minCoverage: 0<br>  maxCoverage: 200<br>  maxRegionLength: 100000<br>  minRepeatPeriod: 6<br>  minRepeatLength: 100<br>  functionalRegions: none<br>  genomeBuild: hg38<br>  overlappedFunctionalRegions: false<br>makeCalls: <br>  singleBaseMatchReward: 10<br>  singleBaseMismatchPenalty: 12<br>  gapOpenPenalties: 6,26<br>  gapExtensionPenalties: 1,0<br>  minUnitigMappingQuality: 1<br>filterCalls: <br>  maxIntraClusterDistance: 500<br>  minUnitigMappingQuality: 0<br>  minUnitigBlockLength: 15<br>\", \"filterCalls.minSVSize: 500<br><br>makeRegions: <br>  slop: 250<br>  minCoverage: 0<br>  maxCoverage: 200<br>  maxRegionLength: 100000<br>  minRepeatPeriod: 6<br>  minRepeatLength: 100<br>  functionalRegions: none<br>  genomeBuild: hg38<br>  overlappedFunctionalRegions: false<br>makeCalls: <br>  singleBaseMatchReward: 10<br>  singleBaseMismatchPenalty: 12<br>  gapOpenPenalties: 6,26<br>  gapExtensionPenalties: 1,0<br>  minUnitigMappingQuality: 1<br>filterCalls: <br>  maxIntraClusterDistance: 500<br>  minUnitigMappingQuality: 0<br>  minUnitigBlockLength: 25<br>\", \"filterCalls.minSVSize: 500<br><br>makeRegions: <br>  slop: 250<br>  minCoverage: 0<br>  maxCoverage: 200<br>  maxRegionLength: 100000<br>  minRepeatPeriod: 6<br>  minRepeatLength: 100<br>  functionalRegions: none<br>  genomeBuild: hg38<br>  overlappedFunctionalRegions: false<br>makeCalls: <br>  singleBaseMatchReward: 10<br>  singleBaseMismatchPenalty: 12<br>  gapOpenPenalties: 6,26<br>  gapExtensionPenalties: 1,0<br>  minUnitigMappingQuality: 1<br>filterCalls: <br>  maxIntraClusterDistance: 500<br>  minUnitigMappingQuality: 0<br>  minUnitigBlockLength: 40<br>\", \"filterCalls.minSVSize: 500<br><br>makeRegions: <br>  slop: 250<br>  minCoverage: 0<br>  maxCoverage: 200<br>  maxRegionLength: 100000<br>  minRepeatPeriod: 6<br>  minRepeatLength: 50<br>  functionalRegions: none<br>  genomeBuild: hg38<br>  overlappedFunctionalRegions: false<br>makeCalls: <br>  singleBaseMatchReward: 10<br>  singleBaseMismatchPenalty: 12<br>  gapOpenPenalties: 6,26<br>  gapExtensionPenalties: 1,0<br>  minUnitigMappingQuality: 1<br>filterCalls: <br>  maxIntraClusterDistance: 500<br>  minUnitigMappingQuality: 0<br>  minUnitigBlockLength: 15<br>\", \"filterCalls.minSVSize: 500<br><br>makeRegions: <br>  slop: 250<br>  minCoverage: 0<br>  maxCoverage: 200<br>  maxRegionLength: 100000<br>  minRepeatPeriod: 6<br>  minRepeatLength: 50<br>  functionalRegions: none<br>  genomeBuild: hg38<br>  overlappedFunctionalRegions: false<br>makeCalls: <br>  singleBaseMatchReward: 10<br>  singleBaseMismatchPenalty: 12<br>  gapOpenPenalties: 6,26<br>  gapExtensionPenalties: 1,0<br>  minUnitigMappingQuality: 1<br>filterCalls: <br>  maxIntraClusterDistance: 500<br>  minUnitigMappingQuality: 0<br>  minUnitigBlockLength: 25<br>\", \"filterCalls.minSVSize: 500<br><br>makeRegions: <br>  slop: 250<br>  minCoverage: 0<br>  maxCoverage: 200<br>  maxRegionLength: 100000<br>  minRepeatPeriod: 6<br>  minRepeatLength: 50<br>  functionalRegions: none<br>  genomeBuild: hg38<br>  overlappedFunctionalRegions: false<br>makeCalls: <br>  singleBaseMatchReward: 10<br>  singleBaseMismatchPenalty: 12<br>  gapOpenPenalties: 6,26<br>  gapExtensionPenalties: 1,0<br>  minUnitigMappingQuality: 1<br>filterCalls: <br>  maxIntraClusterDistance: 500<br>  minUnitigMappingQuality: 0<br>  minUnitigBlockLength: 40<br>\", \"filterCalls.minSVSize: 50<br><br>makeRegions: <br>  slop: 250<br>  minCoverage: 0<br>  maxCoverage: 200<br>  maxRegionLength: 100000<br>  minRepeatPeriod: 6<br>  minRepeatLength: 0<br>  functionalRegions: none<br>  genomeBuild: hg38<br>  overlappedFunctionalRegions: false<br>makeCalls: <br>  singleBaseMatchReward: 10<br>  singleBaseMismatchPenalty: 12<br>  gapOpenPenalties: 6,26<br>  gapExtensionPenalties: 1,0<br>  minUnitigMappingQuality: 1<br>filterCalls: <br>  maxIntraClusterDistance: 500<br>  minUnitigMappingQuality: 0<br>  minUnitigBlockLength: 15<br>\", \"filterCalls.minSVSize: 50<br><br>makeRegions: <br>  slop: 250<br>  minCoverage: 0<br>  maxCoverage: 200<br>  maxRegionLength: 100000<br>  minRepeatPeriod: 6<br>  minRepeatLength: 0<br>  functionalRegions: none<br>  genomeBuild: hg38<br>  overlappedFunctionalRegions: false<br>makeCalls: <br>  singleBaseMatchReward: 10<br>  singleBaseMismatchPenalty: 12<br>  gapOpenPenalties: 6,26<br>  gapExtensionPenalties: 1,0<br>  minUnitigMappingQuality: 1<br>filterCalls: <br>  maxIntraClusterDistance: 500<br>  minUnitigMappingQuality: 0<br>  minUnitigBlockLength: 25<br>\", \"filterCalls.minSVSize: 50<br><br>makeRegions: <br>  slop: 250<br>  minCoverage: 0<br>  maxCoverage: 200<br>  maxRegionLength: 100000<br>  minRepeatPeriod: 6<br>  minRepeatLength: 0<br>  functionalRegions: none<br>  genomeBuild: hg38<br>  overlappedFunctionalRegions: false<br>makeCalls: <br>  singleBaseMatchReward: 10<br>  singleBaseMismatchPenalty: 12<br>  gapOpenPenalties: 6,26<br>  gapExtensionPenalties: 1,0<br>  minUnitigMappingQuality: 1<br>filterCalls: <br>  maxIntraClusterDistance: 500<br>  minUnitigMappingQuality: 0<br>  minUnitigBlockLength: 40<br>\", \"filterCalls.minSVSize: 50<br><br>makeRegions: <br>  slop: 250<br>  minCoverage: 0<br>  maxCoverage: 200<br>  maxRegionLength: 100000<br>  minRepeatPeriod: 6<br>  minRepeatLength: 100<br>  functionalRegions: none<br>  genomeBuild: hg38<br>  overlappedFunctionalRegions: false<br>makeCalls: <br>  singleBaseMatchReward: 10<br>  singleBaseMismatchPenalty: 12<br>  gapOpenPenalties: 6,26<br>  gapExtensionPenalties: 1,0<br>  minUnitigMappingQuality: 1<br>filterCalls: <br>  maxIntraClusterDistance: 500<br>  minUnitigMappingQuality: 0<br>  minUnitigBlockLength: 15<br>\", \"filterCalls.minSVSize: 50<br><br>makeRegions: <br>  slop: 250<br>  minCoverage: 0<br>  maxCoverage: 200<br>  maxRegionLength: 100000<br>  minRepeatPeriod: 6<br>  minRepeatLength: 100<br>  functionalRegions: none<br>  genomeBuild: hg38<br>  overlappedFunctionalRegions: false<br>makeCalls: <br>  singleBaseMatchReward: 10<br>  singleBaseMismatchPenalty: 12<br>  gapOpenPenalties: 6,26<br>  gapExtensionPenalties: 1,0<br>  minUnitigMappingQuality: 1<br>filterCalls: <br>  maxIntraClusterDistance: 500<br>  minUnitigMappingQuality: 0<br>  minUnitigBlockLength: 25<br>\", \"filterCalls.minSVSize: 50<br><br>makeRegions: <br>  slop: 250<br>  minCoverage: 0<br>  maxCoverage: 200<br>  maxRegionLength: 100000<br>  minRepeatPeriod: 6<br>  minRepeatLength: 100<br>  functionalRegions: none<br>  genomeBuild: hg38<br>  overlappedFunctionalRegions: false<br>makeCalls: <br>  singleBaseMatchReward: 10<br>  singleBaseMismatchPenalty: 12<br>  gapOpenPenalties: 6,26<br>  gapExtensionPenalties: 1,0<br>  minUnitigMappingQuality: 1<br>filterCalls: <br>  maxIntraClusterDistance: 500<br>  minUnitigMappingQuality: 0<br>  minUnitigBlockLength: 40<br>\", \"filterCalls.minSVSize: 50<br><br>makeRegions: <br>  slop: 250<br>  minCoverage: 0<br>  maxCoverage: 200<br>  maxRegionLength: 100000<br>  minRepeatPeriod: 6<br>  minRepeatLength: 50<br>  functionalRegions: none<br>  genomeBuild: hg38<br>  overlappedFunctionalRegions: false<br>makeCalls: <br>  singleBaseMatchReward: 10<br>  singleBaseMismatchPenalty: 12<br>  gapOpenPenalties: 6,26<br>  gapExtensionPenalties: 1,0<br>  minUnitigMappingQuality: 1<br>filterCalls: <br>  maxIntraClusterDistance: 500<br>  minUnitigMappingQuality: 0<br>  minUnitigBlockLength: 15<br>\", \"filterCalls.minSVSize: 50<br><br>makeRegions: <br>  slop: 250<br>  minCoverage: 0<br>  maxCoverage: 200<br>  maxRegionLength: 100000<br>  minRepeatPeriod: 6<br>  minRepeatLength: 50<br>  functionalRegions: none<br>  genomeBuild: hg38<br>  overlappedFunctionalRegions: false<br>makeCalls: <br>  singleBaseMatchReward: 10<br>  singleBaseMismatchPenalty: 12<br>  gapOpenPenalties: 6,26<br>  gapExtensionPenalties: 1,0<br>  minUnitigMappingQuality: 1<br>filterCalls: <br>  maxIntraClusterDistance: 500<br>  minUnitigMappingQuality: 0<br>  minUnitigBlockLength: 25<br>\", \"filterCalls.minSVSize: 50<br><br>makeRegions: <br>  slop: 250<br>  minCoverage: 0<br>  maxCoverage: 200<br>  maxRegionLength: 100000<br>  minRepeatPeriod: 6<br>  minRepeatLength: 50<br>  functionalRegions: none<br>  genomeBuild: hg38<br>  overlappedFunctionalRegions: false<br>makeCalls: <br>  singleBaseMatchReward: 10<br>  singleBaseMismatchPenalty: 12<br>  gapOpenPenalties: 6,26<br>  gapExtensionPenalties: 1,0<br>  minUnitigMappingQuality: 1<br>filterCalls: <br>  maxIntraClusterDistance: 500<br>  minUnitigMappingQuality: 0<br>  minUnitigBlockLength: 40<br>\"], \"type\": \"scatter\", \"x\": [0.0028634361233480176, 0.0026431718061674008, 0.0028634361233480176, 0.0024021138601969735, 0.002161902474177276, 0.002161902474177276, 0.0027347310847766638, 0.0027347310847766638, 0.0025068368277119417, 0.0, 0.0, 0.0, 0.0, 0.0, 0.0, 0.0, 0.0, 0.0, 0.012904050083045867, 0.013287338699373962, 0.012392998594608406, 0.013004980630879912, 0.012728278915329275, 0.012728278915329275, 0.012976799056232795, 0.01284572027788701, 0.012976799056232795], \"y\": [0.35135135135135137, 0.35294117647058826, 0.3611111111111111, 0.3225806451612903, 0.3103448275862069, 0.32142857142857145, 0.375, 0.4, 0.3548387096774194, 0.0, 0.0, 0.0, 0.0, 0.0, 0.0, 0.0, 0.0, 0.0, 0.5153061224489796, 0.52, 0.5271739130434783, 0.5662650602409639, 0.5542168674698795, 0.5542168674698795, 0.5210526315789473, 0.5130890052356021, 0.5294117647058824]}, {\"hovertemplate\": \"%{text}\", \"marker\": {\"color\": [\"red\", \"red\", \"red\", \"red\", \"red\", \"red\", \"red\", \"red\", \"red\", \"blue\", \"blue\", \"blue\", \"blue\", \"blue\", \"blue\", \"blue\", \"blue\", \"blue\", \"green\", \"green\", \"green\", \"green\", \"green\", \"green\", \"green\", \"green\", \"green\"], \"line\": {\"color\": \"black\", \"width\": 1}, \"size\": 10, \"symbol\": \"square\"}, \"mode\": \"markers\", \"name\": \"manta\", \"showlegend\": false, \"text\": [\"filterCalls.minSVSize: 100<br><br>makeRegions: <br>  slop: 250<br>  minCoverage: 0<br>  maxCoverage: 200<br>  maxRegionLength: 100000<br>  minRepeatPeriod: 6<br>  minRepeatLength: 0<br>  functionalRegions: none<br>  genomeBuild: hg38<br>  overlappedFunctionalRegions: false<br>makeCalls: <br>  singleBaseMatchReward: 10<br>  singleBaseMismatchPenalty: 12<br>  gapOpenPenalties: 6,26<br>  gapExtensionPenalties: 1,0<br>  minUnitigMappingQuality: 1<br>filterCalls: <br>  maxIntraClusterDistance: 500<br>  minUnitigMappingQuality: 0<br>  minUnitigBlockLength: 15<br>\", \"filterCalls.minSVSize: 100<br><br>makeRegions: <br>  slop: 250<br>  minCoverage: 0<br>  maxCoverage: 200<br>  maxRegionLength: 100000<br>  minRepeatPeriod: 6<br>  minRepeatLength: 0<br>  functionalRegions: none<br>  genomeBuild: hg38<br>  overlappedFunctionalRegions: false<br>makeCalls: <br>  singleBaseMatchReward: 10<br>  singleBaseMismatchPenalty: 12<br>  gapOpenPenalties: 6,26<br>  gapExtensionPenalties: 1,0<br>  minUnitigMappingQuality: 1<br>filterCalls: <br>  maxIntraClusterDistance: 500<br>  minUnitigMappingQuality: 0<br>  minUnitigBlockLength: 25<br>\", \"filterCalls.minSVSize: 100<br><br>makeRegions: <br>  slop: 250<br>  minCoverage: 0<br>  maxCoverage: 200<br>  maxRegionLength: 100000<br>  minRepeatPeriod: 6<br>  minRepeatLength: 0<br>  functionalRegions: none<br>  genomeBuild: hg38<br>  overlappedFunctionalRegions: false<br>makeCalls: <br>  singleBaseMatchReward: 10<br>  singleBaseMismatchPenalty: 12<br>  gapOpenPenalties: 6,26<br>  gapExtensionPenalties: 1,0<br>  minUnitigMappingQuality: 1<br>filterCalls: <br>  maxIntraClusterDistance: 500<br>  minUnitigMappingQuality: 0<br>  minUnitigBlockLength: 40<br>\", \"filterCalls.minSVSize: 100<br><br>makeRegions: <br>  slop: 250<br>  minCoverage: 0<br>  maxCoverage: 200<br>  maxRegionLength: 100000<br>  minRepeatPeriod: 6<br>  minRepeatLength: 100<br>  functionalRegions: none<br>  genomeBuild: hg38<br>  overlappedFunctionalRegions: false<br>makeCalls: <br>  singleBaseMatchReward: 10<br>  singleBaseMismatchPenalty: 12<br>  gapOpenPenalties: 6,26<br>  gapExtensionPenalties: 1,0<br>  minUnitigMappingQuality: 1<br>filterCalls: <br>  maxIntraClusterDistance: 500<br>  minUnitigMappingQuality: 0<br>  minUnitigBlockLength: 15<br>\", \"filterCalls.minSVSize: 100<br><br>makeRegions: <br>  slop: 250<br>  minCoverage: 0<br>  maxCoverage: 200<br>  maxRegionLength: 100000<br>  minRepeatPeriod: 6<br>  minRepeatLength: 100<br>  functionalRegions: none<br>  genomeBuild: hg38<br>  overlappedFunctionalRegions: false<br>makeCalls: <br>  singleBaseMatchReward: 10<br>  singleBaseMismatchPenalty: 12<br>  gapOpenPenalties: 6,26<br>  gapExtensionPenalties: 1,0<br>  minUnitigMappingQuality: 1<br>filterCalls: <br>  maxIntraClusterDistance: 500<br>  minUnitigMappingQuality: 0<br>  minUnitigBlockLength: 25<br>\", \"filterCalls.minSVSize: 100<br><br>makeRegions: <br>  slop: 250<br>  minCoverage: 0<br>  maxCoverage: 200<br>  maxRegionLength: 100000<br>  minRepeatPeriod: 6<br>  minRepeatLength: 100<br>  functionalRegions: none<br>  genomeBuild: hg38<br>  overlappedFunctionalRegions: false<br>makeCalls: <br>  singleBaseMatchReward: 10<br>  singleBaseMismatchPenalty: 12<br>  gapOpenPenalties: 6,26<br>  gapExtensionPenalties: 1,0<br>  minUnitigMappingQuality: 1<br>filterCalls: <br>  maxIntraClusterDistance: 500<br>  minUnitigMappingQuality: 0<br>  minUnitigBlockLength: 40<br>\", \"filterCalls.minSVSize: 100<br><br>makeRegions: <br>  slop: 250<br>  minCoverage: 0<br>  maxCoverage: 200<br>  maxRegionLength: 100000<br>  minRepeatPeriod: 6<br>  minRepeatLength: 50<br>  functionalRegions: none<br>  genomeBuild: hg38<br>  overlappedFunctionalRegions: false<br>makeCalls: <br>  singleBaseMatchReward: 10<br>  singleBaseMismatchPenalty: 12<br>  gapOpenPenalties: 6,26<br>  gapExtensionPenalties: 1,0<br>  minUnitigMappingQuality: 1<br>filterCalls: <br>  maxIntraClusterDistance: 500<br>  minUnitigMappingQuality: 0<br>  minUnitigBlockLength: 15<br>\", \"filterCalls.minSVSize: 100<br><br>makeRegions: <br>  slop: 250<br>  minCoverage: 0<br>  maxCoverage: 200<br>  maxRegionLength: 100000<br>  minRepeatPeriod: 6<br>  minRepeatLength: 50<br>  functionalRegions: none<br>  genomeBuild: hg38<br>  overlappedFunctionalRegions: false<br>makeCalls: <br>  singleBaseMatchReward: 10<br>  singleBaseMismatchPenalty: 12<br>  gapOpenPenalties: 6,26<br>  gapExtensionPenalties: 1,0<br>  minUnitigMappingQuality: 1<br>filterCalls: <br>  maxIntraClusterDistance: 500<br>  minUnitigMappingQuality: 0<br>  minUnitigBlockLength: 25<br>\", \"filterCalls.minSVSize: 100<br><br>makeRegions: <br>  slop: 250<br>  minCoverage: 0<br>  maxCoverage: 200<br>  maxRegionLength: 100000<br>  minRepeatPeriod: 6<br>  minRepeatLength: 50<br>  functionalRegions: none<br>  genomeBuild: hg38<br>  overlappedFunctionalRegions: false<br>makeCalls: <br>  singleBaseMatchReward: 10<br>  singleBaseMismatchPenalty: 12<br>  gapOpenPenalties: 6,26<br>  gapExtensionPenalties: 1,0<br>  minUnitigMappingQuality: 1<br>filterCalls: <br>  maxIntraClusterDistance: 500<br>  minUnitigMappingQuality: 0<br>  minUnitigBlockLength: 40<br>\", \"filterCalls.minSVSize: 500<br><br>makeRegions: <br>  slop: 250<br>  minCoverage: 0<br>  maxCoverage: 200<br>  maxRegionLength: 100000<br>  minRepeatPeriod: 6<br>  minRepeatLength: 0<br>  functionalRegions: none<br>  genomeBuild: hg38<br>  overlappedFunctionalRegions: false<br>makeCalls: <br>  singleBaseMatchReward: 10<br>  singleBaseMismatchPenalty: 12<br>  gapOpenPenalties: 6,26<br>  gapExtensionPenalties: 1,0<br>  minUnitigMappingQuality: 1<br>filterCalls: <br>  maxIntraClusterDistance: 500<br>  minUnitigMappingQuality: 0<br>  minUnitigBlockLength: 15<br>\", \"filterCalls.minSVSize: 500<br><br>makeRegions: <br>  slop: 250<br>  minCoverage: 0<br>  maxCoverage: 200<br>  maxRegionLength: 100000<br>  minRepeatPeriod: 6<br>  minRepeatLength: 0<br>  functionalRegions: none<br>  genomeBuild: hg38<br>  overlappedFunctionalRegions: false<br>makeCalls: <br>  singleBaseMatchReward: 10<br>  singleBaseMismatchPenalty: 12<br>  gapOpenPenalties: 6,26<br>  gapExtensionPenalties: 1,0<br>  minUnitigMappingQuality: 1<br>filterCalls: <br>  maxIntraClusterDistance: 500<br>  minUnitigMappingQuality: 0<br>  minUnitigBlockLength: 25<br>\", \"filterCalls.minSVSize: 500<br><br>makeRegions: <br>  slop: 250<br>  minCoverage: 0<br>  maxCoverage: 200<br>  maxRegionLength: 100000<br>  minRepeatPeriod: 6<br>  minRepeatLength: 0<br>  functionalRegions: none<br>  genomeBuild: hg38<br>  overlappedFunctionalRegions: false<br>makeCalls: <br>  singleBaseMatchReward: 10<br>  singleBaseMismatchPenalty: 12<br>  gapOpenPenalties: 6,26<br>  gapExtensionPenalties: 1,0<br>  minUnitigMappingQuality: 1<br>filterCalls: <br>  maxIntraClusterDistance: 500<br>  minUnitigMappingQuality: 0<br>  minUnitigBlockLength: 40<br>\", \"filterCalls.minSVSize: 500<br><br>makeRegions: <br>  slop: 250<br>  minCoverage: 0<br>  maxCoverage: 200<br>  maxRegionLength: 100000<br>  minRepeatPeriod: 6<br>  minRepeatLength: 100<br>  functionalRegions: none<br>  genomeBuild: hg38<br>  overlappedFunctionalRegions: false<br>makeCalls: <br>  singleBaseMatchReward: 10<br>  singleBaseMismatchPenalty: 12<br>  gapOpenPenalties: 6,26<br>  gapExtensionPenalties: 1,0<br>  minUnitigMappingQuality: 1<br>filterCalls: <br>  maxIntraClusterDistance: 500<br>  minUnitigMappingQuality: 0<br>  minUnitigBlockLength: 15<br>\", \"filterCalls.minSVSize: 500<br><br>makeRegions: <br>  slop: 250<br>  minCoverage: 0<br>  maxCoverage: 200<br>  maxRegionLength: 100000<br>  minRepeatPeriod: 6<br>  minRepeatLength: 100<br>  functionalRegions: none<br>  genomeBuild: hg38<br>  overlappedFunctionalRegions: false<br>makeCalls: <br>  singleBaseMatchReward: 10<br>  singleBaseMismatchPenalty: 12<br>  gapOpenPenalties: 6,26<br>  gapExtensionPenalties: 1,0<br>  minUnitigMappingQuality: 1<br>filterCalls: <br>  maxIntraClusterDistance: 500<br>  minUnitigMappingQuality: 0<br>  minUnitigBlockLength: 25<br>\", \"filterCalls.minSVSize: 500<br><br>makeRegions: <br>  slop: 250<br>  minCoverage: 0<br>  maxCoverage: 200<br>  maxRegionLength: 100000<br>  minRepeatPeriod: 6<br>  minRepeatLength: 100<br>  functionalRegions: none<br>  genomeBuild: hg38<br>  overlappedFunctionalRegions: false<br>makeCalls: <br>  singleBaseMatchReward: 10<br>  singleBaseMismatchPenalty: 12<br>  gapOpenPenalties: 6,26<br>  gapExtensionPenalties: 1,0<br>  minUnitigMappingQuality: 1<br>filterCalls: <br>  maxIntraClusterDistance: 500<br>  minUnitigMappingQuality: 0<br>  minUnitigBlockLength: 40<br>\", \"filterCalls.minSVSize: 500<br><br>makeRegions: <br>  slop: 250<br>  minCoverage: 0<br>  maxCoverage: 200<br>  maxRegionLength: 100000<br>  minRepeatPeriod: 6<br>  minRepeatLength: 50<br>  functionalRegions: none<br>  genomeBuild: hg38<br>  overlappedFunctionalRegions: false<br>makeCalls: <br>  singleBaseMatchReward: 10<br>  singleBaseMismatchPenalty: 12<br>  gapOpenPenalties: 6,26<br>  gapExtensionPenalties: 1,0<br>  minUnitigMappingQuality: 1<br>filterCalls: <br>  maxIntraClusterDistance: 500<br>  minUnitigMappingQuality: 0<br>  minUnitigBlockLength: 15<br>\", \"filterCalls.minSVSize: 500<br><br>makeRegions: <br>  slop: 250<br>  minCoverage: 0<br>  maxCoverage: 200<br>  maxRegionLength: 100000<br>  minRepeatPeriod: 6<br>  minRepeatLength: 50<br>  functionalRegions: none<br>  genomeBuild: hg38<br>  overlappedFunctionalRegions: false<br>makeCalls: <br>  singleBaseMatchReward: 10<br>  singleBaseMismatchPenalty: 12<br>  gapOpenPenalties: 6,26<br>  gapExtensionPenalties: 1,0<br>  minUnitigMappingQuality: 1<br>filterCalls: <br>  maxIntraClusterDistance: 500<br>  minUnitigMappingQuality: 0<br>  minUnitigBlockLength: 25<br>\", \"filterCalls.minSVSize: 500<br><br>makeRegions: <br>  slop: 250<br>  minCoverage: 0<br>  maxCoverage: 200<br>  maxRegionLength: 100000<br>  minRepeatPeriod: 6<br>  minRepeatLength: 50<br>  functionalRegions: none<br>  genomeBuild: hg38<br>  overlappedFunctionalRegions: false<br>makeCalls: <br>  singleBaseMatchReward: 10<br>  singleBaseMismatchPenalty: 12<br>  gapOpenPenalties: 6,26<br>  gapExtensionPenalties: 1,0<br>  minUnitigMappingQuality: 1<br>filterCalls: <br>  maxIntraClusterDistance: 500<br>  minUnitigMappingQuality: 0<br>  minUnitigBlockLength: 40<br>\", \"filterCalls.minSVSize: 50<br><br>makeRegions: <br>  slop: 250<br>  minCoverage: 0<br>  maxCoverage: 200<br>  maxRegionLength: 100000<br>  minRepeatPeriod: 6<br>  minRepeatLength: 0<br>  functionalRegions: none<br>  genomeBuild: hg38<br>  overlappedFunctionalRegions: false<br>makeCalls: <br>  singleBaseMatchReward: 10<br>  singleBaseMismatchPenalty: 12<br>  gapOpenPenalties: 6,26<br>  gapExtensionPenalties: 1,0<br>  minUnitigMappingQuality: 1<br>filterCalls: <br>  maxIntraClusterDistance: 500<br>  minUnitigMappingQuality: 0<br>  minUnitigBlockLength: 15<br>\", \"filterCalls.minSVSize: 50<br><br>makeRegions: <br>  slop: 250<br>  minCoverage: 0<br>  maxCoverage: 200<br>  maxRegionLength: 100000<br>  minRepeatPeriod: 6<br>  minRepeatLength: 0<br>  functionalRegions: none<br>  genomeBuild: hg38<br>  overlappedFunctionalRegions: false<br>makeCalls: <br>  singleBaseMatchReward: 10<br>  singleBaseMismatchPenalty: 12<br>  gapOpenPenalties: 6,26<br>  gapExtensionPenalties: 1,0<br>  minUnitigMappingQuality: 1<br>filterCalls: <br>  maxIntraClusterDistance: 500<br>  minUnitigMappingQuality: 0<br>  minUnitigBlockLength: 25<br>\", \"filterCalls.minSVSize: 50<br><br>makeRegions: <br>  slop: 250<br>  minCoverage: 0<br>  maxCoverage: 200<br>  maxRegionLength: 100000<br>  minRepeatPeriod: 6<br>  minRepeatLength: 0<br>  functionalRegions: none<br>  genomeBuild: hg38<br>  overlappedFunctionalRegions: false<br>makeCalls: <br>  singleBaseMatchReward: 10<br>  singleBaseMismatchPenalty: 12<br>  gapOpenPenalties: 6,26<br>  gapExtensionPenalties: 1,0<br>  minUnitigMappingQuality: 1<br>filterCalls: <br>  maxIntraClusterDistance: 500<br>  minUnitigMappingQuality: 0<br>  minUnitigBlockLength: 40<br>\", \"filterCalls.minSVSize: 50<br><br>makeRegions: <br>  slop: 250<br>  minCoverage: 0<br>  maxCoverage: 200<br>  maxRegionLength: 100000<br>  minRepeatPeriod: 6<br>  minRepeatLength: 100<br>  functionalRegions: none<br>  genomeBuild: hg38<br>  overlappedFunctionalRegions: false<br>makeCalls: <br>  singleBaseMatchReward: 10<br>  singleBaseMismatchPenalty: 12<br>  gapOpenPenalties: 6,26<br>  gapExtensionPenalties: 1,0<br>  minUnitigMappingQuality: 1<br>filterCalls: <br>  maxIntraClusterDistance: 500<br>  minUnitigMappingQuality: 0<br>  minUnitigBlockLength: 15<br>\", \"filterCalls.minSVSize: 50<br><br>makeRegions: <br>  slop: 250<br>  minCoverage: 0<br>  maxCoverage: 200<br>  maxRegionLength: 100000<br>  minRepeatPeriod: 6<br>  minRepeatLength: 100<br>  functionalRegions: none<br>  genomeBuild: hg38<br>  overlappedFunctionalRegions: false<br>makeCalls: <br>  singleBaseMatchReward: 10<br>  singleBaseMismatchPenalty: 12<br>  gapOpenPenalties: 6,26<br>  gapExtensionPenalties: 1,0<br>  minUnitigMappingQuality: 1<br>filterCalls: <br>  maxIntraClusterDistance: 500<br>  minUnitigMappingQuality: 0<br>  minUnitigBlockLength: 25<br>\", \"filterCalls.minSVSize: 50<br><br>makeRegions: <br>  slop: 250<br>  minCoverage: 0<br>  maxCoverage: 200<br>  maxRegionLength: 100000<br>  minRepeatPeriod: 6<br>  minRepeatLength: 100<br>  functionalRegions: none<br>  genomeBuild: hg38<br>  overlappedFunctionalRegions: false<br>makeCalls: <br>  singleBaseMatchReward: 10<br>  singleBaseMismatchPenalty: 12<br>  gapOpenPenalties: 6,26<br>  gapExtensionPenalties: 1,0<br>  minUnitigMappingQuality: 1<br>filterCalls: <br>  maxIntraClusterDistance: 500<br>  minUnitigMappingQuality: 0<br>  minUnitigBlockLength: 40<br>\", \"filterCalls.minSVSize: 50<br><br>makeRegions: <br>  slop: 250<br>  minCoverage: 0<br>  maxCoverage: 200<br>  maxRegionLength: 100000<br>  minRepeatPeriod: 6<br>  minRepeatLength: 50<br>  functionalRegions: none<br>  genomeBuild: hg38<br>  overlappedFunctionalRegions: false<br>makeCalls: <br>  singleBaseMatchReward: 10<br>  singleBaseMismatchPenalty: 12<br>  gapOpenPenalties: 6,26<br>  gapExtensionPenalties: 1,0<br>  minUnitigMappingQuality: 1<br>filterCalls: <br>  maxIntraClusterDistance: 500<br>  minUnitigMappingQuality: 0<br>  minUnitigBlockLength: 15<br>\", \"filterCalls.minSVSize: 50<br><br>makeRegions: <br>  slop: 250<br>  minCoverage: 0<br>  maxCoverage: 200<br>  maxRegionLength: 100000<br>  minRepeatPeriod: 6<br>  minRepeatLength: 50<br>  functionalRegions: none<br>  genomeBuild: hg38<br>  overlappedFunctionalRegions: false<br>makeCalls: <br>  singleBaseMatchReward: 10<br>  singleBaseMismatchPenalty: 12<br>  gapOpenPenalties: 6,26<br>  gapExtensionPenalties: 1,0<br>  minUnitigMappingQuality: 1<br>filterCalls: <br>  maxIntraClusterDistance: 500<br>  minUnitigMappingQuality: 0<br>  minUnitigBlockLength: 25<br>\", \"filterCalls.minSVSize: 50<br><br>makeRegions: <br>  slop: 250<br>  minCoverage: 0<br>  maxCoverage: 200<br>  maxRegionLength: 100000<br>  minRepeatPeriod: 6<br>  minRepeatLength: 50<br>  functionalRegions: none<br>  genomeBuild: hg38<br>  overlappedFunctionalRegions: false<br>makeCalls: <br>  singleBaseMatchReward: 10<br>  singleBaseMismatchPenalty: 12<br>  gapOpenPenalties: 6,26<br>  gapExtensionPenalties: 1,0<br>  minUnitigMappingQuality: 1<br>filterCalls: <br>  maxIntraClusterDistance: 500<br>  minUnitigMappingQuality: 0<br>  minUnitigBlockLength: 40<br>\"], \"type\": \"scatter\", \"x\": [0.02488986784140969, 0.02488986784140969, 0.02488986784140969, 0.025942829690127314, 0.025942829690127314, 0.025942829690127314, 0.025979945305378303, 0.025979945305378303, 0.025979945305378303, 0.0035294117647058825, 0.0035294117647058825, 0.0035294117647058825, 0.004010695187165776, 0.004010695187165776, 0.004010695187165776, 0.0037174721189591076, 0.0037174721189591076, 0.0037174721189591076, 0.04663344831991823, 0.04663344831991823, 0.04663344831991823, 0.04247371333702269, 0.04247371333702269, 0.04247371333702269, 0.046139729977716606, 0.046139729977716606, 0.046139729977716606], \"y\": [0.3095890410958904, 0.3095890410958904, 0.3095890410958904, 0.3176470588235294, 0.3176470588235294, 0.3176470588235294, 0.3149171270718232, 0.3149171270718232, 0.3149171270718232, 0.3333333333333333, 0.3333333333333333, 0.3333333333333333, 0.2727272727272727, 0.2727272727272727, 0.2727272727272727, 0.3333333333333333, 0.3333333333333333, 0.3333333333333333, 0.3916309012875536, 0.3916309012875536, 0.3916309012875536, 0.40878828229027964, 0.40878828229027964, 0.40878828229027964, 0.39461883408071746, 0.39461883408071746, 0.39461883408071746]}, {\"marker\": {\"color\": \"white\", \"line\": {\"color\": \"black\", \"width\": 1}, \"size\": 10, \"symbol\": \"circle\"}, \"mode\": \"markers\", \"name\": \"trfermikit\", \"type\": \"scatter\", \"y\": [null]}, {\"marker\": {\"color\": \"white\", \"line\": {\"color\": \"black\", \"width\": 1}, \"size\": 10, \"symbol\": \"square\"}, \"mode\": \"markers\", \"name\": \"manta\", \"type\": \"scatter\", \"y\": [null]}, {\"marker\": {\"color\": \"green\", \"size\": 10, \"symbol\": \"circle\"}, \"mode\": \"markers\", \"name\": \"minSVSize=50\", \"type\": \"scatter\", \"y\": [null]}, {\"marker\": {\"color\": \"red\", \"size\": 10, \"symbol\": \"circle\"}, \"mode\": \"markers\", \"name\": \"minSVSize=100\", \"type\": \"scatter\", \"y\": [null]}, {\"marker\": {\"color\": \"blue\", \"size\": 10, \"symbol\": \"circle\"}, \"mode\": \"markers\", \"name\": \"minSVSize=500\", \"type\": \"scatter\", \"y\": [null]}],                        {\"template\": {\"data\": {\"bar\": [{\"error_x\": {\"color\": \"#2a3f5f\"}, \"error_y\": {\"color\": \"#2a3f5f\"}, \"marker\": {\"line\": {\"color\": \"#E5ECF6\", \"width\": 0.5}}, \"type\": \"bar\"}], \"barpolar\": [{\"marker\": {\"line\": {\"color\": \"#E5ECF6\", \"width\": 0.5}}, \"type\": \"barpolar\"}], \"carpet\": [{\"aaxis\": {\"endlinecolor\": \"#2a3f5f\", \"gridcolor\": \"white\", \"linecolor\": \"white\", \"minorgridcolor\": \"white\", \"startlinecolor\": \"#2a3f5f\"}, \"baxis\": {\"endlinecolor\": \"#2a3f5f\", \"gridcolor\": \"white\", \"linecolor\": \"white\", \"minorgridcolor\": \"white\", \"startlinecolor\": \"#2a3f5f\"}, \"type\": \"carpet\"}], \"choropleth\": [{\"colorbar\": {\"outlinewidth\": 0, \"ticks\": \"\"}, \"type\": \"choropleth\"}], \"contour\": [{\"colorbar\": {\"outlinewidth\": 0, \"ticks\": \"\"}, \"colorscale\": [[0.0, \"#0d0887\"], [0.1111111111111111, \"#46039f\"], [0.2222222222222222, \"#7201a8\"], [0.3333333333333333, \"#9c179e\"], [0.4444444444444444, \"#bd3786\"], [0.5555555555555556, \"#d8576b\"], [0.6666666666666666, \"#ed7953\"], [0.7777777777777778, \"#fb9f3a\"], [0.8888888888888888, \"#fdca26\"], [1.0, \"#f0f921\"]], \"type\": \"contour\"}], \"contourcarpet\": [{\"colorbar\": {\"outlinewidth\": 0, \"ticks\": \"\"}, \"type\": \"contourcarpet\"}], \"heatmap\": [{\"colorbar\": {\"outlinewidth\": 0, \"ticks\": \"\"}, \"colorscale\": [[0.0, \"#0d0887\"], [0.1111111111111111, \"#46039f\"], [0.2222222222222222, \"#7201a8\"], [0.3333333333333333, \"#9c179e\"], [0.4444444444444444, \"#bd3786\"], [0.5555555555555556, \"#d8576b\"], [0.6666666666666666, \"#ed7953\"], [0.7777777777777778, \"#fb9f3a\"], [0.8888888888888888, \"#fdca26\"], [1.0, \"#f0f921\"]], \"type\": \"heatmap\"}], \"heatmapgl\": [{\"colorbar\": {\"outlinewidth\": 0, \"ticks\": \"\"}, \"colorscale\": [[0.0, \"#0d0887\"], [0.1111111111111111, \"#46039f\"], [0.2222222222222222, \"#7201a8\"], [0.3333333333333333, \"#9c179e\"], [0.4444444444444444, \"#bd3786\"], [0.5555555555555556, \"#d8576b\"], [0.6666666666666666, \"#ed7953\"], [0.7777777777777778, \"#fb9f3a\"], [0.8888888888888888, \"#fdca26\"], [1.0, \"#f0f921\"]], \"type\": \"heatmapgl\"}], \"histogram\": [{\"marker\": {\"colorbar\": {\"outlinewidth\": 0, \"ticks\": \"\"}}, \"type\": \"histogram\"}], \"histogram2d\": [{\"colorbar\": {\"outlinewidth\": 0, \"ticks\": \"\"}, \"colorscale\": [[0.0, \"#0d0887\"], [0.1111111111111111, \"#46039f\"], [0.2222222222222222, \"#7201a8\"], [0.3333333333333333, \"#9c179e\"], [0.4444444444444444, \"#bd3786\"], [0.5555555555555556, \"#d8576b\"], [0.6666666666666666, \"#ed7953\"], [0.7777777777777778, \"#fb9f3a\"], [0.8888888888888888, \"#fdca26\"], [1.0, \"#f0f921\"]], \"type\": \"histogram2d\"}], \"histogram2dcontour\": [{\"colorbar\": {\"outlinewidth\": 0, \"ticks\": \"\"}, \"colorscale\": [[0.0, \"#0d0887\"], [0.1111111111111111, \"#46039f\"], [0.2222222222222222, \"#7201a8\"], [0.3333333333333333, \"#9c179e\"], [0.4444444444444444, \"#bd3786\"], [0.5555555555555556, \"#d8576b\"], [0.6666666666666666, \"#ed7953\"], [0.7777777777777778, \"#fb9f3a\"], [0.8888888888888888, \"#fdca26\"], [1.0, \"#f0f921\"]], \"type\": \"histogram2dcontour\"}], \"mesh3d\": [{\"colorbar\": {\"outlinewidth\": 0, \"ticks\": \"\"}, \"type\": \"mesh3d\"}], \"parcoords\": [{\"line\": {\"colorbar\": {\"outlinewidth\": 0, \"ticks\": \"\"}}, \"type\": \"parcoords\"}], \"pie\": [{\"automargin\": true, \"type\": \"pie\"}], \"scatter\": [{\"marker\": {\"colorbar\": {\"outlinewidth\": 0, \"ticks\": \"\"}}, \"type\": \"scatter\"}], \"scatter3d\": [{\"line\": {\"colorbar\": {\"outlinewidth\": 0, \"ticks\": \"\"}}, \"marker\": {\"colorbar\": {\"outlinewidth\": 0, \"ticks\": \"\"}}, \"type\": \"scatter3d\"}], \"scattercarpet\": [{\"marker\": {\"colorbar\": {\"outlinewidth\": 0, \"ticks\": \"\"}}, \"type\": \"scattercarpet\"}], \"scattergeo\": [{\"marker\": {\"colorbar\": {\"outlinewidth\": 0, \"ticks\": \"\"}}, \"type\": \"scattergeo\"}], \"scattergl\": [{\"marker\": {\"colorbar\": {\"outlinewidth\": 0, \"ticks\": \"\"}}, \"type\": \"scattergl\"}], \"scattermapbox\": [{\"marker\": {\"colorbar\": {\"outlinewidth\": 0, \"ticks\": \"\"}}, \"type\": \"scattermapbox\"}], \"scatterpolar\": [{\"marker\": {\"colorbar\": {\"outlinewidth\": 0, \"ticks\": \"\"}}, \"type\": \"scatterpolar\"}], \"scatterpolargl\": [{\"marker\": {\"colorbar\": {\"outlinewidth\": 0, \"ticks\": \"\"}}, \"type\": \"scatterpolargl\"}], \"scatterternary\": [{\"marker\": {\"colorbar\": {\"outlinewidth\": 0, \"ticks\": \"\"}}, \"type\": \"scatterternary\"}], \"surface\": [{\"colorbar\": {\"outlinewidth\": 0, \"ticks\": \"\"}, \"colorscale\": [[0.0, \"#0d0887\"], [0.1111111111111111, \"#46039f\"], [0.2222222222222222, \"#7201a8\"], [0.3333333333333333, \"#9c179e\"], [0.4444444444444444, \"#bd3786\"], [0.5555555555555556, \"#d8576b\"], [0.6666666666666666, \"#ed7953\"], [0.7777777777777778, \"#fb9f3a\"], [0.8888888888888888, \"#fdca26\"], [1.0, \"#f0f921\"]], \"type\": \"surface\"}], \"table\": [{\"cells\": {\"fill\": {\"color\": \"#EBF0F8\"}, \"line\": {\"color\": \"white\"}}, \"header\": {\"fill\": {\"color\": \"#C8D4E3\"}, \"line\": {\"color\": \"white\"}}, \"type\": \"table\"}]}, \"layout\": {\"annotationdefaults\": {\"arrowcolor\": \"#2a3f5f\", \"arrowhead\": 0, \"arrowwidth\": 1}, \"autotypenumbers\": \"strict\", \"coloraxis\": {\"colorbar\": {\"outlinewidth\": 0, \"ticks\": \"\"}}, \"colorscale\": {\"diverging\": [[0, \"#8e0152\"], [0.1, \"#c51b7d\"], [0.2, \"#de77ae\"], [0.3, \"#f1b6da\"], [0.4, \"#fde0ef\"], [0.5, \"#f7f7f7\"], [0.6, \"#e6f5d0\"], [0.7, \"#b8e186\"], [0.8, \"#7fbc41\"], [0.9, \"#4d9221\"], [1, \"#276419\"]], \"sequential\": [[0.0, \"#0d0887\"], [0.1111111111111111, \"#46039f\"], [0.2222222222222222, \"#7201a8\"], [0.3333333333333333, \"#9c179e\"], [0.4444444444444444, \"#bd3786\"], [0.5555555555555556, \"#d8576b\"], [0.6666666666666666, \"#ed7953\"], [0.7777777777777778, \"#fb9f3a\"], [0.8888888888888888, \"#fdca26\"], [1.0, \"#f0f921\"]], \"sequentialminus\": [[0.0, \"#0d0887\"], [0.1111111111111111, \"#46039f\"], [0.2222222222222222, \"#7201a8\"], [0.3333333333333333, \"#9c179e\"], [0.4444444444444444, \"#bd3786\"], [0.5555555555555556, \"#d8576b\"], [0.6666666666666666, \"#ed7953\"], [0.7777777777777778, \"#fb9f3a\"], [0.8888888888888888, \"#fdca26\"], [1.0, \"#f0f921\"]]}, \"colorway\": [\"#636efa\", \"#EF553B\", \"#00cc96\", \"#ab63fa\", \"#FFA15A\", \"#19d3f3\", \"#FF6692\", \"#B6E880\", \"#FF97FF\", \"#FECB52\"], \"font\": {\"color\": \"#2a3f5f\"}, \"geo\": {\"bgcolor\": \"white\", \"lakecolor\": \"white\", \"landcolor\": \"#E5ECF6\", \"showlakes\": true, \"showland\": true, \"subunitcolor\": \"white\"}, \"hoverlabel\": {\"align\": \"left\"}, \"hovermode\": \"closest\", \"mapbox\": {\"style\": \"light\"}, \"paper_bgcolor\": \"white\", \"plot_bgcolor\": \"#E5ECF6\", \"polar\": {\"angularaxis\": {\"gridcolor\": \"white\", \"linecolor\": \"white\", \"ticks\": \"\"}, \"bgcolor\": \"#E5ECF6\", \"radialaxis\": {\"gridcolor\": \"white\", \"linecolor\": \"white\", \"ticks\": \"\"}}, \"scene\": {\"xaxis\": {\"backgroundcolor\": \"#E5ECF6\", \"gridcolor\": \"white\", \"gridwidth\": 2, \"linecolor\": \"white\", \"showbackground\": true, \"ticks\": \"\", \"zerolinecolor\": \"white\"}, \"yaxis\": {\"backgroundcolor\": \"#E5ECF6\", \"gridcolor\": \"white\", \"gridwidth\": 2, \"linecolor\": \"white\", \"showbackground\": true, \"ticks\": \"\", \"zerolinecolor\": \"white\"}, \"zaxis\": {\"backgroundcolor\": \"#E5ECF6\", \"gridcolor\": \"white\", \"gridwidth\": 2, \"linecolor\": \"white\", \"showbackground\": true, \"ticks\": \"\", \"zerolinecolor\": \"white\"}}, \"shapedefaults\": {\"line\": {\"color\": \"#2a3f5f\"}}, \"ternary\": {\"aaxis\": {\"gridcolor\": \"white\", \"linecolor\": \"white\", \"ticks\": \"\"}, \"baxis\": {\"gridcolor\": \"white\", \"linecolor\": \"white\", \"ticks\": \"\"}, \"bgcolor\": \"#E5ECF6\", \"caxis\": {\"gridcolor\": \"white\", \"linecolor\": \"white\", \"ticks\": \"\"}}, \"title\": {\"x\": 0.05}, \"xaxis\": {\"automargin\": true, \"gridcolor\": \"white\", \"linecolor\": \"white\", \"ticks\": \"\", \"title\": {\"standoff\": 15}, \"zerolinecolor\": \"white\", \"zerolinewidth\": 2}, \"yaxis\": {\"automargin\": true, \"gridcolor\": \"white\", \"linecolor\": \"white\", \"ticks\": \"\", \"title\": {\"standoff\": 15}, \"zerolinecolor\": \"white\", \"zerolinewidth\": 2}}}, \"title\": {\"text\": \"INS<br>\", \"x\": 0.5, \"y\": 0.9}, \"xaxis\": {\"title\": {\"text\": \"recall\"}}, \"yaxis\": {\"title\": {\"text\": \"precision\"}}},                        {\"responsive\": true}                    ).then(function(){\n",
       "                            \n",
       "var gd = document.getElementById('75df0795-ebc2-43ea-83a6-01044b6f6c6e');\n",
       "var x = new MutationObserver(function (mutations, observer) {{\n",
       "        var display = window.getComputedStyle(gd).display;\n",
       "        if (!display || display === 'none') {{\n",
       "            console.log([gd, 'removed!']);\n",
       "            Plotly.purge(gd);\n",
       "            observer.disconnect();\n",
       "        }}\n",
       "}});\n",
       "\n",
       "// Listen for the removal of the full notebook cells\n",
       "var notebookContainer = gd.closest('#notebook-container');\n",
       "if (notebookContainer) {{\n",
       "    x.observe(notebookContainer, {childList: true});\n",
       "}}\n",
       "\n",
       "// Listen for the clearing of the current output cell\n",
       "var outputEl = gd.closest('.output');\n",
       "if (outputEl) {{\n",
       "    x.observe(outputEl, {childList: true});\n",
       "}}\n",
       "\n",
       "                        })                };                });            </script>        </div>"
      ]
     },
     "metadata": {},
     "output_type": "display_data"
    },
    {
     "data": {
      "application/vnd.plotly.v1+json": {
       "config": {
        "plotlyServerURL": "https://plot.ly"
       },
       "data": [
        {
         "hovertemplate": "%{text}",
         "marker": {
          "color": [
           "red",
           "green",
           "blue",
           "red",
           "green",
           "blue",
           "red",
           "green",
           "blue",
           "red",
           "green",
           "blue",
           "red",
           "green",
           "blue",
           "red",
           "green",
           "blue",
           "red",
           "green",
           "blue",
           "red",
           "green",
           "blue",
           "red",
           "green",
           "blue"
          ],
          "line": {
           "color": "black",
           "width": 1
          },
          "size": 10,
          "symbol": "circle"
         },
         "mode": "markers",
         "name": "trfermikit",
         "showlegend": false,
         "text": [
          "filterCalls.minUnitigBlockLength: 15<br><br>makeRegions: <br>  slop: 250<br>  minCoverage: 0<br>  maxCoverage: 200<br>  maxRegionLength: 100000<br>  minRepeatPeriod: 6<br>  minRepeatLength: 0<br>  functionalRegions: none<br>  genomeBuild: hg38<br>  overlappedFunctionalRegions: false<br>makeCalls: <br>  singleBaseMatchReward: 10<br>  singleBaseMismatchPenalty: 12<br>  gapOpenPenalties: 6,26<br>  gapExtensionPenalties: 1,0<br>  minUnitigMappingQuality: 1<br>filterCalls: <br>  maxIntraClusterDistance: 500<br>  minSVSize: 100<br>  minUnitigMappingQuality: 0<br>",
          "filterCalls.minUnitigBlockLength: 25<br><br>makeRegions: <br>  slop: 250<br>  minCoverage: 0<br>  maxCoverage: 200<br>  maxRegionLength: 100000<br>  minRepeatPeriod: 6<br>  minRepeatLength: 0<br>  functionalRegions: none<br>  genomeBuild: hg38<br>  overlappedFunctionalRegions: false<br>makeCalls: <br>  singleBaseMatchReward: 10<br>  singleBaseMismatchPenalty: 12<br>  gapOpenPenalties: 6,26<br>  gapExtensionPenalties: 1,0<br>  minUnitigMappingQuality: 1<br>filterCalls: <br>  maxIntraClusterDistance: 500<br>  minSVSize: 100<br>  minUnitigMappingQuality: 0<br>",
          "filterCalls.minUnitigBlockLength: 40<br><br>makeRegions: <br>  slop: 250<br>  minCoverage: 0<br>  maxCoverage: 200<br>  maxRegionLength: 100000<br>  minRepeatPeriod: 6<br>  minRepeatLength: 0<br>  functionalRegions: none<br>  genomeBuild: hg38<br>  overlappedFunctionalRegions: false<br>makeCalls: <br>  singleBaseMatchReward: 10<br>  singleBaseMismatchPenalty: 12<br>  gapOpenPenalties: 6,26<br>  gapExtensionPenalties: 1,0<br>  minUnitigMappingQuality: 1<br>filterCalls: <br>  maxIntraClusterDistance: 500<br>  minSVSize: 100<br>  minUnitigMappingQuality: 0<br>",
          "filterCalls.minUnitigBlockLength: 15<br><br>makeRegions: <br>  slop: 250<br>  minCoverage: 0<br>  maxCoverage: 200<br>  maxRegionLength: 100000<br>  minRepeatPeriod: 6<br>  minRepeatLength: 100<br>  functionalRegions: none<br>  genomeBuild: hg38<br>  overlappedFunctionalRegions: false<br>makeCalls: <br>  singleBaseMatchReward: 10<br>  singleBaseMismatchPenalty: 12<br>  gapOpenPenalties: 6,26<br>  gapExtensionPenalties: 1,0<br>  minUnitigMappingQuality: 1<br>filterCalls: <br>  maxIntraClusterDistance: 500<br>  minSVSize: 100<br>  minUnitigMappingQuality: 0<br>",
          "filterCalls.minUnitigBlockLength: 25<br><br>makeRegions: <br>  slop: 250<br>  minCoverage: 0<br>  maxCoverage: 200<br>  maxRegionLength: 100000<br>  minRepeatPeriod: 6<br>  minRepeatLength: 100<br>  functionalRegions: none<br>  genomeBuild: hg38<br>  overlappedFunctionalRegions: false<br>makeCalls: <br>  singleBaseMatchReward: 10<br>  singleBaseMismatchPenalty: 12<br>  gapOpenPenalties: 6,26<br>  gapExtensionPenalties: 1,0<br>  minUnitigMappingQuality: 1<br>filterCalls: <br>  maxIntraClusterDistance: 500<br>  minSVSize: 100<br>  minUnitigMappingQuality: 0<br>",
          "filterCalls.minUnitigBlockLength: 40<br><br>makeRegions: <br>  slop: 250<br>  minCoverage: 0<br>  maxCoverage: 200<br>  maxRegionLength: 100000<br>  minRepeatPeriod: 6<br>  minRepeatLength: 100<br>  functionalRegions: none<br>  genomeBuild: hg38<br>  overlappedFunctionalRegions: false<br>makeCalls: <br>  singleBaseMatchReward: 10<br>  singleBaseMismatchPenalty: 12<br>  gapOpenPenalties: 6,26<br>  gapExtensionPenalties: 1,0<br>  minUnitigMappingQuality: 1<br>filterCalls: <br>  maxIntraClusterDistance: 500<br>  minSVSize: 100<br>  minUnitigMappingQuality: 0<br>",
          "filterCalls.minUnitigBlockLength: 15<br><br>makeRegions: <br>  slop: 250<br>  minCoverage: 0<br>  maxCoverage: 200<br>  maxRegionLength: 100000<br>  minRepeatPeriod: 6<br>  minRepeatLength: 50<br>  functionalRegions: none<br>  genomeBuild: hg38<br>  overlappedFunctionalRegions: false<br>makeCalls: <br>  singleBaseMatchReward: 10<br>  singleBaseMismatchPenalty: 12<br>  gapOpenPenalties: 6,26<br>  gapExtensionPenalties: 1,0<br>  minUnitigMappingQuality: 1<br>filterCalls: <br>  maxIntraClusterDistance: 500<br>  minSVSize: 100<br>  minUnitigMappingQuality: 0<br>",
          "filterCalls.minUnitigBlockLength: 25<br><br>makeRegions: <br>  slop: 250<br>  minCoverage: 0<br>  maxCoverage: 200<br>  maxRegionLength: 100000<br>  minRepeatPeriod: 6<br>  minRepeatLength: 50<br>  functionalRegions: none<br>  genomeBuild: hg38<br>  overlappedFunctionalRegions: false<br>makeCalls: <br>  singleBaseMatchReward: 10<br>  singleBaseMismatchPenalty: 12<br>  gapOpenPenalties: 6,26<br>  gapExtensionPenalties: 1,0<br>  minUnitigMappingQuality: 1<br>filterCalls: <br>  maxIntraClusterDistance: 500<br>  minSVSize: 100<br>  minUnitigMappingQuality: 0<br>",
          "filterCalls.minUnitigBlockLength: 40<br><br>makeRegions: <br>  slop: 250<br>  minCoverage: 0<br>  maxCoverage: 200<br>  maxRegionLength: 100000<br>  minRepeatPeriod: 6<br>  minRepeatLength: 50<br>  functionalRegions: none<br>  genomeBuild: hg38<br>  overlappedFunctionalRegions: false<br>makeCalls: <br>  singleBaseMatchReward: 10<br>  singleBaseMismatchPenalty: 12<br>  gapOpenPenalties: 6,26<br>  gapExtensionPenalties: 1,0<br>  minUnitigMappingQuality: 1<br>filterCalls: <br>  maxIntraClusterDistance: 500<br>  minSVSize: 100<br>  minUnitigMappingQuality: 0<br>",
          "filterCalls.minUnitigBlockLength: 15<br><br>makeRegions: <br>  slop: 250<br>  minCoverage: 0<br>  maxCoverage: 200<br>  maxRegionLength: 100000<br>  minRepeatPeriod: 6<br>  minRepeatLength: 0<br>  functionalRegions: none<br>  genomeBuild: hg38<br>  overlappedFunctionalRegions: false<br>makeCalls: <br>  singleBaseMatchReward: 10<br>  singleBaseMismatchPenalty: 12<br>  gapOpenPenalties: 6,26<br>  gapExtensionPenalties: 1,0<br>  minUnitigMappingQuality: 1<br>filterCalls: <br>  maxIntraClusterDistance: 500<br>  minSVSize: 500<br>  minUnitigMappingQuality: 0<br>",
          "filterCalls.minUnitigBlockLength: 25<br><br>makeRegions: <br>  slop: 250<br>  minCoverage: 0<br>  maxCoverage: 200<br>  maxRegionLength: 100000<br>  minRepeatPeriod: 6<br>  minRepeatLength: 0<br>  functionalRegions: none<br>  genomeBuild: hg38<br>  overlappedFunctionalRegions: false<br>makeCalls: <br>  singleBaseMatchReward: 10<br>  singleBaseMismatchPenalty: 12<br>  gapOpenPenalties: 6,26<br>  gapExtensionPenalties: 1,0<br>  minUnitigMappingQuality: 1<br>filterCalls: <br>  maxIntraClusterDistance: 500<br>  minSVSize: 500<br>  minUnitigMappingQuality: 0<br>",
          "filterCalls.minUnitigBlockLength: 40<br><br>makeRegions: <br>  slop: 250<br>  minCoverage: 0<br>  maxCoverage: 200<br>  maxRegionLength: 100000<br>  minRepeatPeriod: 6<br>  minRepeatLength: 0<br>  functionalRegions: none<br>  genomeBuild: hg38<br>  overlappedFunctionalRegions: false<br>makeCalls: <br>  singleBaseMatchReward: 10<br>  singleBaseMismatchPenalty: 12<br>  gapOpenPenalties: 6,26<br>  gapExtensionPenalties: 1,0<br>  minUnitigMappingQuality: 1<br>filterCalls: <br>  maxIntraClusterDistance: 500<br>  minSVSize: 500<br>  minUnitigMappingQuality: 0<br>",
          "filterCalls.minUnitigBlockLength: 15<br><br>makeRegions: <br>  slop: 250<br>  minCoverage: 0<br>  maxCoverage: 200<br>  maxRegionLength: 100000<br>  minRepeatPeriod: 6<br>  minRepeatLength: 100<br>  functionalRegions: none<br>  genomeBuild: hg38<br>  overlappedFunctionalRegions: false<br>makeCalls: <br>  singleBaseMatchReward: 10<br>  singleBaseMismatchPenalty: 12<br>  gapOpenPenalties: 6,26<br>  gapExtensionPenalties: 1,0<br>  minUnitigMappingQuality: 1<br>filterCalls: <br>  maxIntraClusterDistance: 500<br>  minSVSize: 500<br>  minUnitigMappingQuality: 0<br>",
          "filterCalls.minUnitigBlockLength: 25<br><br>makeRegions: <br>  slop: 250<br>  minCoverage: 0<br>  maxCoverage: 200<br>  maxRegionLength: 100000<br>  minRepeatPeriod: 6<br>  minRepeatLength: 100<br>  functionalRegions: none<br>  genomeBuild: hg38<br>  overlappedFunctionalRegions: false<br>makeCalls: <br>  singleBaseMatchReward: 10<br>  singleBaseMismatchPenalty: 12<br>  gapOpenPenalties: 6,26<br>  gapExtensionPenalties: 1,0<br>  minUnitigMappingQuality: 1<br>filterCalls: <br>  maxIntraClusterDistance: 500<br>  minSVSize: 500<br>  minUnitigMappingQuality: 0<br>",
          "filterCalls.minUnitigBlockLength: 40<br><br>makeRegions: <br>  slop: 250<br>  minCoverage: 0<br>  maxCoverage: 200<br>  maxRegionLength: 100000<br>  minRepeatPeriod: 6<br>  minRepeatLength: 100<br>  functionalRegions: none<br>  genomeBuild: hg38<br>  overlappedFunctionalRegions: false<br>makeCalls: <br>  singleBaseMatchReward: 10<br>  singleBaseMismatchPenalty: 12<br>  gapOpenPenalties: 6,26<br>  gapExtensionPenalties: 1,0<br>  minUnitigMappingQuality: 1<br>filterCalls: <br>  maxIntraClusterDistance: 500<br>  minSVSize: 500<br>  minUnitigMappingQuality: 0<br>",
          "filterCalls.minUnitigBlockLength: 15<br><br>makeRegions: <br>  slop: 250<br>  minCoverage: 0<br>  maxCoverage: 200<br>  maxRegionLength: 100000<br>  minRepeatPeriod: 6<br>  minRepeatLength: 50<br>  functionalRegions: none<br>  genomeBuild: hg38<br>  overlappedFunctionalRegions: false<br>makeCalls: <br>  singleBaseMatchReward: 10<br>  singleBaseMismatchPenalty: 12<br>  gapOpenPenalties: 6,26<br>  gapExtensionPenalties: 1,0<br>  minUnitigMappingQuality: 1<br>filterCalls: <br>  maxIntraClusterDistance: 500<br>  minSVSize: 500<br>  minUnitigMappingQuality: 0<br>",
          "filterCalls.minUnitigBlockLength: 25<br><br>makeRegions: <br>  slop: 250<br>  minCoverage: 0<br>  maxCoverage: 200<br>  maxRegionLength: 100000<br>  minRepeatPeriod: 6<br>  minRepeatLength: 50<br>  functionalRegions: none<br>  genomeBuild: hg38<br>  overlappedFunctionalRegions: false<br>makeCalls: <br>  singleBaseMatchReward: 10<br>  singleBaseMismatchPenalty: 12<br>  gapOpenPenalties: 6,26<br>  gapExtensionPenalties: 1,0<br>  minUnitigMappingQuality: 1<br>filterCalls: <br>  maxIntraClusterDistance: 500<br>  minSVSize: 500<br>  minUnitigMappingQuality: 0<br>",
          "filterCalls.minUnitigBlockLength: 40<br><br>makeRegions: <br>  slop: 250<br>  minCoverage: 0<br>  maxCoverage: 200<br>  maxRegionLength: 100000<br>  minRepeatPeriod: 6<br>  minRepeatLength: 50<br>  functionalRegions: none<br>  genomeBuild: hg38<br>  overlappedFunctionalRegions: false<br>makeCalls: <br>  singleBaseMatchReward: 10<br>  singleBaseMismatchPenalty: 12<br>  gapOpenPenalties: 6,26<br>  gapExtensionPenalties: 1,0<br>  minUnitigMappingQuality: 1<br>filterCalls: <br>  maxIntraClusterDistance: 500<br>  minSVSize: 500<br>  minUnitigMappingQuality: 0<br>",
          "filterCalls.minUnitigBlockLength: 15<br><br>makeRegions: <br>  slop: 250<br>  minCoverage: 0<br>  maxCoverage: 200<br>  maxRegionLength: 100000<br>  minRepeatPeriod: 6<br>  minRepeatLength: 0<br>  functionalRegions: none<br>  genomeBuild: hg38<br>  overlappedFunctionalRegions: false<br>makeCalls: <br>  singleBaseMatchReward: 10<br>  singleBaseMismatchPenalty: 12<br>  gapOpenPenalties: 6,26<br>  gapExtensionPenalties: 1,0<br>  minUnitigMappingQuality: 1<br>filterCalls: <br>  maxIntraClusterDistance: 500<br>  minSVSize: 50<br>  minUnitigMappingQuality: 0<br>",
          "filterCalls.minUnitigBlockLength: 25<br><br>makeRegions: <br>  slop: 250<br>  minCoverage: 0<br>  maxCoverage: 200<br>  maxRegionLength: 100000<br>  minRepeatPeriod: 6<br>  minRepeatLength: 0<br>  functionalRegions: none<br>  genomeBuild: hg38<br>  overlappedFunctionalRegions: false<br>makeCalls: <br>  singleBaseMatchReward: 10<br>  singleBaseMismatchPenalty: 12<br>  gapOpenPenalties: 6,26<br>  gapExtensionPenalties: 1,0<br>  minUnitigMappingQuality: 1<br>filterCalls: <br>  maxIntraClusterDistance: 500<br>  minSVSize: 50<br>  minUnitigMappingQuality: 0<br>",
          "filterCalls.minUnitigBlockLength: 40<br><br>makeRegions: <br>  slop: 250<br>  minCoverage: 0<br>  maxCoverage: 200<br>  maxRegionLength: 100000<br>  minRepeatPeriod: 6<br>  minRepeatLength: 0<br>  functionalRegions: none<br>  genomeBuild: hg38<br>  overlappedFunctionalRegions: false<br>makeCalls: <br>  singleBaseMatchReward: 10<br>  singleBaseMismatchPenalty: 12<br>  gapOpenPenalties: 6,26<br>  gapExtensionPenalties: 1,0<br>  minUnitigMappingQuality: 1<br>filterCalls: <br>  maxIntraClusterDistance: 500<br>  minSVSize: 50<br>  minUnitigMappingQuality: 0<br>",
          "filterCalls.minUnitigBlockLength: 15<br><br>makeRegions: <br>  slop: 250<br>  minCoverage: 0<br>  maxCoverage: 200<br>  maxRegionLength: 100000<br>  minRepeatPeriod: 6<br>  minRepeatLength: 100<br>  functionalRegions: none<br>  genomeBuild: hg38<br>  overlappedFunctionalRegions: false<br>makeCalls: <br>  singleBaseMatchReward: 10<br>  singleBaseMismatchPenalty: 12<br>  gapOpenPenalties: 6,26<br>  gapExtensionPenalties: 1,0<br>  minUnitigMappingQuality: 1<br>filterCalls: <br>  maxIntraClusterDistance: 500<br>  minSVSize: 50<br>  minUnitigMappingQuality: 0<br>",
          "filterCalls.minUnitigBlockLength: 25<br><br>makeRegions: <br>  slop: 250<br>  minCoverage: 0<br>  maxCoverage: 200<br>  maxRegionLength: 100000<br>  minRepeatPeriod: 6<br>  minRepeatLength: 100<br>  functionalRegions: none<br>  genomeBuild: hg38<br>  overlappedFunctionalRegions: false<br>makeCalls: <br>  singleBaseMatchReward: 10<br>  singleBaseMismatchPenalty: 12<br>  gapOpenPenalties: 6,26<br>  gapExtensionPenalties: 1,0<br>  minUnitigMappingQuality: 1<br>filterCalls: <br>  maxIntraClusterDistance: 500<br>  minSVSize: 50<br>  minUnitigMappingQuality: 0<br>",
          "filterCalls.minUnitigBlockLength: 40<br><br>makeRegions: <br>  slop: 250<br>  minCoverage: 0<br>  maxCoverage: 200<br>  maxRegionLength: 100000<br>  minRepeatPeriod: 6<br>  minRepeatLength: 100<br>  functionalRegions: none<br>  genomeBuild: hg38<br>  overlappedFunctionalRegions: false<br>makeCalls: <br>  singleBaseMatchReward: 10<br>  singleBaseMismatchPenalty: 12<br>  gapOpenPenalties: 6,26<br>  gapExtensionPenalties: 1,0<br>  minUnitigMappingQuality: 1<br>filterCalls: <br>  maxIntraClusterDistance: 500<br>  minSVSize: 50<br>  minUnitigMappingQuality: 0<br>",
          "filterCalls.minUnitigBlockLength: 15<br><br>makeRegions: <br>  slop: 250<br>  minCoverage: 0<br>  maxCoverage: 200<br>  maxRegionLength: 100000<br>  minRepeatPeriod: 6<br>  minRepeatLength: 50<br>  functionalRegions: none<br>  genomeBuild: hg38<br>  overlappedFunctionalRegions: false<br>makeCalls: <br>  singleBaseMatchReward: 10<br>  singleBaseMismatchPenalty: 12<br>  gapOpenPenalties: 6,26<br>  gapExtensionPenalties: 1,0<br>  minUnitigMappingQuality: 1<br>filterCalls: <br>  maxIntraClusterDistance: 500<br>  minSVSize: 50<br>  minUnitigMappingQuality: 0<br>",
          "filterCalls.minUnitigBlockLength: 25<br><br>makeRegions: <br>  slop: 250<br>  minCoverage: 0<br>  maxCoverage: 200<br>  maxRegionLength: 100000<br>  minRepeatPeriod: 6<br>  minRepeatLength: 50<br>  functionalRegions: none<br>  genomeBuild: hg38<br>  overlappedFunctionalRegions: false<br>makeCalls: <br>  singleBaseMatchReward: 10<br>  singleBaseMismatchPenalty: 12<br>  gapOpenPenalties: 6,26<br>  gapExtensionPenalties: 1,0<br>  minUnitigMappingQuality: 1<br>filterCalls: <br>  maxIntraClusterDistance: 500<br>  minSVSize: 50<br>  minUnitigMappingQuality: 0<br>",
          "filterCalls.minUnitigBlockLength: 40<br><br>makeRegions: <br>  slop: 250<br>  minCoverage: 0<br>  maxCoverage: 200<br>  maxRegionLength: 100000<br>  minRepeatPeriod: 6<br>  minRepeatLength: 50<br>  functionalRegions: none<br>  genomeBuild: hg38<br>  overlappedFunctionalRegions: false<br>makeCalls: <br>  singleBaseMatchReward: 10<br>  singleBaseMismatchPenalty: 12<br>  gapOpenPenalties: 6,26<br>  gapExtensionPenalties: 1,0<br>  minUnitigMappingQuality: 1<br>filterCalls: <br>  maxIntraClusterDistance: 500<br>  minSVSize: 50<br>  minUnitigMappingQuality: 0<br>"
         ],
         "type": "scatter",
         "x": [
          0.0028634361233480176,
          0.0026431718061674008,
          0.0028634361233480176,
          0.0024021138601969735,
          0.002161902474177276,
          0.002161902474177276,
          0.0027347310847766638,
          0.0027347310847766638,
          0.0025068368277119417,
          0,
          0,
          0,
          0,
          0,
          0,
          0,
          0,
          0,
          0.012904050083045867,
          0.013287338699373962,
          0.012392998594608406,
          0.013004980630879912,
          0.012728278915329275,
          0.012728278915329275,
          0.012976799056232795,
          0.01284572027788701,
          0.012976799056232795
         ],
         "y": [
          0.35135135135135137,
          0.35294117647058826,
          0.3611111111111111,
          0.3225806451612903,
          0.3103448275862069,
          0.32142857142857145,
          0.375,
          0.4,
          0.3548387096774194,
          0,
          0,
          0,
          0,
          0,
          0,
          0,
          0,
          0,
          0.5153061224489796,
          0.52,
          0.5271739130434783,
          0.5662650602409639,
          0.5542168674698795,
          0.5542168674698795,
          0.5210526315789473,
          0.5130890052356021,
          0.5294117647058824
         ]
        },
        {
         "hovertemplate": "%{text}",
         "marker": {
          "color": [
           "red",
           "green",
           "blue",
           "red",
           "green",
           "blue",
           "red",
           "green",
           "blue",
           "red",
           "green",
           "blue",
           "red",
           "green",
           "blue",
           "red",
           "green",
           "blue",
           "red",
           "green",
           "blue",
           "red",
           "green",
           "blue",
           "red",
           "green",
           "blue"
          ],
          "line": {
           "color": "black",
           "width": 1
          },
          "size": 10,
          "symbol": "square"
         },
         "mode": "markers",
         "name": "manta",
         "showlegend": false,
         "text": [
          "filterCalls.minUnitigBlockLength: 15<br><br>makeRegions: <br>  slop: 250<br>  minCoverage: 0<br>  maxCoverage: 200<br>  maxRegionLength: 100000<br>  minRepeatPeriod: 6<br>  minRepeatLength: 0<br>  functionalRegions: none<br>  genomeBuild: hg38<br>  overlappedFunctionalRegions: false<br>makeCalls: <br>  singleBaseMatchReward: 10<br>  singleBaseMismatchPenalty: 12<br>  gapOpenPenalties: 6,26<br>  gapExtensionPenalties: 1,0<br>  minUnitigMappingQuality: 1<br>filterCalls: <br>  maxIntraClusterDistance: 500<br>  minSVSize: 100<br>  minUnitigMappingQuality: 0<br>",
          "filterCalls.minUnitigBlockLength: 25<br><br>makeRegions: <br>  slop: 250<br>  minCoverage: 0<br>  maxCoverage: 200<br>  maxRegionLength: 100000<br>  minRepeatPeriod: 6<br>  minRepeatLength: 0<br>  functionalRegions: none<br>  genomeBuild: hg38<br>  overlappedFunctionalRegions: false<br>makeCalls: <br>  singleBaseMatchReward: 10<br>  singleBaseMismatchPenalty: 12<br>  gapOpenPenalties: 6,26<br>  gapExtensionPenalties: 1,0<br>  minUnitigMappingQuality: 1<br>filterCalls: <br>  maxIntraClusterDistance: 500<br>  minSVSize: 100<br>  minUnitigMappingQuality: 0<br>",
          "filterCalls.minUnitigBlockLength: 40<br><br>makeRegions: <br>  slop: 250<br>  minCoverage: 0<br>  maxCoverage: 200<br>  maxRegionLength: 100000<br>  minRepeatPeriod: 6<br>  minRepeatLength: 0<br>  functionalRegions: none<br>  genomeBuild: hg38<br>  overlappedFunctionalRegions: false<br>makeCalls: <br>  singleBaseMatchReward: 10<br>  singleBaseMismatchPenalty: 12<br>  gapOpenPenalties: 6,26<br>  gapExtensionPenalties: 1,0<br>  minUnitigMappingQuality: 1<br>filterCalls: <br>  maxIntraClusterDistance: 500<br>  minSVSize: 100<br>  minUnitigMappingQuality: 0<br>",
          "filterCalls.minUnitigBlockLength: 15<br><br>makeRegions: <br>  slop: 250<br>  minCoverage: 0<br>  maxCoverage: 200<br>  maxRegionLength: 100000<br>  minRepeatPeriod: 6<br>  minRepeatLength: 100<br>  functionalRegions: none<br>  genomeBuild: hg38<br>  overlappedFunctionalRegions: false<br>makeCalls: <br>  singleBaseMatchReward: 10<br>  singleBaseMismatchPenalty: 12<br>  gapOpenPenalties: 6,26<br>  gapExtensionPenalties: 1,0<br>  minUnitigMappingQuality: 1<br>filterCalls: <br>  maxIntraClusterDistance: 500<br>  minSVSize: 100<br>  minUnitigMappingQuality: 0<br>",
          "filterCalls.minUnitigBlockLength: 25<br><br>makeRegions: <br>  slop: 250<br>  minCoverage: 0<br>  maxCoverage: 200<br>  maxRegionLength: 100000<br>  minRepeatPeriod: 6<br>  minRepeatLength: 100<br>  functionalRegions: none<br>  genomeBuild: hg38<br>  overlappedFunctionalRegions: false<br>makeCalls: <br>  singleBaseMatchReward: 10<br>  singleBaseMismatchPenalty: 12<br>  gapOpenPenalties: 6,26<br>  gapExtensionPenalties: 1,0<br>  minUnitigMappingQuality: 1<br>filterCalls: <br>  maxIntraClusterDistance: 500<br>  minSVSize: 100<br>  minUnitigMappingQuality: 0<br>",
          "filterCalls.minUnitigBlockLength: 40<br><br>makeRegions: <br>  slop: 250<br>  minCoverage: 0<br>  maxCoverage: 200<br>  maxRegionLength: 100000<br>  minRepeatPeriod: 6<br>  minRepeatLength: 100<br>  functionalRegions: none<br>  genomeBuild: hg38<br>  overlappedFunctionalRegions: false<br>makeCalls: <br>  singleBaseMatchReward: 10<br>  singleBaseMismatchPenalty: 12<br>  gapOpenPenalties: 6,26<br>  gapExtensionPenalties: 1,0<br>  minUnitigMappingQuality: 1<br>filterCalls: <br>  maxIntraClusterDistance: 500<br>  minSVSize: 100<br>  minUnitigMappingQuality: 0<br>",
          "filterCalls.minUnitigBlockLength: 15<br><br>makeRegions: <br>  slop: 250<br>  minCoverage: 0<br>  maxCoverage: 200<br>  maxRegionLength: 100000<br>  minRepeatPeriod: 6<br>  minRepeatLength: 50<br>  functionalRegions: none<br>  genomeBuild: hg38<br>  overlappedFunctionalRegions: false<br>makeCalls: <br>  singleBaseMatchReward: 10<br>  singleBaseMismatchPenalty: 12<br>  gapOpenPenalties: 6,26<br>  gapExtensionPenalties: 1,0<br>  minUnitigMappingQuality: 1<br>filterCalls: <br>  maxIntraClusterDistance: 500<br>  minSVSize: 100<br>  minUnitigMappingQuality: 0<br>",
          "filterCalls.minUnitigBlockLength: 25<br><br>makeRegions: <br>  slop: 250<br>  minCoverage: 0<br>  maxCoverage: 200<br>  maxRegionLength: 100000<br>  minRepeatPeriod: 6<br>  minRepeatLength: 50<br>  functionalRegions: none<br>  genomeBuild: hg38<br>  overlappedFunctionalRegions: false<br>makeCalls: <br>  singleBaseMatchReward: 10<br>  singleBaseMismatchPenalty: 12<br>  gapOpenPenalties: 6,26<br>  gapExtensionPenalties: 1,0<br>  minUnitigMappingQuality: 1<br>filterCalls: <br>  maxIntraClusterDistance: 500<br>  minSVSize: 100<br>  minUnitigMappingQuality: 0<br>",
          "filterCalls.minUnitigBlockLength: 40<br><br>makeRegions: <br>  slop: 250<br>  minCoverage: 0<br>  maxCoverage: 200<br>  maxRegionLength: 100000<br>  minRepeatPeriod: 6<br>  minRepeatLength: 50<br>  functionalRegions: none<br>  genomeBuild: hg38<br>  overlappedFunctionalRegions: false<br>makeCalls: <br>  singleBaseMatchReward: 10<br>  singleBaseMismatchPenalty: 12<br>  gapOpenPenalties: 6,26<br>  gapExtensionPenalties: 1,0<br>  minUnitigMappingQuality: 1<br>filterCalls: <br>  maxIntraClusterDistance: 500<br>  minSVSize: 100<br>  minUnitigMappingQuality: 0<br>",
          "filterCalls.minUnitigBlockLength: 15<br><br>makeRegions: <br>  slop: 250<br>  minCoverage: 0<br>  maxCoverage: 200<br>  maxRegionLength: 100000<br>  minRepeatPeriod: 6<br>  minRepeatLength: 0<br>  functionalRegions: none<br>  genomeBuild: hg38<br>  overlappedFunctionalRegions: false<br>makeCalls: <br>  singleBaseMatchReward: 10<br>  singleBaseMismatchPenalty: 12<br>  gapOpenPenalties: 6,26<br>  gapExtensionPenalties: 1,0<br>  minUnitigMappingQuality: 1<br>filterCalls: <br>  maxIntraClusterDistance: 500<br>  minSVSize: 500<br>  minUnitigMappingQuality: 0<br>",
          "filterCalls.minUnitigBlockLength: 25<br><br>makeRegions: <br>  slop: 250<br>  minCoverage: 0<br>  maxCoverage: 200<br>  maxRegionLength: 100000<br>  minRepeatPeriod: 6<br>  minRepeatLength: 0<br>  functionalRegions: none<br>  genomeBuild: hg38<br>  overlappedFunctionalRegions: false<br>makeCalls: <br>  singleBaseMatchReward: 10<br>  singleBaseMismatchPenalty: 12<br>  gapOpenPenalties: 6,26<br>  gapExtensionPenalties: 1,0<br>  minUnitigMappingQuality: 1<br>filterCalls: <br>  maxIntraClusterDistance: 500<br>  minSVSize: 500<br>  minUnitigMappingQuality: 0<br>",
          "filterCalls.minUnitigBlockLength: 40<br><br>makeRegions: <br>  slop: 250<br>  minCoverage: 0<br>  maxCoverage: 200<br>  maxRegionLength: 100000<br>  minRepeatPeriod: 6<br>  minRepeatLength: 0<br>  functionalRegions: none<br>  genomeBuild: hg38<br>  overlappedFunctionalRegions: false<br>makeCalls: <br>  singleBaseMatchReward: 10<br>  singleBaseMismatchPenalty: 12<br>  gapOpenPenalties: 6,26<br>  gapExtensionPenalties: 1,0<br>  minUnitigMappingQuality: 1<br>filterCalls: <br>  maxIntraClusterDistance: 500<br>  minSVSize: 500<br>  minUnitigMappingQuality: 0<br>",
          "filterCalls.minUnitigBlockLength: 15<br><br>makeRegions: <br>  slop: 250<br>  minCoverage: 0<br>  maxCoverage: 200<br>  maxRegionLength: 100000<br>  minRepeatPeriod: 6<br>  minRepeatLength: 100<br>  functionalRegions: none<br>  genomeBuild: hg38<br>  overlappedFunctionalRegions: false<br>makeCalls: <br>  singleBaseMatchReward: 10<br>  singleBaseMismatchPenalty: 12<br>  gapOpenPenalties: 6,26<br>  gapExtensionPenalties: 1,0<br>  minUnitigMappingQuality: 1<br>filterCalls: <br>  maxIntraClusterDistance: 500<br>  minSVSize: 500<br>  minUnitigMappingQuality: 0<br>",
          "filterCalls.minUnitigBlockLength: 25<br><br>makeRegions: <br>  slop: 250<br>  minCoverage: 0<br>  maxCoverage: 200<br>  maxRegionLength: 100000<br>  minRepeatPeriod: 6<br>  minRepeatLength: 100<br>  functionalRegions: none<br>  genomeBuild: hg38<br>  overlappedFunctionalRegions: false<br>makeCalls: <br>  singleBaseMatchReward: 10<br>  singleBaseMismatchPenalty: 12<br>  gapOpenPenalties: 6,26<br>  gapExtensionPenalties: 1,0<br>  minUnitigMappingQuality: 1<br>filterCalls: <br>  maxIntraClusterDistance: 500<br>  minSVSize: 500<br>  minUnitigMappingQuality: 0<br>",
          "filterCalls.minUnitigBlockLength: 40<br><br>makeRegions: <br>  slop: 250<br>  minCoverage: 0<br>  maxCoverage: 200<br>  maxRegionLength: 100000<br>  minRepeatPeriod: 6<br>  minRepeatLength: 100<br>  functionalRegions: none<br>  genomeBuild: hg38<br>  overlappedFunctionalRegions: false<br>makeCalls: <br>  singleBaseMatchReward: 10<br>  singleBaseMismatchPenalty: 12<br>  gapOpenPenalties: 6,26<br>  gapExtensionPenalties: 1,0<br>  minUnitigMappingQuality: 1<br>filterCalls: <br>  maxIntraClusterDistance: 500<br>  minSVSize: 500<br>  minUnitigMappingQuality: 0<br>",
          "filterCalls.minUnitigBlockLength: 15<br><br>makeRegions: <br>  slop: 250<br>  minCoverage: 0<br>  maxCoverage: 200<br>  maxRegionLength: 100000<br>  minRepeatPeriod: 6<br>  minRepeatLength: 50<br>  functionalRegions: none<br>  genomeBuild: hg38<br>  overlappedFunctionalRegions: false<br>makeCalls: <br>  singleBaseMatchReward: 10<br>  singleBaseMismatchPenalty: 12<br>  gapOpenPenalties: 6,26<br>  gapExtensionPenalties: 1,0<br>  minUnitigMappingQuality: 1<br>filterCalls: <br>  maxIntraClusterDistance: 500<br>  minSVSize: 500<br>  minUnitigMappingQuality: 0<br>",
          "filterCalls.minUnitigBlockLength: 25<br><br>makeRegions: <br>  slop: 250<br>  minCoverage: 0<br>  maxCoverage: 200<br>  maxRegionLength: 100000<br>  minRepeatPeriod: 6<br>  minRepeatLength: 50<br>  functionalRegions: none<br>  genomeBuild: hg38<br>  overlappedFunctionalRegions: false<br>makeCalls: <br>  singleBaseMatchReward: 10<br>  singleBaseMismatchPenalty: 12<br>  gapOpenPenalties: 6,26<br>  gapExtensionPenalties: 1,0<br>  minUnitigMappingQuality: 1<br>filterCalls: <br>  maxIntraClusterDistance: 500<br>  minSVSize: 500<br>  minUnitigMappingQuality: 0<br>",
          "filterCalls.minUnitigBlockLength: 40<br><br>makeRegions: <br>  slop: 250<br>  minCoverage: 0<br>  maxCoverage: 200<br>  maxRegionLength: 100000<br>  minRepeatPeriod: 6<br>  minRepeatLength: 50<br>  functionalRegions: none<br>  genomeBuild: hg38<br>  overlappedFunctionalRegions: false<br>makeCalls: <br>  singleBaseMatchReward: 10<br>  singleBaseMismatchPenalty: 12<br>  gapOpenPenalties: 6,26<br>  gapExtensionPenalties: 1,0<br>  minUnitigMappingQuality: 1<br>filterCalls: <br>  maxIntraClusterDistance: 500<br>  minSVSize: 500<br>  minUnitigMappingQuality: 0<br>",
          "filterCalls.minUnitigBlockLength: 15<br><br>makeRegions: <br>  slop: 250<br>  minCoverage: 0<br>  maxCoverage: 200<br>  maxRegionLength: 100000<br>  minRepeatPeriod: 6<br>  minRepeatLength: 0<br>  functionalRegions: none<br>  genomeBuild: hg38<br>  overlappedFunctionalRegions: false<br>makeCalls: <br>  singleBaseMatchReward: 10<br>  singleBaseMismatchPenalty: 12<br>  gapOpenPenalties: 6,26<br>  gapExtensionPenalties: 1,0<br>  minUnitigMappingQuality: 1<br>filterCalls: <br>  maxIntraClusterDistance: 500<br>  minSVSize: 50<br>  minUnitigMappingQuality: 0<br>",
          "filterCalls.minUnitigBlockLength: 25<br><br>makeRegions: <br>  slop: 250<br>  minCoverage: 0<br>  maxCoverage: 200<br>  maxRegionLength: 100000<br>  minRepeatPeriod: 6<br>  minRepeatLength: 0<br>  functionalRegions: none<br>  genomeBuild: hg38<br>  overlappedFunctionalRegions: false<br>makeCalls: <br>  singleBaseMatchReward: 10<br>  singleBaseMismatchPenalty: 12<br>  gapOpenPenalties: 6,26<br>  gapExtensionPenalties: 1,0<br>  minUnitigMappingQuality: 1<br>filterCalls: <br>  maxIntraClusterDistance: 500<br>  minSVSize: 50<br>  minUnitigMappingQuality: 0<br>",
          "filterCalls.minUnitigBlockLength: 40<br><br>makeRegions: <br>  slop: 250<br>  minCoverage: 0<br>  maxCoverage: 200<br>  maxRegionLength: 100000<br>  minRepeatPeriod: 6<br>  minRepeatLength: 0<br>  functionalRegions: none<br>  genomeBuild: hg38<br>  overlappedFunctionalRegions: false<br>makeCalls: <br>  singleBaseMatchReward: 10<br>  singleBaseMismatchPenalty: 12<br>  gapOpenPenalties: 6,26<br>  gapExtensionPenalties: 1,0<br>  minUnitigMappingQuality: 1<br>filterCalls: <br>  maxIntraClusterDistance: 500<br>  minSVSize: 50<br>  minUnitigMappingQuality: 0<br>",
          "filterCalls.minUnitigBlockLength: 15<br><br>makeRegions: <br>  slop: 250<br>  minCoverage: 0<br>  maxCoverage: 200<br>  maxRegionLength: 100000<br>  minRepeatPeriod: 6<br>  minRepeatLength: 100<br>  functionalRegions: none<br>  genomeBuild: hg38<br>  overlappedFunctionalRegions: false<br>makeCalls: <br>  singleBaseMatchReward: 10<br>  singleBaseMismatchPenalty: 12<br>  gapOpenPenalties: 6,26<br>  gapExtensionPenalties: 1,0<br>  minUnitigMappingQuality: 1<br>filterCalls: <br>  maxIntraClusterDistance: 500<br>  minSVSize: 50<br>  minUnitigMappingQuality: 0<br>",
          "filterCalls.minUnitigBlockLength: 25<br><br>makeRegions: <br>  slop: 250<br>  minCoverage: 0<br>  maxCoverage: 200<br>  maxRegionLength: 100000<br>  minRepeatPeriod: 6<br>  minRepeatLength: 100<br>  functionalRegions: none<br>  genomeBuild: hg38<br>  overlappedFunctionalRegions: false<br>makeCalls: <br>  singleBaseMatchReward: 10<br>  singleBaseMismatchPenalty: 12<br>  gapOpenPenalties: 6,26<br>  gapExtensionPenalties: 1,0<br>  minUnitigMappingQuality: 1<br>filterCalls: <br>  maxIntraClusterDistance: 500<br>  minSVSize: 50<br>  minUnitigMappingQuality: 0<br>",
          "filterCalls.minUnitigBlockLength: 40<br><br>makeRegions: <br>  slop: 250<br>  minCoverage: 0<br>  maxCoverage: 200<br>  maxRegionLength: 100000<br>  minRepeatPeriod: 6<br>  minRepeatLength: 100<br>  functionalRegions: none<br>  genomeBuild: hg38<br>  overlappedFunctionalRegions: false<br>makeCalls: <br>  singleBaseMatchReward: 10<br>  singleBaseMismatchPenalty: 12<br>  gapOpenPenalties: 6,26<br>  gapExtensionPenalties: 1,0<br>  minUnitigMappingQuality: 1<br>filterCalls: <br>  maxIntraClusterDistance: 500<br>  minSVSize: 50<br>  minUnitigMappingQuality: 0<br>",
          "filterCalls.minUnitigBlockLength: 15<br><br>makeRegions: <br>  slop: 250<br>  minCoverage: 0<br>  maxCoverage: 200<br>  maxRegionLength: 100000<br>  minRepeatPeriod: 6<br>  minRepeatLength: 50<br>  functionalRegions: none<br>  genomeBuild: hg38<br>  overlappedFunctionalRegions: false<br>makeCalls: <br>  singleBaseMatchReward: 10<br>  singleBaseMismatchPenalty: 12<br>  gapOpenPenalties: 6,26<br>  gapExtensionPenalties: 1,0<br>  minUnitigMappingQuality: 1<br>filterCalls: <br>  maxIntraClusterDistance: 500<br>  minSVSize: 50<br>  minUnitigMappingQuality: 0<br>",
          "filterCalls.minUnitigBlockLength: 25<br><br>makeRegions: <br>  slop: 250<br>  minCoverage: 0<br>  maxCoverage: 200<br>  maxRegionLength: 100000<br>  minRepeatPeriod: 6<br>  minRepeatLength: 50<br>  functionalRegions: none<br>  genomeBuild: hg38<br>  overlappedFunctionalRegions: false<br>makeCalls: <br>  singleBaseMatchReward: 10<br>  singleBaseMismatchPenalty: 12<br>  gapOpenPenalties: 6,26<br>  gapExtensionPenalties: 1,0<br>  minUnitigMappingQuality: 1<br>filterCalls: <br>  maxIntraClusterDistance: 500<br>  minSVSize: 50<br>  minUnitigMappingQuality: 0<br>",
          "filterCalls.minUnitigBlockLength: 40<br><br>makeRegions: <br>  slop: 250<br>  minCoverage: 0<br>  maxCoverage: 200<br>  maxRegionLength: 100000<br>  minRepeatPeriod: 6<br>  minRepeatLength: 50<br>  functionalRegions: none<br>  genomeBuild: hg38<br>  overlappedFunctionalRegions: false<br>makeCalls: <br>  singleBaseMatchReward: 10<br>  singleBaseMismatchPenalty: 12<br>  gapOpenPenalties: 6,26<br>  gapExtensionPenalties: 1,0<br>  minUnitigMappingQuality: 1<br>filterCalls: <br>  maxIntraClusterDistance: 500<br>  minSVSize: 50<br>  minUnitigMappingQuality: 0<br>"
         ],
         "type": "scatter",
         "x": [
          0.02488986784140969,
          0.02488986784140969,
          0.02488986784140969,
          0.025942829690127314,
          0.025942829690127314,
          0.025942829690127314,
          0.025979945305378303,
          0.025979945305378303,
          0.025979945305378303,
          0.0035294117647058825,
          0.0035294117647058825,
          0.0035294117647058825,
          0.004010695187165776,
          0.004010695187165776,
          0.004010695187165776,
          0.0037174721189591076,
          0.0037174721189591076,
          0.0037174721189591076,
          0.04663344831991823,
          0.04663344831991823,
          0.04663344831991823,
          0.04247371333702269,
          0.04247371333702269,
          0.04247371333702269,
          0.046139729977716606,
          0.046139729977716606,
          0.046139729977716606
         ],
         "y": [
          0.3095890410958904,
          0.3095890410958904,
          0.3095890410958904,
          0.3176470588235294,
          0.3176470588235294,
          0.3176470588235294,
          0.3149171270718232,
          0.3149171270718232,
          0.3149171270718232,
          0.3333333333333333,
          0.3333333333333333,
          0.3333333333333333,
          0.2727272727272727,
          0.2727272727272727,
          0.2727272727272727,
          0.3333333333333333,
          0.3333333333333333,
          0.3333333333333333,
          0.3916309012875536,
          0.3916309012875536,
          0.3916309012875536,
          0.40878828229027964,
          0.40878828229027964,
          0.40878828229027964,
          0.39461883408071746,
          0.39461883408071746,
          0.39461883408071746
         ]
        },
        {
         "marker": {
          "color": "white",
          "line": {
           "color": "black",
           "width": 1
          },
          "size": 10,
          "symbol": "circle"
         },
         "mode": "markers",
         "name": "trfermikit",
         "type": "scatter",
         "y": [
          null
         ]
        },
        {
         "marker": {
          "color": "white",
          "line": {
           "color": "black",
           "width": 1
          },
          "size": 10,
          "symbol": "square"
         },
         "mode": "markers",
         "name": "manta",
         "type": "scatter",
         "y": [
          null
         ]
        },
        {
         "marker": {
          "color": "red",
          "size": 10,
          "symbol": "circle"
         },
         "mode": "markers",
         "name": "minUnitigBlockLength=15",
         "type": "scatter",
         "y": [
          null
         ]
        },
        {
         "marker": {
          "color": "green",
          "size": 10,
          "symbol": "circle"
         },
         "mode": "markers",
         "name": "minUnitigBlockLength=25",
         "type": "scatter",
         "y": [
          null
         ]
        },
        {
         "marker": {
          "color": "blue",
          "size": 10,
          "symbol": "circle"
         },
         "mode": "markers",
         "name": "minUnitigBlockLength=40",
         "type": "scatter",
         "y": [
          null
         ]
        }
       ],
       "layout": {
        "template": {
         "data": {
          "bar": [
           {
            "error_x": {
             "color": "#2a3f5f"
            },
            "error_y": {
             "color": "#2a3f5f"
            },
            "marker": {
             "line": {
              "color": "#E5ECF6",
              "width": 0.5
             }
            },
            "type": "bar"
           }
          ],
          "barpolar": [
           {
            "marker": {
             "line": {
              "color": "#E5ECF6",
              "width": 0.5
             }
            },
            "type": "barpolar"
           }
          ],
          "carpet": [
           {
            "aaxis": {
             "endlinecolor": "#2a3f5f",
             "gridcolor": "white",
             "linecolor": "white",
             "minorgridcolor": "white",
             "startlinecolor": "#2a3f5f"
            },
            "baxis": {
             "endlinecolor": "#2a3f5f",
             "gridcolor": "white",
             "linecolor": "white",
             "minorgridcolor": "white",
             "startlinecolor": "#2a3f5f"
            },
            "type": "carpet"
           }
          ],
          "choropleth": [
           {
            "colorbar": {
             "outlinewidth": 0,
             "ticks": ""
            },
            "type": "choropleth"
           }
          ],
          "contour": [
           {
            "colorbar": {
             "outlinewidth": 0,
             "ticks": ""
            },
            "colorscale": [
             [
              0,
              "#0d0887"
             ],
             [
              0.1111111111111111,
              "#46039f"
             ],
             [
              0.2222222222222222,
              "#7201a8"
             ],
             [
              0.3333333333333333,
              "#9c179e"
             ],
             [
              0.4444444444444444,
              "#bd3786"
             ],
             [
              0.5555555555555556,
              "#d8576b"
             ],
             [
              0.6666666666666666,
              "#ed7953"
             ],
             [
              0.7777777777777778,
              "#fb9f3a"
             ],
             [
              0.8888888888888888,
              "#fdca26"
             ],
             [
              1,
              "#f0f921"
             ]
            ],
            "type": "contour"
           }
          ],
          "contourcarpet": [
           {
            "colorbar": {
             "outlinewidth": 0,
             "ticks": ""
            },
            "type": "contourcarpet"
           }
          ],
          "heatmap": [
           {
            "colorbar": {
             "outlinewidth": 0,
             "ticks": ""
            },
            "colorscale": [
             [
              0,
              "#0d0887"
             ],
             [
              0.1111111111111111,
              "#46039f"
             ],
             [
              0.2222222222222222,
              "#7201a8"
             ],
             [
              0.3333333333333333,
              "#9c179e"
             ],
             [
              0.4444444444444444,
              "#bd3786"
             ],
             [
              0.5555555555555556,
              "#d8576b"
             ],
             [
              0.6666666666666666,
              "#ed7953"
             ],
             [
              0.7777777777777778,
              "#fb9f3a"
             ],
             [
              0.8888888888888888,
              "#fdca26"
             ],
             [
              1,
              "#f0f921"
             ]
            ],
            "type": "heatmap"
           }
          ],
          "heatmapgl": [
           {
            "colorbar": {
             "outlinewidth": 0,
             "ticks": ""
            },
            "colorscale": [
             [
              0,
              "#0d0887"
             ],
             [
              0.1111111111111111,
              "#46039f"
             ],
             [
              0.2222222222222222,
              "#7201a8"
             ],
             [
              0.3333333333333333,
              "#9c179e"
             ],
             [
              0.4444444444444444,
              "#bd3786"
             ],
             [
              0.5555555555555556,
              "#d8576b"
             ],
             [
              0.6666666666666666,
              "#ed7953"
             ],
             [
              0.7777777777777778,
              "#fb9f3a"
             ],
             [
              0.8888888888888888,
              "#fdca26"
             ],
             [
              1,
              "#f0f921"
             ]
            ],
            "type": "heatmapgl"
           }
          ],
          "histogram": [
           {
            "marker": {
             "colorbar": {
              "outlinewidth": 0,
              "ticks": ""
             }
            },
            "type": "histogram"
           }
          ],
          "histogram2d": [
           {
            "colorbar": {
             "outlinewidth": 0,
             "ticks": ""
            },
            "colorscale": [
             [
              0,
              "#0d0887"
             ],
             [
              0.1111111111111111,
              "#46039f"
             ],
             [
              0.2222222222222222,
              "#7201a8"
             ],
             [
              0.3333333333333333,
              "#9c179e"
             ],
             [
              0.4444444444444444,
              "#bd3786"
             ],
             [
              0.5555555555555556,
              "#d8576b"
             ],
             [
              0.6666666666666666,
              "#ed7953"
             ],
             [
              0.7777777777777778,
              "#fb9f3a"
             ],
             [
              0.8888888888888888,
              "#fdca26"
             ],
             [
              1,
              "#f0f921"
             ]
            ],
            "type": "histogram2d"
           }
          ],
          "histogram2dcontour": [
           {
            "colorbar": {
             "outlinewidth": 0,
             "ticks": ""
            },
            "colorscale": [
             [
              0,
              "#0d0887"
             ],
             [
              0.1111111111111111,
              "#46039f"
             ],
             [
              0.2222222222222222,
              "#7201a8"
             ],
             [
              0.3333333333333333,
              "#9c179e"
             ],
             [
              0.4444444444444444,
              "#bd3786"
             ],
             [
              0.5555555555555556,
              "#d8576b"
             ],
             [
              0.6666666666666666,
              "#ed7953"
             ],
             [
              0.7777777777777778,
              "#fb9f3a"
             ],
             [
              0.8888888888888888,
              "#fdca26"
             ],
             [
              1,
              "#f0f921"
             ]
            ],
            "type": "histogram2dcontour"
           }
          ],
          "mesh3d": [
           {
            "colorbar": {
             "outlinewidth": 0,
             "ticks": ""
            },
            "type": "mesh3d"
           }
          ],
          "parcoords": [
           {
            "line": {
             "colorbar": {
              "outlinewidth": 0,
              "ticks": ""
             }
            },
            "type": "parcoords"
           }
          ],
          "pie": [
           {
            "automargin": true,
            "type": "pie"
           }
          ],
          "scatter": [
           {
            "marker": {
             "colorbar": {
              "outlinewidth": 0,
              "ticks": ""
             }
            },
            "type": "scatter"
           }
          ],
          "scatter3d": [
           {
            "line": {
             "colorbar": {
              "outlinewidth": 0,
              "ticks": ""
             }
            },
            "marker": {
             "colorbar": {
              "outlinewidth": 0,
              "ticks": ""
             }
            },
            "type": "scatter3d"
           }
          ],
          "scattercarpet": [
           {
            "marker": {
             "colorbar": {
              "outlinewidth": 0,
              "ticks": ""
             }
            },
            "type": "scattercarpet"
           }
          ],
          "scattergeo": [
           {
            "marker": {
             "colorbar": {
              "outlinewidth": 0,
              "ticks": ""
             }
            },
            "type": "scattergeo"
           }
          ],
          "scattergl": [
           {
            "marker": {
             "colorbar": {
              "outlinewidth": 0,
              "ticks": ""
             }
            },
            "type": "scattergl"
           }
          ],
          "scattermapbox": [
           {
            "marker": {
             "colorbar": {
              "outlinewidth": 0,
              "ticks": ""
             }
            },
            "type": "scattermapbox"
           }
          ],
          "scatterpolar": [
           {
            "marker": {
             "colorbar": {
              "outlinewidth": 0,
              "ticks": ""
             }
            },
            "type": "scatterpolar"
           }
          ],
          "scatterpolargl": [
           {
            "marker": {
             "colorbar": {
              "outlinewidth": 0,
              "ticks": ""
             }
            },
            "type": "scatterpolargl"
           }
          ],
          "scatterternary": [
           {
            "marker": {
             "colorbar": {
              "outlinewidth": 0,
              "ticks": ""
             }
            },
            "type": "scatterternary"
           }
          ],
          "surface": [
           {
            "colorbar": {
             "outlinewidth": 0,
             "ticks": ""
            },
            "colorscale": [
             [
              0,
              "#0d0887"
             ],
             [
              0.1111111111111111,
              "#46039f"
             ],
             [
              0.2222222222222222,
              "#7201a8"
             ],
             [
              0.3333333333333333,
              "#9c179e"
             ],
             [
              0.4444444444444444,
              "#bd3786"
             ],
             [
              0.5555555555555556,
              "#d8576b"
             ],
             [
              0.6666666666666666,
              "#ed7953"
             ],
             [
              0.7777777777777778,
              "#fb9f3a"
             ],
             [
              0.8888888888888888,
              "#fdca26"
             ],
             [
              1,
              "#f0f921"
             ]
            ],
            "type": "surface"
           }
          ],
          "table": [
           {
            "cells": {
             "fill": {
              "color": "#EBF0F8"
             },
             "line": {
              "color": "white"
             }
            },
            "header": {
             "fill": {
              "color": "#C8D4E3"
             },
             "line": {
              "color": "white"
             }
            },
            "type": "table"
           }
          ]
         },
         "layout": {
          "annotationdefaults": {
           "arrowcolor": "#2a3f5f",
           "arrowhead": 0,
           "arrowwidth": 1
          },
          "autotypenumbers": "strict",
          "coloraxis": {
           "colorbar": {
            "outlinewidth": 0,
            "ticks": ""
           }
          },
          "colorscale": {
           "diverging": [
            [
             0,
             "#8e0152"
            ],
            [
             0.1,
             "#c51b7d"
            ],
            [
             0.2,
             "#de77ae"
            ],
            [
             0.3,
             "#f1b6da"
            ],
            [
             0.4,
             "#fde0ef"
            ],
            [
             0.5,
             "#f7f7f7"
            ],
            [
             0.6,
             "#e6f5d0"
            ],
            [
             0.7,
             "#b8e186"
            ],
            [
             0.8,
             "#7fbc41"
            ],
            [
             0.9,
             "#4d9221"
            ],
            [
             1,
             "#276419"
            ]
           ],
           "sequential": [
            [
             0,
             "#0d0887"
            ],
            [
             0.1111111111111111,
             "#46039f"
            ],
            [
             0.2222222222222222,
             "#7201a8"
            ],
            [
             0.3333333333333333,
             "#9c179e"
            ],
            [
             0.4444444444444444,
             "#bd3786"
            ],
            [
             0.5555555555555556,
             "#d8576b"
            ],
            [
             0.6666666666666666,
             "#ed7953"
            ],
            [
             0.7777777777777778,
             "#fb9f3a"
            ],
            [
             0.8888888888888888,
             "#fdca26"
            ],
            [
             1,
             "#f0f921"
            ]
           ],
           "sequentialminus": [
            [
             0,
             "#0d0887"
            ],
            [
             0.1111111111111111,
             "#46039f"
            ],
            [
             0.2222222222222222,
             "#7201a8"
            ],
            [
             0.3333333333333333,
             "#9c179e"
            ],
            [
             0.4444444444444444,
             "#bd3786"
            ],
            [
             0.5555555555555556,
             "#d8576b"
            ],
            [
             0.6666666666666666,
             "#ed7953"
            ],
            [
             0.7777777777777778,
             "#fb9f3a"
            ],
            [
             0.8888888888888888,
             "#fdca26"
            ],
            [
             1,
             "#f0f921"
            ]
           ]
          },
          "colorway": [
           "#636efa",
           "#EF553B",
           "#00cc96",
           "#ab63fa",
           "#FFA15A",
           "#19d3f3",
           "#FF6692",
           "#B6E880",
           "#FF97FF",
           "#FECB52"
          ],
          "font": {
           "color": "#2a3f5f"
          },
          "geo": {
           "bgcolor": "white",
           "lakecolor": "white",
           "landcolor": "#E5ECF6",
           "showlakes": true,
           "showland": true,
           "subunitcolor": "white"
          },
          "hoverlabel": {
           "align": "left"
          },
          "hovermode": "closest",
          "mapbox": {
           "style": "light"
          },
          "paper_bgcolor": "white",
          "plot_bgcolor": "#E5ECF6",
          "polar": {
           "angularaxis": {
            "gridcolor": "white",
            "linecolor": "white",
            "ticks": ""
           },
           "bgcolor": "#E5ECF6",
           "radialaxis": {
            "gridcolor": "white",
            "linecolor": "white",
            "ticks": ""
           }
          },
          "scene": {
           "xaxis": {
            "backgroundcolor": "#E5ECF6",
            "gridcolor": "white",
            "gridwidth": 2,
            "linecolor": "white",
            "showbackground": true,
            "ticks": "",
            "zerolinecolor": "white"
           },
           "yaxis": {
            "backgroundcolor": "#E5ECF6",
            "gridcolor": "white",
            "gridwidth": 2,
            "linecolor": "white",
            "showbackground": true,
            "ticks": "",
            "zerolinecolor": "white"
           },
           "zaxis": {
            "backgroundcolor": "#E5ECF6",
            "gridcolor": "white",
            "gridwidth": 2,
            "linecolor": "white",
            "showbackground": true,
            "ticks": "",
            "zerolinecolor": "white"
           }
          },
          "shapedefaults": {
           "line": {
            "color": "#2a3f5f"
           }
          },
          "ternary": {
           "aaxis": {
            "gridcolor": "white",
            "linecolor": "white",
            "ticks": ""
           },
           "baxis": {
            "gridcolor": "white",
            "linecolor": "white",
            "ticks": ""
           },
           "bgcolor": "#E5ECF6",
           "caxis": {
            "gridcolor": "white",
            "linecolor": "white",
            "ticks": ""
           }
          },
          "title": {
           "x": 0.05
          },
          "xaxis": {
           "automargin": true,
           "gridcolor": "white",
           "linecolor": "white",
           "ticks": "",
           "title": {
            "standoff": 15
           },
           "zerolinecolor": "white",
           "zerolinewidth": 2
          },
          "yaxis": {
           "automargin": true,
           "gridcolor": "white",
           "linecolor": "white",
           "ticks": "",
           "title": {
            "standoff": 15
           },
           "zerolinecolor": "white",
           "zerolinewidth": 2
          }
         }
        },
        "title": {
         "text": "INS<br>",
         "x": 0.5,
         "y": 0.9
        },
        "xaxis": {
         "title": {
          "text": "recall"
         }
        },
        "yaxis": {
         "title": {
          "text": "precision"
         }
        }
       }
      },
      "text/html": [
       "<div>                            <div id=\"02d87001-6104-4915-89ad-b9e778278283\" class=\"plotly-graph-div\" style=\"height:525px; width:100%;\"></div>            <script type=\"text/javascript\">                require([\"plotly\"], function(Plotly) {                    window.PLOTLYENV=window.PLOTLYENV || {};                                    if (document.getElementById(\"02d87001-6104-4915-89ad-b9e778278283\")) {                    Plotly.newPlot(                        \"02d87001-6104-4915-89ad-b9e778278283\",                        [{\"hovertemplate\": \"%{text}\", \"marker\": {\"color\": [\"red\", \"green\", \"blue\", \"red\", \"green\", \"blue\", \"red\", \"green\", \"blue\", \"red\", \"green\", \"blue\", \"red\", \"green\", \"blue\", \"red\", \"green\", \"blue\", \"red\", \"green\", \"blue\", \"red\", \"green\", \"blue\", \"red\", \"green\", \"blue\"], \"line\": {\"color\": \"black\", \"width\": 1}, \"size\": 10, \"symbol\": \"circle\"}, \"mode\": \"markers\", \"name\": \"trfermikit\", \"showlegend\": false, \"text\": [\"filterCalls.minUnitigBlockLength: 15<br><br>makeRegions: <br>  slop: 250<br>  minCoverage: 0<br>  maxCoverage: 200<br>  maxRegionLength: 100000<br>  minRepeatPeriod: 6<br>  minRepeatLength: 0<br>  functionalRegions: none<br>  genomeBuild: hg38<br>  overlappedFunctionalRegions: false<br>makeCalls: <br>  singleBaseMatchReward: 10<br>  singleBaseMismatchPenalty: 12<br>  gapOpenPenalties: 6,26<br>  gapExtensionPenalties: 1,0<br>  minUnitigMappingQuality: 1<br>filterCalls: <br>  maxIntraClusterDistance: 500<br>  minSVSize: 100<br>  minUnitigMappingQuality: 0<br>\", \"filterCalls.minUnitigBlockLength: 25<br><br>makeRegions: <br>  slop: 250<br>  minCoverage: 0<br>  maxCoverage: 200<br>  maxRegionLength: 100000<br>  minRepeatPeriod: 6<br>  minRepeatLength: 0<br>  functionalRegions: none<br>  genomeBuild: hg38<br>  overlappedFunctionalRegions: false<br>makeCalls: <br>  singleBaseMatchReward: 10<br>  singleBaseMismatchPenalty: 12<br>  gapOpenPenalties: 6,26<br>  gapExtensionPenalties: 1,0<br>  minUnitigMappingQuality: 1<br>filterCalls: <br>  maxIntraClusterDistance: 500<br>  minSVSize: 100<br>  minUnitigMappingQuality: 0<br>\", \"filterCalls.minUnitigBlockLength: 40<br><br>makeRegions: <br>  slop: 250<br>  minCoverage: 0<br>  maxCoverage: 200<br>  maxRegionLength: 100000<br>  minRepeatPeriod: 6<br>  minRepeatLength: 0<br>  functionalRegions: none<br>  genomeBuild: hg38<br>  overlappedFunctionalRegions: false<br>makeCalls: <br>  singleBaseMatchReward: 10<br>  singleBaseMismatchPenalty: 12<br>  gapOpenPenalties: 6,26<br>  gapExtensionPenalties: 1,0<br>  minUnitigMappingQuality: 1<br>filterCalls: <br>  maxIntraClusterDistance: 500<br>  minSVSize: 100<br>  minUnitigMappingQuality: 0<br>\", \"filterCalls.minUnitigBlockLength: 15<br><br>makeRegions: <br>  slop: 250<br>  minCoverage: 0<br>  maxCoverage: 200<br>  maxRegionLength: 100000<br>  minRepeatPeriod: 6<br>  minRepeatLength: 100<br>  functionalRegions: none<br>  genomeBuild: hg38<br>  overlappedFunctionalRegions: false<br>makeCalls: <br>  singleBaseMatchReward: 10<br>  singleBaseMismatchPenalty: 12<br>  gapOpenPenalties: 6,26<br>  gapExtensionPenalties: 1,0<br>  minUnitigMappingQuality: 1<br>filterCalls: <br>  maxIntraClusterDistance: 500<br>  minSVSize: 100<br>  minUnitigMappingQuality: 0<br>\", \"filterCalls.minUnitigBlockLength: 25<br><br>makeRegions: <br>  slop: 250<br>  minCoverage: 0<br>  maxCoverage: 200<br>  maxRegionLength: 100000<br>  minRepeatPeriod: 6<br>  minRepeatLength: 100<br>  functionalRegions: none<br>  genomeBuild: hg38<br>  overlappedFunctionalRegions: false<br>makeCalls: <br>  singleBaseMatchReward: 10<br>  singleBaseMismatchPenalty: 12<br>  gapOpenPenalties: 6,26<br>  gapExtensionPenalties: 1,0<br>  minUnitigMappingQuality: 1<br>filterCalls: <br>  maxIntraClusterDistance: 500<br>  minSVSize: 100<br>  minUnitigMappingQuality: 0<br>\", \"filterCalls.minUnitigBlockLength: 40<br><br>makeRegions: <br>  slop: 250<br>  minCoverage: 0<br>  maxCoverage: 200<br>  maxRegionLength: 100000<br>  minRepeatPeriod: 6<br>  minRepeatLength: 100<br>  functionalRegions: none<br>  genomeBuild: hg38<br>  overlappedFunctionalRegions: false<br>makeCalls: <br>  singleBaseMatchReward: 10<br>  singleBaseMismatchPenalty: 12<br>  gapOpenPenalties: 6,26<br>  gapExtensionPenalties: 1,0<br>  minUnitigMappingQuality: 1<br>filterCalls: <br>  maxIntraClusterDistance: 500<br>  minSVSize: 100<br>  minUnitigMappingQuality: 0<br>\", \"filterCalls.minUnitigBlockLength: 15<br><br>makeRegions: <br>  slop: 250<br>  minCoverage: 0<br>  maxCoverage: 200<br>  maxRegionLength: 100000<br>  minRepeatPeriod: 6<br>  minRepeatLength: 50<br>  functionalRegions: none<br>  genomeBuild: hg38<br>  overlappedFunctionalRegions: false<br>makeCalls: <br>  singleBaseMatchReward: 10<br>  singleBaseMismatchPenalty: 12<br>  gapOpenPenalties: 6,26<br>  gapExtensionPenalties: 1,0<br>  minUnitigMappingQuality: 1<br>filterCalls: <br>  maxIntraClusterDistance: 500<br>  minSVSize: 100<br>  minUnitigMappingQuality: 0<br>\", \"filterCalls.minUnitigBlockLength: 25<br><br>makeRegions: <br>  slop: 250<br>  minCoverage: 0<br>  maxCoverage: 200<br>  maxRegionLength: 100000<br>  minRepeatPeriod: 6<br>  minRepeatLength: 50<br>  functionalRegions: none<br>  genomeBuild: hg38<br>  overlappedFunctionalRegions: false<br>makeCalls: <br>  singleBaseMatchReward: 10<br>  singleBaseMismatchPenalty: 12<br>  gapOpenPenalties: 6,26<br>  gapExtensionPenalties: 1,0<br>  minUnitigMappingQuality: 1<br>filterCalls: <br>  maxIntraClusterDistance: 500<br>  minSVSize: 100<br>  minUnitigMappingQuality: 0<br>\", \"filterCalls.minUnitigBlockLength: 40<br><br>makeRegions: <br>  slop: 250<br>  minCoverage: 0<br>  maxCoverage: 200<br>  maxRegionLength: 100000<br>  minRepeatPeriod: 6<br>  minRepeatLength: 50<br>  functionalRegions: none<br>  genomeBuild: hg38<br>  overlappedFunctionalRegions: false<br>makeCalls: <br>  singleBaseMatchReward: 10<br>  singleBaseMismatchPenalty: 12<br>  gapOpenPenalties: 6,26<br>  gapExtensionPenalties: 1,0<br>  minUnitigMappingQuality: 1<br>filterCalls: <br>  maxIntraClusterDistance: 500<br>  minSVSize: 100<br>  minUnitigMappingQuality: 0<br>\", \"filterCalls.minUnitigBlockLength: 15<br><br>makeRegions: <br>  slop: 250<br>  minCoverage: 0<br>  maxCoverage: 200<br>  maxRegionLength: 100000<br>  minRepeatPeriod: 6<br>  minRepeatLength: 0<br>  functionalRegions: none<br>  genomeBuild: hg38<br>  overlappedFunctionalRegions: false<br>makeCalls: <br>  singleBaseMatchReward: 10<br>  singleBaseMismatchPenalty: 12<br>  gapOpenPenalties: 6,26<br>  gapExtensionPenalties: 1,0<br>  minUnitigMappingQuality: 1<br>filterCalls: <br>  maxIntraClusterDistance: 500<br>  minSVSize: 500<br>  minUnitigMappingQuality: 0<br>\", \"filterCalls.minUnitigBlockLength: 25<br><br>makeRegions: <br>  slop: 250<br>  minCoverage: 0<br>  maxCoverage: 200<br>  maxRegionLength: 100000<br>  minRepeatPeriod: 6<br>  minRepeatLength: 0<br>  functionalRegions: none<br>  genomeBuild: hg38<br>  overlappedFunctionalRegions: false<br>makeCalls: <br>  singleBaseMatchReward: 10<br>  singleBaseMismatchPenalty: 12<br>  gapOpenPenalties: 6,26<br>  gapExtensionPenalties: 1,0<br>  minUnitigMappingQuality: 1<br>filterCalls: <br>  maxIntraClusterDistance: 500<br>  minSVSize: 500<br>  minUnitigMappingQuality: 0<br>\", \"filterCalls.minUnitigBlockLength: 40<br><br>makeRegions: <br>  slop: 250<br>  minCoverage: 0<br>  maxCoverage: 200<br>  maxRegionLength: 100000<br>  minRepeatPeriod: 6<br>  minRepeatLength: 0<br>  functionalRegions: none<br>  genomeBuild: hg38<br>  overlappedFunctionalRegions: false<br>makeCalls: <br>  singleBaseMatchReward: 10<br>  singleBaseMismatchPenalty: 12<br>  gapOpenPenalties: 6,26<br>  gapExtensionPenalties: 1,0<br>  minUnitigMappingQuality: 1<br>filterCalls: <br>  maxIntraClusterDistance: 500<br>  minSVSize: 500<br>  minUnitigMappingQuality: 0<br>\", \"filterCalls.minUnitigBlockLength: 15<br><br>makeRegions: <br>  slop: 250<br>  minCoverage: 0<br>  maxCoverage: 200<br>  maxRegionLength: 100000<br>  minRepeatPeriod: 6<br>  minRepeatLength: 100<br>  functionalRegions: none<br>  genomeBuild: hg38<br>  overlappedFunctionalRegions: false<br>makeCalls: <br>  singleBaseMatchReward: 10<br>  singleBaseMismatchPenalty: 12<br>  gapOpenPenalties: 6,26<br>  gapExtensionPenalties: 1,0<br>  minUnitigMappingQuality: 1<br>filterCalls: <br>  maxIntraClusterDistance: 500<br>  minSVSize: 500<br>  minUnitigMappingQuality: 0<br>\", \"filterCalls.minUnitigBlockLength: 25<br><br>makeRegions: <br>  slop: 250<br>  minCoverage: 0<br>  maxCoverage: 200<br>  maxRegionLength: 100000<br>  minRepeatPeriod: 6<br>  minRepeatLength: 100<br>  functionalRegions: none<br>  genomeBuild: hg38<br>  overlappedFunctionalRegions: false<br>makeCalls: <br>  singleBaseMatchReward: 10<br>  singleBaseMismatchPenalty: 12<br>  gapOpenPenalties: 6,26<br>  gapExtensionPenalties: 1,0<br>  minUnitigMappingQuality: 1<br>filterCalls: <br>  maxIntraClusterDistance: 500<br>  minSVSize: 500<br>  minUnitigMappingQuality: 0<br>\", \"filterCalls.minUnitigBlockLength: 40<br><br>makeRegions: <br>  slop: 250<br>  minCoverage: 0<br>  maxCoverage: 200<br>  maxRegionLength: 100000<br>  minRepeatPeriod: 6<br>  minRepeatLength: 100<br>  functionalRegions: none<br>  genomeBuild: hg38<br>  overlappedFunctionalRegions: false<br>makeCalls: <br>  singleBaseMatchReward: 10<br>  singleBaseMismatchPenalty: 12<br>  gapOpenPenalties: 6,26<br>  gapExtensionPenalties: 1,0<br>  minUnitigMappingQuality: 1<br>filterCalls: <br>  maxIntraClusterDistance: 500<br>  minSVSize: 500<br>  minUnitigMappingQuality: 0<br>\", \"filterCalls.minUnitigBlockLength: 15<br><br>makeRegions: <br>  slop: 250<br>  minCoverage: 0<br>  maxCoverage: 200<br>  maxRegionLength: 100000<br>  minRepeatPeriod: 6<br>  minRepeatLength: 50<br>  functionalRegions: none<br>  genomeBuild: hg38<br>  overlappedFunctionalRegions: false<br>makeCalls: <br>  singleBaseMatchReward: 10<br>  singleBaseMismatchPenalty: 12<br>  gapOpenPenalties: 6,26<br>  gapExtensionPenalties: 1,0<br>  minUnitigMappingQuality: 1<br>filterCalls: <br>  maxIntraClusterDistance: 500<br>  minSVSize: 500<br>  minUnitigMappingQuality: 0<br>\", \"filterCalls.minUnitigBlockLength: 25<br><br>makeRegions: <br>  slop: 250<br>  minCoverage: 0<br>  maxCoverage: 200<br>  maxRegionLength: 100000<br>  minRepeatPeriod: 6<br>  minRepeatLength: 50<br>  functionalRegions: none<br>  genomeBuild: hg38<br>  overlappedFunctionalRegions: false<br>makeCalls: <br>  singleBaseMatchReward: 10<br>  singleBaseMismatchPenalty: 12<br>  gapOpenPenalties: 6,26<br>  gapExtensionPenalties: 1,0<br>  minUnitigMappingQuality: 1<br>filterCalls: <br>  maxIntraClusterDistance: 500<br>  minSVSize: 500<br>  minUnitigMappingQuality: 0<br>\", \"filterCalls.minUnitigBlockLength: 40<br><br>makeRegions: <br>  slop: 250<br>  minCoverage: 0<br>  maxCoverage: 200<br>  maxRegionLength: 100000<br>  minRepeatPeriod: 6<br>  minRepeatLength: 50<br>  functionalRegions: none<br>  genomeBuild: hg38<br>  overlappedFunctionalRegions: false<br>makeCalls: <br>  singleBaseMatchReward: 10<br>  singleBaseMismatchPenalty: 12<br>  gapOpenPenalties: 6,26<br>  gapExtensionPenalties: 1,0<br>  minUnitigMappingQuality: 1<br>filterCalls: <br>  maxIntraClusterDistance: 500<br>  minSVSize: 500<br>  minUnitigMappingQuality: 0<br>\", \"filterCalls.minUnitigBlockLength: 15<br><br>makeRegions: <br>  slop: 250<br>  minCoverage: 0<br>  maxCoverage: 200<br>  maxRegionLength: 100000<br>  minRepeatPeriod: 6<br>  minRepeatLength: 0<br>  functionalRegions: none<br>  genomeBuild: hg38<br>  overlappedFunctionalRegions: false<br>makeCalls: <br>  singleBaseMatchReward: 10<br>  singleBaseMismatchPenalty: 12<br>  gapOpenPenalties: 6,26<br>  gapExtensionPenalties: 1,0<br>  minUnitigMappingQuality: 1<br>filterCalls: <br>  maxIntraClusterDistance: 500<br>  minSVSize: 50<br>  minUnitigMappingQuality: 0<br>\", \"filterCalls.minUnitigBlockLength: 25<br><br>makeRegions: <br>  slop: 250<br>  minCoverage: 0<br>  maxCoverage: 200<br>  maxRegionLength: 100000<br>  minRepeatPeriod: 6<br>  minRepeatLength: 0<br>  functionalRegions: none<br>  genomeBuild: hg38<br>  overlappedFunctionalRegions: false<br>makeCalls: <br>  singleBaseMatchReward: 10<br>  singleBaseMismatchPenalty: 12<br>  gapOpenPenalties: 6,26<br>  gapExtensionPenalties: 1,0<br>  minUnitigMappingQuality: 1<br>filterCalls: <br>  maxIntraClusterDistance: 500<br>  minSVSize: 50<br>  minUnitigMappingQuality: 0<br>\", \"filterCalls.minUnitigBlockLength: 40<br><br>makeRegions: <br>  slop: 250<br>  minCoverage: 0<br>  maxCoverage: 200<br>  maxRegionLength: 100000<br>  minRepeatPeriod: 6<br>  minRepeatLength: 0<br>  functionalRegions: none<br>  genomeBuild: hg38<br>  overlappedFunctionalRegions: false<br>makeCalls: <br>  singleBaseMatchReward: 10<br>  singleBaseMismatchPenalty: 12<br>  gapOpenPenalties: 6,26<br>  gapExtensionPenalties: 1,0<br>  minUnitigMappingQuality: 1<br>filterCalls: <br>  maxIntraClusterDistance: 500<br>  minSVSize: 50<br>  minUnitigMappingQuality: 0<br>\", \"filterCalls.minUnitigBlockLength: 15<br><br>makeRegions: <br>  slop: 250<br>  minCoverage: 0<br>  maxCoverage: 200<br>  maxRegionLength: 100000<br>  minRepeatPeriod: 6<br>  minRepeatLength: 100<br>  functionalRegions: none<br>  genomeBuild: hg38<br>  overlappedFunctionalRegions: false<br>makeCalls: <br>  singleBaseMatchReward: 10<br>  singleBaseMismatchPenalty: 12<br>  gapOpenPenalties: 6,26<br>  gapExtensionPenalties: 1,0<br>  minUnitigMappingQuality: 1<br>filterCalls: <br>  maxIntraClusterDistance: 500<br>  minSVSize: 50<br>  minUnitigMappingQuality: 0<br>\", \"filterCalls.minUnitigBlockLength: 25<br><br>makeRegions: <br>  slop: 250<br>  minCoverage: 0<br>  maxCoverage: 200<br>  maxRegionLength: 100000<br>  minRepeatPeriod: 6<br>  minRepeatLength: 100<br>  functionalRegions: none<br>  genomeBuild: hg38<br>  overlappedFunctionalRegions: false<br>makeCalls: <br>  singleBaseMatchReward: 10<br>  singleBaseMismatchPenalty: 12<br>  gapOpenPenalties: 6,26<br>  gapExtensionPenalties: 1,0<br>  minUnitigMappingQuality: 1<br>filterCalls: <br>  maxIntraClusterDistance: 500<br>  minSVSize: 50<br>  minUnitigMappingQuality: 0<br>\", \"filterCalls.minUnitigBlockLength: 40<br><br>makeRegions: <br>  slop: 250<br>  minCoverage: 0<br>  maxCoverage: 200<br>  maxRegionLength: 100000<br>  minRepeatPeriod: 6<br>  minRepeatLength: 100<br>  functionalRegions: none<br>  genomeBuild: hg38<br>  overlappedFunctionalRegions: false<br>makeCalls: <br>  singleBaseMatchReward: 10<br>  singleBaseMismatchPenalty: 12<br>  gapOpenPenalties: 6,26<br>  gapExtensionPenalties: 1,0<br>  minUnitigMappingQuality: 1<br>filterCalls: <br>  maxIntraClusterDistance: 500<br>  minSVSize: 50<br>  minUnitigMappingQuality: 0<br>\", \"filterCalls.minUnitigBlockLength: 15<br><br>makeRegions: <br>  slop: 250<br>  minCoverage: 0<br>  maxCoverage: 200<br>  maxRegionLength: 100000<br>  minRepeatPeriod: 6<br>  minRepeatLength: 50<br>  functionalRegions: none<br>  genomeBuild: hg38<br>  overlappedFunctionalRegions: false<br>makeCalls: <br>  singleBaseMatchReward: 10<br>  singleBaseMismatchPenalty: 12<br>  gapOpenPenalties: 6,26<br>  gapExtensionPenalties: 1,0<br>  minUnitigMappingQuality: 1<br>filterCalls: <br>  maxIntraClusterDistance: 500<br>  minSVSize: 50<br>  minUnitigMappingQuality: 0<br>\", \"filterCalls.minUnitigBlockLength: 25<br><br>makeRegions: <br>  slop: 250<br>  minCoverage: 0<br>  maxCoverage: 200<br>  maxRegionLength: 100000<br>  minRepeatPeriod: 6<br>  minRepeatLength: 50<br>  functionalRegions: none<br>  genomeBuild: hg38<br>  overlappedFunctionalRegions: false<br>makeCalls: <br>  singleBaseMatchReward: 10<br>  singleBaseMismatchPenalty: 12<br>  gapOpenPenalties: 6,26<br>  gapExtensionPenalties: 1,0<br>  minUnitigMappingQuality: 1<br>filterCalls: <br>  maxIntraClusterDistance: 500<br>  minSVSize: 50<br>  minUnitigMappingQuality: 0<br>\", \"filterCalls.minUnitigBlockLength: 40<br><br>makeRegions: <br>  slop: 250<br>  minCoverage: 0<br>  maxCoverage: 200<br>  maxRegionLength: 100000<br>  minRepeatPeriod: 6<br>  minRepeatLength: 50<br>  functionalRegions: none<br>  genomeBuild: hg38<br>  overlappedFunctionalRegions: false<br>makeCalls: <br>  singleBaseMatchReward: 10<br>  singleBaseMismatchPenalty: 12<br>  gapOpenPenalties: 6,26<br>  gapExtensionPenalties: 1,0<br>  minUnitigMappingQuality: 1<br>filterCalls: <br>  maxIntraClusterDistance: 500<br>  minSVSize: 50<br>  minUnitigMappingQuality: 0<br>\"], \"type\": \"scatter\", \"x\": [0.0028634361233480176, 0.0026431718061674008, 0.0028634361233480176, 0.0024021138601969735, 0.002161902474177276, 0.002161902474177276, 0.0027347310847766638, 0.0027347310847766638, 0.0025068368277119417, 0.0, 0.0, 0.0, 0.0, 0.0, 0.0, 0.0, 0.0, 0.0, 0.012904050083045867, 0.013287338699373962, 0.012392998594608406, 0.013004980630879912, 0.012728278915329275, 0.012728278915329275, 0.012976799056232795, 0.01284572027788701, 0.012976799056232795], \"y\": [0.35135135135135137, 0.35294117647058826, 0.3611111111111111, 0.3225806451612903, 0.3103448275862069, 0.32142857142857145, 0.375, 0.4, 0.3548387096774194, 0.0, 0.0, 0.0, 0.0, 0.0, 0.0, 0.0, 0.0, 0.0, 0.5153061224489796, 0.52, 0.5271739130434783, 0.5662650602409639, 0.5542168674698795, 0.5542168674698795, 0.5210526315789473, 0.5130890052356021, 0.5294117647058824]}, {\"hovertemplate\": \"%{text}\", \"marker\": {\"color\": [\"red\", \"green\", \"blue\", \"red\", \"green\", \"blue\", \"red\", \"green\", \"blue\", \"red\", \"green\", \"blue\", \"red\", \"green\", \"blue\", \"red\", \"green\", \"blue\", \"red\", \"green\", \"blue\", \"red\", \"green\", \"blue\", \"red\", \"green\", \"blue\"], \"line\": {\"color\": \"black\", \"width\": 1}, \"size\": 10, \"symbol\": \"square\"}, \"mode\": \"markers\", \"name\": \"manta\", \"showlegend\": false, \"text\": [\"filterCalls.minUnitigBlockLength: 15<br><br>makeRegions: <br>  slop: 250<br>  minCoverage: 0<br>  maxCoverage: 200<br>  maxRegionLength: 100000<br>  minRepeatPeriod: 6<br>  minRepeatLength: 0<br>  functionalRegions: none<br>  genomeBuild: hg38<br>  overlappedFunctionalRegions: false<br>makeCalls: <br>  singleBaseMatchReward: 10<br>  singleBaseMismatchPenalty: 12<br>  gapOpenPenalties: 6,26<br>  gapExtensionPenalties: 1,0<br>  minUnitigMappingQuality: 1<br>filterCalls: <br>  maxIntraClusterDistance: 500<br>  minSVSize: 100<br>  minUnitigMappingQuality: 0<br>\", \"filterCalls.minUnitigBlockLength: 25<br><br>makeRegions: <br>  slop: 250<br>  minCoverage: 0<br>  maxCoverage: 200<br>  maxRegionLength: 100000<br>  minRepeatPeriod: 6<br>  minRepeatLength: 0<br>  functionalRegions: none<br>  genomeBuild: hg38<br>  overlappedFunctionalRegions: false<br>makeCalls: <br>  singleBaseMatchReward: 10<br>  singleBaseMismatchPenalty: 12<br>  gapOpenPenalties: 6,26<br>  gapExtensionPenalties: 1,0<br>  minUnitigMappingQuality: 1<br>filterCalls: <br>  maxIntraClusterDistance: 500<br>  minSVSize: 100<br>  minUnitigMappingQuality: 0<br>\", \"filterCalls.minUnitigBlockLength: 40<br><br>makeRegions: <br>  slop: 250<br>  minCoverage: 0<br>  maxCoverage: 200<br>  maxRegionLength: 100000<br>  minRepeatPeriod: 6<br>  minRepeatLength: 0<br>  functionalRegions: none<br>  genomeBuild: hg38<br>  overlappedFunctionalRegions: false<br>makeCalls: <br>  singleBaseMatchReward: 10<br>  singleBaseMismatchPenalty: 12<br>  gapOpenPenalties: 6,26<br>  gapExtensionPenalties: 1,0<br>  minUnitigMappingQuality: 1<br>filterCalls: <br>  maxIntraClusterDistance: 500<br>  minSVSize: 100<br>  minUnitigMappingQuality: 0<br>\", \"filterCalls.minUnitigBlockLength: 15<br><br>makeRegions: <br>  slop: 250<br>  minCoverage: 0<br>  maxCoverage: 200<br>  maxRegionLength: 100000<br>  minRepeatPeriod: 6<br>  minRepeatLength: 100<br>  functionalRegions: none<br>  genomeBuild: hg38<br>  overlappedFunctionalRegions: false<br>makeCalls: <br>  singleBaseMatchReward: 10<br>  singleBaseMismatchPenalty: 12<br>  gapOpenPenalties: 6,26<br>  gapExtensionPenalties: 1,0<br>  minUnitigMappingQuality: 1<br>filterCalls: <br>  maxIntraClusterDistance: 500<br>  minSVSize: 100<br>  minUnitigMappingQuality: 0<br>\", \"filterCalls.minUnitigBlockLength: 25<br><br>makeRegions: <br>  slop: 250<br>  minCoverage: 0<br>  maxCoverage: 200<br>  maxRegionLength: 100000<br>  minRepeatPeriod: 6<br>  minRepeatLength: 100<br>  functionalRegions: none<br>  genomeBuild: hg38<br>  overlappedFunctionalRegions: false<br>makeCalls: <br>  singleBaseMatchReward: 10<br>  singleBaseMismatchPenalty: 12<br>  gapOpenPenalties: 6,26<br>  gapExtensionPenalties: 1,0<br>  minUnitigMappingQuality: 1<br>filterCalls: <br>  maxIntraClusterDistance: 500<br>  minSVSize: 100<br>  minUnitigMappingQuality: 0<br>\", \"filterCalls.minUnitigBlockLength: 40<br><br>makeRegions: <br>  slop: 250<br>  minCoverage: 0<br>  maxCoverage: 200<br>  maxRegionLength: 100000<br>  minRepeatPeriod: 6<br>  minRepeatLength: 100<br>  functionalRegions: none<br>  genomeBuild: hg38<br>  overlappedFunctionalRegions: false<br>makeCalls: <br>  singleBaseMatchReward: 10<br>  singleBaseMismatchPenalty: 12<br>  gapOpenPenalties: 6,26<br>  gapExtensionPenalties: 1,0<br>  minUnitigMappingQuality: 1<br>filterCalls: <br>  maxIntraClusterDistance: 500<br>  minSVSize: 100<br>  minUnitigMappingQuality: 0<br>\", \"filterCalls.minUnitigBlockLength: 15<br><br>makeRegions: <br>  slop: 250<br>  minCoverage: 0<br>  maxCoverage: 200<br>  maxRegionLength: 100000<br>  minRepeatPeriod: 6<br>  minRepeatLength: 50<br>  functionalRegions: none<br>  genomeBuild: hg38<br>  overlappedFunctionalRegions: false<br>makeCalls: <br>  singleBaseMatchReward: 10<br>  singleBaseMismatchPenalty: 12<br>  gapOpenPenalties: 6,26<br>  gapExtensionPenalties: 1,0<br>  minUnitigMappingQuality: 1<br>filterCalls: <br>  maxIntraClusterDistance: 500<br>  minSVSize: 100<br>  minUnitigMappingQuality: 0<br>\", \"filterCalls.minUnitigBlockLength: 25<br><br>makeRegions: <br>  slop: 250<br>  minCoverage: 0<br>  maxCoverage: 200<br>  maxRegionLength: 100000<br>  minRepeatPeriod: 6<br>  minRepeatLength: 50<br>  functionalRegions: none<br>  genomeBuild: hg38<br>  overlappedFunctionalRegions: false<br>makeCalls: <br>  singleBaseMatchReward: 10<br>  singleBaseMismatchPenalty: 12<br>  gapOpenPenalties: 6,26<br>  gapExtensionPenalties: 1,0<br>  minUnitigMappingQuality: 1<br>filterCalls: <br>  maxIntraClusterDistance: 500<br>  minSVSize: 100<br>  minUnitigMappingQuality: 0<br>\", \"filterCalls.minUnitigBlockLength: 40<br><br>makeRegions: <br>  slop: 250<br>  minCoverage: 0<br>  maxCoverage: 200<br>  maxRegionLength: 100000<br>  minRepeatPeriod: 6<br>  minRepeatLength: 50<br>  functionalRegions: none<br>  genomeBuild: hg38<br>  overlappedFunctionalRegions: false<br>makeCalls: <br>  singleBaseMatchReward: 10<br>  singleBaseMismatchPenalty: 12<br>  gapOpenPenalties: 6,26<br>  gapExtensionPenalties: 1,0<br>  minUnitigMappingQuality: 1<br>filterCalls: <br>  maxIntraClusterDistance: 500<br>  minSVSize: 100<br>  minUnitigMappingQuality: 0<br>\", \"filterCalls.minUnitigBlockLength: 15<br><br>makeRegions: <br>  slop: 250<br>  minCoverage: 0<br>  maxCoverage: 200<br>  maxRegionLength: 100000<br>  minRepeatPeriod: 6<br>  minRepeatLength: 0<br>  functionalRegions: none<br>  genomeBuild: hg38<br>  overlappedFunctionalRegions: false<br>makeCalls: <br>  singleBaseMatchReward: 10<br>  singleBaseMismatchPenalty: 12<br>  gapOpenPenalties: 6,26<br>  gapExtensionPenalties: 1,0<br>  minUnitigMappingQuality: 1<br>filterCalls: <br>  maxIntraClusterDistance: 500<br>  minSVSize: 500<br>  minUnitigMappingQuality: 0<br>\", \"filterCalls.minUnitigBlockLength: 25<br><br>makeRegions: <br>  slop: 250<br>  minCoverage: 0<br>  maxCoverage: 200<br>  maxRegionLength: 100000<br>  minRepeatPeriod: 6<br>  minRepeatLength: 0<br>  functionalRegions: none<br>  genomeBuild: hg38<br>  overlappedFunctionalRegions: false<br>makeCalls: <br>  singleBaseMatchReward: 10<br>  singleBaseMismatchPenalty: 12<br>  gapOpenPenalties: 6,26<br>  gapExtensionPenalties: 1,0<br>  minUnitigMappingQuality: 1<br>filterCalls: <br>  maxIntraClusterDistance: 500<br>  minSVSize: 500<br>  minUnitigMappingQuality: 0<br>\", \"filterCalls.minUnitigBlockLength: 40<br><br>makeRegions: <br>  slop: 250<br>  minCoverage: 0<br>  maxCoverage: 200<br>  maxRegionLength: 100000<br>  minRepeatPeriod: 6<br>  minRepeatLength: 0<br>  functionalRegions: none<br>  genomeBuild: hg38<br>  overlappedFunctionalRegions: false<br>makeCalls: <br>  singleBaseMatchReward: 10<br>  singleBaseMismatchPenalty: 12<br>  gapOpenPenalties: 6,26<br>  gapExtensionPenalties: 1,0<br>  minUnitigMappingQuality: 1<br>filterCalls: <br>  maxIntraClusterDistance: 500<br>  minSVSize: 500<br>  minUnitigMappingQuality: 0<br>\", \"filterCalls.minUnitigBlockLength: 15<br><br>makeRegions: <br>  slop: 250<br>  minCoverage: 0<br>  maxCoverage: 200<br>  maxRegionLength: 100000<br>  minRepeatPeriod: 6<br>  minRepeatLength: 100<br>  functionalRegions: none<br>  genomeBuild: hg38<br>  overlappedFunctionalRegions: false<br>makeCalls: <br>  singleBaseMatchReward: 10<br>  singleBaseMismatchPenalty: 12<br>  gapOpenPenalties: 6,26<br>  gapExtensionPenalties: 1,0<br>  minUnitigMappingQuality: 1<br>filterCalls: <br>  maxIntraClusterDistance: 500<br>  minSVSize: 500<br>  minUnitigMappingQuality: 0<br>\", \"filterCalls.minUnitigBlockLength: 25<br><br>makeRegions: <br>  slop: 250<br>  minCoverage: 0<br>  maxCoverage: 200<br>  maxRegionLength: 100000<br>  minRepeatPeriod: 6<br>  minRepeatLength: 100<br>  functionalRegions: none<br>  genomeBuild: hg38<br>  overlappedFunctionalRegions: false<br>makeCalls: <br>  singleBaseMatchReward: 10<br>  singleBaseMismatchPenalty: 12<br>  gapOpenPenalties: 6,26<br>  gapExtensionPenalties: 1,0<br>  minUnitigMappingQuality: 1<br>filterCalls: <br>  maxIntraClusterDistance: 500<br>  minSVSize: 500<br>  minUnitigMappingQuality: 0<br>\", \"filterCalls.minUnitigBlockLength: 40<br><br>makeRegions: <br>  slop: 250<br>  minCoverage: 0<br>  maxCoverage: 200<br>  maxRegionLength: 100000<br>  minRepeatPeriod: 6<br>  minRepeatLength: 100<br>  functionalRegions: none<br>  genomeBuild: hg38<br>  overlappedFunctionalRegions: false<br>makeCalls: <br>  singleBaseMatchReward: 10<br>  singleBaseMismatchPenalty: 12<br>  gapOpenPenalties: 6,26<br>  gapExtensionPenalties: 1,0<br>  minUnitigMappingQuality: 1<br>filterCalls: <br>  maxIntraClusterDistance: 500<br>  minSVSize: 500<br>  minUnitigMappingQuality: 0<br>\", \"filterCalls.minUnitigBlockLength: 15<br><br>makeRegions: <br>  slop: 250<br>  minCoverage: 0<br>  maxCoverage: 200<br>  maxRegionLength: 100000<br>  minRepeatPeriod: 6<br>  minRepeatLength: 50<br>  functionalRegions: none<br>  genomeBuild: hg38<br>  overlappedFunctionalRegions: false<br>makeCalls: <br>  singleBaseMatchReward: 10<br>  singleBaseMismatchPenalty: 12<br>  gapOpenPenalties: 6,26<br>  gapExtensionPenalties: 1,0<br>  minUnitigMappingQuality: 1<br>filterCalls: <br>  maxIntraClusterDistance: 500<br>  minSVSize: 500<br>  minUnitigMappingQuality: 0<br>\", \"filterCalls.minUnitigBlockLength: 25<br><br>makeRegions: <br>  slop: 250<br>  minCoverage: 0<br>  maxCoverage: 200<br>  maxRegionLength: 100000<br>  minRepeatPeriod: 6<br>  minRepeatLength: 50<br>  functionalRegions: none<br>  genomeBuild: hg38<br>  overlappedFunctionalRegions: false<br>makeCalls: <br>  singleBaseMatchReward: 10<br>  singleBaseMismatchPenalty: 12<br>  gapOpenPenalties: 6,26<br>  gapExtensionPenalties: 1,0<br>  minUnitigMappingQuality: 1<br>filterCalls: <br>  maxIntraClusterDistance: 500<br>  minSVSize: 500<br>  minUnitigMappingQuality: 0<br>\", \"filterCalls.minUnitigBlockLength: 40<br><br>makeRegions: <br>  slop: 250<br>  minCoverage: 0<br>  maxCoverage: 200<br>  maxRegionLength: 100000<br>  minRepeatPeriod: 6<br>  minRepeatLength: 50<br>  functionalRegions: none<br>  genomeBuild: hg38<br>  overlappedFunctionalRegions: false<br>makeCalls: <br>  singleBaseMatchReward: 10<br>  singleBaseMismatchPenalty: 12<br>  gapOpenPenalties: 6,26<br>  gapExtensionPenalties: 1,0<br>  minUnitigMappingQuality: 1<br>filterCalls: <br>  maxIntraClusterDistance: 500<br>  minSVSize: 500<br>  minUnitigMappingQuality: 0<br>\", \"filterCalls.minUnitigBlockLength: 15<br><br>makeRegions: <br>  slop: 250<br>  minCoverage: 0<br>  maxCoverage: 200<br>  maxRegionLength: 100000<br>  minRepeatPeriod: 6<br>  minRepeatLength: 0<br>  functionalRegions: none<br>  genomeBuild: hg38<br>  overlappedFunctionalRegions: false<br>makeCalls: <br>  singleBaseMatchReward: 10<br>  singleBaseMismatchPenalty: 12<br>  gapOpenPenalties: 6,26<br>  gapExtensionPenalties: 1,0<br>  minUnitigMappingQuality: 1<br>filterCalls: <br>  maxIntraClusterDistance: 500<br>  minSVSize: 50<br>  minUnitigMappingQuality: 0<br>\", \"filterCalls.minUnitigBlockLength: 25<br><br>makeRegions: <br>  slop: 250<br>  minCoverage: 0<br>  maxCoverage: 200<br>  maxRegionLength: 100000<br>  minRepeatPeriod: 6<br>  minRepeatLength: 0<br>  functionalRegions: none<br>  genomeBuild: hg38<br>  overlappedFunctionalRegions: false<br>makeCalls: <br>  singleBaseMatchReward: 10<br>  singleBaseMismatchPenalty: 12<br>  gapOpenPenalties: 6,26<br>  gapExtensionPenalties: 1,0<br>  minUnitigMappingQuality: 1<br>filterCalls: <br>  maxIntraClusterDistance: 500<br>  minSVSize: 50<br>  minUnitigMappingQuality: 0<br>\", \"filterCalls.minUnitigBlockLength: 40<br><br>makeRegions: <br>  slop: 250<br>  minCoverage: 0<br>  maxCoverage: 200<br>  maxRegionLength: 100000<br>  minRepeatPeriod: 6<br>  minRepeatLength: 0<br>  functionalRegions: none<br>  genomeBuild: hg38<br>  overlappedFunctionalRegions: false<br>makeCalls: <br>  singleBaseMatchReward: 10<br>  singleBaseMismatchPenalty: 12<br>  gapOpenPenalties: 6,26<br>  gapExtensionPenalties: 1,0<br>  minUnitigMappingQuality: 1<br>filterCalls: <br>  maxIntraClusterDistance: 500<br>  minSVSize: 50<br>  minUnitigMappingQuality: 0<br>\", \"filterCalls.minUnitigBlockLength: 15<br><br>makeRegions: <br>  slop: 250<br>  minCoverage: 0<br>  maxCoverage: 200<br>  maxRegionLength: 100000<br>  minRepeatPeriod: 6<br>  minRepeatLength: 100<br>  functionalRegions: none<br>  genomeBuild: hg38<br>  overlappedFunctionalRegions: false<br>makeCalls: <br>  singleBaseMatchReward: 10<br>  singleBaseMismatchPenalty: 12<br>  gapOpenPenalties: 6,26<br>  gapExtensionPenalties: 1,0<br>  minUnitigMappingQuality: 1<br>filterCalls: <br>  maxIntraClusterDistance: 500<br>  minSVSize: 50<br>  minUnitigMappingQuality: 0<br>\", \"filterCalls.minUnitigBlockLength: 25<br><br>makeRegions: <br>  slop: 250<br>  minCoverage: 0<br>  maxCoverage: 200<br>  maxRegionLength: 100000<br>  minRepeatPeriod: 6<br>  minRepeatLength: 100<br>  functionalRegions: none<br>  genomeBuild: hg38<br>  overlappedFunctionalRegions: false<br>makeCalls: <br>  singleBaseMatchReward: 10<br>  singleBaseMismatchPenalty: 12<br>  gapOpenPenalties: 6,26<br>  gapExtensionPenalties: 1,0<br>  minUnitigMappingQuality: 1<br>filterCalls: <br>  maxIntraClusterDistance: 500<br>  minSVSize: 50<br>  minUnitigMappingQuality: 0<br>\", \"filterCalls.minUnitigBlockLength: 40<br><br>makeRegions: <br>  slop: 250<br>  minCoverage: 0<br>  maxCoverage: 200<br>  maxRegionLength: 100000<br>  minRepeatPeriod: 6<br>  minRepeatLength: 100<br>  functionalRegions: none<br>  genomeBuild: hg38<br>  overlappedFunctionalRegions: false<br>makeCalls: <br>  singleBaseMatchReward: 10<br>  singleBaseMismatchPenalty: 12<br>  gapOpenPenalties: 6,26<br>  gapExtensionPenalties: 1,0<br>  minUnitigMappingQuality: 1<br>filterCalls: <br>  maxIntraClusterDistance: 500<br>  minSVSize: 50<br>  minUnitigMappingQuality: 0<br>\", \"filterCalls.minUnitigBlockLength: 15<br><br>makeRegions: <br>  slop: 250<br>  minCoverage: 0<br>  maxCoverage: 200<br>  maxRegionLength: 100000<br>  minRepeatPeriod: 6<br>  minRepeatLength: 50<br>  functionalRegions: none<br>  genomeBuild: hg38<br>  overlappedFunctionalRegions: false<br>makeCalls: <br>  singleBaseMatchReward: 10<br>  singleBaseMismatchPenalty: 12<br>  gapOpenPenalties: 6,26<br>  gapExtensionPenalties: 1,0<br>  minUnitigMappingQuality: 1<br>filterCalls: <br>  maxIntraClusterDistance: 500<br>  minSVSize: 50<br>  minUnitigMappingQuality: 0<br>\", \"filterCalls.minUnitigBlockLength: 25<br><br>makeRegions: <br>  slop: 250<br>  minCoverage: 0<br>  maxCoverage: 200<br>  maxRegionLength: 100000<br>  minRepeatPeriod: 6<br>  minRepeatLength: 50<br>  functionalRegions: none<br>  genomeBuild: hg38<br>  overlappedFunctionalRegions: false<br>makeCalls: <br>  singleBaseMatchReward: 10<br>  singleBaseMismatchPenalty: 12<br>  gapOpenPenalties: 6,26<br>  gapExtensionPenalties: 1,0<br>  minUnitigMappingQuality: 1<br>filterCalls: <br>  maxIntraClusterDistance: 500<br>  minSVSize: 50<br>  minUnitigMappingQuality: 0<br>\", \"filterCalls.minUnitigBlockLength: 40<br><br>makeRegions: <br>  slop: 250<br>  minCoverage: 0<br>  maxCoverage: 200<br>  maxRegionLength: 100000<br>  minRepeatPeriod: 6<br>  minRepeatLength: 50<br>  functionalRegions: none<br>  genomeBuild: hg38<br>  overlappedFunctionalRegions: false<br>makeCalls: <br>  singleBaseMatchReward: 10<br>  singleBaseMismatchPenalty: 12<br>  gapOpenPenalties: 6,26<br>  gapExtensionPenalties: 1,0<br>  minUnitigMappingQuality: 1<br>filterCalls: <br>  maxIntraClusterDistance: 500<br>  minSVSize: 50<br>  minUnitigMappingQuality: 0<br>\"], \"type\": \"scatter\", \"x\": [0.02488986784140969, 0.02488986784140969, 0.02488986784140969, 0.025942829690127314, 0.025942829690127314, 0.025942829690127314, 0.025979945305378303, 0.025979945305378303, 0.025979945305378303, 0.0035294117647058825, 0.0035294117647058825, 0.0035294117647058825, 0.004010695187165776, 0.004010695187165776, 0.004010695187165776, 0.0037174721189591076, 0.0037174721189591076, 0.0037174721189591076, 0.04663344831991823, 0.04663344831991823, 0.04663344831991823, 0.04247371333702269, 0.04247371333702269, 0.04247371333702269, 0.046139729977716606, 0.046139729977716606, 0.046139729977716606], \"y\": [0.3095890410958904, 0.3095890410958904, 0.3095890410958904, 0.3176470588235294, 0.3176470588235294, 0.3176470588235294, 0.3149171270718232, 0.3149171270718232, 0.3149171270718232, 0.3333333333333333, 0.3333333333333333, 0.3333333333333333, 0.2727272727272727, 0.2727272727272727, 0.2727272727272727, 0.3333333333333333, 0.3333333333333333, 0.3333333333333333, 0.3916309012875536, 0.3916309012875536, 0.3916309012875536, 0.40878828229027964, 0.40878828229027964, 0.40878828229027964, 0.39461883408071746, 0.39461883408071746, 0.39461883408071746]}, {\"marker\": {\"color\": \"white\", \"line\": {\"color\": \"black\", \"width\": 1}, \"size\": 10, \"symbol\": \"circle\"}, \"mode\": \"markers\", \"name\": \"trfermikit\", \"type\": \"scatter\", \"y\": [null]}, {\"marker\": {\"color\": \"white\", \"line\": {\"color\": \"black\", \"width\": 1}, \"size\": 10, \"symbol\": \"square\"}, \"mode\": \"markers\", \"name\": \"manta\", \"type\": \"scatter\", \"y\": [null]}, {\"marker\": {\"color\": \"red\", \"size\": 10, \"symbol\": \"circle\"}, \"mode\": \"markers\", \"name\": \"minUnitigBlockLength=15\", \"type\": \"scatter\", \"y\": [null]}, {\"marker\": {\"color\": \"green\", \"size\": 10, \"symbol\": \"circle\"}, \"mode\": \"markers\", \"name\": \"minUnitigBlockLength=25\", \"type\": \"scatter\", \"y\": [null]}, {\"marker\": {\"color\": \"blue\", \"size\": 10, \"symbol\": \"circle\"}, \"mode\": \"markers\", \"name\": \"minUnitigBlockLength=40\", \"type\": \"scatter\", \"y\": [null]}],                        {\"template\": {\"data\": {\"bar\": [{\"error_x\": {\"color\": \"#2a3f5f\"}, \"error_y\": {\"color\": \"#2a3f5f\"}, \"marker\": {\"line\": {\"color\": \"#E5ECF6\", \"width\": 0.5}}, \"type\": \"bar\"}], \"barpolar\": [{\"marker\": {\"line\": {\"color\": \"#E5ECF6\", \"width\": 0.5}}, \"type\": \"barpolar\"}], \"carpet\": [{\"aaxis\": {\"endlinecolor\": \"#2a3f5f\", \"gridcolor\": \"white\", \"linecolor\": \"white\", \"minorgridcolor\": \"white\", \"startlinecolor\": \"#2a3f5f\"}, \"baxis\": {\"endlinecolor\": \"#2a3f5f\", \"gridcolor\": \"white\", \"linecolor\": \"white\", \"minorgridcolor\": \"white\", \"startlinecolor\": \"#2a3f5f\"}, \"type\": \"carpet\"}], \"choropleth\": [{\"colorbar\": {\"outlinewidth\": 0, \"ticks\": \"\"}, \"type\": \"choropleth\"}], \"contour\": [{\"colorbar\": {\"outlinewidth\": 0, \"ticks\": \"\"}, \"colorscale\": [[0.0, \"#0d0887\"], [0.1111111111111111, \"#46039f\"], [0.2222222222222222, \"#7201a8\"], [0.3333333333333333, \"#9c179e\"], [0.4444444444444444, \"#bd3786\"], [0.5555555555555556, \"#d8576b\"], [0.6666666666666666, \"#ed7953\"], [0.7777777777777778, \"#fb9f3a\"], [0.8888888888888888, \"#fdca26\"], [1.0, \"#f0f921\"]], \"type\": \"contour\"}], \"contourcarpet\": [{\"colorbar\": {\"outlinewidth\": 0, \"ticks\": \"\"}, \"type\": \"contourcarpet\"}], \"heatmap\": [{\"colorbar\": {\"outlinewidth\": 0, \"ticks\": \"\"}, \"colorscale\": [[0.0, \"#0d0887\"], [0.1111111111111111, \"#46039f\"], [0.2222222222222222, \"#7201a8\"], [0.3333333333333333, \"#9c179e\"], [0.4444444444444444, \"#bd3786\"], [0.5555555555555556, \"#d8576b\"], [0.6666666666666666, \"#ed7953\"], [0.7777777777777778, \"#fb9f3a\"], [0.8888888888888888, \"#fdca26\"], [1.0, \"#f0f921\"]], \"type\": \"heatmap\"}], \"heatmapgl\": [{\"colorbar\": {\"outlinewidth\": 0, \"ticks\": \"\"}, \"colorscale\": [[0.0, \"#0d0887\"], [0.1111111111111111, \"#46039f\"], [0.2222222222222222, \"#7201a8\"], [0.3333333333333333, \"#9c179e\"], [0.4444444444444444, \"#bd3786\"], [0.5555555555555556, \"#d8576b\"], [0.6666666666666666, \"#ed7953\"], [0.7777777777777778, \"#fb9f3a\"], [0.8888888888888888, \"#fdca26\"], [1.0, \"#f0f921\"]], \"type\": \"heatmapgl\"}], \"histogram\": [{\"marker\": {\"colorbar\": {\"outlinewidth\": 0, \"ticks\": \"\"}}, \"type\": \"histogram\"}], \"histogram2d\": [{\"colorbar\": {\"outlinewidth\": 0, \"ticks\": \"\"}, \"colorscale\": [[0.0, \"#0d0887\"], [0.1111111111111111, \"#46039f\"], [0.2222222222222222, \"#7201a8\"], [0.3333333333333333, \"#9c179e\"], [0.4444444444444444, \"#bd3786\"], [0.5555555555555556, \"#d8576b\"], [0.6666666666666666, \"#ed7953\"], [0.7777777777777778, \"#fb9f3a\"], [0.8888888888888888, \"#fdca26\"], [1.0, \"#f0f921\"]], \"type\": \"histogram2d\"}], \"histogram2dcontour\": [{\"colorbar\": {\"outlinewidth\": 0, \"ticks\": \"\"}, \"colorscale\": [[0.0, \"#0d0887\"], [0.1111111111111111, \"#46039f\"], [0.2222222222222222, \"#7201a8\"], [0.3333333333333333, \"#9c179e\"], [0.4444444444444444, \"#bd3786\"], [0.5555555555555556, \"#d8576b\"], [0.6666666666666666, \"#ed7953\"], [0.7777777777777778, \"#fb9f3a\"], [0.8888888888888888, \"#fdca26\"], [1.0, \"#f0f921\"]], \"type\": \"histogram2dcontour\"}], \"mesh3d\": [{\"colorbar\": {\"outlinewidth\": 0, \"ticks\": \"\"}, \"type\": \"mesh3d\"}], \"parcoords\": [{\"line\": {\"colorbar\": {\"outlinewidth\": 0, \"ticks\": \"\"}}, \"type\": \"parcoords\"}], \"pie\": [{\"automargin\": true, \"type\": \"pie\"}], \"scatter\": [{\"marker\": {\"colorbar\": {\"outlinewidth\": 0, \"ticks\": \"\"}}, \"type\": \"scatter\"}], \"scatter3d\": [{\"line\": {\"colorbar\": {\"outlinewidth\": 0, \"ticks\": \"\"}}, \"marker\": {\"colorbar\": {\"outlinewidth\": 0, \"ticks\": \"\"}}, \"type\": \"scatter3d\"}], \"scattercarpet\": [{\"marker\": {\"colorbar\": {\"outlinewidth\": 0, \"ticks\": \"\"}}, \"type\": \"scattercarpet\"}], \"scattergeo\": [{\"marker\": {\"colorbar\": {\"outlinewidth\": 0, \"ticks\": \"\"}}, \"type\": \"scattergeo\"}], \"scattergl\": [{\"marker\": {\"colorbar\": {\"outlinewidth\": 0, \"ticks\": \"\"}}, \"type\": \"scattergl\"}], \"scattermapbox\": [{\"marker\": {\"colorbar\": {\"outlinewidth\": 0, \"ticks\": \"\"}}, \"type\": \"scattermapbox\"}], \"scatterpolar\": [{\"marker\": {\"colorbar\": {\"outlinewidth\": 0, \"ticks\": \"\"}}, \"type\": \"scatterpolar\"}], \"scatterpolargl\": [{\"marker\": {\"colorbar\": {\"outlinewidth\": 0, \"ticks\": \"\"}}, \"type\": \"scatterpolargl\"}], \"scatterternary\": [{\"marker\": {\"colorbar\": {\"outlinewidth\": 0, \"ticks\": \"\"}}, \"type\": \"scatterternary\"}], \"surface\": [{\"colorbar\": {\"outlinewidth\": 0, \"ticks\": \"\"}, \"colorscale\": [[0.0, \"#0d0887\"], [0.1111111111111111, \"#46039f\"], [0.2222222222222222, \"#7201a8\"], [0.3333333333333333, \"#9c179e\"], [0.4444444444444444, \"#bd3786\"], [0.5555555555555556, \"#d8576b\"], [0.6666666666666666, \"#ed7953\"], [0.7777777777777778, \"#fb9f3a\"], [0.8888888888888888, \"#fdca26\"], [1.0, \"#f0f921\"]], \"type\": \"surface\"}], \"table\": [{\"cells\": {\"fill\": {\"color\": \"#EBF0F8\"}, \"line\": {\"color\": \"white\"}}, \"header\": {\"fill\": {\"color\": \"#C8D4E3\"}, \"line\": {\"color\": \"white\"}}, \"type\": \"table\"}]}, \"layout\": {\"annotationdefaults\": {\"arrowcolor\": \"#2a3f5f\", \"arrowhead\": 0, \"arrowwidth\": 1}, \"autotypenumbers\": \"strict\", \"coloraxis\": {\"colorbar\": {\"outlinewidth\": 0, \"ticks\": \"\"}}, \"colorscale\": {\"diverging\": [[0, \"#8e0152\"], [0.1, \"#c51b7d\"], [0.2, \"#de77ae\"], [0.3, \"#f1b6da\"], [0.4, \"#fde0ef\"], [0.5, \"#f7f7f7\"], [0.6, \"#e6f5d0\"], [0.7, \"#b8e186\"], [0.8, \"#7fbc41\"], [0.9, \"#4d9221\"], [1, \"#276419\"]], \"sequential\": [[0.0, \"#0d0887\"], [0.1111111111111111, \"#46039f\"], [0.2222222222222222, \"#7201a8\"], [0.3333333333333333, \"#9c179e\"], [0.4444444444444444, \"#bd3786\"], [0.5555555555555556, \"#d8576b\"], [0.6666666666666666, \"#ed7953\"], [0.7777777777777778, \"#fb9f3a\"], [0.8888888888888888, \"#fdca26\"], [1.0, \"#f0f921\"]], \"sequentialminus\": [[0.0, \"#0d0887\"], [0.1111111111111111, \"#46039f\"], [0.2222222222222222, \"#7201a8\"], [0.3333333333333333, \"#9c179e\"], [0.4444444444444444, \"#bd3786\"], [0.5555555555555556, \"#d8576b\"], [0.6666666666666666, \"#ed7953\"], [0.7777777777777778, \"#fb9f3a\"], [0.8888888888888888, \"#fdca26\"], [1.0, \"#f0f921\"]]}, \"colorway\": [\"#636efa\", \"#EF553B\", \"#00cc96\", \"#ab63fa\", \"#FFA15A\", \"#19d3f3\", \"#FF6692\", \"#B6E880\", \"#FF97FF\", \"#FECB52\"], \"font\": {\"color\": \"#2a3f5f\"}, \"geo\": {\"bgcolor\": \"white\", \"lakecolor\": \"white\", \"landcolor\": \"#E5ECF6\", \"showlakes\": true, \"showland\": true, \"subunitcolor\": \"white\"}, \"hoverlabel\": {\"align\": \"left\"}, \"hovermode\": \"closest\", \"mapbox\": {\"style\": \"light\"}, \"paper_bgcolor\": \"white\", \"plot_bgcolor\": \"#E5ECF6\", \"polar\": {\"angularaxis\": {\"gridcolor\": \"white\", \"linecolor\": \"white\", \"ticks\": \"\"}, \"bgcolor\": \"#E5ECF6\", \"radialaxis\": {\"gridcolor\": \"white\", \"linecolor\": \"white\", \"ticks\": \"\"}}, \"scene\": {\"xaxis\": {\"backgroundcolor\": \"#E5ECF6\", \"gridcolor\": \"white\", \"gridwidth\": 2, \"linecolor\": \"white\", \"showbackground\": true, \"ticks\": \"\", \"zerolinecolor\": \"white\"}, \"yaxis\": {\"backgroundcolor\": \"#E5ECF6\", \"gridcolor\": \"white\", \"gridwidth\": 2, \"linecolor\": \"white\", \"showbackground\": true, \"ticks\": \"\", \"zerolinecolor\": \"white\"}, \"zaxis\": {\"backgroundcolor\": \"#E5ECF6\", \"gridcolor\": \"white\", \"gridwidth\": 2, \"linecolor\": \"white\", \"showbackground\": true, \"ticks\": \"\", \"zerolinecolor\": \"white\"}}, \"shapedefaults\": {\"line\": {\"color\": \"#2a3f5f\"}}, \"ternary\": {\"aaxis\": {\"gridcolor\": \"white\", \"linecolor\": \"white\", \"ticks\": \"\"}, \"baxis\": {\"gridcolor\": \"white\", \"linecolor\": \"white\", \"ticks\": \"\"}, \"bgcolor\": \"#E5ECF6\", \"caxis\": {\"gridcolor\": \"white\", \"linecolor\": \"white\", \"ticks\": \"\"}}, \"title\": {\"x\": 0.05}, \"xaxis\": {\"automargin\": true, \"gridcolor\": \"white\", \"linecolor\": \"white\", \"ticks\": \"\", \"title\": {\"standoff\": 15}, \"zerolinecolor\": \"white\", \"zerolinewidth\": 2}, \"yaxis\": {\"automargin\": true, \"gridcolor\": \"white\", \"linecolor\": \"white\", \"ticks\": \"\", \"title\": {\"standoff\": 15}, \"zerolinecolor\": \"white\", \"zerolinewidth\": 2}}}, \"title\": {\"text\": \"INS<br>\", \"x\": 0.5, \"y\": 0.9}, \"xaxis\": {\"title\": {\"text\": \"recall\"}}, \"yaxis\": {\"title\": {\"text\": \"precision\"}}},                        {\"responsive\": true}                    ).then(function(){\n",
       "                            \n",
       "var gd = document.getElementById('02d87001-6104-4915-89ad-b9e778278283');\n",
       "var x = new MutationObserver(function (mutations, observer) {{\n",
       "        var display = window.getComputedStyle(gd).display;\n",
       "        if (!display || display === 'none') {{\n",
       "            console.log([gd, 'removed!']);\n",
       "            Plotly.purge(gd);\n",
       "            observer.disconnect();\n",
       "        }}\n",
       "}});\n",
       "\n",
       "// Listen for the removal of the full notebook cells\n",
       "var notebookContainer = gd.closest('#notebook-container');\n",
       "if (notebookContainer) {{\n",
       "    x.observe(notebookContainer, {childList: true});\n",
       "}}\n",
       "\n",
       "// Listen for the clearing of the current output cell\n",
       "var outputEl = gd.closest('.output');\n",
       "if (outputEl) {{\n",
       "    x.observe(outputEl, {childList: true});\n",
       "}}\n",
       "\n",
       "                        })                };                });            </script>        </div>"
      ]
     },
     "metadata": {},
     "output_type": "display_data"
    }
   ],
   "source": [
    "import plotly.graph_objects as go\n",
    "import json\n",
    "\n",
    "def get_precision_recall(experiment, caller, svtype):\n",
    "    with open('data/{}/truvari-{}-pacbio-{}/summary.txt'.format(experiment, svtype, caller)) as json_file:\n",
    "        d = json.load(json_file)\n",
    "        try:\n",
    "            precision = d['TP-base']/float(d['TP-base'] + d['FP'])\n",
    "        except ZeroDivisionError: \n",
    "            precision = None\n",
    "        recall = d['TP-base']/float(d['TP-base'] + d['FN'])\n",
    "        return precision, recall\n",
    "\n",
    "def get_config(experiment): \n",
    "    with open('data/{}/config.json'.format(experiment)) as json_file:\n",
    "        return json.load(json_file)\n",
    "\n",
    "def get_precisions_recalls_configs(caller, svtype):   \n",
    "    experiments = ! ls data\n",
    "\n",
    "    precisions = []\n",
    "    recalls = []\n",
    "    configs = []\n",
    "\n",
    "    for experiment in experiments: \n",
    "        precision, recall = get_precision_recall(experiment, caller, svtype)\n",
    "        precisions.append(precision) \n",
    "        recalls.append(recall) \n",
    "        config = get_config(experiment)\n",
    "        configs.append(config)\n",
    "        \n",
    "    return precisions, recalls, configs\n",
    "\n",
    "def format_config(config, outer_key_top=None, inner_key_top=None): \n",
    "    if outer_key_top and inner_key_top: \n",
    "        s = '{}.{}: {}<br><br>'.format(\n",
    "            outer_key_top, \n",
    "            inner_key_top, \n",
    "            config[outer_key_top][inner_key_top]\n",
    "        )\n",
    "    else: \n",
    "        s = ''\n",
    "        \n",
    "    for outer_key, outer_value in config.items(): \n",
    "        if outer_key == 'general': continue \n",
    "        s += '{}: <br>'.format(outer_key)\n",
    "        for inner_key, inner_value in outer_value.items(): \n",
    "            if outer_key == outer_key_top and inner_key == inner_key_top: continue \n",
    "            s += '  {}: {}<br>'.format(inner_key, inner_value)\n",
    "    return s\n",
    "\n",
    "def initialize_colors(configs, outer_key, inner_key): \n",
    "    string_list = [config[outer_key][inner_key] for config in configs]\n",
    "    string_list = list(set(string_list)) # get unique strings\n",
    "    color_list = ['red', 'green', 'blue', 'yellow', 'magenta', 'cyan']        \n",
    "    color_dict = {}\n",
    "    for index, string in enumerate(string_list): \n",
    "        color_dict[string] = color_list[index]\n",
    "    return color_dict\n",
    "\n",
    "def sort_colors(colors):\n",
    "    return sorted({int(k): v for k, v in colors.items()}.items())    \n",
    "\n",
    "def precision_recall_graph(outer_key, inner_key, commentary, svtype, marker_size=10, line_width=1): \n",
    "    trfermikit_precisions, trfermikit_recalls, trfermikit_configs = get_precisions_recalls_configs('trfermikit.unitigSupport.thinned', svtype) \n",
    "    manta_precisions, manta_recalls, manta_configs = get_precisions_recalls_configs('manta', svtype) \n",
    "    \n",
    "    colors = initialize_colors(trfermikit_configs, outer_key, inner_key) \n",
    "    \n",
    "    fig = go.Figure(data=go.Scatter(\n",
    "        x=trfermikit_recalls,\n",
    "        y=trfermikit_precisions,\n",
    "        mode='markers',\n",
    "        name='trfermikit',\n",
    "        showlegend=False,\n",
    "        marker=dict(\n",
    "            symbol='circle',\n",
    "            size=marker_size,\n",
    "            line=dict(width=line_width, color='black'),\n",
    "            color=[colors[config[outer_key][inner_key]] for config in trfermikit_configs]\n",
    "        ),\n",
    "        hovertemplate ='%{text}',\n",
    "        text=[format_config(config, outer_key, inner_key) for config in trfermikit_configs]))\n",
    "    fig.update_xaxes(title_text='recall')\n",
    "    fig.update_yaxes(title_text='precision')\n",
    "    \n",
    "    fig.add_trace(go.Scatter(\n",
    "        x=manta_recalls, \n",
    "        y=manta_precisions,\n",
    "        mode='markers',\n",
    "        name='manta',\n",
    "        showlegend=False,\n",
    "        marker=dict(\n",
    "            symbol='square',\n",
    "            size=marker_size,\n",
    "            line=dict(width=line_width, color='black'),\n",
    "            color=[colors[config[outer_key][inner_key]] for config in manta_configs]\n",
    "        ),\n",
    "        hovertemplate ='%{text}',\n",
    "        text=[format_config(config, outer_key, inner_key) for config in manta_configs]\n",
    "    ))  \n",
    "\n",
    "    caller_to_symbol = { \n",
    "        'trfermikit': 'circle',\n",
    "        'manta': 'square'        \n",
    "    }\n",
    "    \n",
    "    for caller, symbol in caller_to_symbol.items():         \n",
    "        fig.add_trace(go.Scatter(\n",
    "            y=[None], \n",
    "            mode='markers',\n",
    "            marker=dict(\n",
    "                symbol=symbol,\n",
    "                size=marker_size,\n",
    "                line=dict(width=line_width, color='black'),\n",
    "                color='white'\n",
    "            ),\n",
    "            name=caller\n",
    "        ))\n",
    "\n",
    "    for value, color in sort_colors(colors):                 \n",
    "        fig.add_trace(go.Scatter(\n",
    "            y=[None], \n",
    "            mode='markers',\n",
    "            marker=dict(\n",
    "                symbol='circle',\n",
    "                size=marker_size,\n",
    "                line=None,\n",
    "                color=color\n",
    "            ),\n",
    "            name='{}={}'.format(inner_key, value)\n",
    "        ))\n",
    "    \n",
    "    fig.update_layout(title={\n",
    "        'text': svtype + '<br>' + commentary,\n",
    "        'y':0.9,\n",
    "        'x':0.5,\n",
    "    })\n",
    "    \n",
    "    write_image(\n",
    "        fig, \n",
    "        image_directory='images/precision_recall', \n",
    "        inner_key=inner_key, \n",
    "        svtype=svtype\n",
    "    )\n",
    "    \n",
    "    fig.show()\n",
    "\n",
    "def write_image(fig, image_directory, inner_key, svtype): \n",
    "    import os\n",
    "    import pathlib\n",
    "    if not os.path.exists(image_directory):\n",
    "        pathlib.Path(image_directory).mkdir(parents=True, exist_ok=True)\n",
    "    fig.write_image(\"{}/{}-{}.svg\".format(image_directory, inner_key, svtype))\n",
    "    \n",
    "def precision_recall_graphs_DEL(): \n",
    "    for outer_key, inner_key, commentary in [\n",
    "        (\n",
    "            'filterCalls', \n",
    "            'minSVSize', \n",
    "            'minSVSize moves precision and recall in same direction;<br>' + \n",
    "            'trfermikit dominates manta only when small SVs are included:'\n",
    "        ), \n",
    "        (\n",
    "            'filterCalls', \n",
    "            'minUnitigBlockLength', \n",
    "            'minUnitigBlockLength moves precision and recall in opposite directions:'\n",
    "        )\n",
    "    ]: \n",
    "        precision_recall_graph(outer_key, inner_key, commentary, svtype='DEL') \n",
    "\n",
    "def precision_recall_graphs_INS(): \n",
    "    for outer_key, inner_key, commentary in [\n",
    "        (\n",
    "            'filterCalls', \n",
    "            'minSVSize',\n",
    "            ''\n",
    "        ), \n",
    "        (\n",
    "            'filterCalls', \n",
    "            'minUnitigBlockLength', \n",
    "            ''\n",
    "        )\n",
    "    ]: \n",
    "        precision_recall_graph(outer_key, inner_key, commentary, svtype='INS') \n",
    "\n",
    "\n",
    "precision_recall_graphs_DEL()\n",
    "precision_recall_graphs_INS()"
   ]
  },
  {
   "cell_type": "markdown",
   "metadata": {},
   "source": [
    "## trfermikit is complementary to manta"
   ]
  },
  {
   "cell_type": "code",
   "execution_count": null,
   "metadata": {
    "scrolled": false
   },
   "outputs": [],
   "source": [
    "def list_to_value(list_): \n",
    "    value, = list_\n",
    "    return int(value)\n",
    "\n",
    "overlap_fraction = 0.9\n",
    "root = \"/scratch/ucgd/lustre-work/quinlan/u6018199/chaisson_2019/analysis/locally_assemble_short_reads/trfermikit\"\n",
    "\n",
    "def tr_fermikit_TP_intersect_manta(manta_callset, output): \n",
    "    list_ = ! $root/bin/bedtools intersect -u -wb -f $overlap_fraction -r \\\n",
    "      -a $output/truvari-pacbio-manta/$manta_callset\".vcf\" \\\n",
    "      -b $output/truvari-pacbio-trfermikit.unitigSupport.thinned/tp-base.vcf \\\n",
    "      | wc -l \n",
    "    return list_to_value(list_)\n",
    "\n",
    "def tr_fermikit_TP_less_manta(manta_callset, output):\n",
    "    list_ = ! $root/bin/bedtools subtract -A -f $overlap_fraction -r \\\n",
    "      -a $output/truvari-pacbio-trfermikit.unitigSupport.thinned/tp-base.vcf \\\n",
    "      -b $output/truvari-pacbio-manta/$manta_callset\".vcf\" \\\n",
    "      | wc -l\n",
    "    return list_to_value(list_)\n",
    "\n",
    "def manta_less_tr_fermikit_TP(manta_callset, output):\n",
    "    list_ = ! $root/bin/bedtools subtract -A -f $overlap_fraction -r \\\n",
    "      -a $output/truvari-pacbio-manta/$manta_callset\".vcf\" \\\n",
    "      -b $output/truvari-pacbio-trfermikit.unitigSupport.thinned/tp-base.vcf \\\n",
    "    | wc -l \n",
    "    return list_to_value(list_)\n",
    "\n",
    "def check(manta_callset): \n",
    "    if manta_callset != 'fn' and manta_callset != 'tp-base': \n",
    "        raise Exception\n",
    "    else: \n",
    "        pass\n",
    "        \n",
    "def get_manta_fraction(manta_callset, experiment):\n",
    "    check(manta_callset)\n",
    "    output = 'data/{}'.format(experiment)\n",
    "    overlap_count = tr_fermikit_TP_intersect_manta(manta_callset, output)\n",
    "    manta_exclusive_count = manta_less_tr_fermikit_TP(manta_callset, output)\n",
    "    return overlap_count/float(overlap_count + manta_exclusive_count)\n",
    "\n",
    "def get_manta_fractions_configs():   \n",
    "    experiments = ! ls data\n",
    "\n",
    "    fractions_of_manta_TP = []\n",
    "    fractions_of_manta_FN = []\n",
    "    configs = []\n",
    "\n",
    "    for experiment in experiments: \n",
    "        fractions_of_manta_TP.append(get_manta_fraction(manta_callset='tp-base', experiment=experiment))\n",
    "        fractions_of_manta_FN.append(get_manta_fraction(manta_callset='fn', experiment=experiment))\n",
    "        config = get_config(experiment)\n",
    "        configs.append(config)\n",
    "        \n",
    "    return fractions_of_manta_TP, fractions_of_manta_FN, configs\n",
    "\n",
    "def fractions_of_manta_graph(outer_key, inner_key, title=None, marker_size=10, line_width=1): \n",
    "    fractions_of_manta_TP, fractions_of_manta_FN, configs = get_manta_fractions_configs() \n",
    "    \n",
    "    colors = initialize_colors(configs, outer_key, inner_key) \n",
    "                \n",
    "    fig = go.Figure(data=go.Scatter(\n",
    "        x=fractions_of_manta_TP,\n",
    "        y=fractions_of_manta_FN,\n",
    "        mode='markers',\n",
    "        showlegend=False,        \n",
    "        marker=dict(\n",
    "            symbol='circle',\n",
    "            size=marker_size,\n",
    "            line=dict(width=line_width, color='black'),\n",
    "            color=[colors[config[outer_key][inner_key]] for config in configs]\n",
    "        ),\n",
    "        hovertemplate='%{text}',\n",
    "        text=[format_config(config, outer_key, inner_key) for config in configs]))\n",
    "    fig.update_xaxes(title_text='fraction of manta TPs recovered by trfermikit')\n",
    "    fig.update_yaxes(title_text='fraction of manta FNs recovered by trfermikit')\n",
    "    \n",
    "    fig.update_layout(title=title) \n",
    "    \n",
    "    for value, color in sort_colors(colors):                 \n",
    "        fig.add_trace(go.Scatter(\n",
    "            y=[None], \n",
    "            mode='markers',\n",
    "            marker=dict(\n",
    "                symbol='circle',\n",
    "                size=marker_size,\n",
    "                color=color\n",
    "            ),\n",
    "            name='{}={}'.format(inner_key, value)\n",
    "        ))\n",
    "    \n",
    "    write_image(fig, image_directory='images/fractions_of_manta', inner_key=inner_key)\n",
    "    \n",
    "    fig.show()\n",
    "\n",
    "def fractions_of_manta_graphs(): \n",
    "    for outer_key, inner_key, commentary in [\n",
    "        (\n",
    "            'filterCalls', \n",
    "            'minSVSize',\n",
    "            'trfermikit is most complementary to manta when small SVs are included'\n",
    "        ), \n",
    "#         ( \n",
    "#             'makeRegions',\n",
    "#             'minRepeatLength',\n",
    "#             None\n",
    "#         )\n",
    "#         (\n",
    "#             'filterCalls', \n",
    "#             'minUnitigBlockLength', \n",
    "#             None\n",
    "#         ),\n",
    "    ]: fractions_of_manta_graph(outer_key, inner_key, title=commentary) \n",
    "\n",
    "fractions_of_manta_graphs()"
   ]
  },
  {
   "cell_type": "markdown",
   "metadata": {},
   "source": [
    "## The trade-off between trfermikit precision and its sensitivity to events missed by manta"
   ]
  },
  {
   "cell_type": "code",
   "execution_count": null,
   "metadata": {},
   "outputs": [],
   "source": [
    "def get_fractionsOfMantaFN_trfermikitPrecisions_configs():   \n",
    "    experiments = ! ls data\n",
    "\n",
    "    fractionsOfMantaFN = []\n",
    "    trfermikitPrecisions = []\n",
    "    configs = []\n",
    "\n",
    "    for experiment in experiments: \n",
    "        fractionsOfMantaFN.append(get_manta_fraction(\n",
    "            manta_callset='fn', \n",
    "            experiment=experiment\n",
    "        ))\n",
    "        \n",
    "        precision, recall = get_precision_recall(\n",
    "            experiment=experiment, \n",
    "            caller='trfermikit.unitigSupport.thinned'\n",
    "        )\n",
    "        trfermikitPrecisions.append(precision)\n",
    "        \n",
    "        config = get_config(experiment)\n",
    "        configs.append(config)        \n",
    "        \n",
    "    return fractionsOfMantaFN, trfermikitPrecisions, configs\n",
    "\n",
    "def fractionsOfMantaFN_trfermikitPrecisions_graph(\n",
    "    outer_key, \n",
    "    inner_key, \n",
    "    title=None, \n",
    "    marker_size=10, \n",
    "    line_width=1\n",
    "): \n",
    "    fractionsOfMantaFN, trfermikitPrecisions, configs = get_fractionsOfMantaFN_trfermikitPrecisions_configs()\n",
    "    \n",
    "    colors = initialize_colors(configs, outer_key, inner_key) \n",
    "                \n",
    "    fig = go.Figure(data=go.Scatter(\n",
    "        x=fractionsOfMantaFN,\n",
    "        y=trfermikitPrecisions,\n",
    "        mode='markers',\n",
    "        showlegend=False,        \n",
    "        marker=dict(\n",
    "            symbol='circle',\n",
    "            size=marker_size,\n",
    "            line=dict(width=line_width, color='black'),\n",
    "            color=[colors[config[outer_key][inner_key]] for config in configs]\n",
    "        ),\n",
    "        hovertemplate='%{text}',\n",
    "        text=[format_config(config, outer_key, inner_key) for config in configs]))\n",
    "    fig.update_xaxes(title_text='fraction of manta FNs recovered by trfermikit')\n",
    "    fig.update_yaxes(title_text='trfermikit precision')\n",
    "    \n",
    "    fig.update_layout(title=title) \n",
    "    \n",
    "    for value, color in sort_colors(colors):                 \n",
    "        fig.add_trace(go.Scatter(\n",
    "            y=[None], \n",
    "            mode='markers',\n",
    "            marker=dict(\n",
    "                symbol='circle',\n",
    "                size=marker_size,\n",
    "                color=color\n",
    "            ),\n",
    "            name='{}={}'.format(inner_key, value)\n",
    "        ))\n",
    "    \n",
    "    write_image(fig, image_directory='images/fractionsOfMantaFN_trfermikitPrecisions', inner_key=inner_key)\n",
    "    \n",
    "    fig.show()\n",
    "\n",
    "def fractionsOfMantaFN_trfermikitPrecisions_graphs(): \n",
    "    for outer_key, inner_key, commentary in [\n",
    "        (\n",
    "            'filterCalls', \n",
    "            'minSVSize',\n",
    "            'minSVSize similarly influences trfermikit precision and<br>' + \n",
    "            'sensitivity to events missed by manta'\n",
    "        ), \n",
    "#         ( \n",
    "#             'makeRegions',\n",
    "#             'minRepeatLength',\n",
    "#             None\n",
    "#         ),\n",
    "        (\n",
    "            'filterCalls', \n",
    "            'minUnitigBlockLength', \n",
    "            'minUnitigBlockLength controls the trade-off between trfermikit precision<br>' +\n",
    "            'and its sensitivity to events missed by manta'\n",
    "        ),\n",
    "    ]: fractionsOfMantaFN_trfermikitPrecisions_graph(outer_key, inner_key, title=commentary) \n",
    "\n",
    "fractionsOfMantaFN_trfermikitPrecisions_graphs()"
   ]
  },
  {
   "cell_type": "code",
   "execution_count": null,
   "metadata": {},
   "outputs": [],
   "source": []
  }
 ],
 "metadata": {
  "kernelspec": {
   "display_name": "Python 3",
   "language": "python",
   "name": "python3"
  },
  "language_info": {
   "codemirror_mode": {
    "name": "ipython",
    "version": 3
   },
   "file_extension": ".py",
   "mimetype": "text/x-python",
   "name": "python",
   "nbconvert_exporter": "python",
   "pygments_lexer": "ipython3",
   "version": "3.8.6"
  },
  "toc": {
   "base_numbering": 1,
   "nav_menu": {},
   "number_sections": true,
   "sideBar": true,
   "skip_h1_title": false,
   "title_cell": "Table of Contents",
   "title_sidebar": "Contents",
   "toc_cell": false,
   "toc_position": {},
   "toc_section_display": true,
   "toc_window_display": false
  }
 },
 "nbformat": 4,
 "nbformat_minor": 4
}
