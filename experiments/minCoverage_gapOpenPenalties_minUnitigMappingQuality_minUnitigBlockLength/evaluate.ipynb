{
 "cells": [
  {
   "cell_type": "code",
   "execution_count": 12,
   "metadata": {},
   "outputs": [],
   "source": [
    "import plotly.graph_objects as go\n",
    "import json\n",
    "\n",
    "def get_precision_recall(experiment, caller):\n",
    "    with open('data/{}/truvari-pacbio-{}/summary.txt'.format(experiment, caller)) as json_file:\n",
    "        d = json.load(json_file)\n",
    "        precision = d['TP-base']/float(d['TP-base'] + d['FP'])\n",
    "        recall = d['TP-base']/float(d['TP-base'] + d['FN'])\n",
    "        return precision, recall\n",
    "\n",
    "def get_config(experiment): \n",
    "    with open('data/{}/config.json'.format(experiment)) as json_file:\n",
    "        return json.load(json_file)\n",
    "\n",
    "def get_precisions_recalls_configs(caller):   \n",
    "    experiments = ! ls data\n",
    "\n",
    "    precisions = []\n",
    "    recalls = []\n",
    "    configs = []\n",
    "\n",
    "    for experiment in experiments: \n",
    "        precision, recall = get_precision_recall(experiment, caller)\n",
    "        precisions.append(precision)\n",
    "        recalls.append(recall)\n",
    "        config = get_config(experiment)\n",
    "        configs.append(config)\n",
    "        \n",
    "    return precisions, recalls, configs\n",
    "\n",
    "def format_config(config, outer_key_top=None, inner_key_top=None): \n",
    "    if outer_key_top and inner_key_top: \n",
    "        s = '{}.{}: {}<br><br>'.format(\n",
    "            outer_key_top, \n",
    "            inner_key_top, \n",
    "            config[outer_key_top][inner_key_top]\n",
    "        )\n",
    "    else: \n",
    "        s = ''\n",
    "        \n",
    "    for outer_key, outer_value in config.items(): \n",
    "        if outer_key == 'general': continue \n",
    "        s += '{}: <br>'.format(outer_key)\n",
    "        for inner_key, inner_value in outer_value.items(): \n",
    "            if outer_key == outer_key_top and inner_key == inner_key_top: continue \n",
    "            s += '  {}: {}<br>'.format(inner_key, inner_value)\n",
    "    return s\n",
    "\n",
    "def color(s): \n",
    "    try: \n",
    "        return int(s)\n",
    "    except ValueError:\n",
    "        return { \n",
    "            '5,20': 0,\n",
    "            '6,26': 1,\n",
    "            '10,35': 2\n",
    "        }[s]\n",
    "    \n",
    "\n",
    "def precision_recall_graph(outer_key, inner_key): \n",
    "    trfermikit_precisions, trfermikit_recalls, trfermikit_configs = get_precisions_recalls_configs('trfermikit.unitigSupport.thinned') \n",
    "    manta_precisions, manta_recalls, manta_configs = get_precisions_recalls_configs('manta') \n",
    "    \n",
    "    fig = go.Figure(data=go.Scatter(\n",
    "        x=trfermikit_recalls,\n",
    "        y=trfermikit_precisions,\n",
    "        mode='markers',\n",
    "        name='trfermikit',\n",
    "        marker_color=[color(config[outer_key][inner_key]) for config in trfermikit_configs],\n",
    "        hovertemplate ='%{text}',\n",
    "        text=[format_config(config, outer_key, inner_key) for config in trfermikit_configs]))\n",
    "    fig.update_xaxes(title_text='recall')\n",
    "    fig.update_yaxes(title_text='precision')\n",
    "    \n",
    "    fig.add_trace(go.Scatter(\n",
    "        x=manta_recalls, \n",
    "        y=manta_precisions,\n",
    "        mode='markers',\n",
    "        name='manta',\n",
    "        marker_symbol='square',\n",
    "        marker_size=10,\n",
    "        marker_color=[color(config[outer_key][inner_key]) for config in trfermikit_configs],\n",
    "        hovertemplate ='%{text}',\n",
    "        text=[format_config(config, outer_key, inner_key) for config in manta_configs]\n",
    "    ))    \n",
    "    fig.show()\n",
    "    \n"
   ]
  },
  {
   "cell_type": "code",
   "execution_count": 19,
   "metadata": {},
   "outputs": [],
   "source": [
    "def list_to_value(list_): \n",
    "    value, = list_\n",
    "    return int(value)\n",
    "\n",
    "overlap_fraction = 0.9\n",
    "root = \"/scratch/ucgd/lustre-work/quinlan/u6018199/chaisson_2019/analysis/locally_assemble_short_reads/trfermikit\"\n",
    "\n",
    "def tr_fermikit_TP_intersect_manta(manta_callset, output): \n",
    "    list_ = ! $root/bin/bedtools intersect -u -wb -f $overlap_fraction -r \\\n",
    "      -a $output/truvari-pacbio-manta/$manta_callset\".vcf\" \\\n",
    "      -b $output/truvari-pacbio-trfermikit.unitigSupport.thinned/tp-base.vcf \\\n",
    "      | wc -l \n",
    "    return list_to_value(list_)\n",
    "\n",
    "def tr_fermikit_TP_less_manta(manta_callset, output):\n",
    "    list_ = ! $root/bin/bedtools subtract -A -f $overlap_fraction -r \\\n",
    "      -a $output/truvari-pacbio-trfermikit.unitigSupport.thinned/tp-base.vcf \\\n",
    "      -b $output/truvari-pacbio-manta/$manta_callset\".vcf\" \\\n",
    "      | wc -l\n",
    "    return list_to_value(list_)\n",
    "\n",
    "def manta_less_tr_fermikit_TP(manta_callset, output):\n",
    "    list_ = ! $root/bin/bedtools subtract -A -f $overlap_fraction -r \\\n",
    "      -a $output/truvari-pacbio-manta/$manta_callset\".vcf\" \\\n",
    "      -b $output/truvari-pacbio-trfermikit.unitigSupport.thinned/tp-base.vcf \\\n",
    "    | wc -l \n",
    "    return list_to_value(list_)\n",
    "\n",
    "def check(manta_callset): \n",
    "    if manta_callset != 'fn' and manta_callset != 'tp-base': \n",
    "        raise Exception\n",
    "    else: \n",
    "        pass\n",
    "        \n",
    "def get_manta_fraction(manta_callset, experiment):\n",
    "    check(manta_callset)\n",
    "    output = 'data/{}'.format(experiment)\n",
    "    overlap_count = tr_fermikit_TP_intersect_manta(manta_callset, output)\n",
    "    manta_exclusive_count = manta_less_tr_fermikit_TP(manta_callset, output)\n",
    "    return overlap_count/float(overlap_count + manta_exclusive_count)\n",
    "\n",
    "def get_manta_fractions_configs():   \n",
    "    experiments = ! ls data\n",
    "\n",
    "    fractions_of_manta_TP = []\n",
    "    fractions_of_manta_FN = []\n",
    "    configs = []\n",
    "\n",
    "    for experiment in experiments: \n",
    "        fractions_of_manta_TP.append(get_manta_fraction(manta_callset='tp-base', experiment=experiment))\n",
    "        fractions_of_manta_FN.append(get_manta_fraction(manta_callset='fn', experiment=experiment))\n",
    "        config = get_config(experiment)\n",
    "        configs.append(config)\n",
    "        \n",
    "    return fractions_of_manta_TP, fractions_of_manta_FN, configs\n",
    "\n",
    "def fractions_of_manta_graph(outer_key, inner_key): \n",
    "    fractions_of_manta_TP, fractions_of_manta_FN, configs = get_manta_fractions_configs() \n",
    "    \n",
    "    fig = go.Figure(data=go.Scatter(\n",
    "        x=fractions_of_manta_TP,\n",
    "        y=fractions_of_manta_FN,\n",
    "        mode='markers',\n",
    "        marker_color=[color(config[outer_key][inner_key]) for config in configs],\n",
    "        hovertemplate='%{text}',\n",
    "        text=[format_config(config, outer_key, inner_key) for config in configs]))\n",
    "    fig.update_xaxes(title_text='fraction of manta TPs recovered by trfermikit')\n",
    "    fig.update_yaxes(title_text='fraction of manta FNs recovered by trfermikit')\n",
    "    \n",
    "    fig.show()\n",
    "\n"
   ]
  },
  {
   "cell_type": "markdown",
   "metadata": {},
   "source": [
    "## \"minUnitigBlockLength\" controls the trade-off between precision and recall\n",
    "\n",
    "Hover over data points to see the full set of `trfermikit` configuration parameters"
   ]
  },
  {
   "cell_type": "code",
   "execution_count": 14,
   "metadata": {},
   "outputs": [
    {
     "data": {
      "application/vnd.plotly.v1+json": {
       "config": {
        "plotlyServerURL": "https://plot.ly"
       },
       "data": [
        {
         "hovertemplate": "%{text}",
         "marker": {
          "color": [
           15,
           25,
           40,
           15,
           25,
           40,
           15,
           25,
           40,
           15,
           25,
           40,
           15,
           25,
           40,
           15,
           25,
           40,
           15,
           25,
           40,
           15,
           25,
           40,
           15,
           25,
           40,
           15,
           25,
           40,
           15,
           25,
           40,
           15,
           25,
           40,
           15,
           25,
           40,
           15,
           25,
           40,
           15,
           25,
           40,
           15,
           25,
           40,
           15,
           25,
           40,
           15,
           25,
           40
          ]
         },
         "mode": "markers",
         "name": "trfermikit",
         "text": [
          "filterCalls.minUnitigBlockLength: 15<br><br>makeRegions: <br>  slop: 250<br>  minCoverage: 0<br>  maxCoverage: 200<br>  maxRegionLength: 100000<br>  minRepeatPeriod: 6<br>  minRepeatLength: 100<br>  functionalRegions: none<br>  genomeBuild: hg38<br>  overlappedFunctionalRegions: false<br>makeCalls: <br>  singleBaseMatchReward: 10<br>  singleBaseMismatchPenalty: 12<br>  gapOpenPenalties: 10,35<br>  gapExtensionPenalties: 1,0<br>  minUnitigMappingQuality: 1<br>filterCalls: <br>  maxIntraClusterDistance: 500<br>  minSVSize: 50<br>  minUnitigMappingQuality: 0<br>  svtype: DEL<br>",
          "filterCalls.minUnitigBlockLength: 25<br><br>makeRegions: <br>  slop: 250<br>  minCoverage: 0<br>  maxCoverage: 200<br>  maxRegionLength: 100000<br>  minRepeatPeriod: 6<br>  minRepeatLength: 100<br>  functionalRegions: none<br>  genomeBuild: hg38<br>  overlappedFunctionalRegions: false<br>makeCalls: <br>  singleBaseMatchReward: 10<br>  singleBaseMismatchPenalty: 12<br>  gapOpenPenalties: 10,35<br>  gapExtensionPenalties: 1,0<br>  minUnitigMappingQuality: 1<br>filterCalls: <br>  maxIntraClusterDistance: 500<br>  minSVSize: 50<br>  minUnitigMappingQuality: 0<br>  svtype: DEL<br>",
          "filterCalls.minUnitigBlockLength: 40<br><br>makeRegions: <br>  slop: 250<br>  minCoverage: 0<br>  maxCoverage: 200<br>  maxRegionLength: 100000<br>  minRepeatPeriod: 6<br>  minRepeatLength: 100<br>  functionalRegions: none<br>  genomeBuild: hg38<br>  overlappedFunctionalRegions: false<br>makeCalls: <br>  singleBaseMatchReward: 10<br>  singleBaseMismatchPenalty: 12<br>  gapOpenPenalties: 10,35<br>  gapExtensionPenalties: 1,0<br>  minUnitigMappingQuality: 1<br>filterCalls: <br>  maxIntraClusterDistance: 500<br>  minSVSize: 50<br>  minUnitigMappingQuality: 0<br>  svtype: DEL<br>",
          "filterCalls.minUnitigBlockLength: 15<br><br>makeRegions: <br>  slop: 250<br>  minCoverage: 0<br>  maxCoverage: 200<br>  maxRegionLength: 100000<br>  minRepeatPeriod: 6<br>  minRepeatLength: 100<br>  functionalRegions: none<br>  genomeBuild: hg38<br>  overlappedFunctionalRegions: false<br>makeCalls: <br>  singleBaseMatchReward: 10<br>  singleBaseMismatchPenalty: 12<br>  gapOpenPenalties: 10,35<br>  gapExtensionPenalties: 1,0<br>  minUnitigMappingQuality: 1<br>filterCalls: <br>  maxIntraClusterDistance: 500<br>  minSVSize: 50<br>  minUnitigMappingQuality: 10<br>  svtype: DEL<br>",
          "filterCalls.minUnitigBlockLength: 25<br><br>makeRegions: <br>  slop: 250<br>  minCoverage: 0<br>  maxCoverage: 200<br>  maxRegionLength: 100000<br>  minRepeatPeriod: 6<br>  minRepeatLength: 100<br>  functionalRegions: none<br>  genomeBuild: hg38<br>  overlappedFunctionalRegions: false<br>makeCalls: <br>  singleBaseMatchReward: 10<br>  singleBaseMismatchPenalty: 12<br>  gapOpenPenalties: 10,35<br>  gapExtensionPenalties: 1,0<br>  minUnitigMappingQuality: 1<br>filterCalls: <br>  maxIntraClusterDistance: 500<br>  minSVSize: 50<br>  minUnitigMappingQuality: 10<br>  svtype: DEL<br>",
          "filterCalls.minUnitigBlockLength: 40<br><br>makeRegions: <br>  slop: 250<br>  minCoverage: 0<br>  maxCoverage: 200<br>  maxRegionLength: 100000<br>  minRepeatPeriod: 6<br>  minRepeatLength: 100<br>  functionalRegions: none<br>  genomeBuild: hg38<br>  overlappedFunctionalRegions: false<br>makeCalls: <br>  singleBaseMatchReward: 10<br>  singleBaseMismatchPenalty: 12<br>  gapOpenPenalties: 10,35<br>  gapExtensionPenalties: 1,0<br>  minUnitigMappingQuality: 1<br>filterCalls: <br>  maxIntraClusterDistance: 500<br>  minSVSize: 50<br>  minUnitigMappingQuality: 10<br>  svtype: DEL<br>",
          "filterCalls.minUnitigBlockLength: 15<br><br>makeRegions: <br>  slop: 250<br>  minCoverage: 0<br>  maxCoverage: 200<br>  maxRegionLength: 100000<br>  minRepeatPeriod: 6<br>  minRepeatLength: 100<br>  functionalRegions: none<br>  genomeBuild: hg38<br>  overlappedFunctionalRegions: false<br>makeCalls: <br>  singleBaseMatchReward: 10<br>  singleBaseMismatchPenalty: 12<br>  gapOpenPenalties: 5,20<br>  gapExtensionPenalties: 1,0<br>  minUnitigMappingQuality: 1<br>filterCalls: <br>  maxIntraClusterDistance: 500<br>  minSVSize: 50<br>  minUnitigMappingQuality: 0<br>  svtype: DEL<br>",
          "filterCalls.minUnitigBlockLength: 25<br><br>makeRegions: <br>  slop: 250<br>  minCoverage: 0<br>  maxCoverage: 200<br>  maxRegionLength: 100000<br>  minRepeatPeriod: 6<br>  minRepeatLength: 100<br>  functionalRegions: none<br>  genomeBuild: hg38<br>  overlappedFunctionalRegions: false<br>makeCalls: <br>  singleBaseMatchReward: 10<br>  singleBaseMismatchPenalty: 12<br>  gapOpenPenalties: 5,20<br>  gapExtensionPenalties: 1,0<br>  minUnitigMappingQuality: 1<br>filterCalls: <br>  maxIntraClusterDistance: 500<br>  minSVSize: 50<br>  minUnitigMappingQuality: 0<br>  svtype: DEL<br>",
          "filterCalls.minUnitigBlockLength: 40<br><br>makeRegions: <br>  slop: 250<br>  minCoverage: 0<br>  maxCoverage: 200<br>  maxRegionLength: 100000<br>  minRepeatPeriod: 6<br>  minRepeatLength: 100<br>  functionalRegions: none<br>  genomeBuild: hg38<br>  overlappedFunctionalRegions: false<br>makeCalls: <br>  singleBaseMatchReward: 10<br>  singleBaseMismatchPenalty: 12<br>  gapOpenPenalties: 5,20<br>  gapExtensionPenalties: 1,0<br>  minUnitigMappingQuality: 1<br>filterCalls: <br>  maxIntraClusterDistance: 500<br>  minSVSize: 50<br>  minUnitigMappingQuality: 0<br>  svtype: DEL<br>",
          "filterCalls.minUnitigBlockLength: 15<br><br>makeRegions: <br>  slop: 250<br>  minCoverage: 0<br>  maxCoverage: 200<br>  maxRegionLength: 100000<br>  minRepeatPeriod: 6<br>  minRepeatLength: 100<br>  functionalRegions: none<br>  genomeBuild: hg38<br>  overlappedFunctionalRegions: false<br>makeCalls: <br>  singleBaseMatchReward: 10<br>  singleBaseMismatchPenalty: 12<br>  gapOpenPenalties: 5,20<br>  gapExtensionPenalties: 1,0<br>  minUnitigMappingQuality: 1<br>filterCalls: <br>  maxIntraClusterDistance: 500<br>  minSVSize: 50<br>  minUnitigMappingQuality: 10<br>  svtype: DEL<br>",
          "filterCalls.minUnitigBlockLength: 25<br><br>makeRegions: <br>  slop: 250<br>  minCoverage: 0<br>  maxCoverage: 200<br>  maxRegionLength: 100000<br>  minRepeatPeriod: 6<br>  minRepeatLength: 100<br>  functionalRegions: none<br>  genomeBuild: hg38<br>  overlappedFunctionalRegions: false<br>makeCalls: <br>  singleBaseMatchReward: 10<br>  singleBaseMismatchPenalty: 12<br>  gapOpenPenalties: 5,20<br>  gapExtensionPenalties: 1,0<br>  minUnitigMappingQuality: 1<br>filterCalls: <br>  maxIntraClusterDistance: 500<br>  minSVSize: 50<br>  minUnitigMappingQuality: 10<br>  svtype: DEL<br>",
          "filterCalls.minUnitigBlockLength: 40<br><br>makeRegions: <br>  slop: 250<br>  minCoverage: 0<br>  maxCoverage: 200<br>  maxRegionLength: 100000<br>  minRepeatPeriod: 6<br>  minRepeatLength: 100<br>  functionalRegions: none<br>  genomeBuild: hg38<br>  overlappedFunctionalRegions: false<br>makeCalls: <br>  singleBaseMatchReward: 10<br>  singleBaseMismatchPenalty: 12<br>  gapOpenPenalties: 5,20<br>  gapExtensionPenalties: 1,0<br>  minUnitigMappingQuality: 1<br>filterCalls: <br>  maxIntraClusterDistance: 500<br>  minSVSize: 50<br>  minUnitigMappingQuality: 10<br>  svtype: DEL<br>",
          "filterCalls.minUnitigBlockLength: 15<br><br>makeRegions: <br>  slop: 250<br>  minCoverage: 0<br>  maxCoverage: 200<br>  maxRegionLength: 100000<br>  minRepeatPeriod: 6<br>  minRepeatLength: 100<br>  functionalRegions: none<br>  genomeBuild: hg38<br>  overlappedFunctionalRegions: false<br>makeCalls: <br>  singleBaseMatchReward: 10<br>  singleBaseMismatchPenalty: 12<br>  gapOpenPenalties: 6,26<br>  gapExtensionPenalties: 1,0<br>  minUnitigMappingQuality: 1<br>filterCalls: <br>  maxIntraClusterDistance: 500<br>  minSVSize: 50<br>  minUnitigMappingQuality: 0<br>  svtype: DEL<br>",
          "filterCalls.minUnitigBlockLength: 25<br><br>makeRegions: <br>  slop: 250<br>  minCoverage: 0<br>  maxCoverage: 200<br>  maxRegionLength: 100000<br>  minRepeatPeriod: 6<br>  minRepeatLength: 100<br>  functionalRegions: none<br>  genomeBuild: hg38<br>  overlappedFunctionalRegions: false<br>makeCalls: <br>  singleBaseMatchReward: 10<br>  singleBaseMismatchPenalty: 12<br>  gapOpenPenalties: 6,26<br>  gapExtensionPenalties: 1,0<br>  minUnitigMappingQuality: 1<br>filterCalls: <br>  maxIntraClusterDistance: 500<br>  minSVSize: 50<br>  minUnitigMappingQuality: 0<br>  svtype: DEL<br>",
          "filterCalls.minUnitigBlockLength: 40<br><br>makeRegions: <br>  slop: 250<br>  minCoverage: 0<br>  maxCoverage: 200<br>  maxRegionLength: 100000<br>  minRepeatPeriod: 6<br>  minRepeatLength: 100<br>  functionalRegions: none<br>  genomeBuild: hg38<br>  overlappedFunctionalRegions: false<br>makeCalls: <br>  singleBaseMatchReward: 10<br>  singleBaseMismatchPenalty: 12<br>  gapOpenPenalties: 6,26<br>  gapExtensionPenalties: 1,0<br>  minUnitigMappingQuality: 1<br>filterCalls: <br>  maxIntraClusterDistance: 500<br>  minSVSize: 50<br>  minUnitigMappingQuality: 0<br>  svtype: DEL<br>",
          "filterCalls.minUnitigBlockLength: 15<br><br>makeRegions: <br>  slop: 250<br>  minCoverage: 0<br>  maxCoverage: 200<br>  maxRegionLength: 100000<br>  minRepeatPeriod: 6<br>  minRepeatLength: 100<br>  functionalRegions: none<br>  genomeBuild: hg38<br>  overlappedFunctionalRegions: false<br>makeCalls: <br>  singleBaseMatchReward: 10<br>  singleBaseMismatchPenalty: 12<br>  gapOpenPenalties: 6,26<br>  gapExtensionPenalties: 1,0<br>  minUnitigMappingQuality: 1<br>filterCalls: <br>  maxIntraClusterDistance: 500<br>  minSVSize: 50<br>  minUnitigMappingQuality: 10<br>  svtype: DEL<br>",
          "filterCalls.minUnitigBlockLength: 25<br><br>makeRegions: <br>  slop: 250<br>  minCoverage: 0<br>  maxCoverage: 200<br>  maxRegionLength: 100000<br>  minRepeatPeriod: 6<br>  minRepeatLength: 100<br>  functionalRegions: none<br>  genomeBuild: hg38<br>  overlappedFunctionalRegions: false<br>makeCalls: <br>  singleBaseMatchReward: 10<br>  singleBaseMismatchPenalty: 12<br>  gapOpenPenalties: 6,26<br>  gapExtensionPenalties: 1,0<br>  minUnitigMappingQuality: 1<br>filterCalls: <br>  maxIntraClusterDistance: 500<br>  minSVSize: 50<br>  minUnitigMappingQuality: 10<br>  svtype: DEL<br>",
          "filterCalls.minUnitigBlockLength: 40<br><br>makeRegions: <br>  slop: 250<br>  minCoverage: 0<br>  maxCoverage: 200<br>  maxRegionLength: 100000<br>  minRepeatPeriod: 6<br>  minRepeatLength: 100<br>  functionalRegions: none<br>  genomeBuild: hg38<br>  overlappedFunctionalRegions: false<br>makeCalls: <br>  singleBaseMatchReward: 10<br>  singleBaseMismatchPenalty: 12<br>  gapOpenPenalties: 6,26<br>  gapExtensionPenalties: 1,0<br>  minUnitigMappingQuality: 1<br>filterCalls: <br>  maxIntraClusterDistance: 500<br>  minSVSize: 50<br>  minUnitigMappingQuality: 10<br>  svtype: DEL<br>",
          "filterCalls.minUnitigBlockLength: 15<br><br>makeRegions: <br>  slop: 250<br>  minCoverage: 10<br>  maxCoverage: 200<br>  maxRegionLength: 100000<br>  minRepeatPeriod: 6<br>  minRepeatLength: 100<br>  functionalRegions: none<br>  genomeBuild: hg38<br>  overlappedFunctionalRegions: false<br>makeCalls: <br>  singleBaseMatchReward: 10<br>  singleBaseMismatchPenalty: 12<br>  gapOpenPenalties: 10,35<br>  gapExtensionPenalties: 1,0<br>  minUnitigMappingQuality: 1<br>filterCalls: <br>  maxIntraClusterDistance: 500<br>  minSVSize: 50<br>  minUnitigMappingQuality: 0<br>  svtype: DEL<br>",
          "filterCalls.minUnitigBlockLength: 25<br><br>makeRegions: <br>  slop: 250<br>  minCoverage: 10<br>  maxCoverage: 200<br>  maxRegionLength: 100000<br>  minRepeatPeriod: 6<br>  minRepeatLength: 100<br>  functionalRegions: none<br>  genomeBuild: hg38<br>  overlappedFunctionalRegions: false<br>makeCalls: <br>  singleBaseMatchReward: 10<br>  singleBaseMismatchPenalty: 12<br>  gapOpenPenalties: 10,35<br>  gapExtensionPenalties: 1,0<br>  minUnitigMappingQuality: 1<br>filterCalls: <br>  maxIntraClusterDistance: 500<br>  minSVSize: 50<br>  minUnitigMappingQuality: 0<br>  svtype: DEL<br>",
          "filterCalls.minUnitigBlockLength: 40<br><br>makeRegions: <br>  slop: 250<br>  minCoverage: 10<br>  maxCoverage: 200<br>  maxRegionLength: 100000<br>  minRepeatPeriod: 6<br>  minRepeatLength: 100<br>  functionalRegions: none<br>  genomeBuild: hg38<br>  overlappedFunctionalRegions: false<br>makeCalls: <br>  singleBaseMatchReward: 10<br>  singleBaseMismatchPenalty: 12<br>  gapOpenPenalties: 10,35<br>  gapExtensionPenalties: 1,0<br>  minUnitigMappingQuality: 1<br>filterCalls: <br>  maxIntraClusterDistance: 500<br>  minSVSize: 50<br>  minUnitigMappingQuality: 0<br>  svtype: DEL<br>",
          "filterCalls.minUnitigBlockLength: 15<br><br>makeRegions: <br>  slop: 250<br>  minCoverage: 10<br>  maxCoverage: 200<br>  maxRegionLength: 100000<br>  minRepeatPeriod: 6<br>  minRepeatLength: 100<br>  functionalRegions: none<br>  genomeBuild: hg38<br>  overlappedFunctionalRegions: false<br>makeCalls: <br>  singleBaseMatchReward: 10<br>  singleBaseMismatchPenalty: 12<br>  gapOpenPenalties: 10,35<br>  gapExtensionPenalties: 1,0<br>  minUnitigMappingQuality: 1<br>filterCalls: <br>  maxIntraClusterDistance: 500<br>  minSVSize: 50<br>  minUnitigMappingQuality: 10<br>  svtype: DEL<br>",
          "filterCalls.minUnitigBlockLength: 25<br><br>makeRegions: <br>  slop: 250<br>  minCoverage: 10<br>  maxCoverage: 200<br>  maxRegionLength: 100000<br>  minRepeatPeriod: 6<br>  minRepeatLength: 100<br>  functionalRegions: none<br>  genomeBuild: hg38<br>  overlappedFunctionalRegions: false<br>makeCalls: <br>  singleBaseMatchReward: 10<br>  singleBaseMismatchPenalty: 12<br>  gapOpenPenalties: 10,35<br>  gapExtensionPenalties: 1,0<br>  minUnitigMappingQuality: 1<br>filterCalls: <br>  maxIntraClusterDistance: 500<br>  minSVSize: 50<br>  minUnitigMappingQuality: 10<br>  svtype: DEL<br>",
          "filterCalls.minUnitigBlockLength: 40<br><br>makeRegions: <br>  slop: 250<br>  minCoverage: 10<br>  maxCoverage: 200<br>  maxRegionLength: 100000<br>  minRepeatPeriod: 6<br>  minRepeatLength: 100<br>  functionalRegions: none<br>  genomeBuild: hg38<br>  overlappedFunctionalRegions: false<br>makeCalls: <br>  singleBaseMatchReward: 10<br>  singleBaseMismatchPenalty: 12<br>  gapOpenPenalties: 10,35<br>  gapExtensionPenalties: 1,0<br>  minUnitigMappingQuality: 1<br>filterCalls: <br>  maxIntraClusterDistance: 500<br>  minSVSize: 50<br>  minUnitigMappingQuality: 10<br>  svtype: DEL<br>",
          "filterCalls.minUnitigBlockLength: 15<br><br>makeRegions: <br>  slop: 250<br>  minCoverage: 10<br>  maxCoverage: 200<br>  maxRegionLength: 100000<br>  minRepeatPeriod: 6<br>  minRepeatLength: 100<br>  functionalRegions: none<br>  genomeBuild: hg38<br>  overlappedFunctionalRegions: false<br>makeCalls: <br>  singleBaseMatchReward: 10<br>  singleBaseMismatchPenalty: 12<br>  gapOpenPenalties: 5,20<br>  gapExtensionPenalties: 1,0<br>  minUnitigMappingQuality: 1<br>filterCalls: <br>  maxIntraClusterDistance: 500<br>  minSVSize: 50<br>  minUnitigMappingQuality: 0<br>  svtype: DEL<br>",
          "filterCalls.minUnitigBlockLength: 25<br><br>makeRegions: <br>  slop: 250<br>  minCoverage: 10<br>  maxCoverage: 200<br>  maxRegionLength: 100000<br>  minRepeatPeriod: 6<br>  minRepeatLength: 100<br>  functionalRegions: none<br>  genomeBuild: hg38<br>  overlappedFunctionalRegions: false<br>makeCalls: <br>  singleBaseMatchReward: 10<br>  singleBaseMismatchPenalty: 12<br>  gapOpenPenalties: 5,20<br>  gapExtensionPenalties: 1,0<br>  minUnitigMappingQuality: 1<br>filterCalls: <br>  maxIntraClusterDistance: 500<br>  minSVSize: 50<br>  minUnitigMappingQuality: 0<br>  svtype: DEL<br>",
          "filterCalls.minUnitigBlockLength: 40<br><br>makeRegions: <br>  slop: 250<br>  minCoverage: 10<br>  maxCoverage: 200<br>  maxRegionLength: 100000<br>  minRepeatPeriod: 6<br>  minRepeatLength: 100<br>  functionalRegions: none<br>  genomeBuild: hg38<br>  overlappedFunctionalRegions: false<br>makeCalls: <br>  singleBaseMatchReward: 10<br>  singleBaseMismatchPenalty: 12<br>  gapOpenPenalties: 5,20<br>  gapExtensionPenalties: 1,0<br>  minUnitigMappingQuality: 1<br>filterCalls: <br>  maxIntraClusterDistance: 500<br>  minSVSize: 50<br>  minUnitigMappingQuality: 0<br>  svtype: DEL<br>",
          "filterCalls.minUnitigBlockLength: 15<br><br>makeRegions: <br>  slop: 250<br>  minCoverage: 10<br>  maxCoverage: 200<br>  maxRegionLength: 100000<br>  minRepeatPeriod: 6<br>  minRepeatLength: 100<br>  functionalRegions: none<br>  genomeBuild: hg38<br>  overlappedFunctionalRegions: false<br>makeCalls: <br>  singleBaseMatchReward: 10<br>  singleBaseMismatchPenalty: 12<br>  gapOpenPenalties: 5,20<br>  gapExtensionPenalties: 1,0<br>  minUnitigMappingQuality: 1<br>filterCalls: <br>  maxIntraClusterDistance: 500<br>  minSVSize: 50<br>  minUnitigMappingQuality: 10<br>  svtype: DEL<br>",
          "filterCalls.minUnitigBlockLength: 25<br><br>makeRegions: <br>  slop: 250<br>  minCoverage: 10<br>  maxCoverage: 200<br>  maxRegionLength: 100000<br>  minRepeatPeriod: 6<br>  minRepeatLength: 100<br>  functionalRegions: none<br>  genomeBuild: hg38<br>  overlappedFunctionalRegions: false<br>makeCalls: <br>  singleBaseMatchReward: 10<br>  singleBaseMismatchPenalty: 12<br>  gapOpenPenalties: 5,20<br>  gapExtensionPenalties: 1,0<br>  minUnitigMappingQuality: 1<br>filterCalls: <br>  maxIntraClusterDistance: 500<br>  minSVSize: 50<br>  minUnitigMappingQuality: 10<br>  svtype: DEL<br>",
          "filterCalls.minUnitigBlockLength: 40<br><br>makeRegions: <br>  slop: 250<br>  minCoverage: 10<br>  maxCoverage: 200<br>  maxRegionLength: 100000<br>  minRepeatPeriod: 6<br>  minRepeatLength: 100<br>  functionalRegions: none<br>  genomeBuild: hg38<br>  overlappedFunctionalRegions: false<br>makeCalls: <br>  singleBaseMatchReward: 10<br>  singleBaseMismatchPenalty: 12<br>  gapOpenPenalties: 5,20<br>  gapExtensionPenalties: 1,0<br>  minUnitigMappingQuality: 1<br>filterCalls: <br>  maxIntraClusterDistance: 500<br>  minSVSize: 50<br>  minUnitigMappingQuality: 10<br>  svtype: DEL<br>",
          "filterCalls.minUnitigBlockLength: 15<br><br>makeRegions: <br>  slop: 250<br>  minCoverage: 10<br>  maxCoverage: 200<br>  maxRegionLength: 100000<br>  minRepeatPeriod: 6<br>  minRepeatLength: 100<br>  functionalRegions: none<br>  genomeBuild: hg38<br>  overlappedFunctionalRegions: false<br>makeCalls: <br>  singleBaseMatchReward: 10<br>  singleBaseMismatchPenalty: 12<br>  gapOpenPenalties: 6,26<br>  gapExtensionPenalties: 1,0<br>  minUnitigMappingQuality: 1<br>filterCalls: <br>  maxIntraClusterDistance: 500<br>  minSVSize: 50<br>  minUnitigMappingQuality: 0<br>  svtype: DEL<br>",
          "filterCalls.minUnitigBlockLength: 25<br><br>makeRegions: <br>  slop: 250<br>  minCoverage: 10<br>  maxCoverage: 200<br>  maxRegionLength: 100000<br>  minRepeatPeriod: 6<br>  minRepeatLength: 100<br>  functionalRegions: none<br>  genomeBuild: hg38<br>  overlappedFunctionalRegions: false<br>makeCalls: <br>  singleBaseMatchReward: 10<br>  singleBaseMismatchPenalty: 12<br>  gapOpenPenalties: 6,26<br>  gapExtensionPenalties: 1,0<br>  minUnitigMappingQuality: 1<br>filterCalls: <br>  maxIntraClusterDistance: 500<br>  minSVSize: 50<br>  minUnitigMappingQuality: 0<br>  svtype: DEL<br>",
          "filterCalls.minUnitigBlockLength: 40<br><br>makeRegions: <br>  slop: 250<br>  minCoverage: 10<br>  maxCoverage: 200<br>  maxRegionLength: 100000<br>  minRepeatPeriod: 6<br>  minRepeatLength: 100<br>  functionalRegions: none<br>  genomeBuild: hg38<br>  overlappedFunctionalRegions: false<br>makeCalls: <br>  singleBaseMatchReward: 10<br>  singleBaseMismatchPenalty: 12<br>  gapOpenPenalties: 6,26<br>  gapExtensionPenalties: 1,0<br>  minUnitigMappingQuality: 1<br>filterCalls: <br>  maxIntraClusterDistance: 500<br>  minSVSize: 50<br>  minUnitigMappingQuality: 0<br>  svtype: DEL<br>",
          "filterCalls.minUnitigBlockLength: 15<br><br>makeRegions: <br>  slop: 250<br>  minCoverage: 10<br>  maxCoverage: 200<br>  maxRegionLength: 100000<br>  minRepeatPeriod: 6<br>  minRepeatLength: 100<br>  functionalRegions: none<br>  genomeBuild: hg38<br>  overlappedFunctionalRegions: false<br>makeCalls: <br>  singleBaseMatchReward: 10<br>  singleBaseMismatchPenalty: 12<br>  gapOpenPenalties: 6,26<br>  gapExtensionPenalties: 1,0<br>  minUnitigMappingQuality: 1<br>filterCalls: <br>  maxIntraClusterDistance: 500<br>  minSVSize: 50<br>  minUnitigMappingQuality: 10<br>  svtype: DEL<br>",
          "filterCalls.minUnitigBlockLength: 25<br><br>makeRegions: <br>  slop: 250<br>  minCoverage: 10<br>  maxCoverage: 200<br>  maxRegionLength: 100000<br>  minRepeatPeriod: 6<br>  minRepeatLength: 100<br>  functionalRegions: none<br>  genomeBuild: hg38<br>  overlappedFunctionalRegions: false<br>makeCalls: <br>  singleBaseMatchReward: 10<br>  singleBaseMismatchPenalty: 12<br>  gapOpenPenalties: 6,26<br>  gapExtensionPenalties: 1,0<br>  minUnitigMappingQuality: 1<br>filterCalls: <br>  maxIntraClusterDistance: 500<br>  minSVSize: 50<br>  minUnitigMappingQuality: 10<br>  svtype: DEL<br>",
          "filterCalls.minUnitigBlockLength: 40<br><br>makeRegions: <br>  slop: 250<br>  minCoverage: 10<br>  maxCoverage: 200<br>  maxRegionLength: 100000<br>  minRepeatPeriod: 6<br>  minRepeatLength: 100<br>  functionalRegions: none<br>  genomeBuild: hg38<br>  overlappedFunctionalRegions: false<br>makeCalls: <br>  singleBaseMatchReward: 10<br>  singleBaseMismatchPenalty: 12<br>  gapOpenPenalties: 6,26<br>  gapExtensionPenalties: 1,0<br>  minUnitigMappingQuality: 1<br>filterCalls: <br>  maxIntraClusterDistance: 500<br>  minSVSize: 50<br>  minUnitigMappingQuality: 10<br>  svtype: DEL<br>",
          "filterCalls.minUnitigBlockLength: 15<br><br>makeRegions: <br>  slop: 250<br>  minCoverage: 5<br>  maxCoverage: 200<br>  maxRegionLength: 100000<br>  minRepeatPeriod: 6<br>  minRepeatLength: 100<br>  functionalRegions: none<br>  genomeBuild: hg38<br>  overlappedFunctionalRegions: false<br>makeCalls: <br>  singleBaseMatchReward: 10<br>  singleBaseMismatchPenalty: 12<br>  gapOpenPenalties: 10,35<br>  gapExtensionPenalties: 1,0<br>  minUnitigMappingQuality: 1<br>filterCalls: <br>  maxIntraClusterDistance: 500<br>  minSVSize: 50<br>  minUnitigMappingQuality: 0<br>  svtype: DEL<br>",
          "filterCalls.minUnitigBlockLength: 25<br><br>makeRegions: <br>  slop: 250<br>  minCoverage: 5<br>  maxCoverage: 200<br>  maxRegionLength: 100000<br>  minRepeatPeriod: 6<br>  minRepeatLength: 100<br>  functionalRegions: none<br>  genomeBuild: hg38<br>  overlappedFunctionalRegions: false<br>makeCalls: <br>  singleBaseMatchReward: 10<br>  singleBaseMismatchPenalty: 12<br>  gapOpenPenalties: 10,35<br>  gapExtensionPenalties: 1,0<br>  minUnitigMappingQuality: 1<br>filterCalls: <br>  maxIntraClusterDistance: 500<br>  minSVSize: 50<br>  minUnitigMappingQuality: 0<br>  svtype: DEL<br>",
          "filterCalls.minUnitigBlockLength: 40<br><br>makeRegions: <br>  slop: 250<br>  minCoverage: 5<br>  maxCoverage: 200<br>  maxRegionLength: 100000<br>  minRepeatPeriod: 6<br>  minRepeatLength: 100<br>  functionalRegions: none<br>  genomeBuild: hg38<br>  overlappedFunctionalRegions: false<br>makeCalls: <br>  singleBaseMatchReward: 10<br>  singleBaseMismatchPenalty: 12<br>  gapOpenPenalties: 10,35<br>  gapExtensionPenalties: 1,0<br>  minUnitigMappingQuality: 1<br>filterCalls: <br>  maxIntraClusterDistance: 500<br>  minSVSize: 50<br>  minUnitigMappingQuality: 0<br>  svtype: DEL<br>",
          "filterCalls.minUnitigBlockLength: 15<br><br>makeRegions: <br>  slop: 250<br>  minCoverage: 5<br>  maxCoverage: 200<br>  maxRegionLength: 100000<br>  minRepeatPeriod: 6<br>  minRepeatLength: 100<br>  functionalRegions: none<br>  genomeBuild: hg38<br>  overlappedFunctionalRegions: false<br>makeCalls: <br>  singleBaseMatchReward: 10<br>  singleBaseMismatchPenalty: 12<br>  gapOpenPenalties: 10,35<br>  gapExtensionPenalties: 1,0<br>  minUnitigMappingQuality: 1<br>filterCalls: <br>  maxIntraClusterDistance: 500<br>  minSVSize: 50<br>  minUnitigMappingQuality: 10<br>  svtype: DEL<br>",
          "filterCalls.minUnitigBlockLength: 25<br><br>makeRegions: <br>  slop: 250<br>  minCoverage: 5<br>  maxCoverage: 200<br>  maxRegionLength: 100000<br>  minRepeatPeriod: 6<br>  minRepeatLength: 100<br>  functionalRegions: none<br>  genomeBuild: hg38<br>  overlappedFunctionalRegions: false<br>makeCalls: <br>  singleBaseMatchReward: 10<br>  singleBaseMismatchPenalty: 12<br>  gapOpenPenalties: 10,35<br>  gapExtensionPenalties: 1,0<br>  minUnitigMappingQuality: 1<br>filterCalls: <br>  maxIntraClusterDistance: 500<br>  minSVSize: 50<br>  minUnitigMappingQuality: 10<br>  svtype: DEL<br>",
          "filterCalls.minUnitigBlockLength: 40<br><br>makeRegions: <br>  slop: 250<br>  minCoverage: 5<br>  maxCoverage: 200<br>  maxRegionLength: 100000<br>  minRepeatPeriod: 6<br>  minRepeatLength: 100<br>  functionalRegions: none<br>  genomeBuild: hg38<br>  overlappedFunctionalRegions: false<br>makeCalls: <br>  singleBaseMatchReward: 10<br>  singleBaseMismatchPenalty: 12<br>  gapOpenPenalties: 10,35<br>  gapExtensionPenalties: 1,0<br>  minUnitigMappingQuality: 1<br>filterCalls: <br>  maxIntraClusterDistance: 500<br>  minSVSize: 50<br>  minUnitigMappingQuality: 10<br>  svtype: DEL<br>",
          "filterCalls.minUnitigBlockLength: 15<br><br>makeRegions: <br>  slop: 250<br>  minCoverage: 5<br>  maxCoverage: 200<br>  maxRegionLength: 100000<br>  minRepeatPeriod: 6<br>  minRepeatLength: 100<br>  functionalRegions: none<br>  genomeBuild: hg38<br>  overlappedFunctionalRegions: false<br>makeCalls: <br>  singleBaseMatchReward: 10<br>  singleBaseMismatchPenalty: 12<br>  gapOpenPenalties: 5,20<br>  gapExtensionPenalties: 1,0<br>  minUnitigMappingQuality: 1<br>filterCalls: <br>  maxIntraClusterDistance: 500<br>  minSVSize: 50<br>  minUnitigMappingQuality: 0<br>  svtype: DEL<br>",
          "filterCalls.minUnitigBlockLength: 25<br><br>makeRegions: <br>  slop: 250<br>  minCoverage: 5<br>  maxCoverage: 200<br>  maxRegionLength: 100000<br>  minRepeatPeriod: 6<br>  minRepeatLength: 100<br>  functionalRegions: none<br>  genomeBuild: hg38<br>  overlappedFunctionalRegions: false<br>makeCalls: <br>  singleBaseMatchReward: 10<br>  singleBaseMismatchPenalty: 12<br>  gapOpenPenalties: 5,20<br>  gapExtensionPenalties: 1,0<br>  minUnitigMappingQuality: 1<br>filterCalls: <br>  maxIntraClusterDistance: 500<br>  minSVSize: 50<br>  minUnitigMappingQuality: 0<br>  svtype: DEL<br>",
          "filterCalls.minUnitigBlockLength: 40<br><br>makeRegions: <br>  slop: 250<br>  minCoverage: 5<br>  maxCoverage: 200<br>  maxRegionLength: 100000<br>  minRepeatPeriod: 6<br>  minRepeatLength: 100<br>  functionalRegions: none<br>  genomeBuild: hg38<br>  overlappedFunctionalRegions: false<br>makeCalls: <br>  singleBaseMatchReward: 10<br>  singleBaseMismatchPenalty: 12<br>  gapOpenPenalties: 5,20<br>  gapExtensionPenalties: 1,0<br>  minUnitigMappingQuality: 1<br>filterCalls: <br>  maxIntraClusterDistance: 500<br>  minSVSize: 50<br>  minUnitigMappingQuality: 0<br>  svtype: DEL<br>",
          "filterCalls.minUnitigBlockLength: 15<br><br>makeRegions: <br>  slop: 250<br>  minCoverage: 5<br>  maxCoverage: 200<br>  maxRegionLength: 100000<br>  minRepeatPeriod: 6<br>  minRepeatLength: 100<br>  functionalRegions: none<br>  genomeBuild: hg38<br>  overlappedFunctionalRegions: false<br>makeCalls: <br>  singleBaseMatchReward: 10<br>  singleBaseMismatchPenalty: 12<br>  gapOpenPenalties: 5,20<br>  gapExtensionPenalties: 1,0<br>  minUnitigMappingQuality: 1<br>filterCalls: <br>  maxIntraClusterDistance: 500<br>  minSVSize: 50<br>  minUnitigMappingQuality: 10<br>  svtype: DEL<br>",
          "filterCalls.minUnitigBlockLength: 25<br><br>makeRegions: <br>  slop: 250<br>  minCoverage: 5<br>  maxCoverage: 200<br>  maxRegionLength: 100000<br>  minRepeatPeriod: 6<br>  minRepeatLength: 100<br>  functionalRegions: none<br>  genomeBuild: hg38<br>  overlappedFunctionalRegions: false<br>makeCalls: <br>  singleBaseMatchReward: 10<br>  singleBaseMismatchPenalty: 12<br>  gapOpenPenalties: 5,20<br>  gapExtensionPenalties: 1,0<br>  minUnitigMappingQuality: 1<br>filterCalls: <br>  maxIntraClusterDistance: 500<br>  minSVSize: 50<br>  minUnitigMappingQuality: 10<br>  svtype: DEL<br>",
          "filterCalls.minUnitigBlockLength: 40<br><br>makeRegions: <br>  slop: 250<br>  minCoverage: 5<br>  maxCoverage: 200<br>  maxRegionLength: 100000<br>  minRepeatPeriod: 6<br>  minRepeatLength: 100<br>  functionalRegions: none<br>  genomeBuild: hg38<br>  overlappedFunctionalRegions: false<br>makeCalls: <br>  singleBaseMatchReward: 10<br>  singleBaseMismatchPenalty: 12<br>  gapOpenPenalties: 5,20<br>  gapExtensionPenalties: 1,0<br>  minUnitigMappingQuality: 1<br>filterCalls: <br>  maxIntraClusterDistance: 500<br>  minSVSize: 50<br>  minUnitigMappingQuality: 10<br>  svtype: DEL<br>",
          "filterCalls.minUnitigBlockLength: 15<br><br>makeRegions: <br>  slop: 250<br>  minCoverage: 5<br>  maxCoverage: 200<br>  maxRegionLength: 100000<br>  minRepeatPeriod: 6<br>  minRepeatLength: 100<br>  functionalRegions: none<br>  genomeBuild: hg38<br>  overlappedFunctionalRegions: false<br>makeCalls: <br>  singleBaseMatchReward: 10<br>  singleBaseMismatchPenalty: 12<br>  gapOpenPenalties: 6,26<br>  gapExtensionPenalties: 1,0<br>  minUnitigMappingQuality: 1<br>filterCalls: <br>  maxIntraClusterDistance: 500<br>  minSVSize: 50<br>  minUnitigMappingQuality: 0<br>  svtype: DEL<br>",
          "filterCalls.minUnitigBlockLength: 25<br><br>makeRegions: <br>  slop: 250<br>  minCoverage: 5<br>  maxCoverage: 200<br>  maxRegionLength: 100000<br>  minRepeatPeriod: 6<br>  minRepeatLength: 100<br>  functionalRegions: none<br>  genomeBuild: hg38<br>  overlappedFunctionalRegions: false<br>makeCalls: <br>  singleBaseMatchReward: 10<br>  singleBaseMismatchPenalty: 12<br>  gapOpenPenalties: 6,26<br>  gapExtensionPenalties: 1,0<br>  minUnitigMappingQuality: 1<br>filterCalls: <br>  maxIntraClusterDistance: 500<br>  minSVSize: 50<br>  minUnitigMappingQuality: 0<br>  svtype: DEL<br>",
          "filterCalls.minUnitigBlockLength: 40<br><br>makeRegions: <br>  slop: 250<br>  minCoverage: 5<br>  maxCoverage: 200<br>  maxRegionLength: 100000<br>  minRepeatPeriod: 6<br>  minRepeatLength: 100<br>  functionalRegions: none<br>  genomeBuild: hg38<br>  overlappedFunctionalRegions: false<br>makeCalls: <br>  singleBaseMatchReward: 10<br>  singleBaseMismatchPenalty: 12<br>  gapOpenPenalties: 6,26<br>  gapExtensionPenalties: 1,0<br>  minUnitigMappingQuality: 1<br>filterCalls: <br>  maxIntraClusterDistance: 500<br>  minSVSize: 50<br>  minUnitigMappingQuality: 0<br>  svtype: DEL<br>",
          "filterCalls.minUnitigBlockLength: 15<br><br>makeRegions: <br>  slop: 250<br>  minCoverage: 5<br>  maxCoverage: 200<br>  maxRegionLength: 100000<br>  minRepeatPeriod: 6<br>  minRepeatLength: 100<br>  functionalRegions: none<br>  genomeBuild: hg38<br>  overlappedFunctionalRegions: false<br>makeCalls: <br>  singleBaseMatchReward: 10<br>  singleBaseMismatchPenalty: 12<br>  gapOpenPenalties: 6,26<br>  gapExtensionPenalties: 1,0<br>  minUnitigMappingQuality: 1<br>filterCalls: <br>  maxIntraClusterDistance: 500<br>  minSVSize: 50<br>  minUnitigMappingQuality: 10<br>  svtype: DEL<br>",
          "filterCalls.minUnitigBlockLength: 25<br><br>makeRegions: <br>  slop: 250<br>  minCoverage: 5<br>  maxCoverage: 200<br>  maxRegionLength: 100000<br>  minRepeatPeriod: 6<br>  minRepeatLength: 100<br>  functionalRegions: none<br>  genomeBuild: hg38<br>  overlappedFunctionalRegions: false<br>makeCalls: <br>  singleBaseMatchReward: 10<br>  singleBaseMismatchPenalty: 12<br>  gapOpenPenalties: 6,26<br>  gapExtensionPenalties: 1,0<br>  minUnitigMappingQuality: 1<br>filterCalls: <br>  maxIntraClusterDistance: 500<br>  minSVSize: 50<br>  minUnitigMappingQuality: 10<br>  svtype: DEL<br>",
          "filterCalls.minUnitigBlockLength: 40<br><br>makeRegions: <br>  slop: 250<br>  minCoverage: 5<br>  maxCoverage: 200<br>  maxRegionLength: 100000<br>  minRepeatPeriod: 6<br>  minRepeatLength: 100<br>  functionalRegions: none<br>  genomeBuild: hg38<br>  overlappedFunctionalRegions: false<br>makeCalls: <br>  singleBaseMatchReward: 10<br>  singleBaseMismatchPenalty: 12<br>  gapOpenPenalties: 6,26<br>  gapExtensionPenalties: 1,0<br>  minUnitigMappingQuality: 1<br>filterCalls: <br>  maxIntraClusterDistance: 500<br>  minSVSize: 50<br>  minUnitigMappingQuality: 10<br>  svtype: DEL<br>"
         ],
         "type": "scatter",
         "x": [
          0.33748361730013104,
          0.32481432940148536,
          0.290519877675841,
          0.3167321974661424,
          0.3058103975535168,
          0.27370030581039756,
          0.3584534731323722,
          0.3315858453473132,
          0.28484054172127565,
          0.3346439493228484,
          0.31236347750109217,
          0.2743556138051551,
          0.3379204892966361,
          0.3235037134119703,
          0.28593272171253825,
          0.317824377457405,
          0.3036260375709917,
          0.27195281782437747,
          0.3471783295711061,
          0.33047404063205416,
          0.2981941309255079,
          0.32505643340857787,
          0.31376975169300225,
          0.2801354401805869,
          0.36455981941309257,
          0.34063205417607223,
          0.2945823927765237,
          0.3428893905191874,
          0.3194130925507901,
          0.2799097065462754,
          0.3492099322799097,
          0.33160270880361176,
          0.29345372460496616,
          0.32821670428893907,
          0.31354401805869075,
          0.27878103837471785,
          0.3424081451969898,
          0.3291279327135901,
          0.2926073483842408,
          0.32182381584772024,
          0.30876494023904383,
          0.27689243027888444,
          0.36365648517042937,
          0.33510402833111996,
          0.28995130588756085,
          0.3368747233289066,
          0.31673306772908366,
          0.2773351040283311,
          0.3432934926958831,
          0.32602921646746347,
          0.28751660026560427,
          0.3202744577246569,
          0.30721558211598055,
          0.2764497565294378
         ],
         "y": [
          0.39183362921633275,
          0.4633842318479277,
          0.5410903173311635,
          0.43465227817745805,
          0.5035971223021583,
          0.5750344194584672,
          0.35313105229180114,
          0.4386015602427044,
          0.5410788381742738,
          0.39383033419023133,
          0.48507462686567165,
          0.5844578873894835,
          0.3865567216391804,
          0.46368190356919226,
          0.5534883720930233,
          0.4303460514640639,
          0.5065597667638484,
          0.5959789372905696,
          0.39134860050890585,
          0.4579293087269315,
          0.5400654129190515,
          0.4315253221456398,
          0.5023491145645103,
          0.5777467411545624,
          0.3475360447600603,
          0.4362532523850824,
          0.5397022332506204,
          0.3922024270591273,
          0.4799864314789688,
          0.5832549388523048,
          0.38957441450516245,
          0.46399241945672776,
          0.5543710021321961,
          0.4301775147928994,
          0.506934306569343,
          0.5892175572519084,
          0.39244038559107053,
          0.4635286783042394,
          0.5404742436631235,
          0.43338301043219074,
          0.5032467532467533,
          0.5797034291010195,
          0.35272649205667667,
          0.4398605461940732,
          0.5413223140495868,
          0.3924703455389376,
          0.48673469387755103,
          0.5798241554835725,
          0.3871692461308038,
          0.4613216410898841,
          0.5551282051282052,
          0.4312965722801788,
          0.5054624908958485,
          0.5925047438330171
         ]
        },
        {
         "hovertemplate": "%{text}",
         "marker": {
          "color": [
           15,
           25,
           40,
           15,
           25,
           40,
           15,
           25,
           40,
           15,
           25,
           40,
           15,
           25,
           40,
           15,
           25,
           40,
           15,
           25,
           40,
           15,
           25,
           40,
           15,
           25,
           40,
           15,
           25,
           40,
           15,
           25,
           40,
           15,
           25,
           40,
           15,
           25,
           40,
           15,
           25,
           40,
           15,
           25,
           40,
           15,
           25,
           40,
           15,
           25,
           40,
           15,
           25,
           40
          ],
          "size": 10,
          "symbol": "square"
         },
         "mode": "markers",
         "name": "manta",
         "text": [
          "filterCalls.minUnitigBlockLength: 15<br><br>makeRegions: <br>  slop: 250<br>  minCoverage: 0<br>  maxCoverage: 200<br>  maxRegionLength: 100000<br>  minRepeatPeriod: 6<br>  minRepeatLength: 100<br>  functionalRegions: none<br>  genomeBuild: hg38<br>  overlappedFunctionalRegions: false<br>makeCalls: <br>  singleBaseMatchReward: 10<br>  singleBaseMismatchPenalty: 12<br>  gapOpenPenalties: 10,35<br>  gapExtensionPenalties: 1,0<br>  minUnitigMappingQuality: 1<br>filterCalls: <br>  maxIntraClusterDistance: 500<br>  minSVSize: 50<br>  minUnitigMappingQuality: 0<br>  svtype: DEL<br>",
          "filterCalls.minUnitigBlockLength: 25<br><br>makeRegions: <br>  slop: 250<br>  minCoverage: 0<br>  maxCoverage: 200<br>  maxRegionLength: 100000<br>  minRepeatPeriod: 6<br>  minRepeatLength: 100<br>  functionalRegions: none<br>  genomeBuild: hg38<br>  overlappedFunctionalRegions: false<br>makeCalls: <br>  singleBaseMatchReward: 10<br>  singleBaseMismatchPenalty: 12<br>  gapOpenPenalties: 10,35<br>  gapExtensionPenalties: 1,0<br>  minUnitigMappingQuality: 1<br>filterCalls: <br>  maxIntraClusterDistance: 500<br>  minSVSize: 50<br>  minUnitigMappingQuality: 0<br>  svtype: DEL<br>",
          "filterCalls.minUnitigBlockLength: 40<br><br>makeRegions: <br>  slop: 250<br>  minCoverage: 0<br>  maxCoverage: 200<br>  maxRegionLength: 100000<br>  minRepeatPeriod: 6<br>  minRepeatLength: 100<br>  functionalRegions: none<br>  genomeBuild: hg38<br>  overlappedFunctionalRegions: false<br>makeCalls: <br>  singleBaseMatchReward: 10<br>  singleBaseMismatchPenalty: 12<br>  gapOpenPenalties: 10,35<br>  gapExtensionPenalties: 1,0<br>  minUnitigMappingQuality: 1<br>filterCalls: <br>  maxIntraClusterDistance: 500<br>  minSVSize: 50<br>  minUnitigMappingQuality: 0<br>  svtype: DEL<br>",
          "filterCalls.minUnitigBlockLength: 15<br><br>makeRegions: <br>  slop: 250<br>  minCoverage: 0<br>  maxCoverage: 200<br>  maxRegionLength: 100000<br>  minRepeatPeriod: 6<br>  minRepeatLength: 100<br>  functionalRegions: none<br>  genomeBuild: hg38<br>  overlappedFunctionalRegions: false<br>makeCalls: <br>  singleBaseMatchReward: 10<br>  singleBaseMismatchPenalty: 12<br>  gapOpenPenalties: 10,35<br>  gapExtensionPenalties: 1,0<br>  minUnitigMappingQuality: 1<br>filterCalls: <br>  maxIntraClusterDistance: 500<br>  minSVSize: 50<br>  minUnitigMappingQuality: 10<br>  svtype: DEL<br>",
          "filterCalls.minUnitigBlockLength: 25<br><br>makeRegions: <br>  slop: 250<br>  minCoverage: 0<br>  maxCoverage: 200<br>  maxRegionLength: 100000<br>  minRepeatPeriod: 6<br>  minRepeatLength: 100<br>  functionalRegions: none<br>  genomeBuild: hg38<br>  overlappedFunctionalRegions: false<br>makeCalls: <br>  singleBaseMatchReward: 10<br>  singleBaseMismatchPenalty: 12<br>  gapOpenPenalties: 10,35<br>  gapExtensionPenalties: 1,0<br>  minUnitigMappingQuality: 1<br>filterCalls: <br>  maxIntraClusterDistance: 500<br>  minSVSize: 50<br>  minUnitigMappingQuality: 10<br>  svtype: DEL<br>",
          "filterCalls.minUnitigBlockLength: 40<br><br>makeRegions: <br>  slop: 250<br>  minCoverage: 0<br>  maxCoverage: 200<br>  maxRegionLength: 100000<br>  minRepeatPeriod: 6<br>  minRepeatLength: 100<br>  functionalRegions: none<br>  genomeBuild: hg38<br>  overlappedFunctionalRegions: false<br>makeCalls: <br>  singleBaseMatchReward: 10<br>  singleBaseMismatchPenalty: 12<br>  gapOpenPenalties: 10,35<br>  gapExtensionPenalties: 1,0<br>  minUnitigMappingQuality: 1<br>filterCalls: <br>  maxIntraClusterDistance: 500<br>  minSVSize: 50<br>  minUnitigMappingQuality: 10<br>  svtype: DEL<br>",
          "filterCalls.minUnitigBlockLength: 15<br><br>makeRegions: <br>  slop: 250<br>  minCoverage: 0<br>  maxCoverage: 200<br>  maxRegionLength: 100000<br>  minRepeatPeriod: 6<br>  minRepeatLength: 100<br>  functionalRegions: none<br>  genomeBuild: hg38<br>  overlappedFunctionalRegions: false<br>makeCalls: <br>  singleBaseMatchReward: 10<br>  singleBaseMismatchPenalty: 12<br>  gapOpenPenalties: 5,20<br>  gapExtensionPenalties: 1,0<br>  minUnitigMappingQuality: 1<br>filterCalls: <br>  maxIntraClusterDistance: 500<br>  minSVSize: 50<br>  minUnitigMappingQuality: 0<br>  svtype: DEL<br>",
          "filterCalls.minUnitigBlockLength: 25<br><br>makeRegions: <br>  slop: 250<br>  minCoverage: 0<br>  maxCoverage: 200<br>  maxRegionLength: 100000<br>  minRepeatPeriod: 6<br>  minRepeatLength: 100<br>  functionalRegions: none<br>  genomeBuild: hg38<br>  overlappedFunctionalRegions: false<br>makeCalls: <br>  singleBaseMatchReward: 10<br>  singleBaseMismatchPenalty: 12<br>  gapOpenPenalties: 5,20<br>  gapExtensionPenalties: 1,0<br>  minUnitigMappingQuality: 1<br>filterCalls: <br>  maxIntraClusterDistance: 500<br>  minSVSize: 50<br>  minUnitigMappingQuality: 0<br>  svtype: DEL<br>",
          "filterCalls.minUnitigBlockLength: 40<br><br>makeRegions: <br>  slop: 250<br>  minCoverage: 0<br>  maxCoverage: 200<br>  maxRegionLength: 100000<br>  minRepeatPeriod: 6<br>  minRepeatLength: 100<br>  functionalRegions: none<br>  genomeBuild: hg38<br>  overlappedFunctionalRegions: false<br>makeCalls: <br>  singleBaseMatchReward: 10<br>  singleBaseMismatchPenalty: 12<br>  gapOpenPenalties: 5,20<br>  gapExtensionPenalties: 1,0<br>  minUnitigMappingQuality: 1<br>filterCalls: <br>  maxIntraClusterDistance: 500<br>  minSVSize: 50<br>  minUnitigMappingQuality: 0<br>  svtype: DEL<br>",
          "filterCalls.minUnitigBlockLength: 15<br><br>makeRegions: <br>  slop: 250<br>  minCoverage: 0<br>  maxCoverage: 200<br>  maxRegionLength: 100000<br>  minRepeatPeriod: 6<br>  minRepeatLength: 100<br>  functionalRegions: none<br>  genomeBuild: hg38<br>  overlappedFunctionalRegions: false<br>makeCalls: <br>  singleBaseMatchReward: 10<br>  singleBaseMismatchPenalty: 12<br>  gapOpenPenalties: 5,20<br>  gapExtensionPenalties: 1,0<br>  minUnitigMappingQuality: 1<br>filterCalls: <br>  maxIntraClusterDistance: 500<br>  minSVSize: 50<br>  minUnitigMappingQuality: 10<br>  svtype: DEL<br>",
          "filterCalls.minUnitigBlockLength: 25<br><br>makeRegions: <br>  slop: 250<br>  minCoverage: 0<br>  maxCoverage: 200<br>  maxRegionLength: 100000<br>  minRepeatPeriod: 6<br>  minRepeatLength: 100<br>  functionalRegions: none<br>  genomeBuild: hg38<br>  overlappedFunctionalRegions: false<br>makeCalls: <br>  singleBaseMatchReward: 10<br>  singleBaseMismatchPenalty: 12<br>  gapOpenPenalties: 5,20<br>  gapExtensionPenalties: 1,0<br>  minUnitigMappingQuality: 1<br>filterCalls: <br>  maxIntraClusterDistance: 500<br>  minSVSize: 50<br>  minUnitigMappingQuality: 10<br>  svtype: DEL<br>",
          "filterCalls.minUnitigBlockLength: 40<br><br>makeRegions: <br>  slop: 250<br>  minCoverage: 0<br>  maxCoverage: 200<br>  maxRegionLength: 100000<br>  minRepeatPeriod: 6<br>  minRepeatLength: 100<br>  functionalRegions: none<br>  genomeBuild: hg38<br>  overlappedFunctionalRegions: false<br>makeCalls: <br>  singleBaseMatchReward: 10<br>  singleBaseMismatchPenalty: 12<br>  gapOpenPenalties: 5,20<br>  gapExtensionPenalties: 1,0<br>  minUnitigMappingQuality: 1<br>filterCalls: <br>  maxIntraClusterDistance: 500<br>  minSVSize: 50<br>  minUnitigMappingQuality: 10<br>  svtype: DEL<br>",
          "filterCalls.minUnitigBlockLength: 15<br><br>makeRegions: <br>  slop: 250<br>  minCoverage: 0<br>  maxCoverage: 200<br>  maxRegionLength: 100000<br>  minRepeatPeriod: 6<br>  minRepeatLength: 100<br>  functionalRegions: none<br>  genomeBuild: hg38<br>  overlappedFunctionalRegions: false<br>makeCalls: <br>  singleBaseMatchReward: 10<br>  singleBaseMismatchPenalty: 12<br>  gapOpenPenalties: 6,26<br>  gapExtensionPenalties: 1,0<br>  minUnitigMappingQuality: 1<br>filterCalls: <br>  maxIntraClusterDistance: 500<br>  minSVSize: 50<br>  minUnitigMappingQuality: 0<br>  svtype: DEL<br>",
          "filterCalls.minUnitigBlockLength: 25<br><br>makeRegions: <br>  slop: 250<br>  minCoverage: 0<br>  maxCoverage: 200<br>  maxRegionLength: 100000<br>  minRepeatPeriod: 6<br>  minRepeatLength: 100<br>  functionalRegions: none<br>  genomeBuild: hg38<br>  overlappedFunctionalRegions: false<br>makeCalls: <br>  singleBaseMatchReward: 10<br>  singleBaseMismatchPenalty: 12<br>  gapOpenPenalties: 6,26<br>  gapExtensionPenalties: 1,0<br>  minUnitigMappingQuality: 1<br>filterCalls: <br>  maxIntraClusterDistance: 500<br>  minSVSize: 50<br>  minUnitigMappingQuality: 0<br>  svtype: DEL<br>",
          "filterCalls.minUnitigBlockLength: 40<br><br>makeRegions: <br>  slop: 250<br>  minCoverage: 0<br>  maxCoverage: 200<br>  maxRegionLength: 100000<br>  minRepeatPeriod: 6<br>  minRepeatLength: 100<br>  functionalRegions: none<br>  genomeBuild: hg38<br>  overlappedFunctionalRegions: false<br>makeCalls: <br>  singleBaseMatchReward: 10<br>  singleBaseMismatchPenalty: 12<br>  gapOpenPenalties: 6,26<br>  gapExtensionPenalties: 1,0<br>  minUnitigMappingQuality: 1<br>filterCalls: <br>  maxIntraClusterDistance: 500<br>  minSVSize: 50<br>  minUnitigMappingQuality: 0<br>  svtype: DEL<br>",
          "filterCalls.minUnitigBlockLength: 15<br><br>makeRegions: <br>  slop: 250<br>  minCoverage: 0<br>  maxCoverage: 200<br>  maxRegionLength: 100000<br>  minRepeatPeriod: 6<br>  minRepeatLength: 100<br>  functionalRegions: none<br>  genomeBuild: hg38<br>  overlappedFunctionalRegions: false<br>makeCalls: <br>  singleBaseMatchReward: 10<br>  singleBaseMismatchPenalty: 12<br>  gapOpenPenalties: 6,26<br>  gapExtensionPenalties: 1,0<br>  minUnitigMappingQuality: 1<br>filterCalls: <br>  maxIntraClusterDistance: 500<br>  minSVSize: 50<br>  minUnitigMappingQuality: 10<br>  svtype: DEL<br>",
          "filterCalls.minUnitigBlockLength: 25<br><br>makeRegions: <br>  slop: 250<br>  minCoverage: 0<br>  maxCoverage: 200<br>  maxRegionLength: 100000<br>  minRepeatPeriod: 6<br>  minRepeatLength: 100<br>  functionalRegions: none<br>  genomeBuild: hg38<br>  overlappedFunctionalRegions: false<br>makeCalls: <br>  singleBaseMatchReward: 10<br>  singleBaseMismatchPenalty: 12<br>  gapOpenPenalties: 6,26<br>  gapExtensionPenalties: 1,0<br>  minUnitigMappingQuality: 1<br>filterCalls: <br>  maxIntraClusterDistance: 500<br>  minSVSize: 50<br>  minUnitigMappingQuality: 10<br>  svtype: DEL<br>",
          "filterCalls.minUnitigBlockLength: 40<br><br>makeRegions: <br>  slop: 250<br>  minCoverage: 0<br>  maxCoverage: 200<br>  maxRegionLength: 100000<br>  minRepeatPeriod: 6<br>  minRepeatLength: 100<br>  functionalRegions: none<br>  genomeBuild: hg38<br>  overlappedFunctionalRegions: false<br>makeCalls: <br>  singleBaseMatchReward: 10<br>  singleBaseMismatchPenalty: 12<br>  gapOpenPenalties: 6,26<br>  gapExtensionPenalties: 1,0<br>  minUnitigMappingQuality: 1<br>filterCalls: <br>  maxIntraClusterDistance: 500<br>  minSVSize: 50<br>  minUnitigMappingQuality: 10<br>  svtype: DEL<br>",
          "filterCalls.minUnitigBlockLength: 15<br><br>makeRegions: <br>  slop: 250<br>  minCoverage: 10<br>  maxCoverage: 200<br>  maxRegionLength: 100000<br>  minRepeatPeriod: 6<br>  minRepeatLength: 100<br>  functionalRegions: none<br>  genomeBuild: hg38<br>  overlappedFunctionalRegions: false<br>makeCalls: <br>  singleBaseMatchReward: 10<br>  singleBaseMismatchPenalty: 12<br>  gapOpenPenalties: 10,35<br>  gapExtensionPenalties: 1,0<br>  minUnitigMappingQuality: 1<br>filterCalls: <br>  maxIntraClusterDistance: 500<br>  minSVSize: 50<br>  minUnitigMappingQuality: 0<br>  svtype: DEL<br>",
          "filterCalls.minUnitigBlockLength: 25<br><br>makeRegions: <br>  slop: 250<br>  minCoverage: 10<br>  maxCoverage: 200<br>  maxRegionLength: 100000<br>  minRepeatPeriod: 6<br>  minRepeatLength: 100<br>  functionalRegions: none<br>  genomeBuild: hg38<br>  overlappedFunctionalRegions: false<br>makeCalls: <br>  singleBaseMatchReward: 10<br>  singleBaseMismatchPenalty: 12<br>  gapOpenPenalties: 10,35<br>  gapExtensionPenalties: 1,0<br>  minUnitigMappingQuality: 1<br>filterCalls: <br>  maxIntraClusterDistance: 500<br>  minSVSize: 50<br>  minUnitigMappingQuality: 0<br>  svtype: DEL<br>",
          "filterCalls.minUnitigBlockLength: 40<br><br>makeRegions: <br>  slop: 250<br>  minCoverage: 10<br>  maxCoverage: 200<br>  maxRegionLength: 100000<br>  minRepeatPeriod: 6<br>  minRepeatLength: 100<br>  functionalRegions: none<br>  genomeBuild: hg38<br>  overlappedFunctionalRegions: false<br>makeCalls: <br>  singleBaseMatchReward: 10<br>  singleBaseMismatchPenalty: 12<br>  gapOpenPenalties: 10,35<br>  gapExtensionPenalties: 1,0<br>  minUnitigMappingQuality: 1<br>filterCalls: <br>  maxIntraClusterDistance: 500<br>  minSVSize: 50<br>  minUnitigMappingQuality: 0<br>  svtype: DEL<br>",
          "filterCalls.minUnitigBlockLength: 15<br><br>makeRegions: <br>  slop: 250<br>  minCoverage: 10<br>  maxCoverage: 200<br>  maxRegionLength: 100000<br>  minRepeatPeriod: 6<br>  minRepeatLength: 100<br>  functionalRegions: none<br>  genomeBuild: hg38<br>  overlappedFunctionalRegions: false<br>makeCalls: <br>  singleBaseMatchReward: 10<br>  singleBaseMismatchPenalty: 12<br>  gapOpenPenalties: 10,35<br>  gapExtensionPenalties: 1,0<br>  minUnitigMappingQuality: 1<br>filterCalls: <br>  maxIntraClusterDistance: 500<br>  minSVSize: 50<br>  minUnitigMappingQuality: 10<br>  svtype: DEL<br>",
          "filterCalls.minUnitigBlockLength: 25<br><br>makeRegions: <br>  slop: 250<br>  minCoverage: 10<br>  maxCoverage: 200<br>  maxRegionLength: 100000<br>  minRepeatPeriod: 6<br>  minRepeatLength: 100<br>  functionalRegions: none<br>  genomeBuild: hg38<br>  overlappedFunctionalRegions: false<br>makeCalls: <br>  singleBaseMatchReward: 10<br>  singleBaseMismatchPenalty: 12<br>  gapOpenPenalties: 10,35<br>  gapExtensionPenalties: 1,0<br>  minUnitigMappingQuality: 1<br>filterCalls: <br>  maxIntraClusterDistance: 500<br>  minSVSize: 50<br>  minUnitigMappingQuality: 10<br>  svtype: DEL<br>",
          "filterCalls.minUnitigBlockLength: 40<br><br>makeRegions: <br>  slop: 250<br>  minCoverage: 10<br>  maxCoverage: 200<br>  maxRegionLength: 100000<br>  minRepeatPeriod: 6<br>  minRepeatLength: 100<br>  functionalRegions: none<br>  genomeBuild: hg38<br>  overlappedFunctionalRegions: false<br>makeCalls: <br>  singleBaseMatchReward: 10<br>  singleBaseMismatchPenalty: 12<br>  gapOpenPenalties: 10,35<br>  gapExtensionPenalties: 1,0<br>  minUnitigMappingQuality: 1<br>filterCalls: <br>  maxIntraClusterDistance: 500<br>  minSVSize: 50<br>  minUnitigMappingQuality: 10<br>  svtype: DEL<br>",
          "filterCalls.minUnitigBlockLength: 15<br><br>makeRegions: <br>  slop: 250<br>  minCoverage: 10<br>  maxCoverage: 200<br>  maxRegionLength: 100000<br>  minRepeatPeriod: 6<br>  minRepeatLength: 100<br>  functionalRegions: none<br>  genomeBuild: hg38<br>  overlappedFunctionalRegions: false<br>makeCalls: <br>  singleBaseMatchReward: 10<br>  singleBaseMismatchPenalty: 12<br>  gapOpenPenalties: 5,20<br>  gapExtensionPenalties: 1,0<br>  minUnitigMappingQuality: 1<br>filterCalls: <br>  maxIntraClusterDistance: 500<br>  minSVSize: 50<br>  minUnitigMappingQuality: 0<br>  svtype: DEL<br>",
          "filterCalls.minUnitigBlockLength: 25<br><br>makeRegions: <br>  slop: 250<br>  minCoverage: 10<br>  maxCoverage: 200<br>  maxRegionLength: 100000<br>  minRepeatPeriod: 6<br>  minRepeatLength: 100<br>  functionalRegions: none<br>  genomeBuild: hg38<br>  overlappedFunctionalRegions: false<br>makeCalls: <br>  singleBaseMatchReward: 10<br>  singleBaseMismatchPenalty: 12<br>  gapOpenPenalties: 5,20<br>  gapExtensionPenalties: 1,0<br>  minUnitigMappingQuality: 1<br>filterCalls: <br>  maxIntraClusterDistance: 500<br>  minSVSize: 50<br>  minUnitigMappingQuality: 0<br>  svtype: DEL<br>",
          "filterCalls.minUnitigBlockLength: 40<br><br>makeRegions: <br>  slop: 250<br>  minCoverage: 10<br>  maxCoverage: 200<br>  maxRegionLength: 100000<br>  minRepeatPeriod: 6<br>  minRepeatLength: 100<br>  functionalRegions: none<br>  genomeBuild: hg38<br>  overlappedFunctionalRegions: false<br>makeCalls: <br>  singleBaseMatchReward: 10<br>  singleBaseMismatchPenalty: 12<br>  gapOpenPenalties: 5,20<br>  gapExtensionPenalties: 1,0<br>  minUnitigMappingQuality: 1<br>filterCalls: <br>  maxIntraClusterDistance: 500<br>  minSVSize: 50<br>  minUnitigMappingQuality: 0<br>  svtype: DEL<br>",
          "filterCalls.minUnitigBlockLength: 15<br><br>makeRegions: <br>  slop: 250<br>  minCoverage: 10<br>  maxCoverage: 200<br>  maxRegionLength: 100000<br>  minRepeatPeriod: 6<br>  minRepeatLength: 100<br>  functionalRegions: none<br>  genomeBuild: hg38<br>  overlappedFunctionalRegions: false<br>makeCalls: <br>  singleBaseMatchReward: 10<br>  singleBaseMismatchPenalty: 12<br>  gapOpenPenalties: 5,20<br>  gapExtensionPenalties: 1,0<br>  minUnitigMappingQuality: 1<br>filterCalls: <br>  maxIntraClusterDistance: 500<br>  minSVSize: 50<br>  minUnitigMappingQuality: 10<br>  svtype: DEL<br>",
          "filterCalls.minUnitigBlockLength: 25<br><br>makeRegions: <br>  slop: 250<br>  minCoverage: 10<br>  maxCoverage: 200<br>  maxRegionLength: 100000<br>  minRepeatPeriod: 6<br>  minRepeatLength: 100<br>  functionalRegions: none<br>  genomeBuild: hg38<br>  overlappedFunctionalRegions: false<br>makeCalls: <br>  singleBaseMatchReward: 10<br>  singleBaseMismatchPenalty: 12<br>  gapOpenPenalties: 5,20<br>  gapExtensionPenalties: 1,0<br>  minUnitigMappingQuality: 1<br>filterCalls: <br>  maxIntraClusterDistance: 500<br>  minSVSize: 50<br>  minUnitigMappingQuality: 10<br>  svtype: DEL<br>",
          "filterCalls.minUnitigBlockLength: 40<br><br>makeRegions: <br>  slop: 250<br>  minCoverage: 10<br>  maxCoverage: 200<br>  maxRegionLength: 100000<br>  minRepeatPeriod: 6<br>  minRepeatLength: 100<br>  functionalRegions: none<br>  genomeBuild: hg38<br>  overlappedFunctionalRegions: false<br>makeCalls: <br>  singleBaseMatchReward: 10<br>  singleBaseMismatchPenalty: 12<br>  gapOpenPenalties: 5,20<br>  gapExtensionPenalties: 1,0<br>  minUnitigMappingQuality: 1<br>filterCalls: <br>  maxIntraClusterDistance: 500<br>  minSVSize: 50<br>  minUnitigMappingQuality: 10<br>  svtype: DEL<br>",
          "filterCalls.minUnitigBlockLength: 15<br><br>makeRegions: <br>  slop: 250<br>  minCoverage: 10<br>  maxCoverage: 200<br>  maxRegionLength: 100000<br>  minRepeatPeriod: 6<br>  minRepeatLength: 100<br>  functionalRegions: none<br>  genomeBuild: hg38<br>  overlappedFunctionalRegions: false<br>makeCalls: <br>  singleBaseMatchReward: 10<br>  singleBaseMismatchPenalty: 12<br>  gapOpenPenalties: 6,26<br>  gapExtensionPenalties: 1,0<br>  minUnitigMappingQuality: 1<br>filterCalls: <br>  maxIntraClusterDistance: 500<br>  minSVSize: 50<br>  minUnitigMappingQuality: 0<br>  svtype: DEL<br>",
          "filterCalls.minUnitigBlockLength: 25<br><br>makeRegions: <br>  slop: 250<br>  minCoverage: 10<br>  maxCoverage: 200<br>  maxRegionLength: 100000<br>  minRepeatPeriod: 6<br>  minRepeatLength: 100<br>  functionalRegions: none<br>  genomeBuild: hg38<br>  overlappedFunctionalRegions: false<br>makeCalls: <br>  singleBaseMatchReward: 10<br>  singleBaseMismatchPenalty: 12<br>  gapOpenPenalties: 6,26<br>  gapExtensionPenalties: 1,0<br>  minUnitigMappingQuality: 1<br>filterCalls: <br>  maxIntraClusterDistance: 500<br>  minSVSize: 50<br>  minUnitigMappingQuality: 0<br>  svtype: DEL<br>",
          "filterCalls.minUnitigBlockLength: 40<br><br>makeRegions: <br>  slop: 250<br>  minCoverage: 10<br>  maxCoverage: 200<br>  maxRegionLength: 100000<br>  minRepeatPeriod: 6<br>  minRepeatLength: 100<br>  functionalRegions: none<br>  genomeBuild: hg38<br>  overlappedFunctionalRegions: false<br>makeCalls: <br>  singleBaseMatchReward: 10<br>  singleBaseMismatchPenalty: 12<br>  gapOpenPenalties: 6,26<br>  gapExtensionPenalties: 1,0<br>  minUnitigMappingQuality: 1<br>filterCalls: <br>  maxIntraClusterDistance: 500<br>  minSVSize: 50<br>  minUnitigMappingQuality: 0<br>  svtype: DEL<br>",
          "filterCalls.minUnitigBlockLength: 15<br><br>makeRegions: <br>  slop: 250<br>  minCoverage: 10<br>  maxCoverage: 200<br>  maxRegionLength: 100000<br>  minRepeatPeriod: 6<br>  minRepeatLength: 100<br>  functionalRegions: none<br>  genomeBuild: hg38<br>  overlappedFunctionalRegions: false<br>makeCalls: <br>  singleBaseMatchReward: 10<br>  singleBaseMismatchPenalty: 12<br>  gapOpenPenalties: 6,26<br>  gapExtensionPenalties: 1,0<br>  minUnitigMappingQuality: 1<br>filterCalls: <br>  maxIntraClusterDistance: 500<br>  minSVSize: 50<br>  minUnitigMappingQuality: 10<br>  svtype: DEL<br>",
          "filterCalls.minUnitigBlockLength: 25<br><br>makeRegions: <br>  slop: 250<br>  minCoverage: 10<br>  maxCoverage: 200<br>  maxRegionLength: 100000<br>  minRepeatPeriod: 6<br>  minRepeatLength: 100<br>  functionalRegions: none<br>  genomeBuild: hg38<br>  overlappedFunctionalRegions: false<br>makeCalls: <br>  singleBaseMatchReward: 10<br>  singleBaseMismatchPenalty: 12<br>  gapOpenPenalties: 6,26<br>  gapExtensionPenalties: 1,0<br>  minUnitigMappingQuality: 1<br>filterCalls: <br>  maxIntraClusterDistance: 500<br>  minSVSize: 50<br>  minUnitigMappingQuality: 10<br>  svtype: DEL<br>",
          "filterCalls.minUnitigBlockLength: 40<br><br>makeRegions: <br>  slop: 250<br>  minCoverage: 10<br>  maxCoverage: 200<br>  maxRegionLength: 100000<br>  minRepeatPeriod: 6<br>  minRepeatLength: 100<br>  functionalRegions: none<br>  genomeBuild: hg38<br>  overlappedFunctionalRegions: false<br>makeCalls: <br>  singleBaseMatchReward: 10<br>  singleBaseMismatchPenalty: 12<br>  gapOpenPenalties: 6,26<br>  gapExtensionPenalties: 1,0<br>  minUnitigMappingQuality: 1<br>filterCalls: <br>  maxIntraClusterDistance: 500<br>  minSVSize: 50<br>  minUnitigMappingQuality: 10<br>  svtype: DEL<br>",
          "filterCalls.minUnitigBlockLength: 15<br><br>makeRegions: <br>  slop: 250<br>  minCoverage: 5<br>  maxCoverage: 200<br>  maxRegionLength: 100000<br>  minRepeatPeriod: 6<br>  minRepeatLength: 100<br>  functionalRegions: none<br>  genomeBuild: hg38<br>  overlappedFunctionalRegions: false<br>makeCalls: <br>  singleBaseMatchReward: 10<br>  singleBaseMismatchPenalty: 12<br>  gapOpenPenalties: 10,35<br>  gapExtensionPenalties: 1,0<br>  minUnitigMappingQuality: 1<br>filterCalls: <br>  maxIntraClusterDistance: 500<br>  minSVSize: 50<br>  minUnitigMappingQuality: 0<br>  svtype: DEL<br>",
          "filterCalls.minUnitigBlockLength: 25<br><br>makeRegions: <br>  slop: 250<br>  minCoverage: 5<br>  maxCoverage: 200<br>  maxRegionLength: 100000<br>  minRepeatPeriod: 6<br>  minRepeatLength: 100<br>  functionalRegions: none<br>  genomeBuild: hg38<br>  overlappedFunctionalRegions: false<br>makeCalls: <br>  singleBaseMatchReward: 10<br>  singleBaseMismatchPenalty: 12<br>  gapOpenPenalties: 10,35<br>  gapExtensionPenalties: 1,0<br>  minUnitigMappingQuality: 1<br>filterCalls: <br>  maxIntraClusterDistance: 500<br>  minSVSize: 50<br>  minUnitigMappingQuality: 0<br>  svtype: DEL<br>",
          "filterCalls.minUnitigBlockLength: 40<br><br>makeRegions: <br>  slop: 250<br>  minCoverage: 5<br>  maxCoverage: 200<br>  maxRegionLength: 100000<br>  minRepeatPeriod: 6<br>  minRepeatLength: 100<br>  functionalRegions: none<br>  genomeBuild: hg38<br>  overlappedFunctionalRegions: false<br>makeCalls: <br>  singleBaseMatchReward: 10<br>  singleBaseMismatchPenalty: 12<br>  gapOpenPenalties: 10,35<br>  gapExtensionPenalties: 1,0<br>  minUnitigMappingQuality: 1<br>filterCalls: <br>  maxIntraClusterDistance: 500<br>  minSVSize: 50<br>  minUnitigMappingQuality: 0<br>  svtype: DEL<br>",
          "filterCalls.minUnitigBlockLength: 15<br><br>makeRegions: <br>  slop: 250<br>  minCoverage: 5<br>  maxCoverage: 200<br>  maxRegionLength: 100000<br>  minRepeatPeriod: 6<br>  minRepeatLength: 100<br>  functionalRegions: none<br>  genomeBuild: hg38<br>  overlappedFunctionalRegions: false<br>makeCalls: <br>  singleBaseMatchReward: 10<br>  singleBaseMismatchPenalty: 12<br>  gapOpenPenalties: 10,35<br>  gapExtensionPenalties: 1,0<br>  minUnitigMappingQuality: 1<br>filterCalls: <br>  maxIntraClusterDistance: 500<br>  minSVSize: 50<br>  minUnitigMappingQuality: 10<br>  svtype: DEL<br>",
          "filterCalls.minUnitigBlockLength: 25<br><br>makeRegions: <br>  slop: 250<br>  minCoverage: 5<br>  maxCoverage: 200<br>  maxRegionLength: 100000<br>  minRepeatPeriod: 6<br>  minRepeatLength: 100<br>  functionalRegions: none<br>  genomeBuild: hg38<br>  overlappedFunctionalRegions: false<br>makeCalls: <br>  singleBaseMatchReward: 10<br>  singleBaseMismatchPenalty: 12<br>  gapOpenPenalties: 10,35<br>  gapExtensionPenalties: 1,0<br>  minUnitigMappingQuality: 1<br>filterCalls: <br>  maxIntraClusterDistance: 500<br>  minSVSize: 50<br>  minUnitigMappingQuality: 10<br>  svtype: DEL<br>",
          "filterCalls.minUnitigBlockLength: 40<br><br>makeRegions: <br>  slop: 250<br>  minCoverage: 5<br>  maxCoverage: 200<br>  maxRegionLength: 100000<br>  minRepeatPeriod: 6<br>  minRepeatLength: 100<br>  functionalRegions: none<br>  genomeBuild: hg38<br>  overlappedFunctionalRegions: false<br>makeCalls: <br>  singleBaseMatchReward: 10<br>  singleBaseMismatchPenalty: 12<br>  gapOpenPenalties: 10,35<br>  gapExtensionPenalties: 1,0<br>  minUnitigMappingQuality: 1<br>filterCalls: <br>  maxIntraClusterDistance: 500<br>  minSVSize: 50<br>  minUnitigMappingQuality: 10<br>  svtype: DEL<br>",
          "filterCalls.minUnitigBlockLength: 15<br><br>makeRegions: <br>  slop: 250<br>  minCoverage: 5<br>  maxCoverage: 200<br>  maxRegionLength: 100000<br>  minRepeatPeriod: 6<br>  minRepeatLength: 100<br>  functionalRegions: none<br>  genomeBuild: hg38<br>  overlappedFunctionalRegions: false<br>makeCalls: <br>  singleBaseMatchReward: 10<br>  singleBaseMismatchPenalty: 12<br>  gapOpenPenalties: 5,20<br>  gapExtensionPenalties: 1,0<br>  minUnitigMappingQuality: 1<br>filterCalls: <br>  maxIntraClusterDistance: 500<br>  minSVSize: 50<br>  minUnitigMappingQuality: 0<br>  svtype: DEL<br>",
          "filterCalls.minUnitigBlockLength: 25<br><br>makeRegions: <br>  slop: 250<br>  minCoverage: 5<br>  maxCoverage: 200<br>  maxRegionLength: 100000<br>  minRepeatPeriod: 6<br>  minRepeatLength: 100<br>  functionalRegions: none<br>  genomeBuild: hg38<br>  overlappedFunctionalRegions: false<br>makeCalls: <br>  singleBaseMatchReward: 10<br>  singleBaseMismatchPenalty: 12<br>  gapOpenPenalties: 5,20<br>  gapExtensionPenalties: 1,0<br>  minUnitigMappingQuality: 1<br>filterCalls: <br>  maxIntraClusterDistance: 500<br>  minSVSize: 50<br>  minUnitigMappingQuality: 0<br>  svtype: DEL<br>",
          "filterCalls.minUnitigBlockLength: 40<br><br>makeRegions: <br>  slop: 250<br>  minCoverage: 5<br>  maxCoverage: 200<br>  maxRegionLength: 100000<br>  minRepeatPeriod: 6<br>  minRepeatLength: 100<br>  functionalRegions: none<br>  genomeBuild: hg38<br>  overlappedFunctionalRegions: false<br>makeCalls: <br>  singleBaseMatchReward: 10<br>  singleBaseMismatchPenalty: 12<br>  gapOpenPenalties: 5,20<br>  gapExtensionPenalties: 1,0<br>  minUnitigMappingQuality: 1<br>filterCalls: <br>  maxIntraClusterDistance: 500<br>  minSVSize: 50<br>  minUnitigMappingQuality: 0<br>  svtype: DEL<br>",
          "filterCalls.minUnitigBlockLength: 15<br><br>makeRegions: <br>  slop: 250<br>  minCoverage: 5<br>  maxCoverage: 200<br>  maxRegionLength: 100000<br>  minRepeatPeriod: 6<br>  minRepeatLength: 100<br>  functionalRegions: none<br>  genomeBuild: hg38<br>  overlappedFunctionalRegions: false<br>makeCalls: <br>  singleBaseMatchReward: 10<br>  singleBaseMismatchPenalty: 12<br>  gapOpenPenalties: 5,20<br>  gapExtensionPenalties: 1,0<br>  minUnitigMappingQuality: 1<br>filterCalls: <br>  maxIntraClusterDistance: 500<br>  minSVSize: 50<br>  minUnitigMappingQuality: 10<br>  svtype: DEL<br>",
          "filterCalls.minUnitigBlockLength: 25<br><br>makeRegions: <br>  slop: 250<br>  minCoverage: 5<br>  maxCoverage: 200<br>  maxRegionLength: 100000<br>  minRepeatPeriod: 6<br>  minRepeatLength: 100<br>  functionalRegions: none<br>  genomeBuild: hg38<br>  overlappedFunctionalRegions: false<br>makeCalls: <br>  singleBaseMatchReward: 10<br>  singleBaseMismatchPenalty: 12<br>  gapOpenPenalties: 5,20<br>  gapExtensionPenalties: 1,0<br>  minUnitigMappingQuality: 1<br>filterCalls: <br>  maxIntraClusterDistance: 500<br>  minSVSize: 50<br>  minUnitigMappingQuality: 10<br>  svtype: DEL<br>",
          "filterCalls.minUnitigBlockLength: 40<br><br>makeRegions: <br>  slop: 250<br>  minCoverage: 5<br>  maxCoverage: 200<br>  maxRegionLength: 100000<br>  minRepeatPeriod: 6<br>  minRepeatLength: 100<br>  functionalRegions: none<br>  genomeBuild: hg38<br>  overlappedFunctionalRegions: false<br>makeCalls: <br>  singleBaseMatchReward: 10<br>  singleBaseMismatchPenalty: 12<br>  gapOpenPenalties: 5,20<br>  gapExtensionPenalties: 1,0<br>  minUnitigMappingQuality: 1<br>filterCalls: <br>  maxIntraClusterDistance: 500<br>  minSVSize: 50<br>  minUnitigMappingQuality: 10<br>  svtype: DEL<br>",
          "filterCalls.minUnitigBlockLength: 15<br><br>makeRegions: <br>  slop: 250<br>  minCoverage: 5<br>  maxCoverage: 200<br>  maxRegionLength: 100000<br>  minRepeatPeriod: 6<br>  minRepeatLength: 100<br>  functionalRegions: none<br>  genomeBuild: hg38<br>  overlappedFunctionalRegions: false<br>makeCalls: <br>  singleBaseMatchReward: 10<br>  singleBaseMismatchPenalty: 12<br>  gapOpenPenalties: 6,26<br>  gapExtensionPenalties: 1,0<br>  minUnitigMappingQuality: 1<br>filterCalls: <br>  maxIntraClusterDistance: 500<br>  minSVSize: 50<br>  minUnitigMappingQuality: 0<br>  svtype: DEL<br>",
          "filterCalls.minUnitigBlockLength: 25<br><br>makeRegions: <br>  slop: 250<br>  minCoverage: 5<br>  maxCoverage: 200<br>  maxRegionLength: 100000<br>  minRepeatPeriod: 6<br>  minRepeatLength: 100<br>  functionalRegions: none<br>  genomeBuild: hg38<br>  overlappedFunctionalRegions: false<br>makeCalls: <br>  singleBaseMatchReward: 10<br>  singleBaseMismatchPenalty: 12<br>  gapOpenPenalties: 6,26<br>  gapExtensionPenalties: 1,0<br>  minUnitigMappingQuality: 1<br>filterCalls: <br>  maxIntraClusterDistance: 500<br>  minSVSize: 50<br>  minUnitigMappingQuality: 0<br>  svtype: DEL<br>",
          "filterCalls.minUnitigBlockLength: 40<br><br>makeRegions: <br>  slop: 250<br>  minCoverage: 5<br>  maxCoverage: 200<br>  maxRegionLength: 100000<br>  minRepeatPeriod: 6<br>  minRepeatLength: 100<br>  functionalRegions: none<br>  genomeBuild: hg38<br>  overlappedFunctionalRegions: false<br>makeCalls: <br>  singleBaseMatchReward: 10<br>  singleBaseMismatchPenalty: 12<br>  gapOpenPenalties: 6,26<br>  gapExtensionPenalties: 1,0<br>  minUnitigMappingQuality: 1<br>filterCalls: <br>  maxIntraClusterDistance: 500<br>  minSVSize: 50<br>  minUnitigMappingQuality: 0<br>  svtype: DEL<br>",
          "filterCalls.minUnitigBlockLength: 15<br><br>makeRegions: <br>  slop: 250<br>  minCoverage: 5<br>  maxCoverage: 200<br>  maxRegionLength: 100000<br>  minRepeatPeriod: 6<br>  minRepeatLength: 100<br>  functionalRegions: none<br>  genomeBuild: hg38<br>  overlappedFunctionalRegions: false<br>makeCalls: <br>  singleBaseMatchReward: 10<br>  singleBaseMismatchPenalty: 12<br>  gapOpenPenalties: 6,26<br>  gapExtensionPenalties: 1,0<br>  minUnitigMappingQuality: 1<br>filterCalls: <br>  maxIntraClusterDistance: 500<br>  minSVSize: 50<br>  minUnitigMappingQuality: 10<br>  svtype: DEL<br>",
          "filterCalls.minUnitigBlockLength: 25<br><br>makeRegions: <br>  slop: 250<br>  minCoverage: 5<br>  maxCoverage: 200<br>  maxRegionLength: 100000<br>  minRepeatPeriod: 6<br>  minRepeatLength: 100<br>  functionalRegions: none<br>  genomeBuild: hg38<br>  overlappedFunctionalRegions: false<br>makeCalls: <br>  singleBaseMatchReward: 10<br>  singleBaseMismatchPenalty: 12<br>  gapOpenPenalties: 6,26<br>  gapExtensionPenalties: 1,0<br>  minUnitigMappingQuality: 1<br>filterCalls: <br>  maxIntraClusterDistance: 500<br>  minSVSize: 50<br>  minUnitigMappingQuality: 10<br>  svtype: DEL<br>",
          "filterCalls.minUnitigBlockLength: 40<br><br>makeRegions: <br>  slop: 250<br>  minCoverage: 5<br>  maxCoverage: 200<br>  maxRegionLength: 100000<br>  minRepeatPeriod: 6<br>  minRepeatLength: 100<br>  functionalRegions: none<br>  genomeBuild: hg38<br>  overlappedFunctionalRegions: false<br>makeCalls: <br>  singleBaseMatchReward: 10<br>  singleBaseMismatchPenalty: 12<br>  gapOpenPenalties: 6,26<br>  gapExtensionPenalties: 1,0<br>  minUnitigMappingQuality: 1<br>filterCalls: <br>  maxIntraClusterDistance: 500<br>  minSVSize: 50<br>  minUnitigMappingQuality: 10<br>  svtype: DEL<br>"
         ],
         "type": "scatter",
         "x": [
          0.23525557011795545,
          0.23525557011795545,
          0.23525557011795545,
          0.23525557011795545,
          0.23525557011795545,
          0.23525557011795545,
          0.23525557011795545,
          0.23525557011795545,
          0.23525557011795545,
          0.23525557011795545,
          0.23525557011795545,
          0.23525557011795545,
          0.23525557011795545,
          0.23525557011795545,
          0.23525557011795545,
          0.23525557011795545,
          0.23525557011795545,
          0.23525557011795545,
          0.23882618510158013,
          0.23882618510158013,
          0.23882618510158013,
          0.23882618510158013,
          0.23882618510158013,
          0.23882618510158013,
          0.23882618510158013,
          0.23882618510158013,
          0.23882618510158013,
          0.23882618510158013,
          0.23882618510158013,
          0.23882618510158013,
          0.23882618510158013,
          0.23882618510158013,
          0.23882618510158013,
          0.23882618510158013,
          0.23882618510158013,
          0.23882618510158013,
          0.23727312970340858,
          0.23727312970340858,
          0.23727312970340858,
          0.23727312970340858,
          0.23727312970340858,
          0.23727312970340858,
          0.23727312970340858,
          0.23727312970340858,
          0.23727312970340858,
          0.23727312970340858,
          0.23727312970340858,
          0.23727312970340858,
          0.23727312970340858,
          0.23727312970340858,
          0.23727312970340858,
          0.23727312970340858,
          0.23727312970340858,
          0.23727312970340858
         ],
         "y": [
          0.5135908440629471,
          0.5135908440629471,
          0.5135908440629471,
          0.5135908440629471,
          0.5135908440629471,
          0.5135908440629471,
          0.5135908440629471,
          0.5135908440629471,
          0.5135908440629471,
          0.5135908440629471,
          0.5135908440629471,
          0.5135908440629471,
          0.5135908440629471,
          0.5135908440629471,
          0.5135908440629471,
          0.5135908440629471,
          0.5135908440629471,
          0.5135908440629471,
          0.5098795180722892,
          0.5098795180722892,
          0.5098795180722892,
          0.5098795180722892,
          0.5098795180722892,
          0.5098795180722892,
          0.5098795180722892,
          0.5098795180722892,
          0.5098795180722892,
          0.5098795180722892,
          0.5098795180722892,
          0.5098795180722892,
          0.5098795180722892,
          0.5098795180722892,
          0.5098795180722892,
          0.5098795180722892,
          0.5098795180722892,
          0.5098795180722892,
          0.5134099616858238,
          0.5134099616858238,
          0.5134099616858238,
          0.5134099616858238,
          0.5134099616858238,
          0.5134099616858238,
          0.5134099616858238,
          0.5134099616858238,
          0.5134099616858238,
          0.5134099616858238,
          0.5134099616858238,
          0.5134099616858238,
          0.5134099616858238,
          0.5134099616858238,
          0.5134099616858238,
          0.5134099616858238,
          0.5134099616858238,
          0.5134099616858238
         ]
        }
       ],
       "layout": {
        "template": {
         "data": {
          "bar": [
           {
            "error_x": {
             "color": "#2a3f5f"
            },
            "error_y": {
             "color": "#2a3f5f"
            },
            "marker": {
             "line": {
              "color": "#E5ECF6",
              "width": 0.5
             }
            },
            "type": "bar"
           }
          ],
          "barpolar": [
           {
            "marker": {
             "line": {
              "color": "#E5ECF6",
              "width": 0.5
             }
            },
            "type": "barpolar"
           }
          ],
          "carpet": [
           {
            "aaxis": {
             "endlinecolor": "#2a3f5f",
             "gridcolor": "white",
             "linecolor": "white",
             "minorgridcolor": "white",
             "startlinecolor": "#2a3f5f"
            },
            "baxis": {
             "endlinecolor": "#2a3f5f",
             "gridcolor": "white",
             "linecolor": "white",
             "minorgridcolor": "white",
             "startlinecolor": "#2a3f5f"
            },
            "type": "carpet"
           }
          ],
          "choropleth": [
           {
            "colorbar": {
             "outlinewidth": 0,
             "ticks": ""
            },
            "type": "choropleth"
           }
          ],
          "contour": [
           {
            "colorbar": {
             "outlinewidth": 0,
             "ticks": ""
            },
            "colorscale": [
             [
              0,
              "#0d0887"
             ],
             [
              0.1111111111111111,
              "#46039f"
             ],
             [
              0.2222222222222222,
              "#7201a8"
             ],
             [
              0.3333333333333333,
              "#9c179e"
             ],
             [
              0.4444444444444444,
              "#bd3786"
             ],
             [
              0.5555555555555556,
              "#d8576b"
             ],
             [
              0.6666666666666666,
              "#ed7953"
             ],
             [
              0.7777777777777778,
              "#fb9f3a"
             ],
             [
              0.8888888888888888,
              "#fdca26"
             ],
             [
              1,
              "#f0f921"
             ]
            ],
            "type": "contour"
           }
          ],
          "contourcarpet": [
           {
            "colorbar": {
             "outlinewidth": 0,
             "ticks": ""
            },
            "type": "contourcarpet"
           }
          ],
          "heatmap": [
           {
            "colorbar": {
             "outlinewidth": 0,
             "ticks": ""
            },
            "colorscale": [
             [
              0,
              "#0d0887"
             ],
             [
              0.1111111111111111,
              "#46039f"
             ],
             [
              0.2222222222222222,
              "#7201a8"
             ],
             [
              0.3333333333333333,
              "#9c179e"
             ],
             [
              0.4444444444444444,
              "#bd3786"
             ],
             [
              0.5555555555555556,
              "#d8576b"
             ],
             [
              0.6666666666666666,
              "#ed7953"
             ],
             [
              0.7777777777777778,
              "#fb9f3a"
             ],
             [
              0.8888888888888888,
              "#fdca26"
             ],
             [
              1,
              "#f0f921"
             ]
            ],
            "type": "heatmap"
           }
          ],
          "heatmapgl": [
           {
            "colorbar": {
             "outlinewidth": 0,
             "ticks": ""
            },
            "colorscale": [
             [
              0,
              "#0d0887"
             ],
             [
              0.1111111111111111,
              "#46039f"
             ],
             [
              0.2222222222222222,
              "#7201a8"
             ],
             [
              0.3333333333333333,
              "#9c179e"
             ],
             [
              0.4444444444444444,
              "#bd3786"
             ],
             [
              0.5555555555555556,
              "#d8576b"
             ],
             [
              0.6666666666666666,
              "#ed7953"
             ],
             [
              0.7777777777777778,
              "#fb9f3a"
             ],
             [
              0.8888888888888888,
              "#fdca26"
             ],
             [
              1,
              "#f0f921"
             ]
            ],
            "type": "heatmapgl"
           }
          ],
          "histogram": [
           {
            "marker": {
             "colorbar": {
              "outlinewidth": 0,
              "ticks": ""
             }
            },
            "type": "histogram"
           }
          ],
          "histogram2d": [
           {
            "colorbar": {
             "outlinewidth": 0,
             "ticks": ""
            },
            "colorscale": [
             [
              0,
              "#0d0887"
             ],
             [
              0.1111111111111111,
              "#46039f"
             ],
             [
              0.2222222222222222,
              "#7201a8"
             ],
             [
              0.3333333333333333,
              "#9c179e"
             ],
             [
              0.4444444444444444,
              "#bd3786"
             ],
             [
              0.5555555555555556,
              "#d8576b"
             ],
             [
              0.6666666666666666,
              "#ed7953"
             ],
             [
              0.7777777777777778,
              "#fb9f3a"
             ],
             [
              0.8888888888888888,
              "#fdca26"
             ],
             [
              1,
              "#f0f921"
             ]
            ],
            "type": "histogram2d"
           }
          ],
          "histogram2dcontour": [
           {
            "colorbar": {
             "outlinewidth": 0,
             "ticks": ""
            },
            "colorscale": [
             [
              0,
              "#0d0887"
             ],
             [
              0.1111111111111111,
              "#46039f"
             ],
             [
              0.2222222222222222,
              "#7201a8"
             ],
             [
              0.3333333333333333,
              "#9c179e"
             ],
             [
              0.4444444444444444,
              "#bd3786"
             ],
             [
              0.5555555555555556,
              "#d8576b"
             ],
             [
              0.6666666666666666,
              "#ed7953"
             ],
             [
              0.7777777777777778,
              "#fb9f3a"
             ],
             [
              0.8888888888888888,
              "#fdca26"
             ],
             [
              1,
              "#f0f921"
             ]
            ],
            "type": "histogram2dcontour"
           }
          ],
          "mesh3d": [
           {
            "colorbar": {
             "outlinewidth": 0,
             "ticks": ""
            },
            "type": "mesh3d"
           }
          ],
          "parcoords": [
           {
            "line": {
             "colorbar": {
              "outlinewidth": 0,
              "ticks": ""
             }
            },
            "type": "parcoords"
           }
          ],
          "pie": [
           {
            "automargin": true,
            "type": "pie"
           }
          ],
          "scatter": [
           {
            "marker": {
             "colorbar": {
              "outlinewidth": 0,
              "ticks": ""
             }
            },
            "type": "scatter"
           }
          ],
          "scatter3d": [
           {
            "line": {
             "colorbar": {
              "outlinewidth": 0,
              "ticks": ""
             }
            },
            "marker": {
             "colorbar": {
              "outlinewidth": 0,
              "ticks": ""
             }
            },
            "type": "scatter3d"
           }
          ],
          "scattercarpet": [
           {
            "marker": {
             "colorbar": {
              "outlinewidth": 0,
              "ticks": ""
             }
            },
            "type": "scattercarpet"
           }
          ],
          "scattergeo": [
           {
            "marker": {
             "colorbar": {
              "outlinewidth": 0,
              "ticks": ""
             }
            },
            "type": "scattergeo"
           }
          ],
          "scattergl": [
           {
            "marker": {
             "colorbar": {
              "outlinewidth": 0,
              "ticks": ""
             }
            },
            "type": "scattergl"
           }
          ],
          "scattermapbox": [
           {
            "marker": {
             "colorbar": {
              "outlinewidth": 0,
              "ticks": ""
             }
            },
            "type": "scattermapbox"
           }
          ],
          "scatterpolar": [
           {
            "marker": {
             "colorbar": {
              "outlinewidth": 0,
              "ticks": ""
             }
            },
            "type": "scatterpolar"
           }
          ],
          "scatterpolargl": [
           {
            "marker": {
             "colorbar": {
              "outlinewidth": 0,
              "ticks": ""
             }
            },
            "type": "scatterpolargl"
           }
          ],
          "scatterternary": [
           {
            "marker": {
             "colorbar": {
              "outlinewidth": 0,
              "ticks": ""
             }
            },
            "type": "scatterternary"
           }
          ],
          "surface": [
           {
            "colorbar": {
             "outlinewidth": 0,
             "ticks": ""
            },
            "colorscale": [
             [
              0,
              "#0d0887"
             ],
             [
              0.1111111111111111,
              "#46039f"
             ],
             [
              0.2222222222222222,
              "#7201a8"
             ],
             [
              0.3333333333333333,
              "#9c179e"
             ],
             [
              0.4444444444444444,
              "#bd3786"
             ],
             [
              0.5555555555555556,
              "#d8576b"
             ],
             [
              0.6666666666666666,
              "#ed7953"
             ],
             [
              0.7777777777777778,
              "#fb9f3a"
             ],
             [
              0.8888888888888888,
              "#fdca26"
             ],
             [
              1,
              "#f0f921"
             ]
            ],
            "type": "surface"
           }
          ],
          "table": [
           {
            "cells": {
             "fill": {
              "color": "#EBF0F8"
             },
             "line": {
              "color": "white"
             }
            },
            "header": {
             "fill": {
              "color": "#C8D4E3"
             },
             "line": {
              "color": "white"
             }
            },
            "type": "table"
           }
          ]
         },
         "layout": {
          "annotationdefaults": {
           "arrowcolor": "#2a3f5f",
           "arrowhead": 0,
           "arrowwidth": 1
          },
          "autotypenumbers": "strict",
          "coloraxis": {
           "colorbar": {
            "outlinewidth": 0,
            "ticks": ""
           }
          },
          "colorscale": {
           "diverging": [
            [
             0,
             "#8e0152"
            ],
            [
             0.1,
             "#c51b7d"
            ],
            [
             0.2,
             "#de77ae"
            ],
            [
             0.3,
             "#f1b6da"
            ],
            [
             0.4,
             "#fde0ef"
            ],
            [
             0.5,
             "#f7f7f7"
            ],
            [
             0.6,
             "#e6f5d0"
            ],
            [
             0.7,
             "#b8e186"
            ],
            [
             0.8,
             "#7fbc41"
            ],
            [
             0.9,
             "#4d9221"
            ],
            [
             1,
             "#276419"
            ]
           ],
           "sequential": [
            [
             0,
             "#0d0887"
            ],
            [
             0.1111111111111111,
             "#46039f"
            ],
            [
             0.2222222222222222,
             "#7201a8"
            ],
            [
             0.3333333333333333,
             "#9c179e"
            ],
            [
             0.4444444444444444,
             "#bd3786"
            ],
            [
             0.5555555555555556,
             "#d8576b"
            ],
            [
             0.6666666666666666,
             "#ed7953"
            ],
            [
             0.7777777777777778,
             "#fb9f3a"
            ],
            [
             0.8888888888888888,
             "#fdca26"
            ],
            [
             1,
             "#f0f921"
            ]
           ],
           "sequentialminus": [
            [
             0,
             "#0d0887"
            ],
            [
             0.1111111111111111,
             "#46039f"
            ],
            [
             0.2222222222222222,
             "#7201a8"
            ],
            [
             0.3333333333333333,
             "#9c179e"
            ],
            [
             0.4444444444444444,
             "#bd3786"
            ],
            [
             0.5555555555555556,
             "#d8576b"
            ],
            [
             0.6666666666666666,
             "#ed7953"
            ],
            [
             0.7777777777777778,
             "#fb9f3a"
            ],
            [
             0.8888888888888888,
             "#fdca26"
            ],
            [
             1,
             "#f0f921"
            ]
           ]
          },
          "colorway": [
           "#636efa",
           "#EF553B",
           "#00cc96",
           "#ab63fa",
           "#FFA15A",
           "#19d3f3",
           "#FF6692",
           "#B6E880",
           "#FF97FF",
           "#FECB52"
          ],
          "font": {
           "color": "#2a3f5f"
          },
          "geo": {
           "bgcolor": "white",
           "lakecolor": "white",
           "landcolor": "#E5ECF6",
           "showlakes": true,
           "showland": true,
           "subunitcolor": "white"
          },
          "hoverlabel": {
           "align": "left"
          },
          "hovermode": "closest",
          "mapbox": {
           "style": "light"
          },
          "paper_bgcolor": "white",
          "plot_bgcolor": "#E5ECF6",
          "polar": {
           "angularaxis": {
            "gridcolor": "white",
            "linecolor": "white",
            "ticks": ""
           },
           "bgcolor": "#E5ECF6",
           "radialaxis": {
            "gridcolor": "white",
            "linecolor": "white",
            "ticks": ""
           }
          },
          "scene": {
           "xaxis": {
            "backgroundcolor": "#E5ECF6",
            "gridcolor": "white",
            "gridwidth": 2,
            "linecolor": "white",
            "showbackground": true,
            "ticks": "",
            "zerolinecolor": "white"
           },
           "yaxis": {
            "backgroundcolor": "#E5ECF6",
            "gridcolor": "white",
            "gridwidth": 2,
            "linecolor": "white",
            "showbackground": true,
            "ticks": "",
            "zerolinecolor": "white"
           },
           "zaxis": {
            "backgroundcolor": "#E5ECF6",
            "gridcolor": "white",
            "gridwidth": 2,
            "linecolor": "white",
            "showbackground": true,
            "ticks": "",
            "zerolinecolor": "white"
           }
          },
          "shapedefaults": {
           "line": {
            "color": "#2a3f5f"
           }
          },
          "ternary": {
           "aaxis": {
            "gridcolor": "white",
            "linecolor": "white",
            "ticks": ""
           },
           "baxis": {
            "gridcolor": "white",
            "linecolor": "white",
            "ticks": ""
           },
           "bgcolor": "#E5ECF6",
           "caxis": {
            "gridcolor": "white",
            "linecolor": "white",
            "ticks": ""
           }
          },
          "title": {
           "x": 0.05
          },
          "xaxis": {
           "automargin": true,
           "gridcolor": "white",
           "linecolor": "white",
           "ticks": "",
           "title": {
            "standoff": 15
           },
           "zerolinecolor": "white",
           "zerolinewidth": 2
          },
          "yaxis": {
           "automargin": true,
           "gridcolor": "white",
           "linecolor": "white",
           "ticks": "",
           "title": {
            "standoff": 15
           },
           "zerolinecolor": "white",
           "zerolinewidth": 2
          }
         }
        },
        "xaxis": {
         "title": {
          "text": "recall"
         }
        },
        "yaxis": {
         "title": {
          "text": "precision"
         }
        }
       }
      },
      "text/html": [
       "<div>                            <div id=\"bf095bec-8bf7-48ea-af36-8d946ca172b2\" class=\"plotly-graph-div\" style=\"height:525px; width:100%;\"></div>            <script type=\"text/javascript\">                require([\"plotly\"], function(Plotly) {                    window.PLOTLYENV=window.PLOTLYENV || {};                                    if (document.getElementById(\"bf095bec-8bf7-48ea-af36-8d946ca172b2\")) {                    Plotly.newPlot(                        \"bf095bec-8bf7-48ea-af36-8d946ca172b2\",                        [{\"hovertemplate\": \"%{text}\", \"marker\": {\"color\": [15, 25, 40, 15, 25, 40, 15, 25, 40, 15, 25, 40, 15, 25, 40, 15, 25, 40, 15, 25, 40, 15, 25, 40, 15, 25, 40, 15, 25, 40, 15, 25, 40, 15, 25, 40, 15, 25, 40, 15, 25, 40, 15, 25, 40, 15, 25, 40, 15, 25, 40, 15, 25, 40]}, \"mode\": \"markers\", \"name\": \"trfermikit\", \"text\": [\"filterCalls.minUnitigBlockLength: 15<br><br>makeRegions: <br>  slop: 250<br>  minCoverage: 0<br>  maxCoverage: 200<br>  maxRegionLength: 100000<br>  minRepeatPeriod: 6<br>  minRepeatLength: 100<br>  functionalRegions: none<br>  genomeBuild: hg38<br>  overlappedFunctionalRegions: false<br>makeCalls: <br>  singleBaseMatchReward: 10<br>  singleBaseMismatchPenalty: 12<br>  gapOpenPenalties: 10,35<br>  gapExtensionPenalties: 1,0<br>  minUnitigMappingQuality: 1<br>filterCalls: <br>  maxIntraClusterDistance: 500<br>  minSVSize: 50<br>  minUnitigMappingQuality: 0<br>  svtype: DEL<br>\", \"filterCalls.minUnitigBlockLength: 25<br><br>makeRegions: <br>  slop: 250<br>  minCoverage: 0<br>  maxCoverage: 200<br>  maxRegionLength: 100000<br>  minRepeatPeriod: 6<br>  minRepeatLength: 100<br>  functionalRegions: none<br>  genomeBuild: hg38<br>  overlappedFunctionalRegions: false<br>makeCalls: <br>  singleBaseMatchReward: 10<br>  singleBaseMismatchPenalty: 12<br>  gapOpenPenalties: 10,35<br>  gapExtensionPenalties: 1,0<br>  minUnitigMappingQuality: 1<br>filterCalls: <br>  maxIntraClusterDistance: 500<br>  minSVSize: 50<br>  minUnitigMappingQuality: 0<br>  svtype: DEL<br>\", \"filterCalls.minUnitigBlockLength: 40<br><br>makeRegions: <br>  slop: 250<br>  minCoverage: 0<br>  maxCoverage: 200<br>  maxRegionLength: 100000<br>  minRepeatPeriod: 6<br>  minRepeatLength: 100<br>  functionalRegions: none<br>  genomeBuild: hg38<br>  overlappedFunctionalRegions: false<br>makeCalls: <br>  singleBaseMatchReward: 10<br>  singleBaseMismatchPenalty: 12<br>  gapOpenPenalties: 10,35<br>  gapExtensionPenalties: 1,0<br>  minUnitigMappingQuality: 1<br>filterCalls: <br>  maxIntraClusterDistance: 500<br>  minSVSize: 50<br>  minUnitigMappingQuality: 0<br>  svtype: DEL<br>\", \"filterCalls.minUnitigBlockLength: 15<br><br>makeRegions: <br>  slop: 250<br>  minCoverage: 0<br>  maxCoverage: 200<br>  maxRegionLength: 100000<br>  minRepeatPeriod: 6<br>  minRepeatLength: 100<br>  functionalRegions: none<br>  genomeBuild: hg38<br>  overlappedFunctionalRegions: false<br>makeCalls: <br>  singleBaseMatchReward: 10<br>  singleBaseMismatchPenalty: 12<br>  gapOpenPenalties: 10,35<br>  gapExtensionPenalties: 1,0<br>  minUnitigMappingQuality: 1<br>filterCalls: <br>  maxIntraClusterDistance: 500<br>  minSVSize: 50<br>  minUnitigMappingQuality: 10<br>  svtype: DEL<br>\", \"filterCalls.minUnitigBlockLength: 25<br><br>makeRegions: <br>  slop: 250<br>  minCoverage: 0<br>  maxCoverage: 200<br>  maxRegionLength: 100000<br>  minRepeatPeriod: 6<br>  minRepeatLength: 100<br>  functionalRegions: none<br>  genomeBuild: hg38<br>  overlappedFunctionalRegions: false<br>makeCalls: <br>  singleBaseMatchReward: 10<br>  singleBaseMismatchPenalty: 12<br>  gapOpenPenalties: 10,35<br>  gapExtensionPenalties: 1,0<br>  minUnitigMappingQuality: 1<br>filterCalls: <br>  maxIntraClusterDistance: 500<br>  minSVSize: 50<br>  minUnitigMappingQuality: 10<br>  svtype: DEL<br>\", \"filterCalls.minUnitigBlockLength: 40<br><br>makeRegions: <br>  slop: 250<br>  minCoverage: 0<br>  maxCoverage: 200<br>  maxRegionLength: 100000<br>  minRepeatPeriod: 6<br>  minRepeatLength: 100<br>  functionalRegions: none<br>  genomeBuild: hg38<br>  overlappedFunctionalRegions: false<br>makeCalls: <br>  singleBaseMatchReward: 10<br>  singleBaseMismatchPenalty: 12<br>  gapOpenPenalties: 10,35<br>  gapExtensionPenalties: 1,0<br>  minUnitigMappingQuality: 1<br>filterCalls: <br>  maxIntraClusterDistance: 500<br>  minSVSize: 50<br>  minUnitigMappingQuality: 10<br>  svtype: DEL<br>\", \"filterCalls.minUnitigBlockLength: 15<br><br>makeRegions: <br>  slop: 250<br>  minCoverage: 0<br>  maxCoverage: 200<br>  maxRegionLength: 100000<br>  minRepeatPeriod: 6<br>  minRepeatLength: 100<br>  functionalRegions: none<br>  genomeBuild: hg38<br>  overlappedFunctionalRegions: false<br>makeCalls: <br>  singleBaseMatchReward: 10<br>  singleBaseMismatchPenalty: 12<br>  gapOpenPenalties: 5,20<br>  gapExtensionPenalties: 1,0<br>  minUnitigMappingQuality: 1<br>filterCalls: <br>  maxIntraClusterDistance: 500<br>  minSVSize: 50<br>  minUnitigMappingQuality: 0<br>  svtype: DEL<br>\", \"filterCalls.minUnitigBlockLength: 25<br><br>makeRegions: <br>  slop: 250<br>  minCoverage: 0<br>  maxCoverage: 200<br>  maxRegionLength: 100000<br>  minRepeatPeriod: 6<br>  minRepeatLength: 100<br>  functionalRegions: none<br>  genomeBuild: hg38<br>  overlappedFunctionalRegions: false<br>makeCalls: <br>  singleBaseMatchReward: 10<br>  singleBaseMismatchPenalty: 12<br>  gapOpenPenalties: 5,20<br>  gapExtensionPenalties: 1,0<br>  minUnitigMappingQuality: 1<br>filterCalls: <br>  maxIntraClusterDistance: 500<br>  minSVSize: 50<br>  minUnitigMappingQuality: 0<br>  svtype: DEL<br>\", \"filterCalls.minUnitigBlockLength: 40<br><br>makeRegions: <br>  slop: 250<br>  minCoverage: 0<br>  maxCoverage: 200<br>  maxRegionLength: 100000<br>  minRepeatPeriod: 6<br>  minRepeatLength: 100<br>  functionalRegions: none<br>  genomeBuild: hg38<br>  overlappedFunctionalRegions: false<br>makeCalls: <br>  singleBaseMatchReward: 10<br>  singleBaseMismatchPenalty: 12<br>  gapOpenPenalties: 5,20<br>  gapExtensionPenalties: 1,0<br>  minUnitigMappingQuality: 1<br>filterCalls: <br>  maxIntraClusterDistance: 500<br>  minSVSize: 50<br>  minUnitigMappingQuality: 0<br>  svtype: DEL<br>\", \"filterCalls.minUnitigBlockLength: 15<br><br>makeRegions: <br>  slop: 250<br>  minCoverage: 0<br>  maxCoverage: 200<br>  maxRegionLength: 100000<br>  minRepeatPeriod: 6<br>  minRepeatLength: 100<br>  functionalRegions: none<br>  genomeBuild: hg38<br>  overlappedFunctionalRegions: false<br>makeCalls: <br>  singleBaseMatchReward: 10<br>  singleBaseMismatchPenalty: 12<br>  gapOpenPenalties: 5,20<br>  gapExtensionPenalties: 1,0<br>  minUnitigMappingQuality: 1<br>filterCalls: <br>  maxIntraClusterDistance: 500<br>  minSVSize: 50<br>  minUnitigMappingQuality: 10<br>  svtype: DEL<br>\", \"filterCalls.minUnitigBlockLength: 25<br><br>makeRegions: <br>  slop: 250<br>  minCoverage: 0<br>  maxCoverage: 200<br>  maxRegionLength: 100000<br>  minRepeatPeriod: 6<br>  minRepeatLength: 100<br>  functionalRegions: none<br>  genomeBuild: hg38<br>  overlappedFunctionalRegions: false<br>makeCalls: <br>  singleBaseMatchReward: 10<br>  singleBaseMismatchPenalty: 12<br>  gapOpenPenalties: 5,20<br>  gapExtensionPenalties: 1,0<br>  minUnitigMappingQuality: 1<br>filterCalls: <br>  maxIntraClusterDistance: 500<br>  minSVSize: 50<br>  minUnitigMappingQuality: 10<br>  svtype: DEL<br>\", \"filterCalls.minUnitigBlockLength: 40<br><br>makeRegions: <br>  slop: 250<br>  minCoverage: 0<br>  maxCoverage: 200<br>  maxRegionLength: 100000<br>  minRepeatPeriod: 6<br>  minRepeatLength: 100<br>  functionalRegions: none<br>  genomeBuild: hg38<br>  overlappedFunctionalRegions: false<br>makeCalls: <br>  singleBaseMatchReward: 10<br>  singleBaseMismatchPenalty: 12<br>  gapOpenPenalties: 5,20<br>  gapExtensionPenalties: 1,0<br>  minUnitigMappingQuality: 1<br>filterCalls: <br>  maxIntraClusterDistance: 500<br>  minSVSize: 50<br>  minUnitigMappingQuality: 10<br>  svtype: DEL<br>\", \"filterCalls.minUnitigBlockLength: 15<br><br>makeRegions: <br>  slop: 250<br>  minCoverage: 0<br>  maxCoverage: 200<br>  maxRegionLength: 100000<br>  minRepeatPeriod: 6<br>  minRepeatLength: 100<br>  functionalRegions: none<br>  genomeBuild: hg38<br>  overlappedFunctionalRegions: false<br>makeCalls: <br>  singleBaseMatchReward: 10<br>  singleBaseMismatchPenalty: 12<br>  gapOpenPenalties: 6,26<br>  gapExtensionPenalties: 1,0<br>  minUnitigMappingQuality: 1<br>filterCalls: <br>  maxIntraClusterDistance: 500<br>  minSVSize: 50<br>  minUnitigMappingQuality: 0<br>  svtype: DEL<br>\", \"filterCalls.minUnitigBlockLength: 25<br><br>makeRegions: <br>  slop: 250<br>  minCoverage: 0<br>  maxCoverage: 200<br>  maxRegionLength: 100000<br>  minRepeatPeriod: 6<br>  minRepeatLength: 100<br>  functionalRegions: none<br>  genomeBuild: hg38<br>  overlappedFunctionalRegions: false<br>makeCalls: <br>  singleBaseMatchReward: 10<br>  singleBaseMismatchPenalty: 12<br>  gapOpenPenalties: 6,26<br>  gapExtensionPenalties: 1,0<br>  minUnitigMappingQuality: 1<br>filterCalls: <br>  maxIntraClusterDistance: 500<br>  minSVSize: 50<br>  minUnitigMappingQuality: 0<br>  svtype: DEL<br>\", \"filterCalls.minUnitigBlockLength: 40<br><br>makeRegions: <br>  slop: 250<br>  minCoverage: 0<br>  maxCoverage: 200<br>  maxRegionLength: 100000<br>  minRepeatPeriod: 6<br>  minRepeatLength: 100<br>  functionalRegions: none<br>  genomeBuild: hg38<br>  overlappedFunctionalRegions: false<br>makeCalls: <br>  singleBaseMatchReward: 10<br>  singleBaseMismatchPenalty: 12<br>  gapOpenPenalties: 6,26<br>  gapExtensionPenalties: 1,0<br>  minUnitigMappingQuality: 1<br>filterCalls: <br>  maxIntraClusterDistance: 500<br>  minSVSize: 50<br>  minUnitigMappingQuality: 0<br>  svtype: DEL<br>\", \"filterCalls.minUnitigBlockLength: 15<br><br>makeRegions: <br>  slop: 250<br>  minCoverage: 0<br>  maxCoverage: 200<br>  maxRegionLength: 100000<br>  minRepeatPeriod: 6<br>  minRepeatLength: 100<br>  functionalRegions: none<br>  genomeBuild: hg38<br>  overlappedFunctionalRegions: false<br>makeCalls: <br>  singleBaseMatchReward: 10<br>  singleBaseMismatchPenalty: 12<br>  gapOpenPenalties: 6,26<br>  gapExtensionPenalties: 1,0<br>  minUnitigMappingQuality: 1<br>filterCalls: <br>  maxIntraClusterDistance: 500<br>  minSVSize: 50<br>  minUnitigMappingQuality: 10<br>  svtype: DEL<br>\", \"filterCalls.minUnitigBlockLength: 25<br><br>makeRegions: <br>  slop: 250<br>  minCoverage: 0<br>  maxCoverage: 200<br>  maxRegionLength: 100000<br>  minRepeatPeriod: 6<br>  minRepeatLength: 100<br>  functionalRegions: none<br>  genomeBuild: hg38<br>  overlappedFunctionalRegions: false<br>makeCalls: <br>  singleBaseMatchReward: 10<br>  singleBaseMismatchPenalty: 12<br>  gapOpenPenalties: 6,26<br>  gapExtensionPenalties: 1,0<br>  minUnitigMappingQuality: 1<br>filterCalls: <br>  maxIntraClusterDistance: 500<br>  minSVSize: 50<br>  minUnitigMappingQuality: 10<br>  svtype: DEL<br>\", \"filterCalls.minUnitigBlockLength: 40<br><br>makeRegions: <br>  slop: 250<br>  minCoverage: 0<br>  maxCoverage: 200<br>  maxRegionLength: 100000<br>  minRepeatPeriod: 6<br>  minRepeatLength: 100<br>  functionalRegions: none<br>  genomeBuild: hg38<br>  overlappedFunctionalRegions: false<br>makeCalls: <br>  singleBaseMatchReward: 10<br>  singleBaseMismatchPenalty: 12<br>  gapOpenPenalties: 6,26<br>  gapExtensionPenalties: 1,0<br>  minUnitigMappingQuality: 1<br>filterCalls: <br>  maxIntraClusterDistance: 500<br>  minSVSize: 50<br>  minUnitigMappingQuality: 10<br>  svtype: DEL<br>\", \"filterCalls.minUnitigBlockLength: 15<br><br>makeRegions: <br>  slop: 250<br>  minCoverage: 10<br>  maxCoverage: 200<br>  maxRegionLength: 100000<br>  minRepeatPeriod: 6<br>  minRepeatLength: 100<br>  functionalRegions: none<br>  genomeBuild: hg38<br>  overlappedFunctionalRegions: false<br>makeCalls: <br>  singleBaseMatchReward: 10<br>  singleBaseMismatchPenalty: 12<br>  gapOpenPenalties: 10,35<br>  gapExtensionPenalties: 1,0<br>  minUnitigMappingQuality: 1<br>filterCalls: <br>  maxIntraClusterDistance: 500<br>  minSVSize: 50<br>  minUnitigMappingQuality: 0<br>  svtype: DEL<br>\", \"filterCalls.minUnitigBlockLength: 25<br><br>makeRegions: <br>  slop: 250<br>  minCoverage: 10<br>  maxCoverage: 200<br>  maxRegionLength: 100000<br>  minRepeatPeriod: 6<br>  minRepeatLength: 100<br>  functionalRegions: none<br>  genomeBuild: hg38<br>  overlappedFunctionalRegions: false<br>makeCalls: <br>  singleBaseMatchReward: 10<br>  singleBaseMismatchPenalty: 12<br>  gapOpenPenalties: 10,35<br>  gapExtensionPenalties: 1,0<br>  minUnitigMappingQuality: 1<br>filterCalls: <br>  maxIntraClusterDistance: 500<br>  minSVSize: 50<br>  minUnitigMappingQuality: 0<br>  svtype: DEL<br>\", \"filterCalls.minUnitigBlockLength: 40<br><br>makeRegions: <br>  slop: 250<br>  minCoverage: 10<br>  maxCoverage: 200<br>  maxRegionLength: 100000<br>  minRepeatPeriod: 6<br>  minRepeatLength: 100<br>  functionalRegions: none<br>  genomeBuild: hg38<br>  overlappedFunctionalRegions: false<br>makeCalls: <br>  singleBaseMatchReward: 10<br>  singleBaseMismatchPenalty: 12<br>  gapOpenPenalties: 10,35<br>  gapExtensionPenalties: 1,0<br>  minUnitigMappingQuality: 1<br>filterCalls: <br>  maxIntraClusterDistance: 500<br>  minSVSize: 50<br>  minUnitigMappingQuality: 0<br>  svtype: DEL<br>\", \"filterCalls.minUnitigBlockLength: 15<br><br>makeRegions: <br>  slop: 250<br>  minCoverage: 10<br>  maxCoverage: 200<br>  maxRegionLength: 100000<br>  minRepeatPeriod: 6<br>  minRepeatLength: 100<br>  functionalRegions: none<br>  genomeBuild: hg38<br>  overlappedFunctionalRegions: false<br>makeCalls: <br>  singleBaseMatchReward: 10<br>  singleBaseMismatchPenalty: 12<br>  gapOpenPenalties: 10,35<br>  gapExtensionPenalties: 1,0<br>  minUnitigMappingQuality: 1<br>filterCalls: <br>  maxIntraClusterDistance: 500<br>  minSVSize: 50<br>  minUnitigMappingQuality: 10<br>  svtype: DEL<br>\", \"filterCalls.minUnitigBlockLength: 25<br><br>makeRegions: <br>  slop: 250<br>  minCoverage: 10<br>  maxCoverage: 200<br>  maxRegionLength: 100000<br>  minRepeatPeriod: 6<br>  minRepeatLength: 100<br>  functionalRegions: none<br>  genomeBuild: hg38<br>  overlappedFunctionalRegions: false<br>makeCalls: <br>  singleBaseMatchReward: 10<br>  singleBaseMismatchPenalty: 12<br>  gapOpenPenalties: 10,35<br>  gapExtensionPenalties: 1,0<br>  minUnitigMappingQuality: 1<br>filterCalls: <br>  maxIntraClusterDistance: 500<br>  minSVSize: 50<br>  minUnitigMappingQuality: 10<br>  svtype: DEL<br>\", \"filterCalls.minUnitigBlockLength: 40<br><br>makeRegions: <br>  slop: 250<br>  minCoverage: 10<br>  maxCoverage: 200<br>  maxRegionLength: 100000<br>  minRepeatPeriod: 6<br>  minRepeatLength: 100<br>  functionalRegions: none<br>  genomeBuild: hg38<br>  overlappedFunctionalRegions: false<br>makeCalls: <br>  singleBaseMatchReward: 10<br>  singleBaseMismatchPenalty: 12<br>  gapOpenPenalties: 10,35<br>  gapExtensionPenalties: 1,0<br>  minUnitigMappingQuality: 1<br>filterCalls: <br>  maxIntraClusterDistance: 500<br>  minSVSize: 50<br>  minUnitigMappingQuality: 10<br>  svtype: DEL<br>\", \"filterCalls.minUnitigBlockLength: 15<br><br>makeRegions: <br>  slop: 250<br>  minCoverage: 10<br>  maxCoverage: 200<br>  maxRegionLength: 100000<br>  minRepeatPeriod: 6<br>  minRepeatLength: 100<br>  functionalRegions: none<br>  genomeBuild: hg38<br>  overlappedFunctionalRegions: false<br>makeCalls: <br>  singleBaseMatchReward: 10<br>  singleBaseMismatchPenalty: 12<br>  gapOpenPenalties: 5,20<br>  gapExtensionPenalties: 1,0<br>  minUnitigMappingQuality: 1<br>filterCalls: <br>  maxIntraClusterDistance: 500<br>  minSVSize: 50<br>  minUnitigMappingQuality: 0<br>  svtype: DEL<br>\", \"filterCalls.minUnitigBlockLength: 25<br><br>makeRegions: <br>  slop: 250<br>  minCoverage: 10<br>  maxCoverage: 200<br>  maxRegionLength: 100000<br>  minRepeatPeriod: 6<br>  minRepeatLength: 100<br>  functionalRegions: none<br>  genomeBuild: hg38<br>  overlappedFunctionalRegions: false<br>makeCalls: <br>  singleBaseMatchReward: 10<br>  singleBaseMismatchPenalty: 12<br>  gapOpenPenalties: 5,20<br>  gapExtensionPenalties: 1,0<br>  minUnitigMappingQuality: 1<br>filterCalls: <br>  maxIntraClusterDistance: 500<br>  minSVSize: 50<br>  minUnitigMappingQuality: 0<br>  svtype: DEL<br>\", \"filterCalls.minUnitigBlockLength: 40<br><br>makeRegions: <br>  slop: 250<br>  minCoverage: 10<br>  maxCoverage: 200<br>  maxRegionLength: 100000<br>  minRepeatPeriod: 6<br>  minRepeatLength: 100<br>  functionalRegions: none<br>  genomeBuild: hg38<br>  overlappedFunctionalRegions: false<br>makeCalls: <br>  singleBaseMatchReward: 10<br>  singleBaseMismatchPenalty: 12<br>  gapOpenPenalties: 5,20<br>  gapExtensionPenalties: 1,0<br>  minUnitigMappingQuality: 1<br>filterCalls: <br>  maxIntraClusterDistance: 500<br>  minSVSize: 50<br>  minUnitigMappingQuality: 0<br>  svtype: DEL<br>\", \"filterCalls.minUnitigBlockLength: 15<br><br>makeRegions: <br>  slop: 250<br>  minCoverage: 10<br>  maxCoverage: 200<br>  maxRegionLength: 100000<br>  minRepeatPeriod: 6<br>  minRepeatLength: 100<br>  functionalRegions: none<br>  genomeBuild: hg38<br>  overlappedFunctionalRegions: false<br>makeCalls: <br>  singleBaseMatchReward: 10<br>  singleBaseMismatchPenalty: 12<br>  gapOpenPenalties: 5,20<br>  gapExtensionPenalties: 1,0<br>  minUnitigMappingQuality: 1<br>filterCalls: <br>  maxIntraClusterDistance: 500<br>  minSVSize: 50<br>  minUnitigMappingQuality: 10<br>  svtype: DEL<br>\", \"filterCalls.minUnitigBlockLength: 25<br><br>makeRegions: <br>  slop: 250<br>  minCoverage: 10<br>  maxCoverage: 200<br>  maxRegionLength: 100000<br>  minRepeatPeriod: 6<br>  minRepeatLength: 100<br>  functionalRegions: none<br>  genomeBuild: hg38<br>  overlappedFunctionalRegions: false<br>makeCalls: <br>  singleBaseMatchReward: 10<br>  singleBaseMismatchPenalty: 12<br>  gapOpenPenalties: 5,20<br>  gapExtensionPenalties: 1,0<br>  minUnitigMappingQuality: 1<br>filterCalls: <br>  maxIntraClusterDistance: 500<br>  minSVSize: 50<br>  minUnitigMappingQuality: 10<br>  svtype: DEL<br>\", \"filterCalls.minUnitigBlockLength: 40<br><br>makeRegions: <br>  slop: 250<br>  minCoverage: 10<br>  maxCoverage: 200<br>  maxRegionLength: 100000<br>  minRepeatPeriod: 6<br>  minRepeatLength: 100<br>  functionalRegions: none<br>  genomeBuild: hg38<br>  overlappedFunctionalRegions: false<br>makeCalls: <br>  singleBaseMatchReward: 10<br>  singleBaseMismatchPenalty: 12<br>  gapOpenPenalties: 5,20<br>  gapExtensionPenalties: 1,0<br>  minUnitigMappingQuality: 1<br>filterCalls: <br>  maxIntraClusterDistance: 500<br>  minSVSize: 50<br>  minUnitigMappingQuality: 10<br>  svtype: DEL<br>\", \"filterCalls.minUnitigBlockLength: 15<br><br>makeRegions: <br>  slop: 250<br>  minCoverage: 10<br>  maxCoverage: 200<br>  maxRegionLength: 100000<br>  minRepeatPeriod: 6<br>  minRepeatLength: 100<br>  functionalRegions: none<br>  genomeBuild: hg38<br>  overlappedFunctionalRegions: false<br>makeCalls: <br>  singleBaseMatchReward: 10<br>  singleBaseMismatchPenalty: 12<br>  gapOpenPenalties: 6,26<br>  gapExtensionPenalties: 1,0<br>  minUnitigMappingQuality: 1<br>filterCalls: <br>  maxIntraClusterDistance: 500<br>  minSVSize: 50<br>  minUnitigMappingQuality: 0<br>  svtype: DEL<br>\", \"filterCalls.minUnitigBlockLength: 25<br><br>makeRegions: <br>  slop: 250<br>  minCoverage: 10<br>  maxCoverage: 200<br>  maxRegionLength: 100000<br>  minRepeatPeriod: 6<br>  minRepeatLength: 100<br>  functionalRegions: none<br>  genomeBuild: hg38<br>  overlappedFunctionalRegions: false<br>makeCalls: <br>  singleBaseMatchReward: 10<br>  singleBaseMismatchPenalty: 12<br>  gapOpenPenalties: 6,26<br>  gapExtensionPenalties: 1,0<br>  minUnitigMappingQuality: 1<br>filterCalls: <br>  maxIntraClusterDistance: 500<br>  minSVSize: 50<br>  minUnitigMappingQuality: 0<br>  svtype: DEL<br>\", \"filterCalls.minUnitigBlockLength: 40<br><br>makeRegions: <br>  slop: 250<br>  minCoverage: 10<br>  maxCoverage: 200<br>  maxRegionLength: 100000<br>  minRepeatPeriod: 6<br>  minRepeatLength: 100<br>  functionalRegions: none<br>  genomeBuild: hg38<br>  overlappedFunctionalRegions: false<br>makeCalls: <br>  singleBaseMatchReward: 10<br>  singleBaseMismatchPenalty: 12<br>  gapOpenPenalties: 6,26<br>  gapExtensionPenalties: 1,0<br>  minUnitigMappingQuality: 1<br>filterCalls: <br>  maxIntraClusterDistance: 500<br>  minSVSize: 50<br>  minUnitigMappingQuality: 0<br>  svtype: DEL<br>\", \"filterCalls.minUnitigBlockLength: 15<br><br>makeRegions: <br>  slop: 250<br>  minCoverage: 10<br>  maxCoverage: 200<br>  maxRegionLength: 100000<br>  minRepeatPeriod: 6<br>  minRepeatLength: 100<br>  functionalRegions: none<br>  genomeBuild: hg38<br>  overlappedFunctionalRegions: false<br>makeCalls: <br>  singleBaseMatchReward: 10<br>  singleBaseMismatchPenalty: 12<br>  gapOpenPenalties: 6,26<br>  gapExtensionPenalties: 1,0<br>  minUnitigMappingQuality: 1<br>filterCalls: <br>  maxIntraClusterDistance: 500<br>  minSVSize: 50<br>  minUnitigMappingQuality: 10<br>  svtype: DEL<br>\", \"filterCalls.minUnitigBlockLength: 25<br><br>makeRegions: <br>  slop: 250<br>  minCoverage: 10<br>  maxCoverage: 200<br>  maxRegionLength: 100000<br>  minRepeatPeriod: 6<br>  minRepeatLength: 100<br>  functionalRegions: none<br>  genomeBuild: hg38<br>  overlappedFunctionalRegions: false<br>makeCalls: <br>  singleBaseMatchReward: 10<br>  singleBaseMismatchPenalty: 12<br>  gapOpenPenalties: 6,26<br>  gapExtensionPenalties: 1,0<br>  minUnitigMappingQuality: 1<br>filterCalls: <br>  maxIntraClusterDistance: 500<br>  minSVSize: 50<br>  minUnitigMappingQuality: 10<br>  svtype: DEL<br>\", \"filterCalls.minUnitigBlockLength: 40<br><br>makeRegions: <br>  slop: 250<br>  minCoverage: 10<br>  maxCoverage: 200<br>  maxRegionLength: 100000<br>  minRepeatPeriod: 6<br>  minRepeatLength: 100<br>  functionalRegions: none<br>  genomeBuild: hg38<br>  overlappedFunctionalRegions: false<br>makeCalls: <br>  singleBaseMatchReward: 10<br>  singleBaseMismatchPenalty: 12<br>  gapOpenPenalties: 6,26<br>  gapExtensionPenalties: 1,0<br>  minUnitigMappingQuality: 1<br>filterCalls: <br>  maxIntraClusterDistance: 500<br>  minSVSize: 50<br>  minUnitigMappingQuality: 10<br>  svtype: DEL<br>\", \"filterCalls.minUnitigBlockLength: 15<br><br>makeRegions: <br>  slop: 250<br>  minCoverage: 5<br>  maxCoverage: 200<br>  maxRegionLength: 100000<br>  minRepeatPeriod: 6<br>  minRepeatLength: 100<br>  functionalRegions: none<br>  genomeBuild: hg38<br>  overlappedFunctionalRegions: false<br>makeCalls: <br>  singleBaseMatchReward: 10<br>  singleBaseMismatchPenalty: 12<br>  gapOpenPenalties: 10,35<br>  gapExtensionPenalties: 1,0<br>  minUnitigMappingQuality: 1<br>filterCalls: <br>  maxIntraClusterDistance: 500<br>  minSVSize: 50<br>  minUnitigMappingQuality: 0<br>  svtype: DEL<br>\", \"filterCalls.minUnitigBlockLength: 25<br><br>makeRegions: <br>  slop: 250<br>  minCoverage: 5<br>  maxCoverage: 200<br>  maxRegionLength: 100000<br>  minRepeatPeriod: 6<br>  minRepeatLength: 100<br>  functionalRegions: none<br>  genomeBuild: hg38<br>  overlappedFunctionalRegions: false<br>makeCalls: <br>  singleBaseMatchReward: 10<br>  singleBaseMismatchPenalty: 12<br>  gapOpenPenalties: 10,35<br>  gapExtensionPenalties: 1,0<br>  minUnitigMappingQuality: 1<br>filterCalls: <br>  maxIntraClusterDistance: 500<br>  minSVSize: 50<br>  minUnitigMappingQuality: 0<br>  svtype: DEL<br>\", \"filterCalls.minUnitigBlockLength: 40<br><br>makeRegions: <br>  slop: 250<br>  minCoverage: 5<br>  maxCoverage: 200<br>  maxRegionLength: 100000<br>  minRepeatPeriod: 6<br>  minRepeatLength: 100<br>  functionalRegions: none<br>  genomeBuild: hg38<br>  overlappedFunctionalRegions: false<br>makeCalls: <br>  singleBaseMatchReward: 10<br>  singleBaseMismatchPenalty: 12<br>  gapOpenPenalties: 10,35<br>  gapExtensionPenalties: 1,0<br>  minUnitigMappingQuality: 1<br>filterCalls: <br>  maxIntraClusterDistance: 500<br>  minSVSize: 50<br>  minUnitigMappingQuality: 0<br>  svtype: DEL<br>\", \"filterCalls.minUnitigBlockLength: 15<br><br>makeRegions: <br>  slop: 250<br>  minCoverage: 5<br>  maxCoverage: 200<br>  maxRegionLength: 100000<br>  minRepeatPeriod: 6<br>  minRepeatLength: 100<br>  functionalRegions: none<br>  genomeBuild: hg38<br>  overlappedFunctionalRegions: false<br>makeCalls: <br>  singleBaseMatchReward: 10<br>  singleBaseMismatchPenalty: 12<br>  gapOpenPenalties: 10,35<br>  gapExtensionPenalties: 1,0<br>  minUnitigMappingQuality: 1<br>filterCalls: <br>  maxIntraClusterDistance: 500<br>  minSVSize: 50<br>  minUnitigMappingQuality: 10<br>  svtype: DEL<br>\", \"filterCalls.minUnitigBlockLength: 25<br><br>makeRegions: <br>  slop: 250<br>  minCoverage: 5<br>  maxCoverage: 200<br>  maxRegionLength: 100000<br>  minRepeatPeriod: 6<br>  minRepeatLength: 100<br>  functionalRegions: none<br>  genomeBuild: hg38<br>  overlappedFunctionalRegions: false<br>makeCalls: <br>  singleBaseMatchReward: 10<br>  singleBaseMismatchPenalty: 12<br>  gapOpenPenalties: 10,35<br>  gapExtensionPenalties: 1,0<br>  minUnitigMappingQuality: 1<br>filterCalls: <br>  maxIntraClusterDistance: 500<br>  minSVSize: 50<br>  minUnitigMappingQuality: 10<br>  svtype: DEL<br>\", \"filterCalls.minUnitigBlockLength: 40<br><br>makeRegions: <br>  slop: 250<br>  minCoverage: 5<br>  maxCoverage: 200<br>  maxRegionLength: 100000<br>  minRepeatPeriod: 6<br>  minRepeatLength: 100<br>  functionalRegions: none<br>  genomeBuild: hg38<br>  overlappedFunctionalRegions: false<br>makeCalls: <br>  singleBaseMatchReward: 10<br>  singleBaseMismatchPenalty: 12<br>  gapOpenPenalties: 10,35<br>  gapExtensionPenalties: 1,0<br>  minUnitigMappingQuality: 1<br>filterCalls: <br>  maxIntraClusterDistance: 500<br>  minSVSize: 50<br>  minUnitigMappingQuality: 10<br>  svtype: DEL<br>\", \"filterCalls.minUnitigBlockLength: 15<br><br>makeRegions: <br>  slop: 250<br>  minCoverage: 5<br>  maxCoverage: 200<br>  maxRegionLength: 100000<br>  minRepeatPeriod: 6<br>  minRepeatLength: 100<br>  functionalRegions: none<br>  genomeBuild: hg38<br>  overlappedFunctionalRegions: false<br>makeCalls: <br>  singleBaseMatchReward: 10<br>  singleBaseMismatchPenalty: 12<br>  gapOpenPenalties: 5,20<br>  gapExtensionPenalties: 1,0<br>  minUnitigMappingQuality: 1<br>filterCalls: <br>  maxIntraClusterDistance: 500<br>  minSVSize: 50<br>  minUnitigMappingQuality: 0<br>  svtype: DEL<br>\", \"filterCalls.minUnitigBlockLength: 25<br><br>makeRegions: <br>  slop: 250<br>  minCoverage: 5<br>  maxCoverage: 200<br>  maxRegionLength: 100000<br>  minRepeatPeriod: 6<br>  minRepeatLength: 100<br>  functionalRegions: none<br>  genomeBuild: hg38<br>  overlappedFunctionalRegions: false<br>makeCalls: <br>  singleBaseMatchReward: 10<br>  singleBaseMismatchPenalty: 12<br>  gapOpenPenalties: 5,20<br>  gapExtensionPenalties: 1,0<br>  minUnitigMappingQuality: 1<br>filterCalls: <br>  maxIntraClusterDistance: 500<br>  minSVSize: 50<br>  minUnitigMappingQuality: 0<br>  svtype: DEL<br>\", \"filterCalls.minUnitigBlockLength: 40<br><br>makeRegions: <br>  slop: 250<br>  minCoverage: 5<br>  maxCoverage: 200<br>  maxRegionLength: 100000<br>  minRepeatPeriod: 6<br>  minRepeatLength: 100<br>  functionalRegions: none<br>  genomeBuild: hg38<br>  overlappedFunctionalRegions: false<br>makeCalls: <br>  singleBaseMatchReward: 10<br>  singleBaseMismatchPenalty: 12<br>  gapOpenPenalties: 5,20<br>  gapExtensionPenalties: 1,0<br>  minUnitigMappingQuality: 1<br>filterCalls: <br>  maxIntraClusterDistance: 500<br>  minSVSize: 50<br>  minUnitigMappingQuality: 0<br>  svtype: DEL<br>\", \"filterCalls.minUnitigBlockLength: 15<br><br>makeRegions: <br>  slop: 250<br>  minCoverage: 5<br>  maxCoverage: 200<br>  maxRegionLength: 100000<br>  minRepeatPeriod: 6<br>  minRepeatLength: 100<br>  functionalRegions: none<br>  genomeBuild: hg38<br>  overlappedFunctionalRegions: false<br>makeCalls: <br>  singleBaseMatchReward: 10<br>  singleBaseMismatchPenalty: 12<br>  gapOpenPenalties: 5,20<br>  gapExtensionPenalties: 1,0<br>  minUnitigMappingQuality: 1<br>filterCalls: <br>  maxIntraClusterDistance: 500<br>  minSVSize: 50<br>  minUnitigMappingQuality: 10<br>  svtype: DEL<br>\", \"filterCalls.minUnitigBlockLength: 25<br><br>makeRegions: <br>  slop: 250<br>  minCoverage: 5<br>  maxCoverage: 200<br>  maxRegionLength: 100000<br>  minRepeatPeriod: 6<br>  minRepeatLength: 100<br>  functionalRegions: none<br>  genomeBuild: hg38<br>  overlappedFunctionalRegions: false<br>makeCalls: <br>  singleBaseMatchReward: 10<br>  singleBaseMismatchPenalty: 12<br>  gapOpenPenalties: 5,20<br>  gapExtensionPenalties: 1,0<br>  minUnitigMappingQuality: 1<br>filterCalls: <br>  maxIntraClusterDistance: 500<br>  minSVSize: 50<br>  minUnitigMappingQuality: 10<br>  svtype: DEL<br>\", \"filterCalls.minUnitigBlockLength: 40<br><br>makeRegions: <br>  slop: 250<br>  minCoverage: 5<br>  maxCoverage: 200<br>  maxRegionLength: 100000<br>  minRepeatPeriod: 6<br>  minRepeatLength: 100<br>  functionalRegions: none<br>  genomeBuild: hg38<br>  overlappedFunctionalRegions: false<br>makeCalls: <br>  singleBaseMatchReward: 10<br>  singleBaseMismatchPenalty: 12<br>  gapOpenPenalties: 5,20<br>  gapExtensionPenalties: 1,0<br>  minUnitigMappingQuality: 1<br>filterCalls: <br>  maxIntraClusterDistance: 500<br>  minSVSize: 50<br>  minUnitigMappingQuality: 10<br>  svtype: DEL<br>\", \"filterCalls.minUnitigBlockLength: 15<br><br>makeRegions: <br>  slop: 250<br>  minCoverage: 5<br>  maxCoverage: 200<br>  maxRegionLength: 100000<br>  minRepeatPeriod: 6<br>  minRepeatLength: 100<br>  functionalRegions: none<br>  genomeBuild: hg38<br>  overlappedFunctionalRegions: false<br>makeCalls: <br>  singleBaseMatchReward: 10<br>  singleBaseMismatchPenalty: 12<br>  gapOpenPenalties: 6,26<br>  gapExtensionPenalties: 1,0<br>  minUnitigMappingQuality: 1<br>filterCalls: <br>  maxIntraClusterDistance: 500<br>  minSVSize: 50<br>  minUnitigMappingQuality: 0<br>  svtype: DEL<br>\", \"filterCalls.minUnitigBlockLength: 25<br><br>makeRegions: <br>  slop: 250<br>  minCoverage: 5<br>  maxCoverage: 200<br>  maxRegionLength: 100000<br>  minRepeatPeriod: 6<br>  minRepeatLength: 100<br>  functionalRegions: none<br>  genomeBuild: hg38<br>  overlappedFunctionalRegions: false<br>makeCalls: <br>  singleBaseMatchReward: 10<br>  singleBaseMismatchPenalty: 12<br>  gapOpenPenalties: 6,26<br>  gapExtensionPenalties: 1,0<br>  minUnitigMappingQuality: 1<br>filterCalls: <br>  maxIntraClusterDistance: 500<br>  minSVSize: 50<br>  minUnitigMappingQuality: 0<br>  svtype: DEL<br>\", \"filterCalls.minUnitigBlockLength: 40<br><br>makeRegions: <br>  slop: 250<br>  minCoverage: 5<br>  maxCoverage: 200<br>  maxRegionLength: 100000<br>  minRepeatPeriod: 6<br>  minRepeatLength: 100<br>  functionalRegions: none<br>  genomeBuild: hg38<br>  overlappedFunctionalRegions: false<br>makeCalls: <br>  singleBaseMatchReward: 10<br>  singleBaseMismatchPenalty: 12<br>  gapOpenPenalties: 6,26<br>  gapExtensionPenalties: 1,0<br>  minUnitigMappingQuality: 1<br>filterCalls: <br>  maxIntraClusterDistance: 500<br>  minSVSize: 50<br>  minUnitigMappingQuality: 0<br>  svtype: DEL<br>\", \"filterCalls.minUnitigBlockLength: 15<br><br>makeRegions: <br>  slop: 250<br>  minCoverage: 5<br>  maxCoverage: 200<br>  maxRegionLength: 100000<br>  minRepeatPeriod: 6<br>  minRepeatLength: 100<br>  functionalRegions: none<br>  genomeBuild: hg38<br>  overlappedFunctionalRegions: false<br>makeCalls: <br>  singleBaseMatchReward: 10<br>  singleBaseMismatchPenalty: 12<br>  gapOpenPenalties: 6,26<br>  gapExtensionPenalties: 1,0<br>  minUnitigMappingQuality: 1<br>filterCalls: <br>  maxIntraClusterDistance: 500<br>  minSVSize: 50<br>  minUnitigMappingQuality: 10<br>  svtype: DEL<br>\", \"filterCalls.minUnitigBlockLength: 25<br><br>makeRegions: <br>  slop: 250<br>  minCoverage: 5<br>  maxCoverage: 200<br>  maxRegionLength: 100000<br>  minRepeatPeriod: 6<br>  minRepeatLength: 100<br>  functionalRegions: none<br>  genomeBuild: hg38<br>  overlappedFunctionalRegions: false<br>makeCalls: <br>  singleBaseMatchReward: 10<br>  singleBaseMismatchPenalty: 12<br>  gapOpenPenalties: 6,26<br>  gapExtensionPenalties: 1,0<br>  minUnitigMappingQuality: 1<br>filterCalls: <br>  maxIntraClusterDistance: 500<br>  minSVSize: 50<br>  minUnitigMappingQuality: 10<br>  svtype: DEL<br>\", \"filterCalls.minUnitigBlockLength: 40<br><br>makeRegions: <br>  slop: 250<br>  minCoverage: 5<br>  maxCoverage: 200<br>  maxRegionLength: 100000<br>  minRepeatPeriod: 6<br>  minRepeatLength: 100<br>  functionalRegions: none<br>  genomeBuild: hg38<br>  overlappedFunctionalRegions: false<br>makeCalls: <br>  singleBaseMatchReward: 10<br>  singleBaseMismatchPenalty: 12<br>  gapOpenPenalties: 6,26<br>  gapExtensionPenalties: 1,0<br>  minUnitigMappingQuality: 1<br>filterCalls: <br>  maxIntraClusterDistance: 500<br>  minSVSize: 50<br>  minUnitigMappingQuality: 10<br>  svtype: DEL<br>\"], \"type\": \"scatter\", \"x\": [0.33748361730013104, 0.32481432940148536, 0.290519877675841, 0.3167321974661424, 0.3058103975535168, 0.27370030581039756, 0.3584534731323722, 0.3315858453473132, 0.28484054172127565, 0.3346439493228484, 0.31236347750109217, 0.2743556138051551, 0.3379204892966361, 0.3235037134119703, 0.28593272171253825, 0.317824377457405, 0.3036260375709917, 0.27195281782437747, 0.3471783295711061, 0.33047404063205416, 0.2981941309255079, 0.32505643340857787, 0.31376975169300225, 0.2801354401805869, 0.36455981941309257, 0.34063205417607223, 0.2945823927765237, 0.3428893905191874, 0.3194130925507901, 0.2799097065462754, 0.3492099322799097, 0.33160270880361176, 0.29345372460496616, 0.32821670428893907, 0.31354401805869075, 0.27878103837471785, 0.3424081451969898, 0.3291279327135901, 0.2926073483842408, 0.32182381584772024, 0.30876494023904383, 0.27689243027888444, 0.36365648517042937, 0.33510402833111996, 0.28995130588756085, 0.3368747233289066, 0.31673306772908366, 0.2773351040283311, 0.3432934926958831, 0.32602921646746347, 0.28751660026560427, 0.3202744577246569, 0.30721558211598055, 0.2764497565294378], \"y\": [0.39183362921633275, 0.4633842318479277, 0.5410903173311635, 0.43465227817745805, 0.5035971223021583, 0.5750344194584672, 0.35313105229180114, 0.4386015602427044, 0.5410788381742738, 0.39383033419023133, 0.48507462686567165, 0.5844578873894835, 0.3865567216391804, 0.46368190356919226, 0.5534883720930233, 0.4303460514640639, 0.5065597667638484, 0.5959789372905696, 0.39134860050890585, 0.4579293087269315, 0.5400654129190515, 0.4315253221456398, 0.5023491145645103, 0.5777467411545624, 0.3475360447600603, 0.4362532523850824, 0.5397022332506204, 0.3922024270591273, 0.4799864314789688, 0.5832549388523048, 0.38957441450516245, 0.46399241945672776, 0.5543710021321961, 0.4301775147928994, 0.506934306569343, 0.5892175572519084, 0.39244038559107053, 0.4635286783042394, 0.5404742436631235, 0.43338301043219074, 0.5032467532467533, 0.5797034291010195, 0.35272649205667667, 0.4398605461940732, 0.5413223140495868, 0.3924703455389376, 0.48673469387755103, 0.5798241554835725, 0.3871692461308038, 0.4613216410898841, 0.5551282051282052, 0.4312965722801788, 0.5054624908958485, 0.5925047438330171]}, {\"hovertemplate\": \"%{text}\", \"marker\": {\"color\": [15, 25, 40, 15, 25, 40, 15, 25, 40, 15, 25, 40, 15, 25, 40, 15, 25, 40, 15, 25, 40, 15, 25, 40, 15, 25, 40, 15, 25, 40, 15, 25, 40, 15, 25, 40, 15, 25, 40, 15, 25, 40, 15, 25, 40, 15, 25, 40, 15, 25, 40, 15, 25, 40], \"size\": 10, \"symbol\": \"square\"}, \"mode\": \"markers\", \"name\": \"manta\", \"text\": [\"filterCalls.minUnitigBlockLength: 15<br><br>makeRegions: <br>  slop: 250<br>  minCoverage: 0<br>  maxCoverage: 200<br>  maxRegionLength: 100000<br>  minRepeatPeriod: 6<br>  minRepeatLength: 100<br>  functionalRegions: none<br>  genomeBuild: hg38<br>  overlappedFunctionalRegions: false<br>makeCalls: <br>  singleBaseMatchReward: 10<br>  singleBaseMismatchPenalty: 12<br>  gapOpenPenalties: 10,35<br>  gapExtensionPenalties: 1,0<br>  minUnitigMappingQuality: 1<br>filterCalls: <br>  maxIntraClusterDistance: 500<br>  minSVSize: 50<br>  minUnitigMappingQuality: 0<br>  svtype: DEL<br>\", \"filterCalls.minUnitigBlockLength: 25<br><br>makeRegions: <br>  slop: 250<br>  minCoverage: 0<br>  maxCoverage: 200<br>  maxRegionLength: 100000<br>  minRepeatPeriod: 6<br>  minRepeatLength: 100<br>  functionalRegions: none<br>  genomeBuild: hg38<br>  overlappedFunctionalRegions: false<br>makeCalls: <br>  singleBaseMatchReward: 10<br>  singleBaseMismatchPenalty: 12<br>  gapOpenPenalties: 10,35<br>  gapExtensionPenalties: 1,0<br>  minUnitigMappingQuality: 1<br>filterCalls: <br>  maxIntraClusterDistance: 500<br>  minSVSize: 50<br>  minUnitigMappingQuality: 0<br>  svtype: DEL<br>\", \"filterCalls.minUnitigBlockLength: 40<br><br>makeRegions: <br>  slop: 250<br>  minCoverage: 0<br>  maxCoverage: 200<br>  maxRegionLength: 100000<br>  minRepeatPeriod: 6<br>  minRepeatLength: 100<br>  functionalRegions: none<br>  genomeBuild: hg38<br>  overlappedFunctionalRegions: false<br>makeCalls: <br>  singleBaseMatchReward: 10<br>  singleBaseMismatchPenalty: 12<br>  gapOpenPenalties: 10,35<br>  gapExtensionPenalties: 1,0<br>  minUnitigMappingQuality: 1<br>filterCalls: <br>  maxIntraClusterDistance: 500<br>  minSVSize: 50<br>  minUnitigMappingQuality: 0<br>  svtype: DEL<br>\", \"filterCalls.minUnitigBlockLength: 15<br><br>makeRegions: <br>  slop: 250<br>  minCoverage: 0<br>  maxCoverage: 200<br>  maxRegionLength: 100000<br>  minRepeatPeriod: 6<br>  minRepeatLength: 100<br>  functionalRegions: none<br>  genomeBuild: hg38<br>  overlappedFunctionalRegions: false<br>makeCalls: <br>  singleBaseMatchReward: 10<br>  singleBaseMismatchPenalty: 12<br>  gapOpenPenalties: 10,35<br>  gapExtensionPenalties: 1,0<br>  minUnitigMappingQuality: 1<br>filterCalls: <br>  maxIntraClusterDistance: 500<br>  minSVSize: 50<br>  minUnitigMappingQuality: 10<br>  svtype: DEL<br>\", \"filterCalls.minUnitigBlockLength: 25<br><br>makeRegions: <br>  slop: 250<br>  minCoverage: 0<br>  maxCoverage: 200<br>  maxRegionLength: 100000<br>  minRepeatPeriod: 6<br>  minRepeatLength: 100<br>  functionalRegions: none<br>  genomeBuild: hg38<br>  overlappedFunctionalRegions: false<br>makeCalls: <br>  singleBaseMatchReward: 10<br>  singleBaseMismatchPenalty: 12<br>  gapOpenPenalties: 10,35<br>  gapExtensionPenalties: 1,0<br>  minUnitigMappingQuality: 1<br>filterCalls: <br>  maxIntraClusterDistance: 500<br>  minSVSize: 50<br>  minUnitigMappingQuality: 10<br>  svtype: DEL<br>\", \"filterCalls.minUnitigBlockLength: 40<br><br>makeRegions: <br>  slop: 250<br>  minCoverage: 0<br>  maxCoverage: 200<br>  maxRegionLength: 100000<br>  minRepeatPeriod: 6<br>  minRepeatLength: 100<br>  functionalRegions: none<br>  genomeBuild: hg38<br>  overlappedFunctionalRegions: false<br>makeCalls: <br>  singleBaseMatchReward: 10<br>  singleBaseMismatchPenalty: 12<br>  gapOpenPenalties: 10,35<br>  gapExtensionPenalties: 1,0<br>  minUnitigMappingQuality: 1<br>filterCalls: <br>  maxIntraClusterDistance: 500<br>  minSVSize: 50<br>  minUnitigMappingQuality: 10<br>  svtype: DEL<br>\", \"filterCalls.minUnitigBlockLength: 15<br><br>makeRegions: <br>  slop: 250<br>  minCoverage: 0<br>  maxCoverage: 200<br>  maxRegionLength: 100000<br>  minRepeatPeriod: 6<br>  minRepeatLength: 100<br>  functionalRegions: none<br>  genomeBuild: hg38<br>  overlappedFunctionalRegions: false<br>makeCalls: <br>  singleBaseMatchReward: 10<br>  singleBaseMismatchPenalty: 12<br>  gapOpenPenalties: 5,20<br>  gapExtensionPenalties: 1,0<br>  minUnitigMappingQuality: 1<br>filterCalls: <br>  maxIntraClusterDistance: 500<br>  minSVSize: 50<br>  minUnitigMappingQuality: 0<br>  svtype: DEL<br>\", \"filterCalls.minUnitigBlockLength: 25<br><br>makeRegions: <br>  slop: 250<br>  minCoverage: 0<br>  maxCoverage: 200<br>  maxRegionLength: 100000<br>  minRepeatPeriod: 6<br>  minRepeatLength: 100<br>  functionalRegions: none<br>  genomeBuild: hg38<br>  overlappedFunctionalRegions: false<br>makeCalls: <br>  singleBaseMatchReward: 10<br>  singleBaseMismatchPenalty: 12<br>  gapOpenPenalties: 5,20<br>  gapExtensionPenalties: 1,0<br>  minUnitigMappingQuality: 1<br>filterCalls: <br>  maxIntraClusterDistance: 500<br>  minSVSize: 50<br>  minUnitigMappingQuality: 0<br>  svtype: DEL<br>\", \"filterCalls.minUnitigBlockLength: 40<br><br>makeRegions: <br>  slop: 250<br>  minCoverage: 0<br>  maxCoverage: 200<br>  maxRegionLength: 100000<br>  minRepeatPeriod: 6<br>  minRepeatLength: 100<br>  functionalRegions: none<br>  genomeBuild: hg38<br>  overlappedFunctionalRegions: false<br>makeCalls: <br>  singleBaseMatchReward: 10<br>  singleBaseMismatchPenalty: 12<br>  gapOpenPenalties: 5,20<br>  gapExtensionPenalties: 1,0<br>  minUnitigMappingQuality: 1<br>filterCalls: <br>  maxIntraClusterDistance: 500<br>  minSVSize: 50<br>  minUnitigMappingQuality: 0<br>  svtype: DEL<br>\", \"filterCalls.minUnitigBlockLength: 15<br><br>makeRegions: <br>  slop: 250<br>  minCoverage: 0<br>  maxCoverage: 200<br>  maxRegionLength: 100000<br>  minRepeatPeriod: 6<br>  minRepeatLength: 100<br>  functionalRegions: none<br>  genomeBuild: hg38<br>  overlappedFunctionalRegions: false<br>makeCalls: <br>  singleBaseMatchReward: 10<br>  singleBaseMismatchPenalty: 12<br>  gapOpenPenalties: 5,20<br>  gapExtensionPenalties: 1,0<br>  minUnitigMappingQuality: 1<br>filterCalls: <br>  maxIntraClusterDistance: 500<br>  minSVSize: 50<br>  minUnitigMappingQuality: 10<br>  svtype: DEL<br>\", \"filterCalls.minUnitigBlockLength: 25<br><br>makeRegions: <br>  slop: 250<br>  minCoverage: 0<br>  maxCoverage: 200<br>  maxRegionLength: 100000<br>  minRepeatPeriod: 6<br>  minRepeatLength: 100<br>  functionalRegions: none<br>  genomeBuild: hg38<br>  overlappedFunctionalRegions: false<br>makeCalls: <br>  singleBaseMatchReward: 10<br>  singleBaseMismatchPenalty: 12<br>  gapOpenPenalties: 5,20<br>  gapExtensionPenalties: 1,0<br>  minUnitigMappingQuality: 1<br>filterCalls: <br>  maxIntraClusterDistance: 500<br>  minSVSize: 50<br>  minUnitigMappingQuality: 10<br>  svtype: DEL<br>\", \"filterCalls.minUnitigBlockLength: 40<br><br>makeRegions: <br>  slop: 250<br>  minCoverage: 0<br>  maxCoverage: 200<br>  maxRegionLength: 100000<br>  minRepeatPeriod: 6<br>  minRepeatLength: 100<br>  functionalRegions: none<br>  genomeBuild: hg38<br>  overlappedFunctionalRegions: false<br>makeCalls: <br>  singleBaseMatchReward: 10<br>  singleBaseMismatchPenalty: 12<br>  gapOpenPenalties: 5,20<br>  gapExtensionPenalties: 1,0<br>  minUnitigMappingQuality: 1<br>filterCalls: <br>  maxIntraClusterDistance: 500<br>  minSVSize: 50<br>  minUnitigMappingQuality: 10<br>  svtype: DEL<br>\", \"filterCalls.minUnitigBlockLength: 15<br><br>makeRegions: <br>  slop: 250<br>  minCoverage: 0<br>  maxCoverage: 200<br>  maxRegionLength: 100000<br>  minRepeatPeriod: 6<br>  minRepeatLength: 100<br>  functionalRegions: none<br>  genomeBuild: hg38<br>  overlappedFunctionalRegions: false<br>makeCalls: <br>  singleBaseMatchReward: 10<br>  singleBaseMismatchPenalty: 12<br>  gapOpenPenalties: 6,26<br>  gapExtensionPenalties: 1,0<br>  minUnitigMappingQuality: 1<br>filterCalls: <br>  maxIntraClusterDistance: 500<br>  minSVSize: 50<br>  minUnitigMappingQuality: 0<br>  svtype: DEL<br>\", \"filterCalls.minUnitigBlockLength: 25<br><br>makeRegions: <br>  slop: 250<br>  minCoverage: 0<br>  maxCoverage: 200<br>  maxRegionLength: 100000<br>  minRepeatPeriod: 6<br>  minRepeatLength: 100<br>  functionalRegions: none<br>  genomeBuild: hg38<br>  overlappedFunctionalRegions: false<br>makeCalls: <br>  singleBaseMatchReward: 10<br>  singleBaseMismatchPenalty: 12<br>  gapOpenPenalties: 6,26<br>  gapExtensionPenalties: 1,0<br>  minUnitigMappingQuality: 1<br>filterCalls: <br>  maxIntraClusterDistance: 500<br>  minSVSize: 50<br>  minUnitigMappingQuality: 0<br>  svtype: DEL<br>\", \"filterCalls.minUnitigBlockLength: 40<br><br>makeRegions: <br>  slop: 250<br>  minCoverage: 0<br>  maxCoverage: 200<br>  maxRegionLength: 100000<br>  minRepeatPeriod: 6<br>  minRepeatLength: 100<br>  functionalRegions: none<br>  genomeBuild: hg38<br>  overlappedFunctionalRegions: false<br>makeCalls: <br>  singleBaseMatchReward: 10<br>  singleBaseMismatchPenalty: 12<br>  gapOpenPenalties: 6,26<br>  gapExtensionPenalties: 1,0<br>  minUnitigMappingQuality: 1<br>filterCalls: <br>  maxIntraClusterDistance: 500<br>  minSVSize: 50<br>  minUnitigMappingQuality: 0<br>  svtype: DEL<br>\", \"filterCalls.minUnitigBlockLength: 15<br><br>makeRegions: <br>  slop: 250<br>  minCoverage: 0<br>  maxCoverage: 200<br>  maxRegionLength: 100000<br>  minRepeatPeriod: 6<br>  minRepeatLength: 100<br>  functionalRegions: none<br>  genomeBuild: hg38<br>  overlappedFunctionalRegions: false<br>makeCalls: <br>  singleBaseMatchReward: 10<br>  singleBaseMismatchPenalty: 12<br>  gapOpenPenalties: 6,26<br>  gapExtensionPenalties: 1,0<br>  minUnitigMappingQuality: 1<br>filterCalls: <br>  maxIntraClusterDistance: 500<br>  minSVSize: 50<br>  minUnitigMappingQuality: 10<br>  svtype: DEL<br>\", \"filterCalls.minUnitigBlockLength: 25<br><br>makeRegions: <br>  slop: 250<br>  minCoverage: 0<br>  maxCoverage: 200<br>  maxRegionLength: 100000<br>  minRepeatPeriod: 6<br>  minRepeatLength: 100<br>  functionalRegions: none<br>  genomeBuild: hg38<br>  overlappedFunctionalRegions: false<br>makeCalls: <br>  singleBaseMatchReward: 10<br>  singleBaseMismatchPenalty: 12<br>  gapOpenPenalties: 6,26<br>  gapExtensionPenalties: 1,0<br>  minUnitigMappingQuality: 1<br>filterCalls: <br>  maxIntraClusterDistance: 500<br>  minSVSize: 50<br>  minUnitigMappingQuality: 10<br>  svtype: DEL<br>\", \"filterCalls.minUnitigBlockLength: 40<br><br>makeRegions: <br>  slop: 250<br>  minCoverage: 0<br>  maxCoverage: 200<br>  maxRegionLength: 100000<br>  minRepeatPeriod: 6<br>  minRepeatLength: 100<br>  functionalRegions: none<br>  genomeBuild: hg38<br>  overlappedFunctionalRegions: false<br>makeCalls: <br>  singleBaseMatchReward: 10<br>  singleBaseMismatchPenalty: 12<br>  gapOpenPenalties: 6,26<br>  gapExtensionPenalties: 1,0<br>  minUnitigMappingQuality: 1<br>filterCalls: <br>  maxIntraClusterDistance: 500<br>  minSVSize: 50<br>  minUnitigMappingQuality: 10<br>  svtype: DEL<br>\", \"filterCalls.minUnitigBlockLength: 15<br><br>makeRegions: <br>  slop: 250<br>  minCoverage: 10<br>  maxCoverage: 200<br>  maxRegionLength: 100000<br>  minRepeatPeriod: 6<br>  minRepeatLength: 100<br>  functionalRegions: none<br>  genomeBuild: hg38<br>  overlappedFunctionalRegions: false<br>makeCalls: <br>  singleBaseMatchReward: 10<br>  singleBaseMismatchPenalty: 12<br>  gapOpenPenalties: 10,35<br>  gapExtensionPenalties: 1,0<br>  minUnitigMappingQuality: 1<br>filterCalls: <br>  maxIntraClusterDistance: 500<br>  minSVSize: 50<br>  minUnitigMappingQuality: 0<br>  svtype: DEL<br>\", \"filterCalls.minUnitigBlockLength: 25<br><br>makeRegions: <br>  slop: 250<br>  minCoverage: 10<br>  maxCoverage: 200<br>  maxRegionLength: 100000<br>  minRepeatPeriod: 6<br>  minRepeatLength: 100<br>  functionalRegions: none<br>  genomeBuild: hg38<br>  overlappedFunctionalRegions: false<br>makeCalls: <br>  singleBaseMatchReward: 10<br>  singleBaseMismatchPenalty: 12<br>  gapOpenPenalties: 10,35<br>  gapExtensionPenalties: 1,0<br>  minUnitigMappingQuality: 1<br>filterCalls: <br>  maxIntraClusterDistance: 500<br>  minSVSize: 50<br>  minUnitigMappingQuality: 0<br>  svtype: DEL<br>\", \"filterCalls.minUnitigBlockLength: 40<br><br>makeRegions: <br>  slop: 250<br>  minCoverage: 10<br>  maxCoverage: 200<br>  maxRegionLength: 100000<br>  minRepeatPeriod: 6<br>  minRepeatLength: 100<br>  functionalRegions: none<br>  genomeBuild: hg38<br>  overlappedFunctionalRegions: false<br>makeCalls: <br>  singleBaseMatchReward: 10<br>  singleBaseMismatchPenalty: 12<br>  gapOpenPenalties: 10,35<br>  gapExtensionPenalties: 1,0<br>  minUnitigMappingQuality: 1<br>filterCalls: <br>  maxIntraClusterDistance: 500<br>  minSVSize: 50<br>  minUnitigMappingQuality: 0<br>  svtype: DEL<br>\", \"filterCalls.minUnitigBlockLength: 15<br><br>makeRegions: <br>  slop: 250<br>  minCoverage: 10<br>  maxCoverage: 200<br>  maxRegionLength: 100000<br>  minRepeatPeriod: 6<br>  minRepeatLength: 100<br>  functionalRegions: none<br>  genomeBuild: hg38<br>  overlappedFunctionalRegions: false<br>makeCalls: <br>  singleBaseMatchReward: 10<br>  singleBaseMismatchPenalty: 12<br>  gapOpenPenalties: 10,35<br>  gapExtensionPenalties: 1,0<br>  minUnitigMappingQuality: 1<br>filterCalls: <br>  maxIntraClusterDistance: 500<br>  minSVSize: 50<br>  minUnitigMappingQuality: 10<br>  svtype: DEL<br>\", \"filterCalls.minUnitigBlockLength: 25<br><br>makeRegions: <br>  slop: 250<br>  minCoverage: 10<br>  maxCoverage: 200<br>  maxRegionLength: 100000<br>  minRepeatPeriod: 6<br>  minRepeatLength: 100<br>  functionalRegions: none<br>  genomeBuild: hg38<br>  overlappedFunctionalRegions: false<br>makeCalls: <br>  singleBaseMatchReward: 10<br>  singleBaseMismatchPenalty: 12<br>  gapOpenPenalties: 10,35<br>  gapExtensionPenalties: 1,0<br>  minUnitigMappingQuality: 1<br>filterCalls: <br>  maxIntraClusterDistance: 500<br>  minSVSize: 50<br>  minUnitigMappingQuality: 10<br>  svtype: DEL<br>\", \"filterCalls.minUnitigBlockLength: 40<br><br>makeRegions: <br>  slop: 250<br>  minCoverage: 10<br>  maxCoverage: 200<br>  maxRegionLength: 100000<br>  minRepeatPeriod: 6<br>  minRepeatLength: 100<br>  functionalRegions: none<br>  genomeBuild: hg38<br>  overlappedFunctionalRegions: false<br>makeCalls: <br>  singleBaseMatchReward: 10<br>  singleBaseMismatchPenalty: 12<br>  gapOpenPenalties: 10,35<br>  gapExtensionPenalties: 1,0<br>  minUnitigMappingQuality: 1<br>filterCalls: <br>  maxIntraClusterDistance: 500<br>  minSVSize: 50<br>  minUnitigMappingQuality: 10<br>  svtype: DEL<br>\", \"filterCalls.minUnitigBlockLength: 15<br><br>makeRegions: <br>  slop: 250<br>  minCoverage: 10<br>  maxCoverage: 200<br>  maxRegionLength: 100000<br>  minRepeatPeriod: 6<br>  minRepeatLength: 100<br>  functionalRegions: none<br>  genomeBuild: hg38<br>  overlappedFunctionalRegions: false<br>makeCalls: <br>  singleBaseMatchReward: 10<br>  singleBaseMismatchPenalty: 12<br>  gapOpenPenalties: 5,20<br>  gapExtensionPenalties: 1,0<br>  minUnitigMappingQuality: 1<br>filterCalls: <br>  maxIntraClusterDistance: 500<br>  minSVSize: 50<br>  minUnitigMappingQuality: 0<br>  svtype: DEL<br>\", \"filterCalls.minUnitigBlockLength: 25<br><br>makeRegions: <br>  slop: 250<br>  minCoverage: 10<br>  maxCoverage: 200<br>  maxRegionLength: 100000<br>  minRepeatPeriod: 6<br>  minRepeatLength: 100<br>  functionalRegions: none<br>  genomeBuild: hg38<br>  overlappedFunctionalRegions: false<br>makeCalls: <br>  singleBaseMatchReward: 10<br>  singleBaseMismatchPenalty: 12<br>  gapOpenPenalties: 5,20<br>  gapExtensionPenalties: 1,0<br>  minUnitigMappingQuality: 1<br>filterCalls: <br>  maxIntraClusterDistance: 500<br>  minSVSize: 50<br>  minUnitigMappingQuality: 0<br>  svtype: DEL<br>\", \"filterCalls.minUnitigBlockLength: 40<br><br>makeRegions: <br>  slop: 250<br>  minCoverage: 10<br>  maxCoverage: 200<br>  maxRegionLength: 100000<br>  minRepeatPeriod: 6<br>  minRepeatLength: 100<br>  functionalRegions: none<br>  genomeBuild: hg38<br>  overlappedFunctionalRegions: false<br>makeCalls: <br>  singleBaseMatchReward: 10<br>  singleBaseMismatchPenalty: 12<br>  gapOpenPenalties: 5,20<br>  gapExtensionPenalties: 1,0<br>  minUnitigMappingQuality: 1<br>filterCalls: <br>  maxIntraClusterDistance: 500<br>  minSVSize: 50<br>  minUnitigMappingQuality: 0<br>  svtype: DEL<br>\", \"filterCalls.minUnitigBlockLength: 15<br><br>makeRegions: <br>  slop: 250<br>  minCoverage: 10<br>  maxCoverage: 200<br>  maxRegionLength: 100000<br>  minRepeatPeriod: 6<br>  minRepeatLength: 100<br>  functionalRegions: none<br>  genomeBuild: hg38<br>  overlappedFunctionalRegions: false<br>makeCalls: <br>  singleBaseMatchReward: 10<br>  singleBaseMismatchPenalty: 12<br>  gapOpenPenalties: 5,20<br>  gapExtensionPenalties: 1,0<br>  minUnitigMappingQuality: 1<br>filterCalls: <br>  maxIntraClusterDistance: 500<br>  minSVSize: 50<br>  minUnitigMappingQuality: 10<br>  svtype: DEL<br>\", \"filterCalls.minUnitigBlockLength: 25<br><br>makeRegions: <br>  slop: 250<br>  minCoverage: 10<br>  maxCoverage: 200<br>  maxRegionLength: 100000<br>  minRepeatPeriod: 6<br>  minRepeatLength: 100<br>  functionalRegions: none<br>  genomeBuild: hg38<br>  overlappedFunctionalRegions: false<br>makeCalls: <br>  singleBaseMatchReward: 10<br>  singleBaseMismatchPenalty: 12<br>  gapOpenPenalties: 5,20<br>  gapExtensionPenalties: 1,0<br>  minUnitigMappingQuality: 1<br>filterCalls: <br>  maxIntraClusterDistance: 500<br>  minSVSize: 50<br>  minUnitigMappingQuality: 10<br>  svtype: DEL<br>\", \"filterCalls.minUnitigBlockLength: 40<br><br>makeRegions: <br>  slop: 250<br>  minCoverage: 10<br>  maxCoverage: 200<br>  maxRegionLength: 100000<br>  minRepeatPeriod: 6<br>  minRepeatLength: 100<br>  functionalRegions: none<br>  genomeBuild: hg38<br>  overlappedFunctionalRegions: false<br>makeCalls: <br>  singleBaseMatchReward: 10<br>  singleBaseMismatchPenalty: 12<br>  gapOpenPenalties: 5,20<br>  gapExtensionPenalties: 1,0<br>  minUnitigMappingQuality: 1<br>filterCalls: <br>  maxIntraClusterDistance: 500<br>  minSVSize: 50<br>  minUnitigMappingQuality: 10<br>  svtype: DEL<br>\", \"filterCalls.minUnitigBlockLength: 15<br><br>makeRegions: <br>  slop: 250<br>  minCoverage: 10<br>  maxCoverage: 200<br>  maxRegionLength: 100000<br>  minRepeatPeriod: 6<br>  minRepeatLength: 100<br>  functionalRegions: none<br>  genomeBuild: hg38<br>  overlappedFunctionalRegions: false<br>makeCalls: <br>  singleBaseMatchReward: 10<br>  singleBaseMismatchPenalty: 12<br>  gapOpenPenalties: 6,26<br>  gapExtensionPenalties: 1,0<br>  minUnitigMappingQuality: 1<br>filterCalls: <br>  maxIntraClusterDistance: 500<br>  minSVSize: 50<br>  minUnitigMappingQuality: 0<br>  svtype: DEL<br>\", \"filterCalls.minUnitigBlockLength: 25<br><br>makeRegions: <br>  slop: 250<br>  minCoverage: 10<br>  maxCoverage: 200<br>  maxRegionLength: 100000<br>  minRepeatPeriod: 6<br>  minRepeatLength: 100<br>  functionalRegions: none<br>  genomeBuild: hg38<br>  overlappedFunctionalRegions: false<br>makeCalls: <br>  singleBaseMatchReward: 10<br>  singleBaseMismatchPenalty: 12<br>  gapOpenPenalties: 6,26<br>  gapExtensionPenalties: 1,0<br>  minUnitigMappingQuality: 1<br>filterCalls: <br>  maxIntraClusterDistance: 500<br>  minSVSize: 50<br>  minUnitigMappingQuality: 0<br>  svtype: DEL<br>\", \"filterCalls.minUnitigBlockLength: 40<br><br>makeRegions: <br>  slop: 250<br>  minCoverage: 10<br>  maxCoverage: 200<br>  maxRegionLength: 100000<br>  minRepeatPeriod: 6<br>  minRepeatLength: 100<br>  functionalRegions: none<br>  genomeBuild: hg38<br>  overlappedFunctionalRegions: false<br>makeCalls: <br>  singleBaseMatchReward: 10<br>  singleBaseMismatchPenalty: 12<br>  gapOpenPenalties: 6,26<br>  gapExtensionPenalties: 1,0<br>  minUnitigMappingQuality: 1<br>filterCalls: <br>  maxIntraClusterDistance: 500<br>  minSVSize: 50<br>  minUnitigMappingQuality: 0<br>  svtype: DEL<br>\", \"filterCalls.minUnitigBlockLength: 15<br><br>makeRegions: <br>  slop: 250<br>  minCoverage: 10<br>  maxCoverage: 200<br>  maxRegionLength: 100000<br>  minRepeatPeriod: 6<br>  minRepeatLength: 100<br>  functionalRegions: none<br>  genomeBuild: hg38<br>  overlappedFunctionalRegions: false<br>makeCalls: <br>  singleBaseMatchReward: 10<br>  singleBaseMismatchPenalty: 12<br>  gapOpenPenalties: 6,26<br>  gapExtensionPenalties: 1,0<br>  minUnitigMappingQuality: 1<br>filterCalls: <br>  maxIntraClusterDistance: 500<br>  minSVSize: 50<br>  minUnitigMappingQuality: 10<br>  svtype: DEL<br>\", \"filterCalls.minUnitigBlockLength: 25<br><br>makeRegions: <br>  slop: 250<br>  minCoverage: 10<br>  maxCoverage: 200<br>  maxRegionLength: 100000<br>  minRepeatPeriod: 6<br>  minRepeatLength: 100<br>  functionalRegions: none<br>  genomeBuild: hg38<br>  overlappedFunctionalRegions: false<br>makeCalls: <br>  singleBaseMatchReward: 10<br>  singleBaseMismatchPenalty: 12<br>  gapOpenPenalties: 6,26<br>  gapExtensionPenalties: 1,0<br>  minUnitigMappingQuality: 1<br>filterCalls: <br>  maxIntraClusterDistance: 500<br>  minSVSize: 50<br>  minUnitigMappingQuality: 10<br>  svtype: DEL<br>\", \"filterCalls.minUnitigBlockLength: 40<br><br>makeRegions: <br>  slop: 250<br>  minCoverage: 10<br>  maxCoverage: 200<br>  maxRegionLength: 100000<br>  minRepeatPeriod: 6<br>  minRepeatLength: 100<br>  functionalRegions: none<br>  genomeBuild: hg38<br>  overlappedFunctionalRegions: false<br>makeCalls: <br>  singleBaseMatchReward: 10<br>  singleBaseMismatchPenalty: 12<br>  gapOpenPenalties: 6,26<br>  gapExtensionPenalties: 1,0<br>  minUnitigMappingQuality: 1<br>filterCalls: <br>  maxIntraClusterDistance: 500<br>  minSVSize: 50<br>  minUnitigMappingQuality: 10<br>  svtype: DEL<br>\", \"filterCalls.minUnitigBlockLength: 15<br><br>makeRegions: <br>  slop: 250<br>  minCoverage: 5<br>  maxCoverage: 200<br>  maxRegionLength: 100000<br>  minRepeatPeriod: 6<br>  minRepeatLength: 100<br>  functionalRegions: none<br>  genomeBuild: hg38<br>  overlappedFunctionalRegions: false<br>makeCalls: <br>  singleBaseMatchReward: 10<br>  singleBaseMismatchPenalty: 12<br>  gapOpenPenalties: 10,35<br>  gapExtensionPenalties: 1,0<br>  minUnitigMappingQuality: 1<br>filterCalls: <br>  maxIntraClusterDistance: 500<br>  minSVSize: 50<br>  minUnitigMappingQuality: 0<br>  svtype: DEL<br>\", \"filterCalls.minUnitigBlockLength: 25<br><br>makeRegions: <br>  slop: 250<br>  minCoverage: 5<br>  maxCoverage: 200<br>  maxRegionLength: 100000<br>  minRepeatPeriod: 6<br>  minRepeatLength: 100<br>  functionalRegions: none<br>  genomeBuild: hg38<br>  overlappedFunctionalRegions: false<br>makeCalls: <br>  singleBaseMatchReward: 10<br>  singleBaseMismatchPenalty: 12<br>  gapOpenPenalties: 10,35<br>  gapExtensionPenalties: 1,0<br>  minUnitigMappingQuality: 1<br>filterCalls: <br>  maxIntraClusterDistance: 500<br>  minSVSize: 50<br>  minUnitigMappingQuality: 0<br>  svtype: DEL<br>\", \"filterCalls.minUnitigBlockLength: 40<br><br>makeRegions: <br>  slop: 250<br>  minCoverage: 5<br>  maxCoverage: 200<br>  maxRegionLength: 100000<br>  minRepeatPeriod: 6<br>  minRepeatLength: 100<br>  functionalRegions: none<br>  genomeBuild: hg38<br>  overlappedFunctionalRegions: false<br>makeCalls: <br>  singleBaseMatchReward: 10<br>  singleBaseMismatchPenalty: 12<br>  gapOpenPenalties: 10,35<br>  gapExtensionPenalties: 1,0<br>  minUnitigMappingQuality: 1<br>filterCalls: <br>  maxIntraClusterDistance: 500<br>  minSVSize: 50<br>  minUnitigMappingQuality: 0<br>  svtype: DEL<br>\", \"filterCalls.minUnitigBlockLength: 15<br><br>makeRegions: <br>  slop: 250<br>  minCoverage: 5<br>  maxCoverage: 200<br>  maxRegionLength: 100000<br>  minRepeatPeriod: 6<br>  minRepeatLength: 100<br>  functionalRegions: none<br>  genomeBuild: hg38<br>  overlappedFunctionalRegions: false<br>makeCalls: <br>  singleBaseMatchReward: 10<br>  singleBaseMismatchPenalty: 12<br>  gapOpenPenalties: 10,35<br>  gapExtensionPenalties: 1,0<br>  minUnitigMappingQuality: 1<br>filterCalls: <br>  maxIntraClusterDistance: 500<br>  minSVSize: 50<br>  minUnitigMappingQuality: 10<br>  svtype: DEL<br>\", \"filterCalls.minUnitigBlockLength: 25<br><br>makeRegions: <br>  slop: 250<br>  minCoverage: 5<br>  maxCoverage: 200<br>  maxRegionLength: 100000<br>  minRepeatPeriod: 6<br>  minRepeatLength: 100<br>  functionalRegions: none<br>  genomeBuild: hg38<br>  overlappedFunctionalRegions: false<br>makeCalls: <br>  singleBaseMatchReward: 10<br>  singleBaseMismatchPenalty: 12<br>  gapOpenPenalties: 10,35<br>  gapExtensionPenalties: 1,0<br>  minUnitigMappingQuality: 1<br>filterCalls: <br>  maxIntraClusterDistance: 500<br>  minSVSize: 50<br>  minUnitigMappingQuality: 10<br>  svtype: DEL<br>\", \"filterCalls.minUnitigBlockLength: 40<br><br>makeRegions: <br>  slop: 250<br>  minCoverage: 5<br>  maxCoverage: 200<br>  maxRegionLength: 100000<br>  minRepeatPeriod: 6<br>  minRepeatLength: 100<br>  functionalRegions: none<br>  genomeBuild: hg38<br>  overlappedFunctionalRegions: false<br>makeCalls: <br>  singleBaseMatchReward: 10<br>  singleBaseMismatchPenalty: 12<br>  gapOpenPenalties: 10,35<br>  gapExtensionPenalties: 1,0<br>  minUnitigMappingQuality: 1<br>filterCalls: <br>  maxIntraClusterDistance: 500<br>  minSVSize: 50<br>  minUnitigMappingQuality: 10<br>  svtype: DEL<br>\", \"filterCalls.minUnitigBlockLength: 15<br><br>makeRegions: <br>  slop: 250<br>  minCoverage: 5<br>  maxCoverage: 200<br>  maxRegionLength: 100000<br>  minRepeatPeriod: 6<br>  minRepeatLength: 100<br>  functionalRegions: none<br>  genomeBuild: hg38<br>  overlappedFunctionalRegions: false<br>makeCalls: <br>  singleBaseMatchReward: 10<br>  singleBaseMismatchPenalty: 12<br>  gapOpenPenalties: 5,20<br>  gapExtensionPenalties: 1,0<br>  minUnitigMappingQuality: 1<br>filterCalls: <br>  maxIntraClusterDistance: 500<br>  minSVSize: 50<br>  minUnitigMappingQuality: 0<br>  svtype: DEL<br>\", \"filterCalls.minUnitigBlockLength: 25<br><br>makeRegions: <br>  slop: 250<br>  minCoverage: 5<br>  maxCoverage: 200<br>  maxRegionLength: 100000<br>  minRepeatPeriod: 6<br>  minRepeatLength: 100<br>  functionalRegions: none<br>  genomeBuild: hg38<br>  overlappedFunctionalRegions: false<br>makeCalls: <br>  singleBaseMatchReward: 10<br>  singleBaseMismatchPenalty: 12<br>  gapOpenPenalties: 5,20<br>  gapExtensionPenalties: 1,0<br>  minUnitigMappingQuality: 1<br>filterCalls: <br>  maxIntraClusterDistance: 500<br>  minSVSize: 50<br>  minUnitigMappingQuality: 0<br>  svtype: DEL<br>\", \"filterCalls.minUnitigBlockLength: 40<br><br>makeRegions: <br>  slop: 250<br>  minCoverage: 5<br>  maxCoverage: 200<br>  maxRegionLength: 100000<br>  minRepeatPeriod: 6<br>  minRepeatLength: 100<br>  functionalRegions: none<br>  genomeBuild: hg38<br>  overlappedFunctionalRegions: false<br>makeCalls: <br>  singleBaseMatchReward: 10<br>  singleBaseMismatchPenalty: 12<br>  gapOpenPenalties: 5,20<br>  gapExtensionPenalties: 1,0<br>  minUnitigMappingQuality: 1<br>filterCalls: <br>  maxIntraClusterDistance: 500<br>  minSVSize: 50<br>  minUnitigMappingQuality: 0<br>  svtype: DEL<br>\", \"filterCalls.minUnitigBlockLength: 15<br><br>makeRegions: <br>  slop: 250<br>  minCoverage: 5<br>  maxCoverage: 200<br>  maxRegionLength: 100000<br>  minRepeatPeriod: 6<br>  minRepeatLength: 100<br>  functionalRegions: none<br>  genomeBuild: hg38<br>  overlappedFunctionalRegions: false<br>makeCalls: <br>  singleBaseMatchReward: 10<br>  singleBaseMismatchPenalty: 12<br>  gapOpenPenalties: 5,20<br>  gapExtensionPenalties: 1,0<br>  minUnitigMappingQuality: 1<br>filterCalls: <br>  maxIntraClusterDistance: 500<br>  minSVSize: 50<br>  minUnitigMappingQuality: 10<br>  svtype: DEL<br>\", \"filterCalls.minUnitigBlockLength: 25<br><br>makeRegions: <br>  slop: 250<br>  minCoverage: 5<br>  maxCoverage: 200<br>  maxRegionLength: 100000<br>  minRepeatPeriod: 6<br>  minRepeatLength: 100<br>  functionalRegions: none<br>  genomeBuild: hg38<br>  overlappedFunctionalRegions: false<br>makeCalls: <br>  singleBaseMatchReward: 10<br>  singleBaseMismatchPenalty: 12<br>  gapOpenPenalties: 5,20<br>  gapExtensionPenalties: 1,0<br>  minUnitigMappingQuality: 1<br>filterCalls: <br>  maxIntraClusterDistance: 500<br>  minSVSize: 50<br>  minUnitigMappingQuality: 10<br>  svtype: DEL<br>\", \"filterCalls.minUnitigBlockLength: 40<br><br>makeRegions: <br>  slop: 250<br>  minCoverage: 5<br>  maxCoverage: 200<br>  maxRegionLength: 100000<br>  minRepeatPeriod: 6<br>  minRepeatLength: 100<br>  functionalRegions: none<br>  genomeBuild: hg38<br>  overlappedFunctionalRegions: false<br>makeCalls: <br>  singleBaseMatchReward: 10<br>  singleBaseMismatchPenalty: 12<br>  gapOpenPenalties: 5,20<br>  gapExtensionPenalties: 1,0<br>  minUnitigMappingQuality: 1<br>filterCalls: <br>  maxIntraClusterDistance: 500<br>  minSVSize: 50<br>  minUnitigMappingQuality: 10<br>  svtype: DEL<br>\", \"filterCalls.minUnitigBlockLength: 15<br><br>makeRegions: <br>  slop: 250<br>  minCoverage: 5<br>  maxCoverage: 200<br>  maxRegionLength: 100000<br>  minRepeatPeriod: 6<br>  minRepeatLength: 100<br>  functionalRegions: none<br>  genomeBuild: hg38<br>  overlappedFunctionalRegions: false<br>makeCalls: <br>  singleBaseMatchReward: 10<br>  singleBaseMismatchPenalty: 12<br>  gapOpenPenalties: 6,26<br>  gapExtensionPenalties: 1,0<br>  minUnitigMappingQuality: 1<br>filterCalls: <br>  maxIntraClusterDistance: 500<br>  minSVSize: 50<br>  minUnitigMappingQuality: 0<br>  svtype: DEL<br>\", \"filterCalls.minUnitigBlockLength: 25<br><br>makeRegions: <br>  slop: 250<br>  minCoverage: 5<br>  maxCoverage: 200<br>  maxRegionLength: 100000<br>  minRepeatPeriod: 6<br>  minRepeatLength: 100<br>  functionalRegions: none<br>  genomeBuild: hg38<br>  overlappedFunctionalRegions: false<br>makeCalls: <br>  singleBaseMatchReward: 10<br>  singleBaseMismatchPenalty: 12<br>  gapOpenPenalties: 6,26<br>  gapExtensionPenalties: 1,0<br>  minUnitigMappingQuality: 1<br>filterCalls: <br>  maxIntraClusterDistance: 500<br>  minSVSize: 50<br>  minUnitigMappingQuality: 0<br>  svtype: DEL<br>\", \"filterCalls.minUnitigBlockLength: 40<br><br>makeRegions: <br>  slop: 250<br>  minCoverage: 5<br>  maxCoverage: 200<br>  maxRegionLength: 100000<br>  minRepeatPeriod: 6<br>  minRepeatLength: 100<br>  functionalRegions: none<br>  genomeBuild: hg38<br>  overlappedFunctionalRegions: false<br>makeCalls: <br>  singleBaseMatchReward: 10<br>  singleBaseMismatchPenalty: 12<br>  gapOpenPenalties: 6,26<br>  gapExtensionPenalties: 1,0<br>  minUnitigMappingQuality: 1<br>filterCalls: <br>  maxIntraClusterDistance: 500<br>  minSVSize: 50<br>  minUnitigMappingQuality: 0<br>  svtype: DEL<br>\", \"filterCalls.minUnitigBlockLength: 15<br><br>makeRegions: <br>  slop: 250<br>  minCoverage: 5<br>  maxCoverage: 200<br>  maxRegionLength: 100000<br>  minRepeatPeriod: 6<br>  minRepeatLength: 100<br>  functionalRegions: none<br>  genomeBuild: hg38<br>  overlappedFunctionalRegions: false<br>makeCalls: <br>  singleBaseMatchReward: 10<br>  singleBaseMismatchPenalty: 12<br>  gapOpenPenalties: 6,26<br>  gapExtensionPenalties: 1,0<br>  minUnitigMappingQuality: 1<br>filterCalls: <br>  maxIntraClusterDistance: 500<br>  minSVSize: 50<br>  minUnitigMappingQuality: 10<br>  svtype: DEL<br>\", \"filterCalls.minUnitigBlockLength: 25<br><br>makeRegions: <br>  slop: 250<br>  minCoverage: 5<br>  maxCoverage: 200<br>  maxRegionLength: 100000<br>  minRepeatPeriod: 6<br>  minRepeatLength: 100<br>  functionalRegions: none<br>  genomeBuild: hg38<br>  overlappedFunctionalRegions: false<br>makeCalls: <br>  singleBaseMatchReward: 10<br>  singleBaseMismatchPenalty: 12<br>  gapOpenPenalties: 6,26<br>  gapExtensionPenalties: 1,0<br>  minUnitigMappingQuality: 1<br>filterCalls: <br>  maxIntraClusterDistance: 500<br>  minSVSize: 50<br>  minUnitigMappingQuality: 10<br>  svtype: DEL<br>\", \"filterCalls.minUnitigBlockLength: 40<br><br>makeRegions: <br>  slop: 250<br>  minCoverage: 5<br>  maxCoverage: 200<br>  maxRegionLength: 100000<br>  minRepeatPeriod: 6<br>  minRepeatLength: 100<br>  functionalRegions: none<br>  genomeBuild: hg38<br>  overlappedFunctionalRegions: false<br>makeCalls: <br>  singleBaseMatchReward: 10<br>  singleBaseMismatchPenalty: 12<br>  gapOpenPenalties: 6,26<br>  gapExtensionPenalties: 1,0<br>  minUnitigMappingQuality: 1<br>filterCalls: <br>  maxIntraClusterDistance: 500<br>  minSVSize: 50<br>  minUnitigMappingQuality: 10<br>  svtype: DEL<br>\"], \"type\": \"scatter\", \"x\": [0.23525557011795545, 0.23525557011795545, 0.23525557011795545, 0.23525557011795545, 0.23525557011795545, 0.23525557011795545, 0.23525557011795545, 0.23525557011795545, 0.23525557011795545, 0.23525557011795545, 0.23525557011795545, 0.23525557011795545, 0.23525557011795545, 0.23525557011795545, 0.23525557011795545, 0.23525557011795545, 0.23525557011795545, 0.23525557011795545, 0.23882618510158013, 0.23882618510158013, 0.23882618510158013, 0.23882618510158013, 0.23882618510158013, 0.23882618510158013, 0.23882618510158013, 0.23882618510158013, 0.23882618510158013, 0.23882618510158013, 0.23882618510158013, 0.23882618510158013, 0.23882618510158013, 0.23882618510158013, 0.23882618510158013, 0.23882618510158013, 0.23882618510158013, 0.23882618510158013, 0.23727312970340858, 0.23727312970340858, 0.23727312970340858, 0.23727312970340858, 0.23727312970340858, 0.23727312970340858, 0.23727312970340858, 0.23727312970340858, 0.23727312970340858, 0.23727312970340858, 0.23727312970340858, 0.23727312970340858, 0.23727312970340858, 0.23727312970340858, 0.23727312970340858, 0.23727312970340858, 0.23727312970340858, 0.23727312970340858], \"y\": [0.5135908440629471, 0.5135908440629471, 0.5135908440629471, 0.5135908440629471, 0.5135908440629471, 0.5135908440629471, 0.5135908440629471, 0.5135908440629471, 0.5135908440629471, 0.5135908440629471, 0.5135908440629471, 0.5135908440629471, 0.5135908440629471, 0.5135908440629471, 0.5135908440629471, 0.5135908440629471, 0.5135908440629471, 0.5135908440629471, 0.5098795180722892, 0.5098795180722892, 0.5098795180722892, 0.5098795180722892, 0.5098795180722892, 0.5098795180722892, 0.5098795180722892, 0.5098795180722892, 0.5098795180722892, 0.5098795180722892, 0.5098795180722892, 0.5098795180722892, 0.5098795180722892, 0.5098795180722892, 0.5098795180722892, 0.5098795180722892, 0.5098795180722892, 0.5098795180722892, 0.5134099616858238, 0.5134099616858238, 0.5134099616858238, 0.5134099616858238, 0.5134099616858238, 0.5134099616858238, 0.5134099616858238, 0.5134099616858238, 0.5134099616858238, 0.5134099616858238, 0.5134099616858238, 0.5134099616858238, 0.5134099616858238, 0.5134099616858238, 0.5134099616858238, 0.5134099616858238, 0.5134099616858238, 0.5134099616858238]}],                        {\"template\": {\"data\": {\"bar\": [{\"error_x\": {\"color\": \"#2a3f5f\"}, \"error_y\": {\"color\": \"#2a3f5f\"}, \"marker\": {\"line\": {\"color\": \"#E5ECF6\", \"width\": 0.5}}, \"type\": \"bar\"}], \"barpolar\": [{\"marker\": {\"line\": {\"color\": \"#E5ECF6\", \"width\": 0.5}}, \"type\": \"barpolar\"}], \"carpet\": [{\"aaxis\": {\"endlinecolor\": \"#2a3f5f\", \"gridcolor\": \"white\", \"linecolor\": \"white\", \"minorgridcolor\": \"white\", \"startlinecolor\": \"#2a3f5f\"}, \"baxis\": {\"endlinecolor\": \"#2a3f5f\", \"gridcolor\": \"white\", \"linecolor\": \"white\", \"minorgridcolor\": \"white\", \"startlinecolor\": \"#2a3f5f\"}, \"type\": \"carpet\"}], \"choropleth\": [{\"colorbar\": {\"outlinewidth\": 0, \"ticks\": \"\"}, \"type\": \"choropleth\"}], \"contour\": [{\"colorbar\": {\"outlinewidth\": 0, \"ticks\": \"\"}, \"colorscale\": [[0.0, \"#0d0887\"], [0.1111111111111111, \"#46039f\"], [0.2222222222222222, \"#7201a8\"], [0.3333333333333333, \"#9c179e\"], [0.4444444444444444, \"#bd3786\"], [0.5555555555555556, \"#d8576b\"], [0.6666666666666666, \"#ed7953\"], [0.7777777777777778, \"#fb9f3a\"], [0.8888888888888888, \"#fdca26\"], [1.0, \"#f0f921\"]], \"type\": \"contour\"}], \"contourcarpet\": [{\"colorbar\": {\"outlinewidth\": 0, \"ticks\": \"\"}, \"type\": \"contourcarpet\"}], \"heatmap\": [{\"colorbar\": {\"outlinewidth\": 0, \"ticks\": \"\"}, \"colorscale\": [[0.0, \"#0d0887\"], [0.1111111111111111, \"#46039f\"], [0.2222222222222222, \"#7201a8\"], [0.3333333333333333, \"#9c179e\"], [0.4444444444444444, \"#bd3786\"], [0.5555555555555556, \"#d8576b\"], [0.6666666666666666, \"#ed7953\"], [0.7777777777777778, \"#fb9f3a\"], [0.8888888888888888, \"#fdca26\"], [1.0, \"#f0f921\"]], \"type\": \"heatmap\"}], \"heatmapgl\": [{\"colorbar\": {\"outlinewidth\": 0, \"ticks\": \"\"}, \"colorscale\": [[0.0, \"#0d0887\"], [0.1111111111111111, \"#46039f\"], [0.2222222222222222, \"#7201a8\"], [0.3333333333333333, \"#9c179e\"], [0.4444444444444444, \"#bd3786\"], [0.5555555555555556, \"#d8576b\"], [0.6666666666666666, \"#ed7953\"], [0.7777777777777778, \"#fb9f3a\"], [0.8888888888888888, \"#fdca26\"], [1.0, \"#f0f921\"]], \"type\": \"heatmapgl\"}], \"histogram\": [{\"marker\": {\"colorbar\": {\"outlinewidth\": 0, \"ticks\": \"\"}}, \"type\": \"histogram\"}], \"histogram2d\": [{\"colorbar\": {\"outlinewidth\": 0, \"ticks\": \"\"}, \"colorscale\": [[0.0, \"#0d0887\"], [0.1111111111111111, \"#46039f\"], [0.2222222222222222, \"#7201a8\"], [0.3333333333333333, \"#9c179e\"], [0.4444444444444444, \"#bd3786\"], [0.5555555555555556, \"#d8576b\"], [0.6666666666666666, \"#ed7953\"], [0.7777777777777778, \"#fb9f3a\"], [0.8888888888888888, \"#fdca26\"], [1.0, \"#f0f921\"]], \"type\": \"histogram2d\"}], \"histogram2dcontour\": [{\"colorbar\": {\"outlinewidth\": 0, \"ticks\": \"\"}, \"colorscale\": [[0.0, \"#0d0887\"], [0.1111111111111111, \"#46039f\"], [0.2222222222222222, \"#7201a8\"], [0.3333333333333333, \"#9c179e\"], [0.4444444444444444, \"#bd3786\"], [0.5555555555555556, \"#d8576b\"], [0.6666666666666666, \"#ed7953\"], [0.7777777777777778, \"#fb9f3a\"], [0.8888888888888888, \"#fdca26\"], [1.0, \"#f0f921\"]], \"type\": \"histogram2dcontour\"}], \"mesh3d\": [{\"colorbar\": {\"outlinewidth\": 0, \"ticks\": \"\"}, \"type\": \"mesh3d\"}], \"parcoords\": [{\"line\": {\"colorbar\": {\"outlinewidth\": 0, \"ticks\": \"\"}}, \"type\": \"parcoords\"}], \"pie\": [{\"automargin\": true, \"type\": \"pie\"}], \"scatter\": [{\"marker\": {\"colorbar\": {\"outlinewidth\": 0, \"ticks\": \"\"}}, \"type\": \"scatter\"}], \"scatter3d\": [{\"line\": {\"colorbar\": {\"outlinewidth\": 0, \"ticks\": \"\"}}, \"marker\": {\"colorbar\": {\"outlinewidth\": 0, \"ticks\": \"\"}}, \"type\": \"scatter3d\"}], \"scattercarpet\": [{\"marker\": {\"colorbar\": {\"outlinewidth\": 0, \"ticks\": \"\"}}, \"type\": \"scattercarpet\"}], \"scattergeo\": [{\"marker\": {\"colorbar\": {\"outlinewidth\": 0, \"ticks\": \"\"}}, \"type\": \"scattergeo\"}], \"scattergl\": [{\"marker\": {\"colorbar\": {\"outlinewidth\": 0, \"ticks\": \"\"}}, \"type\": \"scattergl\"}], \"scattermapbox\": [{\"marker\": {\"colorbar\": {\"outlinewidth\": 0, \"ticks\": \"\"}}, \"type\": \"scattermapbox\"}], \"scatterpolar\": [{\"marker\": {\"colorbar\": {\"outlinewidth\": 0, \"ticks\": \"\"}}, \"type\": \"scatterpolar\"}], \"scatterpolargl\": [{\"marker\": {\"colorbar\": {\"outlinewidth\": 0, \"ticks\": \"\"}}, \"type\": \"scatterpolargl\"}], \"scatterternary\": [{\"marker\": {\"colorbar\": {\"outlinewidth\": 0, \"ticks\": \"\"}}, \"type\": \"scatterternary\"}], \"surface\": [{\"colorbar\": {\"outlinewidth\": 0, \"ticks\": \"\"}, \"colorscale\": [[0.0, \"#0d0887\"], [0.1111111111111111, \"#46039f\"], [0.2222222222222222, \"#7201a8\"], [0.3333333333333333, \"#9c179e\"], [0.4444444444444444, \"#bd3786\"], [0.5555555555555556, \"#d8576b\"], [0.6666666666666666, \"#ed7953\"], [0.7777777777777778, \"#fb9f3a\"], [0.8888888888888888, \"#fdca26\"], [1.0, \"#f0f921\"]], \"type\": \"surface\"}], \"table\": [{\"cells\": {\"fill\": {\"color\": \"#EBF0F8\"}, \"line\": {\"color\": \"white\"}}, \"header\": {\"fill\": {\"color\": \"#C8D4E3\"}, \"line\": {\"color\": \"white\"}}, \"type\": \"table\"}]}, \"layout\": {\"annotationdefaults\": {\"arrowcolor\": \"#2a3f5f\", \"arrowhead\": 0, \"arrowwidth\": 1}, \"autotypenumbers\": \"strict\", \"coloraxis\": {\"colorbar\": {\"outlinewidth\": 0, \"ticks\": \"\"}}, \"colorscale\": {\"diverging\": [[0, \"#8e0152\"], [0.1, \"#c51b7d\"], [0.2, \"#de77ae\"], [0.3, \"#f1b6da\"], [0.4, \"#fde0ef\"], [0.5, \"#f7f7f7\"], [0.6, \"#e6f5d0\"], [0.7, \"#b8e186\"], [0.8, \"#7fbc41\"], [0.9, \"#4d9221\"], [1, \"#276419\"]], \"sequential\": [[0.0, \"#0d0887\"], [0.1111111111111111, \"#46039f\"], [0.2222222222222222, \"#7201a8\"], [0.3333333333333333, \"#9c179e\"], [0.4444444444444444, \"#bd3786\"], [0.5555555555555556, \"#d8576b\"], [0.6666666666666666, \"#ed7953\"], [0.7777777777777778, \"#fb9f3a\"], [0.8888888888888888, \"#fdca26\"], [1.0, \"#f0f921\"]], \"sequentialminus\": [[0.0, \"#0d0887\"], [0.1111111111111111, \"#46039f\"], [0.2222222222222222, \"#7201a8\"], [0.3333333333333333, \"#9c179e\"], [0.4444444444444444, \"#bd3786\"], [0.5555555555555556, \"#d8576b\"], [0.6666666666666666, \"#ed7953\"], [0.7777777777777778, \"#fb9f3a\"], [0.8888888888888888, \"#fdca26\"], [1.0, \"#f0f921\"]]}, \"colorway\": [\"#636efa\", \"#EF553B\", \"#00cc96\", \"#ab63fa\", \"#FFA15A\", \"#19d3f3\", \"#FF6692\", \"#B6E880\", \"#FF97FF\", \"#FECB52\"], \"font\": {\"color\": \"#2a3f5f\"}, \"geo\": {\"bgcolor\": \"white\", \"lakecolor\": \"white\", \"landcolor\": \"#E5ECF6\", \"showlakes\": true, \"showland\": true, \"subunitcolor\": \"white\"}, \"hoverlabel\": {\"align\": \"left\"}, \"hovermode\": \"closest\", \"mapbox\": {\"style\": \"light\"}, \"paper_bgcolor\": \"white\", \"plot_bgcolor\": \"#E5ECF6\", \"polar\": {\"angularaxis\": {\"gridcolor\": \"white\", \"linecolor\": \"white\", \"ticks\": \"\"}, \"bgcolor\": \"#E5ECF6\", \"radialaxis\": {\"gridcolor\": \"white\", \"linecolor\": \"white\", \"ticks\": \"\"}}, \"scene\": {\"xaxis\": {\"backgroundcolor\": \"#E5ECF6\", \"gridcolor\": \"white\", \"gridwidth\": 2, \"linecolor\": \"white\", \"showbackground\": true, \"ticks\": \"\", \"zerolinecolor\": \"white\"}, \"yaxis\": {\"backgroundcolor\": \"#E5ECF6\", \"gridcolor\": \"white\", \"gridwidth\": 2, \"linecolor\": \"white\", \"showbackground\": true, \"ticks\": \"\", \"zerolinecolor\": \"white\"}, \"zaxis\": {\"backgroundcolor\": \"#E5ECF6\", \"gridcolor\": \"white\", \"gridwidth\": 2, \"linecolor\": \"white\", \"showbackground\": true, \"ticks\": \"\", \"zerolinecolor\": \"white\"}}, \"shapedefaults\": {\"line\": {\"color\": \"#2a3f5f\"}}, \"ternary\": {\"aaxis\": {\"gridcolor\": \"white\", \"linecolor\": \"white\", \"ticks\": \"\"}, \"baxis\": {\"gridcolor\": \"white\", \"linecolor\": \"white\", \"ticks\": \"\"}, \"bgcolor\": \"#E5ECF6\", \"caxis\": {\"gridcolor\": \"white\", \"linecolor\": \"white\", \"ticks\": \"\"}}, \"title\": {\"x\": 0.05}, \"xaxis\": {\"automargin\": true, \"gridcolor\": \"white\", \"linecolor\": \"white\", \"ticks\": \"\", \"title\": {\"standoff\": 15}, \"zerolinecolor\": \"white\", \"zerolinewidth\": 2}, \"yaxis\": {\"automargin\": true, \"gridcolor\": \"white\", \"linecolor\": \"white\", \"ticks\": \"\", \"title\": {\"standoff\": 15}, \"zerolinecolor\": \"white\", \"zerolinewidth\": 2}}}, \"xaxis\": {\"title\": {\"text\": \"recall\"}}, \"yaxis\": {\"title\": {\"text\": \"precision\"}}},                        {\"responsive\": true}                    ).then(function(){\n",
       "                            \n",
       "var gd = document.getElementById('bf095bec-8bf7-48ea-af36-8d946ca172b2');\n",
       "var x = new MutationObserver(function (mutations, observer) {{\n",
       "        var display = window.getComputedStyle(gd).display;\n",
       "        if (!display || display === 'none') {{\n",
       "            console.log([gd, 'removed!']);\n",
       "            Plotly.purge(gd);\n",
       "            observer.disconnect();\n",
       "        }}\n",
       "}});\n",
       "\n",
       "// Listen for the removal of the full notebook cells\n",
       "var notebookContainer = gd.closest('#notebook-container');\n",
       "if (notebookContainer) {{\n",
       "    x.observe(notebookContainer, {childList: true});\n",
       "}}\n",
       "\n",
       "// Listen for the clearing of the current output cell\n",
       "var outputEl = gd.closest('.output');\n",
       "if (outputEl) {{\n",
       "    x.observe(outputEl, {childList: true});\n",
       "}}\n",
       "\n",
       "                        })                };                });            </script>        </div>"
      ]
     },
     "metadata": {},
     "output_type": "display_data"
    }
   ],
   "source": [
    "precision_recall_graph(outer_key='filterCalls', inner_key='minUnitigBlockLength') "
   ]
  },
  {
   "cell_type": "markdown",
   "metadata": {},
   "source": [
    "## TODO: put conclusions here"
   ]
  },
  {
   "cell_type": "code",
   "execution_count": 22,
   "metadata": {},
   "outputs": [
    {
     "data": {
      "application/vnd.plotly.v1+json": {
       "config": {
        "plotlyServerURL": "https://plot.ly"
       },
       "data": [
        {
         "hovertemplate": "%{text}",
         "marker": {
          "color": [
           2,
           2,
           2,
           2,
           2,
           2,
           0,
           0,
           0,
           0,
           0,
           0,
           1,
           1,
           1,
           1,
           1,
           1,
           2,
           2,
           2,
           2,
           2,
           2,
           0,
           0,
           0,
           0,
           0,
           0,
           1,
           1,
           1,
           1,
           1,
           1,
           2,
           2,
           2,
           2,
           2,
           2,
           0,
           0,
           0,
           0,
           0,
           0,
           1,
           1,
           1,
           1,
           1,
           1
          ]
         },
         "mode": "markers",
         "text": [
          "makeCalls.gapOpenPenalties: 10,35<br><br>makeRegions: <br>  slop: 250<br>  minCoverage: 0<br>  maxCoverage: 200<br>  maxRegionLength: 100000<br>  minRepeatPeriod: 6<br>  minRepeatLength: 100<br>  functionalRegions: none<br>  genomeBuild: hg38<br>  overlappedFunctionalRegions: false<br>makeCalls: <br>  singleBaseMatchReward: 10<br>  singleBaseMismatchPenalty: 12<br>  gapExtensionPenalties: 1,0<br>  minUnitigMappingQuality: 1<br>filterCalls: <br>  maxIntraClusterDistance: 500<br>  minSVSize: 50<br>  minUnitigMappingQuality: 0<br>  minUnitigBlockLength: 15<br>  svtype: DEL<br>",
          "makeCalls.gapOpenPenalties: 10,35<br><br>makeRegions: <br>  slop: 250<br>  minCoverage: 0<br>  maxCoverage: 200<br>  maxRegionLength: 100000<br>  minRepeatPeriod: 6<br>  minRepeatLength: 100<br>  functionalRegions: none<br>  genomeBuild: hg38<br>  overlappedFunctionalRegions: false<br>makeCalls: <br>  singleBaseMatchReward: 10<br>  singleBaseMismatchPenalty: 12<br>  gapExtensionPenalties: 1,0<br>  minUnitigMappingQuality: 1<br>filterCalls: <br>  maxIntraClusterDistance: 500<br>  minSVSize: 50<br>  minUnitigMappingQuality: 0<br>  minUnitigBlockLength: 25<br>  svtype: DEL<br>",
          "makeCalls.gapOpenPenalties: 10,35<br><br>makeRegions: <br>  slop: 250<br>  minCoverage: 0<br>  maxCoverage: 200<br>  maxRegionLength: 100000<br>  minRepeatPeriod: 6<br>  minRepeatLength: 100<br>  functionalRegions: none<br>  genomeBuild: hg38<br>  overlappedFunctionalRegions: false<br>makeCalls: <br>  singleBaseMatchReward: 10<br>  singleBaseMismatchPenalty: 12<br>  gapExtensionPenalties: 1,0<br>  minUnitigMappingQuality: 1<br>filterCalls: <br>  maxIntraClusterDistance: 500<br>  minSVSize: 50<br>  minUnitigMappingQuality: 0<br>  minUnitigBlockLength: 40<br>  svtype: DEL<br>",
          "makeCalls.gapOpenPenalties: 10,35<br><br>makeRegions: <br>  slop: 250<br>  minCoverage: 0<br>  maxCoverage: 200<br>  maxRegionLength: 100000<br>  minRepeatPeriod: 6<br>  minRepeatLength: 100<br>  functionalRegions: none<br>  genomeBuild: hg38<br>  overlappedFunctionalRegions: false<br>makeCalls: <br>  singleBaseMatchReward: 10<br>  singleBaseMismatchPenalty: 12<br>  gapExtensionPenalties: 1,0<br>  minUnitigMappingQuality: 1<br>filterCalls: <br>  maxIntraClusterDistance: 500<br>  minSVSize: 50<br>  minUnitigMappingQuality: 10<br>  minUnitigBlockLength: 15<br>  svtype: DEL<br>",
          "makeCalls.gapOpenPenalties: 10,35<br><br>makeRegions: <br>  slop: 250<br>  minCoverage: 0<br>  maxCoverage: 200<br>  maxRegionLength: 100000<br>  minRepeatPeriod: 6<br>  minRepeatLength: 100<br>  functionalRegions: none<br>  genomeBuild: hg38<br>  overlappedFunctionalRegions: false<br>makeCalls: <br>  singleBaseMatchReward: 10<br>  singleBaseMismatchPenalty: 12<br>  gapExtensionPenalties: 1,0<br>  minUnitigMappingQuality: 1<br>filterCalls: <br>  maxIntraClusterDistance: 500<br>  minSVSize: 50<br>  minUnitigMappingQuality: 10<br>  minUnitigBlockLength: 25<br>  svtype: DEL<br>",
          "makeCalls.gapOpenPenalties: 10,35<br><br>makeRegions: <br>  slop: 250<br>  minCoverage: 0<br>  maxCoverage: 200<br>  maxRegionLength: 100000<br>  minRepeatPeriod: 6<br>  minRepeatLength: 100<br>  functionalRegions: none<br>  genomeBuild: hg38<br>  overlappedFunctionalRegions: false<br>makeCalls: <br>  singleBaseMatchReward: 10<br>  singleBaseMismatchPenalty: 12<br>  gapExtensionPenalties: 1,0<br>  minUnitigMappingQuality: 1<br>filterCalls: <br>  maxIntraClusterDistance: 500<br>  minSVSize: 50<br>  minUnitigMappingQuality: 10<br>  minUnitigBlockLength: 40<br>  svtype: DEL<br>",
          "makeCalls.gapOpenPenalties: 5,20<br><br>makeRegions: <br>  slop: 250<br>  minCoverage: 0<br>  maxCoverage: 200<br>  maxRegionLength: 100000<br>  minRepeatPeriod: 6<br>  minRepeatLength: 100<br>  functionalRegions: none<br>  genomeBuild: hg38<br>  overlappedFunctionalRegions: false<br>makeCalls: <br>  singleBaseMatchReward: 10<br>  singleBaseMismatchPenalty: 12<br>  gapExtensionPenalties: 1,0<br>  minUnitigMappingQuality: 1<br>filterCalls: <br>  maxIntraClusterDistance: 500<br>  minSVSize: 50<br>  minUnitigMappingQuality: 0<br>  minUnitigBlockLength: 15<br>  svtype: DEL<br>",
          "makeCalls.gapOpenPenalties: 5,20<br><br>makeRegions: <br>  slop: 250<br>  minCoverage: 0<br>  maxCoverage: 200<br>  maxRegionLength: 100000<br>  minRepeatPeriod: 6<br>  minRepeatLength: 100<br>  functionalRegions: none<br>  genomeBuild: hg38<br>  overlappedFunctionalRegions: false<br>makeCalls: <br>  singleBaseMatchReward: 10<br>  singleBaseMismatchPenalty: 12<br>  gapExtensionPenalties: 1,0<br>  minUnitigMappingQuality: 1<br>filterCalls: <br>  maxIntraClusterDistance: 500<br>  minSVSize: 50<br>  minUnitigMappingQuality: 0<br>  minUnitigBlockLength: 25<br>  svtype: DEL<br>",
          "makeCalls.gapOpenPenalties: 5,20<br><br>makeRegions: <br>  slop: 250<br>  minCoverage: 0<br>  maxCoverage: 200<br>  maxRegionLength: 100000<br>  minRepeatPeriod: 6<br>  minRepeatLength: 100<br>  functionalRegions: none<br>  genomeBuild: hg38<br>  overlappedFunctionalRegions: false<br>makeCalls: <br>  singleBaseMatchReward: 10<br>  singleBaseMismatchPenalty: 12<br>  gapExtensionPenalties: 1,0<br>  minUnitigMappingQuality: 1<br>filterCalls: <br>  maxIntraClusterDistance: 500<br>  minSVSize: 50<br>  minUnitigMappingQuality: 0<br>  minUnitigBlockLength: 40<br>  svtype: DEL<br>",
          "makeCalls.gapOpenPenalties: 5,20<br><br>makeRegions: <br>  slop: 250<br>  minCoverage: 0<br>  maxCoverage: 200<br>  maxRegionLength: 100000<br>  minRepeatPeriod: 6<br>  minRepeatLength: 100<br>  functionalRegions: none<br>  genomeBuild: hg38<br>  overlappedFunctionalRegions: false<br>makeCalls: <br>  singleBaseMatchReward: 10<br>  singleBaseMismatchPenalty: 12<br>  gapExtensionPenalties: 1,0<br>  minUnitigMappingQuality: 1<br>filterCalls: <br>  maxIntraClusterDistance: 500<br>  minSVSize: 50<br>  minUnitigMappingQuality: 10<br>  minUnitigBlockLength: 15<br>  svtype: DEL<br>",
          "makeCalls.gapOpenPenalties: 5,20<br><br>makeRegions: <br>  slop: 250<br>  minCoverage: 0<br>  maxCoverage: 200<br>  maxRegionLength: 100000<br>  minRepeatPeriod: 6<br>  minRepeatLength: 100<br>  functionalRegions: none<br>  genomeBuild: hg38<br>  overlappedFunctionalRegions: false<br>makeCalls: <br>  singleBaseMatchReward: 10<br>  singleBaseMismatchPenalty: 12<br>  gapExtensionPenalties: 1,0<br>  minUnitigMappingQuality: 1<br>filterCalls: <br>  maxIntraClusterDistance: 500<br>  minSVSize: 50<br>  minUnitigMappingQuality: 10<br>  minUnitigBlockLength: 25<br>  svtype: DEL<br>",
          "makeCalls.gapOpenPenalties: 5,20<br><br>makeRegions: <br>  slop: 250<br>  minCoverage: 0<br>  maxCoverage: 200<br>  maxRegionLength: 100000<br>  minRepeatPeriod: 6<br>  minRepeatLength: 100<br>  functionalRegions: none<br>  genomeBuild: hg38<br>  overlappedFunctionalRegions: false<br>makeCalls: <br>  singleBaseMatchReward: 10<br>  singleBaseMismatchPenalty: 12<br>  gapExtensionPenalties: 1,0<br>  minUnitigMappingQuality: 1<br>filterCalls: <br>  maxIntraClusterDistance: 500<br>  minSVSize: 50<br>  minUnitigMappingQuality: 10<br>  minUnitigBlockLength: 40<br>  svtype: DEL<br>",
          "makeCalls.gapOpenPenalties: 6,26<br><br>makeRegions: <br>  slop: 250<br>  minCoverage: 0<br>  maxCoverage: 200<br>  maxRegionLength: 100000<br>  minRepeatPeriod: 6<br>  minRepeatLength: 100<br>  functionalRegions: none<br>  genomeBuild: hg38<br>  overlappedFunctionalRegions: false<br>makeCalls: <br>  singleBaseMatchReward: 10<br>  singleBaseMismatchPenalty: 12<br>  gapExtensionPenalties: 1,0<br>  minUnitigMappingQuality: 1<br>filterCalls: <br>  maxIntraClusterDistance: 500<br>  minSVSize: 50<br>  minUnitigMappingQuality: 0<br>  minUnitigBlockLength: 15<br>  svtype: DEL<br>",
          "makeCalls.gapOpenPenalties: 6,26<br><br>makeRegions: <br>  slop: 250<br>  minCoverage: 0<br>  maxCoverage: 200<br>  maxRegionLength: 100000<br>  minRepeatPeriod: 6<br>  minRepeatLength: 100<br>  functionalRegions: none<br>  genomeBuild: hg38<br>  overlappedFunctionalRegions: false<br>makeCalls: <br>  singleBaseMatchReward: 10<br>  singleBaseMismatchPenalty: 12<br>  gapExtensionPenalties: 1,0<br>  minUnitigMappingQuality: 1<br>filterCalls: <br>  maxIntraClusterDistance: 500<br>  minSVSize: 50<br>  minUnitigMappingQuality: 0<br>  minUnitigBlockLength: 25<br>  svtype: DEL<br>",
          "makeCalls.gapOpenPenalties: 6,26<br><br>makeRegions: <br>  slop: 250<br>  minCoverage: 0<br>  maxCoverage: 200<br>  maxRegionLength: 100000<br>  minRepeatPeriod: 6<br>  minRepeatLength: 100<br>  functionalRegions: none<br>  genomeBuild: hg38<br>  overlappedFunctionalRegions: false<br>makeCalls: <br>  singleBaseMatchReward: 10<br>  singleBaseMismatchPenalty: 12<br>  gapExtensionPenalties: 1,0<br>  minUnitigMappingQuality: 1<br>filterCalls: <br>  maxIntraClusterDistance: 500<br>  minSVSize: 50<br>  minUnitigMappingQuality: 0<br>  minUnitigBlockLength: 40<br>  svtype: DEL<br>",
          "makeCalls.gapOpenPenalties: 6,26<br><br>makeRegions: <br>  slop: 250<br>  minCoverage: 0<br>  maxCoverage: 200<br>  maxRegionLength: 100000<br>  minRepeatPeriod: 6<br>  minRepeatLength: 100<br>  functionalRegions: none<br>  genomeBuild: hg38<br>  overlappedFunctionalRegions: false<br>makeCalls: <br>  singleBaseMatchReward: 10<br>  singleBaseMismatchPenalty: 12<br>  gapExtensionPenalties: 1,0<br>  minUnitigMappingQuality: 1<br>filterCalls: <br>  maxIntraClusterDistance: 500<br>  minSVSize: 50<br>  minUnitigMappingQuality: 10<br>  minUnitigBlockLength: 15<br>  svtype: DEL<br>",
          "makeCalls.gapOpenPenalties: 6,26<br><br>makeRegions: <br>  slop: 250<br>  minCoverage: 0<br>  maxCoverage: 200<br>  maxRegionLength: 100000<br>  minRepeatPeriod: 6<br>  minRepeatLength: 100<br>  functionalRegions: none<br>  genomeBuild: hg38<br>  overlappedFunctionalRegions: false<br>makeCalls: <br>  singleBaseMatchReward: 10<br>  singleBaseMismatchPenalty: 12<br>  gapExtensionPenalties: 1,0<br>  minUnitigMappingQuality: 1<br>filterCalls: <br>  maxIntraClusterDistance: 500<br>  minSVSize: 50<br>  minUnitigMappingQuality: 10<br>  minUnitigBlockLength: 25<br>  svtype: DEL<br>",
          "makeCalls.gapOpenPenalties: 6,26<br><br>makeRegions: <br>  slop: 250<br>  minCoverage: 0<br>  maxCoverage: 200<br>  maxRegionLength: 100000<br>  minRepeatPeriod: 6<br>  minRepeatLength: 100<br>  functionalRegions: none<br>  genomeBuild: hg38<br>  overlappedFunctionalRegions: false<br>makeCalls: <br>  singleBaseMatchReward: 10<br>  singleBaseMismatchPenalty: 12<br>  gapExtensionPenalties: 1,0<br>  minUnitigMappingQuality: 1<br>filterCalls: <br>  maxIntraClusterDistance: 500<br>  minSVSize: 50<br>  minUnitigMappingQuality: 10<br>  minUnitigBlockLength: 40<br>  svtype: DEL<br>",
          "makeCalls.gapOpenPenalties: 10,35<br><br>makeRegions: <br>  slop: 250<br>  minCoverage: 10<br>  maxCoverage: 200<br>  maxRegionLength: 100000<br>  minRepeatPeriod: 6<br>  minRepeatLength: 100<br>  functionalRegions: none<br>  genomeBuild: hg38<br>  overlappedFunctionalRegions: false<br>makeCalls: <br>  singleBaseMatchReward: 10<br>  singleBaseMismatchPenalty: 12<br>  gapExtensionPenalties: 1,0<br>  minUnitigMappingQuality: 1<br>filterCalls: <br>  maxIntraClusterDistance: 500<br>  minSVSize: 50<br>  minUnitigMappingQuality: 0<br>  minUnitigBlockLength: 15<br>  svtype: DEL<br>",
          "makeCalls.gapOpenPenalties: 10,35<br><br>makeRegions: <br>  slop: 250<br>  minCoverage: 10<br>  maxCoverage: 200<br>  maxRegionLength: 100000<br>  minRepeatPeriod: 6<br>  minRepeatLength: 100<br>  functionalRegions: none<br>  genomeBuild: hg38<br>  overlappedFunctionalRegions: false<br>makeCalls: <br>  singleBaseMatchReward: 10<br>  singleBaseMismatchPenalty: 12<br>  gapExtensionPenalties: 1,0<br>  minUnitigMappingQuality: 1<br>filterCalls: <br>  maxIntraClusterDistance: 500<br>  minSVSize: 50<br>  minUnitigMappingQuality: 0<br>  minUnitigBlockLength: 25<br>  svtype: DEL<br>",
          "makeCalls.gapOpenPenalties: 10,35<br><br>makeRegions: <br>  slop: 250<br>  minCoverage: 10<br>  maxCoverage: 200<br>  maxRegionLength: 100000<br>  minRepeatPeriod: 6<br>  minRepeatLength: 100<br>  functionalRegions: none<br>  genomeBuild: hg38<br>  overlappedFunctionalRegions: false<br>makeCalls: <br>  singleBaseMatchReward: 10<br>  singleBaseMismatchPenalty: 12<br>  gapExtensionPenalties: 1,0<br>  minUnitigMappingQuality: 1<br>filterCalls: <br>  maxIntraClusterDistance: 500<br>  minSVSize: 50<br>  minUnitigMappingQuality: 0<br>  minUnitigBlockLength: 40<br>  svtype: DEL<br>",
          "makeCalls.gapOpenPenalties: 10,35<br><br>makeRegions: <br>  slop: 250<br>  minCoverage: 10<br>  maxCoverage: 200<br>  maxRegionLength: 100000<br>  minRepeatPeriod: 6<br>  minRepeatLength: 100<br>  functionalRegions: none<br>  genomeBuild: hg38<br>  overlappedFunctionalRegions: false<br>makeCalls: <br>  singleBaseMatchReward: 10<br>  singleBaseMismatchPenalty: 12<br>  gapExtensionPenalties: 1,0<br>  minUnitigMappingQuality: 1<br>filterCalls: <br>  maxIntraClusterDistance: 500<br>  minSVSize: 50<br>  minUnitigMappingQuality: 10<br>  minUnitigBlockLength: 15<br>  svtype: DEL<br>",
          "makeCalls.gapOpenPenalties: 10,35<br><br>makeRegions: <br>  slop: 250<br>  minCoverage: 10<br>  maxCoverage: 200<br>  maxRegionLength: 100000<br>  minRepeatPeriod: 6<br>  minRepeatLength: 100<br>  functionalRegions: none<br>  genomeBuild: hg38<br>  overlappedFunctionalRegions: false<br>makeCalls: <br>  singleBaseMatchReward: 10<br>  singleBaseMismatchPenalty: 12<br>  gapExtensionPenalties: 1,0<br>  minUnitigMappingQuality: 1<br>filterCalls: <br>  maxIntraClusterDistance: 500<br>  minSVSize: 50<br>  minUnitigMappingQuality: 10<br>  minUnitigBlockLength: 25<br>  svtype: DEL<br>",
          "makeCalls.gapOpenPenalties: 10,35<br><br>makeRegions: <br>  slop: 250<br>  minCoverage: 10<br>  maxCoverage: 200<br>  maxRegionLength: 100000<br>  minRepeatPeriod: 6<br>  minRepeatLength: 100<br>  functionalRegions: none<br>  genomeBuild: hg38<br>  overlappedFunctionalRegions: false<br>makeCalls: <br>  singleBaseMatchReward: 10<br>  singleBaseMismatchPenalty: 12<br>  gapExtensionPenalties: 1,0<br>  minUnitigMappingQuality: 1<br>filterCalls: <br>  maxIntraClusterDistance: 500<br>  minSVSize: 50<br>  minUnitigMappingQuality: 10<br>  minUnitigBlockLength: 40<br>  svtype: DEL<br>",
          "makeCalls.gapOpenPenalties: 5,20<br><br>makeRegions: <br>  slop: 250<br>  minCoverage: 10<br>  maxCoverage: 200<br>  maxRegionLength: 100000<br>  minRepeatPeriod: 6<br>  minRepeatLength: 100<br>  functionalRegions: none<br>  genomeBuild: hg38<br>  overlappedFunctionalRegions: false<br>makeCalls: <br>  singleBaseMatchReward: 10<br>  singleBaseMismatchPenalty: 12<br>  gapExtensionPenalties: 1,0<br>  minUnitigMappingQuality: 1<br>filterCalls: <br>  maxIntraClusterDistance: 500<br>  minSVSize: 50<br>  minUnitigMappingQuality: 0<br>  minUnitigBlockLength: 15<br>  svtype: DEL<br>",
          "makeCalls.gapOpenPenalties: 5,20<br><br>makeRegions: <br>  slop: 250<br>  minCoverage: 10<br>  maxCoverage: 200<br>  maxRegionLength: 100000<br>  minRepeatPeriod: 6<br>  minRepeatLength: 100<br>  functionalRegions: none<br>  genomeBuild: hg38<br>  overlappedFunctionalRegions: false<br>makeCalls: <br>  singleBaseMatchReward: 10<br>  singleBaseMismatchPenalty: 12<br>  gapExtensionPenalties: 1,0<br>  minUnitigMappingQuality: 1<br>filterCalls: <br>  maxIntraClusterDistance: 500<br>  minSVSize: 50<br>  minUnitigMappingQuality: 0<br>  minUnitigBlockLength: 25<br>  svtype: DEL<br>",
          "makeCalls.gapOpenPenalties: 5,20<br><br>makeRegions: <br>  slop: 250<br>  minCoverage: 10<br>  maxCoverage: 200<br>  maxRegionLength: 100000<br>  minRepeatPeriod: 6<br>  minRepeatLength: 100<br>  functionalRegions: none<br>  genomeBuild: hg38<br>  overlappedFunctionalRegions: false<br>makeCalls: <br>  singleBaseMatchReward: 10<br>  singleBaseMismatchPenalty: 12<br>  gapExtensionPenalties: 1,0<br>  minUnitigMappingQuality: 1<br>filterCalls: <br>  maxIntraClusterDistance: 500<br>  minSVSize: 50<br>  minUnitigMappingQuality: 0<br>  minUnitigBlockLength: 40<br>  svtype: DEL<br>",
          "makeCalls.gapOpenPenalties: 5,20<br><br>makeRegions: <br>  slop: 250<br>  minCoverage: 10<br>  maxCoverage: 200<br>  maxRegionLength: 100000<br>  minRepeatPeriod: 6<br>  minRepeatLength: 100<br>  functionalRegions: none<br>  genomeBuild: hg38<br>  overlappedFunctionalRegions: false<br>makeCalls: <br>  singleBaseMatchReward: 10<br>  singleBaseMismatchPenalty: 12<br>  gapExtensionPenalties: 1,0<br>  minUnitigMappingQuality: 1<br>filterCalls: <br>  maxIntraClusterDistance: 500<br>  minSVSize: 50<br>  minUnitigMappingQuality: 10<br>  minUnitigBlockLength: 15<br>  svtype: DEL<br>",
          "makeCalls.gapOpenPenalties: 5,20<br><br>makeRegions: <br>  slop: 250<br>  minCoverage: 10<br>  maxCoverage: 200<br>  maxRegionLength: 100000<br>  minRepeatPeriod: 6<br>  minRepeatLength: 100<br>  functionalRegions: none<br>  genomeBuild: hg38<br>  overlappedFunctionalRegions: false<br>makeCalls: <br>  singleBaseMatchReward: 10<br>  singleBaseMismatchPenalty: 12<br>  gapExtensionPenalties: 1,0<br>  minUnitigMappingQuality: 1<br>filterCalls: <br>  maxIntraClusterDistance: 500<br>  minSVSize: 50<br>  minUnitigMappingQuality: 10<br>  minUnitigBlockLength: 25<br>  svtype: DEL<br>",
          "makeCalls.gapOpenPenalties: 5,20<br><br>makeRegions: <br>  slop: 250<br>  minCoverage: 10<br>  maxCoverage: 200<br>  maxRegionLength: 100000<br>  minRepeatPeriod: 6<br>  minRepeatLength: 100<br>  functionalRegions: none<br>  genomeBuild: hg38<br>  overlappedFunctionalRegions: false<br>makeCalls: <br>  singleBaseMatchReward: 10<br>  singleBaseMismatchPenalty: 12<br>  gapExtensionPenalties: 1,0<br>  minUnitigMappingQuality: 1<br>filterCalls: <br>  maxIntraClusterDistance: 500<br>  minSVSize: 50<br>  minUnitigMappingQuality: 10<br>  minUnitigBlockLength: 40<br>  svtype: DEL<br>",
          "makeCalls.gapOpenPenalties: 6,26<br><br>makeRegions: <br>  slop: 250<br>  minCoverage: 10<br>  maxCoverage: 200<br>  maxRegionLength: 100000<br>  minRepeatPeriod: 6<br>  minRepeatLength: 100<br>  functionalRegions: none<br>  genomeBuild: hg38<br>  overlappedFunctionalRegions: false<br>makeCalls: <br>  singleBaseMatchReward: 10<br>  singleBaseMismatchPenalty: 12<br>  gapExtensionPenalties: 1,0<br>  minUnitigMappingQuality: 1<br>filterCalls: <br>  maxIntraClusterDistance: 500<br>  minSVSize: 50<br>  minUnitigMappingQuality: 0<br>  minUnitigBlockLength: 15<br>  svtype: DEL<br>",
          "makeCalls.gapOpenPenalties: 6,26<br><br>makeRegions: <br>  slop: 250<br>  minCoverage: 10<br>  maxCoverage: 200<br>  maxRegionLength: 100000<br>  minRepeatPeriod: 6<br>  minRepeatLength: 100<br>  functionalRegions: none<br>  genomeBuild: hg38<br>  overlappedFunctionalRegions: false<br>makeCalls: <br>  singleBaseMatchReward: 10<br>  singleBaseMismatchPenalty: 12<br>  gapExtensionPenalties: 1,0<br>  minUnitigMappingQuality: 1<br>filterCalls: <br>  maxIntraClusterDistance: 500<br>  minSVSize: 50<br>  minUnitigMappingQuality: 0<br>  minUnitigBlockLength: 25<br>  svtype: DEL<br>",
          "makeCalls.gapOpenPenalties: 6,26<br><br>makeRegions: <br>  slop: 250<br>  minCoverage: 10<br>  maxCoverage: 200<br>  maxRegionLength: 100000<br>  minRepeatPeriod: 6<br>  minRepeatLength: 100<br>  functionalRegions: none<br>  genomeBuild: hg38<br>  overlappedFunctionalRegions: false<br>makeCalls: <br>  singleBaseMatchReward: 10<br>  singleBaseMismatchPenalty: 12<br>  gapExtensionPenalties: 1,0<br>  minUnitigMappingQuality: 1<br>filterCalls: <br>  maxIntraClusterDistance: 500<br>  minSVSize: 50<br>  minUnitigMappingQuality: 0<br>  minUnitigBlockLength: 40<br>  svtype: DEL<br>",
          "makeCalls.gapOpenPenalties: 6,26<br><br>makeRegions: <br>  slop: 250<br>  minCoverage: 10<br>  maxCoverage: 200<br>  maxRegionLength: 100000<br>  minRepeatPeriod: 6<br>  minRepeatLength: 100<br>  functionalRegions: none<br>  genomeBuild: hg38<br>  overlappedFunctionalRegions: false<br>makeCalls: <br>  singleBaseMatchReward: 10<br>  singleBaseMismatchPenalty: 12<br>  gapExtensionPenalties: 1,0<br>  minUnitigMappingQuality: 1<br>filterCalls: <br>  maxIntraClusterDistance: 500<br>  minSVSize: 50<br>  minUnitigMappingQuality: 10<br>  minUnitigBlockLength: 15<br>  svtype: DEL<br>",
          "makeCalls.gapOpenPenalties: 6,26<br><br>makeRegions: <br>  slop: 250<br>  minCoverage: 10<br>  maxCoverage: 200<br>  maxRegionLength: 100000<br>  minRepeatPeriod: 6<br>  minRepeatLength: 100<br>  functionalRegions: none<br>  genomeBuild: hg38<br>  overlappedFunctionalRegions: false<br>makeCalls: <br>  singleBaseMatchReward: 10<br>  singleBaseMismatchPenalty: 12<br>  gapExtensionPenalties: 1,0<br>  minUnitigMappingQuality: 1<br>filterCalls: <br>  maxIntraClusterDistance: 500<br>  minSVSize: 50<br>  minUnitigMappingQuality: 10<br>  minUnitigBlockLength: 25<br>  svtype: DEL<br>",
          "makeCalls.gapOpenPenalties: 6,26<br><br>makeRegions: <br>  slop: 250<br>  minCoverage: 10<br>  maxCoverage: 200<br>  maxRegionLength: 100000<br>  minRepeatPeriod: 6<br>  minRepeatLength: 100<br>  functionalRegions: none<br>  genomeBuild: hg38<br>  overlappedFunctionalRegions: false<br>makeCalls: <br>  singleBaseMatchReward: 10<br>  singleBaseMismatchPenalty: 12<br>  gapExtensionPenalties: 1,0<br>  minUnitigMappingQuality: 1<br>filterCalls: <br>  maxIntraClusterDistance: 500<br>  minSVSize: 50<br>  minUnitigMappingQuality: 10<br>  minUnitigBlockLength: 40<br>  svtype: DEL<br>",
          "makeCalls.gapOpenPenalties: 10,35<br><br>makeRegions: <br>  slop: 250<br>  minCoverage: 5<br>  maxCoverage: 200<br>  maxRegionLength: 100000<br>  minRepeatPeriod: 6<br>  minRepeatLength: 100<br>  functionalRegions: none<br>  genomeBuild: hg38<br>  overlappedFunctionalRegions: false<br>makeCalls: <br>  singleBaseMatchReward: 10<br>  singleBaseMismatchPenalty: 12<br>  gapExtensionPenalties: 1,0<br>  minUnitigMappingQuality: 1<br>filterCalls: <br>  maxIntraClusterDistance: 500<br>  minSVSize: 50<br>  minUnitigMappingQuality: 0<br>  minUnitigBlockLength: 15<br>  svtype: DEL<br>",
          "makeCalls.gapOpenPenalties: 10,35<br><br>makeRegions: <br>  slop: 250<br>  minCoverage: 5<br>  maxCoverage: 200<br>  maxRegionLength: 100000<br>  minRepeatPeriod: 6<br>  minRepeatLength: 100<br>  functionalRegions: none<br>  genomeBuild: hg38<br>  overlappedFunctionalRegions: false<br>makeCalls: <br>  singleBaseMatchReward: 10<br>  singleBaseMismatchPenalty: 12<br>  gapExtensionPenalties: 1,0<br>  minUnitigMappingQuality: 1<br>filterCalls: <br>  maxIntraClusterDistance: 500<br>  minSVSize: 50<br>  minUnitigMappingQuality: 0<br>  minUnitigBlockLength: 25<br>  svtype: DEL<br>",
          "makeCalls.gapOpenPenalties: 10,35<br><br>makeRegions: <br>  slop: 250<br>  minCoverage: 5<br>  maxCoverage: 200<br>  maxRegionLength: 100000<br>  minRepeatPeriod: 6<br>  minRepeatLength: 100<br>  functionalRegions: none<br>  genomeBuild: hg38<br>  overlappedFunctionalRegions: false<br>makeCalls: <br>  singleBaseMatchReward: 10<br>  singleBaseMismatchPenalty: 12<br>  gapExtensionPenalties: 1,0<br>  minUnitigMappingQuality: 1<br>filterCalls: <br>  maxIntraClusterDistance: 500<br>  minSVSize: 50<br>  minUnitigMappingQuality: 0<br>  minUnitigBlockLength: 40<br>  svtype: DEL<br>",
          "makeCalls.gapOpenPenalties: 10,35<br><br>makeRegions: <br>  slop: 250<br>  minCoverage: 5<br>  maxCoverage: 200<br>  maxRegionLength: 100000<br>  minRepeatPeriod: 6<br>  minRepeatLength: 100<br>  functionalRegions: none<br>  genomeBuild: hg38<br>  overlappedFunctionalRegions: false<br>makeCalls: <br>  singleBaseMatchReward: 10<br>  singleBaseMismatchPenalty: 12<br>  gapExtensionPenalties: 1,0<br>  minUnitigMappingQuality: 1<br>filterCalls: <br>  maxIntraClusterDistance: 500<br>  minSVSize: 50<br>  minUnitigMappingQuality: 10<br>  minUnitigBlockLength: 15<br>  svtype: DEL<br>",
          "makeCalls.gapOpenPenalties: 10,35<br><br>makeRegions: <br>  slop: 250<br>  minCoverage: 5<br>  maxCoverage: 200<br>  maxRegionLength: 100000<br>  minRepeatPeriod: 6<br>  minRepeatLength: 100<br>  functionalRegions: none<br>  genomeBuild: hg38<br>  overlappedFunctionalRegions: false<br>makeCalls: <br>  singleBaseMatchReward: 10<br>  singleBaseMismatchPenalty: 12<br>  gapExtensionPenalties: 1,0<br>  minUnitigMappingQuality: 1<br>filterCalls: <br>  maxIntraClusterDistance: 500<br>  minSVSize: 50<br>  minUnitigMappingQuality: 10<br>  minUnitigBlockLength: 25<br>  svtype: DEL<br>",
          "makeCalls.gapOpenPenalties: 10,35<br><br>makeRegions: <br>  slop: 250<br>  minCoverage: 5<br>  maxCoverage: 200<br>  maxRegionLength: 100000<br>  minRepeatPeriod: 6<br>  minRepeatLength: 100<br>  functionalRegions: none<br>  genomeBuild: hg38<br>  overlappedFunctionalRegions: false<br>makeCalls: <br>  singleBaseMatchReward: 10<br>  singleBaseMismatchPenalty: 12<br>  gapExtensionPenalties: 1,0<br>  minUnitigMappingQuality: 1<br>filterCalls: <br>  maxIntraClusterDistance: 500<br>  minSVSize: 50<br>  minUnitigMappingQuality: 10<br>  minUnitigBlockLength: 40<br>  svtype: DEL<br>",
          "makeCalls.gapOpenPenalties: 5,20<br><br>makeRegions: <br>  slop: 250<br>  minCoverage: 5<br>  maxCoverage: 200<br>  maxRegionLength: 100000<br>  minRepeatPeriod: 6<br>  minRepeatLength: 100<br>  functionalRegions: none<br>  genomeBuild: hg38<br>  overlappedFunctionalRegions: false<br>makeCalls: <br>  singleBaseMatchReward: 10<br>  singleBaseMismatchPenalty: 12<br>  gapExtensionPenalties: 1,0<br>  minUnitigMappingQuality: 1<br>filterCalls: <br>  maxIntraClusterDistance: 500<br>  minSVSize: 50<br>  minUnitigMappingQuality: 0<br>  minUnitigBlockLength: 15<br>  svtype: DEL<br>",
          "makeCalls.gapOpenPenalties: 5,20<br><br>makeRegions: <br>  slop: 250<br>  minCoverage: 5<br>  maxCoverage: 200<br>  maxRegionLength: 100000<br>  minRepeatPeriod: 6<br>  minRepeatLength: 100<br>  functionalRegions: none<br>  genomeBuild: hg38<br>  overlappedFunctionalRegions: false<br>makeCalls: <br>  singleBaseMatchReward: 10<br>  singleBaseMismatchPenalty: 12<br>  gapExtensionPenalties: 1,0<br>  minUnitigMappingQuality: 1<br>filterCalls: <br>  maxIntraClusterDistance: 500<br>  minSVSize: 50<br>  minUnitigMappingQuality: 0<br>  minUnitigBlockLength: 25<br>  svtype: DEL<br>",
          "makeCalls.gapOpenPenalties: 5,20<br><br>makeRegions: <br>  slop: 250<br>  minCoverage: 5<br>  maxCoverage: 200<br>  maxRegionLength: 100000<br>  minRepeatPeriod: 6<br>  minRepeatLength: 100<br>  functionalRegions: none<br>  genomeBuild: hg38<br>  overlappedFunctionalRegions: false<br>makeCalls: <br>  singleBaseMatchReward: 10<br>  singleBaseMismatchPenalty: 12<br>  gapExtensionPenalties: 1,0<br>  minUnitigMappingQuality: 1<br>filterCalls: <br>  maxIntraClusterDistance: 500<br>  minSVSize: 50<br>  minUnitigMappingQuality: 0<br>  minUnitigBlockLength: 40<br>  svtype: DEL<br>",
          "makeCalls.gapOpenPenalties: 5,20<br><br>makeRegions: <br>  slop: 250<br>  minCoverage: 5<br>  maxCoverage: 200<br>  maxRegionLength: 100000<br>  minRepeatPeriod: 6<br>  minRepeatLength: 100<br>  functionalRegions: none<br>  genomeBuild: hg38<br>  overlappedFunctionalRegions: false<br>makeCalls: <br>  singleBaseMatchReward: 10<br>  singleBaseMismatchPenalty: 12<br>  gapExtensionPenalties: 1,0<br>  minUnitigMappingQuality: 1<br>filterCalls: <br>  maxIntraClusterDistance: 500<br>  minSVSize: 50<br>  minUnitigMappingQuality: 10<br>  minUnitigBlockLength: 15<br>  svtype: DEL<br>",
          "makeCalls.gapOpenPenalties: 5,20<br><br>makeRegions: <br>  slop: 250<br>  minCoverage: 5<br>  maxCoverage: 200<br>  maxRegionLength: 100000<br>  minRepeatPeriod: 6<br>  minRepeatLength: 100<br>  functionalRegions: none<br>  genomeBuild: hg38<br>  overlappedFunctionalRegions: false<br>makeCalls: <br>  singleBaseMatchReward: 10<br>  singleBaseMismatchPenalty: 12<br>  gapExtensionPenalties: 1,0<br>  minUnitigMappingQuality: 1<br>filterCalls: <br>  maxIntraClusterDistance: 500<br>  minSVSize: 50<br>  minUnitigMappingQuality: 10<br>  minUnitigBlockLength: 25<br>  svtype: DEL<br>",
          "makeCalls.gapOpenPenalties: 5,20<br><br>makeRegions: <br>  slop: 250<br>  minCoverage: 5<br>  maxCoverage: 200<br>  maxRegionLength: 100000<br>  minRepeatPeriod: 6<br>  minRepeatLength: 100<br>  functionalRegions: none<br>  genomeBuild: hg38<br>  overlappedFunctionalRegions: false<br>makeCalls: <br>  singleBaseMatchReward: 10<br>  singleBaseMismatchPenalty: 12<br>  gapExtensionPenalties: 1,0<br>  minUnitigMappingQuality: 1<br>filterCalls: <br>  maxIntraClusterDistance: 500<br>  minSVSize: 50<br>  minUnitigMappingQuality: 10<br>  minUnitigBlockLength: 40<br>  svtype: DEL<br>",
          "makeCalls.gapOpenPenalties: 6,26<br><br>makeRegions: <br>  slop: 250<br>  minCoverage: 5<br>  maxCoverage: 200<br>  maxRegionLength: 100000<br>  minRepeatPeriod: 6<br>  minRepeatLength: 100<br>  functionalRegions: none<br>  genomeBuild: hg38<br>  overlappedFunctionalRegions: false<br>makeCalls: <br>  singleBaseMatchReward: 10<br>  singleBaseMismatchPenalty: 12<br>  gapExtensionPenalties: 1,0<br>  minUnitigMappingQuality: 1<br>filterCalls: <br>  maxIntraClusterDistance: 500<br>  minSVSize: 50<br>  minUnitigMappingQuality: 0<br>  minUnitigBlockLength: 15<br>  svtype: DEL<br>",
          "makeCalls.gapOpenPenalties: 6,26<br><br>makeRegions: <br>  slop: 250<br>  minCoverage: 5<br>  maxCoverage: 200<br>  maxRegionLength: 100000<br>  minRepeatPeriod: 6<br>  minRepeatLength: 100<br>  functionalRegions: none<br>  genomeBuild: hg38<br>  overlappedFunctionalRegions: false<br>makeCalls: <br>  singleBaseMatchReward: 10<br>  singleBaseMismatchPenalty: 12<br>  gapExtensionPenalties: 1,0<br>  minUnitigMappingQuality: 1<br>filterCalls: <br>  maxIntraClusterDistance: 500<br>  minSVSize: 50<br>  minUnitigMappingQuality: 0<br>  minUnitigBlockLength: 25<br>  svtype: DEL<br>",
          "makeCalls.gapOpenPenalties: 6,26<br><br>makeRegions: <br>  slop: 250<br>  minCoverage: 5<br>  maxCoverage: 200<br>  maxRegionLength: 100000<br>  minRepeatPeriod: 6<br>  minRepeatLength: 100<br>  functionalRegions: none<br>  genomeBuild: hg38<br>  overlappedFunctionalRegions: false<br>makeCalls: <br>  singleBaseMatchReward: 10<br>  singleBaseMismatchPenalty: 12<br>  gapExtensionPenalties: 1,0<br>  minUnitigMappingQuality: 1<br>filterCalls: <br>  maxIntraClusterDistance: 500<br>  minSVSize: 50<br>  minUnitigMappingQuality: 0<br>  minUnitigBlockLength: 40<br>  svtype: DEL<br>",
          "makeCalls.gapOpenPenalties: 6,26<br><br>makeRegions: <br>  slop: 250<br>  minCoverage: 5<br>  maxCoverage: 200<br>  maxRegionLength: 100000<br>  minRepeatPeriod: 6<br>  minRepeatLength: 100<br>  functionalRegions: none<br>  genomeBuild: hg38<br>  overlappedFunctionalRegions: false<br>makeCalls: <br>  singleBaseMatchReward: 10<br>  singleBaseMismatchPenalty: 12<br>  gapExtensionPenalties: 1,0<br>  minUnitigMappingQuality: 1<br>filterCalls: <br>  maxIntraClusterDistance: 500<br>  minSVSize: 50<br>  minUnitigMappingQuality: 10<br>  minUnitigBlockLength: 15<br>  svtype: DEL<br>",
          "makeCalls.gapOpenPenalties: 6,26<br><br>makeRegions: <br>  slop: 250<br>  minCoverage: 5<br>  maxCoverage: 200<br>  maxRegionLength: 100000<br>  minRepeatPeriod: 6<br>  minRepeatLength: 100<br>  functionalRegions: none<br>  genomeBuild: hg38<br>  overlappedFunctionalRegions: false<br>makeCalls: <br>  singleBaseMatchReward: 10<br>  singleBaseMismatchPenalty: 12<br>  gapExtensionPenalties: 1,0<br>  minUnitigMappingQuality: 1<br>filterCalls: <br>  maxIntraClusterDistance: 500<br>  minSVSize: 50<br>  minUnitigMappingQuality: 10<br>  minUnitigBlockLength: 25<br>  svtype: DEL<br>",
          "makeCalls.gapOpenPenalties: 6,26<br><br>makeRegions: <br>  slop: 250<br>  minCoverage: 5<br>  maxCoverage: 200<br>  maxRegionLength: 100000<br>  minRepeatPeriod: 6<br>  minRepeatLength: 100<br>  functionalRegions: none<br>  genomeBuild: hg38<br>  overlappedFunctionalRegions: false<br>makeCalls: <br>  singleBaseMatchReward: 10<br>  singleBaseMismatchPenalty: 12<br>  gapExtensionPenalties: 1,0<br>  minUnitigMappingQuality: 1<br>filterCalls: <br>  maxIntraClusterDistance: 500<br>  minSVSize: 50<br>  minUnitigMappingQuality: 10<br>  minUnitigBlockLength: 40<br>  svtype: DEL<br>"
         ],
         "type": "scatter",
         "x": [
          0.7502321262766946,
          0.7400185701021356,
          0.6861652739090065,
          0.7316620241411328,
          0.7168059424326834,
          0.6601671309192201,
          0.7493036211699164,
          0.7251624883936861,
          0.6601671309192201,
          0.7298050139275766,
          0.7038068709377902,
          0.6555246053853296,
          0.7483751160631383,
          0.7372330547818013,
          0.6787372330547818,
          0.7298050139275766,
          0.7158774373259053,
          0.6610956360259982,
          0.7570888468809074,
          0.7400756143667296,
          0.6918714555765595,
          0.7400756143667296,
          0.723062381852552,
          0.6635160680529301,
          0.7476370510396976,
          0.7306238185255198,
          0.668241965973535,
          0.7296786389413988,
          0.7041587901701323,
          0.6550094517958412,
          0.7599243856332704,
          0.7438563327032136,
          0.6843100189035917,
          0.7362948960302458,
          0.719281663516068,
          0.6587901701323251,
          0.7509328358208955,
          0.7388059701492538,
          0.6902985074626866,
          0.7322761194029851,
          0.7210820895522388,
          0.667910447761194,
          0.7509328358208955,
          0.7294776119402985,
          0.6660447761194029,
          0.7210820895522388,
          0.7089552238805971,
          0.6539179104477612,
          0.7546641791044776,
          0.7388059701492538,
          0.6772388059701493,
          0.7322761194029851,
          0.7173507462686567,
          0.6585820895522388
         ],
         "y": [
          0.21051128249071693,
          0.19708654670094258,
          0.168808911739503,
          0.1890888317623536,
          0.17937732076549556,
          0.1548129105969723,
          0.23821765209940018,
          0.21051128249071693,
          0.16938017709225936,
          0.21308197657812053,
          0.1919451585261354,
          0.15709797200799772,
          0.21165381319622964,
          0.19622964867180806,
          0.1650956869465867,
          0.19108826049700087,
          0.17680662667809197,
          0.1522422165095687,
          0.21856465005931197,
          0.20195729537366547,
          0.17467378410438908,
          0.19483985765124556,
          0.185349940688019,
          0.15984578884934758,
          0.2443653618030842,
          0.21826809015421114,
          0.17734282325029657,
          0.2215302491103203,
          0.19869513641755635,
          0.16221826809015422,
          0.22034400948991698,
          0.2022538552787663,
          0.1708185053380783,
          0.2001779359430605,
          0.18623962040332148,
          0.15954922894424675,
          0.21532211259431225,
          0.2016831108531631,
          0.1688914683691236,
          0.19413813116656994,
          0.1804991294254208,
          0.15525246662797446,
          0.2431804991294254,
          0.21242019733023795,
          0.17295414973882764,
          0.21735345327916425,
          0.1947185142193848,
          0.16018572257690075,
          0.21532211259431225,
          0.1976204294834591,
          0.16627974463145676,
          0.19210679048171794,
          0.1796285548461985,
          0.1575739988392339
         ]
        }
       ],
       "layout": {
        "template": {
         "data": {
          "bar": [
           {
            "error_x": {
             "color": "#2a3f5f"
            },
            "error_y": {
             "color": "#2a3f5f"
            },
            "marker": {
             "line": {
              "color": "#E5ECF6",
              "width": 0.5
             }
            },
            "type": "bar"
           }
          ],
          "barpolar": [
           {
            "marker": {
             "line": {
              "color": "#E5ECF6",
              "width": 0.5
             }
            },
            "type": "barpolar"
           }
          ],
          "carpet": [
           {
            "aaxis": {
             "endlinecolor": "#2a3f5f",
             "gridcolor": "white",
             "linecolor": "white",
             "minorgridcolor": "white",
             "startlinecolor": "#2a3f5f"
            },
            "baxis": {
             "endlinecolor": "#2a3f5f",
             "gridcolor": "white",
             "linecolor": "white",
             "minorgridcolor": "white",
             "startlinecolor": "#2a3f5f"
            },
            "type": "carpet"
           }
          ],
          "choropleth": [
           {
            "colorbar": {
             "outlinewidth": 0,
             "ticks": ""
            },
            "type": "choropleth"
           }
          ],
          "contour": [
           {
            "colorbar": {
             "outlinewidth": 0,
             "ticks": ""
            },
            "colorscale": [
             [
              0,
              "#0d0887"
             ],
             [
              0.1111111111111111,
              "#46039f"
             ],
             [
              0.2222222222222222,
              "#7201a8"
             ],
             [
              0.3333333333333333,
              "#9c179e"
             ],
             [
              0.4444444444444444,
              "#bd3786"
             ],
             [
              0.5555555555555556,
              "#d8576b"
             ],
             [
              0.6666666666666666,
              "#ed7953"
             ],
             [
              0.7777777777777778,
              "#fb9f3a"
             ],
             [
              0.8888888888888888,
              "#fdca26"
             ],
             [
              1,
              "#f0f921"
             ]
            ],
            "type": "contour"
           }
          ],
          "contourcarpet": [
           {
            "colorbar": {
             "outlinewidth": 0,
             "ticks": ""
            },
            "type": "contourcarpet"
           }
          ],
          "heatmap": [
           {
            "colorbar": {
             "outlinewidth": 0,
             "ticks": ""
            },
            "colorscale": [
             [
              0,
              "#0d0887"
             ],
             [
              0.1111111111111111,
              "#46039f"
             ],
             [
              0.2222222222222222,
              "#7201a8"
             ],
             [
              0.3333333333333333,
              "#9c179e"
             ],
             [
              0.4444444444444444,
              "#bd3786"
             ],
             [
              0.5555555555555556,
              "#d8576b"
             ],
             [
              0.6666666666666666,
              "#ed7953"
             ],
             [
              0.7777777777777778,
              "#fb9f3a"
             ],
             [
              0.8888888888888888,
              "#fdca26"
             ],
             [
              1,
              "#f0f921"
             ]
            ],
            "type": "heatmap"
           }
          ],
          "heatmapgl": [
           {
            "colorbar": {
             "outlinewidth": 0,
             "ticks": ""
            },
            "colorscale": [
             [
              0,
              "#0d0887"
             ],
             [
              0.1111111111111111,
              "#46039f"
             ],
             [
              0.2222222222222222,
              "#7201a8"
             ],
             [
              0.3333333333333333,
              "#9c179e"
             ],
             [
              0.4444444444444444,
              "#bd3786"
             ],
             [
              0.5555555555555556,
              "#d8576b"
             ],
             [
              0.6666666666666666,
              "#ed7953"
             ],
             [
              0.7777777777777778,
              "#fb9f3a"
             ],
             [
              0.8888888888888888,
              "#fdca26"
             ],
             [
              1,
              "#f0f921"
             ]
            ],
            "type": "heatmapgl"
           }
          ],
          "histogram": [
           {
            "marker": {
             "colorbar": {
              "outlinewidth": 0,
              "ticks": ""
             }
            },
            "type": "histogram"
           }
          ],
          "histogram2d": [
           {
            "colorbar": {
             "outlinewidth": 0,
             "ticks": ""
            },
            "colorscale": [
             [
              0,
              "#0d0887"
             ],
             [
              0.1111111111111111,
              "#46039f"
             ],
             [
              0.2222222222222222,
              "#7201a8"
             ],
             [
              0.3333333333333333,
              "#9c179e"
             ],
             [
              0.4444444444444444,
              "#bd3786"
             ],
             [
              0.5555555555555556,
              "#d8576b"
             ],
             [
              0.6666666666666666,
              "#ed7953"
             ],
             [
              0.7777777777777778,
              "#fb9f3a"
             ],
             [
              0.8888888888888888,
              "#fdca26"
             ],
             [
              1,
              "#f0f921"
             ]
            ],
            "type": "histogram2d"
           }
          ],
          "histogram2dcontour": [
           {
            "colorbar": {
             "outlinewidth": 0,
             "ticks": ""
            },
            "colorscale": [
             [
              0,
              "#0d0887"
             ],
             [
              0.1111111111111111,
              "#46039f"
             ],
             [
              0.2222222222222222,
              "#7201a8"
             ],
             [
              0.3333333333333333,
              "#9c179e"
             ],
             [
              0.4444444444444444,
              "#bd3786"
             ],
             [
              0.5555555555555556,
              "#d8576b"
             ],
             [
              0.6666666666666666,
              "#ed7953"
             ],
             [
              0.7777777777777778,
              "#fb9f3a"
             ],
             [
              0.8888888888888888,
              "#fdca26"
             ],
             [
              1,
              "#f0f921"
             ]
            ],
            "type": "histogram2dcontour"
           }
          ],
          "mesh3d": [
           {
            "colorbar": {
             "outlinewidth": 0,
             "ticks": ""
            },
            "type": "mesh3d"
           }
          ],
          "parcoords": [
           {
            "line": {
             "colorbar": {
              "outlinewidth": 0,
              "ticks": ""
             }
            },
            "type": "parcoords"
           }
          ],
          "pie": [
           {
            "automargin": true,
            "type": "pie"
           }
          ],
          "scatter": [
           {
            "marker": {
             "colorbar": {
              "outlinewidth": 0,
              "ticks": ""
             }
            },
            "type": "scatter"
           }
          ],
          "scatter3d": [
           {
            "line": {
             "colorbar": {
              "outlinewidth": 0,
              "ticks": ""
             }
            },
            "marker": {
             "colorbar": {
              "outlinewidth": 0,
              "ticks": ""
             }
            },
            "type": "scatter3d"
           }
          ],
          "scattercarpet": [
           {
            "marker": {
             "colorbar": {
              "outlinewidth": 0,
              "ticks": ""
             }
            },
            "type": "scattercarpet"
           }
          ],
          "scattergeo": [
           {
            "marker": {
             "colorbar": {
              "outlinewidth": 0,
              "ticks": ""
             }
            },
            "type": "scattergeo"
           }
          ],
          "scattergl": [
           {
            "marker": {
             "colorbar": {
              "outlinewidth": 0,
              "ticks": ""
             }
            },
            "type": "scattergl"
           }
          ],
          "scattermapbox": [
           {
            "marker": {
             "colorbar": {
              "outlinewidth": 0,
              "ticks": ""
             }
            },
            "type": "scattermapbox"
           }
          ],
          "scatterpolar": [
           {
            "marker": {
             "colorbar": {
              "outlinewidth": 0,
              "ticks": ""
             }
            },
            "type": "scatterpolar"
           }
          ],
          "scatterpolargl": [
           {
            "marker": {
             "colorbar": {
              "outlinewidth": 0,
              "ticks": ""
             }
            },
            "type": "scatterpolargl"
           }
          ],
          "scatterternary": [
           {
            "marker": {
             "colorbar": {
              "outlinewidth": 0,
              "ticks": ""
             }
            },
            "type": "scatterternary"
           }
          ],
          "surface": [
           {
            "colorbar": {
             "outlinewidth": 0,
             "ticks": ""
            },
            "colorscale": [
             [
              0,
              "#0d0887"
             ],
             [
              0.1111111111111111,
              "#46039f"
             ],
             [
              0.2222222222222222,
              "#7201a8"
             ],
             [
              0.3333333333333333,
              "#9c179e"
             ],
             [
              0.4444444444444444,
              "#bd3786"
             ],
             [
              0.5555555555555556,
              "#d8576b"
             ],
             [
              0.6666666666666666,
              "#ed7953"
             ],
             [
              0.7777777777777778,
              "#fb9f3a"
             ],
             [
              0.8888888888888888,
              "#fdca26"
             ],
             [
              1,
              "#f0f921"
             ]
            ],
            "type": "surface"
           }
          ],
          "table": [
           {
            "cells": {
             "fill": {
              "color": "#EBF0F8"
             },
             "line": {
              "color": "white"
             }
            },
            "header": {
             "fill": {
              "color": "#C8D4E3"
             },
             "line": {
              "color": "white"
             }
            },
            "type": "table"
           }
          ]
         },
         "layout": {
          "annotationdefaults": {
           "arrowcolor": "#2a3f5f",
           "arrowhead": 0,
           "arrowwidth": 1
          },
          "autotypenumbers": "strict",
          "coloraxis": {
           "colorbar": {
            "outlinewidth": 0,
            "ticks": ""
           }
          },
          "colorscale": {
           "diverging": [
            [
             0,
             "#8e0152"
            ],
            [
             0.1,
             "#c51b7d"
            ],
            [
             0.2,
             "#de77ae"
            ],
            [
             0.3,
             "#f1b6da"
            ],
            [
             0.4,
             "#fde0ef"
            ],
            [
             0.5,
             "#f7f7f7"
            ],
            [
             0.6,
             "#e6f5d0"
            ],
            [
             0.7,
             "#b8e186"
            ],
            [
             0.8,
             "#7fbc41"
            ],
            [
             0.9,
             "#4d9221"
            ],
            [
             1,
             "#276419"
            ]
           ],
           "sequential": [
            [
             0,
             "#0d0887"
            ],
            [
             0.1111111111111111,
             "#46039f"
            ],
            [
             0.2222222222222222,
             "#7201a8"
            ],
            [
             0.3333333333333333,
             "#9c179e"
            ],
            [
             0.4444444444444444,
             "#bd3786"
            ],
            [
             0.5555555555555556,
             "#d8576b"
            ],
            [
             0.6666666666666666,
             "#ed7953"
            ],
            [
             0.7777777777777778,
             "#fb9f3a"
            ],
            [
             0.8888888888888888,
             "#fdca26"
            ],
            [
             1,
             "#f0f921"
            ]
           ],
           "sequentialminus": [
            [
             0,
             "#0d0887"
            ],
            [
             0.1111111111111111,
             "#46039f"
            ],
            [
             0.2222222222222222,
             "#7201a8"
            ],
            [
             0.3333333333333333,
             "#9c179e"
            ],
            [
             0.4444444444444444,
             "#bd3786"
            ],
            [
             0.5555555555555556,
             "#d8576b"
            ],
            [
             0.6666666666666666,
             "#ed7953"
            ],
            [
             0.7777777777777778,
             "#fb9f3a"
            ],
            [
             0.8888888888888888,
             "#fdca26"
            ],
            [
             1,
             "#f0f921"
            ]
           ]
          },
          "colorway": [
           "#636efa",
           "#EF553B",
           "#00cc96",
           "#ab63fa",
           "#FFA15A",
           "#19d3f3",
           "#FF6692",
           "#B6E880",
           "#FF97FF",
           "#FECB52"
          ],
          "font": {
           "color": "#2a3f5f"
          },
          "geo": {
           "bgcolor": "white",
           "lakecolor": "white",
           "landcolor": "#E5ECF6",
           "showlakes": true,
           "showland": true,
           "subunitcolor": "white"
          },
          "hoverlabel": {
           "align": "left"
          },
          "hovermode": "closest",
          "mapbox": {
           "style": "light"
          },
          "paper_bgcolor": "white",
          "plot_bgcolor": "#E5ECF6",
          "polar": {
           "angularaxis": {
            "gridcolor": "white",
            "linecolor": "white",
            "ticks": ""
           },
           "bgcolor": "#E5ECF6",
           "radialaxis": {
            "gridcolor": "white",
            "linecolor": "white",
            "ticks": ""
           }
          },
          "scene": {
           "xaxis": {
            "backgroundcolor": "#E5ECF6",
            "gridcolor": "white",
            "gridwidth": 2,
            "linecolor": "white",
            "showbackground": true,
            "ticks": "",
            "zerolinecolor": "white"
           },
           "yaxis": {
            "backgroundcolor": "#E5ECF6",
            "gridcolor": "white",
            "gridwidth": 2,
            "linecolor": "white",
            "showbackground": true,
            "ticks": "",
            "zerolinecolor": "white"
           },
           "zaxis": {
            "backgroundcolor": "#E5ECF6",
            "gridcolor": "white",
            "gridwidth": 2,
            "linecolor": "white",
            "showbackground": true,
            "ticks": "",
            "zerolinecolor": "white"
           }
          },
          "shapedefaults": {
           "line": {
            "color": "#2a3f5f"
           }
          },
          "ternary": {
           "aaxis": {
            "gridcolor": "white",
            "linecolor": "white",
            "ticks": ""
           },
           "baxis": {
            "gridcolor": "white",
            "linecolor": "white",
            "ticks": ""
           },
           "bgcolor": "#E5ECF6",
           "caxis": {
            "gridcolor": "white",
            "linecolor": "white",
            "ticks": ""
           }
          },
          "title": {
           "x": 0.05
          },
          "xaxis": {
           "automargin": true,
           "gridcolor": "white",
           "linecolor": "white",
           "ticks": "",
           "title": {
            "standoff": 15
           },
           "zerolinecolor": "white",
           "zerolinewidth": 2
          },
          "yaxis": {
           "automargin": true,
           "gridcolor": "white",
           "linecolor": "white",
           "ticks": "",
           "title": {
            "standoff": 15
           },
           "zerolinecolor": "white",
           "zerolinewidth": 2
          }
         }
        },
        "xaxis": {
         "title": {
          "text": "fraction of manta TPs recovered by trfermikit"
         }
        },
        "yaxis": {
         "title": {
          "text": "fraction of manta FNs recovered by trfermikit"
         }
        }
       }
      },
      "text/html": [
       "<div>                            <div id=\"70591264-58e1-4f82-bc1e-aca7132018a8\" class=\"plotly-graph-div\" style=\"height:525px; width:100%;\"></div>            <script type=\"text/javascript\">                require([\"plotly\"], function(Plotly) {                    window.PLOTLYENV=window.PLOTLYENV || {};                                    if (document.getElementById(\"70591264-58e1-4f82-bc1e-aca7132018a8\")) {                    Plotly.newPlot(                        \"70591264-58e1-4f82-bc1e-aca7132018a8\",                        [{\"hovertemplate\": \"%{text}\", \"marker\": {\"color\": [2, 2, 2, 2, 2, 2, 0, 0, 0, 0, 0, 0, 1, 1, 1, 1, 1, 1, 2, 2, 2, 2, 2, 2, 0, 0, 0, 0, 0, 0, 1, 1, 1, 1, 1, 1, 2, 2, 2, 2, 2, 2, 0, 0, 0, 0, 0, 0, 1, 1, 1, 1, 1, 1]}, \"mode\": \"markers\", \"text\": [\"makeCalls.gapOpenPenalties: 10,35<br><br>makeRegions: <br>  slop: 250<br>  minCoverage: 0<br>  maxCoverage: 200<br>  maxRegionLength: 100000<br>  minRepeatPeriod: 6<br>  minRepeatLength: 100<br>  functionalRegions: none<br>  genomeBuild: hg38<br>  overlappedFunctionalRegions: false<br>makeCalls: <br>  singleBaseMatchReward: 10<br>  singleBaseMismatchPenalty: 12<br>  gapExtensionPenalties: 1,0<br>  minUnitigMappingQuality: 1<br>filterCalls: <br>  maxIntraClusterDistance: 500<br>  minSVSize: 50<br>  minUnitigMappingQuality: 0<br>  minUnitigBlockLength: 15<br>  svtype: DEL<br>\", \"makeCalls.gapOpenPenalties: 10,35<br><br>makeRegions: <br>  slop: 250<br>  minCoverage: 0<br>  maxCoverage: 200<br>  maxRegionLength: 100000<br>  minRepeatPeriod: 6<br>  minRepeatLength: 100<br>  functionalRegions: none<br>  genomeBuild: hg38<br>  overlappedFunctionalRegions: false<br>makeCalls: <br>  singleBaseMatchReward: 10<br>  singleBaseMismatchPenalty: 12<br>  gapExtensionPenalties: 1,0<br>  minUnitigMappingQuality: 1<br>filterCalls: <br>  maxIntraClusterDistance: 500<br>  minSVSize: 50<br>  minUnitigMappingQuality: 0<br>  minUnitigBlockLength: 25<br>  svtype: DEL<br>\", \"makeCalls.gapOpenPenalties: 10,35<br><br>makeRegions: <br>  slop: 250<br>  minCoverage: 0<br>  maxCoverage: 200<br>  maxRegionLength: 100000<br>  minRepeatPeriod: 6<br>  minRepeatLength: 100<br>  functionalRegions: none<br>  genomeBuild: hg38<br>  overlappedFunctionalRegions: false<br>makeCalls: <br>  singleBaseMatchReward: 10<br>  singleBaseMismatchPenalty: 12<br>  gapExtensionPenalties: 1,0<br>  minUnitigMappingQuality: 1<br>filterCalls: <br>  maxIntraClusterDistance: 500<br>  minSVSize: 50<br>  minUnitigMappingQuality: 0<br>  minUnitigBlockLength: 40<br>  svtype: DEL<br>\", \"makeCalls.gapOpenPenalties: 10,35<br><br>makeRegions: <br>  slop: 250<br>  minCoverage: 0<br>  maxCoverage: 200<br>  maxRegionLength: 100000<br>  minRepeatPeriod: 6<br>  minRepeatLength: 100<br>  functionalRegions: none<br>  genomeBuild: hg38<br>  overlappedFunctionalRegions: false<br>makeCalls: <br>  singleBaseMatchReward: 10<br>  singleBaseMismatchPenalty: 12<br>  gapExtensionPenalties: 1,0<br>  minUnitigMappingQuality: 1<br>filterCalls: <br>  maxIntraClusterDistance: 500<br>  minSVSize: 50<br>  minUnitigMappingQuality: 10<br>  minUnitigBlockLength: 15<br>  svtype: DEL<br>\", \"makeCalls.gapOpenPenalties: 10,35<br><br>makeRegions: <br>  slop: 250<br>  minCoverage: 0<br>  maxCoverage: 200<br>  maxRegionLength: 100000<br>  minRepeatPeriod: 6<br>  minRepeatLength: 100<br>  functionalRegions: none<br>  genomeBuild: hg38<br>  overlappedFunctionalRegions: false<br>makeCalls: <br>  singleBaseMatchReward: 10<br>  singleBaseMismatchPenalty: 12<br>  gapExtensionPenalties: 1,0<br>  minUnitigMappingQuality: 1<br>filterCalls: <br>  maxIntraClusterDistance: 500<br>  minSVSize: 50<br>  minUnitigMappingQuality: 10<br>  minUnitigBlockLength: 25<br>  svtype: DEL<br>\", \"makeCalls.gapOpenPenalties: 10,35<br><br>makeRegions: <br>  slop: 250<br>  minCoverage: 0<br>  maxCoverage: 200<br>  maxRegionLength: 100000<br>  minRepeatPeriod: 6<br>  minRepeatLength: 100<br>  functionalRegions: none<br>  genomeBuild: hg38<br>  overlappedFunctionalRegions: false<br>makeCalls: <br>  singleBaseMatchReward: 10<br>  singleBaseMismatchPenalty: 12<br>  gapExtensionPenalties: 1,0<br>  minUnitigMappingQuality: 1<br>filterCalls: <br>  maxIntraClusterDistance: 500<br>  minSVSize: 50<br>  minUnitigMappingQuality: 10<br>  minUnitigBlockLength: 40<br>  svtype: DEL<br>\", \"makeCalls.gapOpenPenalties: 5,20<br><br>makeRegions: <br>  slop: 250<br>  minCoverage: 0<br>  maxCoverage: 200<br>  maxRegionLength: 100000<br>  minRepeatPeriod: 6<br>  minRepeatLength: 100<br>  functionalRegions: none<br>  genomeBuild: hg38<br>  overlappedFunctionalRegions: false<br>makeCalls: <br>  singleBaseMatchReward: 10<br>  singleBaseMismatchPenalty: 12<br>  gapExtensionPenalties: 1,0<br>  minUnitigMappingQuality: 1<br>filterCalls: <br>  maxIntraClusterDistance: 500<br>  minSVSize: 50<br>  minUnitigMappingQuality: 0<br>  minUnitigBlockLength: 15<br>  svtype: DEL<br>\", \"makeCalls.gapOpenPenalties: 5,20<br><br>makeRegions: <br>  slop: 250<br>  minCoverage: 0<br>  maxCoverage: 200<br>  maxRegionLength: 100000<br>  minRepeatPeriod: 6<br>  minRepeatLength: 100<br>  functionalRegions: none<br>  genomeBuild: hg38<br>  overlappedFunctionalRegions: false<br>makeCalls: <br>  singleBaseMatchReward: 10<br>  singleBaseMismatchPenalty: 12<br>  gapExtensionPenalties: 1,0<br>  minUnitigMappingQuality: 1<br>filterCalls: <br>  maxIntraClusterDistance: 500<br>  minSVSize: 50<br>  minUnitigMappingQuality: 0<br>  minUnitigBlockLength: 25<br>  svtype: DEL<br>\", \"makeCalls.gapOpenPenalties: 5,20<br><br>makeRegions: <br>  slop: 250<br>  minCoverage: 0<br>  maxCoverage: 200<br>  maxRegionLength: 100000<br>  minRepeatPeriod: 6<br>  minRepeatLength: 100<br>  functionalRegions: none<br>  genomeBuild: hg38<br>  overlappedFunctionalRegions: false<br>makeCalls: <br>  singleBaseMatchReward: 10<br>  singleBaseMismatchPenalty: 12<br>  gapExtensionPenalties: 1,0<br>  minUnitigMappingQuality: 1<br>filterCalls: <br>  maxIntraClusterDistance: 500<br>  minSVSize: 50<br>  minUnitigMappingQuality: 0<br>  minUnitigBlockLength: 40<br>  svtype: DEL<br>\", \"makeCalls.gapOpenPenalties: 5,20<br><br>makeRegions: <br>  slop: 250<br>  minCoverage: 0<br>  maxCoverage: 200<br>  maxRegionLength: 100000<br>  minRepeatPeriod: 6<br>  minRepeatLength: 100<br>  functionalRegions: none<br>  genomeBuild: hg38<br>  overlappedFunctionalRegions: false<br>makeCalls: <br>  singleBaseMatchReward: 10<br>  singleBaseMismatchPenalty: 12<br>  gapExtensionPenalties: 1,0<br>  minUnitigMappingQuality: 1<br>filterCalls: <br>  maxIntraClusterDistance: 500<br>  minSVSize: 50<br>  minUnitigMappingQuality: 10<br>  minUnitigBlockLength: 15<br>  svtype: DEL<br>\", \"makeCalls.gapOpenPenalties: 5,20<br><br>makeRegions: <br>  slop: 250<br>  minCoverage: 0<br>  maxCoverage: 200<br>  maxRegionLength: 100000<br>  minRepeatPeriod: 6<br>  minRepeatLength: 100<br>  functionalRegions: none<br>  genomeBuild: hg38<br>  overlappedFunctionalRegions: false<br>makeCalls: <br>  singleBaseMatchReward: 10<br>  singleBaseMismatchPenalty: 12<br>  gapExtensionPenalties: 1,0<br>  minUnitigMappingQuality: 1<br>filterCalls: <br>  maxIntraClusterDistance: 500<br>  minSVSize: 50<br>  minUnitigMappingQuality: 10<br>  minUnitigBlockLength: 25<br>  svtype: DEL<br>\", \"makeCalls.gapOpenPenalties: 5,20<br><br>makeRegions: <br>  slop: 250<br>  minCoverage: 0<br>  maxCoverage: 200<br>  maxRegionLength: 100000<br>  minRepeatPeriod: 6<br>  minRepeatLength: 100<br>  functionalRegions: none<br>  genomeBuild: hg38<br>  overlappedFunctionalRegions: false<br>makeCalls: <br>  singleBaseMatchReward: 10<br>  singleBaseMismatchPenalty: 12<br>  gapExtensionPenalties: 1,0<br>  minUnitigMappingQuality: 1<br>filterCalls: <br>  maxIntraClusterDistance: 500<br>  minSVSize: 50<br>  minUnitigMappingQuality: 10<br>  minUnitigBlockLength: 40<br>  svtype: DEL<br>\", \"makeCalls.gapOpenPenalties: 6,26<br><br>makeRegions: <br>  slop: 250<br>  minCoverage: 0<br>  maxCoverage: 200<br>  maxRegionLength: 100000<br>  minRepeatPeriod: 6<br>  minRepeatLength: 100<br>  functionalRegions: none<br>  genomeBuild: hg38<br>  overlappedFunctionalRegions: false<br>makeCalls: <br>  singleBaseMatchReward: 10<br>  singleBaseMismatchPenalty: 12<br>  gapExtensionPenalties: 1,0<br>  minUnitigMappingQuality: 1<br>filterCalls: <br>  maxIntraClusterDistance: 500<br>  minSVSize: 50<br>  minUnitigMappingQuality: 0<br>  minUnitigBlockLength: 15<br>  svtype: DEL<br>\", \"makeCalls.gapOpenPenalties: 6,26<br><br>makeRegions: <br>  slop: 250<br>  minCoverage: 0<br>  maxCoverage: 200<br>  maxRegionLength: 100000<br>  minRepeatPeriod: 6<br>  minRepeatLength: 100<br>  functionalRegions: none<br>  genomeBuild: hg38<br>  overlappedFunctionalRegions: false<br>makeCalls: <br>  singleBaseMatchReward: 10<br>  singleBaseMismatchPenalty: 12<br>  gapExtensionPenalties: 1,0<br>  minUnitigMappingQuality: 1<br>filterCalls: <br>  maxIntraClusterDistance: 500<br>  minSVSize: 50<br>  minUnitigMappingQuality: 0<br>  minUnitigBlockLength: 25<br>  svtype: DEL<br>\", \"makeCalls.gapOpenPenalties: 6,26<br><br>makeRegions: <br>  slop: 250<br>  minCoverage: 0<br>  maxCoverage: 200<br>  maxRegionLength: 100000<br>  minRepeatPeriod: 6<br>  minRepeatLength: 100<br>  functionalRegions: none<br>  genomeBuild: hg38<br>  overlappedFunctionalRegions: false<br>makeCalls: <br>  singleBaseMatchReward: 10<br>  singleBaseMismatchPenalty: 12<br>  gapExtensionPenalties: 1,0<br>  minUnitigMappingQuality: 1<br>filterCalls: <br>  maxIntraClusterDistance: 500<br>  minSVSize: 50<br>  minUnitigMappingQuality: 0<br>  minUnitigBlockLength: 40<br>  svtype: DEL<br>\", \"makeCalls.gapOpenPenalties: 6,26<br><br>makeRegions: <br>  slop: 250<br>  minCoverage: 0<br>  maxCoverage: 200<br>  maxRegionLength: 100000<br>  minRepeatPeriod: 6<br>  minRepeatLength: 100<br>  functionalRegions: none<br>  genomeBuild: hg38<br>  overlappedFunctionalRegions: false<br>makeCalls: <br>  singleBaseMatchReward: 10<br>  singleBaseMismatchPenalty: 12<br>  gapExtensionPenalties: 1,0<br>  minUnitigMappingQuality: 1<br>filterCalls: <br>  maxIntraClusterDistance: 500<br>  minSVSize: 50<br>  minUnitigMappingQuality: 10<br>  minUnitigBlockLength: 15<br>  svtype: DEL<br>\", \"makeCalls.gapOpenPenalties: 6,26<br><br>makeRegions: <br>  slop: 250<br>  minCoverage: 0<br>  maxCoverage: 200<br>  maxRegionLength: 100000<br>  minRepeatPeriod: 6<br>  minRepeatLength: 100<br>  functionalRegions: none<br>  genomeBuild: hg38<br>  overlappedFunctionalRegions: false<br>makeCalls: <br>  singleBaseMatchReward: 10<br>  singleBaseMismatchPenalty: 12<br>  gapExtensionPenalties: 1,0<br>  minUnitigMappingQuality: 1<br>filterCalls: <br>  maxIntraClusterDistance: 500<br>  minSVSize: 50<br>  minUnitigMappingQuality: 10<br>  minUnitigBlockLength: 25<br>  svtype: DEL<br>\", \"makeCalls.gapOpenPenalties: 6,26<br><br>makeRegions: <br>  slop: 250<br>  minCoverage: 0<br>  maxCoverage: 200<br>  maxRegionLength: 100000<br>  minRepeatPeriod: 6<br>  minRepeatLength: 100<br>  functionalRegions: none<br>  genomeBuild: hg38<br>  overlappedFunctionalRegions: false<br>makeCalls: <br>  singleBaseMatchReward: 10<br>  singleBaseMismatchPenalty: 12<br>  gapExtensionPenalties: 1,0<br>  minUnitigMappingQuality: 1<br>filterCalls: <br>  maxIntraClusterDistance: 500<br>  minSVSize: 50<br>  minUnitigMappingQuality: 10<br>  minUnitigBlockLength: 40<br>  svtype: DEL<br>\", \"makeCalls.gapOpenPenalties: 10,35<br><br>makeRegions: <br>  slop: 250<br>  minCoverage: 10<br>  maxCoverage: 200<br>  maxRegionLength: 100000<br>  minRepeatPeriod: 6<br>  minRepeatLength: 100<br>  functionalRegions: none<br>  genomeBuild: hg38<br>  overlappedFunctionalRegions: false<br>makeCalls: <br>  singleBaseMatchReward: 10<br>  singleBaseMismatchPenalty: 12<br>  gapExtensionPenalties: 1,0<br>  minUnitigMappingQuality: 1<br>filterCalls: <br>  maxIntraClusterDistance: 500<br>  minSVSize: 50<br>  minUnitigMappingQuality: 0<br>  minUnitigBlockLength: 15<br>  svtype: DEL<br>\", \"makeCalls.gapOpenPenalties: 10,35<br><br>makeRegions: <br>  slop: 250<br>  minCoverage: 10<br>  maxCoverage: 200<br>  maxRegionLength: 100000<br>  minRepeatPeriod: 6<br>  minRepeatLength: 100<br>  functionalRegions: none<br>  genomeBuild: hg38<br>  overlappedFunctionalRegions: false<br>makeCalls: <br>  singleBaseMatchReward: 10<br>  singleBaseMismatchPenalty: 12<br>  gapExtensionPenalties: 1,0<br>  minUnitigMappingQuality: 1<br>filterCalls: <br>  maxIntraClusterDistance: 500<br>  minSVSize: 50<br>  minUnitigMappingQuality: 0<br>  minUnitigBlockLength: 25<br>  svtype: DEL<br>\", \"makeCalls.gapOpenPenalties: 10,35<br><br>makeRegions: <br>  slop: 250<br>  minCoverage: 10<br>  maxCoverage: 200<br>  maxRegionLength: 100000<br>  minRepeatPeriod: 6<br>  minRepeatLength: 100<br>  functionalRegions: none<br>  genomeBuild: hg38<br>  overlappedFunctionalRegions: false<br>makeCalls: <br>  singleBaseMatchReward: 10<br>  singleBaseMismatchPenalty: 12<br>  gapExtensionPenalties: 1,0<br>  minUnitigMappingQuality: 1<br>filterCalls: <br>  maxIntraClusterDistance: 500<br>  minSVSize: 50<br>  minUnitigMappingQuality: 0<br>  minUnitigBlockLength: 40<br>  svtype: DEL<br>\", \"makeCalls.gapOpenPenalties: 10,35<br><br>makeRegions: <br>  slop: 250<br>  minCoverage: 10<br>  maxCoverage: 200<br>  maxRegionLength: 100000<br>  minRepeatPeriod: 6<br>  minRepeatLength: 100<br>  functionalRegions: none<br>  genomeBuild: hg38<br>  overlappedFunctionalRegions: false<br>makeCalls: <br>  singleBaseMatchReward: 10<br>  singleBaseMismatchPenalty: 12<br>  gapExtensionPenalties: 1,0<br>  minUnitigMappingQuality: 1<br>filterCalls: <br>  maxIntraClusterDistance: 500<br>  minSVSize: 50<br>  minUnitigMappingQuality: 10<br>  minUnitigBlockLength: 15<br>  svtype: DEL<br>\", \"makeCalls.gapOpenPenalties: 10,35<br><br>makeRegions: <br>  slop: 250<br>  minCoverage: 10<br>  maxCoverage: 200<br>  maxRegionLength: 100000<br>  minRepeatPeriod: 6<br>  minRepeatLength: 100<br>  functionalRegions: none<br>  genomeBuild: hg38<br>  overlappedFunctionalRegions: false<br>makeCalls: <br>  singleBaseMatchReward: 10<br>  singleBaseMismatchPenalty: 12<br>  gapExtensionPenalties: 1,0<br>  minUnitigMappingQuality: 1<br>filterCalls: <br>  maxIntraClusterDistance: 500<br>  minSVSize: 50<br>  minUnitigMappingQuality: 10<br>  minUnitigBlockLength: 25<br>  svtype: DEL<br>\", \"makeCalls.gapOpenPenalties: 10,35<br><br>makeRegions: <br>  slop: 250<br>  minCoverage: 10<br>  maxCoverage: 200<br>  maxRegionLength: 100000<br>  minRepeatPeriod: 6<br>  minRepeatLength: 100<br>  functionalRegions: none<br>  genomeBuild: hg38<br>  overlappedFunctionalRegions: false<br>makeCalls: <br>  singleBaseMatchReward: 10<br>  singleBaseMismatchPenalty: 12<br>  gapExtensionPenalties: 1,0<br>  minUnitigMappingQuality: 1<br>filterCalls: <br>  maxIntraClusterDistance: 500<br>  minSVSize: 50<br>  minUnitigMappingQuality: 10<br>  minUnitigBlockLength: 40<br>  svtype: DEL<br>\", \"makeCalls.gapOpenPenalties: 5,20<br><br>makeRegions: <br>  slop: 250<br>  minCoverage: 10<br>  maxCoverage: 200<br>  maxRegionLength: 100000<br>  minRepeatPeriod: 6<br>  minRepeatLength: 100<br>  functionalRegions: none<br>  genomeBuild: hg38<br>  overlappedFunctionalRegions: false<br>makeCalls: <br>  singleBaseMatchReward: 10<br>  singleBaseMismatchPenalty: 12<br>  gapExtensionPenalties: 1,0<br>  minUnitigMappingQuality: 1<br>filterCalls: <br>  maxIntraClusterDistance: 500<br>  minSVSize: 50<br>  minUnitigMappingQuality: 0<br>  minUnitigBlockLength: 15<br>  svtype: DEL<br>\", \"makeCalls.gapOpenPenalties: 5,20<br><br>makeRegions: <br>  slop: 250<br>  minCoverage: 10<br>  maxCoverage: 200<br>  maxRegionLength: 100000<br>  minRepeatPeriod: 6<br>  minRepeatLength: 100<br>  functionalRegions: none<br>  genomeBuild: hg38<br>  overlappedFunctionalRegions: false<br>makeCalls: <br>  singleBaseMatchReward: 10<br>  singleBaseMismatchPenalty: 12<br>  gapExtensionPenalties: 1,0<br>  minUnitigMappingQuality: 1<br>filterCalls: <br>  maxIntraClusterDistance: 500<br>  minSVSize: 50<br>  minUnitigMappingQuality: 0<br>  minUnitigBlockLength: 25<br>  svtype: DEL<br>\", \"makeCalls.gapOpenPenalties: 5,20<br><br>makeRegions: <br>  slop: 250<br>  minCoverage: 10<br>  maxCoverage: 200<br>  maxRegionLength: 100000<br>  minRepeatPeriod: 6<br>  minRepeatLength: 100<br>  functionalRegions: none<br>  genomeBuild: hg38<br>  overlappedFunctionalRegions: false<br>makeCalls: <br>  singleBaseMatchReward: 10<br>  singleBaseMismatchPenalty: 12<br>  gapExtensionPenalties: 1,0<br>  minUnitigMappingQuality: 1<br>filterCalls: <br>  maxIntraClusterDistance: 500<br>  minSVSize: 50<br>  minUnitigMappingQuality: 0<br>  minUnitigBlockLength: 40<br>  svtype: DEL<br>\", \"makeCalls.gapOpenPenalties: 5,20<br><br>makeRegions: <br>  slop: 250<br>  minCoverage: 10<br>  maxCoverage: 200<br>  maxRegionLength: 100000<br>  minRepeatPeriod: 6<br>  minRepeatLength: 100<br>  functionalRegions: none<br>  genomeBuild: hg38<br>  overlappedFunctionalRegions: false<br>makeCalls: <br>  singleBaseMatchReward: 10<br>  singleBaseMismatchPenalty: 12<br>  gapExtensionPenalties: 1,0<br>  minUnitigMappingQuality: 1<br>filterCalls: <br>  maxIntraClusterDistance: 500<br>  minSVSize: 50<br>  minUnitigMappingQuality: 10<br>  minUnitigBlockLength: 15<br>  svtype: DEL<br>\", \"makeCalls.gapOpenPenalties: 5,20<br><br>makeRegions: <br>  slop: 250<br>  minCoverage: 10<br>  maxCoverage: 200<br>  maxRegionLength: 100000<br>  minRepeatPeriod: 6<br>  minRepeatLength: 100<br>  functionalRegions: none<br>  genomeBuild: hg38<br>  overlappedFunctionalRegions: false<br>makeCalls: <br>  singleBaseMatchReward: 10<br>  singleBaseMismatchPenalty: 12<br>  gapExtensionPenalties: 1,0<br>  minUnitigMappingQuality: 1<br>filterCalls: <br>  maxIntraClusterDistance: 500<br>  minSVSize: 50<br>  minUnitigMappingQuality: 10<br>  minUnitigBlockLength: 25<br>  svtype: DEL<br>\", \"makeCalls.gapOpenPenalties: 5,20<br><br>makeRegions: <br>  slop: 250<br>  minCoverage: 10<br>  maxCoverage: 200<br>  maxRegionLength: 100000<br>  minRepeatPeriod: 6<br>  minRepeatLength: 100<br>  functionalRegions: none<br>  genomeBuild: hg38<br>  overlappedFunctionalRegions: false<br>makeCalls: <br>  singleBaseMatchReward: 10<br>  singleBaseMismatchPenalty: 12<br>  gapExtensionPenalties: 1,0<br>  minUnitigMappingQuality: 1<br>filterCalls: <br>  maxIntraClusterDistance: 500<br>  minSVSize: 50<br>  minUnitigMappingQuality: 10<br>  minUnitigBlockLength: 40<br>  svtype: DEL<br>\", \"makeCalls.gapOpenPenalties: 6,26<br><br>makeRegions: <br>  slop: 250<br>  minCoverage: 10<br>  maxCoverage: 200<br>  maxRegionLength: 100000<br>  minRepeatPeriod: 6<br>  minRepeatLength: 100<br>  functionalRegions: none<br>  genomeBuild: hg38<br>  overlappedFunctionalRegions: false<br>makeCalls: <br>  singleBaseMatchReward: 10<br>  singleBaseMismatchPenalty: 12<br>  gapExtensionPenalties: 1,0<br>  minUnitigMappingQuality: 1<br>filterCalls: <br>  maxIntraClusterDistance: 500<br>  minSVSize: 50<br>  minUnitigMappingQuality: 0<br>  minUnitigBlockLength: 15<br>  svtype: DEL<br>\", \"makeCalls.gapOpenPenalties: 6,26<br><br>makeRegions: <br>  slop: 250<br>  minCoverage: 10<br>  maxCoverage: 200<br>  maxRegionLength: 100000<br>  minRepeatPeriod: 6<br>  minRepeatLength: 100<br>  functionalRegions: none<br>  genomeBuild: hg38<br>  overlappedFunctionalRegions: false<br>makeCalls: <br>  singleBaseMatchReward: 10<br>  singleBaseMismatchPenalty: 12<br>  gapExtensionPenalties: 1,0<br>  minUnitigMappingQuality: 1<br>filterCalls: <br>  maxIntraClusterDistance: 500<br>  minSVSize: 50<br>  minUnitigMappingQuality: 0<br>  minUnitigBlockLength: 25<br>  svtype: DEL<br>\", \"makeCalls.gapOpenPenalties: 6,26<br><br>makeRegions: <br>  slop: 250<br>  minCoverage: 10<br>  maxCoverage: 200<br>  maxRegionLength: 100000<br>  minRepeatPeriod: 6<br>  minRepeatLength: 100<br>  functionalRegions: none<br>  genomeBuild: hg38<br>  overlappedFunctionalRegions: false<br>makeCalls: <br>  singleBaseMatchReward: 10<br>  singleBaseMismatchPenalty: 12<br>  gapExtensionPenalties: 1,0<br>  minUnitigMappingQuality: 1<br>filterCalls: <br>  maxIntraClusterDistance: 500<br>  minSVSize: 50<br>  minUnitigMappingQuality: 0<br>  minUnitigBlockLength: 40<br>  svtype: DEL<br>\", \"makeCalls.gapOpenPenalties: 6,26<br><br>makeRegions: <br>  slop: 250<br>  minCoverage: 10<br>  maxCoverage: 200<br>  maxRegionLength: 100000<br>  minRepeatPeriod: 6<br>  minRepeatLength: 100<br>  functionalRegions: none<br>  genomeBuild: hg38<br>  overlappedFunctionalRegions: false<br>makeCalls: <br>  singleBaseMatchReward: 10<br>  singleBaseMismatchPenalty: 12<br>  gapExtensionPenalties: 1,0<br>  minUnitigMappingQuality: 1<br>filterCalls: <br>  maxIntraClusterDistance: 500<br>  minSVSize: 50<br>  minUnitigMappingQuality: 10<br>  minUnitigBlockLength: 15<br>  svtype: DEL<br>\", \"makeCalls.gapOpenPenalties: 6,26<br><br>makeRegions: <br>  slop: 250<br>  minCoverage: 10<br>  maxCoverage: 200<br>  maxRegionLength: 100000<br>  minRepeatPeriod: 6<br>  minRepeatLength: 100<br>  functionalRegions: none<br>  genomeBuild: hg38<br>  overlappedFunctionalRegions: false<br>makeCalls: <br>  singleBaseMatchReward: 10<br>  singleBaseMismatchPenalty: 12<br>  gapExtensionPenalties: 1,0<br>  minUnitigMappingQuality: 1<br>filterCalls: <br>  maxIntraClusterDistance: 500<br>  minSVSize: 50<br>  minUnitigMappingQuality: 10<br>  minUnitigBlockLength: 25<br>  svtype: DEL<br>\", \"makeCalls.gapOpenPenalties: 6,26<br><br>makeRegions: <br>  slop: 250<br>  minCoverage: 10<br>  maxCoverage: 200<br>  maxRegionLength: 100000<br>  minRepeatPeriod: 6<br>  minRepeatLength: 100<br>  functionalRegions: none<br>  genomeBuild: hg38<br>  overlappedFunctionalRegions: false<br>makeCalls: <br>  singleBaseMatchReward: 10<br>  singleBaseMismatchPenalty: 12<br>  gapExtensionPenalties: 1,0<br>  minUnitigMappingQuality: 1<br>filterCalls: <br>  maxIntraClusterDistance: 500<br>  minSVSize: 50<br>  minUnitigMappingQuality: 10<br>  minUnitigBlockLength: 40<br>  svtype: DEL<br>\", \"makeCalls.gapOpenPenalties: 10,35<br><br>makeRegions: <br>  slop: 250<br>  minCoverage: 5<br>  maxCoverage: 200<br>  maxRegionLength: 100000<br>  minRepeatPeriod: 6<br>  minRepeatLength: 100<br>  functionalRegions: none<br>  genomeBuild: hg38<br>  overlappedFunctionalRegions: false<br>makeCalls: <br>  singleBaseMatchReward: 10<br>  singleBaseMismatchPenalty: 12<br>  gapExtensionPenalties: 1,0<br>  minUnitigMappingQuality: 1<br>filterCalls: <br>  maxIntraClusterDistance: 500<br>  minSVSize: 50<br>  minUnitigMappingQuality: 0<br>  minUnitigBlockLength: 15<br>  svtype: DEL<br>\", \"makeCalls.gapOpenPenalties: 10,35<br><br>makeRegions: <br>  slop: 250<br>  minCoverage: 5<br>  maxCoverage: 200<br>  maxRegionLength: 100000<br>  minRepeatPeriod: 6<br>  minRepeatLength: 100<br>  functionalRegions: none<br>  genomeBuild: hg38<br>  overlappedFunctionalRegions: false<br>makeCalls: <br>  singleBaseMatchReward: 10<br>  singleBaseMismatchPenalty: 12<br>  gapExtensionPenalties: 1,0<br>  minUnitigMappingQuality: 1<br>filterCalls: <br>  maxIntraClusterDistance: 500<br>  minSVSize: 50<br>  minUnitigMappingQuality: 0<br>  minUnitigBlockLength: 25<br>  svtype: DEL<br>\", \"makeCalls.gapOpenPenalties: 10,35<br><br>makeRegions: <br>  slop: 250<br>  minCoverage: 5<br>  maxCoverage: 200<br>  maxRegionLength: 100000<br>  minRepeatPeriod: 6<br>  minRepeatLength: 100<br>  functionalRegions: none<br>  genomeBuild: hg38<br>  overlappedFunctionalRegions: false<br>makeCalls: <br>  singleBaseMatchReward: 10<br>  singleBaseMismatchPenalty: 12<br>  gapExtensionPenalties: 1,0<br>  minUnitigMappingQuality: 1<br>filterCalls: <br>  maxIntraClusterDistance: 500<br>  minSVSize: 50<br>  minUnitigMappingQuality: 0<br>  minUnitigBlockLength: 40<br>  svtype: DEL<br>\", \"makeCalls.gapOpenPenalties: 10,35<br><br>makeRegions: <br>  slop: 250<br>  minCoverage: 5<br>  maxCoverage: 200<br>  maxRegionLength: 100000<br>  minRepeatPeriod: 6<br>  minRepeatLength: 100<br>  functionalRegions: none<br>  genomeBuild: hg38<br>  overlappedFunctionalRegions: false<br>makeCalls: <br>  singleBaseMatchReward: 10<br>  singleBaseMismatchPenalty: 12<br>  gapExtensionPenalties: 1,0<br>  minUnitigMappingQuality: 1<br>filterCalls: <br>  maxIntraClusterDistance: 500<br>  minSVSize: 50<br>  minUnitigMappingQuality: 10<br>  minUnitigBlockLength: 15<br>  svtype: DEL<br>\", \"makeCalls.gapOpenPenalties: 10,35<br><br>makeRegions: <br>  slop: 250<br>  minCoverage: 5<br>  maxCoverage: 200<br>  maxRegionLength: 100000<br>  minRepeatPeriod: 6<br>  minRepeatLength: 100<br>  functionalRegions: none<br>  genomeBuild: hg38<br>  overlappedFunctionalRegions: false<br>makeCalls: <br>  singleBaseMatchReward: 10<br>  singleBaseMismatchPenalty: 12<br>  gapExtensionPenalties: 1,0<br>  minUnitigMappingQuality: 1<br>filterCalls: <br>  maxIntraClusterDistance: 500<br>  minSVSize: 50<br>  minUnitigMappingQuality: 10<br>  minUnitigBlockLength: 25<br>  svtype: DEL<br>\", \"makeCalls.gapOpenPenalties: 10,35<br><br>makeRegions: <br>  slop: 250<br>  minCoverage: 5<br>  maxCoverage: 200<br>  maxRegionLength: 100000<br>  minRepeatPeriod: 6<br>  minRepeatLength: 100<br>  functionalRegions: none<br>  genomeBuild: hg38<br>  overlappedFunctionalRegions: false<br>makeCalls: <br>  singleBaseMatchReward: 10<br>  singleBaseMismatchPenalty: 12<br>  gapExtensionPenalties: 1,0<br>  minUnitigMappingQuality: 1<br>filterCalls: <br>  maxIntraClusterDistance: 500<br>  minSVSize: 50<br>  minUnitigMappingQuality: 10<br>  minUnitigBlockLength: 40<br>  svtype: DEL<br>\", \"makeCalls.gapOpenPenalties: 5,20<br><br>makeRegions: <br>  slop: 250<br>  minCoverage: 5<br>  maxCoverage: 200<br>  maxRegionLength: 100000<br>  minRepeatPeriod: 6<br>  minRepeatLength: 100<br>  functionalRegions: none<br>  genomeBuild: hg38<br>  overlappedFunctionalRegions: false<br>makeCalls: <br>  singleBaseMatchReward: 10<br>  singleBaseMismatchPenalty: 12<br>  gapExtensionPenalties: 1,0<br>  minUnitigMappingQuality: 1<br>filterCalls: <br>  maxIntraClusterDistance: 500<br>  minSVSize: 50<br>  minUnitigMappingQuality: 0<br>  minUnitigBlockLength: 15<br>  svtype: DEL<br>\", \"makeCalls.gapOpenPenalties: 5,20<br><br>makeRegions: <br>  slop: 250<br>  minCoverage: 5<br>  maxCoverage: 200<br>  maxRegionLength: 100000<br>  minRepeatPeriod: 6<br>  minRepeatLength: 100<br>  functionalRegions: none<br>  genomeBuild: hg38<br>  overlappedFunctionalRegions: false<br>makeCalls: <br>  singleBaseMatchReward: 10<br>  singleBaseMismatchPenalty: 12<br>  gapExtensionPenalties: 1,0<br>  minUnitigMappingQuality: 1<br>filterCalls: <br>  maxIntraClusterDistance: 500<br>  minSVSize: 50<br>  minUnitigMappingQuality: 0<br>  minUnitigBlockLength: 25<br>  svtype: DEL<br>\", \"makeCalls.gapOpenPenalties: 5,20<br><br>makeRegions: <br>  slop: 250<br>  minCoverage: 5<br>  maxCoverage: 200<br>  maxRegionLength: 100000<br>  minRepeatPeriod: 6<br>  minRepeatLength: 100<br>  functionalRegions: none<br>  genomeBuild: hg38<br>  overlappedFunctionalRegions: false<br>makeCalls: <br>  singleBaseMatchReward: 10<br>  singleBaseMismatchPenalty: 12<br>  gapExtensionPenalties: 1,0<br>  minUnitigMappingQuality: 1<br>filterCalls: <br>  maxIntraClusterDistance: 500<br>  minSVSize: 50<br>  minUnitigMappingQuality: 0<br>  minUnitigBlockLength: 40<br>  svtype: DEL<br>\", \"makeCalls.gapOpenPenalties: 5,20<br><br>makeRegions: <br>  slop: 250<br>  minCoverage: 5<br>  maxCoverage: 200<br>  maxRegionLength: 100000<br>  minRepeatPeriod: 6<br>  minRepeatLength: 100<br>  functionalRegions: none<br>  genomeBuild: hg38<br>  overlappedFunctionalRegions: false<br>makeCalls: <br>  singleBaseMatchReward: 10<br>  singleBaseMismatchPenalty: 12<br>  gapExtensionPenalties: 1,0<br>  minUnitigMappingQuality: 1<br>filterCalls: <br>  maxIntraClusterDistance: 500<br>  minSVSize: 50<br>  minUnitigMappingQuality: 10<br>  minUnitigBlockLength: 15<br>  svtype: DEL<br>\", \"makeCalls.gapOpenPenalties: 5,20<br><br>makeRegions: <br>  slop: 250<br>  minCoverage: 5<br>  maxCoverage: 200<br>  maxRegionLength: 100000<br>  minRepeatPeriod: 6<br>  minRepeatLength: 100<br>  functionalRegions: none<br>  genomeBuild: hg38<br>  overlappedFunctionalRegions: false<br>makeCalls: <br>  singleBaseMatchReward: 10<br>  singleBaseMismatchPenalty: 12<br>  gapExtensionPenalties: 1,0<br>  minUnitigMappingQuality: 1<br>filterCalls: <br>  maxIntraClusterDistance: 500<br>  minSVSize: 50<br>  minUnitigMappingQuality: 10<br>  minUnitigBlockLength: 25<br>  svtype: DEL<br>\", \"makeCalls.gapOpenPenalties: 5,20<br><br>makeRegions: <br>  slop: 250<br>  minCoverage: 5<br>  maxCoverage: 200<br>  maxRegionLength: 100000<br>  minRepeatPeriod: 6<br>  minRepeatLength: 100<br>  functionalRegions: none<br>  genomeBuild: hg38<br>  overlappedFunctionalRegions: false<br>makeCalls: <br>  singleBaseMatchReward: 10<br>  singleBaseMismatchPenalty: 12<br>  gapExtensionPenalties: 1,0<br>  minUnitigMappingQuality: 1<br>filterCalls: <br>  maxIntraClusterDistance: 500<br>  minSVSize: 50<br>  minUnitigMappingQuality: 10<br>  minUnitigBlockLength: 40<br>  svtype: DEL<br>\", \"makeCalls.gapOpenPenalties: 6,26<br><br>makeRegions: <br>  slop: 250<br>  minCoverage: 5<br>  maxCoverage: 200<br>  maxRegionLength: 100000<br>  minRepeatPeriod: 6<br>  minRepeatLength: 100<br>  functionalRegions: none<br>  genomeBuild: hg38<br>  overlappedFunctionalRegions: false<br>makeCalls: <br>  singleBaseMatchReward: 10<br>  singleBaseMismatchPenalty: 12<br>  gapExtensionPenalties: 1,0<br>  minUnitigMappingQuality: 1<br>filterCalls: <br>  maxIntraClusterDistance: 500<br>  minSVSize: 50<br>  minUnitigMappingQuality: 0<br>  minUnitigBlockLength: 15<br>  svtype: DEL<br>\", \"makeCalls.gapOpenPenalties: 6,26<br><br>makeRegions: <br>  slop: 250<br>  minCoverage: 5<br>  maxCoverage: 200<br>  maxRegionLength: 100000<br>  minRepeatPeriod: 6<br>  minRepeatLength: 100<br>  functionalRegions: none<br>  genomeBuild: hg38<br>  overlappedFunctionalRegions: false<br>makeCalls: <br>  singleBaseMatchReward: 10<br>  singleBaseMismatchPenalty: 12<br>  gapExtensionPenalties: 1,0<br>  minUnitigMappingQuality: 1<br>filterCalls: <br>  maxIntraClusterDistance: 500<br>  minSVSize: 50<br>  minUnitigMappingQuality: 0<br>  minUnitigBlockLength: 25<br>  svtype: DEL<br>\", \"makeCalls.gapOpenPenalties: 6,26<br><br>makeRegions: <br>  slop: 250<br>  minCoverage: 5<br>  maxCoverage: 200<br>  maxRegionLength: 100000<br>  minRepeatPeriod: 6<br>  minRepeatLength: 100<br>  functionalRegions: none<br>  genomeBuild: hg38<br>  overlappedFunctionalRegions: false<br>makeCalls: <br>  singleBaseMatchReward: 10<br>  singleBaseMismatchPenalty: 12<br>  gapExtensionPenalties: 1,0<br>  minUnitigMappingQuality: 1<br>filterCalls: <br>  maxIntraClusterDistance: 500<br>  minSVSize: 50<br>  minUnitigMappingQuality: 0<br>  minUnitigBlockLength: 40<br>  svtype: DEL<br>\", \"makeCalls.gapOpenPenalties: 6,26<br><br>makeRegions: <br>  slop: 250<br>  minCoverage: 5<br>  maxCoverage: 200<br>  maxRegionLength: 100000<br>  minRepeatPeriod: 6<br>  minRepeatLength: 100<br>  functionalRegions: none<br>  genomeBuild: hg38<br>  overlappedFunctionalRegions: false<br>makeCalls: <br>  singleBaseMatchReward: 10<br>  singleBaseMismatchPenalty: 12<br>  gapExtensionPenalties: 1,0<br>  minUnitigMappingQuality: 1<br>filterCalls: <br>  maxIntraClusterDistance: 500<br>  minSVSize: 50<br>  minUnitigMappingQuality: 10<br>  minUnitigBlockLength: 15<br>  svtype: DEL<br>\", \"makeCalls.gapOpenPenalties: 6,26<br><br>makeRegions: <br>  slop: 250<br>  minCoverage: 5<br>  maxCoverage: 200<br>  maxRegionLength: 100000<br>  minRepeatPeriod: 6<br>  minRepeatLength: 100<br>  functionalRegions: none<br>  genomeBuild: hg38<br>  overlappedFunctionalRegions: false<br>makeCalls: <br>  singleBaseMatchReward: 10<br>  singleBaseMismatchPenalty: 12<br>  gapExtensionPenalties: 1,0<br>  minUnitigMappingQuality: 1<br>filterCalls: <br>  maxIntraClusterDistance: 500<br>  minSVSize: 50<br>  minUnitigMappingQuality: 10<br>  minUnitigBlockLength: 25<br>  svtype: DEL<br>\", \"makeCalls.gapOpenPenalties: 6,26<br><br>makeRegions: <br>  slop: 250<br>  minCoverage: 5<br>  maxCoverage: 200<br>  maxRegionLength: 100000<br>  minRepeatPeriod: 6<br>  minRepeatLength: 100<br>  functionalRegions: none<br>  genomeBuild: hg38<br>  overlappedFunctionalRegions: false<br>makeCalls: <br>  singleBaseMatchReward: 10<br>  singleBaseMismatchPenalty: 12<br>  gapExtensionPenalties: 1,0<br>  minUnitigMappingQuality: 1<br>filterCalls: <br>  maxIntraClusterDistance: 500<br>  minSVSize: 50<br>  minUnitigMappingQuality: 10<br>  minUnitigBlockLength: 40<br>  svtype: DEL<br>\"], \"type\": \"scatter\", \"x\": [0.7502321262766946, 0.7400185701021356, 0.6861652739090065, 0.7316620241411328, 0.7168059424326834, 0.6601671309192201, 0.7493036211699164, 0.7251624883936861, 0.6601671309192201, 0.7298050139275766, 0.7038068709377902, 0.6555246053853296, 0.7483751160631383, 0.7372330547818013, 0.6787372330547818, 0.7298050139275766, 0.7158774373259053, 0.6610956360259982, 0.7570888468809074, 0.7400756143667296, 0.6918714555765595, 0.7400756143667296, 0.723062381852552, 0.6635160680529301, 0.7476370510396976, 0.7306238185255198, 0.668241965973535, 0.7296786389413988, 0.7041587901701323, 0.6550094517958412, 0.7599243856332704, 0.7438563327032136, 0.6843100189035917, 0.7362948960302458, 0.719281663516068, 0.6587901701323251, 0.7509328358208955, 0.7388059701492538, 0.6902985074626866, 0.7322761194029851, 0.7210820895522388, 0.667910447761194, 0.7509328358208955, 0.7294776119402985, 0.6660447761194029, 0.7210820895522388, 0.7089552238805971, 0.6539179104477612, 0.7546641791044776, 0.7388059701492538, 0.6772388059701493, 0.7322761194029851, 0.7173507462686567, 0.6585820895522388], \"y\": [0.21051128249071693, 0.19708654670094258, 0.168808911739503, 0.1890888317623536, 0.17937732076549556, 0.1548129105969723, 0.23821765209940018, 0.21051128249071693, 0.16938017709225936, 0.21308197657812053, 0.1919451585261354, 0.15709797200799772, 0.21165381319622964, 0.19622964867180806, 0.1650956869465867, 0.19108826049700087, 0.17680662667809197, 0.1522422165095687, 0.21856465005931197, 0.20195729537366547, 0.17467378410438908, 0.19483985765124556, 0.185349940688019, 0.15984578884934758, 0.2443653618030842, 0.21826809015421114, 0.17734282325029657, 0.2215302491103203, 0.19869513641755635, 0.16221826809015422, 0.22034400948991698, 0.2022538552787663, 0.1708185053380783, 0.2001779359430605, 0.18623962040332148, 0.15954922894424675, 0.21532211259431225, 0.2016831108531631, 0.1688914683691236, 0.19413813116656994, 0.1804991294254208, 0.15525246662797446, 0.2431804991294254, 0.21242019733023795, 0.17295414973882764, 0.21735345327916425, 0.1947185142193848, 0.16018572257690075, 0.21532211259431225, 0.1976204294834591, 0.16627974463145676, 0.19210679048171794, 0.1796285548461985, 0.1575739988392339]}],                        {\"template\": {\"data\": {\"bar\": [{\"error_x\": {\"color\": \"#2a3f5f\"}, \"error_y\": {\"color\": \"#2a3f5f\"}, \"marker\": {\"line\": {\"color\": \"#E5ECF6\", \"width\": 0.5}}, \"type\": \"bar\"}], \"barpolar\": [{\"marker\": {\"line\": {\"color\": \"#E5ECF6\", \"width\": 0.5}}, \"type\": \"barpolar\"}], \"carpet\": [{\"aaxis\": {\"endlinecolor\": \"#2a3f5f\", \"gridcolor\": \"white\", \"linecolor\": \"white\", \"minorgridcolor\": \"white\", \"startlinecolor\": \"#2a3f5f\"}, \"baxis\": {\"endlinecolor\": \"#2a3f5f\", \"gridcolor\": \"white\", \"linecolor\": \"white\", \"minorgridcolor\": \"white\", \"startlinecolor\": \"#2a3f5f\"}, \"type\": \"carpet\"}], \"choropleth\": [{\"colorbar\": {\"outlinewidth\": 0, \"ticks\": \"\"}, \"type\": \"choropleth\"}], \"contour\": [{\"colorbar\": {\"outlinewidth\": 0, \"ticks\": \"\"}, \"colorscale\": [[0.0, \"#0d0887\"], [0.1111111111111111, \"#46039f\"], [0.2222222222222222, \"#7201a8\"], [0.3333333333333333, \"#9c179e\"], [0.4444444444444444, \"#bd3786\"], [0.5555555555555556, \"#d8576b\"], [0.6666666666666666, \"#ed7953\"], [0.7777777777777778, \"#fb9f3a\"], [0.8888888888888888, \"#fdca26\"], [1.0, \"#f0f921\"]], \"type\": \"contour\"}], \"contourcarpet\": [{\"colorbar\": {\"outlinewidth\": 0, \"ticks\": \"\"}, \"type\": \"contourcarpet\"}], \"heatmap\": [{\"colorbar\": {\"outlinewidth\": 0, \"ticks\": \"\"}, \"colorscale\": [[0.0, \"#0d0887\"], [0.1111111111111111, \"#46039f\"], [0.2222222222222222, \"#7201a8\"], [0.3333333333333333, \"#9c179e\"], [0.4444444444444444, \"#bd3786\"], [0.5555555555555556, \"#d8576b\"], [0.6666666666666666, \"#ed7953\"], [0.7777777777777778, \"#fb9f3a\"], [0.8888888888888888, \"#fdca26\"], [1.0, \"#f0f921\"]], \"type\": \"heatmap\"}], \"heatmapgl\": [{\"colorbar\": {\"outlinewidth\": 0, \"ticks\": \"\"}, \"colorscale\": [[0.0, \"#0d0887\"], [0.1111111111111111, \"#46039f\"], [0.2222222222222222, \"#7201a8\"], [0.3333333333333333, \"#9c179e\"], [0.4444444444444444, \"#bd3786\"], [0.5555555555555556, \"#d8576b\"], [0.6666666666666666, \"#ed7953\"], [0.7777777777777778, \"#fb9f3a\"], [0.8888888888888888, \"#fdca26\"], [1.0, \"#f0f921\"]], \"type\": \"heatmapgl\"}], \"histogram\": [{\"marker\": {\"colorbar\": {\"outlinewidth\": 0, \"ticks\": \"\"}}, \"type\": \"histogram\"}], \"histogram2d\": [{\"colorbar\": {\"outlinewidth\": 0, \"ticks\": \"\"}, \"colorscale\": [[0.0, \"#0d0887\"], [0.1111111111111111, \"#46039f\"], [0.2222222222222222, \"#7201a8\"], [0.3333333333333333, \"#9c179e\"], [0.4444444444444444, \"#bd3786\"], [0.5555555555555556, \"#d8576b\"], [0.6666666666666666, \"#ed7953\"], [0.7777777777777778, \"#fb9f3a\"], [0.8888888888888888, \"#fdca26\"], [1.0, \"#f0f921\"]], \"type\": \"histogram2d\"}], \"histogram2dcontour\": [{\"colorbar\": {\"outlinewidth\": 0, \"ticks\": \"\"}, \"colorscale\": [[0.0, \"#0d0887\"], [0.1111111111111111, \"#46039f\"], [0.2222222222222222, \"#7201a8\"], [0.3333333333333333, \"#9c179e\"], [0.4444444444444444, \"#bd3786\"], [0.5555555555555556, \"#d8576b\"], [0.6666666666666666, \"#ed7953\"], [0.7777777777777778, \"#fb9f3a\"], [0.8888888888888888, \"#fdca26\"], [1.0, \"#f0f921\"]], \"type\": \"histogram2dcontour\"}], \"mesh3d\": [{\"colorbar\": {\"outlinewidth\": 0, \"ticks\": \"\"}, \"type\": \"mesh3d\"}], \"parcoords\": [{\"line\": {\"colorbar\": {\"outlinewidth\": 0, \"ticks\": \"\"}}, \"type\": \"parcoords\"}], \"pie\": [{\"automargin\": true, \"type\": \"pie\"}], \"scatter\": [{\"marker\": {\"colorbar\": {\"outlinewidth\": 0, \"ticks\": \"\"}}, \"type\": \"scatter\"}], \"scatter3d\": [{\"line\": {\"colorbar\": {\"outlinewidth\": 0, \"ticks\": \"\"}}, \"marker\": {\"colorbar\": {\"outlinewidth\": 0, \"ticks\": \"\"}}, \"type\": \"scatter3d\"}], \"scattercarpet\": [{\"marker\": {\"colorbar\": {\"outlinewidth\": 0, \"ticks\": \"\"}}, \"type\": \"scattercarpet\"}], \"scattergeo\": [{\"marker\": {\"colorbar\": {\"outlinewidth\": 0, \"ticks\": \"\"}}, \"type\": \"scattergeo\"}], \"scattergl\": [{\"marker\": {\"colorbar\": {\"outlinewidth\": 0, \"ticks\": \"\"}}, \"type\": \"scattergl\"}], \"scattermapbox\": [{\"marker\": {\"colorbar\": {\"outlinewidth\": 0, \"ticks\": \"\"}}, \"type\": \"scattermapbox\"}], \"scatterpolar\": [{\"marker\": {\"colorbar\": {\"outlinewidth\": 0, \"ticks\": \"\"}}, \"type\": \"scatterpolar\"}], \"scatterpolargl\": [{\"marker\": {\"colorbar\": {\"outlinewidth\": 0, \"ticks\": \"\"}}, \"type\": \"scatterpolargl\"}], \"scatterternary\": [{\"marker\": {\"colorbar\": {\"outlinewidth\": 0, \"ticks\": \"\"}}, \"type\": \"scatterternary\"}], \"surface\": [{\"colorbar\": {\"outlinewidth\": 0, \"ticks\": \"\"}, \"colorscale\": [[0.0, \"#0d0887\"], [0.1111111111111111, \"#46039f\"], [0.2222222222222222, \"#7201a8\"], [0.3333333333333333, \"#9c179e\"], [0.4444444444444444, \"#bd3786\"], [0.5555555555555556, \"#d8576b\"], [0.6666666666666666, \"#ed7953\"], [0.7777777777777778, \"#fb9f3a\"], [0.8888888888888888, \"#fdca26\"], [1.0, \"#f0f921\"]], \"type\": \"surface\"}], \"table\": [{\"cells\": {\"fill\": {\"color\": \"#EBF0F8\"}, \"line\": {\"color\": \"white\"}}, \"header\": {\"fill\": {\"color\": \"#C8D4E3\"}, \"line\": {\"color\": \"white\"}}, \"type\": \"table\"}]}, \"layout\": {\"annotationdefaults\": {\"arrowcolor\": \"#2a3f5f\", \"arrowhead\": 0, \"arrowwidth\": 1}, \"autotypenumbers\": \"strict\", \"coloraxis\": {\"colorbar\": {\"outlinewidth\": 0, \"ticks\": \"\"}}, \"colorscale\": {\"diverging\": [[0, \"#8e0152\"], [0.1, \"#c51b7d\"], [0.2, \"#de77ae\"], [0.3, \"#f1b6da\"], [0.4, \"#fde0ef\"], [0.5, \"#f7f7f7\"], [0.6, \"#e6f5d0\"], [0.7, \"#b8e186\"], [0.8, \"#7fbc41\"], [0.9, \"#4d9221\"], [1, \"#276419\"]], \"sequential\": [[0.0, \"#0d0887\"], [0.1111111111111111, \"#46039f\"], [0.2222222222222222, \"#7201a8\"], [0.3333333333333333, \"#9c179e\"], [0.4444444444444444, \"#bd3786\"], [0.5555555555555556, \"#d8576b\"], [0.6666666666666666, \"#ed7953\"], [0.7777777777777778, \"#fb9f3a\"], [0.8888888888888888, \"#fdca26\"], [1.0, \"#f0f921\"]], \"sequentialminus\": [[0.0, \"#0d0887\"], [0.1111111111111111, \"#46039f\"], [0.2222222222222222, \"#7201a8\"], [0.3333333333333333, \"#9c179e\"], [0.4444444444444444, \"#bd3786\"], [0.5555555555555556, \"#d8576b\"], [0.6666666666666666, \"#ed7953\"], [0.7777777777777778, \"#fb9f3a\"], [0.8888888888888888, \"#fdca26\"], [1.0, \"#f0f921\"]]}, \"colorway\": [\"#636efa\", \"#EF553B\", \"#00cc96\", \"#ab63fa\", \"#FFA15A\", \"#19d3f3\", \"#FF6692\", \"#B6E880\", \"#FF97FF\", \"#FECB52\"], \"font\": {\"color\": \"#2a3f5f\"}, \"geo\": {\"bgcolor\": \"white\", \"lakecolor\": \"white\", \"landcolor\": \"#E5ECF6\", \"showlakes\": true, \"showland\": true, \"subunitcolor\": \"white\"}, \"hoverlabel\": {\"align\": \"left\"}, \"hovermode\": \"closest\", \"mapbox\": {\"style\": \"light\"}, \"paper_bgcolor\": \"white\", \"plot_bgcolor\": \"#E5ECF6\", \"polar\": {\"angularaxis\": {\"gridcolor\": \"white\", \"linecolor\": \"white\", \"ticks\": \"\"}, \"bgcolor\": \"#E5ECF6\", \"radialaxis\": {\"gridcolor\": \"white\", \"linecolor\": \"white\", \"ticks\": \"\"}}, \"scene\": {\"xaxis\": {\"backgroundcolor\": \"#E5ECF6\", \"gridcolor\": \"white\", \"gridwidth\": 2, \"linecolor\": \"white\", \"showbackground\": true, \"ticks\": \"\", \"zerolinecolor\": \"white\"}, \"yaxis\": {\"backgroundcolor\": \"#E5ECF6\", \"gridcolor\": \"white\", \"gridwidth\": 2, \"linecolor\": \"white\", \"showbackground\": true, \"ticks\": \"\", \"zerolinecolor\": \"white\"}, \"zaxis\": {\"backgroundcolor\": \"#E5ECF6\", \"gridcolor\": \"white\", \"gridwidth\": 2, \"linecolor\": \"white\", \"showbackground\": true, \"ticks\": \"\", \"zerolinecolor\": \"white\"}}, \"shapedefaults\": {\"line\": {\"color\": \"#2a3f5f\"}}, \"ternary\": {\"aaxis\": {\"gridcolor\": \"white\", \"linecolor\": \"white\", \"ticks\": \"\"}, \"baxis\": {\"gridcolor\": \"white\", \"linecolor\": \"white\", \"ticks\": \"\"}, \"bgcolor\": \"#E5ECF6\", \"caxis\": {\"gridcolor\": \"white\", \"linecolor\": \"white\", \"ticks\": \"\"}}, \"title\": {\"x\": 0.05}, \"xaxis\": {\"automargin\": true, \"gridcolor\": \"white\", \"linecolor\": \"white\", \"ticks\": \"\", \"title\": {\"standoff\": 15}, \"zerolinecolor\": \"white\", \"zerolinewidth\": 2}, \"yaxis\": {\"automargin\": true, \"gridcolor\": \"white\", \"linecolor\": \"white\", \"ticks\": \"\", \"title\": {\"standoff\": 15}, \"zerolinecolor\": \"white\", \"zerolinewidth\": 2}}}, \"xaxis\": {\"title\": {\"text\": \"fraction of manta TPs recovered by trfermikit\"}}, \"yaxis\": {\"title\": {\"text\": \"fraction of manta FNs recovered by trfermikit\"}}},                        {\"responsive\": true}                    ).then(function(){\n",
       "                            \n",
       "var gd = document.getElementById('70591264-58e1-4f82-bc1e-aca7132018a8');\n",
       "var x = new MutationObserver(function (mutations, observer) {{\n",
       "        var display = window.getComputedStyle(gd).display;\n",
       "        if (!display || display === 'none') {{\n",
       "            console.log([gd, 'removed!']);\n",
       "            Plotly.purge(gd);\n",
       "            observer.disconnect();\n",
       "        }}\n",
       "}});\n",
       "\n",
       "// Listen for the removal of the full notebook cells\n",
       "var notebookContainer = gd.closest('#notebook-container');\n",
       "if (notebookContainer) {{\n",
       "    x.observe(notebookContainer, {childList: true});\n",
       "}}\n",
       "\n",
       "// Listen for the clearing of the current output cell\n",
       "var outputEl = gd.closest('.output');\n",
       "if (outputEl) {{\n",
       "    x.observe(outputEl, {childList: true});\n",
       "}}\n",
       "\n",
       "                        })                };                });            </script>        </div>"
      ]
     },
     "metadata": {},
     "output_type": "display_data"
    }
   ],
   "source": [
    "fractions_of_manta_graph(outer_key='makeCalls', inner_key='gapOpenPenalties')"
   ]
  },
  {
   "cell_type": "code",
   "execution_count": 20,
   "metadata": {
    "scrolled": false
   },
   "outputs": [
    {
     "data": {
      "application/vnd.plotly.v1+json": {
       "config": {
        "plotlyServerURL": "https://plot.ly"
       },
       "data": [
        {
         "hovertemplate": "%{text}",
         "marker": {
          "color": [
           15,
           25,
           40,
           15,
           25,
           40,
           15,
           25,
           40,
           15,
           25,
           40,
           15,
           25,
           40,
           15,
           25,
           40,
           15,
           25,
           40,
           15,
           25,
           40,
           15,
           25,
           40,
           15,
           25,
           40,
           15,
           25,
           40,
           15,
           25,
           40,
           15,
           25,
           40,
           15,
           25,
           40,
           15,
           25,
           40,
           15,
           25,
           40,
           15,
           25,
           40,
           15,
           25,
           40
          ]
         },
         "mode": "markers",
         "text": [
          "filterCalls.minUnitigBlockLength: 15<br><br>makeRegions: <br>  slop: 250<br>  minCoverage: 0<br>  maxCoverage: 200<br>  maxRegionLength: 100000<br>  minRepeatPeriod: 6<br>  minRepeatLength: 100<br>  functionalRegions: none<br>  genomeBuild: hg38<br>  overlappedFunctionalRegions: false<br>makeCalls: <br>  singleBaseMatchReward: 10<br>  singleBaseMismatchPenalty: 12<br>  gapOpenPenalties: 10,35<br>  gapExtensionPenalties: 1,0<br>  minUnitigMappingQuality: 1<br>filterCalls: <br>  maxIntraClusterDistance: 500<br>  minSVSize: 50<br>  minUnitigMappingQuality: 0<br>  svtype: DEL<br>",
          "filterCalls.minUnitigBlockLength: 25<br><br>makeRegions: <br>  slop: 250<br>  minCoverage: 0<br>  maxCoverage: 200<br>  maxRegionLength: 100000<br>  minRepeatPeriod: 6<br>  minRepeatLength: 100<br>  functionalRegions: none<br>  genomeBuild: hg38<br>  overlappedFunctionalRegions: false<br>makeCalls: <br>  singleBaseMatchReward: 10<br>  singleBaseMismatchPenalty: 12<br>  gapOpenPenalties: 10,35<br>  gapExtensionPenalties: 1,0<br>  minUnitigMappingQuality: 1<br>filterCalls: <br>  maxIntraClusterDistance: 500<br>  minSVSize: 50<br>  minUnitigMappingQuality: 0<br>  svtype: DEL<br>",
          "filterCalls.minUnitigBlockLength: 40<br><br>makeRegions: <br>  slop: 250<br>  minCoverage: 0<br>  maxCoverage: 200<br>  maxRegionLength: 100000<br>  minRepeatPeriod: 6<br>  minRepeatLength: 100<br>  functionalRegions: none<br>  genomeBuild: hg38<br>  overlappedFunctionalRegions: false<br>makeCalls: <br>  singleBaseMatchReward: 10<br>  singleBaseMismatchPenalty: 12<br>  gapOpenPenalties: 10,35<br>  gapExtensionPenalties: 1,0<br>  minUnitigMappingQuality: 1<br>filterCalls: <br>  maxIntraClusterDistance: 500<br>  minSVSize: 50<br>  minUnitigMappingQuality: 0<br>  svtype: DEL<br>",
          "filterCalls.minUnitigBlockLength: 15<br><br>makeRegions: <br>  slop: 250<br>  minCoverage: 0<br>  maxCoverage: 200<br>  maxRegionLength: 100000<br>  minRepeatPeriod: 6<br>  minRepeatLength: 100<br>  functionalRegions: none<br>  genomeBuild: hg38<br>  overlappedFunctionalRegions: false<br>makeCalls: <br>  singleBaseMatchReward: 10<br>  singleBaseMismatchPenalty: 12<br>  gapOpenPenalties: 10,35<br>  gapExtensionPenalties: 1,0<br>  minUnitigMappingQuality: 1<br>filterCalls: <br>  maxIntraClusterDistance: 500<br>  minSVSize: 50<br>  minUnitigMappingQuality: 10<br>  svtype: DEL<br>",
          "filterCalls.minUnitigBlockLength: 25<br><br>makeRegions: <br>  slop: 250<br>  minCoverage: 0<br>  maxCoverage: 200<br>  maxRegionLength: 100000<br>  minRepeatPeriod: 6<br>  minRepeatLength: 100<br>  functionalRegions: none<br>  genomeBuild: hg38<br>  overlappedFunctionalRegions: false<br>makeCalls: <br>  singleBaseMatchReward: 10<br>  singleBaseMismatchPenalty: 12<br>  gapOpenPenalties: 10,35<br>  gapExtensionPenalties: 1,0<br>  minUnitigMappingQuality: 1<br>filterCalls: <br>  maxIntraClusterDistance: 500<br>  minSVSize: 50<br>  minUnitigMappingQuality: 10<br>  svtype: DEL<br>",
          "filterCalls.minUnitigBlockLength: 40<br><br>makeRegions: <br>  slop: 250<br>  minCoverage: 0<br>  maxCoverage: 200<br>  maxRegionLength: 100000<br>  minRepeatPeriod: 6<br>  minRepeatLength: 100<br>  functionalRegions: none<br>  genomeBuild: hg38<br>  overlappedFunctionalRegions: false<br>makeCalls: <br>  singleBaseMatchReward: 10<br>  singleBaseMismatchPenalty: 12<br>  gapOpenPenalties: 10,35<br>  gapExtensionPenalties: 1,0<br>  minUnitigMappingQuality: 1<br>filterCalls: <br>  maxIntraClusterDistance: 500<br>  minSVSize: 50<br>  minUnitigMappingQuality: 10<br>  svtype: DEL<br>",
          "filterCalls.minUnitigBlockLength: 15<br><br>makeRegions: <br>  slop: 250<br>  minCoverage: 0<br>  maxCoverage: 200<br>  maxRegionLength: 100000<br>  minRepeatPeriod: 6<br>  minRepeatLength: 100<br>  functionalRegions: none<br>  genomeBuild: hg38<br>  overlappedFunctionalRegions: false<br>makeCalls: <br>  singleBaseMatchReward: 10<br>  singleBaseMismatchPenalty: 12<br>  gapOpenPenalties: 5,20<br>  gapExtensionPenalties: 1,0<br>  minUnitigMappingQuality: 1<br>filterCalls: <br>  maxIntraClusterDistance: 500<br>  minSVSize: 50<br>  minUnitigMappingQuality: 0<br>  svtype: DEL<br>",
          "filterCalls.minUnitigBlockLength: 25<br><br>makeRegions: <br>  slop: 250<br>  minCoverage: 0<br>  maxCoverage: 200<br>  maxRegionLength: 100000<br>  minRepeatPeriod: 6<br>  minRepeatLength: 100<br>  functionalRegions: none<br>  genomeBuild: hg38<br>  overlappedFunctionalRegions: false<br>makeCalls: <br>  singleBaseMatchReward: 10<br>  singleBaseMismatchPenalty: 12<br>  gapOpenPenalties: 5,20<br>  gapExtensionPenalties: 1,0<br>  minUnitigMappingQuality: 1<br>filterCalls: <br>  maxIntraClusterDistance: 500<br>  minSVSize: 50<br>  minUnitigMappingQuality: 0<br>  svtype: DEL<br>",
          "filterCalls.minUnitigBlockLength: 40<br><br>makeRegions: <br>  slop: 250<br>  minCoverage: 0<br>  maxCoverage: 200<br>  maxRegionLength: 100000<br>  minRepeatPeriod: 6<br>  minRepeatLength: 100<br>  functionalRegions: none<br>  genomeBuild: hg38<br>  overlappedFunctionalRegions: false<br>makeCalls: <br>  singleBaseMatchReward: 10<br>  singleBaseMismatchPenalty: 12<br>  gapOpenPenalties: 5,20<br>  gapExtensionPenalties: 1,0<br>  minUnitigMappingQuality: 1<br>filterCalls: <br>  maxIntraClusterDistance: 500<br>  minSVSize: 50<br>  minUnitigMappingQuality: 0<br>  svtype: DEL<br>",
          "filterCalls.minUnitigBlockLength: 15<br><br>makeRegions: <br>  slop: 250<br>  minCoverage: 0<br>  maxCoverage: 200<br>  maxRegionLength: 100000<br>  minRepeatPeriod: 6<br>  minRepeatLength: 100<br>  functionalRegions: none<br>  genomeBuild: hg38<br>  overlappedFunctionalRegions: false<br>makeCalls: <br>  singleBaseMatchReward: 10<br>  singleBaseMismatchPenalty: 12<br>  gapOpenPenalties: 5,20<br>  gapExtensionPenalties: 1,0<br>  minUnitigMappingQuality: 1<br>filterCalls: <br>  maxIntraClusterDistance: 500<br>  minSVSize: 50<br>  minUnitigMappingQuality: 10<br>  svtype: DEL<br>",
          "filterCalls.minUnitigBlockLength: 25<br><br>makeRegions: <br>  slop: 250<br>  minCoverage: 0<br>  maxCoverage: 200<br>  maxRegionLength: 100000<br>  minRepeatPeriod: 6<br>  minRepeatLength: 100<br>  functionalRegions: none<br>  genomeBuild: hg38<br>  overlappedFunctionalRegions: false<br>makeCalls: <br>  singleBaseMatchReward: 10<br>  singleBaseMismatchPenalty: 12<br>  gapOpenPenalties: 5,20<br>  gapExtensionPenalties: 1,0<br>  minUnitigMappingQuality: 1<br>filterCalls: <br>  maxIntraClusterDistance: 500<br>  minSVSize: 50<br>  minUnitigMappingQuality: 10<br>  svtype: DEL<br>",
          "filterCalls.minUnitigBlockLength: 40<br><br>makeRegions: <br>  slop: 250<br>  minCoverage: 0<br>  maxCoverage: 200<br>  maxRegionLength: 100000<br>  minRepeatPeriod: 6<br>  minRepeatLength: 100<br>  functionalRegions: none<br>  genomeBuild: hg38<br>  overlappedFunctionalRegions: false<br>makeCalls: <br>  singleBaseMatchReward: 10<br>  singleBaseMismatchPenalty: 12<br>  gapOpenPenalties: 5,20<br>  gapExtensionPenalties: 1,0<br>  minUnitigMappingQuality: 1<br>filterCalls: <br>  maxIntraClusterDistance: 500<br>  minSVSize: 50<br>  minUnitigMappingQuality: 10<br>  svtype: DEL<br>",
          "filterCalls.minUnitigBlockLength: 15<br><br>makeRegions: <br>  slop: 250<br>  minCoverage: 0<br>  maxCoverage: 200<br>  maxRegionLength: 100000<br>  minRepeatPeriod: 6<br>  minRepeatLength: 100<br>  functionalRegions: none<br>  genomeBuild: hg38<br>  overlappedFunctionalRegions: false<br>makeCalls: <br>  singleBaseMatchReward: 10<br>  singleBaseMismatchPenalty: 12<br>  gapOpenPenalties: 6,26<br>  gapExtensionPenalties: 1,0<br>  minUnitigMappingQuality: 1<br>filterCalls: <br>  maxIntraClusterDistance: 500<br>  minSVSize: 50<br>  minUnitigMappingQuality: 0<br>  svtype: DEL<br>",
          "filterCalls.minUnitigBlockLength: 25<br><br>makeRegions: <br>  slop: 250<br>  minCoverage: 0<br>  maxCoverage: 200<br>  maxRegionLength: 100000<br>  minRepeatPeriod: 6<br>  minRepeatLength: 100<br>  functionalRegions: none<br>  genomeBuild: hg38<br>  overlappedFunctionalRegions: false<br>makeCalls: <br>  singleBaseMatchReward: 10<br>  singleBaseMismatchPenalty: 12<br>  gapOpenPenalties: 6,26<br>  gapExtensionPenalties: 1,0<br>  minUnitigMappingQuality: 1<br>filterCalls: <br>  maxIntraClusterDistance: 500<br>  minSVSize: 50<br>  minUnitigMappingQuality: 0<br>  svtype: DEL<br>",
          "filterCalls.minUnitigBlockLength: 40<br><br>makeRegions: <br>  slop: 250<br>  minCoverage: 0<br>  maxCoverage: 200<br>  maxRegionLength: 100000<br>  minRepeatPeriod: 6<br>  minRepeatLength: 100<br>  functionalRegions: none<br>  genomeBuild: hg38<br>  overlappedFunctionalRegions: false<br>makeCalls: <br>  singleBaseMatchReward: 10<br>  singleBaseMismatchPenalty: 12<br>  gapOpenPenalties: 6,26<br>  gapExtensionPenalties: 1,0<br>  minUnitigMappingQuality: 1<br>filterCalls: <br>  maxIntraClusterDistance: 500<br>  minSVSize: 50<br>  minUnitigMappingQuality: 0<br>  svtype: DEL<br>",
          "filterCalls.minUnitigBlockLength: 15<br><br>makeRegions: <br>  slop: 250<br>  minCoverage: 0<br>  maxCoverage: 200<br>  maxRegionLength: 100000<br>  minRepeatPeriod: 6<br>  minRepeatLength: 100<br>  functionalRegions: none<br>  genomeBuild: hg38<br>  overlappedFunctionalRegions: false<br>makeCalls: <br>  singleBaseMatchReward: 10<br>  singleBaseMismatchPenalty: 12<br>  gapOpenPenalties: 6,26<br>  gapExtensionPenalties: 1,0<br>  minUnitigMappingQuality: 1<br>filterCalls: <br>  maxIntraClusterDistance: 500<br>  minSVSize: 50<br>  minUnitigMappingQuality: 10<br>  svtype: DEL<br>",
          "filterCalls.minUnitigBlockLength: 25<br><br>makeRegions: <br>  slop: 250<br>  minCoverage: 0<br>  maxCoverage: 200<br>  maxRegionLength: 100000<br>  minRepeatPeriod: 6<br>  minRepeatLength: 100<br>  functionalRegions: none<br>  genomeBuild: hg38<br>  overlappedFunctionalRegions: false<br>makeCalls: <br>  singleBaseMatchReward: 10<br>  singleBaseMismatchPenalty: 12<br>  gapOpenPenalties: 6,26<br>  gapExtensionPenalties: 1,0<br>  minUnitigMappingQuality: 1<br>filterCalls: <br>  maxIntraClusterDistance: 500<br>  minSVSize: 50<br>  minUnitigMappingQuality: 10<br>  svtype: DEL<br>",
          "filterCalls.minUnitigBlockLength: 40<br><br>makeRegions: <br>  slop: 250<br>  minCoverage: 0<br>  maxCoverage: 200<br>  maxRegionLength: 100000<br>  minRepeatPeriod: 6<br>  minRepeatLength: 100<br>  functionalRegions: none<br>  genomeBuild: hg38<br>  overlappedFunctionalRegions: false<br>makeCalls: <br>  singleBaseMatchReward: 10<br>  singleBaseMismatchPenalty: 12<br>  gapOpenPenalties: 6,26<br>  gapExtensionPenalties: 1,0<br>  minUnitigMappingQuality: 1<br>filterCalls: <br>  maxIntraClusterDistance: 500<br>  minSVSize: 50<br>  minUnitigMappingQuality: 10<br>  svtype: DEL<br>",
          "filterCalls.minUnitigBlockLength: 15<br><br>makeRegions: <br>  slop: 250<br>  minCoverage: 10<br>  maxCoverage: 200<br>  maxRegionLength: 100000<br>  minRepeatPeriod: 6<br>  minRepeatLength: 100<br>  functionalRegions: none<br>  genomeBuild: hg38<br>  overlappedFunctionalRegions: false<br>makeCalls: <br>  singleBaseMatchReward: 10<br>  singleBaseMismatchPenalty: 12<br>  gapOpenPenalties: 10,35<br>  gapExtensionPenalties: 1,0<br>  minUnitigMappingQuality: 1<br>filterCalls: <br>  maxIntraClusterDistance: 500<br>  minSVSize: 50<br>  minUnitigMappingQuality: 0<br>  svtype: DEL<br>",
          "filterCalls.minUnitigBlockLength: 25<br><br>makeRegions: <br>  slop: 250<br>  minCoverage: 10<br>  maxCoverage: 200<br>  maxRegionLength: 100000<br>  minRepeatPeriod: 6<br>  minRepeatLength: 100<br>  functionalRegions: none<br>  genomeBuild: hg38<br>  overlappedFunctionalRegions: false<br>makeCalls: <br>  singleBaseMatchReward: 10<br>  singleBaseMismatchPenalty: 12<br>  gapOpenPenalties: 10,35<br>  gapExtensionPenalties: 1,0<br>  minUnitigMappingQuality: 1<br>filterCalls: <br>  maxIntraClusterDistance: 500<br>  minSVSize: 50<br>  minUnitigMappingQuality: 0<br>  svtype: DEL<br>",
          "filterCalls.minUnitigBlockLength: 40<br><br>makeRegions: <br>  slop: 250<br>  minCoverage: 10<br>  maxCoverage: 200<br>  maxRegionLength: 100000<br>  minRepeatPeriod: 6<br>  minRepeatLength: 100<br>  functionalRegions: none<br>  genomeBuild: hg38<br>  overlappedFunctionalRegions: false<br>makeCalls: <br>  singleBaseMatchReward: 10<br>  singleBaseMismatchPenalty: 12<br>  gapOpenPenalties: 10,35<br>  gapExtensionPenalties: 1,0<br>  minUnitigMappingQuality: 1<br>filterCalls: <br>  maxIntraClusterDistance: 500<br>  minSVSize: 50<br>  minUnitigMappingQuality: 0<br>  svtype: DEL<br>",
          "filterCalls.minUnitigBlockLength: 15<br><br>makeRegions: <br>  slop: 250<br>  minCoverage: 10<br>  maxCoverage: 200<br>  maxRegionLength: 100000<br>  minRepeatPeriod: 6<br>  minRepeatLength: 100<br>  functionalRegions: none<br>  genomeBuild: hg38<br>  overlappedFunctionalRegions: false<br>makeCalls: <br>  singleBaseMatchReward: 10<br>  singleBaseMismatchPenalty: 12<br>  gapOpenPenalties: 10,35<br>  gapExtensionPenalties: 1,0<br>  minUnitigMappingQuality: 1<br>filterCalls: <br>  maxIntraClusterDistance: 500<br>  minSVSize: 50<br>  minUnitigMappingQuality: 10<br>  svtype: DEL<br>",
          "filterCalls.minUnitigBlockLength: 25<br><br>makeRegions: <br>  slop: 250<br>  minCoverage: 10<br>  maxCoverage: 200<br>  maxRegionLength: 100000<br>  minRepeatPeriod: 6<br>  minRepeatLength: 100<br>  functionalRegions: none<br>  genomeBuild: hg38<br>  overlappedFunctionalRegions: false<br>makeCalls: <br>  singleBaseMatchReward: 10<br>  singleBaseMismatchPenalty: 12<br>  gapOpenPenalties: 10,35<br>  gapExtensionPenalties: 1,0<br>  minUnitigMappingQuality: 1<br>filterCalls: <br>  maxIntraClusterDistance: 500<br>  minSVSize: 50<br>  minUnitigMappingQuality: 10<br>  svtype: DEL<br>",
          "filterCalls.minUnitigBlockLength: 40<br><br>makeRegions: <br>  slop: 250<br>  minCoverage: 10<br>  maxCoverage: 200<br>  maxRegionLength: 100000<br>  minRepeatPeriod: 6<br>  minRepeatLength: 100<br>  functionalRegions: none<br>  genomeBuild: hg38<br>  overlappedFunctionalRegions: false<br>makeCalls: <br>  singleBaseMatchReward: 10<br>  singleBaseMismatchPenalty: 12<br>  gapOpenPenalties: 10,35<br>  gapExtensionPenalties: 1,0<br>  minUnitigMappingQuality: 1<br>filterCalls: <br>  maxIntraClusterDistance: 500<br>  minSVSize: 50<br>  minUnitigMappingQuality: 10<br>  svtype: DEL<br>",
          "filterCalls.minUnitigBlockLength: 15<br><br>makeRegions: <br>  slop: 250<br>  minCoverage: 10<br>  maxCoverage: 200<br>  maxRegionLength: 100000<br>  minRepeatPeriod: 6<br>  minRepeatLength: 100<br>  functionalRegions: none<br>  genomeBuild: hg38<br>  overlappedFunctionalRegions: false<br>makeCalls: <br>  singleBaseMatchReward: 10<br>  singleBaseMismatchPenalty: 12<br>  gapOpenPenalties: 5,20<br>  gapExtensionPenalties: 1,0<br>  minUnitigMappingQuality: 1<br>filterCalls: <br>  maxIntraClusterDistance: 500<br>  minSVSize: 50<br>  minUnitigMappingQuality: 0<br>  svtype: DEL<br>",
          "filterCalls.minUnitigBlockLength: 25<br><br>makeRegions: <br>  slop: 250<br>  minCoverage: 10<br>  maxCoverage: 200<br>  maxRegionLength: 100000<br>  minRepeatPeriod: 6<br>  minRepeatLength: 100<br>  functionalRegions: none<br>  genomeBuild: hg38<br>  overlappedFunctionalRegions: false<br>makeCalls: <br>  singleBaseMatchReward: 10<br>  singleBaseMismatchPenalty: 12<br>  gapOpenPenalties: 5,20<br>  gapExtensionPenalties: 1,0<br>  minUnitigMappingQuality: 1<br>filterCalls: <br>  maxIntraClusterDistance: 500<br>  minSVSize: 50<br>  minUnitigMappingQuality: 0<br>  svtype: DEL<br>",
          "filterCalls.minUnitigBlockLength: 40<br><br>makeRegions: <br>  slop: 250<br>  minCoverage: 10<br>  maxCoverage: 200<br>  maxRegionLength: 100000<br>  minRepeatPeriod: 6<br>  minRepeatLength: 100<br>  functionalRegions: none<br>  genomeBuild: hg38<br>  overlappedFunctionalRegions: false<br>makeCalls: <br>  singleBaseMatchReward: 10<br>  singleBaseMismatchPenalty: 12<br>  gapOpenPenalties: 5,20<br>  gapExtensionPenalties: 1,0<br>  minUnitigMappingQuality: 1<br>filterCalls: <br>  maxIntraClusterDistance: 500<br>  minSVSize: 50<br>  minUnitigMappingQuality: 0<br>  svtype: DEL<br>",
          "filterCalls.minUnitigBlockLength: 15<br><br>makeRegions: <br>  slop: 250<br>  minCoverage: 10<br>  maxCoverage: 200<br>  maxRegionLength: 100000<br>  minRepeatPeriod: 6<br>  minRepeatLength: 100<br>  functionalRegions: none<br>  genomeBuild: hg38<br>  overlappedFunctionalRegions: false<br>makeCalls: <br>  singleBaseMatchReward: 10<br>  singleBaseMismatchPenalty: 12<br>  gapOpenPenalties: 5,20<br>  gapExtensionPenalties: 1,0<br>  minUnitigMappingQuality: 1<br>filterCalls: <br>  maxIntraClusterDistance: 500<br>  minSVSize: 50<br>  minUnitigMappingQuality: 10<br>  svtype: DEL<br>",
          "filterCalls.minUnitigBlockLength: 25<br><br>makeRegions: <br>  slop: 250<br>  minCoverage: 10<br>  maxCoverage: 200<br>  maxRegionLength: 100000<br>  minRepeatPeriod: 6<br>  minRepeatLength: 100<br>  functionalRegions: none<br>  genomeBuild: hg38<br>  overlappedFunctionalRegions: false<br>makeCalls: <br>  singleBaseMatchReward: 10<br>  singleBaseMismatchPenalty: 12<br>  gapOpenPenalties: 5,20<br>  gapExtensionPenalties: 1,0<br>  minUnitigMappingQuality: 1<br>filterCalls: <br>  maxIntraClusterDistance: 500<br>  minSVSize: 50<br>  minUnitigMappingQuality: 10<br>  svtype: DEL<br>",
          "filterCalls.minUnitigBlockLength: 40<br><br>makeRegions: <br>  slop: 250<br>  minCoverage: 10<br>  maxCoverage: 200<br>  maxRegionLength: 100000<br>  minRepeatPeriod: 6<br>  minRepeatLength: 100<br>  functionalRegions: none<br>  genomeBuild: hg38<br>  overlappedFunctionalRegions: false<br>makeCalls: <br>  singleBaseMatchReward: 10<br>  singleBaseMismatchPenalty: 12<br>  gapOpenPenalties: 5,20<br>  gapExtensionPenalties: 1,0<br>  minUnitigMappingQuality: 1<br>filterCalls: <br>  maxIntraClusterDistance: 500<br>  minSVSize: 50<br>  minUnitigMappingQuality: 10<br>  svtype: DEL<br>",
          "filterCalls.minUnitigBlockLength: 15<br><br>makeRegions: <br>  slop: 250<br>  minCoverage: 10<br>  maxCoverage: 200<br>  maxRegionLength: 100000<br>  minRepeatPeriod: 6<br>  minRepeatLength: 100<br>  functionalRegions: none<br>  genomeBuild: hg38<br>  overlappedFunctionalRegions: false<br>makeCalls: <br>  singleBaseMatchReward: 10<br>  singleBaseMismatchPenalty: 12<br>  gapOpenPenalties: 6,26<br>  gapExtensionPenalties: 1,0<br>  minUnitigMappingQuality: 1<br>filterCalls: <br>  maxIntraClusterDistance: 500<br>  minSVSize: 50<br>  minUnitigMappingQuality: 0<br>  svtype: DEL<br>",
          "filterCalls.minUnitigBlockLength: 25<br><br>makeRegions: <br>  slop: 250<br>  minCoverage: 10<br>  maxCoverage: 200<br>  maxRegionLength: 100000<br>  minRepeatPeriod: 6<br>  minRepeatLength: 100<br>  functionalRegions: none<br>  genomeBuild: hg38<br>  overlappedFunctionalRegions: false<br>makeCalls: <br>  singleBaseMatchReward: 10<br>  singleBaseMismatchPenalty: 12<br>  gapOpenPenalties: 6,26<br>  gapExtensionPenalties: 1,0<br>  minUnitigMappingQuality: 1<br>filterCalls: <br>  maxIntraClusterDistance: 500<br>  minSVSize: 50<br>  minUnitigMappingQuality: 0<br>  svtype: DEL<br>",
          "filterCalls.minUnitigBlockLength: 40<br><br>makeRegions: <br>  slop: 250<br>  minCoverage: 10<br>  maxCoverage: 200<br>  maxRegionLength: 100000<br>  minRepeatPeriod: 6<br>  minRepeatLength: 100<br>  functionalRegions: none<br>  genomeBuild: hg38<br>  overlappedFunctionalRegions: false<br>makeCalls: <br>  singleBaseMatchReward: 10<br>  singleBaseMismatchPenalty: 12<br>  gapOpenPenalties: 6,26<br>  gapExtensionPenalties: 1,0<br>  minUnitigMappingQuality: 1<br>filterCalls: <br>  maxIntraClusterDistance: 500<br>  minSVSize: 50<br>  minUnitigMappingQuality: 0<br>  svtype: DEL<br>",
          "filterCalls.minUnitigBlockLength: 15<br><br>makeRegions: <br>  slop: 250<br>  minCoverage: 10<br>  maxCoverage: 200<br>  maxRegionLength: 100000<br>  minRepeatPeriod: 6<br>  minRepeatLength: 100<br>  functionalRegions: none<br>  genomeBuild: hg38<br>  overlappedFunctionalRegions: false<br>makeCalls: <br>  singleBaseMatchReward: 10<br>  singleBaseMismatchPenalty: 12<br>  gapOpenPenalties: 6,26<br>  gapExtensionPenalties: 1,0<br>  minUnitigMappingQuality: 1<br>filterCalls: <br>  maxIntraClusterDistance: 500<br>  minSVSize: 50<br>  minUnitigMappingQuality: 10<br>  svtype: DEL<br>",
          "filterCalls.minUnitigBlockLength: 25<br><br>makeRegions: <br>  slop: 250<br>  minCoverage: 10<br>  maxCoverage: 200<br>  maxRegionLength: 100000<br>  minRepeatPeriod: 6<br>  minRepeatLength: 100<br>  functionalRegions: none<br>  genomeBuild: hg38<br>  overlappedFunctionalRegions: false<br>makeCalls: <br>  singleBaseMatchReward: 10<br>  singleBaseMismatchPenalty: 12<br>  gapOpenPenalties: 6,26<br>  gapExtensionPenalties: 1,0<br>  minUnitigMappingQuality: 1<br>filterCalls: <br>  maxIntraClusterDistance: 500<br>  minSVSize: 50<br>  minUnitigMappingQuality: 10<br>  svtype: DEL<br>",
          "filterCalls.minUnitigBlockLength: 40<br><br>makeRegions: <br>  slop: 250<br>  minCoverage: 10<br>  maxCoverage: 200<br>  maxRegionLength: 100000<br>  minRepeatPeriod: 6<br>  minRepeatLength: 100<br>  functionalRegions: none<br>  genomeBuild: hg38<br>  overlappedFunctionalRegions: false<br>makeCalls: <br>  singleBaseMatchReward: 10<br>  singleBaseMismatchPenalty: 12<br>  gapOpenPenalties: 6,26<br>  gapExtensionPenalties: 1,0<br>  minUnitigMappingQuality: 1<br>filterCalls: <br>  maxIntraClusterDistance: 500<br>  minSVSize: 50<br>  minUnitigMappingQuality: 10<br>  svtype: DEL<br>",
          "filterCalls.minUnitigBlockLength: 15<br><br>makeRegions: <br>  slop: 250<br>  minCoverage: 5<br>  maxCoverage: 200<br>  maxRegionLength: 100000<br>  minRepeatPeriod: 6<br>  minRepeatLength: 100<br>  functionalRegions: none<br>  genomeBuild: hg38<br>  overlappedFunctionalRegions: false<br>makeCalls: <br>  singleBaseMatchReward: 10<br>  singleBaseMismatchPenalty: 12<br>  gapOpenPenalties: 10,35<br>  gapExtensionPenalties: 1,0<br>  minUnitigMappingQuality: 1<br>filterCalls: <br>  maxIntraClusterDistance: 500<br>  minSVSize: 50<br>  minUnitigMappingQuality: 0<br>  svtype: DEL<br>",
          "filterCalls.minUnitigBlockLength: 25<br><br>makeRegions: <br>  slop: 250<br>  minCoverage: 5<br>  maxCoverage: 200<br>  maxRegionLength: 100000<br>  minRepeatPeriod: 6<br>  minRepeatLength: 100<br>  functionalRegions: none<br>  genomeBuild: hg38<br>  overlappedFunctionalRegions: false<br>makeCalls: <br>  singleBaseMatchReward: 10<br>  singleBaseMismatchPenalty: 12<br>  gapOpenPenalties: 10,35<br>  gapExtensionPenalties: 1,0<br>  minUnitigMappingQuality: 1<br>filterCalls: <br>  maxIntraClusterDistance: 500<br>  minSVSize: 50<br>  minUnitigMappingQuality: 0<br>  svtype: DEL<br>",
          "filterCalls.minUnitigBlockLength: 40<br><br>makeRegions: <br>  slop: 250<br>  minCoverage: 5<br>  maxCoverage: 200<br>  maxRegionLength: 100000<br>  minRepeatPeriod: 6<br>  minRepeatLength: 100<br>  functionalRegions: none<br>  genomeBuild: hg38<br>  overlappedFunctionalRegions: false<br>makeCalls: <br>  singleBaseMatchReward: 10<br>  singleBaseMismatchPenalty: 12<br>  gapOpenPenalties: 10,35<br>  gapExtensionPenalties: 1,0<br>  minUnitigMappingQuality: 1<br>filterCalls: <br>  maxIntraClusterDistance: 500<br>  minSVSize: 50<br>  minUnitigMappingQuality: 0<br>  svtype: DEL<br>",
          "filterCalls.minUnitigBlockLength: 15<br><br>makeRegions: <br>  slop: 250<br>  minCoverage: 5<br>  maxCoverage: 200<br>  maxRegionLength: 100000<br>  minRepeatPeriod: 6<br>  minRepeatLength: 100<br>  functionalRegions: none<br>  genomeBuild: hg38<br>  overlappedFunctionalRegions: false<br>makeCalls: <br>  singleBaseMatchReward: 10<br>  singleBaseMismatchPenalty: 12<br>  gapOpenPenalties: 10,35<br>  gapExtensionPenalties: 1,0<br>  minUnitigMappingQuality: 1<br>filterCalls: <br>  maxIntraClusterDistance: 500<br>  minSVSize: 50<br>  minUnitigMappingQuality: 10<br>  svtype: DEL<br>",
          "filterCalls.minUnitigBlockLength: 25<br><br>makeRegions: <br>  slop: 250<br>  minCoverage: 5<br>  maxCoverage: 200<br>  maxRegionLength: 100000<br>  minRepeatPeriod: 6<br>  minRepeatLength: 100<br>  functionalRegions: none<br>  genomeBuild: hg38<br>  overlappedFunctionalRegions: false<br>makeCalls: <br>  singleBaseMatchReward: 10<br>  singleBaseMismatchPenalty: 12<br>  gapOpenPenalties: 10,35<br>  gapExtensionPenalties: 1,0<br>  minUnitigMappingQuality: 1<br>filterCalls: <br>  maxIntraClusterDistance: 500<br>  minSVSize: 50<br>  minUnitigMappingQuality: 10<br>  svtype: DEL<br>",
          "filterCalls.minUnitigBlockLength: 40<br><br>makeRegions: <br>  slop: 250<br>  minCoverage: 5<br>  maxCoverage: 200<br>  maxRegionLength: 100000<br>  minRepeatPeriod: 6<br>  minRepeatLength: 100<br>  functionalRegions: none<br>  genomeBuild: hg38<br>  overlappedFunctionalRegions: false<br>makeCalls: <br>  singleBaseMatchReward: 10<br>  singleBaseMismatchPenalty: 12<br>  gapOpenPenalties: 10,35<br>  gapExtensionPenalties: 1,0<br>  minUnitigMappingQuality: 1<br>filterCalls: <br>  maxIntraClusterDistance: 500<br>  minSVSize: 50<br>  minUnitigMappingQuality: 10<br>  svtype: DEL<br>",
          "filterCalls.minUnitigBlockLength: 15<br><br>makeRegions: <br>  slop: 250<br>  minCoverage: 5<br>  maxCoverage: 200<br>  maxRegionLength: 100000<br>  minRepeatPeriod: 6<br>  minRepeatLength: 100<br>  functionalRegions: none<br>  genomeBuild: hg38<br>  overlappedFunctionalRegions: false<br>makeCalls: <br>  singleBaseMatchReward: 10<br>  singleBaseMismatchPenalty: 12<br>  gapOpenPenalties: 5,20<br>  gapExtensionPenalties: 1,0<br>  minUnitigMappingQuality: 1<br>filterCalls: <br>  maxIntraClusterDistance: 500<br>  minSVSize: 50<br>  minUnitigMappingQuality: 0<br>  svtype: DEL<br>",
          "filterCalls.minUnitigBlockLength: 25<br><br>makeRegions: <br>  slop: 250<br>  minCoverage: 5<br>  maxCoverage: 200<br>  maxRegionLength: 100000<br>  minRepeatPeriod: 6<br>  minRepeatLength: 100<br>  functionalRegions: none<br>  genomeBuild: hg38<br>  overlappedFunctionalRegions: false<br>makeCalls: <br>  singleBaseMatchReward: 10<br>  singleBaseMismatchPenalty: 12<br>  gapOpenPenalties: 5,20<br>  gapExtensionPenalties: 1,0<br>  minUnitigMappingQuality: 1<br>filterCalls: <br>  maxIntraClusterDistance: 500<br>  minSVSize: 50<br>  minUnitigMappingQuality: 0<br>  svtype: DEL<br>",
          "filterCalls.minUnitigBlockLength: 40<br><br>makeRegions: <br>  slop: 250<br>  minCoverage: 5<br>  maxCoverage: 200<br>  maxRegionLength: 100000<br>  minRepeatPeriod: 6<br>  minRepeatLength: 100<br>  functionalRegions: none<br>  genomeBuild: hg38<br>  overlappedFunctionalRegions: false<br>makeCalls: <br>  singleBaseMatchReward: 10<br>  singleBaseMismatchPenalty: 12<br>  gapOpenPenalties: 5,20<br>  gapExtensionPenalties: 1,0<br>  minUnitigMappingQuality: 1<br>filterCalls: <br>  maxIntraClusterDistance: 500<br>  minSVSize: 50<br>  minUnitigMappingQuality: 0<br>  svtype: DEL<br>",
          "filterCalls.minUnitigBlockLength: 15<br><br>makeRegions: <br>  slop: 250<br>  minCoverage: 5<br>  maxCoverage: 200<br>  maxRegionLength: 100000<br>  minRepeatPeriod: 6<br>  minRepeatLength: 100<br>  functionalRegions: none<br>  genomeBuild: hg38<br>  overlappedFunctionalRegions: false<br>makeCalls: <br>  singleBaseMatchReward: 10<br>  singleBaseMismatchPenalty: 12<br>  gapOpenPenalties: 5,20<br>  gapExtensionPenalties: 1,0<br>  minUnitigMappingQuality: 1<br>filterCalls: <br>  maxIntraClusterDistance: 500<br>  minSVSize: 50<br>  minUnitigMappingQuality: 10<br>  svtype: DEL<br>",
          "filterCalls.minUnitigBlockLength: 25<br><br>makeRegions: <br>  slop: 250<br>  minCoverage: 5<br>  maxCoverage: 200<br>  maxRegionLength: 100000<br>  minRepeatPeriod: 6<br>  minRepeatLength: 100<br>  functionalRegions: none<br>  genomeBuild: hg38<br>  overlappedFunctionalRegions: false<br>makeCalls: <br>  singleBaseMatchReward: 10<br>  singleBaseMismatchPenalty: 12<br>  gapOpenPenalties: 5,20<br>  gapExtensionPenalties: 1,0<br>  minUnitigMappingQuality: 1<br>filterCalls: <br>  maxIntraClusterDistance: 500<br>  minSVSize: 50<br>  minUnitigMappingQuality: 10<br>  svtype: DEL<br>",
          "filterCalls.minUnitigBlockLength: 40<br><br>makeRegions: <br>  slop: 250<br>  minCoverage: 5<br>  maxCoverage: 200<br>  maxRegionLength: 100000<br>  minRepeatPeriod: 6<br>  minRepeatLength: 100<br>  functionalRegions: none<br>  genomeBuild: hg38<br>  overlappedFunctionalRegions: false<br>makeCalls: <br>  singleBaseMatchReward: 10<br>  singleBaseMismatchPenalty: 12<br>  gapOpenPenalties: 5,20<br>  gapExtensionPenalties: 1,0<br>  minUnitigMappingQuality: 1<br>filterCalls: <br>  maxIntraClusterDistance: 500<br>  minSVSize: 50<br>  minUnitigMappingQuality: 10<br>  svtype: DEL<br>",
          "filterCalls.minUnitigBlockLength: 15<br><br>makeRegions: <br>  slop: 250<br>  minCoverage: 5<br>  maxCoverage: 200<br>  maxRegionLength: 100000<br>  minRepeatPeriod: 6<br>  minRepeatLength: 100<br>  functionalRegions: none<br>  genomeBuild: hg38<br>  overlappedFunctionalRegions: false<br>makeCalls: <br>  singleBaseMatchReward: 10<br>  singleBaseMismatchPenalty: 12<br>  gapOpenPenalties: 6,26<br>  gapExtensionPenalties: 1,0<br>  minUnitigMappingQuality: 1<br>filterCalls: <br>  maxIntraClusterDistance: 500<br>  minSVSize: 50<br>  minUnitigMappingQuality: 0<br>  svtype: DEL<br>",
          "filterCalls.minUnitigBlockLength: 25<br><br>makeRegions: <br>  slop: 250<br>  minCoverage: 5<br>  maxCoverage: 200<br>  maxRegionLength: 100000<br>  minRepeatPeriod: 6<br>  minRepeatLength: 100<br>  functionalRegions: none<br>  genomeBuild: hg38<br>  overlappedFunctionalRegions: false<br>makeCalls: <br>  singleBaseMatchReward: 10<br>  singleBaseMismatchPenalty: 12<br>  gapOpenPenalties: 6,26<br>  gapExtensionPenalties: 1,0<br>  minUnitigMappingQuality: 1<br>filterCalls: <br>  maxIntraClusterDistance: 500<br>  minSVSize: 50<br>  minUnitigMappingQuality: 0<br>  svtype: DEL<br>",
          "filterCalls.minUnitigBlockLength: 40<br><br>makeRegions: <br>  slop: 250<br>  minCoverage: 5<br>  maxCoverage: 200<br>  maxRegionLength: 100000<br>  minRepeatPeriod: 6<br>  minRepeatLength: 100<br>  functionalRegions: none<br>  genomeBuild: hg38<br>  overlappedFunctionalRegions: false<br>makeCalls: <br>  singleBaseMatchReward: 10<br>  singleBaseMismatchPenalty: 12<br>  gapOpenPenalties: 6,26<br>  gapExtensionPenalties: 1,0<br>  minUnitigMappingQuality: 1<br>filterCalls: <br>  maxIntraClusterDistance: 500<br>  minSVSize: 50<br>  minUnitigMappingQuality: 0<br>  svtype: DEL<br>",
          "filterCalls.minUnitigBlockLength: 15<br><br>makeRegions: <br>  slop: 250<br>  minCoverage: 5<br>  maxCoverage: 200<br>  maxRegionLength: 100000<br>  minRepeatPeriod: 6<br>  minRepeatLength: 100<br>  functionalRegions: none<br>  genomeBuild: hg38<br>  overlappedFunctionalRegions: false<br>makeCalls: <br>  singleBaseMatchReward: 10<br>  singleBaseMismatchPenalty: 12<br>  gapOpenPenalties: 6,26<br>  gapExtensionPenalties: 1,0<br>  minUnitigMappingQuality: 1<br>filterCalls: <br>  maxIntraClusterDistance: 500<br>  minSVSize: 50<br>  minUnitigMappingQuality: 10<br>  svtype: DEL<br>",
          "filterCalls.minUnitigBlockLength: 25<br><br>makeRegions: <br>  slop: 250<br>  minCoverage: 5<br>  maxCoverage: 200<br>  maxRegionLength: 100000<br>  minRepeatPeriod: 6<br>  minRepeatLength: 100<br>  functionalRegions: none<br>  genomeBuild: hg38<br>  overlappedFunctionalRegions: false<br>makeCalls: <br>  singleBaseMatchReward: 10<br>  singleBaseMismatchPenalty: 12<br>  gapOpenPenalties: 6,26<br>  gapExtensionPenalties: 1,0<br>  minUnitigMappingQuality: 1<br>filterCalls: <br>  maxIntraClusterDistance: 500<br>  minSVSize: 50<br>  minUnitigMappingQuality: 10<br>  svtype: DEL<br>",
          "filterCalls.minUnitigBlockLength: 40<br><br>makeRegions: <br>  slop: 250<br>  minCoverage: 5<br>  maxCoverage: 200<br>  maxRegionLength: 100000<br>  minRepeatPeriod: 6<br>  minRepeatLength: 100<br>  functionalRegions: none<br>  genomeBuild: hg38<br>  overlappedFunctionalRegions: false<br>makeCalls: <br>  singleBaseMatchReward: 10<br>  singleBaseMismatchPenalty: 12<br>  gapOpenPenalties: 6,26<br>  gapExtensionPenalties: 1,0<br>  minUnitigMappingQuality: 1<br>filterCalls: <br>  maxIntraClusterDistance: 500<br>  minSVSize: 50<br>  minUnitigMappingQuality: 10<br>  svtype: DEL<br>"
         ],
         "type": "scatter",
         "x": [
          0.7502321262766946,
          0.7400185701021356,
          0.6861652739090065,
          0.7316620241411328,
          0.7168059424326834,
          0.6601671309192201,
          0.7493036211699164,
          0.7251624883936861,
          0.6601671309192201,
          0.7298050139275766,
          0.7038068709377902,
          0.6555246053853296,
          0.7483751160631383,
          0.7372330547818013,
          0.6787372330547818,
          0.7298050139275766,
          0.7158774373259053,
          0.6610956360259982,
          0.7570888468809074,
          0.7400756143667296,
          0.6918714555765595,
          0.7400756143667296,
          0.723062381852552,
          0.6635160680529301,
          0.7476370510396976,
          0.7306238185255198,
          0.668241965973535,
          0.7296786389413988,
          0.7041587901701323,
          0.6550094517958412,
          0.7599243856332704,
          0.7438563327032136,
          0.6843100189035917,
          0.7362948960302458,
          0.719281663516068,
          0.6587901701323251,
          0.7509328358208955,
          0.7388059701492538,
          0.6902985074626866,
          0.7322761194029851,
          0.7210820895522388,
          0.667910447761194,
          0.7509328358208955,
          0.7294776119402985,
          0.6660447761194029,
          0.7210820895522388,
          0.7089552238805971,
          0.6539179104477612,
          0.7546641791044776,
          0.7388059701492538,
          0.6772388059701493,
          0.7322761194029851,
          0.7173507462686567,
          0.6585820895522388
         ],
         "y": [
          0.21051128249071693,
          0.19708654670094258,
          0.168808911739503,
          0.1890888317623536,
          0.17937732076549556,
          0.1548129105969723,
          0.23821765209940018,
          0.21051128249071693,
          0.16938017709225936,
          0.21308197657812053,
          0.1919451585261354,
          0.15709797200799772,
          0.21165381319622964,
          0.19622964867180806,
          0.1650956869465867,
          0.19108826049700087,
          0.17680662667809197,
          0.1522422165095687,
          0.21856465005931197,
          0.20195729537366547,
          0.17467378410438908,
          0.19483985765124556,
          0.185349940688019,
          0.15984578884934758,
          0.2443653618030842,
          0.21826809015421114,
          0.17734282325029657,
          0.2215302491103203,
          0.19869513641755635,
          0.16221826809015422,
          0.22034400948991698,
          0.2022538552787663,
          0.1708185053380783,
          0.2001779359430605,
          0.18623962040332148,
          0.15954922894424675,
          0.21532211259431225,
          0.2016831108531631,
          0.1688914683691236,
          0.19413813116656994,
          0.1804991294254208,
          0.15525246662797446,
          0.2431804991294254,
          0.21242019733023795,
          0.17295414973882764,
          0.21735345327916425,
          0.1947185142193848,
          0.16018572257690075,
          0.21532211259431225,
          0.1976204294834591,
          0.16627974463145676,
          0.19210679048171794,
          0.1796285548461985,
          0.1575739988392339
         ]
        }
       ],
       "layout": {
        "template": {
         "data": {
          "bar": [
           {
            "error_x": {
             "color": "#2a3f5f"
            },
            "error_y": {
             "color": "#2a3f5f"
            },
            "marker": {
             "line": {
              "color": "#E5ECF6",
              "width": 0.5
             }
            },
            "type": "bar"
           }
          ],
          "barpolar": [
           {
            "marker": {
             "line": {
              "color": "#E5ECF6",
              "width": 0.5
             }
            },
            "type": "barpolar"
           }
          ],
          "carpet": [
           {
            "aaxis": {
             "endlinecolor": "#2a3f5f",
             "gridcolor": "white",
             "linecolor": "white",
             "minorgridcolor": "white",
             "startlinecolor": "#2a3f5f"
            },
            "baxis": {
             "endlinecolor": "#2a3f5f",
             "gridcolor": "white",
             "linecolor": "white",
             "minorgridcolor": "white",
             "startlinecolor": "#2a3f5f"
            },
            "type": "carpet"
           }
          ],
          "choropleth": [
           {
            "colorbar": {
             "outlinewidth": 0,
             "ticks": ""
            },
            "type": "choropleth"
           }
          ],
          "contour": [
           {
            "colorbar": {
             "outlinewidth": 0,
             "ticks": ""
            },
            "colorscale": [
             [
              0,
              "#0d0887"
             ],
             [
              0.1111111111111111,
              "#46039f"
             ],
             [
              0.2222222222222222,
              "#7201a8"
             ],
             [
              0.3333333333333333,
              "#9c179e"
             ],
             [
              0.4444444444444444,
              "#bd3786"
             ],
             [
              0.5555555555555556,
              "#d8576b"
             ],
             [
              0.6666666666666666,
              "#ed7953"
             ],
             [
              0.7777777777777778,
              "#fb9f3a"
             ],
             [
              0.8888888888888888,
              "#fdca26"
             ],
             [
              1,
              "#f0f921"
             ]
            ],
            "type": "contour"
           }
          ],
          "contourcarpet": [
           {
            "colorbar": {
             "outlinewidth": 0,
             "ticks": ""
            },
            "type": "contourcarpet"
           }
          ],
          "heatmap": [
           {
            "colorbar": {
             "outlinewidth": 0,
             "ticks": ""
            },
            "colorscale": [
             [
              0,
              "#0d0887"
             ],
             [
              0.1111111111111111,
              "#46039f"
             ],
             [
              0.2222222222222222,
              "#7201a8"
             ],
             [
              0.3333333333333333,
              "#9c179e"
             ],
             [
              0.4444444444444444,
              "#bd3786"
             ],
             [
              0.5555555555555556,
              "#d8576b"
             ],
             [
              0.6666666666666666,
              "#ed7953"
             ],
             [
              0.7777777777777778,
              "#fb9f3a"
             ],
             [
              0.8888888888888888,
              "#fdca26"
             ],
             [
              1,
              "#f0f921"
             ]
            ],
            "type": "heatmap"
           }
          ],
          "heatmapgl": [
           {
            "colorbar": {
             "outlinewidth": 0,
             "ticks": ""
            },
            "colorscale": [
             [
              0,
              "#0d0887"
             ],
             [
              0.1111111111111111,
              "#46039f"
             ],
             [
              0.2222222222222222,
              "#7201a8"
             ],
             [
              0.3333333333333333,
              "#9c179e"
             ],
             [
              0.4444444444444444,
              "#bd3786"
             ],
             [
              0.5555555555555556,
              "#d8576b"
             ],
             [
              0.6666666666666666,
              "#ed7953"
             ],
             [
              0.7777777777777778,
              "#fb9f3a"
             ],
             [
              0.8888888888888888,
              "#fdca26"
             ],
             [
              1,
              "#f0f921"
             ]
            ],
            "type": "heatmapgl"
           }
          ],
          "histogram": [
           {
            "marker": {
             "colorbar": {
              "outlinewidth": 0,
              "ticks": ""
             }
            },
            "type": "histogram"
           }
          ],
          "histogram2d": [
           {
            "colorbar": {
             "outlinewidth": 0,
             "ticks": ""
            },
            "colorscale": [
             [
              0,
              "#0d0887"
             ],
             [
              0.1111111111111111,
              "#46039f"
             ],
             [
              0.2222222222222222,
              "#7201a8"
             ],
             [
              0.3333333333333333,
              "#9c179e"
             ],
             [
              0.4444444444444444,
              "#bd3786"
             ],
             [
              0.5555555555555556,
              "#d8576b"
             ],
             [
              0.6666666666666666,
              "#ed7953"
             ],
             [
              0.7777777777777778,
              "#fb9f3a"
             ],
             [
              0.8888888888888888,
              "#fdca26"
             ],
             [
              1,
              "#f0f921"
             ]
            ],
            "type": "histogram2d"
           }
          ],
          "histogram2dcontour": [
           {
            "colorbar": {
             "outlinewidth": 0,
             "ticks": ""
            },
            "colorscale": [
             [
              0,
              "#0d0887"
             ],
             [
              0.1111111111111111,
              "#46039f"
             ],
             [
              0.2222222222222222,
              "#7201a8"
             ],
             [
              0.3333333333333333,
              "#9c179e"
             ],
             [
              0.4444444444444444,
              "#bd3786"
             ],
             [
              0.5555555555555556,
              "#d8576b"
             ],
             [
              0.6666666666666666,
              "#ed7953"
             ],
             [
              0.7777777777777778,
              "#fb9f3a"
             ],
             [
              0.8888888888888888,
              "#fdca26"
             ],
             [
              1,
              "#f0f921"
             ]
            ],
            "type": "histogram2dcontour"
           }
          ],
          "mesh3d": [
           {
            "colorbar": {
             "outlinewidth": 0,
             "ticks": ""
            },
            "type": "mesh3d"
           }
          ],
          "parcoords": [
           {
            "line": {
             "colorbar": {
              "outlinewidth": 0,
              "ticks": ""
             }
            },
            "type": "parcoords"
           }
          ],
          "pie": [
           {
            "automargin": true,
            "type": "pie"
           }
          ],
          "scatter": [
           {
            "marker": {
             "colorbar": {
              "outlinewidth": 0,
              "ticks": ""
             }
            },
            "type": "scatter"
           }
          ],
          "scatter3d": [
           {
            "line": {
             "colorbar": {
              "outlinewidth": 0,
              "ticks": ""
             }
            },
            "marker": {
             "colorbar": {
              "outlinewidth": 0,
              "ticks": ""
             }
            },
            "type": "scatter3d"
           }
          ],
          "scattercarpet": [
           {
            "marker": {
             "colorbar": {
              "outlinewidth": 0,
              "ticks": ""
             }
            },
            "type": "scattercarpet"
           }
          ],
          "scattergeo": [
           {
            "marker": {
             "colorbar": {
              "outlinewidth": 0,
              "ticks": ""
             }
            },
            "type": "scattergeo"
           }
          ],
          "scattergl": [
           {
            "marker": {
             "colorbar": {
              "outlinewidth": 0,
              "ticks": ""
             }
            },
            "type": "scattergl"
           }
          ],
          "scattermapbox": [
           {
            "marker": {
             "colorbar": {
              "outlinewidth": 0,
              "ticks": ""
             }
            },
            "type": "scattermapbox"
           }
          ],
          "scatterpolar": [
           {
            "marker": {
             "colorbar": {
              "outlinewidth": 0,
              "ticks": ""
             }
            },
            "type": "scatterpolar"
           }
          ],
          "scatterpolargl": [
           {
            "marker": {
             "colorbar": {
              "outlinewidth": 0,
              "ticks": ""
             }
            },
            "type": "scatterpolargl"
           }
          ],
          "scatterternary": [
           {
            "marker": {
             "colorbar": {
              "outlinewidth": 0,
              "ticks": ""
             }
            },
            "type": "scatterternary"
           }
          ],
          "surface": [
           {
            "colorbar": {
             "outlinewidth": 0,
             "ticks": ""
            },
            "colorscale": [
             [
              0,
              "#0d0887"
             ],
             [
              0.1111111111111111,
              "#46039f"
             ],
             [
              0.2222222222222222,
              "#7201a8"
             ],
             [
              0.3333333333333333,
              "#9c179e"
             ],
             [
              0.4444444444444444,
              "#bd3786"
             ],
             [
              0.5555555555555556,
              "#d8576b"
             ],
             [
              0.6666666666666666,
              "#ed7953"
             ],
             [
              0.7777777777777778,
              "#fb9f3a"
             ],
             [
              0.8888888888888888,
              "#fdca26"
             ],
             [
              1,
              "#f0f921"
             ]
            ],
            "type": "surface"
           }
          ],
          "table": [
           {
            "cells": {
             "fill": {
              "color": "#EBF0F8"
             },
             "line": {
              "color": "white"
             }
            },
            "header": {
             "fill": {
              "color": "#C8D4E3"
             },
             "line": {
              "color": "white"
             }
            },
            "type": "table"
           }
          ]
         },
         "layout": {
          "annotationdefaults": {
           "arrowcolor": "#2a3f5f",
           "arrowhead": 0,
           "arrowwidth": 1
          },
          "autotypenumbers": "strict",
          "coloraxis": {
           "colorbar": {
            "outlinewidth": 0,
            "ticks": ""
           }
          },
          "colorscale": {
           "diverging": [
            [
             0,
             "#8e0152"
            ],
            [
             0.1,
             "#c51b7d"
            ],
            [
             0.2,
             "#de77ae"
            ],
            [
             0.3,
             "#f1b6da"
            ],
            [
             0.4,
             "#fde0ef"
            ],
            [
             0.5,
             "#f7f7f7"
            ],
            [
             0.6,
             "#e6f5d0"
            ],
            [
             0.7,
             "#b8e186"
            ],
            [
             0.8,
             "#7fbc41"
            ],
            [
             0.9,
             "#4d9221"
            ],
            [
             1,
             "#276419"
            ]
           ],
           "sequential": [
            [
             0,
             "#0d0887"
            ],
            [
             0.1111111111111111,
             "#46039f"
            ],
            [
             0.2222222222222222,
             "#7201a8"
            ],
            [
             0.3333333333333333,
             "#9c179e"
            ],
            [
             0.4444444444444444,
             "#bd3786"
            ],
            [
             0.5555555555555556,
             "#d8576b"
            ],
            [
             0.6666666666666666,
             "#ed7953"
            ],
            [
             0.7777777777777778,
             "#fb9f3a"
            ],
            [
             0.8888888888888888,
             "#fdca26"
            ],
            [
             1,
             "#f0f921"
            ]
           ],
           "sequentialminus": [
            [
             0,
             "#0d0887"
            ],
            [
             0.1111111111111111,
             "#46039f"
            ],
            [
             0.2222222222222222,
             "#7201a8"
            ],
            [
             0.3333333333333333,
             "#9c179e"
            ],
            [
             0.4444444444444444,
             "#bd3786"
            ],
            [
             0.5555555555555556,
             "#d8576b"
            ],
            [
             0.6666666666666666,
             "#ed7953"
            ],
            [
             0.7777777777777778,
             "#fb9f3a"
            ],
            [
             0.8888888888888888,
             "#fdca26"
            ],
            [
             1,
             "#f0f921"
            ]
           ]
          },
          "colorway": [
           "#636efa",
           "#EF553B",
           "#00cc96",
           "#ab63fa",
           "#FFA15A",
           "#19d3f3",
           "#FF6692",
           "#B6E880",
           "#FF97FF",
           "#FECB52"
          ],
          "font": {
           "color": "#2a3f5f"
          },
          "geo": {
           "bgcolor": "white",
           "lakecolor": "white",
           "landcolor": "#E5ECF6",
           "showlakes": true,
           "showland": true,
           "subunitcolor": "white"
          },
          "hoverlabel": {
           "align": "left"
          },
          "hovermode": "closest",
          "mapbox": {
           "style": "light"
          },
          "paper_bgcolor": "white",
          "plot_bgcolor": "#E5ECF6",
          "polar": {
           "angularaxis": {
            "gridcolor": "white",
            "linecolor": "white",
            "ticks": ""
           },
           "bgcolor": "#E5ECF6",
           "radialaxis": {
            "gridcolor": "white",
            "linecolor": "white",
            "ticks": ""
           }
          },
          "scene": {
           "xaxis": {
            "backgroundcolor": "#E5ECF6",
            "gridcolor": "white",
            "gridwidth": 2,
            "linecolor": "white",
            "showbackground": true,
            "ticks": "",
            "zerolinecolor": "white"
           },
           "yaxis": {
            "backgroundcolor": "#E5ECF6",
            "gridcolor": "white",
            "gridwidth": 2,
            "linecolor": "white",
            "showbackground": true,
            "ticks": "",
            "zerolinecolor": "white"
           },
           "zaxis": {
            "backgroundcolor": "#E5ECF6",
            "gridcolor": "white",
            "gridwidth": 2,
            "linecolor": "white",
            "showbackground": true,
            "ticks": "",
            "zerolinecolor": "white"
           }
          },
          "shapedefaults": {
           "line": {
            "color": "#2a3f5f"
           }
          },
          "ternary": {
           "aaxis": {
            "gridcolor": "white",
            "linecolor": "white",
            "ticks": ""
           },
           "baxis": {
            "gridcolor": "white",
            "linecolor": "white",
            "ticks": ""
           },
           "bgcolor": "#E5ECF6",
           "caxis": {
            "gridcolor": "white",
            "linecolor": "white",
            "ticks": ""
           }
          },
          "title": {
           "x": 0.05
          },
          "xaxis": {
           "automargin": true,
           "gridcolor": "white",
           "linecolor": "white",
           "ticks": "",
           "title": {
            "standoff": 15
           },
           "zerolinecolor": "white",
           "zerolinewidth": 2
          },
          "yaxis": {
           "automargin": true,
           "gridcolor": "white",
           "linecolor": "white",
           "ticks": "",
           "title": {
            "standoff": 15
           },
           "zerolinecolor": "white",
           "zerolinewidth": 2
          }
         }
        },
        "xaxis": {
         "title": {
          "text": "fraction of manta TPs recovered by trfermikit"
         }
        },
        "yaxis": {
         "title": {
          "text": "fraction of manta FNs recovered by trfermikit"
         }
        }
       }
      },
      "text/html": [
       "<div>                            <div id=\"f4d0afa0-f472-49d0-a543-ab9500b91e35\" class=\"plotly-graph-div\" style=\"height:525px; width:100%;\"></div>            <script type=\"text/javascript\">                require([\"plotly\"], function(Plotly) {                    window.PLOTLYENV=window.PLOTLYENV || {};                                    if (document.getElementById(\"f4d0afa0-f472-49d0-a543-ab9500b91e35\")) {                    Plotly.newPlot(                        \"f4d0afa0-f472-49d0-a543-ab9500b91e35\",                        [{\"hovertemplate\": \"%{text}\", \"marker\": {\"color\": [15, 25, 40, 15, 25, 40, 15, 25, 40, 15, 25, 40, 15, 25, 40, 15, 25, 40, 15, 25, 40, 15, 25, 40, 15, 25, 40, 15, 25, 40, 15, 25, 40, 15, 25, 40, 15, 25, 40, 15, 25, 40, 15, 25, 40, 15, 25, 40, 15, 25, 40, 15, 25, 40]}, \"mode\": \"markers\", \"text\": [\"filterCalls.minUnitigBlockLength: 15<br><br>makeRegions: <br>  slop: 250<br>  minCoverage: 0<br>  maxCoverage: 200<br>  maxRegionLength: 100000<br>  minRepeatPeriod: 6<br>  minRepeatLength: 100<br>  functionalRegions: none<br>  genomeBuild: hg38<br>  overlappedFunctionalRegions: false<br>makeCalls: <br>  singleBaseMatchReward: 10<br>  singleBaseMismatchPenalty: 12<br>  gapOpenPenalties: 10,35<br>  gapExtensionPenalties: 1,0<br>  minUnitigMappingQuality: 1<br>filterCalls: <br>  maxIntraClusterDistance: 500<br>  minSVSize: 50<br>  minUnitigMappingQuality: 0<br>  svtype: DEL<br>\", \"filterCalls.minUnitigBlockLength: 25<br><br>makeRegions: <br>  slop: 250<br>  minCoverage: 0<br>  maxCoverage: 200<br>  maxRegionLength: 100000<br>  minRepeatPeriod: 6<br>  minRepeatLength: 100<br>  functionalRegions: none<br>  genomeBuild: hg38<br>  overlappedFunctionalRegions: false<br>makeCalls: <br>  singleBaseMatchReward: 10<br>  singleBaseMismatchPenalty: 12<br>  gapOpenPenalties: 10,35<br>  gapExtensionPenalties: 1,0<br>  minUnitigMappingQuality: 1<br>filterCalls: <br>  maxIntraClusterDistance: 500<br>  minSVSize: 50<br>  minUnitigMappingQuality: 0<br>  svtype: DEL<br>\", \"filterCalls.minUnitigBlockLength: 40<br><br>makeRegions: <br>  slop: 250<br>  minCoverage: 0<br>  maxCoverage: 200<br>  maxRegionLength: 100000<br>  minRepeatPeriod: 6<br>  minRepeatLength: 100<br>  functionalRegions: none<br>  genomeBuild: hg38<br>  overlappedFunctionalRegions: false<br>makeCalls: <br>  singleBaseMatchReward: 10<br>  singleBaseMismatchPenalty: 12<br>  gapOpenPenalties: 10,35<br>  gapExtensionPenalties: 1,0<br>  minUnitigMappingQuality: 1<br>filterCalls: <br>  maxIntraClusterDistance: 500<br>  minSVSize: 50<br>  minUnitigMappingQuality: 0<br>  svtype: DEL<br>\", \"filterCalls.minUnitigBlockLength: 15<br><br>makeRegions: <br>  slop: 250<br>  minCoverage: 0<br>  maxCoverage: 200<br>  maxRegionLength: 100000<br>  minRepeatPeriod: 6<br>  minRepeatLength: 100<br>  functionalRegions: none<br>  genomeBuild: hg38<br>  overlappedFunctionalRegions: false<br>makeCalls: <br>  singleBaseMatchReward: 10<br>  singleBaseMismatchPenalty: 12<br>  gapOpenPenalties: 10,35<br>  gapExtensionPenalties: 1,0<br>  minUnitigMappingQuality: 1<br>filterCalls: <br>  maxIntraClusterDistance: 500<br>  minSVSize: 50<br>  minUnitigMappingQuality: 10<br>  svtype: DEL<br>\", \"filterCalls.minUnitigBlockLength: 25<br><br>makeRegions: <br>  slop: 250<br>  minCoverage: 0<br>  maxCoverage: 200<br>  maxRegionLength: 100000<br>  minRepeatPeriod: 6<br>  minRepeatLength: 100<br>  functionalRegions: none<br>  genomeBuild: hg38<br>  overlappedFunctionalRegions: false<br>makeCalls: <br>  singleBaseMatchReward: 10<br>  singleBaseMismatchPenalty: 12<br>  gapOpenPenalties: 10,35<br>  gapExtensionPenalties: 1,0<br>  minUnitigMappingQuality: 1<br>filterCalls: <br>  maxIntraClusterDistance: 500<br>  minSVSize: 50<br>  minUnitigMappingQuality: 10<br>  svtype: DEL<br>\", \"filterCalls.minUnitigBlockLength: 40<br><br>makeRegions: <br>  slop: 250<br>  minCoverage: 0<br>  maxCoverage: 200<br>  maxRegionLength: 100000<br>  minRepeatPeriod: 6<br>  minRepeatLength: 100<br>  functionalRegions: none<br>  genomeBuild: hg38<br>  overlappedFunctionalRegions: false<br>makeCalls: <br>  singleBaseMatchReward: 10<br>  singleBaseMismatchPenalty: 12<br>  gapOpenPenalties: 10,35<br>  gapExtensionPenalties: 1,0<br>  minUnitigMappingQuality: 1<br>filterCalls: <br>  maxIntraClusterDistance: 500<br>  minSVSize: 50<br>  minUnitigMappingQuality: 10<br>  svtype: DEL<br>\", \"filterCalls.minUnitigBlockLength: 15<br><br>makeRegions: <br>  slop: 250<br>  minCoverage: 0<br>  maxCoverage: 200<br>  maxRegionLength: 100000<br>  minRepeatPeriod: 6<br>  minRepeatLength: 100<br>  functionalRegions: none<br>  genomeBuild: hg38<br>  overlappedFunctionalRegions: false<br>makeCalls: <br>  singleBaseMatchReward: 10<br>  singleBaseMismatchPenalty: 12<br>  gapOpenPenalties: 5,20<br>  gapExtensionPenalties: 1,0<br>  minUnitigMappingQuality: 1<br>filterCalls: <br>  maxIntraClusterDistance: 500<br>  minSVSize: 50<br>  minUnitigMappingQuality: 0<br>  svtype: DEL<br>\", \"filterCalls.minUnitigBlockLength: 25<br><br>makeRegions: <br>  slop: 250<br>  minCoverage: 0<br>  maxCoverage: 200<br>  maxRegionLength: 100000<br>  minRepeatPeriod: 6<br>  minRepeatLength: 100<br>  functionalRegions: none<br>  genomeBuild: hg38<br>  overlappedFunctionalRegions: false<br>makeCalls: <br>  singleBaseMatchReward: 10<br>  singleBaseMismatchPenalty: 12<br>  gapOpenPenalties: 5,20<br>  gapExtensionPenalties: 1,0<br>  minUnitigMappingQuality: 1<br>filterCalls: <br>  maxIntraClusterDistance: 500<br>  minSVSize: 50<br>  minUnitigMappingQuality: 0<br>  svtype: DEL<br>\", \"filterCalls.minUnitigBlockLength: 40<br><br>makeRegions: <br>  slop: 250<br>  minCoverage: 0<br>  maxCoverage: 200<br>  maxRegionLength: 100000<br>  minRepeatPeriod: 6<br>  minRepeatLength: 100<br>  functionalRegions: none<br>  genomeBuild: hg38<br>  overlappedFunctionalRegions: false<br>makeCalls: <br>  singleBaseMatchReward: 10<br>  singleBaseMismatchPenalty: 12<br>  gapOpenPenalties: 5,20<br>  gapExtensionPenalties: 1,0<br>  minUnitigMappingQuality: 1<br>filterCalls: <br>  maxIntraClusterDistance: 500<br>  minSVSize: 50<br>  minUnitigMappingQuality: 0<br>  svtype: DEL<br>\", \"filterCalls.minUnitigBlockLength: 15<br><br>makeRegions: <br>  slop: 250<br>  minCoverage: 0<br>  maxCoverage: 200<br>  maxRegionLength: 100000<br>  minRepeatPeriod: 6<br>  minRepeatLength: 100<br>  functionalRegions: none<br>  genomeBuild: hg38<br>  overlappedFunctionalRegions: false<br>makeCalls: <br>  singleBaseMatchReward: 10<br>  singleBaseMismatchPenalty: 12<br>  gapOpenPenalties: 5,20<br>  gapExtensionPenalties: 1,0<br>  minUnitigMappingQuality: 1<br>filterCalls: <br>  maxIntraClusterDistance: 500<br>  minSVSize: 50<br>  minUnitigMappingQuality: 10<br>  svtype: DEL<br>\", \"filterCalls.minUnitigBlockLength: 25<br><br>makeRegions: <br>  slop: 250<br>  minCoverage: 0<br>  maxCoverage: 200<br>  maxRegionLength: 100000<br>  minRepeatPeriod: 6<br>  minRepeatLength: 100<br>  functionalRegions: none<br>  genomeBuild: hg38<br>  overlappedFunctionalRegions: false<br>makeCalls: <br>  singleBaseMatchReward: 10<br>  singleBaseMismatchPenalty: 12<br>  gapOpenPenalties: 5,20<br>  gapExtensionPenalties: 1,0<br>  minUnitigMappingQuality: 1<br>filterCalls: <br>  maxIntraClusterDistance: 500<br>  minSVSize: 50<br>  minUnitigMappingQuality: 10<br>  svtype: DEL<br>\", \"filterCalls.minUnitigBlockLength: 40<br><br>makeRegions: <br>  slop: 250<br>  minCoverage: 0<br>  maxCoverage: 200<br>  maxRegionLength: 100000<br>  minRepeatPeriod: 6<br>  minRepeatLength: 100<br>  functionalRegions: none<br>  genomeBuild: hg38<br>  overlappedFunctionalRegions: false<br>makeCalls: <br>  singleBaseMatchReward: 10<br>  singleBaseMismatchPenalty: 12<br>  gapOpenPenalties: 5,20<br>  gapExtensionPenalties: 1,0<br>  minUnitigMappingQuality: 1<br>filterCalls: <br>  maxIntraClusterDistance: 500<br>  minSVSize: 50<br>  minUnitigMappingQuality: 10<br>  svtype: DEL<br>\", \"filterCalls.minUnitigBlockLength: 15<br><br>makeRegions: <br>  slop: 250<br>  minCoverage: 0<br>  maxCoverage: 200<br>  maxRegionLength: 100000<br>  minRepeatPeriod: 6<br>  minRepeatLength: 100<br>  functionalRegions: none<br>  genomeBuild: hg38<br>  overlappedFunctionalRegions: false<br>makeCalls: <br>  singleBaseMatchReward: 10<br>  singleBaseMismatchPenalty: 12<br>  gapOpenPenalties: 6,26<br>  gapExtensionPenalties: 1,0<br>  minUnitigMappingQuality: 1<br>filterCalls: <br>  maxIntraClusterDistance: 500<br>  minSVSize: 50<br>  minUnitigMappingQuality: 0<br>  svtype: DEL<br>\", \"filterCalls.minUnitigBlockLength: 25<br><br>makeRegions: <br>  slop: 250<br>  minCoverage: 0<br>  maxCoverage: 200<br>  maxRegionLength: 100000<br>  minRepeatPeriod: 6<br>  minRepeatLength: 100<br>  functionalRegions: none<br>  genomeBuild: hg38<br>  overlappedFunctionalRegions: false<br>makeCalls: <br>  singleBaseMatchReward: 10<br>  singleBaseMismatchPenalty: 12<br>  gapOpenPenalties: 6,26<br>  gapExtensionPenalties: 1,0<br>  minUnitigMappingQuality: 1<br>filterCalls: <br>  maxIntraClusterDistance: 500<br>  minSVSize: 50<br>  minUnitigMappingQuality: 0<br>  svtype: DEL<br>\", \"filterCalls.minUnitigBlockLength: 40<br><br>makeRegions: <br>  slop: 250<br>  minCoverage: 0<br>  maxCoverage: 200<br>  maxRegionLength: 100000<br>  minRepeatPeriod: 6<br>  minRepeatLength: 100<br>  functionalRegions: none<br>  genomeBuild: hg38<br>  overlappedFunctionalRegions: false<br>makeCalls: <br>  singleBaseMatchReward: 10<br>  singleBaseMismatchPenalty: 12<br>  gapOpenPenalties: 6,26<br>  gapExtensionPenalties: 1,0<br>  minUnitigMappingQuality: 1<br>filterCalls: <br>  maxIntraClusterDistance: 500<br>  minSVSize: 50<br>  minUnitigMappingQuality: 0<br>  svtype: DEL<br>\", \"filterCalls.minUnitigBlockLength: 15<br><br>makeRegions: <br>  slop: 250<br>  minCoverage: 0<br>  maxCoverage: 200<br>  maxRegionLength: 100000<br>  minRepeatPeriod: 6<br>  minRepeatLength: 100<br>  functionalRegions: none<br>  genomeBuild: hg38<br>  overlappedFunctionalRegions: false<br>makeCalls: <br>  singleBaseMatchReward: 10<br>  singleBaseMismatchPenalty: 12<br>  gapOpenPenalties: 6,26<br>  gapExtensionPenalties: 1,0<br>  minUnitigMappingQuality: 1<br>filterCalls: <br>  maxIntraClusterDistance: 500<br>  minSVSize: 50<br>  minUnitigMappingQuality: 10<br>  svtype: DEL<br>\", \"filterCalls.minUnitigBlockLength: 25<br><br>makeRegions: <br>  slop: 250<br>  minCoverage: 0<br>  maxCoverage: 200<br>  maxRegionLength: 100000<br>  minRepeatPeriod: 6<br>  minRepeatLength: 100<br>  functionalRegions: none<br>  genomeBuild: hg38<br>  overlappedFunctionalRegions: false<br>makeCalls: <br>  singleBaseMatchReward: 10<br>  singleBaseMismatchPenalty: 12<br>  gapOpenPenalties: 6,26<br>  gapExtensionPenalties: 1,0<br>  minUnitigMappingQuality: 1<br>filterCalls: <br>  maxIntraClusterDistance: 500<br>  minSVSize: 50<br>  minUnitigMappingQuality: 10<br>  svtype: DEL<br>\", \"filterCalls.minUnitigBlockLength: 40<br><br>makeRegions: <br>  slop: 250<br>  minCoverage: 0<br>  maxCoverage: 200<br>  maxRegionLength: 100000<br>  minRepeatPeriod: 6<br>  minRepeatLength: 100<br>  functionalRegions: none<br>  genomeBuild: hg38<br>  overlappedFunctionalRegions: false<br>makeCalls: <br>  singleBaseMatchReward: 10<br>  singleBaseMismatchPenalty: 12<br>  gapOpenPenalties: 6,26<br>  gapExtensionPenalties: 1,0<br>  minUnitigMappingQuality: 1<br>filterCalls: <br>  maxIntraClusterDistance: 500<br>  minSVSize: 50<br>  minUnitigMappingQuality: 10<br>  svtype: DEL<br>\", \"filterCalls.minUnitigBlockLength: 15<br><br>makeRegions: <br>  slop: 250<br>  minCoverage: 10<br>  maxCoverage: 200<br>  maxRegionLength: 100000<br>  minRepeatPeriod: 6<br>  minRepeatLength: 100<br>  functionalRegions: none<br>  genomeBuild: hg38<br>  overlappedFunctionalRegions: false<br>makeCalls: <br>  singleBaseMatchReward: 10<br>  singleBaseMismatchPenalty: 12<br>  gapOpenPenalties: 10,35<br>  gapExtensionPenalties: 1,0<br>  minUnitigMappingQuality: 1<br>filterCalls: <br>  maxIntraClusterDistance: 500<br>  minSVSize: 50<br>  minUnitigMappingQuality: 0<br>  svtype: DEL<br>\", \"filterCalls.minUnitigBlockLength: 25<br><br>makeRegions: <br>  slop: 250<br>  minCoverage: 10<br>  maxCoverage: 200<br>  maxRegionLength: 100000<br>  minRepeatPeriod: 6<br>  minRepeatLength: 100<br>  functionalRegions: none<br>  genomeBuild: hg38<br>  overlappedFunctionalRegions: false<br>makeCalls: <br>  singleBaseMatchReward: 10<br>  singleBaseMismatchPenalty: 12<br>  gapOpenPenalties: 10,35<br>  gapExtensionPenalties: 1,0<br>  minUnitigMappingQuality: 1<br>filterCalls: <br>  maxIntraClusterDistance: 500<br>  minSVSize: 50<br>  minUnitigMappingQuality: 0<br>  svtype: DEL<br>\", \"filterCalls.minUnitigBlockLength: 40<br><br>makeRegions: <br>  slop: 250<br>  minCoverage: 10<br>  maxCoverage: 200<br>  maxRegionLength: 100000<br>  minRepeatPeriod: 6<br>  minRepeatLength: 100<br>  functionalRegions: none<br>  genomeBuild: hg38<br>  overlappedFunctionalRegions: false<br>makeCalls: <br>  singleBaseMatchReward: 10<br>  singleBaseMismatchPenalty: 12<br>  gapOpenPenalties: 10,35<br>  gapExtensionPenalties: 1,0<br>  minUnitigMappingQuality: 1<br>filterCalls: <br>  maxIntraClusterDistance: 500<br>  minSVSize: 50<br>  minUnitigMappingQuality: 0<br>  svtype: DEL<br>\", \"filterCalls.minUnitigBlockLength: 15<br><br>makeRegions: <br>  slop: 250<br>  minCoverage: 10<br>  maxCoverage: 200<br>  maxRegionLength: 100000<br>  minRepeatPeriod: 6<br>  minRepeatLength: 100<br>  functionalRegions: none<br>  genomeBuild: hg38<br>  overlappedFunctionalRegions: false<br>makeCalls: <br>  singleBaseMatchReward: 10<br>  singleBaseMismatchPenalty: 12<br>  gapOpenPenalties: 10,35<br>  gapExtensionPenalties: 1,0<br>  minUnitigMappingQuality: 1<br>filterCalls: <br>  maxIntraClusterDistance: 500<br>  minSVSize: 50<br>  minUnitigMappingQuality: 10<br>  svtype: DEL<br>\", \"filterCalls.minUnitigBlockLength: 25<br><br>makeRegions: <br>  slop: 250<br>  minCoverage: 10<br>  maxCoverage: 200<br>  maxRegionLength: 100000<br>  minRepeatPeriod: 6<br>  minRepeatLength: 100<br>  functionalRegions: none<br>  genomeBuild: hg38<br>  overlappedFunctionalRegions: false<br>makeCalls: <br>  singleBaseMatchReward: 10<br>  singleBaseMismatchPenalty: 12<br>  gapOpenPenalties: 10,35<br>  gapExtensionPenalties: 1,0<br>  minUnitigMappingQuality: 1<br>filterCalls: <br>  maxIntraClusterDistance: 500<br>  minSVSize: 50<br>  minUnitigMappingQuality: 10<br>  svtype: DEL<br>\", \"filterCalls.minUnitigBlockLength: 40<br><br>makeRegions: <br>  slop: 250<br>  minCoverage: 10<br>  maxCoverage: 200<br>  maxRegionLength: 100000<br>  minRepeatPeriod: 6<br>  minRepeatLength: 100<br>  functionalRegions: none<br>  genomeBuild: hg38<br>  overlappedFunctionalRegions: false<br>makeCalls: <br>  singleBaseMatchReward: 10<br>  singleBaseMismatchPenalty: 12<br>  gapOpenPenalties: 10,35<br>  gapExtensionPenalties: 1,0<br>  minUnitigMappingQuality: 1<br>filterCalls: <br>  maxIntraClusterDistance: 500<br>  minSVSize: 50<br>  minUnitigMappingQuality: 10<br>  svtype: DEL<br>\", \"filterCalls.minUnitigBlockLength: 15<br><br>makeRegions: <br>  slop: 250<br>  minCoverage: 10<br>  maxCoverage: 200<br>  maxRegionLength: 100000<br>  minRepeatPeriod: 6<br>  minRepeatLength: 100<br>  functionalRegions: none<br>  genomeBuild: hg38<br>  overlappedFunctionalRegions: false<br>makeCalls: <br>  singleBaseMatchReward: 10<br>  singleBaseMismatchPenalty: 12<br>  gapOpenPenalties: 5,20<br>  gapExtensionPenalties: 1,0<br>  minUnitigMappingQuality: 1<br>filterCalls: <br>  maxIntraClusterDistance: 500<br>  minSVSize: 50<br>  minUnitigMappingQuality: 0<br>  svtype: DEL<br>\", \"filterCalls.minUnitigBlockLength: 25<br><br>makeRegions: <br>  slop: 250<br>  minCoverage: 10<br>  maxCoverage: 200<br>  maxRegionLength: 100000<br>  minRepeatPeriod: 6<br>  minRepeatLength: 100<br>  functionalRegions: none<br>  genomeBuild: hg38<br>  overlappedFunctionalRegions: false<br>makeCalls: <br>  singleBaseMatchReward: 10<br>  singleBaseMismatchPenalty: 12<br>  gapOpenPenalties: 5,20<br>  gapExtensionPenalties: 1,0<br>  minUnitigMappingQuality: 1<br>filterCalls: <br>  maxIntraClusterDistance: 500<br>  minSVSize: 50<br>  minUnitigMappingQuality: 0<br>  svtype: DEL<br>\", \"filterCalls.minUnitigBlockLength: 40<br><br>makeRegions: <br>  slop: 250<br>  minCoverage: 10<br>  maxCoverage: 200<br>  maxRegionLength: 100000<br>  minRepeatPeriod: 6<br>  minRepeatLength: 100<br>  functionalRegions: none<br>  genomeBuild: hg38<br>  overlappedFunctionalRegions: false<br>makeCalls: <br>  singleBaseMatchReward: 10<br>  singleBaseMismatchPenalty: 12<br>  gapOpenPenalties: 5,20<br>  gapExtensionPenalties: 1,0<br>  minUnitigMappingQuality: 1<br>filterCalls: <br>  maxIntraClusterDistance: 500<br>  minSVSize: 50<br>  minUnitigMappingQuality: 0<br>  svtype: DEL<br>\", \"filterCalls.minUnitigBlockLength: 15<br><br>makeRegions: <br>  slop: 250<br>  minCoverage: 10<br>  maxCoverage: 200<br>  maxRegionLength: 100000<br>  minRepeatPeriod: 6<br>  minRepeatLength: 100<br>  functionalRegions: none<br>  genomeBuild: hg38<br>  overlappedFunctionalRegions: false<br>makeCalls: <br>  singleBaseMatchReward: 10<br>  singleBaseMismatchPenalty: 12<br>  gapOpenPenalties: 5,20<br>  gapExtensionPenalties: 1,0<br>  minUnitigMappingQuality: 1<br>filterCalls: <br>  maxIntraClusterDistance: 500<br>  minSVSize: 50<br>  minUnitigMappingQuality: 10<br>  svtype: DEL<br>\", \"filterCalls.minUnitigBlockLength: 25<br><br>makeRegions: <br>  slop: 250<br>  minCoverage: 10<br>  maxCoverage: 200<br>  maxRegionLength: 100000<br>  minRepeatPeriod: 6<br>  minRepeatLength: 100<br>  functionalRegions: none<br>  genomeBuild: hg38<br>  overlappedFunctionalRegions: false<br>makeCalls: <br>  singleBaseMatchReward: 10<br>  singleBaseMismatchPenalty: 12<br>  gapOpenPenalties: 5,20<br>  gapExtensionPenalties: 1,0<br>  minUnitigMappingQuality: 1<br>filterCalls: <br>  maxIntraClusterDistance: 500<br>  minSVSize: 50<br>  minUnitigMappingQuality: 10<br>  svtype: DEL<br>\", \"filterCalls.minUnitigBlockLength: 40<br><br>makeRegions: <br>  slop: 250<br>  minCoverage: 10<br>  maxCoverage: 200<br>  maxRegionLength: 100000<br>  minRepeatPeriod: 6<br>  minRepeatLength: 100<br>  functionalRegions: none<br>  genomeBuild: hg38<br>  overlappedFunctionalRegions: false<br>makeCalls: <br>  singleBaseMatchReward: 10<br>  singleBaseMismatchPenalty: 12<br>  gapOpenPenalties: 5,20<br>  gapExtensionPenalties: 1,0<br>  minUnitigMappingQuality: 1<br>filterCalls: <br>  maxIntraClusterDistance: 500<br>  minSVSize: 50<br>  minUnitigMappingQuality: 10<br>  svtype: DEL<br>\", \"filterCalls.minUnitigBlockLength: 15<br><br>makeRegions: <br>  slop: 250<br>  minCoverage: 10<br>  maxCoverage: 200<br>  maxRegionLength: 100000<br>  minRepeatPeriod: 6<br>  minRepeatLength: 100<br>  functionalRegions: none<br>  genomeBuild: hg38<br>  overlappedFunctionalRegions: false<br>makeCalls: <br>  singleBaseMatchReward: 10<br>  singleBaseMismatchPenalty: 12<br>  gapOpenPenalties: 6,26<br>  gapExtensionPenalties: 1,0<br>  minUnitigMappingQuality: 1<br>filterCalls: <br>  maxIntraClusterDistance: 500<br>  minSVSize: 50<br>  minUnitigMappingQuality: 0<br>  svtype: DEL<br>\", \"filterCalls.minUnitigBlockLength: 25<br><br>makeRegions: <br>  slop: 250<br>  minCoverage: 10<br>  maxCoverage: 200<br>  maxRegionLength: 100000<br>  minRepeatPeriod: 6<br>  minRepeatLength: 100<br>  functionalRegions: none<br>  genomeBuild: hg38<br>  overlappedFunctionalRegions: false<br>makeCalls: <br>  singleBaseMatchReward: 10<br>  singleBaseMismatchPenalty: 12<br>  gapOpenPenalties: 6,26<br>  gapExtensionPenalties: 1,0<br>  minUnitigMappingQuality: 1<br>filterCalls: <br>  maxIntraClusterDistance: 500<br>  minSVSize: 50<br>  minUnitigMappingQuality: 0<br>  svtype: DEL<br>\", \"filterCalls.minUnitigBlockLength: 40<br><br>makeRegions: <br>  slop: 250<br>  minCoverage: 10<br>  maxCoverage: 200<br>  maxRegionLength: 100000<br>  minRepeatPeriod: 6<br>  minRepeatLength: 100<br>  functionalRegions: none<br>  genomeBuild: hg38<br>  overlappedFunctionalRegions: false<br>makeCalls: <br>  singleBaseMatchReward: 10<br>  singleBaseMismatchPenalty: 12<br>  gapOpenPenalties: 6,26<br>  gapExtensionPenalties: 1,0<br>  minUnitigMappingQuality: 1<br>filterCalls: <br>  maxIntraClusterDistance: 500<br>  minSVSize: 50<br>  minUnitigMappingQuality: 0<br>  svtype: DEL<br>\", \"filterCalls.minUnitigBlockLength: 15<br><br>makeRegions: <br>  slop: 250<br>  minCoverage: 10<br>  maxCoverage: 200<br>  maxRegionLength: 100000<br>  minRepeatPeriod: 6<br>  minRepeatLength: 100<br>  functionalRegions: none<br>  genomeBuild: hg38<br>  overlappedFunctionalRegions: false<br>makeCalls: <br>  singleBaseMatchReward: 10<br>  singleBaseMismatchPenalty: 12<br>  gapOpenPenalties: 6,26<br>  gapExtensionPenalties: 1,0<br>  minUnitigMappingQuality: 1<br>filterCalls: <br>  maxIntraClusterDistance: 500<br>  minSVSize: 50<br>  minUnitigMappingQuality: 10<br>  svtype: DEL<br>\", \"filterCalls.minUnitigBlockLength: 25<br><br>makeRegions: <br>  slop: 250<br>  minCoverage: 10<br>  maxCoverage: 200<br>  maxRegionLength: 100000<br>  minRepeatPeriod: 6<br>  minRepeatLength: 100<br>  functionalRegions: none<br>  genomeBuild: hg38<br>  overlappedFunctionalRegions: false<br>makeCalls: <br>  singleBaseMatchReward: 10<br>  singleBaseMismatchPenalty: 12<br>  gapOpenPenalties: 6,26<br>  gapExtensionPenalties: 1,0<br>  minUnitigMappingQuality: 1<br>filterCalls: <br>  maxIntraClusterDistance: 500<br>  minSVSize: 50<br>  minUnitigMappingQuality: 10<br>  svtype: DEL<br>\", \"filterCalls.minUnitigBlockLength: 40<br><br>makeRegions: <br>  slop: 250<br>  minCoverage: 10<br>  maxCoverage: 200<br>  maxRegionLength: 100000<br>  minRepeatPeriod: 6<br>  minRepeatLength: 100<br>  functionalRegions: none<br>  genomeBuild: hg38<br>  overlappedFunctionalRegions: false<br>makeCalls: <br>  singleBaseMatchReward: 10<br>  singleBaseMismatchPenalty: 12<br>  gapOpenPenalties: 6,26<br>  gapExtensionPenalties: 1,0<br>  minUnitigMappingQuality: 1<br>filterCalls: <br>  maxIntraClusterDistance: 500<br>  minSVSize: 50<br>  minUnitigMappingQuality: 10<br>  svtype: DEL<br>\", \"filterCalls.minUnitigBlockLength: 15<br><br>makeRegions: <br>  slop: 250<br>  minCoverage: 5<br>  maxCoverage: 200<br>  maxRegionLength: 100000<br>  minRepeatPeriod: 6<br>  minRepeatLength: 100<br>  functionalRegions: none<br>  genomeBuild: hg38<br>  overlappedFunctionalRegions: false<br>makeCalls: <br>  singleBaseMatchReward: 10<br>  singleBaseMismatchPenalty: 12<br>  gapOpenPenalties: 10,35<br>  gapExtensionPenalties: 1,0<br>  minUnitigMappingQuality: 1<br>filterCalls: <br>  maxIntraClusterDistance: 500<br>  minSVSize: 50<br>  minUnitigMappingQuality: 0<br>  svtype: DEL<br>\", \"filterCalls.minUnitigBlockLength: 25<br><br>makeRegions: <br>  slop: 250<br>  minCoverage: 5<br>  maxCoverage: 200<br>  maxRegionLength: 100000<br>  minRepeatPeriod: 6<br>  minRepeatLength: 100<br>  functionalRegions: none<br>  genomeBuild: hg38<br>  overlappedFunctionalRegions: false<br>makeCalls: <br>  singleBaseMatchReward: 10<br>  singleBaseMismatchPenalty: 12<br>  gapOpenPenalties: 10,35<br>  gapExtensionPenalties: 1,0<br>  minUnitigMappingQuality: 1<br>filterCalls: <br>  maxIntraClusterDistance: 500<br>  minSVSize: 50<br>  minUnitigMappingQuality: 0<br>  svtype: DEL<br>\", \"filterCalls.minUnitigBlockLength: 40<br><br>makeRegions: <br>  slop: 250<br>  minCoverage: 5<br>  maxCoverage: 200<br>  maxRegionLength: 100000<br>  minRepeatPeriod: 6<br>  minRepeatLength: 100<br>  functionalRegions: none<br>  genomeBuild: hg38<br>  overlappedFunctionalRegions: false<br>makeCalls: <br>  singleBaseMatchReward: 10<br>  singleBaseMismatchPenalty: 12<br>  gapOpenPenalties: 10,35<br>  gapExtensionPenalties: 1,0<br>  minUnitigMappingQuality: 1<br>filterCalls: <br>  maxIntraClusterDistance: 500<br>  minSVSize: 50<br>  minUnitigMappingQuality: 0<br>  svtype: DEL<br>\", \"filterCalls.minUnitigBlockLength: 15<br><br>makeRegions: <br>  slop: 250<br>  minCoverage: 5<br>  maxCoverage: 200<br>  maxRegionLength: 100000<br>  minRepeatPeriod: 6<br>  minRepeatLength: 100<br>  functionalRegions: none<br>  genomeBuild: hg38<br>  overlappedFunctionalRegions: false<br>makeCalls: <br>  singleBaseMatchReward: 10<br>  singleBaseMismatchPenalty: 12<br>  gapOpenPenalties: 10,35<br>  gapExtensionPenalties: 1,0<br>  minUnitigMappingQuality: 1<br>filterCalls: <br>  maxIntraClusterDistance: 500<br>  minSVSize: 50<br>  minUnitigMappingQuality: 10<br>  svtype: DEL<br>\", \"filterCalls.minUnitigBlockLength: 25<br><br>makeRegions: <br>  slop: 250<br>  minCoverage: 5<br>  maxCoverage: 200<br>  maxRegionLength: 100000<br>  minRepeatPeriod: 6<br>  minRepeatLength: 100<br>  functionalRegions: none<br>  genomeBuild: hg38<br>  overlappedFunctionalRegions: false<br>makeCalls: <br>  singleBaseMatchReward: 10<br>  singleBaseMismatchPenalty: 12<br>  gapOpenPenalties: 10,35<br>  gapExtensionPenalties: 1,0<br>  minUnitigMappingQuality: 1<br>filterCalls: <br>  maxIntraClusterDistance: 500<br>  minSVSize: 50<br>  minUnitigMappingQuality: 10<br>  svtype: DEL<br>\", \"filterCalls.minUnitigBlockLength: 40<br><br>makeRegions: <br>  slop: 250<br>  minCoverage: 5<br>  maxCoverage: 200<br>  maxRegionLength: 100000<br>  minRepeatPeriod: 6<br>  minRepeatLength: 100<br>  functionalRegions: none<br>  genomeBuild: hg38<br>  overlappedFunctionalRegions: false<br>makeCalls: <br>  singleBaseMatchReward: 10<br>  singleBaseMismatchPenalty: 12<br>  gapOpenPenalties: 10,35<br>  gapExtensionPenalties: 1,0<br>  minUnitigMappingQuality: 1<br>filterCalls: <br>  maxIntraClusterDistance: 500<br>  minSVSize: 50<br>  minUnitigMappingQuality: 10<br>  svtype: DEL<br>\", \"filterCalls.minUnitigBlockLength: 15<br><br>makeRegions: <br>  slop: 250<br>  minCoverage: 5<br>  maxCoverage: 200<br>  maxRegionLength: 100000<br>  minRepeatPeriod: 6<br>  minRepeatLength: 100<br>  functionalRegions: none<br>  genomeBuild: hg38<br>  overlappedFunctionalRegions: false<br>makeCalls: <br>  singleBaseMatchReward: 10<br>  singleBaseMismatchPenalty: 12<br>  gapOpenPenalties: 5,20<br>  gapExtensionPenalties: 1,0<br>  minUnitigMappingQuality: 1<br>filterCalls: <br>  maxIntraClusterDistance: 500<br>  minSVSize: 50<br>  minUnitigMappingQuality: 0<br>  svtype: DEL<br>\", \"filterCalls.minUnitigBlockLength: 25<br><br>makeRegions: <br>  slop: 250<br>  minCoverage: 5<br>  maxCoverage: 200<br>  maxRegionLength: 100000<br>  minRepeatPeriod: 6<br>  minRepeatLength: 100<br>  functionalRegions: none<br>  genomeBuild: hg38<br>  overlappedFunctionalRegions: false<br>makeCalls: <br>  singleBaseMatchReward: 10<br>  singleBaseMismatchPenalty: 12<br>  gapOpenPenalties: 5,20<br>  gapExtensionPenalties: 1,0<br>  minUnitigMappingQuality: 1<br>filterCalls: <br>  maxIntraClusterDistance: 500<br>  minSVSize: 50<br>  minUnitigMappingQuality: 0<br>  svtype: DEL<br>\", \"filterCalls.minUnitigBlockLength: 40<br><br>makeRegions: <br>  slop: 250<br>  minCoverage: 5<br>  maxCoverage: 200<br>  maxRegionLength: 100000<br>  minRepeatPeriod: 6<br>  minRepeatLength: 100<br>  functionalRegions: none<br>  genomeBuild: hg38<br>  overlappedFunctionalRegions: false<br>makeCalls: <br>  singleBaseMatchReward: 10<br>  singleBaseMismatchPenalty: 12<br>  gapOpenPenalties: 5,20<br>  gapExtensionPenalties: 1,0<br>  minUnitigMappingQuality: 1<br>filterCalls: <br>  maxIntraClusterDistance: 500<br>  minSVSize: 50<br>  minUnitigMappingQuality: 0<br>  svtype: DEL<br>\", \"filterCalls.minUnitigBlockLength: 15<br><br>makeRegions: <br>  slop: 250<br>  minCoverage: 5<br>  maxCoverage: 200<br>  maxRegionLength: 100000<br>  minRepeatPeriod: 6<br>  minRepeatLength: 100<br>  functionalRegions: none<br>  genomeBuild: hg38<br>  overlappedFunctionalRegions: false<br>makeCalls: <br>  singleBaseMatchReward: 10<br>  singleBaseMismatchPenalty: 12<br>  gapOpenPenalties: 5,20<br>  gapExtensionPenalties: 1,0<br>  minUnitigMappingQuality: 1<br>filterCalls: <br>  maxIntraClusterDistance: 500<br>  minSVSize: 50<br>  minUnitigMappingQuality: 10<br>  svtype: DEL<br>\", \"filterCalls.minUnitigBlockLength: 25<br><br>makeRegions: <br>  slop: 250<br>  minCoverage: 5<br>  maxCoverage: 200<br>  maxRegionLength: 100000<br>  minRepeatPeriod: 6<br>  minRepeatLength: 100<br>  functionalRegions: none<br>  genomeBuild: hg38<br>  overlappedFunctionalRegions: false<br>makeCalls: <br>  singleBaseMatchReward: 10<br>  singleBaseMismatchPenalty: 12<br>  gapOpenPenalties: 5,20<br>  gapExtensionPenalties: 1,0<br>  minUnitigMappingQuality: 1<br>filterCalls: <br>  maxIntraClusterDistance: 500<br>  minSVSize: 50<br>  minUnitigMappingQuality: 10<br>  svtype: DEL<br>\", \"filterCalls.minUnitigBlockLength: 40<br><br>makeRegions: <br>  slop: 250<br>  minCoverage: 5<br>  maxCoverage: 200<br>  maxRegionLength: 100000<br>  minRepeatPeriod: 6<br>  minRepeatLength: 100<br>  functionalRegions: none<br>  genomeBuild: hg38<br>  overlappedFunctionalRegions: false<br>makeCalls: <br>  singleBaseMatchReward: 10<br>  singleBaseMismatchPenalty: 12<br>  gapOpenPenalties: 5,20<br>  gapExtensionPenalties: 1,0<br>  minUnitigMappingQuality: 1<br>filterCalls: <br>  maxIntraClusterDistance: 500<br>  minSVSize: 50<br>  minUnitigMappingQuality: 10<br>  svtype: DEL<br>\", \"filterCalls.minUnitigBlockLength: 15<br><br>makeRegions: <br>  slop: 250<br>  minCoverage: 5<br>  maxCoverage: 200<br>  maxRegionLength: 100000<br>  minRepeatPeriod: 6<br>  minRepeatLength: 100<br>  functionalRegions: none<br>  genomeBuild: hg38<br>  overlappedFunctionalRegions: false<br>makeCalls: <br>  singleBaseMatchReward: 10<br>  singleBaseMismatchPenalty: 12<br>  gapOpenPenalties: 6,26<br>  gapExtensionPenalties: 1,0<br>  minUnitigMappingQuality: 1<br>filterCalls: <br>  maxIntraClusterDistance: 500<br>  minSVSize: 50<br>  minUnitigMappingQuality: 0<br>  svtype: DEL<br>\", \"filterCalls.minUnitigBlockLength: 25<br><br>makeRegions: <br>  slop: 250<br>  minCoverage: 5<br>  maxCoverage: 200<br>  maxRegionLength: 100000<br>  minRepeatPeriod: 6<br>  minRepeatLength: 100<br>  functionalRegions: none<br>  genomeBuild: hg38<br>  overlappedFunctionalRegions: false<br>makeCalls: <br>  singleBaseMatchReward: 10<br>  singleBaseMismatchPenalty: 12<br>  gapOpenPenalties: 6,26<br>  gapExtensionPenalties: 1,0<br>  minUnitigMappingQuality: 1<br>filterCalls: <br>  maxIntraClusterDistance: 500<br>  minSVSize: 50<br>  minUnitigMappingQuality: 0<br>  svtype: DEL<br>\", \"filterCalls.minUnitigBlockLength: 40<br><br>makeRegions: <br>  slop: 250<br>  minCoverage: 5<br>  maxCoverage: 200<br>  maxRegionLength: 100000<br>  minRepeatPeriod: 6<br>  minRepeatLength: 100<br>  functionalRegions: none<br>  genomeBuild: hg38<br>  overlappedFunctionalRegions: false<br>makeCalls: <br>  singleBaseMatchReward: 10<br>  singleBaseMismatchPenalty: 12<br>  gapOpenPenalties: 6,26<br>  gapExtensionPenalties: 1,0<br>  minUnitigMappingQuality: 1<br>filterCalls: <br>  maxIntraClusterDistance: 500<br>  minSVSize: 50<br>  minUnitigMappingQuality: 0<br>  svtype: DEL<br>\", \"filterCalls.minUnitigBlockLength: 15<br><br>makeRegions: <br>  slop: 250<br>  minCoverage: 5<br>  maxCoverage: 200<br>  maxRegionLength: 100000<br>  minRepeatPeriod: 6<br>  minRepeatLength: 100<br>  functionalRegions: none<br>  genomeBuild: hg38<br>  overlappedFunctionalRegions: false<br>makeCalls: <br>  singleBaseMatchReward: 10<br>  singleBaseMismatchPenalty: 12<br>  gapOpenPenalties: 6,26<br>  gapExtensionPenalties: 1,0<br>  minUnitigMappingQuality: 1<br>filterCalls: <br>  maxIntraClusterDistance: 500<br>  minSVSize: 50<br>  minUnitigMappingQuality: 10<br>  svtype: DEL<br>\", \"filterCalls.minUnitigBlockLength: 25<br><br>makeRegions: <br>  slop: 250<br>  minCoverage: 5<br>  maxCoverage: 200<br>  maxRegionLength: 100000<br>  minRepeatPeriod: 6<br>  minRepeatLength: 100<br>  functionalRegions: none<br>  genomeBuild: hg38<br>  overlappedFunctionalRegions: false<br>makeCalls: <br>  singleBaseMatchReward: 10<br>  singleBaseMismatchPenalty: 12<br>  gapOpenPenalties: 6,26<br>  gapExtensionPenalties: 1,0<br>  minUnitigMappingQuality: 1<br>filterCalls: <br>  maxIntraClusterDistance: 500<br>  minSVSize: 50<br>  minUnitigMappingQuality: 10<br>  svtype: DEL<br>\", \"filterCalls.minUnitigBlockLength: 40<br><br>makeRegions: <br>  slop: 250<br>  minCoverage: 5<br>  maxCoverage: 200<br>  maxRegionLength: 100000<br>  minRepeatPeriod: 6<br>  minRepeatLength: 100<br>  functionalRegions: none<br>  genomeBuild: hg38<br>  overlappedFunctionalRegions: false<br>makeCalls: <br>  singleBaseMatchReward: 10<br>  singleBaseMismatchPenalty: 12<br>  gapOpenPenalties: 6,26<br>  gapExtensionPenalties: 1,0<br>  minUnitigMappingQuality: 1<br>filterCalls: <br>  maxIntraClusterDistance: 500<br>  minSVSize: 50<br>  minUnitigMappingQuality: 10<br>  svtype: DEL<br>\"], \"type\": \"scatter\", \"x\": [0.7502321262766946, 0.7400185701021356, 0.6861652739090065, 0.7316620241411328, 0.7168059424326834, 0.6601671309192201, 0.7493036211699164, 0.7251624883936861, 0.6601671309192201, 0.7298050139275766, 0.7038068709377902, 0.6555246053853296, 0.7483751160631383, 0.7372330547818013, 0.6787372330547818, 0.7298050139275766, 0.7158774373259053, 0.6610956360259982, 0.7570888468809074, 0.7400756143667296, 0.6918714555765595, 0.7400756143667296, 0.723062381852552, 0.6635160680529301, 0.7476370510396976, 0.7306238185255198, 0.668241965973535, 0.7296786389413988, 0.7041587901701323, 0.6550094517958412, 0.7599243856332704, 0.7438563327032136, 0.6843100189035917, 0.7362948960302458, 0.719281663516068, 0.6587901701323251, 0.7509328358208955, 0.7388059701492538, 0.6902985074626866, 0.7322761194029851, 0.7210820895522388, 0.667910447761194, 0.7509328358208955, 0.7294776119402985, 0.6660447761194029, 0.7210820895522388, 0.7089552238805971, 0.6539179104477612, 0.7546641791044776, 0.7388059701492538, 0.6772388059701493, 0.7322761194029851, 0.7173507462686567, 0.6585820895522388], \"y\": [0.21051128249071693, 0.19708654670094258, 0.168808911739503, 0.1890888317623536, 0.17937732076549556, 0.1548129105969723, 0.23821765209940018, 0.21051128249071693, 0.16938017709225936, 0.21308197657812053, 0.1919451585261354, 0.15709797200799772, 0.21165381319622964, 0.19622964867180806, 0.1650956869465867, 0.19108826049700087, 0.17680662667809197, 0.1522422165095687, 0.21856465005931197, 0.20195729537366547, 0.17467378410438908, 0.19483985765124556, 0.185349940688019, 0.15984578884934758, 0.2443653618030842, 0.21826809015421114, 0.17734282325029657, 0.2215302491103203, 0.19869513641755635, 0.16221826809015422, 0.22034400948991698, 0.2022538552787663, 0.1708185053380783, 0.2001779359430605, 0.18623962040332148, 0.15954922894424675, 0.21532211259431225, 0.2016831108531631, 0.1688914683691236, 0.19413813116656994, 0.1804991294254208, 0.15525246662797446, 0.2431804991294254, 0.21242019733023795, 0.17295414973882764, 0.21735345327916425, 0.1947185142193848, 0.16018572257690075, 0.21532211259431225, 0.1976204294834591, 0.16627974463145676, 0.19210679048171794, 0.1796285548461985, 0.1575739988392339]}],                        {\"template\": {\"data\": {\"bar\": [{\"error_x\": {\"color\": \"#2a3f5f\"}, \"error_y\": {\"color\": \"#2a3f5f\"}, \"marker\": {\"line\": {\"color\": \"#E5ECF6\", \"width\": 0.5}}, \"type\": \"bar\"}], \"barpolar\": [{\"marker\": {\"line\": {\"color\": \"#E5ECF6\", \"width\": 0.5}}, \"type\": \"barpolar\"}], \"carpet\": [{\"aaxis\": {\"endlinecolor\": \"#2a3f5f\", \"gridcolor\": \"white\", \"linecolor\": \"white\", \"minorgridcolor\": \"white\", \"startlinecolor\": \"#2a3f5f\"}, \"baxis\": {\"endlinecolor\": \"#2a3f5f\", \"gridcolor\": \"white\", \"linecolor\": \"white\", \"minorgridcolor\": \"white\", \"startlinecolor\": \"#2a3f5f\"}, \"type\": \"carpet\"}], \"choropleth\": [{\"colorbar\": {\"outlinewidth\": 0, \"ticks\": \"\"}, \"type\": \"choropleth\"}], \"contour\": [{\"colorbar\": {\"outlinewidth\": 0, \"ticks\": \"\"}, \"colorscale\": [[0.0, \"#0d0887\"], [0.1111111111111111, \"#46039f\"], [0.2222222222222222, \"#7201a8\"], [0.3333333333333333, \"#9c179e\"], [0.4444444444444444, \"#bd3786\"], [0.5555555555555556, \"#d8576b\"], [0.6666666666666666, \"#ed7953\"], [0.7777777777777778, \"#fb9f3a\"], [0.8888888888888888, \"#fdca26\"], [1.0, \"#f0f921\"]], \"type\": \"contour\"}], \"contourcarpet\": [{\"colorbar\": {\"outlinewidth\": 0, \"ticks\": \"\"}, \"type\": \"contourcarpet\"}], \"heatmap\": [{\"colorbar\": {\"outlinewidth\": 0, \"ticks\": \"\"}, \"colorscale\": [[0.0, \"#0d0887\"], [0.1111111111111111, \"#46039f\"], [0.2222222222222222, \"#7201a8\"], [0.3333333333333333, \"#9c179e\"], [0.4444444444444444, \"#bd3786\"], [0.5555555555555556, \"#d8576b\"], [0.6666666666666666, \"#ed7953\"], [0.7777777777777778, \"#fb9f3a\"], [0.8888888888888888, \"#fdca26\"], [1.0, \"#f0f921\"]], \"type\": \"heatmap\"}], \"heatmapgl\": [{\"colorbar\": {\"outlinewidth\": 0, \"ticks\": \"\"}, \"colorscale\": [[0.0, \"#0d0887\"], [0.1111111111111111, \"#46039f\"], [0.2222222222222222, \"#7201a8\"], [0.3333333333333333, \"#9c179e\"], [0.4444444444444444, \"#bd3786\"], [0.5555555555555556, \"#d8576b\"], [0.6666666666666666, \"#ed7953\"], [0.7777777777777778, \"#fb9f3a\"], [0.8888888888888888, \"#fdca26\"], [1.0, \"#f0f921\"]], \"type\": \"heatmapgl\"}], \"histogram\": [{\"marker\": {\"colorbar\": {\"outlinewidth\": 0, \"ticks\": \"\"}}, \"type\": \"histogram\"}], \"histogram2d\": [{\"colorbar\": {\"outlinewidth\": 0, \"ticks\": \"\"}, \"colorscale\": [[0.0, \"#0d0887\"], [0.1111111111111111, \"#46039f\"], [0.2222222222222222, \"#7201a8\"], [0.3333333333333333, \"#9c179e\"], [0.4444444444444444, \"#bd3786\"], [0.5555555555555556, \"#d8576b\"], [0.6666666666666666, \"#ed7953\"], [0.7777777777777778, \"#fb9f3a\"], [0.8888888888888888, \"#fdca26\"], [1.0, \"#f0f921\"]], \"type\": \"histogram2d\"}], \"histogram2dcontour\": [{\"colorbar\": {\"outlinewidth\": 0, \"ticks\": \"\"}, \"colorscale\": [[0.0, \"#0d0887\"], [0.1111111111111111, \"#46039f\"], [0.2222222222222222, \"#7201a8\"], [0.3333333333333333, \"#9c179e\"], [0.4444444444444444, \"#bd3786\"], [0.5555555555555556, \"#d8576b\"], [0.6666666666666666, \"#ed7953\"], [0.7777777777777778, \"#fb9f3a\"], [0.8888888888888888, \"#fdca26\"], [1.0, \"#f0f921\"]], \"type\": \"histogram2dcontour\"}], \"mesh3d\": [{\"colorbar\": {\"outlinewidth\": 0, \"ticks\": \"\"}, \"type\": \"mesh3d\"}], \"parcoords\": [{\"line\": {\"colorbar\": {\"outlinewidth\": 0, \"ticks\": \"\"}}, \"type\": \"parcoords\"}], \"pie\": [{\"automargin\": true, \"type\": \"pie\"}], \"scatter\": [{\"marker\": {\"colorbar\": {\"outlinewidth\": 0, \"ticks\": \"\"}}, \"type\": \"scatter\"}], \"scatter3d\": [{\"line\": {\"colorbar\": {\"outlinewidth\": 0, \"ticks\": \"\"}}, \"marker\": {\"colorbar\": {\"outlinewidth\": 0, \"ticks\": \"\"}}, \"type\": \"scatter3d\"}], \"scattercarpet\": [{\"marker\": {\"colorbar\": {\"outlinewidth\": 0, \"ticks\": \"\"}}, \"type\": \"scattercarpet\"}], \"scattergeo\": [{\"marker\": {\"colorbar\": {\"outlinewidth\": 0, \"ticks\": \"\"}}, \"type\": \"scattergeo\"}], \"scattergl\": [{\"marker\": {\"colorbar\": {\"outlinewidth\": 0, \"ticks\": \"\"}}, \"type\": \"scattergl\"}], \"scattermapbox\": [{\"marker\": {\"colorbar\": {\"outlinewidth\": 0, \"ticks\": \"\"}}, \"type\": \"scattermapbox\"}], \"scatterpolar\": [{\"marker\": {\"colorbar\": {\"outlinewidth\": 0, \"ticks\": \"\"}}, \"type\": \"scatterpolar\"}], \"scatterpolargl\": [{\"marker\": {\"colorbar\": {\"outlinewidth\": 0, \"ticks\": \"\"}}, \"type\": \"scatterpolargl\"}], \"scatterternary\": [{\"marker\": {\"colorbar\": {\"outlinewidth\": 0, \"ticks\": \"\"}}, \"type\": \"scatterternary\"}], \"surface\": [{\"colorbar\": {\"outlinewidth\": 0, \"ticks\": \"\"}, \"colorscale\": [[0.0, \"#0d0887\"], [0.1111111111111111, \"#46039f\"], [0.2222222222222222, \"#7201a8\"], [0.3333333333333333, \"#9c179e\"], [0.4444444444444444, \"#bd3786\"], [0.5555555555555556, \"#d8576b\"], [0.6666666666666666, \"#ed7953\"], [0.7777777777777778, \"#fb9f3a\"], [0.8888888888888888, \"#fdca26\"], [1.0, \"#f0f921\"]], \"type\": \"surface\"}], \"table\": [{\"cells\": {\"fill\": {\"color\": \"#EBF0F8\"}, \"line\": {\"color\": \"white\"}}, \"header\": {\"fill\": {\"color\": \"#C8D4E3\"}, \"line\": {\"color\": \"white\"}}, \"type\": \"table\"}]}, \"layout\": {\"annotationdefaults\": {\"arrowcolor\": \"#2a3f5f\", \"arrowhead\": 0, \"arrowwidth\": 1}, \"autotypenumbers\": \"strict\", \"coloraxis\": {\"colorbar\": {\"outlinewidth\": 0, \"ticks\": \"\"}}, \"colorscale\": {\"diverging\": [[0, \"#8e0152\"], [0.1, \"#c51b7d\"], [0.2, \"#de77ae\"], [0.3, \"#f1b6da\"], [0.4, \"#fde0ef\"], [0.5, \"#f7f7f7\"], [0.6, \"#e6f5d0\"], [0.7, \"#b8e186\"], [0.8, \"#7fbc41\"], [0.9, \"#4d9221\"], [1, \"#276419\"]], \"sequential\": [[0.0, \"#0d0887\"], [0.1111111111111111, \"#46039f\"], [0.2222222222222222, \"#7201a8\"], [0.3333333333333333, \"#9c179e\"], [0.4444444444444444, \"#bd3786\"], [0.5555555555555556, \"#d8576b\"], [0.6666666666666666, \"#ed7953\"], [0.7777777777777778, \"#fb9f3a\"], [0.8888888888888888, \"#fdca26\"], [1.0, \"#f0f921\"]], \"sequentialminus\": [[0.0, \"#0d0887\"], [0.1111111111111111, \"#46039f\"], [0.2222222222222222, \"#7201a8\"], [0.3333333333333333, \"#9c179e\"], [0.4444444444444444, \"#bd3786\"], [0.5555555555555556, \"#d8576b\"], [0.6666666666666666, \"#ed7953\"], [0.7777777777777778, \"#fb9f3a\"], [0.8888888888888888, \"#fdca26\"], [1.0, \"#f0f921\"]]}, \"colorway\": [\"#636efa\", \"#EF553B\", \"#00cc96\", \"#ab63fa\", \"#FFA15A\", \"#19d3f3\", \"#FF6692\", \"#B6E880\", \"#FF97FF\", \"#FECB52\"], \"font\": {\"color\": \"#2a3f5f\"}, \"geo\": {\"bgcolor\": \"white\", \"lakecolor\": \"white\", \"landcolor\": \"#E5ECF6\", \"showlakes\": true, \"showland\": true, \"subunitcolor\": \"white\"}, \"hoverlabel\": {\"align\": \"left\"}, \"hovermode\": \"closest\", \"mapbox\": {\"style\": \"light\"}, \"paper_bgcolor\": \"white\", \"plot_bgcolor\": \"#E5ECF6\", \"polar\": {\"angularaxis\": {\"gridcolor\": \"white\", \"linecolor\": \"white\", \"ticks\": \"\"}, \"bgcolor\": \"#E5ECF6\", \"radialaxis\": {\"gridcolor\": \"white\", \"linecolor\": \"white\", \"ticks\": \"\"}}, \"scene\": {\"xaxis\": {\"backgroundcolor\": \"#E5ECF6\", \"gridcolor\": \"white\", \"gridwidth\": 2, \"linecolor\": \"white\", \"showbackground\": true, \"ticks\": \"\", \"zerolinecolor\": \"white\"}, \"yaxis\": {\"backgroundcolor\": \"#E5ECF6\", \"gridcolor\": \"white\", \"gridwidth\": 2, \"linecolor\": \"white\", \"showbackground\": true, \"ticks\": \"\", \"zerolinecolor\": \"white\"}, \"zaxis\": {\"backgroundcolor\": \"#E5ECF6\", \"gridcolor\": \"white\", \"gridwidth\": 2, \"linecolor\": \"white\", \"showbackground\": true, \"ticks\": \"\", \"zerolinecolor\": \"white\"}}, \"shapedefaults\": {\"line\": {\"color\": \"#2a3f5f\"}}, \"ternary\": {\"aaxis\": {\"gridcolor\": \"white\", \"linecolor\": \"white\", \"ticks\": \"\"}, \"baxis\": {\"gridcolor\": \"white\", \"linecolor\": \"white\", \"ticks\": \"\"}, \"bgcolor\": \"#E5ECF6\", \"caxis\": {\"gridcolor\": \"white\", \"linecolor\": \"white\", \"ticks\": \"\"}}, \"title\": {\"x\": 0.05}, \"xaxis\": {\"automargin\": true, \"gridcolor\": \"white\", \"linecolor\": \"white\", \"ticks\": \"\", \"title\": {\"standoff\": 15}, \"zerolinecolor\": \"white\", \"zerolinewidth\": 2}, \"yaxis\": {\"automargin\": true, \"gridcolor\": \"white\", \"linecolor\": \"white\", \"ticks\": \"\", \"title\": {\"standoff\": 15}, \"zerolinecolor\": \"white\", \"zerolinewidth\": 2}}}, \"xaxis\": {\"title\": {\"text\": \"fraction of manta TPs recovered by trfermikit\"}}, \"yaxis\": {\"title\": {\"text\": \"fraction of manta FNs recovered by trfermikit\"}}},                        {\"responsive\": true}                    ).then(function(){\n",
       "                            \n",
       "var gd = document.getElementById('f4d0afa0-f472-49d0-a543-ab9500b91e35');\n",
       "var x = new MutationObserver(function (mutations, observer) {{\n",
       "        var display = window.getComputedStyle(gd).display;\n",
       "        if (!display || display === 'none') {{\n",
       "            console.log([gd, 'removed!']);\n",
       "            Plotly.purge(gd);\n",
       "            observer.disconnect();\n",
       "        }}\n",
       "}});\n",
       "\n",
       "// Listen for the removal of the full notebook cells\n",
       "var notebookContainer = gd.closest('#notebook-container');\n",
       "if (notebookContainer) {{\n",
       "    x.observe(notebookContainer, {childList: true});\n",
       "}}\n",
       "\n",
       "// Listen for the clearing of the current output cell\n",
       "var outputEl = gd.closest('.output');\n",
       "if (outputEl) {{\n",
       "    x.observe(outputEl, {childList: true});\n",
       "}}\n",
       "\n",
       "                        })                };                });            </script>        </div>"
      ]
     },
     "metadata": {},
     "output_type": "display_data"
    }
   ],
   "source": [
    "fractions_of_manta_graph(outer_key='filterCalls', inner_key='minUnitigBlockLength')"
   ]
  }
 ],
 "metadata": {
  "kernelspec": {
   "display_name": "Python 3",
   "language": "python",
   "name": "python3"
  },
  "language_info": {
   "codemirror_mode": {
    "name": "ipython",
    "version": 3
   },
   "file_extension": ".py",
   "mimetype": "text/x-python",
   "name": "python",
   "nbconvert_exporter": "python",
   "pygments_lexer": "ipython3",
   "version": "3.8.6"
  },
  "toc": {
   "base_numbering": 1,
   "nav_menu": {},
   "number_sections": true,
   "sideBar": true,
   "skip_h1_title": false,
   "title_cell": "Table of Contents",
   "title_sidebar": "Contents",
   "toc_cell": false,
   "toc_position": {},
   "toc_section_display": true,
   "toc_window_display": false
  }
 },
 "nbformat": 4,
 "nbformat_minor": 4
}
